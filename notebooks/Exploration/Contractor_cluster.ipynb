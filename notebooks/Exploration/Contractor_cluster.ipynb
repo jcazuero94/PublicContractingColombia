{
 "cells": [
  {
   "cell_type": "code",
   "execution_count": 1,
   "id": "44129ae0",
   "metadata": {},
   "outputs": [],
   "source": [
    "import pandas as pd\n",
    "import numpy as np\n",
    "import matplotlib.pyplot as plt\n",
    "from sklearn.feature_extraction.text import TfidfVectorizer\n",
    "from sklearn.preprocessing import StandardScaler\n",
    "from sklearn.cluster import DBSCAN\n",
    "from sklearn.decomposition import PCA\n",
    "import datetime"
   ]
  },
  {
   "cell_type": "code",
   "execution_count": 2,
   "id": "ae0e1322",
   "metadata": {},
   "outputs": [
    {
     "data": {
      "text/html": [
       "<pre style=\"white-space:pre;overflow-x:auto;line-height:normal;font-family:Menlo,'DejaVu Sans Mono',consolas,'Courier New',monospace\"><span style=\"font-weight: bold\">&lt;</span><span style=\"color: #ff00ff; text-decoration-color: #ff00ff; font-weight: bold\">IPython.core.display.Javascript</span><span style=\"color: #000000; text-decoration-color: #000000\"> object</span><span style=\"font-weight: bold\">&gt;</span>\n",
       "</pre>\n"
      ],
      "text/plain": [
       "\u001b[1m<\u001b[0m\u001b[1;95mIPython.core.display.Javascript\u001b[0m\u001b[39m object\u001b[0m\u001b[1m>\u001b[0m\n"
      ]
     },
     "metadata": {},
     "output_type": "display_data"
    },
    {
     "data": {
      "application/javascript": [
       "\n",
       "            setTimeout(function() {\n",
       "                var nbb_cell_id = 2;\n",
       "                var nbb_unformatted_code = \"%load_ext nb_black\\n%matplotlib inline\";\n",
       "                var nbb_formatted_code = \"%load_ext nb_black\\n%matplotlib inline\";\n",
       "                var nbb_cells = Jupyter.notebook.get_cells();\n",
       "                for (var i = 0; i < nbb_cells.length; ++i) {\n",
       "                    if (nbb_cells[i].input_prompt_number == nbb_cell_id) {\n",
       "                        if (nbb_cells[i].get_text() == nbb_unformatted_code) {\n",
       "                             nbb_cells[i].set_text(nbb_formatted_code);\n",
       "                        }\n",
       "                        break;\n",
       "                    }\n",
       "                }\n",
       "            }, 500);\n",
       "            "
      ]
     },
     "metadata": {},
     "output_type": "display_data"
    }
   ],
   "source": [
    "%load_ext nb_black\n",
    "%matplotlib inline"
   ]
  },
  {
   "cell_type": "code",
   "execution_count": 23,
   "id": "7e54302e",
   "metadata": {},
   "outputs": [
    {
     "data": {
      "text/html": [
       "<pre style=\"white-space:pre;overflow-x:auto;line-height:normal;font-family:Menlo,'DejaVu Sans Mono',consolas,'Courier New',monospace\"><span style=\"font-weight: bold\">&lt;</span><span style=\"color: #ff00ff; text-decoration-color: #ff00ff; font-weight: bold\">IPython.core.display.Javascript</span><span style=\"color: #000000; text-decoration-color: #000000\"> object</span><span style=\"font-weight: bold\">&gt;</span>\n",
       "</pre>\n"
      ],
      "text/plain": [
       "\u001b[1m<\u001b[0m\u001b[1;95mIPython.core.display.Javascript\u001b[0m\u001b[39m object\u001b[0m\u001b[1m>\u001b[0m\n"
      ]
     },
     "metadata": {},
     "output_type": "display_data"
    },
    {
     "data": {
      "application/javascript": [
       "\n",
       "            setTimeout(function() {\n",
       "                var nbb_cell_id = 23;\n",
       "                var nbb_unformatted_code = \"def prop_counts(ser: pd.Series):\\n    vc = ser.value_counts()\\n    res = vc / vc.sum()\\n    return (res * 100).apply(lambda x: str(int(np.round(x, 0))) + \\\"%\\\")\";\n",
       "                var nbb_formatted_code = \"def prop_counts(ser: pd.Series):\\n    vc = ser.value_counts()\\n    res = vc / vc.sum()\\n    return (res * 100).apply(lambda x: str(int(np.round(x, 0))) + \\\"%\\\")\";\n",
       "                var nbb_cells = Jupyter.notebook.get_cells();\n",
       "                for (var i = 0; i < nbb_cells.length; ++i) {\n",
       "                    if (nbb_cells[i].input_prompt_number == nbb_cell_id) {\n",
       "                        if (nbb_cells[i].get_text() == nbb_unformatted_code) {\n",
       "                             nbb_cells[i].set_text(nbb_formatted_code);\n",
       "                        }\n",
       "                        break;\n",
       "                    }\n",
       "                }\n",
       "            }, 500);\n",
       "            "
      ]
     },
     "metadata": {},
     "output_type": "display_data"
    }
   ],
   "source": [
    "def prop_counts(ser: pd.Series):\n",
    "    vc = ser.value_counts()\n",
    "    res = vc / vc.sum()\n",
    "    return (res * 100).apply(lambda x: str(int(np.round(x, 0))) + \"%\")"
   ]
  },
  {
   "cell_type": "code",
   "execution_count": 3,
   "id": "91eeceb6",
   "metadata": {},
   "outputs": [
    {
     "data": {
      "text/html": [
       "<pre style=\"white-space:pre;overflow-x:auto;line-height:normal;font-family:Menlo,'DejaVu Sans Mono',consolas,'Courier New',monospace\"><span style=\"color: #7fbfbf; text-decoration-color: #7fbfbf\">[08/16/22 00:01:50] </span><span style=\"color: #000080; text-decoration-color: #000080\">INFO    </span> Loading data from <span style=\"color: #008000; text-decoration-color: #008000\">'df_personas'</span> <span style=\"font-weight: bold\">(</span>ParquetDataSet<span style=\"font-weight: bold\">)</span><span style=\"color: #808000; text-decoration-color: #808000\">...</span>                <a href=\"file:///opt/homebrew/Caskroom/miniforge/base/envs/dm_project/lib/python3.10/site-packages/kedro/io/data_catalog.py\" target=\"_blank\"><span style=\"color: #7f7f7f; text-decoration-color: #7f7f7f\">data_catalog.py</span></a><span style=\"color: #7f7f7f; text-decoration-color: #7f7f7f\">:</span><a href=\"file:///opt/homebrew/Caskroom/miniforge/base/envs/dm_project/lib/python3.10/site-packages/kedro/io/data_catalog.py#343\" target=\"_blank\"><span style=\"color: #7f7f7f; text-decoration-color: #7f7f7f\">343</span></a>\n",
       "</pre>\n"
      ],
      "text/plain": [
       "\u001b[2;36m[08/16/22 00:01:50]\u001b[0m\u001b[2;36m \u001b[0m\u001b[34mINFO    \u001b[0m Loading data from \u001b[32m'df_personas'\u001b[0m \u001b[1m(\u001b[0mParquetDataSet\u001b[1m)\u001b[0m\u001b[33m...\u001b[0m                \u001b]8;id=606998;file:///opt/homebrew/Caskroom/miniforge/base/envs/dm_project/lib/python3.10/site-packages/kedro/io/data_catalog.py\u001b\\\u001b[2mdata_catalog.py\u001b[0m\u001b]8;;\u001b\\\u001b[2m:\u001b[0m\u001b]8;id=656318;file:///opt/homebrew/Caskroom/miniforge/base/envs/dm_project/lib/python3.10/site-packages/kedro/io/data_catalog.py#343\u001b\\\u001b[2m343\u001b[0m\u001b]8;;\u001b\\\n"
      ]
     },
     "metadata": {},
     "output_type": "display_data"
    },
    {
     "data": {
      "text/html": [
       "<pre style=\"white-space:pre;overflow-x:auto;line-height:normal;font-family:Menlo,'DejaVu Sans Mono',consolas,'Courier New',monospace\"><span style=\"font-weight: bold\">&lt;</span><span style=\"color: #ff00ff; text-decoration-color: #ff00ff; font-weight: bold\">IPython.core.display.Javascript</span><span style=\"color: #000000; text-decoration-color: #000000\"> object</span><span style=\"font-weight: bold\">&gt;</span>\n",
       "</pre>\n"
      ],
      "text/plain": [
       "\u001b[1m<\u001b[0m\u001b[1;95mIPython.core.display.Javascript\u001b[0m\u001b[39m object\u001b[0m\u001b[1m>\u001b[0m\n"
      ]
     },
     "metadata": {},
     "output_type": "display_data"
    },
    {
     "data": {
      "application/javascript": [
       "\n",
       "            setTimeout(function() {\n",
       "                var nbb_cell_id = 3;\n",
       "                var nbb_unformatted_code = \"df_personas = catalog.load('df_personas')\";\n",
       "                var nbb_formatted_code = \"df_personas = catalog.load(\\\"df_personas\\\")\";\n",
       "                var nbb_cells = Jupyter.notebook.get_cells();\n",
       "                for (var i = 0; i < nbb_cells.length; ++i) {\n",
       "                    if (nbb_cells[i].input_prompt_number == nbb_cell_id) {\n",
       "                        if (nbb_cells[i].get_text() == nbb_unformatted_code) {\n",
       "                             nbb_cells[i].set_text(nbb_formatted_code);\n",
       "                        }\n",
       "                        break;\n",
       "                    }\n",
       "                }\n",
       "            }, 500);\n",
       "            "
      ]
     },
     "metadata": {},
     "output_type": "display_data"
    }
   ],
   "source": [
    "df_personas = catalog.load(\"df_personas\")"
   ]
  },
  {
   "cell_type": "code",
   "execution_count": 8,
   "id": "19a42620",
   "metadata": {},
   "outputs": [
    {
     "data": {
      "text/html": [
       "<pre style=\"white-space:pre;overflow-x:auto;line-height:normal;font-family:Menlo,'DejaVu Sans Mono',consolas,'Courier New',monospace\"><span style=\"font-weight: bold\">&lt;</span><span style=\"color: #ff00ff; text-decoration-color: #ff00ff; font-weight: bold\">IPython.core.display.Javascript</span><span style=\"color: #000000; text-decoration-color: #000000\"> object</span><span style=\"font-weight: bold\">&gt;</span>\n",
       "</pre>\n"
      ],
      "text/plain": [
       "\u001b[1m<\u001b[0m\u001b[1;95mIPython.core.display.Javascript\u001b[0m\u001b[39m object\u001b[0m\u001b[1m>\u001b[0m\n"
      ]
     },
     "metadata": {},
     "output_type": "display_data"
    },
    {
     "data": {
      "application/javascript": [
       "\n",
       "            setTimeout(function() {\n",
       "                var nbb_cell_id = 8;\n",
       "                var nbb_unformatted_code = \"today = datetime.date.today()\";\n",
       "                var nbb_formatted_code = \"today = datetime.date.today()\";\n",
       "                var nbb_cells = Jupyter.notebook.get_cells();\n",
       "                for (var i = 0; i < nbb_cells.length; ++i) {\n",
       "                    if (nbb_cells[i].input_prompt_number == nbb_cell_id) {\n",
       "                        if (nbb_cells[i].get_text() == nbb_unformatted_code) {\n",
       "                             nbb_cells[i].set_text(nbb_formatted_code);\n",
       "                        }\n",
       "                        break;\n",
       "                    }\n",
       "                }\n",
       "            }, 500);\n",
       "            "
      ]
     },
     "metadata": {},
     "output_type": "display_data"
    }
   ],
   "source": [
    "today = datetime.date.today()"
   ]
  },
  {
   "cell_type": "code",
   "execution_count": 6,
   "id": "d8614849",
   "metadata": {},
   "outputs": [
    {
     "data": {
      "text/html": [
       "<pre style=\"white-space:pre;overflow-x:auto;line-height:normal;font-family:Menlo,'DejaVu Sans Mono',consolas,'Courier New',monospace\"><span style=\"font-weight: bold\">&lt;</span><span style=\"color: #ff00ff; text-decoration-color: #ff00ff; font-weight: bold\">IPython.core.display.Javascript</span><span style=\"color: #000000; text-decoration-color: #000000\"> object</span><span style=\"font-weight: bold\">&gt;</span>\n",
       "</pre>\n"
      ],
      "text/plain": [
       "\u001b[1m<\u001b[0m\u001b[1;95mIPython.core.display.Javascript\u001b[0m\u001b[39m object\u001b[0m\u001b[1m>\u001b[0m\n"
      ]
     },
     "metadata": {},
     "output_type": "display_data"
    },
    {
     "data": {
      "application/javascript": [
       "\n",
       "            setTimeout(function() {\n",
       "                var nbb_cell_id = 6;\n",
       "                var nbb_unformatted_code = \"df_personas[\\\"prop_ent\\\"] = 1 / df_personas[\\\"nombre_entidad\\\"]\\ndf_personas[\\\"prop_ciudad\\\"] = 1 / df_personas[\\\"ciudad\\\"]\\ndf_personas[\\\"log_valor_del_contrato_mean\\\"] = df_personas[\\n    \\\"valor_del_contrato\\\"\\n].apply(np.log)\";\n",
       "                var nbb_formatted_code = \"df_personas[\\\"prop_ent\\\"] = 1 / df_personas[\\\"nombre_entidad\\\"]\\ndf_personas[\\\"prop_ciudad\\\"] = 1 / df_personas[\\\"ciudad\\\"]\\ndf_personas[\\\"log_valor_del_contrato_mean\\\"] = df_personas[\\\"valor_del_contrato\\\"].apply(\\n    np.log\\n)\";\n",
       "                var nbb_cells = Jupyter.notebook.get_cells();\n",
       "                for (var i = 0; i < nbb_cells.length; ++i) {\n",
       "                    if (nbb_cells[i].input_prompt_number == nbb_cell_id) {\n",
       "                        if (nbb_cells[i].get_text() == nbb_unformatted_code) {\n",
       "                             nbb_cells[i].set_text(nbb_formatted_code);\n",
       "                        }\n",
       "                        break;\n",
       "                    }\n",
       "                }\n",
       "            }, 500);\n",
       "            "
      ]
     },
     "metadata": {},
     "output_type": "display_data"
    }
   ],
   "source": [
    "df_personas[\"prop_ent\"] = 1 / df_personas[\"nombre_entidad\"]\n",
    "df_personas[\"prop_ciudad\"] = 1 / df_personas[\"ciudad\"]\n",
    "df_personas[\"log_valor_del_contrato_mean\"] = df_personas[\"valor_del_contrato\"].apply(\n",
    "    np.log\n",
    ")"
   ]
  },
  {
   "cell_type": "code",
   "execution_count": 9,
   "id": "6e77a427",
   "metadata": {},
   "outputs": [
    {
     "data": {
      "text/html": [
       "<pre style=\"white-space:pre;overflow-x:auto;line-height:normal;font-family:Menlo,'DejaVu Sans Mono',consolas,'Courier New',monospace\"><span style=\"font-weight: bold\">&lt;</span><span style=\"color: #ff00ff; text-decoration-color: #ff00ff; font-weight: bold\">IPython.core.display.Javascript</span><span style=\"color: #000000; text-decoration-color: #000000\"> object</span><span style=\"font-weight: bold\">&gt;</span>\n",
       "</pre>\n"
      ],
      "text/plain": [
       "\u001b[1m<\u001b[0m\u001b[1;95mIPython.core.display.Javascript\u001b[0m\u001b[39m object\u001b[0m\u001b[1m>\u001b[0m\n"
      ]
     },
     "metadata": {},
     "output_type": "display_data"
    },
    {
     "data": {
      "application/javascript": [
       "\n",
       "            setTimeout(function() {\n",
       "                var nbb_cell_id = 9;\n",
       "                var nbb_unformatted_code = \"df_personas[\\\"days_since_first_contract\\\"] = (\\n    today - df_personas[\\\"fecha_de_inicio_del_contrato\\\"]\\n).apply(lambda x: x.days)\";\n",
       "                var nbb_formatted_code = \"df_personas[\\\"days_since_first_contract\\\"] = (\\n    today - df_personas[\\\"fecha_de_inicio_del_contrato\\\"]\\n).apply(lambda x: x.days)\";\n",
       "                var nbb_cells = Jupyter.notebook.get_cells();\n",
       "                for (var i = 0; i < nbb_cells.length; ++i) {\n",
       "                    if (nbb_cells[i].input_prompt_number == nbb_cell_id) {\n",
       "                        if (nbb_cells[i].get_text() == nbb_unformatted_code) {\n",
       "                             nbb_cells[i].set_text(nbb_formatted_code);\n",
       "                        }\n",
       "                        break;\n",
       "                    }\n",
       "                }\n",
       "            }, 500);\n",
       "            "
      ]
     },
     "metadata": {},
     "output_type": "display_data"
    }
   ],
   "source": [
    "df_personas[\"days_since_first_contract\"] = (\n",
    "    today - df_personas[\"fecha_de_inicio_del_contrato\"]\n",
    ").apply(lambda x: x.days)"
   ]
  },
  {
   "cell_type": "code",
   "execution_count": 11,
   "id": "85508e2e",
   "metadata": {},
   "outputs": [
    {
     "data": {
      "text/html": [
       "<pre style=\"white-space:pre;overflow-x:auto;line-height:normal;font-family:Menlo,'DejaVu Sans Mono',consolas,'Courier New',monospace\"><span style=\"font-weight: bold\">&lt;</span><span style=\"color: #ff00ff; text-decoration-color: #ff00ff; font-weight: bold\">IPython.core.display.Javascript</span><span style=\"color: #000000; text-decoration-color: #000000\"> object</span><span style=\"font-weight: bold\">&gt;</span>\n",
       "</pre>\n"
      ],
      "text/plain": [
       "\u001b[1m<\u001b[0m\u001b[1;95mIPython.core.display.Javascript\u001b[0m\u001b[39m object\u001b[0m\u001b[1m>\u001b[0m\n"
      ]
     },
     "metadata": {},
     "output_type": "display_data"
    },
    {
     "data": {
      "application/javascript": [
       "\n",
       "            setTimeout(function() {\n",
       "                var nbb_cell_id = 11;\n",
       "                var nbb_unformatted_code = \"df_personas[\\\"days_since_first_by_count\\\"] = df_personas[\\\"days_since_first_contract\\\"]/df_personas[\\\"index\\\"]\";\n",
       "                var nbb_formatted_code = \"df_personas[\\\"days_since_first_by_count\\\"] = (\\n    df_personas[\\\"days_since_first_contract\\\"] / df_personas[\\\"index\\\"]\\n)\";\n",
       "                var nbb_cells = Jupyter.notebook.get_cells();\n",
       "                for (var i = 0; i < nbb_cells.length; ++i) {\n",
       "                    if (nbb_cells[i].input_prompt_number == nbb_cell_id) {\n",
       "                        if (nbb_cells[i].get_text() == nbb_unformatted_code) {\n",
       "                             nbb_cells[i].set_text(nbb_formatted_code);\n",
       "                        }\n",
       "                        break;\n",
       "                    }\n",
       "                }\n",
       "            }, 500);\n",
       "            "
      ]
     },
     "metadata": {},
     "output_type": "display_data"
    }
   ],
   "source": [
    "df_personas[\"days_since_first_by_count\"] = df_personas[\"days_since_first_contract\"]/df_personas[\"index\"]\n"
   ]
  },
  {
   "cell_type": "code",
   "execution_count": 12,
   "id": "6564fb06",
   "metadata": {},
   "outputs": [
    {
     "data": {
      "text/html": [
       "<pre style=\"white-space:pre;overflow-x:auto;line-height:normal;font-family:Menlo,'DejaVu Sans Mono',consolas,'Courier New',monospace\"><span style=\"font-weight: bold\">&lt;</span><span style=\"color: #ff00ff; text-decoration-color: #ff00ff; font-weight: bold\">IPython.core.display.Javascript</span><span style=\"color: #000000; text-decoration-color: #000000\"> object</span><span style=\"font-weight: bold\">&gt;</span>\n",
       "</pre>\n"
      ],
      "text/plain": [
       "\u001b[1m<\u001b[0m\u001b[1;95mIPython.core.display.Javascript\u001b[0m\u001b[39m object\u001b[0m\u001b[1m>\u001b[0m\n"
      ]
     },
     "metadata": {},
     "output_type": "display_data"
    },
    {
     "data": {
      "application/javascript": [
       "\n",
       "            setTimeout(function() {\n",
       "                var nbb_cell_id = 12;\n",
       "                var nbb_unformatted_code = \"df_personas.drop(\\n    [\\n        \\\"nombre_entidad\\\",\\n        \\\"ciudad\\\",\\n        \\\"valor_del_contrato\\\",\\n        \\\"fecha_de_inicio_del_contrato\\\",\\n    ],\\n    axis=1,\\n    inplace=True,\\n)\";\n",
       "                var nbb_formatted_code = \"df_personas.drop(\\n    [\\n        \\\"nombre_entidad\\\",\\n        \\\"ciudad\\\",\\n        \\\"valor_del_contrato\\\",\\n        \\\"fecha_de_inicio_del_contrato\\\",\\n    ],\\n    axis=1,\\n    inplace=True,\\n)\";\n",
       "                var nbb_cells = Jupyter.notebook.get_cells();\n",
       "                for (var i = 0; i < nbb_cells.length; ++i) {\n",
       "                    if (nbb_cells[i].input_prompt_number == nbb_cell_id) {\n",
       "                        if (nbb_cells[i].get_text() == nbb_unformatted_code) {\n",
       "                             nbb_cells[i].set_text(nbb_formatted_code);\n",
       "                        }\n",
       "                        break;\n",
       "                    }\n",
       "                }\n",
       "            }, 500);\n",
       "            "
      ]
     },
     "metadata": {},
     "output_type": "display_data"
    }
   ],
   "source": [
    "df_personas.drop(\n",
    "    [\n",
    "        \"nombre_entidad\",\n",
    "        \"ciudad\",\n",
    "        \"valor_del_contrato\",\n",
    "        \"fecha_de_inicio_del_contrato\",\n",
    "    ],\n",
    "    axis=1,\n",
    "    inplace=True,\n",
    ")"
   ]
  },
  {
   "cell_type": "code",
   "execution_count": 13,
   "id": "b0c55e95",
   "metadata": {},
   "outputs": [
    {
     "data": {
      "text/html": [
       "<pre style=\"white-space:pre;overflow-x:auto;line-height:normal;font-family:Menlo,'DejaVu Sans Mono',consolas,'Courier New',monospace\">\n",
       "<span style=\"color: #800080; text-decoration-color: #800080; font-weight: bold\">Index</span><span style=\"font-weight: bold\">([</span><span style=\"color: #008000; text-decoration-color: #008000\">'documento_proveedor'</span>, <span style=\"color: #008000; text-decoration-color: #008000\">'index'</span>, <span style=\"color: #008000; text-decoration-color: #008000\">'dias_adicionados'</span>, <span style=\"color: #008000; text-decoration-color: #008000\">'date_duration'</span>,\n",
       "       <span style=\"color: #008000; text-decoration-color: #008000\">'pca_0'</span>, <span style=\"color: #008000; text-decoration-color: #008000\">'pca_1'</span>, <span style=\"color: #008000; text-decoration-color: #008000\">'pca_2'</span>, <span style=\"color: #008000; text-decoration-color: #008000\">'pca_3'</span>, <span style=\"color: #008000; text-decoration-color: #008000\">'pca_4'</span>, <span style=\"color: #008000; text-decoration-color: #008000\">'pca_5'</span>, <span style=\"color: #008000; text-decoration-color: #008000\">'pca_6'</span>, <span style=\"color: #008000; text-decoration-color: #008000\">'pca_7'</span>,\n",
       "       <span style=\"color: #008000; text-decoration-color: #008000\">'pca_8'</span>, <span style=\"color: #008000; text-decoration-color: #008000\">'pca_9'</span>, <span style=\"color: #008000; text-decoration-color: #008000\">'proveedor_adjudicado'</span>, <span style=\"color: #008000; text-decoration-color: #008000\">'prop_ent'</span>, <span style=\"color: #008000; text-decoration-color: #008000\">'prop_ciudad'</span>,\n",
       "       <span style=\"color: #008000; text-decoration-color: #008000\">'log_valor_del_contrato_mean'</span>, <span style=\"color: #008000; text-decoration-color: #008000\">'days_since_first_contract'</span>,\n",
       "       <span style=\"color: #008000; text-decoration-color: #008000\">'days_since_first_by_count'</span><span style=\"font-weight: bold\">]</span>,\n",
       "      <span style=\"color: #808000; text-decoration-color: #808000\">dtype</span>=<span style=\"color: #008000; text-decoration-color: #008000\">'object'</span><span style=\"font-weight: bold\">)</span>\n",
       "</pre>\n"
      ],
      "text/plain": [
       "\n",
       "\u001b[1;35mIndex\u001b[0m\u001b[1m(\u001b[0m\u001b[1m[\u001b[0m\u001b[32m'documento_proveedor'\u001b[0m, \u001b[32m'index'\u001b[0m, \u001b[32m'dias_adicionados'\u001b[0m, \u001b[32m'date_duration'\u001b[0m,\n",
       "       \u001b[32m'pca_0'\u001b[0m, \u001b[32m'pca_1'\u001b[0m, \u001b[32m'pca_2'\u001b[0m, \u001b[32m'pca_3'\u001b[0m, \u001b[32m'pca_4'\u001b[0m, \u001b[32m'pca_5'\u001b[0m, \u001b[32m'pca_6'\u001b[0m, \u001b[32m'pca_7'\u001b[0m,\n",
       "       \u001b[32m'pca_8'\u001b[0m, \u001b[32m'pca_9'\u001b[0m, \u001b[32m'proveedor_adjudicado'\u001b[0m, \u001b[32m'prop_ent'\u001b[0m, \u001b[32m'prop_ciudad'\u001b[0m,\n",
       "       \u001b[32m'log_valor_del_contrato_mean'\u001b[0m, \u001b[32m'days_since_first_contract'\u001b[0m,\n",
       "       \u001b[32m'days_since_first_by_count'\u001b[0m\u001b[1m]\u001b[0m,\n",
       "      \u001b[33mdtype\u001b[0m=\u001b[32m'object'\u001b[0m\u001b[1m)\u001b[0m\n"
      ]
     },
     "metadata": {},
     "output_type": "display_data"
    },
    {
     "data": {
      "text/html": [
       "<pre style=\"white-space:pre;overflow-x:auto;line-height:normal;font-family:Menlo,'DejaVu Sans Mono',consolas,'Courier New',monospace\"><span style=\"font-weight: bold\">&lt;</span><span style=\"color: #ff00ff; text-decoration-color: #ff00ff; font-weight: bold\">IPython.core.display.Javascript</span><span style=\"color: #000000; text-decoration-color: #000000\"> object</span><span style=\"font-weight: bold\">&gt;</span>\n",
       "</pre>\n"
      ],
      "text/plain": [
       "\u001b[1m<\u001b[0m\u001b[1;95mIPython.core.display.Javascript\u001b[0m\u001b[39m object\u001b[0m\u001b[1m>\u001b[0m\n"
      ]
     },
     "metadata": {},
     "output_type": "display_data"
    },
    {
     "data": {
      "application/javascript": [
       "\n",
       "            setTimeout(function() {\n",
       "                var nbb_cell_id = 13;\n",
       "                var nbb_unformatted_code = \"df_personas.columns\";\n",
       "                var nbb_formatted_code = \"df_personas.columns\";\n",
       "                var nbb_cells = Jupyter.notebook.get_cells();\n",
       "                for (var i = 0; i < nbb_cells.length; ++i) {\n",
       "                    if (nbb_cells[i].input_prompt_number == nbb_cell_id) {\n",
       "                        if (nbb_cells[i].get_text() == nbb_unformatted_code) {\n",
       "                             nbb_cells[i].set_text(nbb_formatted_code);\n",
       "                        }\n",
       "                        break;\n",
       "                    }\n",
       "                }\n",
       "            }, 500);\n",
       "            "
      ]
     },
     "metadata": {},
     "output_type": "display_data"
    }
   ],
   "source": [
    "df_personas.columns"
   ]
  },
  {
   "cell_type": "code",
   "execution_count": 15,
   "id": "15e1935b",
   "metadata": {},
   "outputs": [
    {
     "data": {
      "text/html": [
       "<pre style=\"white-space:pre;overflow-x:auto;line-height:normal;font-family:Menlo,'DejaVu Sans Mono',consolas,'Courier New',monospace\"><span style=\"font-weight: bold\">&lt;</span><span style=\"color: #ff00ff; text-decoration-color: #ff00ff; font-weight: bold\">IPython.core.display.Javascript</span><span style=\"color: #000000; text-decoration-color: #000000\"> object</span><span style=\"font-weight: bold\">&gt;</span>\n",
       "</pre>\n"
      ],
      "text/plain": [
       "\u001b[1m<\u001b[0m\u001b[1;95mIPython.core.display.Javascript\u001b[0m\u001b[39m object\u001b[0m\u001b[1m>\u001b[0m\n"
      ]
     },
     "metadata": {},
     "output_type": "display_data"
    },
    {
     "data": {
      "application/javascript": [
       "\n",
       "            setTimeout(function() {\n",
       "                var nbb_cell_id = 15;\n",
       "                var nbb_unformatted_code = \"ss = StandardScaler()\";\n",
       "                var nbb_formatted_code = \"ss = StandardScaler()\";\n",
       "                var nbb_cells = Jupyter.notebook.get_cells();\n",
       "                for (var i = 0; i < nbb_cells.length; ++i) {\n",
       "                    if (nbb_cells[i].input_prompt_number == nbb_cell_id) {\n",
       "                        if (nbb_cells[i].get_text() == nbb_unformatted_code) {\n",
       "                             nbb_cells[i].set_text(nbb_formatted_code);\n",
       "                        }\n",
       "                        break;\n",
       "                    }\n",
       "                }\n",
       "            }, 500);\n",
       "            "
      ]
     },
     "metadata": {},
     "output_type": "display_data"
    }
   ],
   "source": [
    "ss = StandardScaler()"
   ]
  },
  {
   "cell_type": "code",
   "execution_count": 17,
   "id": "6c299a9d",
   "metadata": {
    "scrolled": true
   },
   "outputs": [
    {
     "data": {
      "text/html": [
       "<pre style=\"white-space:pre;overflow-x:auto;line-height:normal;font-family:Menlo,'DejaVu Sans Mono',consolas,'Courier New',monospace\"><span style=\"font-weight: bold\">&lt;</span><span style=\"color: #ff00ff; text-decoration-color: #ff00ff; font-weight: bold\">IPython.core.display.Javascript</span><span style=\"color: #000000; text-decoration-color: #000000\"> object</span><span style=\"font-weight: bold\">&gt;</span>\n",
       "</pre>\n"
      ],
      "text/plain": [
       "\u001b[1m<\u001b[0m\u001b[1;95mIPython.core.display.Javascript\u001b[0m\u001b[39m object\u001b[0m\u001b[1m>\u001b[0m\n"
      ]
     },
     "metadata": {},
     "output_type": "display_data"
    },
    {
     "data": {
      "application/javascript": [
       "\n",
       "            setTimeout(function() {\n",
       "                var nbb_cell_id = 17;\n",
       "                var nbb_unformatted_code = \"df_personas[\\\"cluster\\\"] = DBSCAN(eps=2, min_samples=5).fit_predict(\\n    ss.fit_transform(\\n        df_personas.drop(\\n            [\\\"documento_proveedor\\\", \\\"proveedor_adjudicado\\\"], axis=1\\n        ).values\\n    )\\n)\";\n",
       "                var nbb_formatted_code = \"df_personas[\\\"cluster\\\"] = DBSCAN(eps=2, min_samples=5).fit_predict(\\n    ss.fit_transform(\\n        df_personas.drop([\\\"documento_proveedor\\\", \\\"proveedor_adjudicado\\\"], axis=1).values\\n    )\\n)\";\n",
       "                var nbb_cells = Jupyter.notebook.get_cells();\n",
       "                for (var i = 0; i < nbb_cells.length; ++i) {\n",
       "                    if (nbb_cells[i].input_prompt_number == nbb_cell_id) {\n",
       "                        if (nbb_cells[i].get_text() == nbb_unformatted_code) {\n",
       "                             nbb_cells[i].set_text(nbb_formatted_code);\n",
       "                        }\n",
       "                        break;\n",
       "                    }\n",
       "                }\n",
       "            }, 500);\n",
       "            "
      ]
     },
     "metadata": {},
     "output_type": "display_data"
    }
   ],
   "source": [
    "df_personas[\"cluster\"] = DBSCAN(eps=2, min_samples=5).fit_predict(\n",
    "    ss.fit_transform(\n",
    "        df_personas.drop([\"documento_proveedor\", \"proveedor_adjudicado\"], axis=1).values\n",
    "    )\n",
    ")"
   ]
  },
  {
   "cell_type": "code",
   "execution_count": 40,
   "id": "0f619f11",
   "metadata": {},
   "outputs": [
    {
     "data": {
      "text/html": [
       "<pre style=\"white-space:pre;overflow-x:auto;line-height:normal;font-family:Menlo,'DejaVu Sans Mono',consolas,'Courier New',monospace\"><span style=\"color: #008080; text-decoration-color: #008080; font-weight: bold\">514628</span>\n",
       "</pre>\n"
      ],
      "text/plain": [
       "\u001b[1;36m514628\u001b[0m\n"
      ]
     },
     "metadata": {},
     "output_type": "display_data"
    },
    {
     "data": {
      "text/html": [
       "<pre style=\"white-space:pre;overflow-x:auto;line-height:normal;font-family:Menlo,'DejaVu Sans Mono',consolas,'Courier New',monospace\"><span style=\"font-weight: bold\">&lt;</span><span style=\"color: #ff00ff; text-decoration-color: #ff00ff; font-weight: bold\">IPython.core.display.Javascript</span><span style=\"color: #000000; text-decoration-color: #000000\"> object</span><span style=\"font-weight: bold\">&gt;</span>\n",
       "</pre>\n"
      ],
      "text/plain": [
       "\u001b[1m<\u001b[0m\u001b[1;95mIPython.core.display.Javascript\u001b[0m\u001b[39m object\u001b[0m\u001b[1m>\u001b[0m\n"
      ]
     },
     "metadata": {},
     "output_type": "display_data"
    },
    {
     "data": {
      "application/javascript": [
       "\n",
       "            setTimeout(function() {\n",
       "                var nbb_cell_id = 40;\n",
       "                var nbb_unformatted_code = \"len(df_personas)\";\n",
       "                var nbb_formatted_code = \"len(df_personas)\";\n",
       "                var nbb_cells = Jupyter.notebook.get_cells();\n",
       "                for (var i = 0; i < nbb_cells.length; ++i) {\n",
       "                    if (nbb_cells[i].input_prompt_number == nbb_cell_id) {\n",
       "                        if (nbb_cells[i].get_text() == nbb_unformatted_code) {\n",
       "                             nbb_cells[i].set_text(nbb_formatted_code);\n",
       "                        }\n",
       "                        break;\n",
       "                    }\n",
       "                }\n",
       "            }, 500);\n",
       "            "
      ]
     },
     "metadata": {},
     "output_type": "display_data"
    }
   ],
   "source": [
    "len(df_personas)"
   ]
  },
  {
   "cell_type": "code",
   "execution_count": 20,
   "id": "a6a9137f",
   "metadata": {},
   "outputs": [
    {
     "data": {
      "image/png": "[encoded data removed]"
     },
     "metadata": {
      "needs_background": "light"
     },
     "output_type": "display_data"
    },
    {
     "data": {
      "text/html": [
       "<pre style=\"white-space:pre;overflow-x:auto;line-height:normal;font-family:Menlo,'DejaVu Sans Mono',consolas,'Courier New',monospace\"><span style=\"font-weight: bold\">&lt;</span><span style=\"color: #ff00ff; text-decoration-color: #ff00ff; font-weight: bold\">IPython.core.display.Javascript</span><span style=\"color: #000000; text-decoration-color: #000000\"> object</span><span style=\"font-weight: bold\">&gt;</span>\n",
       "</pre>\n"
      ],
      "text/plain": [
       "\u001b[1m<\u001b[0m\u001b[1;95mIPython.core.display.Javascript\u001b[0m\u001b[39m object\u001b[0m\u001b[1m>\u001b[0m\n"
      ]
     },
     "metadata": {},
     "output_type": "display_data"
    },
    {
     "data": {
      "application/javascript": [
       "\n",
       "            setTimeout(function() {\n",
       "                var nbb_cell_id = 20;\n",
       "                var nbb_unformatted_code = \"fig, ax = plt.subplots()\\nax.hist(df_personas[\\\"index\\\"], bins=240)\\nax.set_xlim(0, 25)\\nfig.set_size_inches(12, 7)\";\n",
       "                var nbb_formatted_code = \"fig, ax = plt.subplots()\\nax.hist(df_personas[\\\"index\\\"], bins=240)\\nax.set_xlim(0, 25)\\nfig.set_size_inches(12, 7)\";\n",
       "                var nbb_cells = Jupyter.notebook.get_cells();\n",
       "                for (var i = 0; i < nbb_cells.length; ++i) {\n",
       "                    if (nbb_cells[i].input_prompt_number == nbb_cell_id) {\n",
       "                        if (nbb_cells[i].get_text() == nbb_unformatted_code) {\n",
       "                             nbb_cells[i].set_text(nbb_formatted_code);\n",
       "                        }\n",
       "                        break;\n",
       "                    }\n",
       "                }\n",
       "            }, 500);\n",
       "            "
      ]
     },
     "metadata": {},
     "output_type": "display_data"
    }
   ],
   "source": [
    "fig, ax = plt.subplots()\n",
    "ax.hist(df_personas[\"index\"], bins=240)\n",
    "ax.set_xlim(0, 25)\n",
    "fig.set_size_inches(12, 7)"
   ]
  },
  {
   "cell_type": "code",
   "execution_count": 24,
   "id": "af3b5393",
   "metadata": {},
   "outputs": [
    {
     "data": {
      "text/html": [
       "<pre style=\"white-space:pre;overflow-x:auto;line-height:normal;font-family:Menlo,'DejaVu Sans Mono',consolas,'Courier New',monospace\">\n",
       "<span style=\"color: #008080; text-decoration-color: #008080; font-weight: bold\">1</span>    <span style=\"color: #008080; text-decoration-color: #008080; font-weight: bold\">89</span>%\n",
       "<span style=\"color: #008080; text-decoration-color: #008080; font-weight: bold\">2</span>    <span style=\"color: #008080; text-decoration-color: #008080; font-weight: bold\">10</span>%\n",
       "<span style=\"color: #008080; text-decoration-color: #008080; font-weight: bold\">3</span>     <span style=\"color: #008080; text-decoration-color: #008080; font-weight: bold\">1</span>%\n",
       "<span style=\"color: #008080; text-decoration-color: #008080; font-weight: bold\">4</span>     <span style=\"color: #008080; text-decoration-color: #008080; font-weight: bold\">0</span>%\n",
       "<span style=\"color: #008080; text-decoration-color: #008080; font-weight: bold\">5</span>     <span style=\"color: #008080; text-decoration-color: #008080; font-weight: bold\">0</span>%\n",
       "Name: date_duration, dtype: object\n",
       "</pre>\n"
      ],
      "text/plain": [
       "\n",
       "\u001b[1;36m1\u001b[0m    \u001b[1;36m89\u001b[0m%\n",
       "\u001b[1;36m2\u001b[0m    \u001b[1;36m10\u001b[0m%\n",
       "\u001b[1;36m3\u001b[0m     \u001b[1;36m1\u001b[0m%\n",
       "\u001b[1;36m4\u001b[0m     \u001b[1;36m0\u001b[0m%\n",
       "\u001b[1;36m5\u001b[0m     \u001b[1;36m0\u001b[0m%\n",
       "Name: date_duration, dtype: object\n"
      ]
     },
     "metadata": {},
     "output_type": "display_data"
    },
    {
     "data": {
      "text/html": [
       "<pre style=\"white-space:pre;overflow-x:auto;line-height:normal;font-family:Menlo,'DejaVu Sans Mono',consolas,'Courier New',monospace\"><span style=\"font-weight: bold\">&lt;</span><span style=\"color: #ff00ff; text-decoration-color: #ff00ff; font-weight: bold\">IPython.core.display.Javascript</span><span style=\"color: #000000; text-decoration-color: #000000\"> object</span><span style=\"font-weight: bold\">&gt;</span>\n",
       "</pre>\n"
      ],
      "text/plain": [
       "\u001b[1m<\u001b[0m\u001b[1;95mIPython.core.display.Javascript\u001b[0m\u001b[39m object\u001b[0m\u001b[1m>\u001b[0m\n"
      ]
     },
     "metadata": {},
     "output_type": "display_data"
    },
    {
     "data": {
      "application/javascript": [
       "\n",
       "            setTimeout(function() {\n",
       "                var nbb_cell_id = 24;\n",
       "                var nbb_unformatted_code = \"prop_counts(df_personas[\\\"date_duration\\\"]).head(5)  # .value_counts()\";\n",
       "                var nbb_formatted_code = \"prop_counts(df_personas[\\\"date_duration\\\"]).head(5)  # .value_counts()\";\n",
       "                var nbb_cells = Jupyter.notebook.get_cells();\n",
       "                for (var i = 0; i < nbb_cells.length; ++i) {\n",
       "                    if (nbb_cells[i].input_prompt_number == nbb_cell_id) {\n",
       "                        if (nbb_cells[i].get_text() == nbb_unformatted_code) {\n",
       "                             nbb_cells[i].set_text(nbb_formatted_code);\n",
       "                        }\n",
       "                        break;\n",
       "                    }\n",
       "                }\n",
       "            }, 500);\n",
       "            "
      ]
     },
     "metadata": {},
     "output_type": "display_data"
    }
   ],
   "source": [
    "prop_counts(df_personas[\"date_duration\"]).head(5)  # .value_counts()"
   ]
  },
  {
   "cell_type": "code",
   "execution_count": 26,
   "id": "5b7c1abb",
   "metadata": {},
   "outputs": [
    {
     "data": {
      "text/html": [
       "<pre style=\"white-space:pre;overflow-x:auto;line-height:normal;font-family:Menlo,'DejaVu Sans Mono',consolas,'Courier New',monospace\"><span style=\"font-weight: bold\">&lt;</span><span style=\"color: #ff00ff; text-decoration-color: #ff00ff; font-weight: bold\">IPython.core.display.Javascript</span><span style=\"color: #000000; text-decoration-color: #000000\"> object</span><span style=\"font-weight: bold\">&gt;</span>\n",
       "</pre>\n"
      ],
      "text/plain": [
       "\u001b[1m<\u001b[0m\u001b[1;95mIPython.core.display.Javascript\u001b[0m\u001b[39m object\u001b[0m\u001b[1m>\u001b[0m\n"
      ]
     },
     "metadata": {},
     "output_type": "display_data"
    },
    {
     "data": {
      "application/javascript": [
       "\n",
       "            setTimeout(function() {\n",
       "                var nbb_cell_id = 26;\n",
       "                var nbb_unformatted_code = \"pca = PCA(n_components=2)\\ndf_personas[[\\\"x_pca\\\", \\\"y_pca\\\"]] = pca.fit_transform(\\n    df_personas.drop(\\n        [\\\"cluster\\\", \\\"documento_proveedor\\\", \\\"proveedor_adjudicado\\\"], axis=1\\n    ).values\\n)\";\n",
       "                var nbb_formatted_code = \"pca = PCA(n_components=2)\\ndf_personas[[\\\"x_pca\\\", \\\"y_pca\\\"]] = pca.fit_transform(\\n    df_personas.drop(\\n        [\\\"cluster\\\", \\\"documento_proveedor\\\", \\\"proveedor_adjudicado\\\"], axis=1\\n    ).values\\n)\";\n",
       "                var nbb_cells = Jupyter.notebook.get_cells();\n",
       "                for (var i = 0; i < nbb_cells.length; ++i) {\n",
       "                    if (nbb_cells[i].input_prompt_number == nbb_cell_id) {\n",
       "                        if (nbb_cells[i].get_text() == nbb_unformatted_code) {\n",
       "                             nbb_cells[i].set_text(nbb_formatted_code);\n",
       "                        }\n",
       "                        break;\n",
       "                    }\n",
       "                }\n",
       "            }, 500);\n",
       "            "
      ]
     },
     "metadata": {},
     "output_type": "display_data"
    }
   ],
   "source": [
    "pca = PCA(n_components=2)\n",
    "df_personas[[\"x_pca\", \"y_pca\"]] = pca.fit_transform(\n",
    "    df_personas.drop(\n",
    "        [\"cluster\", \"documento_proveedor\", \"proveedor_adjudicado\"], axis=1\n",
    "    ).values\n",
    ")"
   ]
  },
  {
   "cell_type": "code",
   "execution_count": 35,
   "id": "860dfc87",
   "metadata": {},
   "outputs": [
    {
     "data": {
      "text/html": [
       "<pre style=\"white-space:pre;overflow-x:auto;line-height:normal;font-family:Menlo,'DejaVu Sans Mono',consolas,'Courier New',monospace\"><span style=\"font-weight: bold\">&lt;</span><span style=\"color: #ff00ff; text-decoration-color: #ff00ff; font-weight: bold\">IPython.core.display.Javascript</span><span style=\"color: #000000; text-decoration-color: #000000\"> object</span><span style=\"font-weight: bold\">&gt;</span>\n",
       "</pre>\n"
      ],
      "text/plain": [
       "\u001b[1m<\u001b[0m\u001b[1;95mIPython.core.display.Javascript\u001b[0m\u001b[39m object\u001b[0m\u001b[1m>\u001b[0m\n"
      ]
     },
     "metadata": {},
     "output_type": "display_data"
    },
    {
     "data": {
      "application/javascript": [
       "\n",
       "            setTimeout(function() {\n",
       "                var nbb_cell_id = 35;\n",
       "                var nbb_unformatted_code = \"p1 = [x for x in df_personas[\\\"cluster\\\"].unique() if x != -1]\\np2 = np.random.permutation(p1)\";\n",
       "                var nbb_formatted_code = \"p1 = [x for x in df_personas[\\\"cluster\\\"].unique() if x != -1]\\np2 = np.random.permutation(p1)\";\n",
       "                var nbb_cells = Jupyter.notebook.get_cells();\n",
       "                for (var i = 0; i < nbb_cells.length; ++i) {\n",
       "                    if (nbb_cells[i].input_prompt_number == nbb_cell_id) {\n",
       "                        if (nbb_cells[i].get_text() == nbb_unformatted_code) {\n",
       "                             nbb_cells[i].set_text(nbb_formatted_code);\n",
       "                        }\n",
       "                        break;\n",
       "                    }\n",
       "                }\n",
       "            }, 500);\n",
       "            "
      ]
     },
     "metadata": {},
     "output_type": "display_data"
    }
   ],
   "source": [
    "p1 = [x for x in df_personas[\"cluster\"].unique() if x != -1]\n",
    "p2 = np.random.permutation(p1)"
   ]
  },
  {
   "cell_type": "code",
   "execution_count": 38,
   "id": "964c402e",
   "metadata": {},
   "outputs": [
    {
     "data": {
      "text/html": [
       "<pre style=\"white-space:pre;overflow-x:auto;line-height:normal;font-family:Menlo,'DejaVu Sans Mono',consolas,'Courier New',monospace\"><span style=\"font-weight: bold\">&lt;</span><span style=\"color: #ff00ff; text-decoration-color: #ff00ff; font-weight: bold\">IPython.core.display.Javascript</span><span style=\"color: #000000; text-decoration-color: #000000\"> object</span><span style=\"font-weight: bold\">&gt;</span>\n",
       "</pre>\n"
      ],
      "text/plain": [
       "\u001b[1m<\u001b[0m\u001b[1;95mIPython.core.display.Javascript\u001b[0m\u001b[39m object\u001b[0m\u001b[1m>\u001b[0m\n"
      ]
     },
     "metadata": {},
     "output_type": "display_data"
    },
    {
     "data": {
      "application/javascript": [
       "\n",
       "            setTimeout(function() {\n",
       "                var nbb_cell_id = 38;\n",
       "                var nbb_unformatted_code = \"df_personas[\\\"cluster_2\\\"] = df_personas[\\\"cluster\\\"].map({-1: -1, **{p1[i]: p2[i] for i in range(len(p1))}})\";\n",
       "                var nbb_formatted_code = \"df_personas[\\\"cluster_2\\\"] = df_personas[\\\"cluster\\\"].map(\\n    {-1: -1, **{p1[i]: p2[i] for i in range(len(p1))}}\\n)\";\n",
       "                var nbb_cells = Jupyter.notebook.get_cells();\n",
       "                for (var i = 0; i < nbb_cells.length; ++i) {\n",
       "                    if (nbb_cells[i].input_prompt_number == nbb_cell_id) {\n",
       "                        if (nbb_cells[i].get_text() == nbb_unformatted_code) {\n",
       "                             nbb_cells[i].set_text(nbb_formatted_code);\n",
       "                        }\n",
       "                        break;\n",
       "                    }\n",
       "                }\n",
       "            }, 500);\n",
       "            "
      ]
     },
     "metadata": {},
     "output_type": "display_data"
    }
   ],
   "source": [
    "df_personas[\"cluster_2\"] = df_personas[\"cluster\"].map(\n",
    "    {-1: -1, **{p1[i]: p2[i] for i in range(len(p1))}}\n",
    ")"
   ]
  },
  {
   "cell_type": "code",
   "execution_count": 39,
   "id": "b57b226e",
   "metadata": {},
   "outputs": [
    {
     "data": {
      "image/png": "[encoded data removed]"
     },
     "metadata": {
      "needs_background": "light"
     },
     "output_type": "display_data"
    },
    {
     "data": {
      "text/html": [
       "<pre style=\"white-space:pre;overflow-x:auto;line-height:normal;font-family:Menlo,'DejaVu Sans Mono',consolas,'Courier New',monospace\"><span style=\"font-weight: bold\">&lt;</span><span style=\"color: #ff00ff; text-decoration-color: #ff00ff; font-weight: bold\">IPython.core.display.Javascript</span><span style=\"color: #000000; text-decoration-color: #000000\"> object</span><span style=\"font-weight: bold\">&gt;</span>\n",
       "</pre>\n"
      ],
      "text/plain": [
       "\u001b[1m<\u001b[0m\u001b[1;95mIPython.core.display.Javascript\u001b[0m\u001b[39m object\u001b[0m\u001b[1m>\u001b[0m\n"
      ]
     },
     "metadata": {},
     "output_type": "display_data"
    },
    {
     "data": {
      "application/javascript": [
       "\n",
       "            setTimeout(function() {\n",
       "                var nbb_cell_id = 39;\n",
       "                var nbb_unformatted_code = \"fig, ax = plt.subplots()\\nscat = ax.scatter(\\n    df_personas[\\\"x_pca\\\"], df_personas[\\\"y_pca\\\"], c=df_personas[\\\"cluster_2\\\"], s=0.6\\n)\\nlegend = ax.legend(*scat.legend_elements(), loc=\\\"upper right\\\", title=\\\"Outlier\\\")\\nax.add_artist(legend)\\nfig.set_size_inches(8, 8)\";\n",
       "                var nbb_formatted_code = \"fig, ax = plt.subplots()\\nscat = ax.scatter(\\n    df_personas[\\\"x_pca\\\"], df_personas[\\\"y_pca\\\"], c=df_personas[\\\"cluster_2\\\"], s=0.6\\n)\\nlegend = ax.legend(*scat.legend_elements(), loc=\\\"upper right\\\", title=\\\"Outlier\\\")\\nax.add_artist(legend)\\nfig.set_size_inches(8, 8)\";\n",
       "                var nbb_cells = Jupyter.notebook.get_cells();\n",
       "                for (var i = 0; i < nbb_cells.length; ++i) {\n",
       "                    if (nbb_cells[i].input_prompt_number == nbb_cell_id) {\n",
       "                        if (nbb_cells[i].get_text() == nbb_unformatted_code) {\n",
       "                             nbb_cells[i].set_text(nbb_formatted_code);\n",
       "                        }\n",
       "                        break;\n",
       "                    }\n",
       "                }\n",
       "            }, 500);\n",
       "            "
      ]
     },
     "metadata": {},
     "output_type": "display_data"
    }
   ],
   "source": [
    "fig, ax = plt.subplots()\n",
    "scat = ax.scatter(\n",
    "    df_personas[\"x_pca\"], df_personas[\"y_pca\"], c=df_personas[\"cluster_2\"], s=0.6\n",
    ")\n",
    "legend = ax.legend(*scat.legend_elements(), loc=\"upper right\", title=\"Outlier\")\n",
    "ax.add_artist(legend)\n",
    "fig.set_size_inches(8, 8)"
   ]
  },
  {
   "cell_type": "code",
   "execution_count": 153,
   "id": "8266d44d",
   "metadata": {},
   "outputs": [
    {
     "data": {
      "text/html": [
       "<pre style=\"white-space:pre;overflow-x:auto;line-height:normal;font-family:Menlo,'DejaVu Sans Mono',consolas,'Courier New',monospace\"><span style=\"color: #7fbfbf; text-decoration-color: #7fbfbf\">[08/15/22 01:33:51] </span><span style=\"color: #000080; text-decoration-color: #000080\">INFO    </span> Saving data to <span style=\"color: #008000; text-decoration-color: #008000\">'df_clusters_contractors'</span> <span style=\"font-weight: bold\">(</span>ParquetDataSet<span style=\"font-weight: bold\">)</span><span style=\"color: #808000; text-decoration-color: #808000\">...</span>       <a href=\"file:///opt/homebrew/Caskroom/miniforge/base/envs/dm_project/lib/python3.10/site-packages/kedro/io/data_catalog.py\" target=\"_blank\"><span style=\"color: #7f7f7f; text-decoration-color: #7f7f7f\">data_catalog.py</span></a><span style=\"color: #7f7f7f; text-decoration-color: #7f7f7f\">:</span><a href=\"file:///opt/homebrew/Caskroom/miniforge/base/envs/dm_project/lib/python3.10/site-packages/kedro/io/data_catalog.py#382\" target=\"_blank\"><span style=\"color: #7f7f7f; text-decoration-color: #7f7f7f\">382</span></a>\n",
       "</pre>\n"
      ],
      "text/plain": [
       "\u001b[2;36m[08/15/22 01:33:51]\u001b[0m\u001b[2;36m \u001b[0m\u001b[34mINFO    \u001b[0m Saving data to \u001b[32m'df_clusters_contractors'\u001b[0m \u001b[1m(\u001b[0mParquetDataSet\u001b[1m)\u001b[0m\u001b[33m...\u001b[0m       \u001b]8;id=938305;file:///opt/homebrew/Caskroom/miniforge/base/envs/dm_project/lib/python3.10/site-packages/kedro/io/data_catalog.py\u001b\\\u001b[2mdata_catalog.py\u001b[0m\u001b]8;;\u001b\\\u001b[2m:\u001b[0m\u001b]8;id=674438;file:///opt/homebrew/Caskroom/miniforge/base/envs/dm_project/lib/python3.10/site-packages/kedro/io/data_catalog.py#382\u001b\\\u001b[2m382\u001b[0m\u001b]8;;\u001b\\\n"
      ]
     },
     "metadata": {},
     "output_type": "display_data"
    },
    {
     "data": {
      "text/html": [
       "<pre style=\"white-space:pre;overflow-x:auto;line-height:normal;font-family:Menlo,'DejaVu Sans Mono',consolas,'Courier New',monospace\"><span style=\"font-weight: bold\">&lt;</span><span style=\"color: #ff00ff; text-decoration-color: #ff00ff; font-weight: bold\">IPython.core.display.Javascript</span><span style=\"color: #000000; text-decoration-color: #000000\"> object</span><span style=\"font-weight: bold\">&gt;</span>\n",
       "</pre>\n"
      ],
      "text/plain": [
       "\u001b[1m<\u001b[0m\u001b[1;95mIPython.core.display.Javascript\u001b[0m\u001b[39m object\u001b[0m\u001b[1m>\u001b[0m\n"
      ]
     },
     "metadata": {},
     "output_type": "display_data"
    },
    {
     "data": {
      "application/javascript": [
       "\n",
       "            setTimeout(function() {\n",
       "                var nbb_cell_id = 153;\n",
       "                var nbb_unformatted_code = \"catalog.save(\\n    \\\"df_clusters_contractors\\\",\\n    df_personas[\\n        [\\n            \\\"documento_proveedor\\\",\\n            \\\"proveedor_adjudicado\\\",\\n            \\\"index_count\\\",\\n            \\\"date_duration_max_open_contracts\\\",\\n            \\\"log_valor_del_contrato_mean\\\",\\n            \\\"cluster\\\",\\\"x_pca\\\",\\\"y_pca\\\"\\n        ]\\n    ],\\n)\";\n",
       "                var nbb_formatted_code = \"catalog.save(\\n    \\\"df_clusters_contractors\\\",\\n    df_personas[\\n        [\\n            \\\"documento_proveedor\\\",\\n            \\\"proveedor_adjudicado\\\",\\n            \\\"index_count\\\",\\n            \\\"date_duration_max_open_contracts\\\",\\n            \\\"log_valor_del_contrato_mean\\\",\\n            \\\"cluster\\\",\\n            \\\"x_pca\\\",\\n            \\\"y_pca\\\",\\n        ]\\n    ],\\n)\";\n",
       "                var nbb_cells = Jupyter.notebook.get_cells();\n",
       "                for (var i = 0; i < nbb_cells.length; ++i) {\n",
       "                    if (nbb_cells[i].input_prompt_number == nbb_cell_id) {\n",
       "                        if (nbb_cells[i].get_text() == nbb_unformatted_code) {\n",
       "                             nbb_cells[i].set_text(nbb_formatted_code);\n",
       "                        }\n",
       "                        break;\n",
       "                    }\n",
       "                }\n",
       "            }, 500);\n",
       "            "
      ]
     },
     "metadata": {},
     "output_type": "display_data"
    }
   ],
   "source": [
    "catalog.save(\n",
    "    \"df_clusters_contractors\",\n",
    "    df_personas[\n",
    "        [\n",
    "            \"documento_proveedor\",\n",
    "            \"proveedor_adjudicado\",\n",
    "            \"index_count\",\n",
    "            \"date_duration_max_open_contracts\",\n",
    "            \"log_valor_del_contrato_mean\",\n",
    "            \"cluster\",\n",
    "            \"x_pca\",\n",
    "            \"y_pca\",\n",
    "        ]\n",
    "    ],\n",
    ")"
   ]
  },
  {
   "cell_type": "code",
   "execution_count": 141,
   "id": "623a8643",
   "metadata": {},
   "outputs": [
    {
     "data": {
      "text/html": [
       "<div>\n",
       "<style scoped>\n",
       "    .dataframe tbody tr th:only-of-type {\n",
       "        vertical-align: middle;\n",
       "    }\n",
       "\n",
       "    .dataframe tbody tr th {\n",
       "        vertical-align: top;\n",
       "    }\n",
       "\n",
       "    .dataframe thead th {\n",
       "        text-align: right;\n",
       "    }\n",
       "</style>\n",
       "<table border=\"1\" class=\"dataframe\">\n",
       "  <thead>\n",
       "    <tr style=\"text-align: right;\">\n",
       "      <th></th>\n",
       "      <th>documento_proveedor</th>\n",
       "      <th>index_count</th>\n",
       "      <th>dias_adicionados_mean</th>\n",
       "      <th>date_duration_max_open_contracts</th>\n",
       "      <th>pca_0_mean</th>\n",
       "      <th>pca_1_mean</th>\n",
       "      <th>pca_2_mean</th>\n",
       "      <th>pca_3_mean</th>\n",
       "      <th>pca_4_mean</th>\n",
       "      <th>pca_5_mean</th>\n",
       "      <th>...</th>\n",
       "      <th>pca_7_mean</th>\n",
       "      <th>pca_8_mean</th>\n",
       "      <th>pca_9_mean</th>\n",
       "      <th>prop_ent</th>\n",
       "      <th>prop_ciudad</th>\n",
       "      <th>log_valor_del_contrato_mean</th>\n",
       "      <th>days_since_first_contract</th>\n",
       "      <th>days_since_first_by_count</th>\n",
       "      <th>cluster</th>\n",
       "      <th>proveedor_adjudicado</th>\n",
       "    </tr>\n",
       "  </thead>\n",
       "  <tbody>\n",
       "    <tr>\n",
       "      <th>267696</th>\n",
       "      <td>98475036</td>\n",
       "      <td>219</td>\n",
       "      <td>0.821918</td>\n",
       "      <td>43</td>\n",
       "      <td>-0.046546</td>\n",
       "      <td>-0.423400</td>\n",
       "      <td>1.673372</td>\n",
       "      <td>0.161327</td>\n",
       "      <td>0.023734</td>\n",
       "      <td>-1.772883</td>\n",
       "      <td>...</td>\n",
       "      <td>6.599925</td>\n",
       "      <td>0.088057</td>\n",
       "      <td>1.518557</td>\n",
       "      <td>0.009009</td>\n",
       "      <td>0.009009</td>\n",
       "      <td>17.431565</td>\n",
       "      <td>1713</td>\n",
       "      <td>7.821918</td>\n",
       "      <td>-1</td>\n",
       "      <td>dota hogar colchones</td>\n",
       "    </tr>\n",
       "    <tr>\n",
       "      <th>177252</th>\n",
       "      <td>59706955</td>\n",
       "      <td>204</td>\n",
       "      <td>3.313725</td>\n",
       "      <td>38</td>\n",
       "      <td>0.267381</td>\n",
       "      <td>-1.404240</td>\n",
       "      <td>2.530553</td>\n",
       "      <td>-0.176100</td>\n",
       "      <td>1.314510</td>\n",
       "      <td>-1.869544</td>\n",
       "      <td>...</td>\n",
       "      <td>5.805570</td>\n",
       "      <td>-0.511711</td>\n",
       "      <td>1.126793</td>\n",
       "      <td>0.017857</td>\n",
       "      <td>0.017857</td>\n",
       "      <td>18.600418</td>\n",
       "      <td>1410</td>\n",
       "      <td>6.911765</td>\n",
       "      <td>-1</td>\n",
       "      <td>deicy bravo jojoa</td>\n",
       "    </tr>\n",
       "    <tr>\n",
       "      <th>63581</th>\n",
       "      <td>23622025</td>\n",
       "      <td>172</td>\n",
       "      <td>0.715116</td>\n",
       "      <td>18</td>\n",
       "      <td>-0.493721</td>\n",
       "      <td>0.263277</td>\n",
       "      <td>1.794113</td>\n",
       "      <td>0.904088</td>\n",
       "      <td>-0.357872</td>\n",
       "      <td>-1.232693</td>\n",
       "      <td>...</td>\n",
       "      <td>6.812876</td>\n",
       "      <td>0.334897</td>\n",
       "      <td>1.568188</td>\n",
       "      <td>0.017857</td>\n",
       "      <td>0.017857</td>\n",
       "      <td>14.769836</td>\n",
       "      <td>1564</td>\n",
       "      <td>9.093023</td>\n",
       "      <td>-1</td>\n",
       "      <td>maria araceli leiva perilla</td>\n",
       "    </tr>\n",
       "    <tr>\n",
       "      <th>47807</th>\n",
       "      <td>17068260</td>\n",
       "      <td>169</td>\n",
       "      <td>19.751479</td>\n",
       "      <td>48</td>\n",
       "      <td>6.367724</td>\n",
       "      <td>0.845085</td>\n",
       "      <td>0.556430</td>\n",
       "      <td>-0.773149</td>\n",
       "      <td>0.024033</td>\n",
       "      <td>-0.980142</td>\n",
       "      <td>...</td>\n",
       "      <td>1.859662</td>\n",
       "      <td>1.404825</td>\n",
       "      <td>-0.619994</td>\n",
       "      <td>0.125000</td>\n",
       "      <td>0.125000</td>\n",
       "      <td>19.844395</td>\n",
       "      <td>1593</td>\n",
       "      <td>9.426036</td>\n",
       "      <td>-1</td>\n",
       "      <td>rafael antonio salamanca</td>\n",
       "    </tr>\n",
       "    <tr>\n",
       "      <th>249287</th>\n",
       "      <td>86075963</td>\n",
       "      <td>163</td>\n",
       "      <td>0.797546</td>\n",
       "      <td>14</td>\n",
       "      <td>0.025769</td>\n",
       "      <td>-0.927657</td>\n",
       "      <td>0.452002</td>\n",
       "      <td>-0.899477</td>\n",
       "      <td>0.531622</td>\n",
       "      <td>-1.859707</td>\n",
       "      <td>...</td>\n",
       "      <td>7.686668</td>\n",
       "      <td>-0.189100</td>\n",
       "      <td>1.969521</td>\n",
       "      <td>0.142857</td>\n",
       "      <td>0.142857</td>\n",
       "      <td>15.965232</td>\n",
       "      <td>1662</td>\n",
       "      <td>10.196319</td>\n",
       "      <td>-1</td>\n",
       "      <td>carlos ernesto rey aguilera</td>\n",
       "    </tr>\n",
       "    <tr>\n",
       "      <th>237219</th>\n",
       "      <td>80222117</td>\n",
       "      <td>148</td>\n",
       "      <td>3.918919</td>\n",
       "      <td>30</td>\n",
       "      <td>0.534181</td>\n",
       "      <td>-0.481944</td>\n",
       "      <td>0.695768</td>\n",
       "      <td>-0.472104</td>\n",
       "      <td>-0.304566</td>\n",
       "      <td>-1.419020</td>\n",
       "      <td>...</td>\n",
       "      <td>4.515492</td>\n",
       "      <td>0.870081</td>\n",
       "      <td>0.933605</td>\n",
       "      <td>0.008696</td>\n",
       "      <td>0.008696</td>\n",
       "      <td>18.409268</td>\n",
       "      <td>1718</td>\n",
       "      <td>11.608108</td>\n",
       "      <td>-1</td>\n",
       "      <td>miguel angel vallejo burgos</td>\n",
       "    </tr>\n",
       "    <tr>\n",
       "      <th>453904</th>\n",
       "      <td>1102720365</td>\n",
       "      <td>147</td>\n",
       "      <td>4.414966</td>\n",
       "      <td>12</td>\n",
       "      <td>0.244779</td>\n",
       "      <td>-0.500521</td>\n",
       "      <td>1.122730</td>\n",
       "      <td>0.347915</td>\n",
       "      <td>-0.206281</td>\n",
       "      <td>-1.408963</td>\n",
       "      <td>...</td>\n",
       "      <td>5.840912</td>\n",
       "      <td>0.292502</td>\n",
       "      <td>1.505907</td>\n",
       "      <td>0.009615</td>\n",
       "      <td>0.009615</td>\n",
       "      <td>16.925518</td>\n",
       "      <td>2330</td>\n",
       "      <td>15.850340</td>\n",
       "      <td>-1</td>\n",
       "      <td>mosthye vicente medina rodriguez - world m&amp;d  ...</td>\n",
       "    </tr>\n",
       "    <tr>\n",
       "      <th>302261</th>\n",
       "      <td>1016018644</td>\n",
       "      <td>129</td>\n",
       "      <td>4.426357</td>\n",
       "      <td>22</td>\n",
       "      <td>0.366106</td>\n",
       "      <td>-0.754169</td>\n",
       "      <td>1.025366</td>\n",
       "      <td>-0.297631</td>\n",
       "      <td>-1.031642</td>\n",
       "      <td>-2.586797</td>\n",
       "      <td>...</td>\n",
       "      <td>6.631485</td>\n",
       "      <td>0.512133</td>\n",
       "      <td>1.906689</td>\n",
       "      <td>0.014925</td>\n",
       "      <td>0.014925</td>\n",
       "      <td>16.281054</td>\n",
       "      <td>1624</td>\n",
       "      <td>12.589147</td>\n",
       "      <td>-1</td>\n",
       "      <td>bioemedic ingenieria biomedica</td>\n",
       "    </tr>\n",
       "    <tr>\n",
       "      <th>255383</th>\n",
       "      <td>91282210</td>\n",
       "      <td>127</td>\n",
       "      <td>3.165354</td>\n",
       "      <td>37</td>\n",
       "      <td>-1.366431</td>\n",
       "      <td>1.697657</td>\n",
       "      <td>3.907712</td>\n",
       "      <td>3.536135</td>\n",
       "      <td>-1.122033</td>\n",
       "      <td>-0.306703</td>\n",
       "      <td>...</td>\n",
       "      <td>7.284369</td>\n",
       "      <td>1.722037</td>\n",
       "      <td>2.257033</td>\n",
       "      <td>0.027027</td>\n",
       "      <td>0.027027</td>\n",
       "      <td>18.039303</td>\n",
       "      <td>1784</td>\n",
       "      <td>14.047244</td>\n",
       "      <td>-1</td>\n",
       "      <td>jairo osorio caballero</td>\n",
       "    </tr>\n",
       "    <tr>\n",
       "      <th>270827</th>\n",
       "      <td>830004892</td>\n",
       "      <td>122</td>\n",
       "      <td>9.508197</td>\n",
       "      <td>25</td>\n",
       "      <td>2.950823</td>\n",
       "      <td>-0.162726</td>\n",
       "      <td>0.430119</td>\n",
       "      <td>-0.652987</td>\n",
       "      <td>-0.344847</td>\n",
       "      <td>-1.182113</td>\n",
       "      <td>...</td>\n",
       "      <td>3.341962</td>\n",
       "      <td>0.820963</td>\n",
       "      <td>0.444149</td>\n",
       "      <td>0.043478</td>\n",
       "      <td>0.043478</td>\n",
       "      <td>19.483858</td>\n",
       "      <td>1712</td>\n",
       "      <td>14.032787</td>\n",
       "      <td>-1</td>\n",
       "      <td>tecnica electromedica s.a.</td>\n",
       "    </tr>\n",
       "    <tr>\n",
       "      <th>22499</th>\n",
       "      <td>10125834</td>\n",
       "      <td>122</td>\n",
       "      <td>0.352459</td>\n",
       "      <td>23</td>\n",
       "      <td>0.173699</td>\n",
       "      <td>-0.768087</td>\n",
       "      <td>1.232658</td>\n",
       "      <td>-0.486606</td>\n",
       "      <td>0.386641</td>\n",
       "      <td>-2.040878</td>\n",
       "      <td>...</td>\n",
       "      <td>6.507825</td>\n",
       "      <td>-0.163046</td>\n",
       "      <td>1.413647</td>\n",
       "      <td>0.013889</td>\n",
       "      <td>0.013889</td>\n",
       "      <td>17.759281</td>\n",
       "      <td>1790</td>\n",
       "      <td>14.672131</td>\n",
       "      <td>-1</td>\n",
       "      <td>jaime beltran uribe</td>\n",
       "    </tr>\n",
       "    <tr>\n",
       "      <th>215174</th>\n",
       "      <td>79338886</td>\n",
       "      <td>113</td>\n",
       "      <td>7.159292</td>\n",
       "      <td>28</td>\n",
       "      <td>0.581439</td>\n",
       "      <td>-1.338108</td>\n",
       "      <td>0.254794</td>\n",
       "      <td>-0.461028</td>\n",
       "      <td>-0.388928</td>\n",
       "      <td>-1.739119</td>\n",
       "      <td>...</td>\n",
       "      <td>6.222012</td>\n",
       "      <td>0.417212</td>\n",
       "      <td>1.815872</td>\n",
       "      <td>0.015625</td>\n",
       "      <td>0.015625</td>\n",
       "      <td>18.910521</td>\n",
       "      <td>2183</td>\n",
       "      <td>19.318584</td>\n",
       "      <td>-1</td>\n",
       "      <td>william alfonso laguna vargas y/o interamerica...</td>\n",
       "    </tr>\n",
       "    <tr>\n",
       "      <th>225370</th>\n",
       "      <td>79805896</td>\n",
       "      <td>112</td>\n",
       "      <td>0.000000</td>\n",
       "      <td>17</td>\n",
       "      <td>-0.533246</td>\n",
       "      <td>-0.054275</td>\n",
       "      <td>1.625499</td>\n",
       "      <td>0.345994</td>\n",
       "      <td>0.357961</td>\n",
       "      <td>-1.372340</td>\n",
       "      <td>...</td>\n",
       "      <td>6.913505</td>\n",
       "      <td>-0.048552</td>\n",
       "      <td>1.491956</td>\n",
       "      <td>0.016129</td>\n",
       "      <td>0.016129</td>\n",
       "      <td>15.056677</td>\n",
       "      <td>1529</td>\n",
       "      <td>13.651786</td>\n",
       "      <td>-1</td>\n",
       "      <td>jose julian torres diaz</td>\n",
       "    </tr>\n",
       "    <tr>\n",
       "      <th>39498</th>\n",
       "      <td>15030711</td>\n",
       "      <td>111</td>\n",
       "      <td>8.495495</td>\n",
       "      <td>16</td>\n",
       "      <td>0.311339</td>\n",
       "      <td>-2.364299</td>\n",
       "      <td>1.159294</td>\n",
       "      <td>-0.583296</td>\n",
       "      <td>-0.206079</td>\n",
       "      <td>-1.220938</td>\n",
       "      <td>...</td>\n",
       "      <td>6.257284</td>\n",
       "      <td>0.450939</td>\n",
       "      <td>2.707428</td>\n",
       "      <td>1.000000</td>\n",
       "      <td>1.000000</td>\n",
       "      <td>19.310106</td>\n",
       "      <td>2054</td>\n",
       "      <td>18.504505</td>\n",
       "      <td>-1</td>\n",
       "      <td>javier osvaldo ramirez martinez</td>\n",
       "    </tr>\n",
       "    <tr>\n",
       "      <th>35742</th>\n",
       "      <td>13848603</td>\n",
       "      <td>109</td>\n",
       "      <td>3.339450</td>\n",
       "      <td>22</td>\n",
       "      <td>0.155784</td>\n",
       "      <td>-0.049993</td>\n",
       "      <td>1.067301</td>\n",
       "      <td>0.693615</td>\n",
       "      <td>-0.539418</td>\n",
       "      <td>-1.268038</td>\n",
       "      <td>...</td>\n",
       "      <td>5.669647</td>\n",
       "      <td>0.063612</td>\n",
       "      <td>1.548937</td>\n",
       "      <td>0.011628</td>\n",
       "      <td>0.011628</td>\n",
       "      <td>16.677604</td>\n",
       "      <td>1543</td>\n",
       "      <td>14.155963</td>\n",
       "      <td>-1</td>\n",
       "      <td>union temporal migracion colombia 2021</td>\n",
       "    </tr>\n",
       "    <tr>\n",
       "      <th>35743</th>\n",
       "      <td>13848603</td>\n",
       "      <td>109</td>\n",
       "      <td>3.339450</td>\n",
       "      <td>22</td>\n",
       "      <td>0.155784</td>\n",
       "      <td>-0.049993</td>\n",
       "      <td>1.067301</td>\n",
       "      <td>0.693615</td>\n",
       "      <td>-0.539418</td>\n",
       "      <td>-1.268038</td>\n",
       "      <td>...</td>\n",
       "      <td>5.669647</td>\n",
       "      <td>0.063612</td>\n",
       "      <td>1.548937</td>\n",
       "      <td>0.011628</td>\n",
       "      <td>0.011628</td>\n",
       "      <td>16.677604</td>\n",
       "      <td>1543</td>\n",
       "      <td>14.155963</td>\n",
       "      <td>-1</td>\n",
       "      <td>union temporal de recargas 2022</td>\n",
       "    </tr>\n",
       "    <tr>\n",
       "      <th>35741</th>\n",
       "      <td>13848603</td>\n",
       "      <td>109</td>\n",
       "      <td>3.339450</td>\n",
       "      <td>22</td>\n",
       "      <td>0.155784</td>\n",
       "      <td>-0.049993</td>\n",
       "      <td>1.067301</td>\n",
       "      <td>0.693615</td>\n",
       "      <td>-0.539418</td>\n",
       "      <td>-1.268038</td>\n",
       "      <td>...</td>\n",
       "      <td>5.669647</td>\n",
       "      <td>0.063612</td>\n",
       "      <td>1.548937</td>\n",
       "      <td>0.011628</td>\n",
       "      <td>0.011628</td>\n",
       "      <td>16.677604</td>\n",
       "      <td>1543</td>\n",
       "      <td>14.155963</td>\n",
       "      <td>-1</td>\n",
       "      <td>rabac litografia</td>\n",
       "    </tr>\n",
       "    <tr>\n",
       "      <th>33364</th>\n",
       "      <td>13256513</td>\n",
       "      <td>102</td>\n",
       "      <td>1.617647</td>\n",
       "      <td>16</td>\n",
       "      <td>0.503884</td>\n",
       "      <td>-1.725012</td>\n",
       "      <td>0.796515</td>\n",
       "      <td>-0.567645</td>\n",
       "      <td>0.090235</td>\n",
       "      <td>-2.053469</td>\n",
       "      <td>...</td>\n",
       "      <td>6.550893</td>\n",
       "      <td>0.112319</td>\n",
       "      <td>1.899979</td>\n",
       "      <td>0.083333</td>\n",
       "      <td>0.083333</td>\n",
       "      <td>17.927121</td>\n",
       "      <td>1761</td>\n",
       "      <td>17.264706</td>\n",
       "      <td>-1</td>\n",
       "      <td>edgar carpio solano</td>\n",
       "    </tr>\n",
       "    <tr>\n",
       "      <th>6558</th>\n",
       "      <td>5888679</td>\n",
       "      <td>100</td>\n",
       "      <td>0.580000</td>\n",
       "      <td>12</td>\n",
       "      <td>-0.550687</td>\n",
       "      <td>0.849110</td>\n",
       "      <td>2.226193</td>\n",
       "      <td>1.431359</td>\n",
       "      <td>-0.381744</td>\n",
       "      <td>-0.974569</td>\n",
       "      <td>...</td>\n",
       "      <td>6.445442</td>\n",
       "      <td>0.467898</td>\n",
       "      <td>1.400739</td>\n",
       "      <td>0.027778</td>\n",
       "      <td>0.027778</td>\n",
       "      <td>16.217910</td>\n",
       "      <td>1613</td>\n",
       "      <td>16.130000</td>\n",
       "      <td>-1</td>\n",
       "      <td>hector garcia gonzalez</td>\n",
       "    </tr>\n",
       "    <tr>\n",
       "      <th>90345</th>\n",
       "      <td>35261900</td>\n",
       "      <td>92</td>\n",
       "      <td>4.641304</td>\n",
       "      <td>21</td>\n",
       "      <td>0.442193</td>\n",
       "      <td>-1.627030</td>\n",
       "      <td>0.550022</td>\n",
       "      <td>-0.241166</td>\n",
       "      <td>-0.618360</td>\n",
       "      <td>-2.014425</td>\n",
       "      <td>...</td>\n",
       "      <td>5.664569</td>\n",
       "      <td>0.492840</td>\n",
       "      <td>2.310569</td>\n",
       "      <td>0.033333</td>\n",
       "      <td>0.033333</td>\n",
       "      <td>20.081303</td>\n",
       "      <td>1699</td>\n",
       "      <td>18.467391</td>\n",
       "      <td>-1</td>\n",
       "      <td>diana giovanna yepes rubio</td>\n",
       "    </tr>\n",
       "  </tbody>\n",
       "</table>\n",
       "<p>20 rows × 21 columns</p>\n",
       "</div>"
      ]
     },
     "execution_count": 141,
     "metadata": {},
     "output_type": "execute_result"
    },
    {
     "data": {
      "text/html": [
       "<pre style=\"white-space:pre;overflow-x:auto;line-height:normal;font-family:Menlo,'DejaVu Sans Mono',consolas,'Courier New',monospace\"><span style=\"font-weight: bold\">&lt;</span><span style=\"color: #ff00ff; text-decoration-color: #ff00ff; font-weight: bold\">IPython.core.display.Javascript</span><span style=\"color: #000000; text-decoration-color: #000000\"> object</span><span style=\"font-weight: bold\">&gt;</span>\n",
       "</pre>\n"
      ],
      "text/plain": [
       "\u001b[1m<\u001b[0m\u001b[1;95mIPython.core.display.Javascript\u001b[0m\u001b[39m object\u001b[0m\u001b[1m>\u001b[0m\n"
      ]
     },
     "metadata": {},
     "output_type": "display_data"
    },
    {
     "data": {
      "application/javascript": [
       "\n",
       "            setTimeout(function() {\n",
       "                var nbb_cell_id = 141;\n",
       "                var nbb_unformatted_code = \"df_personas[df_personas[\\\"cluster\\\"] == -1].sort_values(\\n    \\\"index_count\\\", ascending=False\\n).head(20)\";\n",
       "                var nbb_formatted_code = \"df_personas[df_personas[\\\"cluster\\\"] == -1].sort_values(\\n    \\\"index_count\\\", ascending=False\\n).head(20)\";\n",
       "                var nbb_cells = Jupyter.notebook.get_cells();\n",
       "                for (var i = 0; i < nbb_cells.length; ++i) {\n",
       "                    if (nbb_cells[i].input_prompt_number == nbb_cell_id) {\n",
       "                        if (nbb_cells[i].get_text() == nbb_unformatted_code) {\n",
       "                             nbb_cells[i].set_text(nbb_formatted_code);\n",
       "                        }\n",
       "                        break;\n",
       "                    }\n",
       "                }\n",
       "            }, 500);\n",
       "            "
      ]
     },
     "metadata": {},
     "output_type": "display_data"
    }
   ],
   "source": [
    "df_personas[df_personas[\"cluster\"] == -1].sort_values(\n",
    "    \"index_count\", ascending=False\n",
    ").head(20)"
   ]
  }
 ],
 "metadata": {
  "kernelspec": {
   "display_name": "Kedro (secop)",
   "language": "python",
   "name": "kedro_secop"
  },
  "language_info": {
   "codemirror_mode": {
    "name": "ipython",
    "version": 3
   },
   "file_extension": ".py",
   "mimetype": "text/x-python",
   "name": "python",
   "nbconvert_exporter": "python",
   "pygments_lexer": "ipython3",
   "version": "3.10.5"
  }
 },
 "nbformat": 4,
 "nbformat_minor": 5
}
