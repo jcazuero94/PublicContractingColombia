{
 "cells": [
  {
   "cell_type": "code",
   "execution_count": 92,
   "id": "2082d857",
   "metadata": {},
   "outputs": [
    {
     "data": {
      "text/html": [
       "<pre style=\"white-space:pre;overflow-x:auto;line-height:normal;font-family:Menlo,'DejaVu Sans Mono',consolas,'Courier New',monospace\"><span style=\"font-weight: bold\">&lt;</span><span style=\"color: #ff00ff; text-decoration-color: #ff00ff; font-weight: bold\">IPython.core.display.Javascript</span><span style=\"color: #000000; text-decoration-color: #000000\"> object</span><span style=\"font-weight: bold\">&gt;</span>\n",
       "</pre>\n"
      ],
      "text/plain": [
       "\u001b[1m<\u001b[0m\u001b[1;95mIPython.core.display.Javascript\u001b[0m\u001b[39m object\u001b[0m\u001b[1m>\u001b[0m\n"
      ]
     },
     "metadata": {},
     "output_type": "display_data"
    },
    {
     "data": {
      "application/javascript": [
       "\n",
       "            setTimeout(function() {\n",
       "                var nbb_cell_id = 92;\n",
       "                var nbb_unformatted_code = \"import pandas as pd\\nimport numpy as np\\nimport matplotlib.pyplot as plt\\nimport seaborn as sns\";\n",
       "                var nbb_formatted_code = \"import pandas as pd\\nimport numpy as np\\nimport matplotlib.pyplot as plt\\nimport seaborn as sns\";\n",
       "                var nbb_cells = Jupyter.notebook.get_cells();\n",
       "                for (var i = 0; i < nbb_cells.length; ++i) {\n",
       "                    if (nbb_cells[i].input_prompt_number == nbb_cell_id) {\n",
       "                        if (nbb_cells[i].get_text() == nbb_unformatted_code) {\n",
       "                             nbb_cells[i].set_text(nbb_formatted_code);\n",
       "                        }\n",
       "                        break;\n",
       "                    }\n",
       "                }\n",
       "            }, 500);\n",
       "            "
      ]
     },
     "metadata": {},
     "output_type": "display_data"
    }
   ],
   "source": [
    "import pandas as pd\n",
    "import numpy as np\n",
    "import matplotlib.pyplot as plt\n",
    "import seaborn as sns"
   ]
  },
  {
   "cell_type": "code",
   "execution_count": 93,
   "id": "a6044000",
   "metadata": {},
   "outputs": [
    {
     "name": "stdout",
     "output_type": "stream",
     "text": [
      "The nb_black extension is already loaded. To reload it, use:\n",
      "  %reload_ext nb_black\n"
     ]
    },
    {
     "data": {
      "text/html": [
       "<pre style=\"white-space:pre;overflow-x:auto;line-height:normal;font-family:Menlo,'DejaVu Sans Mono',consolas,'Courier New',monospace\"><span style=\"font-weight: bold\">&lt;</span><span style=\"color: #ff00ff; text-decoration-color: #ff00ff; font-weight: bold\">IPython.core.display.Javascript</span><span style=\"color: #000000; text-decoration-color: #000000\"> object</span><span style=\"font-weight: bold\">&gt;</span>\n",
       "</pre>\n"
      ],
      "text/plain": [
       "\u001b[1m<\u001b[0m\u001b[1;95mIPython.core.display.Javascript\u001b[0m\u001b[39m object\u001b[0m\u001b[1m>\u001b[0m\n"
      ]
     },
     "metadata": {},
     "output_type": "display_data"
    },
    {
     "data": {
      "application/javascript": [
       "\n",
       "            setTimeout(function() {\n",
       "                var nbb_cell_id = 93;\n",
       "                var nbb_unformatted_code = \"%load_ext nb_black\";\n",
       "                var nbb_formatted_code = \"%load_ext nb_black\";\n",
       "                var nbb_cells = Jupyter.notebook.get_cells();\n",
       "                for (var i = 0; i < nbb_cells.length; ++i) {\n",
       "                    if (nbb_cells[i].input_prompt_number == nbb_cell_id) {\n",
       "                        if (nbb_cells[i].get_text() == nbb_unformatted_code) {\n",
       "                             nbb_cells[i].set_text(nbb_formatted_code);\n",
       "                        }\n",
       "                        break;\n",
       "                    }\n",
       "                }\n",
       "            }, 500);\n",
       "            "
      ]
     },
     "metadata": {},
     "output_type": "display_data"
    }
   ],
   "source": [
    "%load_ext nb_black"
   ]
  },
  {
   "cell_type": "code",
   "execution_count": 94,
   "id": "6af8bde7",
   "metadata": {},
   "outputs": [
    {
     "data": {
      "text/html": [
       "<pre style=\"white-space:pre;overflow-x:auto;line-height:normal;font-family:Menlo,'DejaVu Sans Mono',consolas,'Courier New',monospace\"><span style=\"color: #7fbfbf; text-decoration-color: #7fbfbf\">[08/12/22 15:15:26] </span><span style=\"color: #000080; text-decoration-color: #000080\">INFO    </span> Loading data from <span style=\"color: #008000; text-decoration-color: #008000\">'secop_2_clean'</span> <span style=\"font-weight: bold\">(</span>ParquetDataSetSecop<span style=\"font-weight: bold\">)</span><span style=\"color: #808000; text-decoration-color: #808000\">...</span>         <a href=\"file:///opt/homebrew/Caskroom/miniforge/base/envs/dm_project/lib/python3.10/site-packages/kedro/io/data_catalog.py\" target=\"_blank\"><span style=\"color: #7f7f7f; text-decoration-color: #7f7f7f\">data_catalog.py</span></a><span style=\"color: #7f7f7f; text-decoration-color: #7f7f7f\">:</span><a href=\"file:///opt/homebrew/Caskroom/miniforge/base/envs/dm_project/lib/python3.10/site-packages/kedro/io/data_catalog.py#343\" target=\"_blank\"><span style=\"color: #7f7f7f; text-decoration-color: #7f7f7f\">343</span></a>\n",
       "</pre>\n"
      ],
      "text/plain": [
       "\u001b[2;36m[08/12/22 15:15:26]\u001b[0m\u001b[2;36m \u001b[0m\u001b[34mINFO    \u001b[0m Loading data from \u001b[32m'secop_2_clean'\u001b[0m \u001b[1m(\u001b[0mParquetDataSetSecop\u001b[1m)\u001b[0m\u001b[33m...\u001b[0m         \u001b]8;id=547662;file:///opt/homebrew/Caskroom/miniforge/base/envs/dm_project/lib/python3.10/site-packages/kedro/io/data_catalog.py\u001b\\\u001b[2mdata_catalog.py\u001b[0m\u001b]8;;\u001b\\\u001b[2m:\u001b[0m\u001b]8;id=628394;file:///opt/homebrew/Caskroom/miniforge/base/envs/dm_project/lib/python3.10/site-packages/kedro/io/data_catalog.py#343\u001b\\\u001b[2m343\u001b[0m\u001b]8;;\u001b\\\n"
      ]
     },
     "metadata": {},
     "output_type": "display_data"
    },
    {
     "data": {
      "text/html": [
       "<pre style=\"white-space:pre;overflow-x:auto;line-height:normal;font-family:Menlo,'DejaVu Sans Mono',consolas,'Courier New',monospace\"><span style=\"font-weight: bold\">&lt;</span><span style=\"color: #ff00ff; text-decoration-color: #ff00ff; font-weight: bold\">IPython.core.display.Javascript</span><span style=\"color: #000000; text-decoration-color: #000000\"> object</span><span style=\"font-weight: bold\">&gt;</span>\n",
       "</pre>\n"
      ],
      "text/plain": [
       "\u001b[1m<\u001b[0m\u001b[1;95mIPython.core.display.Javascript\u001b[0m\u001b[39m object\u001b[0m\u001b[1m>\u001b[0m\n"
      ]
     },
     "metadata": {},
     "output_type": "display_data"
    },
    {
     "data": {
      "application/javascript": [
       "\n",
       "            setTimeout(function() {\n",
       "                var nbb_cell_id = 94;\n",
       "                var nbb_unformatted_code = \"secop_2 = catalog.load(\\\"secop_2_clean\\\")\";\n",
       "                var nbb_formatted_code = \"secop_2 = catalog.load(\\\"secop_2_clean\\\")\";\n",
       "                var nbb_cells = Jupyter.notebook.get_cells();\n",
       "                for (var i = 0; i < nbb_cells.length; ++i) {\n",
       "                    if (nbb_cells[i].input_prompt_number == nbb_cell_id) {\n",
       "                        if (nbb_cells[i].get_text() == nbb_unformatted_code) {\n",
       "                             nbb_cells[i].set_text(nbb_formatted_code);\n",
       "                        }\n",
       "                        break;\n",
       "                    }\n",
       "                }\n",
       "            }, 500);\n",
       "            "
      ]
     },
     "metadata": {},
     "output_type": "display_data"
    }
   ],
   "source": [
    "secop_2 = catalog.load(\"secop_2_clean\")"
   ]
  },
  {
   "cell_type": "code",
   "execution_count": 95,
   "id": "9fd5667b",
   "metadata": {},
   "outputs": [
    {
     "data": {
      "text/html": [
       "<pre style=\"white-space:pre;overflow-x:auto;line-height:normal;font-family:Menlo,'DejaVu Sans Mono',consolas,'Courier New',monospace\">\n",
       "<span style=\"color: #800080; text-decoration-color: #800080; font-weight: bold\">Index</span><span style=\"font-weight: bold\">([</span><span style=\"color: #008000; text-decoration-color: #008000\">'entidad'</span>, <span style=\"color: #008000; text-decoration-color: #008000\">'departamento_entidad'</span>, <span style=\"color: #008000; text-decoration-color: #008000\">'ciudad_entidad'</span>, <span style=\"color: #008000; text-decoration-color: #008000\">'ordenentidad'</span>,\n",
       "       <span style=\"color: #008000; text-decoration-color: #008000\">'id_del_proceso'</span>, <span style=\"color: #008000; text-decoration-color: #008000\">'referencia_del_proceso'</span>, <span style=\"color: #008000; text-decoration-color: #008000\">'nombre_del_procedimiento'</span>,\n",
       "       <span style=\"color: #008000; text-decoration-color: #008000\">'descripci_n_del_procedimiento'</span>, <span style=\"color: #008000; text-decoration-color: #008000\">'modalidad_de_contratacion'</span>,\n",
       "       <span style=\"color: #008000; text-decoration-color: #008000\">'proveedores_invitados'</span>, <span style=\"color: #008000; text-decoration-color: #008000\">'proveedores_con_invitacion'</span>,\n",
       "       <span style=\"color: #008000; text-decoration-color: #008000\">'respuestas_al_procedimiento'</span>, <span style=\"color: #008000; text-decoration-color: #008000\">'respuestas_externas'</span>,\n",
       "       <span style=\"color: #008000; text-decoration-color: #008000\">'conteo_de_respuestas_a_ofertas'</span>, <span style=\"color: #008000; text-decoration-color: #008000\">'proveedores_unicos_con'</span>,\n",
       "       <span style=\"color: #008000; text-decoration-color: #008000\">'departamento_proveedor'</span>, <span style=\"color: #008000; text-decoration-color: #008000\">'ciudad_proveedor'</span>,\n",
       "       <span style=\"color: #008000; text-decoration-color: #008000\">'valor_total_adjudicacion'</span>, <span style=\"color: #008000; text-decoration-color: #008000\">'nombre_del_adjudicador'</span>,\n",
       "       <span style=\"color: #008000; text-decoration-color: #008000\">'nombre_del_proveedor'</span>, <span style=\"color: #008000; text-decoration-color: #008000\">'nit_del_proveedor_adjudicado'</span>,\n",
       "       <span style=\"color: #008000; text-decoration-color: #008000\">'fecha_de_publicacion_del'</span>, <span style=\"color: #008000; text-decoration-color: #008000\">'fecha_de_ultima_publicaci'</span>,\n",
       "       <span style=\"color: #008000; text-decoration-color: #008000\">'fecha_de_publicacion_fase_3'</span>, <span style=\"color: #008000; text-decoration-color: #008000\">'fecha_de_recepcion_de'</span>,\n",
       "       <span style=\"color: #008000; text-decoration-color: #008000\">'fecha_de_apertura_efectiva'</span>, <span style=\"color: #008000; text-decoration-color: #008000\">'nit_entidad'</span>, <span style=\"color: #008000; text-decoration-color: #008000\">'duracion_dias'</span>,\n",
       "       <span style=\"color: #008000; text-decoration-color: #008000\">'publication_year'</span><span style=\"font-weight: bold\">]</span>,\n",
       "      <span style=\"color: #808000; text-decoration-color: #808000\">dtype</span>=<span style=\"color: #008000; text-decoration-color: #008000\">'object'</span><span style=\"font-weight: bold\">)</span>\n",
       "</pre>\n"
      ],
      "text/plain": [
       "\n",
       "\u001b[1;35mIndex\u001b[0m\u001b[1m(\u001b[0m\u001b[1m[\u001b[0m\u001b[32m'entidad'\u001b[0m, \u001b[32m'departamento_entidad'\u001b[0m, \u001b[32m'ciudad_entidad'\u001b[0m, \u001b[32m'ordenentidad'\u001b[0m,\n",
       "       \u001b[32m'id_del_proceso'\u001b[0m, \u001b[32m'referencia_del_proceso'\u001b[0m, \u001b[32m'nombre_del_procedimiento'\u001b[0m,\n",
       "       \u001b[32m'descripci_n_del_procedimiento'\u001b[0m, \u001b[32m'modalidad_de_contratacion'\u001b[0m,\n",
       "       \u001b[32m'proveedores_invitados'\u001b[0m, \u001b[32m'proveedores_con_invitacion'\u001b[0m,\n",
       "       \u001b[32m'respuestas_al_procedimiento'\u001b[0m, \u001b[32m'respuestas_externas'\u001b[0m,\n",
       "       \u001b[32m'conteo_de_respuestas_a_ofertas'\u001b[0m, \u001b[32m'proveedores_unicos_con'\u001b[0m,\n",
       "       \u001b[32m'departamento_proveedor'\u001b[0m, \u001b[32m'ciudad_proveedor'\u001b[0m,\n",
       "       \u001b[32m'valor_total_adjudicacion'\u001b[0m, \u001b[32m'nombre_del_adjudicador'\u001b[0m,\n",
       "       \u001b[32m'nombre_del_proveedor'\u001b[0m, \u001b[32m'nit_del_proveedor_adjudicado'\u001b[0m,\n",
       "       \u001b[32m'fecha_de_publicacion_del'\u001b[0m, \u001b[32m'fecha_de_ultima_publicaci'\u001b[0m,\n",
       "       \u001b[32m'fecha_de_publicacion_fase_3'\u001b[0m, \u001b[32m'fecha_de_recepcion_de'\u001b[0m,\n",
       "       \u001b[32m'fecha_de_apertura_efectiva'\u001b[0m, \u001b[32m'nit_entidad'\u001b[0m, \u001b[32m'duracion_dias'\u001b[0m,\n",
       "       \u001b[32m'publication_year'\u001b[0m\u001b[1m]\u001b[0m,\n",
       "      \u001b[33mdtype\u001b[0m=\u001b[32m'object'\u001b[0m\u001b[1m)\u001b[0m\n"
      ]
     },
     "metadata": {},
     "output_type": "display_data"
    },
    {
     "data": {
      "text/html": [
       "<pre style=\"white-space:pre;overflow-x:auto;line-height:normal;font-family:Menlo,'DejaVu Sans Mono',consolas,'Courier New',monospace\"><span style=\"font-weight: bold\">&lt;</span><span style=\"color: #ff00ff; text-decoration-color: #ff00ff; font-weight: bold\">IPython.core.display.Javascript</span><span style=\"color: #000000; text-decoration-color: #000000\"> object</span><span style=\"font-weight: bold\">&gt;</span>\n",
       "</pre>\n"
      ],
      "text/plain": [
       "\u001b[1m<\u001b[0m\u001b[1;95mIPython.core.display.Javascript\u001b[0m\u001b[39m object\u001b[0m\u001b[1m>\u001b[0m\n"
      ]
     },
     "metadata": {},
     "output_type": "display_data"
    },
    {
     "data": {
      "application/javascript": [
       "\n",
       "            setTimeout(function() {\n",
       "                var nbb_cell_id = 95;\n",
       "                var nbb_unformatted_code = \"secop_2.columns\";\n",
       "                var nbb_formatted_code = \"secop_2.columns\";\n",
       "                var nbb_cells = Jupyter.notebook.get_cells();\n",
       "                for (var i = 0; i < nbb_cells.length; ++i) {\n",
       "                    if (nbb_cells[i].input_prompt_number == nbb_cell_id) {\n",
       "                        if (nbb_cells[i].get_text() == nbb_unformatted_code) {\n",
       "                             nbb_cells[i].set_text(nbb_formatted_code);\n",
       "                        }\n",
       "                        break;\n",
       "                    }\n",
       "                }\n",
       "            }, 500);\n",
       "            "
      ]
     },
     "metadata": {},
     "output_type": "display_data"
    }
   ],
   "source": [
    "secop_2.columns"
   ]
  },
  {
   "cell_type": "code",
   "execution_count": 112,
   "id": "735bccdb",
   "metadata": {},
   "outputs": [
    {
     "data": {
      "text/html": [
       "<div>\n",
       "<style scoped>\n",
       "    .dataframe tbody tr th:only-of-type {\n",
       "        vertical-align: middle;\n",
       "    }\n",
       "\n",
       "    .dataframe tbody tr th {\n",
       "        vertical-align: top;\n",
       "    }\n",
       "\n",
       "    .dataframe thead th {\n",
       "        text-align: right;\n",
       "    }\n",
       "</style>\n",
       "<table border=\"1\" class=\"dataframe\">\n",
       "  <thead>\n",
       "    <tr style=\"text-align: right;\">\n",
       "      <th></th>\n",
       "      <th>entidad</th>\n",
       "      <th>nombre_del_procedimiento</th>\n",
       "      <th>modalidad_de_contratacion</th>\n",
       "      <th>valor_total_adjudicacion</th>\n",
       "      <th>fecha_de_publicacion_del</th>\n",
       "      <th>id_del_proceso</th>\n",
       "    </tr>\n",
       "  </thead>\n",
       "  <tbody>\n",
       "    <tr>\n",
       "      <th>1450562</th>\n",
       "      <td>agencia logistica de las fuerzas militares</td>\n",
       "      <td>COMISION VIVERES 1</td>\n",
       "      <td>regimen especial</td>\n",
       "      <td>6304500000000</td>\n",
       "      <td>2020-04-03</td>\n",
       "      <td>CO1.REQ.1138314</td>\n",
       "    </tr>\n",
       "    <tr>\n",
       "      <th>1336160</th>\n",
       "      <td>secretaria de educacion del distrito</td>\n",
       "      <td>CONSTRUCCIÓN DE LA NUEVA PLANTA FÍSICA Y CERRA...</td>\n",
       "      <td>licitacion publica</td>\n",
       "      <td>13212285859000</td>\n",
       "      <td>2021-03-23</td>\n",
       "      <td>CO1.REQ.1911345</td>\n",
       "    </tr>\n",
       "    <tr>\n",
       "      <th>1368920</th>\n",
       "      <td>empresa colombiana de petroleos</td>\n",
       "      <td>Financiación Adquisición ISA</td>\n",
       "      <td>contratacion directa</td>\n",
       "      <td>14236814025000</td>\n",
       "      <td>2021-08-25</td>\n",
       "      <td>CO1.REQ.2258115</td>\n",
       "    </tr>\n",
       "    <tr>\n",
       "      <th>425722</th>\n",
       "      <td>instituto colombiano de antropologia e historia</td>\n",
       "      <td>Prestación de servicios en el apoyo al manteni...</td>\n",
       "      <td>contratacion directa</td>\n",
       "      <td>14949999999990</td>\n",
       "      <td>2017-01-13</td>\n",
       "      <td>CO1.REQ.121910</td>\n",
       "    </tr>\n",
       "    <tr>\n",
       "      <th>425443</th>\n",
       "      <td>instituto colombiano de antropologia e historia</td>\n",
       "      <td>Prestar los servicios en mano de obra no calif...</td>\n",
       "      <td>contratacion directa</td>\n",
       "      <td>16674999999900</td>\n",
       "      <td>2017-01-13</td>\n",
       "      <td>CO1.REQ.122126</td>\n",
       "    </tr>\n",
       "    <tr>\n",
       "      <th>1073014</th>\n",
       "      <td>departamento administrativo nacional de estadi...</td>\n",
       "      <td>SONIA JOHANNA CASTAÑEDA SUAREZ</td>\n",
       "      <td>contratacion directa</td>\n",
       "      <td>17110632250000</td>\n",
       "      <td>2018-10-16</td>\n",
       "      <td>CO1.REQ.588080</td>\n",
       "    </tr>\n",
       "    <tr>\n",
       "      <th>1772963</th>\n",
       "      <td>subred integrada de servicio de salud centro o...</td>\n",
       "      <td>PRESTAR SERVICIOS COMO PROFESIONAL UNIVERSITAR...</td>\n",
       "      <td>regimen especial</td>\n",
       "      <td>31360000000000</td>\n",
       "      <td>2018-04-19</td>\n",
       "      <td>CO1.REQ.413577</td>\n",
       "    </tr>\n",
       "    <tr>\n",
       "      <th>426490</th>\n",
       "      <td>instituto colombiano de antropologia e historia</td>\n",
       "      <td>Prestar sus servicios profesionales para regis...</td>\n",
       "      <td>contratacion directa</td>\n",
       "      <td>31624999997700</td>\n",
       "      <td>2017-01-14</td>\n",
       "      <td>CO1.REQ.121984</td>\n",
       "    </tr>\n",
       "    <tr>\n",
       "      <th>1054177</th>\n",
       "      <td>departamento nacional de planeacion</td>\n",
       "      <td>FONADE</td>\n",
       "      <td>contratacion directa</td>\n",
       "      <td>69855739739625</td>\n",
       "      <td>2016-12-27</td>\n",
       "      <td>CO1.REQ.117008</td>\n",
       "    </tr>\n",
       "    <tr>\n",
       "      <th>1097002</th>\n",
       "      <td>sena regional santander grupo administrativo cata</td>\n",
       "      <td>EVALUADOR CONSTRUCCIÓN E INFRAESTRUCTURA</td>\n",
       "      <td>contratacion directa</td>\n",
       "      <td>107495424000000</td>\n",
       "      <td>2020-02-24</td>\n",
       "      <td>CO1.REQ.1168287</td>\n",
       "    </tr>\n",
       "    <tr>\n",
       "      <th>660795</th>\n",
       "      <td>santiago de cali distrito especial  departamen...</td>\n",
       "      <td>LITOGRAFÍA</td>\n",
       "      <td>menor cuantia</td>\n",
       "      <td>313455520000000</td>\n",
       "      <td>2022-03-02</td>\n",
       "      <td>CO1.REQ.2924998</td>\n",
       "    </tr>\n",
       "    <tr>\n",
       "      <th>33635</th>\n",
       "      <td>municipio de puerto colombia</td>\n",
       "      <td>CONVENIO SOLIDARIO</td>\n",
       "      <td>regimen especial</td>\n",
       "      <td>640945425610000</td>\n",
       "      <td>2021-11-25</td>\n",
       "      <td>CO1.REQ.2482824</td>\n",
       "    </tr>\n",
       "    <tr>\n",
       "      <th>804298</th>\n",
       "      <td>municipio de rionegro</td>\n",
       "      <td>GARANTIZAR LA PRESTACIÓN DE LOS SERVICIOS FUNE...</td>\n",
       "      <td>menor cuantia</td>\n",
       "      <td>813880846788409</td>\n",
       "      <td>2020-11-18</td>\n",
       "      <td>CO1.REQ.1615047</td>\n",
       "    </tr>\n",
       "    <tr>\n",
       "      <th>721316</th>\n",
       "      <td>alcaldia municipal de san estanislao de kostka</td>\n",
       "      <td>brindar a los niños del municipio un espacio d...</td>\n",
       "      <td>regimen especial</td>\n",
       "      <td>2025000000000000</td>\n",
       "      <td>2018-04-23</td>\n",
       "      <td>CO1.REQ.417139</td>\n",
       "    </tr>\n",
       "    <tr>\n",
       "      <th>1425610</th>\n",
       "      <td>departamento de cundinamarca secretaria de salud</td>\n",
       "      <td>CALIDAD LABORATORIO</td>\n",
       "      <td>menor cuantia</td>\n",
       "      <td>6158661742599964</td>\n",
       "      <td>2020-05-08</td>\n",
       "      <td>CO1.REQ.1276545</td>\n",
       "    </tr>\n",
       "    <tr>\n",
       "      <th>801854</th>\n",
       "      <td>municipio de envigado</td>\n",
       "      <td>AUNAR ESFUERZOS PARA EL FESTIVAL DE LA JUVENTUD</td>\n",
       "      <td>regimen especial</td>\n",
       "      <td>8839189460374700</td>\n",
       "      <td>2019-08-12</td>\n",
       "      <td>CO1.REQ.935647</td>\n",
       "    </tr>\n",
       "    <tr>\n",
       "      <th>974922</th>\n",
       "      <td>municipio de firavitoba</td>\n",
       "      <td>CREAR CONDICIONES Y AUNAR ESFUERZOS PARA IMPUL...</td>\n",
       "      <td>regimen especial</td>\n",
       "      <td>11877456456257536</td>\n",
       "      <td>2018-08-03</td>\n",
       "      <td>CO1.REQ.510626</td>\n",
       "    </tr>\n",
       "    <tr>\n",
       "      <th>285634</th>\n",
       "      <td>instituto municipal del deporte y la recreacio...</td>\n",
       "      <td>COMPRA DE TRACTORES Y UNA MAQUINA GREENERA MAN...</td>\n",
       "      <td>menor cuantia</td>\n",
       "      <td>12858450316000000</td>\n",
       "      <td>2021-11-25</td>\n",
       "      <td>CO1.REQ.2482708</td>\n",
       "    </tr>\n",
       "    <tr>\n",
       "      <th>382032</th>\n",
       "      <td>ministerio de cultura</td>\n",
       "      <td>PROCESO DE CONTRATACIÓN DIRECTA</td>\n",
       "      <td>contratacion directa</td>\n",
       "      <td>39251534400000000</td>\n",
       "      <td>2018-10-04</td>\n",
       "      <td>CO1.REQ.578140</td>\n",
       "    </tr>\n",
       "    <tr>\n",
       "      <th>181559</th>\n",
       "      <td>rama judicial  direccion seccional de administ...</td>\n",
       "      <td>Interventoría integral a la instalación yo man...</td>\n",
       "      <td>concurso meritos</td>\n",
       "      <td>136974052809139000</td>\n",
       "      <td>2021-12-09</td>\n",
       "      <td>CO1.REQ.2512422</td>\n",
       "    </tr>\n",
       "  </tbody>\n",
       "</table>\n",
       "</div>"
      ]
     },
     "execution_count": 112,
     "metadata": {},
     "output_type": "execute_result"
    },
    {
     "data": {
      "text/html": [
       "<pre style=\"white-space:pre;overflow-x:auto;line-height:normal;font-family:Menlo,'DejaVu Sans Mono',consolas,'Courier New',monospace\"><span style=\"font-weight: bold\">&lt;</span><span style=\"color: #ff00ff; text-decoration-color: #ff00ff; font-weight: bold\">IPython.core.display.Javascript</span><span style=\"color: #000000; text-decoration-color: #000000\"> object</span><span style=\"font-weight: bold\">&gt;</span>\n",
       "</pre>\n"
      ],
      "text/plain": [
       "\u001b[1m<\u001b[0m\u001b[1;95mIPython.core.display.Javascript\u001b[0m\u001b[39m object\u001b[0m\u001b[1m>\u001b[0m\n"
      ]
     },
     "metadata": {},
     "output_type": "display_data"
    },
    {
     "data": {
      "application/javascript": [
       "\n",
       "            setTimeout(function() {\n",
       "                var nbb_cell_id = 112;\n",
       "                var nbb_unformatted_code = \"secop_2.sort_values(\\\"valor_total_adjudicacion\\\")[\\n    [\\n        \\\"entidad\\\",\\n        \\\"nombre_del_procedimiento\\\",\\\"modalidad_de_contratacion\\\",\\n        \\\"valor_total_adjudicacion\\\",\\n        \\\"fecha_de_publicacion_del\\\",\\n        \\\"id_del_proceso\\\",\\n    ]\\n].tail(20)\";\n",
       "                var nbb_formatted_code = \"secop_2.sort_values(\\\"valor_total_adjudicacion\\\")[\\n    [\\n        \\\"entidad\\\",\\n        \\\"nombre_del_procedimiento\\\",\\n        \\\"modalidad_de_contratacion\\\",\\n        \\\"valor_total_adjudicacion\\\",\\n        \\\"fecha_de_publicacion_del\\\",\\n        \\\"id_del_proceso\\\",\\n    ]\\n].tail(20)\";\n",
       "                var nbb_cells = Jupyter.notebook.get_cells();\n",
       "                for (var i = 0; i < nbb_cells.length; ++i) {\n",
       "                    if (nbb_cells[i].input_prompt_number == nbb_cell_id) {\n",
       "                        if (nbb_cells[i].get_text() == nbb_unformatted_code) {\n",
       "                             nbb_cells[i].set_text(nbb_formatted_code);\n",
       "                        }\n",
       "                        break;\n",
       "                    }\n",
       "                }\n",
       "            }, 500);\n",
       "            "
      ]
     },
     "metadata": {},
     "output_type": "display_data"
    }
   ],
   "source": [
    "secop_2.sort_values(\"valor_total_adjudicacion\")[\n",
    "    [\n",
    "        \"entidad\",\n",
    "        \"nombre_del_procedimiento\",\n",
    "        \"modalidad_de_contratacion\",\n",
    "        \"valor_total_adjudicacion\",\n",
    "        \"fecha_de_publicacion_del\",\n",
    "        \"id_del_proceso\",\n",
    "    ]\n",
    "].tail(20)"
   ]
  },
  {
   "cell_type": "code",
   "execution_count": null,
   "id": "5ce378ea",
   "metadata": {},
   "outputs": [],
   "source": []
  },
  {
   "cell_type": "code",
   "execution_count": null,
   "id": "087cda03",
   "metadata": {},
   "outputs": [],
   "source": []
  },
  {
   "cell_type": "code",
   "execution_count": null,
   "id": "4439a038",
   "metadata": {},
   "outputs": [],
   "source": []
  },
  {
   "cell_type": "code",
   "execution_count": null,
   "id": "7d3f9e4b",
   "metadata": {},
   "outputs": [],
   "source": []
  },
  {
   "cell_type": "code",
   "execution_count": 98,
   "id": "3625c235",
   "metadata": {},
   "outputs": [
    {
     "data": {
      "text/html": [
       "<pre style=\"white-space:pre;overflow-x:auto;line-height:normal;font-family:Menlo,'DejaVu Sans Mono',consolas,'Courier New',monospace\">\n",
       "fecha_de_publicacion_fase_3     <span style=\"color: #008080; text-decoration-color: #008080; font-weight: bold\">4.131981</span>\n",
       "fecha_de_recepcion_de          <span style=\"color: #008080; text-decoration-color: #008080; font-weight: bold\">81.355720</span>\n",
       "fecha_de_apertura_efectiva     <span style=\"color: #008080; text-decoration-color: #008080; font-weight: bold\">81.435744</span>\n",
       "dtype: float64\n",
       "</pre>\n"
      ],
      "text/plain": [
       "\n",
       "fecha_de_publicacion_fase_3     \u001b[1;36m4.131981\u001b[0m\n",
       "fecha_de_recepcion_de          \u001b[1;36m81.355720\u001b[0m\n",
       "fecha_de_apertura_efectiva     \u001b[1;36m81.435744\u001b[0m\n",
       "dtype: float64\n"
      ]
     },
     "metadata": {},
     "output_type": "display_data"
    },
    {
     "data": {
      "text/html": [
       "<pre style=\"white-space:pre;overflow-x:auto;line-height:normal;font-family:Menlo,'DejaVu Sans Mono',consolas,'Courier New',monospace\"><span style=\"font-weight: bold\">&lt;</span><span style=\"color: #ff00ff; text-decoration-color: #ff00ff; font-weight: bold\">IPython.core.display.Javascript</span><span style=\"color: #000000; text-decoration-color: #000000\"> object</span><span style=\"font-weight: bold\">&gt;</span>\n",
       "</pre>\n"
      ],
      "text/plain": [
       "\u001b[1m<\u001b[0m\u001b[1;95mIPython.core.display.Javascript\u001b[0m\u001b[39m object\u001b[0m\u001b[1m>\u001b[0m\n"
      ]
     },
     "metadata": {},
     "output_type": "display_data"
    },
    {
     "data": {
      "application/javascript": [
       "\n",
       "            setTimeout(function() {\n",
       "                var nbb_cell_id = 98;\n",
       "                var nbb_unformatted_code = \"ser = secop_2.isna().mean() * 100\\nser[ser>0]\";\n",
       "                var nbb_formatted_code = \"ser = secop_2.isna().mean() * 100\\nser[ser > 0]\";\n",
       "                var nbb_cells = Jupyter.notebook.get_cells();\n",
       "                for (var i = 0; i < nbb_cells.length; ++i) {\n",
       "                    if (nbb_cells[i].input_prompt_number == nbb_cell_id) {\n",
       "                        if (nbb_cells[i].get_text() == nbb_unformatted_code) {\n",
       "                             nbb_cells[i].set_text(nbb_formatted_code);\n",
       "                        }\n",
       "                        break;\n",
       "                    }\n",
       "                }\n",
       "            }, 500);\n",
       "            "
      ]
     },
     "metadata": {},
     "output_type": "display_data"
    }
   ],
   "source": [
    "ser = secop_2.isna().mean() * 100\n",
    "ser[ser > 0]"
   ]
  },
  {
   "cell_type": "code",
   "execution_count": null,
   "id": "9ebe5c26",
   "metadata": {},
   "outputs": [],
   "source": []
  },
  {
   "cell_type": "code",
   "execution_count": null,
   "id": "40cf3156",
   "metadata": {},
   "outputs": [],
   "source": []
  },
  {
   "cell_type": "code",
   "execution_count": null,
   "id": "da391063",
   "metadata": {},
   "outputs": [],
   "source": []
  },
  {
   "cell_type": "code",
   "execution_count": null,
   "id": "09a84317",
   "metadata": {},
   "outputs": [],
   "source": []
  },
  {
   "cell_type": "code",
   "execution_count": null,
   "id": "f62becd6",
   "metadata": {},
   "outputs": [],
   "source": []
  },
  {
   "cell_type": "code",
   "execution_count": null,
   "id": "13b9c39e",
   "metadata": {},
   "outputs": [],
   "source": [
    "def summarize_field(df: pd.DataFrame, col:str):"
   ]
  },
  {
   "cell_type": "code",
   "execution_count": 99,
   "id": "4d3210c5",
   "metadata": {},
   "outputs": [
    {
     "data": {
      "text/html": [
       "<pre style=\"white-space:pre;overflow-x:auto;line-height:normal;font-family:Menlo,'DejaVu Sans Mono',consolas,'Courier New',monospace\"><span style=\"font-weight: bold\">&lt;</span><span style=\"color: #ff00ff; text-decoration-color: #ff00ff; font-weight: bold\">IPython.core.display.Javascript</span><span style=\"color: #000000; text-decoration-color: #000000\"> object</span><span style=\"font-weight: bold\">&gt;</span>\n",
       "</pre>\n"
      ],
      "text/plain": [
       "\u001b[1m<\u001b[0m\u001b[1;95mIPython.core.display.Javascript\u001b[0m\u001b[39m object\u001b[0m\u001b[1m>\u001b[0m\n"
      ]
     },
     "metadata": {},
     "output_type": "display_data"
    },
    {
     "data": {
      "application/javascript": [
       "\n",
       "            setTimeout(function() {\n",
       "                var nbb_cell_id = 99;\n",
       "                var nbb_unformatted_code = \"df = secop_2\";\n",
       "                var nbb_formatted_code = \"df = secop_2\";\n",
       "                var nbb_cells = Jupyter.notebook.get_cells();\n",
       "                for (var i = 0; i < nbb_cells.length; ++i) {\n",
       "                    if (nbb_cells[i].input_prompt_number == nbb_cell_id) {\n",
       "                        if (nbb_cells[i].get_text() == nbb_unformatted_code) {\n",
       "                             nbb_cells[i].set_text(nbb_formatted_code);\n",
       "                        }\n",
       "                        break;\n",
       "                    }\n",
       "                }\n",
       "            }, 500);\n",
       "            "
      ]
     },
     "metadata": {},
     "output_type": "display_data"
    }
   ],
   "source": [
    "df = secop_2"
   ]
  },
  {
   "cell_type": "code",
   "execution_count": 100,
   "id": "e776acad",
   "metadata": {},
   "outputs": [
    {
     "data": {
      "text/html": [
       "<pre style=\"white-space:pre;overflow-x:auto;line-height:normal;font-family:Menlo,'DejaVu Sans Mono',consolas,'Courier New',monospace\"><span style=\"font-weight: bold\">&lt;</span><span style=\"color: #ff00ff; text-decoration-color: #ff00ff; font-weight: bold\">IPython.core.display.Javascript</span><span style=\"color: #000000; text-decoration-color: #000000\"> object</span><span style=\"font-weight: bold\">&gt;</span>\n",
       "</pre>\n"
      ],
      "text/plain": [
       "\u001b[1m<\u001b[0m\u001b[1;95mIPython.core.display.Javascript\u001b[0m\u001b[39m object\u001b[0m\u001b[1m>\u001b[0m\n"
      ]
     },
     "metadata": {},
     "output_type": "display_data"
    },
    {
     "data": {
      "application/javascript": [
       "\n",
       "            setTimeout(function() {\n",
       "                var nbb_cell_id = 100;\n",
       "                var nbb_unformatted_code = \"col = \\\"departamento_entidad\\\"\";\n",
       "                var nbb_formatted_code = \"col = \\\"departamento_entidad\\\"\";\n",
       "                var nbb_cells = Jupyter.notebook.get_cells();\n",
       "                for (var i = 0; i < nbb_cells.length; ++i) {\n",
       "                    if (nbb_cells[i].input_prompt_number == nbb_cell_id) {\n",
       "                        if (nbb_cells[i].get_text() == nbb_unformatted_code) {\n",
       "                             nbb_cells[i].set_text(nbb_formatted_code);\n",
       "                        }\n",
       "                        break;\n",
       "                    }\n",
       "                }\n",
       "            }, 500);\n",
       "            "
      ]
     },
     "metadata": {},
     "output_type": "display_data"
    }
   ],
   "source": [
    "col = \"departamento_entidad\""
   ]
  },
  {
   "cell_type": "code",
   "execution_count": 101,
   "id": "d0bdcaac",
   "metadata": {
    "scrolled": false
   },
   "outputs": [
    {
     "data": {
      "text/html": [
       "<pre style=\"white-space:pre;overflow-x:auto;line-height:normal;font-family:Menlo,'DejaVu Sans Mono',consolas,'Courier New',monospace\"><span style=\"font-weight: bold\">&lt;</span><span style=\"color: #ff00ff; text-decoration-color: #ff00ff; font-weight: bold\">IPython.core.display.Javascript</span><span style=\"color: #000000; text-decoration-color: #000000\"> object</span><span style=\"font-weight: bold\">&gt;</span>\n",
       "</pre>\n"
      ],
      "text/plain": [
       "\u001b[1m<\u001b[0m\u001b[1;95mIPython.core.display.Javascript\u001b[0m\u001b[39m object\u001b[0m\u001b[1m>\u001b[0m\n"
      ]
     },
     "metadata": {},
     "output_type": "display_data"
    },
    {
     "data": {
      "application/javascript": [
       "\n",
       "            setTimeout(function() {\n",
       "                var nbb_cell_id = 101;\n",
       "                var nbb_unformatted_code = \"res_grp = (\\n    df[[col, \\\"valor_total_adjudicacion\\\", \\\"publication_year\\\"]]\\n    .groupby([col, \\\"publication_year\\\"])\\n    .agg({\\\"valor_total_adjudicacion\\\": [\\\"sum\\\", \\\"count\\\"]})[\\\"valor_total_adjudicacion\\\"]\\n)\";\n",
       "                var nbb_formatted_code = \"res_grp = (\\n    df[[col, \\\"valor_total_adjudicacion\\\", \\\"publication_year\\\"]]\\n    .groupby([col, \\\"publication_year\\\"])\\n    .agg({\\\"valor_total_adjudicacion\\\": [\\\"sum\\\", \\\"count\\\"]})[\\\"valor_total_adjudicacion\\\"]\\n)\";\n",
       "                var nbb_cells = Jupyter.notebook.get_cells();\n",
       "                for (var i = 0; i < nbb_cells.length; ++i) {\n",
       "                    if (nbb_cells[i].input_prompt_number == nbb_cell_id) {\n",
       "                        if (nbb_cells[i].get_text() == nbb_unformatted_code) {\n",
       "                             nbb_cells[i].set_text(nbb_formatted_code);\n",
       "                        }\n",
       "                        break;\n",
       "                    }\n",
       "                }\n",
       "            }, 500);\n",
       "            "
      ]
     },
     "metadata": {},
     "output_type": "display_data"
    }
   ],
   "source": [
    "res_grp = (\n",
    "    df[[col, \"valor_total_adjudicacion\", \"publication_year\"]]\n",
    "    .groupby([col, \"publication_year\"])\n",
    "    .agg({\"valor_total_adjudicacion\": [\"sum\", \"count\"]})[\"valor_total_adjudicacion\"]\n",
    ")"
   ]
  },
  {
   "cell_type": "code",
   "execution_count": 103,
   "id": "8e1245a2",
   "metadata": {},
   "outputs": [
    {
     "data": {
      "image/png": "[encoded data removed]"
     },
     "metadata": {
      "needs_background": "light"
     },
     "output_type": "display_data"
    },
    {
     "data": {
      "text/html": [
       "<pre style=\"white-space:pre;overflow-x:auto;line-height:normal;font-family:Menlo,'DejaVu Sans Mono',consolas,'Courier New',monospace\"><span style=\"font-weight: bold\">&lt;</span><span style=\"color: #ff00ff; text-decoration-color: #ff00ff; font-weight: bold\">IPython.core.display.Javascript</span><span style=\"color: #000000; text-decoration-color: #000000\"> object</span><span style=\"font-weight: bold\">&gt;</span>\n",
       "</pre>\n"
      ],
      "text/plain": [
       "\u001b[1m<\u001b[0m\u001b[1;95mIPython.core.display.Javascript\u001b[0m\u001b[39m object\u001b[0m\u001b[1m>\u001b[0m\n"
      ]
     },
     "metadata": {},
     "output_type": "display_data"
    },
    {
     "data": {
      "application/javascript": [
       "\n",
       "            setTimeout(function() {\n",
       "                var nbb_cell_id = 103;\n",
       "                var nbb_unformatted_code = \"sns.lineplot(\\n    data=res_grp.reset_index(),\\n    x=\\\"publication_year\\\",\\n    y=\\\"count\\\",\\n    hue=col,\\n)\";\n",
       "                var nbb_formatted_code = \"sns.lineplot(\\n    data=res_grp.reset_index(),\\n    x=\\\"publication_year\\\",\\n    y=\\\"count\\\",\\n    hue=col,\\n)\";\n",
       "                var nbb_cells = Jupyter.notebook.get_cells();\n",
       "                for (var i = 0; i < nbb_cells.length; ++i) {\n",
       "                    if (nbb_cells[i].input_prompt_number == nbb_cell_id) {\n",
       "                        if (nbb_cells[i].get_text() == nbb_unformatted_code) {\n",
       "                             nbb_cells[i].set_text(nbb_formatted_code);\n",
       "                        }\n",
       "                        break;\n",
       "                    }\n",
       "                }\n",
       "            }, 500);\n",
       "            "
      ]
     },
     "metadata": {},
     "output_type": "display_data"
    }
   ],
   "source": [
    "sns.lineplot(\n",
    "    data=res_grp.reset_index(),\n",
    "    x=\"publication_year\",\n",
    "    y=\"count\",\n",
    "    hue=col,\n",
    ")"
   ]
  },
  {
   "cell_type": "code",
   "execution_count": null,
   "id": "8432afe3",
   "metadata": {},
   "outputs": [],
   "source": []
  },
  {
   "cell_type": "code",
   "execution_count": null,
   "id": "8cf2be5b",
   "metadata": {},
   "outputs": [],
   "source": []
  },
  {
   "cell_type": "code",
   "execution_count": null,
   "id": "19091987",
   "metadata": {},
   "outputs": [],
   "source": []
  },
  {
   "cell_type": "code",
   "execution_count": null,
   "id": "365f770f",
   "metadata": {},
   "outputs": [],
   "source": []
  },
  {
   "cell_type": "code",
   "execution_count": 34,
   "id": "fa4066e5",
   "metadata": {
    "scrolled": true
   },
   "outputs": [
    {
     "data": {
      "text/html": [
       "<div>\n",
       "<style scoped>\n",
       "    .dataframe tbody tr th:only-of-type {\n",
       "        vertical-align: middle;\n",
       "    }\n",
       "\n",
       "    .dataframe tbody tr th {\n",
       "        vertical-align: top;\n",
       "    }\n",
       "\n",
       "    .dataframe thead th {\n",
       "        text-align: right;\n",
       "    }\n",
       "</style>\n",
       "<table border=\"1\" class=\"dataframe\">\n",
       "  <thead>\n",
       "    <tr style=\"text-align: right;\">\n",
       "      <th></th>\n",
       "      <th>proveedores_invitados</th>\n",
       "      <th>proveedores_con_invitacion</th>\n",
       "      <th>respuestas_al_procedimiento</th>\n",
       "      <th>respuestas_externas</th>\n",
       "      <th>conteo_de_respuestas_a_ofertas</th>\n",
       "      <th>proveedores_unicos_con</th>\n",
       "      <th>valor_total_adjudicacion</th>\n",
       "      <th>nit_entidad</th>\n",
       "      <th>duracion_dias</th>\n",
       "      <th>publication_year</th>\n",
       "    </tr>\n",
       "  </thead>\n",
       "  <tbody>\n",
       "    <tr>\n",
       "      <th>count</th>\n",
       "      <td>1.604839e+06</td>\n",
       "      <td>1.604839e+06</td>\n",
       "      <td>1.604839e+06</td>\n",
       "      <td>1.604839e+06</td>\n",
       "      <td>1.604839e+06</td>\n",
       "      <td>1.604839e+06</td>\n",
       "      <td>1.604839e+06</td>\n",
       "      <td>1.604839e+06</td>\n",
       "      <td>1.604839e+06</td>\n",
       "      <td>1.604839e+06</td>\n",
       "    </tr>\n",
       "    <tr>\n",
       "      <th>mean</th>\n",
       "      <td>6.975836e+00</td>\n",
       "      <td>2.146296e-01</td>\n",
       "      <td>6.590393e-01</td>\n",
       "      <td>4.252140e-03</td>\n",
       "      <td>2.178349e-02</td>\n",
       "      <td>6.329383e-01</td>\n",
       "      <td>1.374027e+11</td>\n",
       "      <td>8.726568e+08</td>\n",
       "      <td>1.055555e+04</td>\n",
       "      <td>2.020583e+03</td>\n",
       "    </tr>\n",
       "    <tr>\n",
       "      <th>std</th>\n",
       "      <td>5.032473e+01</td>\n",
       "      <td>3.693704e+00</td>\n",
       "      <td>4.001723e+00</td>\n",
       "      <td>1.091483e-01</td>\n",
       "      <td>7.687888e-01</td>\n",
       "      <td>3.851025e+00</td>\n",
       "      <td>1.136547e+14</td>\n",
       "      <td>4.927782e+07</td>\n",
       "      <td>5.672612e+06</td>\n",
       "      <td>1.284093e+00</td>\n",
       "    </tr>\n",
       "    <tr>\n",
       "      <th>min</th>\n",
       "      <td>0.000000e+00</td>\n",
       "      <td>0.000000e+00</td>\n",
       "      <td>0.000000e+00</td>\n",
       "      <td>0.000000e+00</td>\n",
       "      <td>0.000000e+00</td>\n",
       "      <td>0.000000e+00</td>\n",
       "      <td>1.000000e+00</td>\n",
       "      <td>7.180873e+06</td>\n",
       "      <td>0.000000e+00</td>\n",
       "      <td>2.015000e+03</td>\n",
       "    </tr>\n",
       "    <tr>\n",
       "      <th>25%</th>\n",
       "      <td>0.000000e+00</td>\n",
       "      <td>0.000000e+00</td>\n",
       "      <td>0.000000e+00</td>\n",
       "      <td>0.000000e+00</td>\n",
       "      <td>0.000000e+00</td>\n",
       "      <td>0.000000e+00</td>\n",
       "      <td>1.000000e+07</td>\n",
       "      <td>8.320065e+08</td>\n",
       "      <td>9.000000e+01</td>\n",
       "      <td>2.020000e+03</td>\n",
       "    </tr>\n",
       "    <tr>\n",
       "      <th>50%</th>\n",
       "      <td>0.000000e+00</td>\n",
       "      <td>0.000000e+00</td>\n",
       "      <td>0.000000e+00</td>\n",
       "      <td>0.000000e+00</td>\n",
       "      <td>0.000000e+00</td>\n",
       "      <td>0.000000e+00</td>\n",
       "      <td>2.070500e+07</td>\n",
       "      <td>8.915800e+08</td>\n",
       "      <td>1.500000e+02</td>\n",
       "      <td>2.021000e+03</td>\n",
       "    </tr>\n",
       "    <tr>\n",
       "      <th>75%</th>\n",
       "      <td>0.000000e+00</td>\n",
       "      <td>0.000000e+00</td>\n",
       "      <td>0.000000e+00</td>\n",
       "      <td>0.000000e+00</td>\n",
       "      <td>0.000000e+00</td>\n",
       "      <td>0.000000e+00</td>\n",
       "      <td>4.501100e+07</td>\n",
       "      <td>8.999991e+08</td>\n",
       "      <td>2.400000e+02</td>\n",
       "      <td>2.022000e+03</td>\n",
       "    </tr>\n",
       "    <tr>\n",
       "      <th>max</th>\n",
       "      <td>5.858000e+03</td>\n",
       "      <td>3.890000e+02</td>\n",
       "      <td>2.540000e+02</td>\n",
       "      <td>2.400000e+01</td>\n",
       "      <td>1.530000e+02</td>\n",
       "      <td>2.540000e+02</td>\n",
       "      <td>1.369741e+17</td>\n",
       "      <td>9.015542e+08</td>\n",
       "      <td>5.164790e+09</td>\n",
       "      <td>2.022000e+03</td>\n",
       "    </tr>\n",
       "  </tbody>\n",
       "</table>\n",
       "</div>"
      ]
     },
     "execution_count": 34,
     "metadata": {},
     "output_type": "execute_result"
    },
    {
     "data": {
      "text/html": [
       "<pre style=\"white-space:pre;overflow-x:auto;line-height:normal;font-family:Menlo,'DejaVu Sans Mono',consolas,'Courier New',monospace\"><span style=\"font-weight: bold\">&lt;</span><span style=\"color: #ff00ff; text-decoration-color: #ff00ff; font-weight: bold\">IPython.core.display.Javascript</span><span style=\"color: #000000; text-decoration-color: #000000\"> object</span><span style=\"font-weight: bold\">&gt;</span>\n",
       "</pre>\n"
      ],
      "text/plain": [
       "\u001b[1m<\u001b[0m\u001b[1;95mIPython.core.display.Javascript\u001b[0m\u001b[39m object\u001b[0m\u001b[1m>\u001b[0m\n"
      ]
     },
     "metadata": {},
     "output_type": "display_data"
    },
    {
     "data": {
      "application/javascript": [
       "\n",
       "            setTimeout(function() {\n",
       "                var nbb_cell_id = 34;\n",
       "                var nbb_unformatted_code = \"secop_2.describe()\";\n",
       "                var nbb_formatted_code = \"secop_2.describe()\";\n",
       "                var nbb_cells = Jupyter.notebook.get_cells();\n",
       "                for (var i = 0; i < nbb_cells.length; ++i) {\n",
       "                    if (nbb_cells[i].input_prompt_number == nbb_cell_id) {\n",
       "                        if (nbb_cells[i].get_text() == nbb_unformatted_code) {\n",
       "                             nbb_cells[i].set_text(nbb_formatted_code);\n",
       "                        }\n",
       "                        break;\n",
       "                    }\n",
       "                }\n",
       "            }, 500);\n",
       "            "
      ]
     },
     "metadata": {},
     "output_type": "display_data"
    }
   ],
   "source": [
    "secop_2.describe()"
   ]
  },
  {
   "cell_type": "code",
   "execution_count": null,
   "id": "4017a789",
   "metadata": {},
   "outputs": [],
   "source": []
  },
  {
   "cell_type": "code",
   "execution_count": 17,
   "id": "1fded362",
   "metadata": {
    "scrolled": false
   },
   "outputs": [
    {
     "data": {
      "text/html": [
       "<pre style=\"white-space:pre;overflow-x:auto;line-height:normal;font-family:Menlo,'DejaVu Sans Mono',consolas,'Courier New',monospace\"><span style=\"font-weight: bold\">(</span><span style=\"color: #008080; text-decoration-color: #008080; font-weight: bold\">0.0</span>, <span style=\"color: #008080; text-decoration-color: #008080; font-weight: bold\">100000000000.0</span><span style=\"font-weight: bold\">)</span>\n",
       "</pre>\n"
      ],
      "text/plain": [
       "\u001b[1m(\u001b[0m\u001b[1;36m0.0\u001b[0m, \u001b[1;36m100000000000.0\u001b[0m\u001b[1m)\u001b[0m\n"
      ]
     },
     "metadata": {},
     "output_type": "display_data"
    },
    {
     "data": {
      "image/png": "[encoded data removed]"
     },
     "metadata": {
      "needs_background": "light"
     },
     "output_type": "display_data"
    },
    {
     "data": {
      "text/html": [
       "<pre style=\"white-space:pre;overflow-x:auto;line-height:normal;font-family:Menlo,'DejaVu Sans Mono',consolas,'Courier New',monospace\"><span style=\"font-weight: bold\">&lt;</span><span style=\"color: #ff00ff; text-decoration-color: #ff00ff; font-weight: bold\">IPython.core.display.Javascript</span><span style=\"color: #000000; text-decoration-color: #000000\"> object</span><span style=\"font-weight: bold\">&gt;</span>\n",
       "</pre>\n"
      ],
      "text/plain": [
       "\u001b[1m<\u001b[0m\u001b[1;95mIPython.core.display.Javascript\u001b[0m\u001b[39m object\u001b[0m\u001b[1m>\u001b[0m\n"
      ]
     },
     "metadata": {},
     "output_type": "display_data"
    },
    {
     "data": {
      "application/javascript": [
       "\n",
       "            setTimeout(function() {\n",
       "                var nbb_cell_id = 17;\n",
       "                var nbb_unformatted_code = \"fig, ax = plt.subplots()\\nax.hist(secop_2[\\\"precio_base\\\"], bins=1000000)\\nax.set_xlim(0, 100000000000)\";\n",
       "                var nbb_formatted_code = \"fig, ax = plt.subplots()\\nax.hist(secop_2[\\\"precio_base\\\"], bins=1000000)\\nax.set_xlim(0, 100000000000)\";\n",
       "                var nbb_cells = Jupyter.notebook.get_cells();\n",
       "                for (var i = 0; i < nbb_cells.length; ++i) {\n",
       "                    if (nbb_cells[i].input_prompt_number == nbb_cell_id) {\n",
       "                        if (nbb_cells[i].get_text() == nbb_unformatted_code) {\n",
       "                             nbb_cells[i].set_text(nbb_formatted_code);\n",
       "                        }\n",
       "                        break;\n",
       "                    }\n",
       "                }\n",
       "            }, 500);\n",
       "            "
      ]
     },
     "metadata": {},
     "output_type": "display_data"
    }
   ],
   "source": [
    "fig, ax = plt.subplots()\n",
    "ax.hist(secop_2[\"precio_base\"], bins=1000000)\n",
    "ax.set_xlim(0, 100000000000)"
   ]
  },
  {
   "cell_type": "code",
   "execution_count": null,
   "id": "2b111e4c",
   "metadata": {},
   "outputs": [],
   "source": []
  },
  {
   "cell_type": "code",
   "execution_count": null,
   "id": "fc40ec1a",
   "metadata": {},
   "outputs": [],
   "source": []
  },
  {
   "cell_type": "code",
   "execution_count": null,
   "id": "20397470",
   "metadata": {},
   "outputs": [],
   "source": [
    "sns.histplot(secop_2[\"precio_base\"].sample(frac=0.01).values)"
   ]
  },
  {
   "cell_type": "code",
   "execution_count": null,
   "id": "df3883bb",
   "metadata": {},
   "outputs": [],
   "source": []
  },
  {
   "cell_type": "code",
   "execution_count": null,
   "id": "0520b236",
   "metadata": {},
   "outputs": [],
   "source": []
  },
  {
   "cell_type": "code",
   "execution_count": null,
   "id": "bc4420b0",
   "metadata": {},
   "outputs": [],
   "source": []
  },
  {
   "cell_type": "code",
   "execution_count": 7,
   "id": "0c1b0417",
   "metadata": {},
   "outputs": [
    {
     "data": {
      "text/html": [
       "<pre style=\"white-space:pre;overflow-x:auto;line-height:normal;font-family:Menlo,'DejaVu Sans Mono',consolas,'Courier New',monospace\"><span style=\"color: #008080; text-decoration-color: #008080; font-weight: bold\">529</span>\n",
       "</pre>\n"
      ],
      "text/plain": [
       "\u001b[1;36m529\u001b[0m\n"
      ]
     },
     "metadata": {},
     "output_type": "display_data"
    },
    {
     "data": {
      "text/html": [
       "<pre style=\"white-space:pre;overflow-x:auto;line-height:normal;font-family:Menlo,'DejaVu Sans Mono',consolas,'Courier New',monospace\"><span style=\"font-weight: bold\">&lt;</span><span style=\"color: #ff00ff; text-decoration-color: #ff00ff; font-weight: bold\">IPython.core.display.Javascript</span><span style=\"color: #000000; text-decoration-color: #000000\"> object</span><span style=\"font-weight: bold\">&gt;</span>\n",
       "</pre>\n"
      ],
      "text/plain": [
       "\u001b[1m<\u001b[0m\u001b[1;95mIPython.core.display.Javascript\u001b[0m\u001b[39m object\u001b[0m\u001b[1m>\u001b[0m\n"
      ]
     },
     "metadata": {},
     "output_type": "display_data"
    },
    {
     "data": {
      "application/javascript": [
       "\n",
       "            setTimeout(function() {\n",
       "                var nbb_cell_id = 7;\n",
       "                var nbb_unformatted_code = \"sum(secop_2[\\\"precio_base\\\"]<0)\";\n",
       "                var nbb_formatted_code = \"sum(secop_2[\\\"precio_base\\\"] < 0)\";\n",
       "                var nbb_cells = Jupyter.notebook.get_cells();\n",
       "                for (var i = 0; i < nbb_cells.length; ++i) {\n",
       "                    if (nbb_cells[i].input_prompt_number == nbb_cell_id) {\n",
       "                        if (nbb_cells[i].get_text() == nbb_unformatted_code) {\n",
       "                             nbb_cells[i].set_text(nbb_formatted_code);\n",
       "                        }\n",
       "                        break;\n",
       "                    }\n",
       "                }\n",
       "            }, 500);\n",
       "            "
      ]
     },
     "metadata": {},
     "output_type": "display_data"
    }
   ],
   "source": [
    "sum(secop_2[\"precio_base\"] < 0)"
   ]
  },
  {
   "cell_type": "code",
   "execution_count": 5,
   "id": "946d11c5",
   "metadata": {
    "scrolled": false
   },
   "outputs": [
    {
     "data": {
      "text/html": [
       "<div>\n",
       "<style scoped>\n",
       "    .dataframe tbody tr th:only-of-type {\n",
       "        vertical-align: middle;\n",
       "    }\n",
       "\n",
       "    .dataframe tbody tr th {\n",
       "        vertical-align: top;\n",
       "    }\n",
       "\n",
       "    .dataframe thead th {\n",
       "        text-align: right;\n",
       "    }\n",
       "</style>\n",
       "<table border=\"1\" class=\"dataframe\">\n",
       "  <thead>\n",
       "    <tr style=\"text-align: right;\">\n",
       "      <th></th>\n",
       "      <th>entidad</th>\n",
       "      <th>departamento_entidad</th>\n",
       "      <th>ciudad_entidad</th>\n",
       "      <th>ordenentidad</th>\n",
       "      <th>id_del_proceso</th>\n",
       "      <th>referencia_del_proceso</th>\n",
       "      <th>nombre_del_procedimiento</th>\n",
       "      <th>descripci_n_del_procedimiento</th>\n",
       "      <th>fase</th>\n",
       "      <th>precio_base</th>\n",
       "      <th>...</th>\n",
       "      <th>nombre_del_adjudicador</th>\n",
       "      <th>nombre_del_proveedor</th>\n",
       "      <th>nit_del_proveedor_adjudicado</th>\n",
       "      <th>fecha_de_publicacion_del</th>\n",
       "      <th>fecha_de_ultima_publicaci</th>\n",
       "      <th>fecha_de_publicacion_fase_3</th>\n",
       "      <th>fecha_de_recepcion_de</th>\n",
       "      <th>fecha_de_apertura_efectiva</th>\n",
       "      <th>nit_entidad</th>\n",
       "      <th>duracion_dias</th>\n",
       "    </tr>\n",
       "  </thead>\n",
       "  <tbody>\n",
       "    <tr>\n",
       "      <th>0</th>\n",
       "      <td>vortal operations</td>\n",
       "      <td>quindio</td>\n",
       "      <td>armenia</td>\n",
       "      <td>territorial</td>\n",
       "      <td>CO1.REQ.948804</td>\n",
       "      <td>CMA_MFR_2808_2</td>\n",
       "      <td>CMAMFR2808</td>\n",
       "      <td>CMAMFR2808</td>\n",
       "      <td>no definido</td>\n",
       "      <td>-1</td>\n",
       "      <td>...</td>\n",
       "      <td>no adjudicado</td>\n",
       "      <td>no adjudicado</td>\n",
       "      <td>0</td>\n",
       "      <td>None</td>\n",
       "      <td>None</td>\n",
       "      <td>None</td>\n",
       "      <td>None</td>\n",
       "      <td>None</td>\n",
       "      <td>1</td>\n",
       "      <td>0</td>\n",
       "    </tr>\n",
       "    <tr>\n",
       "      <th>1</th>\n",
       "      <td>vortal operations</td>\n",
       "      <td>quindio</td>\n",
       "      <td>armenia</td>\n",
       "      <td>territorial</td>\n",
       "      <td>CO1.REQ.948433</td>\n",
       "      <td>CMA_MFR_2808</td>\n",
       "      <td>CMAMFR2808</td>\n",
       "      <td>CMAMFR2808</td>\n",
       "      <td>no definido</td>\n",
       "      <td>-1</td>\n",
       "      <td>...</td>\n",
       "      <td>no adjudicado</td>\n",
       "      <td>no adjudicado</td>\n",
       "      <td>0</td>\n",
       "      <td>None</td>\n",
       "      <td>None</td>\n",
       "      <td>None</td>\n",
       "      <td>None</td>\n",
       "      <td>None</td>\n",
       "      <td>1</td>\n",
       "      <td>0</td>\n",
       "    </tr>\n",
       "    <tr>\n",
       "      <th>4</th>\n",
       "      <td>secretaria distrital de cultura recreacion y d...</td>\n",
       "      <td>distrito capital de bogota</td>\n",
       "      <td>bogota</td>\n",
       "      <td>territorial</td>\n",
       "      <td>CO1.REQ.742030</td>\n",
       "      <td>ESDOP 118 de 2019</td>\n",
       "      <td>Apoyar el proceso de acompañamiento metodológi...</td>\n",
       "      <td>Prestar los servicios profesionales para apoya...</td>\n",
       "      <td>no definido</td>\n",
       "      <td>66374000</td>\n",
       "      <td>...</td>\n",
       "      <td>no adjudicado</td>\n",
       "      <td>no adjudicado</td>\n",
       "      <td>0</td>\n",
       "      <td>None</td>\n",
       "      <td>None</td>\n",
       "      <td>None</td>\n",
       "      <td>None</td>\n",
       "      <td>None</td>\n",
       "      <td>899999061</td>\n",
       "      <td>330</td>\n",
       "    </tr>\n",
       "    <tr>\n",
       "      <th>5</th>\n",
       "      <td>secretaria distrital de cultura recreacion y d...</td>\n",
       "      <td>distrito capital de bogota</td>\n",
       "      <td>bogota</td>\n",
       "      <td>territorial</td>\n",
       "      <td>CO1.REQ.742129</td>\n",
       "      <td>ESDOP 117 de 2019</td>\n",
       "      <td>apoyar en el desarrollo e implementación del c...</td>\n",
       "      <td>Prestar los servicios profesionales para apoya...</td>\n",
       "      <td>no definido</td>\n",
       "      <td>66374000</td>\n",
       "      <td>...</td>\n",
       "      <td>no adjudicado</td>\n",
       "      <td>no adjudicado</td>\n",
       "      <td>0</td>\n",
       "      <td>None</td>\n",
       "      <td>None</td>\n",
       "      <td>None</td>\n",
       "      <td>None</td>\n",
       "      <td>None</td>\n",
       "      <td>899999061</td>\n",
       "      <td>330</td>\n",
       "    </tr>\n",
       "    <tr>\n",
       "      <th>6</th>\n",
       "      <td>secretaria distrital de cultura recreacion y d...</td>\n",
       "      <td>distrito capital de bogota</td>\n",
       "      <td>bogota</td>\n",
       "      <td>territorial</td>\n",
       "      <td>CO1.REQ.2711007</td>\n",
       "      <td>ESDOP 147 DE 2022</td>\n",
       "      <td>Apoyar jurídicamente actividades propias del p...</td>\n",
       "      <td>Apoyar jurídicamente actividades propias del p...</td>\n",
       "      <td>no definido</td>\n",
       "      <td>132677020</td>\n",
       "      <td>...</td>\n",
       "      <td>no adjudicado</td>\n",
       "      <td>no adjudicado</td>\n",
       "      <td>0</td>\n",
       "      <td>None</td>\n",
       "      <td>None</td>\n",
       "      <td>None</td>\n",
       "      <td>None</td>\n",
       "      <td>None</td>\n",
       "      <td>899999061</td>\n",
       "      <td>330</td>\n",
       "    </tr>\n",
       "  </tbody>\n",
       "</table>\n",
       "<p>5 rows × 31 columns</p>\n",
       "</div>"
      ]
     },
     "execution_count": 5,
     "metadata": {},
     "output_type": "execute_result"
    },
    {
     "data": {
      "text/html": [
       "<pre style=\"white-space:pre;overflow-x:auto;line-height:normal;font-family:Menlo,'DejaVu Sans Mono',consolas,'Courier New',monospace\"><span style=\"font-weight: bold\">&lt;</span><span style=\"color: #ff00ff; text-decoration-color: #ff00ff; font-weight: bold\">IPython.core.display.Javascript</span><span style=\"color: #000000; text-decoration-color: #000000\"> object</span><span style=\"font-weight: bold\">&gt;</span>\n",
       "</pre>\n"
      ],
      "text/plain": [
       "\u001b[1m<\u001b[0m\u001b[1;95mIPython.core.display.Javascript\u001b[0m\u001b[39m object\u001b[0m\u001b[1m>\u001b[0m\n"
      ]
     },
     "metadata": {},
     "output_type": "display_data"
    },
    {
     "data": {
      "application/javascript": [
       "\n",
       "            setTimeout(function() {\n",
       "                var nbb_cell_id = 5;\n",
       "                var nbb_unformatted_code = \"secop_2.head()\";\n",
       "                var nbb_formatted_code = \"secop_2.head()\";\n",
       "                var nbb_cells = Jupyter.notebook.get_cells();\n",
       "                for (var i = 0; i < nbb_cells.length; ++i) {\n",
       "                    if (nbb_cells[i].input_prompt_number == nbb_cell_id) {\n",
       "                        if (nbb_cells[i].get_text() == nbb_unformatted_code) {\n",
       "                             nbb_cells[i].set_text(nbb_formatted_code);\n",
       "                        }\n",
       "                        break;\n",
       "                    }\n",
       "                }\n",
       "            }, 500);\n",
       "            "
      ]
     },
     "metadata": {},
     "output_type": "display_data"
    }
   ],
   "source": [
    "secop_2.head()"
   ]
  },
  {
   "cell_type": "code",
   "execution_count": 7,
   "id": "005f46e8",
   "metadata": {},
   "outputs": [
    {
     "data": {
      "text/html": [
       "<pre style=\"white-space:pre;overflow-x:auto;line-height:normal;font-family:Menlo,'DejaVu Sans Mono',consolas,'Courier New',monospace\"><span style=\"color: #800080; text-decoration-color: #800080; font-weight: bold\">array</span><span style=\"font-weight: bold\">([</span><span style=\"color: #008080; text-decoration-color: #008080; font-weight: bold\">0</span><span style=\"font-weight: bold\">])</span>\n",
       "</pre>\n"
      ],
      "text/plain": [
       "\u001b[1;35marray\u001b[0m\u001b[1m(\u001b[0m\u001b[1m[\u001b[0m\u001b[1;36m0\u001b[0m\u001b[1m]\u001b[0m\u001b[1m)\u001b[0m\n"
      ]
     },
     "metadata": {},
     "output_type": "display_data"
    },
    {
     "data": {
      "text/html": [
       "<pre style=\"white-space:pre;overflow-x:auto;line-height:normal;font-family:Menlo,'DejaVu Sans Mono',consolas,'Courier New',monospace\"><span style=\"font-weight: bold\">&lt;</span><span style=\"color: #ff00ff; text-decoration-color: #ff00ff; font-weight: bold\">IPython.core.display.Javascript</span><span style=\"color: #000000; text-decoration-color: #000000\"> object</span><span style=\"font-weight: bold\">&gt;</span>\n",
       "</pre>\n"
      ],
      "text/plain": [
       "\u001b[1m<\u001b[0m\u001b[1;95mIPython.core.display.Javascript\u001b[0m\u001b[39m object\u001b[0m\u001b[1m>\u001b[0m\n"
      ]
     },
     "metadata": {},
     "output_type": "display_data"
    },
    {
     "data": {
      "application/javascript": [
       "\n",
       "            setTimeout(function() {\n",
       "                var nbb_cell_id = 7;\n",
       "                var nbb_unformatted_code = \"secop_2[\\\"proveedores_que_manifestaron\\\"].unique()\";\n",
       "                var nbb_formatted_code = \"secop_2[\\\"proveedores_que_manifestaron\\\"].unique()\";\n",
       "                var nbb_cells = Jupyter.notebook.get_cells();\n",
       "                for (var i = 0; i < nbb_cells.length; ++i) {\n",
       "                    if (nbb_cells[i].input_prompt_number == nbb_cell_id) {\n",
       "                        if (nbb_cells[i].get_text() == nbb_unformatted_code) {\n",
       "                             nbb_cells[i].set_text(nbb_formatted_code);\n",
       "                        }\n",
       "                        break;\n",
       "                    }\n",
       "                }\n",
       "            }, 500);\n",
       "            "
      ]
     },
     "metadata": {},
     "output_type": "display_data"
    }
   ],
   "source": [
    "secop_2[\"proveedores_que_manifestaron\"].unique()"
   ]
  },
  {
   "cell_type": "code",
   "execution_count": null,
   "id": "c3fcb0c2",
   "metadata": {},
   "outputs": [],
   "source": []
  }
 ],
 "metadata": {
  "kernelspec": {
   "display_name": "Kedro (secop)",
   "language": "python",
   "name": "kedro_secop"
  },
  "language_info": {
   "codemirror_mode": {
    "name": "ipython",
    "version": 3
   },
   "file_extension": ".py",
   "mimetype": "text/x-python",
   "name": "python",
   "nbconvert_exporter": "python",
   "pygments_lexer": "ipython3",
   "version": "3.10.5"
  }
 },
 "nbformat": 4,
 "nbformat_minor": 5
}
