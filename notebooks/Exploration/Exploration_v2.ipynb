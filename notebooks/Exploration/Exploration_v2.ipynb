{
 "cells": [
  {
   "cell_type": "code",
   "execution_count": 2,
   "id": "dbf13029",
   "metadata": {},
   "outputs": [],
   "source": [
    "import pandas as pd\n",
    "import numpy as np\n",
    "import matplotlib.pyplot as plt\n",
    "import seaborn as sns\n",
    "import itertools\n",
    "import re\n",
    "import datetime"
   ]
  },
  {
   "cell_type": "code",
   "execution_count": 3,
   "id": "36a5cbcd",
   "metadata": {},
   "outputs": [
    {
     "data": {
      "text/html": [
       "<pre style=\"white-space:pre;overflow-x:auto;line-height:normal;font-family:Menlo,'DejaVu Sans Mono',consolas,'Courier New',monospace\"><span style=\"font-weight: bold\">&lt;</span><span style=\"color: #ff00ff; text-decoration-color: #ff00ff; font-weight: bold\">IPython.core.display.Javascript</span><span style=\"color: #000000; text-decoration-color: #000000\"> object</span><span style=\"font-weight: bold\">&gt;</span>\n",
       "</pre>\n"
      ],
      "text/plain": [
       "\u001b[1m<\u001b[0m\u001b[1;95mIPython.core.display.Javascript\u001b[0m\u001b[39m object\u001b[0m\u001b[1m>\u001b[0m\n"
      ]
     },
     "metadata": {},
     "output_type": "display_data"
    },
    {
     "data": {
      "application/javascript": [
       "\n",
       "            setTimeout(function() {\n",
       "                var nbb_cell_id = 3;\n",
       "                var nbb_unformatted_code = \"%load_ext nb_black\";\n",
       "                var nbb_formatted_code = \"%load_ext nb_black\";\n",
       "                var nbb_cells = Jupyter.notebook.get_cells();\n",
       "                for (var i = 0; i < nbb_cells.length; ++i) {\n",
       "                    if (nbb_cells[i].input_prompt_number == nbb_cell_id) {\n",
       "                        if (nbb_cells[i].get_text() == nbb_unformatted_code) {\n",
       "                             nbb_cells[i].set_text(nbb_formatted_code);\n",
       "                        }\n",
       "                        break;\n",
       "                    }\n",
       "                }\n",
       "            }, 500);\n",
       "            "
      ]
     },
     "metadata": {},
     "output_type": "display_data"
    }
   ],
   "source": [
    "%load_ext nb_black"
   ]
  },
  {
   "cell_type": "code",
   "execution_count": 4,
   "id": "ef616629",
   "metadata": {},
   "outputs": [
    {
     "data": {
      "text/html": [
       "<pre style=\"white-space:pre;overflow-x:auto;line-height:normal;font-family:Menlo,'DejaVu Sans Mono',consolas,'Courier New',monospace\"><span style=\"color: #7fbfbf; text-decoration-color: #7fbfbf\">[01/04/23 16:28:52] </span><span style=\"color: #000080; text-decoration-color: #000080\">INFO    </span> Loading data from <span style=\"color: #008000; text-decoration-color: #008000\">'secop_2@pandas'</span> <span style=\"font-weight: bold\">(</span>ParquetDataSetSecop<span style=\"font-weight: bold\">)</span><span style=\"color: #808000; text-decoration-color: #808000\">...</span>        <a href=\"file:///opt/homebrew/Caskroom/miniforge/base/envs/dm_project/lib/python3.10/site-packages/kedro/io/data_catalog.py\" target=\"_blank\"><span style=\"color: #7f7f7f; text-decoration-color: #7f7f7f\">data_catalog.py</span></a><span style=\"color: #7f7f7f; text-decoration-color: #7f7f7f\">:</span><a href=\"file:///opt/homebrew/Caskroom/miniforge/base/envs/dm_project/lib/python3.10/site-packages/kedro/io/data_catalog.py#343\" target=\"_blank\"><span style=\"color: #7f7f7f; text-decoration-color: #7f7f7f\">343</span></a>\n",
       "</pre>\n"
      ],
      "text/plain": [
       "\u001b[2;36m[01/04/23 16:28:52]\u001b[0m\u001b[2;36m \u001b[0m\u001b[34mINFO    \u001b[0m Loading data from \u001b[32m'secop_2@pandas'\u001b[0m \u001b[1m(\u001b[0mParquetDataSetSecop\u001b[1m)\u001b[0m\u001b[33m...\u001b[0m        \u001b]8;id=907521;file:///opt/homebrew/Caskroom/miniforge/base/envs/dm_project/lib/python3.10/site-packages/kedro/io/data_catalog.py\u001b\\\u001b[2mdata_catalog.py\u001b[0m\u001b]8;;\u001b\\\u001b[2m:\u001b[0m\u001b]8;id=175126;file:///opt/homebrew/Caskroom/miniforge/base/envs/dm_project/lib/python3.10/site-packages/kedro/io/data_catalog.py#343\u001b\\\u001b[2m343\u001b[0m\u001b]8;;\u001b\\\n"
      ]
     },
     "metadata": {},
     "output_type": "display_data"
    },
    {
     "data": {
      "text/html": [
       "<pre style=\"white-space:pre;overflow-x:auto;line-height:normal;font-family:Menlo,'DejaVu Sans Mono',consolas,'Courier New',monospace\"><span style=\"font-weight: bold\">&lt;</span><span style=\"color: #ff00ff; text-decoration-color: #ff00ff; font-weight: bold\">IPython.core.display.Javascript</span><span style=\"color: #000000; text-decoration-color: #000000\"> object</span><span style=\"font-weight: bold\">&gt;</span>\n",
       "</pre>\n"
      ],
      "text/plain": [
       "\u001b[1m<\u001b[0m\u001b[1;95mIPython.core.display.Javascript\u001b[0m\u001b[39m object\u001b[0m\u001b[1m>\u001b[0m\n"
      ]
     },
     "metadata": {},
     "output_type": "display_data"
    },
    {
     "data": {
      "application/javascript": [
       "\n",
       "            setTimeout(function() {\n",
       "                var nbb_cell_id = 4;\n",
       "                var nbb_unformatted_code = \"secop = catalog.load('secop_2@pandas')\";\n",
       "                var nbb_formatted_code = \"secop = catalog.load(\\\"secop_2@pandas\\\")\";\n",
       "                var nbb_cells = Jupyter.notebook.get_cells();\n",
       "                for (var i = 0; i < nbb_cells.length; ++i) {\n",
       "                    if (nbb_cells[i].input_prompt_number == nbb_cell_id) {\n",
       "                        if (nbb_cells[i].get_text() == nbb_unformatted_code) {\n",
       "                             nbb_cells[i].set_text(nbb_formatted_code);\n",
       "                        }\n",
       "                        break;\n",
       "                    }\n",
       "                }\n",
       "            }, 500);\n",
       "            "
      ]
     },
     "metadata": {},
     "output_type": "display_data"
    }
   ],
   "source": [
    "secop = catalog.load(\"secop_2@pandas\")"
   ]
  },
  {
   "cell_type": "code",
   "execution_count": 6,
   "id": "5e801736",
   "metadata": {},
   "outputs": [
    {
     "data": {
      "text/html": [
       "<div>\n",
       "<style scoped>\n",
       "    .dataframe tbody tr th:only-of-type {\n",
       "        vertical-align: middle;\n",
       "    }\n",
       "\n",
       "    .dataframe tbody tr th {\n",
       "        vertical-align: top;\n",
       "    }\n",
       "\n",
       "    .dataframe thead th {\n",
       "        text-align: right;\n",
       "    }\n",
       "</style>\n",
       "<table border=\"1\" class=\"dataframe\">\n",
       "  <thead>\n",
       "    <tr style=\"text-align: right;\">\n",
       "      <th></th>\n",
       "      <th>entidad</th>\n",
       "      <th>departamento_entidad</th>\n",
       "      <th>ciudad_entidad</th>\n",
       "      <th>ordenentidad</th>\n",
       "      <th>id_del_proceso</th>\n",
       "      <th>referencia_del_proceso</th>\n",
       "      <th>nombre_del_procedimiento</th>\n",
       "      <th>descripci_n_del_procedimiento</th>\n",
       "      <th>fase</th>\n",
       "      <th>precio_base</th>\n",
       "      <th>...</th>\n",
       "      <th>nombre_del_proveedor</th>\n",
       "      <th>nit_del_proveedor_adjudicado</th>\n",
       "      <th>tipo_de_contrato</th>\n",
       "      <th>subtipo_de_contrato</th>\n",
       "      <th>fecha_de_publicacion_del</th>\n",
       "      <th>fecha_de_ultima_publicaci</th>\n",
       "      <th>fecha_de_publicacion_fase_3</th>\n",
       "      <th>fecha_de_recepcion_de</th>\n",
       "      <th>fecha_de_apertura_efectiva</th>\n",
       "      <th>nit_entidad</th>\n",
       "    </tr>\n",
       "  </thead>\n",
       "  <tbody>\n",
       "    <tr>\n",
       "      <th>0</th>\n",
       "      <td>Vortal Operations</td>\n",
       "      <td>Quindío</td>\n",
       "      <td>Armenia</td>\n",
       "      <td>Territorial</td>\n",
       "      <td>CO1.REQ.948804</td>\n",
       "      <td>CMA_MFR_2808_2</td>\n",
       "      <td>CMAMFR2808</td>\n",
       "      <td>CMAMFR2808</td>\n",
       "      <td>No Definido</td>\n",
       "      <td>-1</td>\n",
       "      <td>...</td>\n",
       "      <td>No Adjudicado</td>\n",
       "      <td>No Adjudicado</td>\n",
       "      <td>Consultoría</td>\n",
       "      <td>No Especificado</td>\n",
       "      <td>None</td>\n",
       "      <td>None</td>\n",
       "      <td>None</td>\n",
       "      <td>None</td>\n",
       "      <td>None</td>\n",
       "      <td>000000001</td>\n",
       "    </tr>\n",
       "    <tr>\n",
       "      <th>1</th>\n",
       "      <td>Vortal Operations</td>\n",
       "      <td>Quindío</td>\n",
       "      <td>Armenia</td>\n",
       "      <td>Territorial</td>\n",
       "      <td>CO1.REQ.948433</td>\n",
       "      <td>CMA_MFR_2808</td>\n",
       "      <td>CMAMFR2808</td>\n",
       "      <td>CMAMFR2808</td>\n",
       "      <td>No Definido</td>\n",
       "      <td>-1</td>\n",
       "      <td>...</td>\n",
       "      <td>No Adjudicado</td>\n",
       "      <td>No Adjudicado</td>\n",
       "      <td>Consultoría</td>\n",
       "      <td>No Especificado</td>\n",
       "      <td>None</td>\n",
       "      <td>None</td>\n",
       "      <td>None</td>\n",
       "      <td>None</td>\n",
       "      <td>None</td>\n",
       "      <td>000000001</td>\n",
       "    </tr>\n",
       "    <tr>\n",
       "      <th>2</th>\n",
       "      <td>Vortal Operations</td>\n",
       "      <td>Quindío</td>\n",
       "      <td>Armenia</td>\n",
       "      <td>Territorial</td>\n",
       "      <td>CO1.REQ.1992464</td>\n",
       "      <td>SIP_2604</td>\n",
       "      <td>SIP2604</td>\n",
       "      <td>SIP2604</td>\n",
       "      <td>Estimate Phase</td>\n",
       "      <td>-1</td>\n",
       "      <td>...</td>\n",
       "      <td>No Adjudicado</td>\n",
       "      <td>No Adjudicado</td>\n",
       "      <td>ND</td>\n",
       "      <td>No Especificado</td>\n",
       "      <td>2021-04-26</td>\n",
       "      <td>2021-04-26</td>\n",
       "      <td>2021-04-26</td>\n",
       "      <td>2021-04-30</td>\n",
       "      <td>2021-04-26</td>\n",
       "      <td>000000001</td>\n",
       "    </tr>\n",
       "    <tr>\n",
       "      <th>3</th>\n",
       "      <td>Vortal Operations</td>\n",
       "      <td>Quindío</td>\n",
       "      <td>Armenia</td>\n",
       "      <td>Territorial</td>\n",
       "      <td>CO1.REQ.1994804</td>\n",
       "      <td>SIP_2604 Copy</td>\n",
       "      <td>SIP2604 Copy</td>\n",
       "      <td>SIP2604</td>\n",
       "      <td>Estimate Phase</td>\n",
       "      <td>-1</td>\n",
       "      <td>...</td>\n",
       "      <td>No Adjudicado</td>\n",
       "      <td>No Adjudicado</td>\n",
       "      <td>ND</td>\n",
       "      <td>No Especificado</td>\n",
       "      <td>2021-04-27</td>\n",
       "      <td>2021-04-27</td>\n",
       "      <td>2021-04-27</td>\n",
       "      <td>2021-04-30</td>\n",
       "      <td>2021-04-27</td>\n",
       "      <td>000000001</td>\n",
       "    </tr>\n",
       "    <tr>\n",
       "      <th>4</th>\n",
       "      <td>SECRETARÍA DISTRITAL DE CULTURA RECREACIÓN Y D...</td>\n",
       "      <td>Distrito Capital de Bogotá</td>\n",
       "      <td>Bogotá</td>\n",
       "      <td>Territorial</td>\n",
       "      <td>CO1.REQ.742030</td>\n",
       "      <td>ESDOP 118 de 2019</td>\n",
       "      <td>Apoyar el proceso de acompañamiento metodológi...</td>\n",
       "      <td>Prestar los servicios profesionales para apoya...</td>\n",
       "      <td>No Definido</td>\n",
       "      <td>66374000</td>\n",
       "      <td>...</td>\n",
       "      <td>No Adjudicado</td>\n",
       "      <td>No Adjudicado</td>\n",
       "      <td>Servicios de aprovisionamiento</td>\n",
       "      <td>No Especificado</td>\n",
       "      <td>None</td>\n",
       "      <td>None</td>\n",
       "      <td>None</td>\n",
       "      <td>None</td>\n",
       "      <td>None</td>\n",
       "      <td>0899999061</td>\n",
       "    </tr>\n",
       "  </tbody>\n",
       "</table>\n",
       "<p>5 rows × 37 columns</p>\n",
       "</div>"
      ]
     },
     "execution_count": 6,
     "metadata": {},
     "output_type": "execute_result"
    },
    {
     "data": {
      "text/html": [
       "<pre style=\"white-space:pre;overflow-x:auto;line-height:normal;font-family:Menlo,'DejaVu Sans Mono',consolas,'Courier New',monospace\"><span style=\"font-weight: bold\">&lt;</span><span style=\"color: #ff00ff; text-decoration-color: #ff00ff; font-weight: bold\">IPython.core.display.Javascript</span><span style=\"color: #000000; text-decoration-color: #000000\"> object</span><span style=\"font-weight: bold\">&gt;</span>\n",
       "</pre>\n"
      ],
      "text/plain": [
       "\u001b[1m<\u001b[0m\u001b[1;95mIPython.core.display.Javascript\u001b[0m\u001b[39m object\u001b[0m\u001b[1m>\u001b[0m\n"
      ]
     },
     "metadata": {},
     "output_type": "display_data"
    },
    {
     "data": {
      "application/javascript": [
       "\n",
       "            setTimeout(function() {\n",
       "                var nbb_cell_id = 6;\n",
       "                var nbb_unformatted_code = \"secop.head()\";\n",
       "                var nbb_formatted_code = \"secop.head()\";\n",
       "                var nbb_cells = Jupyter.notebook.get_cells();\n",
       "                for (var i = 0; i < nbb_cells.length; ++i) {\n",
       "                    if (nbb_cells[i].input_prompt_number == nbb_cell_id) {\n",
       "                        if (nbb_cells[i].get_text() == nbb_unformatted_code) {\n",
       "                             nbb_cells[i].set_text(nbb_formatted_code);\n",
       "                        }\n",
       "                        break;\n",
       "                    }\n",
       "                }\n",
       "            }, 500);\n",
       "            "
      ]
     },
     "metadata": {},
     "output_type": "display_data"
    }
   ],
   "source": [
    "secop.head()"
   ]
  },
  {
   "cell_type": "code",
   "execution_count": 7,
   "id": "d124ce4c",
   "metadata": {},
   "outputs": [
    {
     "data": {
      "text/html": [
       "<pre style=\"white-space:pre;overflow-x:auto;line-height:normal;font-family:Menlo,'DejaVu Sans Mono',consolas,'Courier New',monospace\">\n",
       "<span style=\"color: #800080; text-decoration-color: #800080; font-weight: bold\">Index</span><span style=\"font-weight: bold\">([</span><span style=\"color: #008000; text-decoration-color: #008000\">'entidad'</span>, <span style=\"color: #008000; text-decoration-color: #008000\">'departamento_entidad'</span>, <span style=\"color: #008000; text-decoration-color: #008000\">'ciudad_entidad'</span>, <span style=\"color: #008000; text-decoration-color: #008000\">'ordenentidad'</span>,\n",
       "       <span style=\"color: #008000; text-decoration-color: #008000\">'id_del_proceso'</span>, <span style=\"color: #008000; text-decoration-color: #008000\">'referencia_del_proceso'</span>, <span style=\"color: #008000; text-decoration-color: #008000\">'nombre_del_procedimiento'</span>,\n",
       "       <span style=\"color: #008000; text-decoration-color: #008000\">'descripci_n_del_procedimiento'</span>, <span style=\"color: #008000; text-decoration-color: #008000\">'fase'</span>, <span style=\"color: #008000; text-decoration-color: #008000\">'precio_base'</span>,\n",
       "       <span style=\"color: #008000; text-decoration-color: #008000\">'modalidad_de_contratacion'</span>, <span style=\"color: #008000; text-decoration-color: #008000\">'duracion'</span>, <span style=\"color: #008000; text-decoration-color: #008000\">'unidad_de_duracion'</span>,\n",
       "       <span style=\"color: #008000; text-decoration-color: #008000\">'proveedores_invitados'</span>, <span style=\"color: #008000; text-decoration-color: #008000\">'proveedores_con_invitacion'</span>,\n",
       "       <span style=\"color: #008000; text-decoration-color: #008000\">'visualizaciones_del'</span>, <span style=\"color: #008000; text-decoration-color: #008000\">'proveedores_que_manifestaron'</span>,\n",
       "       <span style=\"color: #008000; text-decoration-color: #008000\">'respuestas_al_procedimiento'</span>, <span style=\"color: #008000; text-decoration-color: #008000\">'respuestas_externas'</span>,\n",
       "       <span style=\"color: #008000; text-decoration-color: #008000\">'conteo_de_respuestas_a_ofertas'</span>, <span style=\"color: #008000; text-decoration-color: #008000\">'proveedores_unicos_con'</span>,\n",
       "       <span style=\"color: #008000; text-decoration-color: #008000\">'estado_del_procedimiento'</span>, <span style=\"color: #008000; text-decoration-color: #008000\">'adjudicado'</span>, <span style=\"color: #008000; text-decoration-color: #008000\">'departamento_proveedor'</span>,\n",
       "       <span style=\"color: #008000; text-decoration-color: #008000\">'ciudad_proveedor'</span>, <span style=\"color: #008000; text-decoration-color: #008000\">'valor_total_adjudicacion'</span>,\n",
       "       <span style=\"color: #008000; text-decoration-color: #008000\">'nombre_del_adjudicador'</span>, <span style=\"color: #008000; text-decoration-color: #008000\">'nombre_del_proveedor'</span>,\n",
       "       <span style=\"color: #008000; text-decoration-color: #008000\">'nit_del_proveedor_adjudicado'</span>, <span style=\"color: #008000; text-decoration-color: #008000\">'tipo_de_contrato'</span>,\n",
       "       <span style=\"color: #008000; text-decoration-color: #008000\">'subtipo_de_contrato'</span>, <span style=\"color: #008000; text-decoration-color: #008000\">'fecha_de_publicacion_del'</span>,\n",
       "       <span style=\"color: #008000; text-decoration-color: #008000\">'fecha_de_ultima_publicaci'</span>, <span style=\"color: #008000; text-decoration-color: #008000\">'fecha_de_publicacion_fase_3'</span>,\n",
       "       <span style=\"color: #008000; text-decoration-color: #008000\">'fecha_de_recepcion_de'</span>, <span style=\"color: #008000; text-decoration-color: #008000\">'fecha_de_apertura_efectiva'</span>, <span style=\"color: #008000; text-decoration-color: #008000\">'nit_entidad'</span><span style=\"font-weight: bold\">]</span>,\n",
       "      <span style=\"color: #808000; text-decoration-color: #808000\">dtype</span>=<span style=\"color: #008000; text-decoration-color: #008000\">'object'</span><span style=\"font-weight: bold\">)</span>\n",
       "</pre>\n"
      ],
      "text/plain": [
       "\n",
       "\u001b[1;35mIndex\u001b[0m\u001b[1m(\u001b[0m\u001b[1m[\u001b[0m\u001b[32m'entidad'\u001b[0m, \u001b[32m'departamento_entidad'\u001b[0m, \u001b[32m'ciudad_entidad'\u001b[0m, \u001b[32m'ordenentidad'\u001b[0m,\n",
       "       \u001b[32m'id_del_proceso'\u001b[0m, \u001b[32m'referencia_del_proceso'\u001b[0m, \u001b[32m'nombre_del_procedimiento'\u001b[0m,\n",
       "       \u001b[32m'descripci_n_del_procedimiento'\u001b[0m, \u001b[32m'fase'\u001b[0m, \u001b[32m'precio_base'\u001b[0m,\n",
       "       \u001b[32m'modalidad_de_contratacion'\u001b[0m, \u001b[32m'duracion'\u001b[0m, \u001b[32m'unidad_de_duracion'\u001b[0m,\n",
       "       \u001b[32m'proveedores_invitados'\u001b[0m, \u001b[32m'proveedores_con_invitacion'\u001b[0m,\n",
       "       \u001b[32m'visualizaciones_del'\u001b[0m, \u001b[32m'proveedores_que_manifestaron'\u001b[0m,\n",
       "       \u001b[32m'respuestas_al_procedimiento'\u001b[0m, \u001b[32m'respuestas_externas'\u001b[0m,\n",
       "       \u001b[32m'conteo_de_respuestas_a_ofertas'\u001b[0m, \u001b[32m'proveedores_unicos_con'\u001b[0m,\n",
       "       \u001b[32m'estado_del_procedimiento'\u001b[0m, \u001b[32m'adjudicado'\u001b[0m, \u001b[32m'departamento_proveedor'\u001b[0m,\n",
       "       \u001b[32m'ciudad_proveedor'\u001b[0m, \u001b[32m'valor_total_adjudicacion'\u001b[0m,\n",
       "       \u001b[32m'nombre_del_adjudicador'\u001b[0m, \u001b[32m'nombre_del_proveedor'\u001b[0m,\n",
       "       \u001b[32m'nit_del_proveedor_adjudicado'\u001b[0m, \u001b[32m'tipo_de_contrato'\u001b[0m,\n",
       "       \u001b[32m'subtipo_de_contrato'\u001b[0m, \u001b[32m'fecha_de_publicacion_del'\u001b[0m,\n",
       "       \u001b[32m'fecha_de_ultima_publicaci'\u001b[0m, \u001b[32m'fecha_de_publicacion_fase_3'\u001b[0m,\n",
       "       \u001b[32m'fecha_de_recepcion_de'\u001b[0m, \u001b[32m'fecha_de_apertura_efectiva'\u001b[0m, \u001b[32m'nit_entidad'\u001b[0m\u001b[1m]\u001b[0m,\n",
       "      \u001b[33mdtype\u001b[0m=\u001b[32m'object'\u001b[0m\u001b[1m)\u001b[0m\n"
      ]
     },
     "metadata": {},
     "output_type": "display_data"
    },
    {
     "data": {
      "text/html": [
       "<pre style=\"white-space:pre;overflow-x:auto;line-height:normal;font-family:Menlo,'DejaVu Sans Mono',consolas,'Courier New',monospace\"><span style=\"font-weight: bold\">&lt;</span><span style=\"color: #ff00ff; text-decoration-color: #ff00ff; font-weight: bold\">IPython.core.display.Javascript</span><span style=\"color: #000000; text-decoration-color: #000000\"> object</span><span style=\"font-weight: bold\">&gt;</span>\n",
       "</pre>\n"
      ],
      "text/plain": [
       "\u001b[1m<\u001b[0m\u001b[1;95mIPython.core.display.Javascript\u001b[0m\u001b[39m object\u001b[0m\u001b[1m>\u001b[0m\n"
      ]
     },
     "metadata": {},
     "output_type": "display_data"
    },
    {
     "data": {
      "application/javascript": [
       "\n",
       "            setTimeout(function() {\n",
       "                var nbb_cell_id = 7;\n",
       "                var nbb_unformatted_code = \"secop.columns\";\n",
       "                var nbb_formatted_code = \"secop.columns\";\n",
       "                var nbb_cells = Jupyter.notebook.get_cells();\n",
       "                for (var i = 0; i < nbb_cells.length; ++i) {\n",
       "                    if (nbb_cells[i].input_prompt_number == nbb_cell_id) {\n",
       "                        if (nbb_cells[i].get_text() == nbb_unformatted_code) {\n",
       "                             nbb_cells[i].set_text(nbb_formatted_code);\n",
       "                        }\n",
       "                        break;\n",
       "                    }\n",
       "                }\n",
       "            }, 500);\n",
       "            "
      ]
     },
     "metadata": {},
     "output_type": "display_data"
    }
   ],
   "source": [
    "secop.columns"
   ]
  },
  {
   "cell_type": "code",
   "execution_count": 9,
   "id": "2be1bbf4",
   "metadata": {},
   "outputs": [
    {
     "data": {
      "text/html": [
       "<pre style=\"white-space:pre;overflow-x:auto;line-height:normal;font-family:Menlo,'DejaVu Sans Mono',consolas,'Courier New',monospace\"><span style=\"color: #7fbfbf; text-decoration-color: #7fbfbf\">[01/04/23 16:29:36] </span><span style=\"color: #000080; text-decoration-color: #000080\">INFO    </span> Loading data from <span style=\"color: #008000; text-decoration-color: #008000\">'secop_2_cont@pandas'</span> <span style=\"font-weight: bold\">(</span>ParquetDataSetSecop<span style=\"font-weight: bold\">)</span><span style=\"color: #808000; text-decoration-color: #808000\">...</span>   <a href=\"file:///opt/homebrew/Caskroom/miniforge/base/envs/dm_project/lib/python3.10/site-packages/kedro/io/data_catalog.py\" target=\"_blank\"><span style=\"color: #7f7f7f; text-decoration-color: #7f7f7f\">data_catalog.py</span></a><span style=\"color: #7f7f7f; text-decoration-color: #7f7f7f\">:</span><a href=\"file:///opt/homebrew/Caskroom/miniforge/base/envs/dm_project/lib/python3.10/site-packages/kedro/io/data_catalog.py#343\" target=\"_blank\"><span style=\"color: #7f7f7f; text-decoration-color: #7f7f7f\">343</span></a>\n",
       "</pre>\n"
      ],
      "text/plain": [
       "\u001b[2;36m[01/04/23 16:29:36]\u001b[0m\u001b[2;36m \u001b[0m\u001b[34mINFO    \u001b[0m Loading data from \u001b[32m'secop_2_cont@pandas'\u001b[0m \u001b[1m(\u001b[0mParquetDataSetSecop\u001b[1m)\u001b[0m\u001b[33m...\u001b[0m   \u001b]8;id=76797;file:///opt/homebrew/Caskroom/miniforge/base/envs/dm_project/lib/python3.10/site-packages/kedro/io/data_catalog.py\u001b\\\u001b[2mdata_catalog.py\u001b[0m\u001b]8;;\u001b\\\u001b[2m:\u001b[0m\u001b]8;id=226398;file:///opt/homebrew/Caskroom/miniforge/base/envs/dm_project/lib/python3.10/site-packages/kedro/io/data_catalog.py#343\u001b\\\u001b[2m343\u001b[0m\u001b]8;;\u001b\\\n"
      ]
     },
     "metadata": {},
     "output_type": "display_data"
    },
    {
     "data": {
      "text/html": [
       "<pre style=\"white-space:pre;overflow-x:auto;line-height:normal;font-family:Menlo,'DejaVu Sans Mono',consolas,'Courier New',monospace\"><span style=\"font-weight: bold\">&lt;</span><span style=\"color: #ff00ff; text-decoration-color: #ff00ff; font-weight: bold\">IPython.core.display.Javascript</span><span style=\"color: #000000; text-decoration-color: #000000\"> object</span><span style=\"font-weight: bold\">&gt;</span>\n",
       "</pre>\n"
      ],
      "text/plain": [
       "\u001b[1m<\u001b[0m\u001b[1;95mIPython.core.display.Javascript\u001b[0m\u001b[39m object\u001b[0m\u001b[1m>\u001b[0m\n"
      ]
     },
     "metadata": {},
     "output_type": "display_data"
    },
    {
     "data": {
      "application/javascript": [
       "\n",
       "            setTimeout(function() {\n",
       "                var nbb_cell_id = 9;\n",
       "                var nbb_unformatted_code = \"secop_cont = catalog.load(\\\"secop_2_cont@pandas\\\")\";\n",
       "                var nbb_formatted_code = \"secop_cont = catalog.load(\\\"secop_2_cont@pandas\\\")\";\n",
       "                var nbb_cells = Jupyter.notebook.get_cells();\n",
       "                for (var i = 0; i < nbb_cells.length; ++i) {\n",
       "                    if (nbb_cells[i].input_prompt_number == nbb_cell_id) {\n",
       "                        if (nbb_cells[i].get_text() == nbb_unformatted_code) {\n",
       "                             nbb_cells[i].set_text(nbb_formatted_code);\n",
       "                        }\n",
       "                        break;\n",
       "                    }\n",
       "                }\n",
       "            }, 500);\n",
       "            "
      ]
     },
     "metadata": {},
     "output_type": "display_data"
    }
   ],
   "source": [
    "secop_cont = catalog.load(\"secop_2_cont@pandas\")"
   ]
  },
  {
   "cell_type": "code",
   "execution_count": 10,
   "id": "e876670f",
   "metadata": {},
   "outputs": [
    {
     "data": {
      "text/html": [
       "<pre style=\"white-space:pre;overflow-x:auto;line-height:normal;font-family:Menlo,'DejaVu Sans Mono',consolas,'Courier New',monospace\">\n",
       "<span style=\"color: #800080; text-decoration-color: #800080; font-weight: bold\">Index</span><span style=\"font-weight: bold\">([</span><span style=\"color: #008000; text-decoration-color: #008000\">'nombre_entidad'</span>, <span style=\"color: #008000; text-decoration-color: #008000\">'departamento'</span>, <span style=\"color: #008000; text-decoration-color: #008000\">'ciudad'</span>, <span style=\"color: #008000; text-decoration-color: #008000\">'orden'</span>,\n",
       "       <span style=\"color: #008000; text-decoration-color: #008000\">'proceso_de_compra'</span>, <span style=\"color: #008000; text-decoration-color: #008000\">'referencia_del_contrato'</span>, <span style=\"color: #008000; text-decoration-color: #008000\">'estado_contrato'</span>,\n",
       "       <span style=\"color: #008000; text-decoration-color: #008000\">'descripcion_del_proceso'</span>, <span style=\"color: #008000; text-decoration-color: #008000\">'modalidad_de_contratacion'</span>,\n",
       "       <span style=\"color: #008000; text-decoration-color: #008000\">'fecha_de_firma'</span>, <span style=\"color: #008000; text-decoration-color: #008000\">'fecha_de_inicio_del_contrato'</span>,\n",
       "       <span style=\"color: #008000; text-decoration-color: #008000\">'fecha_de_fin_del_contrato'</span>, <span style=\"color: #008000; text-decoration-color: #008000\">'tipodocproveedor'</span>, <span style=\"color: #008000; text-decoration-color: #008000\">'documento_proveedor'</span>,\n",
       "       <span style=\"color: #008000; text-decoration-color: #008000\">'proveedor_adjudicado'</span>, <span style=\"color: #008000; text-decoration-color: #008000\">'valor_del_contrato'</span>, <span style=\"color: #008000; text-decoration-color: #008000\">'objeto_del_contrato'</span>,\n",
       "       <span style=\"color: #008000; text-decoration-color: #008000\">'dias_adicionados'</span>, <span style=\"color: #008000; text-decoration-color: #008000\">'nit_entidad'</span><span style=\"font-weight: bold\">]</span>,\n",
       "      <span style=\"color: #808000; text-decoration-color: #808000\">dtype</span>=<span style=\"color: #008000; text-decoration-color: #008000\">'object'</span><span style=\"font-weight: bold\">)</span>\n",
       "</pre>\n"
      ],
      "text/plain": [
       "\n",
       "\u001b[1;35mIndex\u001b[0m\u001b[1m(\u001b[0m\u001b[1m[\u001b[0m\u001b[32m'nombre_entidad'\u001b[0m, \u001b[32m'departamento'\u001b[0m, \u001b[32m'ciudad'\u001b[0m, \u001b[32m'orden'\u001b[0m,\n",
       "       \u001b[32m'proceso_de_compra'\u001b[0m, \u001b[32m'referencia_del_contrato'\u001b[0m, \u001b[32m'estado_contrato'\u001b[0m,\n",
       "       \u001b[32m'descripcion_del_proceso'\u001b[0m, \u001b[32m'modalidad_de_contratacion'\u001b[0m,\n",
       "       \u001b[32m'fecha_de_firma'\u001b[0m, \u001b[32m'fecha_de_inicio_del_contrato'\u001b[0m,\n",
       "       \u001b[32m'fecha_de_fin_del_contrato'\u001b[0m, \u001b[32m'tipodocproveedor'\u001b[0m, \u001b[32m'documento_proveedor'\u001b[0m,\n",
       "       \u001b[32m'proveedor_adjudicado'\u001b[0m, \u001b[32m'valor_del_contrato'\u001b[0m, \u001b[32m'objeto_del_contrato'\u001b[0m,\n",
       "       \u001b[32m'dias_adicionados'\u001b[0m, \u001b[32m'nit_entidad'\u001b[0m\u001b[1m]\u001b[0m,\n",
       "      \u001b[33mdtype\u001b[0m=\u001b[32m'object'\u001b[0m\u001b[1m)\u001b[0m\n"
      ]
     },
     "metadata": {},
     "output_type": "display_data"
    },
    {
     "data": {
      "text/html": [
       "<pre style=\"white-space:pre;overflow-x:auto;line-height:normal;font-family:Menlo,'DejaVu Sans Mono',consolas,'Courier New',monospace\"><span style=\"font-weight: bold\">&lt;</span><span style=\"color: #ff00ff; text-decoration-color: #ff00ff; font-weight: bold\">IPython.core.display.Javascript</span><span style=\"color: #000000; text-decoration-color: #000000\"> object</span><span style=\"font-weight: bold\">&gt;</span>\n",
       "</pre>\n"
      ],
      "text/plain": [
       "\u001b[1m<\u001b[0m\u001b[1;95mIPython.core.display.Javascript\u001b[0m\u001b[39m object\u001b[0m\u001b[1m>\u001b[0m\n"
      ]
     },
     "metadata": {},
     "output_type": "display_data"
    },
    {
     "data": {
      "application/javascript": [
       "\n",
       "            setTimeout(function() {\n",
       "                var nbb_cell_id = 10;\n",
       "                var nbb_unformatted_code = \"secop_cont.columns\";\n",
       "                var nbb_formatted_code = \"secop_cont.columns\";\n",
       "                var nbb_cells = Jupyter.notebook.get_cells();\n",
       "                for (var i = 0; i < nbb_cells.length; ++i) {\n",
       "                    if (nbb_cells[i].input_prompt_number == nbb_cell_id) {\n",
       "                        if (nbb_cells[i].get_text() == nbb_unformatted_code) {\n",
       "                             nbb_cells[i].set_text(nbb_formatted_code);\n",
       "                        }\n",
       "                        break;\n",
       "                    }\n",
       "                }\n",
       "            }, 500);\n",
       "            "
      ]
     },
     "metadata": {},
     "output_type": "display_data"
    }
   ],
   "source": [
    "secop_cont.columns"
   ]
  },
  {
   "cell_type": "code",
   "execution_count": 11,
   "id": "efd1f327",
   "metadata": {},
   "outputs": [
    {
     "data": {
      "text/html": [
       "<div>\n",
       "<style scoped>\n",
       "    .dataframe tbody tr th:only-of-type {\n",
       "        vertical-align: middle;\n",
       "    }\n",
       "\n",
       "    .dataframe tbody tr th {\n",
       "        vertical-align: top;\n",
       "    }\n",
       "\n",
       "    .dataframe thead th {\n",
       "        text-align: right;\n",
       "    }\n",
       "</style>\n",
       "<table border=\"1\" class=\"dataframe\">\n",
       "  <thead>\n",
       "    <tr style=\"text-align: right;\">\n",
       "      <th></th>\n",
       "      <th>nombre_entidad</th>\n",
       "      <th>departamento</th>\n",
       "      <th>ciudad</th>\n",
       "      <th>orden</th>\n",
       "      <th>proceso_de_compra</th>\n",
       "      <th>referencia_del_contrato</th>\n",
       "      <th>estado_contrato</th>\n",
       "      <th>descripcion_del_proceso</th>\n",
       "      <th>modalidad_de_contratacion</th>\n",
       "      <th>fecha_de_firma</th>\n",
       "      <th>fecha_de_inicio_del_contrato</th>\n",
       "      <th>fecha_de_fin_del_contrato</th>\n",
       "      <th>tipodocproveedor</th>\n",
       "      <th>documento_proveedor</th>\n",
       "      <th>proveedor_adjudicado</th>\n",
       "      <th>valor_del_contrato</th>\n",
       "      <th>objeto_del_contrato</th>\n",
       "      <th>dias_adicionados</th>\n",
       "      <th>nit_entidad</th>\n",
       "    </tr>\n",
       "  </thead>\n",
       "  <tbody>\n",
       "    <tr>\n",
       "      <th>0</th>\n",
       "      <td>Soporte CCE</td>\n",
       "      <td>Distrito Capital de Bogotá</td>\n",
       "      <td>No Definido</td>\n",
       "      <td>No Definido</td>\n",
       "      <td>Desconocido</td>\n",
       "      <td>N/A</td>\n",
       "      <td>Borrador</td>\n",
       "      <td>Sin Descripcion</td>\n",
       "      <td>No Definido</td>\n",
       "      <td>None</td>\n",
       "      <td>None</td>\n",
       "      <td>None</td>\n",
       "      <td>No Definido</td>\n",
       "      <td>No Definido</td>\n",
       "      <td>No Definido</td>\n",
       "      <td>0</td>\n",
       "      <td></td>\n",
       "      <td>0</td>\n",
       "      <td>1</td>\n",
       "    </tr>\n",
       "    <tr>\n",
       "      <th>1</th>\n",
       "      <td>Soporte CCE</td>\n",
       "      <td>Distrito Capital de Bogotá</td>\n",
       "      <td>No Definido</td>\n",
       "      <td>No Definido</td>\n",
       "      <td>Desconocido</td>\n",
       "      <td>N/A</td>\n",
       "      <td>Borrador</td>\n",
       "      <td>Sin Descripcion</td>\n",
       "      <td>No Definido</td>\n",
       "      <td>None</td>\n",
       "      <td>None</td>\n",
       "      <td>None</td>\n",
       "      <td>No Definido</td>\n",
       "      <td>No Definido</td>\n",
       "      <td>No Definido</td>\n",
       "      <td>0</td>\n",
       "      <td></td>\n",
       "      <td>0</td>\n",
       "      <td>1</td>\n",
       "    </tr>\n",
       "    <tr>\n",
       "      <th>2</th>\n",
       "      <td>Soporte CCE</td>\n",
       "      <td>Distrito Capital de Bogotá</td>\n",
       "      <td>No Definido</td>\n",
       "      <td>No Definido</td>\n",
       "      <td>Desconocido</td>\n",
       "      <td>N/A</td>\n",
       "      <td>Borrador</td>\n",
       "      <td>Sin Descripcion</td>\n",
       "      <td>No Definido</td>\n",
       "      <td>None</td>\n",
       "      <td>None</td>\n",
       "      <td>None</td>\n",
       "      <td>No Definido</td>\n",
       "      <td>No Definido</td>\n",
       "      <td>No Definido</td>\n",
       "      <td>0</td>\n",
       "      <td></td>\n",
       "      <td>0</td>\n",
       "      <td>1</td>\n",
       "    </tr>\n",
       "    <tr>\n",
       "      <th>3</th>\n",
       "      <td>Soporte CCE</td>\n",
       "      <td>Distrito Capital de Bogotá</td>\n",
       "      <td>No Definido</td>\n",
       "      <td>No Definido</td>\n",
       "      <td>Desconocido</td>\n",
       "      <td>N/A</td>\n",
       "      <td>Borrador</td>\n",
       "      <td>Sin Descripcion</td>\n",
       "      <td>No Definido</td>\n",
       "      <td>None</td>\n",
       "      <td>None</td>\n",
       "      <td>None</td>\n",
       "      <td>No Definido</td>\n",
       "      <td>No Definido</td>\n",
       "      <td>No Definido</td>\n",
       "      <td>0</td>\n",
       "      <td></td>\n",
       "      <td>0</td>\n",
       "      <td>1</td>\n",
       "    </tr>\n",
       "    <tr>\n",
       "      <th>4</th>\n",
       "      <td>Soporte CCE</td>\n",
       "      <td>Distrito Capital de Bogotá</td>\n",
       "      <td>No Definido</td>\n",
       "      <td>No Definido</td>\n",
       "      <td>Desconocido</td>\n",
       "      <td>N/A</td>\n",
       "      <td>Borrador</td>\n",
       "      <td>Sin Descripcion</td>\n",
       "      <td>No Definido</td>\n",
       "      <td>None</td>\n",
       "      <td>None</td>\n",
       "      <td>None</td>\n",
       "      <td>No Definido</td>\n",
       "      <td>No Definido</td>\n",
       "      <td>No Definido</td>\n",
       "      <td>0</td>\n",
       "      <td></td>\n",
       "      <td>0</td>\n",
       "      <td>1</td>\n",
       "    </tr>\n",
       "  </tbody>\n",
       "</table>\n",
       "</div>"
      ]
     },
     "execution_count": 11,
     "metadata": {},
     "output_type": "execute_result"
    },
    {
     "data": {
      "text/html": [
       "<pre style=\"white-space:pre;overflow-x:auto;line-height:normal;font-family:Menlo,'DejaVu Sans Mono',consolas,'Courier New',monospace\"><span style=\"font-weight: bold\">&lt;</span><span style=\"color: #ff00ff; text-decoration-color: #ff00ff; font-weight: bold\">IPython.core.display.Javascript</span><span style=\"color: #000000; text-decoration-color: #000000\"> object</span><span style=\"font-weight: bold\">&gt;</span>\n",
       "</pre>\n"
      ],
      "text/plain": [
       "\u001b[1m<\u001b[0m\u001b[1;95mIPython.core.display.Javascript\u001b[0m\u001b[39m object\u001b[0m\u001b[1m>\u001b[0m\n"
      ]
     },
     "metadata": {},
     "output_type": "display_data"
    },
    {
     "data": {
      "application/javascript": [
       "\n",
       "            setTimeout(function() {\n",
       "                var nbb_cell_id = 11;\n",
       "                var nbb_unformatted_code = \"secop_cont.head()\";\n",
       "                var nbb_formatted_code = \"secop_cont.head()\";\n",
       "                var nbb_cells = Jupyter.notebook.get_cells();\n",
       "                for (var i = 0; i < nbb_cells.length; ++i) {\n",
       "                    if (nbb_cells[i].input_prompt_number == nbb_cell_id) {\n",
       "                        if (nbb_cells[i].get_text() == nbb_unformatted_code) {\n",
       "                             nbb_cells[i].set_text(nbb_formatted_code);\n",
       "                        }\n",
       "                        break;\n",
       "                    }\n",
       "                }\n",
       "            }, 500);\n",
       "            "
      ]
     },
     "metadata": {},
     "output_type": "display_data"
    }
   ],
   "source": [
    "secop_cont.head()"
   ]
  },
  {
   "cell_type": "code",
   "execution_count": null,
   "id": "b8812c9b",
   "metadata": {},
   "outputs": [],
   "source": []
  }
 ],
 "metadata": {
  "kernelspec": {
   "display_name": "Kedro (secop)",
   "language": "python",
   "name": "kedro_secop"
  },
  "language_info": {
   "codemirror_mode": {
    "name": "ipython",
    "version": 3
   },
   "file_extension": ".py",
   "mimetype": "text/x-python",
   "name": "python",
   "nbconvert_exporter": "python",
   "pygments_lexer": "ipython3",
   "version": "3.10.5"
  }
 },
 "nbformat": 4,
 "nbformat_minor": 5
}
