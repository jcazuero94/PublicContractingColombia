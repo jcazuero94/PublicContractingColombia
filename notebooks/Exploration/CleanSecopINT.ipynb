{
 "cells": [
  {
   "cell_type": "code",
   "execution_count": 41,
   "id": "6664f06a",
   "metadata": {},
   "outputs": [
    {
     "data": {
      "text/html": [
       "<pre style=\"white-space:pre;overflow-x:auto;line-height:normal;font-family:Menlo,'DejaVu Sans Mono',consolas,'Courier New',monospace\"><span style=\"font-weight: bold\">&lt;</span><span style=\"color: #ff00ff; text-decoration-color: #ff00ff; font-weight: bold\">IPython.core.display.Javascript</span><span style=\"color: #000000; text-decoration-color: #000000\"> object</span><span style=\"font-weight: bold\">&gt;</span>\n",
       "</pre>\n"
      ],
      "text/plain": [
       "\u001b[1m<\u001b[0m\u001b[1;95mIPython.core.display.Javascript\u001b[0m\u001b[39m object\u001b[0m\u001b[1m>\u001b[0m\n"
      ]
     },
     "metadata": {},
     "output_type": "display_data"
    },
    {
     "data": {
      "application/javascript": [
       "\n",
       "            setTimeout(function() {\n",
       "                var nbb_cell_id = 41;\n",
       "                var nbb_unformatted_code = \"import pandas as pd\\nimport numpy as np\\nimport json\\nimport matplotlib.pyplot as plt\\nfrom sodapy import Socrata\\nimport datetime\\n\\nfrom pyspark.sql import SparkSession\\nfrom pyspark.sql import SQLContext\\nimport pyspark.sql.functions as F\\nfrom pyspark.sql.functions import col, when, lit, udf\\nfrom secop.pipelines.data_engineering.utilities import _remove_tildes\";\n",
       "                var nbb_formatted_code = \"import pandas as pd\\nimport numpy as np\\nimport json\\nimport matplotlib.pyplot as plt\\nfrom sodapy import Socrata\\nimport datetime\\n\\nfrom pyspark.sql import SparkSession\\nfrom pyspark.sql import SQLContext\\nimport pyspark.sql.functions as F\\nfrom pyspark.sql.functions import col, when, lit, udf\\nfrom secop.pipelines.data_engineering.utilities import _remove_tildes\";\n",
       "                var nbb_cells = Jupyter.notebook.get_cells();\n",
       "                for (var i = 0; i < nbb_cells.length; ++i) {\n",
       "                    if (nbb_cells[i].input_prompt_number == nbb_cell_id) {\n",
       "                        if (nbb_cells[i].get_text() == nbb_unformatted_code) {\n",
       "                             nbb_cells[i].set_text(nbb_formatted_code);\n",
       "                        }\n",
       "                        break;\n",
       "                    }\n",
       "                }\n",
       "            }, 500);\n",
       "            "
      ]
     },
     "metadata": {},
     "output_type": "display_data"
    }
   ],
   "source": [
    "import pandas as pd\n",
    "import numpy as np\n",
    "import json\n",
    "import matplotlib.pyplot as plt\n",
    "from sodapy import Socrata\n",
    "import datetime\n",
    "\n",
    "from pyspark.sql import SparkSession\n",
    "from pyspark.sql import SQLContext\n",
    "import pyspark.sql.functions as F\n",
    "from pyspark.sql.functions import col, when, lit, udf\n",
    "from secop.pipelines.data_engineering.utilities import _remove_tildes"
   ]
  },
  {
   "cell_type": "code",
   "execution_count": 2,
   "id": "8a1d9003",
   "metadata": {},
   "outputs": [
    {
     "data": {
      "text/html": [
       "<pre style=\"white-space:pre;overflow-x:auto;line-height:normal;font-family:Menlo,'DejaVu Sans Mono',consolas,'Courier New',monospace\"><span style=\"font-weight: bold\">&lt;</span><span style=\"color: #ff00ff; text-decoration-color: #ff00ff; font-weight: bold\">IPython.core.display.Javascript</span><span style=\"color: #000000; text-decoration-color: #000000\"> object</span><span style=\"font-weight: bold\">&gt;</span>\n",
       "</pre>\n"
      ],
      "text/plain": [
       "\u001b[1m<\u001b[0m\u001b[1;95mIPython.core.display.Javascript\u001b[0m\u001b[39m object\u001b[0m\u001b[1m>\u001b[0m\n"
      ]
     },
     "metadata": {},
     "output_type": "display_data"
    },
    {
     "data": {
      "application/javascript": [
       "\n",
       "            setTimeout(function() {\n",
       "                var nbb_cell_id = 2;\n",
       "                var nbb_unformatted_code = \"%load_ext nb_black\\n%matplotlib inline\";\n",
       "                var nbb_formatted_code = \"%load_ext nb_black\\n%matplotlib inline\";\n",
       "                var nbb_cells = Jupyter.notebook.get_cells();\n",
       "                for (var i = 0; i < nbb_cells.length; ++i) {\n",
       "                    if (nbb_cells[i].input_prompt_number == nbb_cell_id) {\n",
       "                        if (nbb_cells[i].get_text() == nbb_unformatted_code) {\n",
       "                             nbb_cells[i].set_text(nbb_formatted_code);\n",
       "                        }\n",
       "                        break;\n",
       "                    }\n",
       "                }\n",
       "            }, 500);\n",
       "            "
      ]
     },
     "metadata": {},
     "output_type": "display_data"
    }
   ],
   "source": [
    "%load_ext nb_black\n",
    "%matplotlib inline"
   ]
  },
  {
   "cell_type": "code",
   "execution_count": 4,
   "id": "5f2d604a",
   "metadata": {
    "scrolled": true
   },
   "outputs": [
    {
     "data": {
      "text/html": [
       "<pre style=\"white-space:pre;overflow-x:auto;line-height:normal;font-family:Menlo,'DejaVu Sans Mono',consolas,'Courier New',monospace\"><span style=\"color: #7fbfbf; text-decoration-color: #7fbfbf\">[08/11/22 09:57:33] </span><span style=\"color: #000080; text-decoration-color: #000080\">INFO    </span> Loading data from <span style=\"color: #008000; text-decoration-color: #008000\">'secop_int'</span> <span style=\"font-weight: bold\">(</span>SparkDataSetSECOP<span style=\"font-weight: bold\">)</span><span style=\"color: #808000; text-decoration-color: #808000\">...</span>               <a href=\"file:///opt/homebrew/Caskroom/miniforge/base/envs/dm_project/lib/python3.10/site-packages/kedro/io/data_catalog.py\" target=\"_blank\"><span style=\"color: #7f7f7f; text-decoration-color: #7f7f7f\">data_catalog.py</span></a><span style=\"color: #7f7f7f; text-decoration-color: #7f7f7f\">:</span><a href=\"file:///opt/homebrew/Caskroom/miniforge/base/envs/dm_project/lib/python3.10/site-packages/kedro/io/data_catalog.py#343\" target=\"_blank\"><span style=\"color: #7f7f7f; text-decoration-color: #7f7f7f\">343</span></a>\n",
       "</pre>\n"
      ],
      "text/plain": [
       "\u001b[2;36m[08/11/22 09:57:33]\u001b[0m\u001b[2;36m \u001b[0m\u001b[34mINFO    \u001b[0m Loading data from \u001b[32m'secop_int'\u001b[0m \u001b[1m(\u001b[0mSparkDataSetSECOP\u001b[1m)\u001b[0m\u001b[33m...\u001b[0m               \u001b]8;id=687168;file:///opt/homebrew/Caskroom/miniforge/base/envs/dm_project/lib/python3.10/site-packages/kedro/io/data_catalog.py\u001b\\\u001b[2mdata_catalog.py\u001b[0m\u001b]8;;\u001b\\\u001b[2m:\u001b[0m\u001b]8;id=150964;file:///opt/homebrew/Caskroom/miniforge/base/envs/dm_project/lib/python3.10/site-packages/kedro/io/data_catalog.py#343\u001b\\\u001b[2m343\u001b[0m\u001b]8;;\u001b\\\n"
      ]
     },
     "metadata": {},
     "output_type": "display_data"
    },
    {
     "name": "stderr",
     "output_type": "stream",
     "text": [
      "                                                                                \r"
     ]
    },
    {
     "data": {
      "text/html": [
       "<pre style=\"white-space:pre;overflow-x:auto;line-height:normal;font-family:Menlo,'DejaVu Sans Mono',consolas,'Courier New',monospace\"><span style=\"font-weight: bold\">&lt;</span><span style=\"color: #ff00ff; text-decoration-color: #ff00ff; font-weight: bold\">IPython.core.display.Javascript</span><span style=\"color: #000000; text-decoration-color: #000000\"> object</span><span style=\"font-weight: bold\">&gt;</span>\n",
       "</pre>\n"
      ],
      "text/plain": [
       "\u001b[1m<\u001b[0m\u001b[1;95mIPython.core.display.Javascript\u001b[0m\u001b[39m object\u001b[0m\u001b[1m>\u001b[0m\n"
      ]
     },
     "metadata": {},
     "output_type": "display_data"
    },
    {
     "data": {
      "application/javascript": [
       "\n",
       "            setTimeout(function() {\n",
       "                var nbb_cell_id = 4;\n",
       "                var nbb_unformatted_code = \"secop_int = catalog.load(\\\"secop_int\\\")\";\n",
       "                var nbb_formatted_code = \"secop_int = catalog.load(\\\"secop_int\\\")\";\n",
       "                var nbb_cells = Jupyter.notebook.get_cells();\n",
       "                for (var i = 0; i < nbb_cells.length; ++i) {\n",
       "                    if (nbb_cells[i].input_prompt_number == nbb_cell_id) {\n",
       "                        if (nbb_cells[i].get_text() == nbb_unformatted_code) {\n",
       "                             nbb_cells[i].set_text(nbb_formatted_code);\n",
       "                        }\n",
       "                        break;\n",
       "                    }\n",
       "                }\n",
       "            }, 500);\n",
       "            "
      ]
     },
     "metadata": {},
     "output_type": "display_data"
    }
   ],
   "source": [
    "secop_int = catalog.load(\"secop_int\")"
   ]
  },
  {
   "cell_type": "code",
   "execution_count": 5,
   "id": "bf9ac6d5",
   "metadata": {},
   "outputs": [
    {
     "data": {
      "text/html": [
       "<pre style=\"white-space:pre;overflow-x:auto;line-height:normal;font-family:Menlo,'DejaVu Sans Mono',consolas,'Courier New',monospace\">DataFrame<span style=\"font-weight: bold\">[</span>nivel_entidad: string, nombre_de_la_entidad: string, estado_del_proceso: string, modalidad_de_contrataci_n: string, objeto_a_contratar: string, tipo_de_contrato: string, numero_del_contrato: string, numero_de_proceso: string, valor_contrato: string, nom_raz_social_contratista: string, departamento_entidad: string, municipio_entidad: string, objeto_del_proceso: string, tipo_contrato: string, origen: string, nit_de_la_entidad: string<span style=\"font-weight: bold\">]</span>\n",
       "</pre>\n"
      ],
      "text/plain": [
       "DataFrame\u001b[1m[\u001b[0mnivel_entidad: string, nombre_de_la_entidad: string, estado_del_proceso: string, modalidad_de_contrataci_n: string, objeto_a_contratar: string, tipo_de_contrato: string, numero_del_contrato: string, numero_de_proceso: string, valor_contrato: string, nom_raz_social_contratista: string, departamento_entidad: string, municipio_entidad: string, objeto_del_proceso: string, tipo_contrato: string, origen: string, nit_de_la_entidad: string\u001b[1m]\u001b[0m\n"
      ]
     },
     "metadata": {},
     "output_type": "display_data"
    },
    {
     "data": {
      "text/html": [
       "<pre style=\"white-space:pre;overflow-x:auto;line-height:normal;font-family:Menlo,'DejaVu Sans Mono',consolas,'Courier New',monospace\"><span style=\"font-weight: bold\">&lt;</span><span style=\"color: #ff00ff; text-decoration-color: #ff00ff; font-weight: bold\">IPython.core.display.Javascript</span><span style=\"color: #000000; text-decoration-color: #000000\"> object</span><span style=\"font-weight: bold\">&gt;</span>\n",
       "</pre>\n"
      ],
      "text/plain": [
       "\u001b[1m<\u001b[0m\u001b[1;95mIPython.core.display.Javascript\u001b[0m\u001b[39m object\u001b[0m\u001b[1m>\u001b[0m\n"
      ]
     },
     "metadata": {},
     "output_type": "display_data"
    },
    {
     "data": {
      "application/javascript": [
       "\n",
       "            setTimeout(function() {\n",
       "                var nbb_cell_id = 5;\n",
       "                var nbb_unformatted_code = \"secop_int.cache()\";\n",
       "                var nbb_formatted_code = \"secop_int.cache()\";\n",
       "                var nbb_cells = Jupyter.notebook.get_cells();\n",
       "                for (var i = 0; i < nbb_cells.length; ++i) {\n",
       "                    if (nbb_cells[i].input_prompt_number == nbb_cell_id) {\n",
       "                        if (nbb_cells[i].get_text() == nbb_unformatted_code) {\n",
       "                             nbb_cells[i].set_text(nbb_formatted_code);\n",
       "                        }\n",
       "                        break;\n",
       "                    }\n",
       "                }\n",
       "            }, 500);\n",
       "            "
      ]
     },
     "metadata": {},
     "output_type": "display_data"
    }
   ],
   "source": [
    "secop_int.cache()"
   ]
  },
  {
   "cell_type": "code",
   "execution_count": 6,
   "id": "db1e7c34",
   "metadata": {},
   "outputs": [
    {
     "data": {
      "text/html": [
       "<pre style=\"white-space:pre;overflow-x:auto;line-height:normal;font-family:Menlo,'DejaVu Sans Mono',consolas,'Courier New',monospace\">\n",
       "<span style=\"font-weight: bold\">[</span>\n",
       "    <span style=\"color: #008000; text-decoration-color: #008000\">'nivel_entidad'</span>,\n",
       "    <span style=\"color: #008000; text-decoration-color: #008000\">'nombre_de_la_entidad'</span>,\n",
       "    <span style=\"color: #008000; text-decoration-color: #008000\">'estado_del_proceso'</span>,\n",
       "    <span style=\"color: #008000; text-decoration-color: #008000\">'modalidad_de_contrataci_n'</span>,\n",
       "    <span style=\"color: #008000; text-decoration-color: #008000\">'objeto_a_contratar'</span>,\n",
       "    <span style=\"color: #008000; text-decoration-color: #008000\">'tipo_de_contrato'</span>,\n",
       "    <span style=\"color: #008000; text-decoration-color: #008000\">'numero_del_contrato'</span>,\n",
       "    <span style=\"color: #008000; text-decoration-color: #008000\">'numero_de_proceso'</span>,\n",
       "    <span style=\"color: #008000; text-decoration-color: #008000\">'valor_contrato'</span>,\n",
       "    <span style=\"color: #008000; text-decoration-color: #008000\">'nom_raz_social_contratista'</span>,\n",
       "    <span style=\"color: #008000; text-decoration-color: #008000\">'departamento_entidad'</span>,\n",
       "    <span style=\"color: #008000; text-decoration-color: #008000\">'municipio_entidad'</span>,\n",
       "    <span style=\"color: #008000; text-decoration-color: #008000\">'objeto_del_proceso'</span>,\n",
       "    <span style=\"color: #008000; text-decoration-color: #008000\">'tipo_contrato'</span>,\n",
       "    <span style=\"color: #008000; text-decoration-color: #008000\">'origen'</span>,\n",
       "    <span style=\"color: #008000; text-decoration-color: #008000\">'nit_de_la_entidad'</span>\n",
       "<span style=\"font-weight: bold\">]</span>\n",
       "</pre>\n"
      ],
      "text/plain": [
       "\n",
       "\u001b[1m[\u001b[0m\n",
       "    \u001b[32m'nivel_entidad'\u001b[0m,\n",
       "    \u001b[32m'nombre_de_la_entidad'\u001b[0m,\n",
       "    \u001b[32m'estado_del_proceso'\u001b[0m,\n",
       "    \u001b[32m'modalidad_de_contrataci_n'\u001b[0m,\n",
       "    \u001b[32m'objeto_a_contratar'\u001b[0m,\n",
       "    \u001b[32m'tipo_de_contrato'\u001b[0m,\n",
       "    \u001b[32m'numero_del_contrato'\u001b[0m,\n",
       "    \u001b[32m'numero_de_proceso'\u001b[0m,\n",
       "    \u001b[32m'valor_contrato'\u001b[0m,\n",
       "    \u001b[32m'nom_raz_social_contratista'\u001b[0m,\n",
       "    \u001b[32m'departamento_entidad'\u001b[0m,\n",
       "    \u001b[32m'municipio_entidad'\u001b[0m,\n",
       "    \u001b[32m'objeto_del_proceso'\u001b[0m,\n",
       "    \u001b[32m'tipo_contrato'\u001b[0m,\n",
       "    \u001b[32m'origen'\u001b[0m,\n",
       "    \u001b[32m'nit_de_la_entidad'\u001b[0m\n",
       "\u001b[1m]\u001b[0m\n"
      ]
     },
     "metadata": {},
     "output_type": "display_data"
    },
    {
     "data": {
      "text/html": [
       "<pre style=\"white-space:pre;overflow-x:auto;line-height:normal;font-family:Menlo,'DejaVu Sans Mono',consolas,'Courier New',monospace\"><span style=\"font-weight: bold\">&lt;</span><span style=\"color: #ff00ff; text-decoration-color: #ff00ff; font-weight: bold\">IPython.core.display.Javascript</span><span style=\"color: #000000; text-decoration-color: #000000\"> object</span><span style=\"font-weight: bold\">&gt;</span>\n",
       "</pre>\n"
      ],
      "text/plain": [
       "\u001b[1m<\u001b[0m\u001b[1;95mIPython.core.display.Javascript\u001b[0m\u001b[39m object\u001b[0m\u001b[1m>\u001b[0m\n"
      ]
     },
     "metadata": {},
     "output_type": "display_data"
    },
    {
     "data": {
      "application/javascript": [
       "\n",
       "            setTimeout(function() {\n",
       "                var nbb_cell_id = 6;\n",
       "                var nbb_unformatted_code = \"secop_int.columns\";\n",
       "                var nbb_formatted_code = \"secop_int.columns\";\n",
       "                var nbb_cells = Jupyter.notebook.get_cells();\n",
       "                for (var i = 0; i < nbb_cells.length; ++i) {\n",
       "                    if (nbb_cells[i].input_prompt_number == nbb_cell_id) {\n",
       "                        if (nbb_cells[i].get_text() == nbb_unformatted_code) {\n",
       "                             nbb_cells[i].set_text(nbb_formatted_code);\n",
       "                        }\n",
       "                        break;\n",
       "                    }\n",
       "                }\n",
       "            }, 500);\n",
       "            "
      ]
     },
     "metadata": {},
     "output_type": "display_data"
    }
   ],
   "source": [
    "secop_int.columns"
   ]
  },
  {
   "cell_type": "code",
   "execution_count": 33,
   "id": "c0de6468",
   "metadata": {},
   "outputs": [
    {
     "data": {
      "text/html": [
       "<pre style=\"white-space:pre;overflow-x:auto;line-height:normal;font-family:Menlo,'DejaVu Sans Mono',consolas,'Courier New',monospace\"><span style=\"font-weight: bold\">&lt;</span><span style=\"color: #ff00ff; text-decoration-color: #ff00ff; font-weight: bold\">IPython.core.display.Javascript</span><span style=\"color: #000000; text-decoration-color: #000000\"> object</span><span style=\"font-weight: bold\">&gt;</span>\n",
       "</pre>\n"
      ],
      "text/plain": [
       "\u001b[1m<\u001b[0m\u001b[1;95mIPython.core.display.Javascript\u001b[0m\u001b[39m object\u001b[0m\u001b[1m>\u001b[0m\n"
      ]
     },
     "metadata": {},
     "output_type": "display_data"
    },
    {
     "data": {
      "application/javascript": [
       "\n",
       "            setTimeout(function() {\n",
       "                var nbb_cell_id = 33;\n",
       "                var nbb_unformatted_code = \"secop_int = secop_int.drop(\\\"origen\\\", \\\"tipo_contrato\\\",'numero_del_contrato','numero_de_proceso')\";\n",
       "                var nbb_formatted_code = \"secop_int = secop_int.drop(\\n    \\\"origen\\\", \\\"tipo_contrato\\\", \\\"numero_del_contrato\\\", \\\"numero_de_proceso\\\"\\n)\";\n",
       "                var nbb_cells = Jupyter.notebook.get_cells();\n",
       "                for (var i = 0; i < nbb_cells.length; ++i) {\n",
       "                    if (nbb_cells[i].input_prompt_number == nbb_cell_id) {\n",
       "                        if (nbb_cells[i].get_text() == nbb_unformatted_code) {\n",
       "                             nbb_cells[i].set_text(nbb_formatted_code);\n",
       "                        }\n",
       "                        break;\n",
       "                    }\n",
       "                }\n",
       "            }, 500);\n",
       "            "
      ]
     },
     "metadata": {},
     "output_type": "display_data"
    }
   ],
   "source": [
    "secop_int = secop_int.drop(\n",
    "    \"origen\", \"tipo_contrato\", \"numero_del_contrato\", \"numero_de_proceso\"\n",
    ")"
   ]
  },
  {
   "cell_type": "code",
   "execution_count": 7,
   "id": "fda7f021",
   "metadata": {},
   "outputs": [
    {
     "data": {
      "text/html": [
       "<pre style=\"white-space:pre;overflow-x:auto;line-height:normal;font-family:Menlo,'DejaVu Sans Mono',consolas,'Courier New',monospace\"><span style=\"font-weight: bold\">&lt;</span><span style=\"color: #ff00ff; text-decoration-color: #ff00ff; font-weight: bold\">IPython.core.display.Javascript</span><span style=\"color: #000000; text-decoration-color: #000000\"> object</span><span style=\"font-weight: bold\">&gt;</span>\n",
       "</pre>\n"
      ],
      "text/plain": [
       "\u001b[1m<\u001b[0m\u001b[1;95mIPython.core.display.Javascript\u001b[0m\u001b[39m object\u001b[0m\u001b[1m>\u001b[0m\n"
      ]
     },
     "metadata": {},
     "output_type": "display_data"
    },
    {
     "data": {
      "application/javascript": [
       "\n",
       "            setTimeout(function() {\n",
       "                var nbb_cell_id = 7;\n",
       "                var nbb_unformatted_code = \"secop_int = secop_int.withColumn(\\\"nivel_entidad\\\", F.lower(col(\\\"nivel_entidad\\\")))\";\n",
       "                var nbb_formatted_code = \"secop_int = secop_int.withColumn(\\\"nivel_entidad\\\", F.lower(col(\\\"nivel_entidad\\\")))\";\n",
       "                var nbb_cells = Jupyter.notebook.get_cells();\n",
       "                for (var i = 0; i < nbb_cells.length; ++i) {\n",
       "                    if (nbb_cells[i].input_prompt_number == nbb_cell_id) {\n",
       "                        if (nbb_cells[i].get_text() == nbb_unformatted_code) {\n",
       "                             nbb_cells[i].set_text(nbb_formatted_code);\n",
       "                        }\n",
       "                        break;\n",
       "                    }\n",
       "                }\n",
       "            }, 500);\n",
       "            "
      ]
     },
     "metadata": {},
     "output_type": "display_data"
    }
   ],
   "source": [
    "secop_int = secop_int.withColumn(\"nivel_entidad\", F.lower(col(\"nivel_entidad\")))"
   ]
  },
  {
   "cell_type": "code",
   "execution_count": 8,
   "id": "ea135135",
   "metadata": {},
   "outputs": [
    {
     "name": "stderr",
     "output_type": "stream",
     "text": [
      "[Stage 2:======================================================>(292 + 3) / 295]\r"
     ]
    },
    {
     "name": "stdout",
     "output_type": "stream",
     "text": [
      "+-------------+-------+\n",
      "|nivel_entidad|  count|\n",
      "+-------------+-------+\n",
      "|  territorial|1601071|\n",
      "|  no definido|  32651|\n",
      "|     nacional|  37586|\n",
      "+-------------+-------+\n",
      "\n"
     ]
    },
    {
     "name": "stderr",
     "output_type": "stream",
     "text": [
      "\r",
      "                                                                                \r"
     ]
    },
    {
     "data": {
      "text/html": [
       "<pre style=\"white-space:pre;overflow-x:auto;line-height:normal;font-family:Menlo,'DejaVu Sans Mono',consolas,'Courier New',monospace\"><span style=\"font-weight: bold\">&lt;</span><span style=\"color: #ff00ff; text-decoration-color: #ff00ff; font-weight: bold\">IPython.core.display.Javascript</span><span style=\"color: #000000; text-decoration-color: #000000\"> object</span><span style=\"font-weight: bold\">&gt;</span>\n",
       "</pre>\n"
      ],
      "text/plain": [
       "\u001b[1m<\u001b[0m\u001b[1;95mIPython.core.display.Javascript\u001b[0m\u001b[39m object\u001b[0m\u001b[1m>\u001b[0m\n"
      ]
     },
     "metadata": {},
     "output_type": "display_data"
    },
    {
     "data": {
      "application/javascript": [
       "\n",
       "            setTimeout(function() {\n",
       "                var nbb_cell_id = 8;\n",
       "                var nbb_unformatted_code = \"secop_int.groupBy(\\\"nivel_entidad\\\").count().show()\";\n",
       "                var nbb_formatted_code = \"secop_int.groupBy(\\\"nivel_entidad\\\").count().show()\";\n",
       "                var nbb_cells = Jupyter.notebook.get_cells();\n",
       "                for (var i = 0; i < nbb_cells.length; ++i) {\n",
       "                    if (nbb_cells[i].input_prompt_number == nbb_cell_id) {\n",
       "                        if (nbb_cells[i].get_text() == nbb_unformatted_code) {\n",
       "                             nbb_cells[i].set_text(nbb_formatted_code);\n",
       "                        }\n",
       "                        break;\n",
       "                    }\n",
       "                }\n",
       "            }, 500);\n",
       "            "
      ]
     },
     "metadata": {},
     "output_type": "display_data"
    }
   ],
   "source": [
    "secop_int.groupBy(\"nivel_entidad\").count().show()"
   ]
  },
  {
   "cell_type": "code",
   "execution_count": 9,
   "id": "ddd545dd",
   "metadata": {},
   "outputs": [
    {
     "data": {
      "text/html": [
       "<pre style=\"white-space:pre;overflow-x:auto;line-height:normal;font-family:Menlo,'DejaVu Sans Mono',consolas,'Courier New',monospace\"><span style=\"font-weight: bold\">&lt;</span><span style=\"color: #ff00ff; text-decoration-color: #ff00ff; font-weight: bold\">IPython.core.display.Javascript</span><span style=\"color: #000000; text-decoration-color: #000000\"> object</span><span style=\"font-weight: bold\">&gt;</span>\n",
       "</pre>\n"
      ],
      "text/plain": [
       "\u001b[1m<\u001b[0m\u001b[1;95mIPython.core.display.Javascript\u001b[0m\u001b[39m object\u001b[0m\u001b[1m>\u001b[0m\n"
      ]
     },
     "metadata": {},
     "output_type": "display_data"
    },
    {
     "data": {
      "application/javascript": [
       "\n",
       "            setTimeout(function() {\n",
       "                var nbb_cell_id = 9;\n",
       "                var nbb_unformatted_code = \"secop_int = secop_int.withColumn(\\n    \\\"estado_del_proceso\\\", udf(remove_tildes)(F.lower(col(\\\"estado_del_proceso\\\")))\\n)\";\n",
       "                var nbb_formatted_code = \"secop_int = secop_int.withColumn(\\n    \\\"estado_del_proceso\\\", udf(remove_tildes)(F.lower(col(\\\"estado_del_proceso\\\")))\\n)\";\n",
       "                var nbb_cells = Jupyter.notebook.get_cells();\n",
       "                for (var i = 0; i < nbb_cells.length; ++i) {\n",
       "                    if (nbb_cells[i].input_prompt_number == nbb_cell_id) {\n",
       "                        if (nbb_cells[i].get_text() == nbb_unformatted_code) {\n",
       "                             nbb_cells[i].set_text(nbb_formatted_code);\n",
       "                        }\n",
       "                        break;\n",
       "                    }\n",
       "                }\n",
       "            }, 500);\n",
       "            "
      ]
     },
     "metadata": {},
     "output_type": "display_data"
    }
   ],
   "source": [
    "secop_int = secop_int.withColumn(\n",
    "    \"estado_del_proceso\", udf(remove_tildes)(F.lower(col(\"estado_del_proceso\")))\n",
    ")"
   ]
  },
  {
   "cell_type": "code",
   "execution_count": 10,
   "id": "b181e009",
   "metadata": {},
   "outputs": [
    {
     "data": {
      "text/html": [
       "<pre style=\"white-space:pre;overflow-x:auto;line-height:normal;font-family:Menlo,'DejaVu Sans Mono',consolas,'Courier New',monospace\"><span style=\"color: #7fbfbf; text-decoration-color: #7fbfbf\">[08/11/22 10:02:31] </span><span style=\"color: #800000; text-decoration-color: #800000\">WARNING </span> <span style=\"color: #800080; text-decoration-color: #800080\">/opt/homebrew/Caskroom/miniforge/base/envs/dm_project/lib/python3.10/s</span> <a href=\"file:///opt/homebrew/Caskroom/miniforge/base/envs/dm_project/lib/python3.10/warnings.py\" target=\"_blank\"><span style=\"color: #7f7f7f; text-decoration-color: #7f7f7f\">warnings.py</span></a><span style=\"color: #7f7f7f; text-decoration-color: #7f7f7f\">:</span><a href=\"file:///opt/homebrew/Caskroom/miniforge/base/envs/dm_project/lib/python3.10/warnings.py#109\" target=\"_blank\"><span style=\"color: #7f7f7f; text-decoration-color: #7f7f7f\">109</span></a>\n",
       "<span style=\"color: #7fbfbf; text-decoration-color: #7fbfbf\">                    </span>         <span style=\"color: #800080; text-decoration-color: #800080\">ite-packages/pyspark/sql/pandas/</span><span style=\"color: #ff00ff; text-decoration-color: #ff00ff\">utils.py</span>:<span style=\"color: #008080; text-decoration-color: #008080; font-weight: bold\">35</span>: DeprecationWarning:       <span style=\"color: #7f7f7f; text-decoration-color: #7f7f7f\">               </span>\n",
       "<span style=\"color: #7fbfbf; text-decoration-color: #7fbfbf\">                    </span>         distutils Version classes are deprecated. Use packaging.version        <span style=\"color: #7f7f7f; text-decoration-color: #7f7f7f\">               </span>\n",
       "<span style=\"color: #7fbfbf; text-decoration-color: #7fbfbf\">                    </span>         instead.                                                               <span style=\"color: #7f7f7f; text-decoration-color: #7f7f7f\">               </span>\n",
       "<span style=\"color: #7fbfbf; text-decoration-color: #7fbfbf\">                    </span>           if <span style=\"color: #800080; text-decoration-color: #800080; font-weight: bold\">LooseVersion</span><span style=\"font-weight: bold\">(</span>pandas.__version__<span style=\"font-weight: bold\">)</span> &lt;                                <span style=\"color: #7f7f7f; text-decoration-color: #7f7f7f\">               </span>\n",
       "<span style=\"color: #7fbfbf; text-decoration-color: #7fbfbf\">                    </span>         <span style=\"color: #800080; text-decoration-color: #800080; font-weight: bold\">LooseVersion</span><span style=\"font-weight: bold\">(</span>minimum_pandas_version<span style=\"font-weight: bold\">)</span>:                                  <span style=\"color: #7f7f7f; text-decoration-color: #7f7f7f\">               </span>\n",
       "<span style=\"color: #7fbfbf; text-decoration-color: #7fbfbf\">                    </span>                                                                                <span style=\"color: #7f7f7f; text-decoration-color: #7f7f7f\">               </span>\n",
       "</pre>\n"
      ],
      "text/plain": [
       "\u001b[2;36m[08/11/22 10:02:31]\u001b[0m\u001b[2;36m \u001b[0m\u001b[31mWARNING \u001b[0m \u001b[35m/opt/homebrew/Caskroom/miniforge/base/envs/dm_project/lib/python3.10/s\u001b[0m \u001b]8;id=368520;file:///opt/homebrew/Caskroom/miniforge/base/envs/dm_project/lib/python3.10/warnings.py\u001b\\\u001b[2mwarnings.py\u001b[0m\u001b]8;;\u001b\\\u001b[2m:\u001b[0m\u001b]8;id=642091;file:///opt/homebrew/Caskroom/miniforge/base/envs/dm_project/lib/python3.10/warnings.py#109\u001b\\\u001b[2m109\u001b[0m\u001b]8;;\u001b\\\n",
       "\u001b[2;36m                    \u001b[0m         \u001b[35mite-packages/pyspark/sql/pandas/\u001b[0m\u001b[95mutils.py\u001b[0m:\u001b[1;36m35\u001b[0m: DeprecationWarning:       \u001b[2m               \u001b[0m\n",
       "\u001b[2;36m                    \u001b[0m         distutils Version classes are deprecated. Use packaging.version        \u001b[2m               \u001b[0m\n",
       "\u001b[2;36m                    \u001b[0m         instead.                                                               \u001b[2m               \u001b[0m\n",
       "\u001b[2;36m                    \u001b[0m           if \u001b[1;35mLooseVersion\u001b[0m\u001b[1m(\u001b[0mpandas.__version__\u001b[1m)\u001b[0m <                                \u001b[2m               \u001b[0m\n",
       "\u001b[2;36m                    \u001b[0m         \u001b[1;35mLooseVersion\u001b[0m\u001b[1m(\u001b[0mminimum_pandas_version\u001b[1m)\u001b[0m:                                  \u001b[2m               \u001b[0m\n",
       "\u001b[2;36m                    \u001b[0m                                                                                \u001b[2m               \u001b[0m\n"
      ]
     },
     "metadata": {},
     "output_type": "display_data"
    },
    {
     "name": "stderr",
     "output_type": "stream",
     "text": [
      "                                                                                \r"
     ]
    },
    {
     "data": {
      "text/html": [
       "<div>\n",
       "<style scoped>\n",
       "    .dataframe tbody tr th:only-of-type {\n",
       "        vertical-align: middle;\n",
       "    }\n",
       "\n",
       "    .dataframe tbody tr th {\n",
       "        vertical-align: top;\n",
       "    }\n",
       "\n",
       "    .dataframe thead th {\n",
       "        text-align: right;\n",
       "    }\n",
       "</style>\n",
       "<table border=\"1\" class=\"dataframe\">\n",
       "  <thead>\n",
       "    <tr style=\"text-align: right;\">\n",
       "      <th></th>\n",
       "      <th>estado_del_proceso</th>\n",
       "      <th>count</th>\n",
       "    </tr>\n",
       "  </thead>\n",
       "  <tbody>\n",
       "    <tr>\n",
       "      <th>12</th>\n",
       "      <td>celebrado</td>\n",
       "      <td>842075</td>\n",
       "    </tr>\n",
       "    <tr>\n",
       "      <th>0</th>\n",
       "      <td>liquidado</td>\n",
       "      <td>468543</td>\n",
       "    </tr>\n",
       "    <tr>\n",
       "      <th>16</th>\n",
       "      <td>convocado</td>\n",
       "      <td>128217</td>\n",
       "    </tr>\n",
       "    <tr>\n",
       "      <th>5</th>\n",
       "      <td>en ejecucion</td>\n",
       "      <td>68997</td>\n",
       "    </tr>\n",
       "    <tr>\n",
       "      <th>13</th>\n",
       "      <td>terminado anormalmente despues de convocado</td>\n",
       "      <td>40781</td>\n",
       "    </tr>\n",
       "    <tr>\n",
       "      <th>1</th>\n",
       "      <td>modificado</td>\n",
       "      <td>28693</td>\n",
       "    </tr>\n",
       "    <tr>\n",
       "      <th>17</th>\n",
       "      <td>adjudicado</td>\n",
       "      <td>25133</td>\n",
       "    </tr>\n",
       "    <tr>\n",
       "      <th>15</th>\n",
       "      <td>terminado sin liquidar</td>\n",
       "      <td>21939</td>\n",
       "    </tr>\n",
       "    <tr>\n",
       "      <th>3</th>\n",
       "      <td>activo</td>\n",
       "      <td>11275</td>\n",
       "    </tr>\n",
       "    <tr>\n",
       "      <th>9</th>\n",
       "      <td>borrador</td>\n",
       "      <td>10017</td>\n",
       "    </tr>\n",
       "    <tr>\n",
       "      <th>4</th>\n",
       "      <td>terminado</td>\n",
       "      <td>9900</td>\n",
       "    </tr>\n",
       "    <tr>\n",
       "      <th>6</th>\n",
       "      <td>descartado</td>\n",
       "      <td>6520</td>\n",
       "    </tr>\n",
       "    <tr>\n",
       "      <th>10</th>\n",
       "      <td>cerrado</td>\n",
       "      <td>5511</td>\n",
       "    </tr>\n",
       "    <tr>\n",
       "      <th>2</th>\n",
       "      <td>enviado proveedor</td>\n",
       "      <td>1169</td>\n",
       "    </tr>\n",
       "    <tr>\n",
       "      <th>8</th>\n",
       "      <td>cedido</td>\n",
       "      <td>970</td>\n",
       "    </tr>\n",
       "    <tr>\n",
       "      <th>14</th>\n",
       "      <td>en aprobacion</td>\n",
       "      <td>812</td>\n",
       "    </tr>\n",
       "    <tr>\n",
       "      <th>7</th>\n",
       "      <td>suspendido</td>\n",
       "      <td>403</td>\n",
       "    </tr>\n",
       "    <tr>\n",
       "      <th>18</th>\n",
       "      <td>expresion de interes</td>\n",
       "      <td>159</td>\n",
       "    </tr>\n",
       "    <tr>\n",
       "      <th>19</th>\n",
       "      <td>invitacion cerrada</td>\n",
       "      <td>103</td>\n",
       "    </tr>\n",
       "    <tr>\n",
       "      <th>11</th>\n",
       "      <td>lista corta</td>\n",
       "      <td>85</td>\n",
       "    </tr>\n",
       "    <tr>\n",
       "      <th>23</th>\n",
       "      <td>finalizado el plazo para manifestaciones de in...</td>\n",
       "      <td>2</td>\n",
       "    </tr>\n",
       "    <tr>\n",
       "      <th>20</th>\n",
       "      <td>lista multiusos</td>\n",
       "      <td>1</td>\n",
       "    </tr>\n",
       "    <tr>\n",
       "      <th>21</th>\n",
       "      <td>proceso banca multilateral abierto</td>\n",
       "      <td>1</td>\n",
       "    </tr>\n",
       "    <tr>\n",
       "      <th>22</th>\n",
       "      <td>invitacion abierta</td>\n",
       "      <td>1</td>\n",
       "    </tr>\n",
       "    <tr>\n",
       "      <th>24</th>\n",
       "      <td>publicacion para manifestaciones de interes</td>\n",
       "      <td>1</td>\n",
       "    </tr>\n",
       "  </tbody>\n",
       "</table>\n",
       "</div>"
      ]
     },
     "execution_count": 10,
     "metadata": {},
     "output_type": "execute_result"
    },
    {
     "data": {
      "text/html": [
       "<pre style=\"white-space:pre;overflow-x:auto;line-height:normal;font-family:Menlo,'DejaVu Sans Mono',consolas,'Courier New',monospace\"><span style=\"font-weight: bold\">&lt;</span><span style=\"color: #ff00ff; text-decoration-color: #ff00ff; font-weight: bold\">IPython.core.display.Javascript</span><span style=\"color: #000000; text-decoration-color: #000000\"> object</span><span style=\"font-weight: bold\">&gt;</span>\n",
       "</pre>\n"
      ],
      "text/plain": [
       "\u001b[1m<\u001b[0m\u001b[1;95mIPython.core.display.Javascript\u001b[0m\u001b[39m object\u001b[0m\u001b[1m>\u001b[0m\n"
      ]
     },
     "metadata": {},
     "output_type": "display_data"
    },
    {
     "data": {
      "application/javascript": [
       "\n",
       "            setTimeout(function() {\n",
       "                var nbb_cell_id = 10;\n",
       "                var nbb_unformatted_code = \"count_process_state = secop_int.groupBy(\\\"estado_del_proceso\\\").count().toPandas()\\ncount_process_state.sort_values(\\\"count\\\", ascending=False)\";\n",
       "                var nbb_formatted_code = \"count_process_state = secop_int.groupBy(\\\"estado_del_proceso\\\").count().toPandas()\\ncount_process_state.sort_values(\\\"count\\\", ascending=False)\";\n",
       "                var nbb_cells = Jupyter.notebook.get_cells();\n",
       "                for (var i = 0; i < nbb_cells.length; ++i) {\n",
       "                    if (nbb_cells[i].input_prompt_number == nbb_cell_id) {\n",
       "                        if (nbb_cells[i].get_text() == nbb_unformatted_code) {\n",
       "                             nbb_cells[i].set_text(nbb_formatted_code);\n",
       "                        }\n",
       "                        break;\n",
       "                    }\n",
       "                }\n",
       "            }, 500);\n",
       "            "
      ]
     },
     "metadata": {},
     "output_type": "display_data"
    }
   ],
   "source": [
    "count_process_state = secop_int.groupBy(\"estado_del_proceso\").count().toPandas()\n",
    "count_process_state.sort_values(\"count\", ascending=False)"
   ]
  },
  {
   "cell_type": "code",
   "execution_count": 11,
   "id": "3322b8d2",
   "metadata": {},
   "outputs": [
    {
     "data": {
      "text/html": [
       "<pre style=\"white-space:pre;overflow-x:auto;line-height:normal;font-family:Menlo,'DejaVu Sans Mono',consolas,'Courier New',monospace\"><span style=\"font-weight: bold\">&lt;</span><span style=\"color: #ff00ff; text-decoration-color: #ff00ff; font-weight: bold\">IPython.core.display.Javascript</span><span style=\"color: #000000; text-decoration-color: #000000\"> object</span><span style=\"font-weight: bold\">&gt;</span>\n",
       "</pre>\n"
      ],
      "text/plain": [
       "\u001b[1m<\u001b[0m\u001b[1;95mIPython.core.display.Javascript\u001b[0m\u001b[39m object\u001b[0m\u001b[1m>\u001b[0m\n"
      ]
     },
     "metadata": {},
     "output_type": "display_data"
    },
    {
     "data": {
      "application/javascript": [
       "\n",
       "            setTimeout(function() {\n",
       "                var nbb_cell_id = 11;\n",
       "                var nbb_unformatted_code = \"secop_int = secop_int.withColumn(\\n    \\\"modalidad_de_contrataci_n\\\",\\n    udf(remove_tildes)(F.lower(col(\\\"modalidad_de_contrataci_n\\\"))),\\n)\";\n",
       "                var nbb_formatted_code = \"secop_int = secop_int.withColumn(\\n    \\\"modalidad_de_contrataci_n\\\",\\n    udf(remove_tildes)(F.lower(col(\\\"modalidad_de_contrataci_n\\\"))),\\n)\";\n",
       "                var nbb_cells = Jupyter.notebook.get_cells();\n",
       "                for (var i = 0; i < nbb_cells.length; ++i) {\n",
       "                    if (nbb_cells[i].input_prompt_number == nbb_cell_id) {\n",
       "                        if (nbb_cells[i].get_text() == nbb_unformatted_code) {\n",
       "                             nbb_cells[i].set_text(nbb_formatted_code);\n",
       "                        }\n",
       "                        break;\n",
       "                    }\n",
       "                }\n",
       "            }, 500);\n",
       "            "
      ]
     },
     "metadata": {},
     "output_type": "display_data"
    }
   ],
   "source": [
    "secop_int = secop_int.withColumn(\n",
    "    \"modalidad_de_contrataci_n\",\n",
    "    udf(remove_tildes)(F.lower(col(\"modalidad_de_contrataci_n\"))),\n",
    ")"
   ]
  },
  {
   "cell_type": "code",
   "execution_count": 12,
   "id": "f74e7579",
   "metadata": {
    "scrolled": true
   },
   "outputs": [
    {
     "data": {
      "text/html": [
       "<pre style=\"white-space:pre;overflow-x:auto;line-height:normal;font-family:Menlo,'DejaVu Sans Mono',consolas,'Courier New',monospace\"><span style=\"color: #7fbfbf; text-decoration-color: #7fbfbf\">[08/11/22 10:02:38] </span><span style=\"color: #800000; text-decoration-color: #800000\">WARNING </span> <span style=\"color: #800080; text-decoration-color: #800080\">/opt/homebrew/Caskroom/miniforge/base/envs/dm_project/lib/python3.10/s</span> <a href=\"file:///opt/homebrew/Caskroom/miniforge/base/envs/dm_project/lib/python3.10/warnings.py\" target=\"_blank\"><span style=\"color: #7f7f7f; text-decoration-color: #7f7f7f\">warnings.py</span></a><span style=\"color: #7f7f7f; text-decoration-color: #7f7f7f\">:</span><a href=\"file:///opt/homebrew/Caskroom/miniforge/base/envs/dm_project/lib/python3.10/warnings.py#109\" target=\"_blank\"><span style=\"color: #7f7f7f; text-decoration-color: #7f7f7f\">109</span></a>\n",
       "<span style=\"color: #7fbfbf; text-decoration-color: #7fbfbf\">                    </span>         <span style=\"color: #800080; text-decoration-color: #800080\">ite-packages/pyspark/sql/pandas/</span><span style=\"color: #ff00ff; text-decoration-color: #ff00ff\">utils.py</span>:<span style=\"color: #008080; text-decoration-color: #008080; font-weight: bold\">35</span>: DeprecationWarning:       <span style=\"color: #7f7f7f; text-decoration-color: #7f7f7f\">               </span>\n",
       "<span style=\"color: #7fbfbf; text-decoration-color: #7fbfbf\">                    </span>         distutils Version classes are deprecated. Use packaging.version        <span style=\"color: #7f7f7f; text-decoration-color: #7f7f7f\">               </span>\n",
       "<span style=\"color: #7fbfbf; text-decoration-color: #7fbfbf\">                    </span>         instead.                                                               <span style=\"color: #7f7f7f; text-decoration-color: #7f7f7f\">               </span>\n",
       "<span style=\"color: #7fbfbf; text-decoration-color: #7fbfbf\">                    </span>           if <span style=\"color: #800080; text-decoration-color: #800080; font-weight: bold\">LooseVersion</span><span style=\"font-weight: bold\">(</span>pandas.__version__<span style=\"font-weight: bold\">)</span> &lt;                                <span style=\"color: #7f7f7f; text-decoration-color: #7f7f7f\">               </span>\n",
       "<span style=\"color: #7fbfbf; text-decoration-color: #7fbfbf\">                    </span>         <span style=\"color: #800080; text-decoration-color: #800080; font-weight: bold\">LooseVersion</span><span style=\"font-weight: bold\">(</span>minimum_pandas_version<span style=\"font-weight: bold\">)</span>:                                  <span style=\"color: #7f7f7f; text-decoration-color: #7f7f7f\">               </span>\n",
       "<span style=\"color: #7fbfbf; text-decoration-color: #7fbfbf\">                    </span>                                                                                <span style=\"color: #7f7f7f; text-decoration-color: #7f7f7f\">               </span>\n",
       "</pre>\n"
      ],
      "text/plain": [
       "\u001b[2;36m[08/11/22 10:02:38]\u001b[0m\u001b[2;36m \u001b[0m\u001b[31mWARNING \u001b[0m \u001b[35m/opt/homebrew/Caskroom/miniforge/base/envs/dm_project/lib/python3.10/s\u001b[0m \u001b]8;id=721376;file:///opt/homebrew/Caskroom/miniforge/base/envs/dm_project/lib/python3.10/warnings.py\u001b\\\u001b[2mwarnings.py\u001b[0m\u001b]8;;\u001b\\\u001b[2m:\u001b[0m\u001b]8;id=766145;file:///opt/homebrew/Caskroom/miniforge/base/envs/dm_project/lib/python3.10/warnings.py#109\u001b\\\u001b[2m109\u001b[0m\u001b]8;;\u001b\\\n",
       "\u001b[2;36m                    \u001b[0m         \u001b[35mite-packages/pyspark/sql/pandas/\u001b[0m\u001b[95mutils.py\u001b[0m:\u001b[1;36m35\u001b[0m: DeprecationWarning:       \u001b[2m               \u001b[0m\n",
       "\u001b[2;36m                    \u001b[0m         distutils Version classes are deprecated. Use packaging.version        \u001b[2m               \u001b[0m\n",
       "\u001b[2;36m                    \u001b[0m         instead.                                                               \u001b[2m               \u001b[0m\n",
       "\u001b[2;36m                    \u001b[0m           if \u001b[1;35mLooseVersion\u001b[0m\u001b[1m(\u001b[0mpandas.__version__\u001b[1m)\u001b[0m <                                \u001b[2m               \u001b[0m\n",
       "\u001b[2;36m                    \u001b[0m         \u001b[1;35mLooseVersion\u001b[0m\u001b[1m(\u001b[0mminimum_pandas_version\u001b[1m)\u001b[0m:                                  \u001b[2m               \u001b[0m\n",
       "\u001b[2;36m                    \u001b[0m                                                                                \u001b[2m               \u001b[0m\n"
      ]
     },
     "metadata": {},
     "output_type": "display_data"
    },
    {
     "name": "stderr",
     "output_type": "stream",
     "text": [
      "                                                                                \r"
     ]
    },
    {
     "data": {
      "text/html": [
       "<pre style=\"white-space:pre;overflow-x:auto;line-height:normal;font-family:Menlo,'DejaVu Sans Mono',consolas,'Courier New',monospace\"><span style=\"font-weight: bold\">&lt;</span><span style=\"color: #ff00ff; text-decoration-color: #ff00ff; font-weight: bold\">IPython.core.display.Javascript</span><span style=\"color: #000000; text-decoration-color: #000000\"> object</span><span style=\"font-weight: bold\">&gt;</span>\n",
       "</pre>\n"
      ],
      "text/plain": [
       "\u001b[1m<\u001b[0m\u001b[1;95mIPython.core.display.Javascript\u001b[0m\u001b[39m object\u001b[0m\u001b[1m>\u001b[0m\n"
      ]
     },
     "metadata": {},
     "output_type": "display_data"
    },
    {
     "data": {
      "application/javascript": [
       "\n",
       "            setTimeout(function() {\n",
       "                var nbb_cell_id = 12;\n",
       "                var nbb_unformatted_code = \"count_process_type = secop_int.groupBy(\\\"modalidad_de_contrataci_n\\\").count().toPandas()\\ncount_process_type[\\\"prop\\\"] = (\\n    count_process_type[\\\"count\\\"] / count_process_type[\\\"count\\\"].sum()\\n)\";\n",
       "                var nbb_formatted_code = \"count_process_type = secop_int.groupBy(\\\"modalidad_de_contrataci_n\\\").count().toPandas()\\ncount_process_type[\\\"prop\\\"] = (\\n    count_process_type[\\\"count\\\"] / count_process_type[\\\"count\\\"].sum()\\n)\";\n",
       "                var nbb_cells = Jupyter.notebook.get_cells();\n",
       "                for (var i = 0; i < nbb_cells.length; ++i) {\n",
       "                    if (nbb_cells[i].input_prompt_number == nbb_cell_id) {\n",
       "                        if (nbb_cells[i].get_text() == nbb_unformatted_code) {\n",
       "                             nbb_cells[i].set_text(nbb_formatted_code);\n",
       "                        }\n",
       "                        break;\n",
       "                    }\n",
       "                }\n",
       "            }, 500);\n",
       "            "
      ]
     },
     "metadata": {},
     "output_type": "display_data"
    }
   ],
   "source": [
    "count_process_type = secop_int.groupBy(\"modalidad_de_contrataci_n\").count().toPandas()\n",
    "count_process_type[\"prop\"] = (\n",
    "    count_process_type[\"count\"] / count_process_type[\"count\"].sum()\n",
    ")"
   ]
  },
  {
   "cell_type": "markdown",
   "id": "0c41da9e",
   "metadata": {},
   "source": [
    "https://www.funcionpublica.gov.co/eva/gerentes/Modulo4/tema-2/1-modalidades.html"
   ]
  },
  {
   "cell_type": "code",
   "execution_count": 13,
   "id": "901bd962",
   "metadata": {},
   "outputs": [
    {
     "data": {
      "text/html": [
       "<pre style=\"white-space:pre;overflow-x:auto;line-height:normal;font-family:Menlo,'DejaVu Sans Mono',consolas,'Courier New',monospace\"><span style=\"font-weight: bold\">&lt;</span><span style=\"color: #ff00ff; text-decoration-color: #ff00ff; font-weight: bold\">IPython.core.display.Javascript</span><span style=\"color: #000000; text-decoration-color: #000000\"> object</span><span style=\"font-weight: bold\">&gt;</span>\n",
       "</pre>\n"
      ],
      "text/plain": [
       "\u001b[1m<\u001b[0m\u001b[1;95mIPython.core.display.Javascript\u001b[0m\u001b[39m object\u001b[0m\u001b[1m>\u001b[0m\n"
      ]
     },
     "metadata": {},
     "output_type": "display_data"
    },
    {
     "data": {
      "application/javascript": [
       "\n",
       "            setTimeout(function() {\n",
       "                var nbb_cell_id = 13;\n",
       "                var nbb_unformatted_code = \"def clean_modalidad_contratacion(mod: str):\\n    \\\"\\\"\\\"Clean and group modalidad de contratacion\\\"\\\"\\\"\\n    if (\\\"concurso de meritos\\\" in mod) or (\\\"concurso_meritos\\\" in mod):\\n        return \\\"concurso de meritos abiertos\\\"\\n    elif \\\"regimen especial\\\" in mod:\\n        return \\\"regimen especial\\\"\\n    elif (\\\"minima cuantia\\\" in mod) or (\\\"menor cuantia\\\" in mod):\\n        return \\\"minima cuantia\\\"\\n    elif \\\"contratacion directa\\\" in mod:\\n        return \\\"contratacion directa\\\"\\n    elif \\\"subasta\\\" in mod:\\n        return \\\"subasta\\\"\\n    elif (\\\"licitacion publica\\\" in mod) or (\\\"licitacion obra publica\\\" in mod):\\n        return \\\"licitacion publica\\\"\\n    else:\\n        return \\\"Otro\\\"\";\n",
       "                var nbb_formatted_code = \"def clean_modalidad_contratacion(mod: str):\\n    \\\"\\\"\\\"Clean and group modalidad de contratacion\\\"\\\"\\\"\\n    if (\\\"concurso de meritos\\\" in mod) or (\\\"concurso_meritos\\\" in mod):\\n        return \\\"concurso de meritos abiertos\\\"\\n    elif \\\"regimen especial\\\" in mod:\\n        return \\\"regimen especial\\\"\\n    elif (\\\"minima cuantia\\\" in mod) or (\\\"menor cuantia\\\" in mod):\\n        return \\\"minima cuantia\\\"\\n    elif \\\"contratacion directa\\\" in mod:\\n        return \\\"contratacion directa\\\"\\n    elif \\\"subasta\\\" in mod:\\n        return \\\"subasta\\\"\\n    elif (\\\"licitacion publica\\\" in mod) or (\\\"licitacion obra publica\\\" in mod):\\n        return \\\"licitacion publica\\\"\\n    else:\\n        return \\\"Otro\\\"\";\n",
       "                var nbb_cells = Jupyter.notebook.get_cells();\n",
       "                for (var i = 0; i < nbb_cells.length; ++i) {\n",
       "                    if (nbb_cells[i].input_prompt_number == nbb_cell_id) {\n",
       "                        if (nbb_cells[i].get_text() == nbb_unformatted_code) {\n",
       "                             nbb_cells[i].set_text(nbb_formatted_code);\n",
       "                        }\n",
       "                        break;\n",
       "                    }\n",
       "                }\n",
       "            }, 500);\n",
       "            "
      ]
     },
     "metadata": {},
     "output_type": "display_data"
    }
   ],
   "source": [
    "def clean_modalidad_contratacion(mod: str):\n",
    "    \"\"\"Clean and group modalidad de contratacion\"\"\"\n",
    "    if (\"concurso de meritos\" in mod) or (\"concurso_meritos\" in mod):\n",
    "        return \"concurso de meritos abiertos\"\n",
    "    elif \"regimen especial\" in mod:\n",
    "        return \"regimen especial\"\n",
    "    elif (\"minima cuantia\" in mod) or (\"menor cuantia\" in mod):\n",
    "        return \"minima cuantia\"\n",
    "    elif \"contratacion directa\" in mod:\n",
    "        return \"contratacion directa\"\n",
    "    elif \"subasta\" in mod:\n",
    "        return \"subasta\"\n",
    "    elif (\"licitacion publica\" in mod) or (\"licitacion obra publica\" in mod):\n",
    "        return \"licitacion publica\"\n",
    "    else:\n",
    "        return \"Otro\""
   ]
  },
  {
   "cell_type": "code",
   "execution_count": 16,
   "id": "2f181726",
   "metadata": {
    "scrolled": true
   },
   "outputs": [
    {
     "data": {
      "text/html": [
       "<div>\n",
       "<style scoped>\n",
       "    .dataframe tbody tr th:only-of-type {\n",
       "        vertical-align: middle;\n",
       "    }\n",
       "\n",
       "    .dataframe tbody tr th {\n",
       "        vertical-align: top;\n",
       "    }\n",
       "\n",
       "    .dataframe thead th {\n",
       "        text-align: right;\n",
       "    }\n",
       "</style>\n",
       "<table border=\"1\" class=\"dataframe\">\n",
       "  <thead>\n",
       "    <tr style=\"text-align: right;\">\n",
       "      <th></th>\n",
       "      <th>modalidad_de_contrataci_n</th>\n",
       "      <th>count</th>\n",
       "      <th>prop</th>\n",
       "      <th>modalidad_clean</th>\n",
       "    </tr>\n",
       "  </thead>\n",
       "  <tbody>\n",
       "    <tr>\n",
       "      <th>0</th>\n",
       "      <td>invitacion ofertas cooperativas o asociaciones...</td>\n",
       "      <td>103</td>\n",
       "      <td>0.000062</td>\n",
       "      <td>Otro</td>\n",
       "    </tr>\n",
       "    <tr>\n",
       "      <th>1</th>\n",
       "      <td>licitacion publica</td>\n",
       "      <td>26391</td>\n",
       "      <td>0.015791</td>\n",
       "      <td>licitacion publica</td>\n",
       "    </tr>\n",
       "    <tr>\n",
       "      <th>2</th>\n",
       "      <td>seleccion abreviada del literal h del numeral ...</td>\n",
       "      <td>292</td>\n",
       "      <td>0.000175</td>\n",
       "      <td>Otro</td>\n",
       "    </tr>\n",
       "    <tr>\n",
       "      <th>3</th>\n",
       "      <td>contratacion minima cuantia</td>\n",
       "      <td>375437</td>\n",
       "      <td>0.224637</td>\n",
       "      <td>minima cuantia</td>\n",
       "    </tr>\n",
       "    <tr>\n",
       "      <th>4</th>\n",
       "      <td>contratacion directa</td>\n",
       "      <td>120204</td>\n",
       "      <td>0.071922</td>\n",
       "      <td>contratacion directa</td>\n",
       "    </tr>\n",
       "    <tr>\n",
       "      <th>5</th>\n",
       "      <td>seleccion abreviada servicios de salud</td>\n",
       "      <td>343</td>\n",
       "      <td>0.000205</td>\n",
       "      <td>Otro</td>\n",
       "    </tr>\n",
       "    <tr>\n",
       "      <th>6</th>\n",
       "      <td>contratacion directa (con ofertas)</td>\n",
       "      <td>1036</td>\n",
       "      <td>0.000620</td>\n",
       "      <td>contratacion directa</td>\n",
       "    </tr>\n",
       "    <tr>\n",
       "      <th>7</th>\n",
       "      <td>minima cuantia</td>\n",
       "      <td>5501</td>\n",
       "      <td>0.003291</td>\n",
       "      <td>minima cuantia</td>\n",
       "    </tr>\n",
       "    <tr>\n",
       "      <th>8</th>\n",
       "      <td>contratacion directa menor cuantia</td>\n",
       "      <td>8906</td>\n",
       "      <td>0.005329</td>\n",
       "      <td>minima cuantia</td>\n",
       "    </tr>\n",
       "    <tr>\n",
       "      <th>9</th>\n",
       "      <td>subasta</td>\n",
       "      <td>23600</td>\n",
       "      <td>0.014121</td>\n",
       "      <td>subasta</td>\n",
       "    </tr>\n",
       "    <tr>\n",
       "      <th>10</th>\n",
       "      <td>concurso de meritos con lista corta</td>\n",
       "      <td>1494</td>\n",
       "      <td>0.000894</td>\n",
       "      <td>concurso de meritos abiertos</td>\n",
       "    </tr>\n",
       "    <tr>\n",
       "      <th>11</th>\n",
       "      <td>concurso de meritos con lista multiusos</td>\n",
       "      <td>50</td>\n",
       "      <td>0.000030</td>\n",
       "      <td>concurso de meritos abiertos</td>\n",
       "    </tr>\n",
       "    <tr>\n",
       "      <th>12</th>\n",
       "      <td>seleccion abreviada menor cuantia sin manifest...</td>\n",
       "      <td>38</td>\n",
       "      <td>0.000023</td>\n",
       "      <td>minima cuantia</td>\n",
       "    </tr>\n",
       "    <tr>\n",
       "      <th>13</th>\n",
       "      <td>cce-20-concurso_meritos_sin_lista_corta_1sobre</td>\n",
       "      <td>201</td>\n",
       "      <td>0.000120</td>\n",
       "      <td>concurso de meritos abiertos</td>\n",
       "    </tr>\n",
       "    <tr>\n",
       "      <th>14</th>\n",
       "      <td>contratacion directa ley 1150 de 2007</td>\n",
       "      <td>794832</td>\n",
       "      <td>0.475575</td>\n",
       "      <td>contratacion directa</td>\n",
       "    </tr>\n",
       "    <tr>\n",
       "      <th>15</th>\n",
       "      <td>contratos y convenios con mas de dos partes</td>\n",
       "      <td>3344</td>\n",
       "      <td>0.002001</td>\n",
       "      <td>Otro</td>\n",
       "    </tr>\n",
       "    <tr>\n",
       "      <th>16</th>\n",
       "      <td>regimen especial</td>\n",
       "      <td>212394</td>\n",
       "      <td>0.127083</td>\n",
       "      <td>regimen especial</td>\n",
       "    </tr>\n",
       "    <tr>\n",
       "      <th>17</th>\n",
       "      <td>enajenacion de bienes con sobre cerrado</td>\n",
       "      <td>42</td>\n",
       "      <td>0.000025</td>\n",
       "      <td>Otro</td>\n",
       "    </tr>\n",
       "    <tr>\n",
       "      <th>18</th>\n",
       "      <td>seleccion abreviada subasta inversa</td>\n",
       "      <td>915</td>\n",
       "      <td>0.000547</td>\n",
       "      <td>subasta</td>\n",
       "    </tr>\n",
       "    <tr>\n",
       "      <th>19</th>\n",
       "      <td>otras formas de contratacion directa</td>\n",
       "      <td>4393</td>\n",
       "      <td>0.002628</td>\n",
       "      <td>contratacion directa</td>\n",
       "    </tr>\n",
       "    <tr>\n",
       "      <th>20</th>\n",
       "      <td>concurso de meritos abierto</td>\n",
       "      <td>17681</td>\n",
       "      <td>0.010579</td>\n",
       "      <td>concurso de meritos abiertos</td>\n",
       "    </tr>\n",
       "    <tr>\n",
       "      <th>21</th>\n",
       "      <td>seleccion abreviada de menor cuantia</td>\n",
       "      <td>1301</td>\n",
       "      <td>0.000778</td>\n",
       "      <td>minima cuantia</td>\n",
       "    </tr>\n",
       "    <tr>\n",
       "      <th>22</th>\n",
       "      <td>seleccion abreviada de menor cuantia ley 1150 ...</td>\n",
       "      <td>63323</td>\n",
       "      <td>0.037888</td>\n",
       "      <td>minima cuantia</td>\n",
       "    </tr>\n",
       "    <tr>\n",
       "      <th>23</th>\n",
       "      <td>contratacion regimen especial (con ofertas)</td>\n",
       "      <td>2096</td>\n",
       "      <td>0.001254</td>\n",
       "      <td>regimen especial</td>\n",
       "    </tr>\n",
       "    <tr>\n",
       "      <th>24</th>\n",
       "      <td>licitacion publica obra publica</td>\n",
       "      <td>357</td>\n",
       "      <td>0.000214</td>\n",
       "      <td>licitacion publica</td>\n",
       "    </tr>\n",
       "    <tr>\n",
       "      <th>25</th>\n",
       "      <td>contratacion regimen especial</td>\n",
       "      <td>2037</td>\n",
       "      <td>0.001219</td>\n",
       "      <td>regimen especial</td>\n",
       "    </tr>\n",
       "    <tr>\n",
       "      <th>26</th>\n",
       "      <td>licitacion obra publica</td>\n",
       "      <td>4462</td>\n",
       "      <td>0.002670</td>\n",
       "      <td>licitacion publica</td>\n",
       "    </tr>\n",
       "    <tr>\n",
       "      <th>27</th>\n",
       "      <td>asociacion publico privada</td>\n",
       "      <td>328</td>\n",
       "      <td>0.000196</td>\n",
       "      <td>Otro</td>\n",
       "    </tr>\n",
       "    <tr>\n",
       "      <th>28</th>\n",
       "      <td>lista multiusos</td>\n",
       "      <td>2</td>\n",
       "      <td>0.000001</td>\n",
       "      <td>Otro</td>\n",
       "    </tr>\n",
       "    <tr>\n",
       "      <th>29</th>\n",
       "      <td>no definido</td>\n",
       "      <td>193</td>\n",
       "      <td>0.000115</td>\n",
       "      <td>Otro</td>\n",
       "    </tr>\n",
       "    <tr>\n",
       "      <th>30</th>\n",
       "      <td>concurso de diseño arquitectonico</td>\n",
       "      <td>4</td>\n",
       "      <td>0.000002</td>\n",
       "      <td>Otro</td>\n",
       "    </tr>\n",
       "    <tr>\n",
       "      <th>31</th>\n",
       "      <td>iniciativa privada sin recursos publicos</td>\n",
       "      <td>3</td>\n",
       "      <td>0.000002</td>\n",
       "      <td>Otro</td>\n",
       "    </tr>\n",
       "    <tr>\n",
       "      <th>32</th>\n",
       "      <td>enajenacion de bienes con subasta</td>\n",
       "      <td>5</td>\n",
       "      <td>0.000003</td>\n",
       "      <td>subasta</td>\n",
       "    </tr>\n",
       "  </tbody>\n",
       "</table>\n",
       "</div>"
      ]
     },
     "execution_count": 16,
     "metadata": {},
     "output_type": "execute_result"
    },
    {
     "data": {
      "text/html": [
       "<pre style=\"white-space:pre;overflow-x:auto;line-height:normal;font-family:Menlo,'DejaVu Sans Mono',consolas,'Courier New',monospace\"><span style=\"font-weight: bold\">&lt;</span><span style=\"color: #ff00ff; text-decoration-color: #ff00ff; font-weight: bold\">IPython.core.display.Javascript</span><span style=\"color: #000000; text-decoration-color: #000000\"> object</span><span style=\"font-weight: bold\">&gt;</span>\n",
       "</pre>\n"
      ],
      "text/plain": [
       "\u001b[1m<\u001b[0m\u001b[1;95mIPython.core.display.Javascript\u001b[0m\u001b[39m object\u001b[0m\u001b[1m>\u001b[0m\n"
      ]
     },
     "metadata": {},
     "output_type": "display_data"
    },
    {
     "data": {
      "application/javascript": [
       "\n",
       "            setTimeout(function() {\n",
       "                var nbb_cell_id = 16;\n",
       "                var nbb_unformatted_code = \"count_process_type[\\\"modalidad_clean\\\"] = count_process_type[\\n    \\\"modalidad_de_contrataci_n\\\"\\n].apply(clean_modalidad_contratacion)\\ncount_process_type\";\n",
       "                var nbb_formatted_code = \"count_process_type[\\\"modalidad_clean\\\"] = count_process_type[\\n    \\\"modalidad_de_contrataci_n\\\"\\n].apply(clean_modalidad_contratacion)\\ncount_process_type\";\n",
       "                var nbb_cells = Jupyter.notebook.get_cells();\n",
       "                for (var i = 0; i < nbb_cells.length; ++i) {\n",
       "                    if (nbb_cells[i].input_prompt_number == nbb_cell_id) {\n",
       "                        if (nbb_cells[i].get_text() == nbb_unformatted_code) {\n",
       "                             nbb_cells[i].set_text(nbb_formatted_code);\n",
       "                        }\n",
       "                        break;\n",
       "                    }\n",
       "                }\n",
       "            }, 500);\n",
       "            "
      ]
     },
     "metadata": {},
     "output_type": "display_data"
    }
   ],
   "source": [
    "count_process_type[\"modalidad_clean\"] = count_process_type[\n",
    "    \"modalidad_de_contrataci_n\"\n",
    "].apply(clean_modalidad_contratacion)\n",
    "count_process_type"
   ]
  },
  {
   "cell_type": "code",
   "execution_count": 17,
   "id": "7d2555e2",
   "metadata": {
    "scrolled": false
   },
   "outputs": [
    {
     "data": {
      "text/html": [
       "<pre style=\"white-space:pre;overflow-x:auto;line-height:normal;font-family:Menlo,'DejaVu Sans Mono',consolas,'Courier New',monospace\"><span style=\"font-weight: bold\">&lt;</span><span style=\"color: #ff00ff; text-decoration-color: #ff00ff; font-weight: bold\">IPython.core.display.Javascript</span><span style=\"color: #000000; text-decoration-color: #000000\"> object</span><span style=\"font-weight: bold\">&gt;</span>\n",
       "</pre>\n"
      ],
      "text/plain": [
       "\u001b[1m<\u001b[0m\u001b[1;95mIPython.core.display.Javascript\u001b[0m\u001b[39m object\u001b[0m\u001b[1m>\u001b[0m\n"
      ]
     },
     "metadata": {},
     "output_type": "display_data"
    },
    {
     "data": {
      "application/javascript": [
       "\n",
       "            setTimeout(function() {\n",
       "                var nbb_cell_id = 17;\n",
       "                var nbb_unformatted_code = \"secop_int = secop_int.withColumn(\\n    \\\"modalidad_de_contrataci_n\\\",\\n    udf(clean_modalidad_contratacion)(col(\\\"modalidad_de_contrataci_n\\\")),\\n)\";\n",
       "                var nbb_formatted_code = \"secop_int = secop_int.withColumn(\\n    \\\"modalidad_de_contrataci_n\\\",\\n    udf(clean_modalidad_contratacion)(col(\\\"modalidad_de_contrataci_n\\\")),\\n)\";\n",
       "                var nbb_cells = Jupyter.notebook.get_cells();\n",
       "                for (var i = 0; i < nbb_cells.length; ++i) {\n",
       "                    if (nbb_cells[i].input_prompt_number == nbb_cell_id) {\n",
       "                        if (nbb_cells[i].get_text() == nbb_unformatted_code) {\n",
       "                             nbb_cells[i].set_text(nbb_formatted_code);\n",
       "                        }\n",
       "                        break;\n",
       "                    }\n",
       "                }\n",
       "            }, 500);\n",
       "            "
      ]
     },
     "metadata": {},
     "output_type": "display_data"
    }
   ],
   "source": [
    "secop_int = secop_int.withColumn(\n",
    "    \"modalidad_de_contrataci_n\",\n",
    "    udf(clean_modalidad_contratacion)(col(\"modalidad_de_contrataci_n\")),\n",
    ")"
   ]
  },
  {
   "cell_type": "code",
   "execution_count": 18,
   "id": "751a2257",
   "metadata": {},
   "outputs": [
    {
     "data": {
      "text/html": [
       "<pre style=\"white-space:pre;overflow-x:auto;line-height:normal;font-family:Menlo,'DejaVu Sans Mono',consolas,'Courier New',monospace\"><span style=\"color: #7fbfbf; text-decoration-color: #7fbfbf\">[08/11/22 10:06:43] </span><span style=\"color: #800000; text-decoration-color: #800000\">WARNING </span> <span style=\"color: #800080; text-decoration-color: #800080\">/opt/homebrew/Caskroom/miniforge/base/envs/dm_project/lib/python3.10/s</span> <a href=\"file:///opt/homebrew/Caskroom/miniforge/base/envs/dm_project/lib/python3.10/warnings.py\" target=\"_blank\"><span style=\"color: #7f7f7f; text-decoration-color: #7f7f7f\">warnings.py</span></a><span style=\"color: #7f7f7f; text-decoration-color: #7f7f7f\">:</span><a href=\"file:///opt/homebrew/Caskroom/miniforge/base/envs/dm_project/lib/python3.10/warnings.py#109\" target=\"_blank\"><span style=\"color: #7f7f7f; text-decoration-color: #7f7f7f\">109</span></a>\n",
       "<span style=\"color: #7fbfbf; text-decoration-color: #7fbfbf\">                    </span>         <span style=\"color: #800080; text-decoration-color: #800080\">ite-packages/pyspark/sql/pandas/</span><span style=\"color: #ff00ff; text-decoration-color: #ff00ff\">utils.py</span>:<span style=\"color: #008080; text-decoration-color: #008080; font-weight: bold\">35</span>: DeprecationWarning:       <span style=\"color: #7f7f7f; text-decoration-color: #7f7f7f\">               </span>\n",
       "<span style=\"color: #7fbfbf; text-decoration-color: #7fbfbf\">                    </span>         distutils Version classes are deprecated. Use packaging.version        <span style=\"color: #7f7f7f; text-decoration-color: #7f7f7f\">               </span>\n",
       "<span style=\"color: #7fbfbf; text-decoration-color: #7fbfbf\">                    </span>         instead.                                                               <span style=\"color: #7f7f7f; text-decoration-color: #7f7f7f\">               </span>\n",
       "<span style=\"color: #7fbfbf; text-decoration-color: #7fbfbf\">                    </span>           if <span style=\"color: #800080; text-decoration-color: #800080; font-weight: bold\">LooseVersion</span><span style=\"font-weight: bold\">(</span>pandas.__version__<span style=\"font-weight: bold\">)</span> &lt;                                <span style=\"color: #7f7f7f; text-decoration-color: #7f7f7f\">               </span>\n",
       "<span style=\"color: #7fbfbf; text-decoration-color: #7fbfbf\">                    </span>         <span style=\"color: #800080; text-decoration-color: #800080; font-weight: bold\">LooseVersion</span><span style=\"font-weight: bold\">(</span>minimum_pandas_version<span style=\"font-weight: bold\">)</span>:                                  <span style=\"color: #7f7f7f; text-decoration-color: #7f7f7f\">               </span>\n",
       "<span style=\"color: #7fbfbf; text-decoration-color: #7fbfbf\">                    </span>                                                                                <span style=\"color: #7f7f7f; text-decoration-color: #7f7f7f\">               </span>\n",
       "</pre>\n"
      ],
      "text/plain": [
       "\u001b[2;36m[08/11/22 10:06:43]\u001b[0m\u001b[2;36m \u001b[0m\u001b[31mWARNING \u001b[0m \u001b[35m/opt/homebrew/Caskroom/miniforge/base/envs/dm_project/lib/python3.10/s\u001b[0m \u001b]8;id=493542;file:///opt/homebrew/Caskroom/miniforge/base/envs/dm_project/lib/python3.10/warnings.py\u001b\\\u001b[2mwarnings.py\u001b[0m\u001b]8;;\u001b\\\u001b[2m:\u001b[0m\u001b]8;id=306732;file:///opt/homebrew/Caskroom/miniforge/base/envs/dm_project/lib/python3.10/warnings.py#109\u001b\\\u001b[2m109\u001b[0m\u001b]8;;\u001b\\\n",
       "\u001b[2;36m                    \u001b[0m         \u001b[35mite-packages/pyspark/sql/pandas/\u001b[0m\u001b[95mutils.py\u001b[0m:\u001b[1;36m35\u001b[0m: DeprecationWarning:       \u001b[2m               \u001b[0m\n",
       "\u001b[2;36m                    \u001b[0m         distutils Version classes are deprecated. Use packaging.version        \u001b[2m               \u001b[0m\n",
       "\u001b[2;36m                    \u001b[0m         instead.                                                               \u001b[2m               \u001b[0m\n",
       "\u001b[2;36m                    \u001b[0m           if \u001b[1;35mLooseVersion\u001b[0m\u001b[1m(\u001b[0mpandas.__version__\u001b[1m)\u001b[0m <                                \u001b[2m               \u001b[0m\n",
       "\u001b[2;36m                    \u001b[0m         \u001b[1;35mLooseVersion\u001b[0m\u001b[1m(\u001b[0mminimum_pandas_version\u001b[1m)\u001b[0m:                                  \u001b[2m               \u001b[0m\n",
       "\u001b[2;36m                    \u001b[0m                                                                                \u001b[2m               \u001b[0m\n"
      ]
     },
     "metadata": {},
     "output_type": "display_data"
    },
    {
     "name": "stderr",
     "output_type": "stream",
     "text": [
      "                                                                                \r"
     ]
    },
    {
     "data": {
      "text/html": [
       "<div>\n",
       "<style scoped>\n",
       "    .dataframe tbody tr th:only-of-type {\n",
       "        vertical-align: middle;\n",
       "    }\n",
       "\n",
       "    .dataframe tbody tr th {\n",
       "        vertical-align: top;\n",
       "    }\n",
       "\n",
       "    .dataframe thead th {\n",
       "        text-align: right;\n",
       "    }\n",
       "</style>\n",
       "<table border=\"1\" class=\"dataframe\">\n",
       "  <thead>\n",
       "    <tr style=\"text-align: right;\">\n",
       "      <th></th>\n",
       "      <th>modalidad_de_contrataci_n</th>\n",
       "      <th>count</th>\n",
       "      <th>prop</th>\n",
       "    </tr>\n",
       "  </thead>\n",
       "  <tbody>\n",
       "    <tr>\n",
       "      <th>2</th>\n",
       "      <td>contratacion directa</td>\n",
       "      <td>920465</td>\n",
       "      <td>0.550745</td>\n",
       "    </tr>\n",
       "    <tr>\n",
       "      <th>4</th>\n",
       "      <td>minima cuantia</td>\n",
       "      <td>454506</td>\n",
       "      <td>0.271946</td>\n",
       "    </tr>\n",
       "    <tr>\n",
       "      <th>6</th>\n",
       "      <td>regimen especial</td>\n",
       "      <td>216527</td>\n",
       "      <td>0.129555</td>\n",
       "    </tr>\n",
       "    <tr>\n",
       "      <th>1</th>\n",
       "      <td>licitacion publica</td>\n",
       "      <td>31210</td>\n",
       "      <td>0.018674</td>\n",
       "    </tr>\n",
       "    <tr>\n",
       "      <th>5</th>\n",
       "      <td>subasta</td>\n",
       "      <td>24520</td>\n",
       "      <td>0.014671</td>\n",
       "    </tr>\n",
       "    <tr>\n",
       "      <th>3</th>\n",
       "      <td>concurso de meritos abiertos</td>\n",
       "      <td>19426</td>\n",
       "      <td>0.011623</td>\n",
       "    </tr>\n",
       "    <tr>\n",
       "      <th>0</th>\n",
       "      <td>Otro</td>\n",
       "      <td>4654</td>\n",
       "      <td>0.002785</td>\n",
       "    </tr>\n",
       "  </tbody>\n",
       "</table>\n",
       "</div>"
      ]
     },
     "execution_count": 18,
     "metadata": {},
     "output_type": "execute_result"
    },
    {
     "data": {
      "text/html": [
       "<pre style=\"white-space:pre;overflow-x:auto;line-height:normal;font-family:Menlo,'DejaVu Sans Mono',consolas,'Courier New',monospace\"><span style=\"font-weight: bold\">&lt;</span><span style=\"color: #ff00ff; text-decoration-color: #ff00ff; font-weight: bold\">IPython.core.display.Javascript</span><span style=\"color: #000000; text-decoration-color: #000000\"> object</span><span style=\"font-weight: bold\">&gt;</span>\n",
       "</pre>\n"
      ],
      "text/plain": [
       "\u001b[1m<\u001b[0m\u001b[1;95mIPython.core.display.Javascript\u001b[0m\u001b[39m object\u001b[0m\u001b[1m>\u001b[0m\n"
      ]
     },
     "metadata": {},
     "output_type": "display_data"
    },
    {
     "data": {
      "application/javascript": [
       "\n",
       "            setTimeout(function() {\n",
       "                var nbb_cell_id = 18;\n",
       "                var nbb_unformatted_code = \"count_process_type_clean = (\\n    secop_int.groupBy(\\\"modalidad_de_contrataci_n\\\").count().toPandas()\\n)\\ncount_process_type_clean[\\\"prop\\\"] = (\\n    count_process_type_clean[\\\"count\\\"] / count_process_type_clean[\\\"count\\\"].sum()\\n)\\ncount_process_type_clean.sort_values(\\\"prop\\\", ascending=False)\";\n",
       "                var nbb_formatted_code = \"count_process_type_clean = (\\n    secop_int.groupBy(\\\"modalidad_de_contrataci_n\\\").count().toPandas()\\n)\\ncount_process_type_clean[\\\"prop\\\"] = (\\n    count_process_type_clean[\\\"count\\\"] / count_process_type_clean[\\\"count\\\"].sum()\\n)\\ncount_process_type_clean.sort_values(\\\"prop\\\", ascending=False)\";\n",
       "                var nbb_cells = Jupyter.notebook.get_cells();\n",
       "                for (var i = 0; i < nbb_cells.length; ++i) {\n",
       "                    if (nbb_cells[i].input_prompt_number == nbb_cell_id) {\n",
       "                        if (nbb_cells[i].get_text() == nbb_unformatted_code) {\n",
       "                             nbb_cells[i].set_text(nbb_formatted_code);\n",
       "                        }\n",
       "                        break;\n",
       "                    }\n",
       "                }\n",
       "            }, 500);\n",
       "            "
      ]
     },
     "metadata": {},
     "output_type": "display_data"
    }
   ],
   "source": [
    "count_process_type_clean = (\n",
    "    secop_int.groupBy(\"modalidad_de_contrataci_n\").count().toPandas()\n",
    ")\n",
    "count_process_type_clean[\"prop\"] = (\n",
    "    count_process_type_clean[\"count\"] / count_process_type_clean[\"count\"].sum()\n",
    ")\n",
    "count_process_type_clean.sort_values(\"prop\", ascending=False)"
   ]
  },
  {
   "cell_type": "code",
   "execution_count": 19,
   "id": "d2b2b02d",
   "metadata": {},
   "outputs": [
    {
     "data": {
      "text/html": [
       "<pre style=\"white-space:pre;overflow-x:auto;line-height:normal;font-family:Menlo,'DejaVu Sans Mono',consolas,'Courier New',monospace\"><span style=\"font-weight: bold\">&lt;</span><span style=\"color: #ff00ff; text-decoration-color: #ff00ff; font-weight: bold\">IPython.core.display.Javascript</span><span style=\"color: #000000; text-decoration-color: #000000\"> object</span><span style=\"font-weight: bold\">&gt;</span>\n",
       "</pre>\n"
      ],
      "text/plain": [
       "\u001b[1m<\u001b[0m\u001b[1;95mIPython.core.display.Javascript\u001b[0m\u001b[39m object\u001b[0m\u001b[1m>\u001b[0m\n"
      ]
     },
     "metadata": {},
     "output_type": "display_data"
    },
    {
     "data": {
      "application/javascript": [
       "\n",
       "            setTimeout(function() {\n",
       "                var nbb_cell_id = 19;\n",
       "                var nbb_unformatted_code = \"secop_int = secop_int.withColumn(\\n    \\\"tipo_de_contrato\\\", udf(remove_tildes)(F.lower(col(\\\"tipo_de_contrato\\\")))\\n)\";\n",
       "                var nbb_formatted_code = \"secop_int = secop_int.withColumn(\\n    \\\"tipo_de_contrato\\\", udf(remove_tildes)(F.lower(col(\\\"tipo_de_contrato\\\")))\\n)\";\n",
       "                var nbb_cells = Jupyter.notebook.get_cells();\n",
       "                for (var i = 0; i < nbb_cells.length; ++i) {\n",
       "                    if (nbb_cells[i].input_prompt_number == nbb_cell_id) {\n",
       "                        if (nbb_cells[i].get_text() == nbb_unformatted_code) {\n",
       "                             nbb_cells[i].set_text(nbb_formatted_code);\n",
       "                        }\n",
       "                        break;\n",
       "                    }\n",
       "                }\n",
       "            }, 500);\n",
       "            "
      ]
     },
     "metadata": {},
     "output_type": "display_data"
    }
   ],
   "source": [
    "secop_int = secop_int.withColumn(\n",
    "    \"tipo_de_contrato\", udf(remove_tildes)(F.lower(col(\"tipo_de_contrato\")))\n",
    ")"
   ]
  },
  {
   "cell_type": "code",
   "execution_count": 22,
   "id": "b688db53",
   "metadata": {},
   "outputs": [
    {
     "data": {
      "text/html": [
       "<pre style=\"white-space:pre;overflow-x:auto;line-height:normal;font-family:Menlo,'DejaVu Sans Mono',consolas,'Courier New',monospace\"><span style=\"color: #800000; text-decoration-color: #800000\">╭─────────────────────────────── </span><span style=\"color: #800000; text-decoration-color: #800000; font-weight: bold\">Traceback </span><span style=\"color: #bf7f7f; text-decoration-color: #bf7f7f; font-weight: bold\">(most recent call last)</span><span style=\"color: #800000; text-decoration-color: #800000\"> ────────────────────────────────╮</span>\n",
       "<span style=\"color: #800000; text-decoration-color: #800000\">│</span> <span style=\"color: #bfbf7f; text-decoration-color: #bfbf7f\">/var/folders/89/9jx5xq1j4b979h8c76h2dzjr0000gn/T/ipykernel_29098/</span><span style=\"color: #808000; text-decoration-color: #808000; font-weight: bold\">2337588814.py</span>:<span style=\"color: #0000ff; text-decoration-color: #0000ff\">1</span> in <span style=\"color: #00ff00; text-decoration-color: #00ff00\">&lt;cell line: </span> <span style=\"color: #800000; text-decoration-color: #800000\">│</span>\n",
       "<span style=\"color: #800000; text-decoration-color: #800000\">│</span> <span style=\"color: #00ff00; text-decoration-color: #00ff00\">1&gt;</span>                                                                                               <span style=\"color: #800000; text-decoration-color: #800000\">│</span>\n",
       "<span style=\"color: #800000; text-decoration-color: #800000\">│</span>                                                                                                  <span style=\"color: #800000; text-decoration-color: #800000\">│</span>\n",
       "<span style=\"color: #800000; text-decoration-color: #800000\">│</span> <span style=\"color: #800000; text-decoration-color: #800000; font-style: italic\">[Errno 2] No such file or directory: </span>                                                            <span style=\"color: #800000; text-decoration-color: #800000\">│</span>\n",
       "<span style=\"color: #800000; text-decoration-color: #800000\">│</span> <span style=\"color: #800000; text-decoration-color: #800000; font-style: italic\">'/var/folders/89/9jx5xq1j4b979h8c76h2dzjr0000gn/T/ipykernel_29098/2337588814.py'</span>                 <span style=\"color: #800000; text-decoration-color: #800000\">│</span>\n",
       "<span style=\"color: #800000; text-decoration-color: #800000\">╰──────────────────────────────────────────────────────────────────────────────────────────────────╯</span>\n",
       "<span style=\"color: #ff0000; text-decoration-color: #ff0000; font-weight: bold\">NameError: </span>name <span style=\"color: #008000; text-decoration-color: #008000\">'count_process_type_cont'</span> is not defined\n",
       "</pre>\n"
      ],
      "text/plain": [
       "\u001b[31m╭─\u001b[0m\u001b[31m────────────────────────────── \u001b[0m\u001b[1;31mTraceback \u001b[0m\u001b[1;2;31m(most recent call last)\u001b[0m\u001b[31m ───────────────────────────────\u001b[0m\u001b[31m─╮\u001b[0m\n",
       "\u001b[31m│\u001b[0m \u001b[2;33m/var/folders/89/9jx5xq1j4b979h8c76h2dzjr0000gn/T/ipykernel_29098/\u001b[0m\u001b[1;33m2337588814.py\u001b[0m:\u001b[94m1\u001b[0m in \u001b[92m<cell line: \u001b[0m \u001b[31m│\u001b[0m\n",
       "\u001b[31m│\u001b[0m \u001b[92m1>\u001b[0m                                                                                               \u001b[31m│\u001b[0m\n",
       "\u001b[31m│\u001b[0m                                                                                                  \u001b[31m│\u001b[0m\n",
       "\u001b[31m│\u001b[0m \u001b[3;31m[Errno 2] No such file or directory: \u001b[0m                                                            \u001b[31m│\u001b[0m\n",
       "\u001b[31m│\u001b[0m \u001b[3;31m'/var/folders/89/9jx5xq1j4b979h8c76h2dzjr0000gn/T/ipykernel_29098/2337588814.py'\u001b[0m                 \u001b[31m│\u001b[0m\n",
       "\u001b[31m╰──────────────────────────────────────────────────────────────────────────────────────────────────╯\u001b[0m\n",
       "\u001b[1;91mNameError: \u001b[0mname \u001b[32m'count_process_type_cont'\u001b[0m is not defined\n"
      ]
     },
     "metadata": {},
     "output_type": "display_data"
    }
   ],
   "source": [
    "count_process_type_cont"
   ]
  },
  {
   "cell_type": "code",
   "execution_count": null,
   "id": "b1437cee",
   "metadata": {},
   "outputs": [],
   "source": []
  },
  {
   "cell_type": "code",
   "execution_count": 20,
   "id": "bf540941",
   "metadata": {
    "scrolled": false
   },
   "outputs": [
    {
     "data": {
      "text/html": [
       "<pre style=\"white-space:pre;overflow-x:auto;line-height:normal;font-family:Menlo,'DejaVu Sans Mono',consolas,'Courier New',monospace\"><span style=\"color: #7fbfbf; text-decoration-color: #7fbfbf\">[08/11/22 10:07:02] </span><span style=\"color: #800000; text-decoration-color: #800000\">WARNING </span> <span style=\"color: #800080; text-decoration-color: #800080\">/opt/homebrew/Caskroom/miniforge/base/envs/dm_project/lib/python3.10/s</span> <a href=\"file:///opt/homebrew/Caskroom/miniforge/base/envs/dm_project/lib/python3.10/warnings.py\" target=\"_blank\"><span style=\"color: #7f7f7f; text-decoration-color: #7f7f7f\">warnings.py</span></a><span style=\"color: #7f7f7f; text-decoration-color: #7f7f7f\">:</span><a href=\"file:///opt/homebrew/Caskroom/miniforge/base/envs/dm_project/lib/python3.10/warnings.py#109\" target=\"_blank\"><span style=\"color: #7f7f7f; text-decoration-color: #7f7f7f\">109</span></a>\n",
       "<span style=\"color: #7fbfbf; text-decoration-color: #7fbfbf\">                    </span>         <span style=\"color: #800080; text-decoration-color: #800080\">ite-packages/pyspark/sql/pandas/</span><span style=\"color: #ff00ff; text-decoration-color: #ff00ff\">utils.py</span>:<span style=\"color: #008080; text-decoration-color: #008080; font-weight: bold\">35</span>: DeprecationWarning:       <span style=\"color: #7f7f7f; text-decoration-color: #7f7f7f\">               </span>\n",
       "<span style=\"color: #7fbfbf; text-decoration-color: #7fbfbf\">                    </span>         distutils Version classes are deprecated. Use packaging.version        <span style=\"color: #7f7f7f; text-decoration-color: #7f7f7f\">               </span>\n",
       "<span style=\"color: #7fbfbf; text-decoration-color: #7fbfbf\">                    </span>         instead.                                                               <span style=\"color: #7f7f7f; text-decoration-color: #7f7f7f\">               </span>\n",
       "<span style=\"color: #7fbfbf; text-decoration-color: #7fbfbf\">                    </span>           if <span style=\"color: #800080; text-decoration-color: #800080; font-weight: bold\">LooseVersion</span><span style=\"font-weight: bold\">(</span>pandas.__version__<span style=\"font-weight: bold\">)</span> &lt;                                <span style=\"color: #7f7f7f; text-decoration-color: #7f7f7f\">               </span>\n",
       "<span style=\"color: #7fbfbf; text-decoration-color: #7fbfbf\">                    </span>         <span style=\"color: #800080; text-decoration-color: #800080; font-weight: bold\">LooseVersion</span><span style=\"font-weight: bold\">(</span>minimum_pandas_version<span style=\"font-weight: bold\">)</span>:                                  <span style=\"color: #7f7f7f; text-decoration-color: #7f7f7f\">               </span>\n",
       "<span style=\"color: #7fbfbf; text-decoration-color: #7fbfbf\">                    </span>                                                                                <span style=\"color: #7f7f7f; text-decoration-color: #7f7f7f\">               </span>\n",
       "</pre>\n"
      ],
      "text/plain": [
       "\u001b[2;36m[08/11/22 10:07:02]\u001b[0m\u001b[2;36m \u001b[0m\u001b[31mWARNING \u001b[0m \u001b[35m/opt/homebrew/Caskroom/miniforge/base/envs/dm_project/lib/python3.10/s\u001b[0m \u001b]8;id=776793;file:///opt/homebrew/Caskroom/miniforge/base/envs/dm_project/lib/python3.10/warnings.py\u001b\\\u001b[2mwarnings.py\u001b[0m\u001b]8;;\u001b\\\u001b[2m:\u001b[0m\u001b]8;id=709259;file:///opt/homebrew/Caskroom/miniforge/base/envs/dm_project/lib/python3.10/warnings.py#109\u001b\\\u001b[2m109\u001b[0m\u001b]8;;\u001b\\\n",
       "\u001b[2;36m                    \u001b[0m         \u001b[35mite-packages/pyspark/sql/pandas/\u001b[0m\u001b[95mutils.py\u001b[0m:\u001b[1;36m35\u001b[0m: DeprecationWarning:       \u001b[2m               \u001b[0m\n",
       "\u001b[2;36m                    \u001b[0m         distutils Version classes are deprecated. Use packaging.version        \u001b[2m               \u001b[0m\n",
       "\u001b[2;36m                    \u001b[0m         instead.                                                               \u001b[2m               \u001b[0m\n",
       "\u001b[2;36m                    \u001b[0m           if \u001b[1;35mLooseVersion\u001b[0m\u001b[1m(\u001b[0mpandas.__version__\u001b[1m)\u001b[0m <                                \u001b[2m               \u001b[0m\n",
       "\u001b[2;36m                    \u001b[0m         \u001b[1;35mLooseVersion\u001b[0m\u001b[1m(\u001b[0mminimum_pandas_version\u001b[1m)\u001b[0m:                                  \u001b[2m               \u001b[0m\n",
       "\u001b[2;36m                    \u001b[0m                                                                                \u001b[2m               \u001b[0m\n"
      ]
     },
     "metadata": {},
     "output_type": "display_data"
    },
    {
     "name": "stderr",
     "output_type": "stream",
     "text": [
      "                                                                                \r"
     ]
    },
    {
     "data": {
      "text/html": [
       "<pre style=\"white-space:pre;overflow-x:auto;line-height:normal;font-family:Menlo,'DejaVu Sans Mono',consolas,'Courier New',monospace\"><span style=\"font-weight: bold\">&lt;</span><span style=\"color: #ff00ff; text-decoration-color: #ff00ff; font-weight: bold\">IPython.core.display.Javascript</span><span style=\"color: #000000; text-decoration-color: #000000\"> object</span><span style=\"font-weight: bold\">&gt;</span>\n",
       "</pre>\n"
      ],
      "text/plain": [
       "\u001b[1m<\u001b[0m\u001b[1;95mIPython.core.display.Javascript\u001b[0m\u001b[39m object\u001b[0m\u001b[1m>\u001b[0m\n"
      ]
     },
     "metadata": {},
     "output_type": "display_data"
    },
    {
     "data": {
      "application/javascript": [
       "\n",
       "            setTimeout(function() {\n",
       "                var nbb_cell_id = 20;\n",
       "                var nbb_unformatted_code = \"count_process_type_cont = secop_int.groupBy(\\\"tipo_de_contrato\\\").count().toPandas()\\ncount_process_type_cont[\\\"prop\\\"] = (\\n    count_process_type_cont[\\\"count\\\"] / count_process_type_cont[\\\"count\\\"].sum()\\n)\";\n",
       "                var nbb_formatted_code = \"count_process_type_cont = secop_int.groupBy(\\\"tipo_de_contrato\\\").count().toPandas()\\ncount_process_type_cont[\\\"prop\\\"] = (\\n    count_process_type_cont[\\\"count\\\"] / count_process_type_cont[\\\"count\\\"].sum()\\n)\";\n",
       "                var nbb_cells = Jupyter.notebook.get_cells();\n",
       "                for (var i = 0; i < nbb_cells.length; ++i) {\n",
       "                    if (nbb_cells[i].input_prompt_number == nbb_cell_id) {\n",
       "                        if (nbb_cells[i].get_text() == nbb_unformatted_code) {\n",
       "                             nbb_cells[i].set_text(nbb_formatted_code);\n",
       "                        }\n",
       "                        break;\n",
       "                    }\n",
       "                }\n",
       "            }, 500);\n",
       "            "
      ]
     },
     "metadata": {},
     "output_type": "display_data"
    }
   ],
   "source": [
    "count_process_type_cont = secop_int.groupBy(\"tipo_de_contrato\").count().toPandas()\n",
    "count_process_type_cont[\"prop\"] = (\n",
    "    count_process_type_cont[\"count\"] / count_process_type_cont[\"count\"].sum()\n",
    ")"
   ]
  },
  {
   "cell_type": "code",
   "execution_count": 21,
   "id": "8342818e",
   "metadata": {},
   "outputs": [
    {
     "data": {
      "text/html": [
       "<pre style=\"white-space:pre;overflow-x:auto;line-height:normal;font-family:Menlo,'DejaVu Sans Mono',consolas,'Courier New',monospace\"><span style=\"font-weight: bold\">&lt;</span><span style=\"color: #ff00ff; text-decoration-color: #ff00ff; font-weight: bold\">IPython.core.display.Javascript</span><span style=\"color: #000000; text-decoration-color: #000000\"> object</span><span style=\"font-weight: bold\">&gt;</span>\n",
       "</pre>\n"
      ],
      "text/plain": [
       "\u001b[1m<\u001b[0m\u001b[1;95mIPython.core.display.Javascript\u001b[0m\u001b[39m object\u001b[0m\u001b[1m>\u001b[0m\n"
      ]
     },
     "metadata": {},
     "output_type": "display_data"
    },
    {
     "data": {
      "application/javascript": [
       "\n",
       "            setTimeout(function() {\n",
       "                var nbb_cell_id = 21;\n",
       "                var nbb_unformatted_code = \"def clean_tipo_contrato(tip: str):\\n    \\\"\\\"\\\"Clean and group tipo de contrato\\\"\\\"\\\"\\n    if (\\\"suministro\\\" in tip) or (tip in [\\\"compraventa\\\", \\\"venta muebles\\\"]):\\n        return \\\"suministro\\\"\\n    elif (\\\"arrendamiento\\\" in tip) or (\\\"comodato\\\" in tip):\\n        return \\\"arrendamiento\\\"\\n    elif tip in [\\n        \\\"servicios financieros\\\",\\n        \\\"credito\\\",\\n        \\\"fiducia\\\",\\n        \\\"seguros\\\",\\n        \\\"emprestito\\\",\\n    ]:\\n        return \\\"servicios financieros\\\"\\n    elif tip in [\\\"obra\\\", \\\"consultoria\\\", \\\"prestacion de servicios\\\",'interventoria','concesion']:\\n        return tip\\n    else:\\n        return \\\"Otro\\\"\";\n",
       "                var nbb_formatted_code = \"def clean_tipo_contrato(tip: str):\\n    \\\"\\\"\\\"Clean and group tipo de contrato\\\"\\\"\\\"\\n    if (\\\"suministro\\\" in tip) or (tip in [\\\"compraventa\\\", \\\"venta muebles\\\"]):\\n        return \\\"suministro\\\"\\n    elif (\\\"arrendamiento\\\" in tip) or (\\\"comodato\\\" in tip):\\n        return \\\"arrendamiento\\\"\\n    elif tip in [\\n        \\\"servicios financieros\\\",\\n        \\\"credito\\\",\\n        \\\"fiducia\\\",\\n        \\\"seguros\\\",\\n        \\\"emprestito\\\",\\n    ]:\\n        return \\\"servicios financieros\\\"\\n    elif tip in [\\n        \\\"obra\\\",\\n        \\\"consultoria\\\",\\n        \\\"prestacion de servicios\\\",\\n        \\\"interventoria\\\",\\n        \\\"concesion\\\",\\n    ]:\\n        return tip\\n    else:\\n        return \\\"Otro\\\"\";\n",
       "                var nbb_cells = Jupyter.notebook.get_cells();\n",
       "                for (var i = 0; i < nbb_cells.length; ++i) {\n",
       "                    if (nbb_cells[i].input_prompt_number == nbb_cell_id) {\n",
       "                        if (nbb_cells[i].get_text() == nbb_unformatted_code) {\n",
       "                             nbb_cells[i].set_text(nbb_formatted_code);\n",
       "                        }\n",
       "                        break;\n",
       "                    }\n",
       "                }\n",
       "            }, 500);\n",
       "            "
      ]
     },
     "metadata": {},
     "output_type": "display_data"
    }
   ],
   "source": [
    "def clean_tipo_contrato(tip: str):\n",
    "    \"\"\"Clean and group tipo de contrato\"\"\"\n",
    "    if (\"suministro\" in tip) or (tip in [\"compraventa\", \"venta muebles\"]):\n",
    "        return \"suministro\"\n",
    "    elif (\"arrendamiento\" in tip) or (\"comodato\" in tip):\n",
    "        return \"arrendamiento\"\n",
    "    elif tip in [\n",
    "        \"servicios financieros\",\n",
    "        \"credito\",\n",
    "        \"fiducia\",\n",
    "        \"seguros\",\n",
    "        \"emprestito\",\n",
    "    ]:\n",
    "        return \"servicios financieros\"\n",
    "    elif tip in [\n",
    "        \"obra\",\n",
    "        \"consultoria\",\n",
    "        \"prestacion de servicios\",\n",
    "        \"interventoria\",\n",
    "        \"concesion\",\n",
    "    ]:\n",
    "        return tip\n",
    "    else:\n",
    "        return \"Otro\""
   ]
  },
  {
   "cell_type": "code",
   "execution_count": 22,
   "id": "53b0099d",
   "metadata": {},
   "outputs": [
    {
     "data": {
      "text/html": [
       "<pre style=\"white-space:pre;overflow-x:auto;line-height:normal;font-family:Menlo,'DejaVu Sans Mono',consolas,'Courier New',monospace\"><span style=\"font-weight: bold\">&lt;</span><span style=\"color: #ff00ff; text-decoration-color: #ff00ff; font-weight: bold\">IPython.core.display.Javascript</span><span style=\"color: #000000; text-decoration-color: #000000\"> object</span><span style=\"font-weight: bold\">&gt;</span>\n",
       "</pre>\n"
      ],
      "text/plain": [
       "\u001b[1m<\u001b[0m\u001b[1;95mIPython.core.display.Javascript\u001b[0m\u001b[39m object\u001b[0m\u001b[1m>\u001b[0m\n"
      ]
     },
     "metadata": {},
     "output_type": "display_data"
    },
    {
     "data": {
      "application/javascript": [
       "\n",
       "            setTimeout(function() {\n",
       "                var nbb_cell_id = 22;\n",
       "                var nbb_unformatted_code = \"count_process_type_cont[\\\"tipo_de_contrato_clean\\\"] = count_process_type_cont[\\n    \\\"tipo_de_contrato\\\"\\n].apply(clean_tipo_contrato)\";\n",
       "                var nbb_formatted_code = \"count_process_type_cont[\\\"tipo_de_contrato_clean\\\"] = count_process_type_cont[\\n    \\\"tipo_de_contrato\\\"\\n].apply(clean_tipo_contrato)\";\n",
       "                var nbb_cells = Jupyter.notebook.get_cells();\n",
       "                for (var i = 0; i < nbb_cells.length; ++i) {\n",
       "                    if (nbb_cells[i].input_prompt_number == nbb_cell_id) {\n",
       "                        if (nbb_cells[i].get_text() == nbb_unformatted_code) {\n",
       "                             nbb_cells[i].set_text(nbb_formatted_code);\n",
       "                        }\n",
       "                        break;\n",
       "                    }\n",
       "                }\n",
       "            }, 500);\n",
       "            "
      ]
     },
     "metadata": {},
     "output_type": "display_data"
    }
   ],
   "source": [
    "count_process_type_cont[\"tipo_de_contrato_clean\"] = count_process_type_cont[\n",
    "    \"tipo_de_contrato\"\n",
    "].apply(clean_tipo_contrato)"
   ]
  },
  {
   "cell_type": "code",
   "execution_count": 23,
   "id": "06112543",
   "metadata": {
    "scrolled": true
   },
   "outputs": [
    {
     "data": {
      "text/html": [
       "<div>\n",
       "<style scoped>\n",
       "    .dataframe tbody tr th:only-of-type {\n",
       "        vertical-align: middle;\n",
       "    }\n",
       "\n",
       "    .dataframe tbody tr th {\n",
       "        vertical-align: top;\n",
       "    }\n",
       "\n",
       "    .dataframe thead th {\n",
       "        text-align: right;\n",
       "    }\n",
       "</style>\n",
       "<table border=\"1\" class=\"dataframe\">\n",
       "  <thead>\n",
       "    <tr style=\"text-align: right;\">\n",
       "      <th></th>\n",
       "      <th>tipo_de_contrato</th>\n",
       "      <th>count</th>\n",
       "      <th>prop</th>\n",
       "      <th>tipo_de_contrato_clean</th>\n",
       "    </tr>\n",
       "  </thead>\n",
       "  <tbody>\n",
       "    <tr>\n",
       "      <th>0</th>\n",
       "      <td>suministro</td>\n",
       "      <td>204990</td>\n",
       "      <td>1.226524e-01</td>\n",
       "      <td>suministro</td>\n",
       "    </tr>\n",
       "    <tr>\n",
       "      <th>1</th>\n",
       "      <td>servicios financieros</td>\n",
       "      <td>22</td>\n",
       "      <td>1.316334e-05</td>\n",
       "      <td>servicios financieros</td>\n",
       "    </tr>\n",
       "    <tr>\n",
       "      <th>2</th>\n",
       "      <td>compraventa</td>\n",
       "      <td>71510</td>\n",
       "      <td>4.278685e-02</td>\n",
       "      <td>suministro</td>\n",
       "    </tr>\n",
       "    <tr>\n",
       "      <th>3</th>\n",
       "      <td>venta muebles</td>\n",
       "      <td>45</td>\n",
       "      <td>2.692502e-05</td>\n",
       "      <td>suministro</td>\n",
       "    </tr>\n",
       "    <tr>\n",
       "      <th>4</th>\n",
       "      <td>prestacion de servicios</td>\n",
       "      <td>1137451</td>\n",
       "      <td>6.805753e-01</td>\n",
       "      <td>prestacion de servicios</td>\n",
       "    </tr>\n",
       "    <tr>\n",
       "      <th>5</th>\n",
       "      <td>concesion</td>\n",
       "      <td>556</td>\n",
       "      <td>3.326736e-04</td>\n",
       "      <td>concesion</td>\n",
       "    </tr>\n",
       "    <tr>\n",
       "      <th>6</th>\n",
       "      <td>arrendamiento de inmuebles</td>\n",
       "      <td>894</td>\n",
       "      <td>5.349104e-04</td>\n",
       "      <td>arrendamiento</td>\n",
       "    </tr>\n",
       "    <tr>\n",
       "      <th>7</th>\n",
       "      <td>comodato</td>\n",
       "      <td>3010</td>\n",
       "      <td>1.800985e-03</td>\n",
       "      <td>arrendamiento</td>\n",
       "    </tr>\n",
       "    <tr>\n",
       "      <th>8</th>\n",
       "      <td>arrendamiento</td>\n",
       "      <td>13824</td>\n",
       "      <td>8.271366e-03</td>\n",
       "      <td>arrendamiento</td>\n",
       "    </tr>\n",
       "    <tr>\n",
       "      <th>9</th>\n",
       "      <td>otro</td>\n",
       "      <td>4464</td>\n",
       "      <td>2.670962e-03</td>\n",
       "      <td>Otro</td>\n",
       "    </tr>\n",
       "    <tr>\n",
       "      <th>10</th>\n",
       "      <td>credito</td>\n",
       "      <td>602</td>\n",
       "      <td>3.601969e-04</td>\n",
       "      <td>servicios financieros</td>\n",
       "    </tr>\n",
       "    <tr>\n",
       "      <th>11</th>\n",
       "      <td>otro tipo de contrato</td>\n",
       "      <td>68510</td>\n",
       "      <td>4.099185e-02</td>\n",
       "      <td>Otro</td>\n",
       "    </tr>\n",
       "    <tr>\n",
       "      <th>12</th>\n",
       "      <td>suministros</td>\n",
       "      <td>2138</td>\n",
       "      <td>1.279238e-03</td>\n",
       "      <td>suministro</td>\n",
       "    </tr>\n",
       "    <tr>\n",
       "      <th>13</th>\n",
       "      <td>obra</td>\n",
       "      <td>118003</td>\n",
       "      <td>7.060518e-02</td>\n",
       "      <td>obra</td>\n",
       "    </tr>\n",
       "    <tr>\n",
       "      <th>14</th>\n",
       "      <td>fiducia</td>\n",
       "      <td>295</td>\n",
       "      <td>1.765085e-04</td>\n",
       "      <td>servicios financieros</td>\n",
       "    </tr>\n",
       "    <tr>\n",
       "      <th>15</th>\n",
       "      <td>consultoria</td>\n",
       "      <td>23869</td>\n",
       "      <td>1.428163e-02</td>\n",
       "      <td>consultoria</td>\n",
       "    </tr>\n",
       "    <tr>\n",
       "      <th>16</th>\n",
       "      <td>decreelaw092/2017</td>\n",
       "      <td>2328</td>\n",
       "      <td>1.392921e-03</td>\n",
       "      <td>Otro</td>\n",
       "    </tr>\n",
       "    <tr>\n",
       "      <th>17</th>\n",
       "      <td>interventoria</td>\n",
       "      <td>17636</td>\n",
       "      <td>1.055221e-02</td>\n",
       "      <td>interventoria</td>\n",
       "    </tr>\n",
       "    <tr>\n",
       "      <th>18</th>\n",
       "      <td>seguros</td>\n",
       "      <td>231</td>\n",
       "      <td>1.382151e-04</td>\n",
       "      <td>servicios financieros</td>\n",
       "    </tr>\n",
       "    <tr>\n",
       "      <th>19</th>\n",
       "      <td>acuerdo marco</td>\n",
       "      <td>208</td>\n",
       "      <td>1.244534e-04</td>\n",
       "      <td>Otro</td>\n",
       "    </tr>\n",
       "    <tr>\n",
       "      <th>20</th>\n",
       "      <td>comision</td>\n",
       "      <td>1</td>\n",
       "      <td>5.983338e-07</td>\n",
       "      <td>Otro</td>\n",
       "    </tr>\n",
       "    <tr>\n",
       "      <th>21</th>\n",
       "      <td>agregacion de demanda</td>\n",
       "      <td>35</td>\n",
       "      <td>2.094168e-05</td>\n",
       "      <td>Otro</td>\n",
       "    </tr>\n",
       "    <tr>\n",
       "      <th>22</th>\n",
       "      <td>arrendamiento de muebles</td>\n",
       "      <td>52</td>\n",
       "      <td>3.111336e-05</td>\n",
       "      <td>arrendamiento</td>\n",
       "    </tr>\n",
       "    <tr>\n",
       "      <th>23</th>\n",
       "      <td>no definido</td>\n",
       "      <td>335</td>\n",
       "      <td>2.004418e-04</td>\n",
       "      <td>Otro</td>\n",
       "    </tr>\n",
       "    <tr>\n",
       "      <th>24</th>\n",
       "      <td>emprestito</td>\n",
       "      <td>22</td>\n",
       "      <td>1.316334e-05</td>\n",
       "      <td>servicios financieros</td>\n",
       "    </tr>\n",
       "    <tr>\n",
       "      <th>25</th>\n",
       "      <td>no especificado</td>\n",
       "      <td>198</td>\n",
       "      <td>1.184701e-04</td>\n",
       "      <td>Otro</td>\n",
       "    </tr>\n",
       "    <tr>\n",
       "      <th>26</th>\n",
       "      <td>negocio fiduciario</td>\n",
       "      <td>5</td>\n",
       "      <td>2.991669e-06</td>\n",
       "      <td>Otro</td>\n",
       "    </tr>\n",
       "    <tr>\n",
       "      <th>27</th>\n",
       "      <td>venta inmuebles</td>\n",
       "      <td>2</td>\n",
       "      <td>1.196668e-06</td>\n",
       "      <td>Otro</td>\n",
       "    </tr>\n",
       "    <tr>\n",
       "      <th>28</th>\n",
       "      <td>asociacion publico privada</td>\n",
       "      <td>72</td>\n",
       "      <td>4.308003e-05</td>\n",
       "      <td>Otro</td>\n",
       "    </tr>\n",
       "  </tbody>\n",
       "</table>\n",
       "</div>"
      ]
     },
     "execution_count": 23,
     "metadata": {},
     "output_type": "execute_result"
    },
    {
     "data": {
      "text/html": [
       "<pre style=\"white-space:pre;overflow-x:auto;line-height:normal;font-family:Menlo,'DejaVu Sans Mono',consolas,'Courier New',monospace\"><span style=\"font-weight: bold\">&lt;</span><span style=\"color: #ff00ff; text-decoration-color: #ff00ff; font-weight: bold\">IPython.core.display.Javascript</span><span style=\"color: #000000; text-decoration-color: #000000\"> object</span><span style=\"font-weight: bold\">&gt;</span>\n",
       "</pre>\n"
      ],
      "text/plain": [
       "\u001b[1m<\u001b[0m\u001b[1;95mIPython.core.display.Javascript\u001b[0m\u001b[39m object\u001b[0m\u001b[1m>\u001b[0m\n"
      ]
     },
     "metadata": {},
     "output_type": "display_data"
    },
    {
     "data": {
      "application/javascript": [
       "\n",
       "            setTimeout(function() {\n",
       "                var nbb_cell_id = 23;\n",
       "                var nbb_unformatted_code = \"count_process_type_cont\";\n",
       "                var nbb_formatted_code = \"count_process_type_cont\";\n",
       "                var nbb_cells = Jupyter.notebook.get_cells();\n",
       "                for (var i = 0; i < nbb_cells.length; ++i) {\n",
       "                    if (nbb_cells[i].input_prompt_number == nbb_cell_id) {\n",
       "                        if (nbb_cells[i].get_text() == nbb_unformatted_code) {\n",
       "                             nbb_cells[i].set_text(nbb_formatted_code);\n",
       "                        }\n",
       "                        break;\n",
       "                    }\n",
       "                }\n",
       "            }, 500);\n",
       "            "
      ]
     },
     "metadata": {},
     "output_type": "display_data"
    }
   ],
   "source": [
    "count_process_type_cont"
   ]
  },
  {
   "cell_type": "code",
   "execution_count": 24,
   "id": "500742d5",
   "metadata": {},
   "outputs": [
    {
     "data": {
      "text/html": [
       "<pre style=\"white-space:pre;overflow-x:auto;line-height:normal;font-family:Menlo,'DejaVu Sans Mono',consolas,'Courier New',monospace\"><span style=\"font-weight: bold\">&lt;</span><span style=\"color: #ff00ff; text-decoration-color: #ff00ff; font-weight: bold\">IPython.core.display.Javascript</span><span style=\"color: #000000; text-decoration-color: #000000\"> object</span><span style=\"font-weight: bold\">&gt;</span>\n",
       "</pre>\n"
      ],
      "text/plain": [
       "\u001b[1m<\u001b[0m\u001b[1;95mIPython.core.display.Javascript\u001b[0m\u001b[39m object\u001b[0m\u001b[1m>\u001b[0m\n"
      ]
     },
     "metadata": {},
     "output_type": "display_data"
    },
    {
     "data": {
      "application/javascript": [
       "\n",
       "            setTimeout(function() {\n",
       "                var nbb_cell_id = 24;\n",
       "                var nbb_unformatted_code = \"secop_int = secop_int.withColumn(\\n    \\\"tipo_de_contrato\\\",\\n    udf(clean_tipo_contrato)(col(\\\"tipo_de_contrato\\\")),\\n)\";\n",
       "                var nbb_formatted_code = \"secop_int = secop_int.withColumn(\\n    \\\"tipo_de_contrato\\\",\\n    udf(clean_tipo_contrato)(col(\\\"tipo_de_contrato\\\")),\\n)\";\n",
       "                var nbb_cells = Jupyter.notebook.get_cells();\n",
       "                for (var i = 0; i < nbb_cells.length; ++i) {\n",
       "                    if (nbb_cells[i].input_prompt_number == nbb_cell_id) {\n",
       "                        if (nbb_cells[i].get_text() == nbb_unformatted_code) {\n",
       "                             nbb_cells[i].set_text(nbb_formatted_code);\n",
       "                        }\n",
       "                        break;\n",
       "                    }\n",
       "                }\n",
       "            }, 500);\n",
       "            "
      ]
     },
     "metadata": {},
     "output_type": "display_data"
    }
   ],
   "source": [
    "secop_int = secop_int.withColumn(\n",
    "    \"tipo_de_contrato\",\n",
    "    udf(clean_tipo_contrato)(col(\"tipo_de_contrato\")),\n",
    ")"
   ]
  },
  {
   "cell_type": "code",
   "execution_count": 25,
   "id": "8c8b2aa2",
   "metadata": {},
   "outputs": [
    {
     "data": {
      "text/html": [
       "<pre style=\"white-space:pre;overflow-x:auto;line-height:normal;font-family:Menlo,'DejaVu Sans Mono',consolas,'Courier New',monospace\"><span style=\"color: #7fbfbf; text-decoration-color: #7fbfbf\">[08/11/22 10:08:40] </span><span style=\"color: #800000; text-decoration-color: #800000\">WARNING </span> <span style=\"color: #800080; text-decoration-color: #800080\">/opt/homebrew/Caskroom/miniforge/base/envs/dm_project/lib/python3.10/s</span> <a href=\"file:///opt/homebrew/Caskroom/miniforge/base/envs/dm_project/lib/python3.10/warnings.py\" target=\"_blank\"><span style=\"color: #7f7f7f; text-decoration-color: #7f7f7f\">warnings.py</span></a><span style=\"color: #7f7f7f; text-decoration-color: #7f7f7f\">:</span><a href=\"file:///opt/homebrew/Caskroom/miniforge/base/envs/dm_project/lib/python3.10/warnings.py#109\" target=\"_blank\"><span style=\"color: #7f7f7f; text-decoration-color: #7f7f7f\">109</span></a>\n",
       "<span style=\"color: #7fbfbf; text-decoration-color: #7fbfbf\">                    </span>         <span style=\"color: #800080; text-decoration-color: #800080\">ite-packages/pyspark/sql/pandas/</span><span style=\"color: #ff00ff; text-decoration-color: #ff00ff\">utils.py</span>:<span style=\"color: #008080; text-decoration-color: #008080; font-weight: bold\">35</span>: DeprecationWarning:       <span style=\"color: #7f7f7f; text-decoration-color: #7f7f7f\">               </span>\n",
       "<span style=\"color: #7fbfbf; text-decoration-color: #7fbfbf\">                    </span>         distutils Version classes are deprecated. Use packaging.version        <span style=\"color: #7f7f7f; text-decoration-color: #7f7f7f\">               </span>\n",
       "<span style=\"color: #7fbfbf; text-decoration-color: #7fbfbf\">                    </span>         instead.                                                               <span style=\"color: #7f7f7f; text-decoration-color: #7f7f7f\">               </span>\n",
       "<span style=\"color: #7fbfbf; text-decoration-color: #7fbfbf\">                    </span>           if <span style=\"color: #800080; text-decoration-color: #800080; font-weight: bold\">LooseVersion</span><span style=\"font-weight: bold\">(</span>pandas.__version__<span style=\"font-weight: bold\">)</span> &lt;                                <span style=\"color: #7f7f7f; text-decoration-color: #7f7f7f\">               </span>\n",
       "<span style=\"color: #7fbfbf; text-decoration-color: #7fbfbf\">                    </span>         <span style=\"color: #800080; text-decoration-color: #800080; font-weight: bold\">LooseVersion</span><span style=\"font-weight: bold\">(</span>minimum_pandas_version<span style=\"font-weight: bold\">)</span>:                                  <span style=\"color: #7f7f7f; text-decoration-color: #7f7f7f\">               </span>\n",
       "<span style=\"color: #7fbfbf; text-decoration-color: #7fbfbf\">                    </span>                                                                                <span style=\"color: #7f7f7f; text-decoration-color: #7f7f7f\">               </span>\n",
       "</pre>\n"
      ],
      "text/plain": [
       "\u001b[2;36m[08/11/22 10:08:40]\u001b[0m\u001b[2;36m \u001b[0m\u001b[31mWARNING \u001b[0m \u001b[35m/opt/homebrew/Caskroom/miniforge/base/envs/dm_project/lib/python3.10/s\u001b[0m \u001b]8;id=191263;file:///opt/homebrew/Caskroom/miniforge/base/envs/dm_project/lib/python3.10/warnings.py\u001b\\\u001b[2mwarnings.py\u001b[0m\u001b]8;;\u001b\\\u001b[2m:\u001b[0m\u001b]8;id=260831;file:///opt/homebrew/Caskroom/miniforge/base/envs/dm_project/lib/python3.10/warnings.py#109\u001b\\\u001b[2m109\u001b[0m\u001b]8;;\u001b\\\n",
       "\u001b[2;36m                    \u001b[0m         \u001b[35mite-packages/pyspark/sql/pandas/\u001b[0m\u001b[95mutils.py\u001b[0m:\u001b[1;36m35\u001b[0m: DeprecationWarning:       \u001b[2m               \u001b[0m\n",
       "\u001b[2;36m                    \u001b[0m         distutils Version classes are deprecated. Use packaging.version        \u001b[2m               \u001b[0m\n",
       "\u001b[2;36m                    \u001b[0m         instead.                                                               \u001b[2m               \u001b[0m\n",
       "\u001b[2;36m                    \u001b[0m           if \u001b[1;35mLooseVersion\u001b[0m\u001b[1m(\u001b[0mpandas.__version__\u001b[1m)\u001b[0m <                                \u001b[2m               \u001b[0m\n",
       "\u001b[2;36m                    \u001b[0m         \u001b[1;35mLooseVersion\u001b[0m\u001b[1m(\u001b[0mminimum_pandas_version\u001b[1m)\u001b[0m:                                  \u001b[2m               \u001b[0m\n",
       "\u001b[2;36m                    \u001b[0m                                                                                \u001b[2m               \u001b[0m\n"
      ]
     },
     "metadata": {},
     "output_type": "display_data"
    },
    {
     "name": "stderr",
     "output_type": "stream",
     "text": [
      "                                                                                \r"
     ]
    },
    {
     "data": {
      "text/html": [
       "<div>\n",
       "<style scoped>\n",
       "    .dataframe tbody tr th:only-of-type {\n",
       "        vertical-align: middle;\n",
       "    }\n",
       "\n",
       "    .dataframe tbody tr th {\n",
       "        vertical-align: top;\n",
       "    }\n",
       "\n",
       "    .dataframe thead th {\n",
       "        text-align: right;\n",
       "    }\n",
       "</style>\n",
       "<table border=\"1\" class=\"dataframe\">\n",
       "  <thead>\n",
       "    <tr style=\"text-align: right;\">\n",
       "      <th></th>\n",
       "      <th>tipo_de_contrato</th>\n",
       "      <th>count</th>\n",
       "      <th>prop</th>\n",
       "    </tr>\n",
       "  </thead>\n",
       "  <tbody>\n",
       "    <tr>\n",
       "      <th>3</th>\n",
       "      <td>prestacion de servicios</td>\n",
       "      <td>1137451</td>\n",
       "      <td>0.680575</td>\n",
       "    </tr>\n",
       "    <tr>\n",
       "      <th>0</th>\n",
       "      <td>suministro</td>\n",
       "      <td>278683</td>\n",
       "      <td>0.166745</td>\n",
       "    </tr>\n",
       "    <tr>\n",
       "      <th>6</th>\n",
       "      <td>obra</td>\n",
       "      <td>118003</td>\n",
       "      <td>0.070605</td>\n",
       "    </tr>\n",
       "    <tr>\n",
       "      <th>1</th>\n",
       "      <td>Otro</td>\n",
       "      <td>76158</td>\n",
       "      <td>0.045568</td>\n",
       "    </tr>\n",
       "    <tr>\n",
       "      <th>7</th>\n",
       "      <td>consultoria</td>\n",
       "      <td>23869</td>\n",
       "      <td>0.014282</td>\n",
       "    </tr>\n",
       "    <tr>\n",
       "      <th>5</th>\n",
       "      <td>arrendamiento</td>\n",
       "      <td>17780</td>\n",
       "      <td>0.010638</td>\n",
       "    </tr>\n",
       "    <tr>\n",
       "      <th>8</th>\n",
       "      <td>interventoria</td>\n",
       "      <td>17636</td>\n",
       "      <td>0.010552</td>\n",
       "    </tr>\n",
       "    <tr>\n",
       "      <th>2</th>\n",
       "      <td>servicios financieros</td>\n",
       "      <td>1172</td>\n",
       "      <td>0.000701</td>\n",
       "    </tr>\n",
       "    <tr>\n",
       "      <th>4</th>\n",
       "      <td>concesion</td>\n",
       "      <td>556</td>\n",
       "      <td>0.000333</td>\n",
       "    </tr>\n",
       "  </tbody>\n",
       "</table>\n",
       "</div>"
      ]
     },
     "execution_count": 25,
     "metadata": {},
     "output_type": "execute_result"
    },
    {
     "data": {
      "text/html": [
       "<pre style=\"white-space:pre;overflow-x:auto;line-height:normal;font-family:Menlo,'DejaVu Sans Mono',consolas,'Courier New',monospace\"><span style=\"font-weight: bold\">&lt;</span><span style=\"color: #ff00ff; text-decoration-color: #ff00ff; font-weight: bold\">IPython.core.display.Javascript</span><span style=\"color: #000000; text-decoration-color: #000000\"> object</span><span style=\"font-weight: bold\">&gt;</span>\n",
       "</pre>\n"
      ],
      "text/plain": [
       "\u001b[1m<\u001b[0m\u001b[1;95mIPython.core.display.Javascript\u001b[0m\u001b[39m object\u001b[0m\u001b[1m>\u001b[0m\n"
      ]
     },
     "metadata": {},
     "output_type": "display_data"
    },
    {
     "data": {
      "application/javascript": [
       "\n",
       "            setTimeout(function() {\n",
       "                var nbb_cell_id = 25;\n",
       "                var nbb_unformatted_code = \"count_process_type_cont_clean = (\\n    secop_int.groupBy(\\\"tipo_de_contrato\\\").count().toPandas()\\n)\\ncount_process_type_cont_clean[\\\"prop\\\"] = (\\n    count_process_type_cont_clean[\\\"count\\\"] / count_process_type_cont_clean[\\\"count\\\"].sum()\\n)\\ncount_process_type_cont_clean.sort_values(\\\"prop\\\", ascending=False)\";\n",
       "                var nbb_formatted_code = \"count_process_type_cont_clean = secop_int.groupBy(\\\"tipo_de_contrato\\\").count().toPandas()\\ncount_process_type_cont_clean[\\\"prop\\\"] = (\\n    count_process_type_cont_clean[\\\"count\\\"]\\n    / count_process_type_cont_clean[\\\"count\\\"].sum()\\n)\\ncount_process_type_cont_clean.sort_values(\\\"prop\\\", ascending=False)\";\n",
       "                var nbb_cells = Jupyter.notebook.get_cells();\n",
       "                for (var i = 0; i < nbb_cells.length; ++i) {\n",
       "                    if (nbb_cells[i].input_prompt_number == nbb_cell_id) {\n",
       "                        if (nbb_cells[i].get_text() == nbb_unformatted_code) {\n",
       "                             nbb_cells[i].set_text(nbb_formatted_code);\n",
       "                        }\n",
       "                        break;\n",
       "                    }\n",
       "                }\n",
       "            }, 500);\n",
       "            "
      ]
     },
     "metadata": {},
     "output_type": "display_data"
    }
   ],
   "source": [
    "count_process_type_cont_clean = secop_int.groupBy(\"tipo_de_contrato\").count().toPandas()\n",
    "count_process_type_cont_clean[\"prop\"] = (\n",
    "    count_process_type_cont_clean[\"count\"]\n",
    "    / count_process_type_cont_clean[\"count\"].sum()\n",
    ")\n",
    "count_process_type_cont_clean.sort_values(\"prop\", ascending=False)"
   ]
  },
  {
   "cell_type": "code",
   "execution_count": 37,
   "id": "2514fcab",
   "metadata": {},
   "outputs": [
    {
     "data": {
      "text/html": [
       "<pre style=\"white-space:pre;overflow-x:auto;line-height:normal;font-family:Menlo,'DejaVu Sans Mono',consolas,'Courier New',monospace\"><span style=\"font-weight: bold\">&lt;</span><span style=\"color: #ff00ff; text-decoration-color: #ff00ff; font-weight: bold\">IPython.core.display.Javascript</span><span style=\"color: #000000; text-decoration-color: #000000\"> object</span><span style=\"font-weight: bold\">&gt;</span>\n",
       "</pre>\n"
      ],
      "text/plain": [
       "\u001b[1m<\u001b[0m\u001b[1;95mIPython.core.display.Javascript\u001b[0m\u001b[39m object\u001b[0m\u001b[1m>\u001b[0m\n"
      ]
     },
     "metadata": {},
     "output_type": "display_data"
    },
    {
     "data": {
      "application/javascript": [
       "\n",
       "            setTimeout(function() {\n",
       "                var nbb_cell_id = 37;\n",
       "                var nbb_unformatted_code = \"secop_int = secop_int.withColumn(\\\"valor_contrato\\\",col('valor_contrato').cast('integer'))\";\n",
       "                var nbb_formatted_code = \"secop_int = secop_int.withColumn(\\n    \\\"valor_contrato\\\", col(\\\"valor_contrato\\\").cast(\\\"integer\\\")\\n)\";\n",
       "                var nbb_cells = Jupyter.notebook.get_cells();\n",
       "                for (var i = 0; i < nbb_cells.length; ++i) {\n",
       "                    if (nbb_cells[i].input_prompt_number == nbb_cell_id) {\n",
       "                        if (nbb_cells[i].get_text() == nbb_unformatted_code) {\n",
       "                             nbb_cells[i].set_text(nbb_formatted_code);\n",
       "                        }\n",
       "                        break;\n",
       "                    }\n",
       "                }\n",
       "            }, 500);\n",
       "            "
      ]
     },
     "metadata": {},
     "output_type": "display_data"
    }
   ],
   "source": [
    "secop_int = secop_int.withColumn(\n",
    "    \"valor_contrato\", col(\"valor_contrato\").cast(\"integer\")\n",
    ")"
   ]
  },
  {
   "cell_type": "code",
   "execution_count": 39,
   "id": "8b95cb29",
   "metadata": {},
   "outputs": [
    {
     "data": {
      "text/html": [
       "<pre style=\"white-space:pre;overflow-x:auto;line-height:normal;font-family:Menlo,'DejaVu Sans Mono',consolas,'Courier New',monospace\"><span style=\"font-weight: bold\">&lt;</span><span style=\"color: #ff00ff; text-decoration-color: #ff00ff; font-weight: bold\">IPython.core.display.Javascript</span><span style=\"color: #000000; text-decoration-color: #000000\"> object</span><span style=\"font-weight: bold\">&gt;</span>\n",
       "</pre>\n"
      ],
      "text/plain": [
       "\u001b[1m<\u001b[0m\u001b[1;95mIPython.core.display.Javascript\u001b[0m\u001b[39m object\u001b[0m\u001b[1m>\u001b[0m\n"
      ]
     },
     "metadata": {},
     "output_type": "display_data"
    },
    {
     "data": {
      "application/javascript": [
       "\n",
       "            setTimeout(function() {\n",
       "                var nbb_cell_id = 39;\n",
       "                var nbb_unformatted_code = \"secop_int = secop_int.withColumn(\\n    \\\"nit_de_la_entidad\\\", udf(lambda x: int(x.split(\\\"-\\\")))(col(\\\"nit_de_la_entidad\\\"))\\n)\";\n",
       "                var nbb_formatted_code = \"secop_int = secop_int.withColumn(\\n    \\\"nit_de_la_entidad\\\", udf(lambda x: int(x.split(\\\"-\\\")))(col(\\\"nit_de_la_entidad\\\"))\\n)\";\n",
       "                var nbb_cells = Jupyter.notebook.get_cells();\n",
       "                for (var i = 0; i < nbb_cells.length; ++i) {\n",
       "                    if (nbb_cells[i].input_prompt_number == nbb_cell_id) {\n",
       "                        if (nbb_cells[i].get_text() == nbb_unformatted_code) {\n",
       "                             nbb_cells[i].set_text(nbb_formatted_code);\n",
       "                        }\n",
       "                        break;\n",
       "                    }\n",
       "                }\n",
       "            }, 500);\n",
       "            "
      ]
     },
     "metadata": {},
     "output_type": "display_data"
    }
   ],
   "source": [
    "secop_int = secop_int.withColumn(\n",
    "    \"nit_de_la_entidad\", udf(lambda x: int(x.split(\"-\")))(col(\"nit_de_la_entidad\"))\n",
    ")"
   ]
  },
  {
   "cell_type": "code",
   "execution_count": 40,
   "id": "196d69cc",
   "metadata": {},
   "outputs": [
    {
     "data": {
      "text/html": [
       "<pre style=\"white-space:pre;overflow-x:auto;line-height:normal;font-family:Menlo,'DejaVu Sans Mono',consolas,'Courier New',monospace\">\n",
       "<span style=\"font-weight: bold\">[</span>\n",
       "    <span style=\"color: #008000; text-decoration-color: #008000\">'nivel_entidad'</span>,\n",
       "    <span style=\"color: #008000; text-decoration-color: #008000\">'nombre_de_la_entidad'</span>,\n",
       "    <span style=\"color: #008000; text-decoration-color: #008000\">'estado_del_proceso'</span>,\n",
       "    <span style=\"color: #008000; text-decoration-color: #008000\">'modalidad_de_contrataci_n'</span>,\n",
       "    <span style=\"color: #008000; text-decoration-color: #008000\">'objeto_a_contratar'</span>,\n",
       "    <span style=\"color: #008000; text-decoration-color: #008000\">'tipo_de_contrato'</span>,\n",
       "    <span style=\"color: #008000; text-decoration-color: #008000\">'valor_contrato'</span>,\n",
       "    <span style=\"color: #008000; text-decoration-color: #008000\">'nom_raz_social_contratista'</span>,\n",
       "    <span style=\"color: #008000; text-decoration-color: #008000\">'departamento_entidad'</span>,\n",
       "    <span style=\"color: #008000; text-decoration-color: #008000\">'municipio_entidad'</span>,\n",
       "    <span style=\"color: #008000; text-decoration-color: #008000\">'objeto_del_proceso'</span>,\n",
       "    <span style=\"color: #008000; text-decoration-color: #008000\">'nit_de_la_entidad'</span>\n",
       "<span style=\"font-weight: bold\">]</span>\n",
       "</pre>\n"
      ],
      "text/plain": [
       "\n",
       "\u001b[1m[\u001b[0m\n",
       "    \u001b[32m'nivel_entidad'\u001b[0m,\n",
       "    \u001b[32m'nombre_de_la_entidad'\u001b[0m,\n",
       "    \u001b[32m'estado_del_proceso'\u001b[0m,\n",
       "    \u001b[32m'modalidad_de_contrataci_n'\u001b[0m,\n",
       "    \u001b[32m'objeto_a_contratar'\u001b[0m,\n",
       "    \u001b[32m'tipo_de_contrato'\u001b[0m,\n",
       "    \u001b[32m'valor_contrato'\u001b[0m,\n",
       "    \u001b[32m'nom_raz_social_contratista'\u001b[0m,\n",
       "    \u001b[32m'departamento_entidad'\u001b[0m,\n",
       "    \u001b[32m'municipio_entidad'\u001b[0m,\n",
       "    \u001b[32m'objeto_del_proceso'\u001b[0m,\n",
       "    \u001b[32m'nit_de_la_entidad'\u001b[0m\n",
       "\u001b[1m]\u001b[0m\n"
      ]
     },
     "metadata": {},
     "output_type": "display_data"
    },
    {
     "data": {
      "text/html": [
       "<pre style=\"white-space:pre;overflow-x:auto;line-height:normal;font-family:Menlo,'DejaVu Sans Mono',consolas,'Courier New',monospace\"><span style=\"font-weight: bold\">&lt;</span><span style=\"color: #ff00ff; text-decoration-color: #ff00ff; font-weight: bold\">IPython.core.display.Javascript</span><span style=\"color: #000000; text-decoration-color: #000000\"> object</span><span style=\"font-weight: bold\">&gt;</span>\n",
       "</pre>\n"
      ],
      "text/plain": [
       "\u001b[1m<\u001b[0m\u001b[1;95mIPython.core.display.Javascript\u001b[0m\u001b[39m object\u001b[0m\u001b[1m>\u001b[0m\n"
      ]
     },
     "metadata": {},
     "output_type": "display_data"
    },
    {
     "data": {
      "application/javascript": [
       "\n",
       "            setTimeout(function() {\n",
       "                var nbb_cell_id = 40;\n",
       "                var nbb_unformatted_code = \"secop_int.columns\";\n",
       "                var nbb_formatted_code = \"secop_int.columns\";\n",
       "                var nbb_cells = Jupyter.notebook.get_cells();\n",
       "                for (var i = 0; i < nbb_cells.length; ++i) {\n",
       "                    if (nbb_cells[i].input_prompt_number == nbb_cell_id) {\n",
       "                        if (nbb_cells[i].get_text() == nbb_unformatted_code) {\n",
       "                             nbb_cells[i].set_text(nbb_formatted_code);\n",
       "                        }\n",
       "                        break;\n",
       "                    }\n",
       "                }\n",
       "            }, 500);\n",
       "            "
      ]
     },
     "metadata": {},
     "output_type": "display_data"
    }
   ],
   "source": [
    "secop_int.columns"
   ]
  },
  {
   "cell_type": "code",
   "execution_count": 42,
   "id": "1dcc5cd8",
   "metadata": {},
   "outputs": [
    {
     "data": {
      "text/html": [
       "<pre style=\"white-space:pre;overflow-x:auto;line-height:normal;font-family:Menlo,'DejaVu Sans Mono',consolas,'Courier New',monospace\"><span style=\"font-weight: bold\">&lt;</span><span style=\"color: #ff00ff; text-decoration-color: #ff00ff; font-weight: bold\">IPython.core.display.Javascript</span><span style=\"color: #000000; text-decoration-color: #000000\"> object</span><span style=\"font-weight: bold\">&gt;</span>\n",
       "</pre>\n"
      ],
      "text/plain": [
       "\u001b[1m<\u001b[0m\u001b[1;95mIPython.core.display.Javascript\u001b[0m\u001b[39m object\u001b[0m\u001b[1m>\u001b[0m\n"
      ]
     },
     "metadata": {},
     "output_type": "display_data"
    },
    {
     "data": {
      "application/javascript": [
       "\n",
       "            setTimeout(function() {\n",
       "                var nbb_cell_id = 42;\n",
       "                var nbb_unformatted_code = \"for c in ['nom_raz_social_contratista',\\n    'departamento_entidad','municipio_entidad','objeto_a_contratar','objeto_del_proceso']:\\n    secop_int = secop_int.withColumn(c, F.lower(col(c)))\\n    if c in ['nom_raz_social_contratista',\\n    'departamento_entidad','municipio_entidad',]:\\n        secop_int = secop_int.withColumn(c, udf(_remove_tildes)(col(c)))\";\n",
       "                var nbb_formatted_code = \"for c in [\\n    \\\"nom_raz_social_contratista\\\",\\n    \\\"departamento_entidad\\\",\\n    \\\"municipio_entidad\\\",\\n    \\\"objeto_a_contratar\\\",\\n    \\\"objeto_del_proceso\\\",\\n]:\\n    secop_int = secop_int.withColumn(c, F.lower(col(c)))\\n    if c in [\\n        \\\"nom_raz_social_contratista\\\",\\n        \\\"departamento_entidad\\\",\\n        \\\"municipio_entidad\\\",\\n    ]:\\n        secop_int = secop_int.withColumn(c, udf(_remove_tildes)(col(c)))\";\n",
       "                var nbb_cells = Jupyter.notebook.get_cells();\n",
       "                for (var i = 0; i < nbb_cells.length; ++i) {\n",
       "                    if (nbb_cells[i].input_prompt_number == nbb_cell_id) {\n",
       "                        if (nbb_cells[i].get_text() == nbb_unformatted_code) {\n",
       "                             nbb_cells[i].set_text(nbb_formatted_code);\n",
       "                        }\n",
       "                        break;\n",
       "                    }\n",
       "                }\n",
       "            }, 500);\n",
       "            "
      ]
     },
     "metadata": {},
     "output_type": "display_data"
    }
   ],
   "source": [
    "for c in [\n",
    "    \"nom_raz_social_contratista\",\n",
    "    \"departamento_entidad\",\n",
    "    \"municipio_entidad\",\n",
    "    \"objeto_a_contratar\",\n",
    "    \"objeto_del_proceso\",\n",
    "]:\n",
    "    secop_int = secop_int.withColumn(c, F.lower(col(c)))\n",
    "    if c in [\n",
    "        \"nom_raz_social_contratista\",\n",
    "        \"departamento_entidad\",\n",
    "        \"municipio_entidad\",\n",
    "    ]:\n",
    "        secop_int = secop_int.withColumn(c, udf(_remove_tildes)(col(c)))"
   ]
  },
  {
   "cell_type": "code",
   "execution_count": null,
   "id": "5dfd74ab",
   "metadata": {},
   "outputs": [],
   "source": []
  },
  {
   "cell_type": "code",
   "execution_count": 7,
   "id": "6be89ac6",
   "metadata": {},
   "outputs": [
    {
     "data": {
      "text/html": [
       "<pre style=\"white-space:pre;overflow-x:auto;line-height:normal;font-family:Menlo,'DejaVu Sans Mono',consolas,'Courier New',monospace\"><span style=\"color: #7fbfbf; text-decoration-color: #7fbfbf\">[08/11/22 16:33:27] </span><span style=\"color: #000080; text-decoration-color: #000080\">INFO    </span> Loading data from <span style=\"color: #008000; text-decoration-color: #008000\">'secop_int_log_in'</span> <span style=\"font-weight: bold\">(</span>JSONDataSet<span style=\"font-weight: bold\">)</span><span style=\"color: #808000; text-decoration-color: #808000\">...</span>              <a href=\"file:///opt/homebrew/Caskroom/miniforge/base/envs/dm_project/lib/python3.10/site-packages/kedro/io/data_catalog.py\" target=\"_blank\"><span style=\"color: #7f7f7f; text-decoration-color: #7f7f7f\">data_catalog.py</span></a><span style=\"color: #7f7f7f; text-decoration-color: #7f7f7f\">:</span><a href=\"file:///opt/homebrew/Caskroom/miniforge/base/envs/dm_project/lib/python3.10/site-packages/kedro/io/data_catalog.py#343\" target=\"_blank\"><span style=\"color: #7f7f7f; text-decoration-color: #7f7f7f\">343</span></a>\n",
       "</pre>\n"
      ],
      "text/plain": [
       "\u001b[2;36m[08/11/22 16:33:27]\u001b[0m\u001b[2;36m \u001b[0m\u001b[34mINFO    \u001b[0m Loading data from \u001b[32m'secop_int_log_in'\u001b[0m \u001b[1m(\u001b[0mJSONDataSet\u001b[1m)\u001b[0m\u001b[33m...\u001b[0m              \u001b]8;id=652094;file:///opt/homebrew/Caskroom/miniforge/base/envs/dm_project/lib/python3.10/site-packages/kedro/io/data_catalog.py\u001b\\\u001b[2mdata_catalog.py\u001b[0m\u001b]8;;\u001b\\\u001b[2m:\u001b[0m\u001b]8;id=934030;file:///opt/homebrew/Caskroom/miniforge/base/envs/dm_project/lib/python3.10/site-packages/kedro/io/data_catalog.py#343\u001b\\\u001b[2m343\u001b[0m\u001b]8;;\u001b\\\n"
      ]
     },
     "metadata": {},
     "output_type": "display_data"
    }
   ],
   "source": [
    "secop_int_log_in = catalog.load('secop_int_log_in')"
   ]
  },
  {
   "cell_type": "code",
   "execution_count": 8,
   "id": "4063e4eb",
   "metadata": {},
   "outputs": [],
   "source": [
    "t = 0\n",
    "p = 0\n",
    "for k in secop_int_log_in.keys():\n",
    "    if secop_int_log_in[k]['success'] == 1:\n",
    "        p+=1\n",
    "    t+=1"
   ]
  },
  {
   "cell_type": "code",
   "execution_count": 9,
   "id": "f97eaec2",
   "metadata": {},
   "outputs": [
    {
     "data": {
      "text/html": [
       "<pre style=\"white-space:pre;overflow-x:auto;line-height:normal;font-family:Menlo,'DejaVu Sans Mono',consolas,'Courier New',monospace\"><span style=\"color: #008080; text-decoration-color: #008080; font-weight: bold\">0.6402172858667184</span>\n",
       "</pre>\n"
      ],
      "text/plain": [
       "\u001b[1;36m0.6402172858667184\u001b[0m\n"
      ]
     },
     "metadata": {},
     "output_type": "display_data"
    }
   ],
   "source": [
    "p/t"
   ]
  },
  {
   "cell_type": "code",
   "execution_count": 10,
   "id": "3adc3105",
   "metadata": {},
   "outputs": [
    {
     "data": {
      "text/html": [
       "<pre style=\"white-space:pre;overflow-x:auto;line-height:normal;font-family:Menlo,'DejaVu Sans Mono',consolas,'Courier New',monospace\"><span style=\"color: #008080; text-decoration-color: #008080; font-weight: bold\">10309</span>\n",
       "</pre>\n"
      ],
      "text/plain": [
       "\u001b[1;36m10309\u001b[0m\n"
      ]
     },
     "metadata": {},
     "output_type": "display_data"
    }
   ],
   "source": [
    "t"
   ]
  },
  {
   "cell_type": "code",
   "execution_count": 11,
   "id": "7413a043",
   "metadata": {},
   "outputs": [],
   "source": [
    "import pandas as pd\n",
    "from sodapy import Socrata\n",
    "from typing import Dict\n",
    "import datetime\n",
    "from pyspark.sql import DataFrame as SparkDataFrame\n",
    "from pyspark.sql import SparkSession\n",
    "from pyspark.sql import SQLContext\n",
    "from secop.pipelines.data_engineering.utilities import (\n",
    "    COLS_SEC_2,\n",
    "    schema_secop_int,\n",
    "    _get_nits_to_extract,\n",
    "    _remove_tildes,\n",
    "    _clean_modalidad_contratacion,\n",
    "    _clean_tipo_contrato,\n",
    ")\n",
    "from pyspark.sql.types import StructType\n",
    "from pyspark.sql import SparkSession\n",
    "from pyspark.sql import SQLContext\n",
    "import pyspark.sql.functions as F\n",
    "from pyspark.sql.functions import col, udf"
   ]
  },
  {
   "cell_type": "code",
   "execution_count": null,
   "id": "8c2be716",
   "metadata": {},
   "outputs": [],
   "source": []
  },
  {
   "cell_type": "code",
   "execution_count": 12,
   "id": "6b30e00c",
   "metadata": {},
   "outputs": [
    {
     "data": {
      "text/html": [
       "<pre style=\"white-space:pre;overflow-x:auto;line-height:normal;font-family:Menlo,'DejaVu Sans Mono',consolas,'Courier New',monospace\"><span style=\"color: #7fbfbf; text-decoration-color: #7fbfbf\">[08/11/22 16:38:53] </span><span style=\"color: #000080; text-decoration-color: #000080\">INFO    </span> Loading data from <span style=\"color: #008000; text-decoration-color: #008000\">'secop_int'</span> <span style=\"font-weight: bold\">(</span>SparkDataSetSECOP<span style=\"font-weight: bold\">)</span><span style=\"color: #808000; text-decoration-color: #808000\">...</span>               <a href=\"file:///opt/homebrew/Caskroom/miniforge/base/envs/dm_project/lib/python3.10/site-packages/kedro/io/data_catalog.py\" target=\"_blank\"><span style=\"color: #7f7f7f; text-decoration-color: #7f7f7f\">data_catalog.py</span></a><span style=\"color: #7f7f7f; text-decoration-color: #7f7f7f\">:</span><a href=\"file:///opt/homebrew/Caskroom/miniforge/base/envs/dm_project/lib/python3.10/site-packages/kedro/io/data_catalog.py#343\" target=\"_blank\"><span style=\"color: #7f7f7f; text-decoration-color: #7f7f7f\">343</span></a>\n",
       "</pre>\n"
      ],
      "text/plain": [
       "\u001b[2;36m[08/11/22 16:38:53]\u001b[0m\u001b[2;36m \u001b[0m\u001b[34mINFO    \u001b[0m Loading data from \u001b[32m'secop_int'\u001b[0m \u001b[1m(\u001b[0mSparkDataSetSECOP\u001b[1m)\u001b[0m\u001b[33m...\u001b[0m               \u001b]8;id=8912;file:///opt/homebrew/Caskroom/miniforge/base/envs/dm_project/lib/python3.10/site-packages/kedro/io/data_catalog.py\u001b\\\u001b[2mdata_catalog.py\u001b[0m\u001b]8;;\u001b\\\u001b[2m:\u001b[0m\u001b]8;id=440639;file:///opt/homebrew/Caskroom/miniforge/base/envs/dm_project/lib/python3.10/site-packages/kedro/io/data_catalog.py#343\u001b\\\u001b[2m343\u001b[0m\u001b]8;;\u001b\\\n"
      ]
     },
     "metadata": {},
     "output_type": "display_data"
    },
    {
     "name": "stderr",
     "output_type": "stream",
     "text": [
      "                                                                                \r"
     ]
    }
   ],
   "source": [
    "secop_int = catalog.load('secop_int')"
   ]
  },
  {
   "cell_type": "code",
   "execution_count": 13,
   "id": "5179a3ec",
   "metadata": {},
   "outputs": [
    {
     "data": {
      "text/html": [
       "<pre style=\"white-space:pre;overflow-x:auto;line-height:normal;font-family:Menlo,'DejaVu Sans Mono',consolas,'Courier New',monospace\">\n",
       "<span style=\"font-weight: bold\">[</span>\n",
       "    <span style=\"color: #008000; text-decoration-color: #008000\">'nivel_entidad'</span>,\n",
       "    <span style=\"color: #008000; text-decoration-color: #008000\">'nombre_de_la_entidad'</span>,\n",
       "    <span style=\"color: #008000; text-decoration-color: #008000\">'estado_del_proceso'</span>,\n",
       "    <span style=\"color: #008000; text-decoration-color: #008000\">'modalidad_de_contrataci_n'</span>,\n",
       "    <span style=\"color: #008000; text-decoration-color: #008000\">'objeto_a_contratar'</span>,\n",
       "    <span style=\"color: #008000; text-decoration-color: #008000\">'tipo_de_contrato'</span>,\n",
       "    <span style=\"color: #008000; text-decoration-color: #008000\">'valor_contrato'</span>,\n",
       "    <span style=\"color: #008000; text-decoration-color: #008000\">'nom_raz_social_contratista'</span>,\n",
       "    <span style=\"color: #008000; text-decoration-color: #008000\">'departamento_entidad'</span>,\n",
       "    <span style=\"color: #008000; text-decoration-color: #008000\">'municipio_entidad'</span>,\n",
       "    <span style=\"color: #008000; text-decoration-color: #008000\">'objeto_del_proceso'</span>,\n",
       "    <span style=\"color: #008000; text-decoration-color: #008000\">'fecha_de_firma_del_contrato'</span>,\n",
       "    <span style=\"color: #008000; text-decoration-color: #008000\">'fecha_inicio_ejecucion'</span>,\n",
       "    <span style=\"color: #008000; text-decoration-color: #008000\">'fecha_fin_ejecucion'</span>,\n",
       "    <span style=\"color: #008000; text-decoration-color: #008000\">'nit_de_la_entidad'</span>\n",
       "<span style=\"font-weight: bold\">]</span>\n",
       "</pre>\n"
      ],
      "text/plain": [
       "\n",
       "\u001b[1m[\u001b[0m\n",
       "    \u001b[32m'nivel_entidad'\u001b[0m,\n",
       "    \u001b[32m'nombre_de_la_entidad'\u001b[0m,\n",
       "    \u001b[32m'estado_del_proceso'\u001b[0m,\n",
       "    \u001b[32m'modalidad_de_contrataci_n'\u001b[0m,\n",
       "    \u001b[32m'objeto_a_contratar'\u001b[0m,\n",
       "    \u001b[32m'tipo_de_contrato'\u001b[0m,\n",
       "    \u001b[32m'valor_contrato'\u001b[0m,\n",
       "    \u001b[32m'nom_raz_social_contratista'\u001b[0m,\n",
       "    \u001b[32m'departamento_entidad'\u001b[0m,\n",
       "    \u001b[32m'municipio_entidad'\u001b[0m,\n",
       "    \u001b[32m'objeto_del_proceso'\u001b[0m,\n",
       "    \u001b[32m'fecha_de_firma_del_contrato'\u001b[0m,\n",
       "    \u001b[32m'fecha_inicio_ejecucion'\u001b[0m,\n",
       "    \u001b[32m'fecha_fin_ejecucion'\u001b[0m,\n",
       "    \u001b[32m'nit_de_la_entidad'\u001b[0m\n",
       "\u001b[1m]\u001b[0m\n"
      ]
     },
     "metadata": {},
     "output_type": "display_data"
    }
   ],
   "source": [
    "secop_int.columns"
   ]
  },
  {
   "cell_type": "code",
   "execution_count": null,
   "id": "0df05308",
   "metadata": {},
   "outputs": [],
   "source": [
    "secop_int.select()"
   ]
  },
  {
   "cell_type": "code",
   "execution_count": null,
   "id": "1983d54c",
   "metadata": {},
   "outputs": [],
   "source": [
    "# To lower case and remove spainsh accent\n",
    "for c in [\n",
    "    \"nom_raz_social_contratista\",\n",
    "    \"departamento_entidad\",\n",
    "    \"municipio_entidad\",\n",
    "    \"objeto_a_contratar\",\n",
    "    \"objeto_del_proceso\",\n",
    "    \"nivel_entidad\",\n",
    "    \"estado_del_proceso\",\n",
    "    \"modalidad_de_contrataci_n\",\n",
    "    \"tipo_de_contrato\",\n",
    "    \"nombre_de_la_entidad\"\n",
    "]:\n",
    "    secop_int = secop_int.withColumn(c, F.lower(col(c)))\n",
    "    if c in [\n",
    "        \"nom_raz_social_contratista\",\n",
    "        \"departamento_entidad\",\n",
    "        \"municipio_entidad\",\n",
    "        \"estado_del_proceso\",\n",
    "        \"modalidad_de_contrataci_n\",\n",
    "        \"tipo_de_contrato\",\n",
    "        \"nombre_de_la_entidad\"\n",
    "    ]:\n",
    "        secop_int = secop_int.withColumn(c, udf(_remove_tildes)(col(c)))\n",
    "secop_int = secop_int.withColumn(\n",
    "    \"modalidad_de_contratacion\",\n",
    "    udf(_clean_modalidad_contratacion)(col(\"modalidad_de_contrataci_n\")),\n",
    ")\n",
    "secop_int = secop_int.drop(\"modalidad_de_contrataci_n\")\n",
    "secop_int = secop_int.withColumn(\n",
    "    \"tipo_de_contrato\",\n",
    "    udf(_clean_tipo_contrato)(col(\"tipo_de_contrato\")),\n",
    ")\n",
    "secop_int = secop_int.withColumn(\n",
    "    \"valor_contrato\", col(\"valor_contrato\").cast(\"integer\")\n",
    ")\n",
    "secop_int = secop_int.withColumn(\n",
    "    \"nit_de_la_entidad\",\n",
    "    udf(lambda x: int(x.replace(\".\", \"\").split(\"-\")[0]))(col(\"nit_de_la_entidad\")),\n",
    ")"
   ]
  },
  {
   "cell_type": "code",
   "execution_count": null,
   "id": "d58db15e",
   "metadata": {},
   "outputs": [],
   "source": [
    "\n",
    "def clean_secop_int(secop_int: SparkDataFrame):\n",
    "    \"\"\"Clean secop integrated database\"\"\"\n",
    "    # To lower case and remove spainsh accent\n",
    "    for c in [\n",
    "        \"nom_raz_social_contratista\",\n",
    "        \"departamento_entidad\",\n",
    "        \"municipio_entidad\",\n",
    "        \"objeto_a_contratar\",\n",
    "        \"objeto_del_proceso\",\n",
    "        \"nivel_entidad\",\n",
    "        \"estado_del_proceso\",\n",
    "        \"modalidad_de_contrataci_n\",\n",
    "        \"tipo_de_contrato\",\n",
    "    ]:\n",
    "        secop_int = secop_int.withColumn(c, F.lower(col(c)))\n",
    "        if c in [\n",
    "            \"nom_raz_social_contratista\",\n",
    "            \"departamento_entidad\",\n",
    "            \"municipio_entidad\",\n",
    "            \"estado_del_proceso\",\n",
    "            \"modalidad_de_contrataci_n\",\n",
    "            \"tipo_de_contrato\",\n",
    "        ]:\n",
    "            secop_int = secop_int.withColumn(c, udf(_remove_tildes)(col(c)))\n",
    "    secop_int = secop_int.withColumn(\n",
    "        \"modalidad_de_contratacion\",\n",
    "        udf(_clean_modalidad_contratacion)(col(\"modalidad_de_contrataci_n\")),\n",
    "    )\n",
    "    secop_int = secop_int.drop(\"modalidad_de_contrataci_n\")\n",
    "    secop_int = secop_int.withColumn(\n",
    "        \"tipo_de_contrato\",\n",
    "        udf(_clean_tipo_contrato)(col(\"tipo_de_contrato\")),\n",
    "    )\n",
    "    secop_int = secop_int.withColumn(\n",
    "        \"valor_contrato\", col(\"valor_contrato\").cast(\"integer\")\n",
    "    )\n",
    "    secop_int = secop_int.withColumn(\n",
    "        \"nit_de_la_entidad\",\n",
    "        udf(lambda x: int(x.replace(\".\", \"\").split(\"-\")[0]))(col(\"nit_de_la_entidad\")),\n",
    "    )\n",
    "    return secop_int\n"
   ]
  },
  {
   "cell_type": "code",
   "execution_count": null,
   "id": "e06d36a3",
   "metadata": {},
   "outputs": [],
   "source": []
  },
  {
   "cell_type": "code",
   "execution_count": null,
   "id": "14f069fc",
   "metadata": {},
   "outputs": [],
   "source": []
  },
  {
   "cell_type": "code",
   "execution_count": null,
   "id": "3e7cb226",
   "metadata": {},
   "outputs": [],
   "source": []
  },
  {
   "cell_type": "code",
   "execution_count": null,
   "id": "1ff67196",
   "metadata": {},
   "outputs": [],
   "source": []
  },
  {
   "cell_type": "code",
   "execution_count": null,
   "id": "6185b881",
   "metadata": {},
   "outputs": [],
   "source": []
  },
  {
   "cell_type": "code",
   "execution_count": 19,
   "id": "4269cd5e",
   "metadata": {},
   "outputs": [],
   "source": [
    "secop_int_pd = pd.read_parquet('/Volumes/TOSHIBA EXT/Secop/data/01_raw/secop_int')"
   ]
  },
  {
   "cell_type": "markdown",
   "id": "4ae0c142",
   "metadata": {},
   "source": [
    "<a href=\"https://www.funcionpublica.gov.co/eva/gestornormativo/norma.php?i=304\">Ley 80</a>"
   ]
  }
 ],
 "metadata": {
  "kernelspec": {
   "display_name": "Kedro (secop)",
   "language": "python",
   "name": "kedro_secop"
  },
  "language_info": {
   "codemirror_mode": {
    "name": "ipython",
    "version": 3
   },
   "file_extension": ".py",
   "mimetype": "text/x-python",
   "name": "python",
   "nbconvert_exporter": "python",
   "pygments_lexer": "ipython3",
   "version": "3.10.5"
  }
 },
 "nbformat": 4,
 "nbformat_minor": 5
}
