{
 "cells": [
  {
   "cell_type": "code",
   "execution_count": 1,
   "id": "6664f06a",
   "metadata": {},
   "outputs": [],
   "source": [
    "import pandas as pd\n",
    "import numpy as np\n",
    "import json\n",
    "import matplotlib.pyplot as plt\n",
    "from sodapy import Socrata\n",
    "import datetime\n",
    "\n",
    "from pyspark.sql import SparkSession\n",
    "from pyspark.sql import SQLContext\n",
    "import pyspark.sql.functions as F\n",
    "from pyspark.sql.functions import col, when, lit, udf"
   ]
  },
  {
   "cell_type": "code",
   "execution_count": 2,
   "id": "8a1d9003",
   "metadata": {},
   "outputs": [
    {
     "data": {
      "text/html": [
       "<pre style=\"white-space:pre;overflow-x:auto;line-height:normal;font-family:Menlo,'DejaVu Sans Mono',consolas,'Courier New',monospace\"><span style=\"font-weight: bold\">&lt;</span><span style=\"color: #ff00ff; text-decoration-color: #ff00ff; font-weight: bold\">IPython.core.display.Javascript</span><span style=\"color: #000000; text-decoration-color: #000000\"> object</span><span style=\"font-weight: bold\">&gt;</span>\n",
       "</pre>\n"
      ],
      "text/plain": [
       "\u001b[1m<\u001b[0m\u001b[1;95mIPython.core.display.Javascript\u001b[0m\u001b[39m object\u001b[0m\u001b[1m>\u001b[0m\n"
      ]
     },
     "metadata": {},
     "output_type": "display_data"
    },
    {
     "data": {
      "application/javascript": [
       "\n",
       "            setTimeout(function() {\n",
       "                var nbb_cell_id = 2;\n",
       "                var nbb_unformatted_code = \"%load_ext nb_black\\n%matplotlib inline\";\n",
       "                var nbb_formatted_code = \"%load_ext nb_black\\n%matplotlib inline\";\n",
       "                var nbb_cells = Jupyter.notebook.get_cells();\n",
       "                for (var i = 0; i < nbb_cells.length; ++i) {\n",
       "                    if (nbb_cells[i].input_prompt_number == nbb_cell_id) {\n",
       "                        if (nbb_cells[i].get_text() == nbb_unformatted_code) {\n",
       "                             nbb_cells[i].set_text(nbb_formatted_code);\n",
       "                        }\n",
       "                        break;\n",
       "                    }\n",
       "                }\n",
       "            }, 500);\n",
       "            "
      ]
     },
     "metadata": {},
     "output_type": "display_data"
    }
   ],
   "source": [
    "%load_ext nb_black\n",
    "%matplotlib inline"
   ]
  },
  {
   "cell_type": "code",
   "execution_count": 3,
   "id": "d604f539",
   "metadata": {},
   "outputs": [
    {
     "data": {
      "text/html": [
       "<pre style=\"white-space:pre;overflow-x:auto;line-height:normal;font-family:Menlo,'DejaVu Sans Mono',consolas,'Courier New',monospace\"><span style=\"font-weight: bold\">&lt;</span><span style=\"color: #ff00ff; text-decoration-color: #ff00ff; font-weight: bold\">IPython.core.display.Javascript</span><span style=\"color: #000000; text-decoration-color: #000000\"> object</span><span style=\"font-weight: bold\">&gt;</span>\n",
       "</pre>\n"
      ],
      "text/plain": [
       "\u001b[1m<\u001b[0m\u001b[1;95mIPython.core.display.Javascript\u001b[0m\u001b[39m object\u001b[0m\u001b[1m>\u001b[0m\n"
      ]
     },
     "metadata": {},
     "output_type": "display_data"
    },
    {
     "data": {
      "application/javascript": [
       "\n",
       "            setTimeout(function() {\n",
       "                var nbb_cell_id = 3;\n",
       "                var nbb_unformatted_code = \"def remove_tildes(string: str):\\n    \\\"\\\"\\\"Remove spanish accentuation mark for string standarization\\\"\\\"\\\"\\n    return (\\n        string.replace(\\\"\\u00e1\\\", \\\"a\\\")\\n        .replace(\\\"\\u00e9\\\", \\\"e\\\")\\n        .replace(\\\"\\u00f3\\\", \\\"o\\\")\\n        .replace(\\\"\\u00ed\\\", \\\"i\\\")\\n        .replace(\\\"\\u00fa\\\", \\\"u\\\")\\n    )\";\n",
       "                var nbb_formatted_code = \"def remove_tildes(string: str):\\n    \\\"\\\"\\\"Remove spanish accentuation mark for string standarization\\\"\\\"\\\"\\n    return (\\n        string.replace(\\\"\\u00e1\\\", \\\"a\\\")\\n        .replace(\\\"\\u00e9\\\", \\\"e\\\")\\n        .replace(\\\"\\u00f3\\\", \\\"o\\\")\\n        .replace(\\\"\\u00ed\\\", \\\"i\\\")\\n        .replace(\\\"\\u00fa\\\", \\\"u\\\")\\n    )\";\n",
       "                var nbb_cells = Jupyter.notebook.get_cells();\n",
       "                for (var i = 0; i < nbb_cells.length; ++i) {\n",
       "                    if (nbb_cells[i].input_prompt_number == nbb_cell_id) {\n",
       "                        if (nbb_cells[i].get_text() == nbb_unformatted_code) {\n",
       "                             nbb_cells[i].set_text(nbb_formatted_code);\n",
       "                        }\n",
       "                        break;\n",
       "                    }\n",
       "                }\n",
       "            }, 500);\n",
       "            "
      ]
     },
     "metadata": {},
     "output_type": "display_data"
    }
   ],
   "source": [
    "def remove_tildes(string: str):\n",
    "    \"\"\"Remove spanish accentuation mark for string standarization\"\"\"\n",
    "    return (\n",
    "        string.replace(\"á\", \"a\")\n",
    "        .replace(\"é\", \"e\")\n",
    "        .replace(\"ó\", \"o\")\n",
    "        .replace(\"í\", \"i\")\n",
    "        .replace(\"ú\", \"u\")\n",
    "    )"
   ]
  },
  {
   "cell_type": "code",
   "execution_count": 4,
   "id": "5f2d604a",
   "metadata": {
    "scrolled": true
   },
   "outputs": [
    {
     "data": {
      "text/html": [
       "<pre style=\"white-space:pre;overflow-x:auto;line-height:normal;font-family:Menlo,'DejaVu Sans Mono',consolas,'Courier New',monospace\"><span style=\"color: #7fbfbf; text-decoration-color: #7fbfbf\">                    </span><span style=\"color: #000080; text-decoration-color: #000080\">INFO    </span> Loading data from <span style=\"color: #008000; text-decoration-color: #008000\">'secop_int'</span> <span style=\"font-weight: bold\">(</span>SparkDataSetSECOP<span style=\"font-weight: bold\">)</span><span style=\"color: #808000; text-decoration-color: #808000\">...</span>               <a href=\"file:///opt/homebrew/Caskroom/miniforge/base/envs/dm_project/lib/python3.10/site-packages/kedro/io/data_catalog.py\" target=\"_blank\"><span style=\"color: #7f7f7f; text-decoration-color: #7f7f7f\">data_catalog.py</span></a><span style=\"color: #7f7f7f; text-decoration-color: #7f7f7f\">:</span><a href=\"file:///opt/homebrew/Caskroom/miniforge/base/envs/dm_project/lib/python3.10/site-packages/kedro/io/data_catalog.py#343\" target=\"_blank\"><span style=\"color: #7f7f7f; text-decoration-color: #7f7f7f\">343</span></a>\n",
       "</pre>\n"
      ],
      "text/plain": [
       "\u001b[2;36m                   \u001b[0m\u001b[2;36m \u001b[0m\u001b[34mINFO    \u001b[0m Loading data from \u001b[32m'secop_int'\u001b[0m \u001b[1m(\u001b[0mSparkDataSetSECOP\u001b[1m)\u001b[0m\u001b[33m...\u001b[0m               \u001b]8;id=591566;file:///opt/homebrew/Caskroom/miniforge/base/envs/dm_project/lib/python3.10/site-packages/kedro/io/data_catalog.py\u001b\\\u001b[2mdata_catalog.py\u001b[0m\u001b]8;;\u001b\\\u001b[2m:\u001b[0m\u001b]8;id=118001;file:///opt/homebrew/Caskroom/miniforge/base/envs/dm_project/lib/python3.10/site-packages/kedro/io/data_catalog.py#343\u001b\\\u001b[2m343\u001b[0m\u001b]8;;\u001b\\\n"
      ]
     },
     "metadata": {},
     "output_type": "display_data"
    },
    {
     "name": "stderr",
     "output_type": "stream",
     "text": [
      "                                                                                \r"
     ]
    },
    {
     "data": {
      "text/html": [
       "<pre style=\"white-space:pre;overflow-x:auto;line-height:normal;font-family:Menlo,'DejaVu Sans Mono',consolas,'Courier New',monospace\"><span style=\"font-weight: bold\">&lt;</span><span style=\"color: #ff00ff; text-decoration-color: #ff00ff; font-weight: bold\">IPython.core.display.Javascript</span><span style=\"color: #000000; text-decoration-color: #000000\"> object</span><span style=\"font-weight: bold\">&gt;</span>\n",
       "</pre>\n"
      ],
      "text/plain": [
       "\u001b[1m<\u001b[0m\u001b[1;95mIPython.core.display.Javascript\u001b[0m\u001b[39m object\u001b[0m\u001b[1m>\u001b[0m\n"
      ]
     },
     "metadata": {},
     "output_type": "display_data"
    },
    {
     "data": {
      "application/javascript": [
       "\n",
       "            setTimeout(function() {\n",
       "                var nbb_cell_id = 4;\n",
       "                var nbb_unformatted_code = \"secop_int = catalog.load(\\\"secop_int\\\")\";\n",
       "                var nbb_formatted_code = \"secop_int = catalog.load(\\\"secop_int\\\")\";\n",
       "                var nbb_cells = Jupyter.notebook.get_cells();\n",
       "                for (var i = 0; i < nbb_cells.length; ++i) {\n",
       "                    if (nbb_cells[i].input_prompt_number == nbb_cell_id) {\n",
       "                        if (nbb_cells[i].get_text() == nbb_unformatted_code) {\n",
       "                             nbb_cells[i].set_text(nbb_formatted_code);\n",
       "                        }\n",
       "                        break;\n",
       "                    }\n",
       "                }\n",
       "            }, 500);\n",
       "            "
      ]
     },
     "metadata": {},
     "output_type": "display_data"
    }
   ],
   "source": [
    "secop_int = catalog.load(\"secop_int\")"
   ]
  },
  {
   "cell_type": "code",
   "execution_count": 5,
   "id": "bf9ac6d5",
   "metadata": {},
   "outputs": [
    {
     "data": {
      "text/html": [
       "<pre style=\"white-space:pre;overflow-x:auto;line-height:normal;font-family:Menlo,'DejaVu Sans Mono',consolas,'Courier New',monospace\">DataFrame<span style=\"font-weight: bold\">[</span>nivel_entidad: string, nombre_de_la_entidad: string, estado_del_proceso: string, modalidad_de_contrataci_n: string, objeto_a_contratar: string, tipo_de_contrato: string, numero_del_contrato: string, numero_de_proceso: string, valor_contrato: string, nom_raz_social_contratista: string, departamento_entidad: string, municipio_entidad: string, objeto_del_proceso: string, tipo_contrato: string, origen: string, nit_de_la_entidad: string<span style=\"font-weight: bold\">]</span>\n",
       "</pre>\n"
      ],
      "text/plain": [
       "DataFrame\u001b[1m[\u001b[0mnivel_entidad: string, nombre_de_la_entidad: string, estado_del_proceso: string, modalidad_de_contrataci_n: string, objeto_a_contratar: string, tipo_de_contrato: string, numero_del_contrato: string, numero_de_proceso: string, valor_contrato: string, nom_raz_social_contratista: string, departamento_entidad: string, municipio_entidad: string, objeto_del_proceso: string, tipo_contrato: string, origen: string, nit_de_la_entidad: string\u001b[1m]\u001b[0m\n"
      ]
     },
     "metadata": {},
     "output_type": "display_data"
    },
    {
     "data": {
      "text/html": [
       "<pre style=\"white-space:pre;overflow-x:auto;line-height:normal;font-family:Menlo,'DejaVu Sans Mono',consolas,'Courier New',monospace\"><span style=\"font-weight: bold\">&lt;</span><span style=\"color: #ff00ff; text-decoration-color: #ff00ff; font-weight: bold\">IPython.core.display.Javascript</span><span style=\"color: #000000; text-decoration-color: #000000\"> object</span><span style=\"font-weight: bold\">&gt;</span>\n",
       "</pre>\n"
      ],
      "text/plain": [
       "\u001b[1m<\u001b[0m\u001b[1;95mIPython.core.display.Javascript\u001b[0m\u001b[39m object\u001b[0m\u001b[1m>\u001b[0m\n"
      ]
     },
     "metadata": {},
     "output_type": "display_data"
    },
    {
     "data": {
      "application/javascript": [
       "\n",
       "            setTimeout(function() {\n",
       "                var nbb_cell_id = 5;\n",
       "                var nbb_unformatted_code = \"secop_int.cache()\";\n",
       "                var nbb_formatted_code = \"secop_int.cache()\";\n",
       "                var nbb_cells = Jupyter.notebook.get_cells();\n",
       "                for (var i = 0; i < nbb_cells.length; ++i) {\n",
       "                    if (nbb_cells[i].input_prompt_number == nbb_cell_id) {\n",
       "                        if (nbb_cells[i].get_text() == nbb_unformatted_code) {\n",
       "                             nbb_cells[i].set_text(nbb_formatted_code);\n",
       "                        }\n",
       "                        break;\n",
       "                    }\n",
       "                }\n",
       "            }, 500);\n",
       "            "
      ]
     },
     "metadata": {},
     "output_type": "display_data"
    }
   ],
   "source": [
    "secop_int.cache()"
   ]
  },
  {
   "cell_type": "code",
   "execution_count": 6,
   "id": "db1e7c34",
   "metadata": {},
   "outputs": [
    {
     "data": {
      "text/html": [
       "<pre style=\"white-space:pre;overflow-x:auto;line-height:normal;font-family:Menlo,'DejaVu Sans Mono',consolas,'Courier New',monospace\">\n",
       "<span style=\"font-weight: bold\">[</span>\n",
       "    <span style=\"color: #008000; text-decoration-color: #008000\">'nivel_entidad'</span>,\n",
       "    <span style=\"color: #008000; text-decoration-color: #008000\">'nombre_de_la_entidad'</span>,\n",
       "    <span style=\"color: #008000; text-decoration-color: #008000\">'estado_del_proceso'</span>,\n",
       "    <span style=\"color: #008000; text-decoration-color: #008000\">'modalidad_de_contrataci_n'</span>,\n",
       "    <span style=\"color: #008000; text-decoration-color: #008000\">'objeto_a_contratar'</span>,\n",
       "    <span style=\"color: #008000; text-decoration-color: #008000\">'tipo_de_contrato'</span>,\n",
       "    <span style=\"color: #008000; text-decoration-color: #008000\">'numero_del_contrato'</span>,\n",
       "    <span style=\"color: #008000; text-decoration-color: #008000\">'numero_de_proceso'</span>,\n",
       "    <span style=\"color: #008000; text-decoration-color: #008000\">'valor_contrato'</span>,\n",
       "    <span style=\"color: #008000; text-decoration-color: #008000\">'nom_raz_social_contratista'</span>,\n",
       "    <span style=\"color: #008000; text-decoration-color: #008000\">'departamento_entidad'</span>,\n",
       "    <span style=\"color: #008000; text-decoration-color: #008000\">'municipio_entidad'</span>,\n",
       "    <span style=\"color: #008000; text-decoration-color: #008000\">'objeto_del_proceso'</span>,\n",
       "    <span style=\"color: #008000; text-decoration-color: #008000\">'tipo_contrato'</span>,\n",
       "    <span style=\"color: #008000; text-decoration-color: #008000\">'origen'</span>,\n",
       "    <span style=\"color: #008000; text-decoration-color: #008000\">'nit_de_la_entidad'</span>\n",
       "<span style=\"font-weight: bold\">]</span>\n",
       "</pre>\n"
      ],
      "text/plain": [
       "\n",
       "\u001b[1m[\u001b[0m\n",
       "    \u001b[32m'nivel_entidad'\u001b[0m,\n",
       "    \u001b[32m'nombre_de_la_entidad'\u001b[0m,\n",
       "    \u001b[32m'estado_del_proceso'\u001b[0m,\n",
       "    \u001b[32m'modalidad_de_contrataci_n'\u001b[0m,\n",
       "    \u001b[32m'objeto_a_contratar'\u001b[0m,\n",
       "    \u001b[32m'tipo_de_contrato'\u001b[0m,\n",
       "    \u001b[32m'numero_del_contrato'\u001b[0m,\n",
       "    \u001b[32m'numero_de_proceso'\u001b[0m,\n",
       "    \u001b[32m'valor_contrato'\u001b[0m,\n",
       "    \u001b[32m'nom_raz_social_contratista'\u001b[0m,\n",
       "    \u001b[32m'departamento_entidad'\u001b[0m,\n",
       "    \u001b[32m'municipio_entidad'\u001b[0m,\n",
       "    \u001b[32m'objeto_del_proceso'\u001b[0m,\n",
       "    \u001b[32m'tipo_contrato'\u001b[0m,\n",
       "    \u001b[32m'origen'\u001b[0m,\n",
       "    \u001b[32m'nit_de_la_entidad'\u001b[0m\n",
       "\u001b[1m]\u001b[0m\n"
      ]
     },
     "metadata": {},
     "output_type": "display_data"
    },
    {
     "data": {
      "text/html": [
       "<pre style=\"white-space:pre;overflow-x:auto;line-height:normal;font-family:Menlo,'DejaVu Sans Mono',consolas,'Courier New',monospace\"><span style=\"font-weight: bold\">&lt;</span><span style=\"color: #ff00ff; text-decoration-color: #ff00ff; font-weight: bold\">IPython.core.display.Javascript</span><span style=\"color: #000000; text-decoration-color: #000000\"> object</span><span style=\"font-weight: bold\">&gt;</span>\n",
       "</pre>\n"
      ],
      "text/plain": [
       "\u001b[1m<\u001b[0m\u001b[1;95mIPython.core.display.Javascript\u001b[0m\u001b[39m object\u001b[0m\u001b[1m>\u001b[0m\n"
      ]
     },
     "metadata": {},
     "output_type": "display_data"
    },
    {
     "data": {
      "application/javascript": [
       "\n",
       "            setTimeout(function() {\n",
       "                var nbb_cell_id = 6;\n",
       "                var nbb_unformatted_code = \"secop_int.columns\";\n",
       "                var nbb_formatted_code = \"secop_int.columns\";\n",
       "                var nbb_cells = Jupyter.notebook.get_cells();\n",
       "                for (var i = 0; i < nbb_cells.length; ++i) {\n",
       "                    if (nbb_cells[i].input_prompt_number == nbb_cell_id) {\n",
       "                        if (nbb_cells[i].get_text() == nbb_unformatted_code) {\n",
       "                             nbb_cells[i].set_text(nbb_formatted_code);\n",
       "                        }\n",
       "                        break;\n",
       "                    }\n",
       "                }\n",
       "            }, 500);\n",
       "            "
      ]
     },
     "metadata": {},
     "output_type": "display_data"
    }
   ],
   "source": [
    "secop_int.columns"
   ]
  },
  {
   "cell_type": "code",
   "execution_count": 7,
   "id": "fda7f021",
   "metadata": {},
   "outputs": [
    {
     "data": {
      "text/html": [
       "<pre style=\"white-space:pre;overflow-x:auto;line-height:normal;font-family:Menlo,'DejaVu Sans Mono',consolas,'Courier New',monospace\"><span style=\"font-weight: bold\">&lt;</span><span style=\"color: #ff00ff; text-decoration-color: #ff00ff; font-weight: bold\">IPython.core.display.Javascript</span><span style=\"color: #000000; text-decoration-color: #000000\"> object</span><span style=\"font-weight: bold\">&gt;</span>\n",
       "</pre>\n"
      ],
      "text/plain": [
       "\u001b[1m<\u001b[0m\u001b[1;95mIPython.core.display.Javascript\u001b[0m\u001b[39m object\u001b[0m\u001b[1m>\u001b[0m\n"
      ]
     },
     "metadata": {},
     "output_type": "display_data"
    },
    {
     "data": {
      "application/javascript": [
       "\n",
       "            setTimeout(function() {\n",
       "                var nbb_cell_id = 7;\n",
       "                var nbb_unformatted_code = \"secop_int = secop_int.withColumn(\\\"nivel_entidad\\\", F.lower(col(\\\"nivel_entidad\\\")))\";\n",
       "                var nbb_formatted_code = \"secop_int = secop_int.withColumn(\\\"nivel_entidad\\\", F.lower(col(\\\"nivel_entidad\\\")))\";\n",
       "                var nbb_cells = Jupyter.notebook.get_cells();\n",
       "                for (var i = 0; i < nbb_cells.length; ++i) {\n",
       "                    if (nbb_cells[i].input_prompt_number == nbb_cell_id) {\n",
       "                        if (nbb_cells[i].get_text() == nbb_unformatted_code) {\n",
       "                             nbb_cells[i].set_text(nbb_formatted_code);\n",
       "                        }\n",
       "                        break;\n",
       "                    }\n",
       "                }\n",
       "            }, 500);\n",
       "            "
      ]
     },
     "metadata": {},
     "output_type": "display_data"
    }
   ],
   "source": [
    "secop_int = secop_int.withColumn(\"nivel_entidad\", F.lower(col(\"nivel_entidad\")))"
   ]
  },
  {
   "cell_type": "code",
   "execution_count": 8,
   "id": "ea135135",
   "metadata": {},
   "outputs": [
    {
     "name": "stderr",
     "output_type": "stream",
     "text": [
      "[Stage 2:=====================================================> (170 + 6) / 176]\r"
     ]
    },
    {
     "name": "stdout",
     "output_type": "stream",
     "text": [
      "+-------------+------+\n",
      "|nivel_entidad| count|\n",
      "+-------------+------+\n",
      "|  no definido| 24448|\n",
      "|     nacional| 31294|\n",
      "|  territorial|711881|\n",
      "+-------------+------+\n",
      "\n"
     ]
    },
    {
     "name": "stderr",
     "output_type": "stream",
     "text": [
      "\r",
      "                                                                                \r"
     ]
    },
    {
     "data": {
      "text/html": [
       "<pre style=\"white-space:pre;overflow-x:auto;line-height:normal;font-family:Menlo,'DejaVu Sans Mono',consolas,'Courier New',monospace\"><span style=\"font-weight: bold\">&lt;</span><span style=\"color: #ff00ff; text-decoration-color: #ff00ff; font-weight: bold\">IPython.core.display.Javascript</span><span style=\"color: #000000; text-decoration-color: #000000\"> object</span><span style=\"font-weight: bold\">&gt;</span>\n",
       "</pre>\n"
      ],
      "text/plain": [
       "\u001b[1m<\u001b[0m\u001b[1;95mIPython.core.display.Javascript\u001b[0m\u001b[39m object\u001b[0m\u001b[1m>\u001b[0m\n"
      ]
     },
     "metadata": {},
     "output_type": "display_data"
    },
    {
     "data": {
      "application/javascript": [
       "\n",
       "            setTimeout(function() {\n",
       "                var nbb_cell_id = 8;\n",
       "                var nbb_unformatted_code = \"secop_int.groupBy(\\\"nivel_entidad\\\").count().show()\";\n",
       "                var nbb_formatted_code = \"secop_int.groupBy(\\\"nivel_entidad\\\").count().show()\";\n",
       "                var nbb_cells = Jupyter.notebook.get_cells();\n",
       "                for (var i = 0; i < nbb_cells.length; ++i) {\n",
       "                    if (nbb_cells[i].input_prompt_number == nbb_cell_id) {\n",
       "                        if (nbb_cells[i].get_text() == nbb_unformatted_code) {\n",
       "                             nbb_cells[i].set_text(nbb_formatted_code);\n",
       "                        }\n",
       "                        break;\n",
       "                    }\n",
       "                }\n",
       "            }, 500);\n",
       "            "
      ]
     },
     "metadata": {},
     "output_type": "display_data"
    }
   ],
   "source": [
    "secop_int.groupBy(\"nivel_entidad\").count().show()"
   ]
  },
  {
   "cell_type": "code",
   "execution_count": 9,
   "id": "ddd545dd",
   "metadata": {},
   "outputs": [
    {
     "data": {
      "text/html": [
       "<pre style=\"white-space:pre;overflow-x:auto;line-height:normal;font-family:Menlo,'DejaVu Sans Mono',consolas,'Courier New',monospace\"><span style=\"font-weight: bold\">&lt;</span><span style=\"color: #ff00ff; text-decoration-color: #ff00ff; font-weight: bold\">IPython.core.display.Javascript</span><span style=\"color: #000000; text-decoration-color: #000000\"> object</span><span style=\"font-weight: bold\">&gt;</span>\n",
       "</pre>\n"
      ],
      "text/plain": [
       "\u001b[1m<\u001b[0m\u001b[1;95mIPython.core.display.Javascript\u001b[0m\u001b[39m object\u001b[0m\u001b[1m>\u001b[0m\n"
      ]
     },
     "metadata": {},
     "output_type": "display_data"
    },
    {
     "data": {
      "application/javascript": [
       "\n",
       "            setTimeout(function() {\n",
       "                var nbb_cell_id = 9;\n",
       "                var nbb_unformatted_code = \"secop_int = secop_int.withColumn(\\n    \\\"estado_del_proceso\\\", udf(remove_tildes)(F.lower(col(\\\"estado_del_proceso\\\")))\\n)\";\n",
       "                var nbb_formatted_code = \"secop_int = secop_int.withColumn(\\n    \\\"estado_del_proceso\\\", udf(remove_tildes)(F.lower(col(\\\"estado_del_proceso\\\")))\\n)\";\n",
       "                var nbb_cells = Jupyter.notebook.get_cells();\n",
       "                for (var i = 0; i < nbb_cells.length; ++i) {\n",
       "                    if (nbb_cells[i].input_prompt_number == nbb_cell_id) {\n",
       "                        if (nbb_cells[i].get_text() == nbb_unformatted_code) {\n",
       "                             nbb_cells[i].set_text(nbb_formatted_code);\n",
       "                        }\n",
       "                        break;\n",
       "                    }\n",
       "                }\n",
       "            }, 500);\n",
       "            "
      ]
     },
     "metadata": {},
     "output_type": "display_data"
    }
   ],
   "source": [
    "secop_int = secop_int.withColumn(\n",
    "    \"estado_del_proceso\", udf(remove_tildes)(F.lower(col(\"estado_del_proceso\")))\n",
    ")"
   ]
  },
  {
   "cell_type": "code",
   "execution_count": 10,
   "id": "b181e009",
   "metadata": {},
   "outputs": [
    {
     "data": {
      "text/html": [
       "<pre style=\"white-space:pre;overflow-x:auto;line-height:normal;font-family:Menlo,'DejaVu Sans Mono',consolas,'Courier New',monospace\"><span style=\"color: #7fbfbf; text-decoration-color: #7fbfbf\">[08/10/22 15:57:08] </span><span style=\"color: #800000; text-decoration-color: #800000\">WARNING </span> <span style=\"color: #800080; text-decoration-color: #800080\">/opt/homebrew/Caskroom/miniforge/base/envs/dm_project/lib/python3.10/s</span> <a href=\"file:///opt/homebrew/Caskroom/miniforge/base/envs/dm_project/lib/python3.10/warnings.py\" target=\"_blank\"><span style=\"color: #7f7f7f; text-decoration-color: #7f7f7f\">warnings.py</span></a><span style=\"color: #7f7f7f; text-decoration-color: #7f7f7f\">:</span><a href=\"file:///opt/homebrew/Caskroom/miniforge/base/envs/dm_project/lib/python3.10/warnings.py#109\" target=\"_blank\"><span style=\"color: #7f7f7f; text-decoration-color: #7f7f7f\">109</span></a>\n",
       "<span style=\"color: #7fbfbf; text-decoration-color: #7fbfbf\">                    </span>         <span style=\"color: #800080; text-decoration-color: #800080\">ite-packages/pyspark/sql/pandas/</span><span style=\"color: #ff00ff; text-decoration-color: #ff00ff\">utils.py</span>:<span style=\"color: #008080; text-decoration-color: #008080; font-weight: bold\">35</span>: DeprecationWarning:       <span style=\"color: #7f7f7f; text-decoration-color: #7f7f7f\">               </span>\n",
       "<span style=\"color: #7fbfbf; text-decoration-color: #7fbfbf\">                    </span>         distutils Version classes are deprecated. Use packaging.version        <span style=\"color: #7f7f7f; text-decoration-color: #7f7f7f\">               </span>\n",
       "<span style=\"color: #7fbfbf; text-decoration-color: #7fbfbf\">                    </span>         instead.                                                               <span style=\"color: #7f7f7f; text-decoration-color: #7f7f7f\">               </span>\n",
       "<span style=\"color: #7fbfbf; text-decoration-color: #7fbfbf\">                    </span>           if <span style=\"color: #800080; text-decoration-color: #800080; font-weight: bold\">LooseVersion</span><span style=\"font-weight: bold\">(</span>pandas.__version__<span style=\"font-weight: bold\">)</span> &lt;                                <span style=\"color: #7f7f7f; text-decoration-color: #7f7f7f\">               </span>\n",
       "<span style=\"color: #7fbfbf; text-decoration-color: #7fbfbf\">                    </span>         <span style=\"color: #800080; text-decoration-color: #800080; font-weight: bold\">LooseVersion</span><span style=\"font-weight: bold\">(</span>minimum_pandas_version<span style=\"font-weight: bold\">)</span>:                                  <span style=\"color: #7f7f7f; text-decoration-color: #7f7f7f\">               </span>\n",
       "<span style=\"color: #7fbfbf; text-decoration-color: #7fbfbf\">                    </span>                                                                                <span style=\"color: #7f7f7f; text-decoration-color: #7f7f7f\">               </span>\n",
       "</pre>\n"
      ],
      "text/plain": [
       "\u001b[2;36m[08/10/22 15:57:08]\u001b[0m\u001b[2;36m \u001b[0m\u001b[31mWARNING \u001b[0m \u001b[35m/opt/homebrew/Caskroom/miniforge/base/envs/dm_project/lib/python3.10/s\u001b[0m \u001b]8;id=19034;file:///opt/homebrew/Caskroom/miniforge/base/envs/dm_project/lib/python3.10/warnings.py\u001b\\\u001b[2mwarnings.py\u001b[0m\u001b]8;;\u001b\\\u001b[2m:\u001b[0m\u001b]8;id=461162;file:///opt/homebrew/Caskroom/miniforge/base/envs/dm_project/lib/python3.10/warnings.py#109\u001b\\\u001b[2m109\u001b[0m\u001b]8;;\u001b\\\n",
       "\u001b[2;36m                    \u001b[0m         \u001b[35mite-packages/pyspark/sql/pandas/\u001b[0m\u001b[95mutils.py\u001b[0m:\u001b[1;36m35\u001b[0m: DeprecationWarning:       \u001b[2m               \u001b[0m\n",
       "\u001b[2;36m                    \u001b[0m         distutils Version classes are deprecated. Use packaging.version        \u001b[2m               \u001b[0m\n",
       "\u001b[2;36m                    \u001b[0m         instead.                                                               \u001b[2m               \u001b[0m\n",
       "\u001b[2;36m                    \u001b[0m           if \u001b[1;35mLooseVersion\u001b[0m\u001b[1m(\u001b[0mpandas.__version__\u001b[1m)\u001b[0m <                                \u001b[2m               \u001b[0m\n",
       "\u001b[2;36m                    \u001b[0m         \u001b[1;35mLooseVersion\u001b[0m\u001b[1m(\u001b[0mminimum_pandas_version\u001b[1m)\u001b[0m:                                  \u001b[2m               \u001b[0m\n",
       "\u001b[2;36m                    \u001b[0m                                                                                \u001b[2m               \u001b[0m\n"
      ]
     },
     "metadata": {},
     "output_type": "display_data"
    },
    {
     "name": "stderr",
     "output_type": "stream",
     "text": [
      "                                                                                \r"
     ]
    },
    {
     "data": {
      "text/html": [
       "<div>\n",
       "<style scoped>\n",
       "    .dataframe tbody tr th:only-of-type {\n",
       "        vertical-align: middle;\n",
       "    }\n",
       "\n",
       "    .dataframe tbody tr th {\n",
       "        vertical-align: top;\n",
       "    }\n",
       "\n",
       "    .dataframe thead th {\n",
       "        text-align: right;\n",
       "    }\n",
       "</style>\n",
       "<table border=\"1\" class=\"dataframe\">\n",
       "  <thead>\n",
       "    <tr style=\"text-align: right;\">\n",
       "      <th></th>\n",
       "      <th>estado_del_proceso</th>\n",
       "      <th>count</th>\n",
       "    </tr>\n",
       "  </thead>\n",
       "  <tbody>\n",
       "    <tr>\n",
       "      <th>15</th>\n",
       "      <td>celebrado</td>\n",
       "      <td>387825</td>\n",
       "    </tr>\n",
       "    <tr>\n",
       "      <th>0</th>\n",
       "      <td>liquidado</td>\n",
       "      <td>209632</td>\n",
       "    </tr>\n",
       "    <tr>\n",
       "      <th>19</th>\n",
       "      <td>convocado</td>\n",
       "      <td>70435</td>\n",
       "    </tr>\n",
       "    <tr>\n",
       "      <th>6</th>\n",
       "      <td>en ejecucion</td>\n",
       "      <td>27603</td>\n",
       "    </tr>\n",
       "    <tr>\n",
       "      <th>16</th>\n",
       "      <td>terminado anormalmente despues de convocado</td>\n",
       "      <td>16690</td>\n",
       "    </tr>\n",
       "    <tr>\n",
       "      <th>18</th>\n",
       "      <td>terminado sin liquidar</td>\n",
       "      <td>13483</td>\n",
       "    </tr>\n",
       "    <tr>\n",
       "      <th>1</th>\n",
       "      <td>modificado</td>\n",
       "      <td>13266</td>\n",
       "    </tr>\n",
       "    <tr>\n",
       "      <th>20</th>\n",
       "      <td>adjudicado</td>\n",
       "      <td>9772</td>\n",
       "    </tr>\n",
       "    <tr>\n",
       "      <th>10</th>\n",
       "      <td>borrador</td>\n",
       "      <td>4373</td>\n",
       "    </tr>\n",
       "    <tr>\n",
       "      <th>5</th>\n",
       "      <td>terminado</td>\n",
       "      <td>3691</td>\n",
       "    </tr>\n",
       "    <tr>\n",
       "      <th>3</th>\n",
       "      <td>activo</td>\n",
       "      <td>3403</td>\n",
       "    </tr>\n",
       "    <tr>\n",
       "      <th>12</th>\n",
       "      <td>cerrado</td>\n",
       "      <td>3200</td>\n",
       "    </tr>\n",
       "    <tr>\n",
       "      <th>7</th>\n",
       "      <td>descartado</td>\n",
       "      <td>2536</td>\n",
       "    </tr>\n",
       "    <tr>\n",
       "      <th>9</th>\n",
       "      <td>cedido</td>\n",
       "      <td>720</td>\n",
       "    </tr>\n",
       "    <tr>\n",
       "      <th>2</th>\n",
       "      <td>enviado proveedor</td>\n",
       "      <td>388</td>\n",
       "    </tr>\n",
       "    <tr>\n",
       "      <th>17</th>\n",
       "      <td>en aprobacion</td>\n",
       "      <td>305</td>\n",
       "    </tr>\n",
       "    <tr>\n",
       "      <th>8</th>\n",
       "      <td>suspendido</td>\n",
       "      <td>159</td>\n",
       "    </tr>\n",
       "    <tr>\n",
       "      <th>4</th>\n",
       "      <td>expresion de interes</td>\n",
       "      <td>70</td>\n",
       "    </tr>\n",
       "    <tr>\n",
       "      <th>11</th>\n",
       "      <td>invitacion cerrada</td>\n",
       "      <td>38</td>\n",
       "    </tr>\n",
       "    <tr>\n",
       "      <th>13</th>\n",
       "      <td>lista corta</td>\n",
       "      <td>33</td>\n",
       "    </tr>\n",
       "    <tr>\n",
       "      <th>14</th>\n",
       "      <td>lista multiusos</td>\n",
       "      <td>1</td>\n",
       "    </tr>\n",
       "  </tbody>\n",
       "</table>\n",
       "</div>"
      ]
     },
     "execution_count": 10,
     "metadata": {},
     "output_type": "execute_result"
    },
    {
     "data": {
      "text/html": [
       "<pre style=\"white-space:pre;overflow-x:auto;line-height:normal;font-family:Menlo,'DejaVu Sans Mono',consolas,'Courier New',monospace\"><span style=\"font-weight: bold\">&lt;</span><span style=\"color: #ff00ff; text-decoration-color: #ff00ff; font-weight: bold\">IPython.core.display.Javascript</span><span style=\"color: #000000; text-decoration-color: #000000\"> object</span><span style=\"font-weight: bold\">&gt;</span>\n",
       "</pre>\n"
      ],
      "text/plain": [
       "\u001b[1m<\u001b[0m\u001b[1;95mIPython.core.display.Javascript\u001b[0m\u001b[39m object\u001b[0m\u001b[1m>\u001b[0m\n"
      ]
     },
     "metadata": {},
     "output_type": "display_data"
    },
    {
     "data": {
      "application/javascript": [
       "\n",
       "            setTimeout(function() {\n",
       "                var nbb_cell_id = 10;\n",
       "                var nbb_unformatted_code = \"count_process_state = secop_int.groupBy(\\\"estado_del_proceso\\\").count().toPandas()\\ncount_process_state.sort_values(\\\"count\\\", ascending=False)\";\n",
       "                var nbb_formatted_code = \"count_process_state = secop_int.groupBy(\\\"estado_del_proceso\\\").count().toPandas()\\ncount_process_state.sort_values(\\\"count\\\", ascending=False)\";\n",
       "                var nbb_cells = Jupyter.notebook.get_cells();\n",
       "                for (var i = 0; i < nbb_cells.length; ++i) {\n",
       "                    if (nbb_cells[i].input_prompt_number == nbb_cell_id) {\n",
       "                        if (nbb_cells[i].get_text() == nbb_unformatted_code) {\n",
       "                             nbb_cells[i].set_text(nbb_formatted_code);\n",
       "                        }\n",
       "                        break;\n",
       "                    }\n",
       "                }\n",
       "            }, 500);\n",
       "            "
      ]
     },
     "metadata": {},
     "output_type": "display_data"
    }
   ],
   "source": [
    "count_process_state = secop_int.groupBy(\"estado_del_proceso\").count().toPandas()\n",
    "count_process_state.sort_values(\"count\", ascending=False)"
   ]
  },
  {
   "cell_type": "code",
   "execution_count": 11,
   "id": "3322b8d2",
   "metadata": {},
   "outputs": [
    {
     "data": {
      "text/html": [
       "<pre style=\"white-space:pre;overflow-x:auto;line-height:normal;font-family:Menlo,'DejaVu Sans Mono',consolas,'Courier New',monospace\"><span style=\"font-weight: bold\">&lt;</span><span style=\"color: #ff00ff; text-decoration-color: #ff00ff; font-weight: bold\">IPython.core.display.Javascript</span><span style=\"color: #000000; text-decoration-color: #000000\"> object</span><span style=\"font-weight: bold\">&gt;</span>\n",
       "</pre>\n"
      ],
      "text/plain": [
       "\u001b[1m<\u001b[0m\u001b[1;95mIPython.core.display.Javascript\u001b[0m\u001b[39m object\u001b[0m\u001b[1m>\u001b[0m\n"
      ]
     },
     "metadata": {},
     "output_type": "display_data"
    },
    {
     "data": {
      "application/javascript": [
       "\n",
       "            setTimeout(function() {\n",
       "                var nbb_cell_id = 11;\n",
       "                var nbb_unformatted_code = \"secop_int = secop_int.withColumn(\\n    \\\"modalidad_de_contrataci_n\\\", udf(remove_tildes)(F.lower(col(\\\"modalidad_de_contrataci_n\\\")))\\n)\";\n",
       "                var nbb_formatted_code = \"secop_int = secop_int.withColumn(\\n    \\\"modalidad_de_contrataci_n\\\",\\n    udf(remove_tildes)(F.lower(col(\\\"modalidad_de_contrataci_n\\\"))),\\n)\";\n",
       "                var nbb_cells = Jupyter.notebook.get_cells();\n",
       "                for (var i = 0; i < nbb_cells.length; ++i) {\n",
       "                    if (nbb_cells[i].input_prompt_number == nbb_cell_id) {\n",
       "                        if (nbb_cells[i].get_text() == nbb_unformatted_code) {\n",
       "                             nbb_cells[i].set_text(nbb_formatted_code);\n",
       "                        }\n",
       "                        break;\n",
       "                    }\n",
       "                }\n",
       "            }, 500);\n",
       "            "
      ]
     },
     "metadata": {},
     "output_type": "display_data"
    }
   ],
   "source": [
    "secop_int = secop_int.withColumn(\n",
    "    \"modalidad_de_contrataci_n\",\n",
    "    udf(remove_tildes)(F.lower(col(\"modalidad_de_contrataci_n\"))),\n",
    ")"
   ]
  },
  {
   "cell_type": "code",
   "execution_count": 12,
   "id": "f74e7579",
   "metadata": {
    "scrolled": true
   },
   "outputs": [
    {
     "data": {
      "text/html": [
       "<pre style=\"white-space:pre;overflow-x:auto;line-height:normal;font-family:Menlo,'DejaVu Sans Mono',consolas,'Courier New',monospace\"><span style=\"color: #7fbfbf; text-decoration-color: #7fbfbf\">[08/10/22 15:57:23] </span><span style=\"color: #800000; text-decoration-color: #800000\">WARNING </span> <span style=\"color: #800080; text-decoration-color: #800080\">/opt/homebrew/Caskroom/miniforge/base/envs/dm_project/lib/python3.10/s</span> <a href=\"file:///opt/homebrew/Caskroom/miniforge/base/envs/dm_project/lib/python3.10/warnings.py\" target=\"_blank\"><span style=\"color: #7f7f7f; text-decoration-color: #7f7f7f\">warnings.py</span></a><span style=\"color: #7f7f7f; text-decoration-color: #7f7f7f\">:</span><a href=\"file:///opt/homebrew/Caskroom/miniforge/base/envs/dm_project/lib/python3.10/warnings.py#109\" target=\"_blank\"><span style=\"color: #7f7f7f; text-decoration-color: #7f7f7f\">109</span></a>\n",
       "<span style=\"color: #7fbfbf; text-decoration-color: #7fbfbf\">                    </span>         <span style=\"color: #800080; text-decoration-color: #800080\">ite-packages/pyspark/sql/pandas/</span><span style=\"color: #ff00ff; text-decoration-color: #ff00ff\">utils.py</span>:<span style=\"color: #008080; text-decoration-color: #008080; font-weight: bold\">35</span>: DeprecationWarning:       <span style=\"color: #7f7f7f; text-decoration-color: #7f7f7f\">               </span>\n",
       "<span style=\"color: #7fbfbf; text-decoration-color: #7fbfbf\">                    </span>         distutils Version classes are deprecated. Use packaging.version        <span style=\"color: #7f7f7f; text-decoration-color: #7f7f7f\">               </span>\n",
       "<span style=\"color: #7fbfbf; text-decoration-color: #7fbfbf\">                    </span>         instead.                                                               <span style=\"color: #7f7f7f; text-decoration-color: #7f7f7f\">               </span>\n",
       "<span style=\"color: #7fbfbf; text-decoration-color: #7fbfbf\">                    </span>           if <span style=\"color: #800080; text-decoration-color: #800080; font-weight: bold\">LooseVersion</span><span style=\"font-weight: bold\">(</span>pandas.__version__<span style=\"font-weight: bold\">)</span> &lt;                                <span style=\"color: #7f7f7f; text-decoration-color: #7f7f7f\">               </span>\n",
       "<span style=\"color: #7fbfbf; text-decoration-color: #7fbfbf\">                    </span>         <span style=\"color: #800080; text-decoration-color: #800080; font-weight: bold\">LooseVersion</span><span style=\"font-weight: bold\">(</span>minimum_pandas_version<span style=\"font-weight: bold\">)</span>:                                  <span style=\"color: #7f7f7f; text-decoration-color: #7f7f7f\">               </span>\n",
       "<span style=\"color: #7fbfbf; text-decoration-color: #7fbfbf\">                    </span>                                                                                <span style=\"color: #7f7f7f; text-decoration-color: #7f7f7f\">               </span>\n",
       "</pre>\n"
      ],
      "text/plain": [
       "\u001b[2;36m[08/10/22 15:57:23]\u001b[0m\u001b[2;36m \u001b[0m\u001b[31mWARNING \u001b[0m \u001b[35m/opt/homebrew/Caskroom/miniforge/base/envs/dm_project/lib/python3.10/s\u001b[0m \u001b]8;id=791532;file:///opt/homebrew/Caskroom/miniforge/base/envs/dm_project/lib/python3.10/warnings.py\u001b\\\u001b[2mwarnings.py\u001b[0m\u001b]8;;\u001b\\\u001b[2m:\u001b[0m\u001b]8;id=313822;file:///opt/homebrew/Caskroom/miniforge/base/envs/dm_project/lib/python3.10/warnings.py#109\u001b\\\u001b[2m109\u001b[0m\u001b]8;;\u001b\\\n",
       "\u001b[2;36m                    \u001b[0m         \u001b[35mite-packages/pyspark/sql/pandas/\u001b[0m\u001b[95mutils.py\u001b[0m:\u001b[1;36m35\u001b[0m: DeprecationWarning:       \u001b[2m               \u001b[0m\n",
       "\u001b[2;36m                    \u001b[0m         distutils Version classes are deprecated. Use packaging.version        \u001b[2m               \u001b[0m\n",
       "\u001b[2;36m                    \u001b[0m         instead.                                                               \u001b[2m               \u001b[0m\n",
       "\u001b[2;36m                    \u001b[0m           if \u001b[1;35mLooseVersion\u001b[0m\u001b[1m(\u001b[0mpandas.__version__\u001b[1m)\u001b[0m <                                \u001b[2m               \u001b[0m\n",
       "\u001b[2;36m                    \u001b[0m         \u001b[1;35mLooseVersion\u001b[0m\u001b[1m(\u001b[0mminimum_pandas_version\u001b[1m)\u001b[0m:                                  \u001b[2m               \u001b[0m\n",
       "\u001b[2;36m                    \u001b[0m                                                                                \u001b[2m               \u001b[0m\n"
      ]
     },
     "metadata": {},
     "output_type": "display_data"
    },
    {
     "name": "stderr",
     "output_type": "stream",
     "text": [
      "                                                                                \r"
     ]
    },
    {
     "data": {
      "text/html": [
       "<pre style=\"white-space:pre;overflow-x:auto;line-height:normal;font-family:Menlo,'DejaVu Sans Mono',consolas,'Courier New',monospace\"><span style=\"font-weight: bold\">&lt;</span><span style=\"color: #ff00ff; text-decoration-color: #ff00ff; font-weight: bold\">IPython.core.display.Javascript</span><span style=\"color: #000000; text-decoration-color: #000000\"> object</span><span style=\"font-weight: bold\">&gt;</span>\n",
       "</pre>\n"
      ],
      "text/plain": [
       "\u001b[1m<\u001b[0m\u001b[1;95mIPython.core.display.Javascript\u001b[0m\u001b[39m object\u001b[0m\u001b[1m>\u001b[0m\n"
      ]
     },
     "metadata": {},
     "output_type": "display_data"
    },
    {
     "data": {
      "application/javascript": [
       "\n",
       "            setTimeout(function() {\n",
       "                var nbb_cell_id = 12;\n",
       "                var nbb_unformatted_code = \"count_process_type = secop_int.groupBy(\\\"modalidad_de_contrataci_n\\\").count().toPandas()\\ncount_process_type[\\\"prop\\\"] = (\\n    count_process_type[\\\"count\\\"] / count_process_type[\\\"count\\\"].sum()\\n)\";\n",
       "                var nbb_formatted_code = \"count_process_type = secop_int.groupBy(\\\"modalidad_de_contrataci_n\\\").count().toPandas()\\ncount_process_type[\\\"prop\\\"] = (\\n    count_process_type[\\\"count\\\"] / count_process_type[\\\"count\\\"].sum()\\n)\";\n",
       "                var nbb_cells = Jupyter.notebook.get_cells();\n",
       "                for (var i = 0; i < nbb_cells.length; ++i) {\n",
       "                    if (nbb_cells[i].input_prompt_number == nbb_cell_id) {\n",
       "                        if (nbb_cells[i].get_text() == nbb_unformatted_code) {\n",
       "                             nbb_cells[i].set_text(nbb_formatted_code);\n",
       "                        }\n",
       "                        break;\n",
       "                    }\n",
       "                }\n",
       "            }, 500);\n",
       "            "
      ]
     },
     "metadata": {},
     "output_type": "display_data"
    }
   ],
   "source": [
    "count_process_type = secop_int.groupBy(\"modalidad_de_contrataci_n\").count().toPandas()\n",
    "count_process_type[\"prop\"] = (\n",
    "    count_process_type[\"count\"] / count_process_type[\"count\"].sum()\n",
    ")"
   ]
  },
  {
   "cell_type": "markdown",
   "id": "0c41da9e",
   "metadata": {},
   "source": [
    "https://www.funcionpublica.gov.co/eva/gerentes/Modulo4/tema-2/1-modalidades.html"
   ]
  },
  {
   "cell_type": "code",
   "execution_count": 13,
   "id": "901bd962",
   "metadata": {},
   "outputs": [
    {
     "data": {
      "text/html": [
       "<pre style=\"white-space:pre;overflow-x:auto;line-height:normal;font-family:Menlo,'DejaVu Sans Mono',consolas,'Courier New',monospace\"><span style=\"font-weight: bold\">&lt;</span><span style=\"color: #ff00ff; text-decoration-color: #ff00ff; font-weight: bold\">IPython.core.display.Javascript</span><span style=\"color: #000000; text-decoration-color: #000000\"> object</span><span style=\"font-weight: bold\">&gt;</span>\n",
       "</pre>\n"
      ],
      "text/plain": [
       "\u001b[1m<\u001b[0m\u001b[1;95mIPython.core.display.Javascript\u001b[0m\u001b[39m object\u001b[0m\u001b[1m>\u001b[0m\n"
      ]
     },
     "metadata": {},
     "output_type": "display_data"
    },
    {
     "data": {
      "application/javascript": [
       "\n",
       "            setTimeout(function() {\n",
       "                var nbb_cell_id = 13;\n",
       "                var nbb_unformatted_code = \"def clean_modalidad_contratacion(mod: str):\\n    \\\"\\\"\\\"Clean and group modalidad de contratacion\\\"\\\"\\\"\\n    if (\\\"concurso de meritos\\\" in mod) or (\\\"concurso_meritos\\\" in mod):\\n        return \\\"concurso de meritos abiertos\\\"\\n    elif \\\"regimen especial\\\" in mod:\\n        return \\\"regimen especial\\\"\\n    elif (\\n        (\\\"minima cuantia\\\" in mod)\\n        or (\\\"menor cuantia\\\" in mod)\\n    ):\\n        return \\\"minima cuantia\\\"\\n    elif \\\"contratacion directa\\\" in mod:\\n        return \\\"contratacion directa\\\"\\n    elif \\\"subasta\\\" in mod:\\n        return \\\"subasta\\\"\\n    elif (\\\"licitacion publica\\\" in mod) or (\\\"licitacion obra publica\\\" in mod):\\n        return \\\"licitacion publica\\\"\\n    else:\\n        return \\\"Otro\\\"\";\n",
       "                var nbb_formatted_code = \"def clean_modalidad_contratacion(mod: str):\\n    \\\"\\\"\\\"Clean and group modalidad de contratacion\\\"\\\"\\\"\\n    if (\\\"concurso de meritos\\\" in mod) or (\\\"concurso_meritos\\\" in mod):\\n        return \\\"concurso de meritos abiertos\\\"\\n    elif \\\"regimen especial\\\" in mod:\\n        return \\\"regimen especial\\\"\\n    elif (\\\"minima cuantia\\\" in mod) or (\\\"menor cuantia\\\" in mod):\\n        return \\\"minima cuantia\\\"\\n    elif \\\"contratacion directa\\\" in mod:\\n        return \\\"contratacion directa\\\"\\n    elif \\\"subasta\\\" in mod:\\n        return \\\"subasta\\\"\\n    elif (\\\"licitacion publica\\\" in mod) or (\\\"licitacion obra publica\\\" in mod):\\n        return \\\"licitacion publica\\\"\\n    else:\\n        return \\\"Otro\\\"\";\n",
       "                var nbb_cells = Jupyter.notebook.get_cells();\n",
       "                for (var i = 0; i < nbb_cells.length; ++i) {\n",
       "                    if (nbb_cells[i].input_prompt_number == nbb_cell_id) {\n",
       "                        if (nbb_cells[i].get_text() == nbb_unformatted_code) {\n",
       "                             nbb_cells[i].set_text(nbb_formatted_code);\n",
       "                        }\n",
       "                        break;\n",
       "                    }\n",
       "                }\n",
       "            }, 500);\n",
       "            "
      ]
     },
     "metadata": {},
     "output_type": "display_data"
    }
   ],
   "source": [
    "def clean_modalidad_contratacion(mod: str):\n",
    "    \"\"\"Clean and group modalidad de contratacion\"\"\"\n",
    "    if (\"concurso de meritos\" in mod) or (\"concurso_meritos\" in mod):\n",
    "        return \"concurso de meritos abiertos\"\n",
    "    elif \"regimen especial\" in mod:\n",
    "        return \"regimen especial\"\n",
    "    elif (\"minima cuantia\" in mod) or (\"menor cuantia\" in mod):\n",
    "        return \"minima cuantia\"\n",
    "    elif \"contratacion directa\" in mod:\n",
    "        return \"contratacion directa\"\n",
    "    elif \"subasta\" in mod:\n",
    "        return \"subasta\"\n",
    "    elif (\"licitacion publica\" in mod) or (\"licitacion obra publica\" in mod):\n",
    "        return \"licitacion publica\"\n",
    "    else:\n",
    "        return \"Otro\""
   ]
  },
  {
   "cell_type": "code",
   "execution_count": 14,
   "id": "2f181726",
   "metadata": {
    "scrolled": true
   },
   "outputs": [
    {
     "data": {
      "text/html": [
       "<div>\n",
       "<style scoped>\n",
       "    .dataframe tbody tr th:only-of-type {\n",
       "        vertical-align: middle;\n",
       "    }\n",
       "\n",
       "    .dataframe tbody tr th {\n",
       "        vertical-align: top;\n",
       "    }\n",
       "\n",
       "    .dataframe thead th {\n",
       "        text-align: right;\n",
       "    }\n",
       "</style>\n",
       "<table border=\"1\" class=\"dataframe\">\n",
       "  <thead>\n",
       "    <tr style=\"text-align: right;\">\n",
       "      <th></th>\n",
       "      <th>modalidad_de_contrataci_n</th>\n",
       "      <th>count</th>\n",
       "      <th>prop</th>\n",
       "      <th>modalidad_clean</th>\n",
       "    </tr>\n",
       "  </thead>\n",
       "  <tbody>\n",
       "    <tr>\n",
       "      <th>0</th>\n",
       "      <td>invitacion ofertas cooperativas o asociaciones...</td>\n",
       "      <td>37</td>\n",
       "      <td>0.000048</td>\n",
       "      <td>Otro</td>\n",
       "    </tr>\n",
       "    <tr>\n",
       "      <th>1</th>\n",
       "      <td>licitacion publica</td>\n",
       "      <td>10250</td>\n",
       "      <td>0.013353</td>\n",
       "      <td>licitacion publica</td>\n",
       "    </tr>\n",
       "    <tr>\n",
       "      <th>2</th>\n",
       "      <td>seleccion abreviada del literal h del numeral ...</td>\n",
       "      <td>118</td>\n",
       "      <td>0.000154</td>\n",
       "      <td>Otro</td>\n",
       "    </tr>\n",
       "    <tr>\n",
       "      <th>3</th>\n",
       "      <td>contratacion minima cuantia</td>\n",
       "      <td>157560</td>\n",
       "      <td>0.205257</td>\n",
       "      <td>minima cuantia</td>\n",
       "    </tr>\n",
       "    <tr>\n",
       "      <th>4</th>\n",
       "      <td>contratacion directa</td>\n",
       "      <td>50228</td>\n",
       "      <td>0.065433</td>\n",
       "      <td>contratacion directa</td>\n",
       "    </tr>\n",
       "    <tr>\n",
       "      <th>5</th>\n",
       "      <td>seleccion abreviada servicios de salud</td>\n",
       "      <td>203</td>\n",
       "      <td>0.000264</td>\n",
       "      <td>Otro</td>\n",
       "    </tr>\n",
       "    <tr>\n",
       "      <th>6</th>\n",
       "      <td>contratacion directa (con ofertas)</td>\n",
       "      <td>497</td>\n",
       "      <td>0.000647</td>\n",
       "      <td>contratacion directa</td>\n",
       "    </tr>\n",
       "    <tr>\n",
       "      <th>7</th>\n",
       "      <td>minima cuantia</td>\n",
       "      <td>1716</td>\n",
       "      <td>0.002235</td>\n",
       "      <td>minima cuantia</td>\n",
       "    </tr>\n",
       "    <tr>\n",
       "      <th>8</th>\n",
       "      <td>contratacion directa menor cuantia</td>\n",
       "      <td>3418</td>\n",
       "      <td>0.004453</td>\n",
       "      <td>minima cuantia</td>\n",
       "    </tr>\n",
       "    <tr>\n",
       "      <th>9</th>\n",
       "      <td>subasta</td>\n",
       "      <td>8402</td>\n",
       "      <td>0.010945</td>\n",
       "      <td>subasta</td>\n",
       "    </tr>\n",
       "    <tr>\n",
       "      <th>10</th>\n",
       "      <td>concurso de meritos con lista corta</td>\n",
       "      <td>619</td>\n",
       "      <td>0.000806</td>\n",
       "      <td>concurso de meritos abiertos</td>\n",
       "    </tr>\n",
       "    <tr>\n",
       "      <th>11</th>\n",
       "      <td>concurso de meritos con lista multiusos</td>\n",
       "      <td>38</td>\n",
       "      <td>0.000050</td>\n",
       "      <td>concurso de meritos abiertos</td>\n",
       "    </tr>\n",
       "    <tr>\n",
       "      <th>12</th>\n",
       "      <td>seleccion abreviada menor cuantia sin manifest...</td>\n",
       "      <td>12</td>\n",
       "      <td>0.000016</td>\n",
       "      <td>minima cuantia</td>\n",
       "    </tr>\n",
       "    <tr>\n",
       "      <th>13</th>\n",
       "      <td>cce-20-concurso_meritos_sin_lista_corta_1sobre</td>\n",
       "      <td>65</td>\n",
       "      <td>0.000085</td>\n",
       "      <td>concurso de meritos abiertos</td>\n",
       "    </tr>\n",
       "    <tr>\n",
       "      <th>14</th>\n",
       "      <td>contratacion directa ley 1150 de 2007</td>\n",
       "      <td>321096</td>\n",
       "      <td>0.418299</td>\n",
       "      <td>contratacion directa</td>\n",
       "    </tr>\n",
       "    <tr>\n",
       "      <th>15</th>\n",
       "      <td>asociacion publico privada</td>\n",
       "      <td>300</td>\n",
       "      <td>0.000391</td>\n",
       "      <td>Otro</td>\n",
       "    </tr>\n",
       "    <tr>\n",
       "      <th>16</th>\n",
       "      <td>contratos y convenios con mas de dos partes</td>\n",
       "      <td>1655</td>\n",
       "      <td>0.002156</td>\n",
       "      <td>Otro</td>\n",
       "    </tr>\n",
       "    <tr>\n",
       "      <th>17</th>\n",
       "      <td>regimen especial</td>\n",
       "      <td>171310</td>\n",
       "      <td>0.223169</td>\n",
       "      <td>regimen especial</td>\n",
       "    </tr>\n",
       "    <tr>\n",
       "      <th>18</th>\n",
       "      <td>lista multiusos</td>\n",
       "      <td>1</td>\n",
       "      <td>0.000001</td>\n",
       "      <td>Otro</td>\n",
       "    </tr>\n",
       "    <tr>\n",
       "      <th>19</th>\n",
       "      <td>seleccion abreviada subasta inversa</td>\n",
       "      <td>292</td>\n",
       "      <td>0.000380</td>\n",
       "      <td>subasta</td>\n",
       "    </tr>\n",
       "    <tr>\n",
       "      <th>20</th>\n",
       "      <td>otras formas de contratacion directa</td>\n",
       "      <td>2132</td>\n",
       "      <td>0.002777</td>\n",
       "      <td>contratacion directa</td>\n",
       "    </tr>\n",
       "    <tr>\n",
       "      <th>21</th>\n",
       "      <td>concurso de meritos abierto</td>\n",
       "      <td>6653</td>\n",
       "      <td>0.008667</td>\n",
       "      <td>concurso de meritos abiertos</td>\n",
       "    </tr>\n",
       "    <tr>\n",
       "      <th>22</th>\n",
       "      <td>seleccion abreviada de menor cuantia</td>\n",
       "      <td>342</td>\n",
       "      <td>0.000446</td>\n",
       "      <td>minima cuantia</td>\n",
       "    </tr>\n",
       "    <tr>\n",
       "      <th>23</th>\n",
       "      <td>seleccion abreviada de menor cuantia ley 1150 ...</td>\n",
       "      <td>26194</td>\n",
       "      <td>0.034124</td>\n",
       "      <td>minima cuantia</td>\n",
       "    </tr>\n",
       "    <tr>\n",
       "      <th>24</th>\n",
       "      <td>contratacion regimen especial (con ofertas)</td>\n",
       "      <td>1230</td>\n",
       "      <td>0.001602</td>\n",
       "      <td>regimen especial</td>\n",
       "    </tr>\n",
       "    <tr>\n",
       "      <th>25</th>\n",
       "      <td>licitacion publica obra publica</td>\n",
       "      <td>110</td>\n",
       "      <td>0.000143</td>\n",
       "      <td>licitacion publica</td>\n",
       "    </tr>\n",
       "    <tr>\n",
       "      <th>26</th>\n",
       "      <td>contratacion regimen especial</td>\n",
       "      <td>1335</td>\n",
       "      <td>0.001739</td>\n",
       "      <td>regimen especial</td>\n",
       "    </tr>\n",
       "    <tr>\n",
       "      <th>27</th>\n",
       "      <td>licitacion obra publica</td>\n",
       "      <td>1798</td>\n",
       "      <td>0.002342</td>\n",
       "      <td>licitacion publica</td>\n",
       "    </tr>\n",
       "    <tr>\n",
       "      <th>28</th>\n",
       "      <td>concurso de diseño arquitectonico</td>\n",
       "      <td>1</td>\n",
       "      <td>0.000001</td>\n",
       "      <td>Otro</td>\n",
       "    </tr>\n",
       "    <tr>\n",
       "      <th>29</th>\n",
       "      <td>no definido</td>\n",
       "      <td>10</td>\n",
       "      <td>0.000013</td>\n",
       "      <td>Otro</td>\n",
       "    </tr>\n",
       "    <tr>\n",
       "      <th>30</th>\n",
       "      <td>enajenacion de bienes con subasta</td>\n",
       "      <td>1</td>\n",
       "      <td>0.000001</td>\n",
       "      <td>subasta</td>\n",
       "    </tr>\n",
       "  </tbody>\n",
       "</table>\n",
       "</div>"
      ]
     },
     "execution_count": 14,
     "metadata": {},
     "output_type": "execute_result"
    },
    {
     "data": {
      "text/html": [
       "<pre style=\"white-space:pre;overflow-x:auto;line-height:normal;font-family:Menlo,'DejaVu Sans Mono',consolas,'Courier New',monospace\"><span style=\"font-weight: bold\">&lt;</span><span style=\"color: #ff00ff; text-decoration-color: #ff00ff; font-weight: bold\">IPython.core.display.Javascript</span><span style=\"color: #000000; text-decoration-color: #000000\"> object</span><span style=\"font-weight: bold\">&gt;</span>\n",
       "</pre>\n"
      ],
      "text/plain": [
       "\u001b[1m<\u001b[0m\u001b[1;95mIPython.core.display.Javascript\u001b[0m\u001b[39m object\u001b[0m\u001b[1m>\u001b[0m\n"
      ]
     },
     "metadata": {},
     "output_type": "display_data"
    },
    {
     "data": {
      "application/javascript": [
       "\n",
       "            setTimeout(function() {\n",
       "                var nbb_cell_id = 14;\n",
       "                var nbb_unformatted_code = \"count_process_type[\\\"modalidad_clean\\\"] = count_process_type[\\n    \\\"modalidad_de_contrataci_n\\\"\\n].apply(clean_modalidad_contratacion)\\ncount_process_type\";\n",
       "                var nbb_formatted_code = \"count_process_type[\\\"modalidad_clean\\\"] = count_process_type[\\n    \\\"modalidad_de_contrataci_n\\\"\\n].apply(clean_modalidad_contratacion)\\ncount_process_type\";\n",
       "                var nbb_cells = Jupyter.notebook.get_cells();\n",
       "                for (var i = 0; i < nbb_cells.length; ++i) {\n",
       "                    if (nbb_cells[i].input_prompt_number == nbb_cell_id) {\n",
       "                        if (nbb_cells[i].get_text() == nbb_unformatted_code) {\n",
       "                             nbb_cells[i].set_text(nbb_formatted_code);\n",
       "                        }\n",
       "                        break;\n",
       "                    }\n",
       "                }\n",
       "            }, 500);\n",
       "            "
      ]
     },
     "metadata": {},
     "output_type": "display_data"
    }
   ],
   "source": [
    "count_process_type[\"modalidad_clean\"] = count_process_type[\n",
    "    \"modalidad_de_contrataci_n\"\n",
    "].apply(clean_modalidad_contratacion)\n",
    "count_process_type"
   ]
  },
  {
   "cell_type": "code",
   "execution_count": 15,
   "id": "7d2555e2",
   "metadata": {
    "scrolled": false
   },
   "outputs": [
    {
     "data": {
      "text/html": [
       "<pre style=\"white-space:pre;overflow-x:auto;line-height:normal;font-family:Menlo,'DejaVu Sans Mono',consolas,'Courier New',monospace\"><span style=\"font-weight: bold\">&lt;</span><span style=\"color: #ff00ff; text-decoration-color: #ff00ff; font-weight: bold\">IPython.core.display.Javascript</span><span style=\"color: #000000; text-decoration-color: #000000\"> object</span><span style=\"font-weight: bold\">&gt;</span>\n",
       "</pre>\n"
      ],
      "text/plain": [
       "\u001b[1m<\u001b[0m\u001b[1;95mIPython.core.display.Javascript\u001b[0m\u001b[39m object\u001b[0m\u001b[1m>\u001b[0m\n"
      ]
     },
     "metadata": {},
     "output_type": "display_data"
    },
    {
     "data": {
      "application/javascript": [
       "\n",
       "            setTimeout(function() {\n",
       "                var nbb_cell_id = 15;\n",
       "                var nbb_unformatted_code = \"secop_int = secop_int.withColumn(\\n    \\\"modalidad_de_contrataci_n\\\",\\n    udf(clean_modalidad_contratacion)(col(\\\"modalidad_de_contrataci_n\\\")),\\n)\";\n",
       "                var nbb_formatted_code = \"secop_int = secop_int.withColumn(\\n    \\\"modalidad_de_contrataci_n\\\",\\n    udf(clean_modalidad_contratacion)(col(\\\"modalidad_de_contrataci_n\\\")),\\n)\";\n",
       "                var nbb_cells = Jupyter.notebook.get_cells();\n",
       "                for (var i = 0; i < nbb_cells.length; ++i) {\n",
       "                    if (nbb_cells[i].input_prompt_number == nbb_cell_id) {\n",
       "                        if (nbb_cells[i].get_text() == nbb_unformatted_code) {\n",
       "                             nbb_cells[i].set_text(nbb_formatted_code);\n",
       "                        }\n",
       "                        break;\n",
       "                    }\n",
       "                }\n",
       "            }, 500);\n",
       "            "
      ]
     },
     "metadata": {},
     "output_type": "display_data"
    }
   ],
   "source": [
    "secop_int = secop_int.withColumn(\n",
    "    \"modalidad_de_contrataci_n\",\n",
    "    udf(clean_modalidad_contratacion)(col(\"modalidad_de_contrataci_n\")),\n",
    ")"
   ]
  },
  {
   "cell_type": "code",
   "execution_count": 16,
   "id": "751a2257",
   "metadata": {},
   "outputs": [
    {
     "data": {
      "text/html": [
       "<pre style=\"white-space:pre;overflow-x:auto;line-height:normal;font-family:Menlo,'DejaVu Sans Mono',consolas,'Courier New',monospace\"><span style=\"color: #7fbfbf; text-decoration-color: #7fbfbf\">[08/10/22 15:58:35] </span><span style=\"color: #800000; text-decoration-color: #800000\">WARNING </span> <span style=\"color: #800080; text-decoration-color: #800080\">/opt/homebrew/Caskroom/miniforge/base/envs/dm_project/lib/python3.10/s</span> <a href=\"file:///opt/homebrew/Caskroom/miniforge/base/envs/dm_project/lib/python3.10/warnings.py\" target=\"_blank\"><span style=\"color: #7f7f7f; text-decoration-color: #7f7f7f\">warnings.py</span></a><span style=\"color: #7f7f7f; text-decoration-color: #7f7f7f\">:</span><a href=\"file:///opt/homebrew/Caskroom/miniforge/base/envs/dm_project/lib/python3.10/warnings.py#109\" target=\"_blank\"><span style=\"color: #7f7f7f; text-decoration-color: #7f7f7f\">109</span></a>\n",
       "<span style=\"color: #7fbfbf; text-decoration-color: #7fbfbf\">                    </span>         <span style=\"color: #800080; text-decoration-color: #800080\">ite-packages/pyspark/sql/pandas/</span><span style=\"color: #ff00ff; text-decoration-color: #ff00ff\">utils.py</span>:<span style=\"color: #008080; text-decoration-color: #008080; font-weight: bold\">35</span>: DeprecationWarning:       <span style=\"color: #7f7f7f; text-decoration-color: #7f7f7f\">               </span>\n",
       "<span style=\"color: #7fbfbf; text-decoration-color: #7fbfbf\">                    </span>         distutils Version classes are deprecated. Use packaging.version        <span style=\"color: #7f7f7f; text-decoration-color: #7f7f7f\">               </span>\n",
       "<span style=\"color: #7fbfbf; text-decoration-color: #7fbfbf\">                    </span>         instead.                                                               <span style=\"color: #7f7f7f; text-decoration-color: #7f7f7f\">               </span>\n",
       "<span style=\"color: #7fbfbf; text-decoration-color: #7fbfbf\">                    </span>           if <span style=\"color: #800080; text-decoration-color: #800080; font-weight: bold\">LooseVersion</span><span style=\"font-weight: bold\">(</span>pandas.__version__<span style=\"font-weight: bold\">)</span> &lt;                                <span style=\"color: #7f7f7f; text-decoration-color: #7f7f7f\">               </span>\n",
       "<span style=\"color: #7fbfbf; text-decoration-color: #7fbfbf\">                    </span>         <span style=\"color: #800080; text-decoration-color: #800080; font-weight: bold\">LooseVersion</span><span style=\"font-weight: bold\">(</span>minimum_pandas_version<span style=\"font-weight: bold\">)</span>:                                  <span style=\"color: #7f7f7f; text-decoration-color: #7f7f7f\">               </span>\n",
       "<span style=\"color: #7fbfbf; text-decoration-color: #7fbfbf\">                    </span>                                                                                <span style=\"color: #7f7f7f; text-decoration-color: #7f7f7f\">               </span>\n",
       "</pre>\n"
      ],
      "text/plain": [
       "\u001b[2;36m[08/10/22 15:58:35]\u001b[0m\u001b[2;36m \u001b[0m\u001b[31mWARNING \u001b[0m \u001b[35m/opt/homebrew/Caskroom/miniforge/base/envs/dm_project/lib/python3.10/s\u001b[0m \u001b]8;id=643046;file:///opt/homebrew/Caskroom/miniforge/base/envs/dm_project/lib/python3.10/warnings.py\u001b\\\u001b[2mwarnings.py\u001b[0m\u001b]8;;\u001b\\\u001b[2m:\u001b[0m\u001b]8;id=190068;file:///opt/homebrew/Caskroom/miniforge/base/envs/dm_project/lib/python3.10/warnings.py#109\u001b\\\u001b[2m109\u001b[0m\u001b]8;;\u001b\\\n",
       "\u001b[2;36m                    \u001b[0m         \u001b[35mite-packages/pyspark/sql/pandas/\u001b[0m\u001b[95mutils.py\u001b[0m:\u001b[1;36m35\u001b[0m: DeprecationWarning:       \u001b[2m               \u001b[0m\n",
       "\u001b[2;36m                    \u001b[0m         distutils Version classes are deprecated. Use packaging.version        \u001b[2m               \u001b[0m\n",
       "\u001b[2;36m                    \u001b[0m         instead.                                                               \u001b[2m               \u001b[0m\n",
       "\u001b[2;36m                    \u001b[0m           if \u001b[1;35mLooseVersion\u001b[0m\u001b[1m(\u001b[0mpandas.__version__\u001b[1m)\u001b[0m <                                \u001b[2m               \u001b[0m\n",
       "\u001b[2;36m                    \u001b[0m         \u001b[1;35mLooseVersion\u001b[0m\u001b[1m(\u001b[0mminimum_pandas_version\u001b[1m)\u001b[0m:                                  \u001b[2m               \u001b[0m\n",
       "\u001b[2;36m                    \u001b[0m                                                                                \u001b[2m               \u001b[0m\n"
      ]
     },
     "metadata": {},
     "output_type": "display_data"
    },
    {
     "name": "stderr",
     "output_type": "stream",
     "text": [
      "                                                                                \r"
     ]
    },
    {
     "data": {
      "text/html": [
       "<div>\n",
       "<style scoped>\n",
       "    .dataframe tbody tr th:only-of-type {\n",
       "        vertical-align: middle;\n",
       "    }\n",
       "\n",
       "    .dataframe tbody tr th {\n",
       "        vertical-align: top;\n",
       "    }\n",
       "\n",
       "    .dataframe thead th {\n",
       "        text-align: right;\n",
       "    }\n",
       "</style>\n",
       "<table border=\"1\" class=\"dataframe\">\n",
       "  <thead>\n",
       "    <tr style=\"text-align: right;\">\n",
       "      <th></th>\n",
       "      <th>modalidad_de_contrataci_n</th>\n",
       "      <th>count</th>\n",
       "      <th>prop</th>\n",
       "    </tr>\n",
       "  </thead>\n",
       "  <tbody>\n",
       "    <tr>\n",
       "      <th>2</th>\n",
       "      <td>contratacion directa</td>\n",
       "      <td>373953</td>\n",
       "      <td>0.487157</td>\n",
       "    </tr>\n",
       "    <tr>\n",
       "      <th>4</th>\n",
       "      <td>minima cuantia</td>\n",
       "      <td>189242</td>\n",
       "      <td>0.246530</td>\n",
       "    </tr>\n",
       "    <tr>\n",
       "      <th>6</th>\n",
       "      <td>regimen especial</td>\n",
       "      <td>173875</td>\n",
       "      <td>0.226511</td>\n",
       "    </tr>\n",
       "    <tr>\n",
       "      <th>1</th>\n",
       "      <td>licitacion publica</td>\n",
       "      <td>12158</td>\n",
       "      <td>0.015839</td>\n",
       "    </tr>\n",
       "    <tr>\n",
       "      <th>5</th>\n",
       "      <td>subasta</td>\n",
       "      <td>8695</td>\n",
       "      <td>0.011327</td>\n",
       "    </tr>\n",
       "    <tr>\n",
       "      <th>3</th>\n",
       "      <td>concurso de meritos abiertos</td>\n",
       "      <td>7375</td>\n",
       "      <td>0.009608</td>\n",
       "    </tr>\n",
       "    <tr>\n",
       "      <th>0</th>\n",
       "      <td>Otro</td>\n",
       "      <td>2325</td>\n",
       "      <td>0.003029</td>\n",
       "    </tr>\n",
       "  </tbody>\n",
       "</table>\n",
       "</div>"
      ]
     },
     "execution_count": 16,
     "metadata": {},
     "output_type": "execute_result"
    },
    {
     "data": {
      "text/html": [
       "<pre style=\"white-space:pre;overflow-x:auto;line-height:normal;font-family:Menlo,'DejaVu Sans Mono',consolas,'Courier New',monospace\"><span style=\"font-weight: bold\">&lt;</span><span style=\"color: #ff00ff; text-decoration-color: #ff00ff; font-weight: bold\">IPython.core.display.Javascript</span><span style=\"color: #000000; text-decoration-color: #000000\"> object</span><span style=\"font-weight: bold\">&gt;</span>\n",
       "</pre>\n"
      ],
      "text/plain": [
       "\u001b[1m<\u001b[0m\u001b[1;95mIPython.core.display.Javascript\u001b[0m\u001b[39m object\u001b[0m\u001b[1m>\u001b[0m\n"
      ]
     },
     "metadata": {},
     "output_type": "display_data"
    },
    {
     "data": {
      "application/javascript": [
       "\n",
       "            setTimeout(function() {\n",
       "                var nbb_cell_id = 16;\n",
       "                var nbb_unformatted_code = \"count_process_type_clean = (\\n    secop_int.groupBy(\\\"modalidad_de_contrataci_n\\\").count().toPandas()\\n)\\ncount_process_type_clean[\\\"prop\\\"] = (\\n    count_process_type_clean[\\\"count\\\"] / count_process_type_clean[\\\"count\\\"].sum()\\n)\\ncount_process_type_clean.sort_values(\\\"prop\\\", ascending=False)\";\n",
       "                var nbb_formatted_code = \"count_process_type_clean = (\\n    secop_int.groupBy(\\\"modalidad_de_contrataci_n\\\").count().toPandas()\\n)\\ncount_process_type_clean[\\\"prop\\\"] = (\\n    count_process_type_clean[\\\"count\\\"] / count_process_type_clean[\\\"count\\\"].sum()\\n)\\ncount_process_type_clean.sort_values(\\\"prop\\\", ascending=False)\";\n",
       "                var nbb_cells = Jupyter.notebook.get_cells();\n",
       "                for (var i = 0; i < nbb_cells.length; ++i) {\n",
       "                    if (nbb_cells[i].input_prompt_number == nbb_cell_id) {\n",
       "                        if (nbb_cells[i].get_text() == nbb_unformatted_code) {\n",
       "                             nbb_cells[i].set_text(nbb_formatted_code);\n",
       "                        }\n",
       "                        break;\n",
       "                    }\n",
       "                }\n",
       "            }, 500);\n",
       "            "
      ]
     },
     "metadata": {},
     "output_type": "display_data"
    }
   ],
   "source": [
    "count_process_type_clean = (\n",
    "    secop_int.groupBy(\"modalidad_de_contrataci_n\").count().toPandas()\n",
    ")\n",
    "count_process_type_clean[\"prop\"] = (\n",
    "    count_process_type_clean[\"count\"] / count_process_type_clean[\"count\"].sum()\n",
    ")\n",
    "count_process_type_clean.sort_values(\"prop\", ascending=False)"
   ]
  },
  {
   "cell_type": "code",
   "execution_count": 17,
   "id": "d2b2b02d",
   "metadata": {},
   "outputs": [
    {
     "data": {
      "text/html": [
       "<pre style=\"white-space:pre;overflow-x:auto;line-height:normal;font-family:Menlo,'DejaVu Sans Mono',consolas,'Courier New',monospace\"><span style=\"font-weight: bold\">&lt;</span><span style=\"color: #ff00ff; text-decoration-color: #ff00ff; font-weight: bold\">IPython.core.display.Javascript</span><span style=\"color: #000000; text-decoration-color: #000000\"> object</span><span style=\"font-weight: bold\">&gt;</span>\n",
       "</pre>\n"
      ],
      "text/plain": [
       "\u001b[1m<\u001b[0m\u001b[1;95mIPython.core.display.Javascript\u001b[0m\u001b[39m object\u001b[0m\u001b[1m>\u001b[0m\n"
      ]
     },
     "metadata": {},
     "output_type": "display_data"
    },
    {
     "data": {
      "application/javascript": [
       "\n",
       "            setTimeout(function() {\n",
       "                var nbb_cell_id = 17;\n",
       "                var nbb_unformatted_code = \"secop_int = secop_int.withColumn(\\\"tipo_de_contrato\\\", udf(remove_tildes)(F.lower(col(\\\"tipo_de_contrato\\\"))))\";\n",
       "                var nbb_formatted_code = \"secop_int = secop_int.withColumn(\\n    \\\"tipo_de_contrato\\\", udf(remove_tildes)(F.lower(col(\\\"tipo_de_contrato\\\")))\\n)\";\n",
       "                var nbb_cells = Jupyter.notebook.get_cells();\n",
       "                for (var i = 0; i < nbb_cells.length; ++i) {\n",
       "                    if (nbb_cells[i].input_prompt_number == nbb_cell_id) {\n",
       "                        if (nbb_cells[i].get_text() == nbb_unformatted_code) {\n",
       "                             nbb_cells[i].set_text(nbb_formatted_code);\n",
       "                        }\n",
       "                        break;\n",
       "                    }\n",
       "                }\n",
       "            }, 500);\n",
       "            "
      ]
     },
     "metadata": {},
     "output_type": "display_data"
    }
   ],
   "source": [
    "secop_int = secop_int.withColumn(\n",
    "    \"tipo_de_contrato\", udf(remove_tildes)(F.lower(col(\"tipo_de_contrato\")))\n",
    ")"
   ]
  },
  {
   "cell_type": "code",
   "execution_count": 18,
   "id": "bf540941",
   "metadata": {
    "scrolled": true
   },
   "outputs": [
    {
     "data": {
      "text/html": [
       "<pre style=\"white-space:pre;overflow-x:auto;line-height:normal;font-family:Menlo,'DejaVu Sans Mono',consolas,'Courier New',monospace\"><span style=\"color: #7fbfbf; text-decoration-color: #7fbfbf\">[08/10/22 15:58:52] </span><span style=\"color: #800000; text-decoration-color: #800000\">WARNING </span> <span style=\"color: #800080; text-decoration-color: #800080\">/opt/homebrew/Caskroom/miniforge/base/envs/dm_project/lib/python3.10/s</span> <a href=\"file:///opt/homebrew/Caskroom/miniforge/base/envs/dm_project/lib/python3.10/warnings.py\" target=\"_blank\"><span style=\"color: #7f7f7f; text-decoration-color: #7f7f7f\">warnings.py</span></a><span style=\"color: #7f7f7f; text-decoration-color: #7f7f7f\">:</span><a href=\"file:///opt/homebrew/Caskroom/miniforge/base/envs/dm_project/lib/python3.10/warnings.py#109\" target=\"_blank\"><span style=\"color: #7f7f7f; text-decoration-color: #7f7f7f\">109</span></a>\n",
       "<span style=\"color: #7fbfbf; text-decoration-color: #7fbfbf\">                    </span>         <span style=\"color: #800080; text-decoration-color: #800080\">ite-packages/pyspark/sql/pandas/</span><span style=\"color: #ff00ff; text-decoration-color: #ff00ff\">utils.py</span>:<span style=\"color: #008080; text-decoration-color: #008080; font-weight: bold\">35</span>: DeprecationWarning:       <span style=\"color: #7f7f7f; text-decoration-color: #7f7f7f\">               </span>\n",
       "<span style=\"color: #7fbfbf; text-decoration-color: #7fbfbf\">                    </span>         distutils Version classes are deprecated. Use packaging.version        <span style=\"color: #7f7f7f; text-decoration-color: #7f7f7f\">               </span>\n",
       "<span style=\"color: #7fbfbf; text-decoration-color: #7fbfbf\">                    </span>         instead.                                                               <span style=\"color: #7f7f7f; text-decoration-color: #7f7f7f\">               </span>\n",
       "<span style=\"color: #7fbfbf; text-decoration-color: #7fbfbf\">                    </span>           if <span style=\"color: #800080; text-decoration-color: #800080; font-weight: bold\">LooseVersion</span><span style=\"font-weight: bold\">(</span>pandas.__version__<span style=\"font-weight: bold\">)</span> &lt;                                <span style=\"color: #7f7f7f; text-decoration-color: #7f7f7f\">               </span>\n",
       "<span style=\"color: #7fbfbf; text-decoration-color: #7fbfbf\">                    </span>         <span style=\"color: #800080; text-decoration-color: #800080; font-weight: bold\">LooseVersion</span><span style=\"font-weight: bold\">(</span>minimum_pandas_version<span style=\"font-weight: bold\">)</span>:                                  <span style=\"color: #7f7f7f; text-decoration-color: #7f7f7f\">               </span>\n",
       "<span style=\"color: #7fbfbf; text-decoration-color: #7fbfbf\">                    </span>                                                                                <span style=\"color: #7f7f7f; text-decoration-color: #7f7f7f\">               </span>\n",
       "</pre>\n"
      ],
      "text/plain": [
       "\u001b[2;36m[08/10/22 15:58:52]\u001b[0m\u001b[2;36m \u001b[0m\u001b[31mWARNING \u001b[0m \u001b[35m/opt/homebrew/Caskroom/miniforge/base/envs/dm_project/lib/python3.10/s\u001b[0m \u001b]8;id=366084;file:///opt/homebrew/Caskroom/miniforge/base/envs/dm_project/lib/python3.10/warnings.py\u001b\\\u001b[2mwarnings.py\u001b[0m\u001b]8;;\u001b\\\u001b[2m:\u001b[0m\u001b]8;id=908621;file:///opt/homebrew/Caskroom/miniforge/base/envs/dm_project/lib/python3.10/warnings.py#109\u001b\\\u001b[2m109\u001b[0m\u001b]8;;\u001b\\\n",
       "\u001b[2;36m                    \u001b[0m         \u001b[35mite-packages/pyspark/sql/pandas/\u001b[0m\u001b[95mutils.py\u001b[0m:\u001b[1;36m35\u001b[0m: DeprecationWarning:       \u001b[2m               \u001b[0m\n",
       "\u001b[2;36m                    \u001b[0m         distutils Version classes are deprecated. Use packaging.version        \u001b[2m               \u001b[0m\n",
       "\u001b[2;36m                    \u001b[0m         instead.                                                               \u001b[2m               \u001b[0m\n",
       "\u001b[2;36m                    \u001b[0m           if \u001b[1;35mLooseVersion\u001b[0m\u001b[1m(\u001b[0mpandas.__version__\u001b[1m)\u001b[0m <                                \u001b[2m               \u001b[0m\n",
       "\u001b[2;36m                    \u001b[0m         \u001b[1;35mLooseVersion\u001b[0m\u001b[1m(\u001b[0mminimum_pandas_version\u001b[1m)\u001b[0m:                                  \u001b[2m               \u001b[0m\n",
       "\u001b[2;36m                    \u001b[0m                                                                                \u001b[2m               \u001b[0m\n"
      ]
     },
     "metadata": {},
     "output_type": "display_data"
    },
    {
     "name": "stderr",
     "output_type": "stream",
     "text": [
      "                                                                                \r"
     ]
    },
    {
     "data": {
      "text/html": [
       "<div>\n",
       "<style scoped>\n",
       "    .dataframe tbody tr th:only-of-type {\n",
       "        vertical-align: middle;\n",
       "    }\n",
       "\n",
       "    .dataframe tbody tr th {\n",
       "        vertical-align: top;\n",
       "    }\n",
       "\n",
       "    .dataframe thead th {\n",
       "        text-align: right;\n",
       "    }\n",
       "</style>\n",
       "<table border=\"1\" class=\"dataframe\">\n",
       "  <thead>\n",
       "    <tr style=\"text-align: right;\">\n",
       "      <th></th>\n",
       "      <th>tipo_de_contrato</th>\n",
       "      <th>count</th>\n",
       "      <th>prop</th>\n",
       "    </tr>\n",
       "  </thead>\n",
       "  <tbody>\n",
       "    <tr>\n",
       "      <th>3</th>\n",
       "      <td>prestacion de servicios</td>\n",
       "      <td>535714</td>\n",
       "      <td>0.697887</td>\n",
       "    </tr>\n",
       "    <tr>\n",
       "      <th>0</th>\n",
       "      <td>suministro</td>\n",
       "      <td>97743</td>\n",
       "      <td>0.127332</td>\n",
       "    </tr>\n",
       "    <tr>\n",
       "      <th>13</th>\n",
       "      <td>obra</td>\n",
       "      <td>47713</td>\n",
       "      <td>0.062157</td>\n",
       "    </tr>\n",
       "    <tr>\n",
       "      <th>2</th>\n",
       "      <td>compraventa</td>\n",
       "      <td>33059</td>\n",
       "      <td>0.043067</td>\n",
       "    </tr>\n",
       "    <tr>\n",
       "      <th>11</th>\n",
       "      <td>otro tipo de contrato</td>\n",
       "      <td>25946</td>\n",
       "      <td>0.033800</td>\n",
       "    </tr>\n",
       "    <tr>\n",
       "      <th>15</th>\n",
       "      <td>consultoria</td>\n",
       "      <td>9446</td>\n",
       "      <td>0.012306</td>\n",
       "    </tr>\n",
       "    <tr>\n",
       "      <th>18</th>\n",
       "      <td>interventoria</td>\n",
       "      <td>6574</td>\n",
       "      <td>0.008564</td>\n",
       "    </tr>\n",
       "    <tr>\n",
       "      <th>8</th>\n",
       "      <td>arrendamiento</td>\n",
       "      <td>5891</td>\n",
       "      <td>0.007674</td>\n",
       "    </tr>\n",
       "    <tr>\n",
       "      <th>9</th>\n",
       "      <td>otro</td>\n",
       "      <td>1359</td>\n",
       "      <td>0.001770</td>\n",
       "    </tr>\n",
       "    <tr>\n",
       "      <th>17</th>\n",
       "      <td>decreelaw092/2017</td>\n",
       "      <td>1357</td>\n",
       "      <td>0.001768</td>\n",
       "    </tr>\n",
       "    <tr>\n",
       "      <th>6</th>\n",
       "      <td>comodato</td>\n",
       "      <td>752</td>\n",
       "      <td>0.000980</td>\n",
       "    </tr>\n",
       "    <tr>\n",
       "      <th>12</th>\n",
       "      <td>suministros</td>\n",
       "      <td>654</td>\n",
       "      <td>0.000852</td>\n",
       "    </tr>\n",
       "    <tr>\n",
       "      <th>4</th>\n",
       "      <td>concesion</td>\n",
       "      <td>311</td>\n",
       "      <td>0.000405</td>\n",
       "    </tr>\n",
       "    <tr>\n",
       "      <th>7</th>\n",
       "      <td>no definido</td>\n",
       "      <td>307</td>\n",
       "      <td>0.000400</td>\n",
       "    </tr>\n",
       "    <tr>\n",
       "      <th>10</th>\n",
       "      <td>credito</td>\n",
       "      <td>267</td>\n",
       "      <td>0.000348</td>\n",
       "    </tr>\n",
       "    <tr>\n",
       "      <th>5</th>\n",
       "      <td>arrendamiento de inmuebles</td>\n",
       "      <td>140</td>\n",
       "      <td>0.000182</td>\n",
       "    </tr>\n",
       "    <tr>\n",
       "      <th>14</th>\n",
       "      <td>fiducia</td>\n",
       "      <td>119</td>\n",
       "      <td>0.000155</td>\n",
       "    </tr>\n",
       "    <tr>\n",
       "      <th>20</th>\n",
       "      <td>acuerdo marco</td>\n",
       "      <td>117</td>\n",
       "      <td>0.000152</td>\n",
       "    </tr>\n",
       "    <tr>\n",
       "      <th>19</th>\n",
       "      <td>seguros</td>\n",
       "      <td>83</td>\n",
       "      <td>0.000108</td>\n",
       "    </tr>\n",
       "    <tr>\n",
       "      <th>16</th>\n",
       "      <td>arrendamiento de muebles</td>\n",
       "      <td>30</td>\n",
       "      <td>0.000039</td>\n",
       "    </tr>\n",
       "    <tr>\n",
       "      <th>21</th>\n",
       "      <td>agregacion de demanda</td>\n",
       "      <td>12</td>\n",
       "      <td>0.000016</td>\n",
       "    </tr>\n",
       "    <tr>\n",
       "      <th>24</th>\n",
       "      <td>no especificado</td>\n",
       "      <td>12</td>\n",
       "      <td>0.000016</td>\n",
       "    </tr>\n",
       "    <tr>\n",
       "      <th>22</th>\n",
       "      <td>emprestito</td>\n",
       "      <td>7</td>\n",
       "      <td>0.000009</td>\n",
       "    </tr>\n",
       "    <tr>\n",
       "      <th>23</th>\n",
       "      <td>asociacion publico privada</td>\n",
       "      <td>6</td>\n",
       "      <td>0.000008</td>\n",
       "    </tr>\n",
       "    <tr>\n",
       "      <th>1</th>\n",
       "      <td>servicios financieros</td>\n",
       "      <td>3</td>\n",
       "      <td>0.000004</td>\n",
       "    </tr>\n",
       "    <tr>\n",
       "      <th>25</th>\n",
       "      <td>venta muebles</td>\n",
       "      <td>1</td>\n",
       "      <td>0.000001</td>\n",
       "    </tr>\n",
       "  </tbody>\n",
       "</table>\n",
       "</div>"
      ]
     },
     "execution_count": 18,
     "metadata": {},
     "output_type": "execute_result"
    },
    {
     "data": {
      "text/html": [
       "<pre style=\"white-space:pre;overflow-x:auto;line-height:normal;font-family:Menlo,'DejaVu Sans Mono',consolas,'Courier New',monospace\"><span style=\"font-weight: bold\">&lt;</span><span style=\"color: #ff00ff; text-decoration-color: #ff00ff; font-weight: bold\">IPython.core.display.Javascript</span><span style=\"color: #000000; text-decoration-color: #000000\"> object</span><span style=\"font-weight: bold\">&gt;</span>\n",
       "</pre>\n"
      ],
      "text/plain": [
       "\u001b[1m<\u001b[0m\u001b[1;95mIPython.core.display.Javascript\u001b[0m\u001b[39m object\u001b[0m\u001b[1m>\u001b[0m\n"
      ]
     },
     "metadata": {},
     "output_type": "display_data"
    },
    {
     "data": {
      "application/javascript": [
       "\n",
       "            setTimeout(function() {\n",
       "                var nbb_cell_id = 18;\n",
       "                var nbb_unformatted_code = \"count_process_type_cont = secop_int.groupBy(\\\"tipo_de_contrato\\\").count().toPandas()\\ncount_process_type_cont[\\\"prop\\\"] = (\\n    count_process_type_cont[\\\"count\\\"] / count_process_type_cont[\\\"count\\\"].sum()\\n)\\ncount_process_type_cont.sort_values(\\\"prop\\\", ascending=False)\";\n",
       "                var nbb_formatted_code = \"count_process_type_cont = secop_int.groupBy(\\\"tipo_de_contrato\\\").count().toPandas()\\ncount_process_type_cont[\\\"prop\\\"] = (\\n    count_process_type_cont[\\\"count\\\"] / count_process_type_cont[\\\"count\\\"].sum()\\n)\\ncount_process_type_cont.sort_values(\\\"prop\\\", ascending=False)\";\n",
       "                var nbb_cells = Jupyter.notebook.get_cells();\n",
       "                for (var i = 0; i < nbb_cells.length; ++i) {\n",
       "                    if (nbb_cells[i].input_prompt_number == nbb_cell_id) {\n",
       "                        if (nbb_cells[i].get_text() == nbb_unformatted_code) {\n",
       "                             nbb_cells[i].set_text(nbb_formatted_code);\n",
       "                        }\n",
       "                        break;\n",
       "                    }\n",
       "                }\n",
       "            }, 500);\n",
       "            "
      ]
     },
     "metadata": {},
     "output_type": "display_data"
    }
   ],
   "source": [
    "count_process_type_cont = secop_int.groupBy(\"tipo_de_contrato\").count().toPandas()\n",
    "count_process_type_cont[\"prop\"] = (\n",
    "    count_process_type_cont[\"count\"] / count_process_type_cont[\"count\"].sum()\n",
    ")\n",
    "count_process_type_cont.sort_values(\"prop\", ascending=False)"
   ]
  },
  {
   "cell_type": "code",
   "execution_count": 22,
   "id": "8342818e",
   "metadata": {},
   "outputs": [
    {
     "data": {
      "text/html": [
       "<pre style=\"white-space:pre;overflow-x:auto;line-height:normal;font-family:Menlo,'DejaVu Sans Mono',consolas,'Courier New',monospace\"><span style=\"font-weight: bold\">&lt;</span><span style=\"color: #ff00ff; text-decoration-color: #ff00ff; font-weight: bold\">IPython.core.display.Javascript</span><span style=\"color: #000000; text-decoration-color: #000000\"> object</span><span style=\"font-weight: bold\">&gt;</span>\n",
       "</pre>\n"
      ],
      "text/plain": [
       "\u001b[1m<\u001b[0m\u001b[1;95mIPython.core.display.Javascript\u001b[0m\u001b[39m object\u001b[0m\u001b[1m>\u001b[0m\n"
      ]
     },
     "metadata": {},
     "output_type": "display_data"
    },
    {
     "data": {
      "application/javascript": [
       "\n",
       "            setTimeout(function() {\n",
       "                var nbb_cell_id = 22;\n",
       "                var nbb_unformatted_code = \"def clean_tipo_contrato(tip: str):\\n    \\\"\\\"\\\"Clean and group tipo de contrato\\\"\\\"\\\"\\n    if (\\\"suministro\\\" in tip) or (tip in [\\\"compraventa\\\", \\\"venta muebles\\\"]):\\n        return \\\"suministro\\\"\\n    elif (\\\"arrendamiento\\\" in tip) or (\\\"comodato\\\" in tip):\\n        return \\\"arrendamiento\\\"\\n    elif tip in [\\n        \\\"servicios financieros\\\",\\n        \\\"credito\\\",\\n        \\\"fiducia\\\",\\n        \\\"seguros\\\",\\n        \\\"emprestito\\\",\\n    ]:\\n        return \\\"servicios financieros\\\"\\n    elif tip in [\\\"obra\\\", \\\"consultoria\\\", \\\"prestacion de servicios\\\"]:\\n        return tip\\n    else:\\n        return \\\"Otro\\\"\";\n",
       "                var nbb_formatted_code = \"def clean_tipo_contrato(tip: str):\\n    \\\"\\\"\\\"Clean and group tipo de contrato\\\"\\\"\\\"\\n    if (\\\"suministro\\\" in tip) or (tip in [\\\"compraventa\\\", \\\"venta muebles\\\"]):\\n        return \\\"suministro\\\"\\n    elif (\\\"arrendamiento\\\" in tip) or (\\\"comodato\\\" in tip):\\n        return \\\"arrendamiento\\\"\\n    elif tip in [\\n        \\\"servicios financieros\\\",\\n        \\\"credito\\\",\\n        \\\"fiducia\\\",\\n        \\\"seguros\\\",\\n        \\\"emprestito\\\",\\n    ]:\\n        return \\\"servicios financieros\\\"\\n    elif tip in [\\\"obra\\\", \\\"consultoria\\\", \\\"prestacion de servicios\\\"]:\\n        return tip\\n    else:\\n        return \\\"Otro\\\"\";\n",
       "                var nbb_cells = Jupyter.notebook.get_cells();\n",
       "                for (var i = 0; i < nbb_cells.length; ++i) {\n",
       "                    if (nbb_cells[i].input_prompt_number == nbb_cell_id) {\n",
       "                        if (nbb_cells[i].get_text() == nbb_unformatted_code) {\n",
       "                             nbb_cells[i].set_text(nbb_formatted_code);\n",
       "                        }\n",
       "                        break;\n",
       "                    }\n",
       "                }\n",
       "            }, 500);\n",
       "            "
      ]
     },
     "metadata": {},
     "output_type": "display_data"
    }
   ],
   "source": [
    "def clean_tipo_contrato(tip: str):\n",
    "    \"\"\"Clean and group tipo de contrato\"\"\"\n",
    "    if (\"suministro\" in tip) or (tip in [\"compraventa\", \"venta muebles\"]):\n",
    "        return \"suministro\"\n",
    "    elif (\"arrendamiento\" in tip) or (\"comodato\" in tip):\n",
    "        return \"arrendamiento\"\n",
    "    elif tip in [\n",
    "        \"servicios financieros\",\n",
    "        \"credito\",\n",
    "        \"fiducia\",\n",
    "        \"seguros\",\n",
    "        \"emprestito\",\n",
    "    ]:\n",
    "        return \"servicios financieros\"\n",
    "    elif tip in [\"obra\", \"consultoria\", \"prestacion de servicios\",'interventoria','concesion']:\n",
    "        return tip\n",
    "    else:\n",
    "        return \"Otro\""
   ]
  },
  {
   "cell_type": "code",
   "execution_count": 23,
   "id": "53b0099d",
   "metadata": {},
   "outputs": [
    {
     "data": {
      "text/html": [
       "<pre style=\"white-space:pre;overflow-x:auto;line-height:normal;font-family:Menlo,'DejaVu Sans Mono',consolas,'Courier New',monospace\"><span style=\"font-weight: bold\">&lt;</span><span style=\"color: #ff00ff; text-decoration-color: #ff00ff; font-weight: bold\">IPython.core.display.Javascript</span><span style=\"color: #000000; text-decoration-color: #000000\"> object</span><span style=\"font-weight: bold\">&gt;</span>\n",
       "</pre>\n"
      ],
      "text/plain": [
       "\u001b[1m<\u001b[0m\u001b[1;95mIPython.core.display.Javascript\u001b[0m\u001b[39m object\u001b[0m\u001b[1m>\u001b[0m\n"
      ]
     },
     "metadata": {},
     "output_type": "display_data"
    },
    {
     "data": {
      "application/javascript": [
       "\n",
       "            setTimeout(function() {\n",
       "                var nbb_cell_id = 23;\n",
       "                var nbb_unformatted_code = \"count_process_type_cont[\\\"tipo_de_contrato_clean\\\"] = count_process_type_cont[\\n    \\\"tipo_de_contrato\\\"\\n].apply(clean_tipo_contrato)\";\n",
       "                var nbb_formatted_code = \"count_process_type_cont[\\\"tipo_de_contrato_clean\\\"] = count_process_type_cont[\\n    \\\"tipo_de_contrato\\\"\\n].apply(clean_tipo_contrato)\";\n",
       "                var nbb_cells = Jupyter.notebook.get_cells();\n",
       "                for (var i = 0; i < nbb_cells.length; ++i) {\n",
       "                    if (nbb_cells[i].input_prompt_number == nbb_cell_id) {\n",
       "                        if (nbb_cells[i].get_text() == nbb_unformatted_code) {\n",
       "                             nbb_cells[i].set_text(nbb_formatted_code);\n",
       "                        }\n",
       "                        break;\n",
       "                    }\n",
       "                }\n",
       "            }, 500);\n",
       "            "
      ]
     },
     "metadata": {},
     "output_type": "display_data"
    }
   ],
   "source": [
    "count_process_type_cont[\"tipo_de_contrato_clean\"] = count_process_type_cont[\n",
    "    \"tipo_de_contrato\"\n",
    "].apply(clean_tipo_contrato)"
   ]
  },
  {
   "cell_type": "code",
   "execution_count": 24,
   "id": "06112543",
   "metadata": {},
   "outputs": [
    {
     "data": {
      "text/html": [
       "<div>\n",
       "<style scoped>\n",
       "    .dataframe tbody tr th:only-of-type {\n",
       "        vertical-align: middle;\n",
       "    }\n",
       "\n",
       "    .dataframe tbody tr th {\n",
       "        vertical-align: top;\n",
       "    }\n",
       "\n",
       "    .dataframe thead th {\n",
       "        text-align: right;\n",
       "    }\n",
       "</style>\n",
       "<table border=\"1\" class=\"dataframe\">\n",
       "  <thead>\n",
       "    <tr style=\"text-align: right;\">\n",
       "      <th></th>\n",
       "      <th>tipo_de_contrato</th>\n",
       "      <th>count</th>\n",
       "      <th>prop</th>\n",
       "      <th>tipo_de_contrato_clean</th>\n",
       "    </tr>\n",
       "  </thead>\n",
       "  <tbody>\n",
       "    <tr>\n",
       "      <th>0</th>\n",
       "      <td>suministro</td>\n",
       "      <td>97743</td>\n",
       "      <td>0.127332</td>\n",
       "      <td>suministro</td>\n",
       "    </tr>\n",
       "    <tr>\n",
       "      <th>1</th>\n",
       "      <td>servicios financieros</td>\n",
       "      <td>3</td>\n",
       "      <td>0.000004</td>\n",
       "      <td>servicios financieros</td>\n",
       "    </tr>\n",
       "    <tr>\n",
       "      <th>2</th>\n",
       "      <td>compraventa</td>\n",
       "      <td>33059</td>\n",
       "      <td>0.043067</td>\n",
       "      <td>suministro</td>\n",
       "    </tr>\n",
       "    <tr>\n",
       "      <th>3</th>\n",
       "      <td>prestacion de servicios</td>\n",
       "      <td>535714</td>\n",
       "      <td>0.697887</td>\n",
       "      <td>prestacion de servicios</td>\n",
       "    </tr>\n",
       "    <tr>\n",
       "      <th>4</th>\n",
       "      <td>concesion</td>\n",
       "      <td>311</td>\n",
       "      <td>0.000405</td>\n",
       "      <td>Otro</td>\n",
       "    </tr>\n",
       "    <tr>\n",
       "      <th>5</th>\n",
       "      <td>arrendamiento de inmuebles</td>\n",
       "      <td>140</td>\n",
       "      <td>0.000182</td>\n",
       "      <td>arrendamiento</td>\n",
       "    </tr>\n",
       "    <tr>\n",
       "      <th>6</th>\n",
       "      <td>comodato</td>\n",
       "      <td>752</td>\n",
       "      <td>0.000980</td>\n",
       "      <td>arrendamiento</td>\n",
       "    </tr>\n",
       "    <tr>\n",
       "      <th>7</th>\n",
       "      <td>no definido</td>\n",
       "      <td>307</td>\n",
       "      <td>0.000400</td>\n",
       "      <td>Otro</td>\n",
       "    </tr>\n",
       "    <tr>\n",
       "      <th>8</th>\n",
       "      <td>arrendamiento</td>\n",
       "      <td>5891</td>\n",
       "      <td>0.007674</td>\n",
       "      <td>arrendamiento</td>\n",
       "    </tr>\n",
       "    <tr>\n",
       "      <th>9</th>\n",
       "      <td>otro</td>\n",
       "      <td>1359</td>\n",
       "      <td>0.001770</td>\n",
       "      <td>Otro</td>\n",
       "    </tr>\n",
       "    <tr>\n",
       "      <th>10</th>\n",
       "      <td>credito</td>\n",
       "      <td>267</td>\n",
       "      <td>0.000348</td>\n",
       "      <td>servicios financieros</td>\n",
       "    </tr>\n",
       "    <tr>\n",
       "      <th>11</th>\n",
       "      <td>otro tipo de contrato</td>\n",
       "      <td>25946</td>\n",
       "      <td>0.033800</td>\n",
       "      <td>Otro</td>\n",
       "    </tr>\n",
       "    <tr>\n",
       "      <th>12</th>\n",
       "      <td>suministros</td>\n",
       "      <td>654</td>\n",
       "      <td>0.000852</td>\n",
       "      <td>suministro</td>\n",
       "    </tr>\n",
       "    <tr>\n",
       "      <th>13</th>\n",
       "      <td>obra</td>\n",
       "      <td>47713</td>\n",
       "      <td>0.062157</td>\n",
       "      <td>obra</td>\n",
       "    </tr>\n",
       "    <tr>\n",
       "      <th>14</th>\n",
       "      <td>fiducia</td>\n",
       "      <td>119</td>\n",
       "      <td>0.000155</td>\n",
       "      <td>servicios financieros</td>\n",
       "    </tr>\n",
       "    <tr>\n",
       "      <th>15</th>\n",
       "      <td>consultoria</td>\n",
       "      <td>9446</td>\n",
       "      <td>0.012306</td>\n",
       "      <td>consultoria</td>\n",
       "    </tr>\n",
       "    <tr>\n",
       "      <th>16</th>\n",
       "      <td>arrendamiento de muebles</td>\n",
       "      <td>30</td>\n",
       "      <td>0.000039</td>\n",
       "      <td>arrendamiento</td>\n",
       "    </tr>\n",
       "    <tr>\n",
       "      <th>17</th>\n",
       "      <td>decreelaw092/2017</td>\n",
       "      <td>1357</td>\n",
       "      <td>0.001768</td>\n",
       "      <td>Otro</td>\n",
       "    </tr>\n",
       "    <tr>\n",
       "      <th>18</th>\n",
       "      <td>interventoria</td>\n",
       "      <td>6574</td>\n",
       "      <td>0.008564</td>\n",
       "      <td>Otro</td>\n",
       "    </tr>\n",
       "    <tr>\n",
       "      <th>19</th>\n",
       "      <td>seguros</td>\n",
       "      <td>83</td>\n",
       "      <td>0.000108</td>\n",
       "      <td>servicios financieros</td>\n",
       "    </tr>\n",
       "    <tr>\n",
       "      <th>20</th>\n",
       "      <td>acuerdo marco</td>\n",
       "      <td>117</td>\n",
       "      <td>0.000152</td>\n",
       "      <td>Otro</td>\n",
       "    </tr>\n",
       "    <tr>\n",
       "      <th>21</th>\n",
       "      <td>agregacion de demanda</td>\n",
       "      <td>12</td>\n",
       "      <td>0.000016</td>\n",
       "      <td>Otro</td>\n",
       "    </tr>\n",
       "    <tr>\n",
       "      <th>22</th>\n",
       "      <td>emprestito</td>\n",
       "      <td>7</td>\n",
       "      <td>0.000009</td>\n",
       "      <td>servicios financieros</td>\n",
       "    </tr>\n",
       "    <tr>\n",
       "      <th>23</th>\n",
       "      <td>asociacion publico privada</td>\n",
       "      <td>6</td>\n",
       "      <td>0.000008</td>\n",
       "      <td>Otro</td>\n",
       "    </tr>\n",
       "    <tr>\n",
       "      <th>24</th>\n",
       "      <td>no especificado</td>\n",
       "      <td>12</td>\n",
       "      <td>0.000016</td>\n",
       "      <td>Otro</td>\n",
       "    </tr>\n",
       "    <tr>\n",
       "      <th>25</th>\n",
       "      <td>venta muebles</td>\n",
       "      <td>1</td>\n",
       "      <td>0.000001</td>\n",
       "      <td>suministro</td>\n",
       "    </tr>\n",
       "  </tbody>\n",
       "</table>\n",
       "</div>"
      ]
     },
     "execution_count": 24,
     "metadata": {},
     "output_type": "execute_result"
    },
    {
     "data": {
      "text/html": [
       "<pre style=\"white-space:pre;overflow-x:auto;line-height:normal;font-family:Menlo,'DejaVu Sans Mono',consolas,'Courier New',monospace\"><span style=\"font-weight: bold\">&lt;</span><span style=\"color: #ff00ff; text-decoration-color: #ff00ff; font-weight: bold\">IPython.core.display.Javascript</span><span style=\"color: #000000; text-decoration-color: #000000\"> object</span><span style=\"font-weight: bold\">&gt;</span>\n",
       "</pre>\n"
      ],
      "text/plain": [
       "\u001b[1m<\u001b[0m\u001b[1;95mIPython.core.display.Javascript\u001b[0m\u001b[39m object\u001b[0m\u001b[1m>\u001b[0m\n"
      ]
     },
     "metadata": {},
     "output_type": "display_data"
    },
    {
     "data": {
      "application/javascript": [
       "\n",
       "            setTimeout(function() {\n",
       "                var nbb_cell_id = 24;\n",
       "                var nbb_unformatted_code = \"count_process_type_cont\";\n",
       "                var nbb_formatted_code = \"count_process_type_cont\";\n",
       "                var nbb_cells = Jupyter.notebook.get_cells();\n",
       "                for (var i = 0; i < nbb_cells.length; ++i) {\n",
       "                    if (nbb_cells[i].input_prompt_number == nbb_cell_id) {\n",
       "                        if (nbb_cells[i].get_text() == nbb_unformatted_code) {\n",
       "                             nbb_cells[i].set_text(nbb_formatted_code);\n",
       "                        }\n",
       "                        break;\n",
       "                    }\n",
       "                }\n",
       "            }, 500);\n",
       "            "
      ]
     },
     "metadata": {},
     "output_type": "display_data"
    }
   ],
   "source": [
    "count_process_type_cont"
   ]
  },
  {
   "cell_type": "code",
   "execution_count": 18,
   "id": "268cb3a8",
   "metadata": {},
   "outputs": [
    {
     "data": {
      "text/html": [
       "<pre style=\"white-space:pre;overflow-x:auto;line-height:normal;font-family:Menlo,'DejaVu Sans Mono',consolas,'Courier New',monospace\">\n",
       "<span style=\"color: #800080; text-decoration-color: #800080; font-weight: bold\">array</span><span style=\"font-weight: bold\">([</span><span style=\"color: #008000; text-decoration-color: #008000\">'suministro'</span>, <span style=\"color: #008000; text-decoration-color: #008000\">'prestación de servicios'</span>, <span style=\"color: #008000; text-decoration-color: #008000\">'servicios financieros'</span>,\n",
       "       <span style=\"color: #008000; text-decoration-color: #008000\">'consultoría'</span>, <span style=\"color: #008000; text-decoration-color: #008000\">'compraventa'</span>, <span style=\"color: #008000; text-decoration-color: #008000\">'arrendamiento de inmuebles'</span>,\n",
       "       <span style=\"color: #008000; text-decoration-color: #008000\">'comodato'</span>, <span style=\"color: #008000; text-decoration-color: #008000\">'no definido'</span>, <span style=\"color: #008000; text-decoration-color: #008000\">'arrendamiento'</span>, <span style=\"color: #008000; text-decoration-color: #008000\">'concesión'</span>, <span style=\"color: #008000; text-decoration-color: #008000\">'otro'</span>,\n",
       "       <span style=\"color: #008000; text-decoration-color: #008000\">'crédito'</span>, <span style=\"color: #008000; text-decoration-color: #008000\">'otro tipo de contrato'</span>, <span style=\"color: #008000; text-decoration-color: #008000\">'suministros'</span>, <span style=\"color: #008000; text-decoration-color: #008000\">'interventoría'</span>,\n",
       "       <span style=\"color: #008000; text-decoration-color: #008000\">'obra'</span>, <span style=\"color: #008000; text-decoration-color: #008000\">'fiducia'</span>, <span style=\"color: #008000; text-decoration-color: #008000\">'arrendamiento de muebles'</span>, <span style=\"color: #008000; text-decoration-color: #008000\">'decreelaw092/2017'</span>,\n",
       "       <span style=\"color: #008000; text-decoration-color: #008000\">'seguros'</span>, <span style=\"color: #008000; text-decoration-color: #008000\">'acuerdo marco'</span>, <span style=\"color: #008000; text-decoration-color: #008000\">'agregación de demanda'</span>, <span style=\"color: #008000; text-decoration-color: #008000\">'emprestito'</span>,\n",
       "       <span style=\"color: #008000; text-decoration-color: #008000\">'asociación público privada'</span>, <span style=\"color: #008000; text-decoration-color: #008000\">'no especificado'</span>, <span style=\"color: #008000; text-decoration-color: #008000\">'venta muebles'</span><span style=\"font-weight: bold\">]</span>,\n",
       "      <span style=\"color: #808000; text-decoration-color: #808000\">dtype</span>=<span style=\"color: #800080; text-decoration-color: #800080\">object</span><span style=\"font-weight: bold\">)</span>\n",
       "</pre>\n"
      ],
      "text/plain": [
       "\n",
       "\u001b[1;35marray\u001b[0m\u001b[1m(\u001b[0m\u001b[1m[\u001b[0m\u001b[32m'suministro'\u001b[0m, \u001b[32m'prestación de servicios'\u001b[0m, \u001b[32m'servicios financieros'\u001b[0m,\n",
       "       \u001b[32m'consultoría'\u001b[0m, \u001b[32m'compraventa'\u001b[0m, \u001b[32m'arrendamiento de inmuebles'\u001b[0m,\n",
       "       \u001b[32m'comodato'\u001b[0m, \u001b[32m'no definido'\u001b[0m, \u001b[32m'arrendamiento'\u001b[0m, \u001b[32m'concesión'\u001b[0m, \u001b[32m'otro'\u001b[0m,\n",
       "       \u001b[32m'crédito'\u001b[0m, \u001b[32m'otro tipo de contrato'\u001b[0m, \u001b[32m'suministros'\u001b[0m, \u001b[32m'interventoría'\u001b[0m,\n",
       "       \u001b[32m'obra'\u001b[0m, \u001b[32m'fiducia'\u001b[0m, \u001b[32m'arrendamiento de muebles'\u001b[0m, \u001b[32m'decreelaw092/2017'\u001b[0m,\n",
       "       \u001b[32m'seguros'\u001b[0m, \u001b[32m'acuerdo marco'\u001b[0m, \u001b[32m'agregación de demanda'\u001b[0m, \u001b[32m'emprestito'\u001b[0m,\n",
       "       \u001b[32m'asociación público privada'\u001b[0m, \u001b[32m'no especificado'\u001b[0m, \u001b[32m'venta muebles'\u001b[0m\u001b[1m]\u001b[0m,\n",
       "      \u001b[33mdtype\u001b[0m=\u001b[35mobject\u001b[0m\u001b[1m)\u001b[0m\n"
      ]
     },
     "metadata": {},
     "output_type": "display_data"
    },
    {
     "data": {
      "text/html": [
       "<pre style=\"white-space:pre;overflow-x:auto;line-height:normal;font-family:Menlo,'DejaVu Sans Mono',consolas,'Courier New',monospace\"><span style=\"font-weight: bold\">&lt;</span><span style=\"color: #ff00ff; text-decoration-color: #ff00ff; font-weight: bold\">IPython.core.display.Javascript</span><span style=\"color: #000000; text-decoration-color: #000000\"> object</span><span style=\"font-weight: bold\">&gt;</span>\n",
       "</pre>\n"
      ],
      "text/plain": [
       "\u001b[1m<\u001b[0m\u001b[1;95mIPython.core.display.Javascript\u001b[0m\u001b[39m object\u001b[0m\u001b[1m>\u001b[0m\n"
      ]
     },
     "metadata": {},
     "output_type": "display_data"
    },
    {
     "data": {
      "application/javascript": [
       "\n",
       "            setTimeout(function() {\n",
       "                var nbb_cell_id = 18;\n",
       "                var nbb_unformatted_code = \"count_process_type_cont['tipo_de_contrato'].unique()\";\n",
       "                var nbb_formatted_code = \"count_process_type_cont[\\\"tipo_de_contrato\\\"].unique()\";\n",
       "                var nbb_cells = Jupyter.notebook.get_cells();\n",
       "                for (var i = 0; i < nbb_cells.length; ++i) {\n",
       "                    if (nbb_cells[i].input_prompt_number == nbb_cell_id) {\n",
       "                        if (nbb_cells[i].get_text() == nbb_unformatted_code) {\n",
       "                             nbb_cells[i].set_text(nbb_formatted_code);\n",
       "                        }\n",
       "                        break;\n",
       "                    }\n",
       "                }\n",
       "            }, 500);\n",
       "            "
      ]
     },
     "metadata": {},
     "output_type": "display_data"
    }
   ],
   "source": [
    "count_process_type_cont[\"tipo_de_contrato\"].unique()"
   ]
  },
  {
   "cell_type": "code",
   "execution_count": null,
   "id": "489f46f6",
   "metadata": {},
   "outputs": [],
   "source": []
  },
  {
   "cell_type": "code",
   "execution_count": null,
   "id": "cfe49ac7",
   "metadata": {},
   "outputs": [],
   "source": []
  },
  {
   "cell_type": "code",
   "execution_count": null,
   "id": "b5b08a5b",
   "metadata": {},
   "outputs": [],
   "source": []
  },
  {
   "cell_type": "code",
   "execution_count": null,
   "id": "fae138f4",
   "metadata": {},
   "outputs": [],
   "source": []
  },
  {
   "cell_type": "code",
   "execution_count": null,
   "id": "5dfd74ab",
   "metadata": {},
   "outputs": [],
   "source": []
  },
  {
   "cell_type": "code",
   "execution_count": null,
   "id": "320cac0c",
   "metadata": {},
   "outputs": [],
   "source": []
  },
  {
   "cell_type": "markdown",
   "id": "4ae0c142",
   "metadata": {},
   "source": [
    "<a href=\"https://www.funcionpublica.gov.co/eva/gestornormativo/norma.php?i=304\">Ley 80</a>"
   ]
  }
 ],
 "metadata": {
  "kernelspec": {
   "display_name": "Kedro (secop)",
   "language": "python",
   "name": "kedro_secop"
  },
  "language_info": {
   "codemirror_mode": {
    "name": "ipython",
    "version": 3
   },
   "file_extension": ".py",
   "mimetype": "text/x-python",
   "name": "python",
   "nbconvert_exporter": "python",
   "pygments_lexer": "ipython3",
   "version": "3.10.5"
  }
 },
 "nbformat": 4,
 "nbformat_minor": 5
}
