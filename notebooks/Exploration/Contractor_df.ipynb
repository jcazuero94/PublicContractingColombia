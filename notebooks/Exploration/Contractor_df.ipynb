{
 "cells": [
  {
   "cell_type": "code",
   "execution_count": 1,
   "id": "44129ae0",
   "metadata": {},
   "outputs": [],
   "source": [
    "import pandas as pd\n",
    "import numpy as np\n",
    "import matplotlib.pyplot as plt\n",
    "from sklearn.feature_extraction.text import TfidfVectorizer\n",
    "from sklearn.preprocessing import StandardScaler\n",
    "from sklearn.cluster import DBSCAN\n",
    "from sklearn.decomposition import PCA\n",
    "import datetime"
   ]
  },
  {
   "cell_type": "code",
   "execution_count": 2,
   "id": "ae0e1322",
   "metadata": {},
   "outputs": [
    {
     "data": {
      "text/html": [
       "<pre style=\"white-space:pre;overflow-x:auto;line-height:normal;font-family:Menlo,'DejaVu Sans Mono',consolas,'Courier New',monospace\"><span style=\"font-weight: bold\">&lt;</span><span style=\"color: #ff00ff; text-decoration-color: #ff00ff; font-weight: bold\">IPython.core.display.Javascript</span><span style=\"color: #000000; text-decoration-color: #000000\"> object</span><span style=\"font-weight: bold\">&gt;</span>\n",
       "</pre>\n"
      ],
      "text/plain": [
       "\u001b[1m<\u001b[0m\u001b[1;95mIPython.core.display.Javascript\u001b[0m\u001b[39m object\u001b[0m\u001b[1m>\u001b[0m\n"
      ]
     },
     "metadata": {},
     "output_type": "display_data"
    },
    {
     "data": {
      "application/javascript": [
       "\n",
       "            setTimeout(function() {\n",
       "                var nbb_cell_id = 2;\n",
       "                var nbb_unformatted_code = \"%load_ext nb_black\\n%matplotlib inline\";\n",
       "                var nbb_formatted_code = \"%load_ext nb_black\\n%matplotlib inline\";\n",
       "                var nbb_cells = Jupyter.notebook.get_cells();\n",
       "                for (var i = 0; i < nbb_cells.length; ++i) {\n",
       "                    if (nbb_cells[i].input_prompt_number == nbb_cell_id) {\n",
       "                        if (nbb_cells[i].get_text() == nbb_unformatted_code) {\n",
       "                             nbb_cells[i].set_text(nbb_formatted_code);\n",
       "                        }\n",
       "                        break;\n",
       "                    }\n",
       "                }\n",
       "            }, 500);\n",
       "            "
      ]
     },
     "metadata": {},
     "output_type": "display_data"
    }
   ],
   "source": [
    "%load_ext nb_black\n",
    "%matplotlib inline"
   ]
  },
  {
   "cell_type": "code",
   "execution_count": 126,
   "id": "cdb0f099",
   "metadata": {},
   "outputs": [
    {
     "data": {
      "text/html": [
       "<pre style=\"white-space:pre;overflow-x:auto;line-height:normal;font-family:Menlo,'DejaVu Sans Mono',consolas,'Courier New',monospace\"><span style=\"font-weight: bold\">&lt;</span><span style=\"color: #ff00ff; text-decoration-color: #ff00ff; font-weight: bold\">IPython.core.display.Javascript</span><span style=\"color: #000000; text-decoration-color: #000000\"> object</span><span style=\"font-weight: bold\">&gt;</span>\n",
       "</pre>\n"
      ],
      "text/plain": [
       "\u001b[1m<\u001b[0m\u001b[1;95mIPython.core.display.Javascript\u001b[0m\u001b[39m object\u001b[0m\u001b[1m>\u001b[0m\n"
      ]
     },
     "metadata": {},
     "output_type": "display_data"
    },
    {
     "data": {
      "application/javascript": [
       "\n",
       "            setTimeout(function() {\n",
       "                var nbb_cell_id = 126;\n",
       "                var nbb_unformatted_code = \"def prop_counts(ser: pd.Series):\\n    vc = ser.value_counts()\\n    res = vc / vc.sum()\\n    return (res * 1000).apply(lambda x: str(int(x)/10) + \\\"%\\\")\";\n",
       "                var nbb_formatted_code = \"def prop_counts(ser: pd.Series):\\n    vc = ser.value_counts()\\n    res = vc / vc.sum()\\n    return (res * 1000).apply(lambda x: str(int(x) / 10) + \\\"%\\\")\";\n",
       "                var nbb_cells = Jupyter.notebook.get_cells();\n",
       "                for (var i = 0; i < nbb_cells.length; ++i) {\n",
       "                    if (nbb_cells[i].input_prompt_number == nbb_cell_id) {\n",
       "                        if (nbb_cells[i].get_text() == nbb_unformatted_code) {\n",
       "                             nbb_cells[i].set_text(nbb_formatted_code);\n",
       "                        }\n",
       "                        break;\n",
       "                    }\n",
       "                }\n",
       "            }, 500);\n",
       "            "
      ]
     },
     "metadata": {},
     "output_type": "display_data"
    }
   ],
   "source": [
    "def prop_counts(ser: pd.Series):\n",
    "    vc = ser.value_counts()\n",
    "    res = vc / vc.sum()\n",
    "    return (res * 1000).apply(lambda x: str(int(x) / 10) + \"%\")"
   ]
  },
  {
   "cell_type": "code",
   "execution_count": 3,
   "id": "66c04ebe",
   "metadata": {
    "scrolled": true
   },
   "outputs": [
    {
     "data": {
      "text/html": [
       "<pre style=\"white-space:pre;overflow-x:auto;line-height:normal;font-family:Menlo,'DejaVu Sans Mono',consolas,'Courier New',monospace\"><span style=\"color: #7fbfbf; text-decoration-color: #7fbfbf\">                    </span><span style=\"color: #000080; text-decoration-color: #000080\">INFO    </span> Loading data from <span style=\"color: #008000; text-decoration-color: #008000\">'secop_2_cont_clean'</span> <span style=\"font-weight: bold\">(</span>ParquetDataSet<span style=\"font-weight: bold\">)</span><span style=\"color: #808000; text-decoration-color: #808000\">...</span>         <a href=\"file:///opt/homebrew/Caskroom/miniforge/base/envs/dm_project/lib/python3.10/site-packages/kedro/io/data_catalog.py\" target=\"_blank\"><span style=\"color: #7f7f7f; text-decoration-color: #7f7f7f\">data_catalog.py</span></a><span style=\"color: #7f7f7f; text-decoration-color: #7f7f7f\">:</span><a href=\"file:///opt/homebrew/Caskroom/miniforge/base/envs/dm_project/lib/python3.10/site-packages/kedro/io/data_catalog.py#343\" target=\"_blank\"><span style=\"color: #7f7f7f; text-decoration-color: #7f7f7f\">343</span></a>\n",
       "</pre>\n"
      ],
      "text/plain": [
       "\u001b[2;36m                   \u001b[0m\u001b[2;36m \u001b[0m\u001b[34mINFO    \u001b[0m Loading data from \u001b[32m'secop_2_cont_clean'\u001b[0m \u001b[1m(\u001b[0mParquetDataSet\u001b[1m)\u001b[0m\u001b[33m...\u001b[0m         \u001b]8;id=338648;file:///opt/homebrew/Caskroom/miniforge/base/envs/dm_project/lib/python3.10/site-packages/kedro/io/data_catalog.py\u001b\\\u001b[2mdata_catalog.py\u001b[0m\u001b]8;;\u001b\\\u001b[2m:\u001b[0m\u001b]8;id=12221;file:///opt/homebrew/Caskroom/miniforge/base/envs/dm_project/lib/python3.10/site-packages/kedro/io/data_catalog.py#343\u001b\\\u001b[2m343\u001b[0m\u001b]8;;\u001b\\\n"
      ]
     },
     "metadata": {},
     "output_type": "display_data"
    },
    {
     "data": {
      "text/html": [
       "<pre style=\"white-space:pre;overflow-x:auto;line-height:normal;font-family:Menlo,'DejaVu Sans Mono',consolas,'Courier New',monospace\"><span style=\"font-weight: bold\">&lt;</span><span style=\"color: #ff00ff; text-decoration-color: #ff00ff; font-weight: bold\">IPython.core.display.Javascript</span><span style=\"color: #000000; text-decoration-color: #000000\"> object</span><span style=\"font-weight: bold\">&gt;</span>\n",
       "</pre>\n"
      ],
      "text/plain": [
       "\u001b[1m<\u001b[0m\u001b[1;95mIPython.core.display.Javascript\u001b[0m\u001b[39m object\u001b[0m\u001b[1m>\u001b[0m\n"
      ]
     },
     "metadata": {},
     "output_type": "display_data"
    },
    {
     "data": {
      "application/javascript": [
       "\n",
       "            setTimeout(function() {\n",
       "                var nbb_cell_id = 3;\n",
       "                var nbb_unformatted_code = \"secop = catalog.load(\\\"secop_2_cont_clean\\\")\";\n",
       "                var nbb_formatted_code = \"secop = catalog.load(\\\"secop_2_cont_clean\\\")\";\n",
       "                var nbb_cells = Jupyter.notebook.get_cells();\n",
       "                for (var i = 0; i < nbb_cells.length; ++i) {\n",
       "                    if (nbb_cells[i].input_prompt_number == nbb_cell_id) {\n",
       "                        if (nbb_cells[i].get_text() == nbb_unformatted_code) {\n",
       "                             nbb_cells[i].set_text(nbb_formatted_code);\n",
       "                        }\n",
       "                        break;\n",
       "                    }\n",
       "                }\n",
       "            }, 500);\n",
       "            "
      ]
     },
     "metadata": {},
     "output_type": "display_data"
    }
   ],
   "source": [
    "secop = catalog.load(\"secop_2_cont_clean\")"
   ]
  },
  {
   "cell_type": "code",
   "execution_count": 4,
   "id": "d0f48fe3",
   "metadata": {},
   "outputs": [
    {
     "data": {
      "text/html": [
       "<pre style=\"white-space:pre;overflow-x:auto;line-height:normal;font-family:Menlo,'DejaVu Sans Mono',consolas,'Courier New',monospace\"><span style=\"font-weight: bold\">&lt;</span><span style=\"color: #ff00ff; text-decoration-color: #ff00ff; font-weight: bold\">IPython.core.display.Javascript</span><span style=\"color: #000000; text-decoration-color: #000000\"> object</span><span style=\"font-weight: bold\">&gt;</span>\n",
       "</pre>\n"
      ],
      "text/plain": [
       "\u001b[1m<\u001b[0m\u001b[1;95mIPython.core.display.Javascript\u001b[0m\u001b[39m object\u001b[0m\u001b[1m>\u001b[0m\n"
      ]
     },
     "metadata": {},
     "output_type": "display_data"
    },
    {
     "data": {
      "application/javascript": [
       "\n",
       "            setTimeout(function() {\n",
       "                var nbb_cell_id = 4;\n",
       "                var nbb_unformatted_code = \"features_text = 100\\nfeatures_tfid = [f\\\"feat_text_{i+1}\\\" for i in range(features_text)]\\nvectorizer = TfidfVectorizer(max_features=features_text)\\ntext_df = pd.DataFrame(\\n    columns=features_tfid,\\n    data=np.array(\\n        vectorizer.fit_transform(secop[\\\"full_contract_description\\\"]).todense()\\n    ),\\n)\";\n",
       "                var nbb_formatted_code = \"features_text = 100\\nfeatures_tfid = [f\\\"feat_text_{i+1}\\\" for i in range(features_text)]\\nvectorizer = TfidfVectorizer(max_features=features_text)\\ntext_df = pd.DataFrame(\\n    columns=features_tfid,\\n    data=np.array(\\n        vectorizer.fit_transform(secop[\\\"full_contract_description\\\"]).todense()\\n    ),\\n)\";\n",
       "                var nbb_cells = Jupyter.notebook.get_cells();\n",
       "                for (var i = 0; i < nbb_cells.length; ++i) {\n",
       "                    if (nbb_cells[i].input_prompt_number == nbb_cell_id) {\n",
       "                        if (nbb_cells[i].get_text() == nbb_unformatted_code) {\n",
       "                             nbb_cells[i].set_text(nbb_formatted_code);\n",
       "                        }\n",
       "                        break;\n",
       "                    }\n",
       "                }\n",
       "            }, 500);\n",
       "            "
      ]
     },
     "metadata": {},
     "output_type": "display_data"
    }
   ],
   "source": [
    "features_text = 100\n",
    "features_tfid = [f\"feat_text_{i+1}\" for i in range(features_text)]\n",
    "vectorizer = TfidfVectorizer(max_features=features_text)\n",
    "text_df = pd.DataFrame(\n",
    "    columns=features_tfid,\n",
    "    data=np.array(\n",
    "        vectorizer.fit_transform(secop[\"full_contract_description\"]).todense()\n",
    "    ),\n",
    ")\n"
   ]
  },
  {
   "cell_type": "code",
   "execution_count": 5,
   "id": "8e3f1955",
   "metadata": {},
   "outputs": [
    {
     "data": {
      "text/html": [
       "<pre style=\"white-space:pre;overflow-x:auto;line-height:normal;font-family:Menlo,'DejaVu Sans Mono',consolas,'Courier New',monospace\"><span style=\"font-weight: bold\">&lt;</span><span style=\"color: #ff00ff; text-decoration-color: #ff00ff; font-weight: bold\">IPython.core.display.Javascript</span><span style=\"color: #000000; text-decoration-color: #000000\"> object</span><span style=\"font-weight: bold\">&gt;</span>\n",
       "</pre>\n"
      ],
      "text/plain": [
       "\u001b[1m<\u001b[0m\u001b[1;95mIPython.core.display.Javascript\u001b[0m\u001b[39m object\u001b[0m\u001b[1m>\u001b[0m\n"
      ]
     },
     "metadata": {},
     "output_type": "display_data"
    },
    {
     "data": {
      "application/javascript": [
       "\n",
       "            setTimeout(function() {\n",
       "                var nbb_cell_id = 5;\n",
       "                var nbb_unformatted_code = \"secop = pd.merge(secop, text_df, how=\\\"inner\\\", left_index=True, right_index=True)\";\n",
       "                var nbb_formatted_code = \"secop = pd.merge(secop, text_df, how=\\\"inner\\\", left_index=True, right_index=True)\";\n",
       "                var nbb_cells = Jupyter.notebook.get_cells();\n",
       "                for (var i = 0; i < nbb_cells.length; ++i) {\n",
       "                    if (nbb_cells[i].input_prompt_number == nbb_cell_id) {\n",
       "                        if (nbb_cells[i].get_text() == nbb_unformatted_code) {\n",
       "                             nbb_cells[i].set_text(nbb_formatted_code);\n",
       "                        }\n",
       "                        break;\n",
       "                    }\n",
       "                }\n",
       "            }, 500);\n",
       "            "
      ]
     },
     "metadata": {},
     "output_type": "display_data"
    }
   ],
   "source": [
    "secop = pd.merge(secop, text_df, how=\"inner\", left_index=True, right_index=True)"
   ]
  },
  {
   "cell_type": "code",
   "execution_count": 6,
   "id": "b7bd43f2",
   "metadata": {},
   "outputs": [
    {
     "data": {
      "text/html": [
       "<pre style=\"white-space:pre;overflow-x:auto;line-height:normal;font-family:Menlo,'DejaVu Sans Mono',consolas,'Courier New',monospace\"><span style=\"font-weight: bold\">&lt;</span><span style=\"color: #ff00ff; text-decoration-color: #ff00ff; font-weight: bold\">IPython.core.display.Javascript</span><span style=\"color: #000000; text-decoration-color: #000000\"> object</span><span style=\"font-weight: bold\">&gt;</span>\n",
       "</pre>\n"
      ],
      "text/plain": [
       "\u001b[1m<\u001b[0m\u001b[1;95mIPython.core.display.Javascript\u001b[0m\u001b[39m object\u001b[0m\u001b[1m>\u001b[0m\n"
      ]
     },
     "metadata": {},
     "output_type": "display_data"
    },
    {
     "data": {
      "application/javascript": [
       "\n",
       "            setTimeout(function() {\n",
       "                var nbb_cell_id = 6;\n",
       "                var nbb_unformatted_code = \"secop = pd.get_dummies(\\n    secop, columns=[\\\"orden\\\", \\\"modalidad_de_contratacion\\\"], drop_first=True\\n)\";\n",
       "                var nbb_formatted_code = \"secop = pd.get_dummies(\\n    secop, columns=[\\\"orden\\\", \\\"modalidad_de_contratacion\\\"], drop_first=True\\n)\";\n",
       "                var nbb_cells = Jupyter.notebook.get_cells();\n",
       "                for (var i = 0; i < nbb_cells.length; ++i) {\n",
       "                    if (nbb_cells[i].input_prompt_number == nbb_cell_id) {\n",
       "                        if (nbb_cells[i].get_text() == nbb_unformatted_code) {\n",
       "                             nbb_cells[i].set_text(nbb_formatted_code);\n",
       "                        }\n",
       "                        break;\n",
       "                    }\n",
       "                }\n",
       "            }, 500);\n",
       "            "
      ]
     },
     "metadata": {},
     "output_type": "display_data"
    }
   ],
   "source": [
    "secop = pd.get_dummies(\n",
    "    secop, columns=[\"orden\", \"modalidad_de_contratacion\"], drop_first=True\n",
    ")"
   ]
  },
  {
   "cell_type": "code",
   "execution_count": 27,
   "id": "2a997243",
   "metadata": {},
   "outputs": [
    {
     "data": {
      "text/html": [
       "<pre style=\"white-space:pre;overflow-x:auto;line-height:normal;font-family:Menlo,'DejaVu Sans Mono',consolas,'Courier New',monospace\"><span style=\"font-weight: bold\">&lt;</span><span style=\"color: #ff00ff; text-decoration-color: #ff00ff; font-weight: bold\">IPython.core.display.Javascript</span><span style=\"color: #000000; text-decoration-color: #000000\"> object</span><span style=\"font-weight: bold\">&gt;</span>\n",
       "</pre>\n"
      ],
      "text/plain": [
       "\u001b[1m<\u001b[0m\u001b[1;95mIPython.core.display.Javascript\u001b[0m\u001b[39m object\u001b[0m\u001b[1m>\u001b[0m\n"
      ]
     },
     "metadata": {},
     "output_type": "display_data"
    },
    {
     "data": {
      "application/javascript": [
       "\n",
       "            setTimeout(function() {\n",
       "                var nbb_cell_id = 27;\n",
       "                var nbb_unformatted_code = \"secop_personas['date_duration'] = secop_personas.apply(lambda row: (row['fecha_de_inicio_del_contrato'],row['fecha_de_fin_del_contrato']),axis=1)\";\n",
       "                var nbb_formatted_code = \"secop_personas[\\\"date_duration\\\"] = secop_personas.apply(\\n    lambda row: (row[\\\"fecha_de_inicio_del_contrato\\\"], row[\\\"fecha_de_fin_del_contrato\\\"]),\\n    axis=1,\\n)\";\n",
       "                var nbb_cells = Jupyter.notebook.get_cells();\n",
       "                for (var i = 0; i < nbb_cells.length; ++i) {\n",
       "                    if (nbb_cells[i].input_prompt_number == nbb_cell_id) {\n",
       "                        if (nbb_cells[i].get_text() == nbb_unformatted_code) {\n",
       "                             nbb_cells[i].set_text(nbb_formatted_code);\n",
       "                        }\n",
       "                        break;\n",
       "                    }\n",
       "                }\n",
       "            }, 500);\n",
       "            "
      ]
     },
     "metadata": {},
     "output_type": "display_data"
    }
   ],
   "source": [
    "secop[\"date_duration\"] = secop.apply(\n",
    "    lambda row: (row[\"fecha_de_inicio_del_contrato\"], row[\"fecha_de_fin_del_contrato\"]),\n",
    "    axis=1,\n",
    ")"
   ]
  },
  {
   "cell_type": "code",
   "execution_count": 7,
   "id": "ef0b1cc1",
   "metadata": {},
   "outputs": [
    {
     "data": {
      "text/html": [
       "<pre style=\"white-space:pre;overflow-x:auto;line-height:normal;font-family:Menlo,'DejaVu Sans Mono',consolas,'Courier New',monospace\"><span style=\"font-weight: bold\">&lt;</span><span style=\"color: #ff00ff; text-decoration-color: #ff00ff; font-weight: bold\">IPython.core.display.Javascript</span><span style=\"color: #000000; text-decoration-color: #000000\"> object</span><span style=\"font-weight: bold\">&gt;</span>\n",
       "</pre>\n"
      ],
      "text/plain": [
       "\u001b[1m<\u001b[0m\u001b[1;95mIPython.core.display.Javascript\u001b[0m\u001b[39m object\u001b[0m\u001b[1m>\u001b[0m\n"
      ]
     },
     "metadata": {},
     "output_type": "display_data"
    },
    {
     "data": {
      "application/javascript": [
       "\n",
       "            setTimeout(function() {\n",
       "                var nbb_cell_id = 7;\n",
       "                var nbb_unformatted_code = \"secop_personas = secop[secop[\\\"tipodocproveedor\\\"] == \\\"cedula de ciudadania\\\"].copy()\";\n",
       "                var nbb_formatted_code = \"secop_personas = secop[secop[\\\"tipodocproveedor\\\"] == \\\"cedula de ciudadania\\\"].copy()\";\n",
       "                var nbb_cells = Jupyter.notebook.get_cells();\n",
       "                for (var i = 0; i < nbb_cells.length; ++i) {\n",
       "                    if (nbb_cells[i].input_prompt_number == nbb_cell_id) {\n",
       "                        if (nbb_cells[i].get_text() == nbb_unformatted_code) {\n",
       "                             nbb_cells[i].set_text(nbb_formatted_code);\n",
       "                        }\n",
       "                        break;\n",
       "                    }\n",
       "                }\n",
       "            }, 500);\n",
       "            "
      ]
     },
     "metadata": {},
     "output_type": "display_data"
    }
   ],
   "source": [
    "secop_personas = secop[secop[\"tipodocproveedor\"] == \"cedula de ciudadania\"].copy()"
   ]
  },
  {
   "cell_type": "code",
   "execution_count": 8,
   "id": "16e8378c",
   "metadata": {},
   "outputs": [
    {
     "data": {
      "text/html": [
       "<pre style=\"white-space:pre;overflow-x:auto;line-height:normal;font-family:Menlo,'DejaVu Sans Mono',consolas,'Courier New',monospace\"><span style=\"font-weight: bold\">&lt;</span><span style=\"color: #ff00ff; text-decoration-color: #ff00ff; font-weight: bold\">IPython.core.display.Javascript</span><span style=\"color: #000000; text-decoration-color: #000000\"> object</span><span style=\"font-weight: bold\">&gt;</span>\n",
       "</pre>\n"
      ],
      "text/plain": [
       "\u001b[1m<\u001b[0m\u001b[1;95mIPython.core.display.Javascript\u001b[0m\u001b[39m object\u001b[0m\u001b[1m>\u001b[0m\n"
      ]
     },
     "metadata": {},
     "output_type": "display_data"
    },
    {
     "data": {
      "application/javascript": [
       "\n",
       "            setTimeout(function() {\n",
       "                var nbb_cell_id = 8;\n",
       "                var nbb_unformatted_code = \"secop_empresas = secop[secop[\\\"tipodocproveedor\\\"] == \\\"nit\\\"].copy()\";\n",
       "                var nbb_formatted_code = \"secop_empresas = secop[secop[\\\"tipodocproveedor\\\"] == \\\"nit\\\"].copy()\";\n",
       "                var nbb_cells = Jupyter.notebook.get_cells();\n",
       "                for (var i = 0; i < nbb_cells.length; ++i) {\n",
       "                    if (nbb_cells[i].input_prompt_number == nbb_cell_id) {\n",
       "                        if (nbb_cells[i].get_text() == nbb_unformatted_code) {\n",
       "                             nbb_cells[i].set_text(nbb_formatted_code);\n",
       "                        }\n",
       "                        break;\n",
       "                    }\n",
       "                }\n",
       "            }, 500);\n",
       "            "
      ]
     },
     "metadata": {},
     "output_type": "display_data"
    }
   ],
   "source": [
    "secop_empresas = secop[secop[\"tipodocproveedor\"] == \"nit\"].copy()"
   ]
  },
  {
   "cell_type": "code",
   "execution_count": 9,
   "id": "ebcd74a3",
   "metadata": {},
   "outputs": [
    {
     "data": {
      "text/html": [
       "<pre style=\"white-space:pre;overflow-x:auto;line-height:normal;font-family:Menlo,'DejaVu Sans Mono',consolas,'Courier New',monospace\"><span style=\"font-weight: bold\">&lt;</span><span style=\"color: #ff00ff; text-decoration-color: #ff00ff; font-weight: bold\">IPython.core.display.Javascript</span><span style=\"color: #000000; text-decoration-color: #000000\"> object</span><span style=\"font-weight: bold\">&gt;</span>\n",
       "</pre>\n"
      ],
      "text/plain": [
       "\u001b[1m<\u001b[0m\u001b[1;95mIPython.core.display.Javascript\u001b[0m\u001b[39m object\u001b[0m\u001b[1m>\u001b[0m\n"
      ]
     },
     "metadata": {},
     "output_type": "display_data"
    },
    {
     "data": {
      "application/javascript": [
       "\n",
       "            setTimeout(function() {\n",
       "                var nbb_cell_id = 9;\n",
       "                var nbb_unformatted_code = \"del  text_df#secop,\";\n",
       "                var nbb_formatted_code = \"del text_df  # secop,\";\n",
       "                var nbb_cells = Jupyter.notebook.get_cells();\n",
       "                for (var i = 0; i < nbb_cells.length; ++i) {\n",
       "                    if (nbb_cells[i].input_prompt_number == nbb_cell_id) {\n",
       "                        if (nbb_cells[i].get_text() == nbb_unformatted_code) {\n",
       "                             nbb_cells[i].set_text(nbb_formatted_code);\n",
       "                        }\n",
       "                        break;\n",
       "                    }\n",
       "                }\n",
       "            }, 500);\n",
       "            "
      ]
     },
     "metadata": {},
     "output_type": "display_data"
    }
   ],
   "source": [
    "del text_df  # secop,"
   ]
  },
  {
   "cell_type": "code",
   "execution_count": 10,
   "id": "e6b384f1",
   "metadata": {},
   "outputs": [
    {
     "data": {
      "text/html": [
       "<pre style=\"white-space:pre;overflow-x:auto;line-height:normal;font-family:Menlo,'DejaVu Sans Mono',consolas,'Courier New',monospace\">\n",
       "<span style=\"color: #800080; text-decoration-color: #800080; font-weight: bold\">Index</span><span style=\"font-weight: bold\">([</span><span style=\"color: #008000; text-decoration-color: #008000\">'index'</span>, <span style=\"color: #008000; text-decoration-color: #008000\">'nombre_entidad'</span>, <span style=\"color: #008000; text-decoration-color: #008000\">'departamento'</span>, <span style=\"color: #008000; text-decoration-color: #008000\">'ciudad'</span>,\n",
       "       <span style=\"color: #008000; text-decoration-color: #008000\">'proceso_de_compra'</span>, <span style=\"color: #008000; text-decoration-color: #008000\">'referencia_del_contrato'</span>, <span style=\"color: #008000; text-decoration-color: #008000\">'estado_contrato'</span>,\n",
       "       <span style=\"color: #008000; text-decoration-color: #008000\">'descripcion_del_proceso'</span>, <span style=\"color: #008000; text-decoration-color: #008000\">'fecha_de_firma'</span>,\n",
       "       <span style=\"color: #008000; text-decoration-color: #008000\">'fecha_de_inicio_del_contrato'</span>, <span style=\"color: #008000; text-decoration-color: #008000\">'fecha_de_fin_del_contrato'</span>,\n",
       "       <span style=\"color: #008000; text-decoration-color: #008000\">'tipodocproveedor'</span>, <span style=\"color: #008000; text-decoration-color: #008000\">'documento_proveedor'</span>, <span style=\"color: #008000; text-decoration-color: #008000\">'proveedor_adjudicado'</span>,\n",
       "       <span style=\"color: #008000; text-decoration-color: #008000\">'valor_del_contrato'</span>, <span style=\"color: #008000; text-decoration-color: #008000\">'objeto_del_contrato'</span>, <span style=\"color: #008000; text-decoration-color: #008000\">'dias_adicionados'</span>,\n",
       "       <span style=\"color: #008000; text-decoration-color: #008000\">'nit_entidad'</span>, <span style=\"color: #008000; text-decoration-color: #008000\">'log_valor_del_contrato'</span>, <span style=\"color: #008000; text-decoration-color: #008000\">'full_contract_description'</span>,\n",
       "       <span style=\"color: #008000; text-decoration-color: #008000\">'duration_days'</span>, <span style=\"color: #008000; text-decoration-color: #008000\">'Agricultura'</span>, <span style=\"color: #008000; text-decoration-color: #008000\">'Hidrocarburos'</span>, <span style=\"color: #008000; text-decoration-color: #008000\">'Manufactura'</span>,\n",
       "       <span style=\"color: #008000; text-decoration-color: #008000\">'ServiciosPublicos'</span>, <span style=\"color: #008000; text-decoration-color: #008000\">'Construccion'</span>, <span style=\"color: #008000; text-decoration-color: #008000\">'Comercio'</span>, <span style=\"color: #008000; text-decoration-color: #008000\">'Comunicaciones'</span>,\n",
       "       <span style=\"color: #008000; text-decoration-color: #008000\">'Financiero'</span>, <span style=\"color: #008000; text-decoration-color: #008000\">'Inmobiliaria'</span><span style=\"font-weight: bold\">]</span>,\n",
       "      <span style=\"color: #808000; text-decoration-color: #808000\">dtype</span>=<span style=\"color: #008000; text-decoration-color: #008000\">'object'</span><span style=\"font-weight: bold\">)</span>\n",
       "</pre>\n"
      ],
      "text/plain": [
       "\n",
       "\u001b[1;35mIndex\u001b[0m\u001b[1m(\u001b[0m\u001b[1m[\u001b[0m\u001b[32m'index'\u001b[0m, \u001b[32m'nombre_entidad'\u001b[0m, \u001b[32m'departamento'\u001b[0m, \u001b[32m'ciudad'\u001b[0m,\n",
       "       \u001b[32m'proceso_de_compra'\u001b[0m, \u001b[32m'referencia_del_contrato'\u001b[0m, \u001b[32m'estado_contrato'\u001b[0m,\n",
       "       \u001b[32m'descripcion_del_proceso'\u001b[0m, \u001b[32m'fecha_de_firma'\u001b[0m,\n",
       "       \u001b[32m'fecha_de_inicio_del_contrato'\u001b[0m, \u001b[32m'fecha_de_fin_del_contrato'\u001b[0m,\n",
       "       \u001b[32m'tipodocproveedor'\u001b[0m, \u001b[32m'documento_proveedor'\u001b[0m, \u001b[32m'proveedor_adjudicado'\u001b[0m,\n",
       "       \u001b[32m'valor_del_contrato'\u001b[0m, \u001b[32m'objeto_del_contrato'\u001b[0m, \u001b[32m'dias_adicionados'\u001b[0m,\n",
       "       \u001b[32m'nit_entidad'\u001b[0m, \u001b[32m'log_valor_del_contrato'\u001b[0m, \u001b[32m'full_contract_description'\u001b[0m,\n",
       "       \u001b[32m'duration_days'\u001b[0m, \u001b[32m'Agricultura'\u001b[0m, \u001b[32m'Hidrocarburos'\u001b[0m, \u001b[32m'Manufactura'\u001b[0m,\n",
       "       \u001b[32m'ServiciosPublicos'\u001b[0m, \u001b[32m'Construccion'\u001b[0m, \u001b[32m'Comercio'\u001b[0m, \u001b[32m'Comunicaciones'\u001b[0m,\n",
       "       \u001b[32m'Financiero'\u001b[0m, \u001b[32m'Inmobiliaria'\u001b[0m\u001b[1m]\u001b[0m,\n",
       "      \u001b[33mdtype\u001b[0m=\u001b[32m'object'\u001b[0m\u001b[1m)\u001b[0m\n"
      ]
     },
     "metadata": {},
     "output_type": "display_data"
    },
    {
     "data": {
      "text/html": [
       "<pre style=\"white-space:pre;overflow-x:auto;line-height:normal;font-family:Menlo,'DejaVu Sans Mono',consolas,'Courier New',monospace\"><span style=\"font-weight: bold\">&lt;</span><span style=\"color: #ff00ff; text-decoration-color: #ff00ff; font-weight: bold\">IPython.core.display.Javascript</span><span style=\"color: #000000; text-decoration-color: #000000\"> object</span><span style=\"font-weight: bold\">&gt;</span>\n",
       "</pre>\n"
      ],
      "text/plain": [
       "\u001b[1m<\u001b[0m\u001b[1;95mIPython.core.display.Javascript\u001b[0m\u001b[39m object\u001b[0m\u001b[1m>\u001b[0m\n"
      ]
     },
     "metadata": {},
     "output_type": "display_data"
    },
    {
     "data": {
      "application/javascript": [
       "\n",
       "            setTimeout(function() {\n",
       "                var nbb_cell_id = 10;\n",
       "                var nbb_unformatted_code = \"secop_personas.columns[:30]\";\n",
       "                var nbb_formatted_code = \"secop_personas.columns[:30]\";\n",
       "                var nbb_cells = Jupyter.notebook.get_cells();\n",
       "                for (var i = 0; i < nbb_cells.length; ++i) {\n",
       "                    if (nbb_cells[i].input_prompt_number == nbb_cell_id) {\n",
       "                        if (nbb_cells[i].get_text() == nbb_unformatted_code) {\n",
       "                             nbb_cells[i].set_text(nbb_formatted_code);\n",
       "                        }\n",
       "                        break;\n",
       "                    }\n",
       "                }\n",
       "            }, 500);\n",
       "            "
      ]
     },
     "metadata": {},
     "output_type": "display_data"
    }
   ],
   "source": [
    "secop_personas.columns[:30]"
   ]
  },
  {
   "cell_type": "code",
   "execution_count": 11,
   "id": "2b124a03",
   "metadata": {},
   "outputs": [
    {
     "data": {
      "text/html": [
       "<pre style=\"white-space:pre;overflow-x:auto;line-height:normal;font-family:Menlo,'DejaVu Sans Mono',consolas,'Courier New',monospace\"><span style=\"font-weight: bold\">&lt;</span><span style=\"color: #ff00ff; text-decoration-color: #ff00ff; font-weight: bold\">IPython.core.display.Javascript</span><span style=\"color: #000000; text-decoration-color: #000000\"> object</span><span style=\"font-weight: bold\">&gt;</span>\n",
       "</pre>\n"
      ],
      "text/plain": [
       "\u001b[1m<\u001b[0m\u001b[1;95mIPython.core.display.Javascript\u001b[0m\u001b[39m object\u001b[0m\u001b[1m>\u001b[0m\n"
      ]
     },
     "metadata": {},
     "output_type": "display_data"
    },
    {
     "data": {
      "application/javascript": [
       "\n",
       "            setTimeout(function() {\n",
       "                var nbb_cell_id = 11;\n",
       "                var nbb_unformatted_code = \"cols_pca = (\\n    [\\\"Poblacion\\\", \\\"ValorAgregado\\\", \\\"Impuestos\\\", \\\"PIB\\\"]\\n    + features_tfid\\n    + [\\n        c\\n        for c in secop_personas.columns\\n        if \\\"orden\\\" in c or \\\"modalidad_de_contratacion\\\" in c\\n    ]\\n)\";\n",
       "                var nbb_formatted_code = \"cols_pca = (\\n    [\\\"Poblacion\\\", \\\"ValorAgregado\\\", \\\"Impuestos\\\", \\\"PIB\\\"]\\n    + features_tfid\\n    + [\\n        c\\n        for c in secop_personas.columns\\n        if \\\"orden\\\" in c or \\\"modalidad_de_contratacion\\\" in c\\n    ]\\n)\";\n",
       "                var nbb_cells = Jupyter.notebook.get_cells();\n",
       "                for (var i = 0; i < nbb_cells.length; ++i) {\n",
       "                    if (nbb_cells[i].input_prompt_number == nbb_cell_id) {\n",
       "                        if (nbb_cells[i].get_text() == nbb_unformatted_code) {\n",
       "                             nbb_cells[i].set_text(nbb_formatted_code);\n",
       "                        }\n",
       "                        break;\n",
       "                    }\n",
       "                }\n",
       "            }, 500);\n",
       "            "
      ]
     },
     "metadata": {},
     "output_type": "display_data"
    }
   ],
   "source": [
    "cols_pca = (\n",
    "    [\"Poblacion\", \"ValorAgregado\", \"Impuestos\", \"PIB\"]\n",
    "    + features_tfid\n",
    "    + [\n",
    "        c\n",
    "        for c in secop_personas.columns\n",
    "        if \"orden\" in c or \"modalidad_de_contratacion\" in c\n",
    "    ]\n",
    ")"
   ]
  },
  {
   "cell_type": "code",
   "execution_count": 12,
   "id": "d2032e38",
   "metadata": {},
   "outputs": [
    {
     "data": {
      "text/html": [
       "<pre style=\"white-space:pre;overflow-x:auto;line-height:normal;font-family:Menlo,'DejaVu Sans Mono',consolas,'Courier New',monospace\"><span style=\"font-weight: bold\">&lt;</span><span style=\"color: #ff00ff; text-decoration-color: #ff00ff; font-weight: bold\">IPython.core.display.Javascript</span><span style=\"color: #000000; text-decoration-color: #000000\"> object</span><span style=\"font-weight: bold\">&gt;</span>\n",
       "</pre>\n"
      ],
      "text/plain": [
       "\u001b[1m<\u001b[0m\u001b[1;95mIPython.core.display.Javascript\u001b[0m\u001b[39m object\u001b[0m\u001b[1m>\u001b[0m\n"
      ]
     },
     "metadata": {},
     "output_type": "display_data"
    },
    {
     "data": {
      "application/javascript": [
       "\n",
       "            setTimeout(function() {\n",
       "                var nbb_cell_id = 12;\n",
       "                var nbb_unformatted_code = \"ss = StandardScaler()\";\n",
       "                var nbb_formatted_code = \"ss = StandardScaler()\";\n",
       "                var nbb_cells = Jupyter.notebook.get_cells();\n",
       "                for (var i = 0; i < nbb_cells.length; ++i) {\n",
       "                    if (nbb_cells[i].input_prompt_number == nbb_cell_id) {\n",
       "                        if (nbb_cells[i].get_text() == nbb_unformatted_code) {\n",
       "                             nbb_cells[i].set_text(nbb_formatted_code);\n",
       "                        }\n",
       "                        break;\n",
       "                    }\n",
       "                }\n",
       "            }, 500);\n",
       "            "
      ]
     },
     "metadata": {},
     "output_type": "display_data"
    }
   ],
   "source": [
    "ss = StandardScaler()"
   ]
  },
  {
   "cell_type": "code",
   "execution_count": 13,
   "id": "b9be924c",
   "metadata": {},
   "outputs": [
    {
     "data": {
      "text/html": [
       "<pre style=\"white-space:pre;overflow-x:auto;line-height:normal;font-family:Menlo,'DejaVu Sans Mono',consolas,'Courier New',monospace\"><span style=\"font-weight: bold\">&lt;</span><span style=\"color: #ff00ff; text-decoration-color: #ff00ff; font-weight: bold\">IPython.core.display.Javascript</span><span style=\"color: #000000; text-decoration-color: #000000\"> object</span><span style=\"font-weight: bold\">&gt;</span>\n",
       "</pre>\n"
      ],
      "text/plain": [
       "\u001b[1m<\u001b[0m\u001b[1;95mIPython.core.display.Javascript\u001b[0m\u001b[39m object\u001b[0m\u001b[1m>\u001b[0m\n"
      ]
     },
     "metadata": {},
     "output_type": "display_data"
    },
    {
     "data": {
      "application/javascript": [
       "\n",
       "            setTimeout(function() {\n",
       "                var nbb_cell_id = 13;\n",
       "                var nbb_unformatted_code = \"n_pca = 10\\npca = PCA(n_components=n_pca)\\ndata_pca = pca.fit_transform(ss.fit_transform(secop_personas[cols_pca]))\";\n",
       "                var nbb_formatted_code = \"n_pca = 10\\npca = PCA(n_components=n_pca)\\ndata_pca = pca.fit_transform(ss.fit_transform(secop_personas[cols_pca]))\";\n",
       "                var nbb_cells = Jupyter.notebook.get_cells();\n",
       "                for (var i = 0; i < nbb_cells.length; ++i) {\n",
       "                    if (nbb_cells[i].input_prompt_number == nbb_cell_id) {\n",
       "                        if (nbb_cells[i].get_text() == nbb_unformatted_code) {\n",
       "                             nbb_cells[i].set_text(nbb_formatted_code);\n",
       "                        }\n",
       "                        break;\n",
       "                    }\n",
       "                }\n",
       "            }, 500);\n",
       "            "
      ]
     },
     "metadata": {},
     "output_type": "display_data"
    }
   ],
   "source": [
    "n_pca = 10\n",
    "pca = PCA(n_components=n_pca)\n",
    "data_pca = pca.fit_transform(ss.fit_transform(secop_personas[cols_pca]))"
   ]
  },
  {
   "cell_type": "code",
   "execution_count": 14,
   "id": "0181ac83",
   "metadata": {},
   "outputs": [
    {
     "data": {
      "text/html": [
       "<pre style=\"white-space:pre;overflow-x:auto;line-height:normal;font-family:Menlo,'DejaVu Sans Mono',consolas,'Courier New',monospace\"><span style=\"font-weight: bold\">&lt;</span><span style=\"color: #ff00ff; text-decoration-color: #ff00ff; font-weight: bold\">IPython.core.display.Javascript</span><span style=\"color: #000000; text-decoration-color: #000000\"> object</span><span style=\"font-weight: bold\">&gt;</span>\n",
       "</pre>\n"
      ],
      "text/plain": [
       "\u001b[1m<\u001b[0m\u001b[1;95mIPython.core.display.Javascript\u001b[0m\u001b[39m object\u001b[0m\u001b[1m>\u001b[0m\n"
      ]
     },
     "metadata": {},
     "output_type": "display_data"
    },
    {
     "data": {
      "application/javascript": [
       "\n",
       "            setTimeout(function() {\n",
       "                var nbb_cell_id = 14;\n",
       "                var nbb_unformatted_code = \"secop_personas.drop(cols_pca, axis=1, inplace=True)\";\n",
       "                var nbb_formatted_code = \"secop_personas.drop(cols_pca, axis=1, inplace=True)\";\n",
       "                var nbb_cells = Jupyter.notebook.get_cells();\n",
       "                for (var i = 0; i < nbb_cells.length; ++i) {\n",
       "                    if (nbb_cells[i].input_prompt_number == nbb_cell_id) {\n",
       "                        if (nbb_cells[i].get_text() == nbb_unformatted_code) {\n",
       "                             nbb_cells[i].set_text(nbb_formatted_code);\n",
       "                        }\n",
       "                        break;\n",
       "                    }\n",
       "                }\n",
       "            }, 500);\n",
       "            "
      ]
     },
     "metadata": {},
     "output_type": "display_data"
    }
   ],
   "source": [
    "secop_personas.drop(cols_pca, axis=1, inplace=True)"
   ]
  },
  {
   "cell_type": "code",
   "execution_count": 15,
   "id": "da779850",
   "metadata": {},
   "outputs": [
    {
     "data": {
      "text/html": [
       "<pre style=\"white-space:pre;overflow-x:auto;line-height:normal;font-family:Menlo,'DejaVu Sans Mono',consolas,'Courier New',monospace\"><span style=\"font-weight: bold\">&lt;</span><span style=\"color: #ff00ff; text-decoration-color: #ff00ff; font-weight: bold\">IPython.core.display.Javascript</span><span style=\"color: #000000; text-decoration-color: #000000\"> object</span><span style=\"font-weight: bold\">&gt;</span>\n",
       "</pre>\n"
      ],
      "text/plain": [
       "\u001b[1m<\u001b[0m\u001b[1;95mIPython.core.display.Javascript\u001b[0m\u001b[39m object\u001b[0m\u001b[1m>\u001b[0m\n"
      ]
     },
     "metadata": {},
     "output_type": "display_data"
    },
    {
     "data": {
      "application/javascript": [
       "\n",
       "            setTimeout(function() {\n",
       "                var nbb_cell_id = 15;\n",
       "                var nbb_unformatted_code = \"secop_personas[[f\\\"pca_{i}\\\" for i in range(n_pca)]] = data_pca\";\n",
       "                var nbb_formatted_code = \"secop_personas[[f\\\"pca_{i}\\\" for i in range(n_pca)]] = data_pca\";\n",
       "                var nbb_cells = Jupyter.notebook.get_cells();\n",
       "                for (var i = 0; i < nbb_cells.length; ++i) {\n",
       "                    if (nbb_cells[i].input_prompt_number == nbb_cell_id) {\n",
       "                        if (nbb_cells[i].get_text() == nbb_unformatted_code) {\n",
       "                             nbb_cells[i].set_text(nbb_formatted_code);\n",
       "                        }\n",
       "                        break;\n",
       "                    }\n",
       "                }\n",
       "            }, 500);\n",
       "            "
      ]
     },
     "metadata": {},
     "output_type": "display_data"
    }
   ],
   "source": [
    "secop_personas[[f\"pca_{i}\" for i in range(n_pca)]] = data_pca"
   ]
  },
  {
   "cell_type": "code",
   "execution_count": 76,
   "id": "bce82503",
   "metadata": {},
   "outputs": [
    {
     "data": {
      "text/html": [
       "<pre style=\"white-space:pre;overflow-x:auto;line-height:normal;font-family:Menlo,'DejaVu Sans Mono',consolas,'Courier New',monospace\"><span style=\"font-weight: bold\">&lt;</span><span style=\"color: #ff00ff; text-decoration-color: #ff00ff; font-weight: bold\">IPython.core.display.Javascript</span><span style=\"color: #000000; text-decoration-color: #000000\"> object</span><span style=\"font-weight: bold\">&gt;</span>\n",
       "</pre>\n"
      ],
      "text/plain": [
       "\u001b[1m<\u001b[0m\u001b[1;95mIPython.core.display.Javascript\u001b[0m\u001b[39m object\u001b[0m\u001b[1m>\u001b[0m\n"
      ]
     },
     "metadata": {},
     "output_type": "display_data"
    },
    {
     "data": {
      "application/javascript": [
       "\n",
       "            setTimeout(function() {\n",
       "                var nbb_cell_id = 76;\n",
       "                var nbb_unformatted_code = \"def max_open_contracts(ser):\\n    if len(ser) == 1:\\n        return 1\\n    dates_to_ck = list(ser.apply(lambda x:x[0]))+list(ser.apply(lambda x:x[1] + datetime.timedelta(days=1)))\\n    return max(\\n        [\\n            ((ser.apply(lambda x: x[0]) <= d) & (ser.apply(lambda x: x[1]) >= d)).sum()\\n            for d in dates_to_ck\\n        ]\\n    )\";\n",
       "                var nbb_formatted_code = \"def max_open_contracts(ser):\\n    if len(ser) == 1:\\n        return 1\\n    dates_to_ck = list(ser.apply(lambda x: x[0])) + list(\\n        ser.apply(lambda x: x[1] + datetime.timedelta(days=1))\\n    )\\n    return max(\\n        [\\n            ((ser.apply(lambda x: x[0]) <= d) & (ser.apply(lambda x: x[1]) >= d)).sum()\\n            for d in dates_to_ck\\n        ]\\n    )\";\n",
       "                var nbb_cells = Jupyter.notebook.get_cells();\n",
       "                for (var i = 0; i < nbb_cells.length; ++i) {\n",
       "                    if (nbb_cells[i].input_prompt_number == nbb_cell_id) {\n",
       "                        if (nbb_cells[i].get_text() == nbb_unformatted_code) {\n",
       "                             nbb_cells[i].set_text(nbb_formatted_code);\n",
       "                        }\n",
       "                        break;\n",
       "                    }\n",
       "                }\n",
       "            }, 500);\n",
       "            "
      ]
     },
     "metadata": {},
     "output_type": "display_data"
    }
   ],
   "source": [
    "def max_open_contracts(ser):\n",
    "    if len(ser) == 1:\n",
    "        return 1\n",
    "    dates_to_ck = list(ser.apply(lambda x: x[0])) + list(\n",
    "        ser.apply(lambda x: x[1] + datetime.timedelta(days=1))\n",
    "    )\n",
    "    return max(\n",
    "        [\n",
    "            ((ser.apply(lambda x: x[0]) <= d) & (ser.apply(lambda x: x[1]) >= d)).sum()\n",
    "            for d in dates_to_ck\n",
    "        ]\n",
    "    )"
   ]
  },
  {
   "cell_type": "code",
   "execution_count": 77,
   "id": "13123b98",
   "metadata": {},
   "outputs": [
    {
     "data": {
      "text/html": [
       "<pre style=\"white-space:pre;overflow-x:auto;line-height:normal;font-family:Menlo,'DejaVu Sans Mono',consolas,'Courier New',monospace\"><span style=\"font-weight: bold\">&lt;</span><span style=\"color: #ff00ff; text-decoration-color: #ff00ff; font-weight: bold\">IPython.core.display.Javascript</span><span style=\"color: #000000; text-decoration-color: #000000\"> object</span><span style=\"font-weight: bold\">&gt;</span>\n",
       "</pre>\n"
      ],
      "text/plain": [
       "\u001b[1m<\u001b[0m\u001b[1;95mIPython.core.display.Javascript\u001b[0m\u001b[39m object\u001b[0m\u001b[1m>\u001b[0m\n"
      ]
     },
     "metadata": {},
     "output_type": "display_data"
    },
    {
     "data": {
      "application/javascript": [
       "\n",
       "            setTimeout(function() {\n",
       "                var nbb_cell_id = 77;\n",
       "                var nbb_unformatted_code = \"today = datetime.date.today()\\n\\n\\ndef tot_time_open_contracts(ser):\\n    return len(\\n        set(\\n            np.concatenate(\\n                ser.apply(lambda x: list(pd.date_range(x[0], min(x[1], today))))\\n            )\\n        )\\n    )\";\n",
       "                var nbb_formatted_code = \"today = datetime.date.today()\\n\\n\\ndef tot_time_open_contracts(ser):\\n    return len(\\n        set(\\n            np.concatenate(\\n                ser.apply(lambda x: list(pd.date_range(x[0], min(x[1], today))))\\n            )\\n        )\\n    )\";\n",
       "                var nbb_cells = Jupyter.notebook.get_cells();\n",
       "                for (var i = 0; i < nbb_cells.length; ++i) {\n",
       "                    if (nbb_cells[i].input_prompt_number == nbb_cell_id) {\n",
       "                        if (nbb_cells[i].get_text() == nbb_unformatted_code) {\n",
       "                             nbb_cells[i].set_text(nbb_formatted_code);\n",
       "                        }\n",
       "                        break;\n",
       "                    }\n",
       "                }\n",
       "            }, 500);\n",
       "            "
      ]
     },
     "metadata": {},
     "output_type": "display_data"
    }
   ],
   "source": [
    "today = datetime.date.today()\n",
    "\n",
    "\n",
    "def tot_time_open_contracts(ser):\n",
    "    return len(\n",
    "        set(\n",
    "            np.concatenate(\n",
    "                ser.apply(lambda x: list(pd.date_range(x[0], min(x[1], today))))\n",
    "            )\n",
    "        )\n",
    "    )"
   ]
  },
  {
   "cell_type": "code",
   "execution_count": 78,
   "id": "908385e3",
   "metadata": {
    "scrolled": false
   },
   "outputs": [
    {
     "data": {
      "text/html": [
       "<pre style=\"white-space:pre;overflow-x:auto;line-height:normal;font-family:Menlo,'DejaVu Sans Mono',consolas,'Courier New',monospace\"><span style=\"font-weight: bold\">&lt;</span><span style=\"color: #ff00ff; text-decoration-color: #ff00ff; font-weight: bold\">IPython.core.display.Javascript</span><span style=\"color: #000000; text-decoration-color: #000000\"> object</span><span style=\"font-weight: bold\">&gt;</span>\n",
       "</pre>\n"
      ],
      "text/plain": [
       "\u001b[1m<\u001b[0m\u001b[1;95mIPython.core.display.Javascript\u001b[0m\u001b[39m object\u001b[0m\u001b[1m>\u001b[0m\n"
      ]
     },
     "metadata": {},
     "output_type": "display_data"
    },
    {
     "data": {
      "application/javascript": [
       "\n",
       "            setTimeout(function() {\n",
       "                var nbb_cell_id = 78;\n",
       "                var nbb_unformatted_code = \"df_personas = secop_personas.groupby(\\\"documento_proveedor\\\").agg(\\n    {\\n        **{\\n            \\\"nombre_entidad\\\": pd.Series.nunique,\\n            \\\"index\\\": \\\"count\\\",\\n            \\\"ciudad\\\": pd.Series.nunique,\\n            \\\"valor_del_contrato\\\": [\\\"sum\\\", \\\"mean\\\"],\\n            \\\"dias_adicionados\\\": \\\"mean\\\",\\n            \\\"date_duration\\\": [max_open_contracts],#, tot_time_open_contracts],\\n            \\\"fecha_de_inicio_del_contrato\\\": \\\"min\\\",\\n        },\\n        **{f\\\"pca_{i}\\\": \\\"mean\\\" for i in range(n_pca)},\\n    }\\n)\\ndf_personas.columns = [\\\"_\\\".join(x) for x in df_personas.columns.to_flat_index()]\";\n",
       "                var nbb_formatted_code = \"df_personas = secop_personas.groupby(\\\"documento_proveedor\\\").agg(\\n    {\\n        **{\\n            \\\"nombre_entidad\\\": pd.Series.nunique,\\n            \\\"index\\\": \\\"count\\\",\\n            \\\"ciudad\\\": pd.Series.nunique,\\n            \\\"valor_del_contrato\\\": [\\\"sum\\\", \\\"mean\\\"],\\n            \\\"dias_adicionados\\\": \\\"mean\\\",\\n            \\\"date_duration\\\": [max_open_contracts],  # , tot_time_open_contracts],\\n            \\\"fecha_de_inicio_del_contrato\\\": \\\"min\\\",\\n        },\\n        **{f\\\"pca_{i}\\\": \\\"mean\\\" for i in range(n_pca)},\\n    }\\n)\\ndf_personas.columns = [\\\"_\\\".join(x) for x in df_personas.columns.to_flat_index()]\";\n",
       "                var nbb_cells = Jupyter.notebook.get_cells();\n",
       "                for (var i = 0; i < nbb_cells.length; ++i) {\n",
       "                    if (nbb_cells[i].input_prompt_number == nbb_cell_id) {\n",
       "                        if (nbb_cells[i].get_text() == nbb_unformatted_code) {\n",
       "                             nbb_cells[i].set_text(nbb_formatted_code);\n",
       "                        }\n",
       "                        break;\n",
       "                    }\n",
       "                }\n",
       "            }, 500);\n",
       "            "
      ]
     },
     "metadata": {},
     "output_type": "display_data"
    }
   ],
   "source": [
    "df_personas = secop_personas.groupby(\"documento_proveedor\").agg(\n",
    "    {\n",
    "        **{\n",
    "            \"nombre_entidad\": pd.Series.nunique,\n",
    "            \"index\": \"count\",\n",
    "            \"ciudad\": pd.Series.nunique,\n",
    "            \"valor_del_contrato\": \"mean\",\n",
    "            \"dias_adicionados\": \"mean\",\n",
    "            \"date_duration\": [max_open_contracts],  # , tot_time_open_contracts],\n",
    "            \"fecha_de_inicio_del_contrato\": \"min\",\n",
    "        },\n",
    "        **{f\"pca_{i}\": \"mean\" for i in range(n_pca)},\n",
    "    }\n",
    ")\n",
    "df_personas.columns = [\"_\".join(x) for x in df_personas.columns.to_flat_index()]"
   ]
  },
  {
   "cell_type": "code",
   "execution_count": 81,
   "id": "d8614849",
   "metadata": {},
   "outputs": [
    {
     "data": {
      "text/html": [
       "<pre style=\"white-space:pre;overflow-x:auto;line-height:normal;font-family:Menlo,'DejaVu Sans Mono',consolas,'Courier New',monospace\"><span style=\"font-weight: bold\">&lt;</span><span style=\"color: #ff00ff; text-decoration-color: #ff00ff; font-weight: bold\">IPython.core.display.Javascript</span><span style=\"color: #000000; text-decoration-color: #000000\"> object</span><span style=\"font-weight: bold\">&gt;</span>\n",
       "</pre>\n"
      ],
      "text/plain": [
       "\u001b[1m<\u001b[0m\u001b[1;95mIPython.core.display.Javascript\u001b[0m\u001b[39m object\u001b[0m\u001b[1m>\u001b[0m\n"
      ]
     },
     "metadata": {},
     "output_type": "display_data"
    },
    {
     "data": {
      "application/javascript": [
       "\n",
       "            setTimeout(function() {\n",
       "                var nbb_cell_id = 81;\n",
       "                var nbb_unformatted_code = \"df_personas[\\\"prop_ent\\\"] = 1 / df_personas[\\\"nombre_entidad_nunique\\\"]\\ndf_personas[\\\"prop_ciudad\\\"] = 1 / df_personas[\\\"nombre_entidad_nunique\\\"]\\ndf_personas[\\\"log_valor_del_contrato_mean\\\"] = df_personas[\\\"valor_del_contrato_mean\\\"].apply(np.log)\";\n",
       "                var nbb_formatted_code = \"df_personas[\\\"prop_ent\\\"] = 1 / df_personas[\\\"nombre_entidad_nunique\\\"]\\ndf_personas[\\\"prop_ciudad\\\"] = 1 / df_personas[\\\"nombre_entidad_nunique\\\"]\\ndf_personas[\\\"log_valor_del_contrato_mean\\\"] = df_personas[\\n    \\\"valor_del_contrato_mean\\\"\\n].apply(np.log)\";\n",
       "                var nbb_cells = Jupyter.notebook.get_cells();\n",
       "                for (var i = 0; i < nbb_cells.length; ++i) {\n",
       "                    if (nbb_cells[i].input_prompt_number == nbb_cell_id) {\n",
       "                        if (nbb_cells[i].get_text() == nbb_unformatted_code) {\n",
       "                             nbb_cells[i].set_text(nbb_formatted_code);\n",
       "                        }\n",
       "                        break;\n",
       "                    }\n",
       "                }\n",
       "            }, 500);\n",
       "            "
      ]
     },
     "metadata": {},
     "output_type": "display_data"
    }
   ],
   "source": [
    "df_personas[\"prop_ent\"] = 1 / df_personas[\"nombre_entidad_nunique\"]\n",
    "df_personas[\"prop_ciudad\"] = 1 / df_personas[\"nombre_entidad_nunique\"]\n",
    "df_personas[\"log_valor_del_contrato_mean\"] = df_personas[\n",
    "    \"valor_del_contrato_mean\"\n",
    "].apply(np.log)"
   ]
  },
  {
   "cell_type": "code",
   "execution_count": 85,
   "id": "6e77a427",
   "metadata": {},
   "outputs": [
    {
     "data": {
      "text/html": [
       "<pre style=\"white-space:pre;overflow-x:auto;line-height:normal;font-family:Menlo,'DejaVu Sans Mono',consolas,'Courier New',monospace\"><span style=\"font-weight: bold\">&lt;</span><span style=\"color: #ff00ff; text-decoration-color: #ff00ff; font-weight: bold\">IPython.core.display.Javascript</span><span style=\"color: #000000; text-decoration-color: #000000\"> object</span><span style=\"font-weight: bold\">&gt;</span>\n",
       "</pre>\n"
      ],
      "text/plain": [
       "\u001b[1m<\u001b[0m\u001b[1;95mIPython.core.display.Javascript\u001b[0m\u001b[39m object\u001b[0m\u001b[1m>\u001b[0m\n"
      ]
     },
     "metadata": {},
     "output_type": "display_data"
    },
    {
     "data": {
      "application/javascript": [
       "\n",
       "            setTimeout(function() {\n",
       "                var nbb_cell_id = 85;\n",
       "                var nbb_unformatted_code = \"df_personas[\\\"days_since_first_contract\\\"] = (today - df_personas[\\\"fecha_de_inicio_del_contrato_min\\\"]).apply(lambda x: x.days)\";\n",
       "                var nbb_formatted_code = \"df_personas[\\\"days_since_first_contract\\\"] = (\\n    today - df_personas[\\\"fecha_de_inicio_del_contrato_min\\\"]\\n).apply(lambda x: x.days)\";\n",
       "                var nbb_cells = Jupyter.notebook.get_cells();\n",
       "                for (var i = 0; i < nbb_cells.length; ++i) {\n",
       "                    if (nbb_cells[i].input_prompt_number == nbb_cell_id) {\n",
       "                        if (nbb_cells[i].get_text() == nbb_unformatted_code) {\n",
       "                             nbb_cells[i].set_text(nbb_formatted_code);\n",
       "                        }\n",
       "                        break;\n",
       "                    }\n",
       "                }\n",
       "            }, 500);\n",
       "            "
      ]
     },
     "metadata": {},
     "output_type": "display_data"
    }
   ],
   "source": [
    "df_personas[\"days_since_first_contract\"] = (\n",
    "    today - df_personas[\"fecha_de_inicio_del_contrato_min\"]\n",
    ").apply(lambda x: x.days)"
   ]
  },
  {
   "cell_type": "code",
   "execution_count": 89,
   "id": "85508e2e",
   "metadata": {},
   "outputs": [
    {
     "data": {
      "text/html": [
       "<pre style=\"white-space:pre;overflow-x:auto;line-height:normal;font-family:Menlo,'DejaVu Sans Mono',consolas,'Courier New',monospace\"><span style=\"font-weight: bold\">&lt;</span><span style=\"color: #ff00ff; text-decoration-color: #ff00ff; font-weight: bold\">IPython.core.display.Javascript</span><span style=\"color: #000000; text-decoration-color: #000000\"> object</span><span style=\"font-weight: bold\">&gt;</span>\n",
       "</pre>\n"
      ],
      "text/plain": [
       "\u001b[1m<\u001b[0m\u001b[1;95mIPython.core.display.Javascript\u001b[0m\u001b[39m object\u001b[0m\u001b[1m>\u001b[0m\n"
      ]
     },
     "metadata": {},
     "output_type": "display_data"
    },
    {
     "data": {
      "application/javascript": [
       "\n",
       "            setTimeout(function() {\n",
       "                var nbb_cell_id = 89;\n",
       "                var nbb_unformatted_code = \"df_personas[\\\"days_since_first_by_count\\\"] = df_personas[\\\"days_since_first_contract\\\"]/df_personas[\\\"index_count\\\"]\";\n",
       "                var nbb_formatted_code = \"df_personas[\\\"days_since_first_by_count\\\"] = (\\n    df_personas[\\\"days_since_first_contract\\\"] / df_personas[\\\"index_count\\\"]\\n)\";\n",
       "                var nbb_cells = Jupyter.notebook.get_cells();\n",
       "                for (var i = 0; i < nbb_cells.length; ++i) {\n",
       "                    if (nbb_cells[i].input_prompt_number == nbb_cell_id) {\n",
       "                        if (nbb_cells[i].get_text() == nbb_unformatted_code) {\n",
       "                             nbb_cells[i].set_text(nbb_formatted_code);\n",
       "                        }\n",
       "                        break;\n",
       "                    }\n",
       "                }\n",
       "            }, 500);\n",
       "            "
      ]
     },
     "metadata": {},
     "output_type": "display_data"
    }
   ],
   "source": [
    "df_personas[\"days_since_first_by_count\"] = df_personas[\"days_since_first_contract\"]/df_personas[\"index_count\"]\n"
   ]
  },
  {
   "cell_type": "code",
   "execution_count": 91,
   "id": "6564fb06",
   "metadata": {},
   "outputs": [
    {
     "data": {
      "text/html": [
       "<pre style=\"white-space:pre;overflow-x:auto;line-height:normal;font-family:Menlo,'DejaVu Sans Mono',consolas,'Courier New',monospace\"><span style=\"font-weight: bold\">&lt;</span><span style=\"color: #ff00ff; text-decoration-color: #ff00ff; font-weight: bold\">IPython.core.display.Javascript</span><span style=\"color: #000000; text-decoration-color: #000000\"> object</span><span style=\"font-weight: bold\">&gt;</span>\n",
       "</pre>\n"
      ],
      "text/plain": [
       "\u001b[1m<\u001b[0m\u001b[1;95mIPython.core.display.Javascript\u001b[0m\u001b[39m object\u001b[0m\u001b[1m>\u001b[0m\n"
      ]
     },
     "metadata": {},
     "output_type": "display_data"
    },
    {
     "data": {
      "application/javascript": [
       "\n",
       "            setTimeout(function() {\n",
       "                var nbb_cell_id = 91;\n",
       "                var nbb_unformatted_code = \"df_personas.drop(['nombre_entidad_nunique','ciudad_nunique','valor_del_contrato_mean','valor_del_contrato_sum','fecha_de_inicio_del_contrato_min'],axis=1,inplace=True)\";\n",
       "                var nbb_formatted_code = \"df_personas.drop(\\n    [\\n        \\\"nombre_entidad_nunique\\\",\\n        \\\"ciudad_nunique\\\",\\n        \\\"valor_del_contrato_mean\\\",\\n        \\\"valor_del_contrato_sum\\\",\\n        \\\"fecha_de_inicio_del_contrato_min\\\",\\n    ],\\n    axis=1,\\n    inplace=True,\\n)\";\n",
       "                var nbb_cells = Jupyter.notebook.get_cells();\n",
       "                for (var i = 0; i < nbb_cells.length; ++i) {\n",
       "                    if (nbb_cells[i].input_prompt_number == nbb_cell_id) {\n",
       "                        if (nbb_cells[i].get_text() == nbb_unformatted_code) {\n",
       "                             nbb_cells[i].set_text(nbb_formatted_code);\n",
       "                        }\n",
       "                        break;\n",
       "                    }\n",
       "                }\n",
       "            }, 500);\n",
       "            "
      ]
     },
     "metadata": {},
     "output_type": "display_data"
    }
   ],
   "source": [
    "df_personas.drop(\n",
    "    [\n",
    "        \"nombre_entidad_nunique\",\n",
    "        \"ciudad_nunique\",\n",
    "        \"valor_del_contrato_mean\",\n",
    "        \"fecha_de_inicio_del_contrato_min\",\n",
    "    ],\n",
    "    axis=1,\n",
    "    inplace=True,\n",
    ")"
   ]
  },
  {
   "cell_type": "code",
   "execution_count": 144,
   "id": "6c299a9d",
   "metadata": {},
   "outputs": [
    {
     "data": {
      "text/html": [
       "<pre style=\"white-space:pre;overflow-x:auto;line-height:normal;font-family:Menlo,'DejaVu Sans Mono',consolas,'Courier New',monospace\"><span style=\"font-weight: bold\">&lt;</span><span style=\"color: #ff00ff; text-decoration-color: #ff00ff; font-weight: bold\">IPython.core.display.Javascript</span><span style=\"color: #000000; text-decoration-color: #000000\"> object</span><span style=\"font-weight: bold\">&gt;</span>\n",
       "</pre>\n"
      ],
      "text/plain": [
       "\u001b[1m<\u001b[0m\u001b[1;95mIPython.core.display.Javascript\u001b[0m\u001b[39m object\u001b[0m\u001b[1m>\u001b[0m\n"
      ]
     },
     "metadata": {},
     "output_type": "display_data"
    },
    {
     "data": {
      "application/javascript": [
       "\n",
       "            setTimeout(function() {\n",
       "                var nbb_cell_id = 144;\n",
       "                var nbb_unformatted_code = \"df_personas[\\\"cluster\\\"] = DBSCAN(eps=2, min_samples=5).fit_predict(\\n    ss.fit_transform(\\n        df_personas.drop(\\n            [\\\"cluster\\\", \\\"documento_proveedor\\\", \\\"proveedor_adjudicado\\\"], axis=1\\n        ).values\\n    )\\n)\";\n",
       "                var nbb_formatted_code = \"df_personas[\\\"cluster\\\"] = DBSCAN(eps=2, min_samples=5).fit_predict(\\n    ss.fit_transform(\\n        df_personas.drop(\\n            [\\\"cluster\\\", \\\"documento_proveedor\\\", \\\"proveedor_adjudicado\\\"], axis=1\\n        ).values\\n    )\\n)\";\n",
       "                var nbb_cells = Jupyter.notebook.get_cells();\n",
       "                for (var i = 0; i < nbb_cells.length; ++i) {\n",
       "                    if (nbb_cells[i].input_prompt_number == nbb_cell_id) {\n",
       "                        if (nbb_cells[i].get_text() == nbb_unformatted_code) {\n",
       "                             nbb_cells[i].set_text(nbb_formatted_code);\n",
       "                        }\n",
       "                        break;\n",
       "                    }\n",
       "                }\n",
       "            }, 500);\n",
       "            "
      ]
     },
     "metadata": {},
     "output_type": "display_data"
    }
   ],
   "source": [
    "df_personas[\"cluster\"] = DBSCAN(eps=2, min_samples=5).fit_predict(\n",
    "    ss.fit_transform(\n",
    "        df_personas.drop(\n",
    "            [\"cluster\", \"documento_proveedor\", \"proveedor_adjudicado\"], axis=1\n",
    "        ).values\n",
    "    )\n",
    ")"
   ]
  },
  {
   "cell_type": "code",
   "execution_count": 102,
   "id": "101714f8",
   "metadata": {},
   "outputs": [
    {
     "data": {
      "text/html": [
       "<pre style=\"white-space:pre;overflow-x:auto;line-height:normal;font-family:Menlo,'DejaVu Sans Mono',consolas,'Courier New',monospace\"><span style=\"font-weight: bold\">&lt;</span><span style=\"color: #ff00ff; text-decoration-color: #ff00ff; font-weight: bold\">IPython.core.display.Javascript</span><span style=\"color: #000000; text-decoration-color: #000000\"> object</span><span style=\"font-weight: bold\">&gt;</span>\n",
       "</pre>\n"
      ],
      "text/plain": [
       "\u001b[1m<\u001b[0m\u001b[1;95mIPython.core.display.Javascript\u001b[0m\u001b[39m object\u001b[0m\u001b[1m>\u001b[0m\n"
      ]
     },
     "metadata": {},
     "output_type": "display_data"
    },
    {
     "data": {
      "application/javascript": [
       "\n",
       "            setTimeout(function() {\n",
       "                var nbb_cell_id = 102;\n",
       "                var nbb_unformatted_code = \"df_personas[\\\"cluster\\\"] = DBSCAN(eps=2, min_samples=5).fit_predict(\\n    ss.fit_transform(df_personas.values)\\n)\";\n",
       "                var nbb_formatted_code = \"df_personas[\\\"cluster\\\"] = DBSCAN(eps=2, min_samples=5).fit_predict(\\n    ss.fit_transform(df_personas.values)\\n)\";\n",
       "                var nbb_cells = Jupyter.notebook.get_cells();\n",
       "                for (var i = 0; i < nbb_cells.length; ++i) {\n",
       "                    if (nbb_cells[i].input_prompt_number == nbb_cell_id) {\n",
       "                        if (nbb_cells[i].get_text() == nbb_unformatted_code) {\n",
       "                             nbb_cells[i].set_text(nbb_formatted_code);\n",
       "                        }\n",
       "                        break;\n",
       "                    }\n",
       "                }\n",
       "            }, 500);\n",
       "            "
      ]
     },
     "metadata": {},
     "output_type": "display_data"
    }
   ],
   "source": [
    "df_personas[\"cluster\"] = DBSCAN(eps=2, min_samples=5).fit_predict(\n",
    "    ss.fit_transform(df_personas.drop('documento_proveedor',axis=1).values)\n",
    ")"
   ]
  },
  {
   "cell_type": "code",
   "execution_count": 117,
   "id": "a6a9137f",
   "metadata": {},
   "outputs": [
    {
     "data": {
      "image/png": "[encoded data removed]"
     },
     "metadata": {
      "needs_background": "light"
     },
     "output_type": "display_data"
    },
    {
     "data": {
      "text/html": [
       "<pre style=\"white-space:pre;overflow-x:auto;line-height:normal;font-family:Menlo,'DejaVu Sans Mono',consolas,'Courier New',monospace\"><span style=\"font-weight: bold\">&lt;</span><span style=\"color: #ff00ff; text-decoration-color: #ff00ff; font-weight: bold\">IPython.core.display.Javascript</span><span style=\"color: #000000; text-decoration-color: #000000\"> object</span><span style=\"font-weight: bold\">&gt;</span>\n",
       "</pre>\n"
      ],
      "text/plain": [
       "\u001b[1m<\u001b[0m\u001b[1;95mIPython.core.display.Javascript\u001b[0m\u001b[39m object\u001b[0m\u001b[1m>\u001b[0m\n"
      ]
     },
     "metadata": {},
     "output_type": "display_data"
    },
    {
     "data": {
      "application/javascript": [
       "\n",
       "            setTimeout(function() {\n",
       "                var nbb_cell_id = 117;\n",
       "                var nbb_unformatted_code = \"fig, ax = plt.subplots()\\nax.hist(df_personas[\\\"index_count\\\"], bins=240)\\nax.set_xlim(0, 25)\\nfig.set_size_inches(12, 7)\";\n",
       "                var nbb_formatted_code = \"fig, ax = plt.subplots()\\nax.hist(df_personas[\\\"index_count\\\"], bins=240)\\nax.set_xlim(0, 25)\\nfig.set_size_inches(12, 7)\";\n",
       "                var nbb_cells = Jupyter.notebook.get_cells();\n",
       "                for (var i = 0; i < nbb_cells.length; ++i) {\n",
       "                    if (nbb_cells[i].input_prompt_number == nbb_cell_id) {\n",
       "                        if (nbb_cells[i].get_text() == nbb_unformatted_code) {\n",
       "                             nbb_cells[i].set_text(nbb_formatted_code);\n",
       "                        }\n",
       "                        break;\n",
       "                    }\n",
       "                }\n",
       "            }, 500);\n",
       "            "
      ]
     },
     "metadata": {},
     "output_type": "display_data"
    }
   ],
   "source": [
    "fig, ax = plt.subplots()\n",
    "ax.hist(df_personas[\"index_count\"], bins=240)\n",
    "ax.set_xlim(0, 25)\n",
    "fig.set_size_inches(12, 7)"
   ]
  },
  {
   "cell_type": "code",
   "execution_count": 127,
   "id": "af3b5393",
   "metadata": {},
   "outputs": [
    {
     "data": {
      "text/html": [
       "<pre style=\"white-space:pre;overflow-x:auto;line-height:normal;font-family:Menlo,'DejaVu Sans Mono',consolas,'Courier New',monospace\">\n",
       "<span style=\"color: #008080; text-decoration-color: #008080; font-weight: bold\">1</span>    <span style=\"color: #008080; text-decoration-color: #008080; font-weight: bold\">88.7</span>%\n",
       "<span style=\"color: #008080; text-decoration-color: #008080; font-weight: bold\">2</span>     <span style=\"color: #008080; text-decoration-color: #008080; font-weight: bold\">9.9</span>%\n",
       "<span style=\"color: #008080; text-decoration-color: #008080; font-weight: bold\">3</span>     <span style=\"color: #008080; text-decoration-color: #008080; font-weight: bold\">0.9</span>%\n",
       "<span style=\"color: #008080; text-decoration-color: #008080; font-weight: bold\">4</span>     <span style=\"color: #008080; text-decoration-color: #008080; font-weight: bold\">0.1</span>%\n",
       "<span style=\"color: #008080; text-decoration-color: #008080; font-weight: bold\">5</span>     <span style=\"color: #008080; text-decoration-color: #008080; font-weight: bold\">0.0</span>%\n",
       "Name: date_duration_max_open_contracts, dtype: object\n",
       "</pre>\n"
      ],
      "text/plain": [
       "\n",
       "\u001b[1;36m1\u001b[0m    \u001b[1;36m88.7\u001b[0m%\n",
       "\u001b[1;36m2\u001b[0m     \u001b[1;36m9.9\u001b[0m%\n",
       "\u001b[1;36m3\u001b[0m     \u001b[1;36m0.9\u001b[0m%\n",
       "\u001b[1;36m4\u001b[0m     \u001b[1;36m0.1\u001b[0m%\n",
       "\u001b[1;36m5\u001b[0m     \u001b[1;36m0.0\u001b[0m%\n",
       "Name: date_duration_max_open_contracts, dtype: object\n"
      ]
     },
     "metadata": {},
     "output_type": "display_data"
    },
    {
     "data": {
      "text/html": [
       "<pre style=\"white-space:pre;overflow-x:auto;line-height:normal;font-family:Menlo,'DejaVu Sans Mono',consolas,'Courier New',monospace\"><span style=\"font-weight: bold\">&lt;</span><span style=\"color: #ff00ff; text-decoration-color: #ff00ff; font-weight: bold\">IPython.core.display.Javascript</span><span style=\"color: #000000; text-decoration-color: #000000\"> object</span><span style=\"font-weight: bold\">&gt;</span>\n",
       "</pre>\n"
      ],
      "text/plain": [
       "\u001b[1m<\u001b[0m\u001b[1;95mIPython.core.display.Javascript\u001b[0m\u001b[39m object\u001b[0m\u001b[1m>\u001b[0m\n"
      ]
     },
     "metadata": {},
     "output_type": "display_data"
    },
    {
     "data": {
      "application/javascript": [
       "\n",
       "            setTimeout(function() {\n",
       "                var nbb_cell_id = 127;\n",
       "                var nbb_unformatted_code = \"prop_counts(df_personas[\\\"date_duration_max_open_contracts\\\"]).head(5)  # .value_counts()\";\n",
       "                var nbb_formatted_code = \"prop_counts(df_personas[\\\"date_duration_max_open_contracts\\\"]).head(5)  # .value_counts()\";\n",
       "                var nbb_cells = Jupyter.notebook.get_cells();\n",
       "                for (var i = 0; i < nbb_cells.length; ++i) {\n",
       "                    if (nbb_cells[i].input_prompt_number == nbb_cell_id) {\n",
       "                        if (nbb_cells[i].get_text() == nbb_unformatted_code) {\n",
       "                             nbb_cells[i].set_text(nbb_formatted_code);\n",
       "                        }\n",
       "                        break;\n",
       "                    }\n",
       "                }\n",
       "            }, 500);\n",
       "            "
      ]
     },
     "metadata": {},
     "output_type": "display_data"
    }
   ],
   "source": [
    "prop_counts(df_personas[\"date_duration_max_open_contracts\"]).head(5)  # .value_counts()"
   ]
  },
  {
   "cell_type": "code",
   "execution_count": 136,
   "id": "f7703abe",
   "metadata": {},
   "outputs": [
    {
     "data": {
      "text/html": [
       "<pre style=\"white-space:pre;overflow-x:auto;line-height:normal;font-family:Menlo,'DejaVu Sans Mono',consolas,'Courier New',monospace\"><span style=\"font-weight: bold\">&lt;</span><span style=\"color: #ff00ff; text-decoration-color: #ff00ff; font-weight: bold\">IPython.core.display.Javascript</span><span style=\"color: #000000; text-decoration-color: #000000\"> object</span><span style=\"font-weight: bold\">&gt;</span>\n",
       "</pre>\n"
      ],
      "text/plain": [
       "\u001b[1m<\u001b[0m\u001b[1;95mIPython.core.display.Javascript\u001b[0m\u001b[39m object\u001b[0m\u001b[1m>\u001b[0m\n"
      ]
     },
     "metadata": {},
     "output_type": "display_data"
    },
    {
     "data": {
      "application/javascript": [
       "\n",
       "            setTimeout(function() {\n",
       "                var nbb_cell_id = 136;\n",
       "                var nbb_unformatted_code = \"df_personas = pd.merge(df_personas,\\n                       secop[[\\\"proveedor_adjudicado\\\", \\\"documento_proveedor\\\"]].drop_duplicates(),\\n                       how='left',on='documento_proveedor')\";\n",
       "                var nbb_formatted_code = \"df_personas = pd.merge(\\n    df_personas,\\n    secop[[\\\"proveedor_adjudicado\\\", \\\"documento_proveedor\\\"]].drop_duplicates(),\\n    how=\\\"left\\\",\\n    on=\\\"documento_proveedor\\\",\\n)\";\n",
       "                var nbb_cells = Jupyter.notebook.get_cells();\n",
       "                for (var i = 0; i < nbb_cells.length; ++i) {\n",
       "                    if (nbb_cells[i].input_prompt_number == nbb_cell_id) {\n",
       "                        if (nbb_cells[i].get_text() == nbb_unformatted_code) {\n",
       "                             nbb_cells[i].set_text(nbb_formatted_code);\n",
       "                        }\n",
       "                        break;\n",
       "                    }\n",
       "                }\n",
       "            }, 500);\n",
       "            "
      ]
     },
     "metadata": {},
     "output_type": "display_data"
    }
   ],
   "source": [
    "df_personas = pd.merge(\n",
    "    df_personas,\n",
    "    secop[[\"proveedor_adjudicado\", \"documento_proveedor\"]].drop_duplicates(subset='documento_proveedor'),\n",
    "    how=\"left\",\n",
    "    on=\"documento_proveedor\",\n",
    ")"
   ]
  },
  {
   "cell_type": "code",
   "execution_count": 145,
   "id": "5b7c1abb",
   "metadata": {},
   "outputs": [
    {
     "data": {
      "text/html": [
       "<pre style=\"white-space:pre;overflow-x:auto;line-height:normal;font-family:Menlo,'DejaVu Sans Mono',consolas,'Courier New',monospace\"><span style=\"font-weight: bold\">&lt;</span><span style=\"color: #ff00ff; text-decoration-color: #ff00ff; font-weight: bold\">IPython.core.display.Javascript</span><span style=\"color: #000000; text-decoration-color: #000000\"> object</span><span style=\"font-weight: bold\">&gt;</span>\n",
       "</pre>\n"
      ],
      "text/plain": [
       "\u001b[1m<\u001b[0m\u001b[1;95mIPython.core.display.Javascript\u001b[0m\u001b[39m object\u001b[0m\u001b[1m>\u001b[0m\n"
      ]
     },
     "metadata": {},
     "output_type": "display_data"
    },
    {
     "data": {
      "application/javascript": [
       "\n",
       "            setTimeout(function() {\n",
       "                var nbb_cell_id = 145;\n",
       "                var nbb_unformatted_code = \"\\npca = PCA(n_components=2)\\ndf_personas[[\\\"x_pca\\\",\\\"y_pca\\\"]] = pca.fit_transform(df_personas.drop([\\\"cluster\\\", \\\"documento_proveedor\\\",'proveedor_adjudicado'], axis=1).values)\";\n",
       "                var nbb_formatted_code = \"pca = PCA(n_components=2)\\ndf_personas[[\\\"x_pca\\\", \\\"y_pca\\\"]] = pca.fit_transform(\\n    df_personas.drop(\\n        [\\\"cluster\\\", \\\"documento_proveedor\\\", \\\"proveedor_adjudicado\\\"], axis=1\\n    ).values\\n)\";\n",
       "                var nbb_cells = Jupyter.notebook.get_cells();\n",
       "                for (var i = 0; i < nbb_cells.length; ++i) {\n",
       "                    if (nbb_cells[i].input_prompt_number == nbb_cell_id) {\n",
       "                        if (nbb_cells[i].get_text() == nbb_unformatted_code) {\n",
       "                             nbb_cells[i].set_text(nbb_formatted_code);\n",
       "                        }\n",
       "                        break;\n",
       "                    }\n",
       "                }\n",
       "            }, 500);\n",
       "            "
      ]
     },
     "metadata": {},
     "output_type": "display_data"
    }
   ],
   "source": [
    "pca = PCA(n_components=2)\n",
    "df_personas[[\"x_pca\", \"y_pca\"]] = pca.fit_transform(\n",
    "    df_personas.drop(\n",
    "        [\"cluster\", \"documento_proveedor\", \"proveedor_adjudicado\"], axis=1\n",
    "    ).values\n",
    ")"
   ]
  },
  {
   "cell_type": "code",
   "execution_count": 151,
   "id": "b57b226e",
   "metadata": {},
   "outputs": [
    {
     "data": {
      "image/png": "[encoded data removed]"
     },
     "metadata": {
      "needs_background": "light"
     },
     "output_type": "display_data"
    },
    {
     "data": {
      "text/html": [
       "<pre style=\"white-space:pre;overflow-x:auto;line-height:normal;font-family:Menlo,'DejaVu Sans Mono',consolas,'Courier New',monospace\"><span style=\"font-weight: bold\">&lt;</span><span style=\"color: #ff00ff; text-decoration-color: #ff00ff; font-weight: bold\">IPython.core.display.Javascript</span><span style=\"color: #000000; text-decoration-color: #000000\"> object</span><span style=\"font-weight: bold\">&gt;</span>\n",
       "</pre>\n"
      ],
      "text/plain": [
       "\u001b[1m<\u001b[0m\u001b[1;95mIPython.core.display.Javascript\u001b[0m\u001b[39m object\u001b[0m\u001b[1m>\u001b[0m\n"
      ]
     },
     "metadata": {},
     "output_type": "display_data"
    },
    {
     "data": {
      "application/javascript": [
       "\n",
       "            setTimeout(function() {\n",
       "                var nbb_cell_id = 151;\n",
       "                var nbb_unformatted_code = \"fig, ax = plt.subplots()\\nscat = ax.scatter(\\n    df_personas[\\\"x_pca\\\"], df_personas[\\\"y_pca\\\"], c=df_personas[\\\"cluster\\\"] == -1, s=0.6\\n)\\nlegend = ax.legend(*scat.legend_elements(), loc=\\\"upper right\\\", title=\\\"Outlier\\\")\\nax.add_artist(legend)\\nfig.set_size_inches(8, 8)\";\n",
       "                var nbb_formatted_code = \"fig, ax = plt.subplots()\\nscat = ax.scatter(\\n    df_personas[\\\"x_pca\\\"], df_personas[\\\"y_pca\\\"], c=df_personas[\\\"cluster\\\"] == -1, s=0.6\\n)\\nlegend = ax.legend(*scat.legend_elements(), loc=\\\"upper right\\\", title=\\\"Outlier\\\")\\nax.add_artist(legend)\\nfig.set_size_inches(8, 8)\";\n",
       "                var nbb_cells = Jupyter.notebook.get_cells();\n",
       "                for (var i = 0; i < nbb_cells.length; ++i) {\n",
       "                    if (nbb_cells[i].input_prompt_number == nbb_cell_id) {\n",
       "                        if (nbb_cells[i].get_text() == nbb_unformatted_code) {\n",
       "                             nbb_cells[i].set_text(nbb_formatted_code);\n",
       "                        }\n",
       "                        break;\n",
       "                    }\n",
       "                }\n",
       "            }, 500);\n",
       "            "
      ]
     },
     "metadata": {},
     "output_type": "display_data"
    }
   ],
   "source": [
    "fig, ax = plt.subplots()\n",
    "scat = ax.scatter(\n",
    "    df_personas[\"x_pca\"], df_personas[\"y_pca\"], c=df_personas[\"cluster\"] == -1, s=0.6\n",
    ")\n",
    "legend = ax.legend(*scat.legend_elements(), loc=\"upper right\", title=\"Outlier\")\n",
    "ax.add_artist(legend)\n",
    "fig.set_size_inches(8, 8)"
   ]
  },
  {
   "cell_type": "code",
   "execution_count": 153,
   "id": "8266d44d",
   "metadata": {},
   "outputs": [
    {
     "data": {
      "text/html": [
       "<pre style=\"white-space:pre;overflow-x:auto;line-height:normal;font-family:Menlo,'DejaVu Sans Mono',consolas,'Courier New',monospace\"><span style=\"color: #7fbfbf; text-decoration-color: #7fbfbf\">[08/15/22 01:33:51] </span><span style=\"color: #000080; text-decoration-color: #000080\">INFO    </span> Saving data to <span style=\"color: #008000; text-decoration-color: #008000\">'df_clusters_contractors'</span> <span style=\"font-weight: bold\">(</span>ParquetDataSet<span style=\"font-weight: bold\">)</span><span style=\"color: #808000; text-decoration-color: #808000\">...</span>       <a href=\"file:///opt/homebrew/Caskroom/miniforge/base/envs/dm_project/lib/python3.10/site-packages/kedro/io/data_catalog.py\" target=\"_blank\"><span style=\"color: #7f7f7f; text-decoration-color: #7f7f7f\">data_catalog.py</span></a><span style=\"color: #7f7f7f; text-decoration-color: #7f7f7f\">:</span><a href=\"file:///opt/homebrew/Caskroom/miniforge/base/envs/dm_project/lib/python3.10/site-packages/kedro/io/data_catalog.py#382\" target=\"_blank\"><span style=\"color: #7f7f7f; text-decoration-color: #7f7f7f\">382</span></a>\n",
       "</pre>\n"
      ],
      "text/plain": [
       "\u001b[2;36m[08/15/22 01:33:51]\u001b[0m\u001b[2;36m \u001b[0m\u001b[34mINFO    \u001b[0m Saving data to \u001b[32m'df_clusters_contractors'\u001b[0m \u001b[1m(\u001b[0mParquetDataSet\u001b[1m)\u001b[0m\u001b[33m...\u001b[0m       \u001b]8;id=938305;file:///opt/homebrew/Caskroom/miniforge/base/envs/dm_project/lib/python3.10/site-packages/kedro/io/data_catalog.py\u001b\\\u001b[2mdata_catalog.py\u001b[0m\u001b]8;;\u001b\\\u001b[2m:\u001b[0m\u001b]8;id=674438;file:///opt/homebrew/Caskroom/miniforge/base/envs/dm_project/lib/python3.10/site-packages/kedro/io/data_catalog.py#382\u001b\\\u001b[2m382\u001b[0m\u001b]8;;\u001b\\\n"
      ]
     },
     "metadata": {},
     "output_type": "display_data"
    },
    {
     "data": {
      "text/html": [
       "<pre style=\"white-space:pre;overflow-x:auto;line-height:normal;font-family:Menlo,'DejaVu Sans Mono',consolas,'Courier New',monospace\"><span style=\"font-weight: bold\">&lt;</span><span style=\"color: #ff00ff; text-decoration-color: #ff00ff; font-weight: bold\">IPython.core.display.Javascript</span><span style=\"color: #000000; text-decoration-color: #000000\"> object</span><span style=\"font-weight: bold\">&gt;</span>\n",
       "</pre>\n"
      ],
      "text/plain": [
       "\u001b[1m<\u001b[0m\u001b[1;95mIPython.core.display.Javascript\u001b[0m\u001b[39m object\u001b[0m\u001b[1m>\u001b[0m\n"
      ]
     },
     "metadata": {},
     "output_type": "display_data"
    },
    {
     "data": {
      "application/javascript": [
       "\n",
       "            setTimeout(function() {\n",
       "                var nbb_cell_id = 153;\n",
       "                var nbb_unformatted_code = \"catalog.save(\\n    \\\"df_clusters_contractors\\\",\\n    df_personas[\\n        [\\n            \\\"documento_proveedor\\\",\\n            \\\"proveedor_adjudicado\\\",\\n            \\\"index_count\\\",\\n            \\\"date_duration_max_open_contracts\\\",\\n            \\\"log_valor_del_contrato_mean\\\",\\n            \\\"cluster\\\",\\\"x_pca\\\",\\\"y_pca\\\"\\n        ]\\n    ],\\n)\";\n",
       "                var nbb_formatted_code = \"catalog.save(\\n    \\\"df_clusters_contractors\\\",\\n    df_personas[\\n        [\\n            \\\"documento_proveedor\\\",\\n            \\\"proveedor_adjudicado\\\",\\n            \\\"index_count\\\",\\n            \\\"date_duration_max_open_contracts\\\",\\n            \\\"log_valor_del_contrato_mean\\\",\\n            \\\"cluster\\\",\\n            \\\"x_pca\\\",\\n            \\\"y_pca\\\",\\n        ]\\n    ],\\n)\";\n",
       "                var nbb_cells = Jupyter.notebook.get_cells();\n",
       "                for (var i = 0; i < nbb_cells.length; ++i) {\n",
       "                    if (nbb_cells[i].input_prompt_number == nbb_cell_id) {\n",
       "                        if (nbb_cells[i].get_text() == nbb_unformatted_code) {\n",
       "                             nbb_cells[i].set_text(nbb_formatted_code);\n",
       "                        }\n",
       "                        break;\n",
       "                    }\n",
       "                }\n",
       "            }, 500);\n",
       "            "
      ]
     },
     "metadata": {},
     "output_type": "display_data"
    }
   ],
   "source": [
    "catalog.save(\n",
    "    \"df_clusters_contractors\",\n",
    "    df_personas[\n",
    "        [\n",
    "            \"documento_proveedor\",\n",
    "            \"proveedor_adjudicado\",\n",
    "            \"index_count\",\n",
    "            \"date_duration_max_open_contracts\",\n",
    "            \"log_valor_del_contrato_mean\",\n",
    "            \"cluster\",\n",
    "            \"x_pca\",\n",
    "            \"y_pca\",\n",
    "        ]\n",
    "    ],\n",
    ")"
   ]
  },
  {
   "cell_type": "code",
   "execution_count": 141,
   "id": "623a8643",
   "metadata": {},
   "outputs": [
    {
     "data": {
      "text/html": [
       "<div>\n",
       "<style scoped>\n",
       "    .dataframe tbody tr th:only-of-type {\n",
       "        vertical-align: middle;\n",
       "    }\n",
       "\n",
       "    .dataframe tbody tr th {\n",
       "        vertical-align: top;\n",
       "    }\n",
       "\n",
       "    .dataframe thead th {\n",
       "        text-align: right;\n",
       "    }\n",
       "</style>\n",
       "<table border=\"1\" class=\"dataframe\">\n",
       "  <thead>\n",
       "    <tr style=\"text-align: right;\">\n",
       "      <th></th>\n",
       "      <th>documento_proveedor</th>\n",
       "      <th>index_count</th>\n",
       "      <th>dias_adicionados_mean</th>\n",
       "      <th>date_duration_max_open_contracts</th>\n",
       "      <th>pca_0_mean</th>\n",
       "      <th>pca_1_mean</th>\n",
       "      <th>pca_2_mean</th>\n",
       "      <th>pca_3_mean</th>\n",
       "      <th>pca_4_mean</th>\n",
       "      <th>pca_5_mean</th>\n",
       "      <th>...</th>\n",
       "      <th>pca_7_mean</th>\n",
       "      <th>pca_8_mean</th>\n",
       "      <th>pca_9_mean</th>\n",
       "      <th>prop_ent</th>\n",
       "      <th>prop_ciudad</th>\n",
       "      <th>log_valor_del_contrato_mean</th>\n",
       "      <th>days_since_first_contract</th>\n",
       "      <th>days_since_first_by_count</th>\n",
       "      <th>cluster</th>\n",
       "      <th>proveedor_adjudicado</th>\n",
       "    </tr>\n",
       "  </thead>\n",
       "  <tbody>\n",
       "    <tr>\n",
       "      <th>267696</th>\n",
       "      <td>98475036</td>\n",
       "      <td>219</td>\n",
       "      <td>0.821918</td>\n",
       "      <td>43</td>\n",
       "      <td>-0.046546</td>\n",
       "      <td>-0.423400</td>\n",
       "      <td>1.673372</td>\n",
       "      <td>0.161327</td>\n",
       "      <td>0.023734</td>\n",
       "      <td>-1.772883</td>\n",
       "      <td>...</td>\n",
       "      <td>6.599925</td>\n",
       "      <td>0.088057</td>\n",
       "      <td>1.518557</td>\n",
       "      <td>0.009009</td>\n",
       "      <td>0.009009</td>\n",
       "      <td>17.431565</td>\n",
       "      <td>1713</td>\n",
       "      <td>7.821918</td>\n",
       "      <td>-1</td>\n",
       "      <td>dota hogar colchones</td>\n",
       "    </tr>\n",
       "    <tr>\n",
       "      <th>177252</th>\n",
       "      <td>59706955</td>\n",
       "      <td>204</td>\n",
       "      <td>3.313725</td>\n",
       "      <td>38</td>\n",
       "      <td>0.267381</td>\n",
       "      <td>-1.404240</td>\n",
       "      <td>2.530553</td>\n",
       "      <td>-0.176100</td>\n",
       "      <td>1.314510</td>\n",
       "      <td>-1.869544</td>\n",
       "      <td>...</td>\n",
       "      <td>5.805570</td>\n",
       "      <td>-0.511711</td>\n",
       "      <td>1.126793</td>\n",
       "      <td>0.017857</td>\n",
       "      <td>0.017857</td>\n",
       "      <td>18.600418</td>\n",
       "      <td>1410</td>\n",
       "      <td>6.911765</td>\n",
       "      <td>-1</td>\n",
       "      <td>deicy bravo jojoa</td>\n",
       "    </tr>\n",
       "    <tr>\n",
       "      <th>63581</th>\n",
       "      <td>23622025</td>\n",
       "      <td>172</td>\n",
       "      <td>0.715116</td>\n",
       "      <td>18</td>\n",
       "      <td>-0.493721</td>\n",
       "      <td>0.263277</td>\n",
       "      <td>1.794113</td>\n",
       "      <td>0.904088</td>\n",
       "      <td>-0.357872</td>\n",
       "      <td>-1.232693</td>\n",
       "      <td>...</td>\n",
       "      <td>6.812876</td>\n",
       "      <td>0.334897</td>\n",
       "      <td>1.568188</td>\n",
       "      <td>0.017857</td>\n",
       "      <td>0.017857</td>\n",
       "      <td>14.769836</td>\n",
       "      <td>1564</td>\n",
       "      <td>9.093023</td>\n",
       "      <td>-1</td>\n",
       "      <td>maria araceli leiva perilla</td>\n",
       "    </tr>\n",
       "    <tr>\n",
       "      <th>47807</th>\n",
       "      <td>17068260</td>\n",
       "      <td>169</td>\n",
       "      <td>19.751479</td>\n",
       "      <td>48</td>\n",
       "      <td>6.367724</td>\n",
       "      <td>0.845085</td>\n",
       "      <td>0.556430</td>\n",
       "      <td>-0.773149</td>\n",
       "      <td>0.024033</td>\n",
       "      <td>-0.980142</td>\n",
       "      <td>...</td>\n",
       "      <td>1.859662</td>\n",
       "      <td>1.404825</td>\n",
       "      <td>-0.619994</td>\n",
       "      <td>0.125000</td>\n",
       "      <td>0.125000</td>\n",
       "      <td>19.844395</td>\n",
       "      <td>1593</td>\n",
       "      <td>9.426036</td>\n",
       "      <td>-1</td>\n",
       "      <td>rafael antonio salamanca</td>\n",
       "    </tr>\n",
       "    <tr>\n",
       "      <th>249287</th>\n",
       "      <td>86075963</td>\n",
       "      <td>163</td>\n",
       "      <td>0.797546</td>\n",
       "      <td>14</td>\n",
       "      <td>0.025769</td>\n",
       "      <td>-0.927657</td>\n",
       "      <td>0.452002</td>\n",
       "      <td>-0.899477</td>\n",
       "      <td>0.531622</td>\n",
       "      <td>-1.859707</td>\n",
       "      <td>...</td>\n",
       "      <td>7.686668</td>\n",
       "      <td>-0.189100</td>\n",
       "      <td>1.969521</td>\n",
       "      <td>0.142857</td>\n",
       "      <td>0.142857</td>\n",
       "      <td>15.965232</td>\n",
       "      <td>1662</td>\n",
       "      <td>10.196319</td>\n",
       "      <td>-1</td>\n",
       "      <td>carlos ernesto rey aguilera</td>\n",
       "    </tr>\n",
       "    <tr>\n",
       "      <th>237219</th>\n",
       "      <td>80222117</td>\n",
       "      <td>148</td>\n",
       "      <td>3.918919</td>\n",
       "      <td>30</td>\n",
       "      <td>0.534181</td>\n",
       "      <td>-0.481944</td>\n",
       "      <td>0.695768</td>\n",
       "      <td>-0.472104</td>\n",
       "      <td>-0.304566</td>\n",
       "      <td>-1.419020</td>\n",
       "      <td>...</td>\n",
       "      <td>4.515492</td>\n",
       "      <td>0.870081</td>\n",
       "      <td>0.933605</td>\n",
       "      <td>0.008696</td>\n",
       "      <td>0.008696</td>\n",
       "      <td>18.409268</td>\n",
       "      <td>1718</td>\n",
       "      <td>11.608108</td>\n",
       "      <td>-1</td>\n",
       "      <td>miguel angel vallejo burgos</td>\n",
       "    </tr>\n",
       "    <tr>\n",
       "      <th>453904</th>\n",
       "      <td>1102720365</td>\n",
       "      <td>147</td>\n",
       "      <td>4.414966</td>\n",
       "      <td>12</td>\n",
       "      <td>0.244779</td>\n",
       "      <td>-0.500521</td>\n",
       "      <td>1.122730</td>\n",
       "      <td>0.347915</td>\n",
       "      <td>-0.206281</td>\n",
       "      <td>-1.408963</td>\n",
       "      <td>...</td>\n",
       "      <td>5.840912</td>\n",
       "      <td>0.292502</td>\n",
       "      <td>1.505907</td>\n",
       "      <td>0.009615</td>\n",
       "      <td>0.009615</td>\n",
       "      <td>16.925518</td>\n",
       "      <td>2330</td>\n",
       "      <td>15.850340</td>\n",
       "      <td>-1</td>\n",
       "      <td>mosthye vicente medina rodriguez - world m&amp;d  ...</td>\n",
       "    </tr>\n",
       "    <tr>\n",
       "      <th>302261</th>\n",
       "      <td>1016018644</td>\n",
       "      <td>129</td>\n",
       "      <td>4.426357</td>\n",
       "      <td>22</td>\n",
       "      <td>0.366106</td>\n",
       "      <td>-0.754169</td>\n",
       "      <td>1.025366</td>\n",
       "      <td>-0.297631</td>\n",
       "      <td>-1.031642</td>\n",
       "      <td>-2.586797</td>\n",
       "      <td>...</td>\n",
       "      <td>6.631485</td>\n",
       "      <td>0.512133</td>\n",
       "      <td>1.906689</td>\n",
       "      <td>0.014925</td>\n",
       "      <td>0.014925</td>\n",
       "      <td>16.281054</td>\n",
       "      <td>1624</td>\n",
       "      <td>12.589147</td>\n",
       "      <td>-1</td>\n",
       "      <td>bioemedic ingenieria biomedica</td>\n",
       "    </tr>\n",
       "    <tr>\n",
       "      <th>255383</th>\n",
       "      <td>91282210</td>\n",
       "      <td>127</td>\n",
       "      <td>3.165354</td>\n",
       "      <td>37</td>\n",
       "      <td>-1.366431</td>\n",
       "      <td>1.697657</td>\n",
       "      <td>3.907712</td>\n",
       "      <td>3.536135</td>\n",
       "      <td>-1.122033</td>\n",
       "      <td>-0.306703</td>\n",
       "      <td>...</td>\n",
       "      <td>7.284369</td>\n",
       "      <td>1.722037</td>\n",
       "      <td>2.257033</td>\n",
       "      <td>0.027027</td>\n",
       "      <td>0.027027</td>\n",
       "      <td>18.039303</td>\n",
       "      <td>1784</td>\n",
       "      <td>14.047244</td>\n",
       "      <td>-1</td>\n",
       "      <td>jairo osorio caballero</td>\n",
       "    </tr>\n",
       "    <tr>\n",
       "      <th>270827</th>\n",
       "      <td>830004892</td>\n",
       "      <td>122</td>\n",
       "      <td>9.508197</td>\n",
       "      <td>25</td>\n",
       "      <td>2.950823</td>\n",
       "      <td>-0.162726</td>\n",
       "      <td>0.430119</td>\n",
       "      <td>-0.652987</td>\n",
       "      <td>-0.344847</td>\n",
       "      <td>-1.182113</td>\n",
       "      <td>...</td>\n",
       "      <td>3.341962</td>\n",
       "      <td>0.820963</td>\n",
       "      <td>0.444149</td>\n",
       "      <td>0.043478</td>\n",
       "      <td>0.043478</td>\n",
       "      <td>19.483858</td>\n",
       "      <td>1712</td>\n",
       "      <td>14.032787</td>\n",
       "      <td>-1</td>\n",
       "      <td>tecnica electromedica s.a.</td>\n",
       "    </tr>\n",
       "    <tr>\n",
       "      <th>22499</th>\n",
       "      <td>10125834</td>\n",
       "      <td>122</td>\n",
       "      <td>0.352459</td>\n",
       "      <td>23</td>\n",
       "      <td>0.173699</td>\n",
       "      <td>-0.768087</td>\n",
       "      <td>1.232658</td>\n",
       "      <td>-0.486606</td>\n",
       "      <td>0.386641</td>\n",
       "      <td>-2.040878</td>\n",
       "      <td>...</td>\n",
       "      <td>6.507825</td>\n",
       "      <td>-0.163046</td>\n",
       "      <td>1.413647</td>\n",
       "      <td>0.013889</td>\n",
       "      <td>0.013889</td>\n",
       "      <td>17.759281</td>\n",
       "      <td>1790</td>\n",
       "      <td>14.672131</td>\n",
       "      <td>-1</td>\n",
       "      <td>jaime beltran uribe</td>\n",
       "    </tr>\n",
       "    <tr>\n",
       "      <th>215174</th>\n",
       "      <td>79338886</td>\n",
       "      <td>113</td>\n",
       "      <td>7.159292</td>\n",
       "      <td>28</td>\n",
       "      <td>0.581439</td>\n",
       "      <td>-1.338108</td>\n",
       "      <td>0.254794</td>\n",
       "      <td>-0.461028</td>\n",
       "      <td>-0.388928</td>\n",
       "      <td>-1.739119</td>\n",
       "      <td>...</td>\n",
       "      <td>6.222012</td>\n",
       "      <td>0.417212</td>\n",
       "      <td>1.815872</td>\n",
       "      <td>0.015625</td>\n",
       "      <td>0.015625</td>\n",
       "      <td>18.910521</td>\n",
       "      <td>2183</td>\n",
       "      <td>19.318584</td>\n",
       "      <td>-1</td>\n",
       "      <td>william alfonso laguna vargas y/o interamerica...</td>\n",
       "    </tr>\n",
       "    <tr>\n",
       "      <th>225370</th>\n",
       "      <td>79805896</td>\n",
       "      <td>112</td>\n",
       "      <td>0.000000</td>\n",
       "      <td>17</td>\n",
       "      <td>-0.533246</td>\n",
       "      <td>-0.054275</td>\n",
       "      <td>1.625499</td>\n",
       "      <td>0.345994</td>\n",
       "      <td>0.357961</td>\n",
       "      <td>-1.372340</td>\n",
       "      <td>...</td>\n",
       "      <td>6.913505</td>\n",
       "      <td>-0.048552</td>\n",
       "      <td>1.491956</td>\n",
       "      <td>0.016129</td>\n",
       "      <td>0.016129</td>\n",
       "      <td>15.056677</td>\n",
       "      <td>1529</td>\n",
       "      <td>13.651786</td>\n",
       "      <td>-1</td>\n",
       "      <td>jose julian torres diaz</td>\n",
       "    </tr>\n",
       "    <tr>\n",
       "      <th>39498</th>\n",
       "      <td>15030711</td>\n",
       "      <td>111</td>\n",
       "      <td>8.495495</td>\n",
       "      <td>16</td>\n",
       "      <td>0.311339</td>\n",
       "      <td>-2.364299</td>\n",
       "      <td>1.159294</td>\n",
       "      <td>-0.583296</td>\n",
       "      <td>-0.206079</td>\n",
       "      <td>-1.220938</td>\n",
       "      <td>...</td>\n",
       "      <td>6.257284</td>\n",
       "      <td>0.450939</td>\n",
       "      <td>2.707428</td>\n",
       "      <td>1.000000</td>\n",
       "      <td>1.000000</td>\n",
       "      <td>19.310106</td>\n",
       "      <td>2054</td>\n",
       "      <td>18.504505</td>\n",
       "      <td>-1</td>\n",
       "      <td>javier osvaldo ramirez martinez</td>\n",
       "    </tr>\n",
       "    <tr>\n",
       "      <th>35742</th>\n",
       "      <td>13848603</td>\n",
       "      <td>109</td>\n",
       "      <td>3.339450</td>\n",
       "      <td>22</td>\n",
       "      <td>0.155784</td>\n",
       "      <td>-0.049993</td>\n",
       "      <td>1.067301</td>\n",
       "      <td>0.693615</td>\n",
       "      <td>-0.539418</td>\n",
       "      <td>-1.268038</td>\n",
       "      <td>...</td>\n",
       "      <td>5.669647</td>\n",
       "      <td>0.063612</td>\n",
       "      <td>1.548937</td>\n",
       "      <td>0.011628</td>\n",
       "      <td>0.011628</td>\n",
       "      <td>16.677604</td>\n",
       "      <td>1543</td>\n",
       "      <td>14.155963</td>\n",
       "      <td>-1</td>\n",
       "      <td>union temporal migracion colombia 2021</td>\n",
       "    </tr>\n",
       "    <tr>\n",
       "      <th>35743</th>\n",
       "      <td>13848603</td>\n",
       "      <td>109</td>\n",
       "      <td>3.339450</td>\n",
       "      <td>22</td>\n",
       "      <td>0.155784</td>\n",
       "      <td>-0.049993</td>\n",
       "      <td>1.067301</td>\n",
       "      <td>0.693615</td>\n",
       "      <td>-0.539418</td>\n",
       "      <td>-1.268038</td>\n",
       "      <td>...</td>\n",
       "      <td>5.669647</td>\n",
       "      <td>0.063612</td>\n",
       "      <td>1.548937</td>\n",
       "      <td>0.011628</td>\n",
       "      <td>0.011628</td>\n",
       "      <td>16.677604</td>\n",
       "      <td>1543</td>\n",
       "      <td>14.155963</td>\n",
       "      <td>-1</td>\n",
       "      <td>union temporal de recargas 2022</td>\n",
       "    </tr>\n",
       "    <tr>\n",
       "      <th>35741</th>\n",
       "      <td>13848603</td>\n",
       "      <td>109</td>\n",
       "      <td>3.339450</td>\n",
       "      <td>22</td>\n",
       "      <td>0.155784</td>\n",
       "      <td>-0.049993</td>\n",
       "      <td>1.067301</td>\n",
       "      <td>0.693615</td>\n",
       "      <td>-0.539418</td>\n",
       "      <td>-1.268038</td>\n",
       "      <td>...</td>\n",
       "      <td>5.669647</td>\n",
       "      <td>0.063612</td>\n",
       "      <td>1.548937</td>\n",
       "      <td>0.011628</td>\n",
       "      <td>0.011628</td>\n",
       "      <td>16.677604</td>\n",
       "      <td>1543</td>\n",
       "      <td>14.155963</td>\n",
       "      <td>-1</td>\n",
       "      <td>rabac litografia</td>\n",
       "    </tr>\n",
       "    <tr>\n",
       "      <th>33364</th>\n",
       "      <td>13256513</td>\n",
       "      <td>102</td>\n",
       "      <td>1.617647</td>\n",
       "      <td>16</td>\n",
       "      <td>0.503884</td>\n",
       "      <td>-1.725012</td>\n",
       "      <td>0.796515</td>\n",
       "      <td>-0.567645</td>\n",
       "      <td>0.090235</td>\n",
       "      <td>-2.053469</td>\n",
       "      <td>...</td>\n",
       "      <td>6.550893</td>\n",
       "      <td>0.112319</td>\n",
       "      <td>1.899979</td>\n",
       "      <td>0.083333</td>\n",
       "      <td>0.083333</td>\n",
       "      <td>17.927121</td>\n",
       "      <td>1761</td>\n",
       "      <td>17.264706</td>\n",
       "      <td>-1</td>\n",
       "      <td>edgar carpio solano</td>\n",
       "    </tr>\n",
       "    <tr>\n",
       "      <th>6558</th>\n",
       "      <td>5888679</td>\n",
       "      <td>100</td>\n",
       "      <td>0.580000</td>\n",
       "      <td>12</td>\n",
       "      <td>-0.550687</td>\n",
       "      <td>0.849110</td>\n",
       "      <td>2.226193</td>\n",
       "      <td>1.431359</td>\n",
       "      <td>-0.381744</td>\n",
       "      <td>-0.974569</td>\n",
       "      <td>...</td>\n",
       "      <td>6.445442</td>\n",
       "      <td>0.467898</td>\n",
       "      <td>1.400739</td>\n",
       "      <td>0.027778</td>\n",
       "      <td>0.027778</td>\n",
       "      <td>16.217910</td>\n",
       "      <td>1613</td>\n",
       "      <td>16.130000</td>\n",
       "      <td>-1</td>\n",
       "      <td>hector garcia gonzalez</td>\n",
       "    </tr>\n",
       "    <tr>\n",
       "      <th>90345</th>\n",
       "      <td>35261900</td>\n",
       "      <td>92</td>\n",
       "      <td>4.641304</td>\n",
       "      <td>21</td>\n",
       "      <td>0.442193</td>\n",
       "      <td>-1.627030</td>\n",
       "      <td>0.550022</td>\n",
       "      <td>-0.241166</td>\n",
       "      <td>-0.618360</td>\n",
       "      <td>-2.014425</td>\n",
       "      <td>...</td>\n",
       "      <td>5.664569</td>\n",
       "      <td>0.492840</td>\n",
       "      <td>2.310569</td>\n",
       "      <td>0.033333</td>\n",
       "      <td>0.033333</td>\n",
       "      <td>20.081303</td>\n",
       "      <td>1699</td>\n",
       "      <td>18.467391</td>\n",
       "      <td>-1</td>\n",
       "      <td>diana giovanna yepes rubio</td>\n",
       "    </tr>\n",
       "  </tbody>\n",
       "</table>\n",
       "<p>20 rows × 21 columns</p>\n",
       "</div>"
      ]
     },
     "execution_count": 141,
     "metadata": {},
     "output_type": "execute_result"
    },
    {
     "data": {
      "text/html": [
       "<pre style=\"white-space:pre;overflow-x:auto;line-height:normal;font-family:Menlo,'DejaVu Sans Mono',consolas,'Courier New',monospace\"><span style=\"font-weight: bold\">&lt;</span><span style=\"color: #ff00ff; text-decoration-color: #ff00ff; font-weight: bold\">IPython.core.display.Javascript</span><span style=\"color: #000000; text-decoration-color: #000000\"> object</span><span style=\"font-weight: bold\">&gt;</span>\n",
       "</pre>\n"
      ],
      "text/plain": [
       "\u001b[1m<\u001b[0m\u001b[1;95mIPython.core.display.Javascript\u001b[0m\u001b[39m object\u001b[0m\u001b[1m>\u001b[0m\n"
      ]
     },
     "metadata": {},
     "output_type": "display_data"
    },
    {
     "data": {
      "application/javascript": [
       "\n",
       "            setTimeout(function() {\n",
       "                var nbb_cell_id = 141;\n",
       "                var nbb_unformatted_code = \"df_personas[df_personas[\\\"cluster\\\"] == -1].sort_values(\\n    \\\"index_count\\\", ascending=False\\n).head(20)\";\n",
       "                var nbb_formatted_code = \"df_personas[df_personas[\\\"cluster\\\"] == -1].sort_values(\\n    \\\"index_count\\\", ascending=False\\n).head(20)\";\n",
       "                var nbb_cells = Jupyter.notebook.get_cells();\n",
       "                for (var i = 0; i < nbb_cells.length; ++i) {\n",
       "                    if (nbb_cells[i].input_prompt_number == nbb_cell_id) {\n",
       "                        if (nbb_cells[i].get_text() == nbb_unformatted_code) {\n",
       "                             nbb_cells[i].set_text(nbb_formatted_code);\n",
       "                        }\n",
       "                        break;\n",
       "                    }\n",
       "                }\n",
       "            }, 500);\n",
       "            "
      ]
     },
     "metadata": {},
     "output_type": "display_data"
    }
   ],
   "source": [
    "df_personas[df_personas[\"cluster\"] == -1].sort_values(\n",
    "    \"index_count\", ascending=False\n",
    ").head(20)"
   ]
  },
  {
   "cell_type": "code",
   "execution_count": 103,
   "id": "2f1e201c",
   "metadata": {},
   "outputs": [
    {
     "data": {
      "text/html": [
       "<pre style=\"white-space:pre;overflow-x:auto;line-height:normal;font-family:Menlo,'DejaVu Sans Mono',consolas,'Courier New',monospace\">\n",
       "<span style=\"color: #008080; text-decoration-color: #008080; font-weight: bold\">0</span>      <span style=\"color: #008080; text-decoration-color: #008080; font-weight: bold\">405957</span>\n",
       "<span style=\"color: #008080; text-decoration-color: #008080; font-weight: bold\">2</span>       <span style=\"color: #008080; text-decoration-color: #008080; font-weight: bold\">40308</span>\n",
       "<span style=\"color: #008080; text-decoration-color: #008080; font-weight: bold\">3</span>       <span style=\"color: #008080; text-decoration-color: #008080; font-weight: bold\">34578</span>\n",
       "<span style=\"color: #008080; text-decoration-color: #008080; font-weight: bold\">4</span>       <span style=\"color: #008080; text-decoration-color: #008080; font-weight: bold\">14384</span>\n",
       "<span style=\"color: #008080; text-decoration-color: #008080; font-weight: bold\">1</span>        <span style=\"color: #008080; text-decoration-color: #008080; font-weight: bold\">6593</span>\n",
       "        <span style=\"color: #808000; text-decoration-color: #808000\">...</span>  \n",
       "<span style=\"color: #008080; text-decoration-color: #008080; font-weight: bold\">325</span>         <span style=\"color: #008080; text-decoration-color: #008080; font-weight: bold\">4</span>\n",
       "<span style=\"color: #008080; text-decoration-color: #008080; font-weight: bold\">94</span>          <span style=\"color: #008080; text-decoration-color: #008080; font-weight: bold\">4</span>\n",
       "<span style=\"color: #008080; text-decoration-color: #008080; font-weight: bold\">261</span>         <span style=\"color: #008080; text-decoration-color: #008080; font-weight: bold\">4</span>\n",
       "<span style=\"color: #008080; text-decoration-color: #008080; font-weight: bold\">211</span>         <span style=\"color: #008080; text-decoration-color: #008080; font-weight: bold\">4</span>\n",
       "<span style=\"color: #008080; text-decoration-color: #008080; font-weight: bold\">18</span>          <span style=\"color: #008080; text-decoration-color: #008080; font-weight: bold\">3</span>\n",
       "Name: cluster, Length: <span style=\"color: #008080; text-decoration-color: #008080; font-weight: bold\">414</span>, dtype: int64\n",
       "</pre>\n"
      ],
      "text/plain": [
       "\n",
       "\u001b[1;36m0\u001b[0m      \u001b[1;36m405957\u001b[0m\n",
       "\u001b[1;36m2\u001b[0m       \u001b[1;36m40308\u001b[0m\n",
       "\u001b[1;36m3\u001b[0m       \u001b[1;36m34578\u001b[0m\n",
       "\u001b[1;36m4\u001b[0m       \u001b[1;36m14384\u001b[0m\n",
       "\u001b[1;36m1\u001b[0m        \u001b[1;36m6593\u001b[0m\n",
       "        \u001b[33m...\u001b[0m  \n",
       "\u001b[1;36m325\u001b[0m         \u001b[1;36m4\u001b[0m\n",
       "\u001b[1;36m94\u001b[0m          \u001b[1;36m4\u001b[0m\n",
       "\u001b[1;36m261\u001b[0m         \u001b[1;36m4\u001b[0m\n",
       "\u001b[1;36m211\u001b[0m         \u001b[1;36m4\u001b[0m\n",
       "\u001b[1;36m18\u001b[0m          \u001b[1;36m3\u001b[0m\n",
       "Name: cluster, Length: \u001b[1;36m414\u001b[0m, dtype: int64\n"
      ]
     },
     "metadata": {},
     "output_type": "display_data"
    },
    {
     "data": {
      "text/html": [
       "<pre style=\"white-space:pre;overflow-x:auto;line-height:normal;font-family:Menlo,'DejaVu Sans Mono',consolas,'Courier New',monospace\"><span style=\"font-weight: bold\">&lt;</span><span style=\"color: #ff00ff; text-decoration-color: #ff00ff; font-weight: bold\">IPython.core.display.Javascript</span><span style=\"color: #000000; text-decoration-color: #000000\"> object</span><span style=\"font-weight: bold\">&gt;</span>\n",
       "</pre>\n"
      ],
      "text/plain": [
       "\u001b[1m<\u001b[0m\u001b[1;95mIPython.core.display.Javascript\u001b[0m\u001b[39m object\u001b[0m\u001b[1m>\u001b[0m\n"
      ]
     },
     "metadata": {},
     "output_type": "display_data"
    },
    {
     "data": {
      "application/javascript": [
       "\n",
       "            setTimeout(function() {\n",
       "                var nbb_cell_id = 103;\n",
       "                var nbb_unformatted_code = \"df_personas[\\\"cluster\\\"].value_counts()\";\n",
       "                var nbb_formatted_code = \"df_personas[\\\"cluster\\\"].value_counts()\";\n",
       "                var nbb_cells = Jupyter.notebook.get_cells();\n",
       "                for (var i = 0; i < nbb_cells.length; ++i) {\n",
       "                    if (nbb_cells[i].input_prompt_number == nbb_cell_id) {\n",
       "                        if (nbb_cells[i].get_text() == nbb_unformatted_code) {\n",
       "                             nbb_cells[i].set_text(nbb_formatted_code);\n",
       "                        }\n",
       "                        break;\n",
       "                    }\n",
       "                }\n",
       "            }, 500);\n",
       "            "
      ]
     },
     "metadata": {},
     "output_type": "display_data"
    }
   ],
   "source": [
    "df_personas[\"cluster\"].value_counts()"
   ]
  },
  {
   "cell_type": "code",
   "execution_count": 101,
   "id": "8874001d",
   "metadata": {},
   "outputs": [
    {
     "data": {
      "text/html": [
       "<pre style=\"white-space:pre;overflow-x:auto;line-height:normal;font-family:Menlo,'DejaVu Sans Mono',consolas,'Courier New',monospace\">\n",
       " <span style=\"color: #008080; text-decoration-color: #008080; font-weight: bold\">0</span>       <span style=\"color: #008080; text-decoration-color: #008080; font-weight: bold\">225012</span>\n",
       "<span style=\"color: #008080; text-decoration-color: #008080; font-weight: bold\">-1</span>       <span style=\"color: #008080; text-decoration-color: #008080; font-weight: bold\">137144</span>\n",
       " <span style=\"color: #008080; text-decoration-color: #008080; font-weight: bold\">27</span>       <span style=\"color: #008080; text-decoration-color: #008080; font-weight: bold\">13634</span>\n",
       " <span style=\"color: #008080; text-decoration-color: #008080; font-weight: bold\">4</span>         <span style=\"color: #008080; text-decoration-color: #008080; font-weight: bold\">9782</span>\n",
       " <span style=\"color: #008080; text-decoration-color: #008080; font-weight: bold\">16</span>        <span style=\"color: #008080; text-decoration-color: #008080; font-weight: bold\">8473</span>\n",
       "          <span style=\"color: #808000; text-decoration-color: #808000\">...</span>  \n",
       " <span style=\"color: #008080; text-decoration-color: #008080; font-weight: bold\">6416</span>         <span style=\"color: #008080; text-decoration-color: #008080; font-weight: bold\">2</span>\n",
       " <span style=\"color: #008080; text-decoration-color: #008080; font-weight: bold\">4665</span>         <span style=\"color: #008080; text-decoration-color: #008080; font-weight: bold\">2</span>\n",
       " <span style=\"color: #008080; text-decoration-color: #008080; font-weight: bold\">7099</span>         <span style=\"color: #008080; text-decoration-color: #008080; font-weight: bold\">1</span>\n",
       " <span style=\"color: #008080; text-decoration-color: #008080; font-weight: bold\">6025</span>         <span style=\"color: #008080; text-decoration-color: #008080; font-weight: bold\">1</span>\n",
       " <span style=\"color: #008080; text-decoration-color: #008080; font-weight: bold\">4727</span>         <span style=\"color: #008080; text-decoration-color: #008080; font-weight: bold\">1</span>\n",
       "Name: cluster, Length: <span style=\"color: #008080; text-decoration-color: #008080; font-weight: bold\">7715</span>, dtype: int64\n",
       "</pre>\n"
      ],
      "text/plain": [
       "\n",
       " \u001b[1;36m0\u001b[0m       \u001b[1;36m225012\u001b[0m\n",
       "\u001b[1;36m-1\u001b[0m       \u001b[1;36m137144\u001b[0m\n",
       " \u001b[1;36m27\u001b[0m       \u001b[1;36m13634\u001b[0m\n",
       " \u001b[1;36m4\u001b[0m         \u001b[1;36m9782\u001b[0m\n",
       " \u001b[1;36m16\u001b[0m        \u001b[1;36m8473\u001b[0m\n",
       "          \u001b[33m...\u001b[0m  \n",
       " \u001b[1;36m6416\u001b[0m         \u001b[1;36m2\u001b[0m\n",
       " \u001b[1;36m4665\u001b[0m         \u001b[1;36m2\u001b[0m\n",
       " \u001b[1;36m7099\u001b[0m         \u001b[1;36m1\u001b[0m\n",
       " \u001b[1;36m6025\u001b[0m         \u001b[1;36m1\u001b[0m\n",
       " \u001b[1;36m4727\u001b[0m         \u001b[1;36m1\u001b[0m\n",
       "Name: cluster, Length: \u001b[1;36m7715\u001b[0m, dtype: int64\n"
      ]
     },
     "metadata": {},
     "output_type": "display_data"
    },
    {
     "data": {
      "text/html": [
       "<pre style=\"white-space:pre;overflow-x:auto;line-height:normal;font-family:Menlo,'DejaVu Sans Mono',consolas,'Courier New',monospace\"><span style=\"font-weight: bold\">&lt;</span><span style=\"color: #ff00ff; text-decoration-color: #ff00ff; font-weight: bold\">IPython.core.display.Javascript</span><span style=\"color: #000000; text-decoration-color: #000000\"> object</span><span style=\"font-weight: bold\">&gt;</span>\n",
       "</pre>\n"
      ],
      "text/plain": [
       "\u001b[1m<\u001b[0m\u001b[1;95mIPython.core.display.Javascript\u001b[0m\u001b[39m object\u001b[0m\u001b[1m>\u001b[0m\n"
      ]
     },
     "metadata": {},
     "output_type": "display_data"
    },
    {
     "data": {
      "application/javascript": [
       "\n",
       "            setTimeout(function() {\n",
       "                var nbb_cell_id = 101;\n",
       "                var nbb_unformatted_code = \"df_personas[\\\"cluster\\\"].value_counts()\";\n",
       "                var nbb_formatted_code = \"df_personas[\\\"cluster\\\"].value_counts()\";\n",
       "                var nbb_cells = Jupyter.notebook.get_cells();\n",
       "                for (var i = 0; i < nbb_cells.length; ++i) {\n",
       "                    if (nbb_cells[i].input_prompt_number == nbb_cell_id) {\n",
       "                        if (nbb_cells[i].get_text() == nbb_unformatted_code) {\n",
       "                             nbb_cells[i].set_text(nbb_formatted_code);\n",
       "                        }\n",
       "                        break;\n",
       "                    }\n",
       "                }\n",
       "            }, 500);\n",
       "            "
      ]
     },
     "metadata": {},
     "output_type": "display_data"
    }
   ],
   "source": [
    "df_personas[\"cluster\"].value_counts()"
   ]
  },
  {
   "cell_type": "code",
   "execution_count": 99,
   "id": "08ca90d4",
   "metadata": {},
   "outputs": [
    {
     "data": {
      "text/html": [
       "<pre style=\"white-space:pre;overflow-x:auto;line-height:normal;font-family:Menlo,'DejaVu Sans Mono',consolas,'Courier New',monospace\">\n",
       "<span style=\"color: #008080; text-decoration-color: #008080; font-weight: bold\">-1</span>        <span style=\"color: #008080; text-decoration-color: #008080; font-weight: bold\">390863</span>\n",
       " <span style=\"color: #008080; text-decoration-color: #008080; font-weight: bold\">31</span>         <span style=\"color: #008080; text-decoration-color: #008080; font-weight: bold\">1379</span>\n",
       " <span style=\"color: #008080; text-decoration-color: #008080; font-weight: bold\">2</span>           <span style=\"color: #008080; text-decoration-color: #008080; font-weight: bold\">996</span>\n",
       " <span style=\"color: #008080; text-decoration-color: #008080; font-weight: bold\">69</span>          <span style=\"color: #008080; text-decoration-color: #008080; font-weight: bold\">704</span>\n",
       " <span style=\"color: #008080; text-decoration-color: #008080; font-weight: bold\">301</span>         <span style=\"color: #008080; text-decoration-color: #008080; font-weight: bold\">474</span>\n",
       "           <span style=\"color: #808000; text-decoration-color: #808000\">...</span>  \n",
       " <span style=\"color: #008080; text-decoration-color: #008080; font-weight: bold\">8380</span>          <span style=\"color: #008080; text-decoration-color: #008080; font-weight: bold\">3</span>\n",
       " <span style=\"color: #008080; text-decoration-color: #008080; font-weight: bold\">10899</span>         <span style=\"color: #008080; text-decoration-color: #008080; font-weight: bold\">3</span>\n",
       " <span style=\"color: #008080; text-decoration-color: #008080; font-weight: bold\">11069</span>         <span style=\"color: #008080; text-decoration-color: #008080; font-weight: bold\">2</span>\n",
       " <span style=\"color: #008080; text-decoration-color: #008080; font-weight: bold\">8978</span>          <span style=\"color: #008080; text-decoration-color: #008080; font-weight: bold\">2</span>\n",
       " <span style=\"color: #008080; text-decoration-color: #008080; font-weight: bold\">11062</span>         <span style=\"color: #008080; text-decoration-color: #008080; font-weight: bold\">2</span>\n",
       "Name: cluster, Length: <span style=\"color: #008080; text-decoration-color: #008080; font-weight: bold\">11158</span>, dtype: int64\n",
       "</pre>\n"
      ],
      "text/plain": [
       "\n",
       "\u001b[1;36m-1\u001b[0m        \u001b[1;36m390863\u001b[0m\n",
       " \u001b[1;36m31\u001b[0m         \u001b[1;36m1379\u001b[0m\n",
       " \u001b[1;36m2\u001b[0m           \u001b[1;36m996\u001b[0m\n",
       " \u001b[1;36m69\u001b[0m          \u001b[1;36m704\u001b[0m\n",
       " \u001b[1;36m301\u001b[0m         \u001b[1;36m474\u001b[0m\n",
       "           \u001b[33m...\u001b[0m  \n",
       " \u001b[1;36m8380\u001b[0m          \u001b[1;36m3\u001b[0m\n",
       " \u001b[1;36m10899\u001b[0m         \u001b[1;36m3\u001b[0m\n",
       " \u001b[1;36m11069\u001b[0m         \u001b[1;36m2\u001b[0m\n",
       " \u001b[1;36m8978\u001b[0m          \u001b[1;36m2\u001b[0m\n",
       " \u001b[1;36m11062\u001b[0m         \u001b[1;36m2\u001b[0m\n",
       "Name: cluster, Length: \u001b[1;36m11158\u001b[0m, dtype: int64\n"
      ]
     },
     "metadata": {},
     "output_type": "display_data"
    },
    {
     "data": {
      "text/html": [
       "<pre style=\"white-space:pre;overflow-x:auto;line-height:normal;font-family:Menlo,'DejaVu Sans Mono',consolas,'Courier New',monospace\"><span style=\"font-weight: bold\">&lt;</span><span style=\"color: #ff00ff; text-decoration-color: #ff00ff; font-weight: bold\">IPython.core.display.Javascript</span><span style=\"color: #000000; text-decoration-color: #000000\"> object</span><span style=\"font-weight: bold\">&gt;</span>\n",
       "</pre>\n"
      ],
      "text/plain": [
       "\u001b[1m<\u001b[0m\u001b[1;95mIPython.core.display.Javascript\u001b[0m\u001b[39m object\u001b[0m\u001b[1m>\u001b[0m\n"
      ]
     },
     "metadata": {},
     "output_type": "display_data"
    },
    {
     "data": {
      "application/javascript": [
       "\n",
       "            setTimeout(function() {\n",
       "                var nbb_cell_id = 99;\n",
       "                var nbb_unformatted_code = \"df_personas[\\\"cluster\\\"].value_counts()\";\n",
       "                var nbb_formatted_code = \"df_personas[\\\"cluster\\\"].value_counts()\";\n",
       "                var nbb_cells = Jupyter.notebook.get_cells();\n",
       "                for (var i = 0; i < nbb_cells.length; ++i) {\n",
       "                    if (nbb_cells[i].input_prompt_number == nbb_cell_id) {\n",
       "                        if (nbb_cells[i].get_text() == nbb_unformatted_code) {\n",
       "                             nbb_cells[i].set_text(nbb_formatted_code);\n",
       "                        }\n",
       "                        break;\n",
       "                    }\n",
       "                }\n",
       "            }, 500);\n",
       "            "
      ]
     },
     "metadata": {},
     "output_type": "display_data"
    }
   ],
   "source": [
    "df_personas[\"cluster\"].value_counts()"
   ]
  },
  {
   "cell_type": "code",
   "execution_count": null,
   "id": "4b3d28a3",
   "metadata": {},
   "outputs": [],
   "source": []
  },
  {
   "cell_type": "code",
   "execution_count": null,
   "id": "ca15237f",
   "metadata": {},
   "outputs": [],
   "source": []
  },
  {
   "cell_type": "code",
   "execution_count": 26,
   "id": "0db57559",
   "metadata": {
    "scrolled": false
   },
   "outputs": [
    {
     "data": {
      "text/html": [
       "<pre style=\"white-space:pre;overflow-x:auto;line-height:normal;font-family:Menlo,'DejaVu Sans Mono',consolas,'Courier New',monospace\"><span style=\"color: #008080; text-decoration-color: #008080; font-weight: bold\">1.0</span>\n",
       "</pre>\n"
      ],
      "text/plain": [
       "\u001b[1;36m1.0\u001b[0m\n"
      ]
     },
     "metadata": {},
     "output_type": "display_data"
    },
    {
     "data": {
      "text/html": [
       "<pre style=\"white-space:pre;overflow-x:auto;line-height:normal;font-family:Menlo,'DejaVu Sans Mono',consolas,'Courier New',monospace\"><span style=\"font-weight: bold\">&lt;</span><span style=\"color: #ff00ff; text-decoration-color: #ff00ff; font-weight: bold\">IPython.core.display.Javascript</span><span style=\"color: #000000; text-decoration-color: #000000\"> object</span><span style=\"font-weight: bold\">&gt;</span>\n",
       "</pre>\n"
      ],
      "text/plain": [
       "\u001b[1m<\u001b[0m\u001b[1;95mIPython.core.display.Javascript\u001b[0m\u001b[39m object\u001b[0m\u001b[1m>\u001b[0m\n"
      ]
     },
     "metadata": {},
     "output_type": "display_data"
    },
    {
     "data": {
      "application/javascript": [
       "\n",
       "            setTimeout(function() {\n",
       "                var nbb_cell_id = 26;\n",
       "                var nbb_unformatted_code = \"secop[secop[\\\"documento_proveedor\\\"] == df_personas.sort_values(\\\"index_count\\\").index[-3]][\\n    \\\"modalidad_de_contratacion_menor cuantia\\\"\\n].mean()\";\n",
       "                var nbb_formatted_code = \"secop[secop[\\\"documento_proveedor\\\"] == df_personas.sort_values(\\\"index_count\\\").index[-3]][\\n    \\\"modalidad_de_contratacion_menor cuantia\\\"\\n].mean()\";\n",
       "                var nbb_cells = Jupyter.notebook.get_cells();\n",
       "                for (var i = 0; i < nbb_cells.length; ++i) {\n",
       "                    if (nbb_cells[i].input_prompt_number == nbb_cell_id) {\n",
       "                        if (nbb_cells[i].get_text() == nbb_unformatted_code) {\n",
       "                             nbb_cells[i].set_text(nbb_formatted_code);\n",
       "                        }\n",
       "                        break;\n",
       "                    }\n",
       "                }\n",
       "            }, 500);\n",
       "            "
      ]
     },
     "metadata": {},
     "output_type": "display_data"
    }
   ],
   "source": [
    "secop[secop[\"documento_proveedor\"] == df_personas.sort_values(\"index_count\").index[-3]][\n",
    "    \"modalidad_de_contratacion_menor cuantia\"\n",
    "].mean()"
   ]
  },
  {
   "cell_type": "code",
   "execution_count": null,
   "id": "b828dda1",
   "metadata": {},
   "outputs": [],
   "source": [
    "[\n",
    "    [\n",
    "        \"proveedor_adjudicado\",\n",
    "        \"descripcion_del_proceso\",\n",
    "        \"nombre_entidad\",\n",
    "        \"modalidad_de_contratacion_contratacion directa\",\n",
    "    ]\n",
    "]"
   ]
  },
  {
   "cell_type": "code",
   "execution_count": 33,
   "id": "29a7cb32",
   "metadata": {},
   "outputs": [
    {
     "data": {
      "text/html": [
       "<div>\n",
       "<style scoped>\n",
       "    .dataframe tbody tr th:only-of-type {\n",
       "        vertical-align: middle;\n",
       "    }\n",
       "\n",
       "    .dataframe tbody tr th {\n",
       "        vertical-align: top;\n",
       "    }\n",
       "\n",
       "    .dataframe thead th {\n",
       "        text-align: right;\n",
       "    }\n",
       "</style>\n",
       "<table border=\"1\" class=\"dataframe\">\n",
       "  <thead>\n",
       "    <tr style=\"text-align: right;\">\n",
       "      <th></th>\n",
       "      <th>index_count</th>\n",
       "      <th>ciudad_count</th>\n",
       "      <th>ciudad_nunique</th>\n",
       "      <th>valor_del_contrato_sum</th>\n",
       "    </tr>\n",
       "    <tr>\n",
       "      <th>documento_proveedor</th>\n",
       "      <th></th>\n",
       "      <th></th>\n",
       "      <th></th>\n",
       "      <th></th>\n",
       "    </tr>\n",
       "  </thead>\n",
       "  <tbody>\n",
       "    <tr>\n",
       "      <th>1004475</th>\n",
       "      <td>3</td>\n",
       "      <td>3</td>\n",
       "      <td>1</td>\n",
       "      <td>100896483</td>\n",
       "    </tr>\n",
       "    <tr>\n",
       "      <th>1004480</th>\n",
       "      <td>2</td>\n",
       "      <td>2</td>\n",
       "      <td>1</td>\n",
       "      <td>29557500</td>\n",
       "    </tr>\n",
       "    <tr>\n",
       "      <th>1004546</th>\n",
       "      <td>1</td>\n",
       "      <td>1</td>\n",
       "      <td>1</td>\n",
       "      <td>14449982</td>\n",
       "    </tr>\n",
       "    <tr>\n",
       "      <th>1007616</th>\n",
       "      <td>2</td>\n",
       "      <td>2</td>\n",
       "      <td>1</td>\n",
       "      <td>65000000</td>\n",
       "    </tr>\n",
       "    <tr>\n",
       "      <th>1009523</th>\n",
       "      <td>6</td>\n",
       "      <td>6</td>\n",
       "      <td>1</td>\n",
       "      <td>75125600</td>\n",
       "    </tr>\n",
       "    <tr>\n",
       "      <th>1009549</th>\n",
       "      <td>5</td>\n",
       "      <td>5</td>\n",
       "      <td>1</td>\n",
       "      <td>77495391</td>\n",
       "    </tr>\n",
       "    <tr>\n",
       "      <th>1009561</th>\n",
       "      <td>6</td>\n",
       "      <td>6</td>\n",
       "      <td>2</td>\n",
       "      <td>23680000</td>\n",
       "    </tr>\n",
       "    <tr>\n",
       "      <th>1011527</th>\n",
       "      <td>1</td>\n",
       "      <td>1</td>\n",
       "      <td>1</td>\n",
       "      <td>6450788</td>\n",
       "    </tr>\n",
       "    <tr>\n",
       "      <th>1013280</th>\n",
       "      <td>1</td>\n",
       "      <td>1</td>\n",
       "      <td>1</td>\n",
       "      <td>14100000</td>\n",
       "    </tr>\n",
       "    <tr>\n",
       "      <th>1013518</th>\n",
       "      <td>1</td>\n",
       "      <td>1</td>\n",
       "      <td>1</td>\n",
       "      <td>16560000</td>\n",
       "    </tr>\n",
       "    <tr>\n",
       "      <th>1015016</th>\n",
       "      <td>1</td>\n",
       "      <td>1</td>\n",
       "      <td>1</td>\n",
       "      <td>5942622</td>\n",
       "    </tr>\n",
       "    <tr>\n",
       "      <th>1020990</th>\n",
       "      <td>1</td>\n",
       "      <td>1</td>\n",
       "      <td>1</td>\n",
       "      <td>9283756</td>\n",
       "    </tr>\n",
       "    <tr>\n",
       "      <th>1026265</th>\n",
       "      <td>1</td>\n",
       "      <td>1</td>\n",
       "      <td>1</td>\n",
       "      <td>24502925</td>\n",
       "    </tr>\n",
       "    <tr>\n",
       "      <th>1033255</th>\n",
       "      <td>2</td>\n",
       "      <td>2</td>\n",
       "      <td>1</td>\n",
       "      <td>13632012</td>\n",
       "    </tr>\n",
       "    <tr>\n",
       "      <th>1050191</th>\n",
       "      <td>4</td>\n",
       "      <td>4</td>\n",
       "      <td>1</td>\n",
       "      <td>13240421</td>\n",
       "    </tr>\n",
       "    <tr>\n",
       "      <th>1050436</th>\n",
       "      <td>1</td>\n",
       "      <td>1</td>\n",
       "      <td>1</td>\n",
       "      <td>15000000</td>\n",
       "    </tr>\n",
       "    <tr>\n",
       "      <th>1052405</th>\n",
       "      <td>2</td>\n",
       "      <td>2</td>\n",
       "      <td>1</td>\n",
       "      <td>10096560</td>\n",
       "    </tr>\n",
       "    <tr>\n",
       "      <th>1052573</th>\n",
       "      <td>3</td>\n",
       "      <td>3</td>\n",
       "      <td>1</td>\n",
       "      <td>133083682</td>\n",
       "    </tr>\n",
       "    <tr>\n",
       "      <th>1052615</th>\n",
       "      <td>5</td>\n",
       "      <td>5</td>\n",
       "      <td>1</td>\n",
       "      <td>80421988</td>\n",
       "    </tr>\n",
       "    <tr>\n",
       "      <th>1052616</th>\n",
       "      <td>1</td>\n",
       "      <td>1</td>\n",
       "      <td>1</td>\n",
       "      <td>16673066</td>\n",
       "    </tr>\n",
       "  </tbody>\n",
       "</table>\n",
       "</div>"
      ]
     },
     "execution_count": 33,
     "metadata": {},
     "output_type": "execute_result"
    },
    {
     "data": {
      "text/html": [
       "<pre style=\"white-space:pre;overflow-x:auto;line-height:normal;font-family:Menlo,'DejaVu Sans Mono',consolas,'Courier New',monospace\"><span style=\"font-weight: bold\">&lt;</span><span style=\"color: #ff00ff; text-decoration-color: #ff00ff; font-weight: bold\">IPython.core.display.Javascript</span><span style=\"color: #000000; text-decoration-color: #000000\"> object</span><span style=\"font-weight: bold\">&gt;</span>\n",
       "</pre>\n"
      ],
      "text/plain": [
       "\u001b[1m<\u001b[0m\u001b[1;95mIPython.core.display.Javascript\u001b[0m\u001b[39m object\u001b[0m\u001b[1m>\u001b[0m\n"
      ]
     },
     "metadata": {},
     "output_type": "display_data"
    },
    {
     "data": {
      "application/javascript": [
       "\n",
       "            setTimeout(function() {\n",
       "                var nbb_cell_id = 33;\n",
       "                var nbb_unformatted_code = \"df_personas.head(20)\";\n",
       "                var nbb_formatted_code = \"df_personas.head(20)\";\n",
       "                var nbb_cells = Jupyter.notebook.get_cells();\n",
       "                for (var i = 0; i < nbb_cells.length; ++i) {\n",
       "                    if (nbb_cells[i].input_prompt_number == nbb_cell_id) {\n",
       "                        if (nbb_cells[i].get_text() == nbb_unformatted_code) {\n",
       "                             nbb_cells[i].set_text(nbb_formatted_code);\n",
       "                        }\n",
       "                        break;\n",
       "                    }\n",
       "                }\n",
       "            }, 500);\n",
       "            "
      ]
     },
     "metadata": {},
     "output_type": "display_data"
    }
   ],
   "source": [
    "df_personas.head(20)"
   ]
  },
  {
   "cell_type": "code",
   "execution_count": 23,
   "id": "81b7391c",
   "metadata": {},
   "outputs": [
    {
     "data": {
      "text/html": [
       "<div>\n",
       "<style scoped>\n",
       "    .dataframe tbody tr th:only-of-type {\n",
       "        vertical-align: middle;\n",
       "    }\n",
       "\n",
       "    .dataframe tbody tr th {\n",
       "        vertical-align: top;\n",
       "    }\n",
       "\n",
       "    .dataframe thead th {\n",
       "        text-align: right;\n",
       "    }\n",
       "</style>\n",
       "<table border=\"1\" class=\"dataframe\">\n",
       "  <thead>\n",
       "    <tr style=\"text-align: right;\">\n",
       "      <th></th>\n",
       "      <th>count</th>\n",
       "    </tr>\n",
       "    <tr>\n",
       "      <th>documento_proveedor</th>\n",
       "      <th></th>\n",
       "    </tr>\n",
       "  </thead>\n",
       "  <tbody>\n",
       "    <tr>\n",
       "      <th>1004475</th>\n",
       "      <td>3</td>\n",
       "    </tr>\n",
       "    <tr>\n",
       "      <th>1004480</th>\n",
       "      <td>2</td>\n",
       "    </tr>\n",
       "    <tr>\n",
       "      <th>1004546</th>\n",
       "      <td>1</td>\n",
       "    </tr>\n",
       "    <tr>\n",
       "      <th>1007616</th>\n",
       "      <td>2</td>\n",
       "    </tr>\n",
       "    <tr>\n",
       "      <th>1009523</th>\n",
       "      <td>6</td>\n",
       "    </tr>\n",
       "    <tr>\n",
       "      <th>...</th>\n",
       "      <td>...</td>\n",
       "    </tr>\n",
       "    <tr>\n",
       "      <th>1335280909</th>\n",
       "      <td>3</td>\n",
       "    </tr>\n",
       "    <tr>\n",
       "      <th>1335281534</th>\n",
       "      <td>5</td>\n",
       "    </tr>\n",
       "    <tr>\n",
       "      <th>1707605448</th>\n",
       "      <td>2</td>\n",
       "    </tr>\n",
       "    <tr>\n",
       "      <th>1732419748</th>\n",
       "      <td>1</td>\n",
       "    </tr>\n",
       "    <tr>\n",
       "      <th>1742155777</th>\n",
       "      <td>1</td>\n",
       "    </tr>\n",
       "  </tbody>\n",
       "</table>\n",
       "<p>514628 rows × 1 columns</p>\n",
       "</div>"
      ]
     },
     "execution_count": 23,
     "metadata": {},
     "output_type": "execute_result"
    },
    {
     "data": {
      "text/html": [
       "<pre style=\"white-space:pre;overflow-x:auto;line-height:normal;font-family:Menlo,'DejaVu Sans Mono',consolas,'Courier New',monospace\"><span style=\"font-weight: bold\">&lt;</span><span style=\"color: #ff00ff; text-decoration-color: #ff00ff; font-weight: bold\">IPython.core.display.Javascript</span><span style=\"color: #000000; text-decoration-color: #000000\"> object</span><span style=\"font-weight: bold\">&gt;</span>\n",
       "</pre>\n"
      ],
      "text/plain": [
       "\u001b[1m<\u001b[0m\u001b[1;95mIPython.core.display.Javascript\u001b[0m\u001b[39m object\u001b[0m\u001b[1m>\u001b[0m\n"
      ]
     },
     "metadata": {},
     "output_type": "display_data"
    },
    {
     "data": {
      "application/javascript": [
       "\n",
       "            setTimeout(function() {\n",
       "                var nbb_cell_id = 23;\n",
       "                var nbb_unformatted_code = \"df_personas['ciudad']\";\n",
       "                var nbb_formatted_code = \"df_personas[\\\"ciudad\\\"]\";\n",
       "                var nbb_cells = Jupyter.notebook.get_cells();\n",
       "                for (var i = 0; i < nbb_cells.length; ++i) {\n",
       "                    if (nbb_cells[i].input_prompt_number == nbb_cell_id) {\n",
       "                        if (nbb_cells[i].get_text() == nbb_unformatted_code) {\n",
       "                             nbb_cells[i].set_text(nbb_formatted_code);\n",
       "                        }\n",
       "                        break;\n",
       "                    }\n",
       "                }\n",
       "            }, 500);\n",
       "            "
      ]
     },
     "metadata": {},
     "output_type": "display_data"
    }
   ],
   "source": [
    "df_personas[\"ciudad\"]"
   ]
  },
  {
   "cell_type": "code",
   "execution_count": null,
   "id": "28254fa0",
   "metadata": {},
   "outputs": [],
   "source": []
  },
  {
   "cell_type": "code",
   "execution_count": null,
   "id": "3e3dbc57",
   "metadata": {},
   "outputs": [],
   "source": []
  },
  {
   "cell_type": "code",
   "execution_count": 8,
   "id": "d0523ab5",
   "metadata": {},
   "outputs": [
    {
     "data": {
      "text/html": [
       "<pre style=\"white-space:pre;overflow-x:auto;line-height:normal;font-family:Menlo,'DejaVu Sans Mono',consolas,'Courier New',monospace\">\n",
       "<span style=\"color: #008080; text-decoration-color: #008080; font-weight: bold\">0</span>          cedula de ciudadania\n",
       "<span style=\"color: #008080; text-decoration-color: #008080; font-weight: bold\">1</span>          cedula de ciudadania\n",
       "<span style=\"color: #008080; text-decoration-color: #008080; font-weight: bold\">2</span>          cedula de ciudadania\n",
       "<span style=\"color: #008080; text-decoration-color: #008080; font-weight: bold\">3</span>          cedula de ciudadania\n",
       "<span style=\"color: #008080; text-decoration-color: #008080; font-weight: bold\">4</span>          cedula de ciudadania\n",
       "                   <span style=\"color: #808000; text-decoration-color: #808000\">...</span>         \n",
       "<span style=\"color: #008080; text-decoration-color: #008080; font-weight: bold\">1654284</span>    cedula de ciudadania\n",
       "<span style=\"color: #008080; text-decoration-color: #008080; font-weight: bold\">1654285</span>    cedula de ciudadania\n",
       "<span style=\"color: #008080; text-decoration-color: #008080; font-weight: bold\">1654286</span>                     nit\n",
       "<span style=\"color: #008080; text-decoration-color: #008080; font-weight: bold\">1654287</span>    cedula de ciudadania\n",
       "<span style=\"color: #008080; text-decoration-color: #008080; font-weight: bold\">1654288</span>    cedula de ciudadania\n",
       "Name: tipodocproveedor, Length: <span style=\"color: #008080; text-decoration-color: #008080; font-weight: bold\">1654289</span>, dtype: object\n",
       "</pre>\n"
      ],
      "text/plain": [
       "\n",
       "\u001b[1;36m0\u001b[0m          cedula de ciudadania\n",
       "\u001b[1;36m1\u001b[0m          cedula de ciudadania\n",
       "\u001b[1;36m2\u001b[0m          cedula de ciudadania\n",
       "\u001b[1;36m3\u001b[0m          cedula de ciudadania\n",
       "\u001b[1;36m4\u001b[0m          cedula de ciudadania\n",
       "                   \u001b[33m...\u001b[0m         \n",
       "\u001b[1;36m1654284\u001b[0m    cedula de ciudadania\n",
       "\u001b[1;36m1654285\u001b[0m    cedula de ciudadania\n",
       "\u001b[1;36m1654286\u001b[0m                     nit\n",
       "\u001b[1;36m1654287\u001b[0m    cedula de ciudadania\n",
       "\u001b[1;36m1654288\u001b[0m    cedula de ciudadania\n",
       "Name: tipodocproveedor, Length: \u001b[1;36m1654289\u001b[0m, dtype: object\n"
      ]
     },
     "metadata": {},
     "output_type": "display_data"
    },
    {
     "data": {
      "text/html": [
       "<pre style=\"white-space:pre;overflow-x:auto;line-height:normal;font-family:Menlo,'DejaVu Sans Mono',consolas,'Courier New',monospace\"><span style=\"font-weight: bold\">&lt;</span><span style=\"color: #ff00ff; text-decoration-color: #ff00ff; font-weight: bold\">IPython.core.display.Javascript</span><span style=\"color: #000000; text-decoration-color: #000000\"> object</span><span style=\"font-weight: bold\">&gt;</span>\n",
       "</pre>\n"
      ],
      "text/plain": [
       "\u001b[1m<\u001b[0m\u001b[1;95mIPython.core.display.Javascript\u001b[0m\u001b[39m object\u001b[0m\u001b[1m>\u001b[0m\n"
      ]
     },
     "metadata": {},
     "output_type": "display_data"
    },
    {
     "data": {
      "application/javascript": [
       "\n",
       "            setTimeout(function() {\n",
       "                var nbb_cell_id = 8;\n",
       "                var nbb_unformatted_code = \"secop[\\\"tipodocproveedor\\\"]\";\n",
       "                var nbb_formatted_code = \"secop[\\\"tipodocproveedor\\\"]\";\n",
       "                var nbb_cells = Jupyter.notebook.get_cells();\n",
       "                for (var i = 0; i < nbb_cells.length; ++i) {\n",
       "                    if (nbb_cells[i].input_prompt_number == nbb_cell_id) {\n",
       "                        if (nbb_cells[i].get_text() == nbb_unformatted_code) {\n",
       "                             nbb_cells[i].set_text(nbb_formatted_code);\n",
       "                        }\n",
       "                        break;\n",
       "                    }\n",
       "                }\n",
       "            }, 500);\n",
       "            "
      ]
     },
     "metadata": {},
     "output_type": "display_data"
    }
   ],
   "source": [
    "secop[\"tipodocproveedor\"]"
   ]
  },
  {
   "cell_type": "code",
   "execution_count": null,
   "id": "81742e4f",
   "metadata": {},
   "outputs": [],
   "source": []
  }
 ],
 "metadata": {
  "kernelspec": {
   "display_name": "Kedro (secop)",
   "language": "python",
   "name": "kedro_secop"
  },
  "language_info": {
   "codemirror_mode": {
    "name": "ipython",
    "version": 3
   },
   "file_extension": ".py",
   "mimetype": "text/x-python",
   "name": "python",
   "nbconvert_exporter": "python",
   "pygments_lexer": "ipython3",
   "version": "3.10.5"
  }
 },
 "nbformat": 4,
 "nbformat_minor": 5
}
