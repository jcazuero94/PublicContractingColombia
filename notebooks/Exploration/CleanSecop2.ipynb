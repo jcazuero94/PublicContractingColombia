{
 "cells": [
  {
   "cell_type": "code",
   "execution_count": 9,
   "id": "6664f06a",
   "metadata": {},
   "outputs": [
    {
     "data": {
      "text/html": [
       "<pre style=\"white-space:pre;overflow-x:auto;line-height:normal;font-family:Menlo,'DejaVu Sans Mono',consolas,'Courier New',monospace\"><span style=\"font-weight: bold\">&lt;</span><span style=\"color: #ff00ff; text-decoration-color: #ff00ff; font-weight: bold\">IPython.core.display.Javascript</span><span style=\"color: #000000; text-decoration-color: #000000\"> object</span><span style=\"font-weight: bold\">&gt;</span>\n",
       "</pre>\n"
      ],
      "text/plain": [
       "\u001b[1m<\u001b[0m\u001b[1;95mIPython.core.display.Javascript\u001b[0m\u001b[39m object\u001b[0m\u001b[1m>\u001b[0m\n"
      ]
     },
     "metadata": {},
     "output_type": "display_data"
    },
    {
     "data": {
      "application/javascript": [
       "\n",
       "            setTimeout(function() {\n",
       "                var nbb_cell_id = 9;\n",
       "                var nbb_unformatted_code = \"import pandas as pd\\nimport numpy as np\\nimport json\\nimport matplotlib.pyplot as plt\\nfrom sodapy import Socrata\\nimport datetime\\n\\nfrom pyspark.sql import SparkSession\\nfrom pyspark.sql import SQLContext\\nimport pyspark.sql.functions as F\\nfrom pyspark.sql.functions import col, when, lit, udf\\nfrom secop.pipelines.data_engineering.utilities import (\\n    schema_secop_2,\\n    schema_secop_int,\\n    _get_nits_to_extract,\\n    _remove_tildes,\\n    _clean_modalidad_contratacion,\\n    _clean_modalidad_contratacion_2,\\n    _clean_tipo_contrato,\\n    _to_int,\\n)\";\n",
       "                var nbb_formatted_code = \"import pandas as pd\\nimport numpy as np\\nimport json\\nimport matplotlib.pyplot as plt\\nfrom sodapy import Socrata\\nimport datetime\\n\\nfrom pyspark.sql import SparkSession\\nfrom pyspark.sql import SQLContext\\nimport pyspark.sql.functions as F\\nfrom pyspark.sql.functions import col, when, lit, udf\\nfrom secop.pipelines.data_engineering.utilities import (\\n    schema_secop_2,\\n    schema_secop_int,\\n    _get_nits_to_extract,\\n    _remove_tildes,\\n    _clean_modalidad_contratacion,\\n    _clean_modalidad_contratacion_2,\\n    _clean_tipo_contrato,\\n    _to_int,\\n)\";\n",
       "                var nbb_cells = Jupyter.notebook.get_cells();\n",
       "                for (var i = 0; i < nbb_cells.length; ++i) {\n",
       "                    if (nbb_cells[i].input_prompt_number == nbb_cell_id) {\n",
       "                        if (nbb_cells[i].get_text() == nbb_unformatted_code) {\n",
       "                             nbb_cells[i].set_text(nbb_formatted_code);\n",
       "                        }\n",
       "                        break;\n",
       "                    }\n",
       "                }\n",
       "            }, 500);\n",
       "            "
      ]
     },
     "metadata": {},
     "output_type": "display_data"
    }
   ],
   "source": [
    "import pandas as pd\n",
    "import numpy as np\n",
    "import json\n",
    "import matplotlib.pyplot as plt\n",
    "from sodapy import Socrata\n",
    "import datetime\n",
    "\n",
    "from pyspark.sql import SparkSession\n",
    "from pyspark.sql import SQLContext\n",
    "import pyspark.sql.functions as F\n",
    "from pyspark.sql.functions import col, when, lit, udf\n",
    "from secop.pipelines.data_engineering.utilities import (\n",
    "    schema_secop_2,\n",
    "    schema_secop_int,\n",
    "    _get_nits_to_extract,\n",
    "    _remove_tildes,\n",
    "    _clean_modalidad_contratacion,\n",
    "    _clean_modalidad_contratacion_2,\n",
    "    _clean_tipo_contrato,\n",
    "    _to_int,\n",
    ")"
   ]
  },
  {
   "cell_type": "code",
   "execution_count": 2,
   "id": "084cd5bd",
   "metadata": {},
   "outputs": [],
   "source": [
    "from secop.pipelines.data_engineering.utilities import _remove_tildes"
   ]
  },
  {
   "cell_type": "code",
   "execution_count": 3,
   "id": "8a1d9003",
   "metadata": {},
   "outputs": [
    {
     "data": {
      "text/html": [
       "<pre style=\"white-space:pre;overflow-x:auto;line-height:normal;font-family:Menlo,'DejaVu Sans Mono',consolas,'Courier New',monospace\"><span style=\"font-weight: bold\">&lt;</span><span style=\"color: #ff00ff; text-decoration-color: #ff00ff; font-weight: bold\">IPython.core.display.Javascript</span><span style=\"color: #000000; text-decoration-color: #000000\"> object</span><span style=\"font-weight: bold\">&gt;</span>\n",
       "</pre>\n"
      ],
      "text/plain": [
       "\u001b[1m<\u001b[0m\u001b[1;95mIPython.core.display.Javascript\u001b[0m\u001b[39m object\u001b[0m\u001b[1m>\u001b[0m\n"
      ]
     },
     "metadata": {},
     "output_type": "display_data"
    },
    {
     "data": {
      "application/javascript": [
       "\n",
       "            setTimeout(function() {\n",
       "                var nbb_cell_id = 3;\n",
       "                var nbb_unformatted_code = \"%load_ext nb_black\\n%matplotlib inline\";\n",
       "                var nbb_formatted_code = \"%load_ext nb_black\\n%matplotlib inline\";\n",
       "                var nbb_cells = Jupyter.notebook.get_cells();\n",
       "                for (var i = 0; i < nbb_cells.length; ++i) {\n",
       "                    if (nbb_cells[i].input_prompt_number == nbb_cell_id) {\n",
       "                        if (nbb_cells[i].get_text() == nbb_unformatted_code) {\n",
       "                             nbb_cells[i].set_text(nbb_formatted_code);\n",
       "                        }\n",
       "                        break;\n",
       "                    }\n",
       "                }\n",
       "            }, 500);\n",
       "            "
      ]
     },
     "metadata": {},
     "output_type": "display_data"
    }
   ],
   "source": [
    "%load_ext nb_black\n",
    "%matplotlib inline"
   ]
  },
  {
   "cell_type": "code",
   "execution_count": 4,
   "id": "5f2d604a",
   "metadata": {
    "scrolled": false
   },
   "outputs": [
    {
     "data": {
      "text/html": [
       "<pre style=\"white-space:pre;overflow-x:auto;line-height:normal;font-family:Menlo,'DejaVu Sans Mono',consolas,'Courier New',monospace\"><span style=\"color: #7fbfbf; text-decoration-color: #7fbfbf\">                    </span><span style=\"color: #000080; text-decoration-color: #000080\">INFO    </span> Loading data from <span style=\"color: #008000; text-decoration-color: #008000\">'secop_2@pandas'</span> <span style=\"font-weight: bold\">(</span>ParquetDataSetSecop<span style=\"font-weight: bold\">)</span><span style=\"color: #808000; text-decoration-color: #808000\">...</span>        <a href=\"file:///opt/homebrew/Caskroom/miniforge/base/envs/dm_project/lib/python3.10/site-packages/kedro/io/data_catalog.py\" target=\"_blank\"><span style=\"color: #7f7f7f; text-decoration-color: #7f7f7f\">data_catalog.py</span></a><span style=\"color: #7f7f7f; text-decoration-color: #7f7f7f\">:</span><a href=\"file:///opt/homebrew/Caskroom/miniforge/base/envs/dm_project/lib/python3.10/site-packages/kedro/io/data_catalog.py#343\" target=\"_blank\"><span style=\"color: #7f7f7f; text-decoration-color: #7f7f7f\">343</span></a>\n",
       "</pre>\n"
      ],
      "text/plain": [
       "\u001b[2;36m                   \u001b[0m\u001b[2;36m \u001b[0m\u001b[34mINFO    \u001b[0m Loading data from \u001b[32m'secop_2@pandas'\u001b[0m \u001b[1m(\u001b[0mParquetDataSetSecop\u001b[1m)\u001b[0m\u001b[33m...\u001b[0m        \u001b]8;id=866308;file:///opt/homebrew/Caskroom/miniforge/base/envs/dm_project/lib/python3.10/site-packages/kedro/io/data_catalog.py\u001b\\\u001b[2mdata_catalog.py\u001b[0m\u001b]8;;\u001b\\\u001b[2m:\u001b[0m\u001b]8;id=537986;file:///opt/homebrew/Caskroom/miniforge/base/envs/dm_project/lib/python3.10/site-packages/kedro/io/data_catalog.py#343\u001b\\\u001b[2m343\u001b[0m\u001b]8;;\u001b\\\n"
      ]
     },
     "metadata": {},
     "output_type": "display_data"
    },
    {
     "data": {
      "text/html": [
       "<pre style=\"white-space:pre;overflow-x:auto;line-height:normal;font-family:Menlo,'DejaVu Sans Mono',consolas,'Courier New',monospace\"><span style=\"font-weight: bold\">&lt;</span><span style=\"color: #ff00ff; text-decoration-color: #ff00ff; font-weight: bold\">IPython.core.display.Javascript</span><span style=\"color: #000000; text-decoration-color: #000000\"> object</span><span style=\"font-weight: bold\">&gt;</span>\n",
       "</pre>\n"
      ],
      "text/plain": [
       "\u001b[1m<\u001b[0m\u001b[1;95mIPython.core.display.Javascript\u001b[0m\u001b[39m object\u001b[0m\u001b[1m>\u001b[0m\n"
      ]
     },
     "metadata": {},
     "output_type": "display_data"
    },
    {
     "data": {
      "application/javascript": [
       "\n",
       "            setTimeout(function() {\n",
       "                var nbb_cell_id = 4;\n",
       "                var nbb_unformatted_code = \"secop_2 = catalog.load(\\\"secop_2@pandas\\\")\";\n",
       "                var nbb_formatted_code = \"secop_2 = catalog.load(\\\"secop_2@pandas\\\")\";\n",
       "                var nbb_cells = Jupyter.notebook.get_cells();\n",
       "                for (var i = 0; i < nbb_cells.length; ++i) {\n",
       "                    if (nbb_cells[i].input_prompt_number == nbb_cell_id) {\n",
       "                        if (nbb_cells[i].get_text() == nbb_unformatted_code) {\n",
       "                             nbb_cells[i].set_text(nbb_formatted_code);\n",
       "                        }\n",
       "                        break;\n",
       "                    }\n",
       "                }\n",
       "            }, 500);\n",
       "            "
      ]
     },
     "metadata": {},
     "output_type": "display_data"
    }
   ],
   "source": [
    "secop_2 = catalog.load(\"secop_2@pandas\")"
   ]
  },
  {
   "cell_type": "code",
   "execution_count": 5,
   "id": "1288a382",
   "metadata": {},
   "outputs": [
    {
     "data": {
      "text/html": [
       "<pre style=\"white-space:pre;overflow-x:auto;line-height:normal;font-family:Menlo,'DejaVu Sans Mono',consolas,'Courier New',monospace\">\n",
       "<span style=\"color: #800080; text-decoration-color: #800080; font-weight: bold\">Index</span><span style=\"font-weight: bold\">([</span><span style=\"color: #008000; text-decoration-color: #008000\">'entidad'</span>, <span style=\"color: #008000; text-decoration-color: #008000\">'departamento_entidad'</span>, <span style=\"color: #008000; text-decoration-color: #008000\">'ciudad_entidad'</span>, <span style=\"color: #008000; text-decoration-color: #008000\">'ordenentidad'</span>,\n",
       "       <span style=\"color: #008000; text-decoration-color: #008000\">'id_del_proceso'</span>, <span style=\"color: #008000; text-decoration-color: #008000\">'referencia_del_proceso'</span>, <span style=\"color: #008000; text-decoration-color: #008000\">'nombre_del_procedimiento'</span>,\n",
       "       <span style=\"color: #008000; text-decoration-color: #008000\">'descripci_n_del_procedimiento'</span>, <span style=\"color: #008000; text-decoration-color: #008000\">'fase'</span>, <span style=\"color: #008000; text-decoration-color: #008000\">'precio_base'</span>,\n",
       "       <span style=\"color: #008000; text-decoration-color: #008000\">'modalidad_de_contratacion'</span>, <span style=\"color: #008000; text-decoration-color: #008000\">'duracion'</span>, <span style=\"color: #008000; text-decoration-color: #008000\">'unidad_de_duracion'</span>,\n",
       "       <span style=\"color: #008000; text-decoration-color: #008000\">'proveedores_invitados'</span>, <span style=\"color: #008000; text-decoration-color: #008000\">'proveedores_con_invitacion'</span>,\n",
       "       <span style=\"color: #008000; text-decoration-color: #008000\">'visualizaciones_del'</span>, <span style=\"color: #008000; text-decoration-color: #008000\">'proveedores_que_manifestaron'</span>,\n",
       "       <span style=\"color: #008000; text-decoration-color: #008000\">'respuestas_al_procedimiento'</span>, <span style=\"color: #008000; text-decoration-color: #008000\">'respuestas_externas'</span>,\n",
       "       <span style=\"color: #008000; text-decoration-color: #008000\">'conteo_de_respuestas_a_ofertas'</span>, <span style=\"color: #008000; text-decoration-color: #008000\">'proveedores_unicos_con'</span>,\n",
       "       <span style=\"color: #008000; text-decoration-color: #008000\">'estado_del_procedimiento'</span>, <span style=\"color: #008000; text-decoration-color: #008000\">'adjudicado'</span>, <span style=\"color: #008000; text-decoration-color: #008000\">'departamento_proveedor'</span>,\n",
       "       <span style=\"color: #008000; text-decoration-color: #008000\">'ciudad_proveedor'</span>, <span style=\"color: #008000; text-decoration-color: #008000\">'valor_total_adjudicacion'</span>,\n",
       "       <span style=\"color: #008000; text-decoration-color: #008000\">'nombre_del_adjudicador'</span>, <span style=\"color: #008000; text-decoration-color: #008000\">'nombre_del_proveedor'</span>,\n",
       "       <span style=\"color: #008000; text-decoration-color: #008000\">'nit_del_proveedor_adjudicado'</span>, <span style=\"color: #008000; text-decoration-color: #008000\">'tipo_de_contrato'</span>,\n",
       "       <span style=\"color: #008000; text-decoration-color: #008000\">'subtipo_de_contrato'</span>, <span style=\"color: #008000; text-decoration-color: #008000\">'fecha_de_publicacion_del'</span>,\n",
       "       <span style=\"color: #008000; text-decoration-color: #008000\">'fecha_de_ultima_publicaci'</span>, <span style=\"color: #008000; text-decoration-color: #008000\">'fecha_de_publicacion_fase_3'</span>,\n",
       "       <span style=\"color: #008000; text-decoration-color: #008000\">'fecha_de_recepcion_de'</span>, <span style=\"color: #008000; text-decoration-color: #008000\">'fecha_de_apertura_efectiva'</span>, <span style=\"color: #008000; text-decoration-color: #008000\">'nit_entidad'</span><span style=\"font-weight: bold\">]</span>,\n",
       "      <span style=\"color: #808000; text-decoration-color: #808000\">dtype</span>=<span style=\"color: #008000; text-decoration-color: #008000\">'object'</span><span style=\"font-weight: bold\">)</span>\n",
       "</pre>\n"
      ],
      "text/plain": [
       "\n",
       "\u001b[1;35mIndex\u001b[0m\u001b[1m(\u001b[0m\u001b[1m[\u001b[0m\u001b[32m'entidad'\u001b[0m, \u001b[32m'departamento_entidad'\u001b[0m, \u001b[32m'ciudad_entidad'\u001b[0m, \u001b[32m'ordenentidad'\u001b[0m,\n",
       "       \u001b[32m'id_del_proceso'\u001b[0m, \u001b[32m'referencia_del_proceso'\u001b[0m, \u001b[32m'nombre_del_procedimiento'\u001b[0m,\n",
       "       \u001b[32m'descripci_n_del_procedimiento'\u001b[0m, \u001b[32m'fase'\u001b[0m, \u001b[32m'precio_base'\u001b[0m,\n",
       "       \u001b[32m'modalidad_de_contratacion'\u001b[0m, \u001b[32m'duracion'\u001b[0m, \u001b[32m'unidad_de_duracion'\u001b[0m,\n",
       "       \u001b[32m'proveedores_invitados'\u001b[0m, \u001b[32m'proveedores_con_invitacion'\u001b[0m,\n",
       "       \u001b[32m'visualizaciones_del'\u001b[0m, \u001b[32m'proveedores_que_manifestaron'\u001b[0m,\n",
       "       \u001b[32m'respuestas_al_procedimiento'\u001b[0m, \u001b[32m'respuestas_externas'\u001b[0m,\n",
       "       \u001b[32m'conteo_de_respuestas_a_ofertas'\u001b[0m, \u001b[32m'proveedores_unicos_con'\u001b[0m,\n",
       "       \u001b[32m'estado_del_procedimiento'\u001b[0m, \u001b[32m'adjudicado'\u001b[0m, \u001b[32m'departamento_proveedor'\u001b[0m,\n",
       "       \u001b[32m'ciudad_proveedor'\u001b[0m, \u001b[32m'valor_total_adjudicacion'\u001b[0m,\n",
       "       \u001b[32m'nombre_del_adjudicador'\u001b[0m, \u001b[32m'nombre_del_proveedor'\u001b[0m,\n",
       "       \u001b[32m'nit_del_proveedor_adjudicado'\u001b[0m, \u001b[32m'tipo_de_contrato'\u001b[0m,\n",
       "       \u001b[32m'subtipo_de_contrato'\u001b[0m, \u001b[32m'fecha_de_publicacion_del'\u001b[0m,\n",
       "       \u001b[32m'fecha_de_ultima_publicaci'\u001b[0m, \u001b[32m'fecha_de_publicacion_fase_3'\u001b[0m,\n",
       "       \u001b[32m'fecha_de_recepcion_de'\u001b[0m, \u001b[32m'fecha_de_apertura_efectiva'\u001b[0m, \u001b[32m'nit_entidad'\u001b[0m\u001b[1m]\u001b[0m,\n",
       "      \u001b[33mdtype\u001b[0m=\u001b[32m'object'\u001b[0m\u001b[1m)\u001b[0m\n"
      ]
     },
     "metadata": {},
     "output_type": "display_data"
    },
    {
     "data": {
      "text/html": [
       "<pre style=\"white-space:pre;overflow-x:auto;line-height:normal;font-family:Menlo,'DejaVu Sans Mono',consolas,'Courier New',monospace\"><span style=\"font-weight: bold\">&lt;</span><span style=\"color: #ff00ff; text-decoration-color: #ff00ff; font-weight: bold\">IPython.core.display.Javascript</span><span style=\"color: #000000; text-decoration-color: #000000\"> object</span><span style=\"font-weight: bold\">&gt;</span>\n",
       "</pre>\n"
      ],
      "text/plain": [
       "\u001b[1m<\u001b[0m\u001b[1;95mIPython.core.display.Javascript\u001b[0m\u001b[39m object\u001b[0m\u001b[1m>\u001b[0m\n"
      ]
     },
     "metadata": {},
     "output_type": "display_data"
    },
    {
     "data": {
      "application/javascript": [
       "\n",
       "            setTimeout(function() {\n",
       "                var nbb_cell_id = 5;\n",
       "                var nbb_unformatted_code = \"secop_2.columns\";\n",
       "                var nbb_formatted_code = \"secop_2.columns\";\n",
       "                var nbb_cells = Jupyter.notebook.get_cells();\n",
       "                for (var i = 0; i < nbb_cells.length; ++i) {\n",
       "                    if (nbb_cells[i].input_prompt_number == nbb_cell_id) {\n",
       "                        if (nbb_cells[i].get_text() == nbb_unformatted_code) {\n",
       "                             nbb_cells[i].set_text(nbb_formatted_code);\n",
       "                        }\n",
       "                        break;\n",
       "                    }\n",
       "                }\n",
       "            }, 500);\n",
       "            "
      ]
     },
     "metadata": {},
     "output_type": "display_data"
    }
   ],
   "source": [
    "secop_2.columns"
   ]
  },
  {
   "cell_type": "code",
   "execution_count": 6,
   "id": "6bd1fc8c",
   "metadata": {},
   "outputs": [
    {
     "data": {
      "text/html": [
       "<pre style=\"white-space:pre;overflow-x:auto;line-height:normal;font-family:Menlo,'DejaVu Sans Mono',consolas,'Courier New',monospace\"><span style=\"font-weight: bold\">&lt;</span><span style=\"color: #ff00ff; text-decoration-color: #ff00ff; font-weight: bold\">IPython.core.display.Javascript</span><span style=\"color: #000000; text-decoration-color: #000000\"> object</span><span style=\"font-weight: bold\">&gt;</span>\n",
       "</pre>\n"
      ],
      "text/plain": [
       "\u001b[1m<\u001b[0m\u001b[1;95mIPython.core.display.Javascript\u001b[0m\u001b[39m object\u001b[0m\u001b[1m>\u001b[0m\n"
      ]
     },
     "metadata": {},
     "output_type": "display_data"
    },
    {
     "data": {
      "application/javascript": [
       "\n",
       "            setTimeout(function() {\n",
       "                var nbb_cell_id = 6;\n",
       "                var nbb_unformatted_code = \"\\nCOLS_TILDES_LOWER = [\\n    \\\"entidad\\\",\\n    \\\"departamento_entidad\\\",\\n    \\\"ciudad_entidad\\\",\\n    \\\"ordenentidad\\\",\\n    \\\"fase\\\",\\n    \\\"modalidad_de_contratacion\\\",\\n    \\\"unidad_de_duracion\\\",\\n    \\\"estado_del_procedimiento\\\",\\n    \\\"departamento_proveedor\\\",\\n    \\\"ciudad_proveedor\\\",\\n    \\\"nombre_del_adjudicador\\\",\\n    \\\"nombre_del_proveedor\\\",\\n]\\nsecop_2[COLS_TILDES_LOWER] = (\\n    secop_2[COLS_TILDES_LOWER].applymap(lambda x: _remove_tildes(x.lower())).values\\n)\\nsecop_2 = secop_2[\\n    secop_2[\\\"modalidad_de_contratacion\\\"]\\n    != \\\"solicitud de informacion a los proveedores\\\"\\n].copy()\\nsecop_2 = secop_2[\\n    secop_2[\\\"estado_del_procedimiento\\\"]\\n    == \\\"adjudicado\\\"\\n].copy()\";\n",
       "                var nbb_formatted_code = \"COLS_TILDES_LOWER = [\\n    \\\"entidad\\\",\\n    \\\"departamento_entidad\\\",\\n    \\\"ciudad_entidad\\\",\\n    \\\"ordenentidad\\\",\\n    \\\"fase\\\",\\n    \\\"modalidad_de_contratacion\\\",\\n    \\\"unidad_de_duracion\\\",\\n    \\\"estado_del_procedimiento\\\",\\n    \\\"departamento_proveedor\\\",\\n    \\\"ciudad_proveedor\\\",\\n    \\\"nombre_del_adjudicador\\\",\\n    \\\"nombre_del_proveedor\\\",\\n]\\nsecop_2[COLS_TILDES_LOWER] = (\\n    secop_2[COLS_TILDES_LOWER].applymap(lambda x: _remove_tildes(x.lower())).values\\n)\\nsecop_2 = secop_2[\\n    secop_2[\\\"modalidad_de_contratacion\\\"] != \\\"solicitud de informacion a los proveedores\\\"\\n].copy()\\nsecop_2 = secop_2[secop_2[\\\"estado_del_procedimiento\\\"] == \\\"adjudicado\\\"].copy()\";\n",
       "                var nbb_cells = Jupyter.notebook.get_cells();\n",
       "                for (var i = 0; i < nbb_cells.length; ++i) {\n",
       "                    if (nbb_cells[i].input_prompt_number == nbb_cell_id) {\n",
       "                        if (nbb_cells[i].get_text() == nbb_unformatted_code) {\n",
       "                             nbb_cells[i].set_text(nbb_formatted_code);\n",
       "                        }\n",
       "                        break;\n",
       "                    }\n",
       "                }\n",
       "            }, 500);\n",
       "            "
      ]
     },
     "metadata": {},
     "output_type": "display_data"
    }
   ],
   "source": [
    "COLS_TILDES_LOWER = [\n",
    "    \"entidad\",\n",
    "    \"departamento_entidad\",\n",
    "    \"ciudad_entidad\",\n",
    "    \"ordenentidad\",\n",
    "    \"fase\",\n",
    "    \"modalidad_de_contratacion\",\n",
    "    \"unidad_de_duracion\",\n",
    "    \"estado_del_procedimiento\",\n",
    "    \"departamento_proveedor\",\n",
    "    \"ciudad_proveedor\",\n",
    "    \"nombre_del_adjudicador\",\n",
    "    \"nombre_del_proveedor\",\n",
    "]\n",
    "secop_2[COLS_TILDES_LOWER] = (\n",
    "    secop_2[COLS_TILDES_LOWER].applymap(lambda x: _remove_tildes(x.lower())).values\n",
    ")\n",
    "secop_2 = secop_2[\n",
    "    secop_2[\"modalidad_de_contratacion\"] != \"solicitud de informacion a los proveedores\"\n",
    "].copy()\n",
    "secop_2 = secop_2[secop_2[\"estado_del_procedimiento\"] == \"adjudicado\"].copy()\n",
    "secop_2[\"nit_entidad\"] = (\n",
    "    secop_2[\"nit_entidad\"]\n",
    "    .astype(int)\n",
    "    .apply(lambda x: int(np.floor(x / 10)) if x >= 1000000000 else x)\n",
    ")\n",
    "secop_2[\"modalidad_de_contratacion\"] = secop_2[\"modalidad_de_contratacion\"].apply(\n",
    "    _clean_modalidad_contratacion_2\n",
    ")\n",
    "for c in [\n",
    "    \"proveedores_invitados\",\n",
    "    \"proveedores_con_invitacion\",\n",
    "    \"respuestas_al_procedimiento\",\n",
    "    \"respuestas_externas\",\n",
    "    \"conteo_de_respuestas_a_ofertas\",\n",
    "    \"proveedores_unicos_con\",\n",
    "    \"duracion\",\n",
    "    \"valor_total_adjudicacion\",\n",
    "    \"precio_base\",\n",
    "]:\n",
    "    secop_2[c] = secop_2[c].astype(int)\n",
    "map_duracion = {\"dias\": 1, \"meses\": 30, \"años\": 365, \"nd\": 0}\n",
    "secop_2[\"duracion_dias\"] = secop_2[[\"duracion\", \"unidad_de_duracion\"]].apply(\n",
    "    lambda row: row[\"duracion\"] * map_duracion[row[\"unidad_de_duracion\"]], axis=1\n",
    ")\n",
    "# TODO Drop columns not used on request\n",
    "secop_2.drop(\n",
    "    [\n",
    "        \"duracion\",\n",
    "        \"unidad_de_duracion\",\n",
    "        \"adjudicado\",\n",
    "        \"tipo_de_contrato\",\n",
    "        \"subtipo_de_contrato\",\n",
    "        \"visualizaciones_del\",\n",
    "        \"proveedores_que_manifestaron\",\n",
    "        \"estado_del_procedimiento\",\n",
    "        \"fase\"\n",
    "    ],\n",
    "    axis=1,\n",
    "    inplace=True,\n",
    ")\n",
    "secop_2[\"nit_del_proveedor_adjudicado\"] = (\n",
    "    secop_2[\"nit_del_proveedor_adjudicado\"].apply(_to_int).astype(str)\n",
    ")\n",
    "secop_2[\"precio_base\"] = secop_2[\"precio_base\"].apply(lambda x: max(x, 0))\n",
    "secop_2[\"valor_total_adjudicacion\"] = secop_2.apply(\n",
    "    lambda row: row[\"precio_base\"]\n",
    "    if row[\"valor_total_adjudicacion\"] == 0\n",
    "    else row[\"valor_total_adjudicacion\"],\n",
    "    axis=1,\n",
    ")\n",
    "secop_2 = secop_2[secop_2[\"valor_total_adjudicacion\"] != 0].copy()\n",
    "secop_2.drop(\"precio_base\", axis=1, inplace=True)\n",
    "secop_2.dropna(subset=\"fecha_de_publicacion_del\", inplace=True)\n",
    "secop_2 = secop_2[\n",
    "    ~secop_2[\"nombre_del_procedimiento\"].apply(\n",
    "        lambda x: (\"convenio interadministrativo\" == x.lower()[:29])\n",
    "        or (\" copia\" == x.lower()[-6:])\n",
    "    )\n",
    "].copy()"
   ]
  },
  {
   "cell_type": "code",
   "execution_count": 10,
   "id": "ecd83f89",
   "metadata": {},
   "outputs": [
    {
     "data": {
      "text/html": [
       "<pre style=\"white-space:pre;overflow-x:auto;line-height:normal;font-family:Menlo,'DejaVu Sans Mono',consolas,'Courier New',monospace\"><span style=\"font-weight: bold\">&lt;</span><span style=\"color: #ff00ff; text-decoration-color: #ff00ff; font-weight: bold\">IPython.core.display.Javascript</span><span style=\"color: #000000; text-decoration-color: #000000\"> object</span><span style=\"font-weight: bold\">&gt;</span>\n",
       "</pre>\n"
      ],
      "text/plain": [
       "\u001b[1m<\u001b[0m\u001b[1;95mIPython.core.display.Javascript\u001b[0m\u001b[39m object\u001b[0m\u001b[1m>\u001b[0m\n"
      ]
     },
     "metadata": {},
     "output_type": "display_data"
    },
    {
     "data": {
      "application/javascript": [
       "\n",
       "            setTimeout(function() {\n",
       "                var nbb_cell_id = 10;\n",
       "                var nbb_unformatted_code = \"\\nsecop_2[\\\"modalidad_de_contratacion\\\"] = secop_2[\\\"modalidad_de_contratacion\\\"].apply(\\n    _clean_modalidad_contratacion_2\\n)\\nfor c in [\\n    \\\"proveedores_invitados\\\",\\n    \\\"proveedores_con_invitacion\\\",\\n    \\\"respuestas_al_procedimiento\\\",\\n    \\\"respuestas_externas\\\",\\n    \\\"conteo_de_respuestas_a_ofertas\\\",\\n    \\\"proveedores_unicos_con\\\",\\n    \\\"duracion\\\",\\n    \\\"valor_total_adjudicacion\\\",\\n    \\\"precio_base\\\",\\n]:\\n    secop_2[c] = secop_2[c].astype(int)\\nmap_duracion = {\\\"dias\\\": 1, \\\"meses\\\": 30, \\\"a\\u00f1os\\\": 365, \\\"nd\\\": 0}\\nsecop_2[\\\"duracion_dias\\\"] = secop_2[[\\\"duracion\\\", \\\"unidad_de_duracion\\\"]].apply(\\n    lambda row: row[\\\"duracion\\\"] * map_duracion[row[\\\"unidad_de_duracion\\\"]], axis=1\\n)\\n# TODO Drop columns not used on request\\nsecop_2.drop(\\n    [\\n        \\\"duracion\\\",\\n        \\\"unidad_de_duracion\\\",\\n        \\\"adjudicado\\\",\\n        \\\"tipo_de_contrato\\\",\\n        \\\"subtipo_de_contrato\\\",\\n        \\\"visualizaciones_del\\\",\\n        \\\"proveedores_que_manifestaron\\\",\\n        \\\"estado_del_procedimiento\\\",\\n    ],\\n    axis=1,\\n    inplace=True,\\n)\\nsecop_2[\\\"nit_del_proveedor_adjudicado\\\"] = (\\n    secop_2[\\\"nit_del_proveedor_adjudicado\\\"].apply(_to_int).astype(str)\\n)\\nsecop_2[\\\"precio_base\\\"] = secop_2[\\\"precio_base\\\"].apply(lambda x: max(x, 0))\";\n",
       "                var nbb_formatted_code = \"secop_2[\\\"modalidad_de_contratacion\\\"] = secop_2[\\\"modalidad_de_contratacion\\\"].apply(\\n    _clean_modalidad_contratacion_2\\n)\\nfor c in [\\n    \\\"proveedores_invitados\\\",\\n    \\\"proveedores_con_invitacion\\\",\\n    \\\"respuestas_al_procedimiento\\\",\\n    \\\"respuestas_externas\\\",\\n    \\\"conteo_de_respuestas_a_ofertas\\\",\\n    \\\"proveedores_unicos_con\\\",\\n    \\\"duracion\\\",\\n    \\\"valor_total_adjudicacion\\\",\\n    \\\"precio_base\\\",\\n]:\\n    secop_2[c] = secop_2[c].astype(int)\\nmap_duracion = {\\\"dias\\\": 1, \\\"meses\\\": 30, \\\"a\\u00f1os\\\": 365, \\\"nd\\\": 0}\\nsecop_2[\\\"duracion_dias\\\"] = secop_2[[\\\"duracion\\\", \\\"unidad_de_duracion\\\"]].apply(\\n    lambda row: row[\\\"duracion\\\"] * map_duracion[row[\\\"unidad_de_duracion\\\"]], axis=1\\n)\\n# TODO Drop columns not used on request\\nsecop_2.drop(\\n    [\\n        \\\"duracion\\\",\\n        \\\"unidad_de_duracion\\\",\\n        \\\"adjudicado\\\",\\n        \\\"tipo_de_contrato\\\",\\n        \\\"subtipo_de_contrato\\\",\\n        \\\"visualizaciones_del\\\",\\n        \\\"proveedores_que_manifestaron\\\",\\n        \\\"estado_del_procedimiento\\\",\\n    ],\\n    axis=1,\\n    inplace=True,\\n)\\nsecop_2[\\\"nit_del_proveedor_adjudicado\\\"] = (\\n    secop_2[\\\"nit_del_proveedor_adjudicado\\\"].apply(_to_int).astype(str)\\n)\\nsecop_2[\\\"precio_base\\\"] = secop_2[\\\"precio_base\\\"].apply(lambda x: max(x, 0))\";\n",
       "                var nbb_cells = Jupyter.notebook.get_cells();\n",
       "                for (var i = 0; i < nbb_cells.length; ++i) {\n",
       "                    if (nbb_cells[i].input_prompt_number == nbb_cell_id) {\n",
       "                        if (nbb_cells[i].get_text() == nbb_unformatted_code) {\n",
       "                             nbb_cells[i].set_text(nbb_formatted_code);\n",
       "                        }\n",
       "                        break;\n",
       "                    }\n",
       "                }\n",
       "            }, 500);\n",
       "            "
      ]
     },
     "metadata": {},
     "output_type": "display_data"
    }
   ],
   "source": []
  },
  {
   "cell_type": "code",
   "execution_count": 21,
   "id": "1096eb62",
   "metadata": {},
   "outputs": [
    {
     "data": {
      "text/html": [
       "<pre style=\"white-space:pre;overflow-x:auto;line-height:normal;font-family:Menlo,'DejaVu Sans Mono',consolas,'Courier New',monospace\"><span style=\"font-weight: bold\">&lt;</span><span style=\"color: #ff00ff; text-decoration-color: #ff00ff; font-weight: bold\">IPython.core.display.Javascript</span><span style=\"color: #000000; text-decoration-color: #000000\"> object</span><span style=\"font-weight: bold\">&gt;</span>\n",
       "</pre>\n"
      ],
      "text/plain": [
       "\u001b[1m<\u001b[0m\u001b[1;95mIPython.core.display.Javascript\u001b[0m\u001b[39m object\u001b[0m\u001b[1m>\u001b[0m\n"
      ]
     },
     "metadata": {},
     "output_type": "display_data"
    },
    {
     "data": {
      "application/javascript": [
       "\n",
       "            setTimeout(function() {\n",
       "                var nbb_cell_id = 21;\n",
       "                var nbb_unformatted_code = \"secop_2['valor_total_adjudicacion'] = secop_2.apply(lambda row: row['precio_base'] if row['valor_total_adjudicacion'] == 0 else row['valor_total_adjudicacion'],axis=1)\";\n",
       "                var nbb_formatted_code = \"secop_2[\\\"valor_total_adjudicacion\\\"] = secop_2.apply(\\n    lambda row: row[\\\"precio_base\\\"]\\n    if row[\\\"valor_total_adjudicacion\\\"] == 0\\n    else row[\\\"valor_total_adjudicacion\\\"],\\n    axis=1,\\n)\";\n",
       "                var nbb_cells = Jupyter.notebook.get_cells();\n",
       "                for (var i = 0; i < nbb_cells.length; ++i) {\n",
       "                    if (nbb_cells[i].input_prompt_number == nbb_cell_id) {\n",
       "                        if (nbb_cells[i].get_text() == nbb_unformatted_code) {\n",
       "                             nbb_cells[i].set_text(nbb_formatted_code);\n",
       "                        }\n",
       "                        break;\n",
       "                    }\n",
       "                }\n",
       "            }, 500);\n",
       "            "
      ]
     },
     "metadata": {},
     "output_type": "display_data"
    }
   ],
   "source": []
  },
  {
   "cell_type": "code",
   "execution_count": 40,
   "id": "c2cab3b8",
   "metadata": {},
   "outputs": [
    {
     "data": {
      "text/html": [
       "<pre style=\"white-space:pre;overflow-x:auto;line-height:normal;font-family:Menlo,'DejaVu Sans Mono',consolas,'Courier New',monospace\"><span style=\"color: #7fbfbf; text-decoration-color: #7fbfbf\">[08/12/22 15:37:11] </span><span style=\"color: #000080; text-decoration-color: #000080\">INFO    </span> Loading data from <span style=\"color: #008000; text-decoration-color: #008000\">'secop_2@pandas'</span> <span style=\"font-weight: bold\">(</span>ParquetDataSetSecop<span style=\"font-weight: bold\">)</span><span style=\"color: #808000; text-decoration-color: #808000\">...</span>        <a href=\"file:///opt/homebrew/Caskroom/miniforge/base/envs/dm_project/lib/python3.10/site-packages/kedro/io/data_catalog.py\" target=\"_blank\"><span style=\"color: #7f7f7f; text-decoration-color: #7f7f7f\">data_catalog.py</span></a><span style=\"color: #7f7f7f; text-decoration-color: #7f7f7f\">:</span><a href=\"file:///opt/homebrew/Caskroom/miniforge/base/envs/dm_project/lib/python3.10/site-packages/kedro/io/data_catalog.py#343\" target=\"_blank\"><span style=\"color: #7f7f7f; text-decoration-color: #7f7f7f\">343</span></a>\n",
       "</pre>\n"
      ],
      "text/plain": [
       "\u001b[2;36m[08/12/22 15:37:11]\u001b[0m\u001b[2;36m \u001b[0m\u001b[34mINFO    \u001b[0m Loading data from \u001b[32m'secop_2@pandas'\u001b[0m \u001b[1m(\u001b[0mParquetDataSetSecop\u001b[1m)\u001b[0m\u001b[33m...\u001b[0m        \u001b]8;id=712747;file:///opt/homebrew/Caskroom/miniforge/base/envs/dm_project/lib/python3.10/site-packages/kedro/io/data_catalog.py\u001b\\\u001b[2mdata_catalog.py\u001b[0m\u001b]8;;\u001b\\\u001b[2m:\u001b[0m\u001b]8;id=737764;file:///opt/homebrew/Caskroom/miniforge/base/envs/dm_project/lib/python3.10/site-packages/kedro/io/data_catalog.py#343\u001b\\\u001b[2m343\u001b[0m\u001b]8;;\u001b\\\n"
      ]
     },
     "metadata": {},
     "output_type": "display_data"
    },
    {
     "data": {
      "text/html": [
       "<pre style=\"white-space:pre;overflow-x:auto;line-height:normal;font-family:Menlo,'DejaVu Sans Mono',consolas,'Courier New',monospace\"><span style=\"font-weight: bold\">&lt;</span><span style=\"color: #ff00ff; text-decoration-color: #ff00ff; font-weight: bold\">IPython.core.display.Javascript</span><span style=\"color: #000000; text-decoration-color: #000000\"> object</span><span style=\"font-weight: bold\">&gt;</span>\n",
       "</pre>\n"
      ],
      "text/plain": [
       "\u001b[1m<\u001b[0m\u001b[1;95mIPython.core.display.Javascript\u001b[0m\u001b[39m object\u001b[0m\u001b[1m>\u001b[0m\n"
      ]
     },
     "metadata": {},
     "output_type": "display_data"
    },
    {
     "data": {
      "application/javascript": [
       "\n",
       "            setTimeout(function() {\n",
       "                var nbb_cell_id = 40;\n",
       "                var nbb_unformatted_code = \"secop_2_ini = catalog.load(\\\"secop_2@pandas\\\")\";\n",
       "                var nbb_formatted_code = \"secop_2_ini = catalog.load(\\\"secop_2@pandas\\\")\";\n",
       "                var nbb_cells = Jupyter.notebook.get_cells();\n",
       "                for (var i = 0; i < nbb_cells.length; ++i) {\n",
       "                    if (nbb_cells[i].input_prompt_number == nbb_cell_id) {\n",
       "                        if (nbb_cells[i].get_text() == nbb_unformatted_code) {\n",
       "                             nbb_cells[i].set_text(nbb_formatted_code);\n",
       "                        }\n",
       "                        break;\n",
       "                    }\n",
       "                }\n",
       "            }, 500);\n",
       "            "
      ]
     },
     "metadata": {},
     "output_type": "display_data"
    }
   ],
   "source": [
    "secop_2_ini = catalog.load(\"secop_2@pandas\")"
   ]
  },
  {
   "cell_type": "code",
   "execution_count": 41,
   "id": "0532ebda",
   "metadata": {},
   "outputs": [
    {
     "data": {
      "text/html": [
       "<div>\n",
       "<style scoped>\n",
       "    .dataframe tbody tr th:only-of-type {\n",
       "        vertical-align: middle;\n",
       "    }\n",
       "\n",
       "    .dataframe tbody tr th {\n",
       "        vertical-align: top;\n",
       "    }\n",
       "\n",
       "    .dataframe thead th {\n",
       "        text-align: right;\n",
       "    }\n",
       "</style>\n",
       "<table border=\"1\" class=\"dataframe\">\n",
       "  <thead>\n",
       "    <tr style=\"text-align: right;\">\n",
       "      <th></th>\n",
       "      <th>entidad</th>\n",
       "      <th>departamento_entidad</th>\n",
       "      <th>ciudad_entidad</th>\n",
       "      <th>ordenentidad</th>\n",
       "      <th>id_del_proceso</th>\n",
       "      <th>referencia_del_proceso</th>\n",
       "      <th>nombre_del_procedimiento</th>\n",
       "      <th>descripci_n_del_procedimiento</th>\n",
       "      <th>fase</th>\n",
       "      <th>precio_base</th>\n",
       "      <th>...</th>\n",
       "      <th>nombre_del_proveedor</th>\n",
       "      <th>nit_del_proveedor_adjudicado</th>\n",
       "      <th>tipo_de_contrato</th>\n",
       "      <th>subtipo_de_contrato</th>\n",
       "      <th>fecha_de_publicacion_del</th>\n",
       "      <th>fecha_de_ultima_publicaci</th>\n",
       "      <th>fecha_de_publicacion_fase_3</th>\n",
       "      <th>fecha_de_recepcion_de</th>\n",
       "      <th>fecha_de_apertura_efectiva</th>\n",
       "      <th>nit_entidad</th>\n",
       "    </tr>\n",
       "  </thead>\n",
       "  <tbody>\n",
       "    <tr>\n",
       "      <th>0</th>\n",
       "      <td>Vortal Operations</td>\n",
       "      <td>Quindío</td>\n",
       "      <td>Armenia</td>\n",
       "      <td>Territorial</td>\n",
       "      <td>CO1.REQ.948804</td>\n",
       "      <td>CMA_MFR_2808_2</td>\n",
       "      <td>CMAMFR2808</td>\n",
       "      <td>CMAMFR2808</td>\n",
       "      <td>No Definido</td>\n",
       "      <td>-1</td>\n",
       "      <td>...</td>\n",
       "      <td>No Adjudicado</td>\n",
       "      <td>No Adjudicado</td>\n",
       "      <td>Consultoría</td>\n",
       "      <td>No Especificado</td>\n",
       "      <td>None</td>\n",
       "      <td>None</td>\n",
       "      <td>None</td>\n",
       "      <td>None</td>\n",
       "      <td>None</td>\n",
       "      <td>000000001</td>\n",
       "    </tr>\n",
       "    <tr>\n",
       "      <th>1</th>\n",
       "      <td>Vortal Operations</td>\n",
       "      <td>Quindío</td>\n",
       "      <td>Armenia</td>\n",
       "      <td>Territorial</td>\n",
       "      <td>CO1.REQ.948433</td>\n",
       "      <td>CMA_MFR_2808</td>\n",
       "      <td>CMAMFR2808</td>\n",
       "      <td>CMAMFR2808</td>\n",
       "      <td>No Definido</td>\n",
       "      <td>-1</td>\n",
       "      <td>...</td>\n",
       "      <td>No Adjudicado</td>\n",
       "      <td>No Adjudicado</td>\n",
       "      <td>Consultoría</td>\n",
       "      <td>No Especificado</td>\n",
       "      <td>None</td>\n",
       "      <td>None</td>\n",
       "      <td>None</td>\n",
       "      <td>None</td>\n",
       "      <td>None</td>\n",
       "      <td>000000001</td>\n",
       "    </tr>\n",
       "    <tr>\n",
       "      <th>2</th>\n",
       "      <td>Vortal Operations</td>\n",
       "      <td>Quindío</td>\n",
       "      <td>Armenia</td>\n",
       "      <td>Territorial</td>\n",
       "      <td>CO1.REQ.1992464</td>\n",
       "      <td>SIP_2604</td>\n",
       "      <td>SIP2604</td>\n",
       "      <td>SIP2604</td>\n",
       "      <td>Estimate Phase</td>\n",
       "      <td>-1</td>\n",
       "      <td>...</td>\n",
       "      <td>No Adjudicado</td>\n",
       "      <td>No Adjudicado</td>\n",
       "      <td>ND</td>\n",
       "      <td>No Especificado</td>\n",
       "      <td>2021-04-26</td>\n",
       "      <td>2021-04-26</td>\n",
       "      <td>2021-04-26</td>\n",
       "      <td>2021-04-30</td>\n",
       "      <td>2021-04-26</td>\n",
       "      <td>000000001</td>\n",
       "    </tr>\n",
       "    <tr>\n",
       "      <th>3</th>\n",
       "      <td>Vortal Operations</td>\n",
       "      <td>Quindío</td>\n",
       "      <td>Armenia</td>\n",
       "      <td>Territorial</td>\n",
       "      <td>CO1.REQ.1994804</td>\n",
       "      <td>SIP_2604 Copy</td>\n",
       "      <td>SIP2604 Copy</td>\n",
       "      <td>SIP2604</td>\n",
       "      <td>Estimate Phase</td>\n",
       "      <td>-1</td>\n",
       "      <td>...</td>\n",
       "      <td>No Adjudicado</td>\n",
       "      <td>No Adjudicado</td>\n",
       "      <td>ND</td>\n",
       "      <td>No Especificado</td>\n",
       "      <td>2021-04-27</td>\n",
       "      <td>2021-04-27</td>\n",
       "      <td>2021-04-27</td>\n",
       "      <td>2021-04-30</td>\n",
       "      <td>2021-04-27</td>\n",
       "      <td>000000001</td>\n",
       "    </tr>\n",
       "    <tr>\n",
       "      <th>4</th>\n",
       "      <td>SECRETARÍA DISTRITAL DE CULTURA RECREACIÓN Y D...</td>\n",
       "      <td>Distrito Capital de Bogotá</td>\n",
       "      <td>Bogotá</td>\n",
       "      <td>Territorial</td>\n",
       "      <td>CO1.REQ.742030</td>\n",
       "      <td>ESDOP 118 de 2019</td>\n",
       "      <td>Apoyar el proceso de acompañamiento metodológi...</td>\n",
       "      <td>Prestar los servicios profesionales para apoya...</td>\n",
       "      <td>No Definido</td>\n",
       "      <td>66374000</td>\n",
       "      <td>...</td>\n",
       "      <td>No Adjudicado</td>\n",
       "      <td>No Adjudicado</td>\n",
       "      <td>Servicios de aprovisionamiento</td>\n",
       "      <td>No Especificado</td>\n",
       "      <td>None</td>\n",
       "      <td>None</td>\n",
       "      <td>None</td>\n",
       "      <td>None</td>\n",
       "      <td>None</td>\n",
       "      <td>0899999061</td>\n",
       "    </tr>\n",
       "    <tr>\n",
       "      <th>...</th>\n",
       "      <td>...</td>\n",
       "      <td>...</td>\n",
       "      <td>...</td>\n",
       "      <td>...</td>\n",
       "      <td>...</td>\n",
       "      <td>...</td>\n",
       "      <td>...</td>\n",
       "      <td>...</td>\n",
       "      <td>...</td>\n",
       "      <td>...</td>\n",
       "      <td>...</td>\n",
       "      <td>...</td>\n",
       "      <td>...</td>\n",
       "      <td>...</td>\n",
       "      <td>...</td>\n",
       "      <td>...</td>\n",
       "      <td>...</td>\n",
       "      <td>...</td>\n",
       "      <td>...</td>\n",
       "      <td>...</td>\n",
       "      <td>...</td>\n",
       "    </tr>\n",
       "    <tr>\n",
       "      <th>1861368</th>\n",
       "      <td>PERSONERIA MUNICIPAL DE SANTA ROSALIA VICHADA</td>\n",
       "      <td>Vichada</td>\n",
       "      <td>Santa Rosalía</td>\n",
       "      <td>Territorial</td>\n",
       "      <td>CO1.REQ.2829203</td>\n",
       "      <td>03</td>\n",
       "      <td>ADQUISICIÓN DE SEGURO PÓLIZA MULTIRIESGOS QUE ...</td>\n",
       "      <td>ADQUISICIÓN DE SEGURO PÓLIZA MULTIRIESGOS QUE ...</td>\n",
       "      <td>Presentación de oferta</td>\n",
       "      <td>1200000</td>\n",
       "      <td>...</td>\n",
       "      <td>LA PREVISORA SA COMPAÑÍA DE SEGUROS</td>\n",
       "      <td>860002400</td>\n",
       "      <td>Seguros</td>\n",
       "      <td>No Especificado</td>\n",
       "      <td>2022-02-03</td>\n",
       "      <td>2022-02-03</td>\n",
       "      <td>2022-02-03</td>\n",
       "      <td>2022-02-09</td>\n",
       "      <td>2022-02-09</td>\n",
       "      <td>901552719</td>\n",
       "    </tr>\n",
       "    <tr>\n",
       "      <th>1861369</th>\n",
       "      <td>PERSONERIA MUNICIPAL DE SANTA ROSALIA VICHADA</td>\n",
       "      <td>Vichada</td>\n",
       "      <td>Santa Rosalía</td>\n",
       "      <td>Territorial</td>\n",
       "      <td>CO1.REQ.2650955</td>\n",
       "      <td>01</td>\n",
       "      <td>PRESTACIÓN DE SERVICIOS PROFESIONALES PARA LA ...</td>\n",
       "      <td>PRESTACIÓN DE SERVICIOS PROFESIONALES PARA LA ...</td>\n",
       "      <td>Presentación de oferta</td>\n",
       "      <td>10000000</td>\n",
       "      <td>...</td>\n",
       "      <td>No Adjudicado</td>\n",
       "      <td>No Adjudicado</td>\n",
       "      <td>Servicios de aprovisionamiento</td>\n",
       "      <td>No Especificado</td>\n",
       "      <td>2022-01-18</td>\n",
       "      <td>2022-01-18</td>\n",
       "      <td>2022-01-18</td>\n",
       "      <td>None</td>\n",
       "      <td>None</td>\n",
       "      <td>901552719</td>\n",
       "    </tr>\n",
       "    <tr>\n",
       "      <th>1861370</th>\n",
       "      <td>PERSONERIA MUNICIPAL DE SANTA ROSALIA VICHADA</td>\n",
       "      <td>Vichada</td>\n",
       "      <td>Santa Rosalía</td>\n",
       "      <td>Territorial</td>\n",
       "      <td>CO1.REQ.2698653</td>\n",
       "      <td>02</td>\n",
       "      <td>PRESTACIÓN DE SERVICIOS DE APOYO A LA GESTIÓN ...</td>\n",
       "      <td></td>\n",
       "      <td>Presentación de oferta</td>\n",
       "      <td>4400000</td>\n",
       "      <td>...</td>\n",
       "      <td>No Adjudicado</td>\n",
       "      <td>No Adjudicado</td>\n",
       "      <td>Servicios de aprovisionamiento</td>\n",
       "      <td>No Especificado</td>\n",
       "      <td>2022-01-20</td>\n",
       "      <td>2022-01-20</td>\n",
       "      <td>2022-01-20</td>\n",
       "      <td>None</td>\n",
       "      <td>None</td>\n",
       "      <td>901552719</td>\n",
       "    </tr>\n",
       "    <tr>\n",
       "      <th>1861371</th>\n",
       "      <td>ALUMBRADO PUBLICO DE YUMBO SEM SAS</td>\n",
       "      <td>Valle del Cauca</td>\n",
       "      <td>Yumbo</td>\n",
       "      <td>Territorial</td>\n",
       "      <td>CO1.REQ.3104135</td>\n",
       "      <td>CONCURSO DE MERITOS No. 001 DE 2022</td>\n",
       "      <td>REALIZAR LA INTERVENTORIA A LA PRESTACIÓN DEL ...</td>\n",
       "      <td>REALIZAR LA INTERVENTORIA A LA PRESTACIÓN DEL ...</td>\n",
       "      <td>Presentación de observaciones</td>\n",
       "      <td>84884090</td>\n",
       "      <td>...</td>\n",
       "      <td>No Adjudicado</td>\n",
       "      <td>No Adjudicado</td>\n",
       "      <td>Interventoría</td>\n",
       "      <td>No Especificado</td>\n",
       "      <td>2022-07-11</td>\n",
       "      <td>2022-07-11</td>\n",
       "      <td>None</td>\n",
       "      <td>2022-07-27</td>\n",
       "      <td>2022-07-27</td>\n",
       "      <td>901554184</td>\n",
       "    </tr>\n",
       "    <tr>\n",
       "      <th>1861372</th>\n",
       "      <td>ALUMBRADO PUBLICO DE YUMBO SEM SAS</td>\n",
       "      <td>Valle del Cauca</td>\n",
       "      <td>Yumbo</td>\n",
       "      <td>Territorial</td>\n",
       "      <td>CO1.REQ.3120506</td>\n",
       "      <td>CONCURSO DE MERITOS No. 001 DE 2022 (Presentac...</td>\n",
       "      <td>REALIZAR LA INTERVENTORIA A LA PRESTACIÓN DEL ...</td>\n",
       "      <td>REALIZAR LA INTERVENTORIA A LA PRESTACIÓN DEL ...</td>\n",
       "      <td>Presentación de oferta</td>\n",
       "      <td>84884090</td>\n",
       "      <td>...</td>\n",
       "      <td>INTERVENTORIAS INTEGRALES SAS</td>\n",
       "      <td>901280006</td>\n",
       "      <td>Interventoría</td>\n",
       "      <td>No Especificado</td>\n",
       "      <td>2022-07-15</td>\n",
       "      <td>2022-07-15</td>\n",
       "      <td>2022-07-15</td>\n",
       "      <td>2022-07-27</td>\n",
       "      <td>2022-07-27</td>\n",
       "      <td>901554184</td>\n",
       "    </tr>\n",
       "  </tbody>\n",
       "</table>\n",
       "<p>1861373 rows × 37 columns</p>\n",
       "</div>"
      ]
     },
     "execution_count": 41,
     "metadata": {},
     "output_type": "execute_result"
    },
    {
     "data": {
      "text/html": [
       "<pre style=\"white-space:pre;overflow-x:auto;line-height:normal;font-family:Menlo,'DejaVu Sans Mono',consolas,'Courier New',monospace\"><span style=\"font-weight: bold\">&lt;</span><span style=\"color: #ff00ff; text-decoration-color: #ff00ff; font-weight: bold\">IPython.core.display.Javascript</span><span style=\"color: #000000; text-decoration-color: #000000\"> object</span><span style=\"font-weight: bold\">&gt;</span>\n",
       "</pre>\n"
      ],
      "text/plain": [
       "\u001b[1m<\u001b[0m\u001b[1;95mIPython.core.display.Javascript\u001b[0m\u001b[39m object\u001b[0m\u001b[1m>\u001b[0m\n"
      ]
     },
     "metadata": {},
     "output_type": "display_data"
    },
    {
     "data": {
      "application/javascript": [
       "\n",
       "            setTimeout(function() {\n",
       "                var nbb_cell_id = 41;\n",
       "                var nbb_unformatted_code = \"secop_2_ini\";\n",
       "                var nbb_formatted_code = \"secop_2_ini\";\n",
       "                var nbb_cells = Jupyter.notebook.get_cells();\n",
       "                for (var i = 0; i < nbb_cells.length; ++i) {\n",
       "                    if (nbb_cells[i].input_prompt_number == nbb_cell_id) {\n",
       "                        if (nbb_cells[i].get_text() == nbb_unformatted_code) {\n",
       "                             nbb_cells[i].set_text(nbb_formatted_code);\n",
       "                        }\n",
       "                        break;\n",
       "                    }\n",
       "                }\n",
       "            }, 500);\n",
       "            "
      ]
     },
     "metadata": {},
     "output_type": "display_data"
    }
   ],
   "source": [
    "secop_2_ini"
   ]
  },
  {
   "cell_type": "code",
   "execution_count": null,
   "id": "b3d83e54",
   "metadata": {},
   "outputs": [],
   "source": [
    "secop_2_ini.where()"
   ]
  },
  {
   "cell_type": "code",
   "execution_count": 38,
   "id": "74a0207f",
   "metadata": {},
   "outputs": [
    {
     "data": {
      "text/html": [
       "<pre style=\"white-space:pre;overflow-x:auto;line-height:normal;font-family:Menlo,'DejaVu Sans Mono',consolas,'Courier New',monospace\"><span style=\"color: #800000; text-decoration-color: #800000\">╭─────────────────────────────── </span><span style=\"color: #800000; text-decoration-color: #800000; font-weight: bold\">Traceback </span><span style=\"color: #bf7f7f; text-decoration-color: #bf7f7f; font-weight: bold\">(most recent call last)</span><span style=\"color: #800000; text-decoration-color: #800000\"> ────────────────────────────────╮</span>\n",
       "<span style=\"color: #800000; text-decoration-color: #800000\">│</span> <span style=\"color: #bfbf7f; text-decoration-color: #bfbf7f\">/var/folders/89/9jx5xq1j4b979h8c76h2dzjr0000gn/T/ipykernel_30420/</span><span style=\"color: #808000; text-decoration-color: #808000; font-weight: bold\">322320111.py</span>:<span style=\"color: #0000ff; text-decoration-color: #0000ff\">1</span> in <span style=\"color: #00ff00; text-decoration-color: #00ff00\">&lt;cell line: </span>  <span style=\"color: #800000; text-decoration-color: #800000\">│</span>\n",
       "<span style=\"color: #800000; text-decoration-color: #800000\">│</span> <span style=\"color: #00ff00; text-decoration-color: #00ff00\">1&gt;</span>                                                                                               <span style=\"color: #800000; text-decoration-color: #800000\">│</span>\n",
       "<span style=\"color: #800000; text-decoration-color: #800000\">│</span>                                                                                                  <span style=\"color: #800000; text-decoration-color: #800000\">│</span>\n",
       "<span style=\"color: #800000; text-decoration-color: #800000\">│</span> <span style=\"color: #800000; text-decoration-color: #800000; font-style: italic\">[Errno 2] No such file or directory: </span>                                                            <span style=\"color: #800000; text-decoration-color: #800000\">│</span>\n",
       "<span style=\"color: #800000; text-decoration-color: #800000\">│</span> <span style=\"color: #800000; text-decoration-color: #800000; font-style: italic\">'/var/folders/89/9jx5xq1j4b979h8c76h2dzjr0000gn/T/ipykernel_30420/322320111.py'</span>                  <span style=\"color: #800000; text-decoration-color: #800000\">│</span>\n",
       "<span style=\"color: #800000; text-decoration-color: #800000\">╰──────────────────────────────────────────────────────────────────────────────────────────────────╯</span>\n",
       "<span style=\"color: #ff0000; text-decoration-color: #ff0000; font-weight: bold\">ValueError: </span>invalid literal for <span style=\"color: #800080; text-decoration-color: #800080; font-weight: bold\">int</span><span style=\"font-weight: bold\">()</span> with base <span style=\"color: #008080; text-decoration-color: #008080; font-weight: bold\">10</span>: <span style=\"color: #008000; text-decoration-color: #008000\">'1.324.556,21'</span>\n",
       "</pre>\n"
      ],
      "text/plain": [
       "\u001b[31m╭─\u001b[0m\u001b[31m────────────────────────────── \u001b[0m\u001b[1;31mTraceback \u001b[0m\u001b[1;2;31m(most recent call last)\u001b[0m\u001b[31m ───────────────────────────────\u001b[0m\u001b[31m─╮\u001b[0m\n",
       "\u001b[31m│\u001b[0m \u001b[2;33m/var/folders/89/9jx5xq1j4b979h8c76h2dzjr0000gn/T/ipykernel_30420/\u001b[0m\u001b[1;33m322320111.py\u001b[0m:\u001b[94m1\u001b[0m in \u001b[92m<cell line: \u001b[0m  \u001b[31m│\u001b[0m\n",
       "\u001b[31m│\u001b[0m \u001b[92m1>\u001b[0m                                                                                               \u001b[31m│\u001b[0m\n",
       "\u001b[31m│\u001b[0m                                                                                                  \u001b[31m│\u001b[0m\n",
       "\u001b[31m│\u001b[0m \u001b[3;31m[Errno 2] No such file or directory: \u001b[0m                                                            \u001b[31m│\u001b[0m\n",
       "\u001b[31m│\u001b[0m \u001b[3;31m'/var/folders/89/9jx5xq1j4b979h8c76h2dzjr0000gn/T/ipykernel_30420/322320111.py'\u001b[0m                  \u001b[31m│\u001b[0m\n",
       "\u001b[31m╰──────────────────────────────────────────────────────────────────────────────────────────────────╯\u001b[0m\n",
       "\u001b[1;91mValueError: \u001b[0minvalid literal for \u001b[1;35mint\u001b[0m\u001b[1m(\u001b[0m\u001b[1m)\u001b[0m with base \u001b[1;36m10\u001b[0m: \u001b[32m'1.324.556,21'\u001b[0m\n"
      ]
     },
     "metadata": {},
     "output_type": "display_data"
    },
    {
     "data": {
      "text/html": [
       "<pre style=\"white-space:pre;overflow-x:auto;line-height:normal;font-family:Menlo,'DejaVu Sans Mono',consolas,'Courier New',monospace\"><span style=\"font-weight: bold\">&lt;</span><span style=\"color: #ff00ff; text-decoration-color: #ff00ff; font-weight: bold\">IPython.core.display.Javascript</span><span style=\"color: #000000; text-decoration-color: #000000\"> object</span><span style=\"font-weight: bold\">&gt;</span>\n",
       "</pre>\n"
      ],
      "text/plain": [
       "\u001b[1m<\u001b[0m\u001b[1;95mIPython.core.display.Javascript\u001b[0m\u001b[39m object\u001b[0m\u001b[1m>\u001b[0m\n"
      ]
     },
     "metadata": {},
     "output_type": "display_data"
    },
    {
     "data": {
      "application/javascript": [
       "\n",
       "            setTimeout(function() {\n",
       "                var nbb_cell_id = 38;\n",
       "                var nbb_unformatted_code = \"int(\\\"1.324.556,21\\\")\";\n",
       "                var nbb_formatted_code = \"int(\\\"1.324.556,21\\\")\";\n",
       "                var nbb_cells = Jupyter.notebook.get_cells();\n",
       "                for (var i = 0; i < nbb_cells.length; ++i) {\n",
       "                    if (nbb_cells[i].input_prompt_number == nbb_cell_id) {\n",
       "                        if (nbb_cells[i].get_text() == nbb_unformatted_code) {\n",
       "                             nbb_cells[i].set_text(nbb_formatted_code);\n",
       "                        }\n",
       "                        break;\n",
       "                    }\n",
       "                }\n",
       "            }, 500);\n",
       "            "
      ]
     },
     "metadata": {},
     "output_type": "display_data"
    }
   ],
   "source": [
    "int(\"1.324.556,21\")"
   ]
  },
  {
   "cell_type": "code",
   "execution_count": 36,
   "id": "9a01afb1",
   "metadata": {},
   "outputs": [
    {
     "data": {
      "text/html": [
       "<pre style=\"white-space:pre;overflow-x:auto;line-height:normal;font-family:Menlo,'DejaVu Sans Mono',consolas,'Courier New',monospace\">\n",
       "<span style=\"color: #800080; text-decoration-color: #800080; font-weight: bold\">Index</span><span style=\"font-weight: bold\">([</span><span style=\"color: #008000; text-decoration-color: #008000\">'entidad'</span>, <span style=\"color: #008000; text-decoration-color: #008000\">'departamento_entidad'</span>, <span style=\"color: #008000; text-decoration-color: #008000\">'ciudad_entidad'</span>, <span style=\"color: #008000; text-decoration-color: #008000\">'ordenentidad'</span>,\n",
       "       <span style=\"color: #008000; text-decoration-color: #008000\">'id_del_proceso'</span>, <span style=\"color: #008000; text-decoration-color: #008000\">'referencia_del_proceso'</span>, <span style=\"color: #008000; text-decoration-color: #008000\">'nombre_del_procedimiento'</span>,\n",
       "       <span style=\"color: #008000; text-decoration-color: #008000\">'descripci_n_del_procedimiento'</span>, <span style=\"color: #008000; text-decoration-color: #008000\">'fase'</span>, <span style=\"color: #008000; text-decoration-color: #008000\">'modalidad_de_contratacion'</span>,\n",
       "       <span style=\"color: #008000; text-decoration-color: #008000\">'proveedores_invitados'</span>, <span style=\"color: #008000; text-decoration-color: #008000\">'proveedores_con_invitacion'</span>,\n",
       "       <span style=\"color: #008000; text-decoration-color: #008000\">'respuestas_al_procedimiento'</span>, <span style=\"color: #008000; text-decoration-color: #008000\">'respuestas_externas'</span>,\n",
       "       <span style=\"color: #008000; text-decoration-color: #008000\">'conteo_de_respuestas_a_ofertas'</span>, <span style=\"color: #008000; text-decoration-color: #008000\">'proveedores_unicos_con'</span>,\n",
       "       <span style=\"color: #008000; text-decoration-color: #008000\">'departamento_proveedor'</span>, <span style=\"color: #008000; text-decoration-color: #008000\">'ciudad_proveedor'</span>,\n",
       "       <span style=\"color: #008000; text-decoration-color: #008000\">'valor_total_adjudicacion'</span>, <span style=\"color: #008000; text-decoration-color: #008000\">'nombre_del_adjudicador'</span>,\n",
       "       <span style=\"color: #008000; text-decoration-color: #008000\">'nombre_del_proveedor'</span>, <span style=\"color: #008000; text-decoration-color: #008000\">'nit_del_proveedor_adjudicado'</span>,\n",
       "       <span style=\"color: #008000; text-decoration-color: #008000\">'fecha_de_publicacion_del'</span>, <span style=\"color: #008000; text-decoration-color: #008000\">'fecha_de_ultima_publicaci'</span>,\n",
       "       <span style=\"color: #008000; text-decoration-color: #008000\">'fecha_de_publicacion_fase_3'</span>, <span style=\"color: #008000; text-decoration-color: #008000\">'fecha_de_recepcion_de'</span>,\n",
       "       <span style=\"color: #008000; text-decoration-color: #008000\">'fecha_de_apertura_efectiva'</span>, <span style=\"color: #008000; text-decoration-color: #008000\">'nit_entidad'</span>, <span style=\"color: #008000; text-decoration-color: #008000\">'duracion_dias'</span><span style=\"font-weight: bold\">]</span>,\n",
       "      <span style=\"color: #808000; text-decoration-color: #808000\">dtype</span>=<span style=\"color: #008000; text-decoration-color: #008000\">'object'</span><span style=\"font-weight: bold\">)</span>\n",
       "</pre>\n"
      ],
      "text/plain": [
       "\n",
       "\u001b[1;35mIndex\u001b[0m\u001b[1m(\u001b[0m\u001b[1m[\u001b[0m\u001b[32m'entidad'\u001b[0m, \u001b[32m'departamento_entidad'\u001b[0m, \u001b[32m'ciudad_entidad'\u001b[0m, \u001b[32m'ordenentidad'\u001b[0m,\n",
       "       \u001b[32m'id_del_proceso'\u001b[0m, \u001b[32m'referencia_del_proceso'\u001b[0m, \u001b[32m'nombre_del_procedimiento'\u001b[0m,\n",
       "       \u001b[32m'descripci_n_del_procedimiento'\u001b[0m, \u001b[32m'fase'\u001b[0m, \u001b[32m'modalidad_de_contratacion'\u001b[0m,\n",
       "       \u001b[32m'proveedores_invitados'\u001b[0m, \u001b[32m'proveedores_con_invitacion'\u001b[0m,\n",
       "       \u001b[32m'respuestas_al_procedimiento'\u001b[0m, \u001b[32m'respuestas_externas'\u001b[0m,\n",
       "       \u001b[32m'conteo_de_respuestas_a_ofertas'\u001b[0m, \u001b[32m'proveedores_unicos_con'\u001b[0m,\n",
       "       \u001b[32m'departamento_proveedor'\u001b[0m, \u001b[32m'ciudad_proveedor'\u001b[0m,\n",
       "       \u001b[32m'valor_total_adjudicacion'\u001b[0m, \u001b[32m'nombre_del_adjudicador'\u001b[0m,\n",
       "       \u001b[32m'nombre_del_proveedor'\u001b[0m, \u001b[32m'nit_del_proveedor_adjudicado'\u001b[0m,\n",
       "       \u001b[32m'fecha_de_publicacion_del'\u001b[0m, \u001b[32m'fecha_de_ultima_publicaci'\u001b[0m,\n",
       "       \u001b[32m'fecha_de_publicacion_fase_3'\u001b[0m, \u001b[32m'fecha_de_recepcion_de'\u001b[0m,\n",
       "       \u001b[32m'fecha_de_apertura_efectiva'\u001b[0m, \u001b[32m'nit_entidad'\u001b[0m, \u001b[32m'duracion_dias'\u001b[0m\u001b[1m]\u001b[0m,\n",
       "      \u001b[33mdtype\u001b[0m=\u001b[32m'object'\u001b[0m\u001b[1m)\u001b[0m\n"
      ]
     },
     "metadata": {},
     "output_type": "display_data"
    },
    {
     "data": {
      "text/html": [
       "<pre style=\"white-space:pre;overflow-x:auto;line-height:normal;font-family:Menlo,'DejaVu Sans Mono',consolas,'Courier New',monospace\"><span style=\"font-weight: bold\">&lt;</span><span style=\"color: #ff00ff; text-decoration-color: #ff00ff; font-weight: bold\">IPython.core.display.Javascript</span><span style=\"color: #000000; text-decoration-color: #000000\"> object</span><span style=\"font-weight: bold\">&gt;</span>\n",
       "</pre>\n"
      ],
      "text/plain": [
       "\u001b[1m<\u001b[0m\u001b[1;95mIPython.core.display.Javascript\u001b[0m\u001b[39m object\u001b[0m\u001b[1m>\u001b[0m\n"
      ]
     },
     "metadata": {},
     "output_type": "display_data"
    },
    {
     "data": {
      "application/javascript": [
       "\n",
       "            setTimeout(function() {\n",
       "                var nbb_cell_id = 36;\n",
       "                var nbb_unformatted_code = \"secop_2.columns\";\n",
       "                var nbb_formatted_code = \"secop_2.columns\";\n",
       "                var nbb_cells = Jupyter.notebook.get_cells();\n",
       "                for (var i = 0; i < nbb_cells.length; ++i) {\n",
       "                    if (nbb_cells[i].input_prompt_number == nbb_cell_id) {\n",
       "                        if (nbb_cells[i].get_text() == nbb_unformatted_code) {\n",
       "                             nbb_cells[i].set_text(nbb_formatted_code);\n",
       "                        }\n",
       "                        break;\n",
       "                    }\n",
       "                }\n",
       "            }, 500);\n",
       "            "
      ]
     },
     "metadata": {},
     "output_type": "display_data"
    }
   ],
   "source": [
    "secop_2.columns"
   ]
  },
  {
   "cell_type": "code",
   "execution_count": 26,
   "id": "033591d9",
   "metadata": {},
   "outputs": [
    {
     "data": {
      "text/html": [
       "<div>\n",
       "<style scoped>\n",
       "    .dataframe tbody tr th:only-of-type {\n",
       "        vertical-align: middle;\n",
       "    }\n",
       "\n",
       "    .dataframe tbody tr th {\n",
       "        vertical-align: top;\n",
       "    }\n",
       "\n",
       "    .dataframe thead th {\n",
       "        text-align: right;\n",
       "    }\n",
       "</style>\n",
       "<table border=\"1\" class=\"dataframe\">\n",
       "  <thead>\n",
       "    <tr style=\"text-align: right;\">\n",
       "      <th></th>\n",
       "      <th>precio_base</th>\n",
       "      <th>valor_total_adjudicacion</th>\n",
       "      <th>nombre_del_procedimiento</th>\n",
       "      <th>modalidad_de_contratacion</th>\n",
       "    </tr>\n",
       "  </thead>\n",
       "  <tbody>\n",
       "    <tr>\n",
       "      <th>20</th>\n",
       "      <td>0</td>\n",
       "      <td>0</td>\n",
       "      <td>PROFESIONAL TÉCNICO DEL AMBITO DIVERSIDAD</td>\n",
       "      <td>contratacion directa</td>\n",
       "    </tr>\n",
       "    <tr>\n",
       "      <th>44</th>\n",
       "      <td>0</td>\n",
       "      <td>0</td>\n",
       "      <td>Desarrollo de los procesos y acciones necesari...</td>\n",
       "      <td>contratacion directa</td>\n",
       "    </tr>\n",
       "    <tr>\n",
       "      <th>62</th>\n",
       "      <td>0</td>\n",
       "      <td>0</td>\n",
       "      <td>ASOCIACIÓN JUVENIL DE ARTE SOCIAL VIDEOS Y ROLLOS</td>\n",
       "      <td>regimen especial</td>\n",
       "    </tr>\n",
       "    <tr>\n",
       "      <th>108</th>\n",
       "      <td>0</td>\n",
       "      <td>0</td>\n",
       "      <td>CONVENIO INTERADMINISTRATIVO</td>\n",
       "      <td>contratacion directa</td>\n",
       "    </tr>\n",
       "    <tr>\n",
       "      <th>126</th>\n",
       "      <td>0</td>\n",
       "      <td>0</td>\n",
       "      <td>APOYO PROCESAMIENTO Y ORGANIZACIÓN DE INFORMACIÓN</td>\n",
       "      <td>contratacion directa</td>\n",
       "    </tr>\n",
       "    <tr>\n",
       "      <th>...</th>\n",
       "      <td>...</td>\n",
       "      <td>...</td>\n",
       "      <td>...</td>\n",
       "      <td>...</td>\n",
       "    </tr>\n",
       "    <tr>\n",
       "      <th>1861107</th>\n",
       "      <td>0</td>\n",
       "      <td>0</td>\n",
       "      <td>PRESTACIÓN DE SERVICIO COMO MEDICO GENERAL</td>\n",
       "      <td>contratacion directa</td>\n",
       "    </tr>\n",
       "    <tr>\n",
       "      <th>1861108</th>\n",
       "      <td>0</td>\n",
       "      <td>0</td>\n",
       "      <td>Contratación Directa  SERVICIOS TÉCNICOS DE AU...</td>\n",
       "      <td>contratacion directa</td>\n",
       "    </tr>\n",
       "    <tr>\n",
       "      <th>1861141</th>\n",
       "      <td>0</td>\n",
       "      <td>0</td>\n",
       "      <td>CD 016 MDNCGFMJEDHUDISANCEMEDSAF2018  PSIQUIATRA</td>\n",
       "      <td>contratacion directa</td>\n",
       "    </tr>\n",
       "    <tr>\n",
       "      <th>1861171</th>\n",
       "      <td>0</td>\n",
       "      <td>0</td>\n",
       "      <td>Contratación Directa  SERVICIOS DE UN ORTOPEDI...</td>\n",
       "      <td>contratacion directa</td>\n",
       "    </tr>\n",
       "    <tr>\n",
       "      <th>1861181</th>\n",
       "      <td>0</td>\n",
       "      <td>0</td>\n",
       "      <td>2  PRESTACIÓN DE SERVICIO COMO MEDICO INTERNIS...</td>\n",
       "      <td>contratacion directa</td>\n",
       "    </tr>\n",
       "  </tbody>\n",
       "</table>\n",
       "<p>47383 rows × 4 columns</p>\n",
       "</div>"
      ]
     },
     "execution_count": 26,
     "metadata": {},
     "output_type": "execute_result"
    },
    {
     "data": {
      "text/html": [
       "<pre style=\"white-space:pre;overflow-x:auto;line-height:normal;font-family:Menlo,'DejaVu Sans Mono',consolas,'Courier New',monospace\"><span style=\"font-weight: bold\">&lt;</span><span style=\"color: #ff00ff; text-decoration-color: #ff00ff; font-weight: bold\">IPython.core.display.Javascript</span><span style=\"color: #000000; text-decoration-color: #000000\"> object</span><span style=\"font-weight: bold\">&gt;</span>\n",
       "</pre>\n"
      ],
      "text/plain": [
       "\u001b[1m<\u001b[0m\u001b[1;95mIPython.core.display.Javascript\u001b[0m\u001b[39m object\u001b[0m\u001b[1m>\u001b[0m\n"
      ]
     },
     "metadata": {},
     "output_type": "display_data"
    },
    {
     "data": {
      "application/javascript": [
       "\n",
       "            setTimeout(function() {\n",
       "                var nbb_cell_id = 26;\n",
       "                var nbb_unformatted_code = \"secop_2[secop_2[\\\"valor_total_adjudicacion\\\"] == 0][\\n    [\\\"precio_base\\\", \\\"valor_total_adjudicacion\\\", \\\"nombre_del_procedimiento\\\",'modalidad_de_contratacion']\\n]\";\n",
       "                var nbb_formatted_code = \"secop_2[secop_2[\\\"valor_total_adjudicacion\\\"] == 0][\\n    [\\n        \\\"precio_base\\\",\\n        \\\"valor_total_adjudicacion\\\",\\n        \\\"nombre_del_procedimiento\\\",\\n        \\\"modalidad_de_contratacion\\\",\\n    ]\\n]\";\n",
       "                var nbb_cells = Jupyter.notebook.get_cells();\n",
       "                for (var i = 0; i < nbb_cells.length; ++i) {\n",
       "                    if (nbb_cells[i].input_prompt_number == nbb_cell_id) {\n",
       "                        if (nbb_cells[i].get_text() == nbb_unformatted_code) {\n",
       "                             nbb_cells[i].set_text(nbb_formatted_code);\n",
       "                        }\n",
       "                        break;\n",
       "                    }\n",
       "                }\n",
       "            }, 500);\n",
       "            "
      ]
     },
     "metadata": {},
     "output_type": "display_data"
    }
   ],
   "source": [
    "secop_2[secop_2[\"valor_total_adjudicacion\"] == 0][\n",
    "    [\n",
    "        \"precio_base\",\n",
    "        \"valor_total_adjudicacion\",\n",
    "        \"nombre_del_procedimiento\",\n",
    "        \"modalidad_de_contratacion\",\n",
    "    ]\n",
    "]"
   ]
  },
  {
   "cell_type": "code",
   "execution_count": 13,
   "id": "751ca724",
   "metadata": {},
   "outputs": [
    {
     "data": {
      "text/html": [
       "<pre style=\"white-space:pre;overflow-x:auto;line-height:normal;font-family:Menlo,'DejaVu Sans Mono',consolas,'Courier New',monospace\">\n",
       "presentacion de oferta                             <span style=\"color: #008080; text-decoration-color: #008080; font-weight: bold\">9.476121e-01</span>\n",
       "presentacion de observaciones                      <span style=\"color: #008080; text-decoration-color: #008080; font-weight: bold\">2.845950e-02</span>\n",
       "manifestacion de interes <span style=\"font-weight: bold\">(</span>menor cuantia<span style=\"font-weight: bold\">)</span>           <span style=\"color: #008080; text-decoration-color: #008080; font-weight: bold\">1.246487e-02</span>\n",
       "fase de ofertas                                    <span style=\"color: #008080; text-decoration-color: #008080; font-weight: bold\">8.413576e-03</span>\n",
       "fase de seleccion <span style=\"font-weight: bold\">(</span>presentacion de ofertas<span style=\"font-weight: bold\">)</span>        <span style=\"color: #008080; text-decoration-color: #008080; font-weight: bold\">2.058319e-03</span>\n",
       "no definido                                        <span style=\"color: #008080; text-decoration-color: #008080; font-weight: bold\">5.905113e-04</span>\n",
       "clarification submission                           <span style=\"color: #008080; text-decoration-color: #008080; font-weight: bold\">2.262820e-04</span>\n",
       "pre-calificacion de competidores                   <span style=\"color: #008080; text-decoration-color: #008080; font-weight: bold\">1.264517e-04</span>\n",
       "proceso de ofertas                                 <span style=\"color: #008080; text-decoration-color: #008080; font-weight: bold\">3.690696e-05</span>\n",
       "seleccion de ofertas <span style=\"font-weight: bold\">(</span>borrador<span style=\"font-weight: bold\">)</span>                    <span style=\"color: #008080; text-decoration-color: #008080; font-weight: bold\">1.028554e-05</span>\n",
       "presentacion de oferta <span style=\"font-weight: bold\">(</span>precalificacion<span style=\"font-weight: bold\">)</span>           <span style=\"color: #008080; text-decoration-color: #008080; font-weight: bold\">6.050321e-07</span>\n",
       "presentacion de observaciones <span style=\"font-weight: bold\">(</span>precalificacion<span style=\"font-weight: bold\">)</span>    <span style=\"color: #008080; text-decoration-color: #008080; font-weight: bold\">6.050321e-07</span>\n",
       "Name: fase, dtype: float64\n",
       "</pre>\n"
      ],
      "text/plain": [
       "\n",
       "presentacion de oferta                             \u001b[1;36m9.476121e-01\u001b[0m\n",
       "presentacion de observaciones                      \u001b[1;36m2.845950e-02\u001b[0m\n",
       "manifestacion de interes \u001b[1m(\u001b[0mmenor cuantia\u001b[1m)\u001b[0m           \u001b[1;36m1.246487e-02\u001b[0m\n",
       "fase de ofertas                                    \u001b[1;36m8.413576e-03\u001b[0m\n",
       "fase de seleccion \u001b[1m(\u001b[0mpresentacion de ofertas\u001b[1m)\u001b[0m        \u001b[1;36m2.058319e-03\u001b[0m\n",
       "no definido                                        \u001b[1;36m5.905113e-04\u001b[0m\n",
       "clarification submission                           \u001b[1;36m2.262820e-04\u001b[0m\n",
       "pre-calificacion de competidores                   \u001b[1;36m1.264517e-04\u001b[0m\n",
       "proceso de ofertas                                 \u001b[1;36m3.690696e-05\u001b[0m\n",
       "seleccion de ofertas \u001b[1m(\u001b[0mborrador\u001b[1m)\u001b[0m                    \u001b[1;36m1.028554e-05\u001b[0m\n",
       "presentacion de oferta \u001b[1m(\u001b[0mprecalificacion\u001b[1m)\u001b[0m           \u001b[1;36m6.050321e-07\u001b[0m\n",
       "presentacion de observaciones \u001b[1m(\u001b[0mprecalificacion\u001b[1m)\u001b[0m    \u001b[1;36m6.050321e-07\u001b[0m\n",
       "Name: fase, dtype: float64\n"
      ]
     },
     "metadata": {},
     "output_type": "display_data"
    },
    {
     "data": {
      "text/html": [
       "<pre style=\"white-space:pre;overflow-x:auto;line-height:normal;font-family:Menlo,'DejaVu Sans Mono',consolas,'Courier New',monospace\"><span style=\"font-weight: bold\">&lt;</span><span style=\"color: #ff00ff; text-decoration-color: #ff00ff; font-weight: bold\">IPython.core.display.Javascript</span><span style=\"color: #000000; text-decoration-color: #000000\"> object</span><span style=\"font-weight: bold\">&gt;</span>\n",
       "</pre>\n"
      ],
      "text/plain": [
       "\u001b[1m<\u001b[0m\u001b[1;95mIPython.core.display.Javascript\u001b[0m\u001b[39m object\u001b[0m\u001b[1m>\u001b[0m\n"
      ]
     },
     "metadata": {},
     "output_type": "display_data"
    },
    {
     "data": {
      "application/javascript": [
       "\n",
       "            setTimeout(function() {\n",
       "                var nbb_cell_id = 13;\n",
       "                var nbb_unformatted_code = \"secop_2[\\\"fase\\\"].value_counts()/len(secop_2)\";\n",
       "                var nbb_formatted_code = \"secop_2[\\\"fase\\\"].value_counts() / len(secop_2)\";\n",
       "                var nbb_cells = Jupyter.notebook.get_cells();\n",
       "                for (var i = 0; i < nbb_cells.length; ++i) {\n",
       "                    if (nbb_cells[i].input_prompt_number == nbb_cell_id) {\n",
       "                        if (nbb_cells[i].get_text() == nbb_unformatted_code) {\n",
       "                             nbb_cells[i].set_text(nbb_formatted_code);\n",
       "                        }\n",
       "                        break;\n",
       "                    }\n",
       "                }\n",
       "            }, 500);\n",
       "            "
      ]
     },
     "metadata": {},
     "output_type": "display_data"
    }
   ],
   "source": [
    "secop_2[\"fase\"].value_counts() / len(secop_2)"
   ]
  },
  {
   "cell_type": "code",
   "execution_count": null,
   "id": "47e4576b",
   "metadata": {},
   "outputs": [],
   "source": []
  },
  {
   "cell_type": "code",
   "execution_count": 16,
   "id": "38b5cff8",
   "metadata": {},
   "outputs": [
    {
     "data": {
      "text/html": [
       "<pre style=\"white-space:pre;overflow-x:auto;line-height:normal;font-family:Menlo,'DejaVu Sans Mono',consolas,'Courier New',monospace\">\n",
       "no adjudicado                                            <span style=\"color: #008080; text-decoration-color: #008080; font-weight: bold\">85.923627</span>\n",
       "la previsora sa compañia de seguros                       <span style=\"color: #008080; text-decoration-color: #008080; font-weight: bold\">0.062802</span>\n",
       "aseguradora solidaria de colombia entidad cooperativa     <span style=\"color: #008080; text-decoration-color: #008080; font-weight: bold\">0.043925</span>\n",
       "servicios postales nacionales sas                         <span style=\"color: #008080; text-decoration-color: #008080; font-weight: bold\">0.034910</span>\n",
       "gestion de seguridad electronica sa                       <span style=\"color: #008080; text-decoration-color: #008080; font-weight: bold\">0.028497</span>\n",
       "                                                           <span style=\"color: #808000; text-decoration-color: #808000\">...</span>    \n",
       "consorcio retsading                                       <span style=\"color: #008080; text-decoration-color: #008080; font-weight: bold\">0.000061</span>\n",
       "union temporal bolsas de moral <span style=\"color: #008080; text-decoration-color: #008080; font-weight: bold\">2021</span>                       <span style=\"color: #008080; text-decoration-color: #008080; font-weight: bold\">0.000061</span>\n",
       "union temporal pastor <span style=\"color: #008080; text-decoration-color: #008080; font-weight: bold\">2019</span>                                <span style=\"color: #008080; text-decoration-color: #008080; font-weight: bold\">0.000061</span>\n",
       "union temporal ute <span style=\"color: #008080; text-decoration-color: #008080; font-weight: bold\">5</span> de <span style=\"color: #008080; text-decoration-color: #008080; font-weight: bold\">2019</span>                              <span style=\"color: #008080; text-decoration-color: #008080; font-weight: bold\">0.000061</span>\n",
       "interventorias integrales sas                             <span style=\"color: #008080; text-decoration-color: #008080; font-weight: bold\">0.000061</span>\n",
       "Name: nombre_del_proveedor, Length: <span style=\"color: #008080; text-decoration-color: #008080; font-weight: bold\">57908</span>, dtype: float64\n",
       "</pre>\n"
      ],
      "text/plain": [
       "\n",
       "no adjudicado                                            \u001b[1;36m85.923627\u001b[0m\n",
       "la previsora sa compañia de seguros                       \u001b[1;36m0.062802\u001b[0m\n",
       "aseguradora solidaria de colombia entidad cooperativa     \u001b[1;36m0.043925\u001b[0m\n",
       "servicios postales nacionales sas                         \u001b[1;36m0.034910\u001b[0m\n",
       "gestion de seguridad electronica sa                       \u001b[1;36m0.028497\u001b[0m\n",
       "                                                           \u001b[33m...\u001b[0m    \n",
       "consorcio retsading                                       \u001b[1;36m0.000061\u001b[0m\n",
       "union temporal bolsas de moral \u001b[1;36m2021\u001b[0m                       \u001b[1;36m0.000061\u001b[0m\n",
       "union temporal pastor \u001b[1;36m2019\u001b[0m                                \u001b[1;36m0.000061\u001b[0m\n",
       "union temporal ute \u001b[1;36m5\u001b[0m de \u001b[1;36m2019\u001b[0m                              \u001b[1;36m0.000061\u001b[0m\n",
       "interventorias integrales sas                             \u001b[1;36m0.000061\u001b[0m\n",
       "Name: nombre_del_proveedor, Length: \u001b[1;36m57908\u001b[0m, dtype: float64\n"
      ]
     },
     "metadata": {},
     "output_type": "display_data"
    },
    {
     "data": {
      "text/html": [
       "<pre style=\"white-space:pre;overflow-x:auto;line-height:normal;font-family:Menlo,'DejaVu Sans Mono',consolas,'Courier New',monospace\"><span style=\"font-weight: bold\">&lt;</span><span style=\"color: #ff00ff; text-decoration-color: #ff00ff; font-weight: bold\">IPython.core.display.Javascript</span><span style=\"color: #000000; text-decoration-color: #000000\"> object</span><span style=\"font-weight: bold\">&gt;</span>\n",
       "</pre>\n"
      ],
      "text/plain": [
       "\u001b[1m<\u001b[0m\u001b[1;95mIPython.core.display.Javascript\u001b[0m\u001b[39m object\u001b[0m\u001b[1m>\u001b[0m\n"
      ]
     },
     "metadata": {},
     "output_type": "display_data"
    },
    {
     "data": {
      "application/javascript": [
       "\n",
       "            setTimeout(function() {\n",
       "                var nbb_cell_id = 16;\n",
       "                var nbb_unformatted_code = \"secop_2[\\\"nombre_del_proveedor\\\"].value_counts()/ len(secop_2)*100\";\n",
       "                var nbb_formatted_code = \"secop_2[\\\"nombre_del_proveedor\\\"].value_counts() / len(secop_2) * 100\";\n",
       "                var nbb_cells = Jupyter.notebook.get_cells();\n",
       "                for (var i = 0; i < nbb_cells.length; ++i) {\n",
       "                    if (nbb_cells[i].input_prompt_number == nbb_cell_id) {\n",
       "                        if (nbb_cells[i].get_text() == nbb_unformatted_code) {\n",
       "                             nbb_cells[i].set_text(nbb_formatted_code);\n",
       "                        }\n",
       "                        break;\n",
       "                    }\n",
       "                }\n",
       "            }, 500);\n",
       "            "
      ]
     },
     "metadata": {},
     "output_type": "display_data"
    }
   ],
   "source": [
    "secop_2[\"nombre_del_proveedor\"].value_counts() / len(secop_2) * 100"
   ]
  },
  {
   "cell_type": "code",
   "execution_count": null,
   "id": "ad2bc58c",
   "metadata": {},
   "outputs": [],
   "source": []
  },
  {
   "cell_type": "code",
   "execution_count": null,
   "id": "105452c0",
   "metadata": {},
   "outputs": [],
   "source": []
  },
  {
   "cell_type": "code",
   "execution_count": null,
   "id": "6655a23c",
   "metadata": {},
   "outputs": [],
   "source": []
  },
  {
   "cell_type": "code",
   "execution_count": 10,
   "id": "ee376b7d",
   "metadata": {},
   "outputs": [
    {
     "data": {
      "text/html": [
       "<pre style=\"white-space:pre;overflow-x:auto;line-height:normal;font-family:Menlo,'DejaVu Sans Mono',consolas,'Courier New',monospace\">\n",
       "Adjudicado     <span style=\"color: #008080; text-decoration-color: #008080; font-weight: bold\">1658676</span>\n",
       "No Definido     <span style=\"color: #008080; text-decoration-color: #008080; font-weight: bold\">202697</span>\n",
       "Name: estado_del_procedimiento, dtype: int64\n",
       "</pre>\n"
      ],
      "text/plain": [
       "\n",
       "Adjudicado     \u001b[1;36m1658676\u001b[0m\n",
       "No Definido     \u001b[1;36m202697\u001b[0m\n",
       "Name: estado_del_procedimiento, dtype: int64\n"
      ]
     },
     "metadata": {},
     "output_type": "display_data"
    },
    {
     "data": {
      "text/html": [
       "<pre style=\"white-space:pre;overflow-x:auto;line-height:normal;font-family:Menlo,'DejaVu Sans Mono',consolas,'Courier New',monospace\"><span style=\"font-weight: bold\">&lt;</span><span style=\"color: #ff00ff; text-decoration-color: #ff00ff; font-weight: bold\">IPython.core.display.Javascript</span><span style=\"color: #000000; text-decoration-color: #000000\"> object</span><span style=\"font-weight: bold\">&gt;</span>\n",
       "</pre>\n"
      ],
      "text/plain": [
       "\u001b[1m<\u001b[0m\u001b[1;95mIPython.core.display.Javascript\u001b[0m\u001b[39m object\u001b[0m\u001b[1m>\u001b[0m\n"
      ]
     },
     "metadata": {},
     "output_type": "display_data"
    },
    {
     "data": {
      "application/javascript": [
       "\n",
       "            setTimeout(function() {\n",
       "                var nbb_cell_id = 10;\n",
       "                var nbb_unformatted_code = \"secop_2[\\\"estado_del_procedimiento\\\"].value_counts()\";\n",
       "                var nbb_formatted_code = \"secop_2[\\\"estado_del_procedimiento\\\"].value_counts()\";\n",
       "                var nbb_cells = Jupyter.notebook.get_cells();\n",
       "                for (var i = 0; i < nbb_cells.length; ++i) {\n",
       "                    if (nbb_cells[i].input_prompt_number == nbb_cell_id) {\n",
       "                        if (nbb_cells[i].get_text() == nbb_unformatted_code) {\n",
       "                             nbb_cells[i].set_text(nbb_formatted_code);\n",
       "                        }\n",
       "                        break;\n",
       "                    }\n",
       "                }\n",
       "            }, 500);\n",
       "            "
      ]
     },
     "metadata": {},
     "output_type": "display_data"
    }
   ],
   "source": [
    "secop_2[\"estado_del_procedimiento\"].value_counts()"
   ]
  },
  {
   "cell_type": "code",
   "execution_count": 26,
   "id": "09abf1df",
   "metadata": {},
   "outputs": [
    {
     "data": {
      "text/html": [
       "<pre style=\"white-space:pre;overflow-x:auto;line-height:normal;font-family:Menlo,'DejaVu Sans Mono',consolas,'Courier New',monospace\">\n",
       "No Adjudicado                                               <span style=\"color: #008080; text-decoration-color: #008080; font-weight: bold\">1628346</span>\n",
       "LA PREVISORA SA COMPAÑÍA DE SEGUROS                            <span style=\"color: #008080; text-decoration-color: #008080; font-weight: bold\">1042</span>\n",
       "Aseguradora Solidaria de Colombia Entidad Cooperativa           <span style=\"color: #008080; text-decoration-color: #008080; font-weight: bold\">726</span>\n",
       "SERVICIOS POSTALES NACIONALES SAS                               <span style=\"color: #008080; text-decoration-color: #008080; font-weight: bold\">578</span>\n",
       "Gestión de Seguridad Electrónica SA                             <span style=\"color: #008080; text-decoration-color: #008080; font-weight: bold\">471</span>\n",
       "CONTROL SERVICES ENGINEERING SAS                                <span style=\"color: #008080; text-decoration-color: #008080; font-weight: bold\">462</span>\n",
       "CENTRAL DE SUMINISTROS LTDA                                     <span style=\"color: #008080; text-decoration-color: #008080; font-weight: bold\">462</span>\n",
       "COMERCIALIZADORA Y DISTRIBUIDORA TORRES SAS                     <span style=\"color: #008080; text-decoration-color: #008080; font-weight: bold\">425</span>\n",
       "UNIVERSIDAD NACIONAL DE COLOMBIA                                <span style=\"color: #008080; text-decoration-color: #008080; font-weight: bold\">359</span>\n",
       "SOCIEDAD CAMERAL DE CERTIFICACIÓN DIGITAL                       <span style=\"color: #008080; text-decoration-color: #008080; font-weight: bold\">324</span>\n",
       "CRR SOLUCIONES INTEGRALES SAS                                   <span style=\"color: #008080; text-decoration-color: #008080; font-weight: bold\">315</span>\n",
       "UNIVERSIDAD DE ANTIOQUIA                                        <span style=\"color: #008080; text-decoration-color: #008080; font-weight: bold\">307</span>\n",
       "SUPRISA SAS                                                     <span style=\"color: #008080; text-decoration-color: #008080; font-weight: bold\">306</span>\n",
       "ZAMORA JIMENEZ LEONARDO                                         <span style=\"color: #008080; text-decoration-color: #008080; font-weight: bold\">304</span>\n",
       "AXA COLPATRIA SEGUROS SA                                        <span style=\"color: #008080; text-decoration-color: #008080; font-weight: bold\">301</span>\n",
       "IMPRENTA NACIONAL DE COLOMBIA                                   <span style=\"color: #008080; text-decoration-color: #008080; font-weight: bold\">288</span>\n",
       "COMPAÑIA DE ALIMENTOS SHALOM SAS                                <span style=\"color: #008080; text-decoration-color: #008080; font-weight: bold\">275</span>\n",
       "DISTRACOM SA                                                    <span style=\"color: #008080; text-decoration-color: #008080; font-weight: bold\">265</span>\n",
       "PROVEER INSTITUCIONAL SAS                                       <span style=\"color: #008080; text-decoration-color: #008080; font-weight: bold\">262</span>\n",
       "ENRUTA TRADE SAS                                                <span style=\"color: #008080; text-decoration-color: #008080; font-weight: bold\">256</span>\n",
       "GRUPO LOS LAGOS SAS                                             <span style=\"color: #008080; text-decoration-color: #008080; font-weight: bold\">246</span>\n",
       "LA RECETTA SOLUCIONES GASTRONOMICAS INTEGRADAS SAS              <span style=\"color: #008080; text-decoration-color: #008080; font-weight: bold\">235</span>\n",
       "PAPELERIA EL CID SAS                                            <span style=\"color: #008080; text-decoration-color: #008080; font-weight: bold\">233</span>\n",
       "DOTA HOGAR COLCHONES                                            <span style=\"color: #008080; text-decoration-color: #008080; font-weight: bold\">233</span>\n",
       "JB IMPORTADORA Y COMERCIALIZADORA SAS                           <span style=\"color: #008080; text-decoration-color: #008080; font-weight: bold\">228</span>\n",
       "SOLUTION COPY LTDA                                              <span style=\"color: #008080; text-decoration-color: #008080; font-weight: bold\">217</span>\n",
       "GPS ELECTRONICS LTDA                                            <span style=\"color: #008080; text-decoration-color: #008080; font-weight: bold\">213</span>\n",
       "LA CASA DE SUMINISTRO Y SERVICIOS SAS                           <span style=\"color: #008080; text-decoration-color: #008080; font-weight: bold\">210</span>\n",
       "Deicy Bravo Jojoa                                               <span style=\"color: #008080; text-decoration-color: #008080; font-weight: bold\">208</span>\n",
       "INSTITUTO COLOMBIANO DE NORMAS TÉCNICAS Y CERTIFICACIÓN         <span style=\"color: #008080; text-decoration-color: #008080; font-weight: bold\">204</span>\n",
       "Empresa de Telecomunicaciones de Bogota ETB SA ESP              <span style=\"color: #008080; text-decoration-color: #008080; font-weight: bold\">203</span>\n",
       "GESCOM SAS                                                      <span style=\"color: #008080; text-decoration-color: #008080; font-weight: bold\">197</span>\n",
       "UNIPLES SA                                                      <span style=\"color: #008080; text-decoration-color: #008080; font-weight: bold\">195</span>\n",
       "SUMINISTROS MAYBE SAS                                           <span style=\"color: #008080; text-decoration-color: #008080; font-weight: bold\">195</span>\n",
       "SODEXO SERVICIOS DE BENEFICIOS E INCENTIVOS COLOMBIA SAS        <span style=\"color: #008080; text-decoration-color: #008080; font-weight: bold\">190</span>\n",
       "COMERCIALIZADORA ELECTROMERO SAS                                <span style=\"color: #008080; text-decoration-color: #008080; font-weight: bold\">190</span>\n",
       "Intercomercial Medica                                           <span style=\"color: #008080; text-decoration-color: #008080; font-weight: bold\">189</span>\n",
       "GRUPO EMPRESARIAL SUGA SAS                                      <span style=\"color: #008080; text-decoration-color: #008080; font-weight: bold\">188</span>\n",
       "MARIA ARACELI LEIVA PERILLA                                     <span style=\"color: #008080; text-decoration-color: #008080; font-weight: bold\">182</span>\n",
       "VEYALTHI GROUP SAS                                              <span style=\"color: #008080; text-decoration-color: #008080; font-weight: bold\">182</span>\n",
       "Name: nombre_del_proveedor, dtype: int64\n",
       "</pre>\n"
      ],
      "text/plain": [
       "\n",
       "No Adjudicado                                               \u001b[1;36m1628346\u001b[0m\n",
       "LA PREVISORA SA COMPAÑÍA DE SEGUROS                            \u001b[1;36m1042\u001b[0m\n",
       "Aseguradora Solidaria de Colombia Entidad Cooperativa           \u001b[1;36m726\u001b[0m\n",
       "SERVICIOS POSTALES NACIONALES SAS                               \u001b[1;36m578\u001b[0m\n",
       "Gestión de Seguridad Electrónica SA                             \u001b[1;36m471\u001b[0m\n",
       "CONTROL SERVICES ENGINEERING SAS                                \u001b[1;36m462\u001b[0m\n",
       "CENTRAL DE SUMINISTROS LTDA                                     \u001b[1;36m462\u001b[0m\n",
       "COMERCIALIZADORA Y DISTRIBUIDORA TORRES SAS                     \u001b[1;36m425\u001b[0m\n",
       "UNIVERSIDAD NACIONAL DE COLOMBIA                                \u001b[1;36m359\u001b[0m\n",
       "SOCIEDAD CAMERAL DE CERTIFICACIÓN DIGITAL                       \u001b[1;36m324\u001b[0m\n",
       "CRR SOLUCIONES INTEGRALES SAS                                   \u001b[1;36m315\u001b[0m\n",
       "UNIVERSIDAD DE ANTIOQUIA                                        \u001b[1;36m307\u001b[0m\n",
       "SUPRISA SAS                                                     \u001b[1;36m306\u001b[0m\n",
       "ZAMORA JIMENEZ LEONARDO                                         \u001b[1;36m304\u001b[0m\n",
       "AXA COLPATRIA SEGUROS SA                                        \u001b[1;36m301\u001b[0m\n",
       "IMPRENTA NACIONAL DE COLOMBIA                                   \u001b[1;36m288\u001b[0m\n",
       "COMPAÑIA DE ALIMENTOS SHALOM SAS                                \u001b[1;36m275\u001b[0m\n",
       "DISTRACOM SA                                                    \u001b[1;36m265\u001b[0m\n",
       "PROVEER INSTITUCIONAL SAS                                       \u001b[1;36m262\u001b[0m\n",
       "ENRUTA TRADE SAS                                                \u001b[1;36m256\u001b[0m\n",
       "GRUPO LOS LAGOS SAS                                             \u001b[1;36m246\u001b[0m\n",
       "LA RECETTA SOLUCIONES GASTRONOMICAS INTEGRADAS SAS              \u001b[1;36m235\u001b[0m\n",
       "PAPELERIA EL CID SAS                                            \u001b[1;36m233\u001b[0m\n",
       "DOTA HOGAR COLCHONES                                            \u001b[1;36m233\u001b[0m\n",
       "JB IMPORTADORA Y COMERCIALIZADORA SAS                           \u001b[1;36m228\u001b[0m\n",
       "SOLUTION COPY LTDA                                              \u001b[1;36m217\u001b[0m\n",
       "GPS ELECTRONICS LTDA                                            \u001b[1;36m213\u001b[0m\n",
       "LA CASA DE SUMINISTRO Y SERVICIOS SAS                           \u001b[1;36m210\u001b[0m\n",
       "Deicy Bravo Jojoa                                               \u001b[1;36m208\u001b[0m\n",
       "INSTITUTO COLOMBIANO DE NORMAS TÉCNICAS Y CERTIFICACIÓN         \u001b[1;36m204\u001b[0m\n",
       "Empresa de Telecomunicaciones de Bogota ETB SA ESP              \u001b[1;36m203\u001b[0m\n",
       "GESCOM SAS                                                      \u001b[1;36m197\u001b[0m\n",
       "UNIPLES SA                                                      \u001b[1;36m195\u001b[0m\n",
       "SUMINISTROS MAYBE SAS                                           \u001b[1;36m195\u001b[0m\n",
       "SODEXO SERVICIOS DE BENEFICIOS E INCENTIVOS COLOMBIA SAS        \u001b[1;36m190\u001b[0m\n",
       "COMERCIALIZADORA ELECTROMERO SAS                                \u001b[1;36m190\u001b[0m\n",
       "Intercomercial Medica                                           \u001b[1;36m189\u001b[0m\n",
       "GRUPO EMPRESARIAL SUGA SAS                                      \u001b[1;36m188\u001b[0m\n",
       "MARIA ARACELI LEIVA PERILLA                                     \u001b[1;36m182\u001b[0m\n",
       "VEYALTHI GROUP SAS                                              \u001b[1;36m182\u001b[0m\n",
       "Name: nombre_del_proveedor, dtype: int64\n"
      ]
     },
     "metadata": {},
     "output_type": "display_data"
    },
    {
     "data": {
      "text/html": [
       "<pre style=\"white-space:pre;overflow-x:auto;line-height:normal;font-family:Menlo,'DejaVu Sans Mono',consolas,'Courier New',monospace\"><span style=\"font-weight: bold\">&lt;</span><span style=\"color: #ff00ff; text-decoration-color: #ff00ff; font-weight: bold\">IPython.core.display.Javascript</span><span style=\"color: #000000; text-decoration-color: #000000\"> object</span><span style=\"font-weight: bold\">&gt;</span>\n",
       "</pre>\n"
      ],
      "text/plain": [
       "\u001b[1m<\u001b[0m\u001b[1;95mIPython.core.display.Javascript\u001b[0m\u001b[39m object\u001b[0m\u001b[1m>\u001b[0m\n"
      ]
     },
     "metadata": {},
     "output_type": "display_data"
    },
    {
     "data": {
      "application/javascript": [
       "\n",
       "            setTimeout(function() {\n",
       "                var nbb_cell_id = 26;\n",
       "                var nbb_unformatted_code = \"secop_2[\\\"nombre_del_proveedor\\\"].value_counts().head(40)\";\n",
       "                var nbb_formatted_code = \"secop_2[\\\"nombre_del_proveedor\\\"].value_counts().head(40)\";\n",
       "                var nbb_cells = Jupyter.notebook.get_cells();\n",
       "                for (var i = 0; i < nbb_cells.length; ++i) {\n",
       "                    if (nbb_cells[i].input_prompt_number == nbb_cell_id) {\n",
       "                        if (nbb_cells[i].get_text() == nbb_unformatted_code) {\n",
       "                             nbb_cells[i].set_text(nbb_formatted_code);\n",
       "                        }\n",
       "                        break;\n",
       "                    }\n",
       "                }\n",
       "            }, 500);\n",
       "            "
      ]
     },
     "metadata": {},
     "output_type": "display_data"
    }
   ],
   "source": [
    "secop_2[\"nombre_del_proveedor\"].value_counts().head(40)"
   ]
  },
  {
   "cell_type": "code",
   "execution_count": 24,
   "id": "6dee4e4d",
   "metadata": {
    "scrolled": false
   },
   "outputs": [
    {
     "data": {
      "text/html": [
       "<pre style=\"white-space:pre;overflow-x:auto;line-height:normal;font-family:Menlo,'DejaVu Sans Mono',consolas,'Courier New',monospace\"><span style=\"color: #008080; text-decoration-color: #008080; font-weight: bold\">30735417736</span>\n",
       "</pre>\n"
      ],
      "text/plain": [
       "\u001b[1;36m30735417736\u001b[0m\n"
      ]
     },
     "metadata": {},
     "output_type": "display_data"
    },
    {
     "data": {
      "text/html": [
       "<pre style=\"white-space:pre;overflow-x:auto;line-height:normal;font-family:Menlo,'DejaVu Sans Mono',consolas,'Courier New',monospace\"><span style=\"font-weight: bold\">&lt;</span><span style=\"color: #ff00ff; text-decoration-color: #ff00ff; font-weight: bold\">IPython.core.display.Javascript</span><span style=\"color: #000000; text-decoration-color: #000000\"> object</span><span style=\"font-weight: bold\">&gt;</span>\n",
       "</pre>\n"
      ],
      "text/plain": [
       "\u001b[1m<\u001b[0m\u001b[1;95mIPython.core.display.Javascript\u001b[0m\u001b[39m object\u001b[0m\u001b[1m>\u001b[0m\n"
      ]
     },
     "metadata": {},
     "output_type": "display_data"
    },
    {
     "data": {
      "application/javascript": [
       "\n",
       "            setTimeout(function() {\n",
       "                var nbb_cell_id = 24;\n",
       "                var nbb_unformatted_code = \"secop_2[secop_2[\\\"nombre_del_proveedor\\\"] == \\\"OMAR HENRY CORTES VELASQUEZ\\\"][\\n    \\\"valor_total_adjudicacion\\\"\\n].apply(int).sum()\";\n",
       "                var nbb_formatted_code = \"secop_2[secop_2[\\\"nombre_del_proveedor\\\"] == \\\"OMAR HENRY CORTES VELASQUEZ\\\"][\\n    \\\"valor_total_adjudicacion\\\"\\n].apply(int).sum()\";\n",
       "                var nbb_cells = Jupyter.notebook.get_cells();\n",
       "                for (var i = 0; i < nbb_cells.length; ++i) {\n",
       "                    if (nbb_cells[i].input_prompt_number == nbb_cell_id) {\n",
       "                        if (nbb_cells[i].get_text() == nbb_unformatted_code) {\n",
       "                             nbb_cells[i].set_text(nbb_formatted_code);\n",
       "                        }\n",
       "                        break;\n",
       "                    }\n",
       "                }\n",
       "            }, 500);\n",
       "            "
      ]
     },
     "metadata": {},
     "output_type": "display_data"
    }
   ],
   "source": [
    "secop_2[secop_2[\"nombre_del_proveedor\"] == \"OMAR HENRY CORTES VELASQUEZ\"][\n",
    "    \"valor_total_adjudicacion\"\n",
    "].apply(int).sum()"
   ]
  },
  {
   "cell_type": "code",
   "execution_count": 27,
   "id": "0bd84d9e",
   "metadata": {},
   "outputs": [
    {
     "data": {
      "text/html": [
       "<pre style=\"white-space:pre;overflow-x:auto;line-height:normal;font-family:Menlo,'DejaVu Sans Mono',consolas,'Courier New',monospace\"><span style=\"color: #008080; text-decoration-color: #008080; font-weight: bold\">434344300</span>\n",
       "</pre>\n"
      ],
      "text/plain": [
       "\u001b[1;36m434344300\u001b[0m\n"
      ]
     },
     "metadata": {},
     "output_type": "display_data"
    },
    {
     "data": {
      "text/html": [
       "<pre style=\"white-space:pre;overflow-x:auto;line-height:normal;font-family:Menlo,'DejaVu Sans Mono',consolas,'Courier New',monospace\"><span style=\"font-weight: bold\">&lt;</span><span style=\"color: #ff00ff; text-decoration-color: #ff00ff; font-weight: bold\">IPython.core.display.Javascript</span><span style=\"color: #000000; text-decoration-color: #000000\"> object</span><span style=\"font-weight: bold\">&gt;</span>\n",
       "</pre>\n"
      ],
      "text/plain": [
       "\u001b[1m<\u001b[0m\u001b[1;95mIPython.core.display.Javascript\u001b[0m\u001b[39m object\u001b[0m\u001b[1m>\u001b[0m\n"
      ]
     },
     "metadata": {},
     "output_type": "display_data"
    },
    {
     "data": {
      "application/javascript": [
       "\n",
       "            setTimeout(function() {\n",
       "                var nbb_cell_id = 27;\n",
       "                var nbb_unformatted_code = \"secop_2[secop_2[\\\"nombre_del_proveedor\\\"] == \\\"MARIA ARACELI LEIVA PERILLA\\\"][\\n    \\\"valor_total_adjudicacion\\\"\\n].apply(int).sum()\";\n",
       "                var nbb_formatted_code = \"secop_2[secop_2[\\\"nombre_del_proveedor\\\"] == \\\"MARIA ARACELI LEIVA PERILLA\\\"][\\n    \\\"valor_total_adjudicacion\\\"\\n].apply(int).sum()\";\n",
       "                var nbb_cells = Jupyter.notebook.get_cells();\n",
       "                for (var i = 0; i < nbb_cells.length; ++i) {\n",
       "                    if (nbb_cells[i].input_prompt_number == nbb_cell_id) {\n",
       "                        if (nbb_cells[i].get_text() == nbb_unformatted_code) {\n",
       "                             nbb_cells[i].set_text(nbb_formatted_code);\n",
       "                        }\n",
       "                        break;\n",
       "                    }\n",
       "                }\n",
       "            }, 500);\n",
       "            "
      ]
     },
     "metadata": {},
     "output_type": "display_data"
    }
   ],
   "source": [
    "secop_2[secop_2[\"nombre_del_proveedor\"] == \"MARIA ARACELI LEIVA PERILLA\"][\n",
    "    \"valor_total_adjudicacion\"\n",
    "].apply(int).sum()"
   ]
  },
  {
   "cell_type": "code",
   "execution_count": 9,
   "id": "33a5cb66",
   "metadata": {},
   "outputs": [
    {
     "data": {
      "text/html": [
       "<div>\n",
       "<style scoped>\n",
       "    .dataframe tbody tr th:only-of-type {\n",
       "        vertical-align: middle;\n",
       "    }\n",
       "\n",
       "    .dataframe tbody tr th {\n",
       "        vertical-align: top;\n",
       "    }\n",
       "\n",
       "    .dataframe thead th {\n",
       "        text-align: right;\n",
       "    }\n",
       "</style>\n",
       "<table border=\"1\" class=\"dataframe\">\n",
       "  <thead>\n",
       "    <tr style=\"text-align: right;\">\n",
       "      <th></th>\n",
       "      <th>estado_del_procedimiento</th>\n",
       "      <th>nombre_del_proveedor</th>\n",
       "      <th>valor_total_adjudicacion</th>\n",
       "    </tr>\n",
       "  </thead>\n",
       "  <tbody>\n",
       "    <tr>\n",
       "      <th>0</th>\n",
       "      <td>No Definido</td>\n",
       "      <td>No Adjudicado</td>\n",
       "      <td>0</td>\n",
       "    </tr>\n",
       "    <tr>\n",
       "      <th>1</th>\n",
       "      <td>No Definido</td>\n",
       "      <td>No Adjudicado</td>\n",
       "      <td>0</td>\n",
       "    </tr>\n",
       "    <tr>\n",
       "      <th>2</th>\n",
       "      <td>No Definido</td>\n",
       "      <td>No Adjudicado</td>\n",
       "      <td>0</td>\n",
       "    </tr>\n",
       "    <tr>\n",
       "      <th>3</th>\n",
       "      <td>No Definido</td>\n",
       "      <td>No Adjudicado</td>\n",
       "      <td>0</td>\n",
       "    </tr>\n",
       "    <tr>\n",
       "      <th>4</th>\n",
       "      <td>Adjudicado</td>\n",
       "      <td>No Adjudicado</td>\n",
       "      <td>0</td>\n",
       "    </tr>\n",
       "    <tr>\n",
       "      <th>...</th>\n",
       "      <td>...</td>\n",
       "      <td>...</td>\n",
       "      <td>...</td>\n",
       "    </tr>\n",
       "    <tr>\n",
       "      <th>1861368</th>\n",
       "      <td>Adjudicado</td>\n",
       "      <td>LA PREVISORA SA COMPAÑÍA DE SEGUROS</td>\n",
       "      <td>1195901</td>\n",
       "    </tr>\n",
       "    <tr>\n",
       "      <th>1861369</th>\n",
       "      <td>Adjudicado</td>\n",
       "      <td>No Adjudicado</td>\n",
       "      <td>0</td>\n",
       "    </tr>\n",
       "    <tr>\n",
       "      <th>1861370</th>\n",
       "      <td>Adjudicado</td>\n",
       "      <td>No Adjudicado</td>\n",
       "      <td>0</td>\n",
       "    </tr>\n",
       "    <tr>\n",
       "      <th>1861371</th>\n",
       "      <td>Adjudicado</td>\n",
       "      <td>No Adjudicado</td>\n",
       "      <td>0</td>\n",
       "    </tr>\n",
       "    <tr>\n",
       "      <th>1861372</th>\n",
       "      <td>Adjudicado</td>\n",
       "      <td>INTERVENTORIAS INTEGRALES SAS</td>\n",
       "      <td>84884090</td>\n",
       "    </tr>\n",
       "  </tbody>\n",
       "</table>\n",
       "<p>1861373 rows × 3 columns</p>\n",
       "</div>"
      ]
     },
     "execution_count": 9,
     "metadata": {},
     "output_type": "execute_result"
    },
    {
     "data": {
      "text/html": [
       "<pre style=\"white-space:pre;overflow-x:auto;line-height:normal;font-family:Menlo,'DejaVu Sans Mono',consolas,'Courier New',monospace\"><span style=\"font-weight: bold\">&lt;</span><span style=\"color: #ff00ff; text-decoration-color: #ff00ff; font-weight: bold\">IPython.core.display.Javascript</span><span style=\"color: #000000; text-decoration-color: #000000\"> object</span><span style=\"font-weight: bold\">&gt;</span>\n",
       "</pre>\n"
      ],
      "text/plain": [
       "\u001b[1m<\u001b[0m\u001b[1;95mIPython.core.display.Javascript\u001b[0m\u001b[39m object\u001b[0m\u001b[1m>\u001b[0m\n"
      ]
     },
     "metadata": {},
     "output_type": "display_data"
    },
    {
     "data": {
      "application/javascript": [
       "\n",
       "            setTimeout(function() {\n",
       "                var nbb_cell_id = 9;\n",
       "                var nbb_unformatted_code = \"secop_2[[\\\"estado_del_procedimiento\\\",'nombre_del_proveedor','valor_total_adjudicacion']]\";\n",
       "                var nbb_formatted_code = \"secop_2[\\n    [\\\"estado_del_procedimiento\\\", \\\"nombre_del_proveedor\\\", \\\"valor_total_adjudicacion\\\"]\\n]\";\n",
       "                var nbb_cells = Jupyter.notebook.get_cells();\n",
       "                for (var i = 0; i < nbb_cells.length; ++i) {\n",
       "                    if (nbb_cells[i].input_prompt_number == nbb_cell_id) {\n",
       "                        if (nbb_cells[i].get_text() == nbb_unformatted_code) {\n",
       "                             nbb_cells[i].set_text(nbb_formatted_code);\n",
       "                        }\n",
       "                        break;\n",
       "                    }\n",
       "                }\n",
       "            }, 500);\n",
       "            "
      ]
     },
     "metadata": {},
     "output_type": "display_data"
    }
   ],
   "source": [
    "secop_2[\n",
    "    [\"estado_del_procedimiento\", \"nombre_del_proveedor\", \"valor_total_adjudicacion\"]\n",
    "]"
   ]
  },
  {
   "cell_type": "code",
   "execution_count": null,
   "id": "c4e6815e",
   "metadata": {},
   "outputs": [],
   "source": []
  },
  {
   "cell_type": "code",
   "execution_count": null,
   "id": "91313dba",
   "metadata": {},
   "outputs": [],
   "source": []
  },
  {
   "cell_type": "code",
   "execution_count": null,
   "id": "e2c62b67",
   "metadata": {},
   "outputs": [],
   "source": []
  },
  {
   "cell_type": "code",
   "execution_count": 6,
   "id": "0519139d",
   "metadata": {
    "scrolled": false
   },
   "outputs": [
    {
     "data": {
      "text/html": [
       "<pre style=\"white-space:pre;overflow-x:auto;line-height:normal;font-family:Menlo,'DejaVu Sans Mono',consolas,'Courier New',monospace\"><span style=\"font-weight: bold\">&lt;</span><span style=\"color: #ff00ff; text-decoration-color: #ff00ff; font-weight: bold\">IPython.core.display.Javascript</span><span style=\"color: #000000; text-decoration-color: #000000\"> object</span><span style=\"font-weight: bold\">&gt;</span>\n",
       "</pre>\n"
      ],
      "text/plain": [
       "\u001b[1m<\u001b[0m\u001b[1;95mIPython.core.display.Javascript\u001b[0m\u001b[39m object\u001b[0m\u001b[1m>\u001b[0m\n"
      ]
     },
     "metadata": {},
     "output_type": "display_data"
    },
    {
     "data": {
      "application/javascript": [
       "\n",
       "            setTimeout(function() {\n",
       "                var nbb_cell_id = 6;\n",
       "                var nbb_unformatted_code = \"secop_2[\\\"nit_entidad\\\"] = (\\n    secop_2[\\\"nit_entidad\\\"]\\n    .astype(int)\\n    .apply(lambda x: int(np.floor(x / 10)) if x >= 1000000000 else x)\\n)\";\n",
       "                var nbb_formatted_code = \"secop_2[\\\"nit_entidad\\\"] = (\\n    secop_2[\\\"nit_entidad\\\"]\\n    .astype(int)\\n    .apply(lambda x: int(np.floor(x / 10)) if x >= 1000000000 else x)\\n)\";\n",
       "                var nbb_cells = Jupyter.notebook.get_cells();\n",
       "                for (var i = 0; i < nbb_cells.length; ++i) {\n",
       "                    if (nbb_cells[i].input_prompt_number == nbb_cell_id) {\n",
       "                        if (nbb_cells[i].get_text() == nbb_unformatted_code) {\n",
       "                             nbb_cells[i].set_text(nbb_formatted_code);\n",
       "                        }\n",
       "                        break;\n",
       "                    }\n",
       "                }\n",
       "            }, 500);\n",
       "            "
      ]
     },
     "metadata": {},
     "output_type": "display_data"
    }
   ],
   "source": [
    "secop_2[\"nit_entidad\"] = (\n",
    "    secop_2[\"nit_entidad\"]\n",
    "    .astype(int)\n",
    "    .apply(lambda x: int(np.floor(x / 10)) if x >= 1000000000 else x)\n",
    ")"
   ]
  },
  {
   "cell_type": "code",
   "execution_count": 7,
   "id": "d9b6cf90",
   "metadata": {},
   "outputs": [
    {
     "data": {
      "text/html": [
       "<pre style=\"white-space:pre;overflow-x:auto;line-height:normal;font-family:Menlo,'DejaVu Sans Mono',consolas,'Courier New',monospace\"><span style=\"font-weight: bold\">&lt;</span><span style=\"color: #ff00ff; text-decoration-color: #ff00ff; font-weight: bold\">IPython.core.display.Javascript</span><span style=\"color: #000000; text-decoration-color: #000000\"> object</span><span style=\"font-weight: bold\">&gt;</span>\n",
       "</pre>\n"
      ],
      "text/plain": [
       "\u001b[1m<\u001b[0m\u001b[1;95mIPython.core.display.Javascript\u001b[0m\u001b[39m object\u001b[0m\u001b[1m>\u001b[0m\n"
      ]
     },
     "metadata": {},
     "output_type": "display_data"
    },
    {
     "data": {
      "application/javascript": [
       "\n",
       "            setTimeout(function() {\n",
       "                var nbb_cell_id = 7;\n",
       "                var nbb_unformatted_code = \"cols_tildes_lower = [\\n    \\\"entidad\\\",\\n    \\\"departamento_entidad\\\",\\n    \\\"ciudad_entidad\\\",\\n    \\\"ordenentidad\\\",\\n    \\\"fase\\\",\\n    \\\"modalidad_de_contratacion\\\",\\n    \\\"unidad_de_duracion\\\",\\n    \\\"estado_del_procedimiento\\\",\\n    \\\"adjudicado\\\",\\n    \\\"departamento_proveedor\\\",\\n    \\\"ciudad_proveedor\\\",\\n    \\\"nombre_del_adjudicador\\\",\\n    \\\"nombre_del_proveedor\\\",\\n    \\\"tipo_de_contrato\\\",\\n    \\\"subtipo_de_contrato\\\",\\n]\";\n",
       "                var nbb_formatted_code = \"cols_tildes_lower = [\\n    \\\"entidad\\\",\\n    \\\"departamento_entidad\\\",\\n    \\\"ciudad_entidad\\\",\\n    \\\"ordenentidad\\\",\\n    \\\"fase\\\",\\n    \\\"modalidad_de_contratacion\\\",\\n    \\\"unidad_de_duracion\\\",\\n    \\\"estado_del_procedimiento\\\",\\n    \\\"adjudicado\\\",\\n    \\\"departamento_proveedor\\\",\\n    \\\"ciudad_proveedor\\\",\\n    \\\"nombre_del_adjudicador\\\",\\n    \\\"nombre_del_proveedor\\\",\\n    \\\"tipo_de_contrato\\\",\\n    \\\"subtipo_de_contrato\\\",\\n]\";\n",
       "                var nbb_cells = Jupyter.notebook.get_cells();\n",
       "                for (var i = 0; i < nbb_cells.length; ++i) {\n",
       "                    if (nbb_cells[i].input_prompt_number == nbb_cell_id) {\n",
       "                        if (nbb_cells[i].get_text() == nbb_unformatted_code) {\n",
       "                             nbb_cells[i].set_text(nbb_formatted_code);\n",
       "                        }\n",
       "                        break;\n",
       "                    }\n",
       "                }\n",
       "            }, 500);\n",
       "            "
      ]
     },
     "metadata": {},
     "output_type": "display_data"
    }
   ],
   "source": [
    "cols_tildes_lower = [\n",
    "    \"entidad\",\n",
    "    \"departamento_entidad\",\n",
    "    \"ciudad_entidad\",\n",
    "    \"ordenentidad\",\n",
    "    \"fase\",\n",
    "    \"modalidad_de_contratacion\",\n",
    "    \"unidad_de_duracion\",\n",
    "    \"estado_del_procedimiento\",\n",
    "    \"adjudicado\",\n",
    "    \"departamento_proveedor\",\n",
    "    \"ciudad_proveedor\",\n",
    "    \"nombre_del_adjudicador\",\n",
    "    \"nombre_del_proveedor\",\n",
    "    \"tipo_de_contrato\",\n",
    "    \"subtipo_de_contrato\",\n",
    "]"
   ]
  },
  {
   "cell_type": "code",
   "execution_count": 8,
   "id": "dd8c9860",
   "metadata": {},
   "outputs": [
    {
     "data": {
      "text/html": [
       "<pre style=\"white-space:pre;overflow-x:auto;line-height:normal;font-family:Menlo,'DejaVu Sans Mono',consolas,'Courier New',monospace\"><span style=\"font-weight: bold\">&lt;</span><span style=\"color: #ff00ff; text-decoration-color: #ff00ff; font-weight: bold\">IPython.core.display.Javascript</span><span style=\"color: #000000; text-decoration-color: #000000\"> object</span><span style=\"font-weight: bold\">&gt;</span>\n",
       "</pre>\n"
      ],
      "text/plain": [
       "\u001b[1m<\u001b[0m\u001b[1;95mIPython.core.display.Javascript\u001b[0m\u001b[39m object\u001b[0m\u001b[1m>\u001b[0m\n"
      ]
     },
     "metadata": {},
     "output_type": "display_data"
    },
    {
     "data": {
      "application/javascript": [
       "\n",
       "            setTimeout(function() {\n",
       "                var nbb_cell_id = 8;\n",
       "                var nbb_unformatted_code = \"secop_2[cols_tildes_lower] = (\\n    secop_2[cols_tildes_lower].applymap(lambda x: _remove_tildes(x.lower())).values\\n)\";\n",
       "                var nbb_formatted_code = \"secop_2[cols_tildes_lower] = (\\n    secop_2[cols_tildes_lower].applymap(lambda x: _remove_tildes(x.lower())).values\\n)\";\n",
       "                var nbb_cells = Jupyter.notebook.get_cells();\n",
       "                for (var i = 0; i < nbb_cells.length; ++i) {\n",
       "                    if (nbb_cells[i].input_prompt_number == nbb_cell_id) {\n",
       "                        if (nbb_cells[i].get_text() == nbb_unformatted_code) {\n",
       "                             nbb_cells[i].set_text(nbb_formatted_code);\n",
       "                        }\n",
       "                        break;\n",
       "                    }\n",
       "                }\n",
       "            }, 500);\n",
       "            "
      ]
     },
     "metadata": {},
     "output_type": "display_data"
    }
   ],
   "source": [
    "secop_2[cols_tildes_lower] = (\n",
    "    secop_2[cols_tildes_lower].applymap(lambda x: _remove_tildes(x.lower())).values\n",
    ")"
   ]
  },
  {
   "cell_type": "code",
   "execution_count": 9,
   "id": "74d63ea8",
   "metadata": {},
   "outputs": [
    {
     "data": {
      "text/html": [
       "<pre style=\"white-space:pre;overflow-x:auto;line-height:normal;font-family:Menlo,'DejaVu Sans Mono',consolas,'Courier New',monospace\"><span style=\"font-weight: bold\">&lt;</span><span style=\"color: #ff00ff; text-decoration-color: #ff00ff; font-weight: bold\">IPython.core.display.Javascript</span><span style=\"color: #000000; text-decoration-color: #000000\"> object</span><span style=\"font-weight: bold\">&gt;</span>\n",
       "</pre>\n"
      ],
      "text/plain": [
       "\u001b[1m<\u001b[0m\u001b[1;95mIPython.core.display.Javascript\u001b[0m\u001b[39m object\u001b[0m\u001b[1m>\u001b[0m\n"
      ]
     },
     "metadata": {},
     "output_type": "display_data"
    },
    {
     "data": {
      "application/javascript": [
       "\n",
       "            setTimeout(function() {\n",
       "                var nbb_cell_id = 9;\n",
       "                var nbb_unformatted_code = \"secop_2 = secop_2[\\n    secop_2[\\\"modalidad_de_contratacion\\\"] != \\\"solicitud de informacion a los proveedores\\\"\\n].copy()\";\n",
       "                var nbb_formatted_code = \"secop_2 = secop_2[\\n    secop_2[\\\"modalidad_de_contratacion\\\"] != \\\"solicitud de informacion a los proveedores\\\"\\n].copy()\";\n",
       "                var nbb_cells = Jupyter.notebook.get_cells();\n",
       "                for (var i = 0; i < nbb_cells.length; ++i) {\n",
       "                    if (nbb_cells[i].input_prompt_number == nbb_cell_id) {\n",
       "                        if (nbb_cells[i].get_text() == nbb_unformatted_code) {\n",
       "                             nbb_cells[i].set_text(nbb_formatted_code);\n",
       "                        }\n",
       "                        break;\n",
       "                    }\n",
       "                }\n",
       "            }, 500);\n",
       "            "
      ]
     },
     "metadata": {},
     "output_type": "display_data"
    }
   ],
   "source": [
    "secop_2 = secop_2[\n",
    "    secop_2[\"modalidad_de_contratacion\"] != \"solicitud de informacion a los proveedores\"\n",
    "].copy()"
   ]
  },
  {
   "cell_type": "code",
   "execution_count": 10,
   "id": "e5778baa",
   "metadata": {},
   "outputs": [
    {
     "data": {
      "text/html": [
       "<pre style=\"white-space:pre;overflow-x:auto;line-height:normal;font-family:Menlo,'DejaVu Sans Mono',consolas,'Courier New',monospace\"><span style=\"font-weight: bold\">&lt;</span><span style=\"color: #ff00ff; text-decoration-color: #ff00ff; font-weight: bold\">IPython.core.display.Javascript</span><span style=\"color: #000000; text-decoration-color: #000000\"> object</span><span style=\"font-weight: bold\">&gt;</span>\n",
       "</pre>\n"
      ],
      "text/plain": [
       "\u001b[1m<\u001b[0m\u001b[1;95mIPython.core.display.Javascript\u001b[0m\u001b[39m object\u001b[0m\u001b[1m>\u001b[0m\n"
      ]
     },
     "metadata": {},
     "output_type": "display_data"
    },
    {
     "data": {
      "application/javascript": [
       "\n",
       "            setTimeout(function() {\n",
       "                var nbb_cell_id = 10;\n",
       "                var nbb_unformatted_code = \"def _clean_modalidad_contratacion_2(mod: str):\\n    \\\"\\\"\\\"Clean and group modalidad de contrataci\\u00f3n for SECOP II\\\"\\\"\\\"\\n    if \\\"concurso\\\" in mod:\\n        return \\\"concurso meritos\\\"\\n    elif \\\"licitacion\\\" in mod:\\n        return \\\"licitacion publica\\\"\\n    elif \\\"cuantia\\\" in mod:\\n        return \\\"menor cuantia\\\"\\n    elif \\\"contratacion directa\\\" in mod:\\n        return \\\"contratacion directa\\\"\\n    elif \\\"regimen especial\\\" in mod:\\n        return \\\"regimen especial\\\"\\n    elif \\\"subasta\\\" in mod:\\n        return \\\"subasta\\\"\\n    else:\\n        return \\\"otro\\\"\";\n",
       "                var nbb_formatted_code = \"def _clean_modalidad_contratacion_2(mod: str):\\n    \\\"\\\"\\\"Clean and group modalidad de contrataci\\u00f3n for SECOP II\\\"\\\"\\\"\\n    if \\\"concurso\\\" in mod:\\n        return \\\"concurso meritos\\\"\\n    elif \\\"licitacion\\\" in mod:\\n        return \\\"licitacion publica\\\"\\n    elif \\\"cuantia\\\" in mod:\\n        return \\\"menor cuantia\\\"\\n    elif \\\"contratacion directa\\\" in mod:\\n        return \\\"contratacion directa\\\"\\n    elif \\\"regimen especial\\\" in mod:\\n        return \\\"regimen especial\\\"\\n    elif \\\"subasta\\\" in mod:\\n        return \\\"subasta\\\"\\n    else:\\n        return \\\"otro\\\"\";\n",
       "                var nbb_cells = Jupyter.notebook.get_cells();\n",
       "                for (var i = 0; i < nbb_cells.length; ++i) {\n",
       "                    if (nbb_cells[i].input_prompt_number == nbb_cell_id) {\n",
       "                        if (nbb_cells[i].get_text() == nbb_unformatted_code) {\n",
       "                             nbb_cells[i].set_text(nbb_formatted_code);\n",
       "                        }\n",
       "                        break;\n",
       "                    }\n",
       "                }\n",
       "            }, 500);\n",
       "            "
      ]
     },
     "metadata": {},
     "output_type": "display_data"
    }
   ],
   "source": [
    "def _clean_modalidad_contratacion_2(mod: str):\n",
    "    \"\"\"Clean and group modalidad de contratación for SECOP II\"\"\"\n",
    "    if \"concurso\" in mod:\n",
    "        return \"concurso meritos\"\n",
    "    elif \"licitacion\" in mod:\n",
    "        return \"licitacion publica\"\n",
    "    elif \"cuantia\" in mod:\n",
    "        return \"menor cuantia\"\n",
    "    elif \"contratacion directa\" in mod:\n",
    "        return \"contratacion directa\"\n",
    "    elif \"regimen especial\" in mod:\n",
    "        return \"regimen especial\"\n",
    "    elif \"subasta\" in mod:\n",
    "        return \"subasta\"\n",
    "    else:\n",
    "        return \"otro\""
   ]
  },
  {
   "cell_type": "code",
   "execution_count": 11,
   "id": "93b1c261",
   "metadata": {},
   "outputs": [
    {
     "data": {
      "text/html": [
       "<pre style=\"white-space:pre;overflow-x:auto;line-height:normal;font-family:Menlo,'DejaVu Sans Mono',consolas,'Courier New',monospace\"><span style=\"font-weight: bold\">&lt;</span><span style=\"color: #ff00ff; text-decoration-color: #ff00ff; font-weight: bold\">IPython.core.display.Javascript</span><span style=\"color: #000000; text-decoration-color: #000000\"> object</span><span style=\"font-weight: bold\">&gt;</span>\n",
       "</pre>\n"
      ],
      "text/plain": [
       "\u001b[1m<\u001b[0m\u001b[1;95mIPython.core.display.Javascript\u001b[0m\u001b[39m object\u001b[0m\u001b[1m>\u001b[0m\n"
      ]
     },
     "metadata": {},
     "output_type": "display_data"
    },
    {
     "data": {
      "application/javascript": [
       "\n",
       "            setTimeout(function() {\n",
       "                var nbb_cell_id = 11;\n",
       "                var nbb_unformatted_code = \"secop_2[\\\"modalidad_de_contratacion\\\"] = secop_2[\\\"modalidad_de_contratacion\\\"].apply(\\n    _clean_modalidad_contratacion_2\\n)\";\n",
       "                var nbb_formatted_code = \"secop_2[\\\"modalidad_de_contratacion\\\"] = secop_2[\\\"modalidad_de_contratacion\\\"].apply(\\n    _clean_modalidad_contratacion_2\\n)\";\n",
       "                var nbb_cells = Jupyter.notebook.get_cells();\n",
       "                for (var i = 0; i < nbb_cells.length; ++i) {\n",
       "                    if (nbb_cells[i].input_prompt_number == nbb_cell_id) {\n",
       "                        if (nbb_cells[i].get_text() == nbb_unformatted_code) {\n",
       "                             nbb_cells[i].set_text(nbb_formatted_code);\n",
       "                        }\n",
       "                        break;\n",
       "                    }\n",
       "                }\n",
       "            }, 500);\n",
       "            "
      ]
     },
     "metadata": {},
     "output_type": "display_data"
    }
   ],
   "source": [
    "secop_2[\"modalidad_de_contratacion\"] = secop_2[\"modalidad_de_contratacion\"].apply(\n",
    "    _clean_modalidad_contratacion_2\n",
    ")"
   ]
  },
  {
   "cell_type": "code",
   "execution_count": 12,
   "id": "11c9ba13",
   "metadata": {},
   "outputs": [
    {
     "data": {
      "text/html": [
       "<pre style=\"white-space:pre;overflow-x:auto;line-height:normal;font-family:Menlo,'DejaVu Sans Mono',consolas,'Courier New',monospace\"><span style=\"font-weight: bold\">&lt;</span><span style=\"color: #ff00ff; text-decoration-color: #ff00ff; font-weight: bold\">IPython.core.display.Javascript</span><span style=\"color: #000000; text-decoration-color: #000000\"> object</span><span style=\"font-weight: bold\">&gt;</span>\n",
       "</pre>\n"
      ],
      "text/plain": [
       "\u001b[1m<\u001b[0m\u001b[1;95mIPython.core.display.Javascript\u001b[0m\u001b[39m object\u001b[0m\u001b[1m>\u001b[0m\n"
      ]
     },
     "metadata": {},
     "output_type": "display_data"
    },
    {
     "data": {
      "application/javascript": [
       "\n",
       "            setTimeout(function() {\n",
       "                var nbb_cell_id = 12;\n",
       "                var nbb_unformatted_code = \"for c in [\\n    \\\"proveedores_invitados\\\",\\n    \\\"proveedores_con_invitacion\\\",\\n    \\\"visualizaciones_del\\\",\\n    \\\"proveedores_que_manifestaron\\\",\\n    \\\"respuestas_al_procedimiento\\\",\\n    \\\"respuestas_externas\\\",\\n    \\\"conteo_de_respuestas_a_ofertas\\\",\\n    \\\"proveedores_unicos_con\\\",\\n    \\\"duracion\\\",\\n    \\\"valor_total_adjudicacion\\\",\\n]:\\n    secop_2[c] = secop_2[c].astype(int)\";\n",
       "                var nbb_formatted_code = \"for c in [\\n    \\\"proveedores_invitados\\\",\\n    \\\"proveedores_con_invitacion\\\",\\n    \\\"visualizaciones_del\\\",\\n    \\\"proveedores_que_manifestaron\\\",\\n    \\\"respuestas_al_procedimiento\\\",\\n    \\\"respuestas_externas\\\",\\n    \\\"conteo_de_respuestas_a_ofertas\\\",\\n    \\\"proveedores_unicos_con\\\",\\n    \\\"duracion\\\",\\n    \\\"valor_total_adjudicacion\\\",\\n]:\\n    secop_2[c] = secop_2[c].astype(int)\";\n",
       "                var nbb_cells = Jupyter.notebook.get_cells();\n",
       "                for (var i = 0; i < nbb_cells.length; ++i) {\n",
       "                    if (nbb_cells[i].input_prompt_number == nbb_cell_id) {\n",
       "                        if (nbb_cells[i].get_text() == nbb_unformatted_code) {\n",
       "                             nbb_cells[i].set_text(nbb_formatted_code);\n",
       "                        }\n",
       "                        break;\n",
       "                    }\n",
       "                }\n",
       "            }, 500);\n",
       "            "
      ]
     },
     "metadata": {},
     "output_type": "display_data"
    }
   ],
   "source": [
    "for c in [\n",
    "    \"proveedores_invitados\",\n",
    "    \"proveedores_con_invitacion\",\n",
    "    \"visualizaciones_del\",\n",
    "    \"proveedores_que_manifestaron\",\n",
    "    \"respuestas_al_procedimiento\",\n",
    "    \"respuestas_externas\",\n",
    "    \"conteo_de_respuestas_a_ofertas\",\n",
    "    \"proveedores_unicos_con\",\n",
    "    \"duracion\",\n",
    "    \"valor_total_adjudicacion\",\n",
    "]:\n",
    "    secop_2[c] = secop_2[c].astype(int)"
   ]
  },
  {
   "cell_type": "code",
   "execution_count": 13,
   "id": "47fb0717",
   "metadata": {},
   "outputs": [
    {
     "data": {
      "text/html": [
       "<pre style=\"white-space:pre;overflow-x:auto;line-height:normal;font-family:Menlo,'DejaVu Sans Mono',consolas,'Courier New',monospace\"><span style=\"font-weight: bold\">&lt;</span><span style=\"color: #ff00ff; text-decoration-color: #ff00ff; font-weight: bold\">IPython.core.display.Javascript</span><span style=\"color: #000000; text-decoration-color: #000000\"> object</span><span style=\"font-weight: bold\">&gt;</span>\n",
       "</pre>\n"
      ],
      "text/plain": [
       "\u001b[1m<\u001b[0m\u001b[1;95mIPython.core.display.Javascript\u001b[0m\u001b[39m object\u001b[0m\u001b[1m>\u001b[0m\n"
      ]
     },
     "metadata": {},
     "output_type": "display_data"
    },
    {
     "data": {
      "application/javascript": [
       "\n",
       "            setTimeout(function() {\n",
       "                var nbb_cell_id = 13;\n",
       "                var nbb_unformatted_code = \"map_duracion = {\\\"dias\\\": 1, \\\"meses\\\": 30, \\\"a\\u00f1os\\\": 365, \\\"nd\\\": 0}\\nsecop_2[\\\"duracion_dias\\\"] = secop_2[[\\\"duracion\\\", \\\"unidad_de_duracion\\\"]].apply(\\n    lambda row: row[\\\"duracion\\\"] * map_duracion[row[\\\"unidad_de_duracion\\\"]], axis=1\\n)\";\n",
       "                var nbb_formatted_code = \"map_duracion = {\\\"dias\\\": 1, \\\"meses\\\": 30, \\\"a\\u00f1os\\\": 365, \\\"nd\\\": 0}\\nsecop_2[\\\"duracion_dias\\\"] = secop_2[[\\\"duracion\\\", \\\"unidad_de_duracion\\\"]].apply(\\n    lambda row: row[\\\"duracion\\\"] * map_duracion[row[\\\"unidad_de_duracion\\\"]], axis=1\\n)\";\n",
       "                var nbb_cells = Jupyter.notebook.get_cells();\n",
       "                for (var i = 0; i < nbb_cells.length; ++i) {\n",
       "                    if (nbb_cells[i].input_prompt_number == nbb_cell_id) {\n",
       "                        if (nbb_cells[i].get_text() == nbb_unformatted_code) {\n",
       "                             nbb_cells[i].set_text(nbb_formatted_code);\n",
       "                        }\n",
       "                        break;\n",
       "                    }\n",
       "                }\n",
       "            }, 500);\n",
       "            "
      ]
     },
     "metadata": {},
     "output_type": "display_data"
    }
   ],
   "source": [
    "map_duracion = {\"dias\": 1, \"meses\": 30, \"años\": 365, \"nd\": 0}\n",
    "secop_2[\"duracion_dias\"] = secop_2[[\"duracion\", \"unidad_de_duracion\"]].apply(\n",
    "    lambda row: row[\"duracion\"] * map_duracion[row[\"unidad_de_duracion\"]], axis=1\n",
    ")"
   ]
  },
  {
   "cell_type": "code",
   "execution_count": 14,
   "id": "540e9e2e",
   "metadata": {},
   "outputs": [
    {
     "data": {
      "text/html": [
       "<pre style=\"white-space:pre;overflow-x:auto;line-height:normal;font-family:Menlo,'DejaVu Sans Mono',consolas,'Courier New',monospace\"><span style=\"font-weight: bold\">&lt;</span><span style=\"color: #ff00ff; text-decoration-color: #ff00ff; font-weight: bold\">IPython.core.display.Javascript</span><span style=\"color: #000000; text-decoration-color: #000000\"> object</span><span style=\"font-weight: bold\">&gt;</span>\n",
       "</pre>\n"
      ],
      "text/plain": [
       "\u001b[1m<\u001b[0m\u001b[1;95mIPython.core.display.Javascript\u001b[0m\u001b[39m object\u001b[0m\u001b[1m>\u001b[0m\n"
      ]
     },
     "metadata": {},
     "output_type": "display_data"
    },
    {
     "data": {
      "application/javascript": [
       "\n",
       "            setTimeout(function() {\n",
       "                var nbb_cell_id = 14;\n",
       "                var nbb_unformatted_code = \"secop_2.drop([\\\"duracion\\\", \\\"unidad_de_duracion\\\", \\\"adjudicado\\\",'tipo_de_contrato','subtipo_de_contrato'], axis=1, inplace=True)\";\n",
       "                var nbb_formatted_code = \"secop_2.drop(\\n    [\\n        \\\"duracion\\\",\\n        \\\"unidad_de_duracion\\\",\\n        \\\"adjudicado\\\",\\n        \\\"tipo_de_contrato\\\",\\n        \\\"subtipo_de_contrato\\\",\\n    ],\\n    axis=1,\\n    inplace=True,\\n)\";\n",
       "                var nbb_cells = Jupyter.notebook.get_cells();\n",
       "                for (var i = 0; i < nbb_cells.length; ++i) {\n",
       "                    if (nbb_cells[i].input_prompt_number == nbb_cell_id) {\n",
       "                        if (nbb_cells[i].get_text() == nbb_unformatted_code) {\n",
       "                             nbb_cells[i].set_text(nbb_formatted_code);\n",
       "                        }\n",
       "                        break;\n",
       "                    }\n",
       "                }\n",
       "            }, 500);\n",
       "            "
      ]
     },
     "metadata": {},
     "output_type": "display_data"
    }
   ],
   "source": [
    "secop_2.drop(\n",
    "    [\n",
    "        \"duracion\",\n",
    "        \"unidad_de_duracion\",\n",
    "        \"adjudicado\",\n",
    "        \"tipo_de_contrato\",\n",
    "        \"subtipo_de_contrato\",\n",
    "    ],\n",
    "    axis=1,\n",
    "    inplace=True,\n",
    ")"
   ]
  },
  {
   "cell_type": "code",
   "execution_count": 15,
   "id": "003aaa4a",
   "metadata": {},
   "outputs": [
    {
     "data": {
      "text/html": [
       "<pre style=\"white-space:pre;overflow-x:auto;line-height:normal;font-family:Menlo,'DejaVu Sans Mono',consolas,'Courier New',monospace\"><span style=\"font-weight: bold\">&lt;</span><span style=\"color: #ff00ff; text-decoration-color: #ff00ff; font-weight: bold\">IPython.core.display.Javascript</span><span style=\"color: #000000; text-decoration-color: #000000\"> object</span><span style=\"font-weight: bold\">&gt;</span>\n",
       "</pre>\n"
      ],
      "text/plain": [
       "\u001b[1m<\u001b[0m\u001b[1;95mIPython.core.display.Javascript\u001b[0m\u001b[39m object\u001b[0m\u001b[1m>\u001b[0m\n"
      ]
     },
     "metadata": {},
     "output_type": "display_data"
    },
    {
     "data": {
      "application/javascript": [
       "\n",
       "            setTimeout(function() {\n",
       "                var nbb_cell_id = 15;\n",
       "                var nbb_unformatted_code = \"secop_2[\\\"nit_del_proveedor_adjudicado\\\"] = (\\n    secop_2[\\\"nit_del_proveedor_adjudicado\\\"]\\n    .replace(\\\"No Adjudicado\\\", 0)\\n    .replace(\\\"No Definido\\\", 0)\\n)\";\n",
       "                var nbb_formatted_code = \"secop_2[\\\"nit_del_proveedor_adjudicado\\\"] = (\\n    secop_2[\\\"nit_del_proveedor_adjudicado\\\"]\\n    .replace(\\\"No Adjudicado\\\", 0)\\n    .replace(\\\"No Definido\\\", 0)\\n)\";\n",
       "                var nbb_cells = Jupyter.notebook.get_cells();\n",
       "                for (var i = 0; i < nbb_cells.length; ++i) {\n",
       "                    if (nbb_cells[i].input_prompt_number == nbb_cell_id) {\n",
       "                        if (nbb_cells[i].get_text() == nbb_unformatted_code) {\n",
       "                             nbb_cells[i].set_text(nbb_formatted_code);\n",
       "                        }\n",
       "                        break;\n",
       "                    }\n",
       "                }\n",
       "            }, 500);\n",
       "            "
      ]
     },
     "metadata": {},
     "output_type": "display_data"
    }
   ],
   "source": [
    "secop_2[\"nit_del_proveedor_adjudicado\"] = (\n",
    "    secop_2[\"nit_del_proveedor_adjudicado\"]\n",
    "    .replace(\"No Adjudicado\", 0)\n",
    "    .replace(\"No Definido\", 0)\n",
    ")"
   ]
  },
  {
   "cell_type": "code",
   "execution_count": 17,
   "id": "b313898b",
   "metadata": {},
   "outputs": [
    {
     "data": {
      "text/html": [
       "<pre style=\"white-space:pre;overflow-x:auto;line-height:normal;font-family:Menlo,'DejaVu Sans Mono',consolas,'Courier New',monospace\"><span style=\"font-weight: bold\">&lt;</span><span style=\"color: #ff00ff; text-decoration-color: #ff00ff; font-weight: bold\">IPython.core.display.Javascript</span><span style=\"color: #000000; text-decoration-color: #000000\"> object</span><span style=\"font-weight: bold\">&gt;</span>\n",
       "</pre>\n"
      ],
      "text/plain": [
       "\u001b[1m<\u001b[0m\u001b[1;95mIPython.core.display.Javascript\u001b[0m\u001b[39m object\u001b[0m\u001b[1m>\u001b[0m\n"
      ]
     },
     "metadata": {},
     "output_type": "display_data"
    },
    {
     "data": {
      "application/javascript": [
       "\n",
       "            setTimeout(function() {\n",
       "                var nbb_cell_id = 17;\n",
       "                var nbb_unformatted_code = \"def asdf(int_in):\\n    try:\\n        return int(int_in)\\n    except:\\n        return 'asdfasdf'\";\n",
       "                var nbb_formatted_code = \"def asdf(int_in):\\n    try:\\n        return int(int_in)\\n    except:\\n        return \\\"asdfasdf\\\"\";\n",
       "                var nbb_cells = Jupyter.notebook.get_cells();\n",
       "                for (var i = 0; i < nbb_cells.length; ++i) {\n",
       "                    if (nbb_cells[i].input_prompt_number == nbb_cell_id) {\n",
       "                        if (nbb_cells[i].get_text() == nbb_unformatted_code) {\n",
       "                             nbb_cells[i].set_text(nbb_formatted_code);\n",
       "                        }\n",
       "                        break;\n",
       "                    }\n",
       "                }\n",
       "            }, 500);\n",
       "            "
      ]
     },
     "metadata": {},
     "output_type": "display_data"
    }
   ],
   "source": [
    "def asdf(int_in):\n",
    "    try:\n",
    "        return int(int_in)\n",
    "    except:\n",
    "        return \"asdfasdf\""
   ]
  },
  {
   "cell_type": "code",
   "execution_count": 18,
   "id": "6a662a42",
   "metadata": {},
   "outputs": [
    {
     "data": {
      "text/html": [
       "<pre style=\"white-space:pre;overflow-x:auto;line-height:normal;font-family:Menlo,'DejaVu Sans Mono',consolas,'Courier New',monospace\"><span style=\"font-weight: bold\">&lt;</span><span style=\"color: #ff00ff; text-decoration-color: #ff00ff; font-weight: bold\">IPython.core.display.Javascript</span><span style=\"color: #000000; text-decoration-color: #000000\"> object</span><span style=\"font-weight: bold\">&gt;</span>\n",
       "</pre>\n"
      ],
      "text/plain": [
       "\u001b[1m<\u001b[0m\u001b[1;95mIPython.core.display.Javascript\u001b[0m\u001b[39m object\u001b[0m\u001b[1m>\u001b[0m\n"
      ]
     },
     "metadata": {},
     "output_type": "display_data"
    },
    {
     "data": {
      "application/javascript": [
       "\n",
       "            setTimeout(function() {\n",
       "                var nbb_cell_id = 18;\n",
       "                var nbb_unformatted_code = \"secop_2[\\\"nit_del_proveedor_adjudicado_pr\\\"] = secop_2[\\\"nit_del_proveedor_adjudicado\\\"].apply(asdf)\";\n",
       "                var nbb_formatted_code = \"secop_2[\\\"nit_del_proveedor_adjudicado_pr\\\"] = secop_2[\\n    \\\"nit_del_proveedor_adjudicado\\\"\\n].apply(asdf)\";\n",
       "                var nbb_cells = Jupyter.notebook.get_cells();\n",
       "                for (var i = 0; i < nbb_cells.length; ++i) {\n",
       "                    if (nbb_cells[i].input_prompt_number == nbb_cell_id) {\n",
       "                        if (nbb_cells[i].get_text() == nbb_unformatted_code) {\n",
       "                             nbb_cells[i].set_text(nbb_formatted_code);\n",
       "                        }\n",
       "                        break;\n",
       "                    }\n",
       "                }\n",
       "            }, 500);\n",
       "            "
      ]
     },
     "metadata": {},
     "output_type": "display_data"
    }
   ],
   "source": [
    "secop_2[\"nit_del_proveedor_adjudicado_pr\"] = secop_2[\n",
    "    \"nit_del_proveedor_adjudicado\"\n",
    "].apply(asdf)"
   ]
  },
  {
   "cell_type": "code",
   "execution_count": 22,
   "id": "bd27e56b",
   "metadata": {},
   "outputs": [
    {
     "data": {
      "text/html": [
       "<pre style=\"white-space:pre;overflow-x:auto;line-height:normal;font-family:Menlo,'DejaVu Sans Mono',consolas,'Courier New',monospace\"><span style=\"font-weight: bold\">&lt;</span><span style=\"color: #ff00ff; text-decoration-color: #ff00ff; font-weight: bold\">IPython.core.display.Javascript</span><span style=\"color: #000000; text-decoration-color: #000000\"> object</span><span style=\"font-weight: bold\">&gt;</span>\n",
       "</pre>\n"
      ],
      "text/plain": [
       "\u001b[1m<\u001b[0m\u001b[1;95mIPython.core.display.Javascript\u001b[0m\u001b[39m object\u001b[0m\u001b[1m>\u001b[0m\n"
      ]
     },
     "metadata": {},
     "output_type": "display_data"
    },
    {
     "data": {
      "application/javascript": [
       "\n",
       "            setTimeout(function() {\n",
       "                var nbb_cell_id = 22;\n",
       "                var nbb_unformatted_code = \"asd = secop_2[secop_2[\\\"nit_del_proveedor_adjudicado_pr\\\"] == \\\"asdfasdf\\\"][\\n    [\\\"nit_del_proveedor_adjudicado\\\", \\\"nit_del_proveedor_adjudicado_pr\\\"]\\n]\";\n",
       "                var nbb_formatted_code = \"asd = secop_2[secop_2[\\\"nit_del_proveedor_adjudicado_pr\\\"] == \\\"asdfasdf\\\"][\\n    [\\\"nit_del_proveedor_adjudicado\\\", \\\"nit_del_proveedor_adjudicado_pr\\\"]\\n]\";\n",
       "                var nbb_cells = Jupyter.notebook.get_cells();\n",
       "                for (var i = 0; i < nbb_cells.length; ++i) {\n",
       "                    if (nbb_cells[i].input_prompt_number == nbb_cell_id) {\n",
       "                        if (nbb_cells[i].get_text() == nbb_unformatted_code) {\n",
       "                             nbb_cells[i].set_text(nbb_formatted_code);\n",
       "                        }\n",
       "                        break;\n",
       "                    }\n",
       "                }\n",
       "            }, 500);\n",
       "            "
      ]
     },
     "metadata": {},
     "output_type": "display_data"
    }
   ],
   "source": [
    "asd = secop_2[secop_2[\"nit_del_proveedor_adjudicado_pr\"] == \"asdfasdf\"][\n",
    "    [\"nit_del_proveedor_adjudicado\", \"nit_del_proveedor_adjudicado_pr\"]\n",
    "]"
   ]
  },
  {
   "cell_type": "code",
   "execution_count": 24,
   "id": "f8d7b50f",
   "metadata": {},
   "outputs": [
    {
     "data": {
      "text/html": [
       "<pre style=\"white-space:pre;overflow-x:auto;line-height:normal;font-family:Menlo,'DejaVu Sans Mono',consolas,'Courier New',monospace\"><span style=\"color: #008080; text-decoration-color: #008080; font-weight: bold\">1804763</span>\n",
       "</pre>\n"
      ],
      "text/plain": [
       "\u001b[1;36m1804763\u001b[0m\n"
      ]
     },
     "metadata": {},
     "output_type": "display_data"
    },
    {
     "data": {
      "text/html": [
       "<pre style=\"white-space:pre;overflow-x:auto;line-height:normal;font-family:Menlo,'DejaVu Sans Mono',consolas,'Courier New',monospace\"><span style=\"font-weight: bold\">&lt;</span><span style=\"color: #ff00ff; text-decoration-color: #ff00ff; font-weight: bold\">IPython.core.display.Javascript</span><span style=\"color: #000000; text-decoration-color: #000000\"> object</span><span style=\"font-weight: bold\">&gt;</span>\n",
       "</pre>\n"
      ],
      "text/plain": [
       "\u001b[1m<\u001b[0m\u001b[1;95mIPython.core.display.Javascript\u001b[0m\u001b[39m object\u001b[0m\u001b[1m>\u001b[0m\n"
      ]
     },
     "metadata": {},
     "output_type": "display_data"
    },
    {
     "data": {
      "application/javascript": [
       "\n",
       "            setTimeout(function() {\n",
       "                var nbb_cell_id = 24;\n",
       "                var nbb_unformatted_code = \"len(secop_2)\";\n",
       "                var nbb_formatted_code = \"len(secop_2)\";\n",
       "                var nbb_cells = Jupyter.notebook.get_cells();\n",
       "                for (var i = 0; i < nbb_cells.length; ++i) {\n",
       "                    if (nbb_cells[i].input_prompt_number == nbb_cell_id) {\n",
       "                        if (nbb_cells[i].get_text() == nbb_unformatted_code) {\n",
       "                             nbb_cells[i].set_text(nbb_formatted_code);\n",
       "                        }\n",
       "                        break;\n",
       "                    }\n",
       "                }\n",
       "            }, 500);\n",
       "            "
      ]
     },
     "metadata": {},
     "output_type": "display_data"
    }
   ],
   "source": [
    "len(secop_2)"
   ]
  },
  {
   "cell_type": "code",
   "execution_count": 25,
   "id": "13598fa4",
   "metadata": {},
   "outputs": [
    {
     "data": {
      "text/html": [
       "<pre style=\"white-space:pre;overflow-x:auto;line-height:normal;font-family:Menlo,'DejaVu Sans Mono',consolas,'Courier New',monospace\">\n",
       "<span style=\"color: #800080; text-decoration-color: #800080; font-weight: bold\">array</span><span style=\"font-weight: bold\">([</span><span style=\"color: #008000; text-decoration-color: #008000\">'B87709341'</span>, <span style=\"color: #008000; text-decoration-color: #008000\">'NO APLICA'</span>, <span style=\"color: #008000; text-decoration-color: #008000\">'C123'</span>,\n",
       "       <span style=\"color: #008000; text-decoration-color: #008000\">'CLUB DEPORTIVO DE FUTBOL ATLETICO ARAUCA'</span>,\n",
       "       <span style=\"color: #008000; text-decoration-color: #008000\">'CLUB DE COLEO SIFRINITO RANCH'</span>, <span style=\"color: #008000; text-decoration-color: #008000\">'DMYJ EDITORES GRAFICOS'</span>,\n",
       "       <span style=\"color: #008000; text-decoration-color: #008000\">'B85846319'</span>, <span style=\"color: #008000; text-decoration-color: #008000\">'S34392'</span>, <span style=\"color: #008000; text-decoration-color: #008000\">'NAXXX'</span>, <span style=\"color: #008000; text-decoration-color: #008000\">'B85489276'</span>, <span style=\"color: #008000; text-decoration-color: #008000\">'xxxx'</span>, <span style=\"color: #008000; text-decoration-color: #008000\">'XXXXXX'</span>,\n",
       "       <span style=\"color: #008000; text-decoration-color: #008000\">'L18000015430'</span>, <span style=\"color: #008000; text-decoration-color: #008000\">'NA22222'</span>, <span style=\"color: #008000; text-decoration-color: #008000\">'N520042185'</span>, <span style=\"color: #008000; text-decoration-color: #008000\">'PDTE'</span>, <span style=\"color: #008000; text-decoration-color: #008000\">'CONSORCIO I3'</span>,\n",
       "       <span style=\"color: #008000; text-decoration-color: #008000\">'19966801739513 DV 63'</span>, <span style=\"color: #008000; text-decoration-color: #008000\">'no aplica'</span>, <span style=\"color: #008000; text-decoration-color: #008000\">'B91552851'</span>, <span style=\"color: #008000; text-decoration-color: #008000\">'HRB6960KI'</span>,\n",
       "       <span style=\"color: #008000; text-decoration-color: #008000\">'EME930203ET3'</span>, <span style=\"color: #008000; text-decoration-color: #008000\">'A28006104'</span>, <span style=\"color: #008000; text-decoration-color: #008000\">'HRB21570HB'</span>, <span style=\"color: #008000; text-decoration-color: #008000\">'1O316988'</span>, <span style=\"color: #008000; text-decoration-color: #008000\">'Biblioeb'</span>,\n",
       "       <span style=\"color: #008000; text-decoration-color: #008000\">'BDE101104V63'</span>, <span style=\"color: #008000; text-decoration-color: #008000\">'NA'</span>, <span style=\"color: #008000; text-decoration-color: #008000\">'PCC4'</span>, <span style=\"color: #008000; text-decoration-color: #008000\">''</span>, <span style=\"color: #008000; text-decoration-color: #008000\">'X'</span>, <span style=\"color: #008000; text-decoration-color: #008000\">'RUC 9905291534103 DV 22'</span>,\n",
       "       <span style=\"color: #008000; text-decoration-color: #008000\">'XDD351246'</span>, <span style=\"color: #008000; text-decoration-color: #008000\">'DOCUMENTO DE CONSTITUCION'</span>, <span style=\"color: #008000; text-decoration-color: #008000\">'G46421988'</span>,\n",
       "       <span style=\"color: #008000; text-decoration-color: #008000\">'CIF 8176032558'</span>, <span style=\"color: #008000; text-decoration-color: #008000\">'B97686158'</span>, <span style=\"color: #008000; text-decoration-color: #008000\">'P94000039738'</span>, <span style=\"color: #008000; text-decoration-color: #008000\">'P05000069902'</span>,\n",
       "       <span style=\"color: #008000; text-decoration-color: #008000\">'CHE243507863'</span>, <span style=\"color: #008000; text-decoration-color: #008000\">'ESB97223689'</span>, <span style=\"color: #008000; text-decoration-color: #008000\">'B97 22 36 89'</span>,\n",
       "       <span style=\"color: #008000; text-decoration-color: #008000\">'RICARD RESPUESTAS INTEGRADAS SAS'</span>, <span style=\"color: #008000; text-decoration-color: #008000\">'19273 780'</span>, <span style=\"color: #008000; text-decoration-color: #008000\">'ESG48975767'</span>,\n",
       "       <span style=\"color: #008000; text-decoration-color: #008000\">'Arus SA'</span>, <span style=\"color: #008000; text-decoration-color: #008000\">'9 0 1 1 8 6 3 5 3'</span>, <span style=\"color: #008000; text-decoration-color: #008000\">'BRAYAN ANDRES TORRES AGUILAR'</span>,\n",
       "       <span style=\"color: #008000; text-decoration-color: #008000\">'acta conformacion 001'</span>, <span style=\"color: #008000; text-decoration-color: #008000\">'1113782504 6'</span>, <span style=\"color: #008000; text-decoration-color: #008000\">'8440013438  413292475'</span>,\n",
       "       <span style=\"color: #008000; text-decoration-color: #008000\">'No Registrado'</span>, <span style=\"color: #008000; text-decoration-color: #008000\">'510150011319915 DV 20'</span>, <span style=\"color: #008000; text-decoration-color: #008000\">'NO APLICAR'</span>,\n",
       "       <span style=\"color: #008000; text-decoration-color: #008000\">'consorcio'</span>, <span style=\"color: #008000; text-decoration-color: #008000\">'9 0 1 4 4 0 7 5 4 0'</span>, <span style=\"color: #008000; text-decoration-color: #008000\">'CNPJ14192913000161'</span>,\n",
       "       <span style=\"color: #008000; text-decoration-color: #008000\">'PAL120109KDA'</span>, <span style=\"color: #008000; text-decoration-color: #008000\">'INYPSA INFORMES Y PROYECTOS SA SUC CO'</span>,\n",
       "       <span style=\"color: #008000; text-decoration-color: #008000\">'AAC345317'</span>, <span style=\"color: #008000; text-decoration-color: #008000\">'no constituido'</span>, <span style=\"color: #008000; text-decoration-color: #008000\">'acta ut'</span>, <span style=\"color: #008000; text-decoration-color: #008000\">'PODEFINIR'</span>,\n",
       "       <span style=\"color: #008000; text-decoration-color: #008000\">'SX070801QR5'</span>, <span style=\"color: #008000; text-decoration-color: #008000\">'CONSORCIO EDUCATIVO DMS 2022'</span>, <span style=\"color: #008000; text-decoration-color: #008000\">'A81311573'</span>,\n",
       "       <span style=\"color: #008000; text-decoration-color: #008000\">'R2800395B'</span>, <span style=\"color: #008000; text-decoration-color: #008000\">'7 0 5 7 8 5 9 5'</span>, <span style=\"color: #008000; text-decoration-color: #008000\">'B85859445'</span>, <span style=\"color: #008000; text-decoration-color: #008000\">'SAG9705099J8'</span>,\n",
       "       <span style=\"color: #008000; text-decoration-color: #008000\">'91110000100000817X'</span>, <span style=\"color: #008000; text-decoration-color: #008000\">'NAA'</span>, <span style=\"color: #008000; text-decoration-color: #008000\">'MAUTO VEHICULOS'</span>, <span style=\"color: #008000; text-decoration-color: #008000\">'DE812987573'</span>,\n",
       "       <span style=\"color: #008000; text-decoration-color: #008000\">'DE811851125'</span>, <span style=\"color: #008000; text-decoration-color: #008000\">'DE125572013'</span>, <span style=\"color: #008000; text-decoration-color: #008000\">'CHINO ORKS AMERICA INC'</span>,\n",
       "       <span style=\"color: #008000; text-decoration-color: #008000\">'No Aplica union temporal'</span>, <span style=\"color: #008000; text-decoration-color: #008000\">'900 988 4941'</span>, <span style=\"color: #008000; text-decoration-color: #008000\">'P98000091060'</span><span style=\"font-weight: bold\">]</span>,\n",
       "      <span style=\"color: #808000; text-decoration-color: #808000\">dtype</span>=<span style=\"color: #800080; text-decoration-color: #800080\">object</span><span style=\"font-weight: bold\">)</span>\n",
       "</pre>\n"
      ],
      "text/plain": [
       "\n",
       "\u001b[1;35marray\u001b[0m\u001b[1m(\u001b[0m\u001b[1m[\u001b[0m\u001b[32m'B87709341'\u001b[0m, \u001b[32m'NO APLICA'\u001b[0m, \u001b[32m'C123'\u001b[0m,\n",
       "       \u001b[32m'CLUB DEPORTIVO DE FUTBOL ATLETICO ARAUCA'\u001b[0m,\n",
       "       \u001b[32m'CLUB DE COLEO SIFRINITO RANCH'\u001b[0m, \u001b[32m'DMYJ EDITORES GRAFICOS'\u001b[0m,\n",
       "       \u001b[32m'B85846319'\u001b[0m, \u001b[32m'S34392'\u001b[0m, \u001b[32m'NAXXX'\u001b[0m, \u001b[32m'B85489276'\u001b[0m, \u001b[32m'xxxx'\u001b[0m, \u001b[32m'XXXXXX'\u001b[0m,\n",
       "       \u001b[32m'L18000015430'\u001b[0m, \u001b[32m'NA22222'\u001b[0m, \u001b[32m'N520042185'\u001b[0m, \u001b[32m'PDTE'\u001b[0m, \u001b[32m'CONSORCIO I3'\u001b[0m,\n",
       "       \u001b[32m'19966801739513 DV 63'\u001b[0m, \u001b[32m'no aplica'\u001b[0m, \u001b[32m'B91552851'\u001b[0m, \u001b[32m'HRB6960KI'\u001b[0m,\n",
       "       \u001b[32m'EME930203ET3'\u001b[0m, \u001b[32m'A28006104'\u001b[0m, \u001b[32m'HRB21570HB'\u001b[0m, \u001b[32m'1O316988'\u001b[0m, \u001b[32m'Biblioeb'\u001b[0m,\n",
       "       \u001b[32m'BDE101104V63'\u001b[0m, \u001b[32m'NA'\u001b[0m, \u001b[32m'PCC4'\u001b[0m, \u001b[32m''\u001b[0m, \u001b[32m'X'\u001b[0m, \u001b[32m'RUC 9905291534103 DV 22'\u001b[0m,\n",
       "       \u001b[32m'XDD351246'\u001b[0m, \u001b[32m'DOCUMENTO DE CONSTITUCION'\u001b[0m, \u001b[32m'G46421988'\u001b[0m,\n",
       "       \u001b[32m'CIF 8176032558'\u001b[0m, \u001b[32m'B97686158'\u001b[0m, \u001b[32m'P94000039738'\u001b[0m, \u001b[32m'P05000069902'\u001b[0m,\n",
       "       \u001b[32m'CHE243507863'\u001b[0m, \u001b[32m'ESB97223689'\u001b[0m, \u001b[32m'B97 22 36 89'\u001b[0m,\n",
       "       \u001b[32m'RICARD RESPUESTAS INTEGRADAS SAS'\u001b[0m, \u001b[32m'19273 780'\u001b[0m, \u001b[32m'ESG48975767'\u001b[0m,\n",
       "       \u001b[32m'Arus SA'\u001b[0m, \u001b[32m'9 0 1 1 8 6 3 5 3'\u001b[0m, \u001b[32m'BRAYAN ANDRES TORRES AGUILAR'\u001b[0m,\n",
       "       \u001b[32m'acta conformacion 001'\u001b[0m, \u001b[32m'1113782504 6'\u001b[0m, \u001b[32m'8440013438  413292475'\u001b[0m,\n",
       "       \u001b[32m'No Registrado'\u001b[0m, \u001b[32m'510150011319915 DV 20'\u001b[0m, \u001b[32m'NO APLICAR'\u001b[0m,\n",
       "       \u001b[32m'consorcio'\u001b[0m, \u001b[32m'9 0 1 4 4 0 7 5 4 0'\u001b[0m, \u001b[32m'CNPJ14192913000161'\u001b[0m,\n",
       "       \u001b[32m'PAL120109KDA'\u001b[0m, \u001b[32m'INYPSA INFORMES Y PROYECTOS SA SUC CO'\u001b[0m,\n",
       "       \u001b[32m'AAC345317'\u001b[0m, \u001b[32m'no constituido'\u001b[0m, \u001b[32m'acta ut'\u001b[0m, \u001b[32m'PODEFINIR'\u001b[0m,\n",
       "       \u001b[32m'SX070801QR5'\u001b[0m, \u001b[32m'CONSORCIO EDUCATIVO DMS 2022'\u001b[0m, \u001b[32m'A81311573'\u001b[0m,\n",
       "       \u001b[32m'R2800395B'\u001b[0m, \u001b[32m'7 0 5 7 8 5 9 5'\u001b[0m, \u001b[32m'B85859445'\u001b[0m, \u001b[32m'SAG9705099J8'\u001b[0m,\n",
       "       \u001b[32m'91110000100000817X'\u001b[0m, \u001b[32m'NAA'\u001b[0m, \u001b[32m'MAUTO VEHICULOS'\u001b[0m, \u001b[32m'DE812987573'\u001b[0m,\n",
       "       \u001b[32m'DE811851125'\u001b[0m, \u001b[32m'DE125572013'\u001b[0m, \u001b[32m'CHINO ORKS AMERICA INC'\u001b[0m,\n",
       "       \u001b[32m'No Aplica union temporal'\u001b[0m, \u001b[32m'900 988 4941'\u001b[0m, \u001b[32m'P98000091060'\u001b[0m\u001b[1m]\u001b[0m,\n",
       "      \u001b[33mdtype\u001b[0m=\u001b[35mobject\u001b[0m\u001b[1m)\u001b[0m\n"
      ]
     },
     "metadata": {},
     "output_type": "display_data"
    },
    {
     "data": {
      "text/html": [
       "<pre style=\"white-space:pre;overflow-x:auto;line-height:normal;font-family:Menlo,'DejaVu Sans Mono',consolas,'Courier New',monospace\"><span style=\"font-weight: bold\">&lt;</span><span style=\"color: #ff00ff; text-decoration-color: #ff00ff; font-weight: bold\">IPython.core.display.Javascript</span><span style=\"color: #000000; text-decoration-color: #000000\"> object</span><span style=\"font-weight: bold\">&gt;</span>\n",
       "</pre>\n"
      ],
      "text/plain": [
       "\u001b[1m<\u001b[0m\u001b[1;95mIPython.core.display.Javascript\u001b[0m\u001b[39m object\u001b[0m\u001b[1m>\u001b[0m\n"
      ]
     },
     "metadata": {},
     "output_type": "display_data"
    },
    {
     "data": {
      "application/javascript": [
       "\n",
       "            setTimeout(function() {\n",
       "                var nbb_cell_id = 25;\n",
       "                var nbb_unformatted_code = \"asd['nit_del_proveedor_adjudicado'].unique()\";\n",
       "                var nbb_formatted_code = \"asd[\\\"nit_del_proveedor_adjudicado\\\"].unique()\";\n",
       "                var nbb_cells = Jupyter.notebook.get_cells();\n",
       "                for (var i = 0; i < nbb_cells.length; ++i) {\n",
       "                    if (nbb_cells[i].input_prompt_number == nbb_cell_id) {\n",
       "                        if (nbb_cells[i].get_text() == nbb_unformatted_code) {\n",
       "                             nbb_cells[i].set_text(nbb_formatted_code);\n",
       "                        }\n",
       "                        break;\n",
       "                    }\n",
       "                }\n",
       "            }, 500);\n",
       "            "
      ]
     },
     "metadata": {},
     "output_type": "display_data"
    }
   ],
   "source": [
    "asd[\"nit_del_proveedor_adjudicado\"].unique()"
   ]
  },
  {
   "cell_type": "code",
   "execution_count": 16,
   "id": "235b01f8",
   "metadata": {
    "scrolled": false
   },
   "outputs": [
    {
     "data": {
      "text/html": [
       "<pre style=\"white-space:pre;overflow-x:auto;line-height:normal;font-family:Menlo,'DejaVu Sans Mono',consolas,'Courier New',monospace\"><span style=\"color: #800000; text-decoration-color: #800000\">╭─────────────────────────────── </span><span style=\"color: #800000; text-decoration-color: #800000; font-weight: bold\">Traceback </span><span style=\"color: #bf7f7f; text-decoration-color: #bf7f7f; font-weight: bold\">(most recent call last)</span><span style=\"color: #800000; text-decoration-color: #800000\"> ────────────────────────────────╮</span>\n",
       "<span style=\"color: #800000; text-decoration-color: #800000\">│</span> <span style=\"color: #bfbf7f; text-decoration-color: #bfbf7f\">/var/folders/89/9jx5xq1j4b979h8c76h2dzjr0000gn/T/ipykernel_2374/</span><span style=\"color: #808000; text-decoration-color: #808000; font-weight: bold\">713874498.py</span>:<span style=\"color: #0000ff; text-decoration-color: #0000ff\">1</span> in <span style=\"color: #00ff00; text-decoration-color: #00ff00\">&lt;cell line: 1&gt;</span> <span style=\"color: #800000; text-decoration-color: #800000\">│</span>\n",
       "<span style=\"color: #800000; text-decoration-color: #800000\">│</span>                                                                                                  <span style=\"color: #800000; text-decoration-color: #800000\">│</span>\n",
       "<span style=\"color: #800000; text-decoration-color: #800000\">│</span> <span style=\"color: #800000; text-decoration-color: #800000; font-style: italic\">[Errno 2] No such file or directory: </span>                                                            <span style=\"color: #800000; text-decoration-color: #800000\">│</span>\n",
       "<span style=\"color: #800000; text-decoration-color: #800000\">│</span> <span style=\"color: #800000; text-decoration-color: #800000; font-style: italic\">'/var/folders/89/9jx5xq1j4b979h8c76h2dzjr0000gn/T/ipykernel_2374/713874498.py'</span>                   <span style=\"color: #800000; text-decoration-color: #800000\">│</span>\n",
       "<span style=\"color: #800000; text-decoration-color: #800000\">│</span>                                                                                                  <span style=\"color: #800000; text-decoration-color: #800000\">│</span>\n",
       "<span style=\"color: #800000; text-decoration-color: #800000\">│</span> <span style=\"color: #bfbf7f; text-decoration-color: #bfbf7f\">/opt/homebrew/Caskroom/miniforge/base/envs/dm_project/lib/python3.10/site-packages/pandas/core/</span><span style=\"color: #808000; text-decoration-color: #808000; font-weight: bold\">g</span> <span style=\"color: #800000; text-decoration-color: #800000\">│</span>\n",
       "<span style=\"color: #800000; text-decoration-color: #800000\">│</span> <span style=\"color: #808000; text-decoration-color: #808000; font-weight: bold\">eneric.py</span>:<span style=\"color: #0000ff; text-decoration-color: #0000ff\">5912</span> in <span style=\"color: #00ff00; text-decoration-color: #00ff00\">astype</span>                                                                         <span style=\"color: #800000; text-decoration-color: #800000\">│</span>\n",
       "<span style=\"color: #800000; text-decoration-color: #800000\">│</span>                                                                                                  <span style=\"color: #800000; text-decoration-color: #800000\">│</span>\n",
       "<span style=\"color: #800000; text-decoration-color: #800000\">│</span>   <span style=\"color: #7f7f7f; text-decoration-color: #7f7f7f\"> 5909 │   │   </span>                                                                                 <span style=\"color: #800000; text-decoration-color: #800000\">│</span>\n",
       "<span style=\"color: #800000; text-decoration-color: #800000\">│</span>   <span style=\"color: #7f7f7f; text-decoration-color: #7f7f7f\"> 5910 │   │   </span><span style=\"color: #0000ff; text-decoration-color: #0000ff\">else</span>:                                                                            <span style=\"color: #800000; text-decoration-color: #800000\">│</span>\n",
       "<span style=\"color: #800000; text-decoration-color: #800000\">│</span>   <span style=\"color: #7f7f7f; text-decoration-color: #7f7f7f\"> 5911 │   │   │   # else, only a single dtype is given</span>                                         <span style=\"color: #800000; text-decoration-color: #800000\">│</span>\n",
       "<span style=\"color: #800000; text-decoration-color: #800000\">│</span> <span style=\"color: #800000; text-decoration-color: #800000\">❱ </span> 5912 <span style=\"color: #7f7f7f; text-decoration-color: #7f7f7f\">│   │   │   </span>new_data = <span style=\"color: #00ffff; text-decoration-color: #00ffff\">self</span>._mgr.astype(dtype=dtype, copy=copy, errors=errors)           <span style=\"color: #800000; text-decoration-color: #800000\">│</span>\n",
       "<span style=\"color: #800000; text-decoration-color: #800000\">│</span>   <span style=\"color: #7f7f7f; text-decoration-color: #7f7f7f\"> 5913 │   │   │   </span><span style=\"color: #0000ff; text-decoration-color: #0000ff\">return</span> <span style=\"color: #00ffff; text-decoration-color: #00ffff\">self</span>._constructor(new_data).__finalize__(<span style=\"color: #00ffff; text-decoration-color: #00ffff\">self</span>, method=<span style=\"color: #808000; text-decoration-color: #808000\">\"astype\"</span>)       <span style=\"color: #800000; text-decoration-color: #800000\">│</span>\n",
       "<span style=\"color: #800000; text-decoration-color: #800000\">│</span>   <span style=\"color: #7f7f7f; text-decoration-color: #7f7f7f\"> 5914 │   │   </span>                                                                                 <span style=\"color: #800000; text-decoration-color: #800000\">│</span>\n",
       "<span style=\"color: #800000; text-decoration-color: #800000\">│</span>   <span style=\"color: #7f7f7f; text-decoration-color: #7f7f7f\"> 5915 │   │   # GH 33113: handle empty frame or series</span>                                         <span style=\"color: #800000; text-decoration-color: #800000\">│</span>\n",
       "<span style=\"color: #800000; text-decoration-color: #800000\">│</span>                                                                                                  <span style=\"color: #800000; text-decoration-color: #800000\">│</span>\n",
       "<span style=\"color: #800000; text-decoration-color: #800000\">│</span> <span style=\"color: #808000; text-decoration-color: #808000\">╭────────────────────────────────── locals ───────────────────────────────────╮</span>                  <span style=\"color: #800000; text-decoration-color: #800000\">│</span>\n",
       "<span style=\"color: #800000; text-decoration-color: #800000\">│</span> <span style=\"color: #808000; text-decoration-color: #808000\">│</span>   copy = <span style=\"color: #0000ff; text-decoration-color: #0000ff\">True</span>                                                               <span style=\"color: #808000; text-decoration-color: #808000\">│</span>                  <span style=\"color: #800000; text-decoration-color: #800000\">│</span>\n",
       "<span style=\"color: #800000; text-decoration-color: #800000\">│</span> <span style=\"color: #808000; text-decoration-color: #808000\">│</span>  dtype = <span style=\"font-weight: bold\">&lt;</span><span style=\"color: #ff00ff; text-decoration-color: #ff00ff; font-weight: bold\">class</span><span style=\"color: #000000; text-decoration-color: #000000\"> </span><span style=\"color: #808000; text-decoration-color: #808000\">'int'</span><span style=\"font-weight: bold\">&gt;</span>                                                      <span style=\"color: #808000; text-decoration-color: #808000\">│</span>                  <span style=\"color: #800000; text-decoration-color: #800000\">│</span>\n",
       "<span style=\"color: #800000; text-decoration-color: #800000\">│</span> <span style=\"color: #808000; text-decoration-color: #808000\">│</span> errors = <span style=\"color: #808000; text-decoration-color: #808000\">'raise'</span>                                                            <span style=\"color: #808000; text-decoration-color: #808000\">│</span>                  <span style=\"color: #800000; text-decoration-color: #800000\">│</span>\n",
       "<span style=\"color: #800000; text-decoration-color: #800000\">│</span> <span style=\"color: #808000; text-decoration-color: #808000\">│</span>   self = <span style=\"color: #0000ff; text-decoration-color: #0000ff\">0</span>                  <span style=\"color: #0000ff; text-decoration-color: #0000ff\">0</span>                                               <span style=\"color: #808000; text-decoration-color: #808000\">│</span>                  <span style=\"color: #800000; text-decoration-color: #800000\">│</span>\n",
       "<span style=\"color: #800000; text-decoration-color: #800000\">│</span> <span style=\"color: #808000; text-decoration-color: #808000\">│</span>          <span style=\"color: #0000ff; text-decoration-color: #0000ff\">1</span>                  <span style=\"color: #0000ff; text-decoration-color: #0000ff\">0</span>                                               <span style=\"color: #808000; text-decoration-color: #808000\">│</span>                  <span style=\"color: #800000; text-decoration-color: #800000\">│</span>\n",
       "<span style=\"color: #800000; text-decoration-color: #800000\">│</span> <span style=\"color: #808000; text-decoration-color: #808000\">│</span>          <span style=\"color: #0000ff; text-decoration-color: #0000ff\">4</span>                  <span style=\"color: #0000ff; text-decoration-color: #0000ff\">0</span>                                               <span style=\"color: #808000; text-decoration-color: #808000\">│</span>                  <span style=\"color: #800000; text-decoration-color: #800000\">│</span>\n",
       "<span style=\"color: #800000; text-decoration-color: #800000\">│</span> <span style=\"color: #808000; text-decoration-color: #808000\">│</span>          <span style=\"color: #0000ff; text-decoration-color: #0000ff\">5</span>                  <span style=\"color: #0000ff; text-decoration-color: #0000ff\">0</span>                                               <span style=\"color: #808000; text-decoration-color: #808000\">│</span>                  <span style=\"color: #800000; text-decoration-color: #800000\">│</span>\n",
       "<span style=\"color: #800000; text-decoration-color: #800000\">│</span> <span style=\"color: #808000; text-decoration-color: #808000\">│</span>          <span style=\"color: #0000ff; text-decoration-color: #0000ff\">6</span>                  <span style=\"color: #0000ff; text-decoration-color: #0000ff\">0</span>                                               <span style=\"color: #808000; text-decoration-color: #808000\">│</span>                  <span style=\"color: #800000; text-decoration-color: #800000\">│</span>\n",
       "<span style=\"color: #800000; text-decoration-color: #800000\">│</span> <span style=\"color: #808000; text-decoration-color: #808000\">│</span>          <span style=\"color: #7f7f7f; text-decoration-color: #7f7f7f\">│   │   │    </span><span style=\"color: #808000; text-decoration-color: #808000\">...</span>                                                   <span style=\"color: #808000; text-decoration-color: #808000\">│</span>                  <span style=\"color: #800000; text-decoration-color: #800000\">│</span>\n",
       "<span style=\"color: #800000; text-decoration-color: #800000\">│</span> <span style=\"color: #808000; text-decoration-color: #808000\">│</span>          <span style=\"color: #0000ff; text-decoration-color: #0000ff\">1861368</span>    <span style=\"color: #0000ff; text-decoration-color: #0000ff\">860002400</span>                                               <span style=\"color: #808000; text-decoration-color: #808000\">│</span>                  <span style=\"color: #800000; text-decoration-color: #800000\">│</span>\n",
       "<span style=\"color: #800000; text-decoration-color: #800000\">│</span> <span style=\"color: #808000; text-decoration-color: #808000\">│</span>          <span style=\"color: #0000ff; text-decoration-color: #0000ff\">1861369</span>            <span style=\"color: #0000ff; text-decoration-color: #0000ff\">0</span>                                               <span style=\"color: #808000; text-decoration-color: #808000\">│</span>                  <span style=\"color: #800000; text-decoration-color: #800000\">│</span>\n",
       "<span style=\"color: #800000; text-decoration-color: #800000\">│</span> <span style=\"color: #808000; text-decoration-color: #808000\">│</span>          <span style=\"color: #0000ff; text-decoration-color: #0000ff\">1861370</span>            <span style=\"color: #0000ff; text-decoration-color: #0000ff\">0</span>                                               <span style=\"color: #808000; text-decoration-color: #808000\">│</span>                  <span style=\"color: #800000; text-decoration-color: #800000\">│</span>\n",
       "<span style=\"color: #800000; text-decoration-color: #800000\">│</span> <span style=\"color: #808000; text-decoration-color: #808000\">│</span>          <span style=\"color: #0000ff; text-decoration-color: #0000ff\">1861371</span>            <span style=\"color: #0000ff; text-decoration-color: #0000ff\">0</span>                                               <span style=\"color: #808000; text-decoration-color: #808000\">│</span>                  <span style=\"color: #800000; text-decoration-color: #800000\">│</span>\n",
       "<span style=\"color: #800000; text-decoration-color: #800000\">│</span> <span style=\"color: #808000; text-decoration-color: #808000\">│</span>          <span style=\"color: #0000ff; text-decoration-color: #0000ff\">1861372</span>    <span style=\"color: #0000ff; text-decoration-color: #0000ff\">901280006</span>                                               <span style=\"color: #808000; text-decoration-color: #808000\">│</span>                  <span style=\"color: #800000; text-decoration-color: #800000\">│</span>\n",
       "<span style=\"color: #800000; text-decoration-color: #800000\">│</span> <span style=\"color: #808000; text-decoration-color: #808000\">│</span>          Name: nit_del_proveedor_adjudicado, Length: <span style=\"color: #0000ff; text-decoration-color: #0000ff\">1804763</span>, dtype: object <span style=\"color: #808000; text-decoration-color: #808000\">│</span>                  <span style=\"color: #800000; text-decoration-color: #800000\">│</span>\n",
       "<span style=\"color: #800000; text-decoration-color: #800000\">│</span> <span style=\"color: #808000; text-decoration-color: #808000\">╰─────────────────────────────────────────────────────────────────────────────╯</span>                  <span style=\"color: #800000; text-decoration-color: #800000\">│</span>\n",
       "<span style=\"color: #800000; text-decoration-color: #800000\">│</span>                                                                                                  <span style=\"color: #800000; text-decoration-color: #800000\">│</span>\n",
       "<span style=\"color: #800000; text-decoration-color: #800000\">│</span> <span style=\"color: #bfbf7f; text-decoration-color: #bfbf7f\">/opt/homebrew/Caskroom/miniforge/base/envs/dm_project/lib/python3.10/site-packages/pandas/core/i</span> <span style=\"color: #800000; text-decoration-color: #800000\">│</span>\n",
       "<span style=\"color: #800000; text-decoration-color: #800000\">│</span> <span style=\"color: #bfbf7f; text-decoration-color: #bfbf7f\">nternals/</span><span style=\"color: #808000; text-decoration-color: #808000; font-weight: bold\">managers.py</span>:<span style=\"color: #0000ff; text-decoration-color: #0000ff\">419</span> in <span style=\"color: #00ff00; text-decoration-color: #00ff00\">astype</span>                                                               <span style=\"color: #800000; text-decoration-color: #800000\">│</span>\n",
       "<span style=\"color: #800000; text-decoration-color: #800000\">│</span>                                                                                                  <span style=\"color: #800000; text-decoration-color: #800000\">│</span>\n",
       "<span style=\"color: #800000; text-decoration-color: #800000\">│</span>   <span style=\"color: #7f7f7f; text-decoration-color: #7f7f7f\"> 416 │   │   </span>)                                                                                 <span style=\"color: #800000; text-decoration-color: #800000\">│</span>\n",
       "<span style=\"color: #800000; text-decoration-color: #800000\">│</span>   <span style=\"color: #7f7f7f; text-decoration-color: #7f7f7f\"> 417 │   </span>                                                                                      <span style=\"color: #800000; text-decoration-color: #800000\">│</span>\n",
       "<span style=\"color: #800000; text-decoration-color: #800000\">│</span>   <span style=\"color: #7f7f7f; text-decoration-color: #7f7f7f\"> 418 │   </span><span style=\"color: #0000ff; text-decoration-color: #0000ff\">def</span> <span style=\"color: #00ff00; text-decoration-color: #00ff00\">astype</span>(<span style=\"color: #00ffff; text-decoration-color: #00ffff\">self</span>: T, dtype, copy: <span style=\"color: #00ffff; text-decoration-color: #00ffff\">bool</span> = <span style=\"color: #0000ff; text-decoration-color: #0000ff\">False</span>, errors: <span style=\"color: #00ffff; text-decoration-color: #00ffff\">str</span> = <span style=\"color: #808000; text-decoration-color: #808000\">\"raise\"</span>) -&gt; T:           <span style=\"color: #800000; text-decoration-color: #800000\">│</span>\n",
       "<span style=\"color: #800000; text-decoration-color: #800000\">│</span> <span style=\"color: #800000; text-decoration-color: #800000\">❱ </span> 419 <span style=\"color: #7f7f7f; text-decoration-color: #7f7f7f\">│   │   </span><span style=\"color: #0000ff; text-decoration-color: #0000ff\">return</span> <span style=\"color: #00ffff; text-decoration-color: #00ffff\">self</span>.apply(<span style=\"color: #808000; text-decoration-color: #808000\">\"astype\"</span>, dtype=dtype, copy=copy, errors=errors)                <span style=\"color: #800000; text-decoration-color: #800000\">│</span>\n",
       "<span style=\"color: #800000; text-decoration-color: #800000\">│</span>   <span style=\"color: #7f7f7f; text-decoration-color: #7f7f7f\"> 420 │   </span>                                                                                      <span style=\"color: #800000; text-decoration-color: #800000\">│</span>\n",
       "<span style=\"color: #800000; text-decoration-color: #800000\">│</span>   <span style=\"color: #7f7f7f; text-decoration-color: #7f7f7f\"> 421 │   </span><span style=\"color: #0000ff; text-decoration-color: #0000ff\">def</span> <span style=\"color: #00ff00; text-decoration-color: #00ff00\">convert</span>(                                                                          <span style=\"color: #800000; text-decoration-color: #800000\">│</span>\n",
       "<span style=\"color: #800000; text-decoration-color: #800000\">│</span>   <span style=\"color: #7f7f7f; text-decoration-color: #7f7f7f\"> 422 │   │   </span><span style=\"color: #00ffff; text-decoration-color: #00ffff\">self</span>: T,                                                                          <span style=\"color: #800000; text-decoration-color: #800000\">│</span>\n",
       "<span style=\"color: #800000; text-decoration-color: #800000\">│</span>                                                                                                  <span style=\"color: #800000; text-decoration-color: #800000\">│</span>\n",
       "<span style=\"color: #800000; text-decoration-color: #800000\">│</span> <span style=\"color: #808000; text-decoration-color: #808000\">╭────────────────────────────────────────── locals ──────────────────────────────────────────╮</span>   <span style=\"color: #800000; text-decoration-color: #800000\">│</span>\n",
       "<span style=\"color: #800000; text-decoration-color: #800000\">│</span> <span style=\"color: #808000; text-decoration-color: #808000\">│</span>   copy = <span style=\"color: #0000ff; text-decoration-color: #0000ff\">True</span>                                                                              <span style=\"color: #808000; text-decoration-color: #808000\">│</span>   <span style=\"color: #800000; text-decoration-color: #800000\">│</span>\n",
       "<span style=\"color: #800000; text-decoration-color: #800000\">│</span> <span style=\"color: #808000; text-decoration-color: #808000\">│</span>  dtype = <span style=\"font-weight: bold\">&lt;</span><span style=\"color: #ff00ff; text-decoration-color: #ff00ff; font-weight: bold\">class</span><span style=\"color: #000000; text-decoration-color: #000000\"> </span><span style=\"color: #808000; text-decoration-color: #808000\">'int'</span><span style=\"font-weight: bold\">&gt;</span>                                                                     <span style=\"color: #808000; text-decoration-color: #808000\">│</span>   <span style=\"color: #800000; text-decoration-color: #800000\">│</span>\n",
       "<span style=\"color: #800000; text-decoration-color: #800000\">│</span> <span style=\"color: #808000; text-decoration-color: #808000\">│</span> errors = <span style=\"color: #808000; text-decoration-color: #808000\">'raise'</span>                                                                           <span style=\"color: #808000; text-decoration-color: #808000\">│</span>   <span style=\"color: #800000; text-decoration-color: #800000\">│</span>\n",
       "<span style=\"color: #800000; text-decoration-color: #800000\">│</span> <span style=\"color: #808000; text-decoration-color: #808000\">│</span>   self = SingleBlockManager                                                                <span style=\"color: #808000; text-decoration-color: #808000\">│</span>   <span style=\"color: #800000; text-decoration-color: #800000\">│</span>\n",
       "<span style=\"color: #800000; text-decoration-color: #800000\">│</span> <span style=\"color: #808000; text-decoration-color: #808000\">│</span>          Items: <span style=\"color: #800080; text-decoration-color: #800080; font-weight: bold\">Int64Index</span><span style=\"font-weight: bold\">([</span>      <span style=\"color: #0000ff; text-decoration-color: #0000ff\">0</span>,       <span style=\"color: #0000ff; text-decoration-color: #0000ff\">1</span>,       <span style=\"color: #0000ff; text-decoration-color: #0000ff\">4</span>,       <span style=\"color: #0000ff; text-decoration-color: #0000ff\">5</span>,       <span style=\"color: #0000ff; text-decoration-color: #0000ff\">6</span>,       <span style=\"color: #0000ff; text-decoration-color: #0000ff\">7</span>,       <span style=\"color: #0000ff; text-decoration-color: #0000ff\">8</span>, <span style=\"color: #808000; text-decoration-color: #808000\">│</span>   <span style=\"color: #800000; text-decoration-color: #800000\">│</span>\n",
       "<span style=\"color: #800000; text-decoration-color: #800000\">│</span> <span style=\"color: #808000; text-decoration-color: #808000\">│</span>          <span style=\"color: #7f7f7f; text-decoration-color: #7f7f7f\">│   │   │   │     </span><span style=\"color: #0000ff; text-decoration-color: #0000ff\">9</span>,      <span style=\"color: #0000ff; text-decoration-color: #0000ff\">10</span>,      <span style=\"color: #0000ff; text-decoration-color: #0000ff\">11</span>,                                            <span style=\"color: #808000; text-decoration-color: #808000\">│</span>   <span style=\"color: #800000; text-decoration-color: #800000\">│</span>\n",
       "<span style=\"color: #800000; text-decoration-color: #800000\">│</span> <span style=\"color: #808000; text-decoration-color: #808000\">│</span>          <span style=\"color: #7f7f7f; text-decoration-color: #7f7f7f\">│   │   │   </span><span style=\"color: #808000; text-decoration-color: #808000\">...</span>                                                                   <span style=\"color: #808000; text-decoration-color: #808000\">│</span>   <span style=\"color: #800000; text-decoration-color: #800000\">│</span>\n",
       "<span style=\"color: #800000; text-decoration-color: #800000\">│</span> <span style=\"color: #808000; text-decoration-color: #808000\">│</span>          <span style=\"color: #7f7f7f; text-decoration-color: #7f7f7f\">│   │   │   </span><span style=\"color: #0000ff; text-decoration-color: #0000ff\">1861363</span>, <span style=\"color: #0000ff; text-decoration-color: #0000ff\">1861364</span>, <span style=\"color: #0000ff; text-decoration-color: #0000ff\">1861365</span>, <span style=\"color: #0000ff; text-decoration-color: #0000ff\">1861366</span>, <span style=\"color: #0000ff; text-decoration-color: #0000ff\">1861367</span>, <span style=\"color: #0000ff; text-decoration-color: #0000ff\">1861368</span>, <span style=\"color: #0000ff; text-decoration-color: #0000ff\">1861369</span>,        <span style=\"color: #808000; text-decoration-color: #808000\">│</span>   <span style=\"color: #800000; text-decoration-color: #800000\">│</span>\n",
       "<span style=\"color: #800000; text-decoration-color: #800000\">│</span> <span style=\"color: #808000; text-decoration-color: #808000\">│</span>          <span style=\"color: #7f7f7f; text-decoration-color: #7f7f7f\">│   │   │   </span><span style=\"color: #0000ff; text-decoration-color: #0000ff\">1861370</span>, <span style=\"color: #0000ff; text-decoration-color: #0000ff\">1861371</span>, <span style=\"color: #0000ff; text-decoration-color: #0000ff\">1861372</span><span style=\"font-weight: bold\">]</span>,                                           <span style=\"color: #808000; text-decoration-color: #808000\">│</span>   <span style=\"color: #800000; text-decoration-color: #800000\">│</span>\n",
       "<span style=\"color: #800000; text-decoration-color: #800000\">│</span> <span style=\"color: #808000; text-decoration-color: #808000\">│</span>          <span style=\"color: #7f7f7f; text-decoration-color: #7f7f7f\">│   │      </span><span style=\"color: #808000; text-decoration-color: #808000\">dtype</span>=<span style=\"color: #808000; text-decoration-color: #808000\">'int64'</span>, <span style=\"color: #808000; text-decoration-color: #808000\">length</span>=<span style=\"color: #0000ff; text-decoration-color: #0000ff\">1804763</span><span style=\"font-weight: bold\">)</span>                                         <span style=\"color: #808000; text-decoration-color: #808000\">│</span>   <span style=\"color: #800000; text-decoration-color: #800000\">│</span>\n",
       "<span style=\"color: #800000; text-decoration-color: #800000\">│</span> <span style=\"color: #808000; text-decoration-color: #808000\">│</span>          ObjectBlock: <span style=\"color: #0000ff; text-decoration-color: #0000ff\">1804763</span> dtype: object                                                <span style=\"color: #808000; text-decoration-color: #808000\">│</span>   <span style=\"color: #800000; text-decoration-color: #800000\">│</span>\n",
       "<span style=\"color: #800000; text-decoration-color: #800000\">│</span> <span style=\"color: #808000; text-decoration-color: #808000\">╰────────────────────────────────────────────────────────────────────────────────────────────╯</span>   <span style=\"color: #800000; text-decoration-color: #800000\">│</span>\n",
       "<span style=\"color: #800000; text-decoration-color: #800000\">│</span>                                                                                                  <span style=\"color: #800000; text-decoration-color: #800000\">│</span>\n",
       "<span style=\"color: #800000; text-decoration-color: #800000\">│</span> <span style=\"color: #bfbf7f; text-decoration-color: #bfbf7f\">/opt/homebrew/Caskroom/miniforge/base/envs/dm_project/lib/python3.10/site-packages/pandas/core/i</span> <span style=\"color: #800000; text-decoration-color: #800000\">│</span>\n",
       "<span style=\"color: #800000; text-decoration-color: #800000\">│</span> <span style=\"color: #bfbf7f; text-decoration-color: #bfbf7f\">nternals/</span><span style=\"color: #808000; text-decoration-color: #808000; font-weight: bold\">managers.py</span>:<span style=\"color: #0000ff; text-decoration-color: #0000ff\">304</span> in <span style=\"color: #00ff00; text-decoration-color: #00ff00\">apply</span>                                                                <span style=\"color: #800000; text-decoration-color: #800000\">│</span>\n",
       "<span style=\"color: #800000; text-decoration-color: #800000\">│</span>                                                                                                  <span style=\"color: #800000; text-decoration-color: #800000\">│</span>\n",
       "<span style=\"color: #800000; text-decoration-color: #800000\">│</span>   <span style=\"color: #7f7f7f; text-decoration-color: #7f7f7f\"> 301 │   │   │   │   </span><span style=\"color: #0000ff; text-decoration-color: #0000ff\">if</span> callable(f):                                                           <span style=\"color: #800000; text-decoration-color: #800000\">│</span>\n",
       "<span style=\"color: #800000; text-decoration-color: #800000\">│</span>   <span style=\"color: #7f7f7f; text-decoration-color: #7f7f7f\"> 302 │   │   │   │   │   </span>applied = b.apply(f, **kwargs)                                        <span style=\"color: #800000; text-decoration-color: #800000\">│</span>\n",
       "<span style=\"color: #800000; text-decoration-color: #800000\">│</span>   <span style=\"color: #7f7f7f; text-decoration-color: #7f7f7f\"> 303 │   │   │   │   </span><span style=\"color: #0000ff; text-decoration-color: #0000ff\">else</span>:                                                                     <span style=\"color: #800000; text-decoration-color: #800000\">│</span>\n",
       "<span style=\"color: #800000; text-decoration-color: #800000\">│</span> <span style=\"color: #800000; text-decoration-color: #800000\">❱ </span> 304 <span style=\"color: #7f7f7f; text-decoration-color: #7f7f7f\">│   │   │   │   │   </span>applied = <span style=\"color: #00ffff; text-decoration-color: #00ffff\">getattr</span>(b, f)(**kwargs)                                     <span style=\"color: #800000; text-decoration-color: #800000\">│</span>\n",
       "<span style=\"color: #800000; text-decoration-color: #800000\">│</span>   <span style=\"color: #7f7f7f; text-decoration-color: #7f7f7f\"> 305 │   │   │   </span><span style=\"color: #0000ff; text-decoration-color: #0000ff\">except</span> (<span style=\"color: #00ffff; text-decoration-color: #00ffff\">TypeError</span>, <span style=\"color: #00ffff; text-decoration-color: #00ffff\">NotImplementedError</span>):                                      <span style=\"color: #800000; text-decoration-color: #800000\">│</span>\n",
       "<span style=\"color: #800000; text-decoration-color: #800000\">│</span>   <span style=\"color: #7f7f7f; text-decoration-color: #7f7f7f\"> 306 │   │   │   │   </span><span style=\"color: #0000ff; text-decoration-color: #0000ff\">if</span> <span style=\"color: #ff00ff; text-decoration-color: #ff00ff\">not</span> ignore_failures:                                                   <span style=\"color: #800000; text-decoration-color: #800000\">│</span>\n",
       "<span style=\"color: #800000; text-decoration-color: #800000\">│</span>   <span style=\"color: #7f7f7f; text-decoration-color: #7f7f7f\"> 307 │   │   │   │   │   </span><span style=\"color: #0000ff; text-decoration-color: #0000ff\">raise</span>                                                                 <span style=\"color: #800000; text-decoration-color: #800000\">│</span>\n",
       "<span style=\"color: #800000; text-decoration-color: #800000\">│</span>                                                                                                  <span style=\"color: #800000; text-decoration-color: #800000\">│</span>\n",
       "<span style=\"color: #800000; text-decoration-color: #800000\">│</span> <span style=\"color: #808000; text-decoration-color: #808000\">╭─────────────────────────────────────────── locals ───────────────────────────────────────────╮</span> <span style=\"color: #800000; text-decoration-color: #800000\">│</span>\n",
       "<span style=\"color: #800000; text-decoration-color: #800000\">│</span> <span style=\"color: #808000; text-decoration-color: #808000\">│</span>      align_keys = <span style=\"font-weight: bold\">[]</span>                                                                         <span style=\"color: #808000; text-decoration-color: #808000\">│</span> <span style=\"color: #800000; text-decoration-color: #800000\">│</span>\n",
       "<span style=\"color: #800000; text-decoration-color: #800000\">│</span> <span style=\"color: #808000; text-decoration-color: #808000\">│</span>    aligned_args = <span style=\"font-weight: bold\">{}</span>                                                                         <span style=\"color: #808000; text-decoration-color: #808000\">│</span> <span style=\"color: #800000; text-decoration-color: #800000\">│</span>\n",
       "<span style=\"color: #800000; text-decoration-color: #800000\">│</span> <span style=\"color: #808000; text-decoration-color: #808000\">│</span>               b = ObjectBlock: <span style=\"color: #0000ff; text-decoration-color: #0000ff\">1804763</span> dtype: object                                         <span style=\"color: #808000; text-decoration-color: #808000\">│</span> <span style=\"color: #800000; text-decoration-color: #800000\">│</span>\n",
       "<span style=\"color: #800000; text-decoration-color: #800000\">│</span> <span style=\"color: #808000; text-decoration-color: #808000\">│</span>               f = <span style=\"color: #808000; text-decoration-color: #808000\">'astype'</span>                                                                   <span style=\"color: #808000; text-decoration-color: #808000\">│</span> <span style=\"color: #800000; text-decoration-color: #800000\">│</span>\n",
       "<span style=\"color: #800000; text-decoration-color: #800000\">│</span> <span style=\"color: #808000; text-decoration-color: #808000\">│</span> ignore_failures = <span style=\"color: #0000ff; text-decoration-color: #0000ff\">False</span>                                                                      <span style=\"color: #808000; text-decoration-color: #808000\">│</span> <span style=\"color: #800000; text-decoration-color: #800000\">│</span>\n",
       "<span style=\"color: #800000; text-decoration-color: #800000\">│</span> <span style=\"color: #808000; text-decoration-color: #808000\">│</span>          kwargs = <span style=\"font-weight: bold\">{</span><span style=\"color: #808000; text-decoration-color: #808000\">'dtype'</span>: <span style=\"font-weight: bold\">&lt;</span><span style=\"color: #ff00ff; text-decoration-color: #ff00ff; font-weight: bold\">class</span><span style=\"color: #000000; text-decoration-color: #000000\"> </span><span style=\"color: #808000; text-decoration-color: #808000\">'int'</span><span style=\"font-weight: bold\">&gt;</span>, <span style=\"color: #808000; text-decoration-color: #808000\">'copy'</span>: <span style=\"color: #0000ff; text-decoration-color: #0000ff\">True</span>, <span style=\"color: #808000; text-decoration-color: #808000\">'errors'</span>: <span style=\"color: #808000; text-decoration-color: #808000\">'raise'</span><span style=\"font-weight: bold\">}</span>                  <span style=\"color: #808000; text-decoration-color: #808000\">│</span> <span style=\"color: #800000; text-decoration-color: #800000\">│</span>\n",
       "<span style=\"color: #800000; text-decoration-color: #800000\">│</span> <span style=\"color: #808000; text-decoration-color: #808000\">│</span>   result_blocks = <span style=\"font-weight: bold\">[]</span>                                                                         <span style=\"color: #808000; text-decoration-color: #808000\">│</span> <span style=\"color: #800000; text-decoration-color: #800000\">│</span>\n",
       "<span style=\"color: #800000; text-decoration-color: #800000\">│</span> <span style=\"color: #808000; text-decoration-color: #808000\">│</span>            self = SingleBlockManager                                                         <span style=\"color: #808000; text-decoration-color: #808000\">│</span> <span style=\"color: #800000; text-decoration-color: #800000\">│</span>\n",
       "<span style=\"color: #800000; text-decoration-color: #800000\">│</span> <span style=\"color: #808000; text-decoration-color: #808000\">│</span>                   Items: <span style=\"color: #800080; text-decoration-color: #800080; font-weight: bold\">Int64Index</span><span style=\"font-weight: bold\">([</span>      <span style=\"color: #0000ff; text-decoration-color: #0000ff\">0</span>,       <span style=\"color: #0000ff; text-decoration-color: #0000ff\">1</span>,       <span style=\"color: #0000ff; text-decoration-color: #0000ff\">4</span>,       <span style=\"color: #0000ff; text-decoration-color: #0000ff\">5</span>,       <span style=\"color: #0000ff; text-decoration-color: #0000ff\">6</span>,       <span style=\"color: #0000ff; text-decoration-color: #0000ff\">7</span>,   <span style=\"color: #808000; text-decoration-color: #808000\">│</span> <span style=\"color: #800000; text-decoration-color: #800000\">│</span>\n",
       "<span style=\"color: #800000; text-decoration-color: #800000\">│</span> <span style=\"color: #808000; text-decoration-color: #808000\">│</span>                   <span style=\"color: #0000ff; text-decoration-color: #0000ff\">8</span>,                                                                         <span style=\"color: #808000; text-decoration-color: #808000\">│</span> <span style=\"color: #800000; text-decoration-color: #800000\">│</span>\n",
       "<span style=\"color: #800000; text-decoration-color: #800000\">│</span> <span style=\"color: #808000; text-decoration-color: #808000\">│</span>                   <span style=\"color: #7f7f7f; text-decoration-color: #7f7f7f\">│   │   │   │     </span><span style=\"color: #0000ff; text-decoration-color: #0000ff\">9</span>,      <span style=\"color: #0000ff; text-decoration-color: #0000ff\">10</span>,      <span style=\"color: #0000ff; text-decoration-color: #0000ff\">11</span>,                                     <span style=\"color: #808000; text-decoration-color: #808000\">│</span> <span style=\"color: #800000; text-decoration-color: #800000\">│</span>\n",
       "<span style=\"color: #800000; text-decoration-color: #800000\">│</span> <span style=\"color: #808000; text-decoration-color: #808000\">│</span>                   <span style=\"color: #7f7f7f; text-decoration-color: #7f7f7f\">│   │   │   </span><span style=\"color: #808000; text-decoration-color: #808000\">...</span>                                                            <span style=\"color: #808000; text-decoration-color: #808000\">│</span> <span style=\"color: #800000; text-decoration-color: #800000\">│</span>\n",
       "<span style=\"color: #800000; text-decoration-color: #800000\">│</span> <span style=\"color: #808000; text-decoration-color: #808000\">│</span>                   <span style=\"color: #7f7f7f; text-decoration-color: #7f7f7f\">│   │   │   </span><span style=\"color: #0000ff; text-decoration-color: #0000ff\">1861363</span>, <span style=\"color: #0000ff; text-decoration-color: #0000ff\">1861364</span>, <span style=\"color: #0000ff; text-decoration-color: #0000ff\">1861365</span>, <span style=\"color: #0000ff; text-decoration-color: #0000ff\">1861366</span>, <span style=\"color: #0000ff; text-decoration-color: #0000ff\">1861367</span>, <span style=\"color: #0000ff; text-decoration-color: #0000ff\">1861368</span>, <span style=\"color: #0000ff; text-decoration-color: #0000ff\">1861369</span>, <span style=\"color: #808000; text-decoration-color: #808000\">│</span> <span style=\"color: #800000; text-decoration-color: #800000\">│</span>\n",
       "<span style=\"color: #800000; text-decoration-color: #800000\">│</span> <span style=\"color: #808000; text-decoration-color: #808000\">│</span>                   <span style=\"color: #7f7f7f; text-decoration-color: #7f7f7f\">│   │   │   </span><span style=\"color: #0000ff; text-decoration-color: #0000ff\">1861370</span>, <span style=\"color: #0000ff; text-decoration-color: #0000ff\">1861371</span>, <span style=\"color: #0000ff; text-decoration-color: #0000ff\">1861372</span><span style=\"font-weight: bold\">]</span>,                                    <span style=\"color: #808000; text-decoration-color: #808000\">│</span> <span style=\"color: #800000; text-decoration-color: #800000\">│</span>\n",
       "<span style=\"color: #800000; text-decoration-color: #800000\">│</span> <span style=\"color: #808000; text-decoration-color: #808000\">│</span>                   <span style=\"color: #7f7f7f; text-decoration-color: #7f7f7f\">│   │      </span><span style=\"color: #808000; text-decoration-color: #808000\">dtype</span>=<span style=\"color: #808000; text-decoration-color: #808000\">'int64'</span>, <span style=\"color: #808000; text-decoration-color: #808000\">length</span>=<span style=\"color: #0000ff; text-decoration-color: #0000ff\">1804763</span><span style=\"font-weight: bold\">)</span>                                  <span style=\"color: #808000; text-decoration-color: #808000\">│</span> <span style=\"color: #800000; text-decoration-color: #800000\">│</span>\n",
       "<span style=\"color: #800000; text-decoration-color: #800000\">│</span> <span style=\"color: #808000; text-decoration-color: #808000\">│</span>                   ObjectBlock: <span style=\"color: #0000ff; text-decoration-color: #0000ff\">1804763</span> dtype: object                                         <span style=\"color: #808000; text-decoration-color: #808000\">│</span> <span style=\"color: #800000; text-decoration-color: #800000\">│</span>\n",
       "<span style=\"color: #800000; text-decoration-color: #800000\">│</span> <span style=\"color: #808000; text-decoration-color: #808000\">╰──────────────────────────────────────────────────────────────────────────────────────────────╯</span> <span style=\"color: #800000; text-decoration-color: #800000\">│</span>\n",
       "<span style=\"color: #800000; text-decoration-color: #800000\">│</span>                                                                                                  <span style=\"color: #800000; text-decoration-color: #800000\">│</span>\n",
       "<span style=\"color: #800000; text-decoration-color: #800000\">│</span> <span style=\"color: #bfbf7f; text-decoration-color: #bfbf7f\">/opt/homebrew/Caskroom/miniforge/base/envs/dm_project/lib/python3.10/site-packages/pandas/core/i</span> <span style=\"color: #800000; text-decoration-color: #800000\">│</span>\n",
       "<span style=\"color: #800000; text-decoration-color: #800000\">│</span> <span style=\"color: #bfbf7f; text-decoration-color: #bfbf7f\">nternals/</span><span style=\"color: #808000; text-decoration-color: #808000; font-weight: bold\">blocks.py</span>:<span style=\"color: #0000ff; text-decoration-color: #0000ff\">580</span> in <span style=\"color: #00ff00; text-decoration-color: #00ff00\">astype</span>                                                                 <span style=\"color: #800000; text-decoration-color: #800000\">│</span>\n",
       "<span style=\"color: #800000; text-decoration-color: #800000\">│</span>                                                                                                  <span style=\"color: #800000; text-decoration-color: #800000\">│</span>\n",
       "<span style=\"color: #800000; text-decoration-color: #800000\">│</span>   <span style=\"color: #7f7f7f; text-decoration-color: #7f7f7f\"> 577 </span><span style=\"color: #bfbf7f; text-decoration-color: #bfbf7f\">│   │   </span><span style=\"color: #808000; text-decoration-color: #808000\">\"\"\"</span>                                                                               <span style=\"color: #800000; text-decoration-color: #800000\">│</span>\n",
       "<span style=\"color: #800000; text-decoration-color: #800000\">│</span>   <span style=\"color: #7f7f7f; text-decoration-color: #7f7f7f\"> 578 │   │   </span>values = <span style=\"color: #00ffff; text-decoration-color: #00ffff\">self</span>.values                                                              <span style=\"color: #800000; text-decoration-color: #800000\">│</span>\n",
       "<span style=\"color: #800000; text-decoration-color: #800000\">│</span>   <span style=\"color: #7f7f7f; text-decoration-color: #7f7f7f\"> 579 │   │   </span>                                                                                  <span style=\"color: #800000; text-decoration-color: #800000\">│</span>\n",
       "<span style=\"color: #800000; text-decoration-color: #800000\">│</span> <span style=\"color: #800000; text-decoration-color: #800000\">❱ </span> 580 <span style=\"color: #7f7f7f; text-decoration-color: #7f7f7f\">│   │   </span>new_values = astype_array_safe(values, dtype, copy=copy, errors=errors)           <span style=\"color: #800000; text-decoration-color: #800000\">│</span>\n",
       "<span style=\"color: #800000; text-decoration-color: #800000\">│</span>   <span style=\"color: #7f7f7f; text-decoration-color: #7f7f7f\"> 581 │   │   </span>                                                                                  <span style=\"color: #800000; text-decoration-color: #800000\">│</span>\n",
       "<span style=\"color: #800000; text-decoration-color: #800000\">│</span>   <span style=\"color: #7f7f7f; text-decoration-color: #7f7f7f\"> 582 │   │   </span>new_values = maybe_coerce_values(new_values)                                      <span style=\"color: #800000; text-decoration-color: #800000\">│</span>\n",
       "<span style=\"color: #800000; text-decoration-color: #800000\">│</span>   <span style=\"color: #7f7f7f; text-decoration-color: #7f7f7f\"> 583 │   │   </span>newb = <span style=\"color: #00ffff; text-decoration-color: #00ffff\">self</span>.make_block(new_values)                                                <span style=\"color: #800000; text-decoration-color: #800000\">│</span>\n",
       "<span style=\"color: #800000; text-decoration-color: #800000\">│</span>                                                                                                  <span style=\"color: #800000; text-decoration-color: #800000\">│</span>\n",
       "<span style=\"color: #800000; text-decoration-color: #800000\">│</span> <span style=\"color: #808000; text-decoration-color: #808000\">╭──────────────────────────── locals ─────────────────────────────╮</span>                              <span style=\"color: #800000; text-decoration-color: #800000\">│</span>\n",
       "<span style=\"color: #800000; text-decoration-color: #800000\">│</span> <span style=\"color: #808000; text-decoration-color: #808000\">│</span>   copy = <span style=\"color: #0000ff; text-decoration-color: #0000ff\">True</span>                                                   <span style=\"color: #808000; text-decoration-color: #808000\">│</span>                              <span style=\"color: #800000; text-decoration-color: #800000\">│</span>\n",
       "<span style=\"color: #800000; text-decoration-color: #800000\">│</span> <span style=\"color: #808000; text-decoration-color: #808000\">│</span>  dtype = <span style=\"font-weight: bold\">&lt;</span><span style=\"color: #ff00ff; text-decoration-color: #ff00ff; font-weight: bold\">class</span><span style=\"color: #000000; text-decoration-color: #000000\"> </span><span style=\"color: #808000; text-decoration-color: #808000\">'int'</span><span style=\"font-weight: bold\">&gt;</span>                                          <span style=\"color: #808000; text-decoration-color: #808000\">│</span>                              <span style=\"color: #800000; text-decoration-color: #800000\">│</span>\n",
       "<span style=\"color: #800000; text-decoration-color: #800000\">│</span> <span style=\"color: #808000; text-decoration-color: #808000\">│</span> errors = <span style=\"color: #808000; text-decoration-color: #808000\">'raise'</span>                                                <span style=\"color: #808000; text-decoration-color: #808000\">│</span>                              <span style=\"color: #800000; text-decoration-color: #800000\">│</span>\n",
       "<span style=\"color: #800000; text-decoration-color: #800000\">│</span> <span style=\"color: #808000; text-decoration-color: #808000\">│</span>   self = ObjectBlock: <span style=\"color: #0000ff; text-decoration-color: #0000ff\">1804763</span> dtype: object                     <span style=\"color: #808000; text-decoration-color: #808000\">│</span>                              <span style=\"color: #800000; text-decoration-color: #800000\">│</span>\n",
       "<span style=\"color: #800000; text-decoration-color: #800000\">│</span> <span style=\"color: #808000; text-decoration-color: #808000\">│</span> values = <span style=\"color: #800080; text-decoration-color: #800080; font-weight: bold\">array</span><span style=\"font-weight: bold\">([</span><span style=\"color: #0000ff; text-decoration-color: #0000ff\">0</span>, <span style=\"color: #0000ff; text-decoration-color: #0000ff\">0</span>, <span style=\"color: #0000ff; text-decoration-color: #0000ff\">0</span>, <span style=\"color: #808000; text-decoration-color: #808000\">...</span>, <span style=\"color: #0000ff; text-decoration-color: #0000ff\">0</span>, <span style=\"color: #0000ff; text-decoration-color: #0000ff\">0</span>, <span style=\"color: #808000; text-decoration-color: #808000\">'901280006'</span><span style=\"font-weight: bold\">]</span>, <span style=\"color: #808000; text-decoration-color: #808000\">dtype</span>=<span style=\"color: #800080; text-decoration-color: #800080\">object</span><span style=\"font-weight: bold\">)</span> <span style=\"color: #808000; text-decoration-color: #808000\">│</span>                              <span style=\"color: #800000; text-decoration-color: #800000\">│</span>\n",
       "<span style=\"color: #800000; text-decoration-color: #800000\">│</span> <span style=\"color: #808000; text-decoration-color: #808000\">╰─────────────────────────────────────────────────────────────────╯</span>                              <span style=\"color: #800000; text-decoration-color: #800000\">│</span>\n",
       "<span style=\"color: #800000; text-decoration-color: #800000\">│</span>                                                                                                  <span style=\"color: #800000; text-decoration-color: #800000\">│</span>\n",
       "<span style=\"color: #800000; text-decoration-color: #800000\">│</span> <span style=\"color: #bfbf7f; text-decoration-color: #bfbf7f\">/opt/homebrew/Caskroom/miniforge/base/envs/dm_project/lib/python3.10/site-packages/pandas/core/d</span> <span style=\"color: #800000; text-decoration-color: #800000\">│</span>\n",
       "<span style=\"color: #800000; text-decoration-color: #800000\">│</span> <span style=\"color: #bfbf7f; text-decoration-color: #bfbf7f\">types/</span><span style=\"color: #808000; text-decoration-color: #808000; font-weight: bold\">cast.py</span>:<span style=\"color: #0000ff; text-decoration-color: #0000ff\">1292</span> in <span style=\"color: #00ff00; text-decoration-color: #00ff00\">astype_array_safe</span>                                                          <span style=\"color: #800000; text-decoration-color: #800000\">│</span>\n",
       "<span style=\"color: #800000; text-decoration-color: #800000\">│</span>                                                                                                  <span style=\"color: #800000; text-decoration-color: #800000\">│</span>\n",
       "<span style=\"color: #800000; text-decoration-color: #800000\">│</span>   <span style=\"color: #7f7f7f; text-decoration-color: #7f7f7f\">1289 │   │   </span>dtype = dtype.numpy_dtype                                                         <span style=\"color: #800000; text-decoration-color: #800000\">│</span>\n",
       "<span style=\"color: #800000; text-decoration-color: #800000\">│</span>   <span style=\"color: #7f7f7f; text-decoration-color: #7f7f7f\">1290 │   </span>                                                                                      <span style=\"color: #800000; text-decoration-color: #800000\">│</span>\n",
       "<span style=\"color: #800000; text-decoration-color: #800000\">│</span>   <span style=\"color: #7f7f7f; text-decoration-color: #7f7f7f\">1291 │   </span><span style=\"color: #0000ff; text-decoration-color: #0000ff\">try</span>:                                                                                  <span style=\"color: #800000; text-decoration-color: #800000\">│</span>\n",
       "<span style=\"color: #800000; text-decoration-color: #800000\">│</span> <span style=\"color: #800000; text-decoration-color: #800000\">❱ </span>1292 <span style=\"color: #7f7f7f; text-decoration-color: #7f7f7f\">│   │   </span>new_values = astype_array(values, dtype, copy=copy)                               <span style=\"color: #800000; text-decoration-color: #800000\">│</span>\n",
       "<span style=\"color: #800000; text-decoration-color: #800000\">│</span>   <span style=\"color: #7f7f7f; text-decoration-color: #7f7f7f\">1293 │   </span><span style=\"color: #0000ff; text-decoration-color: #0000ff\">except</span> (<span style=\"color: #00ffff; text-decoration-color: #00ffff\">ValueError</span>, <span style=\"color: #00ffff; text-decoration-color: #00ffff\">TypeError</span>):                                                       <span style=\"color: #800000; text-decoration-color: #800000\">│</span>\n",
       "<span style=\"color: #800000; text-decoration-color: #800000\">│</span>   <span style=\"color: #7f7f7f; text-decoration-color: #7f7f7f\">1294 │   │   # e.g. astype_nansafe can fail on object-dtype of strings</span>                         <span style=\"color: #800000; text-decoration-color: #800000\">│</span>\n",
       "<span style=\"color: #800000; text-decoration-color: #800000\">│</span>   <span style=\"color: #7f7f7f; text-decoration-color: #7f7f7f\">1295 │   │   #  trying to convert to float</span>                                                     <span style=\"color: #800000; text-decoration-color: #800000\">│</span>\n",
       "<span style=\"color: #800000; text-decoration-color: #800000\">│</span>                                                                                                  <span style=\"color: #800000; text-decoration-color: #800000\">│</span>\n",
       "<span style=\"color: #800000; text-decoration-color: #800000\">│</span> <span style=\"color: #808000; text-decoration-color: #808000\">╭─────────────────────────────────── locals ───────────────────────────────────╮</span>                 <span style=\"color: #800000; text-decoration-color: #800000\">│</span>\n",
       "<span style=\"color: #800000; text-decoration-color: #800000\">│</span> <span style=\"color: #808000; text-decoration-color: #808000\">│</span>                copy = <span style=\"color: #0000ff; text-decoration-color: #0000ff\">True</span>                                                   <span style=\"color: #808000; text-decoration-color: #808000\">│</span>                 <span style=\"color: #800000; text-decoration-color: #800000\">│</span>\n",
       "<span style=\"color: #800000; text-decoration-color: #800000\">│</span> <span style=\"color: #808000; text-decoration-color: #808000\">│</span>               dtype = <span style=\"color: #800080; text-decoration-color: #800080; font-weight: bold\">dtype</span><span style=\"font-weight: bold\">(</span><span style=\"color: #808000; text-decoration-color: #808000\">'int64'</span><span style=\"font-weight: bold\">)</span>                                         <span style=\"color: #808000; text-decoration-color: #808000\">│</span>                 <span style=\"color: #800000; text-decoration-color: #800000\">│</span>\n",
       "<span style=\"color: #800000; text-decoration-color: #800000\">│</span> <span style=\"color: #808000; text-decoration-color: #808000\">│</span>              errors = <span style=\"color: #808000; text-decoration-color: #808000\">'raise'</span>                                                <span style=\"color: #808000; text-decoration-color: #808000\">│</span>                 <span style=\"color: #800000; text-decoration-color: #800000\">│</span>\n",
       "<span style=\"color: #800000; text-decoration-color: #800000\">│</span> <span style=\"color: #808000; text-decoration-color: #808000\">│</span> errors_legal_values = <span style=\"font-weight: bold\">(</span><span style=\"color: #808000; text-decoration-color: #808000\">'raise'</span>, <span style=\"color: #808000; text-decoration-color: #808000\">'ignore'</span><span style=\"font-weight: bold\">)</span>                                    <span style=\"color: #808000; text-decoration-color: #808000\">│</span>                 <span style=\"color: #800000; text-decoration-color: #800000\">│</span>\n",
       "<span style=\"color: #800000; text-decoration-color: #800000\">│</span> <span style=\"color: #808000; text-decoration-color: #808000\">│</span>              values = <span style=\"color: #800080; text-decoration-color: #800080; font-weight: bold\">array</span><span style=\"font-weight: bold\">([</span><span style=\"color: #0000ff; text-decoration-color: #0000ff\">0</span>, <span style=\"color: #0000ff; text-decoration-color: #0000ff\">0</span>, <span style=\"color: #0000ff; text-decoration-color: #0000ff\">0</span>, <span style=\"color: #808000; text-decoration-color: #808000\">...</span>, <span style=\"color: #0000ff; text-decoration-color: #0000ff\">0</span>, <span style=\"color: #0000ff; text-decoration-color: #0000ff\">0</span>, <span style=\"color: #808000; text-decoration-color: #808000\">'901280006'</span><span style=\"font-weight: bold\">]</span>, <span style=\"color: #808000; text-decoration-color: #808000\">dtype</span>=<span style=\"color: #800080; text-decoration-color: #800080\">object</span><span style=\"font-weight: bold\">)</span> <span style=\"color: #808000; text-decoration-color: #808000\">│</span>                 <span style=\"color: #800000; text-decoration-color: #800000\">│</span>\n",
       "<span style=\"color: #800000; text-decoration-color: #800000\">│</span> <span style=\"color: #808000; text-decoration-color: #808000\">╰──────────────────────────────────────────────────────────────────────────────╯</span>                 <span style=\"color: #800000; text-decoration-color: #800000\">│</span>\n",
       "<span style=\"color: #800000; text-decoration-color: #800000\">│</span>                                                                                                  <span style=\"color: #800000; text-decoration-color: #800000\">│</span>\n",
       "<span style=\"color: #800000; text-decoration-color: #800000\">│</span> <span style=\"color: #bfbf7f; text-decoration-color: #bfbf7f\">/opt/homebrew/Caskroom/miniforge/base/envs/dm_project/lib/python3.10/site-packages/pandas/core/d</span> <span style=\"color: #800000; text-decoration-color: #800000\">│</span>\n",
       "<span style=\"color: #800000; text-decoration-color: #800000\">│</span> <span style=\"color: #bfbf7f; text-decoration-color: #bfbf7f\">types/</span><span style=\"color: #808000; text-decoration-color: #808000; font-weight: bold\">cast.py</span>:<span style=\"color: #0000ff; text-decoration-color: #0000ff\">1237</span> in <span style=\"color: #00ff00; text-decoration-color: #00ff00\">astype_array</span>                                                               <span style=\"color: #800000; text-decoration-color: #800000\">│</span>\n",
       "<span style=\"color: #800000; text-decoration-color: #800000\">│</span>                                                                                                  <span style=\"color: #800000; text-decoration-color: #800000\">│</span>\n",
       "<span style=\"color: #800000; text-decoration-color: #800000\">│</span>   <span style=\"color: #7f7f7f; text-decoration-color: #7f7f7f\">1234 │   │   </span>values = values.astype(dtype, copy=copy)                                          <span style=\"color: #800000; text-decoration-color: #800000\">│</span>\n",
       "<span style=\"color: #800000; text-decoration-color: #800000\">│</span>   <span style=\"color: #7f7f7f; text-decoration-color: #7f7f7f\">1235 │   </span>                                                                                      <span style=\"color: #800000; text-decoration-color: #800000\">│</span>\n",
       "<span style=\"color: #800000; text-decoration-color: #800000\">│</span>   <span style=\"color: #7f7f7f; text-decoration-color: #7f7f7f\">1236 │   </span><span style=\"color: #0000ff; text-decoration-color: #0000ff\">else</span>:                                                                                 <span style=\"color: #800000; text-decoration-color: #800000\">│</span>\n",
       "<span style=\"color: #800000; text-decoration-color: #800000\">│</span> <span style=\"color: #800000; text-decoration-color: #800000\">❱ </span>1237 <span style=\"color: #7f7f7f; text-decoration-color: #7f7f7f\">│   │   </span>values = astype_nansafe(values, dtype, copy=copy)                                 <span style=\"color: #800000; text-decoration-color: #800000\">│</span>\n",
       "<span style=\"color: #800000; text-decoration-color: #800000\">│</span>   <span style=\"color: #7f7f7f; text-decoration-color: #7f7f7f\">1238 │   </span>                                                                                      <span style=\"color: #800000; text-decoration-color: #800000\">│</span>\n",
       "<span style=\"color: #800000; text-decoration-color: #800000\">│</span>   <span style=\"color: #7f7f7f; text-decoration-color: #7f7f7f\">1239 │   # in pandas we don't store numpy str dtypes, so convert to object</span>                     <span style=\"color: #800000; text-decoration-color: #800000\">│</span>\n",
       "<span style=\"color: #800000; text-decoration-color: #800000\">│</span>   <span style=\"color: #7f7f7f; text-decoration-color: #7f7f7f\">1240 │   </span><span style=\"color: #0000ff; text-decoration-color: #0000ff\">if</span> <span style=\"color: #00ffff; text-decoration-color: #00ffff\">isinstance</span>(dtype, np.dtype) <span style=\"color: #ff00ff; text-decoration-color: #ff00ff\">and</span> <span style=\"color: #00ffff; text-decoration-color: #00ffff\">issubclass</span>(values.dtype.type, <span style=\"color: #00ffff; text-decoration-color: #00ffff\">str</span>):                <span style=\"color: #800000; text-decoration-color: #800000\">│</span>\n",
       "<span style=\"color: #800000; text-decoration-color: #800000\">│</span>                                                                                                  <span style=\"color: #800000; text-decoration-color: #800000\">│</span>\n",
       "<span style=\"color: #800000; text-decoration-color: #800000\">│</span> <span style=\"color: #808000; text-decoration-color: #808000\">╭──────────────────────────── locals ─────────────────────────────╮</span>                              <span style=\"color: #800000; text-decoration-color: #800000\">│</span>\n",
       "<span style=\"color: #800000; text-decoration-color: #800000\">│</span> <span style=\"color: #808000; text-decoration-color: #808000\">│</span>   copy = <span style=\"color: #0000ff; text-decoration-color: #0000ff\">True</span>                                                   <span style=\"color: #808000; text-decoration-color: #808000\">│</span>                              <span style=\"color: #800000; text-decoration-color: #800000\">│</span>\n",
       "<span style=\"color: #800000; text-decoration-color: #800000\">│</span> <span style=\"color: #808000; text-decoration-color: #808000\">│</span>  dtype = <span style=\"color: #800080; text-decoration-color: #800080; font-weight: bold\">dtype</span><span style=\"font-weight: bold\">(</span><span style=\"color: #808000; text-decoration-color: #808000\">'int64'</span><span style=\"font-weight: bold\">)</span>                                         <span style=\"color: #808000; text-decoration-color: #808000\">│</span>                              <span style=\"color: #800000; text-decoration-color: #800000\">│</span>\n",
       "<span style=\"color: #800000; text-decoration-color: #800000\">│</span> <span style=\"color: #808000; text-decoration-color: #808000\">│</span> values = <span style=\"color: #800080; text-decoration-color: #800080; font-weight: bold\">array</span><span style=\"font-weight: bold\">([</span><span style=\"color: #0000ff; text-decoration-color: #0000ff\">0</span>, <span style=\"color: #0000ff; text-decoration-color: #0000ff\">0</span>, <span style=\"color: #0000ff; text-decoration-color: #0000ff\">0</span>, <span style=\"color: #808000; text-decoration-color: #808000\">...</span>, <span style=\"color: #0000ff; text-decoration-color: #0000ff\">0</span>, <span style=\"color: #0000ff; text-decoration-color: #0000ff\">0</span>, <span style=\"color: #808000; text-decoration-color: #808000\">'901280006'</span><span style=\"font-weight: bold\">]</span>, <span style=\"color: #808000; text-decoration-color: #808000\">dtype</span>=<span style=\"color: #800080; text-decoration-color: #800080\">object</span><span style=\"font-weight: bold\">)</span> <span style=\"color: #808000; text-decoration-color: #808000\">│</span>                              <span style=\"color: #800000; text-decoration-color: #800000\">│</span>\n",
       "<span style=\"color: #800000; text-decoration-color: #800000\">│</span> <span style=\"color: #808000; text-decoration-color: #808000\">╰─────────────────────────────────────────────────────────────────╯</span>                              <span style=\"color: #800000; text-decoration-color: #800000\">│</span>\n",
       "<span style=\"color: #800000; text-decoration-color: #800000\">│</span>                                                                                                  <span style=\"color: #800000; text-decoration-color: #800000\">│</span>\n",
       "<span style=\"color: #800000; text-decoration-color: #800000\">│</span> <span style=\"color: #bfbf7f; text-decoration-color: #bfbf7f\">/opt/homebrew/Caskroom/miniforge/base/envs/dm_project/lib/python3.10/site-packages/pandas/core/d</span> <span style=\"color: #800000; text-decoration-color: #800000\">│</span>\n",
       "<span style=\"color: #800000; text-decoration-color: #800000\">│</span> <span style=\"color: #bfbf7f; text-decoration-color: #bfbf7f\">types/</span><span style=\"color: #808000; text-decoration-color: #808000; font-weight: bold\">cast.py</span>:<span style=\"color: #0000ff; text-decoration-color: #0000ff\">1154</span> in <span style=\"color: #00ff00; text-decoration-color: #00ff00\">astype_nansafe</span>                                                             <span style=\"color: #800000; text-decoration-color: #800000\">│</span>\n",
       "<span style=\"color: #800000; text-decoration-color: #800000\">│</span>                                                                                                  <span style=\"color: #800000; text-decoration-color: #800000\">│</span>\n",
       "<span style=\"color: #800000; text-decoration-color: #800000\">│</span>   <span style=\"color: #7f7f7f; text-decoration-color: #7f7f7f\">1151 │   │   </span>                                                                                  <span style=\"color: #800000; text-decoration-color: #800000\">│</span>\n",
       "<span style=\"color: #800000; text-decoration-color: #800000\">│</span>   <span style=\"color: #7f7f7f; text-decoration-color: #7f7f7f\">1152 │   │   # work around NumPy brokenness, #1987</span>                                             <span style=\"color: #800000; text-decoration-color: #800000\">│</span>\n",
       "<span style=\"color: #800000; text-decoration-color: #800000\">│</span>   <span style=\"color: #7f7f7f; text-decoration-color: #7f7f7f\">1153 │   │   </span><span style=\"color: #0000ff; text-decoration-color: #0000ff\">if</span> np.issubdtype(dtype.type, np.integer):                                         <span style=\"color: #800000; text-decoration-color: #800000\">│</span>\n",
       "<span style=\"color: #800000; text-decoration-color: #800000\">│</span> <span style=\"color: #800000; text-decoration-color: #800000\">❱ </span>1154 <span style=\"color: #7f7f7f; text-decoration-color: #7f7f7f\">│   │   │   </span><span style=\"color: #0000ff; text-decoration-color: #0000ff\">return</span> lib.astype_intsafe(arr, dtype)                                         <span style=\"color: #800000; text-decoration-color: #800000\">│</span>\n",
       "<span style=\"color: #800000; text-decoration-color: #800000\">│</span>   <span style=\"color: #7f7f7f; text-decoration-color: #7f7f7f\">1155 │   │   </span>                                                                                  <span style=\"color: #800000; text-decoration-color: #800000\">│</span>\n",
       "<span style=\"color: #800000; text-decoration-color: #800000\">│</span>   <span style=\"color: #7f7f7f; text-decoration-color: #7f7f7f\">1156 │   │   # if we have a datetime/timedelta array of objects</span>                                <span style=\"color: #800000; text-decoration-color: #800000\">│</span>\n",
       "<span style=\"color: #800000; text-decoration-color: #800000\">│</span>   <span style=\"color: #7f7f7f; text-decoration-color: #7f7f7f\">1157 │   │   # then coerce to a proper dtype and recall astype_nansafe</span>                         <span style=\"color: #800000; text-decoration-color: #800000\">│</span>\n",
       "<span style=\"color: #800000; text-decoration-color: #800000\">│</span>                                                                                                  <span style=\"color: #800000; text-decoration-color: #800000\">│</span>\n",
       "<span style=\"color: #800000; text-decoration-color: #800000\">│</span> <span style=\"color: #808000; text-decoration-color: #808000\">╭──────────────────────────── locals ─────────────────────────────╮</span>                              <span style=\"color: #800000; text-decoration-color: #800000\">│</span>\n",
       "<span style=\"color: #800000; text-decoration-color: #800000\">│</span> <span style=\"color: #808000; text-decoration-color: #808000\">│</span>    arr = <span style=\"color: #800080; text-decoration-color: #800080; font-weight: bold\">array</span><span style=\"font-weight: bold\">([</span><span style=\"color: #0000ff; text-decoration-color: #0000ff\">0</span>, <span style=\"color: #0000ff; text-decoration-color: #0000ff\">0</span>, <span style=\"color: #0000ff; text-decoration-color: #0000ff\">0</span>, <span style=\"color: #808000; text-decoration-color: #808000\">...</span>, <span style=\"color: #0000ff; text-decoration-color: #0000ff\">0</span>, <span style=\"color: #0000ff; text-decoration-color: #0000ff\">0</span>, <span style=\"color: #808000; text-decoration-color: #808000\">'901280006'</span><span style=\"font-weight: bold\">]</span>, <span style=\"color: #808000; text-decoration-color: #808000\">dtype</span>=<span style=\"color: #800080; text-decoration-color: #800080\">object</span><span style=\"font-weight: bold\">)</span> <span style=\"color: #808000; text-decoration-color: #808000\">│</span>                              <span style=\"color: #800000; text-decoration-color: #800000\">│</span>\n",
       "<span style=\"color: #800000; text-decoration-color: #800000\">│</span> <span style=\"color: #808000; text-decoration-color: #808000\">│</span>   copy = <span style=\"color: #0000ff; text-decoration-color: #0000ff\">True</span>                                                   <span style=\"color: #808000; text-decoration-color: #808000\">│</span>                              <span style=\"color: #800000; text-decoration-color: #800000\">│</span>\n",
       "<span style=\"color: #800000; text-decoration-color: #800000\">│</span> <span style=\"color: #808000; text-decoration-color: #808000\">│</span>  dtype = <span style=\"color: #800080; text-decoration-color: #800080; font-weight: bold\">dtype</span><span style=\"font-weight: bold\">(</span><span style=\"color: #808000; text-decoration-color: #808000\">'int64'</span><span style=\"font-weight: bold\">)</span>                                         <span style=\"color: #808000; text-decoration-color: #808000\">│</span>                              <span style=\"color: #800000; text-decoration-color: #800000\">│</span>\n",
       "<span style=\"color: #800000; text-decoration-color: #800000\">│</span> <span style=\"color: #808000; text-decoration-color: #808000\">│</span> skipna = <span style=\"color: #0000ff; text-decoration-color: #0000ff\">False</span>                                                  <span style=\"color: #808000; text-decoration-color: #808000\">│</span>                              <span style=\"color: #800000; text-decoration-color: #800000\">│</span>\n",
       "<span style=\"color: #800000; text-decoration-color: #800000\">│</span> <span style=\"color: #808000; text-decoration-color: #808000\">╰─────────────────────────────────────────────────────────────────╯</span>                              <span style=\"color: #800000; text-decoration-color: #800000\">│</span>\n",
       "<span style=\"color: #800000; text-decoration-color: #800000\">│</span>                                                                                                  <span style=\"color: #800000; text-decoration-color: #800000\">│</span>\n",
       "<span style=\"color: #800000; text-decoration-color: #800000\">│</span> <span style=\"color: #bfbf7f; text-decoration-color: #bfbf7f\">/Users/juanazuero/Documents/DS/DM_project/notebooks/Exploration/pandas/_libs/</span><span style=\"color: #808000; text-decoration-color: #808000; font-weight: bold\">lib.pyx</span>:<span style=\"color: #0000ff; text-decoration-color: #0000ff\">668</span> in      <span style=\"color: #800000; text-decoration-color: #800000\">│</span>\n",
       "<span style=\"color: #800000; text-decoration-color: #800000\">│</span> <span style=\"color: #00ff00; text-decoration-color: #00ff00\">pandas._libs.lib.astype_intsafe</span>                                                                  <span style=\"color: #800000; text-decoration-color: #800000\">│</span>\n",
       "<span style=\"color: #800000; text-decoration-color: #800000\">│</span>                                                                                                  <span style=\"color: #800000; text-decoration-color: #800000\">│</span>\n",
       "<span style=\"color: #800000; text-decoration-color: #800000\">│</span> <span style=\"color: #800000; text-decoration-color: #800000; font-style: italic\">[Errno 2] No such file or directory: </span>                                                            <span style=\"color: #800000; text-decoration-color: #800000\">│</span>\n",
       "<span style=\"color: #800000; text-decoration-color: #800000\">│</span> <span style=\"color: #800000; text-decoration-color: #800000; font-style: italic\">'/Users/juanazuero/Documents/DS/DM_project/notebooks/Exploration/pandas/_libs/lib.pyx'</span>           <span style=\"color: #800000; text-decoration-color: #800000\">│</span>\n",
       "<span style=\"color: #800000; text-decoration-color: #800000\">╰──────────────────────────────────────────────────────────────────────────────────────────────────╯</span>\n",
       "<span style=\"color: #ff0000; text-decoration-color: #ff0000; font-weight: bold\">ValueError: </span>invalid literal for <span style=\"color: #800080; text-decoration-color: #800080; font-weight: bold\">int</span><span style=\"font-weight: bold\">()</span> with base <span style=\"color: #008080; text-decoration-color: #008080; font-weight: bold\">10</span>: <span style=\"color: #008000; text-decoration-color: #008000\">'B87709341'</span>\n",
       "</pre>\n"
      ],
      "text/plain": [
       "\u001b[31m╭─\u001b[0m\u001b[31m────────────────────────────── \u001b[0m\u001b[1;31mTraceback \u001b[0m\u001b[1;2;31m(most recent call last)\u001b[0m\u001b[31m ───────────────────────────────\u001b[0m\u001b[31m─╮\u001b[0m\n",
       "\u001b[31m│\u001b[0m \u001b[2;33m/var/folders/89/9jx5xq1j4b979h8c76h2dzjr0000gn/T/ipykernel_2374/\u001b[0m\u001b[1;33m713874498.py\u001b[0m:\u001b[94m1\u001b[0m in \u001b[92m<cell line: 1>\u001b[0m \u001b[31m│\u001b[0m\n",
       "\u001b[31m│\u001b[0m                                                                                                  \u001b[31m│\u001b[0m\n",
       "\u001b[31m│\u001b[0m \u001b[3;31m[Errno 2] No such file or directory: \u001b[0m                                                            \u001b[31m│\u001b[0m\n",
       "\u001b[31m│\u001b[0m \u001b[3;31m'/var/folders/89/9jx5xq1j4b979h8c76h2dzjr0000gn/T/ipykernel_2374/713874498.py'\u001b[0m                   \u001b[31m│\u001b[0m\n",
       "\u001b[31m│\u001b[0m                                                                                                  \u001b[31m│\u001b[0m\n",
       "\u001b[31m│\u001b[0m \u001b[2;33m/opt/homebrew/Caskroom/miniforge/base/envs/dm_project/lib/python3.10/site-packages/pandas/core/\u001b[0m\u001b[1;33mg\u001b[0m \u001b[31m│\u001b[0m\n",
       "\u001b[31m│\u001b[0m \u001b[1;33meneric.py\u001b[0m:\u001b[94m5912\u001b[0m in \u001b[92mastype\u001b[0m                                                                         \u001b[31m│\u001b[0m\n",
       "\u001b[31m│\u001b[0m                                                                                                  \u001b[31m│\u001b[0m\n",
       "\u001b[31m│\u001b[0m   \u001b[2m 5909 \u001b[0m\u001b[2m│   │   \u001b[0m                                                                                 \u001b[31m│\u001b[0m\n",
       "\u001b[31m│\u001b[0m   \u001b[2m 5910 \u001b[0m\u001b[2m│   │   \u001b[0m\u001b[94melse\u001b[0m:                                                                            \u001b[31m│\u001b[0m\n",
       "\u001b[31m│\u001b[0m   \u001b[2m 5911 \u001b[0m\u001b[2m│   │   │   \u001b[0m\u001b[2m# else, only a single dtype is given\u001b[0m                                         \u001b[31m│\u001b[0m\n",
       "\u001b[31m│\u001b[0m \u001b[31m❱ \u001b[0m 5912 \u001b[2m│   │   │   \u001b[0mnew_data = \u001b[96mself\u001b[0m._mgr.astype(dtype=dtype, copy=copy, errors=errors)           \u001b[31m│\u001b[0m\n",
       "\u001b[31m│\u001b[0m   \u001b[2m 5913 \u001b[0m\u001b[2m│   │   │   \u001b[0m\u001b[94mreturn\u001b[0m \u001b[96mself\u001b[0m._constructor(new_data).__finalize__(\u001b[96mself\u001b[0m, method=\u001b[33m\"\u001b[0m\u001b[33mastype\u001b[0m\u001b[33m\"\u001b[0m)       \u001b[31m│\u001b[0m\n",
       "\u001b[31m│\u001b[0m   \u001b[2m 5914 \u001b[0m\u001b[2m│   │   \u001b[0m                                                                                 \u001b[31m│\u001b[0m\n",
       "\u001b[31m│\u001b[0m   \u001b[2m 5915 \u001b[0m\u001b[2m│   │   \u001b[0m\u001b[2m# GH 33113: handle empty frame or series\u001b[0m                                         \u001b[31m│\u001b[0m\n",
       "\u001b[31m│\u001b[0m                                                                                                  \u001b[31m│\u001b[0m\n",
       "\u001b[31m│\u001b[0m \u001b[33m╭─\u001b[0m\u001b[33m───────────────────────────────── locals ──────────────────────────────────\u001b[0m\u001b[33m─╮\u001b[0m                  \u001b[31m│\u001b[0m\n",
       "\u001b[31m│\u001b[0m \u001b[33m│\u001b[0m   copy = \u001b[94mTrue\u001b[0m                                                               \u001b[33m│\u001b[0m                  \u001b[31m│\u001b[0m\n",
       "\u001b[31m│\u001b[0m \u001b[33m│\u001b[0m  dtype = \u001b[1m<\u001b[0m\u001b[1;95mclass\u001b[0m\u001b[39m \u001b[0m\u001b[33m'int'\u001b[0m\u001b[1m>\u001b[0m                                                      \u001b[33m│\u001b[0m                  \u001b[31m│\u001b[0m\n",
       "\u001b[31m│\u001b[0m \u001b[33m│\u001b[0m errors = \u001b[33m'raise'\u001b[0m                                                            \u001b[33m│\u001b[0m                  \u001b[31m│\u001b[0m\n",
       "\u001b[31m│\u001b[0m \u001b[33m│\u001b[0m   self = \u001b[94m0\u001b[0m                  \u001b[94m0\u001b[0m                                               \u001b[33m│\u001b[0m                  \u001b[31m│\u001b[0m\n",
       "\u001b[31m│\u001b[0m \u001b[33m│\u001b[0m          \u001b[94m1\u001b[0m                  \u001b[94m0\u001b[0m                                               \u001b[33m│\u001b[0m                  \u001b[31m│\u001b[0m\n",
       "\u001b[31m│\u001b[0m \u001b[33m│\u001b[0m          \u001b[94m4\u001b[0m                  \u001b[94m0\u001b[0m                                               \u001b[33m│\u001b[0m                  \u001b[31m│\u001b[0m\n",
       "\u001b[31m│\u001b[0m \u001b[33m│\u001b[0m          \u001b[94m5\u001b[0m                  \u001b[94m0\u001b[0m                                               \u001b[33m│\u001b[0m                  \u001b[31m│\u001b[0m\n",
       "\u001b[31m│\u001b[0m \u001b[33m│\u001b[0m          \u001b[94m6\u001b[0m                  \u001b[94m0\u001b[0m                                               \u001b[33m│\u001b[0m                  \u001b[31m│\u001b[0m\n",
       "\u001b[31m│\u001b[0m \u001b[33m│\u001b[0m          \u001b[2m│   │   │    \u001b[0m\u001b[33m...\u001b[0m                                                   \u001b[33m│\u001b[0m                  \u001b[31m│\u001b[0m\n",
       "\u001b[31m│\u001b[0m \u001b[33m│\u001b[0m          \u001b[94m1861368\u001b[0m    \u001b[94m860002400\u001b[0m                                               \u001b[33m│\u001b[0m                  \u001b[31m│\u001b[0m\n",
       "\u001b[31m│\u001b[0m \u001b[33m│\u001b[0m          \u001b[94m1861369\u001b[0m            \u001b[94m0\u001b[0m                                               \u001b[33m│\u001b[0m                  \u001b[31m│\u001b[0m\n",
       "\u001b[31m│\u001b[0m \u001b[33m│\u001b[0m          \u001b[94m1861370\u001b[0m            \u001b[94m0\u001b[0m                                               \u001b[33m│\u001b[0m                  \u001b[31m│\u001b[0m\n",
       "\u001b[31m│\u001b[0m \u001b[33m│\u001b[0m          \u001b[94m1861371\u001b[0m            \u001b[94m0\u001b[0m                                               \u001b[33m│\u001b[0m                  \u001b[31m│\u001b[0m\n",
       "\u001b[31m│\u001b[0m \u001b[33m│\u001b[0m          \u001b[94m1861372\u001b[0m    \u001b[94m901280006\u001b[0m                                               \u001b[33m│\u001b[0m                  \u001b[31m│\u001b[0m\n",
       "\u001b[31m│\u001b[0m \u001b[33m│\u001b[0m          Name: nit_del_proveedor_adjudicado, Length: \u001b[94m1804763\u001b[0m, dtype: object \u001b[33m│\u001b[0m                  \u001b[31m│\u001b[0m\n",
       "\u001b[31m│\u001b[0m \u001b[33m╰─────────────────────────────────────────────────────────────────────────────╯\u001b[0m                  \u001b[31m│\u001b[0m\n",
       "\u001b[31m│\u001b[0m                                                                                                  \u001b[31m│\u001b[0m\n",
       "\u001b[31m│\u001b[0m \u001b[2;33m/opt/homebrew/Caskroom/miniforge/base/envs/dm_project/lib/python3.10/site-packages/pandas/core/i\u001b[0m \u001b[31m│\u001b[0m\n",
       "\u001b[31m│\u001b[0m \u001b[2;33mnternals/\u001b[0m\u001b[1;33mmanagers.py\u001b[0m:\u001b[94m419\u001b[0m in \u001b[92mastype\u001b[0m                                                               \u001b[31m│\u001b[0m\n",
       "\u001b[31m│\u001b[0m                                                                                                  \u001b[31m│\u001b[0m\n",
       "\u001b[31m│\u001b[0m   \u001b[2m 416 \u001b[0m\u001b[2m│   │   \u001b[0m)                                                                                 \u001b[31m│\u001b[0m\n",
       "\u001b[31m│\u001b[0m   \u001b[2m 417 \u001b[0m\u001b[2m│   \u001b[0m                                                                                      \u001b[31m│\u001b[0m\n",
       "\u001b[31m│\u001b[0m   \u001b[2m 418 \u001b[0m\u001b[2m│   \u001b[0m\u001b[94mdef\u001b[0m \u001b[92mastype\u001b[0m(\u001b[96mself\u001b[0m: T, dtype, copy: \u001b[96mbool\u001b[0m = \u001b[94mFalse\u001b[0m, errors: \u001b[96mstr\u001b[0m = \u001b[33m\"\u001b[0m\u001b[33mraise\u001b[0m\u001b[33m\"\u001b[0m) -> T:           \u001b[31m│\u001b[0m\n",
       "\u001b[31m│\u001b[0m \u001b[31m❱ \u001b[0m 419 \u001b[2m│   │   \u001b[0m\u001b[94mreturn\u001b[0m \u001b[96mself\u001b[0m.apply(\u001b[33m\"\u001b[0m\u001b[33mastype\u001b[0m\u001b[33m\"\u001b[0m, dtype=dtype, copy=copy, errors=errors)                \u001b[31m│\u001b[0m\n",
       "\u001b[31m│\u001b[0m   \u001b[2m 420 \u001b[0m\u001b[2m│   \u001b[0m                                                                                      \u001b[31m│\u001b[0m\n",
       "\u001b[31m│\u001b[0m   \u001b[2m 421 \u001b[0m\u001b[2m│   \u001b[0m\u001b[94mdef\u001b[0m \u001b[92mconvert\u001b[0m(                                                                          \u001b[31m│\u001b[0m\n",
       "\u001b[31m│\u001b[0m   \u001b[2m 422 \u001b[0m\u001b[2m│   │   \u001b[0m\u001b[96mself\u001b[0m: T,                                                                          \u001b[31m│\u001b[0m\n",
       "\u001b[31m│\u001b[0m                                                                                                  \u001b[31m│\u001b[0m\n",
       "\u001b[31m│\u001b[0m \u001b[33m╭─\u001b[0m\u001b[33m───────────────────────────────────────── locals ─────────────────────────────────────────\u001b[0m\u001b[33m─╮\u001b[0m   \u001b[31m│\u001b[0m\n",
       "\u001b[31m│\u001b[0m \u001b[33m│\u001b[0m   copy = \u001b[94mTrue\u001b[0m                                                                              \u001b[33m│\u001b[0m   \u001b[31m│\u001b[0m\n",
       "\u001b[31m│\u001b[0m \u001b[33m│\u001b[0m  dtype = \u001b[1m<\u001b[0m\u001b[1;95mclass\u001b[0m\u001b[39m \u001b[0m\u001b[33m'int'\u001b[0m\u001b[1m>\u001b[0m                                                                     \u001b[33m│\u001b[0m   \u001b[31m│\u001b[0m\n",
       "\u001b[31m│\u001b[0m \u001b[33m│\u001b[0m errors = \u001b[33m'raise'\u001b[0m                                                                           \u001b[33m│\u001b[0m   \u001b[31m│\u001b[0m\n",
       "\u001b[31m│\u001b[0m \u001b[33m│\u001b[0m   self = SingleBlockManager                                                                \u001b[33m│\u001b[0m   \u001b[31m│\u001b[0m\n",
       "\u001b[31m│\u001b[0m \u001b[33m│\u001b[0m          Items: \u001b[1;35mInt64Index\u001b[0m\u001b[1m(\u001b[0m\u001b[1m[\u001b[0m      \u001b[94m0\u001b[0m,       \u001b[94m1\u001b[0m,       \u001b[94m4\u001b[0m,       \u001b[94m5\u001b[0m,       \u001b[94m6\u001b[0m,       \u001b[94m7\u001b[0m,       \u001b[94m8\u001b[0m, \u001b[33m│\u001b[0m   \u001b[31m│\u001b[0m\n",
       "\u001b[31m│\u001b[0m \u001b[33m│\u001b[0m          \u001b[2m│   │   │   │     \u001b[0m\u001b[94m9\u001b[0m,      \u001b[94m10\u001b[0m,      \u001b[94m11\u001b[0m,                                            \u001b[33m│\u001b[0m   \u001b[31m│\u001b[0m\n",
       "\u001b[31m│\u001b[0m \u001b[33m│\u001b[0m          \u001b[2m│   │   │   \u001b[0m\u001b[33m...\u001b[0m                                                                   \u001b[33m│\u001b[0m   \u001b[31m│\u001b[0m\n",
       "\u001b[31m│\u001b[0m \u001b[33m│\u001b[0m          \u001b[2m│   │   │   \u001b[0m\u001b[94m1861363\u001b[0m, \u001b[94m1861364\u001b[0m, \u001b[94m1861365\u001b[0m, \u001b[94m1861366\u001b[0m, \u001b[94m1861367\u001b[0m, \u001b[94m1861368\u001b[0m, \u001b[94m1861369\u001b[0m,        \u001b[33m│\u001b[0m   \u001b[31m│\u001b[0m\n",
       "\u001b[31m│\u001b[0m \u001b[33m│\u001b[0m          \u001b[2m│   │   │   \u001b[0m\u001b[94m1861370\u001b[0m, \u001b[94m1861371\u001b[0m, \u001b[94m1861372\u001b[0m\u001b[1m]\u001b[0m,                                           \u001b[33m│\u001b[0m   \u001b[31m│\u001b[0m\n",
       "\u001b[31m│\u001b[0m \u001b[33m│\u001b[0m          \u001b[2m│   │      \u001b[0m\u001b[33mdtype\u001b[0m=\u001b[33m'int64'\u001b[0m, \u001b[33mlength\u001b[0m=\u001b[94m1804763\u001b[0m\u001b[1m)\u001b[0m                                         \u001b[33m│\u001b[0m   \u001b[31m│\u001b[0m\n",
       "\u001b[31m│\u001b[0m \u001b[33m│\u001b[0m          ObjectBlock: \u001b[94m1804763\u001b[0m dtype: object                                                \u001b[33m│\u001b[0m   \u001b[31m│\u001b[0m\n",
       "\u001b[31m│\u001b[0m \u001b[33m╰────────────────────────────────────────────────────────────────────────────────────────────╯\u001b[0m   \u001b[31m│\u001b[0m\n",
       "\u001b[31m│\u001b[0m                                                                                                  \u001b[31m│\u001b[0m\n",
       "\u001b[31m│\u001b[0m \u001b[2;33m/opt/homebrew/Caskroom/miniforge/base/envs/dm_project/lib/python3.10/site-packages/pandas/core/i\u001b[0m \u001b[31m│\u001b[0m\n",
       "\u001b[31m│\u001b[0m \u001b[2;33mnternals/\u001b[0m\u001b[1;33mmanagers.py\u001b[0m:\u001b[94m304\u001b[0m in \u001b[92mapply\u001b[0m                                                                \u001b[31m│\u001b[0m\n",
       "\u001b[31m│\u001b[0m                                                                                                  \u001b[31m│\u001b[0m\n",
       "\u001b[31m│\u001b[0m   \u001b[2m 301 \u001b[0m\u001b[2m│   │   │   │   \u001b[0m\u001b[94mif\u001b[0m callable(f):                                                           \u001b[31m│\u001b[0m\n",
       "\u001b[31m│\u001b[0m   \u001b[2m 302 \u001b[0m\u001b[2m│   │   │   │   │   \u001b[0mapplied = b.apply(f, **kwargs)                                        \u001b[31m│\u001b[0m\n",
       "\u001b[31m│\u001b[0m   \u001b[2m 303 \u001b[0m\u001b[2m│   │   │   │   \u001b[0m\u001b[94melse\u001b[0m:                                                                     \u001b[31m│\u001b[0m\n",
       "\u001b[31m│\u001b[0m \u001b[31m❱ \u001b[0m 304 \u001b[2m│   │   │   │   │   \u001b[0mapplied = \u001b[96mgetattr\u001b[0m(b, f)(**kwargs)                                     \u001b[31m│\u001b[0m\n",
       "\u001b[31m│\u001b[0m   \u001b[2m 305 \u001b[0m\u001b[2m│   │   │   \u001b[0m\u001b[94mexcept\u001b[0m (\u001b[96mTypeError\u001b[0m, \u001b[96mNotImplementedError\u001b[0m):                                      \u001b[31m│\u001b[0m\n",
       "\u001b[31m│\u001b[0m   \u001b[2m 306 \u001b[0m\u001b[2m│   │   │   │   \u001b[0m\u001b[94mif\u001b[0m \u001b[95mnot\u001b[0m ignore_failures:                                                   \u001b[31m│\u001b[0m\n",
       "\u001b[31m│\u001b[0m   \u001b[2m 307 \u001b[0m\u001b[2m│   │   │   │   │   \u001b[0m\u001b[94mraise\u001b[0m                                                                 \u001b[31m│\u001b[0m\n",
       "\u001b[31m│\u001b[0m                                                                                                  \u001b[31m│\u001b[0m\n",
       "\u001b[31m│\u001b[0m \u001b[33m╭─\u001b[0m\u001b[33m────────────────────────────────────────── locals ──────────────────────────────────────────\u001b[0m\u001b[33m─╮\u001b[0m \u001b[31m│\u001b[0m\n",
       "\u001b[31m│\u001b[0m \u001b[33m│\u001b[0m      align_keys = \u001b[1m[\u001b[0m\u001b[1m]\u001b[0m                                                                         \u001b[33m│\u001b[0m \u001b[31m│\u001b[0m\n",
       "\u001b[31m│\u001b[0m \u001b[33m│\u001b[0m    aligned_args = \u001b[1m{\u001b[0m\u001b[1m}\u001b[0m                                                                         \u001b[33m│\u001b[0m \u001b[31m│\u001b[0m\n",
       "\u001b[31m│\u001b[0m \u001b[33m│\u001b[0m               b = ObjectBlock: \u001b[94m1804763\u001b[0m dtype: object                                         \u001b[33m│\u001b[0m \u001b[31m│\u001b[0m\n",
       "\u001b[31m│\u001b[0m \u001b[33m│\u001b[0m               f = \u001b[33m'astype'\u001b[0m                                                                   \u001b[33m│\u001b[0m \u001b[31m│\u001b[0m\n",
       "\u001b[31m│\u001b[0m \u001b[33m│\u001b[0m ignore_failures = \u001b[94mFalse\u001b[0m                                                                      \u001b[33m│\u001b[0m \u001b[31m│\u001b[0m\n",
       "\u001b[31m│\u001b[0m \u001b[33m│\u001b[0m          kwargs = \u001b[1m{\u001b[0m\u001b[33m'dtype'\u001b[0m: \u001b[1m<\u001b[0m\u001b[1;95mclass\u001b[0m\u001b[39m \u001b[0m\u001b[33m'int'\u001b[0m\u001b[1m>\u001b[0m, \u001b[33m'copy'\u001b[0m: \u001b[94mTrue\u001b[0m, \u001b[33m'errors'\u001b[0m: \u001b[33m'raise'\u001b[0m\u001b[1m}\u001b[0m                  \u001b[33m│\u001b[0m \u001b[31m│\u001b[0m\n",
       "\u001b[31m│\u001b[0m \u001b[33m│\u001b[0m   result_blocks = \u001b[1m[\u001b[0m\u001b[1m]\u001b[0m                                                                         \u001b[33m│\u001b[0m \u001b[31m│\u001b[0m\n",
       "\u001b[31m│\u001b[0m \u001b[33m│\u001b[0m            self = SingleBlockManager                                                         \u001b[33m│\u001b[0m \u001b[31m│\u001b[0m\n",
       "\u001b[31m│\u001b[0m \u001b[33m│\u001b[0m                   Items: \u001b[1;35mInt64Index\u001b[0m\u001b[1m(\u001b[0m\u001b[1m[\u001b[0m      \u001b[94m0\u001b[0m,       \u001b[94m1\u001b[0m,       \u001b[94m4\u001b[0m,       \u001b[94m5\u001b[0m,       \u001b[94m6\u001b[0m,       \u001b[94m7\u001b[0m,   \u001b[33m│\u001b[0m \u001b[31m│\u001b[0m\n",
       "\u001b[31m│\u001b[0m \u001b[33m│\u001b[0m                   \u001b[94m8\u001b[0m,                                                                         \u001b[33m│\u001b[0m \u001b[31m│\u001b[0m\n",
       "\u001b[31m│\u001b[0m \u001b[33m│\u001b[0m                   \u001b[2m│   │   │   │     \u001b[0m\u001b[94m9\u001b[0m,      \u001b[94m10\u001b[0m,      \u001b[94m11\u001b[0m,                                     \u001b[33m│\u001b[0m \u001b[31m│\u001b[0m\n",
       "\u001b[31m│\u001b[0m \u001b[33m│\u001b[0m                   \u001b[2m│   │   │   \u001b[0m\u001b[33m...\u001b[0m                                                            \u001b[33m│\u001b[0m \u001b[31m│\u001b[0m\n",
       "\u001b[31m│\u001b[0m \u001b[33m│\u001b[0m                   \u001b[2m│   │   │   \u001b[0m\u001b[94m1861363\u001b[0m, \u001b[94m1861364\u001b[0m, \u001b[94m1861365\u001b[0m, \u001b[94m1861366\u001b[0m, \u001b[94m1861367\u001b[0m, \u001b[94m1861368\u001b[0m, \u001b[94m1861369\u001b[0m, \u001b[33m│\u001b[0m \u001b[31m│\u001b[0m\n",
       "\u001b[31m│\u001b[0m \u001b[33m│\u001b[0m                   \u001b[2m│   │   │   \u001b[0m\u001b[94m1861370\u001b[0m, \u001b[94m1861371\u001b[0m, \u001b[94m1861372\u001b[0m\u001b[1m]\u001b[0m,                                    \u001b[33m│\u001b[0m \u001b[31m│\u001b[0m\n",
       "\u001b[31m│\u001b[0m \u001b[33m│\u001b[0m                   \u001b[2m│   │      \u001b[0m\u001b[33mdtype\u001b[0m=\u001b[33m'int64'\u001b[0m, \u001b[33mlength\u001b[0m=\u001b[94m1804763\u001b[0m\u001b[1m)\u001b[0m                                  \u001b[33m│\u001b[0m \u001b[31m│\u001b[0m\n",
       "\u001b[31m│\u001b[0m \u001b[33m│\u001b[0m                   ObjectBlock: \u001b[94m1804763\u001b[0m dtype: object                                         \u001b[33m│\u001b[0m \u001b[31m│\u001b[0m\n",
       "\u001b[31m│\u001b[0m \u001b[33m╰──────────────────────────────────────────────────────────────────────────────────────────────╯\u001b[0m \u001b[31m│\u001b[0m\n",
       "\u001b[31m│\u001b[0m                                                                                                  \u001b[31m│\u001b[0m\n",
       "\u001b[31m│\u001b[0m \u001b[2;33m/opt/homebrew/Caskroom/miniforge/base/envs/dm_project/lib/python3.10/site-packages/pandas/core/i\u001b[0m \u001b[31m│\u001b[0m\n",
       "\u001b[31m│\u001b[0m \u001b[2;33mnternals/\u001b[0m\u001b[1;33mblocks.py\u001b[0m:\u001b[94m580\u001b[0m in \u001b[92mastype\u001b[0m                                                                 \u001b[31m│\u001b[0m\n",
       "\u001b[31m│\u001b[0m                                                                                                  \u001b[31m│\u001b[0m\n",
       "\u001b[31m│\u001b[0m   \u001b[2m 577 \u001b[0m\u001b[2;33m│   │   \u001b[0m\u001b[33m\"\"\"\u001b[0m                                                                               \u001b[31m│\u001b[0m\n",
       "\u001b[31m│\u001b[0m   \u001b[2m 578 \u001b[0m\u001b[2m│   │   \u001b[0mvalues = \u001b[96mself\u001b[0m.values                                                              \u001b[31m│\u001b[0m\n",
       "\u001b[31m│\u001b[0m   \u001b[2m 579 \u001b[0m\u001b[2m│   │   \u001b[0m                                                                                  \u001b[31m│\u001b[0m\n",
       "\u001b[31m│\u001b[0m \u001b[31m❱ \u001b[0m 580 \u001b[2m│   │   \u001b[0mnew_values = astype_array_safe(values, dtype, copy=copy, errors=errors)           \u001b[31m│\u001b[0m\n",
       "\u001b[31m│\u001b[0m   \u001b[2m 581 \u001b[0m\u001b[2m│   │   \u001b[0m                                                                                  \u001b[31m│\u001b[0m\n",
       "\u001b[31m│\u001b[0m   \u001b[2m 582 \u001b[0m\u001b[2m│   │   \u001b[0mnew_values = maybe_coerce_values(new_values)                                      \u001b[31m│\u001b[0m\n",
       "\u001b[31m│\u001b[0m   \u001b[2m 583 \u001b[0m\u001b[2m│   │   \u001b[0mnewb = \u001b[96mself\u001b[0m.make_block(new_values)                                                \u001b[31m│\u001b[0m\n",
       "\u001b[31m│\u001b[0m                                                                                                  \u001b[31m│\u001b[0m\n",
       "\u001b[31m│\u001b[0m \u001b[33m╭─\u001b[0m\u001b[33m─────────────────────────── locals ────────────────────────────\u001b[0m\u001b[33m─╮\u001b[0m                              \u001b[31m│\u001b[0m\n",
       "\u001b[31m│\u001b[0m \u001b[33m│\u001b[0m   copy = \u001b[94mTrue\u001b[0m                                                   \u001b[33m│\u001b[0m                              \u001b[31m│\u001b[0m\n",
       "\u001b[31m│\u001b[0m \u001b[33m│\u001b[0m  dtype = \u001b[1m<\u001b[0m\u001b[1;95mclass\u001b[0m\u001b[39m \u001b[0m\u001b[33m'int'\u001b[0m\u001b[1m>\u001b[0m                                          \u001b[33m│\u001b[0m                              \u001b[31m│\u001b[0m\n",
       "\u001b[31m│\u001b[0m \u001b[33m│\u001b[0m errors = \u001b[33m'raise'\u001b[0m                                                \u001b[33m│\u001b[0m                              \u001b[31m│\u001b[0m\n",
       "\u001b[31m│\u001b[0m \u001b[33m│\u001b[0m   self = ObjectBlock: \u001b[94m1804763\u001b[0m dtype: object                     \u001b[33m│\u001b[0m                              \u001b[31m│\u001b[0m\n",
       "\u001b[31m│\u001b[0m \u001b[33m│\u001b[0m values = \u001b[1;35marray\u001b[0m\u001b[1m(\u001b[0m\u001b[1m[\u001b[0m\u001b[94m0\u001b[0m, \u001b[94m0\u001b[0m, \u001b[94m0\u001b[0m, \u001b[33m...\u001b[0m, \u001b[94m0\u001b[0m, \u001b[94m0\u001b[0m, \u001b[33m'901280006'\u001b[0m\u001b[1m]\u001b[0m, \u001b[33mdtype\u001b[0m=\u001b[35mobject\u001b[0m\u001b[1m)\u001b[0m \u001b[33m│\u001b[0m                              \u001b[31m│\u001b[0m\n",
       "\u001b[31m│\u001b[0m \u001b[33m╰─────────────────────────────────────────────────────────────────╯\u001b[0m                              \u001b[31m│\u001b[0m\n",
       "\u001b[31m│\u001b[0m                                                                                                  \u001b[31m│\u001b[0m\n",
       "\u001b[31m│\u001b[0m \u001b[2;33m/opt/homebrew/Caskroom/miniforge/base/envs/dm_project/lib/python3.10/site-packages/pandas/core/d\u001b[0m \u001b[31m│\u001b[0m\n",
       "\u001b[31m│\u001b[0m \u001b[2;33mtypes/\u001b[0m\u001b[1;33mcast.py\u001b[0m:\u001b[94m1292\u001b[0m in \u001b[92mastype_array_safe\u001b[0m                                                          \u001b[31m│\u001b[0m\n",
       "\u001b[31m│\u001b[0m                                                                                                  \u001b[31m│\u001b[0m\n",
       "\u001b[31m│\u001b[0m   \u001b[2m1289 \u001b[0m\u001b[2m│   │   \u001b[0mdtype = dtype.numpy_dtype                                                         \u001b[31m│\u001b[0m\n",
       "\u001b[31m│\u001b[0m   \u001b[2m1290 \u001b[0m\u001b[2m│   \u001b[0m                                                                                      \u001b[31m│\u001b[0m\n",
       "\u001b[31m│\u001b[0m   \u001b[2m1291 \u001b[0m\u001b[2m│   \u001b[0m\u001b[94mtry\u001b[0m:                                                                                  \u001b[31m│\u001b[0m\n",
       "\u001b[31m│\u001b[0m \u001b[31m❱ \u001b[0m1292 \u001b[2m│   │   \u001b[0mnew_values = astype_array(values, dtype, copy=copy)                               \u001b[31m│\u001b[0m\n",
       "\u001b[31m│\u001b[0m   \u001b[2m1293 \u001b[0m\u001b[2m│   \u001b[0m\u001b[94mexcept\u001b[0m (\u001b[96mValueError\u001b[0m, \u001b[96mTypeError\u001b[0m):                                                       \u001b[31m│\u001b[0m\n",
       "\u001b[31m│\u001b[0m   \u001b[2m1294 \u001b[0m\u001b[2m│   │   \u001b[0m\u001b[2m# e.g. astype_nansafe can fail on object-dtype of strings\u001b[0m                         \u001b[31m│\u001b[0m\n",
       "\u001b[31m│\u001b[0m   \u001b[2m1295 \u001b[0m\u001b[2m│   │   \u001b[0m\u001b[2m#  trying to convert to float\u001b[0m                                                     \u001b[31m│\u001b[0m\n",
       "\u001b[31m│\u001b[0m                                                                                                  \u001b[31m│\u001b[0m\n",
       "\u001b[31m│\u001b[0m \u001b[33m╭─\u001b[0m\u001b[33m────────────────────────────────── locals ──────────────────────────────────\u001b[0m\u001b[33m─╮\u001b[0m                 \u001b[31m│\u001b[0m\n",
       "\u001b[31m│\u001b[0m \u001b[33m│\u001b[0m                copy = \u001b[94mTrue\u001b[0m                                                   \u001b[33m│\u001b[0m                 \u001b[31m│\u001b[0m\n",
       "\u001b[31m│\u001b[0m \u001b[33m│\u001b[0m               dtype = \u001b[1;35mdtype\u001b[0m\u001b[1m(\u001b[0m\u001b[33m'int64'\u001b[0m\u001b[1m)\u001b[0m                                         \u001b[33m│\u001b[0m                 \u001b[31m│\u001b[0m\n",
       "\u001b[31m│\u001b[0m \u001b[33m│\u001b[0m              errors = \u001b[33m'raise'\u001b[0m                                                \u001b[33m│\u001b[0m                 \u001b[31m│\u001b[0m\n",
       "\u001b[31m│\u001b[0m \u001b[33m│\u001b[0m errors_legal_values = \u001b[1m(\u001b[0m\u001b[33m'raise'\u001b[0m, \u001b[33m'ignore'\u001b[0m\u001b[1m)\u001b[0m                                    \u001b[33m│\u001b[0m                 \u001b[31m│\u001b[0m\n",
       "\u001b[31m│\u001b[0m \u001b[33m│\u001b[0m              values = \u001b[1;35marray\u001b[0m\u001b[1m(\u001b[0m\u001b[1m[\u001b[0m\u001b[94m0\u001b[0m, \u001b[94m0\u001b[0m, \u001b[94m0\u001b[0m, \u001b[33m...\u001b[0m, \u001b[94m0\u001b[0m, \u001b[94m0\u001b[0m, \u001b[33m'901280006'\u001b[0m\u001b[1m]\u001b[0m, \u001b[33mdtype\u001b[0m=\u001b[35mobject\u001b[0m\u001b[1m)\u001b[0m \u001b[33m│\u001b[0m                 \u001b[31m│\u001b[0m\n",
       "\u001b[31m│\u001b[0m \u001b[33m╰──────────────────────────────────────────────────────────────────────────────╯\u001b[0m                 \u001b[31m│\u001b[0m\n",
       "\u001b[31m│\u001b[0m                                                                                                  \u001b[31m│\u001b[0m\n",
       "\u001b[31m│\u001b[0m \u001b[2;33m/opt/homebrew/Caskroom/miniforge/base/envs/dm_project/lib/python3.10/site-packages/pandas/core/d\u001b[0m \u001b[31m│\u001b[0m\n",
       "\u001b[31m│\u001b[0m \u001b[2;33mtypes/\u001b[0m\u001b[1;33mcast.py\u001b[0m:\u001b[94m1237\u001b[0m in \u001b[92mastype_array\u001b[0m                                                               \u001b[31m│\u001b[0m\n",
       "\u001b[31m│\u001b[0m                                                                                                  \u001b[31m│\u001b[0m\n",
       "\u001b[31m│\u001b[0m   \u001b[2m1234 \u001b[0m\u001b[2m│   │   \u001b[0mvalues = values.astype(dtype, copy=copy)                                          \u001b[31m│\u001b[0m\n",
       "\u001b[31m│\u001b[0m   \u001b[2m1235 \u001b[0m\u001b[2m│   \u001b[0m                                                                                      \u001b[31m│\u001b[0m\n",
       "\u001b[31m│\u001b[0m   \u001b[2m1236 \u001b[0m\u001b[2m│   \u001b[0m\u001b[94melse\u001b[0m:                                                                                 \u001b[31m│\u001b[0m\n",
       "\u001b[31m│\u001b[0m \u001b[31m❱ \u001b[0m1237 \u001b[2m│   │   \u001b[0mvalues = astype_nansafe(values, dtype, copy=copy)                                 \u001b[31m│\u001b[0m\n",
       "\u001b[31m│\u001b[0m   \u001b[2m1238 \u001b[0m\u001b[2m│   \u001b[0m                                                                                      \u001b[31m│\u001b[0m\n",
       "\u001b[31m│\u001b[0m   \u001b[2m1239 \u001b[0m\u001b[2m│   \u001b[0m\u001b[2m# in pandas we don't store numpy str dtypes, so convert to object\u001b[0m                     \u001b[31m│\u001b[0m\n",
       "\u001b[31m│\u001b[0m   \u001b[2m1240 \u001b[0m\u001b[2m│   \u001b[0m\u001b[94mif\u001b[0m \u001b[96misinstance\u001b[0m(dtype, np.dtype) \u001b[95mand\u001b[0m \u001b[96missubclass\u001b[0m(values.dtype.type, \u001b[96mstr\u001b[0m):                \u001b[31m│\u001b[0m\n",
       "\u001b[31m│\u001b[0m                                                                                                  \u001b[31m│\u001b[0m\n",
       "\u001b[31m│\u001b[0m \u001b[33m╭─\u001b[0m\u001b[33m─────────────────────────── locals ────────────────────────────\u001b[0m\u001b[33m─╮\u001b[0m                              \u001b[31m│\u001b[0m\n",
       "\u001b[31m│\u001b[0m \u001b[33m│\u001b[0m   copy = \u001b[94mTrue\u001b[0m                                                   \u001b[33m│\u001b[0m                              \u001b[31m│\u001b[0m\n",
       "\u001b[31m│\u001b[0m \u001b[33m│\u001b[0m  dtype = \u001b[1;35mdtype\u001b[0m\u001b[1m(\u001b[0m\u001b[33m'int64'\u001b[0m\u001b[1m)\u001b[0m                                         \u001b[33m│\u001b[0m                              \u001b[31m│\u001b[0m\n",
       "\u001b[31m│\u001b[0m \u001b[33m│\u001b[0m values = \u001b[1;35marray\u001b[0m\u001b[1m(\u001b[0m\u001b[1m[\u001b[0m\u001b[94m0\u001b[0m, \u001b[94m0\u001b[0m, \u001b[94m0\u001b[0m, \u001b[33m...\u001b[0m, \u001b[94m0\u001b[0m, \u001b[94m0\u001b[0m, \u001b[33m'901280006'\u001b[0m\u001b[1m]\u001b[0m, \u001b[33mdtype\u001b[0m=\u001b[35mobject\u001b[0m\u001b[1m)\u001b[0m \u001b[33m│\u001b[0m                              \u001b[31m│\u001b[0m\n",
       "\u001b[31m│\u001b[0m \u001b[33m╰─────────────────────────────────────────────────────────────────╯\u001b[0m                              \u001b[31m│\u001b[0m\n",
       "\u001b[31m│\u001b[0m                                                                                                  \u001b[31m│\u001b[0m\n",
       "\u001b[31m│\u001b[0m \u001b[2;33m/opt/homebrew/Caskroom/miniforge/base/envs/dm_project/lib/python3.10/site-packages/pandas/core/d\u001b[0m \u001b[31m│\u001b[0m\n",
       "\u001b[31m│\u001b[0m \u001b[2;33mtypes/\u001b[0m\u001b[1;33mcast.py\u001b[0m:\u001b[94m1154\u001b[0m in \u001b[92mastype_nansafe\u001b[0m                                                             \u001b[31m│\u001b[0m\n",
       "\u001b[31m│\u001b[0m                                                                                                  \u001b[31m│\u001b[0m\n",
       "\u001b[31m│\u001b[0m   \u001b[2m1151 \u001b[0m\u001b[2m│   │   \u001b[0m                                                                                  \u001b[31m│\u001b[0m\n",
       "\u001b[31m│\u001b[0m   \u001b[2m1152 \u001b[0m\u001b[2m│   │   \u001b[0m\u001b[2m# work around NumPy brokenness, #1987\u001b[0m                                             \u001b[31m│\u001b[0m\n",
       "\u001b[31m│\u001b[0m   \u001b[2m1153 \u001b[0m\u001b[2m│   │   \u001b[0m\u001b[94mif\u001b[0m np.issubdtype(dtype.type, np.integer):                                         \u001b[31m│\u001b[0m\n",
       "\u001b[31m│\u001b[0m \u001b[31m❱ \u001b[0m1154 \u001b[2m│   │   │   \u001b[0m\u001b[94mreturn\u001b[0m lib.astype_intsafe(arr, dtype)                                         \u001b[31m│\u001b[0m\n",
       "\u001b[31m│\u001b[0m   \u001b[2m1155 \u001b[0m\u001b[2m│   │   \u001b[0m                                                                                  \u001b[31m│\u001b[0m\n",
       "\u001b[31m│\u001b[0m   \u001b[2m1156 \u001b[0m\u001b[2m│   │   \u001b[0m\u001b[2m# if we have a datetime/timedelta array of objects\u001b[0m                                \u001b[31m│\u001b[0m\n",
       "\u001b[31m│\u001b[0m   \u001b[2m1157 \u001b[0m\u001b[2m│   │   \u001b[0m\u001b[2m# then coerce to a proper dtype and recall astype_nansafe\u001b[0m                         \u001b[31m│\u001b[0m\n",
       "\u001b[31m│\u001b[0m                                                                                                  \u001b[31m│\u001b[0m\n",
       "\u001b[31m│\u001b[0m \u001b[33m╭─\u001b[0m\u001b[33m─────────────────────────── locals ────────────────────────────\u001b[0m\u001b[33m─╮\u001b[0m                              \u001b[31m│\u001b[0m\n",
       "\u001b[31m│\u001b[0m \u001b[33m│\u001b[0m    arr = \u001b[1;35marray\u001b[0m\u001b[1m(\u001b[0m\u001b[1m[\u001b[0m\u001b[94m0\u001b[0m, \u001b[94m0\u001b[0m, \u001b[94m0\u001b[0m, \u001b[33m...\u001b[0m, \u001b[94m0\u001b[0m, \u001b[94m0\u001b[0m, \u001b[33m'901280006'\u001b[0m\u001b[1m]\u001b[0m, \u001b[33mdtype\u001b[0m=\u001b[35mobject\u001b[0m\u001b[1m)\u001b[0m \u001b[33m│\u001b[0m                              \u001b[31m│\u001b[0m\n",
       "\u001b[31m│\u001b[0m \u001b[33m│\u001b[0m   copy = \u001b[94mTrue\u001b[0m                                                   \u001b[33m│\u001b[0m                              \u001b[31m│\u001b[0m\n",
       "\u001b[31m│\u001b[0m \u001b[33m│\u001b[0m  dtype = \u001b[1;35mdtype\u001b[0m\u001b[1m(\u001b[0m\u001b[33m'int64'\u001b[0m\u001b[1m)\u001b[0m                                         \u001b[33m│\u001b[0m                              \u001b[31m│\u001b[0m\n",
       "\u001b[31m│\u001b[0m \u001b[33m│\u001b[0m skipna = \u001b[94mFalse\u001b[0m                                                  \u001b[33m│\u001b[0m                              \u001b[31m│\u001b[0m\n",
       "\u001b[31m│\u001b[0m \u001b[33m╰─────────────────────────────────────────────────────────────────╯\u001b[0m                              \u001b[31m│\u001b[0m\n",
       "\u001b[31m│\u001b[0m                                                                                                  \u001b[31m│\u001b[0m\n",
       "\u001b[31m│\u001b[0m \u001b[2;33m/Users/juanazuero/Documents/DS/DM_project/notebooks/Exploration/pandas/_libs/\u001b[0m\u001b[1;33mlib.pyx\u001b[0m:\u001b[94m668\u001b[0m in      \u001b[31m│\u001b[0m\n",
       "\u001b[31m│\u001b[0m \u001b[92mpandas._libs.lib.astype_intsafe\u001b[0m                                                                  \u001b[31m│\u001b[0m\n",
       "\u001b[31m│\u001b[0m                                                                                                  \u001b[31m│\u001b[0m\n",
       "\u001b[31m│\u001b[0m \u001b[3;31m[Errno 2] No such file or directory: \u001b[0m                                                            \u001b[31m│\u001b[0m\n",
       "\u001b[31m│\u001b[0m \u001b[3;31m'/Users/juanazuero/Documents/DS/DM_project/notebooks/Exploration/pandas/_libs/lib.pyx'\u001b[0m           \u001b[31m│\u001b[0m\n",
       "\u001b[31m╰──────────────────────────────────────────────────────────────────────────────────────────────────╯\u001b[0m\n",
       "\u001b[1;91mValueError: \u001b[0minvalid literal for \u001b[1;35mint\u001b[0m\u001b[1m(\u001b[0m\u001b[1m)\u001b[0m with base \u001b[1;36m10\u001b[0m: \u001b[32m'B87709341'\u001b[0m\n"
      ]
     },
     "metadata": {},
     "output_type": "display_data"
    },
    {
     "data": {
      "text/html": [
       "<pre style=\"white-space:pre;overflow-x:auto;line-height:normal;font-family:Menlo,'DejaVu Sans Mono',consolas,'Courier New',monospace\"><span style=\"font-weight: bold\">&lt;</span><span style=\"color: #ff00ff; text-decoration-color: #ff00ff; font-weight: bold\">IPython.core.display.Javascript</span><span style=\"color: #000000; text-decoration-color: #000000\"> object</span><span style=\"font-weight: bold\">&gt;</span>\n",
       "</pre>\n"
      ],
      "text/plain": [
       "\u001b[1m<\u001b[0m\u001b[1;95mIPython.core.display.Javascript\u001b[0m\u001b[39m object\u001b[0m\u001b[1m>\u001b[0m\n"
      ]
     },
     "metadata": {},
     "output_type": "display_data"
    },
    {
     "data": {
      "application/javascript": [
       "\n",
       "            setTimeout(function() {\n",
       "                var nbb_cell_id = 16;\n",
       "                var nbb_unformatted_code = \"secop_2[\\\"nit_del_proveedor_adjudicado\\\"].astype(int)\";\n",
       "                var nbb_formatted_code = \"secop_2[\\\"nit_del_proveedor_adjudicado\\\"].astype(int)\";\n",
       "                var nbb_cells = Jupyter.notebook.get_cells();\n",
       "                for (var i = 0; i < nbb_cells.length; ++i) {\n",
       "                    if (nbb_cells[i].input_prompt_number == nbb_cell_id) {\n",
       "                        if (nbb_cells[i].get_text() == nbb_unformatted_code) {\n",
       "                             nbb_cells[i].set_text(nbb_formatted_code);\n",
       "                        }\n",
       "                        break;\n",
       "                    }\n",
       "                }\n",
       "            }, 500);\n",
       "            "
      ]
     },
     "metadata": {},
     "output_type": "display_data"
    }
   ],
   "source": [
    "secop_2[\"nit_del_proveedor_adjudicado\"].astype(int)"
   ]
  },
  {
   "cell_type": "code",
   "execution_count": 21,
   "id": "43513d06",
   "metadata": {},
   "outputs": [
    {
     "data": {
      "text/html": [
       "<pre style=\"white-space:pre;overflow-x:auto;line-height:normal;font-family:Menlo,'DejaVu Sans Mono',consolas,'Courier New',monospace\"><span style=\"color: #008080; text-decoration-color: #008080; font-weight: bold\">830039329</span>\n",
       "</pre>\n"
      ],
      "text/plain": [
       "\u001b[1;36m830039329\u001b[0m\n"
      ]
     },
     "metadata": {},
     "output_type": "display_data"
    },
    {
     "data": {
      "text/html": [
       "<pre style=\"white-space:pre;overflow-x:auto;line-height:normal;font-family:Menlo,'DejaVu Sans Mono',consolas,'Courier New',monospace\"><span style=\"font-weight: bold\">&lt;</span><span style=\"color: #ff00ff; text-decoration-color: #ff00ff; font-weight: bold\">IPython.core.display.Javascript</span><span style=\"color: #000000; text-decoration-color: #000000\"> object</span><span style=\"font-weight: bold\">&gt;</span>\n",
       "</pre>\n"
      ],
      "text/plain": [
       "\u001b[1m<\u001b[0m\u001b[1;95mIPython.core.display.Javascript\u001b[0m\u001b[39m object\u001b[0m\u001b[1m>\u001b[0m\n"
      ]
     },
     "metadata": {},
     "output_type": "display_data"
    },
    {
     "data": {
      "application/javascript": [
       "\n",
       "            setTimeout(function() {\n",
       "                var nbb_cell_id = 21;\n",
       "                var nbb_unformatted_code = \"int(\\\"830039329\\\")\";\n",
       "                var nbb_formatted_code = \"int(\\\"830039329\\\")\";\n",
       "                var nbb_cells = Jupyter.notebook.get_cells();\n",
       "                for (var i = 0; i < nbb_cells.length; ++i) {\n",
       "                    if (nbb_cells[i].input_prompt_number == nbb_cell_id) {\n",
       "                        if (nbb_cells[i].get_text() == nbb_unformatted_code) {\n",
       "                             nbb_cells[i].set_text(nbb_formatted_code);\n",
       "                        }\n",
       "                        break;\n",
       "                    }\n",
       "                }\n",
       "            }, 500);\n",
       "            "
      ]
     },
     "metadata": {},
     "output_type": "display_data"
    }
   ],
   "source": [
    "int(\"830039329\")"
   ]
  },
  {
   "cell_type": "code",
   "execution_count": null,
   "id": "e4795890",
   "metadata": {},
   "outputs": [],
   "source": []
  },
  {
   "cell_type": "code",
   "execution_count": null,
   "id": "26107688",
   "metadata": {},
   "outputs": [],
   "source": []
  },
  {
   "cell_type": "code",
   "execution_count": 5,
   "id": "bf9ac6d5",
   "metadata": {},
   "outputs": [
    {
     "name": "stderr",
     "output_type": "stream",
     "text": [
      "22/08/11 19:40:13 WARN package: Truncated the string representation of a plan since it was too large. This behavior can be adjusted by setting 'spark.sql.debug.maxToStringFields'.\n"
     ]
    },
    {
     "data": {
      "text/html": [
       "<pre style=\"white-space:pre;overflow-x:auto;line-height:normal;font-family:Menlo,'DejaVu Sans Mono',consolas,'Courier New',monospace\">DataFrame<span style=\"font-weight: bold\">[</span>entidad: string, departamento_entidad: string, ciudad_entidad: string, ordenentidad: string, id_del_proceso: string, referencia_del_proceso: string, nombre_del_procedimiento: string, descripci_n_del_procedimiento: string, fase: string, precio_base: string, modalidad_de_contratacion: string, duracion: string, unidad_de_duracion: string, proveedores_invitados: string, proveedores_con_invitacion: string, visualizaciones_del: string, proveedores_que_manifestaron: string, respuestas_al_procedimiento: string, respuestas_externas: string, conteo_de_respuestas_a_ofertas: string, proveedores_unicos_con: string, estado_del_procedimiento: string, adjudicado: string, departamento_proveedor: string, ciudad_proveedor: string, valor_total_adjudicacion: string, nombre_del_adjudicador: string, nombre_del_proveedor: string, nit_del_proveedor_adjudicado: string, tipo_de_contrato: string, subtipo_de_contrato: string, fecha_de_publicacion_del: date, fecha_de_ultima_publicaci: date, fecha_de_publicacion_fase_3: date, fecha_de_recepcion_de: date, fecha_de_apertura_efectiva: date, nit_entidad: bigint<span style=\"font-weight: bold\">]</span>\n",
       "</pre>\n"
      ],
      "text/plain": [
       "DataFrame\u001b[1m[\u001b[0mentidad: string, departamento_entidad: string, ciudad_entidad: string, ordenentidad: string, id_del_proceso: string, referencia_del_proceso: string, nombre_del_procedimiento: string, descripci_n_del_procedimiento: string, fase: string, precio_base: string, modalidad_de_contratacion: string, duracion: string, unidad_de_duracion: string, proveedores_invitados: string, proveedores_con_invitacion: string, visualizaciones_del: string, proveedores_que_manifestaron: string, respuestas_al_procedimiento: string, respuestas_externas: string, conteo_de_respuestas_a_ofertas: string, proveedores_unicos_con: string, estado_del_procedimiento: string, adjudicado: string, departamento_proveedor: string, ciudad_proveedor: string, valor_total_adjudicacion: string, nombre_del_adjudicador: string, nombre_del_proveedor: string, nit_del_proveedor_adjudicado: string, tipo_de_contrato: string, subtipo_de_contrato: string, fecha_de_publicacion_del: date, fecha_de_ultima_publicaci: date, fecha_de_publicacion_fase_3: date, fecha_de_recepcion_de: date, fecha_de_apertura_efectiva: date, nit_entidad: bigint\u001b[1m]\u001b[0m\n"
      ]
     },
     "metadata": {},
     "output_type": "display_data"
    },
    {
     "data": {
      "text/html": [
       "<pre style=\"white-space:pre;overflow-x:auto;line-height:normal;font-family:Menlo,'DejaVu Sans Mono',consolas,'Courier New',monospace\"><span style=\"font-weight: bold\">&lt;</span><span style=\"color: #ff00ff; text-decoration-color: #ff00ff; font-weight: bold\">IPython.core.display.Javascript</span><span style=\"color: #000000; text-decoration-color: #000000\"> object</span><span style=\"font-weight: bold\">&gt;</span>\n",
       "</pre>\n"
      ],
      "text/plain": [
       "\u001b[1m<\u001b[0m\u001b[1;95mIPython.core.display.Javascript\u001b[0m\u001b[39m object\u001b[0m\u001b[1m>\u001b[0m\n"
      ]
     },
     "metadata": {},
     "output_type": "display_data"
    },
    {
     "data": {
      "application/javascript": [
       "\n",
       "            setTimeout(function() {\n",
       "                var nbb_cell_id = 5;\n",
       "                var nbb_unformatted_code = \"secop_2.cache()\";\n",
       "                var nbb_formatted_code = \"secop_2.cache()\";\n",
       "                var nbb_cells = Jupyter.notebook.get_cells();\n",
       "                for (var i = 0; i < nbb_cells.length; ++i) {\n",
       "                    if (nbb_cells[i].input_prompt_number == nbb_cell_id) {\n",
       "                        if (nbb_cells[i].get_text() == nbb_unformatted_code) {\n",
       "                             nbb_cells[i].set_text(nbb_formatted_code);\n",
       "                        }\n",
       "                        break;\n",
       "                    }\n",
       "                }\n",
       "            }, 500);\n",
       "            "
      ]
     },
     "metadata": {},
     "output_type": "display_data"
    }
   ],
   "source": [
    "secop_2.cache()"
   ]
  },
  {
   "cell_type": "code",
   "execution_count": null,
   "id": "c2d78eaf",
   "metadata": {},
   "outputs": [],
   "source": [
    "secop_2_df = secop_2.toPandas()"
   ]
  },
  {
   "cell_type": "code",
   "execution_count": 16,
   "id": "ecfe0579",
   "metadata": {},
   "outputs": [
    {
     "data": {
      "text/html": [
       "<pre style=\"white-space:pre;overflow-x:auto;line-height:normal;font-family:Menlo,'DejaVu Sans Mono',consolas,'Courier New',monospace\"><span style=\"font-weight: bold\">&lt;</span><span style=\"color: #ff00ff; text-decoration-color: #ff00ff; font-weight: bold\">IPython.core.display.Javascript</span><span style=\"color: #000000; text-decoration-color: #000000\"> object</span><span style=\"font-weight: bold\">&gt;</span>\n",
       "</pre>\n"
      ],
      "text/plain": [
       "\u001b[1m<\u001b[0m\u001b[1;95mIPython.core.display.Javascript\u001b[0m\u001b[39m object\u001b[0m\u001b[1m>\u001b[0m\n"
      ]
     },
     "metadata": {},
     "output_type": "display_data"
    },
    {
     "data": {
      "application/javascript": [
       "\n",
       "            setTimeout(function() {\n",
       "                var nbb_cell_id = 16;\n",
       "                var nbb_unformatted_code = \"columnList = [item[0] for item in secop_2.dtypes if item[1].startswith('string')]\";\n",
       "                var nbb_formatted_code = \"columnList = [item[0] for item in secop_2.dtypes if item[1].startswith(\\\"string\\\")]\";\n",
       "                var nbb_cells = Jupyter.notebook.get_cells();\n",
       "                for (var i = 0; i < nbb_cells.length; ++i) {\n",
       "                    if (nbb_cells[i].input_prompt_number == nbb_cell_id) {\n",
       "                        if (nbb_cells[i].get_text() == nbb_unformatted_code) {\n",
       "                             nbb_cells[i].set_text(nbb_formatted_code);\n",
       "                        }\n",
       "                        break;\n",
       "                    }\n",
       "                }\n",
       "            }, 500);\n",
       "            "
      ]
     },
     "metadata": {},
     "output_type": "display_data"
    }
   ],
   "source": [
    "columnList = [item[0] for item in secop_2.dtypes if item[1].startswith(\"string\")]"
   ]
  },
  {
   "cell_type": "code",
   "execution_count": 17,
   "id": "161e36c6",
   "metadata": {},
   "outputs": [
    {
     "data": {
      "text/html": [
       "<pre style=\"white-space:pre;overflow-x:auto;line-height:normal;font-family:Menlo,'DejaVu Sans Mono',consolas,'Courier New',monospace\">\n",
       "<span style=\"font-weight: bold\">[</span>\n",
       "    <span style=\"color: #008000; text-decoration-color: #008000\">'entidad'</span>,\n",
       "    <span style=\"color: #008000; text-decoration-color: #008000\">'departamento_entidad'</span>,\n",
       "    <span style=\"color: #008000; text-decoration-color: #008000\">'ciudad_entidad'</span>,\n",
       "    <span style=\"color: #008000; text-decoration-color: #008000\">'ordenentidad'</span>,\n",
       "    <span style=\"color: #008000; text-decoration-color: #008000\">'codigo_pci'</span>,\n",
       "    <span style=\"color: #008000; text-decoration-color: #008000\">'id_del_proceso'</span>,\n",
       "    <span style=\"color: #008000; text-decoration-color: #008000\">'referencia_del_proceso'</span>,\n",
       "    <span style=\"color: #008000; text-decoration-color: #008000\">'ppi'</span>,\n",
       "    <span style=\"color: #008000; text-decoration-color: #008000\">'nombre_del_procedimiento'</span>,\n",
       "    <span style=\"color: #008000; text-decoration-color: #008000\">'descripci_n_del_procedimiento'</span>,\n",
       "    <span style=\"color: #008000; text-decoration-color: #008000\">'fase'</span>,\n",
       "    <span style=\"color: #008000; text-decoration-color: #008000\">'precio_base'</span>,\n",
       "    <span style=\"color: #008000; text-decoration-color: #008000\">'modalidad_de_contratacion'</span>,\n",
       "    <span style=\"color: #008000; text-decoration-color: #008000\">'duracion'</span>,\n",
       "    <span style=\"color: #008000; text-decoration-color: #008000\">'unidad_de_duracion'</span>,\n",
       "    <span style=\"color: #008000; text-decoration-color: #008000\">'ciudad_de_la_unidad_de'</span>,\n",
       "    <span style=\"color: #008000; text-decoration-color: #008000\">'nombre_de_la_unidad_de'</span>,\n",
       "    <span style=\"color: #008000; text-decoration-color: #008000\">'proveedores_invitados'</span>,\n",
       "    <span style=\"color: #008000; text-decoration-color: #008000\">'proveedores_con_invitacion'</span>,\n",
       "    <span style=\"color: #008000; text-decoration-color: #008000\">'visualizaciones_del'</span>,\n",
       "    <span style=\"color: #008000; text-decoration-color: #008000\">'proveedores_que_manifestaron'</span>,\n",
       "    <span style=\"color: #008000; text-decoration-color: #008000\">'respuestas_al_procedimiento'</span>,\n",
       "    <span style=\"color: #008000; text-decoration-color: #008000\">'respuestas_externas'</span>,\n",
       "    <span style=\"color: #008000; text-decoration-color: #008000\">'conteo_de_respuestas_a_ofertas'</span>,\n",
       "    <span style=\"color: #008000; text-decoration-color: #008000\">'proveedores_unicos_con'</span>,\n",
       "    <span style=\"color: #008000; text-decoration-color: #008000\">'estado_del_procedimiento'</span>,\n",
       "    <span style=\"color: #008000; text-decoration-color: #008000\">'id_estado_del_procedimiento'</span>,\n",
       "    <span style=\"color: #008000; text-decoration-color: #008000\">'adjudicado'</span>,\n",
       "    <span style=\"color: #008000; text-decoration-color: #008000\">'id_adjudicacion'</span>,\n",
       "    <span style=\"color: #008000; text-decoration-color: #008000\">'codigoproveedor'</span>,\n",
       "    <span style=\"color: #008000; text-decoration-color: #008000\">'departamento_proveedor'</span>,\n",
       "    <span style=\"color: #008000; text-decoration-color: #008000\">'ciudad_proveedor'</span>,\n",
       "    <span style=\"color: #008000; text-decoration-color: #008000\">'valor_total_adjudicacion'</span>,\n",
       "    <span style=\"color: #008000; text-decoration-color: #008000\">'nombre_del_adjudicador'</span>,\n",
       "    <span style=\"color: #008000; text-decoration-color: #008000\">'nombre_del_proveedor'</span>,\n",
       "    <span style=\"color: #008000; text-decoration-color: #008000\">'nit_del_proveedor_adjudicado'</span>,\n",
       "    <span style=\"color: #008000; text-decoration-color: #008000\">'codigo_principal_de_categoria'</span>,\n",
       "    <span style=\"color: #008000; text-decoration-color: #008000\">'estado_de_apertura_del_proceso'</span>,\n",
       "    <span style=\"color: #008000; text-decoration-color: #008000\">'tipo_de_contrato'</span>,\n",
       "    <span style=\"color: #008000; text-decoration-color: #008000\">'subtipo_de_contrato'</span>,\n",
       "    <span style=\"color: #008000; text-decoration-color: #008000\">'categorias_adicionales'</span>,\n",
       "    <span style=\"color: #008000; text-decoration-color: #008000\">'codigo_entidad'</span>,\n",
       "    <span style=\"color: #008000; text-decoration-color: #008000\">'estadoresumen'</span>,\n",
       "    <span style=\"color: #008000; text-decoration-color: #008000\">'fecha_de_publicacion_del'</span>,\n",
       "    <span style=\"color: #008000; text-decoration-color: #008000\">'fecha_de_ultima_publicaci'</span>,\n",
       "    <span style=\"color: #008000; text-decoration-color: #008000\">'fecha_de_publicacion_fase_3'</span>,\n",
       "    <span style=\"color: #008000; text-decoration-color: #008000\">'fecha_de_recepcion_de'</span>,\n",
       "    <span style=\"color: #008000; text-decoration-color: #008000\">'fecha_de_apertura_efectiva'</span>\n",
       "<span style=\"font-weight: bold\">]</span>\n",
       "</pre>\n"
      ],
      "text/plain": [
       "\n",
       "\u001b[1m[\u001b[0m\n",
       "    \u001b[32m'entidad'\u001b[0m,\n",
       "    \u001b[32m'departamento_entidad'\u001b[0m,\n",
       "    \u001b[32m'ciudad_entidad'\u001b[0m,\n",
       "    \u001b[32m'ordenentidad'\u001b[0m,\n",
       "    \u001b[32m'codigo_pci'\u001b[0m,\n",
       "    \u001b[32m'id_del_proceso'\u001b[0m,\n",
       "    \u001b[32m'referencia_del_proceso'\u001b[0m,\n",
       "    \u001b[32m'ppi'\u001b[0m,\n",
       "    \u001b[32m'nombre_del_procedimiento'\u001b[0m,\n",
       "    \u001b[32m'descripci_n_del_procedimiento'\u001b[0m,\n",
       "    \u001b[32m'fase'\u001b[0m,\n",
       "    \u001b[32m'precio_base'\u001b[0m,\n",
       "    \u001b[32m'modalidad_de_contratacion'\u001b[0m,\n",
       "    \u001b[32m'duracion'\u001b[0m,\n",
       "    \u001b[32m'unidad_de_duracion'\u001b[0m,\n",
       "    \u001b[32m'ciudad_de_la_unidad_de'\u001b[0m,\n",
       "    \u001b[32m'nombre_de_la_unidad_de'\u001b[0m,\n",
       "    \u001b[32m'proveedores_invitados'\u001b[0m,\n",
       "    \u001b[32m'proveedores_con_invitacion'\u001b[0m,\n",
       "    \u001b[32m'visualizaciones_del'\u001b[0m,\n",
       "    \u001b[32m'proveedores_que_manifestaron'\u001b[0m,\n",
       "    \u001b[32m'respuestas_al_procedimiento'\u001b[0m,\n",
       "    \u001b[32m'respuestas_externas'\u001b[0m,\n",
       "    \u001b[32m'conteo_de_respuestas_a_ofertas'\u001b[0m,\n",
       "    \u001b[32m'proveedores_unicos_con'\u001b[0m,\n",
       "    \u001b[32m'estado_del_procedimiento'\u001b[0m,\n",
       "    \u001b[32m'id_estado_del_procedimiento'\u001b[0m,\n",
       "    \u001b[32m'adjudicado'\u001b[0m,\n",
       "    \u001b[32m'id_adjudicacion'\u001b[0m,\n",
       "    \u001b[32m'codigoproveedor'\u001b[0m,\n",
       "    \u001b[32m'departamento_proveedor'\u001b[0m,\n",
       "    \u001b[32m'ciudad_proveedor'\u001b[0m,\n",
       "    \u001b[32m'valor_total_adjudicacion'\u001b[0m,\n",
       "    \u001b[32m'nombre_del_adjudicador'\u001b[0m,\n",
       "    \u001b[32m'nombre_del_proveedor'\u001b[0m,\n",
       "    \u001b[32m'nit_del_proveedor_adjudicado'\u001b[0m,\n",
       "    \u001b[32m'codigo_principal_de_categoria'\u001b[0m,\n",
       "    \u001b[32m'estado_de_apertura_del_proceso'\u001b[0m,\n",
       "    \u001b[32m'tipo_de_contrato'\u001b[0m,\n",
       "    \u001b[32m'subtipo_de_contrato'\u001b[0m,\n",
       "    \u001b[32m'categorias_adicionales'\u001b[0m,\n",
       "    \u001b[32m'codigo_entidad'\u001b[0m,\n",
       "    \u001b[32m'estadoresumen'\u001b[0m,\n",
       "    \u001b[32m'fecha_de_publicacion_del'\u001b[0m,\n",
       "    \u001b[32m'fecha_de_ultima_publicaci'\u001b[0m,\n",
       "    \u001b[32m'fecha_de_publicacion_fase_3'\u001b[0m,\n",
       "    \u001b[32m'fecha_de_recepcion_de'\u001b[0m,\n",
       "    \u001b[32m'fecha_de_apertura_efectiva'\u001b[0m\n",
       "\u001b[1m]\u001b[0m\n"
      ]
     },
     "metadata": {},
     "output_type": "display_data"
    },
    {
     "data": {
      "text/html": [
       "<pre style=\"white-space:pre;overflow-x:auto;line-height:normal;font-family:Menlo,'DejaVu Sans Mono',consolas,'Courier New',monospace\"><span style=\"font-weight: bold\">&lt;</span><span style=\"color: #ff00ff; text-decoration-color: #ff00ff; font-weight: bold\">IPython.core.display.Javascript</span><span style=\"color: #000000; text-decoration-color: #000000\"> object</span><span style=\"font-weight: bold\">&gt;</span>\n",
       "</pre>\n"
      ],
      "text/plain": [
       "\u001b[1m<\u001b[0m\u001b[1;95mIPython.core.display.Javascript\u001b[0m\u001b[39m object\u001b[0m\u001b[1m>\u001b[0m\n"
      ]
     },
     "metadata": {},
     "output_type": "display_data"
    },
    {
     "data": {
      "application/javascript": [
       "\n",
       "            setTimeout(function() {\n",
       "                var nbb_cell_id = 17;\n",
       "                var nbb_unformatted_code = \"columnList\";\n",
       "                var nbb_formatted_code = \"columnList\";\n",
       "                var nbb_cells = Jupyter.notebook.get_cells();\n",
       "                for (var i = 0; i < nbb_cells.length; ++i) {\n",
       "                    if (nbb_cells[i].input_prompt_number == nbb_cell_id) {\n",
       "                        if (nbb_cells[i].get_text() == nbb_unformatted_code) {\n",
       "                             nbb_cells[i].set_text(nbb_formatted_code);\n",
       "                        }\n",
       "                        break;\n",
       "                    }\n",
       "                }\n",
       "            }, 500);\n",
       "            "
      ]
     },
     "metadata": {},
     "output_type": "display_data"
    }
   ],
   "source": [
    "columnList"
   ]
  },
  {
   "cell_type": "code",
   "execution_count": 15,
   "id": "db1e7c34",
   "metadata": {
    "scrolled": true
   },
   "outputs": [
    {
     "data": {
      "text/html": [
       "<pre style=\"white-space:pre;overflow-x:auto;line-height:normal;font-family:Menlo,'DejaVu Sans Mono',consolas,'Courier New',monospace\"><span style=\"color: #800080; text-decoration-color: #800080; font-weight: bold\">StructType</span><span style=\"font-weight: bold\">(</span><span style=\"color: #800080; text-decoration-color: #800080; font-weight: bold\">List</span><span style=\"font-weight: bold\">(</span><span style=\"color: #800080; text-decoration-color: #800080; font-weight: bold\">StructField</span><span style=\"font-weight: bold\">(</span>entidad,StringType,true<span style=\"font-weight: bold\">)</span>,<span style=\"color: #800080; text-decoration-color: #800080; font-weight: bold\">StructField</span><span style=\"font-weight: bold\">(</span>departamento_entidad,StringType,true<span style=\"font-weight: bold\">)</span>,<span style=\"color: #800080; text-decoration-color: #800080; font-weight: bold\">StructField</span><span style=\"font-weight: bold\">(</span>ciudad_entidad,StringType,true<span style=\"font-weight: bold\">)</span>,<span style=\"color: #800080; text-decoration-color: #800080; font-weight: bold\">StructField</span><span style=\"font-weight: bold\">(</span>ordenentidad,StringType,true<span style=\"font-weight: bold\">)</span>,<span style=\"color: #800080; text-decoration-color: #800080; font-weight: bold\">StructField</span><span style=\"font-weight: bold\">(</span>codigo_pci,StringType,true<span style=\"font-weight: bold\">)</span>,<span style=\"color: #800080; text-decoration-color: #800080; font-weight: bold\">StructField</span><span style=\"font-weight: bold\">(</span>id_del_proceso,StringType,true<span style=\"font-weight: bold\">)</span>,<span style=\"color: #800080; text-decoration-color: #800080; font-weight: bold\">StructField</span><span style=\"font-weight: bold\">(</span>referencia_del_proceso,StringType,true<span style=\"font-weight: bold\">)</span>,<span style=\"color: #800080; text-decoration-color: #800080; font-weight: bold\">StructField</span><span style=\"font-weight: bold\">(</span>ppi,StringType,true<span style=\"font-weight: bold\">)</span>,<span style=\"color: #800080; text-decoration-color: #800080; font-weight: bold\">StructField</span><span style=\"font-weight: bold\">(</span>nombre_del_procedimiento,StringType,true<span style=\"font-weight: bold\">)</span>,<span style=\"color: #800080; text-decoration-color: #800080; font-weight: bold\">StructField</span><span style=\"font-weight: bold\">(</span>descripci_n_del_procedimiento,StringType,true<span style=\"font-weight: bold\">)</span>,<span style=\"color: #800080; text-decoration-color: #800080; font-weight: bold\">StructField</span><span style=\"font-weight: bold\">(</span>fase,StringType,true<span style=\"font-weight: bold\">)</span>,<span style=\"color: #800080; text-decoration-color: #800080; font-weight: bold\">StructField</span><span style=\"font-weight: bold\">(</span>precio_base,StringType,true<span style=\"font-weight: bold\">)</span>,<span style=\"color: #800080; text-decoration-color: #800080; font-weight: bold\">StructField</span><span style=\"font-weight: bold\">(</span>modalidad_de_contratacion,StringType,true<span style=\"font-weight: bold\">)</span>,<span style=\"color: #800080; text-decoration-color: #800080; font-weight: bold\">StructField</span><span style=\"font-weight: bold\">(</span>duracion,StringType,true<span style=\"font-weight: bold\">)</span>,<span style=\"color: #800080; text-decoration-color: #800080; font-weight: bold\">StructField</span><span style=\"font-weight: bold\">(</span>unidad_de_duracion,StringType,true<span style=\"font-weight: bold\">)</span>,<span style=\"color: #800080; text-decoration-color: #800080; font-weight: bold\">StructField</span><span style=\"font-weight: bold\">(</span>ciudad_de_la_unidad_de,StringType,true<span style=\"font-weight: bold\">)</span>,<span style=\"color: #800080; text-decoration-color: #800080; font-weight: bold\">StructField</span><span style=\"font-weight: bold\">(</span>nombre_de_la_unidad_de,StringType,true<span style=\"font-weight: bold\">)</span>,<span style=\"color: #800080; text-decoration-color: #800080; font-weight: bold\">StructField</span><span style=\"font-weight: bold\">(</span>proveedores_invitados,StringType,true<span style=\"font-weight: bold\">)</span>,<span style=\"color: #800080; text-decoration-color: #800080; font-weight: bold\">StructField</span><span style=\"font-weight: bold\">(</span>proveedores_con_invitacion,StringType,true<span style=\"font-weight: bold\">)</span>,<span style=\"color: #800080; text-decoration-color: #800080; font-weight: bold\">StructField</span><span style=\"font-weight: bold\">(</span>visualizaciones_del,StringType,true<span style=\"font-weight: bold\">)</span>,<span style=\"color: #800080; text-decoration-color: #800080; font-weight: bold\">StructField</span><span style=\"font-weight: bold\">(</span>proveedores_que_manifestaron,StringType,true<span style=\"font-weight: bold\">)</span>,<span style=\"color: #800080; text-decoration-color: #800080; font-weight: bold\">StructField</span><span style=\"font-weight: bold\">(</span>respuestas_al_procedimiento,StringType,true<span style=\"font-weight: bold\">)</span>,<span style=\"color: #800080; text-decoration-color: #800080; font-weight: bold\">StructField</span><span style=\"font-weight: bold\">(</span>respuestas_externas,StringType,true<span style=\"font-weight: bold\">)</span>,<span style=\"color: #800080; text-decoration-color: #800080; font-weight: bold\">StructField</span><span style=\"font-weight: bold\">(</span>conteo_de_respuestas_a_ofertas,StringType,true<span style=\"font-weight: bold\">)</span>,<span style=\"color: #800080; text-decoration-color: #800080; font-weight: bold\">StructField</span><span style=\"font-weight: bold\">(</span>proveedores_unicos_con,StringType,true<span style=\"font-weight: bold\">)</span>,<span style=\"color: #800080; text-decoration-color: #800080; font-weight: bold\">StructField</span><span style=\"font-weight: bold\">(</span>estado_del_procedimiento,StringType,true<span style=\"font-weight: bold\">)</span>,<span style=\"color: #800080; text-decoration-color: #800080; font-weight: bold\">StructField</span><span style=\"font-weight: bold\">(</span>id_estado_del_procedimiento,StringType,true<span style=\"font-weight: bold\">)</span>,<span style=\"color: #800080; text-decoration-color: #800080; font-weight: bold\">StructField</span><span style=\"font-weight: bold\">(</span>adjudicado,StringType,true<span style=\"font-weight: bold\">)</span>,<span style=\"color: #800080; text-decoration-color: #800080; font-weight: bold\">StructField</span><span style=\"font-weight: bold\">(</span>id_adjudicacion,StringType,true<span style=\"font-weight: bold\">)</span>,<span style=\"color: #800080; text-decoration-color: #800080; font-weight: bold\">StructField</span><span style=\"font-weight: bold\">(</span>codigoproveedor,StringType,true<span style=\"font-weight: bold\">)</span>,<span style=\"color: #800080; text-decoration-color: #800080; font-weight: bold\">StructField</span><span style=\"font-weight: bold\">(</span>departamento_proveedor,StringType,true<span style=\"font-weight: bold\">)</span>,<span style=\"color: #800080; text-decoration-color: #800080; font-weight: bold\">StructField</span><span style=\"font-weight: bold\">(</span>ciudad_proveedor,StringType,true<span style=\"font-weight: bold\">)</span>,<span style=\"color: #800080; text-decoration-color: #800080; font-weight: bold\">StructField</span><span style=\"font-weight: bold\">(</span>valor_total_adjudicacion,StringType,true<span style=\"font-weight: bold\">)</span>,<span style=\"color: #800080; text-decoration-color: #800080; font-weight: bold\">StructField</span><span style=\"font-weight: bold\">(</span>nombre_del_adjudicador,StringType,true<span style=\"font-weight: bold\">)</span>,<span style=\"color: #800080; text-decoration-color: #800080; font-weight: bold\">StructField</span><span style=\"font-weight: bold\">(</span>nombre_del_proveedor,StringType,true<span style=\"font-weight: bold\">)</span>,<span style=\"color: #800080; text-decoration-color: #800080; font-weight: bold\">StructField</span><span style=\"font-weight: bold\">(</span>nit_del_proveedor_adjudicado,StringType,true<span style=\"font-weight: bold\">)</span>,<span style=\"color: #800080; text-decoration-color: #800080; font-weight: bold\">StructField</span><span style=\"font-weight: bold\">(</span>codigo_principal_de_categoria,StringType,true<span style=\"font-weight: bold\">)</span>,<span style=\"color: #800080; text-decoration-color: #800080; font-weight: bold\">StructField</span><span style=\"font-weight: bold\">(</span>estado_de_apertura_del_proceso,StringType,true<span style=\"font-weight: bold\">)</span>,<span style=\"color: #800080; text-decoration-color: #800080; font-weight: bold\">StructField</span><span style=\"font-weight: bold\">(</span>tipo_de_contrato,StringType,true<span style=\"font-weight: bold\">)</span>,<span style=\"color: #800080; text-decoration-color: #800080; font-weight: bold\">StructField</span><span style=\"font-weight: bold\">(</span>subtipo_de_contrato,StringType,true<span style=\"font-weight: bold\">)</span>,<span style=\"color: #800080; text-decoration-color: #800080; font-weight: bold\">StructField</span><span style=\"font-weight: bold\">(</span>categorias_adicionales,StringType,true<span style=\"font-weight: bold\">)</span>,<span style=\"color: #800080; text-decoration-color: #800080; font-weight: bold\">StructField</span><span style=\"font-weight: bold\">(</span>codigo_entidad,StringType,true<span style=\"font-weight: bold\">)</span>,<span style=\"color: #800080; text-decoration-color: #800080; font-weight: bold\">StructField</span><span style=\"font-weight: bold\">(</span>estadoresumen,StringType,true<span style=\"font-weight: bold\">)</span>,<span style=\"color: #800080; text-decoration-color: #800080; font-weight: bold\">StructField</span><span style=\"font-weight: bold\">(</span>fecha_de_publicacion_del,StringType,true<span style=\"font-weight: bold\">)</span>,<span style=\"color: #800080; text-decoration-color: #800080; font-weight: bold\">StructField</span><span style=\"font-weight: bold\">(</span>fecha_de_ultima_publicaci,StringType,true<span style=\"font-weight: bold\">)</span>,<span style=\"color: #800080; text-decoration-color: #800080; font-weight: bold\">StructField</span><span style=\"font-weight: bold\">(</span>fecha_de_publicacion_fase_3,StringType,true<span style=\"font-weight: bold\">)</span>,<span style=\"color: #800080; text-decoration-color: #800080; font-weight: bold\">StructField</span><span style=\"font-weight: bold\">(</span>fecha_de_recepcion_de,StringType,true<span style=\"font-weight: bold\">)</span>,<span style=\"color: #800080; text-decoration-color: #800080; font-weight: bold\">StructField</span><span style=\"font-weight: bold\">(</span>fecha_de_apertura_efectiva,StringType,true<span style=\"font-weight: bold\">)</span>,<span style=\"color: #800080; text-decoration-color: #800080; font-weight: bold\">StructField</span><span style=\"font-weight: bold\">(</span>nit_entidad,LongType,true<span style=\"font-weight: bold\">)))</span>\n",
       "</pre>\n"
      ],
      "text/plain": [
       "\u001b[1;35mStructType\u001b[0m\u001b[1m(\u001b[0m\u001b[1;35mList\u001b[0m\u001b[1m(\u001b[0m\u001b[1;35mStructField\u001b[0m\u001b[1m(\u001b[0mentidad,StringType,true\u001b[1m)\u001b[0m,\u001b[1;35mStructField\u001b[0m\u001b[1m(\u001b[0mdepartamento_entidad,StringType,true\u001b[1m)\u001b[0m,\u001b[1;35mStructField\u001b[0m\u001b[1m(\u001b[0mciudad_entidad,StringType,true\u001b[1m)\u001b[0m,\u001b[1;35mStructField\u001b[0m\u001b[1m(\u001b[0mordenentidad,StringType,true\u001b[1m)\u001b[0m,\u001b[1;35mStructField\u001b[0m\u001b[1m(\u001b[0mcodigo_pci,StringType,true\u001b[1m)\u001b[0m,\u001b[1;35mStructField\u001b[0m\u001b[1m(\u001b[0mid_del_proceso,StringType,true\u001b[1m)\u001b[0m,\u001b[1;35mStructField\u001b[0m\u001b[1m(\u001b[0mreferencia_del_proceso,StringType,true\u001b[1m)\u001b[0m,\u001b[1;35mStructField\u001b[0m\u001b[1m(\u001b[0mppi,StringType,true\u001b[1m)\u001b[0m,\u001b[1;35mStructField\u001b[0m\u001b[1m(\u001b[0mnombre_del_procedimiento,StringType,true\u001b[1m)\u001b[0m,\u001b[1;35mStructField\u001b[0m\u001b[1m(\u001b[0mdescripci_n_del_procedimiento,StringType,true\u001b[1m)\u001b[0m,\u001b[1;35mStructField\u001b[0m\u001b[1m(\u001b[0mfase,StringType,true\u001b[1m)\u001b[0m,\u001b[1;35mStructField\u001b[0m\u001b[1m(\u001b[0mprecio_base,StringType,true\u001b[1m)\u001b[0m,\u001b[1;35mStructField\u001b[0m\u001b[1m(\u001b[0mmodalidad_de_contratacion,StringType,true\u001b[1m)\u001b[0m,\u001b[1;35mStructField\u001b[0m\u001b[1m(\u001b[0mduracion,StringType,true\u001b[1m)\u001b[0m,\u001b[1;35mStructField\u001b[0m\u001b[1m(\u001b[0munidad_de_duracion,StringType,true\u001b[1m)\u001b[0m,\u001b[1;35mStructField\u001b[0m\u001b[1m(\u001b[0mciudad_de_la_unidad_de,StringType,true\u001b[1m)\u001b[0m,\u001b[1;35mStructField\u001b[0m\u001b[1m(\u001b[0mnombre_de_la_unidad_de,StringType,true\u001b[1m)\u001b[0m,\u001b[1;35mStructField\u001b[0m\u001b[1m(\u001b[0mproveedores_invitados,StringType,true\u001b[1m)\u001b[0m,\u001b[1;35mStructField\u001b[0m\u001b[1m(\u001b[0mproveedores_con_invitacion,StringType,true\u001b[1m)\u001b[0m,\u001b[1;35mStructField\u001b[0m\u001b[1m(\u001b[0mvisualizaciones_del,StringType,true\u001b[1m)\u001b[0m,\u001b[1;35mStructField\u001b[0m\u001b[1m(\u001b[0mproveedores_que_manifestaron,StringType,true\u001b[1m)\u001b[0m,\u001b[1;35mStructField\u001b[0m\u001b[1m(\u001b[0mrespuestas_al_procedimiento,StringType,true\u001b[1m)\u001b[0m,\u001b[1;35mStructField\u001b[0m\u001b[1m(\u001b[0mrespuestas_externas,StringType,true\u001b[1m)\u001b[0m,\u001b[1;35mStructField\u001b[0m\u001b[1m(\u001b[0mconteo_de_respuestas_a_ofertas,StringType,true\u001b[1m)\u001b[0m,\u001b[1;35mStructField\u001b[0m\u001b[1m(\u001b[0mproveedores_unicos_con,StringType,true\u001b[1m)\u001b[0m,\u001b[1;35mStructField\u001b[0m\u001b[1m(\u001b[0mestado_del_procedimiento,StringType,true\u001b[1m)\u001b[0m,\u001b[1;35mStructField\u001b[0m\u001b[1m(\u001b[0mid_estado_del_procedimiento,StringType,true\u001b[1m)\u001b[0m,\u001b[1;35mStructField\u001b[0m\u001b[1m(\u001b[0madjudicado,StringType,true\u001b[1m)\u001b[0m,\u001b[1;35mStructField\u001b[0m\u001b[1m(\u001b[0mid_adjudicacion,StringType,true\u001b[1m)\u001b[0m,\u001b[1;35mStructField\u001b[0m\u001b[1m(\u001b[0mcodigoproveedor,StringType,true\u001b[1m)\u001b[0m,\u001b[1;35mStructField\u001b[0m\u001b[1m(\u001b[0mdepartamento_proveedor,StringType,true\u001b[1m)\u001b[0m,\u001b[1;35mStructField\u001b[0m\u001b[1m(\u001b[0mciudad_proveedor,StringType,true\u001b[1m)\u001b[0m,\u001b[1;35mStructField\u001b[0m\u001b[1m(\u001b[0mvalor_total_adjudicacion,StringType,true\u001b[1m)\u001b[0m,\u001b[1;35mStructField\u001b[0m\u001b[1m(\u001b[0mnombre_del_adjudicador,StringType,true\u001b[1m)\u001b[0m,\u001b[1;35mStructField\u001b[0m\u001b[1m(\u001b[0mnombre_del_proveedor,StringType,true\u001b[1m)\u001b[0m,\u001b[1;35mStructField\u001b[0m\u001b[1m(\u001b[0mnit_del_proveedor_adjudicado,StringType,true\u001b[1m)\u001b[0m,\u001b[1;35mStructField\u001b[0m\u001b[1m(\u001b[0mcodigo_principal_de_categoria,StringType,true\u001b[1m)\u001b[0m,\u001b[1;35mStructField\u001b[0m\u001b[1m(\u001b[0mestado_de_apertura_del_proceso,StringType,true\u001b[1m)\u001b[0m,\u001b[1;35mStructField\u001b[0m\u001b[1m(\u001b[0mtipo_de_contrato,StringType,true\u001b[1m)\u001b[0m,\u001b[1;35mStructField\u001b[0m\u001b[1m(\u001b[0msubtipo_de_contrato,StringType,true\u001b[1m)\u001b[0m,\u001b[1;35mStructField\u001b[0m\u001b[1m(\u001b[0mcategorias_adicionales,StringType,true\u001b[1m)\u001b[0m,\u001b[1;35mStructField\u001b[0m\u001b[1m(\u001b[0mcodigo_entidad,StringType,true\u001b[1m)\u001b[0m,\u001b[1;35mStructField\u001b[0m\u001b[1m(\u001b[0mestadoresumen,StringType,true\u001b[1m)\u001b[0m,\u001b[1;35mStructField\u001b[0m\u001b[1m(\u001b[0mfecha_de_publicacion_del,StringType,true\u001b[1m)\u001b[0m,\u001b[1;35mStructField\u001b[0m\u001b[1m(\u001b[0mfecha_de_ultima_publicaci,StringType,true\u001b[1m)\u001b[0m,\u001b[1;35mStructField\u001b[0m\u001b[1m(\u001b[0mfecha_de_publicacion_fase_3,StringType,true\u001b[1m)\u001b[0m,\u001b[1;35mStructField\u001b[0m\u001b[1m(\u001b[0mfecha_de_recepcion_de,StringType,true\u001b[1m)\u001b[0m,\u001b[1;35mStructField\u001b[0m\u001b[1m(\u001b[0mfecha_de_apertura_efectiva,StringType,true\u001b[1m)\u001b[0m,\u001b[1;35mStructField\u001b[0m\u001b[1m(\u001b[0mnit_entidad,LongType,true\u001b[1m)\u001b[0m\u001b[1m)\u001b[0m\u001b[1m)\u001b[0m\n"
      ]
     },
     "metadata": {},
     "output_type": "display_data"
    },
    {
     "data": {
      "text/html": [
       "<pre style=\"white-space:pre;overflow-x:auto;line-height:normal;font-family:Menlo,'DejaVu Sans Mono',consolas,'Courier New',monospace\"><span style=\"font-weight: bold\">&lt;</span><span style=\"color: #ff00ff; text-decoration-color: #ff00ff; font-weight: bold\">IPython.core.display.Javascript</span><span style=\"color: #000000; text-decoration-color: #000000\"> object</span><span style=\"font-weight: bold\">&gt;</span>\n",
       "</pre>\n"
      ],
      "text/plain": [
       "\u001b[1m<\u001b[0m\u001b[1;95mIPython.core.display.Javascript\u001b[0m\u001b[39m object\u001b[0m\u001b[1m>\u001b[0m\n"
      ]
     },
     "metadata": {},
     "output_type": "display_data"
    },
    {
     "data": {
      "application/javascript": [
       "\n",
       "            setTimeout(function() {\n",
       "                var nbb_cell_id = 15;\n",
       "                var nbb_unformatted_code = \"secop_2.schema\";\n",
       "                var nbb_formatted_code = \"secop_2.schema\";\n",
       "                var nbb_cells = Jupyter.notebook.get_cells();\n",
       "                for (var i = 0; i < nbb_cells.length; ++i) {\n",
       "                    if (nbb_cells[i].input_prompt_number == nbb_cell_id) {\n",
       "                        if (nbb_cells[i].get_text() == nbb_unformatted_code) {\n",
       "                             nbb_cells[i].set_text(nbb_formatted_code);\n",
       "                        }\n",
       "                        break;\n",
       "                    }\n",
       "                }\n",
       "            }, 500);\n",
       "            "
      ]
     },
     "metadata": {},
     "output_type": "display_data"
    }
   ],
   "source": [
    "secop_2.schema"
   ]
  },
  {
   "cell_type": "code",
   "execution_count": 13,
   "id": "53813ab3",
   "metadata": {},
   "outputs": [
    {
     "name": "stderr",
     "output_type": "stream",
     "text": [
      "[Stage 4:======================================================>(225 + 2) / 227]\r"
     ]
    },
    {
     "name": "stdout",
     "output_type": "stream",
     "text": [
      "+--------------------+-----+\n",
      "|             entidad|count|\n",
      "+--------------------+-----+\n",
      "|FONDO FINANCIERO ...| 8215|\n",
      "|INSTITUTO NACIONA...|11008|\n",
      "|ALCALDIA MUNICIPA...|10610|\n",
      "|GOBIERNO DEPARTAM...| 8304|\n",
      "|FONDO UNICO DE TE...| 6411|\n",
      "|Gobernación Norte...| 6349|\n",
      "|INSTITUTO TECNOLO...| 7473|\n",
      "|GOBERNACION DE NA...| 5221|\n",
      "|SIC SUPERINTENDEN...| 7988|\n",
      "|GOBERNACION DEL H...| 4702|\n",
      "|FONDO ROTATORIO D...|  571|\n",
      "|DEFENSORÍA DEL PU...| 5243|\n",
      "|MUNICIPIO DE SINC...| 5795|\n",
      "|FONDO ROTATORIO D...|  493|\n",
      "|FONDANE  DIRECCIO...| 3232|\n",
      "|FONDO ROTATORIO D...| 2441|\n",
      "|FONDANE  DIR TER ...|  648|\n",
      "|DIRECCION DE IMPU...| 2651|\n",
      "|SUPERINTENDENCIA ...| 3665|\n",
      "|GOBERNACIÓN DEPAR...| 4164|\n",
      "+--------------------+-----+\n",
      "only showing top 20 rows\n",
      "\n"
     ]
    },
    {
     "name": "stderr",
     "output_type": "stream",
     "text": [
      "\r",
      "                                                                                \r"
     ]
    },
    {
     "data": {
      "text/html": [
       "<pre style=\"white-space:pre;overflow-x:auto;line-height:normal;font-family:Menlo,'DejaVu Sans Mono',consolas,'Courier New',monospace\"><span style=\"font-weight: bold\">&lt;</span><span style=\"color: #ff00ff; text-decoration-color: #ff00ff; font-weight: bold\">IPython.core.display.Javascript</span><span style=\"color: #000000; text-decoration-color: #000000\"> object</span><span style=\"font-weight: bold\">&gt;</span>\n",
       "</pre>\n"
      ],
      "text/plain": [
       "\u001b[1m<\u001b[0m\u001b[1;95mIPython.core.display.Javascript\u001b[0m\u001b[39m object\u001b[0m\u001b[1m>\u001b[0m\n"
      ]
     },
     "metadata": {},
     "output_type": "display_data"
    },
    {
     "data": {
      "application/javascript": [
       "\n",
       "            setTimeout(function() {\n",
       "                var nbb_cell_id = 13;\n",
       "                var nbb_unformatted_code = \"secop_2.groupBy(\\\"entidad\\\").count().show(20)\";\n",
       "                var nbb_formatted_code = \"secop_2.groupBy(\\\"entidad\\\").count().show(20)\";\n",
       "                var nbb_cells = Jupyter.notebook.get_cells();\n",
       "                for (var i = 0; i < nbb_cells.length; ++i) {\n",
       "                    if (nbb_cells[i].input_prompt_number == nbb_cell_id) {\n",
       "                        if (nbb_cells[i].get_text() == nbb_unformatted_code) {\n",
       "                             nbb_cells[i].set_text(nbb_formatted_code);\n",
       "                        }\n",
       "                        break;\n",
       "                    }\n",
       "                }\n",
       "            }, 500);\n",
       "            "
      ]
     },
     "metadata": {},
     "output_type": "display_data"
    }
   ],
   "source": [
    "secop_2.groupBy(\"entidad\").count().show(20)"
   ]
  },
  {
   "cell_type": "code",
   "execution_count": null,
   "id": "d0e9780f",
   "metadata": {},
   "outputs": [],
   "source": []
  },
  {
   "cell_type": "code",
   "execution_count": null,
   "id": "a417c54c",
   "metadata": {},
   "outputs": [],
   "source": []
  },
  {
   "cell_type": "code",
   "execution_count": null,
   "id": "d7911651",
   "metadata": {},
   "outputs": [],
   "source": []
  },
  {
   "cell_type": "code",
   "execution_count": null,
   "id": "06b65507",
   "metadata": {},
   "outputs": [],
   "source": []
  },
  {
   "cell_type": "code",
   "execution_count": null,
   "id": "b3d52496",
   "metadata": {},
   "outputs": [],
   "source": []
  },
  {
   "cell_type": "code",
   "execution_count": null,
   "id": "ac53975c",
   "metadata": {},
   "outputs": [],
   "source": []
  },
  {
   "cell_type": "code",
   "execution_count": 7,
   "id": "fda7f021",
   "metadata": {},
   "outputs": [
    {
     "data": {
      "text/html": [
       "<pre style=\"white-space:pre;overflow-x:auto;line-height:normal;font-family:Menlo,'DejaVu Sans Mono',consolas,'Courier New',monospace\"><span style=\"font-weight: bold\">&lt;</span><span style=\"color: #ff00ff; text-decoration-color: #ff00ff; font-weight: bold\">IPython.core.display.Javascript</span><span style=\"color: #000000; text-decoration-color: #000000\"> object</span><span style=\"font-weight: bold\">&gt;</span>\n",
       "</pre>\n"
      ],
      "text/plain": [
       "\u001b[1m<\u001b[0m\u001b[1;95mIPython.core.display.Javascript\u001b[0m\u001b[39m object\u001b[0m\u001b[1m>\u001b[0m\n"
      ]
     },
     "metadata": {},
     "output_type": "display_data"
    },
    {
     "data": {
      "application/javascript": [
       "\n",
       "            setTimeout(function() {\n",
       "                var nbb_cell_id = 7;\n",
       "                var nbb_unformatted_code = \"secop_int = secop_int.withColumn(\\\"nivel_entidad\\\", F.lower(col(\\\"nivel_entidad\\\")))\";\n",
       "                var nbb_formatted_code = \"secop_int = secop_int.withColumn(\\\"nivel_entidad\\\", F.lower(col(\\\"nivel_entidad\\\")))\";\n",
       "                var nbb_cells = Jupyter.notebook.get_cells();\n",
       "                for (var i = 0; i < nbb_cells.length; ++i) {\n",
       "                    if (nbb_cells[i].input_prompt_number == nbb_cell_id) {\n",
       "                        if (nbb_cells[i].get_text() == nbb_unformatted_code) {\n",
       "                             nbb_cells[i].set_text(nbb_formatted_code);\n",
       "                        }\n",
       "                        break;\n",
       "                    }\n",
       "                }\n",
       "            }, 500);\n",
       "            "
      ]
     },
     "metadata": {},
     "output_type": "display_data"
    }
   ],
   "source": [
    "secop_int = secop_int.withColumn(\"nivel_entidad\", F.lower(col(\"nivel_entidad\")))"
   ]
  },
  {
   "cell_type": "code",
   "execution_count": 8,
   "id": "ea135135",
   "metadata": {},
   "outputs": [
    {
     "name": "stderr",
     "output_type": "stream",
     "text": [
      "[Stage 2:=====================================================> (170 + 6) / 176]\r"
     ]
    },
    {
     "name": "stdout",
     "output_type": "stream",
     "text": [
      "+-------------+------+\n",
      "|nivel_entidad| count|\n",
      "+-------------+------+\n",
      "|  no definido| 24448|\n",
      "|     nacional| 31294|\n",
      "|  territorial|711881|\n",
      "+-------------+------+\n",
      "\n"
     ]
    },
    {
     "name": "stderr",
     "output_type": "stream",
     "text": [
      "\r",
      "                                                                                \r"
     ]
    },
    {
     "data": {
      "text/html": [
       "<pre style=\"white-space:pre;overflow-x:auto;line-height:normal;font-family:Menlo,'DejaVu Sans Mono',consolas,'Courier New',monospace\"><span style=\"font-weight: bold\">&lt;</span><span style=\"color: #ff00ff; text-decoration-color: #ff00ff; font-weight: bold\">IPython.core.display.Javascript</span><span style=\"color: #000000; text-decoration-color: #000000\"> object</span><span style=\"font-weight: bold\">&gt;</span>\n",
       "</pre>\n"
      ],
      "text/plain": [
       "\u001b[1m<\u001b[0m\u001b[1;95mIPython.core.display.Javascript\u001b[0m\u001b[39m object\u001b[0m\u001b[1m>\u001b[0m\n"
      ]
     },
     "metadata": {},
     "output_type": "display_data"
    },
    {
     "data": {
      "application/javascript": [
       "\n",
       "            setTimeout(function() {\n",
       "                var nbb_cell_id = 8;\n",
       "                var nbb_unformatted_code = \"secop_int.groupBy(\\\"nivel_entidad\\\").count().show()\";\n",
       "                var nbb_formatted_code = \"secop_int.groupBy(\\\"nivel_entidad\\\").count().show()\";\n",
       "                var nbb_cells = Jupyter.notebook.get_cells();\n",
       "                for (var i = 0; i < nbb_cells.length; ++i) {\n",
       "                    if (nbb_cells[i].input_prompt_number == nbb_cell_id) {\n",
       "                        if (nbb_cells[i].get_text() == nbb_unformatted_code) {\n",
       "                             nbb_cells[i].set_text(nbb_formatted_code);\n",
       "                        }\n",
       "                        break;\n",
       "                    }\n",
       "                }\n",
       "            }, 500);\n",
       "            "
      ]
     },
     "metadata": {},
     "output_type": "display_data"
    }
   ],
   "source": [
    "secop_int.groupBy(\"nivel_entidad\").count().show()"
   ]
  },
  {
   "cell_type": "code",
   "execution_count": 9,
   "id": "ddd545dd",
   "metadata": {},
   "outputs": [
    {
     "data": {
      "text/html": [
       "<pre style=\"white-space:pre;overflow-x:auto;line-height:normal;font-family:Menlo,'DejaVu Sans Mono',consolas,'Courier New',monospace\"><span style=\"font-weight: bold\">&lt;</span><span style=\"color: #ff00ff; text-decoration-color: #ff00ff; font-weight: bold\">IPython.core.display.Javascript</span><span style=\"color: #000000; text-decoration-color: #000000\"> object</span><span style=\"font-weight: bold\">&gt;</span>\n",
       "</pre>\n"
      ],
      "text/plain": [
       "\u001b[1m<\u001b[0m\u001b[1;95mIPython.core.display.Javascript\u001b[0m\u001b[39m object\u001b[0m\u001b[1m>\u001b[0m\n"
      ]
     },
     "metadata": {},
     "output_type": "display_data"
    },
    {
     "data": {
      "application/javascript": [
       "\n",
       "            setTimeout(function() {\n",
       "                var nbb_cell_id = 9;\n",
       "                var nbb_unformatted_code = \"secop_int = secop_int.withColumn(\\n    \\\"estado_del_proceso\\\", udf(remove_tildes)(F.lower(col(\\\"estado_del_proceso\\\")))\\n)\";\n",
       "                var nbb_formatted_code = \"secop_int = secop_int.withColumn(\\n    \\\"estado_del_proceso\\\", udf(remove_tildes)(F.lower(col(\\\"estado_del_proceso\\\")))\\n)\";\n",
       "                var nbb_cells = Jupyter.notebook.get_cells();\n",
       "                for (var i = 0; i < nbb_cells.length; ++i) {\n",
       "                    if (nbb_cells[i].input_prompt_number == nbb_cell_id) {\n",
       "                        if (nbb_cells[i].get_text() == nbb_unformatted_code) {\n",
       "                             nbb_cells[i].set_text(nbb_formatted_code);\n",
       "                        }\n",
       "                        break;\n",
       "                    }\n",
       "                }\n",
       "            }, 500);\n",
       "            "
      ]
     },
     "metadata": {},
     "output_type": "display_data"
    }
   ],
   "source": [
    "secop_int = secop_int.withColumn(\n",
    "    \"estado_del_proceso\", udf(remove_tildes)(F.lower(col(\"estado_del_proceso\")))\n",
    ")"
   ]
  },
  {
   "cell_type": "code",
   "execution_count": 10,
   "id": "b181e009",
   "metadata": {},
   "outputs": [
    {
     "data": {
      "text/html": [
       "<pre style=\"white-space:pre;overflow-x:auto;line-height:normal;font-family:Menlo,'DejaVu Sans Mono',consolas,'Courier New',monospace\"><span style=\"color: #7fbfbf; text-decoration-color: #7fbfbf\">[08/10/22 15:57:08] </span><span style=\"color: #800000; text-decoration-color: #800000\">WARNING </span> <span style=\"color: #800080; text-decoration-color: #800080\">/opt/homebrew/Caskroom/miniforge/base/envs/dm_project/lib/python3.10/s</span> <a href=\"file:///opt/homebrew/Caskroom/miniforge/base/envs/dm_project/lib/python3.10/warnings.py\" target=\"_blank\"><span style=\"color: #7f7f7f; text-decoration-color: #7f7f7f\">warnings.py</span></a><span style=\"color: #7f7f7f; text-decoration-color: #7f7f7f\">:</span><a href=\"file:///opt/homebrew/Caskroom/miniforge/base/envs/dm_project/lib/python3.10/warnings.py#109\" target=\"_blank\"><span style=\"color: #7f7f7f; text-decoration-color: #7f7f7f\">109</span></a>\n",
       "<span style=\"color: #7fbfbf; text-decoration-color: #7fbfbf\">                    </span>         <span style=\"color: #800080; text-decoration-color: #800080\">ite-packages/pyspark/sql/pandas/</span><span style=\"color: #ff00ff; text-decoration-color: #ff00ff\">utils.py</span>:<span style=\"color: #008080; text-decoration-color: #008080; font-weight: bold\">35</span>: DeprecationWarning:       <span style=\"color: #7f7f7f; text-decoration-color: #7f7f7f\">               </span>\n",
       "<span style=\"color: #7fbfbf; text-decoration-color: #7fbfbf\">                    </span>         distutils Version classes are deprecated. Use packaging.version        <span style=\"color: #7f7f7f; text-decoration-color: #7f7f7f\">               </span>\n",
       "<span style=\"color: #7fbfbf; text-decoration-color: #7fbfbf\">                    </span>         instead.                                                               <span style=\"color: #7f7f7f; text-decoration-color: #7f7f7f\">               </span>\n",
       "<span style=\"color: #7fbfbf; text-decoration-color: #7fbfbf\">                    </span>           if <span style=\"color: #800080; text-decoration-color: #800080; font-weight: bold\">LooseVersion</span><span style=\"font-weight: bold\">(</span>pandas.__version__<span style=\"font-weight: bold\">)</span> &lt;                                <span style=\"color: #7f7f7f; text-decoration-color: #7f7f7f\">               </span>\n",
       "<span style=\"color: #7fbfbf; text-decoration-color: #7fbfbf\">                    </span>         <span style=\"color: #800080; text-decoration-color: #800080; font-weight: bold\">LooseVersion</span><span style=\"font-weight: bold\">(</span>minimum_pandas_version<span style=\"font-weight: bold\">)</span>:                                  <span style=\"color: #7f7f7f; text-decoration-color: #7f7f7f\">               </span>\n",
       "<span style=\"color: #7fbfbf; text-decoration-color: #7fbfbf\">                    </span>                                                                                <span style=\"color: #7f7f7f; text-decoration-color: #7f7f7f\">               </span>\n",
       "</pre>\n"
      ],
      "text/plain": [
       "\u001b[2;36m[08/10/22 15:57:08]\u001b[0m\u001b[2;36m \u001b[0m\u001b[31mWARNING \u001b[0m \u001b[35m/opt/homebrew/Caskroom/miniforge/base/envs/dm_project/lib/python3.10/s\u001b[0m \u001b]8;id=19034;file:///opt/homebrew/Caskroom/miniforge/base/envs/dm_project/lib/python3.10/warnings.py\u001b\\\u001b[2mwarnings.py\u001b[0m\u001b]8;;\u001b\\\u001b[2m:\u001b[0m\u001b]8;id=461162;file:///opt/homebrew/Caskroom/miniforge/base/envs/dm_project/lib/python3.10/warnings.py#109\u001b\\\u001b[2m109\u001b[0m\u001b]8;;\u001b\\\n",
       "\u001b[2;36m                    \u001b[0m         \u001b[35mite-packages/pyspark/sql/pandas/\u001b[0m\u001b[95mutils.py\u001b[0m:\u001b[1;36m35\u001b[0m: DeprecationWarning:       \u001b[2m               \u001b[0m\n",
       "\u001b[2;36m                    \u001b[0m         distutils Version classes are deprecated. Use packaging.version        \u001b[2m               \u001b[0m\n",
       "\u001b[2;36m                    \u001b[0m         instead.                                                               \u001b[2m               \u001b[0m\n",
       "\u001b[2;36m                    \u001b[0m           if \u001b[1;35mLooseVersion\u001b[0m\u001b[1m(\u001b[0mpandas.__version__\u001b[1m)\u001b[0m <                                \u001b[2m               \u001b[0m\n",
       "\u001b[2;36m                    \u001b[0m         \u001b[1;35mLooseVersion\u001b[0m\u001b[1m(\u001b[0mminimum_pandas_version\u001b[1m)\u001b[0m:                                  \u001b[2m               \u001b[0m\n",
       "\u001b[2;36m                    \u001b[0m                                                                                \u001b[2m               \u001b[0m\n"
      ]
     },
     "metadata": {},
     "output_type": "display_data"
    },
    {
     "name": "stderr",
     "output_type": "stream",
     "text": [
      "                                                                                \r"
     ]
    },
    {
     "data": {
      "text/html": [
       "<div>\n",
       "<style scoped>\n",
       "    .dataframe tbody tr th:only-of-type {\n",
       "        vertical-align: middle;\n",
       "    }\n",
       "\n",
       "    .dataframe tbody tr th {\n",
       "        vertical-align: top;\n",
       "    }\n",
       "\n",
       "    .dataframe thead th {\n",
       "        text-align: right;\n",
       "    }\n",
       "</style>\n",
       "<table border=\"1\" class=\"dataframe\">\n",
       "  <thead>\n",
       "    <tr style=\"text-align: right;\">\n",
       "      <th></th>\n",
       "      <th>estado_del_proceso</th>\n",
       "      <th>count</th>\n",
       "    </tr>\n",
       "  </thead>\n",
       "  <tbody>\n",
       "    <tr>\n",
       "      <th>15</th>\n",
       "      <td>celebrado</td>\n",
       "      <td>387825</td>\n",
       "    </tr>\n",
       "    <tr>\n",
       "      <th>0</th>\n",
       "      <td>liquidado</td>\n",
       "      <td>209632</td>\n",
       "    </tr>\n",
       "    <tr>\n",
       "      <th>19</th>\n",
       "      <td>convocado</td>\n",
       "      <td>70435</td>\n",
       "    </tr>\n",
       "    <tr>\n",
       "      <th>6</th>\n",
       "      <td>en ejecucion</td>\n",
       "      <td>27603</td>\n",
       "    </tr>\n",
       "    <tr>\n",
       "      <th>16</th>\n",
       "      <td>terminado anormalmente despues de convocado</td>\n",
       "      <td>16690</td>\n",
       "    </tr>\n",
       "    <tr>\n",
       "      <th>18</th>\n",
       "      <td>terminado sin liquidar</td>\n",
       "      <td>13483</td>\n",
       "    </tr>\n",
       "    <tr>\n",
       "      <th>1</th>\n",
       "      <td>modificado</td>\n",
       "      <td>13266</td>\n",
       "    </tr>\n",
       "    <tr>\n",
       "      <th>20</th>\n",
       "      <td>adjudicado</td>\n",
       "      <td>9772</td>\n",
       "    </tr>\n",
       "    <tr>\n",
       "      <th>10</th>\n",
       "      <td>borrador</td>\n",
       "      <td>4373</td>\n",
       "    </tr>\n",
       "    <tr>\n",
       "      <th>5</th>\n",
       "      <td>terminado</td>\n",
       "      <td>3691</td>\n",
       "    </tr>\n",
       "    <tr>\n",
       "      <th>3</th>\n",
       "      <td>activo</td>\n",
       "      <td>3403</td>\n",
       "    </tr>\n",
       "    <tr>\n",
       "      <th>12</th>\n",
       "      <td>cerrado</td>\n",
       "      <td>3200</td>\n",
       "    </tr>\n",
       "    <tr>\n",
       "      <th>7</th>\n",
       "      <td>descartado</td>\n",
       "      <td>2536</td>\n",
       "    </tr>\n",
       "    <tr>\n",
       "      <th>9</th>\n",
       "      <td>cedido</td>\n",
       "      <td>720</td>\n",
       "    </tr>\n",
       "    <tr>\n",
       "      <th>2</th>\n",
       "      <td>enviado proveedor</td>\n",
       "      <td>388</td>\n",
       "    </tr>\n",
       "    <tr>\n",
       "      <th>17</th>\n",
       "      <td>en aprobacion</td>\n",
       "      <td>305</td>\n",
       "    </tr>\n",
       "    <tr>\n",
       "      <th>8</th>\n",
       "      <td>suspendido</td>\n",
       "      <td>159</td>\n",
       "    </tr>\n",
       "    <tr>\n",
       "      <th>4</th>\n",
       "      <td>expresion de interes</td>\n",
       "      <td>70</td>\n",
       "    </tr>\n",
       "    <tr>\n",
       "      <th>11</th>\n",
       "      <td>invitacion cerrada</td>\n",
       "      <td>38</td>\n",
       "    </tr>\n",
       "    <tr>\n",
       "      <th>13</th>\n",
       "      <td>lista corta</td>\n",
       "      <td>33</td>\n",
       "    </tr>\n",
       "    <tr>\n",
       "      <th>14</th>\n",
       "      <td>lista multiusos</td>\n",
       "      <td>1</td>\n",
       "    </tr>\n",
       "  </tbody>\n",
       "</table>\n",
       "</div>"
      ]
     },
     "execution_count": 10,
     "metadata": {},
     "output_type": "execute_result"
    },
    {
     "data": {
      "text/html": [
       "<pre style=\"white-space:pre;overflow-x:auto;line-height:normal;font-family:Menlo,'DejaVu Sans Mono',consolas,'Courier New',monospace\"><span style=\"font-weight: bold\">&lt;</span><span style=\"color: #ff00ff; text-decoration-color: #ff00ff; font-weight: bold\">IPython.core.display.Javascript</span><span style=\"color: #000000; text-decoration-color: #000000\"> object</span><span style=\"font-weight: bold\">&gt;</span>\n",
       "</pre>\n"
      ],
      "text/plain": [
       "\u001b[1m<\u001b[0m\u001b[1;95mIPython.core.display.Javascript\u001b[0m\u001b[39m object\u001b[0m\u001b[1m>\u001b[0m\n"
      ]
     },
     "metadata": {},
     "output_type": "display_data"
    },
    {
     "data": {
      "application/javascript": [
       "\n",
       "            setTimeout(function() {\n",
       "                var nbb_cell_id = 10;\n",
       "                var nbb_unformatted_code = \"count_process_state = secop_int.groupBy(\\\"estado_del_proceso\\\").count().toPandas()\\ncount_process_state.sort_values(\\\"count\\\", ascending=False)\";\n",
       "                var nbb_formatted_code = \"count_process_state = secop_int.groupBy(\\\"estado_del_proceso\\\").count().toPandas()\\ncount_process_state.sort_values(\\\"count\\\", ascending=False)\";\n",
       "                var nbb_cells = Jupyter.notebook.get_cells();\n",
       "                for (var i = 0; i < nbb_cells.length; ++i) {\n",
       "                    if (nbb_cells[i].input_prompt_number == nbb_cell_id) {\n",
       "                        if (nbb_cells[i].get_text() == nbb_unformatted_code) {\n",
       "                             nbb_cells[i].set_text(nbb_formatted_code);\n",
       "                        }\n",
       "                        break;\n",
       "                    }\n",
       "                }\n",
       "            }, 500);\n",
       "            "
      ]
     },
     "metadata": {},
     "output_type": "display_data"
    }
   ],
   "source": [
    "count_process_state = secop_int.groupBy(\"estado_del_proceso\").count().toPandas()\n",
    "count_process_state.sort_values(\"count\", ascending=False)"
   ]
  },
  {
   "cell_type": "code",
   "execution_count": 11,
   "id": "3322b8d2",
   "metadata": {},
   "outputs": [
    {
     "data": {
      "text/html": [
       "<pre style=\"white-space:pre;overflow-x:auto;line-height:normal;font-family:Menlo,'DejaVu Sans Mono',consolas,'Courier New',monospace\"><span style=\"font-weight: bold\">&lt;</span><span style=\"color: #ff00ff; text-decoration-color: #ff00ff; font-weight: bold\">IPython.core.display.Javascript</span><span style=\"color: #000000; text-decoration-color: #000000\"> object</span><span style=\"font-weight: bold\">&gt;</span>\n",
       "</pre>\n"
      ],
      "text/plain": [
       "\u001b[1m<\u001b[0m\u001b[1;95mIPython.core.display.Javascript\u001b[0m\u001b[39m object\u001b[0m\u001b[1m>\u001b[0m\n"
      ]
     },
     "metadata": {},
     "output_type": "display_data"
    },
    {
     "data": {
      "application/javascript": [
       "\n",
       "            setTimeout(function() {\n",
       "                var nbb_cell_id = 11;\n",
       "                var nbb_unformatted_code = \"secop_int = secop_int.withColumn(\\n    \\\"modalidad_de_contrataci_n\\\", udf(remove_tildes)(F.lower(col(\\\"modalidad_de_contrataci_n\\\")))\\n)\";\n",
       "                var nbb_formatted_code = \"secop_int = secop_int.withColumn(\\n    \\\"modalidad_de_contrataci_n\\\",\\n    udf(remove_tildes)(F.lower(col(\\\"modalidad_de_contrataci_n\\\"))),\\n)\";\n",
       "                var nbb_cells = Jupyter.notebook.get_cells();\n",
       "                for (var i = 0; i < nbb_cells.length; ++i) {\n",
       "                    if (nbb_cells[i].input_prompt_number == nbb_cell_id) {\n",
       "                        if (nbb_cells[i].get_text() == nbb_unformatted_code) {\n",
       "                             nbb_cells[i].set_text(nbb_formatted_code);\n",
       "                        }\n",
       "                        break;\n",
       "                    }\n",
       "                }\n",
       "            }, 500);\n",
       "            "
      ]
     },
     "metadata": {},
     "output_type": "display_data"
    }
   ],
   "source": [
    "secop_int = secop_int.withColumn(\n",
    "    \"modalidad_de_contrataci_n\",\n",
    "    udf(remove_tildes)(F.lower(col(\"modalidad_de_contrataci_n\"))),\n",
    ")"
   ]
  },
  {
   "cell_type": "code",
   "execution_count": 12,
   "id": "f74e7579",
   "metadata": {
    "scrolled": true
   },
   "outputs": [
    {
     "data": {
      "text/html": [
       "<pre style=\"white-space:pre;overflow-x:auto;line-height:normal;font-family:Menlo,'DejaVu Sans Mono',consolas,'Courier New',monospace\"><span style=\"color: #7fbfbf; text-decoration-color: #7fbfbf\">[08/10/22 15:57:23] </span><span style=\"color: #800000; text-decoration-color: #800000\">WARNING </span> <span style=\"color: #800080; text-decoration-color: #800080\">/opt/homebrew/Caskroom/miniforge/base/envs/dm_project/lib/python3.10/s</span> <a href=\"file:///opt/homebrew/Caskroom/miniforge/base/envs/dm_project/lib/python3.10/warnings.py\" target=\"_blank\"><span style=\"color: #7f7f7f; text-decoration-color: #7f7f7f\">warnings.py</span></a><span style=\"color: #7f7f7f; text-decoration-color: #7f7f7f\">:</span><a href=\"file:///opt/homebrew/Caskroom/miniforge/base/envs/dm_project/lib/python3.10/warnings.py#109\" target=\"_blank\"><span style=\"color: #7f7f7f; text-decoration-color: #7f7f7f\">109</span></a>\n",
       "<span style=\"color: #7fbfbf; text-decoration-color: #7fbfbf\">                    </span>         <span style=\"color: #800080; text-decoration-color: #800080\">ite-packages/pyspark/sql/pandas/</span><span style=\"color: #ff00ff; text-decoration-color: #ff00ff\">utils.py</span>:<span style=\"color: #008080; text-decoration-color: #008080; font-weight: bold\">35</span>: DeprecationWarning:       <span style=\"color: #7f7f7f; text-decoration-color: #7f7f7f\">               </span>\n",
       "<span style=\"color: #7fbfbf; text-decoration-color: #7fbfbf\">                    </span>         distutils Version classes are deprecated. Use packaging.version        <span style=\"color: #7f7f7f; text-decoration-color: #7f7f7f\">               </span>\n",
       "<span style=\"color: #7fbfbf; text-decoration-color: #7fbfbf\">                    </span>         instead.                                                               <span style=\"color: #7f7f7f; text-decoration-color: #7f7f7f\">               </span>\n",
       "<span style=\"color: #7fbfbf; text-decoration-color: #7fbfbf\">                    </span>           if <span style=\"color: #800080; text-decoration-color: #800080; font-weight: bold\">LooseVersion</span><span style=\"font-weight: bold\">(</span>pandas.__version__<span style=\"font-weight: bold\">)</span> &lt;                                <span style=\"color: #7f7f7f; text-decoration-color: #7f7f7f\">               </span>\n",
       "<span style=\"color: #7fbfbf; text-decoration-color: #7fbfbf\">                    </span>         <span style=\"color: #800080; text-decoration-color: #800080; font-weight: bold\">LooseVersion</span><span style=\"font-weight: bold\">(</span>minimum_pandas_version<span style=\"font-weight: bold\">)</span>:                                  <span style=\"color: #7f7f7f; text-decoration-color: #7f7f7f\">               </span>\n",
       "<span style=\"color: #7fbfbf; text-decoration-color: #7fbfbf\">                    </span>                                                                                <span style=\"color: #7f7f7f; text-decoration-color: #7f7f7f\">               </span>\n",
       "</pre>\n"
      ],
      "text/plain": [
       "\u001b[2;36m[08/10/22 15:57:23]\u001b[0m\u001b[2;36m \u001b[0m\u001b[31mWARNING \u001b[0m \u001b[35m/opt/homebrew/Caskroom/miniforge/base/envs/dm_project/lib/python3.10/s\u001b[0m \u001b]8;id=791532;file:///opt/homebrew/Caskroom/miniforge/base/envs/dm_project/lib/python3.10/warnings.py\u001b\\\u001b[2mwarnings.py\u001b[0m\u001b]8;;\u001b\\\u001b[2m:\u001b[0m\u001b]8;id=313822;file:///opt/homebrew/Caskroom/miniforge/base/envs/dm_project/lib/python3.10/warnings.py#109\u001b\\\u001b[2m109\u001b[0m\u001b]8;;\u001b\\\n",
       "\u001b[2;36m                    \u001b[0m         \u001b[35mite-packages/pyspark/sql/pandas/\u001b[0m\u001b[95mutils.py\u001b[0m:\u001b[1;36m35\u001b[0m: DeprecationWarning:       \u001b[2m               \u001b[0m\n",
       "\u001b[2;36m                    \u001b[0m         distutils Version classes are deprecated. Use packaging.version        \u001b[2m               \u001b[0m\n",
       "\u001b[2;36m                    \u001b[0m         instead.                                                               \u001b[2m               \u001b[0m\n",
       "\u001b[2;36m                    \u001b[0m           if \u001b[1;35mLooseVersion\u001b[0m\u001b[1m(\u001b[0mpandas.__version__\u001b[1m)\u001b[0m <                                \u001b[2m               \u001b[0m\n",
       "\u001b[2;36m                    \u001b[0m         \u001b[1;35mLooseVersion\u001b[0m\u001b[1m(\u001b[0mminimum_pandas_version\u001b[1m)\u001b[0m:                                  \u001b[2m               \u001b[0m\n",
       "\u001b[2;36m                    \u001b[0m                                                                                \u001b[2m               \u001b[0m\n"
      ]
     },
     "metadata": {},
     "output_type": "display_data"
    },
    {
     "name": "stderr",
     "output_type": "stream",
     "text": [
      "                                                                                \r"
     ]
    },
    {
     "data": {
      "text/html": [
       "<pre style=\"white-space:pre;overflow-x:auto;line-height:normal;font-family:Menlo,'DejaVu Sans Mono',consolas,'Courier New',monospace\"><span style=\"font-weight: bold\">&lt;</span><span style=\"color: #ff00ff; text-decoration-color: #ff00ff; font-weight: bold\">IPython.core.display.Javascript</span><span style=\"color: #000000; text-decoration-color: #000000\"> object</span><span style=\"font-weight: bold\">&gt;</span>\n",
       "</pre>\n"
      ],
      "text/plain": [
       "\u001b[1m<\u001b[0m\u001b[1;95mIPython.core.display.Javascript\u001b[0m\u001b[39m object\u001b[0m\u001b[1m>\u001b[0m\n"
      ]
     },
     "metadata": {},
     "output_type": "display_data"
    },
    {
     "data": {
      "application/javascript": [
       "\n",
       "            setTimeout(function() {\n",
       "                var nbb_cell_id = 12;\n",
       "                var nbb_unformatted_code = \"count_process_type = secop_int.groupBy(\\\"modalidad_de_contrataci_n\\\").count().toPandas()\\ncount_process_type[\\\"prop\\\"] = (\\n    count_process_type[\\\"count\\\"] / count_process_type[\\\"count\\\"].sum()\\n)\";\n",
       "                var nbb_formatted_code = \"count_process_type = secop_int.groupBy(\\\"modalidad_de_contrataci_n\\\").count().toPandas()\\ncount_process_type[\\\"prop\\\"] = (\\n    count_process_type[\\\"count\\\"] / count_process_type[\\\"count\\\"].sum()\\n)\";\n",
       "                var nbb_cells = Jupyter.notebook.get_cells();\n",
       "                for (var i = 0; i < nbb_cells.length; ++i) {\n",
       "                    if (nbb_cells[i].input_prompt_number == nbb_cell_id) {\n",
       "                        if (nbb_cells[i].get_text() == nbb_unformatted_code) {\n",
       "                             nbb_cells[i].set_text(nbb_formatted_code);\n",
       "                        }\n",
       "                        break;\n",
       "                    }\n",
       "                }\n",
       "            }, 500);\n",
       "            "
      ]
     },
     "metadata": {},
     "output_type": "display_data"
    }
   ],
   "source": [
    "count_process_type = secop_int.groupBy(\"modalidad_de_contrataci_n\").count().toPandas()\n",
    "count_process_type[\"prop\"] = (\n",
    "    count_process_type[\"count\"] / count_process_type[\"count\"].sum()\n",
    ")"
   ]
  },
  {
   "cell_type": "markdown",
   "id": "0c41da9e",
   "metadata": {},
   "source": [
    "https://www.funcionpublica.gov.co/eva/gerentes/Modulo4/tema-2/1-modalidades.html"
   ]
  },
  {
   "cell_type": "code",
   "execution_count": 13,
   "id": "901bd962",
   "metadata": {},
   "outputs": [
    {
     "data": {
      "text/html": [
       "<pre style=\"white-space:pre;overflow-x:auto;line-height:normal;font-family:Menlo,'DejaVu Sans Mono',consolas,'Courier New',monospace\"><span style=\"font-weight: bold\">&lt;</span><span style=\"color: #ff00ff; text-decoration-color: #ff00ff; font-weight: bold\">IPython.core.display.Javascript</span><span style=\"color: #000000; text-decoration-color: #000000\"> object</span><span style=\"font-weight: bold\">&gt;</span>\n",
       "</pre>\n"
      ],
      "text/plain": [
       "\u001b[1m<\u001b[0m\u001b[1;95mIPython.core.display.Javascript\u001b[0m\u001b[39m object\u001b[0m\u001b[1m>\u001b[0m\n"
      ]
     },
     "metadata": {},
     "output_type": "display_data"
    },
    {
     "data": {
      "application/javascript": [
       "\n",
       "            setTimeout(function() {\n",
       "                var nbb_cell_id = 13;\n",
       "                var nbb_unformatted_code = \"def clean_modalidad_contratacion(mod: str):\\n    \\\"\\\"\\\"Clean and group modalidad de contratacion\\\"\\\"\\\"\\n    if (\\\"concurso de meritos\\\" in mod) or (\\\"concurso_meritos\\\" in mod):\\n        return \\\"concurso de meritos abiertos\\\"\\n    elif \\\"regimen especial\\\" in mod:\\n        return \\\"regimen especial\\\"\\n    elif (\\n        (\\\"minima cuantia\\\" in mod)\\n        or (\\\"menor cuantia\\\" in mod)\\n    ):\\n        return \\\"minima cuantia\\\"\\n    elif \\\"contratacion directa\\\" in mod:\\n        return \\\"contratacion directa\\\"\\n    elif \\\"subasta\\\" in mod:\\n        return \\\"subasta\\\"\\n    elif (\\\"licitacion publica\\\" in mod) or (\\\"licitacion obra publica\\\" in mod):\\n        return \\\"licitacion publica\\\"\\n    else:\\n        return \\\"Otro\\\"\";\n",
       "                var nbb_formatted_code = \"def clean_modalidad_contratacion(mod: str):\\n    \\\"\\\"\\\"Clean and group modalidad de contratacion\\\"\\\"\\\"\\n    if (\\\"concurso de meritos\\\" in mod) or (\\\"concurso_meritos\\\" in mod):\\n        return \\\"concurso de meritos abiertos\\\"\\n    elif \\\"regimen especial\\\" in mod:\\n        return \\\"regimen especial\\\"\\n    elif (\\\"minima cuantia\\\" in mod) or (\\\"menor cuantia\\\" in mod):\\n        return \\\"minima cuantia\\\"\\n    elif \\\"contratacion directa\\\" in mod:\\n        return \\\"contratacion directa\\\"\\n    elif \\\"subasta\\\" in mod:\\n        return \\\"subasta\\\"\\n    elif (\\\"licitacion publica\\\" in mod) or (\\\"licitacion obra publica\\\" in mod):\\n        return \\\"licitacion publica\\\"\\n    else:\\n        return \\\"Otro\\\"\";\n",
       "                var nbb_cells = Jupyter.notebook.get_cells();\n",
       "                for (var i = 0; i < nbb_cells.length; ++i) {\n",
       "                    if (nbb_cells[i].input_prompt_number == nbb_cell_id) {\n",
       "                        if (nbb_cells[i].get_text() == nbb_unformatted_code) {\n",
       "                             nbb_cells[i].set_text(nbb_formatted_code);\n",
       "                        }\n",
       "                        break;\n",
       "                    }\n",
       "                }\n",
       "            }, 500);\n",
       "            "
      ]
     },
     "metadata": {},
     "output_type": "display_data"
    }
   ],
   "source": [
    "def clean_modalidad_contratacion(mod: str):\n",
    "    \"\"\"Clean and group modalidad de contratacion\"\"\"\n",
    "    if (\"concurso de meritos\" in mod) or (\"concurso_meritos\" in mod):\n",
    "        return \"concurso de meritos abiertos\"\n",
    "    elif \"regimen especial\" in mod:\n",
    "        return \"regimen especial\"\n",
    "    elif (\"minima cuantia\" in mod) or (\"menor cuantia\" in mod):\n",
    "        return \"minima cuantia\"\n",
    "    elif \"contratacion directa\" in mod:\n",
    "        return \"contratacion directa\"\n",
    "    elif \"subasta\" in mod:\n",
    "        return \"subasta\"\n",
    "    elif (\"licitacion publica\" in mod) or (\"licitacion obra publica\" in mod):\n",
    "        return \"licitacion publica\"\n",
    "    else:\n",
    "        return \"Otro\""
   ]
  },
  {
   "cell_type": "code",
   "execution_count": 14,
   "id": "2f181726",
   "metadata": {
    "scrolled": true
   },
   "outputs": [
    {
     "data": {
      "text/html": [
       "<div>\n",
       "<style scoped>\n",
       "    .dataframe tbody tr th:only-of-type {\n",
       "        vertical-align: middle;\n",
       "    }\n",
       "\n",
       "    .dataframe tbody tr th {\n",
       "        vertical-align: top;\n",
       "    }\n",
       "\n",
       "    .dataframe thead th {\n",
       "        text-align: right;\n",
       "    }\n",
       "</style>\n",
       "<table border=\"1\" class=\"dataframe\">\n",
       "  <thead>\n",
       "    <tr style=\"text-align: right;\">\n",
       "      <th></th>\n",
       "      <th>modalidad_de_contrataci_n</th>\n",
       "      <th>count</th>\n",
       "      <th>prop</th>\n",
       "      <th>modalidad_clean</th>\n",
       "    </tr>\n",
       "  </thead>\n",
       "  <tbody>\n",
       "    <tr>\n",
       "      <th>0</th>\n",
       "      <td>invitacion ofertas cooperativas o asociaciones...</td>\n",
       "      <td>37</td>\n",
       "      <td>0.000048</td>\n",
       "      <td>Otro</td>\n",
       "    </tr>\n",
       "    <tr>\n",
       "      <th>1</th>\n",
       "      <td>licitacion publica</td>\n",
       "      <td>10250</td>\n",
       "      <td>0.013353</td>\n",
       "      <td>licitacion publica</td>\n",
       "    </tr>\n",
       "    <tr>\n",
       "      <th>2</th>\n",
       "      <td>seleccion abreviada del literal h del numeral ...</td>\n",
       "      <td>118</td>\n",
       "      <td>0.000154</td>\n",
       "      <td>Otro</td>\n",
       "    </tr>\n",
       "    <tr>\n",
       "      <th>3</th>\n",
       "      <td>contratacion minima cuantia</td>\n",
       "      <td>157560</td>\n",
       "      <td>0.205257</td>\n",
       "      <td>minima cuantia</td>\n",
       "    </tr>\n",
       "    <tr>\n",
       "      <th>4</th>\n",
       "      <td>contratacion directa</td>\n",
       "      <td>50228</td>\n",
       "      <td>0.065433</td>\n",
       "      <td>contratacion directa</td>\n",
       "    </tr>\n",
       "    <tr>\n",
       "      <th>5</th>\n",
       "      <td>seleccion abreviada servicios de salud</td>\n",
       "      <td>203</td>\n",
       "      <td>0.000264</td>\n",
       "      <td>Otro</td>\n",
       "    </tr>\n",
       "    <tr>\n",
       "      <th>6</th>\n",
       "      <td>contratacion directa (con ofertas)</td>\n",
       "      <td>497</td>\n",
       "      <td>0.000647</td>\n",
       "      <td>contratacion directa</td>\n",
       "    </tr>\n",
       "    <tr>\n",
       "      <th>7</th>\n",
       "      <td>minima cuantia</td>\n",
       "      <td>1716</td>\n",
       "      <td>0.002235</td>\n",
       "      <td>minima cuantia</td>\n",
       "    </tr>\n",
       "    <tr>\n",
       "      <th>8</th>\n",
       "      <td>contratacion directa menor cuantia</td>\n",
       "      <td>3418</td>\n",
       "      <td>0.004453</td>\n",
       "      <td>minima cuantia</td>\n",
       "    </tr>\n",
       "    <tr>\n",
       "      <th>9</th>\n",
       "      <td>subasta</td>\n",
       "      <td>8402</td>\n",
       "      <td>0.010945</td>\n",
       "      <td>subasta</td>\n",
       "    </tr>\n",
       "    <tr>\n",
       "      <th>10</th>\n",
       "      <td>concurso de meritos con lista corta</td>\n",
       "      <td>619</td>\n",
       "      <td>0.000806</td>\n",
       "      <td>concurso de meritos abiertos</td>\n",
       "    </tr>\n",
       "    <tr>\n",
       "      <th>11</th>\n",
       "      <td>concurso de meritos con lista multiusos</td>\n",
       "      <td>38</td>\n",
       "      <td>0.000050</td>\n",
       "      <td>concurso de meritos abiertos</td>\n",
       "    </tr>\n",
       "    <tr>\n",
       "      <th>12</th>\n",
       "      <td>seleccion abreviada menor cuantia sin manifest...</td>\n",
       "      <td>12</td>\n",
       "      <td>0.000016</td>\n",
       "      <td>minima cuantia</td>\n",
       "    </tr>\n",
       "    <tr>\n",
       "      <th>13</th>\n",
       "      <td>cce-20-concurso_meritos_sin_lista_corta_1sobre</td>\n",
       "      <td>65</td>\n",
       "      <td>0.000085</td>\n",
       "      <td>concurso de meritos abiertos</td>\n",
       "    </tr>\n",
       "    <tr>\n",
       "      <th>14</th>\n",
       "      <td>contratacion directa ley 1150 de 2007</td>\n",
       "      <td>321096</td>\n",
       "      <td>0.418299</td>\n",
       "      <td>contratacion directa</td>\n",
       "    </tr>\n",
       "    <tr>\n",
       "      <th>15</th>\n",
       "      <td>asociacion publico privada</td>\n",
       "      <td>300</td>\n",
       "      <td>0.000391</td>\n",
       "      <td>Otro</td>\n",
       "    </tr>\n",
       "    <tr>\n",
       "      <th>16</th>\n",
       "      <td>contratos y convenios con mas de dos partes</td>\n",
       "      <td>1655</td>\n",
       "      <td>0.002156</td>\n",
       "      <td>Otro</td>\n",
       "    </tr>\n",
       "    <tr>\n",
       "      <th>17</th>\n",
       "      <td>regimen especial</td>\n",
       "      <td>171310</td>\n",
       "      <td>0.223169</td>\n",
       "      <td>regimen especial</td>\n",
       "    </tr>\n",
       "    <tr>\n",
       "      <th>18</th>\n",
       "      <td>lista multiusos</td>\n",
       "      <td>1</td>\n",
       "      <td>0.000001</td>\n",
       "      <td>Otro</td>\n",
       "    </tr>\n",
       "    <tr>\n",
       "      <th>19</th>\n",
       "      <td>seleccion abreviada subasta inversa</td>\n",
       "      <td>292</td>\n",
       "      <td>0.000380</td>\n",
       "      <td>subasta</td>\n",
       "    </tr>\n",
       "    <tr>\n",
       "      <th>20</th>\n",
       "      <td>otras formas de contratacion directa</td>\n",
       "      <td>2132</td>\n",
       "      <td>0.002777</td>\n",
       "      <td>contratacion directa</td>\n",
       "    </tr>\n",
       "    <tr>\n",
       "      <th>21</th>\n",
       "      <td>concurso de meritos abierto</td>\n",
       "      <td>6653</td>\n",
       "      <td>0.008667</td>\n",
       "      <td>concurso de meritos abiertos</td>\n",
       "    </tr>\n",
       "    <tr>\n",
       "      <th>22</th>\n",
       "      <td>seleccion abreviada de menor cuantia</td>\n",
       "      <td>342</td>\n",
       "      <td>0.000446</td>\n",
       "      <td>minima cuantia</td>\n",
       "    </tr>\n",
       "    <tr>\n",
       "      <th>23</th>\n",
       "      <td>seleccion abreviada de menor cuantia ley 1150 ...</td>\n",
       "      <td>26194</td>\n",
       "      <td>0.034124</td>\n",
       "      <td>minima cuantia</td>\n",
       "    </tr>\n",
       "    <tr>\n",
       "      <th>24</th>\n",
       "      <td>contratacion regimen especial (con ofertas)</td>\n",
       "      <td>1230</td>\n",
       "      <td>0.001602</td>\n",
       "      <td>regimen especial</td>\n",
       "    </tr>\n",
       "    <tr>\n",
       "      <th>25</th>\n",
       "      <td>licitacion publica obra publica</td>\n",
       "      <td>110</td>\n",
       "      <td>0.000143</td>\n",
       "      <td>licitacion publica</td>\n",
       "    </tr>\n",
       "    <tr>\n",
       "      <th>26</th>\n",
       "      <td>contratacion regimen especial</td>\n",
       "      <td>1335</td>\n",
       "      <td>0.001739</td>\n",
       "      <td>regimen especial</td>\n",
       "    </tr>\n",
       "    <tr>\n",
       "      <th>27</th>\n",
       "      <td>licitacion obra publica</td>\n",
       "      <td>1798</td>\n",
       "      <td>0.002342</td>\n",
       "      <td>licitacion publica</td>\n",
       "    </tr>\n",
       "    <tr>\n",
       "      <th>28</th>\n",
       "      <td>concurso de diseño arquitectonico</td>\n",
       "      <td>1</td>\n",
       "      <td>0.000001</td>\n",
       "      <td>Otro</td>\n",
       "    </tr>\n",
       "    <tr>\n",
       "      <th>29</th>\n",
       "      <td>no definido</td>\n",
       "      <td>10</td>\n",
       "      <td>0.000013</td>\n",
       "      <td>Otro</td>\n",
       "    </tr>\n",
       "    <tr>\n",
       "      <th>30</th>\n",
       "      <td>enajenacion de bienes con subasta</td>\n",
       "      <td>1</td>\n",
       "      <td>0.000001</td>\n",
       "      <td>subasta</td>\n",
       "    </tr>\n",
       "  </tbody>\n",
       "</table>\n",
       "</div>"
      ]
     },
     "execution_count": 14,
     "metadata": {},
     "output_type": "execute_result"
    },
    {
     "data": {
      "text/html": [
       "<pre style=\"white-space:pre;overflow-x:auto;line-height:normal;font-family:Menlo,'DejaVu Sans Mono',consolas,'Courier New',monospace\"><span style=\"font-weight: bold\">&lt;</span><span style=\"color: #ff00ff; text-decoration-color: #ff00ff; font-weight: bold\">IPython.core.display.Javascript</span><span style=\"color: #000000; text-decoration-color: #000000\"> object</span><span style=\"font-weight: bold\">&gt;</span>\n",
       "</pre>\n"
      ],
      "text/plain": [
       "\u001b[1m<\u001b[0m\u001b[1;95mIPython.core.display.Javascript\u001b[0m\u001b[39m object\u001b[0m\u001b[1m>\u001b[0m\n"
      ]
     },
     "metadata": {},
     "output_type": "display_data"
    },
    {
     "data": {
      "application/javascript": [
       "\n",
       "            setTimeout(function() {\n",
       "                var nbb_cell_id = 14;\n",
       "                var nbb_unformatted_code = \"count_process_type[\\\"modalidad_clean\\\"] = count_process_type[\\n    \\\"modalidad_de_contrataci_n\\\"\\n].apply(clean_modalidad_contratacion)\\ncount_process_type\";\n",
       "                var nbb_formatted_code = \"count_process_type[\\\"modalidad_clean\\\"] = count_process_type[\\n    \\\"modalidad_de_contrataci_n\\\"\\n].apply(clean_modalidad_contratacion)\\ncount_process_type\";\n",
       "                var nbb_cells = Jupyter.notebook.get_cells();\n",
       "                for (var i = 0; i < nbb_cells.length; ++i) {\n",
       "                    if (nbb_cells[i].input_prompt_number == nbb_cell_id) {\n",
       "                        if (nbb_cells[i].get_text() == nbb_unformatted_code) {\n",
       "                             nbb_cells[i].set_text(nbb_formatted_code);\n",
       "                        }\n",
       "                        break;\n",
       "                    }\n",
       "                }\n",
       "            }, 500);\n",
       "            "
      ]
     },
     "metadata": {},
     "output_type": "display_data"
    }
   ],
   "source": [
    "count_process_type[\"modalidad_clean\"] = count_process_type[\n",
    "    \"modalidad_de_contrataci_n\"\n",
    "].apply(clean_modalidad_contratacion)\n",
    "count_process_type"
   ]
  },
  {
   "cell_type": "code",
   "execution_count": 15,
   "id": "7d2555e2",
   "metadata": {
    "scrolled": false
   },
   "outputs": [
    {
     "data": {
      "text/html": [
       "<pre style=\"white-space:pre;overflow-x:auto;line-height:normal;font-family:Menlo,'DejaVu Sans Mono',consolas,'Courier New',monospace\"><span style=\"font-weight: bold\">&lt;</span><span style=\"color: #ff00ff; text-decoration-color: #ff00ff; font-weight: bold\">IPython.core.display.Javascript</span><span style=\"color: #000000; text-decoration-color: #000000\"> object</span><span style=\"font-weight: bold\">&gt;</span>\n",
       "</pre>\n"
      ],
      "text/plain": [
       "\u001b[1m<\u001b[0m\u001b[1;95mIPython.core.display.Javascript\u001b[0m\u001b[39m object\u001b[0m\u001b[1m>\u001b[0m\n"
      ]
     },
     "metadata": {},
     "output_type": "display_data"
    },
    {
     "data": {
      "application/javascript": [
       "\n",
       "            setTimeout(function() {\n",
       "                var nbb_cell_id = 15;\n",
       "                var nbb_unformatted_code = \"secop_int = secop_int.withColumn(\\n    \\\"modalidad_de_contrataci_n\\\",\\n    udf(clean_modalidad_contratacion)(col(\\\"modalidad_de_contrataci_n\\\")),\\n)\";\n",
       "                var nbb_formatted_code = \"secop_int = secop_int.withColumn(\\n    \\\"modalidad_de_contrataci_n\\\",\\n    udf(clean_modalidad_contratacion)(col(\\\"modalidad_de_contrataci_n\\\")),\\n)\";\n",
       "                var nbb_cells = Jupyter.notebook.get_cells();\n",
       "                for (var i = 0; i < nbb_cells.length; ++i) {\n",
       "                    if (nbb_cells[i].input_prompt_number == nbb_cell_id) {\n",
       "                        if (nbb_cells[i].get_text() == nbb_unformatted_code) {\n",
       "                             nbb_cells[i].set_text(nbb_formatted_code);\n",
       "                        }\n",
       "                        break;\n",
       "                    }\n",
       "                }\n",
       "            }, 500);\n",
       "            "
      ]
     },
     "metadata": {},
     "output_type": "display_data"
    }
   ],
   "source": [
    "secop_int = secop_int.withColumn(\n",
    "    \"modalidad_de_contrataci_n\",\n",
    "    udf(clean_modalidad_contratacion)(col(\"modalidad_de_contrataci_n\")),\n",
    ")"
   ]
  },
  {
   "cell_type": "code",
   "execution_count": 16,
   "id": "751a2257",
   "metadata": {},
   "outputs": [
    {
     "data": {
      "text/html": [
       "<pre style=\"white-space:pre;overflow-x:auto;line-height:normal;font-family:Menlo,'DejaVu Sans Mono',consolas,'Courier New',monospace\"><span style=\"color: #7fbfbf; text-decoration-color: #7fbfbf\">[08/10/22 15:58:35] </span><span style=\"color: #800000; text-decoration-color: #800000\">WARNING </span> <span style=\"color: #800080; text-decoration-color: #800080\">/opt/homebrew/Caskroom/miniforge/base/envs/dm_project/lib/python3.10/s</span> <a href=\"file:///opt/homebrew/Caskroom/miniforge/base/envs/dm_project/lib/python3.10/warnings.py\" target=\"_blank\"><span style=\"color: #7f7f7f; text-decoration-color: #7f7f7f\">warnings.py</span></a><span style=\"color: #7f7f7f; text-decoration-color: #7f7f7f\">:</span><a href=\"file:///opt/homebrew/Caskroom/miniforge/base/envs/dm_project/lib/python3.10/warnings.py#109\" target=\"_blank\"><span style=\"color: #7f7f7f; text-decoration-color: #7f7f7f\">109</span></a>\n",
       "<span style=\"color: #7fbfbf; text-decoration-color: #7fbfbf\">                    </span>         <span style=\"color: #800080; text-decoration-color: #800080\">ite-packages/pyspark/sql/pandas/</span><span style=\"color: #ff00ff; text-decoration-color: #ff00ff\">utils.py</span>:<span style=\"color: #008080; text-decoration-color: #008080; font-weight: bold\">35</span>: DeprecationWarning:       <span style=\"color: #7f7f7f; text-decoration-color: #7f7f7f\">               </span>\n",
       "<span style=\"color: #7fbfbf; text-decoration-color: #7fbfbf\">                    </span>         distutils Version classes are deprecated. Use packaging.version        <span style=\"color: #7f7f7f; text-decoration-color: #7f7f7f\">               </span>\n",
       "<span style=\"color: #7fbfbf; text-decoration-color: #7fbfbf\">                    </span>         instead.                                                               <span style=\"color: #7f7f7f; text-decoration-color: #7f7f7f\">               </span>\n",
       "<span style=\"color: #7fbfbf; text-decoration-color: #7fbfbf\">                    </span>           if <span style=\"color: #800080; text-decoration-color: #800080; font-weight: bold\">LooseVersion</span><span style=\"font-weight: bold\">(</span>pandas.__version__<span style=\"font-weight: bold\">)</span> &lt;                                <span style=\"color: #7f7f7f; text-decoration-color: #7f7f7f\">               </span>\n",
       "<span style=\"color: #7fbfbf; text-decoration-color: #7fbfbf\">                    </span>         <span style=\"color: #800080; text-decoration-color: #800080; font-weight: bold\">LooseVersion</span><span style=\"font-weight: bold\">(</span>minimum_pandas_version<span style=\"font-weight: bold\">)</span>:                                  <span style=\"color: #7f7f7f; text-decoration-color: #7f7f7f\">               </span>\n",
       "<span style=\"color: #7fbfbf; text-decoration-color: #7fbfbf\">                    </span>                                                                                <span style=\"color: #7f7f7f; text-decoration-color: #7f7f7f\">               </span>\n",
       "</pre>\n"
      ],
      "text/plain": [
       "\u001b[2;36m[08/10/22 15:58:35]\u001b[0m\u001b[2;36m \u001b[0m\u001b[31mWARNING \u001b[0m \u001b[35m/opt/homebrew/Caskroom/miniforge/base/envs/dm_project/lib/python3.10/s\u001b[0m \u001b]8;id=643046;file:///opt/homebrew/Caskroom/miniforge/base/envs/dm_project/lib/python3.10/warnings.py\u001b\\\u001b[2mwarnings.py\u001b[0m\u001b]8;;\u001b\\\u001b[2m:\u001b[0m\u001b]8;id=190068;file:///opt/homebrew/Caskroom/miniforge/base/envs/dm_project/lib/python3.10/warnings.py#109\u001b\\\u001b[2m109\u001b[0m\u001b]8;;\u001b\\\n",
       "\u001b[2;36m                    \u001b[0m         \u001b[35mite-packages/pyspark/sql/pandas/\u001b[0m\u001b[95mutils.py\u001b[0m:\u001b[1;36m35\u001b[0m: DeprecationWarning:       \u001b[2m               \u001b[0m\n",
       "\u001b[2;36m                    \u001b[0m         distutils Version classes are deprecated. Use packaging.version        \u001b[2m               \u001b[0m\n",
       "\u001b[2;36m                    \u001b[0m         instead.                                                               \u001b[2m               \u001b[0m\n",
       "\u001b[2;36m                    \u001b[0m           if \u001b[1;35mLooseVersion\u001b[0m\u001b[1m(\u001b[0mpandas.__version__\u001b[1m)\u001b[0m <                                \u001b[2m               \u001b[0m\n",
       "\u001b[2;36m                    \u001b[0m         \u001b[1;35mLooseVersion\u001b[0m\u001b[1m(\u001b[0mminimum_pandas_version\u001b[1m)\u001b[0m:                                  \u001b[2m               \u001b[0m\n",
       "\u001b[2;36m                    \u001b[0m                                                                                \u001b[2m               \u001b[0m\n"
      ]
     },
     "metadata": {},
     "output_type": "display_data"
    },
    {
     "name": "stderr",
     "output_type": "stream",
     "text": [
      "                                                                                \r"
     ]
    },
    {
     "data": {
      "text/html": [
       "<div>\n",
       "<style scoped>\n",
       "    .dataframe tbody tr th:only-of-type {\n",
       "        vertical-align: middle;\n",
       "    }\n",
       "\n",
       "    .dataframe tbody tr th {\n",
       "        vertical-align: top;\n",
       "    }\n",
       "\n",
       "    .dataframe thead th {\n",
       "        text-align: right;\n",
       "    }\n",
       "</style>\n",
       "<table border=\"1\" class=\"dataframe\">\n",
       "  <thead>\n",
       "    <tr style=\"text-align: right;\">\n",
       "      <th></th>\n",
       "      <th>modalidad_de_contrataci_n</th>\n",
       "      <th>count</th>\n",
       "      <th>prop</th>\n",
       "    </tr>\n",
       "  </thead>\n",
       "  <tbody>\n",
       "    <tr>\n",
       "      <th>2</th>\n",
       "      <td>contratacion directa</td>\n",
       "      <td>373953</td>\n",
       "      <td>0.487157</td>\n",
       "    </tr>\n",
       "    <tr>\n",
       "      <th>4</th>\n",
       "      <td>minima cuantia</td>\n",
       "      <td>189242</td>\n",
       "      <td>0.246530</td>\n",
       "    </tr>\n",
       "    <tr>\n",
       "      <th>6</th>\n",
       "      <td>regimen especial</td>\n",
       "      <td>173875</td>\n",
       "      <td>0.226511</td>\n",
       "    </tr>\n",
       "    <tr>\n",
       "      <th>1</th>\n",
       "      <td>licitacion publica</td>\n",
       "      <td>12158</td>\n",
       "      <td>0.015839</td>\n",
       "    </tr>\n",
       "    <tr>\n",
       "      <th>5</th>\n",
       "      <td>subasta</td>\n",
       "      <td>8695</td>\n",
       "      <td>0.011327</td>\n",
       "    </tr>\n",
       "    <tr>\n",
       "      <th>3</th>\n",
       "      <td>concurso de meritos abiertos</td>\n",
       "      <td>7375</td>\n",
       "      <td>0.009608</td>\n",
       "    </tr>\n",
       "    <tr>\n",
       "      <th>0</th>\n",
       "      <td>Otro</td>\n",
       "      <td>2325</td>\n",
       "      <td>0.003029</td>\n",
       "    </tr>\n",
       "  </tbody>\n",
       "</table>\n",
       "</div>"
      ]
     },
     "execution_count": 16,
     "metadata": {},
     "output_type": "execute_result"
    },
    {
     "data": {
      "text/html": [
       "<pre style=\"white-space:pre;overflow-x:auto;line-height:normal;font-family:Menlo,'DejaVu Sans Mono',consolas,'Courier New',monospace\"><span style=\"font-weight: bold\">&lt;</span><span style=\"color: #ff00ff; text-decoration-color: #ff00ff; font-weight: bold\">IPython.core.display.Javascript</span><span style=\"color: #000000; text-decoration-color: #000000\"> object</span><span style=\"font-weight: bold\">&gt;</span>\n",
       "</pre>\n"
      ],
      "text/plain": [
       "\u001b[1m<\u001b[0m\u001b[1;95mIPython.core.display.Javascript\u001b[0m\u001b[39m object\u001b[0m\u001b[1m>\u001b[0m\n"
      ]
     },
     "metadata": {},
     "output_type": "display_data"
    },
    {
     "data": {
      "application/javascript": [
       "\n",
       "            setTimeout(function() {\n",
       "                var nbb_cell_id = 16;\n",
       "                var nbb_unformatted_code = \"count_process_type_clean = (\\n    secop_int.groupBy(\\\"modalidad_de_contrataci_n\\\").count().toPandas()\\n)\\ncount_process_type_clean[\\\"prop\\\"] = (\\n    count_process_type_clean[\\\"count\\\"] / count_process_type_clean[\\\"count\\\"].sum()\\n)\\ncount_process_type_clean.sort_values(\\\"prop\\\", ascending=False)\";\n",
       "                var nbb_formatted_code = \"count_process_type_clean = (\\n    secop_int.groupBy(\\\"modalidad_de_contrataci_n\\\").count().toPandas()\\n)\\ncount_process_type_clean[\\\"prop\\\"] = (\\n    count_process_type_clean[\\\"count\\\"] / count_process_type_clean[\\\"count\\\"].sum()\\n)\\ncount_process_type_clean.sort_values(\\\"prop\\\", ascending=False)\";\n",
       "                var nbb_cells = Jupyter.notebook.get_cells();\n",
       "                for (var i = 0; i < nbb_cells.length; ++i) {\n",
       "                    if (nbb_cells[i].input_prompt_number == nbb_cell_id) {\n",
       "                        if (nbb_cells[i].get_text() == nbb_unformatted_code) {\n",
       "                             nbb_cells[i].set_text(nbb_formatted_code);\n",
       "                        }\n",
       "                        break;\n",
       "                    }\n",
       "                }\n",
       "            }, 500);\n",
       "            "
      ]
     },
     "metadata": {},
     "output_type": "display_data"
    }
   ],
   "source": [
    "count_process_type_clean = (\n",
    "    secop_int.groupBy(\"modalidad_de_contrataci_n\").count().toPandas()\n",
    ")\n",
    "count_process_type_clean[\"prop\"] = (\n",
    "    count_process_type_clean[\"count\"] / count_process_type_clean[\"count\"].sum()\n",
    ")\n",
    "count_process_type_clean.sort_values(\"prop\", ascending=False)"
   ]
  },
  {
   "cell_type": "code",
   "execution_count": 17,
   "id": "d2b2b02d",
   "metadata": {},
   "outputs": [
    {
     "data": {
      "text/html": [
       "<pre style=\"white-space:pre;overflow-x:auto;line-height:normal;font-family:Menlo,'DejaVu Sans Mono',consolas,'Courier New',monospace\"><span style=\"font-weight: bold\">&lt;</span><span style=\"color: #ff00ff; text-decoration-color: #ff00ff; font-weight: bold\">IPython.core.display.Javascript</span><span style=\"color: #000000; text-decoration-color: #000000\"> object</span><span style=\"font-weight: bold\">&gt;</span>\n",
       "</pre>\n"
      ],
      "text/plain": [
       "\u001b[1m<\u001b[0m\u001b[1;95mIPython.core.display.Javascript\u001b[0m\u001b[39m object\u001b[0m\u001b[1m>\u001b[0m\n"
      ]
     },
     "metadata": {},
     "output_type": "display_data"
    },
    {
     "data": {
      "application/javascript": [
       "\n",
       "            setTimeout(function() {\n",
       "                var nbb_cell_id = 17;\n",
       "                var nbb_unformatted_code = \"secop_int = secop_int.withColumn(\\\"tipo_de_contrato\\\", udf(remove_tildes)(F.lower(col(\\\"tipo_de_contrato\\\"))))\";\n",
       "                var nbb_formatted_code = \"secop_int = secop_int.withColumn(\\n    \\\"tipo_de_contrato\\\", udf(remove_tildes)(F.lower(col(\\\"tipo_de_contrato\\\")))\\n)\";\n",
       "                var nbb_cells = Jupyter.notebook.get_cells();\n",
       "                for (var i = 0; i < nbb_cells.length; ++i) {\n",
       "                    if (nbb_cells[i].input_prompt_number == nbb_cell_id) {\n",
       "                        if (nbb_cells[i].get_text() == nbb_unformatted_code) {\n",
       "                             nbb_cells[i].set_text(nbb_formatted_code);\n",
       "                        }\n",
       "                        break;\n",
       "                    }\n",
       "                }\n",
       "            }, 500);\n",
       "            "
      ]
     },
     "metadata": {},
     "output_type": "display_data"
    }
   ],
   "source": [
    "secop_int = secop_int.withColumn(\n",
    "    \"tipo_de_contrato\", udf(remove_tildes)(F.lower(col(\"tipo_de_contrato\")))\n",
    ")"
   ]
  },
  {
   "cell_type": "code",
   "execution_count": 18,
   "id": "bf540941",
   "metadata": {
    "scrolled": true
   },
   "outputs": [
    {
     "data": {
      "text/html": [
       "<pre style=\"white-space:pre;overflow-x:auto;line-height:normal;font-family:Menlo,'DejaVu Sans Mono',consolas,'Courier New',monospace\"><span style=\"color: #7fbfbf; text-decoration-color: #7fbfbf\">[08/10/22 15:58:52] </span><span style=\"color: #800000; text-decoration-color: #800000\">WARNING </span> <span style=\"color: #800080; text-decoration-color: #800080\">/opt/homebrew/Caskroom/miniforge/base/envs/dm_project/lib/python3.10/s</span> <a href=\"file:///opt/homebrew/Caskroom/miniforge/base/envs/dm_project/lib/python3.10/warnings.py\" target=\"_blank\"><span style=\"color: #7f7f7f; text-decoration-color: #7f7f7f\">warnings.py</span></a><span style=\"color: #7f7f7f; text-decoration-color: #7f7f7f\">:</span><a href=\"file:///opt/homebrew/Caskroom/miniforge/base/envs/dm_project/lib/python3.10/warnings.py#109\" target=\"_blank\"><span style=\"color: #7f7f7f; text-decoration-color: #7f7f7f\">109</span></a>\n",
       "<span style=\"color: #7fbfbf; text-decoration-color: #7fbfbf\">                    </span>         <span style=\"color: #800080; text-decoration-color: #800080\">ite-packages/pyspark/sql/pandas/</span><span style=\"color: #ff00ff; text-decoration-color: #ff00ff\">utils.py</span>:<span style=\"color: #008080; text-decoration-color: #008080; font-weight: bold\">35</span>: DeprecationWarning:       <span style=\"color: #7f7f7f; text-decoration-color: #7f7f7f\">               </span>\n",
       "<span style=\"color: #7fbfbf; text-decoration-color: #7fbfbf\">                    </span>         distutils Version classes are deprecated. Use packaging.version        <span style=\"color: #7f7f7f; text-decoration-color: #7f7f7f\">               </span>\n",
       "<span style=\"color: #7fbfbf; text-decoration-color: #7fbfbf\">                    </span>         instead.                                                               <span style=\"color: #7f7f7f; text-decoration-color: #7f7f7f\">               </span>\n",
       "<span style=\"color: #7fbfbf; text-decoration-color: #7fbfbf\">                    </span>           if <span style=\"color: #800080; text-decoration-color: #800080; font-weight: bold\">LooseVersion</span><span style=\"font-weight: bold\">(</span>pandas.__version__<span style=\"font-weight: bold\">)</span> &lt;                                <span style=\"color: #7f7f7f; text-decoration-color: #7f7f7f\">               </span>\n",
       "<span style=\"color: #7fbfbf; text-decoration-color: #7fbfbf\">                    </span>         <span style=\"color: #800080; text-decoration-color: #800080; font-weight: bold\">LooseVersion</span><span style=\"font-weight: bold\">(</span>minimum_pandas_version<span style=\"font-weight: bold\">)</span>:                                  <span style=\"color: #7f7f7f; text-decoration-color: #7f7f7f\">               </span>\n",
       "<span style=\"color: #7fbfbf; text-decoration-color: #7fbfbf\">                    </span>                                                                                <span style=\"color: #7f7f7f; text-decoration-color: #7f7f7f\">               </span>\n",
       "</pre>\n"
      ],
      "text/plain": [
       "\u001b[2;36m[08/10/22 15:58:52]\u001b[0m\u001b[2;36m \u001b[0m\u001b[31mWARNING \u001b[0m \u001b[35m/opt/homebrew/Caskroom/miniforge/base/envs/dm_project/lib/python3.10/s\u001b[0m \u001b]8;id=366084;file:///opt/homebrew/Caskroom/miniforge/base/envs/dm_project/lib/python3.10/warnings.py\u001b\\\u001b[2mwarnings.py\u001b[0m\u001b]8;;\u001b\\\u001b[2m:\u001b[0m\u001b]8;id=908621;file:///opt/homebrew/Caskroom/miniforge/base/envs/dm_project/lib/python3.10/warnings.py#109\u001b\\\u001b[2m109\u001b[0m\u001b]8;;\u001b\\\n",
       "\u001b[2;36m                    \u001b[0m         \u001b[35mite-packages/pyspark/sql/pandas/\u001b[0m\u001b[95mutils.py\u001b[0m:\u001b[1;36m35\u001b[0m: DeprecationWarning:       \u001b[2m               \u001b[0m\n",
       "\u001b[2;36m                    \u001b[0m         distutils Version classes are deprecated. Use packaging.version        \u001b[2m               \u001b[0m\n",
       "\u001b[2;36m                    \u001b[0m         instead.                                                               \u001b[2m               \u001b[0m\n",
       "\u001b[2;36m                    \u001b[0m           if \u001b[1;35mLooseVersion\u001b[0m\u001b[1m(\u001b[0mpandas.__version__\u001b[1m)\u001b[0m <                                \u001b[2m               \u001b[0m\n",
       "\u001b[2;36m                    \u001b[0m         \u001b[1;35mLooseVersion\u001b[0m\u001b[1m(\u001b[0mminimum_pandas_version\u001b[1m)\u001b[0m:                                  \u001b[2m               \u001b[0m\n",
       "\u001b[2;36m                    \u001b[0m                                                                                \u001b[2m               \u001b[0m\n"
      ]
     },
     "metadata": {},
     "output_type": "display_data"
    },
    {
     "name": "stderr",
     "output_type": "stream",
     "text": [
      "                                                                                \r"
     ]
    },
    {
     "data": {
      "text/html": [
       "<div>\n",
       "<style scoped>\n",
       "    .dataframe tbody tr th:only-of-type {\n",
       "        vertical-align: middle;\n",
       "    }\n",
       "\n",
       "    .dataframe tbody tr th {\n",
       "        vertical-align: top;\n",
       "    }\n",
       "\n",
       "    .dataframe thead th {\n",
       "        text-align: right;\n",
       "    }\n",
       "</style>\n",
       "<table border=\"1\" class=\"dataframe\">\n",
       "  <thead>\n",
       "    <tr style=\"text-align: right;\">\n",
       "      <th></th>\n",
       "      <th>tipo_de_contrato</th>\n",
       "      <th>count</th>\n",
       "      <th>prop</th>\n",
       "    </tr>\n",
       "  </thead>\n",
       "  <tbody>\n",
       "    <tr>\n",
       "      <th>3</th>\n",
       "      <td>prestacion de servicios</td>\n",
       "      <td>535714</td>\n",
       "      <td>0.697887</td>\n",
       "    </tr>\n",
       "    <tr>\n",
       "      <th>0</th>\n",
       "      <td>suministro</td>\n",
       "      <td>97743</td>\n",
       "      <td>0.127332</td>\n",
       "    </tr>\n",
       "    <tr>\n",
       "      <th>13</th>\n",
       "      <td>obra</td>\n",
       "      <td>47713</td>\n",
       "      <td>0.062157</td>\n",
       "    </tr>\n",
       "    <tr>\n",
       "      <th>2</th>\n",
       "      <td>compraventa</td>\n",
       "      <td>33059</td>\n",
       "      <td>0.043067</td>\n",
       "    </tr>\n",
       "    <tr>\n",
       "      <th>11</th>\n",
       "      <td>otro tipo de contrato</td>\n",
       "      <td>25946</td>\n",
       "      <td>0.033800</td>\n",
       "    </tr>\n",
       "    <tr>\n",
       "      <th>15</th>\n",
       "      <td>consultoria</td>\n",
       "      <td>9446</td>\n",
       "      <td>0.012306</td>\n",
       "    </tr>\n",
       "    <tr>\n",
       "      <th>18</th>\n",
       "      <td>interventoria</td>\n",
       "      <td>6574</td>\n",
       "      <td>0.008564</td>\n",
       "    </tr>\n",
       "    <tr>\n",
       "      <th>8</th>\n",
       "      <td>arrendamiento</td>\n",
       "      <td>5891</td>\n",
       "      <td>0.007674</td>\n",
       "    </tr>\n",
       "    <tr>\n",
       "      <th>9</th>\n",
       "      <td>otro</td>\n",
       "      <td>1359</td>\n",
       "      <td>0.001770</td>\n",
       "    </tr>\n",
       "    <tr>\n",
       "      <th>17</th>\n",
       "      <td>decreelaw092/2017</td>\n",
       "      <td>1357</td>\n",
       "      <td>0.001768</td>\n",
       "    </tr>\n",
       "    <tr>\n",
       "      <th>6</th>\n",
       "      <td>comodato</td>\n",
       "      <td>752</td>\n",
       "      <td>0.000980</td>\n",
       "    </tr>\n",
       "    <tr>\n",
       "      <th>12</th>\n",
       "      <td>suministros</td>\n",
       "      <td>654</td>\n",
       "      <td>0.000852</td>\n",
       "    </tr>\n",
       "    <tr>\n",
       "      <th>4</th>\n",
       "      <td>concesion</td>\n",
       "      <td>311</td>\n",
       "      <td>0.000405</td>\n",
       "    </tr>\n",
       "    <tr>\n",
       "      <th>7</th>\n",
       "      <td>no definido</td>\n",
       "      <td>307</td>\n",
       "      <td>0.000400</td>\n",
       "    </tr>\n",
       "    <tr>\n",
       "      <th>10</th>\n",
       "      <td>credito</td>\n",
       "      <td>267</td>\n",
       "      <td>0.000348</td>\n",
       "    </tr>\n",
       "    <tr>\n",
       "      <th>5</th>\n",
       "      <td>arrendamiento de inmuebles</td>\n",
       "      <td>140</td>\n",
       "      <td>0.000182</td>\n",
       "    </tr>\n",
       "    <tr>\n",
       "      <th>14</th>\n",
       "      <td>fiducia</td>\n",
       "      <td>119</td>\n",
       "      <td>0.000155</td>\n",
       "    </tr>\n",
       "    <tr>\n",
       "      <th>20</th>\n",
       "      <td>acuerdo marco</td>\n",
       "      <td>117</td>\n",
       "      <td>0.000152</td>\n",
       "    </tr>\n",
       "    <tr>\n",
       "      <th>19</th>\n",
       "      <td>seguros</td>\n",
       "      <td>83</td>\n",
       "      <td>0.000108</td>\n",
       "    </tr>\n",
       "    <tr>\n",
       "      <th>16</th>\n",
       "      <td>arrendamiento de muebles</td>\n",
       "      <td>30</td>\n",
       "      <td>0.000039</td>\n",
       "    </tr>\n",
       "    <tr>\n",
       "      <th>21</th>\n",
       "      <td>agregacion de demanda</td>\n",
       "      <td>12</td>\n",
       "      <td>0.000016</td>\n",
       "    </tr>\n",
       "    <tr>\n",
       "      <th>24</th>\n",
       "      <td>no especificado</td>\n",
       "      <td>12</td>\n",
       "      <td>0.000016</td>\n",
       "    </tr>\n",
       "    <tr>\n",
       "      <th>22</th>\n",
       "      <td>emprestito</td>\n",
       "      <td>7</td>\n",
       "      <td>0.000009</td>\n",
       "    </tr>\n",
       "    <tr>\n",
       "      <th>23</th>\n",
       "      <td>asociacion publico privada</td>\n",
       "      <td>6</td>\n",
       "      <td>0.000008</td>\n",
       "    </tr>\n",
       "    <tr>\n",
       "      <th>1</th>\n",
       "      <td>servicios financieros</td>\n",
       "      <td>3</td>\n",
       "      <td>0.000004</td>\n",
       "    </tr>\n",
       "    <tr>\n",
       "      <th>25</th>\n",
       "      <td>venta muebles</td>\n",
       "      <td>1</td>\n",
       "      <td>0.000001</td>\n",
       "    </tr>\n",
       "  </tbody>\n",
       "</table>\n",
       "</div>"
      ]
     },
     "execution_count": 18,
     "metadata": {},
     "output_type": "execute_result"
    },
    {
     "data": {
      "text/html": [
       "<pre style=\"white-space:pre;overflow-x:auto;line-height:normal;font-family:Menlo,'DejaVu Sans Mono',consolas,'Courier New',monospace\"><span style=\"font-weight: bold\">&lt;</span><span style=\"color: #ff00ff; text-decoration-color: #ff00ff; font-weight: bold\">IPython.core.display.Javascript</span><span style=\"color: #000000; text-decoration-color: #000000\"> object</span><span style=\"font-weight: bold\">&gt;</span>\n",
       "</pre>\n"
      ],
      "text/plain": [
       "\u001b[1m<\u001b[0m\u001b[1;95mIPython.core.display.Javascript\u001b[0m\u001b[39m object\u001b[0m\u001b[1m>\u001b[0m\n"
      ]
     },
     "metadata": {},
     "output_type": "display_data"
    },
    {
     "data": {
      "application/javascript": [
       "\n",
       "            setTimeout(function() {\n",
       "                var nbb_cell_id = 18;\n",
       "                var nbb_unformatted_code = \"count_process_type_cont = secop_int.groupBy(\\\"tipo_de_contrato\\\").count().toPandas()\\ncount_process_type_cont[\\\"prop\\\"] = (\\n    count_process_type_cont[\\\"count\\\"] / count_process_type_cont[\\\"count\\\"].sum()\\n)\\ncount_process_type_cont.sort_values(\\\"prop\\\", ascending=False)\";\n",
       "                var nbb_formatted_code = \"count_process_type_cont = secop_int.groupBy(\\\"tipo_de_contrato\\\").count().toPandas()\\ncount_process_type_cont[\\\"prop\\\"] = (\\n    count_process_type_cont[\\\"count\\\"] / count_process_type_cont[\\\"count\\\"].sum()\\n)\\ncount_process_type_cont.sort_values(\\\"prop\\\", ascending=False)\";\n",
       "                var nbb_cells = Jupyter.notebook.get_cells();\n",
       "                for (var i = 0; i < nbb_cells.length; ++i) {\n",
       "                    if (nbb_cells[i].input_prompt_number == nbb_cell_id) {\n",
       "                        if (nbb_cells[i].get_text() == nbb_unformatted_code) {\n",
       "                             nbb_cells[i].set_text(nbb_formatted_code);\n",
       "                        }\n",
       "                        break;\n",
       "                    }\n",
       "                }\n",
       "            }, 500);\n",
       "            "
      ]
     },
     "metadata": {},
     "output_type": "display_data"
    }
   ],
   "source": [
    "count_process_type_cont = secop_int.groupBy(\"tipo_de_contrato\").count().toPandas()\n",
    "count_process_type_cont[\"prop\"] = (\n",
    "    count_process_type_cont[\"count\"] / count_process_type_cont[\"count\"].sum()\n",
    ")\n",
    "count_process_type_cont.sort_values(\"prop\", ascending=False)"
   ]
  },
  {
   "cell_type": "code",
   "execution_count": 22,
   "id": "8342818e",
   "metadata": {},
   "outputs": [
    {
     "data": {
      "text/html": [
       "<pre style=\"white-space:pre;overflow-x:auto;line-height:normal;font-family:Menlo,'DejaVu Sans Mono',consolas,'Courier New',monospace\"><span style=\"font-weight: bold\">&lt;</span><span style=\"color: #ff00ff; text-decoration-color: #ff00ff; font-weight: bold\">IPython.core.display.Javascript</span><span style=\"color: #000000; text-decoration-color: #000000\"> object</span><span style=\"font-weight: bold\">&gt;</span>\n",
       "</pre>\n"
      ],
      "text/plain": [
       "\u001b[1m<\u001b[0m\u001b[1;95mIPython.core.display.Javascript\u001b[0m\u001b[39m object\u001b[0m\u001b[1m>\u001b[0m\n"
      ]
     },
     "metadata": {},
     "output_type": "display_data"
    },
    {
     "data": {
      "application/javascript": [
       "\n",
       "            setTimeout(function() {\n",
       "                var nbb_cell_id = 22;\n",
       "                var nbb_unformatted_code = \"def clean_tipo_contrato(tip: str):\\n    \\\"\\\"\\\"Clean and group tipo de contrato\\\"\\\"\\\"\\n    if (\\\"suministro\\\" in tip) or (tip in [\\\"compraventa\\\", \\\"venta muebles\\\"]):\\n        return \\\"suministro\\\"\\n    elif (\\\"arrendamiento\\\" in tip) or (\\\"comodato\\\" in tip):\\n        return \\\"arrendamiento\\\"\\n    elif tip in [\\n        \\\"servicios financieros\\\",\\n        \\\"credito\\\",\\n        \\\"fiducia\\\",\\n        \\\"seguros\\\",\\n        \\\"emprestito\\\",\\n    ]:\\n        return \\\"servicios financieros\\\"\\n    elif tip in [\\\"obra\\\", \\\"consultoria\\\", \\\"prestacion de servicios\\\"]:\\n        return tip\\n    else:\\n        return \\\"Otro\\\"\";\n",
       "                var nbb_formatted_code = \"def clean_tipo_contrato(tip: str):\\n    \\\"\\\"\\\"Clean and group tipo de contrato\\\"\\\"\\\"\\n    if (\\\"suministro\\\" in tip) or (tip in [\\\"compraventa\\\", \\\"venta muebles\\\"]):\\n        return \\\"suministro\\\"\\n    elif (\\\"arrendamiento\\\" in tip) or (\\\"comodato\\\" in tip):\\n        return \\\"arrendamiento\\\"\\n    elif tip in [\\n        \\\"servicios financieros\\\",\\n        \\\"credito\\\",\\n        \\\"fiducia\\\",\\n        \\\"seguros\\\",\\n        \\\"emprestito\\\",\\n    ]:\\n        return \\\"servicios financieros\\\"\\n    elif tip in [\\\"obra\\\", \\\"consultoria\\\", \\\"prestacion de servicios\\\"]:\\n        return tip\\n    else:\\n        return \\\"Otro\\\"\";\n",
       "                var nbb_cells = Jupyter.notebook.get_cells();\n",
       "                for (var i = 0; i < nbb_cells.length; ++i) {\n",
       "                    if (nbb_cells[i].input_prompt_number == nbb_cell_id) {\n",
       "                        if (nbb_cells[i].get_text() == nbb_unformatted_code) {\n",
       "                             nbb_cells[i].set_text(nbb_formatted_code);\n",
       "                        }\n",
       "                        break;\n",
       "                    }\n",
       "                }\n",
       "            }, 500);\n",
       "            "
      ]
     },
     "metadata": {},
     "output_type": "display_data"
    }
   ],
   "source": [
    "def clean_tipo_contrato(tip: str):\n",
    "    \"\"\"Clean and group tipo de contrato\"\"\"\n",
    "    if (\"suministro\" in tip) or (tip in [\"compraventa\", \"venta muebles\"]):\n",
    "        return \"suministro\"\n",
    "    elif (\"arrendamiento\" in tip) or (\"comodato\" in tip):\n",
    "        return \"arrendamiento\"\n",
    "    elif tip in [\n",
    "        \"servicios financieros\",\n",
    "        \"credito\",\n",
    "        \"fiducia\",\n",
    "        \"seguros\",\n",
    "        \"emprestito\",\n",
    "    ]:\n",
    "        return \"servicios financieros\"\n",
    "    elif tip in [\"obra\", \"consultoria\", \"prestacion de servicios\",'interventoria','concesion']:\n",
    "        return tip\n",
    "    else:\n",
    "        return \"Otro\""
   ]
  },
  {
   "cell_type": "code",
   "execution_count": 23,
   "id": "53b0099d",
   "metadata": {},
   "outputs": [
    {
     "data": {
      "text/html": [
       "<pre style=\"white-space:pre;overflow-x:auto;line-height:normal;font-family:Menlo,'DejaVu Sans Mono',consolas,'Courier New',monospace\"><span style=\"font-weight: bold\">&lt;</span><span style=\"color: #ff00ff; text-decoration-color: #ff00ff; font-weight: bold\">IPython.core.display.Javascript</span><span style=\"color: #000000; text-decoration-color: #000000\"> object</span><span style=\"font-weight: bold\">&gt;</span>\n",
       "</pre>\n"
      ],
      "text/plain": [
       "\u001b[1m<\u001b[0m\u001b[1;95mIPython.core.display.Javascript\u001b[0m\u001b[39m object\u001b[0m\u001b[1m>\u001b[0m\n"
      ]
     },
     "metadata": {},
     "output_type": "display_data"
    },
    {
     "data": {
      "application/javascript": [
       "\n",
       "            setTimeout(function() {\n",
       "                var nbb_cell_id = 23;\n",
       "                var nbb_unformatted_code = \"count_process_type_cont[\\\"tipo_de_contrato_clean\\\"] = count_process_type_cont[\\n    \\\"tipo_de_contrato\\\"\\n].apply(clean_tipo_contrato)\";\n",
       "                var nbb_formatted_code = \"count_process_type_cont[\\\"tipo_de_contrato_clean\\\"] = count_process_type_cont[\\n    \\\"tipo_de_contrato\\\"\\n].apply(clean_tipo_contrato)\";\n",
       "                var nbb_cells = Jupyter.notebook.get_cells();\n",
       "                for (var i = 0; i < nbb_cells.length; ++i) {\n",
       "                    if (nbb_cells[i].input_prompt_number == nbb_cell_id) {\n",
       "                        if (nbb_cells[i].get_text() == nbb_unformatted_code) {\n",
       "                             nbb_cells[i].set_text(nbb_formatted_code);\n",
       "                        }\n",
       "                        break;\n",
       "                    }\n",
       "                }\n",
       "            }, 500);\n",
       "            "
      ]
     },
     "metadata": {},
     "output_type": "display_data"
    }
   ],
   "source": [
    "count_process_type_cont[\"tipo_de_contrato_clean\"] = count_process_type_cont[\n",
    "    \"tipo_de_contrato\"\n",
    "].apply(clean_tipo_contrato)"
   ]
  },
  {
   "cell_type": "code",
   "execution_count": 24,
   "id": "06112543",
   "metadata": {},
   "outputs": [
    {
     "data": {
      "text/html": [
       "<div>\n",
       "<style scoped>\n",
       "    .dataframe tbody tr th:only-of-type {\n",
       "        vertical-align: middle;\n",
       "    }\n",
       "\n",
       "    .dataframe tbody tr th {\n",
       "        vertical-align: top;\n",
       "    }\n",
       "\n",
       "    .dataframe thead th {\n",
       "        text-align: right;\n",
       "    }\n",
       "</style>\n",
       "<table border=\"1\" class=\"dataframe\">\n",
       "  <thead>\n",
       "    <tr style=\"text-align: right;\">\n",
       "      <th></th>\n",
       "      <th>tipo_de_contrato</th>\n",
       "      <th>count</th>\n",
       "      <th>prop</th>\n",
       "      <th>tipo_de_contrato_clean</th>\n",
       "    </tr>\n",
       "  </thead>\n",
       "  <tbody>\n",
       "    <tr>\n",
       "      <th>0</th>\n",
       "      <td>suministro</td>\n",
       "      <td>97743</td>\n",
       "      <td>0.127332</td>\n",
       "      <td>suministro</td>\n",
       "    </tr>\n",
       "    <tr>\n",
       "      <th>1</th>\n",
       "      <td>servicios financieros</td>\n",
       "      <td>3</td>\n",
       "      <td>0.000004</td>\n",
       "      <td>servicios financieros</td>\n",
       "    </tr>\n",
       "    <tr>\n",
       "      <th>2</th>\n",
       "      <td>compraventa</td>\n",
       "      <td>33059</td>\n",
       "      <td>0.043067</td>\n",
       "      <td>suministro</td>\n",
       "    </tr>\n",
       "    <tr>\n",
       "      <th>3</th>\n",
       "      <td>prestacion de servicios</td>\n",
       "      <td>535714</td>\n",
       "      <td>0.697887</td>\n",
       "      <td>prestacion de servicios</td>\n",
       "    </tr>\n",
       "    <tr>\n",
       "      <th>4</th>\n",
       "      <td>concesion</td>\n",
       "      <td>311</td>\n",
       "      <td>0.000405</td>\n",
       "      <td>Otro</td>\n",
       "    </tr>\n",
       "    <tr>\n",
       "      <th>5</th>\n",
       "      <td>arrendamiento de inmuebles</td>\n",
       "      <td>140</td>\n",
       "      <td>0.000182</td>\n",
       "      <td>arrendamiento</td>\n",
       "    </tr>\n",
       "    <tr>\n",
       "      <th>6</th>\n",
       "      <td>comodato</td>\n",
       "      <td>752</td>\n",
       "      <td>0.000980</td>\n",
       "      <td>arrendamiento</td>\n",
       "    </tr>\n",
       "    <tr>\n",
       "      <th>7</th>\n",
       "      <td>no definido</td>\n",
       "      <td>307</td>\n",
       "      <td>0.000400</td>\n",
       "      <td>Otro</td>\n",
       "    </tr>\n",
       "    <tr>\n",
       "      <th>8</th>\n",
       "      <td>arrendamiento</td>\n",
       "      <td>5891</td>\n",
       "      <td>0.007674</td>\n",
       "      <td>arrendamiento</td>\n",
       "    </tr>\n",
       "    <tr>\n",
       "      <th>9</th>\n",
       "      <td>otro</td>\n",
       "      <td>1359</td>\n",
       "      <td>0.001770</td>\n",
       "      <td>Otro</td>\n",
       "    </tr>\n",
       "    <tr>\n",
       "      <th>10</th>\n",
       "      <td>credito</td>\n",
       "      <td>267</td>\n",
       "      <td>0.000348</td>\n",
       "      <td>servicios financieros</td>\n",
       "    </tr>\n",
       "    <tr>\n",
       "      <th>11</th>\n",
       "      <td>otro tipo de contrato</td>\n",
       "      <td>25946</td>\n",
       "      <td>0.033800</td>\n",
       "      <td>Otro</td>\n",
       "    </tr>\n",
       "    <tr>\n",
       "      <th>12</th>\n",
       "      <td>suministros</td>\n",
       "      <td>654</td>\n",
       "      <td>0.000852</td>\n",
       "      <td>suministro</td>\n",
       "    </tr>\n",
       "    <tr>\n",
       "      <th>13</th>\n",
       "      <td>obra</td>\n",
       "      <td>47713</td>\n",
       "      <td>0.062157</td>\n",
       "      <td>obra</td>\n",
       "    </tr>\n",
       "    <tr>\n",
       "      <th>14</th>\n",
       "      <td>fiducia</td>\n",
       "      <td>119</td>\n",
       "      <td>0.000155</td>\n",
       "      <td>servicios financieros</td>\n",
       "    </tr>\n",
       "    <tr>\n",
       "      <th>15</th>\n",
       "      <td>consultoria</td>\n",
       "      <td>9446</td>\n",
       "      <td>0.012306</td>\n",
       "      <td>consultoria</td>\n",
       "    </tr>\n",
       "    <tr>\n",
       "      <th>16</th>\n",
       "      <td>arrendamiento de muebles</td>\n",
       "      <td>30</td>\n",
       "      <td>0.000039</td>\n",
       "      <td>arrendamiento</td>\n",
       "    </tr>\n",
       "    <tr>\n",
       "      <th>17</th>\n",
       "      <td>decreelaw092/2017</td>\n",
       "      <td>1357</td>\n",
       "      <td>0.001768</td>\n",
       "      <td>Otro</td>\n",
       "    </tr>\n",
       "    <tr>\n",
       "      <th>18</th>\n",
       "      <td>interventoria</td>\n",
       "      <td>6574</td>\n",
       "      <td>0.008564</td>\n",
       "      <td>Otro</td>\n",
       "    </tr>\n",
       "    <tr>\n",
       "      <th>19</th>\n",
       "      <td>seguros</td>\n",
       "      <td>83</td>\n",
       "      <td>0.000108</td>\n",
       "      <td>servicios financieros</td>\n",
       "    </tr>\n",
       "    <tr>\n",
       "      <th>20</th>\n",
       "      <td>acuerdo marco</td>\n",
       "      <td>117</td>\n",
       "      <td>0.000152</td>\n",
       "      <td>Otro</td>\n",
       "    </tr>\n",
       "    <tr>\n",
       "      <th>21</th>\n",
       "      <td>agregacion de demanda</td>\n",
       "      <td>12</td>\n",
       "      <td>0.000016</td>\n",
       "      <td>Otro</td>\n",
       "    </tr>\n",
       "    <tr>\n",
       "      <th>22</th>\n",
       "      <td>emprestito</td>\n",
       "      <td>7</td>\n",
       "      <td>0.000009</td>\n",
       "      <td>servicios financieros</td>\n",
       "    </tr>\n",
       "    <tr>\n",
       "      <th>23</th>\n",
       "      <td>asociacion publico privada</td>\n",
       "      <td>6</td>\n",
       "      <td>0.000008</td>\n",
       "      <td>Otro</td>\n",
       "    </tr>\n",
       "    <tr>\n",
       "      <th>24</th>\n",
       "      <td>no especificado</td>\n",
       "      <td>12</td>\n",
       "      <td>0.000016</td>\n",
       "      <td>Otro</td>\n",
       "    </tr>\n",
       "    <tr>\n",
       "      <th>25</th>\n",
       "      <td>venta muebles</td>\n",
       "      <td>1</td>\n",
       "      <td>0.000001</td>\n",
       "      <td>suministro</td>\n",
       "    </tr>\n",
       "  </tbody>\n",
       "</table>\n",
       "</div>"
      ]
     },
     "execution_count": 24,
     "metadata": {},
     "output_type": "execute_result"
    },
    {
     "data": {
      "text/html": [
       "<pre style=\"white-space:pre;overflow-x:auto;line-height:normal;font-family:Menlo,'DejaVu Sans Mono',consolas,'Courier New',monospace\"><span style=\"font-weight: bold\">&lt;</span><span style=\"color: #ff00ff; text-decoration-color: #ff00ff; font-weight: bold\">IPython.core.display.Javascript</span><span style=\"color: #000000; text-decoration-color: #000000\"> object</span><span style=\"font-weight: bold\">&gt;</span>\n",
       "</pre>\n"
      ],
      "text/plain": [
       "\u001b[1m<\u001b[0m\u001b[1;95mIPython.core.display.Javascript\u001b[0m\u001b[39m object\u001b[0m\u001b[1m>\u001b[0m\n"
      ]
     },
     "metadata": {},
     "output_type": "display_data"
    },
    {
     "data": {
      "application/javascript": [
       "\n",
       "            setTimeout(function() {\n",
       "                var nbb_cell_id = 24;\n",
       "                var nbb_unformatted_code = \"count_process_type_cont\";\n",
       "                var nbb_formatted_code = \"count_process_type_cont\";\n",
       "                var nbb_cells = Jupyter.notebook.get_cells();\n",
       "                for (var i = 0; i < nbb_cells.length; ++i) {\n",
       "                    if (nbb_cells[i].input_prompt_number == nbb_cell_id) {\n",
       "                        if (nbb_cells[i].get_text() == nbb_unformatted_code) {\n",
       "                             nbb_cells[i].set_text(nbb_formatted_code);\n",
       "                        }\n",
       "                        break;\n",
       "                    }\n",
       "                }\n",
       "            }, 500);\n",
       "            "
      ]
     },
     "metadata": {},
     "output_type": "display_data"
    }
   ],
   "source": [
    "count_process_type_cont"
   ]
  },
  {
   "cell_type": "code",
   "execution_count": 18,
   "id": "268cb3a8",
   "metadata": {},
   "outputs": [
    {
     "data": {
      "text/html": [
       "<pre style=\"white-space:pre;overflow-x:auto;line-height:normal;font-family:Menlo,'DejaVu Sans Mono',consolas,'Courier New',monospace\">\n",
       "<span style=\"color: #800080; text-decoration-color: #800080; font-weight: bold\">array</span><span style=\"font-weight: bold\">([</span><span style=\"color: #008000; text-decoration-color: #008000\">'suministro'</span>, <span style=\"color: #008000; text-decoration-color: #008000\">'prestación de servicios'</span>, <span style=\"color: #008000; text-decoration-color: #008000\">'servicios financieros'</span>,\n",
       "       <span style=\"color: #008000; text-decoration-color: #008000\">'consultoría'</span>, <span style=\"color: #008000; text-decoration-color: #008000\">'compraventa'</span>, <span style=\"color: #008000; text-decoration-color: #008000\">'arrendamiento de inmuebles'</span>,\n",
       "       <span style=\"color: #008000; text-decoration-color: #008000\">'comodato'</span>, <span style=\"color: #008000; text-decoration-color: #008000\">'no definido'</span>, <span style=\"color: #008000; text-decoration-color: #008000\">'arrendamiento'</span>, <span style=\"color: #008000; text-decoration-color: #008000\">'concesión'</span>, <span style=\"color: #008000; text-decoration-color: #008000\">'otro'</span>,\n",
       "       <span style=\"color: #008000; text-decoration-color: #008000\">'crédito'</span>, <span style=\"color: #008000; text-decoration-color: #008000\">'otro tipo de contrato'</span>, <span style=\"color: #008000; text-decoration-color: #008000\">'suministros'</span>, <span style=\"color: #008000; text-decoration-color: #008000\">'interventoría'</span>,\n",
       "       <span style=\"color: #008000; text-decoration-color: #008000\">'obra'</span>, <span style=\"color: #008000; text-decoration-color: #008000\">'fiducia'</span>, <span style=\"color: #008000; text-decoration-color: #008000\">'arrendamiento de muebles'</span>, <span style=\"color: #008000; text-decoration-color: #008000\">'decreelaw092/2017'</span>,\n",
       "       <span style=\"color: #008000; text-decoration-color: #008000\">'seguros'</span>, <span style=\"color: #008000; text-decoration-color: #008000\">'acuerdo marco'</span>, <span style=\"color: #008000; text-decoration-color: #008000\">'agregación de demanda'</span>, <span style=\"color: #008000; text-decoration-color: #008000\">'emprestito'</span>,\n",
       "       <span style=\"color: #008000; text-decoration-color: #008000\">'asociación público privada'</span>, <span style=\"color: #008000; text-decoration-color: #008000\">'no especificado'</span>, <span style=\"color: #008000; text-decoration-color: #008000\">'venta muebles'</span><span style=\"font-weight: bold\">]</span>,\n",
       "      <span style=\"color: #808000; text-decoration-color: #808000\">dtype</span>=<span style=\"color: #800080; text-decoration-color: #800080\">object</span><span style=\"font-weight: bold\">)</span>\n",
       "</pre>\n"
      ],
      "text/plain": [
       "\n",
       "\u001b[1;35marray\u001b[0m\u001b[1m(\u001b[0m\u001b[1m[\u001b[0m\u001b[32m'suministro'\u001b[0m, \u001b[32m'prestación de servicios'\u001b[0m, \u001b[32m'servicios financieros'\u001b[0m,\n",
       "       \u001b[32m'consultoría'\u001b[0m, \u001b[32m'compraventa'\u001b[0m, \u001b[32m'arrendamiento de inmuebles'\u001b[0m,\n",
       "       \u001b[32m'comodato'\u001b[0m, \u001b[32m'no definido'\u001b[0m, \u001b[32m'arrendamiento'\u001b[0m, \u001b[32m'concesión'\u001b[0m, \u001b[32m'otro'\u001b[0m,\n",
       "       \u001b[32m'crédito'\u001b[0m, \u001b[32m'otro tipo de contrato'\u001b[0m, \u001b[32m'suministros'\u001b[0m, \u001b[32m'interventoría'\u001b[0m,\n",
       "       \u001b[32m'obra'\u001b[0m, \u001b[32m'fiducia'\u001b[0m, \u001b[32m'arrendamiento de muebles'\u001b[0m, \u001b[32m'decreelaw092/2017'\u001b[0m,\n",
       "       \u001b[32m'seguros'\u001b[0m, \u001b[32m'acuerdo marco'\u001b[0m, \u001b[32m'agregación de demanda'\u001b[0m, \u001b[32m'emprestito'\u001b[0m,\n",
       "       \u001b[32m'asociación público privada'\u001b[0m, \u001b[32m'no especificado'\u001b[0m, \u001b[32m'venta muebles'\u001b[0m\u001b[1m]\u001b[0m,\n",
       "      \u001b[33mdtype\u001b[0m=\u001b[35mobject\u001b[0m\u001b[1m)\u001b[0m\n"
      ]
     },
     "metadata": {},
     "output_type": "display_data"
    },
    {
     "data": {
      "text/html": [
       "<pre style=\"white-space:pre;overflow-x:auto;line-height:normal;font-family:Menlo,'DejaVu Sans Mono',consolas,'Courier New',monospace\"><span style=\"font-weight: bold\">&lt;</span><span style=\"color: #ff00ff; text-decoration-color: #ff00ff; font-weight: bold\">IPython.core.display.Javascript</span><span style=\"color: #000000; text-decoration-color: #000000\"> object</span><span style=\"font-weight: bold\">&gt;</span>\n",
       "</pre>\n"
      ],
      "text/plain": [
       "\u001b[1m<\u001b[0m\u001b[1;95mIPython.core.display.Javascript\u001b[0m\u001b[39m object\u001b[0m\u001b[1m>\u001b[0m\n"
      ]
     },
     "metadata": {},
     "output_type": "display_data"
    },
    {
     "data": {
      "application/javascript": [
       "\n",
       "            setTimeout(function() {\n",
       "                var nbb_cell_id = 18;\n",
       "                var nbb_unformatted_code = \"count_process_type_cont['tipo_de_contrato'].unique()\";\n",
       "                var nbb_formatted_code = \"count_process_type_cont[\\\"tipo_de_contrato\\\"].unique()\";\n",
       "                var nbb_cells = Jupyter.notebook.get_cells();\n",
       "                for (var i = 0; i < nbb_cells.length; ++i) {\n",
       "                    if (nbb_cells[i].input_prompt_number == nbb_cell_id) {\n",
       "                        if (nbb_cells[i].get_text() == nbb_unformatted_code) {\n",
       "                             nbb_cells[i].set_text(nbb_formatted_code);\n",
       "                        }\n",
       "                        break;\n",
       "                    }\n",
       "                }\n",
       "            }, 500);\n",
       "            "
      ]
     },
     "metadata": {},
     "output_type": "display_data"
    }
   ],
   "source": [
    "count_process_type_cont[\"tipo_de_contrato\"].unique()"
   ]
  },
  {
   "cell_type": "code",
   "execution_count": null,
   "id": "489f46f6",
   "metadata": {},
   "outputs": [],
   "source": []
  },
  {
   "cell_type": "code",
   "execution_count": 4,
   "id": "cfe49ac7",
   "metadata": {},
   "outputs": [],
   "source": [
    "import pandas as pd\n",
    "from sodapy import Socrata\n",
    "from typing import Dict\n",
    "import datetime\n",
    "from pyspark.sql import DataFrame as SparkDataFrame\n",
    "from pyspark.sql import SparkSession\n",
    "from pyspark.sql import SQLContext\n",
    "from secop.pipelines.data_engineering.utilities import (\n",
    "    COLS_SEC_2,\n",
    "    schema_secop_int,\n",
    "    _get_nits_to_extract,\n",
    "    _remove_tildes,\n",
    "    _clean_modalidad_contratacion,\n",
    "    _clean_tipo_contrato,\n",
    ")\n",
    "from pyspark.sql.types import StructType\n",
    "from pyspark.sql import SparkSession\n",
    "from pyspark.sql import SQLContext\n",
    "import pyspark.sql.functions as F\n",
    "from pyspark.sql.functions import col, udf\n",
    "\n",
    "CODE_INTEGRATED = \"rpmr-utcd\"\n",
    "CODE_SECOPII = \"p6dx-8zbt\""
   ]
  },
  {
   "cell_type": "code",
   "execution_count": 2,
   "id": "b5b08a5b",
   "metadata": {},
   "outputs": [
    {
     "data": {
      "text/html": [
       "<pre style=\"white-space:pre;overflow-x:auto;line-height:normal;font-family:Menlo,'DejaVu Sans Mono',consolas,'Courier New',monospace\"><span style=\"color: #7fbfbf; text-decoration-color: #7fbfbf\">[08/11/22 17:20:57] </span><span style=\"color: #000080; text-decoration-color: #000080\">INFO    </span> Loading data from <span style=\"color: #008000; text-decoration-color: #008000\">'secop_2_log_in'</span> <span style=\"font-weight: bold\">(</span>JSONDataSet<span style=\"font-weight: bold\">)</span><span style=\"color: #808000; text-decoration-color: #808000\">...</span>                <a href=\"file:///opt/homebrew/Caskroom/miniforge/base/envs/dm_project/lib/python3.10/site-packages/kedro/io/data_catalog.py\" target=\"_blank\"><span style=\"color: #7f7f7f; text-decoration-color: #7f7f7f\">data_catalog.py</span></a><span style=\"color: #7f7f7f; text-decoration-color: #7f7f7f\">:</span><a href=\"file:///opt/homebrew/Caskroom/miniforge/base/envs/dm_project/lib/python3.10/site-packages/kedro/io/data_catalog.py#343\" target=\"_blank\"><span style=\"color: #7f7f7f; text-decoration-color: #7f7f7f\">343</span></a>\n",
       "</pre>\n"
      ],
      "text/plain": [
       "\u001b[2;36m[08/11/22 17:20:57]\u001b[0m\u001b[2;36m \u001b[0m\u001b[34mINFO    \u001b[0m Loading data from \u001b[32m'secop_2_log_in'\u001b[0m \u001b[1m(\u001b[0mJSONDataSet\u001b[1m)\u001b[0m\u001b[33m...\u001b[0m                \u001b]8;id=130045;file:///opt/homebrew/Caskroom/miniforge/base/envs/dm_project/lib/python3.10/site-packages/kedro/io/data_catalog.py\u001b\\\u001b[2mdata_catalog.py\u001b[0m\u001b]8;;\u001b\\\u001b[2m:\u001b[0m\u001b]8;id=560941;file:///opt/homebrew/Caskroom/miniforge/base/envs/dm_project/lib/python3.10/site-packages/kedro/io/data_catalog.py#343\u001b\\\u001b[2m343\u001b[0m\u001b]8;;\u001b\\\n"
      ]
     },
     "metadata": {},
     "output_type": "display_data"
    }
   ],
   "source": [
    "secop_2_log = catalog.load('secop_2_log_in')"
   ]
  },
  {
   "cell_type": "code",
   "execution_count": 3,
   "id": "90b53696",
   "metadata": {},
   "outputs": [],
   "source": [
    "num_nits_to_extract = 3"
   ]
  },
  {
   "cell_type": "code",
   "execution_count": null,
   "id": "738171e9",
   "metadata": {},
   "outputs": [],
   "source": []
  },
  {
   "cell_type": "code",
   "execution_count": 6,
   "id": "d8827ff5",
   "metadata": {},
   "outputs": [
    {
     "data": {
      "text/html": [
       "<pre style=\"white-space:pre;overflow-x:auto;line-height:normal;font-family:Menlo,'DejaVu Sans Mono',consolas,'Courier New',monospace\"><span style=\"color: #7fbfbf; text-decoration-color: #7fbfbf\">[08/11/22 17:21:38] </span><span style=\"color: #800000; text-decoration-color: #800000\">WARNING </span> <span style=\"color: #800080; text-decoration-color: #800080\">/opt/homebrew/Caskroom/miniforge/base/envs/dm_project/lib/python3.10/s</span> <a href=\"file:///opt/homebrew/Caskroom/miniforge/base/envs/dm_project/lib/python3.10/warnings.py\" target=\"_blank\"><span style=\"color: #7f7f7f; text-decoration-color: #7f7f7f\">warnings.py</span></a><span style=\"color: #7f7f7f; text-decoration-color: #7f7f7f\">:</span><a href=\"file:///opt/homebrew/Caskroom/miniforge/base/envs/dm_project/lib/python3.10/warnings.py#109\" target=\"_blank\"><span style=\"color: #7f7f7f; text-decoration-color: #7f7f7f\">109</span></a>\n",
       "<span style=\"color: #7fbfbf; text-decoration-color: #7fbfbf\">                    </span>         <span style=\"color: #800080; text-decoration-color: #800080\">ite-packages/pyspark/sql/</span><span style=\"color: #ff00ff; text-decoration-color: #ff00ff\">context.py</span>:<span style=\"color: #008080; text-decoration-color: #008080; font-weight: bold\">77</span>: FutureWarning: Deprecated in   <span style=\"color: #7f7f7f; text-decoration-color: #7f7f7f\">               </span>\n",
       "<span style=\"color: #7fbfbf; text-decoration-color: #7fbfbf\">                    </span>         <span style=\"color: #008080; text-decoration-color: #008080; font-weight: bold\">3.0</span>.<span style=\"color: #008080; text-decoration-color: #008080; font-weight: bold\">0</span>. Use <span style=\"color: #800080; text-decoration-color: #800080; font-weight: bold\">SparkSession.builder.getOrCreate</span><span style=\"font-weight: bold\">()</span> instead.                 <span style=\"color: #7f7f7f; text-decoration-color: #7f7f7f\">               </span>\n",
       "<span style=\"color: #7fbfbf; text-decoration-color: #7fbfbf\">                    </span>           <span style=\"color: #800080; text-decoration-color: #800080; font-weight: bold\">warnings.warn</span><span style=\"font-weight: bold\">(</span>                                                       <span style=\"color: #7f7f7f; text-decoration-color: #7f7f7f\">               </span>\n",
       "<span style=\"color: #7fbfbf; text-decoration-color: #7fbfbf\">                    </span>                                                                                <span style=\"color: #7f7f7f; text-decoration-color: #7f7f7f\">               </span>\n",
       "</pre>\n"
      ],
      "text/plain": [
       "\u001b[2;36m[08/11/22 17:21:38]\u001b[0m\u001b[2;36m \u001b[0m\u001b[31mWARNING \u001b[0m \u001b[35m/opt/homebrew/Caskroom/miniforge/base/envs/dm_project/lib/python3.10/s\u001b[0m \u001b]8;id=548366;file:///opt/homebrew/Caskroom/miniforge/base/envs/dm_project/lib/python3.10/warnings.py\u001b\\\u001b[2mwarnings.py\u001b[0m\u001b]8;;\u001b\\\u001b[2m:\u001b[0m\u001b]8;id=759658;file:///opt/homebrew/Caskroom/miniforge/base/envs/dm_project/lib/python3.10/warnings.py#109\u001b\\\u001b[2m109\u001b[0m\u001b]8;;\u001b\\\n",
       "\u001b[2;36m                    \u001b[0m         \u001b[35mite-packages/pyspark/sql/\u001b[0m\u001b[95mcontext.py\u001b[0m:\u001b[1;36m77\u001b[0m: FutureWarning: Deprecated in   \u001b[2m               \u001b[0m\n",
       "\u001b[2;36m                    \u001b[0m         \u001b[1;36m3.0\u001b[0m.\u001b[1;36m0\u001b[0m. Use \u001b[1;35mSparkSession.builder.getOrCreate\u001b[0m\u001b[1m(\u001b[0m\u001b[1m)\u001b[0m instead.                 \u001b[2m               \u001b[0m\n",
       "\u001b[2;36m                    \u001b[0m           \u001b[1;35mwarnings.warn\u001b[0m\u001b[1m(\u001b[0m                                                       \u001b[2m               \u001b[0m\n",
       "\u001b[2;36m                    \u001b[0m                                                                                \u001b[2m               \u001b[0m\n"
      ]
     },
     "metadata": {},
     "output_type": "display_data"
    },
    {
     "data": {
      "text/html": [
       "<pre style=\"white-space:pre;overflow-x:auto;line-height:normal;font-family:Menlo,'DejaVu Sans Mono',consolas,'Courier New',monospace\"><span style=\"color: #7fbfbf; text-decoration-color: #7fbfbf\">                    </span><span style=\"color: #800000; text-decoration-color: #800000\">WARNING </span> Requests made without an app_token will be subject to strict throttling  <a href=\"file:///opt/homebrew/Caskroom/miniforge/base/envs/dm_project/lib/python3.10/site-packages/sodapy/socrata.py\" target=\"_blank\"><span style=\"color: #7f7f7f; text-decoration-color: #7f7f7f\">socrata.py</span></a><span style=\"color: #7f7f7f; text-decoration-color: #7f7f7f\">:</span><a href=\"file:///opt/homebrew/Caskroom/miniforge/base/envs/dm_project/lib/python3.10/site-packages/sodapy/socrata.py#63\" target=\"_blank\"><span style=\"color: #7f7f7f; text-decoration-color: #7f7f7f\">63</span></a>\n",
       "<span style=\"color: #7fbfbf; text-decoration-color: #7fbfbf\">                    </span>         limits.                                                                  <span style=\"color: #7f7f7f; text-decoration-color: #7f7f7f\">             </span>\n",
       "</pre>\n"
      ],
      "text/plain": [
       "\u001b[2;36m                   \u001b[0m\u001b[2;36m \u001b[0m\u001b[31mWARNING \u001b[0m Requests made without an app_token will be subject to strict throttling  \u001b]8;id=808718;file:///opt/homebrew/Caskroom/miniforge/base/envs/dm_project/lib/python3.10/site-packages/sodapy/socrata.py\u001b\\\u001b[2msocrata.py\u001b[0m\u001b]8;;\u001b\\\u001b[2m:\u001b[0m\u001b]8;id=294853;file:///opt/homebrew/Caskroom/miniforge/base/envs/dm_project/lib/python3.10/site-packages/sodapy/socrata.py#63\u001b\\\u001b[2m63\u001b[0m\u001b]8;;\u001b\\\n",
       "\u001b[2;36m                    \u001b[0m         limits.                                                                  \u001b[2m             \u001b[0m\n"
      ]
     },
     "metadata": {},
     "output_type": "display_data"
    },
    {
     "name": "stdout",
     "output_type": "stream",
     "text": [
      "req - 0 - 2022-08-11 17:21:38.991392\n"
     ]
    }
   ],
   "source": [
    "spark = SparkSession.builder.getOrCreate()\n",
    "sql_ctx = SQLContext(spark.sparkContext)\n",
    "# Nit to extract. If all nits have been extracted then the oldest extraction is updated\n",
    "nits_to_extract = _get_nits_to_extract(secop_2_log, num_nits_to_extract)\n",
    "# Request\n",
    "client = Socrata(\"www.datos.gov.co\", None)\n",
    "lim = 4000\n",
    "offset = lim\n",
    "print(f\"req - {offset-lim} - {datetime.datetime.now()}\")\n",
    "request = client.get(\n",
    "    CODE_SECOPII,\n",
    "    limit=lim,\n",
    "    select=\", \".join(COLS_SEC_2),\n",
    "    where='nit_entidad in (\"' + '\",\"'.join(nits_to_extract) + '\")',\n",
    ")\n",
    "request_df = pd.DataFrame.from_records(request)\n",
    "results_df = request_df.copy()"
   ]
  },
  {
   "cell_type": "code",
   "execution_count": 9,
   "id": "5f9fcedd",
   "metadata": {},
   "outputs": [
    {
     "data": {
      "text/html": [
       "<pre style=\"white-space:pre;overflow-x:auto;line-height:normal;font-family:Menlo,'DejaVu Sans Mono',consolas,'Courier New',monospace\"><span style=\"color: #008000; text-decoration-color: #008000\">'678678678'</span>\n",
       "</pre>\n"
      ],
      "text/plain": [
       "\u001b[32m'678678678'\u001b[0m\n"
      ]
     },
     "metadata": {},
     "output_type": "display_data"
    }
   ],
   "source": [
    "'678.678.678'.replace('.','')"
   ]
  },
  {
   "cell_type": "code",
   "execution_count": 8,
   "id": "4825b5fb",
   "metadata": {},
   "outputs": [
    {
     "data": {
      "text/html": [
       "<pre style=\"white-space:pre;overflow-x:auto;line-height:normal;font-family:Menlo,'DejaVu Sans Mono',consolas,'Courier New',monospace\">\n",
       "entidad                                        INSTITUCION EDUCATIVA CIUDADELA CUBA\n",
       "departamento_entidad                                                      Risaralda\n",
       "ciudad_entidad                                                              Pereira\n",
       "ordenentidad                                                            Territorial\n",
       "codigo_pci                                                                       Si\n",
       "id_del_proceso                                                      CO1.REQ.<span style=\"color: #008080; text-decoration-color: #008080; font-weight: bold\">3164109</span>\n",
       "referencia_del_proceso                                                      <span style=\"color: #008080; text-decoration-color: #008080; font-weight: bold\">20</span>-<span style=\"color: #008080; text-decoration-color: #008080; font-weight: bold\">2022</span>\n",
       "ppi                                                                              ND\n",
       "nombre_del_procedimiento          Derecho para participar de los suministros mat<span style=\"color: #808000; text-decoration-color: #808000\">...</span>\n",
       "descripci_n_del_procedimiento     Derecho para participar de los suministros mat<span style=\"color: #808000; text-decoration-color: #808000\">...</span>\n",
       "fase                                                         Presentación de oferta\n",
       "precio_base                                                                  <span style=\"color: #008080; text-decoration-color: #008080; font-weight: bold\">809200</span>\n",
       "modalidad_de_contratacion                             Contratación régimen especial\n",
       "duracion                                                                          <span style=\"color: #008080; text-decoration-color: #008080; font-weight: bold\">5</span>\n",
       "unidad_de_duracion                                                            Meses\n",
       "ciudad_de_la_unidad_de                                                      Pereira\n",
       "nombre_de_la_unidad_de                                       UNIDAD DE CONTRATACION\n",
       "proveedores_invitados                                                             <span style=\"color: #008080; text-decoration-color: #008080; font-weight: bold\">0</span>\n",
       "proveedores_con_invitacion                                                        <span style=\"color: #008080; text-decoration-color: #008080; font-weight: bold\">0</span>\n",
       "visualizaciones_del                                                               <span style=\"color: #008080; text-decoration-color: #008080; font-weight: bold\">0</span>\n",
       "proveedores_que_manifestaron                                                      <span style=\"color: #008080; text-decoration-color: #008080; font-weight: bold\">0</span>\n",
       "respuestas_al_procedimiento                                                       <span style=\"color: #008080; text-decoration-color: #008080; font-weight: bold\">0</span>\n",
       "respuestas_externas                                                               <span style=\"color: #008080; text-decoration-color: #008080; font-weight: bold\">0</span>\n",
       "conteo_de_respuestas_a_ofertas                                                    <span style=\"color: #008080; text-decoration-color: #008080; font-weight: bold\">0</span>\n",
       "proveedores_unicos_con                                                            <span style=\"color: #008080; text-decoration-color: #008080; font-weight: bold\">0</span>\n",
       "estado_del_procedimiento                                                No Definido\n",
       "id_estado_del_procedimiento                                                      <span style=\"color: #008080; text-decoration-color: #008080; font-weight: bold\">50</span>\n",
       "adjudicado                                                                       No\n",
       "id_adjudicacion                                                       No Adjudicado\n",
       "codigoproveedor                                                       No Adjudicado\n",
       "departamento_proveedor                                                    No aplica\n",
       "ciudad_proveedor                                                          No aplica\n",
       "valor_total_adjudicacion                                                          <span style=\"color: #008080; text-decoration-color: #008080; font-weight: bold\">0</span>\n",
       "nombre_del_adjudicador                                                No Adjudicado\n",
       "nombre_del_proveedor                                                  No Adjudicado\n",
       "nit_del_proveedor_adjudicado                                          No Adjudicado\n",
       "codigo_principal_de_categoria                                           V1.<span style=\"color: #008080; text-decoration-color: #008080; font-weight: bold\">14111507</span>\n",
       "estado_de_apertura_del_proceso                                              Abierto\n",
       "tipo_de_contrato                                     Servicios de aprovisionamiento\n",
       "subtipo_de_contrato                                                 No Especificado\n",
       "categorias_adicionales                                                           ND\n",
       "codigo_entidad                                                            <span style=\"color: #008080; text-decoration-color: #008080; font-weight: bold\">717995328</span>\n",
       "estadoresumen                                                Presentación de oferta\n",
       "fecha_de_publicacion_del                                    <span style=\"color: #008080; text-decoration-color: #008080; font-weight: bold\">2022</span>-<span style=\"color: #008080; text-decoration-color: #008080; font-weight: bold\">07</span>-29T<span style=\"color: #00ff00; text-decoration-color: #00ff00; font-weight: bold\">00:00:00</span>.<span style=\"color: #008080; text-decoration-color: #008080; font-weight: bold\">000</span>\n",
       "fecha_de_ultima_publicaci                                   <span style=\"color: #008080; text-decoration-color: #008080; font-weight: bold\">2022</span>-<span style=\"color: #008080; text-decoration-color: #008080; font-weight: bold\">07</span>-29T<span style=\"color: #00ff00; text-decoration-color: #00ff00; font-weight: bold\">00:00:00</span>.<span style=\"color: #008080; text-decoration-color: #008080; font-weight: bold\">000</span>\n",
       "fecha_de_publicacion_fase_3                                 <span style=\"color: #008080; text-decoration-color: #008080; font-weight: bold\">2022</span>-<span style=\"color: #008080; text-decoration-color: #008080; font-weight: bold\">07</span>-29T<span style=\"color: #00ff00; text-decoration-color: #00ff00; font-weight: bold\">00:00:00</span>.<span style=\"color: #008080; text-decoration-color: #008080; font-weight: bold\">000</span>\n",
       "nit_entidad                                                               <span style=\"color: #008080; text-decoration-color: #008080; font-weight: bold\">816006215</span>\n",
       "fecha_de_recepcion_de                                                           NaN\n",
       "fecha_de_apertura_efectiva                                                      NaN\n",
       "Name: <span style=\"color: #008080; text-decoration-color: #008080; font-weight: bold\">0</span>, dtype: object\n",
       "</pre>\n"
      ],
      "text/plain": [
       "\n",
       "entidad                                        INSTITUCION EDUCATIVA CIUDADELA CUBA\n",
       "departamento_entidad                                                      Risaralda\n",
       "ciudad_entidad                                                              Pereira\n",
       "ordenentidad                                                            Territorial\n",
       "codigo_pci                                                                       Si\n",
       "id_del_proceso                                                      CO1.REQ.\u001b[1;36m3164109\u001b[0m\n",
       "referencia_del_proceso                                                      \u001b[1;36m20\u001b[0m-\u001b[1;36m2022\u001b[0m\n",
       "ppi                                                                              ND\n",
       "nombre_del_procedimiento          Derecho para participar de los suministros mat\u001b[33m...\u001b[0m\n",
       "descripci_n_del_procedimiento     Derecho para participar de los suministros mat\u001b[33m...\u001b[0m\n",
       "fase                                                         Presentación de oferta\n",
       "precio_base                                                                  \u001b[1;36m809200\u001b[0m\n",
       "modalidad_de_contratacion                             Contratación régimen especial\n",
       "duracion                                                                          \u001b[1;36m5\u001b[0m\n",
       "unidad_de_duracion                                                            Meses\n",
       "ciudad_de_la_unidad_de                                                      Pereira\n",
       "nombre_de_la_unidad_de                                       UNIDAD DE CONTRATACION\n",
       "proveedores_invitados                                                             \u001b[1;36m0\u001b[0m\n",
       "proveedores_con_invitacion                                                        \u001b[1;36m0\u001b[0m\n",
       "visualizaciones_del                                                               \u001b[1;36m0\u001b[0m\n",
       "proveedores_que_manifestaron                                                      \u001b[1;36m0\u001b[0m\n",
       "respuestas_al_procedimiento                                                       \u001b[1;36m0\u001b[0m\n",
       "respuestas_externas                                                               \u001b[1;36m0\u001b[0m\n",
       "conteo_de_respuestas_a_ofertas                                                    \u001b[1;36m0\u001b[0m\n",
       "proveedores_unicos_con                                                            \u001b[1;36m0\u001b[0m\n",
       "estado_del_procedimiento                                                No Definido\n",
       "id_estado_del_procedimiento                                                      \u001b[1;36m50\u001b[0m\n",
       "adjudicado                                                                       No\n",
       "id_adjudicacion                                                       No Adjudicado\n",
       "codigoproveedor                                                       No Adjudicado\n",
       "departamento_proveedor                                                    No aplica\n",
       "ciudad_proveedor                                                          No aplica\n",
       "valor_total_adjudicacion                                                          \u001b[1;36m0\u001b[0m\n",
       "nombre_del_adjudicador                                                No Adjudicado\n",
       "nombre_del_proveedor                                                  No Adjudicado\n",
       "nit_del_proveedor_adjudicado                                          No Adjudicado\n",
       "codigo_principal_de_categoria                                           V1.\u001b[1;36m14111507\u001b[0m\n",
       "estado_de_apertura_del_proceso                                              Abierto\n",
       "tipo_de_contrato                                     Servicios de aprovisionamiento\n",
       "subtipo_de_contrato                                                 No Especificado\n",
       "categorias_adicionales                                                           ND\n",
       "codigo_entidad                                                            \u001b[1;36m717995328\u001b[0m\n",
       "estadoresumen                                                Presentación de oferta\n",
       "fecha_de_publicacion_del                                    \u001b[1;36m2022\u001b[0m-\u001b[1;36m07\u001b[0m-29T\u001b[1;92m00:00:00\u001b[0m.\u001b[1;36m000\u001b[0m\n",
       "fecha_de_ultima_publicaci                                   \u001b[1;36m2022\u001b[0m-\u001b[1;36m07\u001b[0m-29T\u001b[1;92m00:00:00\u001b[0m.\u001b[1;36m000\u001b[0m\n",
       "fecha_de_publicacion_fase_3                                 \u001b[1;36m2022\u001b[0m-\u001b[1;36m07\u001b[0m-29T\u001b[1;92m00:00:00\u001b[0m.\u001b[1;36m000\u001b[0m\n",
       "nit_entidad                                                               \u001b[1;36m816006215\u001b[0m\n",
       "fecha_de_recepcion_de                                                           NaN\n",
       "fecha_de_apertura_efectiva                                                      NaN\n",
       "Name: \u001b[1;36m0\u001b[0m, dtype: object\n"
      ]
     },
     "metadata": {},
     "output_type": "display_data"
    }
   ],
   "source": [
    "results_df.iloc[0]"
   ]
  },
  {
   "cell_type": "code",
   "execution_count": null,
   "id": "5dfd74ab",
   "metadata": {},
   "outputs": [],
   "source": [
    "\n",
    "while len(request_df) > 0:\n",
    "    print(f\"req - {offset} - {datetime.datetime.now()}\")\n",
    "    request = client.get(\n",
    "        CODE_SECOPII,\n",
    "        limit=lim,\n",
    "        offset=offset,\n",
    "        select=\", \".join(COLS_SEC_2),\n",
    "        where='nit_entidad in (\"' + '\",\"'.join(nits_to_extract) + '\")',\n",
    "    )\n",
    "    request_df = pd.DataFrame.from_records(request)\n",
    "    results_df = pd.concat([results_df, request_df], ignore_index=True)\n",
    "    offset += lim\n",
    "# Fix nulls\n",
    "results_df.fillna(\"\", inplace=True)\n",
    "try:\n",
    "    result_spark = sql_ctx.createDataFrame(results_df)\n",
    "    for n in nits_to_extract:\n",
    "        secop_2_log[n][\"success\"] = 1\n",
    "except IndexError:\n",
    "    schema = StructType([])\n",
    "    result_spark = sql_ctx.createDataFrame([], schema)\n",
    "    for n in nits_to_extract:\n",
    "        secop_2_log[n][\"success\"] = 0\n",
    "for n in nits_to_extract:\n",
    "    secop_2_log[n][\"req\"] = 1\n",
    "for n in nits_to_extract:\n",
    "    secop_2_log[n][\"date\"] = str(datetime.datetime.now())"
   ]
  },
  {
   "cell_type": "code",
   "execution_count": 1,
   "id": "320cac0c",
   "metadata": {},
   "outputs": [
    {
     "data": {
      "text/html": [
       "<pre style=\"white-space:pre;overflow-x:auto;line-height:normal;font-family:Menlo,'DejaVu Sans Mono',consolas,'Courier New',monospace\"><span style=\"color: #7fbfbf; text-decoration-color: #7fbfbf\">[08/11/22 19:17:05] </span><span style=\"color: #000080; text-decoration-color: #000080\">INFO    </span> Loading data from <span style=\"color: #008000; text-decoration-color: #008000\">'secop_2_log_in'</span> <span style=\"font-weight: bold\">(</span>JSONDataSet<span style=\"font-weight: bold\">)</span><span style=\"color: #808000; text-decoration-color: #808000\">...</span>                <a href=\"file:///opt/homebrew/Caskroom/miniforge/base/envs/dm_project/lib/python3.10/site-packages/kedro/io/data_catalog.py\" target=\"_blank\"><span style=\"color: #7f7f7f; text-decoration-color: #7f7f7f\">data_catalog.py</span></a><span style=\"color: #7f7f7f; text-decoration-color: #7f7f7f\">:</span><a href=\"file:///opt/homebrew/Caskroom/miniforge/base/envs/dm_project/lib/python3.10/site-packages/kedro/io/data_catalog.py#343\" target=\"_blank\"><span style=\"color: #7f7f7f; text-decoration-color: #7f7f7f\">343</span></a>\n",
       "</pre>\n"
      ],
      "text/plain": [
       "\u001b[2;36m[08/11/22 19:17:05]\u001b[0m\u001b[2;36m \u001b[0m\u001b[34mINFO    \u001b[0m Loading data from \u001b[32m'secop_2_log_in'\u001b[0m \u001b[1m(\u001b[0mJSONDataSet\u001b[1m)\u001b[0m\u001b[33m...\u001b[0m                \u001b]8;id=573609;file:///opt/homebrew/Caskroom/miniforge/base/envs/dm_project/lib/python3.10/site-packages/kedro/io/data_catalog.py\u001b\\\u001b[2mdata_catalog.py\u001b[0m\u001b]8;;\u001b\\\u001b[2m:\u001b[0m\u001b]8;id=527010;file:///opt/homebrew/Caskroom/miniforge/base/envs/dm_project/lib/python3.10/site-packages/kedro/io/data_catalog.py#343\u001b\\\u001b[2m343\u001b[0m\u001b]8;;\u001b\\\n"
      ]
     },
     "metadata": {},
     "output_type": "display_data"
    }
   ],
   "source": [
    "secop_2_log_in = catalog.load('secop_2_log_in')"
   ]
  },
  {
   "cell_type": "code",
   "execution_count": 2,
   "id": "8d29f1d3",
   "metadata": {},
   "outputs": [
    {
     "data": {
      "text/html": [
       "<pre style=\"white-space:pre;overflow-x:auto;line-height:normal;font-family:Menlo,'DejaVu Sans Mono',consolas,'Courier New',monospace\"><span style=\"color: #008080; text-decoration-color: #008080; font-weight: bold\">3383</span>\n",
       "</pre>\n"
      ],
      "text/plain": [
       "\u001b[1;36m3383\u001b[0m\n"
      ]
     },
     "metadata": {},
     "output_type": "display_data"
    }
   ],
   "source": [
    "len(secop_2_log_in.keys())"
   ]
  },
  {
   "cell_type": "code",
   "execution_count": null,
   "id": "21433a80",
   "metadata": {},
   "outputs": [],
   "source": []
  },
  {
   "cell_type": "code",
   "execution_count": null,
   "id": "6059b74f",
   "metadata": {},
   "outputs": [],
   "source": []
  },
  {
   "cell_type": "markdown",
   "id": "4ae0c142",
   "metadata": {},
   "source": [
    "<a href=\"https://www.funcionpublica.gov.co/eva/gestornormativo/norma.php?i=304\">Ley 80</a>"
   ]
  }
 ],
 "metadata": {
  "kernelspec": {
   "display_name": "Kedro (secop)",
   "language": "python",
   "name": "kedro_secop"
  },
  "language_info": {
   "codemirror_mode": {
    "name": "ipython",
    "version": 3
   },
   "file_extension": ".py",
   "mimetype": "text/x-python",
   "name": "python",
   "nbconvert_exporter": "python",
   "pygments_lexer": "ipython3",
   "version": "3.10.5"
  }
 },
 "nbformat": 4,
 "nbformat_minor": 5
}
