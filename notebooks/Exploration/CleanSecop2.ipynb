{
 "cells": [
  {
   "cell_type": "code",
   "execution_count": 1,
   "id": "6664f06a",
   "metadata": {},
   "outputs": [],
   "source": [
    "import pandas as pd\n",
    "import numpy as np\n",
    "import json\n",
    "import matplotlib.pyplot as plt\n",
    "from sodapy import Socrata\n",
    "import datetime\n",
    "\n",
    "from pyspark.sql import SparkSession\n",
    "from pyspark.sql import SQLContext\n",
    "import pyspark.sql.functions as F\n",
    "from pyspark.sql.functions import col, when, lit, udf"
   ]
  },
  {
   "cell_type": "code",
   "execution_count": 2,
   "id": "084cd5bd",
   "metadata": {},
   "outputs": [],
   "source": [
    "from secop.pipelines.data_engineering.utilities import _remove_tildes"
   ]
  },
  {
   "cell_type": "code",
   "execution_count": 3,
   "id": "8a1d9003",
   "metadata": {},
   "outputs": [
    {
     "data": {
      "text/html": [
       "<pre style=\"white-space:pre;overflow-x:auto;line-height:normal;font-family:Menlo,'DejaVu Sans Mono',consolas,'Courier New',monospace\"><span style=\"font-weight: bold\">&lt;</span><span style=\"color: #ff00ff; text-decoration-color: #ff00ff; font-weight: bold\">IPython.core.display.Javascript</span><span style=\"color: #000000; text-decoration-color: #000000\"> object</span><span style=\"font-weight: bold\">&gt;</span>\n",
       "</pre>\n"
      ],
      "text/plain": [
       "\u001b[1m<\u001b[0m\u001b[1;95mIPython.core.display.Javascript\u001b[0m\u001b[39m object\u001b[0m\u001b[1m>\u001b[0m\n"
      ]
     },
     "metadata": {},
     "output_type": "display_data"
    },
    {
     "data": {
      "application/javascript": [
       "\n",
       "            setTimeout(function() {\n",
       "                var nbb_cell_id = 3;\n",
       "                var nbb_unformatted_code = \"%load_ext nb_black\\n%matplotlib inline\";\n",
       "                var nbb_formatted_code = \"%load_ext nb_black\\n%matplotlib inline\";\n",
       "                var nbb_cells = Jupyter.notebook.get_cells();\n",
       "                for (var i = 0; i < nbb_cells.length; ++i) {\n",
       "                    if (nbb_cells[i].input_prompt_number == nbb_cell_id) {\n",
       "                        if (nbb_cells[i].get_text() == nbb_unformatted_code) {\n",
       "                             nbb_cells[i].set_text(nbb_formatted_code);\n",
       "                        }\n",
       "                        break;\n",
       "                    }\n",
       "                }\n",
       "            }, 500);\n",
       "            "
      ]
     },
     "metadata": {},
     "output_type": "display_data"
    }
   ],
   "source": [
    "%load_ext nb_black\n",
    "%matplotlib inline"
   ]
  },
  {
   "cell_type": "code",
   "execution_count": 4,
   "id": "5f2d604a",
   "metadata": {
    "scrolled": false
   },
   "outputs": [
    {
     "data": {
      "text/html": [
       "<pre style=\"white-space:pre;overflow-x:auto;line-height:normal;font-family:Menlo,'DejaVu Sans Mono',consolas,'Courier New',monospace\"><span style=\"color: #7fbfbf; text-decoration-color: #7fbfbf\">                    </span><span style=\"color: #000080; text-decoration-color: #000080\">INFO    </span> Loading data from <span style=\"color: #008000; text-decoration-color: #008000\">'secop_2@pandas'</span> <span style=\"font-weight: bold\">(</span>ParquetDataSetSecop<span style=\"font-weight: bold\">)</span><span style=\"color: #808000; text-decoration-color: #808000\">...</span>        <a href=\"file:///opt/homebrew/Caskroom/miniforge/base/envs/dm_project/lib/python3.10/site-packages/kedro/io/data_catalog.py\" target=\"_blank\"><span style=\"color: #7f7f7f; text-decoration-color: #7f7f7f\">data_catalog.py</span></a><span style=\"color: #7f7f7f; text-decoration-color: #7f7f7f\">:</span><a href=\"file:///opt/homebrew/Caskroom/miniforge/base/envs/dm_project/lib/python3.10/site-packages/kedro/io/data_catalog.py#343\" target=\"_blank\"><span style=\"color: #7f7f7f; text-decoration-color: #7f7f7f\">343</span></a>\n",
       "</pre>\n"
      ],
      "text/plain": [
       "\u001b[2;36m                   \u001b[0m\u001b[2;36m \u001b[0m\u001b[34mINFO    \u001b[0m Loading data from \u001b[32m'secop_2@pandas'\u001b[0m \u001b[1m(\u001b[0mParquetDataSetSecop\u001b[1m)\u001b[0m\u001b[33m...\u001b[0m        \u001b]8;id=157102;file:///opt/homebrew/Caskroom/miniforge/base/envs/dm_project/lib/python3.10/site-packages/kedro/io/data_catalog.py\u001b\\\u001b[2mdata_catalog.py\u001b[0m\u001b]8;;\u001b\\\u001b[2m:\u001b[0m\u001b]8;id=355170;file:///opt/homebrew/Caskroom/miniforge/base/envs/dm_project/lib/python3.10/site-packages/kedro/io/data_catalog.py#343\u001b\\\u001b[2m343\u001b[0m\u001b]8;;\u001b\\\n"
      ]
     },
     "metadata": {},
     "output_type": "display_data"
    },
    {
     "data": {
      "text/html": [
       "<pre style=\"white-space:pre;overflow-x:auto;line-height:normal;font-family:Menlo,'DejaVu Sans Mono',consolas,'Courier New',monospace\"><span style=\"font-weight: bold\">&lt;</span><span style=\"color: #ff00ff; text-decoration-color: #ff00ff; font-weight: bold\">IPython.core.display.Javascript</span><span style=\"color: #000000; text-decoration-color: #000000\"> object</span><span style=\"font-weight: bold\">&gt;</span>\n",
       "</pre>\n"
      ],
      "text/plain": [
       "\u001b[1m<\u001b[0m\u001b[1;95mIPython.core.display.Javascript\u001b[0m\u001b[39m object\u001b[0m\u001b[1m>\u001b[0m\n"
      ]
     },
     "metadata": {},
     "output_type": "display_data"
    },
    {
     "data": {
      "application/javascript": [
       "\n",
       "            setTimeout(function() {\n",
       "                var nbb_cell_id = 4;\n",
       "                var nbb_unformatted_code = \"secop_2 = catalog.load(\\\"secop_2@pandas\\\")\";\n",
       "                var nbb_formatted_code = \"secop_2 = catalog.load(\\\"secop_2@pandas\\\")\";\n",
       "                var nbb_cells = Jupyter.notebook.get_cells();\n",
       "                for (var i = 0; i < nbb_cells.length; ++i) {\n",
       "                    if (nbb_cells[i].input_prompt_number == nbb_cell_id) {\n",
       "                        if (nbb_cells[i].get_text() == nbb_unformatted_code) {\n",
       "                             nbb_cells[i].set_text(nbb_formatted_code);\n",
       "                        }\n",
       "                        break;\n",
       "                    }\n",
       "                }\n",
       "            }, 500);\n",
       "            "
      ]
     },
     "metadata": {},
     "output_type": "display_data"
    }
   ],
   "source": [
    "secop_2 = catalog.load(\"secop_2@pandas\")"
   ]
  },
  {
   "cell_type": "code",
   "execution_count": 5,
   "id": "1288a382",
   "metadata": {},
   "outputs": [
    {
     "data": {
      "text/html": [
       "<pre style=\"white-space:pre;overflow-x:auto;line-height:normal;font-family:Menlo,'DejaVu Sans Mono',consolas,'Courier New',monospace\">\n",
       "<span style=\"color: #800080; text-decoration-color: #800080; font-weight: bold\">Index</span><span style=\"font-weight: bold\">([</span><span style=\"color: #008000; text-decoration-color: #008000\">'entidad'</span>, <span style=\"color: #008000; text-decoration-color: #008000\">'departamento_entidad'</span>, <span style=\"color: #008000; text-decoration-color: #008000\">'ciudad_entidad'</span>, <span style=\"color: #008000; text-decoration-color: #008000\">'ordenentidad'</span>,\n",
       "       <span style=\"color: #008000; text-decoration-color: #008000\">'id_del_proceso'</span>, <span style=\"color: #008000; text-decoration-color: #008000\">'referencia_del_proceso'</span>, <span style=\"color: #008000; text-decoration-color: #008000\">'nombre_del_procedimiento'</span>,\n",
       "       <span style=\"color: #008000; text-decoration-color: #008000\">'descripci_n_del_procedimiento'</span>, <span style=\"color: #008000; text-decoration-color: #008000\">'fase'</span>, <span style=\"color: #008000; text-decoration-color: #008000\">'precio_base'</span>,\n",
       "       <span style=\"color: #008000; text-decoration-color: #008000\">'modalidad_de_contratacion'</span>, <span style=\"color: #008000; text-decoration-color: #008000\">'duracion'</span>, <span style=\"color: #008000; text-decoration-color: #008000\">'unidad_de_duracion'</span>,\n",
       "       <span style=\"color: #008000; text-decoration-color: #008000\">'proveedores_invitados'</span>, <span style=\"color: #008000; text-decoration-color: #008000\">'proveedores_con_invitacion'</span>,\n",
       "       <span style=\"color: #008000; text-decoration-color: #008000\">'visualizaciones_del'</span>, <span style=\"color: #008000; text-decoration-color: #008000\">'proveedores_que_manifestaron'</span>,\n",
       "       <span style=\"color: #008000; text-decoration-color: #008000\">'respuestas_al_procedimiento'</span>, <span style=\"color: #008000; text-decoration-color: #008000\">'respuestas_externas'</span>,\n",
       "       <span style=\"color: #008000; text-decoration-color: #008000\">'conteo_de_respuestas_a_ofertas'</span>, <span style=\"color: #008000; text-decoration-color: #008000\">'proveedores_unicos_con'</span>,\n",
       "       <span style=\"color: #008000; text-decoration-color: #008000\">'estado_del_procedimiento'</span>, <span style=\"color: #008000; text-decoration-color: #008000\">'adjudicado'</span>, <span style=\"color: #008000; text-decoration-color: #008000\">'departamento_proveedor'</span>,\n",
       "       <span style=\"color: #008000; text-decoration-color: #008000\">'ciudad_proveedor'</span>, <span style=\"color: #008000; text-decoration-color: #008000\">'valor_total_adjudicacion'</span>,\n",
       "       <span style=\"color: #008000; text-decoration-color: #008000\">'nombre_del_adjudicador'</span>, <span style=\"color: #008000; text-decoration-color: #008000\">'nombre_del_proveedor'</span>,\n",
       "       <span style=\"color: #008000; text-decoration-color: #008000\">'nit_del_proveedor_adjudicado'</span>, <span style=\"color: #008000; text-decoration-color: #008000\">'tipo_de_contrato'</span>,\n",
       "       <span style=\"color: #008000; text-decoration-color: #008000\">'subtipo_de_contrato'</span>, <span style=\"color: #008000; text-decoration-color: #008000\">'fecha_de_publicacion_del'</span>,\n",
       "       <span style=\"color: #008000; text-decoration-color: #008000\">'fecha_de_ultima_publicaci'</span>, <span style=\"color: #008000; text-decoration-color: #008000\">'fecha_de_publicacion_fase_3'</span>,\n",
       "       <span style=\"color: #008000; text-decoration-color: #008000\">'fecha_de_recepcion_de'</span>, <span style=\"color: #008000; text-decoration-color: #008000\">'fecha_de_apertura_efectiva'</span>, <span style=\"color: #008000; text-decoration-color: #008000\">'nit_entidad'</span><span style=\"font-weight: bold\">]</span>,\n",
       "      <span style=\"color: #808000; text-decoration-color: #808000\">dtype</span>=<span style=\"color: #008000; text-decoration-color: #008000\">'object'</span><span style=\"font-weight: bold\">)</span>\n",
       "</pre>\n"
      ],
      "text/plain": [
       "\n",
       "\u001b[1;35mIndex\u001b[0m\u001b[1m(\u001b[0m\u001b[1m[\u001b[0m\u001b[32m'entidad'\u001b[0m, \u001b[32m'departamento_entidad'\u001b[0m, \u001b[32m'ciudad_entidad'\u001b[0m, \u001b[32m'ordenentidad'\u001b[0m,\n",
       "       \u001b[32m'id_del_proceso'\u001b[0m, \u001b[32m'referencia_del_proceso'\u001b[0m, \u001b[32m'nombre_del_procedimiento'\u001b[0m,\n",
       "       \u001b[32m'descripci_n_del_procedimiento'\u001b[0m, \u001b[32m'fase'\u001b[0m, \u001b[32m'precio_base'\u001b[0m,\n",
       "       \u001b[32m'modalidad_de_contratacion'\u001b[0m, \u001b[32m'duracion'\u001b[0m, \u001b[32m'unidad_de_duracion'\u001b[0m,\n",
       "       \u001b[32m'proveedores_invitados'\u001b[0m, \u001b[32m'proveedores_con_invitacion'\u001b[0m,\n",
       "       \u001b[32m'visualizaciones_del'\u001b[0m, \u001b[32m'proveedores_que_manifestaron'\u001b[0m,\n",
       "       \u001b[32m'respuestas_al_procedimiento'\u001b[0m, \u001b[32m'respuestas_externas'\u001b[0m,\n",
       "       \u001b[32m'conteo_de_respuestas_a_ofertas'\u001b[0m, \u001b[32m'proveedores_unicos_con'\u001b[0m,\n",
       "       \u001b[32m'estado_del_procedimiento'\u001b[0m, \u001b[32m'adjudicado'\u001b[0m, \u001b[32m'departamento_proveedor'\u001b[0m,\n",
       "       \u001b[32m'ciudad_proveedor'\u001b[0m, \u001b[32m'valor_total_adjudicacion'\u001b[0m,\n",
       "       \u001b[32m'nombre_del_adjudicador'\u001b[0m, \u001b[32m'nombre_del_proveedor'\u001b[0m,\n",
       "       \u001b[32m'nit_del_proveedor_adjudicado'\u001b[0m, \u001b[32m'tipo_de_contrato'\u001b[0m,\n",
       "       \u001b[32m'subtipo_de_contrato'\u001b[0m, \u001b[32m'fecha_de_publicacion_del'\u001b[0m,\n",
       "       \u001b[32m'fecha_de_ultima_publicaci'\u001b[0m, \u001b[32m'fecha_de_publicacion_fase_3'\u001b[0m,\n",
       "       \u001b[32m'fecha_de_recepcion_de'\u001b[0m, \u001b[32m'fecha_de_apertura_efectiva'\u001b[0m, \u001b[32m'nit_entidad'\u001b[0m\u001b[1m]\u001b[0m,\n",
       "      \u001b[33mdtype\u001b[0m=\u001b[32m'object'\u001b[0m\u001b[1m)\u001b[0m\n"
      ]
     },
     "metadata": {},
     "output_type": "display_data"
    },
    {
     "data": {
      "text/html": [
       "<pre style=\"white-space:pre;overflow-x:auto;line-height:normal;font-family:Menlo,'DejaVu Sans Mono',consolas,'Courier New',monospace\"><span style=\"font-weight: bold\">&lt;</span><span style=\"color: #ff00ff; text-decoration-color: #ff00ff; font-weight: bold\">IPython.core.display.Javascript</span><span style=\"color: #000000; text-decoration-color: #000000\"> object</span><span style=\"font-weight: bold\">&gt;</span>\n",
       "</pre>\n"
      ],
      "text/plain": [
       "\u001b[1m<\u001b[0m\u001b[1;95mIPython.core.display.Javascript\u001b[0m\u001b[39m object\u001b[0m\u001b[1m>\u001b[0m\n"
      ]
     },
     "metadata": {},
     "output_type": "display_data"
    },
    {
     "data": {
      "application/javascript": [
       "\n",
       "            setTimeout(function() {\n",
       "                var nbb_cell_id = 5;\n",
       "                var nbb_unformatted_code = \"secop_2.columns\";\n",
       "                var nbb_formatted_code = \"secop_2.columns\";\n",
       "                var nbb_cells = Jupyter.notebook.get_cells();\n",
       "                for (var i = 0; i < nbb_cells.length; ++i) {\n",
       "                    if (nbb_cells[i].input_prompt_number == nbb_cell_id) {\n",
       "                        if (nbb_cells[i].get_text() == nbb_unformatted_code) {\n",
       "                             nbb_cells[i].set_text(nbb_formatted_code);\n",
       "                        }\n",
       "                        break;\n",
       "                    }\n",
       "                }\n",
       "            }, 500);\n",
       "            "
      ]
     },
     "metadata": {},
     "output_type": "display_data"
    }
   ],
   "source": [
    "secop_2.columns"
   ]
  },
  {
   "cell_type": "code",
   "execution_count": 6,
   "id": "0519139d",
   "metadata": {
    "scrolled": false
   },
   "outputs": [
    {
     "data": {
      "text/html": [
       "<pre style=\"white-space:pre;overflow-x:auto;line-height:normal;font-family:Menlo,'DejaVu Sans Mono',consolas,'Courier New',monospace\"><span style=\"font-weight: bold\">&lt;</span><span style=\"color: #ff00ff; text-decoration-color: #ff00ff; font-weight: bold\">IPython.core.display.Javascript</span><span style=\"color: #000000; text-decoration-color: #000000\"> object</span><span style=\"font-weight: bold\">&gt;</span>\n",
       "</pre>\n"
      ],
      "text/plain": [
       "\u001b[1m<\u001b[0m\u001b[1;95mIPython.core.display.Javascript\u001b[0m\u001b[39m object\u001b[0m\u001b[1m>\u001b[0m\n"
      ]
     },
     "metadata": {},
     "output_type": "display_data"
    },
    {
     "data": {
      "application/javascript": [
       "\n",
       "            setTimeout(function() {\n",
       "                var nbb_cell_id = 6;\n",
       "                var nbb_unformatted_code = \"secop_2[\\\"nit_entidad\\\"] = (\\n    secop_2[\\\"nit_entidad\\\"]\\n    .astype(int)\\n    .apply(lambda x: int(np.floor(x / 10)) if x >= 1000000000 else x)\\n)\";\n",
       "                var nbb_formatted_code = \"secop_2[\\\"nit_entidad\\\"] = (\\n    secop_2[\\\"nit_entidad\\\"]\\n    .astype(int)\\n    .apply(lambda x: int(np.floor(x / 10)) if x >= 1000000000 else x)\\n)\";\n",
       "                var nbb_cells = Jupyter.notebook.get_cells();\n",
       "                for (var i = 0; i < nbb_cells.length; ++i) {\n",
       "                    if (nbb_cells[i].input_prompt_number == nbb_cell_id) {\n",
       "                        if (nbb_cells[i].get_text() == nbb_unformatted_code) {\n",
       "                             nbb_cells[i].set_text(nbb_formatted_code);\n",
       "                        }\n",
       "                        break;\n",
       "                    }\n",
       "                }\n",
       "            }, 500);\n",
       "            "
      ]
     },
     "metadata": {},
     "output_type": "display_data"
    }
   ],
   "source": [
    "secop_2[\"nit_entidad\"] = (\n",
    "    secop_2[\"nit_entidad\"]\n",
    "    .astype(int)\n",
    "    .apply(lambda x: int(np.floor(x / 10)) if x >= 1000000000 else x)\n",
    ")"
   ]
  },
  {
   "cell_type": "code",
   "execution_count": 7,
   "id": "d9b6cf90",
   "metadata": {},
   "outputs": [
    {
     "data": {
      "text/html": [
       "<pre style=\"white-space:pre;overflow-x:auto;line-height:normal;font-family:Menlo,'DejaVu Sans Mono',consolas,'Courier New',monospace\"><span style=\"font-weight: bold\">&lt;</span><span style=\"color: #ff00ff; text-decoration-color: #ff00ff; font-weight: bold\">IPython.core.display.Javascript</span><span style=\"color: #000000; text-decoration-color: #000000\"> object</span><span style=\"font-weight: bold\">&gt;</span>\n",
       "</pre>\n"
      ],
      "text/plain": [
       "\u001b[1m<\u001b[0m\u001b[1;95mIPython.core.display.Javascript\u001b[0m\u001b[39m object\u001b[0m\u001b[1m>\u001b[0m\n"
      ]
     },
     "metadata": {},
     "output_type": "display_data"
    },
    {
     "data": {
      "application/javascript": [
       "\n",
       "            setTimeout(function() {\n",
       "                var nbb_cell_id = 7;\n",
       "                var nbb_unformatted_code = \"cols_tildes_lower = [\\n    \\\"entidad\\\",\\n    \\\"departamento_entidad\\\",\\n    \\\"ciudad_entidad\\\",\\n    \\\"ordenentidad\\\",\\n    \\\"fase\\\",\\n    \\\"modalidad_de_contratacion\\\",\\n    \\\"unidad_de_duracion\\\",\\n    \\\"estado_del_procedimiento\\\",\\n    \\\"adjudicado\\\",\\n    \\\"departamento_proveedor\\\",\\n    \\\"ciudad_proveedor\\\",\\n    \\\"nombre_del_adjudicador\\\",\\n    \\\"nombre_del_proveedor\\\",\\n    \\\"tipo_de_contrato\\\",\\n    \\\"subtipo_de_contrato\\\",\\n]\";\n",
       "                var nbb_formatted_code = \"cols_tildes_lower = [\\n    \\\"entidad\\\",\\n    \\\"departamento_entidad\\\",\\n    \\\"ciudad_entidad\\\",\\n    \\\"ordenentidad\\\",\\n    \\\"fase\\\",\\n    \\\"modalidad_de_contratacion\\\",\\n    \\\"unidad_de_duracion\\\",\\n    \\\"estado_del_procedimiento\\\",\\n    \\\"adjudicado\\\",\\n    \\\"departamento_proveedor\\\",\\n    \\\"ciudad_proveedor\\\",\\n    \\\"nombre_del_adjudicador\\\",\\n    \\\"nombre_del_proveedor\\\",\\n    \\\"tipo_de_contrato\\\",\\n    \\\"subtipo_de_contrato\\\",\\n]\";\n",
       "                var nbb_cells = Jupyter.notebook.get_cells();\n",
       "                for (var i = 0; i < nbb_cells.length; ++i) {\n",
       "                    if (nbb_cells[i].input_prompt_number == nbb_cell_id) {\n",
       "                        if (nbb_cells[i].get_text() == nbb_unformatted_code) {\n",
       "                             nbb_cells[i].set_text(nbb_formatted_code);\n",
       "                        }\n",
       "                        break;\n",
       "                    }\n",
       "                }\n",
       "            }, 500);\n",
       "            "
      ]
     },
     "metadata": {},
     "output_type": "display_data"
    }
   ],
   "source": [
    "cols_tildes_lower = [\n",
    "    \"entidad\",\n",
    "    \"departamento_entidad\",\n",
    "    \"ciudad_entidad\",\n",
    "    \"ordenentidad\",\n",
    "    \"fase\",\n",
    "    \"modalidad_de_contratacion\",\n",
    "    \"unidad_de_duracion\",\n",
    "    \"estado_del_procedimiento\",\n",
    "    \"adjudicado\",\n",
    "    \"departamento_proveedor\",\n",
    "    \"ciudad_proveedor\",\n",
    "    \"nombre_del_adjudicador\",\n",
    "    \"nombre_del_proveedor\",\n",
    "    \"tipo_de_contrato\",\n",
    "    \"subtipo_de_contrato\",\n",
    "]"
   ]
  },
  {
   "cell_type": "code",
   "execution_count": 8,
   "id": "dd8c9860",
   "metadata": {},
   "outputs": [
    {
     "data": {
      "text/html": [
       "<pre style=\"white-space:pre;overflow-x:auto;line-height:normal;font-family:Menlo,'DejaVu Sans Mono',consolas,'Courier New',monospace\"><span style=\"font-weight: bold\">&lt;</span><span style=\"color: #ff00ff; text-decoration-color: #ff00ff; font-weight: bold\">IPython.core.display.Javascript</span><span style=\"color: #000000; text-decoration-color: #000000\"> object</span><span style=\"font-weight: bold\">&gt;</span>\n",
       "</pre>\n"
      ],
      "text/plain": [
       "\u001b[1m<\u001b[0m\u001b[1;95mIPython.core.display.Javascript\u001b[0m\u001b[39m object\u001b[0m\u001b[1m>\u001b[0m\n"
      ]
     },
     "metadata": {},
     "output_type": "display_data"
    },
    {
     "data": {
      "application/javascript": [
       "\n",
       "            setTimeout(function() {\n",
       "                var nbb_cell_id = 8;\n",
       "                var nbb_unformatted_code = \"secop_2[cols_tildes_lower] = (\\n    secop_2[cols_tildes_lower].applymap(lambda x: _remove_tildes(x.lower())).values\\n)\";\n",
       "                var nbb_formatted_code = \"secop_2[cols_tildes_lower] = (\\n    secop_2[cols_tildes_lower].applymap(lambda x: _remove_tildes(x.lower())).values\\n)\";\n",
       "                var nbb_cells = Jupyter.notebook.get_cells();\n",
       "                for (var i = 0; i < nbb_cells.length; ++i) {\n",
       "                    if (nbb_cells[i].input_prompt_number == nbb_cell_id) {\n",
       "                        if (nbb_cells[i].get_text() == nbb_unformatted_code) {\n",
       "                             nbb_cells[i].set_text(nbb_formatted_code);\n",
       "                        }\n",
       "                        break;\n",
       "                    }\n",
       "                }\n",
       "            }, 500);\n",
       "            "
      ]
     },
     "metadata": {},
     "output_type": "display_data"
    }
   ],
   "source": [
    "secop_2[cols_tildes_lower] = (\n",
    "    secop_2[cols_tildes_lower].applymap(lambda x: _remove_tildes(x.lower())).values\n",
    ")"
   ]
  },
  {
   "cell_type": "code",
   "execution_count": 9,
   "id": "74d63ea8",
   "metadata": {},
   "outputs": [
    {
     "data": {
      "text/html": [
       "<pre style=\"white-space:pre;overflow-x:auto;line-height:normal;font-family:Menlo,'DejaVu Sans Mono',consolas,'Courier New',monospace\"><span style=\"font-weight: bold\">&lt;</span><span style=\"color: #ff00ff; text-decoration-color: #ff00ff; font-weight: bold\">IPython.core.display.Javascript</span><span style=\"color: #000000; text-decoration-color: #000000\"> object</span><span style=\"font-weight: bold\">&gt;</span>\n",
       "</pre>\n"
      ],
      "text/plain": [
       "\u001b[1m<\u001b[0m\u001b[1;95mIPython.core.display.Javascript\u001b[0m\u001b[39m object\u001b[0m\u001b[1m>\u001b[0m\n"
      ]
     },
     "metadata": {},
     "output_type": "display_data"
    },
    {
     "data": {
      "application/javascript": [
       "\n",
       "            setTimeout(function() {\n",
       "                var nbb_cell_id = 9;\n",
       "                var nbb_unformatted_code = \"secop_2 = secop_2[\\n    secop_2[\\\"modalidad_de_contratacion\\\"] != \\\"solicitud de informacion a los proveedores\\\"\\n].copy()\";\n",
       "                var nbb_formatted_code = \"secop_2 = secop_2[\\n    secop_2[\\\"modalidad_de_contratacion\\\"] != \\\"solicitud de informacion a los proveedores\\\"\\n].copy()\";\n",
       "                var nbb_cells = Jupyter.notebook.get_cells();\n",
       "                for (var i = 0; i < nbb_cells.length; ++i) {\n",
       "                    if (nbb_cells[i].input_prompt_number == nbb_cell_id) {\n",
       "                        if (nbb_cells[i].get_text() == nbb_unformatted_code) {\n",
       "                             nbb_cells[i].set_text(nbb_formatted_code);\n",
       "                        }\n",
       "                        break;\n",
       "                    }\n",
       "                }\n",
       "            }, 500);\n",
       "            "
      ]
     },
     "metadata": {},
     "output_type": "display_data"
    }
   ],
   "source": [
    "secop_2 = secop_2[\n",
    "    secop_2[\"modalidad_de_contratacion\"] != \"solicitud de informacion a los proveedores\"\n",
    "].copy()"
   ]
  },
  {
   "cell_type": "code",
   "execution_count": 10,
   "id": "e5778baa",
   "metadata": {},
   "outputs": [
    {
     "data": {
      "text/html": [
       "<pre style=\"white-space:pre;overflow-x:auto;line-height:normal;font-family:Menlo,'DejaVu Sans Mono',consolas,'Courier New',monospace\"><span style=\"font-weight: bold\">&lt;</span><span style=\"color: #ff00ff; text-decoration-color: #ff00ff; font-weight: bold\">IPython.core.display.Javascript</span><span style=\"color: #000000; text-decoration-color: #000000\"> object</span><span style=\"font-weight: bold\">&gt;</span>\n",
       "</pre>\n"
      ],
      "text/plain": [
       "\u001b[1m<\u001b[0m\u001b[1;95mIPython.core.display.Javascript\u001b[0m\u001b[39m object\u001b[0m\u001b[1m>\u001b[0m\n"
      ]
     },
     "metadata": {},
     "output_type": "display_data"
    },
    {
     "data": {
      "application/javascript": [
       "\n",
       "            setTimeout(function() {\n",
       "                var nbb_cell_id = 10;\n",
       "                var nbb_unformatted_code = \"def _clean_modalidad_contratacion_2(mod: str):\\n    \\\"\\\"\\\"Clean and group modalidad de contrataci\\u00f3n for SECOP II\\\"\\\"\\\"\\n    if \\\"concurso\\\" in mod:\\n        return \\\"concurso meritos\\\"\\n    elif \\\"licitacion\\\" in mod:\\n        return \\\"licitacion publica\\\"\\n    elif \\\"cuantia\\\" in mod:\\n        return \\\"menor cuantia\\\"\\n    elif \\\"contratacion directa\\\" in mod:\\n        return \\\"contratacion directa\\\"\\n    elif \\\"regimen especial\\\" in mod:\\n        return \\\"regimen especial\\\"\\n    elif \\\"subasta\\\" in mod:\\n        return \\\"subasta\\\"\\n    else:\\n        return \\\"otro\\\"\";\n",
       "                var nbb_formatted_code = \"def _clean_modalidad_contratacion_2(mod: str):\\n    \\\"\\\"\\\"Clean and group modalidad de contrataci\\u00f3n for SECOP II\\\"\\\"\\\"\\n    if \\\"concurso\\\" in mod:\\n        return \\\"concurso meritos\\\"\\n    elif \\\"licitacion\\\" in mod:\\n        return \\\"licitacion publica\\\"\\n    elif \\\"cuantia\\\" in mod:\\n        return \\\"menor cuantia\\\"\\n    elif \\\"contratacion directa\\\" in mod:\\n        return \\\"contratacion directa\\\"\\n    elif \\\"regimen especial\\\" in mod:\\n        return \\\"regimen especial\\\"\\n    elif \\\"subasta\\\" in mod:\\n        return \\\"subasta\\\"\\n    else:\\n        return \\\"otro\\\"\";\n",
       "                var nbb_cells = Jupyter.notebook.get_cells();\n",
       "                for (var i = 0; i < nbb_cells.length; ++i) {\n",
       "                    if (nbb_cells[i].input_prompt_number == nbb_cell_id) {\n",
       "                        if (nbb_cells[i].get_text() == nbb_unformatted_code) {\n",
       "                             nbb_cells[i].set_text(nbb_formatted_code);\n",
       "                        }\n",
       "                        break;\n",
       "                    }\n",
       "                }\n",
       "            }, 500);\n",
       "            "
      ]
     },
     "metadata": {},
     "output_type": "display_data"
    }
   ],
   "source": [
    "def _clean_modalidad_contratacion_2(mod: str):\n",
    "    \"\"\"Clean and group modalidad de contratación for SECOP II\"\"\"\n",
    "    if \"concurso\" in mod:\n",
    "        return \"concurso meritos\"\n",
    "    elif \"licitacion\" in mod:\n",
    "        return \"licitacion publica\"\n",
    "    elif \"cuantia\" in mod:\n",
    "        return \"menor cuantia\"\n",
    "    elif \"contratacion directa\" in mod:\n",
    "        return \"contratacion directa\"\n",
    "    elif \"regimen especial\" in mod:\n",
    "        return \"regimen especial\"\n",
    "    elif \"subasta\" in mod:\n",
    "        return \"subasta\"\n",
    "    else:\n",
    "        return \"otro\""
   ]
  },
  {
   "cell_type": "code",
   "execution_count": 11,
   "id": "93b1c261",
   "metadata": {},
   "outputs": [
    {
     "data": {
      "text/html": [
       "<pre style=\"white-space:pre;overflow-x:auto;line-height:normal;font-family:Menlo,'DejaVu Sans Mono',consolas,'Courier New',monospace\"><span style=\"font-weight: bold\">&lt;</span><span style=\"color: #ff00ff; text-decoration-color: #ff00ff; font-weight: bold\">IPython.core.display.Javascript</span><span style=\"color: #000000; text-decoration-color: #000000\"> object</span><span style=\"font-weight: bold\">&gt;</span>\n",
       "</pre>\n"
      ],
      "text/plain": [
       "\u001b[1m<\u001b[0m\u001b[1;95mIPython.core.display.Javascript\u001b[0m\u001b[39m object\u001b[0m\u001b[1m>\u001b[0m\n"
      ]
     },
     "metadata": {},
     "output_type": "display_data"
    },
    {
     "data": {
      "application/javascript": [
       "\n",
       "            setTimeout(function() {\n",
       "                var nbb_cell_id = 11;\n",
       "                var nbb_unformatted_code = \"secop_2[\\\"modalidad_de_contratacion\\\"] = secop_2[\\\"modalidad_de_contratacion\\\"].apply(\\n    _clean_modalidad_contratacion_2\\n)\";\n",
       "                var nbb_formatted_code = \"secop_2[\\\"modalidad_de_contratacion\\\"] = secop_2[\\\"modalidad_de_contratacion\\\"].apply(\\n    _clean_modalidad_contratacion_2\\n)\";\n",
       "                var nbb_cells = Jupyter.notebook.get_cells();\n",
       "                for (var i = 0; i < nbb_cells.length; ++i) {\n",
       "                    if (nbb_cells[i].input_prompt_number == nbb_cell_id) {\n",
       "                        if (nbb_cells[i].get_text() == nbb_unformatted_code) {\n",
       "                             nbb_cells[i].set_text(nbb_formatted_code);\n",
       "                        }\n",
       "                        break;\n",
       "                    }\n",
       "                }\n",
       "            }, 500);\n",
       "            "
      ]
     },
     "metadata": {},
     "output_type": "display_data"
    }
   ],
   "source": [
    "secop_2[\"modalidad_de_contratacion\"] = secop_2[\"modalidad_de_contratacion\"].apply(\n",
    "    _clean_modalidad_contratacion_2\n",
    ")"
   ]
  },
  {
   "cell_type": "code",
   "execution_count": 12,
   "id": "11c9ba13",
   "metadata": {},
   "outputs": [
    {
     "data": {
      "text/html": [
       "<pre style=\"white-space:pre;overflow-x:auto;line-height:normal;font-family:Menlo,'DejaVu Sans Mono',consolas,'Courier New',monospace\"><span style=\"font-weight: bold\">&lt;</span><span style=\"color: #ff00ff; text-decoration-color: #ff00ff; font-weight: bold\">IPython.core.display.Javascript</span><span style=\"color: #000000; text-decoration-color: #000000\"> object</span><span style=\"font-weight: bold\">&gt;</span>\n",
       "</pre>\n"
      ],
      "text/plain": [
       "\u001b[1m<\u001b[0m\u001b[1;95mIPython.core.display.Javascript\u001b[0m\u001b[39m object\u001b[0m\u001b[1m>\u001b[0m\n"
      ]
     },
     "metadata": {},
     "output_type": "display_data"
    },
    {
     "data": {
      "application/javascript": [
       "\n",
       "            setTimeout(function() {\n",
       "                var nbb_cell_id = 12;\n",
       "                var nbb_unformatted_code = \"for c in [\\n    \\\"proveedores_invitados\\\",\\n    \\\"proveedores_con_invitacion\\\",\\n    \\\"visualizaciones_del\\\",\\n    \\\"proveedores_que_manifestaron\\\",\\n    \\\"respuestas_al_procedimiento\\\",\\n    \\\"respuestas_externas\\\",\\n    \\\"conteo_de_respuestas_a_ofertas\\\",\\n    \\\"proveedores_unicos_con\\\",\\n    \\\"duracion\\\",\\n    \\\"valor_total_adjudicacion\\\"\\n]:\\n    secop_2[c] = secop_2[c].astype(int)\";\n",
       "                var nbb_formatted_code = \"for c in [\\n    \\\"proveedores_invitados\\\",\\n    \\\"proveedores_con_invitacion\\\",\\n    \\\"visualizaciones_del\\\",\\n    \\\"proveedores_que_manifestaron\\\",\\n    \\\"respuestas_al_procedimiento\\\",\\n    \\\"respuestas_externas\\\",\\n    \\\"conteo_de_respuestas_a_ofertas\\\",\\n    \\\"proveedores_unicos_con\\\",\\n    \\\"duracion\\\",\\n    \\\"valor_total_adjudicacion\\\",\\n]:\\n    secop_2[c] = secop_2[c].astype(int)\";\n",
       "                var nbb_cells = Jupyter.notebook.get_cells();\n",
       "                for (var i = 0; i < nbb_cells.length; ++i) {\n",
       "                    if (nbb_cells[i].input_prompt_number == nbb_cell_id) {\n",
       "                        if (nbb_cells[i].get_text() == nbb_unformatted_code) {\n",
       "                             nbb_cells[i].set_text(nbb_formatted_code);\n",
       "                        }\n",
       "                        break;\n",
       "                    }\n",
       "                }\n",
       "            }, 500);\n",
       "            "
      ]
     },
     "metadata": {},
     "output_type": "display_data"
    }
   ],
   "source": [
    "for c in [\n",
    "    \"proveedores_invitados\",\n",
    "    \"proveedores_con_invitacion\",\n",
    "    \"visualizaciones_del\",\n",
    "    \"proveedores_que_manifestaron\",\n",
    "    \"respuestas_al_procedimiento\",\n",
    "    \"respuestas_externas\",\n",
    "    \"conteo_de_respuestas_a_ofertas\",\n",
    "    \"proveedores_unicos_con\",\n",
    "    \"duracion\",\n",
    "    \"valor_total_adjudicacion\",\n",
    "]:\n",
    "    secop_2[c] = secop_2[c].astype(int)"
   ]
  },
  {
   "cell_type": "code",
   "execution_count": 13,
   "id": "47fb0717",
   "metadata": {},
   "outputs": [
    {
     "data": {
      "text/html": [
       "<pre style=\"white-space:pre;overflow-x:auto;line-height:normal;font-family:Menlo,'DejaVu Sans Mono',consolas,'Courier New',monospace\"><span style=\"font-weight: bold\">&lt;</span><span style=\"color: #ff00ff; text-decoration-color: #ff00ff; font-weight: bold\">IPython.core.display.Javascript</span><span style=\"color: #000000; text-decoration-color: #000000\"> object</span><span style=\"font-weight: bold\">&gt;</span>\n",
       "</pre>\n"
      ],
      "text/plain": [
       "\u001b[1m<\u001b[0m\u001b[1;95mIPython.core.display.Javascript\u001b[0m\u001b[39m object\u001b[0m\u001b[1m>\u001b[0m\n"
      ]
     },
     "metadata": {},
     "output_type": "display_data"
    },
    {
     "data": {
      "application/javascript": [
       "\n",
       "            setTimeout(function() {\n",
       "                var nbb_cell_id = 13;\n",
       "                var nbb_unformatted_code = \"map_duracion = {\\\"dias\\\": 1, \\\"meses\\\": 30, \\\"a\\u00f1os\\\": 365, \\\"nd\\\": 0}\\nsecop_2[\\\"duracion_dias\\\"] = secop_2[[\\\"duracion\\\", \\\"unidad_de_duracion\\\"]].apply(\\n    lambda row: row[\\\"duracion\\\"] * map_duracion[row[\\\"unidad_de_duracion\\\"]], axis=1\\n)\";\n",
       "                var nbb_formatted_code = \"map_duracion = {\\\"dias\\\": 1, \\\"meses\\\": 30, \\\"a\\u00f1os\\\": 365, \\\"nd\\\": 0}\\nsecop_2[\\\"duracion_dias\\\"] = secop_2[[\\\"duracion\\\", \\\"unidad_de_duracion\\\"]].apply(\\n    lambda row: row[\\\"duracion\\\"] * map_duracion[row[\\\"unidad_de_duracion\\\"]], axis=1\\n)\";\n",
       "                var nbb_cells = Jupyter.notebook.get_cells();\n",
       "                for (var i = 0; i < nbb_cells.length; ++i) {\n",
       "                    if (nbb_cells[i].input_prompt_number == nbb_cell_id) {\n",
       "                        if (nbb_cells[i].get_text() == nbb_unformatted_code) {\n",
       "                             nbb_cells[i].set_text(nbb_formatted_code);\n",
       "                        }\n",
       "                        break;\n",
       "                    }\n",
       "                }\n",
       "            }, 500);\n",
       "            "
      ]
     },
     "metadata": {},
     "output_type": "display_data"
    }
   ],
   "source": [
    "map_duracion = {\"dias\": 1, \"meses\": 30, \"años\": 365, \"nd\": 0}\n",
    "secop_2[\"duracion_dias\"] = secop_2[[\"duracion\", \"unidad_de_duracion\"]].apply(\n",
    "    lambda row: row[\"duracion\"] * map_duracion[row[\"unidad_de_duracion\"]], axis=1\n",
    ")"
   ]
  },
  {
   "cell_type": "code",
   "execution_count": 14,
   "id": "540e9e2e",
   "metadata": {},
   "outputs": [
    {
     "data": {
      "text/html": [
       "<pre style=\"white-space:pre;overflow-x:auto;line-height:normal;font-family:Menlo,'DejaVu Sans Mono',consolas,'Courier New',monospace\"><span style=\"font-weight: bold\">&lt;</span><span style=\"color: #ff00ff; text-decoration-color: #ff00ff; font-weight: bold\">IPython.core.display.Javascript</span><span style=\"color: #000000; text-decoration-color: #000000\"> object</span><span style=\"font-weight: bold\">&gt;</span>\n",
       "</pre>\n"
      ],
      "text/plain": [
       "\u001b[1m<\u001b[0m\u001b[1;95mIPython.core.display.Javascript\u001b[0m\u001b[39m object\u001b[0m\u001b[1m>\u001b[0m\n"
      ]
     },
     "metadata": {},
     "output_type": "display_data"
    },
    {
     "data": {
      "application/javascript": [
       "\n",
       "            setTimeout(function() {\n",
       "                var nbb_cell_id = 14;\n",
       "                var nbb_unformatted_code = \"secop_2.drop([\\\"duracion\\\", \\\"unidad_de_duracion\\\",'adjudicado'], axis=1, inplace=True)\";\n",
       "                var nbb_formatted_code = \"secop_2.drop([\\\"duracion\\\", \\\"unidad_de_duracion\\\", \\\"adjudicado\\\"], axis=1, inplace=True)\";\n",
       "                var nbb_cells = Jupyter.notebook.get_cells();\n",
       "                for (var i = 0; i < nbb_cells.length; ++i) {\n",
       "                    if (nbb_cells[i].input_prompt_number == nbb_cell_id) {\n",
       "                        if (nbb_cells[i].get_text() == nbb_unformatted_code) {\n",
       "                             nbb_cells[i].set_text(nbb_formatted_code);\n",
       "                        }\n",
       "                        break;\n",
       "                    }\n",
       "                }\n",
       "            }, 500);\n",
       "            "
      ]
     },
     "metadata": {},
     "output_type": "display_data"
    }
   ],
   "source": [
    "secop_2.drop([\"duracion\", \"unidad_de_duracion\", \"adjudicado\"], axis=1, inplace=True)"
   ]
  },
  {
   "cell_type": "code",
   "execution_count": 19,
   "id": "003aaa4a",
   "metadata": {},
   "outputs": [
    {
     "data": {
      "text/html": [
       "<pre style=\"white-space:pre;overflow-x:auto;line-height:normal;font-family:Menlo,'DejaVu Sans Mono',consolas,'Courier New',monospace\"><span style=\"font-weight: bold\">&lt;</span><span style=\"color: #ff00ff; text-decoration-color: #ff00ff; font-weight: bold\">IPython.core.display.Javascript</span><span style=\"color: #000000; text-decoration-color: #000000\"> object</span><span style=\"font-weight: bold\">&gt;</span>\n",
       "</pre>\n"
      ],
      "text/plain": [
       "\u001b[1m<\u001b[0m\u001b[1;95mIPython.core.display.Javascript\u001b[0m\u001b[39m object\u001b[0m\u001b[1m>\u001b[0m\n"
      ]
     },
     "metadata": {},
     "output_type": "display_data"
    },
    {
     "data": {
      "application/javascript": [
       "\n",
       "            setTimeout(function() {\n",
       "                var nbb_cell_id = 19;\n",
       "                var nbb_unformatted_code = \"secop_2[\\\"nit_del_proveedor_adjudicado\\\"] = secop_2[\\n    \\\"nit_del_proveedor_adjudicado\\\"\\n].replace(\\\"No Adjudicado\\\", 0).replace(\\\"No Definido\\\", 0)\";\n",
       "                var nbb_formatted_code = \"secop_2[\\\"nit_del_proveedor_adjudicado\\\"] = (\\n    secop_2[\\\"nit_del_proveedor_adjudicado\\\"]\\n    .replace(\\\"No Adjudicado\\\", 0)\\n    .replace(\\\"No Definido\\\", 0)\\n)\";\n",
       "                var nbb_cells = Jupyter.notebook.get_cells();\n",
       "                for (var i = 0; i < nbb_cells.length; ++i) {\n",
       "                    if (nbb_cells[i].input_prompt_number == nbb_cell_id) {\n",
       "                        if (nbb_cells[i].get_text() == nbb_unformatted_code) {\n",
       "                             nbb_cells[i].set_text(nbb_formatted_code);\n",
       "                        }\n",
       "                        break;\n",
       "                    }\n",
       "                }\n",
       "            }, 500);\n",
       "            "
      ]
     },
     "metadata": {},
     "output_type": "display_data"
    }
   ],
   "source": [
    "secop_2[\"nit_del_proveedor_adjudicado\"] = (\n",
    "    secop_2[\"nit_del_proveedor_adjudicado\"]\n",
    "    .replace(\"No Adjudicado\", 0)\n",
    "    .replace(\"No Definido\", 0)\n",
    ")"
   ]
  },
  {
   "cell_type": "code",
   "execution_count": 30,
   "id": "92bb32f9",
   "metadata": {},
   "outputs": [
    {
     "data": {
      "text/html": [
       "<pre style=\"white-space:pre;overflow-x:auto;line-height:normal;font-family:Menlo,'DejaVu Sans Mono',consolas,'Courier New',monospace\">\n",
       "servicios de aprovisionamiento    <span style=\"color: #008080; text-decoration-color: #008080; font-weight: bold\">1412902</span>\n",
       "suministros                         <span style=\"color: #008080; text-decoration-color: #008080; font-weight: bold\">86842</span>\n",
       "<span style=\"color: #008080; text-decoration-color: #008080; font-weight: bold\">27</span> - otros servicios                <span style=\"color: #008080; text-decoration-color: #008080; font-weight: bold\">84632</span>\n",
       "decreto <span style=\"color: #008080; text-decoration-color: #008080; font-weight: bold\">092</span> de <span style=\"color: #008080; text-decoration-color: #008080; font-weight: bold\">2017</span>                 <span style=\"color: #008080; text-decoration-color: #008080; font-weight: bold\">74800</span>\n",
       "compraventa                         <span style=\"color: #008080; text-decoration-color: #008080; font-weight: bold\">70621</span>\n",
       "obra                                <span style=\"color: #008080; text-decoration-color: #008080; font-weight: bold\">29352</span>\n",
       "alquiler de edificios               <span style=\"color: #008080; text-decoration-color: #008080; font-weight: bold\">15541</span>\n",
       "interventoria                        <span style=\"color: #008080; text-decoration-color: #008080; font-weight: bold\">8315</span>\n",
       "consultoria                          <span style=\"color: #008080; text-decoration-color: #008080; font-weight: bold\">7300</span>\n",
       "nd                                   <span style=\"color: #008080; text-decoration-color: #008080; font-weight: bold\">6278</span>\n",
       "seguros                              <span style=\"color: #008080; text-decoration-color: #008080; font-weight: bold\">5161</span>\n",
       "arrendamiento muebles                <span style=\"color: #008080; text-decoration-color: #008080; font-weight: bold\">1345</span>\n",
       "acuerdo marco                        <span style=\"color: #008080; text-decoration-color: #008080; font-weight: bold\">1107</span>\n",
       "ventas de muebles                     <span style=\"color: #008080; text-decoration-color: #008080; font-weight: bold\">237</span>\n",
       "concesion                             <span style=\"color: #008080; text-decoration-color: #008080; font-weight: bold\">170</span>\n",
       "comision                              <span style=\"color: #008080; text-decoration-color: #008080; font-weight: bold\">133</span>\n",
       "no especificado                        <span style=\"color: #008080; text-decoration-color: #008080; font-weight: bold\">27</span>\n",
       "Name: tipo_de_contrato, dtype: int64\n",
       "</pre>\n"
      ],
      "text/plain": [
       "\n",
       "servicios de aprovisionamiento    \u001b[1;36m1412902\u001b[0m\n",
       "suministros                         \u001b[1;36m86842\u001b[0m\n",
       "\u001b[1;36m27\u001b[0m - otros servicios                \u001b[1;36m84632\u001b[0m\n",
       "decreto \u001b[1;36m092\u001b[0m de \u001b[1;36m2017\u001b[0m                 \u001b[1;36m74800\u001b[0m\n",
       "compraventa                         \u001b[1;36m70621\u001b[0m\n",
       "obra                                \u001b[1;36m29352\u001b[0m\n",
       "alquiler de edificios               \u001b[1;36m15541\u001b[0m\n",
       "interventoria                        \u001b[1;36m8315\u001b[0m\n",
       "consultoria                          \u001b[1;36m7300\u001b[0m\n",
       "nd                                   \u001b[1;36m6278\u001b[0m\n",
       "seguros                              \u001b[1;36m5161\u001b[0m\n",
       "arrendamiento muebles                \u001b[1;36m1345\u001b[0m\n",
       "acuerdo marco                        \u001b[1;36m1107\u001b[0m\n",
       "ventas de muebles                     \u001b[1;36m237\u001b[0m\n",
       "concesion                             \u001b[1;36m170\u001b[0m\n",
       "comision                              \u001b[1;36m133\u001b[0m\n",
       "no especificado                        \u001b[1;36m27\u001b[0m\n",
       "Name: tipo_de_contrato, dtype: int64\n"
      ]
     },
     "metadata": {},
     "output_type": "display_data"
    },
    {
     "data": {
      "text/html": [
       "<pre style=\"white-space:pre;overflow-x:auto;line-height:normal;font-family:Menlo,'DejaVu Sans Mono',consolas,'Courier New',monospace\"><span style=\"font-weight: bold\">&lt;</span><span style=\"color: #ff00ff; text-decoration-color: #ff00ff; font-weight: bold\">IPython.core.display.Javascript</span><span style=\"color: #000000; text-decoration-color: #000000\"> object</span><span style=\"font-weight: bold\">&gt;</span>\n",
       "</pre>\n"
      ],
      "text/plain": [
       "\u001b[1m<\u001b[0m\u001b[1;95mIPython.core.display.Javascript\u001b[0m\u001b[39m object\u001b[0m\u001b[1m>\u001b[0m\n"
      ]
     },
     "metadata": {},
     "output_type": "display_data"
    },
    {
     "data": {
      "application/javascript": [
       "\n",
       "            setTimeout(function() {\n",
       "                var nbb_cell_id = 30;\n",
       "                var nbb_unformatted_code = \"secop_2[\\\"tipo_de_contrato\\\"].value_counts()\";\n",
       "                var nbb_formatted_code = \"secop_2[\\\"tipo_de_contrato\\\"].value_counts()\";\n",
       "                var nbb_cells = Jupyter.notebook.get_cells();\n",
       "                for (var i = 0; i < nbb_cells.length; ++i) {\n",
       "                    if (nbb_cells[i].input_prompt_number == nbb_cell_id) {\n",
       "                        if (nbb_cells[i].get_text() == nbb_unformatted_code) {\n",
       "                             nbb_cells[i].set_text(nbb_formatted_code);\n",
       "                        }\n",
       "                        break;\n",
       "                    }\n",
       "                }\n",
       "            }, 500);\n",
       "            "
      ]
     },
     "metadata": {},
     "output_type": "display_data"
    }
   ],
   "source": [
    "secop_2[\"tipo_de_contrato\"].value_counts()"
   ]
  },
  {
   "cell_type": "code",
   "execution_count": 17,
   "id": "3933e969",
   "metadata": {},
   "outputs": [
    {
     "data": {
      "text/html": [
       "<pre style=\"white-space:pre;overflow-x:auto;line-height:normal;font-family:Menlo,'DejaVu Sans Mono',consolas,'Courier New',monospace\">\n",
       "no    <span style=\"color: #008080; text-decoration-color: #008080; font-weight: bold\">1571736</span>\n",
       "si     <span style=\"color: #008080; text-decoration-color: #008080; font-weight: bold\">233027</span>\n",
       "Name: adjudicado, dtype: int64\n",
       "</pre>\n"
      ],
      "text/plain": [
       "\n",
       "no    \u001b[1;36m1571736\u001b[0m\n",
       "si     \u001b[1;36m233027\u001b[0m\n",
       "Name: adjudicado, dtype: int64\n"
      ]
     },
     "metadata": {},
     "output_type": "display_data"
    },
    {
     "data": {
      "text/html": [
       "<pre style=\"white-space:pre;overflow-x:auto;line-height:normal;font-family:Menlo,'DejaVu Sans Mono',consolas,'Courier New',monospace\"><span style=\"font-weight: bold\">&lt;</span><span style=\"color: #ff00ff; text-decoration-color: #ff00ff; font-weight: bold\">IPython.core.display.Javascript</span><span style=\"color: #000000; text-decoration-color: #000000\"> object</span><span style=\"font-weight: bold\">&gt;</span>\n",
       "</pre>\n"
      ],
      "text/plain": [
       "\u001b[1m<\u001b[0m\u001b[1;95mIPython.core.display.Javascript\u001b[0m\u001b[39m object\u001b[0m\u001b[1m>\u001b[0m\n"
      ]
     },
     "metadata": {},
     "output_type": "display_data"
    },
    {
     "data": {
      "application/javascript": [
       "\n",
       "            setTimeout(function() {\n",
       "                var nbb_cell_id = 17;\n",
       "                var nbb_unformatted_code = \"secop_2['adjudicado'].value_counts()\";\n",
       "                var nbb_formatted_code = \"secop_2[\\\"adjudicado\\\"].value_counts()\";\n",
       "                var nbb_cells = Jupyter.notebook.get_cells();\n",
       "                for (var i = 0; i < nbb_cells.length; ++i) {\n",
       "                    if (nbb_cells[i].input_prompt_number == nbb_cell_id) {\n",
       "                        if (nbb_cells[i].get_text() == nbb_unformatted_code) {\n",
       "                             nbb_cells[i].set_text(nbb_formatted_code);\n",
       "                        }\n",
       "                        break;\n",
       "                    }\n",
       "                }\n",
       "            }, 500);\n",
       "            "
      ]
     },
     "metadata": {},
     "output_type": "display_data"
    }
   ],
   "source": [
    "secop_2[\"adjudicado\"].value_counts()"
   ]
  },
  {
   "cell_type": "code",
   "execution_count": 21,
   "id": "69c3cf84",
   "metadata": {},
   "outputs": [
    {
     "data": {
      "text/html": [
       "<pre style=\"white-space:pre;overflow-x:auto;line-height:normal;font-family:Menlo,'DejaVu Sans Mono',consolas,'Courier New',monospace\">\n",
       "<span style=\"color: #008080; text-decoration-color: #008080; font-weight: bold\">0</span>                 <span style=\"color: #008080; text-decoration-color: #008080; font-weight: bold\">0</span>\n",
       "<span style=\"color: #008080; text-decoration-color: #008080; font-weight: bold\">1</span>                 <span style=\"color: #008080; text-decoration-color: #008080; font-weight: bold\">0</span>\n",
       "<span style=\"color: #008080; text-decoration-color: #008080; font-weight: bold\">4</span>                 <span style=\"color: #008080; text-decoration-color: #008080; font-weight: bold\">0</span>\n",
       "<span style=\"color: #008080; text-decoration-color: #008080; font-weight: bold\">5</span>                 <span style=\"color: #008080; text-decoration-color: #008080; font-weight: bold\">0</span>\n",
       "<span style=\"color: #008080; text-decoration-color: #008080; font-weight: bold\">6</span>                 <span style=\"color: #008080; text-decoration-color: #008080; font-weight: bold\">0</span>\n",
       "             <span style=\"color: #808000; text-decoration-color: #808000\">...</span>   \n",
       "<span style=\"color: #008080; text-decoration-color: #008080; font-weight: bold\">1861368</span>     <span style=\"color: #008080; text-decoration-color: #008080; font-weight: bold\">1195901</span>\n",
       "<span style=\"color: #008080; text-decoration-color: #008080; font-weight: bold\">1861369</span>           <span style=\"color: #008080; text-decoration-color: #008080; font-weight: bold\">0</span>\n",
       "<span style=\"color: #008080; text-decoration-color: #008080; font-weight: bold\">1861370</span>           <span style=\"color: #008080; text-decoration-color: #008080; font-weight: bold\">0</span>\n",
       "<span style=\"color: #008080; text-decoration-color: #008080; font-weight: bold\">1861371</span>           <span style=\"color: #008080; text-decoration-color: #008080; font-weight: bold\">0</span>\n",
       "<span style=\"color: #008080; text-decoration-color: #008080; font-weight: bold\">1861372</span>    <span style=\"color: #008080; text-decoration-color: #008080; font-weight: bold\">84884090</span>\n",
       "Name: valor_total_adjudicacion, Length: <span style=\"color: #008080; text-decoration-color: #008080; font-weight: bold\">1804763</span>, dtype: int64\n",
       "</pre>\n"
      ],
      "text/plain": [
       "\n",
       "\u001b[1;36m0\u001b[0m                 \u001b[1;36m0\u001b[0m\n",
       "\u001b[1;36m1\u001b[0m                 \u001b[1;36m0\u001b[0m\n",
       "\u001b[1;36m4\u001b[0m                 \u001b[1;36m0\u001b[0m\n",
       "\u001b[1;36m5\u001b[0m                 \u001b[1;36m0\u001b[0m\n",
       "\u001b[1;36m6\u001b[0m                 \u001b[1;36m0\u001b[0m\n",
       "             \u001b[33m...\u001b[0m   \n",
       "\u001b[1;36m1861368\u001b[0m     \u001b[1;36m1195901\u001b[0m\n",
       "\u001b[1;36m1861369\u001b[0m           \u001b[1;36m0\u001b[0m\n",
       "\u001b[1;36m1861370\u001b[0m           \u001b[1;36m0\u001b[0m\n",
       "\u001b[1;36m1861371\u001b[0m           \u001b[1;36m0\u001b[0m\n",
       "\u001b[1;36m1861372\u001b[0m    \u001b[1;36m84884090\u001b[0m\n",
       "Name: valor_total_adjudicacion, Length: \u001b[1;36m1804763\u001b[0m, dtype: int64\n"
      ]
     },
     "metadata": {},
     "output_type": "display_data"
    },
    {
     "data": {
      "text/html": [
       "<pre style=\"white-space:pre;overflow-x:auto;line-height:normal;font-family:Menlo,'DejaVu Sans Mono',consolas,'Courier New',monospace\"><span style=\"font-weight: bold\">&lt;</span><span style=\"color: #ff00ff; text-decoration-color: #ff00ff; font-weight: bold\">IPython.core.display.Javascript</span><span style=\"color: #000000; text-decoration-color: #000000\"> object</span><span style=\"font-weight: bold\">&gt;</span>\n",
       "</pre>\n"
      ],
      "text/plain": [
       "\u001b[1m<\u001b[0m\u001b[1;95mIPython.core.display.Javascript\u001b[0m\u001b[39m object\u001b[0m\u001b[1m>\u001b[0m\n"
      ]
     },
     "metadata": {},
     "output_type": "display_data"
    },
    {
     "data": {
      "application/javascript": [
       "\n",
       "            setTimeout(function() {\n",
       "                var nbb_cell_id = 21;\n",
       "                var nbb_unformatted_code = \"secop_2[\\\"valor_total_adjudicacion\\\"].astype(int)\";\n",
       "                var nbb_formatted_code = \"secop_2[\\\"valor_total_adjudicacion\\\"].astype(int)\";\n",
       "                var nbb_cells = Jupyter.notebook.get_cells();\n",
       "                for (var i = 0; i < nbb_cells.length; ++i) {\n",
       "                    if (nbb_cells[i].input_prompt_number == nbb_cell_id) {\n",
       "                        if (nbb_cells[i].get_text() == nbb_unformatted_code) {\n",
       "                             nbb_cells[i].set_text(nbb_formatted_code);\n",
       "                        }\n",
       "                        break;\n",
       "                    }\n",
       "                }\n",
       "            }, 500);\n",
       "            "
      ]
     },
     "metadata": {},
     "output_type": "display_data"
    }
   ],
   "source": [
    "secop_2[\"valor_total_adjudicacion\"].astype(int)"
   ]
  },
  {
   "cell_type": "code",
   "execution_count": 19,
   "id": "7e76f4a5",
   "metadata": {},
   "outputs": [
    {
     "data": {
      "image/png": "[encoded data removed]"
     },
     "metadata": {
      "needs_background": "light"
     },
     "output_type": "display_data"
    },
    {
     "data": {
      "text/html": [
       "<pre style=\"white-space:pre;overflow-x:auto;line-height:normal;font-family:Menlo,'DejaVu Sans Mono',consolas,'Courier New',monospace\"><span style=\"font-weight: bold\">&lt;</span><span style=\"color: #ff00ff; text-decoration-color: #ff00ff; font-weight: bold\">IPython.core.display.Javascript</span><span style=\"color: #000000; text-decoration-color: #000000\"> object</span><span style=\"font-weight: bold\">&gt;</span>\n",
       "</pre>\n"
      ],
      "text/plain": [
       "\u001b[1m<\u001b[0m\u001b[1;95mIPython.core.display.Javascript\u001b[0m\u001b[39m object\u001b[0m\u001b[1m>\u001b[0m\n"
      ]
     },
     "metadata": {},
     "output_type": "display_data"
    },
    {
     "data": {
      "application/javascript": [
       "\n",
       "            setTimeout(function() {\n",
       "                var nbb_cell_id = 19;\n",
       "                var nbb_unformatted_code = \"secop_2[\\\"fecha_de_publicacion_del\\\"].hist()\";\n",
       "                var nbb_formatted_code = \"secop_2[\\\"fecha_de_publicacion_del\\\"].hist()\";\n",
       "                var nbb_cells = Jupyter.notebook.get_cells();\n",
       "                for (var i = 0; i < nbb_cells.length; ++i) {\n",
       "                    if (nbb_cells[i].input_prompt_number == nbb_cell_id) {\n",
       "                        if (nbb_cells[i].get_text() == nbb_unformatted_code) {\n",
       "                             nbb_cells[i].set_text(nbb_formatted_code);\n",
       "                        }\n",
       "                        break;\n",
       "                    }\n",
       "                }\n",
       "            }, 500);\n",
       "            "
      ]
     },
     "metadata": {},
     "output_type": "display_data"
    }
   ],
   "source": [
    "secop_2[\"fecha_de_publicacion_del\"].hist()"
   ]
  },
  {
   "cell_type": "code",
   "execution_count": 83,
   "id": "4619fd3d",
   "metadata": {},
   "outputs": [
    {
     "data": {
      "text/html": [
       "<pre style=\"white-space:pre;overflow-x:auto;line-height:normal;font-family:Menlo,'DejaVu Sans Mono',consolas,'Courier New',monospace\">\n",
       "presentacion de oferta                             <span style=\"color: #008080; text-decoration-color: #008080; font-weight: bold\">1764387</span>\n",
       "presentacion de observaciones                        <span style=\"color: #008080; text-decoration-color: #008080; font-weight: bold\">53385</span>\n",
       "manifestacion de interes <span style=\"font-weight: bold\">(</span>menor cuantia<span style=\"font-weight: bold\">)</span>             <span style=\"color: #008080; text-decoration-color: #008080; font-weight: bold\">21945</span>\n",
       "fase de ofertas                                      <span style=\"color: #008080; text-decoration-color: #008080; font-weight: bold\">15222</span>\n",
       "fase de seleccion <span style=\"font-weight: bold\">(</span>presentacion de ofertas<span style=\"font-weight: bold\">)</span>           <span style=\"color: #008080; text-decoration-color: #008080; font-weight: bold\">3685</span>\n",
       "no definido                                           <span style=\"color: #008080; text-decoration-color: #008080; font-weight: bold\">1719</span>\n",
       "clarification submission                               <span style=\"color: #008080; text-decoration-color: #008080; font-weight: bold\">425</span>\n",
       "estimate phase                                         <span style=\"color: #008080; text-decoration-color: #008080; font-weight: bold\">285</span>\n",
       "pre-calificacion de competidores                       <span style=\"color: #008080; text-decoration-color: #008080; font-weight: bold\">225</span>\n",
       "proceso de ofertas                                      <span style=\"color: #008080; text-decoration-color: #008080; font-weight: bold\">67</span>\n",
       "seleccion de ofertas <span style=\"font-weight: bold\">(</span>borrador<span style=\"font-weight: bold\">)</span>                         <span style=\"color: #008080; text-decoration-color: #008080; font-weight: bold\">23</span>\n",
       "presentacion de observaciones <span style=\"font-weight: bold\">(</span>precalificacion<span style=\"font-weight: bold\">)</span>          <span style=\"color: #008080; text-decoration-color: #008080; font-weight: bold\">3</span>\n",
       "presentacion de oferta <span style=\"font-weight: bold\">(</span>precalificacion<span style=\"font-weight: bold\">)</span>                 <span style=\"color: #008080; text-decoration-color: #008080; font-weight: bold\">2</span>\n",
       "Name: fase, dtype: int64\n",
       "</pre>\n"
      ],
      "text/plain": [
       "\n",
       "presentacion de oferta                             \u001b[1;36m1764387\u001b[0m\n",
       "presentacion de observaciones                        \u001b[1;36m53385\u001b[0m\n",
       "manifestacion de interes \u001b[1m(\u001b[0mmenor cuantia\u001b[1m)\u001b[0m             \u001b[1;36m21945\u001b[0m\n",
       "fase de ofertas                                      \u001b[1;36m15222\u001b[0m\n",
       "fase de seleccion \u001b[1m(\u001b[0mpresentacion de ofertas\u001b[1m)\u001b[0m           \u001b[1;36m3685\u001b[0m\n",
       "no definido                                           \u001b[1;36m1719\u001b[0m\n",
       "clarification submission                               \u001b[1;36m425\u001b[0m\n",
       "estimate phase                                         \u001b[1;36m285\u001b[0m\n",
       "pre-calificacion de competidores                       \u001b[1;36m225\u001b[0m\n",
       "proceso de ofertas                                      \u001b[1;36m67\u001b[0m\n",
       "seleccion de ofertas \u001b[1m(\u001b[0mborrador\u001b[1m)\u001b[0m                         \u001b[1;36m23\u001b[0m\n",
       "presentacion de observaciones \u001b[1m(\u001b[0mprecalificacion\u001b[1m)\u001b[0m          \u001b[1;36m3\u001b[0m\n",
       "presentacion de oferta \u001b[1m(\u001b[0mprecalificacion\u001b[1m)\u001b[0m                 \u001b[1;36m2\u001b[0m\n",
       "Name: fase, dtype: int64\n"
      ]
     },
     "metadata": {},
     "output_type": "display_data"
    },
    {
     "data": {
      "text/html": [
       "<pre style=\"white-space:pre;overflow-x:auto;line-height:normal;font-family:Menlo,'DejaVu Sans Mono',consolas,'Courier New',monospace\"><span style=\"font-weight: bold\">&lt;</span><span style=\"color: #ff00ff; text-decoration-color: #ff00ff; font-weight: bold\">IPython.core.display.Javascript</span><span style=\"color: #000000; text-decoration-color: #000000\"> object</span><span style=\"font-weight: bold\">&gt;</span>\n",
       "</pre>\n"
      ],
      "text/plain": [
       "\u001b[1m<\u001b[0m\u001b[1;95mIPython.core.display.Javascript\u001b[0m\u001b[39m object\u001b[0m\u001b[1m>\u001b[0m\n"
      ]
     },
     "metadata": {},
     "output_type": "display_data"
    },
    {
     "data": {
      "application/javascript": [
       "\n",
       "            setTimeout(function() {\n",
       "                var nbb_cell_id = 83;\n",
       "                var nbb_unformatted_code = \"secop_2[\\\"fase\\\"].value_counts()\";\n",
       "                var nbb_formatted_code = \"secop_2[\\\"fase\\\"].value_counts()\";\n",
       "                var nbb_cells = Jupyter.notebook.get_cells();\n",
       "                for (var i = 0; i < nbb_cells.length; ++i) {\n",
       "                    if (nbb_cells[i].input_prompt_number == nbb_cell_id) {\n",
       "                        if (nbb_cells[i].get_text() == nbb_unformatted_code) {\n",
       "                             nbb_cells[i].set_text(nbb_formatted_code);\n",
       "                        }\n",
       "                        break;\n",
       "                    }\n",
       "                }\n",
       "            }, 500);\n",
       "            "
      ]
     },
     "metadata": {},
     "output_type": "display_data"
    }
   ],
   "source": [
    "secop_2[\"fase\"].value_counts()"
   ]
  },
  {
   "cell_type": "code",
   "execution_count": 84,
   "id": "91e76511",
   "metadata": {},
   "outputs": [
    {
     "data": {
      "text/html": [
       "<pre style=\"white-space:pre;overflow-x:auto;line-height:normal;font-family:Menlo,'DejaVu Sans Mono',consolas,'Courier New',monospace\">\n",
       "<span style=\"color: #800080; text-decoration-color: #800080; font-weight: bold\">Index</span><span style=\"font-weight: bold\">([</span><span style=\"color: #008000; text-decoration-color: #008000\">'entidad'</span>, <span style=\"color: #008000; text-decoration-color: #008000\">'departamento_entidad'</span>, <span style=\"color: #008000; text-decoration-color: #008000\">'ciudad_entidad'</span>, <span style=\"color: #008000; text-decoration-color: #008000\">'ordenentidad'</span>,\n",
       "       <span style=\"color: #008000; text-decoration-color: #008000\">'id_del_proceso'</span>, <span style=\"color: #008000; text-decoration-color: #008000\">'referencia_del_proceso'</span>, <span style=\"color: #008000; text-decoration-color: #008000\">'nombre_del_procedimiento'</span>,\n",
       "       <span style=\"color: #008000; text-decoration-color: #008000\">'descripci_n_del_procedimiento'</span>, <span style=\"color: #008000; text-decoration-color: #008000\">'fase'</span>, <span style=\"color: #008000; text-decoration-color: #008000\">'precio_base'</span>,\n",
       "       <span style=\"color: #008000; text-decoration-color: #008000\">'modalidad_de_contratacion'</span>, <span style=\"color: #008000; text-decoration-color: #008000\">'duracion'</span>, <span style=\"color: #008000; text-decoration-color: #008000\">'unidad_de_duracion'</span>,\n",
       "       <span style=\"color: #008000; text-decoration-color: #008000\">'proveedores_invitados'</span>, <span style=\"color: #008000; text-decoration-color: #008000\">'proveedores_con_invitacion'</span>,\n",
       "       <span style=\"color: #008000; text-decoration-color: #008000\">'visualizaciones_del'</span>, <span style=\"color: #008000; text-decoration-color: #008000\">'proveedores_que_manifestaron'</span>,\n",
       "       <span style=\"color: #008000; text-decoration-color: #008000\">'respuestas_al_procedimiento'</span>, <span style=\"color: #008000; text-decoration-color: #008000\">'respuestas_externas'</span>,\n",
       "       <span style=\"color: #008000; text-decoration-color: #008000\">'conteo_de_respuestas_a_ofertas'</span>, <span style=\"color: #008000; text-decoration-color: #008000\">'proveedores_unicos_con'</span>,\n",
       "       <span style=\"color: #008000; text-decoration-color: #008000\">'estado_del_procedimiento'</span>, <span style=\"color: #008000; text-decoration-color: #008000\">'adjudicado'</span>, <span style=\"color: #008000; text-decoration-color: #008000\">'departamento_proveedor'</span>,\n",
       "       <span style=\"color: #008000; text-decoration-color: #008000\">'ciudad_proveedor'</span>, <span style=\"color: #008000; text-decoration-color: #008000\">'valor_total_adjudicacion'</span>,\n",
       "       <span style=\"color: #008000; text-decoration-color: #008000\">'nombre_del_adjudicador'</span>, <span style=\"color: #008000; text-decoration-color: #008000\">'nombre_del_proveedor'</span>,\n",
       "       <span style=\"color: #008000; text-decoration-color: #008000\">'nit_del_proveedor_adjudicado'</span>, <span style=\"color: #008000; text-decoration-color: #008000\">'tipo_de_contrato'</span>,\n",
       "       <span style=\"color: #008000; text-decoration-color: #008000\">'subtipo_de_contrato'</span>, <span style=\"color: #008000; text-decoration-color: #008000\">'fecha_de_publicacion_del'</span>,\n",
       "       <span style=\"color: #008000; text-decoration-color: #008000\">'fecha_de_ultima_publicaci'</span>, <span style=\"color: #008000; text-decoration-color: #008000\">'fecha_de_publicacion_fase_3'</span>,\n",
       "       <span style=\"color: #008000; text-decoration-color: #008000\">'fecha_de_recepcion_de'</span>, <span style=\"color: #008000; text-decoration-color: #008000\">'fecha_de_apertura_efectiva'</span>, <span style=\"color: #008000; text-decoration-color: #008000\">'nit_entidad'</span><span style=\"font-weight: bold\">]</span>,\n",
       "      <span style=\"color: #808000; text-decoration-color: #808000\">dtype</span>=<span style=\"color: #008000; text-decoration-color: #008000\">'object'</span><span style=\"font-weight: bold\">)</span>\n",
       "</pre>\n"
      ],
      "text/plain": [
       "\n",
       "\u001b[1;35mIndex\u001b[0m\u001b[1m(\u001b[0m\u001b[1m[\u001b[0m\u001b[32m'entidad'\u001b[0m, \u001b[32m'departamento_entidad'\u001b[0m, \u001b[32m'ciudad_entidad'\u001b[0m, \u001b[32m'ordenentidad'\u001b[0m,\n",
       "       \u001b[32m'id_del_proceso'\u001b[0m, \u001b[32m'referencia_del_proceso'\u001b[0m, \u001b[32m'nombre_del_procedimiento'\u001b[0m,\n",
       "       \u001b[32m'descripci_n_del_procedimiento'\u001b[0m, \u001b[32m'fase'\u001b[0m, \u001b[32m'precio_base'\u001b[0m,\n",
       "       \u001b[32m'modalidad_de_contratacion'\u001b[0m, \u001b[32m'duracion'\u001b[0m, \u001b[32m'unidad_de_duracion'\u001b[0m,\n",
       "       \u001b[32m'proveedores_invitados'\u001b[0m, \u001b[32m'proveedores_con_invitacion'\u001b[0m,\n",
       "       \u001b[32m'visualizaciones_del'\u001b[0m, \u001b[32m'proveedores_que_manifestaron'\u001b[0m,\n",
       "       \u001b[32m'respuestas_al_procedimiento'\u001b[0m, \u001b[32m'respuestas_externas'\u001b[0m,\n",
       "       \u001b[32m'conteo_de_respuestas_a_ofertas'\u001b[0m, \u001b[32m'proveedores_unicos_con'\u001b[0m,\n",
       "       \u001b[32m'estado_del_procedimiento'\u001b[0m, \u001b[32m'adjudicado'\u001b[0m, \u001b[32m'departamento_proveedor'\u001b[0m,\n",
       "       \u001b[32m'ciudad_proveedor'\u001b[0m, \u001b[32m'valor_total_adjudicacion'\u001b[0m,\n",
       "       \u001b[32m'nombre_del_adjudicador'\u001b[0m, \u001b[32m'nombre_del_proveedor'\u001b[0m,\n",
       "       \u001b[32m'nit_del_proveedor_adjudicado'\u001b[0m, \u001b[32m'tipo_de_contrato'\u001b[0m,\n",
       "       \u001b[32m'subtipo_de_contrato'\u001b[0m, \u001b[32m'fecha_de_publicacion_del'\u001b[0m,\n",
       "       \u001b[32m'fecha_de_ultima_publicaci'\u001b[0m, \u001b[32m'fecha_de_publicacion_fase_3'\u001b[0m,\n",
       "       \u001b[32m'fecha_de_recepcion_de'\u001b[0m, \u001b[32m'fecha_de_apertura_efectiva'\u001b[0m, \u001b[32m'nit_entidad'\u001b[0m\u001b[1m]\u001b[0m,\n",
       "      \u001b[33mdtype\u001b[0m=\u001b[32m'object'\u001b[0m\u001b[1m)\u001b[0m\n"
      ]
     },
     "metadata": {},
     "output_type": "display_data"
    },
    {
     "data": {
      "text/html": [
       "<pre style=\"white-space:pre;overflow-x:auto;line-height:normal;font-family:Menlo,'DejaVu Sans Mono',consolas,'Courier New',monospace\"><span style=\"font-weight: bold\">&lt;</span><span style=\"color: #ff00ff; text-decoration-color: #ff00ff; font-weight: bold\">IPython.core.display.Javascript</span><span style=\"color: #000000; text-decoration-color: #000000\"> object</span><span style=\"font-weight: bold\">&gt;</span>\n",
       "</pre>\n"
      ],
      "text/plain": [
       "\u001b[1m<\u001b[0m\u001b[1;95mIPython.core.display.Javascript\u001b[0m\u001b[39m object\u001b[0m\u001b[1m>\u001b[0m\n"
      ]
     },
     "metadata": {},
     "output_type": "display_data"
    },
    {
     "data": {
      "application/javascript": [
       "\n",
       "            setTimeout(function() {\n",
       "                var nbb_cell_id = 84;\n",
       "                var nbb_unformatted_code = \"secop_2.columns\";\n",
       "                var nbb_formatted_code = \"secop_2.columns\";\n",
       "                var nbb_cells = Jupyter.notebook.get_cells();\n",
       "                for (var i = 0; i < nbb_cells.length; ++i) {\n",
       "                    if (nbb_cells[i].input_prompt_number == nbb_cell_id) {\n",
       "                        if (nbb_cells[i].get_text() == nbb_unformatted_code) {\n",
       "                             nbb_cells[i].set_text(nbb_formatted_code);\n",
       "                        }\n",
       "                        break;\n",
       "                    }\n",
       "                }\n",
       "            }, 500);\n",
       "            "
      ]
     },
     "metadata": {},
     "output_type": "display_data"
    }
   ],
   "source": [
    "secop_2.columns"
   ]
  },
  {
   "cell_type": "code",
   "execution_count": 71,
   "id": "c126f41a",
   "metadata": {
    "scrolled": true
   },
   "outputs": [
    {
     "data": {
      "text/html": [
       "<div>\n",
       "<style scoped>\n",
       "    .dataframe tbody tr th:only-of-type {\n",
       "        vertical-align: middle;\n",
       "    }\n",
       "\n",
       "    .dataframe tbody tr th {\n",
       "        vertical-align: top;\n",
       "    }\n",
       "\n",
       "    .dataframe thead th {\n",
       "        text-align: right;\n",
       "    }\n",
       "</style>\n",
       "<table border=\"1\" class=\"dataframe\">\n",
       "  <thead>\n",
       "    <tr style=\"text-align: right;\">\n",
       "      <th></th>\n",
       "      <th>entidad</th>\n",
       "      <th>departamento_entidad</th>\n",
       "      <th>ciudad_entidad</th>\n",
       "      <th>ordenentidad</th>\n",
       "      <th>id_del_proceso</th>\n",
       "      <th>referencia_del_proceso</th>\n",
       "      <th>nombre_del_procedimiento</th>\n",
       "      <th>descripci_n_del_procedimiento</th>\n",
       "      <th>fase</th>\n",
       "      <th>precio_base</th>\n",
       "      <th>...</th>\n",
       "      <th>nombre_del_proveedor</th>\n",
       "      <th>nit_del_proveedor_adjudicado</th>\n",
       "      <th>tipo_de_contrato</th>\n",
       "      <th>subtipo_de_contrato</th>\n",
       "      <th>fecha_de_publicacion_del</th>\n",
       "      <th>fecha_de_ultima_publicaci</th>\n",
       "      <th>fecha_de_publicacion_fase_3</th>\n",
       "      <th>fecha_de_recepcion_de</th>\n",
       "      <th>fecha_de_apertura_efectiva</th>\n",
       "      <th>nit_entidad</th>\n",
       "    </tr>\n",
       "  </thead>\n",
       "  <tbody>\n",
       "    <tr>\n",
       "      <th>0</th>\n",
       "      <td>Vortal Operations</td>\n",
       "      <td>Quindío</td>\n",
       "      <td>Armenia</td>\n",
       "      <td>Territorial</td>\n",
       "      <td>CO1.REQ.948804</td>\n",
       "      <td>CMA_MFR_2808_2</td>\n",
       "      <td>CMAMFR2808</td>\n",
       "      <td>CMAMFR2808</td>\n",
       "      <td>No Definido</td>\n",
       "      <td>-1</td>\n",
       "      <td>...</td>\n",
       "      <td>No Adjudicado</td>\n",
       "      <td>No Adjudicado</td>\n",
       "      <td>Consultoría</td>\n",
       "      <td>No Especificado</td>\n",
       "      <td>None</td>\n",
       "      <td>None</td>\n",
       "      <td>None</td>\n",
       "      <td>None</td>\n",
       "      <td>None</td>\n",
       "      <td>1</td>\n",
       "    </tr>\n",
       "    <tr>\n",
       "      <th>1</th>\n",
       "      <td>Vortal Operations</td>\n",
       "      <td>Quindío</td>\n",
       "      <td>Armenia</td>\n",
       "      <td>Territorial</td>\n",
       "      <td>CO1.REQ.948433</td>\n",
       "      <td>CMA_MFR_2808</td>\n",
       "      <td>CMAMFR2808</td>\n",
       "      <td>CMAMFR2808</td>\n",
       "      <td>No Definido</td>\n",
       "      <td>-1</td>\n",
       "      <td>...</td>\n",
       "      <td>No Adjudicado</td>\n",
       "      <td>No Adjudicado</td>\n",
       "      <td>Consultoría</td>\n",
       "      <td>No Especificado</td>\n",
       "      <td>None</td>\n",
       "      <td>None</td>\n",
       "      <td>None</td>\n",
       "      <td>None</td>\n",
       "      <td>None</td>\n",
       "      <td>1</td>\n",
       "    </tr>\n",
       "    <tr>\n",
       "      <th>2</th>\n",
       "      <td>Vortal Operations</td>\n",
       "      <td>Quindío</td>\n",
       "      <td>Armenia</td>\n",
       "      <td>Territorial</td>\n",
       "      <td>CO1.REQ.1992464</td>\n",
       "      <td>SIP_2604</td>\n",
       "      <td>SIP2604</td>\n",
       "      <td>SIP2604</td>\n",
       "      <td>Estimate Phase</td>\n",
       "      <td>-1</td>\n",
       "      <td>...</td>\n",
       "      <td>No Adjudicado</td>\n",
       "      <td>No Adjudicado</td>\n",
       "      <td>ND</td>\n",
       "      <td>No Especificado</td>\n",
       "      <td>2021-04-26</td>\n",
       "      <td>2021-04-26</td>\n",
       "      <td>2021-04-26</td>\n",
       "      <td>2021-04-30</td>\n",
       "      <td>2021-04-26</td>\n",
       "      <td>1</td>\n",
       "    </tr>\n",
       "    <tr>\n",
       "      <th>3</th>\n",
       "      <td>Vortal Operations</td>\n",
       "      <td>Quindío</td>\n",
       "      <td>Armenia</td>\n",
       "      <td>Territorial</td>\n",
       "      <td>CO1.REQ.1994804</td>\n",
       "      <td>SIP_2604 Copy</td>\n",
       "      <td>SIP2604 Copy</td>\n",
       "      <td>SIP2604</td>\n",
       "      <td>Estimate Phase</td>\n",
       "      <td>-1</td>\n",
       "      <td>...</td>\n",
       "      <td>No Adjudicado</td>\n",
       "      <td>No Adjudicado</td>\n",
       "      <td>ND</td>\n",
       "      <td>No Especificado</td>\n",
       "      <td>2021-04-27</td>\n",
       "      <td>2021-04-27</td>\n",
       "      <td>2021-04-27</td>\n",
       "      <td>2021-04-30</td>\n",
       "      <td>2021-04-27</td>\n",
       "      <td>1</td>\n",
       "    </tr>\n",
       "    <tr>\n",
       "      <th>4</th>\n",
       "      <td>SECRETARÍA DISTRITAL DE CULTURA RECREACIÓN Y D...</td>\n",
       "      <td>Distrito Capital de Bogotá</td>\n",
       "      <td>Bogotá</td>\n",
       "      <td>Territorial</td>\n",
       "      <td>CO1.REQ.742030</td>\n",
       "      <td>ESDOP 118 de 2019</td>\n",
       "      <td>Apoyar el proceso de acompañamiento metodológi...</td>\n",
       "      <td>Prestar los servicios profesionales para apoya...</td>\n",
       "      <td>No Definido</td>\n",
       "      <td>66374000</td>\n",
       "      <td>...</td>\n",
       "      <td>No Adjudicado</td>\n",
       "      <td>No Adjudicado</td>\n",
       "      <td>Servicios de aprovisionamiento</td>\n",
       "      <td>No Especificado</td>\n",
       "      <td>None</td>\n",
       "      <td>None</td>\n",
       "      <td>None</td>\n",
       "      <td>None</td>\n",
       "      <td>None</td>\n",
       "      <td>899999061</td>\n",
       "    </tr>\n",
       "    <tr>\n",
       "      <th>...</th>\n",
       "      <td>...</td>\n",
       "      <td>...</td>\n",
       "      <td>...</td>\n",
       "      <td>...</td>\n",
       "      <td>...</td>\n",
       "      <td>...</td>\n",
       "      <td>...</td>\n",
       "      <td>...</td>\n",
       "      <td>...</td>\n",
       "      <td>...</td>\n",
       "      <td>...</td>\n",
       "      <td>...</td>\n",
       "      <td>...</td>\n",
       "      <td>...</td>\n",
       "      <td>...</td>\n",
       "      <td>...</td>\n",
       "      <td>...</td>\n",
       "      <td>...</td>\n",
       "      <td>...</td>\n",
       "      <td>...</td>\n",
       "      <td>...</td>\n",
       "    </tr>\n",
       "    <tr>\n",
       "      <th>1861368</th>\n",
       "      <td>PERSONERIA MUNICIPAL DE SANTA ROSALIA VICHADA</td>\n",
       "      <td>Vichada</td>\n",
       "      <td>Santa Rosalía</td>\n",
       "      <td>Territorial</td>\n",
       "      <td>CO1.REQ.2829203</td>\n",
       "      <td>03</td>\n",
       "      <td>ADQUISICIÓN DE SEGURO PÓLIZA MULTIRIESGOS QUE ...</td>\n",
       "      <td>ADQUISICIÓN DE SEGURO PÓLIZA MULTIRIESGOS QUE ...</td>\n",
       "      <td>Presentación de oferta</td>\n",
       "      <td>1200000</td>\n",
       "      <td>...</td>\n",
       "      <td>LA PREVISORA SA COMPAÑÍA DE SEGUROS</td>\n",
       "      <td>860002400</td>\n",
       "      <td>Seguros</td>\n",
       "      <td>No Especificado</td>\n",
       "      <td>2022-02-03</td>\n",
       "      <td>2022-02-03</td>\n",
       "      <td>2022-02-03</td>\n",
       "      <td>2022-02-09</td>\n",
       "      <td>2022-02-09</td>\n",
       "      <td>901552719</td>\n",
       "    </tr>\n",
       "    <tr>\n",
       "      <th>1861369</th>\n",
       "      <td>PERSONERIA MUNICIPAL DE SANTA ROSALIA VICHADA</td>\n",
       "      <td>Vichada</td>\n",
       "      <td>Santa Rosalía</td>\n",
       "      <td>Territorial</td>\n",
       "      <td>CO1.REQ.2650955</td>\n",
       "      <td>01</td>\n",
       "      <td>PRESTACIÓN DE SERVICIOS PROFESIONALES PARA LA ...</td>\n",
       "      <td>PRESTACIÓN DE SERVICIOS PROFESIONALES PARA LA ...</td>\n",
       "      <td>Presentación de oferta</td>\n",
       "      <td>10000000</td>\n",
       "      <td>...</td>\n",
       "      <td>No Adjudicado</td>\n",
       "      <td>No Adjudicado</td>\n",
       "      <td>Servicios de aprovisionamiento</td>\n",
       "      <td>No Especificado</td>\n",
       "      <td>2022-01-18</td>\n",
       "      <td>2022-01-18</td>\n",
       "      <td>2022-01-18</td>\n",
       "      <td>None</td>\n",
       "      <td>None</td>\n",
       "      <td>901552719</td>\n",
       "    </tr>\n",
       "    <tr>\n",
       "      <th>1861370</th>\n",
       "      <td>PERSONERIA MUNICIPAL DE SANTA ROSALIA VICHADA</td>\n",
       "      <td>Vichada</td>\n",
       "      <td>Santa Rosalía</td>\n",
       "      <td>Territorial</td>\n",
       "      <td>CO1.REQ.2698653</td>\n",
       "      <td>02</td>\n",
       "      <td>PRESTACIÓN DE SERVICIOS DE APOYO A LA GESTIÓN ...</td>\n",
       "      <td></td>\n",
       "      <td>Presentación de oferta</td>\n",
       "      <td>4400000</td>\n",
       "      <td>...</td>\n",
       "      <td>No Adjudicado</td>\n",
       "      <td>No Adjudicado</td>\n",
       "      <td>Servicios de aprovisionamiento</td>\n",
       "      <td>No Especificado</td>\n",
       "      <td>2022-01-20</td>\n",
       "      <td>2022-01-20</td>\n",
       "      <td>2022-01-20</td>\n",
       "      <td>None</td>\n",
       "      <td>None</td>\n",
       "      <td>901552719</td>\n",
       "    </tr>\n",
       "    <tr>\n",
       "      <th>1861371</th>\n",
       "      <td>ALUMBRADO PUBLICO DE YUMBO SEM SAS</td>\n",
       "      <td>Valle del Cauca</td>\n",
       "      <td>Yumbo</td>\n",
       "      <td>Territorial</td>\n",
       "      <td>CO1.REQ.3104135</td>\n",
       "      <td>CONCURSO DE MERITOS No. 001 DE 2022</td>\n",
       "      <td>REALIZAR LA INTERVENTORIA A LA PRESTACIÓN DEL ...</td>\n",
       "      <td>REALIZAR LA INTERVENTORIA A LA PRESTACIÓN DEL ...</td>\n",
       "      <td>Presentación de observaciones</td>\n",
       "      <td>84884090</td>\n",
       "      <td>...</td>\n",
       "      <td>No Adjudicado</td>\n",
       "      <td>No Adjudicado</td>\n",
       "      <td>Interventoría</td>\n",
       "      <td>No Especificado</td>\n",
       "      <td>2022-07-11</td>\n",
       "      <td>2022-07-11</td>\n",
       "      <td>None</td>\n",
       "      <td>2022-07-27</td>\n",
       "      <td>2022-07-27</td>\n",
       "      <td>901554184</td>\n",
       "    </tr>\n",
       "    <tr>\n",
       "      <th>1861372</th>\n",
       "      <td>ALUMBRADO PUBLICO DE YUMBO SEM SAS</td>\n",
       "      <td>Valle del Cauca</td>\n",
       "      <td>Yumbo</td>\n",
       "      <td>Territorial</td>\n",
       "      <td>CO1.REQ.3120506</td>\n",
       "      <td>CONCURSO DE MERITOS No. 001 DE 2022 (Presentac...</td>\n",
       "      <td>REALIZAR LA INTERVENTORIA A LA PRESTACIÓN DEL ...</td>\n",
       "      <td>REALIZAR LA INTERVENTORIA A LA PRESTACIÓN DEL ...</td>\n",
       "      <td>Presentación de oferta</td>\n",
       "      <td>84884090</td>\n",
       "      <td>...</td>\n",
       "      <td>INTERVENTORIAS INTEGRALES SAS</td>\n",
       "      <td>901280006</td>\n",
       "      <td>Interventoría</td>\n",
       "      <td>No Especificado</td>\n",
       "      <td>2022-07-15</td>\n",
       "      <td>2022-07-15</td>\n",
       "      <td>2022-07-15</td>\n",
       "      <td>2022-07-27</td>\n",
       "      <td>2022-07-27</td>\n",
       "      <td>901554184</td>\n",
       "    </tr>\n",
       "  </tbody>\n",
       "</table>\n",
       "<p>1861373 rows × 37 columns</p>\n",
       "</div>"
      ]
     },
     "execution_count": 71,
     "metadata": {},
     "output_type": "execute_result"
    },
    {
     "data": {
      "text/html": [
       "<pre style=\"white-space:pre;overflow-x:auto;line-height:normal;font-family:Menlo,'DejaVu Sans Mono',consolas,'Courier New',monospace\"><span style=\"font-weight: bold\">&lt;</span><span style=\"color: #ff00ff; text-decoration-color: #ff00ff; font-weight: bold\">IPython.core.display.Javascript</span><span style=\"color: #000000; text-decoration-color: #000000\"> object</span><span style=\"font-weight: bold\">&gt;</span>\n",
       "</pre>\n"
      ],
      "text/plain": [
       "\u001b[1m<\u001b[0m\u001b[1;95mIPython.core.display.Javascript\u001b[0m\u001b[39m object\u001b[0m\u001b[1m>\u001b[0m\n"
      ]
     },
     "metadata": {},
     "output_type": "display_data"
    },
    {
     "data": {
      "application/javascript": [
       "\n",
       "            setTimeout(function() {\n",
       "                var nbb_cell_id = 71;\n",
       "                var nbb_unformatted_code = \"secop_2\";\n",
       "                var nbb_formatted_code = \"secop_2\";\n",
       "                var nbb_cells = Jupyter.notebook.get_cells();\n",
       "                for (var i = 0; i < nbb_cells.length; ++i) {\n",
       "                    if (nbb_cells[i].input_prompt_number == nbb_cell_id) {\n",
       "                        if (nbb_cells[i].get_text() == nbb_unformatted_code) {\n",
       "                             nbb_cells[i].set_text(nbb_formatted_code);\n",
       "                        }\n",
       "                        break;\n",
       "                    }\n",
       "                }\n",
       "            }, 500);\n",
       "            "
      ]
     },
     "metadata": {},
     "output_type": "display_data"
    }
   ],
   "source": [
    "secop_2['entidad'].apply()"
   ]
  },
  {
   "cell_type": "code",
   "execution_count": null,
   "id": "f2caf3a8",
   "metadata": {},
   "outputs": [],
   "source": []
  },
  {
   "cell_type": "code",
   "execution_count": null,
   "id": "121ee59d",
   "metadata": {},
   "outputs": [],
   "source": []
  },
  {
   "cell_type": "code",
   "execution_count": 69,
   "id": "31e3c555",
   "metadata": {
    "scrolled": false
   },
   "outputs": [
    {
     "data": {
      "text/html": [
       "<pre style=\"white-space:pre;overflow-x:auto;line-height:normal;font-family:Menlo,'DejaVu Sans Mono',consolas,'Courier New',monospace\"><span style=\"color: #008080; text-decoration-color: #008080; font-weight: bold\">901554184</span>\n",
       "</pre>\n"
      ],
      "text/plain": [
       "\u001b[1;36m901554184\u001b[0m\n"
      ]
     },
     "metadata": {},
     "output_type": "display_data"
    },
    {
     "data": {
      "text/html": [
       "<pre style=\"white-space:pre;overflow-x:auto;line-height:normal;font-family:Menlo,'DejaVu Sans Mono',consolas,'Courier New',monospace\"><span style=\"font-weight: bold\">&lt;</span><span style=\"color: #ff00ff; text-decoration-color: #ff00ff; font-weight: bold\">IPython.core.display.Javascript</span><span style=\"color: #000000; text-decoration-color: #000000\"> object</span><span style=\"font-weight: bold\">&gt;</span>\n",
       "</pre>\n"
      ],
      "text/plain": [
       "\u001b[1m<\u001b[0m\u001b[1;95mIPython.core.display.Javascript\u001b[0m\u001b[39m object\u001b[0m\u001b[1m>\u001b[0m\n"
      ]
     },
     "metadata": {},
     "output_type": "display_data"
    },
    {
     "data": {
      "application/javascript": [
       "\n",
       "            setTimeout(function() {\n",
       "                var nbb_cell_id = 69;\n",
       "                var nbb_unformatted_code = \"secop_2[\\\"nit_entidad\\\"].max()\";\n",
       "                var nbb_formatted_code = \"secop_2[\\\"nit_entidad\\\"].max()\";\n",
       "                var nbb_cells = Jupyter.notebook.get_cells();\n",
       "                for (var i = 0; i < nbb_cells.length; ++i) {\n",
       "                    if (nbb_cells[i].input_prompt_number == nbb_cell_id) {\n",
       "                        if (nbb_cells[i].get_text() == nbb_unformatted_code) {\n",
       "                             nbb_cells[i].set_text(nbb_formatted_code);\n",
       "                        }\n",
       "                        break;\n",
       "                    }\n",
       "                }\n",
       "            }, 500);\n",
       "            "
      ]
     },
     "metadata": {},
     "output_type": "display_data"
    }
   ],
   "source": [
    "secop_2[\"nit_entidad\"].max()"
   ]
  },
  {
   "cell_type": "code",
   "execution_count": 70,
   "id": "d9610fd7",
   "metadata": {},
   "outputs": [
    {
     "data": {
      "text/html": [
       "<pre style=\"white-space:pre;overflow-x:auto;line-height:normal;font-family:Menlo,'DejaVu Sans Mono',consolas,'Courier New',monospace\"><span style=\"color: #008080; text-decoration-color: #008080; font-weight: bold\">1</span>\n",
       "</pre>\n"
      ],
      "text/plain": [
       "\u001b[1;36m1\u001b[0m\n"
      ]
     },
     "metadata": {},
     "output_type": "display_data"
    },
    {
     "data": {
      "text/html": [
       "<pre style=\"white-space:pre;overflow-x:auto;line-height:normal;font-family:Menlo,'DejaVu Sans Mono',consolas,'Courier New',monospace\"><span style=\"font-weight: bold\">&lt;</span><span style=\"color: #ff00ff; text-decoration-color: #ff00ff; font-weight: bold\">IPython.core.display.Javascript</span><span style=\"color: #000000; text-decoration-color: #000000\"> object</span><span style=\"font-weight: bold\">&gt;</span>\n",
       "</pre>\n"
      ],
      "text/plain": [
       "\u001b[1m<\u001b[0m\u001b[1;95mIPython.core.display.Javascript\u001b[0m\u001b[39m object\u001b[0m\u001b[1m>\u001b[0m\n"
      ]
     },
     "metadata": {},
     "output_type": "display_data"
    },
    {
     "data": {
      "application/javascript": [
       "\n",
       "            setTimeout(function() {\n",
       "                var nbb_cell_id = 70;\n",
       "                var nbb_unformatted_code = \"secop_2['nit_entidad'].min()\";\n",
       "                var nbb_formatted_code = \"secop_2[\\\"nit_entidad\\\"].min()\";\n",
       "                var nbb_cells = Jupyter.notebook.get_cells();\n",
       "                for (var i = 0; i < nbb_cells.length; ++i) {\n",
       "                    if (nbb_cells[i].input_prompt_number == nbb_cell_id) {\n",
       "                        if (nbb_cells[i].get_text() == nbb_unformatted_code) {\n",
       "                             nbb_cells[i].set_text(nbb_formatted_code);\n",
       "                        }\n",
       "                        break;\n",
       "                    }\n",
       "                }\n",
       "            }, 500);\n",
       "            "
      ]
     },
     "metadata": {},
     "output_type": "display_data"
    }
   ],
   "source": [
    "secop_2[\"nit_entidad\"].min()"
   ]
  },
  {
   "cell_type": "code",
   "execution_count": null,
   "id": "e0d5642f",
   "metadata": {},
   "outputs": [],
   "source": []
  },
  {
   "cell_type": "code",
   "execution_count": null,
   "id": "3e9d7d4b",
   "metadata": {},
   "outputs": [],
   "source": []
  },
  {
   "cell_type": "code",
   "execution_count": null,
   "id": "15fd9d32",
   "metadata": {},
   "outputs": [],
   "source": [
    "x/10"
   ]
  },
  {
   "cell_type": "code",
   "execution_count": null,
   "id": "235b01f8",
   "metadata": {},
   "outputs": [],
   "source": []
  },
  {
   "cell_type": "code",
   "execution_count": null,
   "id": "43513d06",
   "metadata": {},
   "outputs": [],
   "source": []
  },
  {
   "cell_type": "code",
   "execution_count": null,
   "id": "e4795890",
   "metadata": {},
   "outputs": [],
   "source": []
  },
  {
   "cell_type": "code",
   "execution_count": null,
   "id": "26107688",
   "metadata": {},
   "outputs": [],
   "source": []
  },
  {
   "cell_type": "code",
   "execution_count": 5,
   "id": "bf9ac6d5",
   "metadata": {},
   "outputs": [
    {
     "name": "stderr",
     "output_type": "stream",
     "text": [
      "22/08/11 19:40:13 WARN package: Truncated the string representation of a plan since it was too large. This behavior can be adjusted by setting 'spark.sql.debug.maxToStringFields'.\n"
     ]
    },
    {
     "data": {
      "text/html": [
       "<pre style=\"white-space:pre;overflow-x:auto;line-height:normal;font-family:Menlo,'DejaVu Sans Mono',consolas,'Courier New',monospace\">DataFrame<span style=\"font-weight: bold\">[</span>entidad: string, departamento_entidad: string, ciudad_entidad: string, ordenentidad: string, id_del_proceso: string, referencia_del_proceso: string, nombre_del_procedimiento: string, descripci_n_del_procedimiento: string, fase: string, precio_base: string, modalidad_de_contratacion: string, duracion: string, unidad_de_duracion: string, proveedores_invitados: string, proveedores_con_invitacion: string, visualizaciones_del: string, proveedores_que_manifestaron: string, respuestas_al_procedimiento: string, respuestas_externas: string, conteo_de_respuestas_a_ofertas: string, proveedores_unicos_con: string, estado_del_procedimiento: string, adjudicado: string, departamento_proveedor: string, ciudad_proveedor: string, valor_total_adjudicacion: string, nombre_del_adjudicador: string, nombre_del_proveedor: string, nit_del_proveedor_adjudicado: string, tipo_de_contrato: string, subtipo_de_contrato: string, fecha_de_publicacion_del: date, fecha_de_ultima_publicaci: date, fecha_de_publicacion_fase_3: date, fecha_de_recepcion_de: date, fecha_de_apertura_efectiva: date, nit_entidad: bigint<span style=\"font-weight: bold\">]</span>\n",
       "</pre>\n"
      ],
      "text/plain": [
       "DataFrame\u001b[1m[\u001b[0mentidad: string, departamento_entidad: string, ciudad_entidad: string, ordenentidad: string, id_del_proceso: string, referencia_del_proceso: string, nombre_del_procedimiento: string, descripci_n_del_procedimiento: string, fase: string, precio_base: string, modalidad_de_contratacion: string, duracion: string, unidad_de_duracion: string, proveedores_invitados: string, proveedores_con_invitacion: string, visualizaciones_del: string, proveedores_que_manifestaron: string, respuestas_al_procedimiento: string, respuestas_externas: string, conteo_de_respuestas_a_ofertas: string, proveedores_unicos_con: string, estado_del_procedimiento: string, adjudicado: string, departamento_proveedor: string, ciudad_proveedor: string, valor_total_adjudicacion: string, nombre_del_adjudicador: string, nombre_del_proveedor: string, nit_del_proveedor_adjudicado: string, tipo_de_contrato: string, subtipo_de_contrato: string, fecha_de_publicacion_del: date, fecha_de_ultima_publicaci: date, fecha_de_publicacion_fase_3: date, fecha_de_recepcion_de: date, fecha_de_apertura_efectiva: date, nit_entidad: bigint\u001b[1m]\u001b[0m\n"
      ]
     },
     "metadata": {},
     "output_type": "display_data"
    },
    {
     "data": {
      "text/html": [
       "<pre style=\"white-space:pre;overflow-x:auto;line-height:normal;font-family:Menlo,'DejaVu Sans Mono',consolas,'Courier New',monospace\"><span style=\"font-weight: bold\">&lt;</span><span style=\"color: #ff00ff; text-decoration-color: #ff00ff; font-weight: bold\">IPython.core.display.Javascript</span><span style=\"color: #000000; text-decoration-color: #000000\"> object</span><span style=\"font-weight: bold\">&gt;</span>\n",
       "</pre>\n"
      ],
      "text/plain": [
       "\u001b[1m<\u001b[0m\u001b[1;95mIPython.core.display.Javascript\u001b[0m\u001b[39m object\u001b[0m\u001b[1m>\u001b[0m\n"
      ]
     },
     "metadata": {},
     "output_type": "display_data"
    },
    {
     "data": {
      "application/javascript": [
       "\n",
       "            setTimeout(function() {\n",
       "                var nbb_cell_id = 5;\n",
       "                var nbb_unformatted_code = \"secop_2.cache()\";\n",
       "                var nbb_formatted_code = \"secop_2.cache()\";\n",
       "                var nbb_cells = Jupyter.notebook.get_cells();\n",
       "                for (var i = 0; i < nbb_cells.length; ++i) {\n",
       "                    if (nbb_cells[i].input_prompt_number == nbb_cell_id) {\n",
       "                        if (nbb_cells[i].get_text() == nbb_unformatted_code) {\n",
       "                             nbb_cells[i].set_text(nbb_formatted_code);\n",
       "                        }\n",
       "                        break;\n",
       "                    }\n",
       "                }\n",
       "            }, 500);\n",
       "            "
      ]
     },
     "metadata": {},
     "output_type": "display_data"
    }
   ],
   "source": [
    "secop_2.cache()"
   ]
  },
  {
   "cell_type": "code",
   "execution_count": null,
   "id": "c2d78eaf",
   "metadata": {},
   "outputs": [],
   "source": [
    "secop_2_df = secop_2.toPandas()"
   ]
  },
  {
   "cell_type": "code",
   "execution_count": 16,
   "id": "ecfe0579",
   "metadata": {},
   "outputs": [
    {
     "data": {
      "text/html": [
       "<pre style=\"white-space:pre;overflow-x:auto;line-height:normal;font-family:Menlo,'DejaVu Sans Mono',consolas,'Courier New',monospace\"><span style=\"font-weight: bold\">&lt;</span><span style=\"color: #ff00ff; text-decoration-color: #ff00ff; font-weight: bold\">IPython.core.display.Javascript</span><span style=\"color: #000000; text-decoration-color: #000000\"> object</span><span style=\"font-weight: bold\">&gt;</span>\n",
       "</pre>\n"
      ],
      "text/plain": [
       "\u001b[1m<\u001b[0m\u001b[1;95mIPython.core.display.Javascript\u001b[0m\u001b[39m object\u001b[0m\u001b[1m>\u001b[0m\n"
      ]
     },
     "metadata": {},
     "output_type": "display_data"
    },
    {
     "data": {
      "application/javascript": [
       "\n",
       "            setTimeout(function() {\n",
       "                var nbb_cell_id = 16;\n",
       "                var nbb_unformatted_code = \"columnList = [item[0] for item in secop_2.dtypes if item[1].startswith('string')]\";\n",
       "                var nbb_formatted_code = \"columnList = [item[0] for item in secop_2.dtypes if item[1].startswith(\\\"string\\\")]\";\n",
       "                var nbb_cells = Jupyter.notebook.get_cells();\n",
       "                for (var i = 0; i < nbb_cells.length; ++i) {\n",
       "                    if (nbb_cells[i].input_prompt_number == nbb_cell_id) {\n",
       "                        if (nbb_cells[i].get_text() == nbb_unformatted_code) {\n",
       "                             nbb_cells[i].set_text(nbb_formatted_code);\n",
       "                        }\n",
       "                        break;\n",
       "                    }\n",
       "                }\n",
       "            }, 500);\n",
       "            "
      ]
     },
     "metadata": {},
     "output_type": "display_data"
    }
   ],
   "source": [
    "columnList = [item[0] for item in secop_2.dtypes if item[1].startswith(\"string\")]"
   ]
  },
  {
   "cell_type": "code",
   "execution_count": 17,
   "id": "161e36c6",
   "metadata": {},
   "outputs": [
    {
     "data": {
      "text/html": [
       "<pre style=\"white-space:pre;overflow-x:auto;line-height:normal;font-family:Menlo,'DejaVu Sans Mono',consolas,'Courier New',monospace\">\n",
       "<span style=\"font-weight: bold\">[</span>\n",
       "    <span style=\"color: #008000; text-decoration-color: #008000\">'entidad'</span>,\n",
       "    <span style=\"color: #008000; text-decoration-color: #008000\">'departamento_entidad'</span>,\n",
       "    <span style=\"color: #008000; text-decoration-color: #008000\">'ciudad_entidad'</span>,\n",
       "    <span style=\"color: #008000; text-decoration-color: #008000\">'ordenentidad'</span>,\n",
       "    <span style=\"color: #008000; text-decoration-color: #008000\">'codigo_pci'</span>,\n",
       "    <span style=\"color: #008000; text-decoration-color: #008000\">'id_del_proceso'</span>,\n",
       "    <span style=\"color: #008000; text-decoration-color: #008000\">'referencia_del_proceso'</span>,\n",
       "    <span style=\"color: #008000; text-decoration-color: #008000\">'ppi'</span>,\n",
       "    <span style=\"color: #008000; text-decoration-color: #008000\">'nombre_del_procedimiento'</span>,\n",
       "    <span style=\"color: #008000; text-decoration-color: #008000\">'descripci_n_del_procedimiento'</span>,\n",
       "    <span style=\"color: #008000; text-decoration-color: #008000\">'fase'</span>,\n",
       "    <span style=\"color: #008000; text-decoration-color: #008000\">'precio_base'</span>,\n",
       "    <span style=\"color: #008000; text-decoration-color: #008000\">'modalidad_de_contratacion'</span>,\n",
       "    <span style=\"color: #008000; text-decoration-color: #008000\">'duracion'</span>,\n",
       "    <span style=\"color: #008000; text-decoration-color: #008000\">'unidad_de_duracion'</span>,\n",
       "    <span style=\"color: #008000; text-decoration-color: #008000\">'ciudad_de_la_unidad_de'</span>,\n",
       "    <span style=\"color: #008000; text-decoration-color: #008000\">'nombre_de_la_unidad_de'</span>,\n",
       "    <span style=\"color: #008000; text-decoration-color: #008000\">'proveedores_invitados'</span>,\n",
       "    <span style=\"color: #008000; text-decoration-color: #008000\">'proveedores_con_invitacion'</span>,\n",
       "    <span style=\"color: #008000; text-decoration-color: #008000\">'visualizaciones_del'</span>,\n",
       "    <span style=\"color: #008000; text-decoration-color: #008000\">'proveedores_que_manifestaron'</span>,\n",
       "    <span style=\"color: #008000; text-decoration-color: #008000\">'respuestas_al_procedimiento'</span>,\n",
       "    <span style=\"color: #008000; text-decoration-color: #008000\">'respuestas_externas'</span>,\n",
       "    <span style=\"color: #008000; text-decoration-color: #008000\">'conteo_de_respuestas_a_ofertas'</span>,\n",
       "    <span style=\"color: #008000; text-decoration-color: #008000\">'proveedores_unicos_con'</span>,\n",
       "    <span style=\"color: #008000; text-decoration-color: #008000\">'estado_del_procedimiento'</span>,\n",
       "    <span style=\"color: #008000; text-decoration-color: #008000\">'id_estado_del_procedimiento'</span>,\n",
       "    <span style=\"color: #008000; text-decoration-color: #008000\">'adjudicado'</span>,\n",
       "    <span style=\"color: #008000; text-decoration-color: #008000\">'id_adjudicacion'</span>,\n",
       "    <span style=\"color: #008000; text-decoration-color: #008000\">'codigoproveedor'</span>,\n",
       "    <span style=\"color: #008000; text-decoration-color: #008000\">'departamento_proveedor'</span>,\n",
       "    <span style=\"color: #008000; text-decoration-color: #008000\">'ciudad_proveedor'</span>,\n",
       "    <span style=\"color: #008000; text-decoration-color: #008000\">'valor_total_adjudicacion'</span>,\n",
       "    <span style=\"color: #008000; text-decoration-color: #008000\">'nombre_del_adjudicador'</span>,\n",
       "    <span style=\"color: #008000; text-decoration-color: #008000\">'nombre_del_proveedor'</span>,\n",
       "    <span style=\"color: #008000; text-decoration-color: #008000\">'nit_del_proveedor_adjudicado'</span>,\n",
       "    <span style=\"color: #008000; text-decoration-color: #008000\">'codigo_principal_de_categoria'</span>,\n",
       "    <span style=\"color: #008000; text-decoration-color: #008000\">'estado_de_apertura_del_proceso'</span>,\n",
       "    <span style=\"color: #008000; text-decoration-color: #008000\">'tipo_de_contrato'</span>,\n",
       "    <span style=\"color: #008000; text-decoration-color: #008000\">'subtipo_de_contrato'</span>,\n",
       "    <span style=\"color: #008000; text-decoration-color: #008000\">'categorias_adicionales'</span>,\n",
       "    <span style=\"color: #008000; text-decoration-color: #008000\">'codigo_entidad'</span>,\n",
       "    <span style=\"color: #008000; text-decoration-color: #008000\">'estadoresumen'</span>,\n",
       "    <span style=\"color: #008000; text-decoration-color: #008000\">'fecha_de_publicacion_del'</span>,\n",
       "    <span style=\"color: #008000; text-decoration-color: #008000\">'fecha_de_ultima_publicaci'</span>,\n",
       "    <span style=\"color: #008000; text-decoration-color: #008000\">'fecha_de_publicacion_fase_3'</span>,\n",
       "    <span style=\"color: #008000; text-decoration-color: #008000\">'fecha_de_recepcion_de'</span>,\n",
       "    <span style=\"color: #008000; text-decoration-color: #008000\">'fecha_de_apertura_efectiva'</span>\n",
       "<span style=\"font-weight: bold\">]</span>\n",
       "</pre>\n"
      ],
      "text/plain": [
       "\n",
       "\u001b[1m[\u001b[0m\n",
       "    \u001b[32m'entidad'\u001b[0m,\n",
       "    \u001b[32m'departamento_entidad'\u001b[0m,\n",
       "    \u001b[32m'ciudad_entidad'\u001b[0m,\n",
       "    \u001b[32m'ordenentidad'\u001b[0m,\n",
       "    \u001b[32m'codigo_pci'\u001b[0m,\n",
       "    \u001b[32m'id_del_proceso'\u001b[0m,\n",
       "    \u001b[32m'referencia_del_proceso'\u001b[0m,\n",
       "    \u001b[32m'ppi'\u001b[0m,\n",
       "    \u001b[32m'nombre_del_procedimiento'\u001b[0m,\n",
       "    \u001b[32m'descripci_n_del_procedimiento'\u001b[0m,\n",
       "    \u001b[32m'fase'\u001b[0m,\n",
       "    \u001b[32m'precio_base'\u001b[0m,\n",
       "    \u001b[32m'modalidad_de_contratacion'\u001b[0m,\n",
       "    \u001b[32m'duracion'\u001b[0m,\n",
       "    \u001b[32m'unidad_de_duracion'\u001b[0m,\n",
       "    \u001b[32m'ciudad_de_la_unidad_de'\u001b[0m,\n",
       "    \u001b[32m'nombre_de_la_unidad_de'\u001b[0m,\n",
       "    \u001b[32m'proveedores_invitados'\u001b[0m,\n",
       "    \u001b[32m'proveedores_con_invitacion'\u001b[0m,\n",
       "    \u001b[32m'visualizaciones_del'\u001b[0m,\n",
       "    \u001b[32m'proveedores_que_manifestaron'\u001b[0m,\n",
       "    \u001b[32m'respuestas_al_procedimiento'\u001b[0m,\n",
       "    \u001b[32m'respuestas_externas'\u001b[0m,\n",
       "    \u001b[32m'conteo_de_respuestas_a_ofertas'\u001b[0m,\n",
       "    \u001b[32m'proveedores_unicos_con'\u001b[0m,\n",
       "    \u001b[32m'estado_del_procedimiento'\u001b[0m,\n",
       "    \u001b[32m'id_estado_del_procedimiento'\u001b[0m,\n",
       "    \u001b[32m'adjudicado'\u001b[0m,\n",
       "    \u001b[32m'id_adjudicacion'\u001b[0m,\n",
       "    \u001b[32m'codigoproveedor'\u001b[0m,\n",
       "    \u001b[32m'departamento_proveedor'\u001b[0m,\n",
       "    \u001b[32m'ciudad_proveedor'\u001b[0m,\n",
       "    \u001b[32m'valor_total_adjudicacion'\u001b[0m,\n",
       "    \u001b[32m'nombre_del_adjudicador'\u001b[0m,\n",
       "    \u001b[32m'nombre_del_proveedor'\u001b[0m,\n",
       "    \u001b[32m'nit_del_proveedor_adjudicado'\u001b[0m,\n",
       "    \u001b[32m'codigo_principal_de_categoria'\u001b[0m,\n",
       "    \u001b[32m'estado_de_apertura_del_proceso'\u001b[0m,\n",
       "    \u001b[32m'tipo_de_contrato'\u001b[0m,\n",
       "    \u001b[32m'subtipo_de_contrato'\u001b[0m,\n",
       "    \u001b[32m'categorias_adicionales'\u001b[0m,\n",
       "    \u001b[32m'codigo_entidad'\u001b[0m,\n",
       "    \u001b[32m'estadoresumen'\u001b[0m,\n",
       "    \u001b[32m'fecha_de_publicacion_del'\u001b[0m,\n",
       "    \u001b[32m'fecha_de_ultima_publicaci'\u001b[0m,\n",
       "    \u001b[32m'fecha_de_publicacion_fase_3'\u001b[0m,\n",
       "    \u001b[32m'fecha_de_recepcion_de'\u001b[0m,\n",
       "    \u001b[32m'fecha_de_apertura_efectiva'\u001b[0m\n",
       "\u001b[1m]\u001b[0m\n"
      ]
     },
     "metadata": {},
     "output_type": "display_data"
    },
    {
     "data": {
      "text/html": [
       "<pre style=\"white-space:pre;overflow-x:auto;line-height:normal;font-family:Menlo,'DejaVu Sans Mono',consolas,'Courier New',monospace\"><span style=\"font-weight: bold\">&lt;</span><span style=\"color: #ff00ff; text-decoration-color: #ff00ff; font-weight: bold\">IPython.core.display.Javascript</span><span style=\"color: #000000; text-decoration-color: #000000\"> object</span><span style=\"font-weight: bold\">&gt;</span>\n",
       "</pre>\n"
      ],
      "text/plain": [
       "\u001b[1m<\u001b[0m\u001b[1;95mIPython.core.display.Javascript\u001b[0m\u001b[39m object\u001b[0m\u001b[1m>\u001b[0m\n"
      ]
     },
     "metadata": {},
     "output_type": "display_data"
    },
    {
     "data": {
      "application/javascript": [
       "\n",
       "            setTimeout(function() {\n",
       "                var nbb_cell_id = 17;\n",
       "                var nbb_unformatted_code = \"columnList\";\n",
       "                var nbb_formatted_code = \"columnList\";\n",
       "                var nbb_cells = Jupyter.notebook.get_cells();\n",
       "                for (var i = 0; i < nbb_cells.length; ++i) {\n",
       "                    if (nbb_cells[i].input_prompt_number == nbb_cell_id) {\n",
       "                        if (nbb_cells[i].get_text() == nbb_unformatted_code) {\n",
       "                             nbb_cells[i].set_text(nbb_formatted_code);\n",
       "                        }\n",
       "                        break;\n",
       "                    }\n",
       "                }\n",
       "            }, 500);\n",
       "            "
      ]
     },
     "metadata": {},
     "output_type": "display_data"
    }
   ],
   "source": [
    "columnList"
   ]
  },
  {
   "cell_type": "code",
   "execution_count": 15,
   "id": "db1e7c34",
   "metadata": {
    "scrolled": true
   },
   "outputs": [
    {
     "data": {
      "text/html": [
       "<pre style=\"white-space:pre;overflow-x:auto;line-height:normal;font-family:Menlo,'DejaVu Sans Mono',consolas,'Courier New',monospace\"><span style=\"color: #800080; text-decoration-color: #800080; font-weight: bold\">StructType</span><span style=\"font-weight: bold\">(</span><span style=\"color: #800080; text-decoration-color: #800080; font-weight: bold\">List</span><span style=\"font-weight: bold\">(</span><span style=\"color: #800080; text-decoration-color: #800080; font-weight: bold\">StructField</span><span style=\"font-weight: bold\">(</span>entidad,StringType,true<span style=\"font-weight: bold\">)</span>,<span style=\"color: #800080; text-decoration-color: #800080; font-weight: bold\">StructField</span><span style=\"font-weight: bold\">(</span>departamento_entidad,StringType,true<span style=\"font-weight: bold\">)</span>,<span style=\"color: #800080; text-decoration-color: #800080; font-weight: bold\">StructField</span><span style=\"font-weight: bold\">(</span>ciudad_entidad,StringType,true<span style=\"font-weight: bold\">)</span>,<span style=\"color: #800080; text-decoration-color: #800080; font-weight: bold\">StructField</span><span style=\"font-weight: bold\">(</span>ordenentidad,StringType,true<span style=\"font-weight: bold\">)</span>,<span style=\"color: #800080; text-decoration-color: #800080; font-weight: bold\">StructField</span><span style=\"font-weight: bold\">(</span>codigo_pci,StringType,true<span style=\"font-weight: bold\">)</span>,<span style=\"color: #800080; text-decoration-color: #800080; font-weight: bold\">StructField</span><span style=\"font-weight: bold\">(</span>id_del_proceso,StringType,true<span style=\"font-weight: bold\">)</span>,<span style=\"color: #800080; text-decoration-color: #800080; font-weight: bold\">StructField</span><span style=\"font-weight: bold\">(</span>referencia_del_proceso,StringType,true<span style=\"font-weight: bold\">)</span>,<span style=\"color: #800080; text-decoration-color: #800080; font-weight: bold\">StructField</span><span style=\"font-weight: bold\">(</span>ppi,StringType,true<span style=\"font-weight: bold\">)</span>,<span style=\"color: #800080; text-decoration-color: #800080; font-weight: bold\">StructField</span><span style=\"font-weight: bold\">(</span>nombre_del_procedimiento,StringType,true<span style=\"font-weight: bold\">)</span>,<span style=\"color: #800080; text-decoration-color: #800080; font-weight: bold\">StructField</span><span style=\"font-weight: bold\">(</span>descripci_n_del_procedimiento,StringType,true<span style=\"font-weight: bold\">)</span>,<span style=\"color: #800080; text-decoration-color: #800080; font-weight: bold\">StructField</span><span style=\"font-weight: bold\">(</span>fase,StringType,true<span style=\"font-weight: bold\">)</span>,<span style=\"color: #800080; text-decoration-color: #800080; font-weight: bold\">StructField</span><span style=\"font-weight: bold\">(</span>precio_base,StringType,true<span style=\"font-weight: bold\">)</span>,<span style=\"color: #800080; text-decoration-color: #800080; font-weight: bold\">StructField</span><span style=\"font-weight: bold\">(</span>modalidad_de_contratacion,StringType,true<span style=\"font-weight: bold\">)</span>,<span style=\"color: #800080; text-decoration-color: #800080; font-weight: bold\">StructField</span><span style=\"font-weight: bold\">(</span>duracion,StringType,true<span style=\"font-weight: bold\">)</span>,<span style=\"color: #800080; text-decoration-color: #800080; font-weight: bold\">StructField</span><span style=\"font-weight: bold\">(</span>unidad_de_duracion,StringType,true<span style=\"font-weight: bold\">)</span>,<span style=\"color: #800080; text-decoration-color: #800080; font-weight: bold\">StructField</span><span style=\"font-weight: bold\">(</span>ciudad_de_la_unidad_de,StringType,true<span style=\"font-weight: bold\">)</span>,<span style=\"color: #800080; text-decoration-color: #800080; font-weight: bold\">StructField</span><span style=\"font-weight: bold\">(</span>nombre_de_la_unidad_de,StringType,true<span style=\"font-weight: bold\">)</span>,<span style=\"color: #800080; text-decoration-color: #800080; font-weight: bold\">StructField</span><span style=\"font-weight: bold\">(</span>proveedores_invitados,StringType,true<span style=\"font-weight: bold\">)</span>,<span style=\"color: #800080; text-decoration-color: #800080; font-weight: bold\">StructField</span><span style=\"font-weight: bold\">(</span>proveedores_con_invitacion,StringType,true<span style=\"font-weight: bold\">)</span>,<span style=\"color: #800080; text-decoration-color: #800080; font-weight: bold\">StructField</span><span style=\"font-weight: bold\">(</span>visualizaciones_del,StringType,true<span style=\"font-weight: bold\">)</span>,<span style=\"color: #800080; text-decoration-color: #800080; font-weight: bold\">StructField</span><span style=\"font-weight: bold\">(</span>proveedores_que_manifestaron,StringType,true<span style=\"font-weight: bold\">)</span>,<span style=\"color: #800080; text-decoration-color: #800080; font-weight: bold\">StructField</span><span style=\"font-weight: bold\">(</span>respuestas_al_procedimiento,StringType,true<span style=\"font-weight: bold\">)</span>,<span style=\"color: #800080; text-decoration-color: #800080; font-weight: bold\">StructField</span><span style=\"font-weight: bold\">(</span>respuestas_externas,StringType,true<span style=\"font-weight: bold\">)</span>,<span style=\"color: #800080; text-decoration-color: #800080; font-weight: bold\">StructField</span><span style=\"font-weight: bold\">(</span>conteo_de_respuestas_a_ofertas,StringType,true<span style=\"font-weight: bold\">)</span>,<span style=\"color: #800080; text-decoration-color: #800080; font-weight: bold\">StructField</span><span style=\"font-weight: bold\">(</span>proveedores_unicos_con,StringType,true<span style=\"font-weight: bold\">)</span>,<span style=\"color: #800080; text-decoration-color: #800080; font-weight: bold\">StructField</span><span style=\"font-weight: bold\">(</span>estado_del_procedimiento,StringType,true<span style=\"font-weight: bold\">)</span>,<span style=\"color: #800080; text-decoration-color: #800080; font-weight: bold\">StructField</span><span style=\"font-weight: bold\">(</span>id_estado_del_procedimiento,StringType,true<span style=\"font-weight: bold\">)</span>,<span style=\"color: #800080; text-decoration-color: #800080; font-weight: bold\">StructField</span><span style=\"font-weight: bold\">(</span>adjudicado,StringType,true<span style=\"font-weight: bold\">)</span>,<span style=\"color: #800080; text-decoration-color: #800080; font-weight: bold\">StructField</span><span style=\"font-weight: bold\">(</span>id_adjudicacion,StringType,true<span style=\"font-weight: bold\">)</span>,<span style=\"color: #800080; text-decoration-color: #800080; font-weight: bold\">StructField</span><span style=\"font-weight: bold\">(</span>codigoproveedor,StringType,true<span style=\"font-weight: bold\">)</span>,<span style=\"color: #800080; text-decoration-color: #800080; font-weight: bold\">StructField</span><span style=\"font-weight: bold\">(</span>departamento_proveedor,StringType,true<span style=\"font-weight: bold\">)</span>,<span style=\"color: #800080; text-decoration-color: #800080; font-weight: bold\">StructField</span><span style=\"font-weight: bold\">(</span>ciudad_proveedor,StringType,true<span style=\"font-weight: bold\">)</span>,<span style=\"color: #800080; text-decoration-color: #800080; font-weight: bold\">StructField</span><span style=\"font-weight: bold\">(</span>valor_total_adjudicacion,StringType,true<span style=\"font-weight: bold\">)</span>,<span style=\"color: #800080; text-decoration-color: #800080; font-weight: bold\">StructField</span><span style=\"font-weight: bold\">(</span>nombre_del_adjudicador,StringType,true<span style=\"font-weight: bold\">)</span>,<span style=\"color: #800080; text-decoration-color: #800080; font-weight: bold\">StructField</span><span style=\"font-weight: bold\">(</span>nombre_del_proveedor,StringType,true<span style=\"font-weight: bold\">)</span>,<span style=\"color: #800080; text-decoration-color: #800080; font-weight: bold\">StructField</span><span style=\"font-weight: bold\">(</span>nit_del_proveedor_adjudicado,StringType,true<span style=\"font-weight: bold\">)</span>,<span style=\"color: #800080; text-decoration-color: #800080; font-weight: bold\">StructField</span><span style=\"font-weight: bold\">(</span>codigo_principal_de_categoria,StringType,true<span style=\"font-weight: bold\">)</span>,<span style=\"color: #800080; text-decoration-color: #800080; font-weight: bold\">StructField</span><span style=\"font-weight: bold\">(</span>estado_de_apertura_del_proceso,StringType,true<span style=\"font-weight: bold\">)</span>,<span style=\"color: #800080; text-decoration-color: #800080; font-weight: bold\">StructField</span><span style=\"font-weight: bold\">(</span>tipo_de_contrato,StringType,true<span style=\"font-weight: bold\">)</span>,<span style=\"color: #800080; text-decoration-color: #800080; font-weight: bold\">StructField</span><span style=\"font-weight: bold\">(</span>subtipo_de_contrato,StringType,true<span style=\"font-weight: bold\">)</span>,<span style=\"color: #800080; text-decoration-color: #800080; font-weight: bold\">StructField</span><span style=\"font-weight: bold\">(</span>categorias_adicionales,StringType,true<span style=\"font-weight: bold\">)</span>,<span style=\"color: #800080; text-decoration-color: #800080; font-weight: bold\">StructField</span><span style=\"font-weight: bold\">(</span>codigo_entidad,StringType,true<span style=\"font-weight: bold\">)</span>,<span style=\"color: #800080; text-decoration-color: #800080; font-weight: bold\">StructField</span><span style=\"font-weight: bold\">(</span>estadoresumen,StringType,true<span style=\"font-weight: bold\">)</span>,<span style=\"color: #800080; text-decoration-color: #800080; font-weight: bold\">StructField</span><span style=\"font-weight: bold\">(</span>fecha_de_publicacion_del,StringType,true<span style=\"font-weight: bold\">)</span>,<span style=\"color: #800080; text-decoration-color: #800080; font-weight: bold\">StructField</span><span style=\"font-weight: bold\">(</span>fecha_de_ultima_publicaci,StringType,true<span style=\"font-weight: bold\">)</span>,<span style=\"color: #800080; text-decoration-color: #800080; font-weight: bold\">StructField</span><span style=\"font-weight: bold\">(</span>fecha_de_publicacion_fase_3,StringType,true<span style=\"font-weight: bold\">)</span>,<span style=\"color: #800080; text-decoration-color: #800080; font-weight: bold\">StructField</span><span style=\"font-weight: bold\">(</span>fecha_de_recepcion_de,StringType,true<span style=\"font-weight: bold\">)</span>,<span style=\"color: #800080; text-decoration-color: #800080; font-weight: bold\">StructField</span><span style=\"font-weight: bold\">(</span>fecha_de_apertura_efectiva,StringType,true<span style=\"font-weight: bold\">)</span>,<span style=\"color: #800080; text-decoration-color: #800080; font-weight: bold\">StructField</span><span style=\"font-weight: bold\">(</span>nit_entidad,LongType,true<span style=\"font-weight: bold\">)))</span>\n",
       "</pre>\n"
      ],
      "text/plain": [
       "\u001b[1;35mStructType\u001b[0m\u001b[1m(\u001b[0m\u001b[1;35mList\u001b[0m\u001b[1m(\u001b[0m\u001b[1;35mStructField\u001b[0m\u001b[1m(\u001b[0mentidad,StringType,true\u001b[1m)\u001b[0m,\u001b[1;35mStructField\u001b[0m\u001b[1m(\u001b[0mdepartamento_entidad,StringType,true\u001b[1m)\u001b[0m,\u001b[1;35mStructField\u001b[0m\u001b[1m(\u001b[0mciudad_entidad,StringType,true\u001b[1m)\u001b[0m,\u001b[1;35mStructField\u001b[0m\u001b[1m(\u001b[0mordenentidad,StringType,true\u001b[1m)\u001b[0m,\u001b[1;35mStructField\u001b[0m\u001b[1m(\u001b[0mcodigo_pci,StringType,true\u001b[1m)\u001b[0m,\u001b[1;35mStructField\u001b[0m\u001b[1m(\u001b[0mid_del_proceso,StringType,true\u001b[1m)\u001b[0m,\u001b[1;35mStructField\u001b[0m\u001b[1m(\u001b[0mreferencia_del_proceso,StringType,true\u001b[1m)\u001b[0m,\u001b[1;35mStructField\u001b[0m\u001b[1m(\u001b[0mppi,StringType,true\u001b[1m)\u001b[0m,\u001b[1;35mStructField\u001b[0m\u001b[1m(\u001b[0mnombre_del_procedimiento,StringType,true\u001b[1m)\u001b[0m,\u001b[1;35mStructField\u001b[0m\u001b[1m(\u001b[0mdescripci_n_del_procedimiento,StringType,true\u001b[1m)\u001b[0m,\u001b[1;35mStructField\u001b[0m\u001b[1m(\u001b[0mfase,StringType,true\u001b[1m)\u001b[0m,\u001b[1;35mStructField\u001b[0m\u001b[1m(\u001b[0mprecio_base,StringType,true\u001b[1m)\u001b[0m,\u001b[1;35mStructField\u001b[0m\u001b[1m(\u001b[0mmodalidad_de_contratacion,StringType,true\u001b[1m)\u001b[0m,\u001b[1;35mStructField\u001b[0m\u001b[1m(\u001b[0mduracion,StringType,true\u001b[1m)\u001b[0m,\u001b[1;35mStructField\u001b[0m\u001b[1m(\u001b[0munidad_de_duracion,StringType,true\u001b[1m)\u001b[0m,\u001b[1;35mStructField\u001b[0m\u001b[1m(\u001b[0mciudad_de_la_unidad_de,StringType,true\u001b[1m)\u001b[0m,\u001b[1;35mStructField\u001b[0m\u001b[1m(\u001b[0mnombre_de_la_unidad_de,StringType,true\u001b[1m)\u001b[0m,\u001b[1;35mStructField\u001b[0m\u001b[1m(\u001b[0mproveedores_invitados,StringType,true\u001b[1m)\u001b[0m,\u001b[1;35mStructField\u001b[0m\u001b[1m(\u001b[0mproveedores_con_invitacion,StringType,true\u001b[1m)\u001b[0m,\u001b[1;35mStructField\u001b[0m\u001b[1m(\u001b[0mvisualizaciones_del,StringType,true\u001b[1m)\u001b[0m,\u001b[1;35mStructField\u001b[0m\u001b[1m(\u001b[0mproveedores_que_manifestaron,StringType,true\u001b[1m)\u001b[0m,\u001b[1;35mStructField\u001b[0m\u001b[1m(\u001b[0mrespuestas_al_procedimiento,StringType,true\u001b[1m)\u001b[0m,\u001b[1;35mStructField\u001b[0m\u001b[1m(\u001b[0mrespuestas_externas,StringType,true\u001b[1m)\u001b[0m,\u001b[1;35mStructField\u001b[0m\u001b[1m(\u001b[0mconteo_de_respuestas_a_ofertas,StringType,true\u001b[1m)\u001b[0m,\u001b[1;35mStructField\u001b[0m\u001b[1m(\u001b[0mproveedores_unicos_con,StringType,true\u001b[1m)\u001b[0m,\u001b[1;35mStructField\u001b[0m\u001b[1m(\u001b[0mestado_del_procedimiento,StringType,true\u001b[1m)\u001b[0m,\u001b[1;35mStructField\u001b[0m\u001b[1m(\u001b[0mid_estado_del_procedimiento,StringType,true\u001b[1m)\u001b[0m,\u001b[1;35mStructField\u001b[0m\u001b[1m(\u001b[0madjudicado,StringType,true\u001b[1m)\u001b[0m,\u001b[1;35mStructField\u001b[0m\u001b[1m(\u001b[0mid_adjudicacion,StringType,true\u001b[1m)\u001b[0m,\u001b[1;35mStructField\u001b[0m\u001b[1m(\u001b[0mcodigoproveedor,StringType,true\u001b[1m)\u001b[0m,\u001b[1;35mStructField\u001b[0m\u001b[1m(\u001b[0mdepartamento_proveedor,StringType,true\u001b[1m)\u001b[0m,\u001b[1;35mStructField\u001b[0m\u001b[1m(\u001b[0mciudad_proveedor,StringType,true\u001b[1m)\u001b[0m,\u001b[1;35mStructField\u001b[0m\u001b[1m(\u001b[0mvalor_total_adjudicacion,StringType,true\u001b[1m)\u001b[0m,\u001b[1;35mStructField\u001b[0m\u001b[1m(\u001b[0mnombre_del_adjudicador,StringType,true\u001b[1m)\u001b[0m,\u001b[1;35mStructField\u001b[0m\u001b[1m(\u001b[0mnombre_del_proveedor,StringType,true\u001b[1m)\u001b[0m,\u001b[1;35mStructField\u001b[0m\u001b[1m(\u001b[0mnit_del_proveedor_adjudicado,StringType,true\u001b[1m)\u001b[0m,\u001b[1;35mStructField\u001b[0m\u001b[1m(\u001b[0mcodigo_principal_de_categoria,StringType,true\u001b[1m)\u001b[0m,\u001b[1;35mStructField\u001b[0m\u001b[1m(\u001b[0mestado_de_apertura_del_proceso,StringType,true\u001b[1m)\u001b[0m,\u001b[1;35mStructField\u001b[0m\u001b[1m(\u001b[0mtipo_de_contrato,StringType,true\u001b[1m)\u001b[0m,\u001b[1;35mStructField\u001b[0m\u001b[1m(\u001b[0msubtipo_de_contrato,StringType,true\u001b[1m)\u001b[0m,\u001b[1;35mStructField\u001b[0m\u001b[1m(\u001b[0mcategorias_adicionales,StringType,true\u001b[1m)\u001b[0m,\u001b[1;35mStructField\u001b[0m\u001b[1m(\u001b[0mcodigo_entidad,StringType,true\u001b[1m)\u001b[0m,\u001b[1;35mStructField\u001b[0m\u001b[1m(\u001b[0mestadoresumen,StringType,true\u001b[1m)\u001b[0m,\u001b[1;35mStructField\u001b[0m\u001b[1m(\u001b[0mfecha_de_publicacion_del,StringType,true\u001b[1m)\u001b[0m,\u001b[1;35mStructField\u001b[0m\u001b[1m(\u001b[0mfecha_de_ultima_publicaci,StringType,true\u001b[1m)\u001b[0m,\u001b[1;35mStructField\u001b[0m\u001b[1m(\u001b[0mfecha_de_publicacion_fase_3,StringType,true\u001b[1m)\u001b[0m,\u001b[1;35mStructField\u001b[0m\u001b[1m(\u001b[0mfecha_de_recepcion_de,StringType,true\u001b[1m)\u001b[0m,\u001b[1;35mStructField\u001b[0m\u001b[1m(\u001b[0mfecha_de_apertura_efectiva,StringType,true\u001b[1m)\u001b[0m,\u001b[1;35mStructField\u001b[0m\u001b[1m(\u001b[0mnit_entidad,LongType,true\u001b[1m)\u001b[0m\u001b[1m)\u001b[0m\u001b[1m)\u001b[0m\n"
      ]
     },
     "metadata": {},
     "output_type": "display_data"
    },
    {
     "data": {
      "text/html": [
       "<pre style=\"white-space:pre;overflow-x:auto;line-height:normal;font-family:Menlo,'DejaVu Sans Mono',consolas,'Courier New',monospace\"><span style=\"font-weight: bold\">&lt;</span><span style=\"color: #ff00ff; text-decoration-color: #ff00ff; font-weight: bold\">IPython.core.display.Javascript</span><span style=\"color: #000000; text-decoration-color: #000000\"> object</span><span style=\"font-weight: bold\">&gt;</span>\n",
       "</pre>\n"
      ],
      "text/plain": [
       "\u001b[1m<\u001b[0m\u001b[1;95mIPython.core.display.Javascript\u001b[0m\u001b[39m object\u001b[0m\u001b[1m>\u001b[0m\n"
      ]
     },
     "metadata": {},
     "output_type": "display_data"
    },
    {
     "data": {
      "application/javascript": [
       "\n",
       "            setTimeout(function() {\n",
       "                var nbb_cell_id = 15;\n",
       "                var nbb_unformatted_code = \"secop_2.schema\";\n",
       "                var nbb_formatted_code = \"secop_2.schema\";\n",
       "                var nbb_cells = Jupyter.notebook.get_cells();\n",
       "                for (var i = 0; i < nbb_cells.length; ++i) {\n",
       "                    if (nbb_cells[i].input_prompt_number == nbb_cell_id) {\n",
       "                        if (nbb_cells[i].get_text() == nbb_unformatted_code) {\n",
       "                             nbb_cells[i].set_text(nbb_formatted_code);\n",
       "                        }\n",
       "                        break;\n",
       "                    }\n",
       "                }\n",
       "            }, 500);\n",
       "            "
      ]
     },
     "metadata": {},
     "output_type": "display_data"
    }
   ],
   "source": [
    "secop_2.schema"
   ]
  },
  {
   "cell_type": "code",
   "execution_count": 13,
   "id": "53813ab3",
   "metadata": {},
   "outputs": [
    {
     "name": "stderr",
     "output_type": "stream",
     "text": [
      "[Stage 4:======================================================>(225 + 2) / 227]\r"
     ]
    },
    {
     "name": "stdout",
     "output_type": "stream",
     "text": [
      "+--------------------+-----+\n",
      "|             entidad|count|\n",
      "+--------------------+-----+\n",
      "|FONDO FINANCIERO ...| 8215|\n",
      "|INSTITUTO NACIONA...|11008|\n",
      "|ALCALDIA MUNICIPA...|10610|\n",
      "|GOBIERNO DEPARTAM...| 8304|\n",
      "|FONDO UNICO DE TE...| 6411|\n",
      "|Gobernación Norte...| 6349|\n",
      "|INSTITUTO TECNOLO...| 7473|\n",
      "|GOBERNACION DE NA...| 5221|\n",
      "|SIC SUPERINTENDEN...| 7988|\n",
      "|GOBERNACION DEL H...| 4702|\n",
      "|FONDO ROTATORIO D...|  571|\n",
      "|DEFENSORÍA DEL PU...| 5243|\n",
      "|MUNICIPIO DE SINC...| 5795|\n",
      "|FONDO ROTATORIO D...|  493|\n",
      "|FONDANE  DIRECCIO...| 3232|\n",
      "|FONDO ROTATORIO D...| 2441|\n",
      "|FONDANE  DIR TER ...|  648|\n",
      "|DIRECCION DE IMPU...| 2651|\n",
      "|SUPERINTENDENCIA ...| 3665|\n",
      "|GOBERNACIÓN DEPAR...| 4164|\n",
      "+--------------------+-----+\n",
      "only showing top 20 rows\n",
      "\n"
     ]
    },
    {
     "name": "stderr",
     "output_type": "stream",
     "text": [
      "\r",
      "                                                                                \r"
     ]
    },
    {
     "data": {
      "text/html": [
       "<pre style=\"white-space:pre;overflow-x:auto;line-height:normal;font-family:Menlo,'DejaVu Sans Mono',consolas,'Courier New',monospace\"><span style=\"font-weight: bold\">&lt;</span><span style=\"color: #ff00ff; text-decoration-color: #ff00ff; font-weight: bold\">IPython.core.display.Javascript</span><span style=\"color: #000000; text-decoration-color: #000000\"> object</span><span style=\"font-weight: bold\">&gt;</span>\n",
       "</pre>\n"
      ],
      "text/plain": [
       "\u001b[1m<\u001b[0m\u001b[1;95mIPython.core.display.Javascript\u001b[0m\u001b[39m object\u001b[0m\u001b[1m>\u001b[0m\n"
      ]
     },
     "metadata": {},
     "output_type": "display_data"
    },
    {
     "data": {
      "application/javascript": [
       "\n",
       "            setTimeout(function() {\n",
       "                var nbb_cell_id = 13;\n",
       "                var nbb_unformatted_code = \"secop_2.groupBy(\\\"entidad\\\").count().show(20)\";\n",
       "                var nbb_formatted_code = \"secop_2.groupBy(\\\"entidad\\\").count().show(20)\";\n",
       "                var nbb_cells = Jupyter.notebook.get_cells();\n",
       "                for (var i = 0; i < nbb_cells.length; ++i) {\n",
       "                    if (nbb_cells[i].input_prompt_number == nbb_cell_id) {\n",
       "                        if (nbb_cells[i].get_text() == nbb_unformatted_code) {\n",
       "                             nbb_cells[i].set_text(nbb_formatted_code);\n",
       "                        }\n",
       "                        break;\n",
       "                    }\n",
       "                }\n",
       "            }, 500);\n",
       "            "
      ]
     },
     "metadata": {},
     "output_type": "display_data"
    }
   ],
   "source": [
    "secop_2.groupBy(\"entidad\").count().show(20)"
   ]
  },
  {
   "cell_type": "code",
   "execution_count": null,
   "id": "d0e9780f",
   "metadata": {},
   "outputs": [],
   "source": []
  },
  {
   "cell_type": "code",
   "execution_count": null,
   "id": "a417c54c",
   "metadata": {},
   "outputs": [],
   "source": []
  },
  {
   "cell_type": "code",
   "execution_count": null,
   "id": "d7911651",
   "metadata": {},
   "outputs": [],
   "source": []
  },
  {
   "cell_type": "code",
   "execution_count": null,
   "id": "06b65507",
   "metadata": {},
   "outputs": [],
   "source": []
  },
  {
   "cell_type": "code",
   "execution_count": null,
   "id": "b3d52496",
   "metadata": {},
   "outputs": [],
   "source": []
  },
  {
   "cell_type": "code",
   "execution_count": null,
   "id": "ac53975c",
   "metadata": {},
   "outputs": [],
   "source": []
  },
  {
   "cell_type": "code",
   "execution_count": 7,
   "id": "fda7f021",
   "metadata": {},
   "outputs": [
    {
     "data": {
      "text/html": [
       "<pre style=\"white-space:pre;overflow-x:auto;line-height:normal;font-family:Menlo,'DejaVu Sans Mono',consolas,'Courier New',monospace\"><span style=\"font-weight: bold\">&lt;</span><span style=\"color: #ff00ff; text-decoration-color: #ff00ff; font-weight: bold\">IPython.core.display.Javascript</span><span style=\"color: #000000; text-decoration-color: #000000\"> object</span><span style=\"font-weight: bold\">&gt;</span>\n",
       "</pre>\n"
      ],
      "text/plain": [
       "\u001b[1m<\u001b[0m\u001b[1;95mIPython.core.display.Javascript\u001b[0m\u001b[39m object\u001b[0m\u001b[1m>\u001b[0m\n"
      ]
     },
     "metadata": {},
     "output_type": "display_data"
    },
    {
     "data": {
      "application/javascript": [
       "\n",
       "            setTimeout(function() {\n",
       "                var nbb_cell_id = 7;\n",
       "                var nbb_unformatted_code = \"secop_int = secop_int.withColumn(\\\"nivel_entidad\\\", F.lower(col(\\\"nivel_entidad\\\")))\";\n",
       "                var nbb_formatted_code = \"secop_int = secop_int.withColumn(\\\"nivel_entidad\\\", F.lower(col(\\\"nivel_entidad\\\")))\";\n",
       "                var nbb_cells = Jupyter.notebook.get_cells();\n",
       "                for (var i = 0; i < nbb_cells.length; ++i) {\n",
       "                    if (nbb_cells[i].input_prompt_number == nbb_cell_id) {\n",
       "                        if (nbb_cells[i].get_text() == nbb_unformatted_code) {\n",
       "                             nbb_cells[i].set_text(nbb_formatted_code);\n",
       "                        }\n",
       "                        break;\n",
       "                    }\n",
       "                }\n",
       "            }, 500);\n",
       "            "
      ]
     },
     "metadata": {},
     "output_type": "display_data"
    }
   ],
   "source": [
    "secop_int = secop_int.withColumn(\"nivel_entidad\", F.lower(col(\"nivel_entidad\")))"
   ]
  },
  {
   "cell_type": "code",
   "execution_count": 8,
   "id": "ea135135",
   "metadata": {},
   "outputs": [
    {
     "name": "stderr",
     "output_type": "stream",
     "text": [
      "[Stage 2:=====================================================> (170 + 6) / 176]\r"
     ]
    },
    {
     "name": "stdout",
     "output_type": "stream",
     "text": [
      "+-------------+------+\n",
      "|nivel_entidad| count|\n",
      "+-------------+------+\n",
      "|  no definido| 24448|\n",
      "|     nacional| 31294|\n",
      "|  territorial|711881|\n",
      "+-------------+------+\n",
      "\n"
     ]
    },
    {
     "name": "stderr",
     "output_type": "stream",
     "text": [
      "\r",
      "                                                                                \r"
     ]
    },
    {
     "data": {
      "text/html": [
       "<pre style=\"white-space:pre;overflow-x:auto;line-height:normal;font-family:Menlo,'DejaVu Sans Mono',consolas,'Courier New',monospace\"><span style=\"font-weight: bold\">&lt;</span><span style=\"color: #ff00ff; text-decoration-color: #ff00ff; font-weight: bold\">IPython.core.display.Javascript</span><span style=\"color: #000000; text-decoration-color: #000000\"> object</span><span style=\"font-weight: bold\">&gt;</span>\n",
       "</pre>\n"
      ],
      "text/plain": [
       "\u001b[1m<\u001b[0m\u001b[1;95mIPython.core.display.Javascript\u001b[0m\u001b[39m object\u001b[0m\u001b[1m>\u001b[0m\n"
      ]
     },
     "metadata": {},
     "output_type": "display_data"
    },
    {
     "data": {
      "application/javascript": [
       "\n",
       "            setTimeout(function() {\n",
       "                var nbb_cell_id = 8;\n",
       "                var nbb_unformatted_code = \"secop_int.groupBy(\\\"nivel_entidad\\\").count().show()\";\n",
       "                var nbb_formatted_code = \"secop_int.groupBy(\\\"nivel_entidad\\\").count().show()\";\n",
       "                var nbb_cells = Jupyter.notebook.get_cells();\n",
       "                for (var i = 0; i < nbb_cells.length; ++i) {\n",
       "                    if (nbb_cells[i].input_prompt_number == nbb_cell_id) {\n",
       "                        if (nbb_cells[i].get_text() == nbb_unformatted_code) {\n",
       "                             nbb_cells[i].set_text(nbb_formatted_code);\n",
       "                        }\n",
       "                        break;\n",
       "                    }\n",
       "                }\n",
       "            }, 500);\n",
       "            "
      ]
     },
     "metadata": {},
     "output_type": "display_data"
    }
   ],
   "source": [
    "secop_int.groupBy(\"nivel_entidad\").count().show()"
   ]
  },
  {
   "cell_type": "code",
   "execution_count": 9,
   "id": "ddd545dd",
   "metadata": {},
   "outputs": [
    {
     "data": {
      "text/html": [
       "<pre style=\"white-space:pre;overflow-x:auto;line-height:normal;font-family:Menlo,'DejaVu Sans Mono',consolas,'Courier New',monospace\"><span style=\"font-weight: bold\">&lt;</span><span style=\"color: #ff00ff; text-decoration-color: #ff00ff; font-weight: bold\">IPython.core.display.Javascript</span><span style=\"color: #000000; text-decoration-color: #000000\"> object</span><span style=\"font-weight: bold\">&gt;</span>\n",
       "</pre>\n"
      ],
      "text/plain": [
       "\u001b[1m<\u001b[0m\u001b[1;95mIPython.core.display.Javascript\u001b[0m\u001b[39m object\u001b[0m\u001b[1m>\u001b[0m\n"
      ]
     },
     "metadata": {},
     "output_type": "display_data"
    },
    {
     "data": {
      "application/javascript": [
       "\n",
       "            setTimeout(function() {\n",
       "                var nbb_cell_id = 9;\n",
       "                var nbb_unformatted_code = \"secop_int = secop_int.withColumn(\\n    \\\"estado_del_proceso\\\", udf(remove_tildes)(F.lower(col(\\\"estado_del_proceso\\\")))\\n)\";\n",
       "                var nbb_formatted_code = \"secop_int = secop_int.withColumn(\\n    \\\"estado_del_proceso\\\", udf(remove_tildes)(F.lower(col(\\\"estado_del_proceso\\\")))\\n)\";\n",
       "                var nbb_cells = Jupyter.notebook.get_cells();\n",
       "                for (var i = 0; i < nbb_cells.length; ++i) {\n",
       "                    if (nbb_cells[i].input_prompt_number == nbb_cell_id) {\n",
       "                        if (nbb_cells[i].get_text() == nbb_unformatted_code) {\n",
       "                             nbb_cells[i].set_text(nbb_formatted_code);\n",
       "                        }\n",
       "                        break;\n",
       "                    }\n",
       "                }\n",
       "            }, 500);\n",
       "            "
      ]
     },
     "metadata": {},
     "output_type": "display_data"
    }
   ],
   "source": [
    "secop_int = secop_int.withColumn(\n",
    "    \"estado_del_proceso\", udf(remove_tildes)(F.lower(col(\"estado_del_proceso\")))\n",
    ")"
   ]
  },
  {
   "cell_type": "code",
   "execution_count": 10,
   "id": "b181e009",
   "metadata": {},
   "outputs": [
    {
     "data": {
      "text/html": [
       "<pre style=\"white-space:pre;overflow-x:auto;line-height:normal;font-family:Menlo,'DejaVu Sans Mono',consolas,'Courier New',monospace\"><span style=\"color: #7fbfbf; text-decoration-color: #7fbfbf\">[08/10/22 15:57:08] </span><span style=\"color: #800000; text-decoration-color: #800000\">WARNING </span> <span style=\"color: #800080; text-decoration-color: #800080\">/opt/homebrew/Caskroom/miniforge/base/envs/dm_project/lib/python3.10/s</span> <a href=\"file:///opt/homebrew/Caskroom/miniforge/base/envs/dm_project/lib/python3.10/warnings.py\" target=\"_blank\"><span style=\"color: #7f7f7f; text-decoration-color: #7f7f7f\">warnings.py</span></a><span style=\"color: #7f7f7f; text-decoration-color: #7f7f7f\">:</span><a href=\"file:///opt/homebrew/Caskroom/miniforge/base/envs/dm_project/lib/python3.10/warnings.py#109\" target=\"_blank\"><span style=\"color: #7f7f7f; text-decoration-color: #7f7f7f\">109</span></a>\n",
       "<span style=\"color: #7fbfbf; text-decoration-color: #7fbfbf\">                    </span>         <span style=\"color: #800080; text-decoration-color: #800080\">ite-packages/pyspark/sql/pandas/</span><span style=\"color: #ff00ff; text-decoration-color: #ff00ff\">utils.py</span>:<span style=\"color: #008080; text-decoration-color: #008080; font-weight: bold\">35</span>: DeprecationWarning:       <span style=\"color: #7f7f7f; text-decoration-color: #7f7f7f\">               </span>\n",
       "<span style=\"color: #7fbfbf; text-decoration-color: #7fbfbf\">                    </span>         distutils Version classes are deprecated. Use packaging.version        <span style=\"color: #7f7f7f; text-decoration-color: #7f7f7f\">               </span>\n",
       "<span style=\"color: #7fbfbf; text-decoration-color: #7fbfbf\">                    </span>         instead.                                                               <span style=\"color: #7f7f7f; text-decoration-color: #7f7f7f\">               </span>\n",
       "<span style=\"color: #7fbfbf; text-decoration-color: #7fbfbf\">                    </span>           if <span style=\"color: #800080; text-decoration-color: #800080; font-weight: bold\">LooseVersion</span><span style=\"font-weight: bold\">(</span>pandas.__version__<span style=\"font-weight: bold\">)</span> &lt;                                <span style=\"color: #7f7f7f; text-decoration-color: #7f7f7f\">               </span>\n",
       "<span style=\"color: #7fbfbf; text-decoration-color: #7fbfbf\">                    </span>         <span style=\"color: #800080; text-decoration-color: #800080; font-weight: bold\">LooseVersion</span><span style=\"font-weight: bold\">(</span>minimum_pandas_version<span style=\"font-weight: bold\">)</span>:                                  <span style=\"color: #7f7f7f; text-decoration-color: #7f7f7f\">               </span>\n",
       "<span style=\"color: #7fbfbf; text-decoration-color: #7fbfbf\">                    </span>                                                                                <span style=\"color: #7f7f7f; text-decoration-color: #7f7f7f\">               </span>\n",
       "</pre>\n"
      ],
      "text/plain": [
       "\u001b[2;36m[08/10/22 15:57:08]\u001b[0m\u001b[2;36m \u001b[0m\u001b[31mWARNING \u001b[0m \u001b[35m/opt/homebrew/Caskroom/miniforge/base/envs/dm_project/lib/python3.10/s\u001b[0m \u001b]8;id=19034;file:///opt/homebrew/Caskroom/miniforge/base/envs/dm_project/lib/python3.10/warnings.py\u001b\\\u001b[2mwarnings.py\u001b[0m\u001b]8;;\u001b\\\u001b[2m:\u001b[0m\u001b]8;id=461162;file:///opt/homebrew/Caskroom/miniforge/base/envs/dm_project/lib/python3.10/warnings.py#109\u001b\\\u001b[2m109\u001b[0m\u001b]8;;\u001b\\\n",
       "\u001b[2;36m                    \u001b[0m         \u001b[35mite-packages/pyspark/sql/pandas/\u001b[0m\u001b[95mutils.py\u001b[0m:\u001b[1;36m35\u001b[0m: DeprecationWarning:       \u001b[2m               \u001b[0m\n",
       "\u001b[2;36m                    \u001b[0m         distutils Version classes are deprecated. Use packaging.version        \u001b[2m               \u001b[0m\n",
       "\u001b[2;36m                    \u001b[0m         instead.                                                               \u001b[2m               \u001b[0m\n",
       "\u001b[2;36m                    \u001b[0m           if \u001b[1;35mLooseVersion\u001b[0m\u001b[1m(\u001b[0mpandas.__version__\u001b[1m)\u001b[0m <                                \u001b[2m               \u001b[0m\n",
       "\u001b[2;36m                    \u001b[0m         \u001b[1;35mLooseVersion\u001b[0m\u001b[1m(\u001b[0mminimum_pandas_version\u001b[1m)\u001b[0m:                                  \u001b[2m               \u001b[0m\n",
       "\u001b[2;36m                    \u001b[0m                                                                                \u001b[2m               \u001b[0m\n"
      ]
     },
     "metadata": {},
     "output_type": "display_data"
    },
    {
     "name": "stderr",
     "output_type": "stream",
     "text": [
      "                                                                                \r"
     ]
    },
    {
     "data": {
      "text/html": [
       "<div>\n",
       "<style scoped>\n",
       "    .dataframe tbody tr th:only-of-type {\n",
       "        vertical-align: middle;\n",
       "    }\n",
       "\n",
       "    .dataframe tbody tr th {\n",
       "        vertical-align: top;\n",
       "    }\n",
       "\n",
       "    .dataframe thead th {\n",
       "        text-align: right;\n",
       "    }\n",
       "</style>\n",
       "<table border=\"1\" class=\"dataframe\">\n",
       "  <thead>\n",
       "    <tr style=\"text-align: right;\">\n",
       "      <th></th>\n",
       "      <th>estado_del_proceso</th>\n",
       "      <th>count</th>\n",
       "    </tr>\n",
       "  </thead>\n",
       "  <tbody>\n",
       "    <tr>\n",
       "      <th>15</th>\n",
       "      <td>celebrado</td>\n",
       "      <td>387825</td>\n",
       "    </tr>\n",
       "    <tr>\n",
       "      <th>0</th>\n",
       "      <td>liquidado</td>\n",
       "      <td>209632</td>\n",
       "    </tr>\n",
       "    <tr>\n",
       "      <th>19</th>\n",
       "      <td>convocado</td>\n",
       "      <td>70435</td>\n",
       "    </tr>\n",
       "    <tr>\n",
       "      <th>6</th>\n",
       "      <td>en ejecucion</td>\n",
       "      <td>27603</td>\n",
       "    </tr>\n",
       "    <tr>\n",
       "      <th>16</th>\n",
       "      <td>terminado anormalmente despues de convocado</td>\n",
       "      <td>16690</td>\n",
       "    </tr>\n",
       "    <tr>\n",
       "      <th>18</th>\n",
       "      <td>terminado sin liquidar</td>\n",
       "      <td>13483</td>\n",
       "    </tr>\n",
       "    <tr>\n",
       "      <th>1</th>\n",
       "      <td>modificado</td>\n",
       "      <td>13266</td>\n",
       "    </tr>\n",
       "    <tr>\n",
       "      <th>20</th>\n",
       "      <td>adjudicado</td>\n",
       "      <td>9772</td>\n",
       "    </tr>\n",
       "    <tr>\n",
       "      <th>10</th>\n",
       "      <td>borrador</td>\n",
       "      <td>4373</td>\n",
       "    </tr>\n",
       "    <tr>\n",
       "      <th>5</th>\n",
       "      <td>terminado</td>\n",
       "      <td>3691</td>\n",
       "    </tr>\n",
       "    <tr>\n",
       "      <th>3</th>\n",
       "      <td>activo</td>\n",
       "      <td>3403</td>\n",
       "    </tr>\n",
       "    <tr>\n",
       "      <th>12</th>\n",
       "      <td>cerrado</td>\n",
       "      <td>3200</td>\n",
       "    </tr>\n",
       "    <tr>\n",
       "      <th>7</th>\n",
       "      <td>descartado</td>\n",
       "      <td>2536</td>\n",
       "    </tr>\n",
       "    <tr>\n",
       "      <th>9</th>\n",
       "      <td>cedido</td>\n",
       "      <td>720</td>\n",
       "    </tr>\n",
       "    <tr>\n",
       "      <th>2</th>\n",
       "      <td>enviado proveedor</td>\n",
       "      <td>388</td>\n",
       "    </tr>\n",
       "    <tr>\n",
       "      <th>17</th>\n",
       "      <td>en aprobacion</td>\n",
       "      <td>305</td>\n",
       "    </tr>\n",
       "    <tr>\n",
       "      <th>8</th>\n",
       "      <td>suspendido</td>\n",
       "      <td>159</td>\n",
       "    </tr>\n",
       "    <tr>\n",
       "      <th>4</th>\n",
       "      <td>expresion de interes</td>\n",
       "      <td>70</td>\n",
       "    </tr>\n",
       "    <tr>\n",
       "      <th>11</th>\n",
       "      <td>invitacion cerrada</td>\n",
       "      <td>38</td>\n",
       "    </tr>\n",
       "    <tr>\n",
       "      <th>13</th>\n",
       "      <td>lista corta</td>\n",
       "      <td>33</td>\n",
       "    </tr>\n",
       "    <tr>\n",
       "      <th>14</th>\n",
       "      <td>lista multiusos</td>\n",
       "      <td>1</td>\n",
       "    </tr>\n",
       "  </tbody>\n",
       "</table>\n",
       "</div>"
      ]
     },
     "execution_count": 10,
     "metadata": {},
     "output_type": "execute_result"
    },
    {
     "data": {
      "text/html": [
       "<pre style=\"white-space:pre;overflow-x:auto;line-height:normal;font-family:Menlo,'DejaVu Sans Mono',consolas,'Courier New',monospace\"><span style=\"font-weight: bold\">&lt;</span><span style=\"color: #ff00ff; text-decoration-color: #ff00ff; font-weight: bold\">IPython.core.display.Javascript</span><span style=\"color: #000000; text-decoration-color: #000000\"> object</span><span style=\"font-weight: bold\">&gt;</span>\n",
       "</pre>\n"
      ],
      "text/plain": [
       "\u001b[1m<\u001b[0m\u001b[1;95mIPython.core.display.Javascript\u001b[0m\u001b[39m object\u001b[0m\u001b[1m>\u001b[0m\n"
      ]
     },
     "metadata": {},
     "output_type": "display_data"
    },
    {
     "data": {
      "application/javascript": [
       "\n",
       "            setTimeout(function() {\n",
       "                var nbb_cell_id = 10;\n",
       "                var nbb_unformatted_code = \"count_process_state = secop_int.groupBy(\\\"estado_del_proceso\\\").count().toPandas()\\ncount_process_state.sort_values(\\\"count\\\", ascending=False)\";\n",
       "                var nbb_formatted_code = \"count_process_state = secop_int.groupBy(\\\"estado_del_proceso\\\").count().toPandas()\\ncount_process_state.sort_values(\\\"count\\\", ascending=False)\";\n",
       "                var nbb_cells = Jupyter.notebook.get_cells();\n",
       "                for (var i = 0; i < nbb_cells.length; ++i) {\n",
       "                    if (nbb_cells[i].input_prompt_number == nbb_cell_id) {\n",
       "                        if (nbb_cells[i].get_text() == nbb_unformatted_code) {\n",
       "                             nbb_cells[i].set_text(nbb_formatted_code);\n",
       "                        }\n",
       "                        break;\n",
       "                    }\n",
       "                }\n",
       "            }, 500);\n",
       "            "
      ]
     },
     "metadata": {},
     "output_type": "display_data"
    }
   ],
   "source": [
    "count_process_state = secop_int.groupBy(\"estado_del_proceso\").count().toPandas()\n",
    "count_process_state.sort_values(\"count\", ascending=False)"
   ]
  },
  {
   "cell_type": "code",
   "execution_count": 11,
   "id": "3322b8d2",
   "metadata": {},
   "outputs": [
    {
     "data": {
      "text/html": [
       "<pre style=\"white-space:pre;overflow-x:auto;line-height:normal;font-family:Menlo,'DejaVu Sans Mono',consolas,'Courier New',monospace\"><span style=\"font-weight: bold\">&lt;</span><span style=\"color: #ff00ff; text-decoration-color: #ff00ff; font-weight: bold\">IPython.core.display.Javascript</span><span style=\"color: #000000; text-decoration-color: #000000\"> object</span><span style=\"font-weight: bold\">&gt;</span>\n",
       "</pre>\n"
      ],
      "text/plain": [
       "\u001b[1m<\u001b[0m\u001b[1;95mIPython.core.display.Javascript\u001b[0m\u001b[39m object\u001b[0m\u001b[1m>\u001b[0m\n"
      ]
     },
     "metadata": {},
     "output_type": "display_data"
    },
    {
     "data": {
      "application/javascript": [
       "\n",
       "            setTimeout(function() {\n",
       "                var nbb_cell_id = 11;\n",
       "                var nbb_unformatted_code = \"secop_int = secop_int.withColumn(\\n    \\\"modalidad_de_contrataci_n\\\", udf(remove_tildes)(F.lower(col(\\\"modalidad_de_contrataci_n\\\")))\\n)\";\n",
       "                var nbb_formatted_code = \"secop_int = secop_int.withColumn(\\n    \\\"modalidad_de_contrataci_n\\\",\\n    udf(remove_tildes)(F.lower(col(\\\"modalidad_de_contrataci_n\\\"))),\\n)\";\n",
       "                var nbb_cells = Jupyter.notebook.get_cells();\n",
       "                for (var i = 0; i < nbb_cells.length; ++i) {\n",
       "                    if (nbb_cells[i].input_prompt_number == nbb_cell_id) {\n",
       "                        if (nbb_cells[i].get_text() == nbb_unformatted_code) {\n",
       "                             nbb_cells[i].set_text(nbb_formatted_code);\n",
       "                        }\n",
       "                        break;\n",
       "                    }\n",
       "                }\n",
       "            }, 500);\n",
       "            "
      ]
     },
     "metadata": {},
     "output_type": "display_data"
    }
   ],
   "source": [
    "secop_int = secop_int.withColumn(\n",
    "    \"modalidad_de_contrataci_n\",\n",
    "    udf(remove_tildes)(F.lower(col(\"modalidad_de_contrataci_n\"))),\n",
    ")"
   ]
  },
  {
   "cell_type": "code",
   "execution_count": 12,
   "id": "f74e7579",
   "metadata": {
    "scrolled": true
   },
   "outputs": [
    {
     "data": {
      "text/html": [
       "<pre style=\"white-space:pre;overflow-x:auto;line-height:normal;font-family:Menlo,'DejaVu Sans Mono',consolas,'Courier New',monospace\"><span style=\"color: #7fbfbf; text-decoration-color: #7fbfbf\">[08/10/22 15:57:23] </span><span style=\"color: #800000; text-decoration-color: #800000\">WARNING </span> <span style=\"color: #800080; text-decoration-color: #800080\">/opt/homebrew/Caskroom/miniforge/base/envs/dm_project/lib/python3.10/s</span> <a href=\"file:///opt/homebrew/Caskroom/miniforge/base/envs/dm_project/lib/python3.10/warnings.py\" target=\"_blank\"><span style=\"color: #7f7f7f; text-decoration-color: #7f7f7f\">warnings.py</span></a><span style=\"color: #7f7f7f; text-decoration-color: #7f7f7f\">:</span><a href=\"file:///opt/homebrew/Caskroom/miniforge/base/envs/dm_project/lib/python3.10/warnings.py#109\" target=\"_blank\"><span style=\"color: #7f7f7f; text-decoration-color: #7f7f7f\">109</span></a>\n",
       "<span style=\"color: #7fbfbf; text-decoration-color: #7fbfbf\">                    </span>         <span style=\"color: #800080; text-decoration-color: #800080\">ite-packages/pyspark/sql/pandas/</span><span style=\"color: #ff00ff; text-decoration-color: #ff00ff\">utils.py</span>:<span style=\"color: #008080; text-decoration-color: #008080; font-weight: bold\">35</span>: DeprecationWarning:       <span style=\"color: #7f7f7f; text-decoration-color: #7f7f7f\">               </span>\n",
       "<span style=\"color: #7fbfbf; text-decoration-color: #7fbfbf\">                    </span>         distutils Version classes are deprecated. Use packaging.version        <span style=\"color: #7f7f7f; text-decoration-color: #7f7f7f\">               </span>\n",
       "<span style=\"color: #7fbfbf; text-decoration-color: #7fbfbf\">                    </span>         instead.                                                               <span style=\"color: #7f7f7f; text-decoration-color: #7f7f7f\">               </span>\n",
       "<span style=\"color: #7fbfbf; text-decoration-color: #7fbfbf\">                    </span>           if <span style=\"color: #800080; text-decoration-color: #800080; font-weight: bold\">LooseVersion</span><span style=\"font-weight: bold\">(</span>pandas.__version__<span style=\"font-weight: bold\">)</span> &lt;                                <span style=\"color: #7f7f7f; text-decoration-color: #7f7f7f\">               </span>\n",
       "<span style=\"color: #7fbfbf; text-decoration-color: #7fbfbf\">                    </span>         <span style=\"color: #800080; text-decoration-color: #800080; font-weight: bold\">LooseVersion</span><span style=\"font-weight: bold\">(</span>minimum_pandas_version<span style=\"font-weight: bold\">)</span>:                                  <span style=\"color: #7f7f7f; text-decoration-color: #7f7f7f\">               </span>\n",
       "<span style=\"color: #7fbfbf; text-decoration-color: #7fbfbf\">                    </span>                                                                                <span style=\"color: #7f7f7f; text-decoration-color: #7f7f7f\">               </span>\n",
       "</pre>\n"
      ],
      "text/plain": [
       "\u001b[2;36m[08/10/22 15:57:23]\u001b[0m\u001b[2;36m \u001b[0m\u001b[31mWARNING \u001b[0m \u001b[35m/opt/homebrew/Caskroom/miniforge/base/envs/dm_project/lib/python3.10/s\u001b[0m \u001b]8;id=791532;file:///opt/homebrew/Caskroom/miniforge/base/envs/dm_project/lib/python3.10/warnings.py\u001b\\\u001b[2mwarnings.py\u001b[0m\u001b]8;;\u001b\\\u001b[2m:\u001b[0m\u001b]8;id=313822;file:///opt/homebrew/Caskroom/miniforge/base/envs/dm_project/lib/python3.10/warnings.py#109\u001b\\\u001b[2m109\u001b[0m\u001b]8;;\u001b\\\n",
       "\u001b[2;36m                    \u001b[0m         \u001b[35mite-packages/pyspark/sql/pandas/\u001b[0m\u001b[95mutils.py\u001b[0m:\u001b[1;36m35\u001b[0m: DeprecationWarning:       \u001b[2m               \u001b[0m\n",
       "\u001b[2;36m                    \u001b[0m         distutils Version classes are deprecated. Use packaging.version        \u001b[2m               \u001b[0m\n",
       "\u001b[2;36m                    \u001b[0m         instead.                                                               \u001b[2m               \u001b[0m\n",
       "\u001b[2;36m                    \u001b[0m           if \u001b[1;35mLooseVersion\u001b[0m\u001b[1m(\u001b[0mpandas.__version__\u001b[1m)\u001b[0m <                                \u001b[2m               \u001b[0m\n",
       "\u001b[2;36m                    \u001b[0m         \u001b[1;35mLooseVersion\u001b[0m\u001b[1m(\u001b[0mminimum_pandas_version\u001b[1m)\u001b[0m:                                  \u001b[2m               \u001b[0m\n",
       "\u001b[2;36m                    \u001b[0m                                                                                \u001b[2m               \u001b[0m\n"
      ]
     },
     "metadata": {},
     "output_type": "display_data"
    },
    {
     "name": "stderr",
     "output_type": "stream",
     "text": [
      "                                                                                \r"
     ]
    },
    {
     "data": {
      "text/html": [
       "<pre style=\"white-space:pre;overflow-x:auto;line-height:normal;font-family:Menlo,'DejaVu Sans Mono',consolas,'Courier New',monospace\"><span style=\"font-weight: bold\">&lt;</span><span style=\"color: #ff00ff; text-decoration-color: #ff00ff; font-weight: bold\">IPython.core.display.Javascript</span><span style=\"color: #000000; text-decoration-color: #000000\"> object</span><span style=\"font-weight: bold\">&gt;</span>\n",
       "</pre>\n"
      ],
      "text/plain": [
       "\u001b[1m<\u001b[0m\u001b[1;95mIPython.core.display.Javascript\u001b[0m\u001b[39m object\u001b[0m\u001b[1m>\u001b[0m\n"
      ]
     },
     "metadata": {},
     "output_type": "display_data"
    },
    {
     "data": {
      "application/javascript": [
       "\n",
       "            setTimeout(function() {\n",
       "                var nbb_cell_id = 12;\n",
       "                var nbb_unformatted_code = \"count_process_type = secop_int.groupBy(\\\"modalidad_de_contrataci_n\\\").count().toPandas()\\ncount_process_type[\\\"prop\\\"] = (\\n    count_process_type[\\\"count\\\"] / count_process_type[\\\"count\\\"].sum()\\n)\";\n",
       "                var nbb_formatted_code = \"count_process_type = secop_int.groupBy(\\\"modalidad_de_contrataci_n\\\").count().toPandas()\\ncount_process_type[\\\"prop\\\"] = (\\n    count_process_type[\\\"count\\\"] / count_process_type[\\\"count\\\"].sum()\\n)\";\n",
       "                var nbb_cells = Jupyter.notebook.get_cells();\n",
       "                for (var i = 0; i < nbb_cells.length; ++i) {\n",
       "                    if (nbb_cells[i].input_prompt_number == nbb_cell_id) {\n",
       "                        if (nbb_cells[i].get_text() == nbb_unformatted_code) {\n",
       "                             nbb_cells[i].set_text(nbb_formatted_code);\n",
       "                        }\n",
       "                        break;\n",
       "                    }\n",
       "                }\n",
       "            }, 500);\n",
       "            "
      ]
     },
     "metadata": {},
     "output_type": "display_data"
    }
   ],
   "source": [
    "count_process_type = secop_int.groupBy(\"modalidad_de_contrataci_n\").count().toPandas()\n",
    "count_process_type[\"prop\"] = (\n",
    "    count_process_type[\"count\"] / count_process_type[\"count\"].sum()\n",
    ")"
   ]
  },
  {
   "cell_type": "markdown",
   "id": "0c41da9e",
   "metadata": {},
   "source": [
    "https://www.funcionpublica.gov.co/eva/gerentes/Modulo4/tema-2/1-modalidades.html"
   ]
  },
  {
   "cell_type": "code",
   "execution_count": 13,
   "id": "901bd962",
   "metadata": {},
   "outputs": [
    {
     "data": {
      "text/html": [
       "<pre style=\"white-space:pre;overflow-x:auto;line-height:normal;font-family:Menlo,'DejaVu Sans Mono',consolas,'Courier New',monospace\"><span style=\"font-weight: bold\">&lt;</span><span style=\"color: #ff00ff; text-decoration-color: #ff00ff; font-weight: bold\">IPython.core.display.Javascript</span><span style=\"color: #000000; text-decoration-color: #000000\"> object</span><span style=\"font-weight: bold\">&gt;</span>\n",
       "</pre>\n"
      ],
      "text/plain": [
       "\u001b[1m<\u001b[0m\u001b[1;95mIPython.core.display.Javascript\u001b[0m\u001b[39m object\u001b[0m\u001b[1m>\u001b[0m\n"
      ]
     },
     "metadata": {},
     "output_type": "display_data"
    },
    {
     "data": {
      "application/javascript": [
       "\n",
       "            setTimeout(function() {\n",
       "                var nbb_cell_id = 13;\n",
       "                var nbb_unformatted_code = \"def clean_modalidad_contratacion(mod: str):\\n    \\\"\\\"\\\"Clean and group modalidad de contratacion\\\"\\\"\\\"\\n    if (\\\"concurso de meritos\\\" in mod) or (\\\"concurso_meritos\\\" in mod):\\n        return \\\"concurso de meritos abiertos\\\"\\n    elif \\\"regimen especial\\\" in mod:\\n        return \\\"regimen especial\\\"\\n    elif (\\n        (\\\"minima cuantia\\\" in mod)\\n        or (\\\"menor cuantia\\\" in mod)\\n    ):\\n        return \\\"minima cuantia\\\"\\n    elif \\\"contratacion directa\\\" in mod:\\n        return \\\"contratacion directa\\\"\\n    elif \\\"subasta\\\" in mod:\\n        return \\\"subasta\\\"\\n    elif (\\\"licitacion publica\\\" in mod) or (\\\"licitacion obra publica\\\" in mod):\\n        return \\\"licitacion publica\\\"\\n    else:\\n        return \\\"Otro\\\"\";\n",
       "                var nbb_formatted_code = \"def clean_modalidad_contratacion(mod: str):\\n    \\\"\\\"\\\"Clean and group modalidad de contratacion\\\"\\\"\\\"\\n    if (\\\"concurso de meritos\\\" in mod) or (\\\"concurso_meritos\\\" in mod):\\n        return \\\"concurso de meritos abiertos\\\"\\n    elif \\\"regimen especial\\\" in mod:\\n        return \\\"regimen especial\\\"\\n    elif (\\\"minima cuantia\\\" in mod) or (\\\"menor cuantia\\\" in mod):\\n        return \\\"minima cuantia\\\"\\n    elif \\\"contratacion directa\\\" in mod:\\n        return \\\"contratacion directa\\\"\\n    elif \\\"subasta\\\" in mod:\\n        return \\\"subasta\\\"\\n    elif (\\\"licitacion publica\\\" in mod) or (\\\"licitacion obra publica\\\" in mod):\\n        return \\\"licitacion publica\\\"\\n    else:\\n        return \\\"Otro\\\"\";\n",
       "                var nbb_cells = Jupyter.notebook.get_cells();\n",
       "                for (var i = 0; i < nbb_cells.length; ++i) {\n",
       "                    if (nbb_cells[i].input_prompt_number == nbb_cell_id) {\n",
       "                        if (nbb_cells[i].get_text() == nbb_unformatted_code) {\n",
       "                             nbb_cells[i].set_text(nbb_formatted_code);\n",
       "                        }\n",
       "                        break;\n",
       "                    }\n",
       "                }\n",
       "            }, 500);\n",
       "            "
      ]
     },
     "metadata": {},
     "output_type": "display_data"
    }
   ],
   "source": [
    "def clean_modalidad_contratacion(mod: str):\n",
    "    \"\"\"Clean and group modalidad de contratacion\"\"\"\n",
    "    if (\"concurso de meritos\" in mod) or (\"concurso_meritos\" in mod):\n",
    "        return \"concurso de meritos abiertos\"\n",
    "    elif \"regimen especial\" in mod:\n",
    "        return \"regimen especial\"\n",
    "    elif (\"minima cuantia\" in mod) or (\"menor cuantia\" in mod):\n",
    "        return \"minima cuantia\"\n",
    "    elif \"contratacion directa\" in mod:\n",
    "        return \"contratacion directa\"\n",
    "    elif \"subasta\" in mod:\n",
    "        return \"subasta\"\n",
    "    elif (\"licitacion publica\" in mod) or (\"licitacion obra publica\" in mod):\n",
    "        return \"licitacion publica\"\n",
    "    else:\n",
    "        return \"Otro\""
   ]
  },
  {
   "cell_type": "code",
   "execution_count": 14,
   "id": "2f181726",
   "metadata": {
    "scrolled": true
   },
   "outputs": [
    {
     "data": {
      "text/html": [
       "<div>\n",
       "<style scoped>\n",
       "    .dataframe tbody tr th:only-of-type {\n",
       "        vertical-align: middle;\n",
       "    }\n",
       "\n",
       "    .dataframe tbody tr th {\n",
       "        vertical-align: top;\n",
       "    }\n",
       "\n",
       "    .dataframe thead th {\n",
       "        text-align: right;\n",
       "    }\n",
       "</style>\n",
       "<table border=\"1\" class=\"dataframe\">\n",
       "  <thead>\n",
       "    <tr style=\"text-align: right;\">\n",
       "      <th></th>\n",
       "      <th>modalidad_de_contrataci_n</th>\n",
       "      <th>count</th>\n",
       "      <th>prop</th>\n",
       "      <th>modalidad_clean</th>\n",
       "    </tr>\n",
       "  </thead>\n",
       "  <tbody>\n",
       "    <tr>\n",
       "      <th>0</th>\n",
       "      <td>invitacion ofertas cooperativas o asociaciones...</td>\n",
       "      <td>37</td>\n",
       "      <td>0.000048</td>\n",
       "      <td>Otro</td>\n",
       "    </tr>\n",
       "    <tr>\n",
       "      <th>1</th>\n",
       "      <td>licitacion publica</td>\n",
       "      <td>10250</td>\n",
       "      <td>0.013353</td>\n",
       "      <td>licitacion publica</td>\n",
       "    </tr>\n",
       "    <tr>\n",
       "      <th>2</th>\n",
       "      <td>seleccion abreviada del literal h del numeral ...</td>\n",
       "      <td>118</td>\n",
       "      <td>0.000154</td>\n",
       "      <td>Otro</td>\n",
       "    </tr>\n",
       "    <tr>\n",
       "      <th>3</th>\n",
       "      <td>contratacion minima cuantia</td>\n",
       "      <td>157560</td>\n",
       "      <td>0.205257</td>\n",
       "      <td>minima cuantia</td>\n",
       "    </tr>\n",
       "    <tr>\n",
       "      <th>4</th>\n",
       "      <td>contratacion directa</td>\n",
       "      <td>50228</td>\n",
       "      <td>0.065433</td>\n",
       "      <td>contratacion directa</td>\n",
       "    </tr>\n",
       "    <tr>\n",
       "      <th>5</th>\n",
       "      <td>seleccion abreviada servicios de salud</td>\n",
       "      <td>203</td>\n",
       "      <td>0.000264</td>\n",
       "      <td>Otro</td>\n",
       "    </tr>\n",
       "    <tr>\n",
       "      <th>6</th>\n",
       "      <td>contratacion directa (con ofertas)</td>\n",
       "      <td>497</td>\n",
       "      <td>0.000647</td>\n",
       "      <td>contratacion directa</td>\n",
       "    </tr>\n",
       "    <tr>\n",
       "      <th>7</th>\n",
       "      <td>minima cuantia</td>\n",
       "      <td>1716</td>\n",
       "      <td>0.002235</td>\n",
       "      <td>minima cuantia</td>\n",
       "    </tr>\n",
       "    <tr>\n",
       "      <th>8</th>\n",
       "      <td>contratacion directa menor cuantia</td>\n",
       "      <td>3418</td>\n",
       "      <td>0.004453</td>\n",
       "      <td>minima cuantia</td>\n",
       "    </tr>\n",
       "    <tr>\n",
       "      <th>9</th>\n",
       "      <td>subasta</td>\n",
       "      <td>8402</td>\n",
       "      <td>0.010945</td>\n",
       "      <td>subasta</td>\n",
       "    </tr>\n",
       "    <tr>\n",
       "      <th>10</th>\n",
       "      <td>concurso de meritos con lista corta</td>\n",
       "      <td>619</td>\n",
       "      <td>0.000806</td>\n",
       "      <td>concurso de meritos abiertos</td>\n",
       "    </tr>\n",
       "    <tr>\n",
       "      <th>11</th>\n",
       "      <td>concurso de meritos con lista multiusos</td>\n",
       "      <td>38</td>\n",
       "      <td>0.000050</td>\n",
       "      <td>concurso de meritos abiertos</td>\n",
       "    </tr>\n",
       "    <tr>\n",
       "      <th>12</th>\n",
       "      <td>seleccion abreviada menor cuantia sin manifest...</td>\n",
       "      <td>12</td>\n",
       "      <td>0.000016</td>\n",
       "      <td>minima cuantia</td>\n",
       "    </tr>\n",
       "    <tr>\n",
       "      <th>13</th>\n",
       "      <td>cce-20-concurso_meritos_sin_lista_corta_1sobre</td>\n",
       "      <td>65</td>\n",
       "      <td>0.000085</td>\n",
       "      <td>concurso de meritos abiertos</td>\n",
       "    </tr>\n",
       "    <tr>\n",
       "      <th>14</th>\n",
       "      <td>contratacion directa ley 1150 de 2007</td>\n",
       "      <td>321096</td>\n",
       "      <td>0.418299</td>\n",
       "      <td>contratacion directa</td>\n",
       "    </tr>\n",
       "    <tr>\n",
       "      <th>15</th>\n",
       "      <td>asociacion publico privada</td>\n",
       "      <td>300</td>\n",
       "      <td>0.000391</td>\n",
       "      <td>Otro</td>\n",
       "    </tr>\n",
       "    <tr>\n",
       "      <th>16</th>\n",
       "      <td>contratos y convenios con mas de dos partes</td>\n",
       "      <td>1655</td>\n",
       "      <td>0.002156</td>\n",
       "      <td>Otro</td>\n",
       "    </tr>\n",
       "    <tr>\n",
       "      <th>17</th>\n",
       "      <td>regimen especial</td>\n",
       "      <td>171310</td>\n",
       "      <td>0.223169</td>\n",
       "      <td>regimen especial</td>\n",
       "    </tr>\n",
       "    <tr>\n",
       "      <th>18</th>\n",
       "      <td>lista multiusos</td>\n",
       "      <td>1</td>\n",
       "      <td>0.000001</td>\n",
       "      <td>Otro</td>\n",
       "    </tr>\n",
       "    <tr>\n",
       "      <th>19</th>\n",
       "      <td>seleccion abreviada subasta inversa</td>\n",
       "      <td>292</td>\n",
       "      <td>0.000380</td>\n",
       "      <td>subasta</td>\n",
       "    </tr>\n",
       "    <tr>\n",
       "      <th>20</th>\n",
       "      <td>otras formas de contratacion directa</td>\n",
       "      <td>2132</td>\n",
       "      <td>0.002777</td>\n",
       "      <td>contratacion directa</td>\n",
       "    </tr>\n",
       "    <tr>\n",
       "      <th>21</th>\n",
       "      <td>concurso de meritos abierto</td>\n",
       "      <td>6653</td>\n",
       "      <td>0.008667</td>\n",
       "      <td>concurso de meritos abiertos</td>\n",
       "    </tr>\n",
       "    <tr>\n",
       "      <th>22</th>\n",
       "      <td>seleccion abreviada de menor cuantia</td>\n",
       "      <td>342</td>\n",
       "      <td>0.000446</td>\n",
       "      <td>minima cuantia</td>\n",
       "    </tr>\n",
       "    <tr>\n",
       "      <th>23</th>\n",
       "      <td>seleccion abreviada de menor cuantia ley 1150 ...</td>\n",
       "      <td>26194</td>\n",
       "      <td>0.034124</td>\n",
       "      <td>minima cuantia</td>\n",
       "    </tr>\n",
       "    <tr>\n",
       "      <th>24</th>\n",
       "      <td>contratacion regimen especial (con ofertas)</td>\n",
       "      <td>1230</td>\n",
       "      <td>0.001602</td>\n",
       "      <td>regimen especial</td>\n",
       "    </tr>\n",
       "    <tr>\n",
       "      <th>25</th>\n",
       "      <td>licitacion publica obra publica</td>\n",
       "      <td>110</td>\n",
       "      <td>0.000143</td>\n",
       "      <td>licitacion publica</td>\n",
       "    </tr>\n",
       "    <tr>\n",
       "      <th>26</th>\n",
       "      <td>contratacion regimen especial</td>\n",
       "      <td>1335</td>\n",
       "      <td>0.001739</td>\n",
       "      <td>regimen especial</td>\n",
       "    </tr>\n",
       "    <tr>\n",
       "      <th>27</th>\n",
       "      <td>licitacion obra publica</td>\n",
       "      <td>1798</td>\n",
       "      <td>0.002342</td>\n",
       "      <td>licitacion publica</td>\n",
       "    </tr>\n",
       "    <tr>\n",
       "      <th>28</th>\n",
       "      <td>concurso de diseño arquitectonico</td>\n",
       "      <td>1</td>\n",
       "      <td>0.000001</td>\n",
       "      <td>Otro</td>\n",
       "    </tr>\n",
       "    <tr>\n",
       "      <th>29</th>\n",
       "      <td>no definido</td>\n",
       "      <td>10</td>\n",
       "      <td>0.000013</td>\n",
       "      <td>Otro</td>\n",
       "    </tr>\n",
       "    <tr>\n",
       "      <th>30</th>\n",
       "      <td>enajenacion de bienes con subasta</td>\n",
       "      <td>1</td>\n",
       "      <td>0.000001</td>\n",
       "      <td>subasta</td>\n",
       "    </tr>\n",
       "  </tbody>\n",
       "</table>\n",
       "</div>"
      ]
     },
     "execution_count": 14,
     "metadata": {},
     "output_type": "execute_result"
    },
    {
     "data": {
      "text/html": [
       "<pre style=\"white-space:pre;overflow-x:auto;line-height:normal;font-family:Menlo,'DejaVu Sans Mono',consolas,'Courier New',monospace\"><span style=\"font-weight: bold\">&lt;</span><span style=\"color: #ff00ff; text-decoration-color: #ff00ff; font-weight: bold\">IPython.core.display.Javascript</span><span style=\"color: #000000; text-decoration-color: #000000\"> object</span><span style=\"font-weight: bold\">&gt;</span>\n",
       "</pre>\n"
      ],
      "text/plain": [
       "\u001b[1m<\u001b[0m\u001b[1;95mIPython.core.display.Javascript\u001b[0m\u001b[39m object\u001b[0m\u001b[1m>\u001b[0m\n"
      ]
     },
     "metadata": {},
     "output_type": "display_data"
    },
    {
     "data": {
      "application/javascript": [
       "\n",
       "            setTimeout(function() {\n",
       "                var nbb_cell_id = 14;\n",
       "                var nbb_unformatted_code = \"count_process_type[\\\"modalidad_clean\\\"] = count_process_type[\\n    \\\"modalidad_de_contrataci_n\\\"\\n].apply(clean_modalidad_contratacion)\\ncount_process_type\";\n",
       "                var nbb_formatted_code = \"count_process_type[\\\"modalidad_clean\\\"] = count_process_type[\\n    \\\"modalidad_de_contrataci_n\\\"\\n].apply(clean_modalidad_contratacion)\\ncount_process_type\";\n",
       "                var nbb_cells = Jupyter.notebook.get_cells();\n",
       "                for (var i = 0; i < nbb_cells.length; ++i) {\n",
       "                    if (nbb_cells[i].input_prompt_number == nbb_cell_id) {\n",
       "                        if (nbb_cells[i].get_text() == nbb_unformatted_code) {\n",
       "                             nbb_cells[i].set_text(nbb_formatted_code);\n",
       "                        }\n",
       "                        break;\n",
       "                    }\n",
       "                }\n",
       "            }, 500);\n",
       "            "
      ]
     },
     "metadata": {},
     "output_type": "display_data"
    }
   ],
   "source": [
    "count_process_type[\"modalidad_clean\"] = count_process_type[\n",
    "    \"modalidad_de_contrataci_n\"\n",
    "].apply(clean_modalidad_contratacion)\n",
    "count_process_type"
   ]
  },
  {
   "cell_type": "code",
   "execution_count": 15,
   "id": "7d2555e2",
   "metadata": {
    "scrolled": false
   },
   "outputs": [
    {
     "data": {
      "text/html": [
       "<pre style=\"white-space:pre;overflow-x:auto;line-height:normal;font-family:Menlo,'DejaVu Sans Mono',consolas,'Courier New',monospace\"><span style=\"font-weight: bold\">&lt;</span><span style=\"color: #ff00ff; text-decoration-color: #ff00ff; font-weight: bold\">IPython.core.display.Javascript</span><span style=\"color: #000000; text-decoration-color: #000000\"> object</span><span style=\"font-weight: bold\">&gt;</span>\n",
       "</pre>\n"
      ],
      "text/plain": [
       "\u001b[1m<\u001b[0m\u001b[1;95mIPython.core.display.Javascript\u001b[0m\u001b[39m object\u001b[0m\u001b[1m>\u001b[0m\n"
      ]
     },
     "metadata": {},
     "output_type": "display_data"
    },
    {
     "data": {
      "application/javascript": [
       "\n",
       "            setTimeout(function() {\n",
       "                var nbb_cell_id = 15;\n",
       "                var nbb_unformatted_code = \"secop_int = secop_int.withColumn(\\n    \\\"modalidad_de_contrataci_n\\\",\\n    udf(clean_modalidad_contratacion)(col(\\\"modalidad_de_contrataci_n\\\")),\\n)\";\n",
       "                var nbb_formatted_code = \"secop_int = secop_int.withColumn(\\n    \\\"modalidad_de_contrataci_n\\\",\\n    udf(clean_modalidad_contratacion)(col(\\\"modalidad_de_contrataci_n\\\")),\\n)\";\n",
       "                var nbb_cells = Jupyter.notebook.get_cells();\n",
       "                for (var i = 0; i < nbb_cells.length; ++i) {\n",
       "                    if (nbb_cells[i].input_prompt_number == nbb_cell_id) {\n",
       "                        if (nbb_cells[i].get_text() == nbb_unformatted_code) {\n",
       "                             nbb_cells[i].set_text(nbb_formatted_code);\n",
       "                        }\n",
       "                        break;\n",
       "                    }\n",
       "                }\n",
       "            }, 500);\n",
       "            "
      ]
     },
     "metadata": {},
     "output_type": "display_data"
    }
   ],
   "source": [
    "secop_int = secop_int.withColumn(\n",
    "    \"modalidad_de_contrataci_n\",\n",
    "    udf(clean_modalidad_contratacion)(col(\"modalidad_de_contrataci_n\")),\n",
    ")"
   ]
  },
  {
   "cell_type": "code",
   "execution_count": 16,
   "id": "751a2257",
   "metadata": {},
   "outputs": [
    {
     "data": {
      "text/html": [
       "<pre style=\"white-space:pre;overflow-x:auto;line-height:normal;font-family:Menlo,'DejaVu Sans Mono',consolas,'Courier New',monospace\"><span style=\"color: #7fbfbf; text-decoration-color: #7fbfbf\">[08/10/22 15:58:35] </span><span style=\"color: #800000; text-decoration-color: #800000\">WARNING </span> <span style=\"color: #800080; text-decoration-color: #800080\">/opt/homebrew/Caskroom/miniforge/base/envs/dm_project/lib/python3.10/s</span> <a href=\"file:///opt/homebrew/Caskroom/miniforge/base/envs/dm_project/lib/python3.10/warnings.py\" target=\"_blank\"><span style=\"color: #7f7f7f; text-decoration-color: #7f7f7f\">warnings.py</span></a><span style=\"color: #7f7f7f; text-decoration-color: #7f7f7f\">:</span><a href=\"file:///opt/homebrew/Caskroom/miniforge/base/envs/dm_project/lib/python3.10/warnings.py#109\" target=\"_blank\"><span style=\"color: #7f7f7f; text-decoration-color: #7f7f7f\">109</span></a>\n",
       "<span style=\"color: #7fbfbf; text-decoration-color: #7fbfbf\">                    </span>         <span style=\"color: #800080; text-decoration-color: #800080\">ite-packages/pyspark/sql/pandas/</span><span style=\"color: #ff00ff; text-decoration-color: #ff00ff\">utils.py</span>:<span style=\"color: #008080; text-decoration-color: #008080; font-weight: bold\">35</span>: DeprecationWarning:       <span style=\"color: #7f7f7f; text-decoration-color: #7f7f7f\">               </span>\n",
       "<span style=\"color: #7fbfbf; text-decoration-color: #7fbfbf\">                    </span>         distutils Version classes are deprecated. Use packaging.version        <span style=\"color: #7f7f7f; text-decoration-color: #7f7f7f\">               </span>\n",
       "<span style=\"color: #7fbfbf; text-decoration-color: #7fbfbf\">                    </span>         instead.                                                               <span style=\"color: #7f7f7f; text-decoration-color: #7f7f7f\">               </span>\n",
       "<span style=\"color: #7fbfbf; text-decoration-color: #7fbfbf\">                    </span>           if <span style=\"color: #800080; text-decoration-color: #800080; font-weight: bold\">LooseVersion</span><span style=\"font-weight: bold\">(</span>pandas.__version__<span style=\"font-weight: bold\">)</span> &lt;                                <span style=\"color: #7f7f7f; text-decoration-color: #7f7f7f\">               </span>\n",
       "<span style=\"color: #7fbfbf; text-decoration-color: #7fbfbf\">                    </span>         <span style=\"color: #800080; text-decoration-color: #800080; font-weight: bold\">LooseVersion</span><span style=\"font-weight: bold\">(</span>minimum_pandas_version<span style=\"font-weight: bold\">)</span>:                                  <span style=\"color: #7f7f7f; text-decoration-color: #7f7f7f\">               </span>\n",
       "<span style=\"color: #7fbfbf; text-decoration-color: #7fbfbf\">                    </span>                                                                                <span style=\"color: #7f7f7f; text-decoration-color: #7f7f7f\">               </span>\n",
       "</pre>\n"
      ],
      "text/plain": [
       "\u001b[2;36m[08/10/22 15:58:35]\u001b[0m\u001b[2;36m \u001b[0m\u001b[31mWARNING \u001b[0m \u001b[35m/opt/homebrew/Caskroom/miniforge/base/envs/dm_project/lib/python3.10/s\u001b[0m \u001b]8;id=643046;file:///opt/homebrew/Caskroom/miniforge/base/envs/dm_project/lib/python3.10/warnings.py\u001b\\\u001b[2mwarnings.py\u001b[0m\u001b]8;;\u001b\\\u001b[2m:\u001b[0m\u001b]8;id=190068;file:///opt/homebrew/Caskroom/miniforge/base/envs/dm_project/lib/python3.10/warnings.py#109\u001b\\\u001b[2m109\u001b[0m\u001b]8;;\u001b\\\n",
       "\u001b[2;36m                    \u001b[0m         \u001b[35mite-packages/pyspark/sql/pandas/\u001b[0m\u001b[95mutils.py\u001b[0m:\u001b[1;36m35\u001b[0m: DeprecationWarning:       \u001b[2m               \u001b[0m\n",
       "\u001b[2;36m                    \u001b[0m         distutils Version classes are deprecated. Use packaging.version        \u001b[2m               \u001b[0m\n",
       "\u001b[2;36m                    \u001b[0m         instead.                                                               \u001b[2m               \u001b[0m\n",
       "\u001b[2;36m                    \u001b[0m           if \u001b[1;35mLooseVersion\u001b[0m\u001b[1m(\u001b[0mpandas.__version__\u001b[1m)\u001b[0m <                                \u001b[2m               \u001b[0m\n",
       "\u001b[2;36m                    \u001b[0m         \u001b[1;35mLooseVersion\u001b[0m\u001b[1m(\u001b[0mminimum_pandas_version\u001b[1m)\u001b[0m:                                  \u001b[2m               \u001b[0m\n",
       "\u001b[2;36m                    \u001b[0m                                                                                \u001b[2m               \u001b[0m\n"
      ]
     },
     "metadata": {},
     "output_type": "display_data"
    },
    {
     "name": "stderr",
     "output_type": "stream",
     "text": [
      "                                                                                \r"
     ]
    },
    {
     "data": {
      "text/html": [
       "<div>\n",
       "<style scoped>\n",
       "    .dataframe tbody tr th:only-of-type {\n",
       "        vertical-align: middle;\n",
       "    }\n",
       "\n",
       "    .dataframe tbody tr th {\n",
       "        vertical-align: top;\n",
       "    }\n",
       "\n",
       "    .dataframe thead th {\n",
       "        text-align: right;\n",
       "    }\n",
       "</style>\n",
       "<table border=\"1\" class=\"dataframe\">\n",
       "  <thead>\n",
       "    <tr style=\"text-align: right;\">\n",
       "      <th></th>\n",
       "      <th>modalidad_de_contrataci_n</th>\n",
       "      <th>count</th>\n",
       "      <th>prop</th>\n",
       "    </tr>\n",
       "  </thead>\n",
       "  <tbody>\n",
       "    <tr>\n",
       "      <th>2</th>\n",
       "      <td>contratacion directa</td>\n",
       "      <td>373953</td>\n",
       "      <td>0.487157</td>\n",
       "    </tr>\n",
       "    <tr>\n",
       "      <th>4</th>\n",
       "      <td>minima cuantia</td>\n",
       "      <td>189242</td>\n",
       "      <td>0.246530</td>\n",
       "    </tr>\n",
       "    <tr>\n",
       "      <th>6</th>\n",
       "      <td>regimen especial</td>\n",
       "      <td>173875</td>\n",
       "      <td>0.226511</td>\n",
       "    </tr>\n",
       "    <tr>\n",
       "      <th>1</th>\n",
       "      <td>licitacion publica</td>\n",
       "      <td>12158</td>\n",
       "      <td>0.015839</td>\n",
       "    </tr>\n",
       "    <tr>\n",
       "      <th>5</th>\n",
       "      <td>subasta</td>\n",
       "      <td>8695</td>\n",
       "      <td>0.011327</td>\n",
       "    </tr>\n",
       "    <tr>\n",
       "      <th>3</th>\n",
       "      <td>concurso de meritos abiertos</td>\n",
       "      <td>7375</td>\n",
       "      <td>0.009608</td>\n",
       "    </tr>\n",
       "    <tr>\n",
       "      <th>0</th>\n",
       "      <td>Otro</td>\n",
       "      <td>2325</td>\n",
       "      <td>0.003029</td>\n",
       "    </tr>\n",
       "  </tbody>\n",
       "</table>\n",
       "</div>"
      ]
     },
     "execution_count": 16,
     "metadata": {},
     "output_type": "execute_result"
    },
    {
     "data": {
      "text/html": [
       "<pre style=\"white-space:pre;overflow-x:auto;line-height:normal;font-family:Menlo,'DejaVu Sans Mono',consolas,'Courier New',monospace\"><span style=\"font-weight: bold\">&lt;</span><span style=\"color: #ff00ff; text-decoration-color: #ff00ff; font-weight: bold\">IPython.core.display.Javascript</span><span style=\"color: #000000; text-decoration-color: #000000\"> object</span><span style=\"font-weight: bold\">&gt;</span>\n",
       "</pre>\n"
      ],
      "text/plain": [
       "\u001b[1m<\u001b[0m\u001b[1;95mIPython.core.display.Javascript\u001b[0m\u001b[39m object\u001b[0m\u001b[1m>\u001b[0m\n"
      ]
     },
     "metadata": {},
     "output_type": "display_data"
    },
    {
     "data": {
      "application/javascript": [
       "\n",
       "            setTimeout(function() {\n",
       "                var nbb_cell_id = 16;\n",
       "                var nbb_unformatted_code = \"count_process_type_clean = (\\n    secop_int.groupBy(\\\"modalidad_de_contrataci_n\\\").count().toPandas()\\n)\\ncount_process_type_clean[\\\"prop\\\"] = (\\n    count_process_type_clean[\\\"count\\\"] / count_process_type_clean[\\\"count\\\"].sum()\\n)\\ncount_process_type_clean.sort_values(\\\"prop\\\", ascending=False)\";\n",
       "                var nbb_formatted_code = \"count_process_type_clean = (\\n    secop_int.groupBy(\\\"modalidad_de_contrataci_n\\\").count().toPandas()\\n)\\ncount_process_type_clean[\\\"prop\\\"] = (\\n    count_process_type_clean[\\\"count\\\"] / count_process_type_clean[\\\"count\\\"].sum()\\n)\\ncount_process_type_clean.sort_values(\\\"prop\\\", ascending=False)\";\n",
       "                var nbb_cells = Jupyter.notebook.get_cells();\n",
       "                for (var i = 0; i < nbb_cells.length; ++i) {\n",
       "                    if (nbb_cells[i].input_prompt_number == nbb_cell_id) {\n",
       "                        if (nbb_cells[i].get_text() == nbb_unformatted_code) {\n",
       "                             nbb_cells[i].set_text(nbb_formatted_code);\n",
       "                        }\n",
       "                        break;\n",
       "                    }\n",
       "                }\n",
       "            }, 500);\n",
       "            "
      ]
     },
     "metadata": {},
     "output_type": "display_data"
    }
   ],
   "source": [
    "count_process_type_clean = (\n",
    "    secop_int.groupBy(\"modalidad_de_contrataci_n\").count().toPandas()\n",
    ")\n",
    "count_process_type_clean[\"prop\"] = (\n",
    "    count_process_type_clean[\"count\"] / count_process_type_clean[\"count\"].sum()\n",
    ")\n",
    "count_process_type_clean.sort_values(\"prop\", ascending=False)"
   ]
  },
  {
   "cell_type": "code",
   "execution_count": 17,
   "id": "d2b2b02d",
   "metadata": {},
   "outputs": [
    {
     "data": {
      "text/html": [
       "<pre style=\"white-space:pre;overflow-x:auto;line-height:normal;font-family:Menlo,'DejaVu Sans Mono',consolas,'Courier New',monospace\"><span style=\"font-weight: bold\">&lt;</span><span style=\"color: #ff00ff; text-decoration-color: #ff00ff; font-weight: bold\">IPython.core.display.Javascript</span><span style=\"color: #000000; text-decoration-color: #000000\"> object</span><span style=\"font-weight: bold\">&gt;</span>\n",
       "</pre>\n"
      ],
      "text/plain": [
       "\u001b[1m<\u001b[0m\u001b[1;95mIPython.core.display.Javascript\u001b[0m\u001b[39m object\u001b[0m\u001b[1m>\u001b[0m\n"
      ]
     },
     "metadata": {},
     "output_type": "display_data"
    },
    {
     "data": {
      "application/javascript": [
       "\n",
       "            setTimeout(function() {\n",
       "                var nbb_cell_id = 17;\n",
       "                var nbb_unformatted_code = \"secop_int = secop_int.withColumn(\\\"tipo_de_contrato\\\", udf(remove_tildes)(F.lower(col(\\\"tipo_de_contrato\\\"))))\";\n",
       "                var nbb_formatted_code = \"secop_int = secop_int.withColumn(\\n    \\\"tipo_de_contrato\\\", udf(remove_tildes)(F.lower(col(\\\"tipo_de_contrato\\\")))\\n)\";\n",
       "                var nbb_cells = Jupyter.notebook.get_cells();\n",
       "                for (var i = 0; i < nbb_cells.length; ++i) {\n",
       "                    if (nbb_cells[i].input_prompt_number == nbb_cell_id) {\n",
       "                        if (nbb_cells[i].get_text() == nbb_unformatted_code) {\n",
       "                             nbb_cells[i].set_text(nbb_formatted_code);\n",
       "                        }\n",
       "                        break;\n",
       "                    }\n",
       "                }\n",
       "            }, 500);\n",
       "            "
      ]
     },
     "metadata": {},
     "output_type": "display_data"
    }
   ],
   "source": [
    "secop_int = secop_int.withColumn(\n",
    "    \"tipo_de_contrato\", udf(remove_tildes)(F.lower(col(\"tipo_de_contrato\")))\n",
    ")"
   ]
  },
  {
   "cell_type": "code",
   "execution_count": 18,
   "id": "bf540941",
   "metadata": {
    "scrolled": true
   },
   "outputs": [
    {
     "data": {
      "text/html": [
       "<pre style=\"white-space:pre;overflow-x:auto;line-height:normal;font-family:Menlo,'DejaVu Sans Mono',consolas,'Courier New',monospace\"><span style=\"color: #7fbfbf; text-decoration-color: #7fbfbf\">[08/10/22 15:58:52] </span><span style=\"color: #800000; text-decoration-color: #800000\">WARNING </span> <span style=\"color: #800080; text-decoration-color: #800080\">/opt/homebrew/Caskroom/miniforge/base/envs/dm_project/lib/python3.10/s</span> <a href=\"file:///opt/homebrew/Caskroom/miniforge/base/envs/dm_project/lib/python3.10/warnings.py\" target=\"_blank\"><span style=\"color: #7f7f7f; text-decoration-color: #7f7f7f\">warnings.py</span></a><span style=\"color: #7f7f7f; text-decoration-color: #7f7f7f\">:</span><a href=\"file:///opt/homebrew/Caskroom/miniforge/base/envs/dm_project/lib/python3.10/warnings.py#109\" target=\"_blank\"><span style=\"color: #7f7f7f; text-decoration-color: #7f7f7f\">109</span></a>\n",
       "<span style=\"color: #7fbfbf; text-decoration-color: #7fbfbf\">                    </span>         <span style=\"color: #800080; text-decoration-color: #800080\">ite-packages/pyspark/sql/pandas/</span><span style=\"color: #ff00ff; text-decoration-color: #ff00ff\">utils.py</span>:<span style=\"color: #008080; text-decoration-color: #008080; font-weight: bold\">35</span>: DeprecationWarning:       <span style=\"color: #7f7f7f; text-decoration-color: #7f7f7f\">               </span>\n",
       "<span style=\"color: #7fbfbf; text-decoration-color: #7fbfbf\">                    </span>         distutils Version classes are deprecated. Use packaging.version        <span style=\"color: #7f7f7f; text-decoration-color: #7f7f7f\">               </span>\n",
       "<span style=\"color: #7fbfbf; text-decoration-color: #7fbfbf\">                    </span>         instead.                                                               <span style=\"color: #7f7f7f; text-decoration-color: #7f7f7f\">               </span>\n",
       "<span style=\"color: #7fbfbf; text-decoration-color: #7fbfbf\">                    </span>           if <span style=\"color: #800080; text-decoration-color: #800080; font-weight: bold\">LooseVersion</span><span style=\"font-weight: bold\">(</span>pandas.__version__<span style=\"font-weight: bold\">)</span> &lt;                                <span style=\"color: #7f7f7f; text-decoration-color: #7f7f7f\">               </span>\n",
       "<span style=\"color: #7fbfbf; text-decoration-color: #7fbfbf\">                    </span>         <span style=\"color: #800080; text-decoration-color: #800080; font-weight: bold\">LooseVersion</span><span style=\"font-weight: bold\">(</span>minimum_pandas_version<span style=\"font-weight: bold\">)</span>:                                  <span style=\"color: #7f7f7f; text-decoration-color: #7f7f7f\">               </span>\n",
       "<span style=\"color: #7fbfbf; text-decoration-color: #7fbfbf\">                    </span>                                                                                <span style=\"color: #7f7f7f; text-decoration-color: #7f7f7f\">               </span>\n",
       "</pre>\n"
      ],
      "text/plain": [
       "\u001b[2;36m[08/10/22 15:58:52]\u001b[0m\u001b[2;36m \u001b[0m\u001b[31mWARNING \u001b[0m \u001b[35m/opt/homebrew/Caskroom/miniforge/base/envs/dm_project/lib/python3.10/s\u001b[0m \u001b]8;id=366084;file:///opt/homebrew/Caskroom/miniforge/base/envs/dm_project/lib/python3.10/warnings.py\u001b\\\u001b[2mwarnings.py\u001b[0m\u001b]8;;\u001b\\\u001b[2m:\u001b[0m\u001b]8;id=908621;file:///opt/homebrew/Caskroom/miniforge/base/envs/dm_project/lib/python3.10/warnings.py#109\u001b\\\u001b[2m109\u001b[0m\u001b]8;;\u001b\\\n",
       "\u001b[2;36m                    \u001b[0m         \u001b[35mite-packages/pyspark/sql/pandas/\u001b[0m\u001b[95mutils.py\u001b[0m:\u001b[1;36m35\u001b[0m: DeprecationWarning:       \u001b[2m               \u001b[0m\n",
       "\u001b[2;36m                    \u001b[0m         distutils Version classes are deprecated. Use packaging.version        \u001b[2m               \u001b[0m\n",
       "\u001b[2;36m                    \u001b[0m         instead.                                                               \u001b[2m               \u001b[0m\n",
       "\u001b[2;36m                    \u001b[0m           if \u001b[1;35mLooseVersion\u001b[0m\u001b[1m(\u001b[0mpandas.__version__\u001b[1m)\u001b[0m <                                \u001b[2m               \u001b[0m\n",
       "\u001b[2;36m                    \u001b[0m         \u001b[1;35mLooseVersion\u001b[0m\u001b[1m(\u001b[0mminimum_pandas_version\u001b[1m)\u001b[0m:                                  \u001b[2m               \u001b[0m\n",
       "\u001b[2;36m                    \u001b[0m                                                                                \u001b[2m               \u001b[0m\n"
      ]
     },
     "metadata": {},
     "output_type": "display_data"
    },
    {
     "name": "stderr",
     "output_type": "stream",
     "text": [
      "                                                                                \r"
     ]
    },
    {
     "data": {
      "text/html": [
       "<div>\n",
       "<style scoped>\n",
       "    .dataframe tbody tr th:only-of-type {\n",
       "        vertical-align: middle;\n",
       "    }\n",
       "\n",
       "    .dataframe tbody tr th {\n",
       "        vertical-align: top;\n",
       "    }\n",
       "\n",
       "    .dataframe thead th {\n",
       "        text-align: right;\n",
       "    }\n",
       "</style>\n",
       "<table border=\"1\" class=\"dataframe\">\n",
       "  <thead>\n",
       "    <tr style=\"text-align: right;\">\n",
       "      <th></th>\n",
       "      <th>tipo_de_contrato</th>\n",
       "      <th>count</th>\n",
       "      <th>prop</th>\n",
       "    </tr>\n",
       "  </thead>\n",
       "  <tbody>\n",
       "    <tr>\n",
       "      <th>3</th>\n",
       "      <td>prestacion de servicios</td>\n",
       "      <td>535714</td>\n",
       "      <td>0.697887</td>\n",
       "    </tr>\n",
       "    <tr>\n",
       "      <th>0</th>\n",
       "      <td>suministro</td>\n",
       "      <td>97743</td>\n",
       "      <td>0.127332</td>\n",
       "    </tr>\n",
       "    <tr>\n",
       "      <th>13</th>\n",
       "      <td>obra</td>\n",
       "      <td>47713</td>\n",
       "      <td>0.062157</td>\n",
       "    </tr>\n",
       "    <tr>\n",
       "      <th>2</th>\n",
       "      <td>compraventa</td>\n",
       "      <td>33059</td>\n",
       "      <td>0.043067</td>\n",
       "    </tr>\n",
       "    <tr>\n",
       "      <th>11</th>\n",
       "      <td>otro tipo de contrato</td>\n",
       "      <td>25946</td>\n",
       "      <td>0.033800</td>\n",
       "    </tr>\n",
       "    <tr>\n",
       "      <th>15</th>\n",
       "      <td>consultoria</td>\n",
       "      <td>9446</td>\n",
       "      <td>0.012306</td>\n",
       "    </tr>\n",
       "    <tr>\n",
       "      <th>18</th>\n",
       "      <td>interventoria</td>\n",
       "      <td>6574</td>\n",
       "      <td>0.008564</td>\n",
       "    </tr>\n",
       "    <tr>\n",
       "      <th>8</th>\n",
       "      <td>arrendamiento</td>\n",
       "      <td>5891</td>\n",
       "      <td>0.007674</td>\n",
       "    </tr>\n",
       "    <tr>\n",
       "      <th>9</th>\n",
       "      <td>otro</td>\n",
       "      <td>1359</td>\n",
       "      <td>0.001770</td>\n",
       "    </tr>\n",
       "    <tr>\n",
       "      <th>17</th>\n",
       "      <td>decreelaw092/2017</td>\n",
       "      <td>1357</td>\n",
       "      <td>0.001768</td>\n",
       "    </tr>\n",
       "    <tr>\n",
       "      <th>6</th>\n",
       "      <td>comodato</td>\n",
       "      <td>752</td>\n",
       "      <td>0.000980</td>\n",
       "    </tr>\n",
       "    <tr>\n",
       "      <th>12</th>\n",
       "      <td>suministros</td>\n",
       "      <td>654</td>\n",
       "      <td>0.000852</td>\n",
       "    </tr>\n",
       "    <tr>\n",
       "      <th>4</th>\n",
       "      <td>concesion</td>\n",
       "      <td>311</td>\n",
       "      <td>0.000405</td>\n",
       "    </tr>\n",
       "    <tr>\n",
       "      <th>7</th>\n",
       "      <td>no definido</td>\n",
       "      <td>307</td>\n",
       "      <td>0.000400</td>\n",
       "    </tr>\n",
       "    <tr>\n",
       "      <th>10</th>\n",
       "      <td>credito</td>\n",
       "      <td>267</td>\n",
       "      <td>0.000348</td>\n",
       "    </tr>\n",
       "    <tr>\n",
       "      <th>5</th>\n",
       "      <td>arrendamiento de inmuebles</td>\n",
       "      <td>140</td>\n",
       "      <td>0.000182</td>\n",
       "    </tr>\n",
       "    <tr>\n",
       "      <th>14</th>\n",
       "      <td>fiducia</td>\n",
       "      <td>119</td>\n",
       "      <td>0.000155</td>\n",
       "    </tr>\n",
       "    <tr>\n",
       "      <th>20</th>\n",
       "      <td>acuerdo marco</td>\n",
       "      <td>117</td>\n",
       "      <td>0.000152</td>\n",
       "    </tr>\n",
       "    <tr>\n",
       "      <th>19</th>\n",
       "      <td>seguros</td>\n",
       "      <td>83</td>\n",
       "      <td>0.000108</td>\n",
       "    </tr>\n",
       "    <tr>\n",
       "      <th>16</th>\n",
       "      <td>arrendamiento de muebles</td>\n",
       "      <td>30</td>\n",
       "      <td>0.000039</td>\n",
       "    </tr>\n",
       "    <tr>\n",
       "      <th>21</th>\n",
       "      <td>agregacion de demanda</td>\n",
       "      <td>12</td>\n",
       "      <td>0.000016</td>\n",
       "    </tr>\n",
       "    <tr>\n",
       "      <th>24</th>\n",
       "      <td>no especificado</td>\n",
       "      <td>12</td>\n",
       "      <td>0.000016</td>\n",
       "    </tr>\n",
       "    <tr>\n",
       "      <th>22</th>\n",
       "      <td>emprestito</td>\n",
       "      <td>7</td>\n",
       "      <td>0.000009</td>\n",
       "    </tr>\n",
       "    <tr>\n",
       "      <th>23</th>\n",
       "      <td>asociacion publico privada</td>\n",
       "      <td>6</td>\n",
       "      <td>0.000008</td>\n",
       "    </tr>\n",
       "    <tr>\n",
       "      <th>1</th>\n",
       "      <td>servicios financieros</td>\n",
       "      <td>3</td>\n",
       "      <td>0.000004</td>\n",
       "    </tr>\n",
       "    <tr>\n",
       "      <th>25</th>\n",
       "      <td>venta muebles</td>\n",
       "      <td>1</td>\n",
       "      <td>0.000001</td>\n",
       "    </tr>\n",
       "  </tbody>\n",
       "</table>\n",
       "</div>"
      ]
     },
     "execution_count": 18,
     "metadata": {},
     "output_type": "execute_result"
    },
    {
     "data": {
      "text/html": [
       "<pre style=\"white-space:pre;overflow-x:auto;line-height:normal;font-family:Menlo,'DejaVu Sans Mono',consolas,'Courier New',monospace\"><span style=\"font-weight: bold\">&lt;</span><span style=\"color: #ff00ff; text-decoration-color: #ff00ff; font-weight: bold\">IPython.core.display.Javascript</span><span style=\"color: #000000; text-decoration-color: #000000\"> object</span><span style=\"font-weight: bold\">&gt;</span>\n",
       "</pre>\n"
      ],
      "text/plain": [
       "\u001b[1m<\u001b[0m\u001b[1;95mIPython.core.display.Javascript\u001b[0m\u001b[39m object\u001b[0m\u001b[1m>\u001b[0m\n"
      ]
     },
     "metadata": {},
     "output_type": "display_data"
    },
    {
     "data": {
      "application/javascript": [
       "\n",
       "            setTimeout(function() {\n",
       "                var nbb_cell_id = 18;\n",
       "                var nbb_unformatted_code = \"count_process_type_cont = secop_int.groupBy(\\\"tipo_de_contrato\\\").count().toPandas()\\ncount_process_type_cont[\\\"prop\\\"] = (\\n    count_process_type_cont[\\\"count\\\"] / count_process_type_cont[\\\"count\\\"].sum()\\n)\\ncount_process_type_cont.sort_values(\\\"prop\\\", ascending=False)\";\n",
       "                var nbb_formatted_code = \"count_process_type_cont = secop_int.groupBy(\\\"tipo_de_contrato\\\").count().toPandas()\\ncount_process_type_cont[\\\"prop\\\"] = (\\n    count_process_type_cont[\\\"count\\\"] / count_process_type_cont[\\\"count\\\"].sum()\\n)\\ncount_process_type_cont.sort_values(\\\"prop\\\", ascending=False)\";\n",
       "                var nbb_cells = Jupyter.notebook.get_cells();\n",
       "                for (var i = 0; i < nbb_cells.length; ++i) {\n",
       "                    if (nbb_cells[i].input_prompt_number == nbb_cell_id) {\n",
       "                        if (nbb_cells[i].get_text() == nbb_unformatted_code) {\n",
       "                             nbb_cells[i].set_text(nbb_formatted_code);\n",
       "                        }\n",
       "                        break;\n",
       "                    }\n",
       "                }\n",
       "            }, 500);\n",
       "            "
      ]
     },
     "metadata": {},
     "output_type": "display_data"
    }
   ],
   "source": [
    "count_process_type_cont = secop_int.groupBy(\"tipo_de_contrato\").count().toPandas()\n",
    "count_process_type_cont[\"prop\"] = (\n",
    "    count_process_type_cont[\"count\"] / count_process_type_cont[\"count\"].sum()\n",
    ")\n",
    "count_process_type_cont.sort_values(\"prop\", ascending=False)"
   ]
  },
  {
   "cell_type": "code",
   "execution_count": 22,
   "id": "8342818e",
   "metadata": {},
   "outputs": [
    {
     "data": {
      "text/html": [
       "<pre style=\"white-space:pre;overflow-x:auto;line-height:normal;font-family:Menlo,'DejaVu Sans Mono',consolas,'Courier New',monospace\"><span style=\"font-weight: bold\">&lt;</span><span style=\"color: #ff00ff; text-decoration-color: #ff00ff; font-weight: bold\">IPython.core.display.Javascript</span><span style=\"color: #000000; text-decoration-color: #000000\"> object</span><span style=\"font-weight: bold\">&gt;</span>\n",
       "</pre>\n"
      ],
      "text/plain": [
       "\u001b[1m<\u001b[0m\u001b[1;95mIPython.core.display.Javascript\u001b[0m\u001b[39m object\u001b[0m\u001b[1m>\u001b[0m\n"
      ]
     },
     "metadata": {},
     "output_type": "display_data"
    },
    {
     "data": {
      "application/javascript": [
       "\n",
       "            setTimeout(function() {\n",
       "                var nbb_cell_id = 22;\n",
       "                var nbb_unformatted_code = \"def clean_tipo_contrato(tip: str):\\n    \\\"\\\"\\\"Clean and group tipo de contrato\\\"\\\"\\\"\\n    if (\\\"suministro\\\" in tip) or (tip in [\\\"compraventa\\\", \\\"venta muebles\\\"]):\\n        return \\\"suministro\\\"\\n    elif (\\\"arrendamiento\\\" in tip) or (\\\"comodato\\\" in tip):\\n        return \\\"arrendamiento\\\"\\n    elif tip in [\\n        \\\"servicios financieros\\\",\\n        \\\"credito\\\",\\n        \\\"fiducia\\\",\\n        \\\"seguros\\\",\\n        \\\"emprestito\\\",\\n    ]:\\n        return \\\"servicios financieros\\\"\\n    elif tip in [\\\"obra\\\", \\\"consultoria\\\", \\\"prestacion de servicios\\\"]:\\n        return tip\\n    else:\\n        return \\\"Otro\\\"\";\n",
       "                var nbb_formatted_code = \"def clean_tipo_contrato(tip: str):\\n    \\\"\\\"\\\"Clean and group tipo de contrato\\\"\\\"\\\"\\n    if (\\\"suministro\\\" in tip) or (tip in [\\\"compraventa\\\", \\\"venta muebles\\\"]):\\n        return \\\"suministro\\\"\\n    elif (\\\"arrendamiento\\\" in tip) or (\\\"comodato\\\" in tip):\\n        return \\\"arrendamiento\\\"\\n    elif tip in [\\n        \\\"servicios financieros\\\",\\n        \\\"credito\\\",\\n        \\\"fiducia\\\",\\n        \\\"seguros\\\",\\n        \\\"emprestito\\\",\\n    ]:\\n        return \\\"servicios financieros\\\"\\n    elif tip in [\\\"obra\\\", \\\"consultoria\\\", \\\"prestacion de servicios\\\"]:\\n        return tip\\n    else:\\n        return \\\"Otro\\\"\";\n",
       "                var nbb_cells = Jupyter.notebook.get_cells();\n",
       "                for (var i = 0; i < nbb_cells.length; ++i) {\n",
       "                    if (nbb_cells[i].input_prompt_number == nbb_cell_id) {\n",
       "                        if (nbb_cells[i].get_text() == nbb_unformatted_code) {\n",
       "                             nbb_cells[i].set_text(nbb_formatted_code);\n",
       "                        }\n",
       "                        break;\n",
       "                    }\n",
       "                }\n",
       "            }, 500);\n",
       "            "
      ]
     },
     "metadata": {},
     "output_type": "display_data"
    }
   ],
   "source": [
    "def clean_tipo_contrato(tip: str):\n",
    "    \"\"\"Clean and group tipo de contrato\"\"\"\n",
    "    if (\"suministro\" in tip) or (tip in [\"compraventa\", \"venta muebles\"]):\n",
    "        return \"suministro\"\n",
    "    elif (\"arrendamiento\" in tip) or (\"comodato\" in tip):\n",
    "        return \"arrendamiento\"\n",
    "    elif tip in [\n",
    "        \"servicios financieros\",\n",
    "        \"credito\",\n",
    "        \"fiducia\",\n",
    "        \"seguros\",\n",
    "        \"emprestito\",\n",
    "    ]:\n",
    "        return \"servicios financieros\"\n",
    "    elif tip in [\"obra\", \"consultoria\", \"prestacion de servicios\",'interventoria','concesion']:\n",
    "        return tip\n",
    "    else:\n",
    "        return \"Otro\""
   ]
  },
  {
   "cell_type": "code",
   "execution_count": 23,
   "id": "53b0099d",
   "metadata": {},
   "outputs": [
    {
     "data": {
      "text/html": [
       "<pre style=\"white-space:pre;overflow-x:auto;line-height:normal;font-family:Menlo,'DejaVu Sans Mono',consolas,'Courier New',monospace\"><span style=\"font-weight: bold\">&lt;</span><span style=\"color: #ff00ff; text-decoration-color: #ff00ff; font-weight: bold\">IPython.core.display.Javascript</span><span style=\"color: #000000; text-decoration-color: #000000\"> object</span><span style=\"font-weight: bold\">&gt;</span>\n",
       "</pre>\n"
      ],
      "text/plain": [
       "\u001b[1m<\u001b[0m\u001b[1;95mIPython.core.display.Javascript\u001b[0m\u001b[39m object\u001b[0m\u001b[1m>\u001b[0m\n"
      ]
     },
     "metadata": {},
     "output_type": "display_data"
    },
    {
     "data": {
      "application/javascript": [
       "\n",
       "            setTimeout(function() {\n",
       "                var nbb_cell_id = 23;\n",
       "                var nbb_unformatted_code = \"count_process_type_cont[\\\"tipo_de_contrato_clean\\\"] = count_process_type_cont[\\n    \\\"tipo_de_contrato\\\"\\n].apply(clean_tipo_contrato)\";\n",
       "                var nbb_formatted_code = \"count_process_type_cont[\\\"tipo_de_contrato_clean\\\"] = count_process_type_cont[\\n    \\\"tipo_de_contrato\\\"\\n].apply(clean_tipo_contrato)\";\n",
       "                var nbb_cells = Jupyter.notebook.get_cells();\n",
       "                for (var i = 0; i < nbb_cells.length; ++i) {\n",
       "                    if (nbb_cells[i].input_prompt_number == nbb_cell_id) {\n",
       "                        if (nbb_cells[i].get_text() == nbb_unformatted_code) {\n",
       "                             nbb_cells[i].set_text(nbb_formatted_code);\n",
       "                        }\n",
       "                        break;\n",
       "                    }\n",
       "                }\n",
       "            }, 500);\n",
       "            "
      ]
     },
     "metadata": {},
     "output_type": "display_data"
    }
   ],
   "source": [
    "count_process_type_cont[\"tipo_de_contrato_clean\"] = count_process_type_cont[\n",
    "    \"tipo_de_contrato\"\n",
    "].apply(clean_tipo_contrato)"
   ]
  },
  {
   "cell_type": "code",
   "execution_count": 24,
   "id": "06112543",
   "metadata": {},
   "outputs": [
    {
     "data": {
      "text/html": [
       "<div>\n",
       "<style scoped>\n",
       "    .dataframe tbody tr th:only-of-type {\n",
       "        vertical-align: middle;\n",
       "    }\n",
       "\n",
       "    .dataframe tbody tr th {\n",
       "        vertical-align: top;\n",
       "    }\n",
       "\n",
       "    .dataframe thead th {\n",
       "        text-align: right;\n",
       "    }\n",
       "</style>\n",
       "<table border=\"1\" class=\"dataframe\">\n",
       "  <thead>\n",
       "    <tr style=\"text-align: right;\">\n",
       "      <th></th>\n",
       "      <th>tipo_de_contrato</th>\n",
       "      <th>count</th>\n",
       "      <th>prop</th>\n",
       "      <th>tipo_de_contrato_clean</th>\n",
       "    </tr>\n",
       "  </thead>\n",
       "  <tbody>\n",
       "    <tr>\n",
       "      <th>0</th>\n",
       "      <td>suministro</td>\n",
       "      <td>97743</td>\n",
       "      <td>0.127332</td>\n",
       "      <td>suministro</td>\n",
       "    </tr>\n",
       "    <tr>\n",
       "      <th>1</th>\n",
       "      <td>servicios financieros</td>\n",
       "      <td>3</td>\n",
       "      <td>0.000004</td>\n",
       "      <td>servicios financieros</td>\n",
       "    </tr>\n",
       "    <tr>\n",
       "      <th>2</th>\n",
       "      <td>compraventa</td>\n",
       "      <td>33059</td>\n",
       "      <td>0.043067</td>\n",
       "      <td>suministro</td>\n",
       "    </tr>\n",
       "    <tr>\n",
       "      <th>3</th>\n",
       "      <td>prestacion de servicios</td>\n",
       "      <td>535714</td>\n",
       "      <td>0.697887</td>\n",
       "      <td>prestacion de servicios</td>\n",
       "    </tr>\n",
       "    <tr>\n",
       "      <th>4</th>\n",
       "      <td>concesion</td>\n",
       "      <td>311</td>\n",
       "      <td>0.000405</td>\n",
       "      <td>Otro</td>\n",
       "    </tr>\n",
       "    <tr>\n",
       "      <th>5</th>\n",
       "      <td>arrendamiento de inmuebles</td>\n",
       "      <td>140</td>\n",
       "      <td>0.000182</td>\n",
       "      <td>arrendamiento</td>\n",
       "    </tr>\n",
       "    <tr>\n",
       "      <th>6</th>\n",
       "      <td>comodato</td>\n",
       "      <td>752</td>\n",
       "      <td>0.000980</td>\n",
       "      <td>arrendamiento</td>\n",
       "    </tr>\n",
       "    <tr>\n",
       "      <th>7</th>\n",
       "      <td>no definido</td>\n",
       "      <td>307</td>\n",
       "      <td>0.000400</td>\n",
       "      <td>Otro</td>\n",
       "    </tr>\n",
       "    <tr>\n",
       "      <th>8</th>\n",
       "      <td>arrendamiento</td>\n",
       "      <td>5891</td>\n",
       "      <td>0.007674</td>\n",
       "      <td>arrendamiento</td>\n",
       "    </tr>\n",
       "    <tr>\n",
       "      <th>9</th>\n",
       "      <td>otro</td>\n",
       "      <td>1359</td>\n",
       "      <td>0.001770</td>\n",
       "      <td>Otro</td>\n",
       "    </tr>\n",
       "    <tr>\n",
       "      <th>10</th>\n",
       "      <td>credito</td>\n",
       "      <td>267</td>\n",
       "      <td>0.000348</td>\n",
       "      <td>servicios financieros</td>\n",
       "    </tr>\n",
       "    <tr>\n",
       "      <th>11</th>\n",
       "      <td>otro tipo de contrato</td>\n",
       "      <td>25946</td>\n",
       "      <td>0.033800</td>\n",
       "      <td>Otro</td>\n",
       "    </tr>\n",
       "    <tr>\n",
       "      <th>12</th>\n",
       "      <td>suministros</td>\n",
       "      <td>654</td>\n",
       "      <td>0.000852</td>\n",
       "      <td>suministro</td>\n",
       "    </tr>\n",
       "    <tr>\n",
       "      <th>13</th>\n",
       "      <td>obra</td>\n",
       "      <td>47713</td>\n",
       "      <td>0.062157</td>\n",
       "      <td>obra</td>\n",
       "    </tr>\n",
       "    <tr>\n",
       "      <th>14</th>\n",
       "      <td>fiducia</td>\n",
       "      <td>119</td>\n",
       "      <td>0.000155</td>\n",
       "      <td>servicios financieros</td>\n",
       "    </tr>\n",
       "    <tr>\n",
       "      <th>15</th>\n",
       "      <td>consultoria</td>\n",
       "      <td>9446</td>\n",
       "      <td>0.012306</td>\n",
       "      <td>consultoria</td>\n",
       "    </tr>\n",
       "    <tr>\n",
       "      <th>16</th>\n",
       "      <td>arrendamiento de muebles</td>\n",
       "      <td>30</td>\n",
       "      <td>0.000039</td>\n",
       "      <td>arrendamiento</td>\n",
       "    </tr>\n",
       "    <tr>\n",
       "      <th>17</th>\n",
       "      <td>decreelaw092/2017</td>\n",
       "      <td>1357</td>\n",
       "      <td>0.001768</td>\n",
       "      <td>Otro</td>\n",
       "    </tr>\n",
       "    <tr>\n",
       "      <th>18</th>\n",
       "      <td>interventoria</td>\n",
       "      <td>6574</td>\n",
       "      <td>0.008564</td>\n",
       "      <td>Otro</td>\n",
       "    </tr>\n",
       "    <tr>\n",
       "      <th>19</th>\n",
       "      <td>seguros</td>\n",
       "      <td>83</td>\n",
       "      <td>0.000108</td>\n",
       "      <td>servicios financieros</td>\n",
       "    </tr>\n",
       "    <tr>\n",
       "      <th>20</th>\n",
       "      <td>acuerdo marco</td>\n",
       "      <td>117</td>\n",
       "      <td>0.000152</td>\n",
       "      <td>Otro</td>\n",
       "    </tr>\n",
       "    <tr>\n",
       "      <th>21</th>\n",
       "      <td>agregacion de demanda</td>\n",
       "      <td>12</td>\n",
       "      <td>0.000016</td>\n",
       "      <td>Otro</td>\n",
       "    </tr>\n",
       "    <tr>\n",
       "      <th>22</th>\n",
       "      <td>emprestito</td>\n",
       "      <td>7</td>\n",
       "      <td>0.000009</td>\n",
       "      <td>servicios financieros</td>\n",
       "    </tr>\n",
       "    <tr>\n",
       "      <th>23</th>\n",
       "      <td>asociacion publico privada</td>\n",
       "      <td>6</td>\n",
       "      <td>0.000008</td>\n",
       "      <td>Otro</td>\n",
       "    </tr>\n",
       "    <tr>\n",
       "      <th>24</th>\n",
       "      <td>no especificado</td>\n",
       "      <td>12</td>\n",
       "      <td>0.000016</td>\n",
       "      <td>Otro</td>\n",
       "    </tr>\n",
       "    <tr>\n",
       "      <th>25</th>\n",
       "      <td>venta muebles</td>\n",
       "      <td>1</td>\n",
       "      <td>0.000001</td>\n",
       "      <td>suministro</td>\n",
       "    </tr>\n",
       "  </tbody>\n",
       "</table>\n",
       "</div>"
      ]
     },
     "execution_count": 24,
     "metadata": {},
     "output_type": "execute_result"
    },
    {
     "data": {
      "text/html": [
       "<pre style=\"white-space:pre;overflow-x:auto;line-height:normal;font-family:Menlo,'DejaVu Sans Mono',consolas,'Courier New',monospace\"><span style=\"font-weight: bold\">&lt;</span><span style=\"color: #ff00ff; text-decoration-color: #ff00ff; font-weight: bold\">IPython.core.display.Javascript</span><span style=\"color: #000000; text-decoration-color: #000000\"> object</span><span style=\"font-weight: bold\">&gt;</span>\n",
       "</pre>\n"
      ],
      "text/plain": [
       "\u001b[1m<\u001b[0m\u001b[1;95mIPython.core.display.Javascript\u001b[0m\u001b[39m object\u001b[0m\u001b[1m>\u001b[0m\n"
      ]
     },
     "metadata": {},
     "output_type": "display_data"
    },
    {
     "data": {
      "application/javascript": [
       "\n",
       "            setTimeout(function() {\n",
       "                var nbb_cell_id = 24;\n",
       "                var nbb_unformatted_code = \"count_process_type_cont\";\n",
       "                var nbb_formatted_code = \"count_process_type_cont\";\n",
       "                var nbb_cells = Jupyter.notebook.get_cells();\n",
       "                for (var i = 0; i < nbb_cells.length; ++i) {\n",
       "                    if (nbb_cells[i].input_prompt_number == nbb_cell_id) {\n",
       "                        if (nbb_cells[i].get_text() == nbb_unformatted_code) {\n",
       "                             nbb_cells[i].set_text(nbb_formatted_code);\n",
       "                        }\n",
       "                        break;\n",
       "                    }\n",
       "                }\n",
       "            }, 500);\n",
       "            "
      ]
     },
     "metadata": {},
     "output_type": "display_data"
    }
   ],
   "source": [
    "count_process_type_cont"
   ]
  },
  {
   "cell_type": "code",
   "execution_count": 18,
   "id": "268cb3a8",
   "metadata": {},
   "outputs": [
    {
     "data": {
      "text/html": [
       "<pre style=\"white-space:pre;overflow-x:auto;line-height:normal;font-family:Menlo,'DejaVu Sans Mono',consolas,'Courier New',monospace\">\n",
       "<span style=\"color: #800080; text-decoration-color: #800080; font-weight: bold\">array</span><span style=\"font-weight: bold\">([</span><span style=\"color: #008000; text-decoration-color: #008000\">'suministro'</span>, <span style=\"color: #008000; text-decoration-color: #008000\">'prestación de servicios'</span>, <span style=\"color: #008000; text-decoration-color: #008000\">'servicios financieros'</span>,\n",
       "       <span style=\"color: #008000; text-decoration-color: #008000\">'consultoría'</span>, <span style=\"color: #008000; text-decoration-color: #008000\">'compraventa'</span>, <span style=\"color: #008000; text-decoration-color: #008000\">'arrendamiento de inmuebles'</span>,\n",
       "       <span style=\"color: #008000; text-decoration-color: #008000\">'comodato'</span>, <span style=\"color: #008000; text-decoration-color: #008000\">'no definido'</span>, <span style=\"color: #008000; text-decoration-color: #008000\">'arrendamiento'</span>, <span style=\"color: #008000; text-decoration-color: #008000\">'concesión'</span>, <span style=\"color: #008000; text-decoration-color: #008000\">'otro'</span>,\n",
       "       <span style=\"color: #008000; text-decoration-color: #008000\">'crédito'</span>, <span style=\"color: #008000; text-decoration-color: #008000\">'otro tipo de contrato'</span>, <span style=\"color: #008000; text-decoration-color: #008000\">'suministros'</span>, <span style=\"color: #008000; text-decoration-color: #008000\">'interventoría'</span>,\n",
       "       <span style=\"color: #008000; text-decoration-color: #008000\">'obra'</span>, <span style=\"color: #008000; text-decoration-color: #008000\">'fiducia'</span>, <span style=\"color: #008000; text-decoration-color: #008000\">'arrendamiento de muebles'</span>, <span style=\"color: #008000; text-decoration-color: #008000\">'decreelaw092/2017'</span>,\n",
       "       <span style=\"color: #008000; text-decoration-color: #008000\">'seguros'</span>, <span style=\"color: #008000; text-decoration-color: #008000\">'acuerdo marco'</span>, <span style=\"color: #008000; text-decoration-color: #008000\">'agregación de demanda'</span>, <span style=\"color: #008000; text-decoration-color: #008000\">'emprestito'</span>,\n",
       "       <span style=\"color: #008000; text-decoration-color: #008000\">'asociación público privada'</span>, <span style=\"color: #008000; text-decoration-color: #008000\">'no especificado'</span>, <span style=\"color: #008000; text-decoration-color: #008000\">'venta muebles'</span><span style=\"font-weight: bold\">]</span>,\n",
       "      <span style=\"color: #808000; text-decoration-color: #808000\">dtype</span>=<span style=\"color: #800080; text-decoration-color: #800080\">object</span><span style=\"font-weight: bold\">)</span>\n",
       "</pre>\n"
      ],
      "text/plain": [
       "\n",
       "\u001b[1;35marray\u001b[0m\u001b[1m(\u001b[0m\u001b[1m[\u001b[0m\u001b[32m'suministro'\u001b[0m, \u001b[32m'prestación de servicios'\u001b[0m, \u001b[32m'servicios financieros'\u001b[0m,\n",
       "       \u001b[32m'consultoría'\u001b[0m, \u001b[32m'compraventa'\u001b[0m, \u001b[32m'arrendamiento de inmuebles'\u001b[0m,\n",
       "       \u001b[32m'comodato'\u001b[0m, \u001b[32m'no definido'\u001b[0m, \u001b[32m'arrendamiento'\u001b[0m, \u001b[32m'concesión'\u001b[0m, \u001b[32m'otro'\u001b[0m,\n",
       "       \u001b[32m'crédito'\u001b[0m, \u001b[32m'otro tipo de contrato'\u001b[0m, \u001b[32m'suministros'\u001b[0m, \u001b[32m'interventoría'\u001b[0m,\n",
       "       \u001b[32m'obra'\u001b[0m, \u001b[32m'fiducia'\u001b[0m, \u001b[32m'arrendamiento de muebles'\u001b[0m, \u001b[32m'decreelaw092/2017'\u001b[0m,\n",
       "       \u001b[32m'seguros'\u001b[0m, \u001b[32m'acuerdo marco'\u001b[0m, \u001b[32m'agregación de demanda'\u001b[0m, \u001b[32m'emprestito'\u001b[0m,\n",
       "       \u001b[32m'asociación público privada'\u001b[0m, \u001b[32m'no especificado'\u001b[0m, \u001b[32m'venta muebles'\u001b[0m\u001b[1m]\u001b[0m,\n",
       "      \u001b[33mdtype\u001b[0m=\u001b[35mobject\u001b[0m\u001b[1m)\u001b[0m\n"
      ]
     },
     "metadata": {},
     "output_type": "display_data"
    },
    {
     "data": {
      "text/html": [
       "<pre style=\"white-space:pre;overflow-x:auto;line-height:normal;font-family:Menlo,'DejaVu Sans Mono',consolas,'Courier New',monospace\"><span style=\"font-weight: bold\">&lt;</span><span style=\"color: #ff00ff; text-decoration-color: #ff00ff; font-weight: bold\">IPython.core.display.Javascript</span><span style=\"color: #000000; text-decoration-color: #000000\"> object</span><span style=\"font-weight: bold\">&gt;</span>\n",
       "</pre>\n"
      ],
      "text/plain": [
       "\u001b[1m<\u001b[0m\u001b[1;95mIPython.core.display.Javascript\u001b[0m\u001b[39m object\u001b[0m\u001b[1m>\u001b[0m\n"
      ]
     },
     "metadata": {},
     "output_type": "display_data"
    },
    {
     "data": {
      "application/javascript": [
       "\n",
       "            setTimeout(function() {\n",
       "                var nbb_cell_id = 18;\n",
       "                var nbb_unformatted_code = \"count_process_type_cont['tipo_de_contrato'].unique()\";\n",
       "                var nbb_formatted_code = \"count_process_type_cont[\\\"tipo_de_contrato\\\"].unique()\";\n",
       "                var nbb_cells = Jupyter.notebook.get_cells();\n",
       "                for (var i = 0; i < nbb_cells.length; ++i) {\n",
       "                    if (nbb_cells[i].input_prompt_number == nbb_cell_id) {\n",
       "                        if (nbb_cells[i].get_text() == nbb_unformatted_code) {\n",
       "                             nbb_cells[i].set_text(nbb_formatted_code);\n",
       "                        }\n",
       "                        break;\n",
       "                    }\n",
       "                }\n",
       "            }, 500);\n",
       "            "
      ]
     },
     "metadata": {},
     "output_type": "display_data"
    }
   ],
   "source": [
    "count_process_type_cont[\"tipo_de_contrato\"].unique()"
   ]
  },
  {
   "cell_type": "code",
   "execution_count": null,
   "id": "489f46f6",
   "metadata": {},
   "outputs": [],
   "source": []
  },
  {
   "cell_type": "code",
   "execution_count": 4,
   "id": "cfe49ac7",
   "metadata": {},
   "outputs": [],
   "source": [
    "import pandas as pd\n",
    "from sodapy import Socrata\n",
    "from typing import Dict\n",
    "import datetime\n",
    "from pyspark.sql import DataFrame as SparkDataFrame\n",
    "from pyspark.sql import SparkSession\n",
    "from pyspark.sql import SQLContext\n",
    "from secop.pipelines.data_engineering.utilities import (\n",
    "    COLS_SEC_2,\n",
    "    schema_secop_int,\n",
    "    _get_nits_to_extract,\n",
    "    _remove_tildes,\n",
    "    _clean_modalidad_contratacion,\n",
    "    _clean_tipo_contrato,\n",
    ")\n",
    "from pyspark.sql.types import StructType\n",
    "from pyspark.sql import SparkSession\n",
    "from pyspark.sql import SQLContext\n",
    "import pyspark.sql.functions as F\n",
    "from pyspark.sql.functions import col, udf\n",
    "\n",
    "CODE_INTEGRATED = \"rpmr-utcd\"\n",
    "CODE_SECOPII = \"p6dx-8zbt\""
   ]
  },
  {
   "cell_type": "code",
   "execution_count": 2,
   "id": "b5b08a5b",
   "metadata": {},
   "outputs": [
    {
     "data": {
      "text/html": [
       "<pre style=\"white-space:pre;overflow-x:auto;line-height:normal;font-family:Menlo,'DejaVu Sans Mono',consolas,'Courier New',monospace\"><span style=\"color: #7fbfbf; text-decoration-color: #7fbfbf\">[08/11/22 17:20:57] </span><span style=\"color: #000080; text-decoration-color: #000080\">INFO    </span> Loading data from <span style=\"color: #008000; text-decoration-color: #008000\">'secop_2_log_in'</span> <span style=\"font-weight: bold\">(</span>JSONDataSet<span style=\"font-weight: bold\">)</span><span style=\"color: #808000; text-decoration-color: #808000\">...</span>                <a href=\"file:///opt/homebrew/Caskroom/miniforge/base/envs/dm_project/lib/python3.10/site-packages/kedro/io/data_catalog.py\" target=\"_blank\"><span style=\"color: #7f7f7f; text-decoration-color: #7f7f7f\">data_catalog.py</span></a><span style=\"color: #7f7f7f; text-decoration-color: #7f7f7f\">:</span><a href=\"file:///opt/homebrew/Caskroom/miniforge/base/envs/dm_project/lib/python3.10/site-packages/kedro/io/data_catalog.py#343\" target=\"_blank\"><span style=\"color: #7f7f7f; text-decoration-color: #7f7f7f\">343</span></a>\n",
       "</pre>\n"
      ],
      "text/plain": [
       "\u001b[2;36m[08/11/22 17:20:57]\u001b[0m\u001b[2;36m \u001b[0m\u001b[34mINFO    \u001b[0m Loading data from \u001b[32m'secop_2_log_in'\u001b[0m \u001b[1m(\u001b[0mJSONDataSet\u001b[1m)\u001b[0m\u001b[33m...\u001b[0m                \u001b]8;id=130045;file:///opt/homebrew/Caskroom/miniforge/base/envs/dm_project/lib/python3.10/site-packages/kedro/io/data_catalog.py\u001b\\\u001b[2mdata_catalog.py\u001b[0m\u001b]8;;\u001b\\\u001b[2m:\u001b[0m\u001b]8;id=560941;file:///opt/homebrew/Caskroom/miniforge/base/envs/dm_project/lib/python3.10/site-packages/kedro/io/data_catalog.py#343\u001b\\\u001b[2m343\u001b[0m\u001b]8;;\u001b\\\n"
      ]
     },
     "metadata": {},
     "output_type": "display_data"
    }
   ],
   "source": [
    "secop_2_log = catalog.load('secop_2_log_in')"
   ]
  },
  {
   "cell_type": "code",
   "execution_count": 3,
   "id": "90b53696",
   "metadata": {},
   "outputs": [],
   "source": [
    "num_nits_to_extract = 3"
   ]
  },
  {
   "cell_type": "code",
   "execution_count": null,
   "id": "738171e9",
   "metadata": {},
   "outputs": [],
   "source": []
  },
  {
   "cell_type": "code",
   "execution_count": 6,
   "id": "d8827ff5",
   "metadata": {},
   "outputs": [
    {
     "data": {
      "text/html": [
       "<pre style=\"white-space:pre;overflow-x:auto;line-height:normal;font-family:Menlo,'DejaVu Sans Mono',consolas,'Courier New',monospace\"><span style=\"color: #7fbfbf; text-decoration-color: #7fbfbf\">[08/11/22 17:21:38] </span><span style=\"color: #800000; text-decoration-color: #800000\">WARNING </span> <span style=\"color: #800080; text-decoration-color: #800080\">/opt/homebrew/Caskroom/miniforge/base/envs/dm_project/lib/python3.10/s</span> <a href=\"file:///opt/homebrew/Caskroom/miniforge/base/envs/dm_project/lib/python3.10/warnings.py\" target=\"_blank\"><span style=\"color: #7f7f7f; text-decoration-color: #7f7f7f\">warnings.py</span></a><span style=\"color: #7f7f7f; text-decoration-color: #7f7f7f\">:</span><a href=\"file:///opt/homebrew/Caskroom/miniforge/base/envs/dm_project/lib/python3.10/warnings.py#109\" target=\"_blank\"><span style=\"color: #7f7f7f; text-decoration-color: #7f7f7f\">109</span></a>\n",
       "<span style=\"color: #7fbfbf; text-decoration-color: #7fbfbf\">                    </span>         <span style=\"color: #800080; text-decoration-color: #800080\">ite-packages/pyspark/sql/</span><span style=\"color: #ff00ff; text-decoration-color: #ff00ff\">context.py</span>:<span style=\"color: #008080; text-decoration-color: #008080; font-weight: bold\">77</span>: FutureWarning: Deprecated in   <span style=\"color: #7f7f7f; text-decoration-color: #7f7f7f\">               </span>\n",
       "<span style=\"color: #7fbfbf; text-decoration-color: #7fbfbf\">                    </span>         <span style=\"color: #008080; text-decoration-color: #008080; font-weight: bold\">3.0</span>.<span style=\"color: #008080; text-decoration-color: #008080; font-weight: bold\">0</span>. Use <span style=\"color: #800080; text-decoration-color: #800080; font-weight: bold\">SparkSession.builder.getOrCreate</span><span style=\"font-weight: bold\">()</span> instead.                 <span style=\"color: #7f7f7f; text-decoration-color: #7f7f7f\">               </span>\n",
       "<span style=\"color: #7fbfbf; text-decoration-color: #7fbfbf\">                    </span>           <span style=\"color: #800080; text-decoration-color: #800080; font-weight: bold\">warnings.warn</span><span style=\"font-weight: bold\">(</span>                                                       <span style=\"color: #7f7f7f; text-decoration-color: #7f7f7f\">               </span>\n",
       "<span style=\"color: #7fbfbf; text-decoration-color: #7fbfbf\">                    </span>                                                                                <span style=\"color: #7f7f7f; text-decoration-color: #7f7f7f\">               </span>\n",
       "</pre>\n"
      ],
      "text/plain": [
       "\u001b[2;36m[08/11/22 17:21:38]\u001b[0m\u001b[2;36m \u001b[0m\u001b[31mWARNING \u001b[0m \u001b[35m/opt/homebrew/Caskroom/miniforge/base/envs/dm_project/lib/python3.10/s\u001b[0m \u001b]8;id=548366;file:///opt/homebrew/Caskroom/miniforge/base/envs/dm_project/lib/python3.10/warnings.py\u001b\\\u001b[2mwarnings.py\u001b[0m\u001b]8;;\u001b\\\u001b[2m:\u001b[0m\u001b]8;id=759658;file:///opt/homebrew/Caskroom/miniforge/base/envs/dm_project/lib/python3.10/warnings.py#109\u001b\\\u001b[2m109\u001b[0m\u001b]8;;\u001b\\\n",
       "\u001b[2;36m                    \u001b[0m         \u001b[35mite-packages/pyspark/sql/\u001b[0m\u001b[95mcontext.py\u001b[0m:\u001b[1;36m77\u001b[0m: FutureWarning: Deprecated in   \u001b[2m               \u001b[0m\n",
       "\u001b[2;36m                    \u001b[0m         \u001b[1;36m3.0\u001b[0m.\u001b[1;36m0\u001b[0m. Use \u001b[1;35mSparkSession.builder.getOrCreate\u001b[0m\u001b[1m(\u001b[0m\u001b[1m)\u001b[0m instead.                 \u001b[2m               \u001b[0m\n",
       "\u001b[2;36m                    \u001b[0m           \u001b[1;35mwarnings.warn\u001b[0m\u001b[1m(\u001b[0m                                                       \u001b[2m               \u001b[0m\n",
       "\u001b[2;36m                    \u001b[0m                                                                                \u001b[2m               \u001b[0m\n"
      ]
     },
     "metadata": {},
     "output_type": "display_data"
    },
    {
     "data": {
      "text/html": [
       "<pre style=\"white-space:pre;overflow-x:auto;line-height:normal;font-family:Menlo,'DejaVu Sans Mono',consolas,'Courier New',monospace\"><span style=\"color: #7fbfbf; text-decoration-color: #7fbfbf\">                    </span><span style=\"color: #800000; text-decoration-color: #800000\">WARNING </span> Requests made without an app_token will be subject to strict throttling  <a href=\"file:///opt/homebrew/Caskroom/miniforge/base/envs/dm_project/lib/python3.10/site-packages/sodapy/socrata.py\" target=\"_blank\"><span style=\"color: #7f7f7f; text-decoration-color: #7f7f7f\">socrata.py</span></a><span style=\"color: #7f7f7f; text-decoration-color: #7f7f7f\">:</span><a href=\"file:///opt/homebrew/Caskroom/miniforge/base/envs/dm_project/lib/python3.10/site-packages/sodapy/socrata.py#63\" target=\"_blank\"><span style=\"color: #7f7f7f; text-decoration-color: #7f7f7f\">63</span></a>\n",
       "<span style=\"color: #7fbfbf; text-decoration-color: #7fbfbf\">                    </span>         limits.                                                                  <span style=\"color: #7f7f7f; text-decoration-color: #7f7f7f\">             </span>\n",
       "</pre>\n"
      ],
      "text/plain": [
       "\u001b[2;36m                   \u001b[0m\u001b[2;36m \u001b[0m\u001b[31mWARNING \u001b[0m Requests made without an app_token will be subject to strict throttling  \u001b]8;id=808718;file:///opt/homebrew/Caskroom/miniforge/base/envs/dm_project/lib/python3.10/site-packages/sodapy/socrata.py\u001b\\\u001b[2msocrata.py\u001b[0m\u001b]8;;\u001b\\\u001b[2m:\u001b[0m\u001b]8;id=294853;file:///opt/homebrew/Caskroom/miniforge/base/envs/dm_project/lib/python3.10/site-packages/sodapy/socrata.py#63\u001b\\\u001b[2m63\u001b[0m\u001b]8;;\u001b\\\n",
       "\u001b[2;36m                    \u001b[0m         limits.                                                                  \u001b[2m             \u001b[0m\n"
      ]
     },
     "metadata": {},
     "output_type": "display_data"
    },
    {
     "name": "stdout",
     "output_type": "stream",
     "text": [
      "req - 0 - 2022-08-11 17:21:38.991392\n"
     ]
    }
   ],
   "source": [
    "spark = SparkSession.builder.getOrCreate()\n",
    "sql_ctx = SQLContext(spark.sparkContext)\n",
    "# Nit to extract. If all nits have been extracted then the oldest extraction is updated\n",
    "nits_to_extract = _get_nits_to_extract(secop_2_log, num_nits_to_extract)\n",
    "# Request\n",
    "client = Socrata(\"www.datos.gov.co\", None)\n",
    "lim = 4000\n",
    "offset = lim\n",
    "print(f\"req - {offset-lim} - {datetime.datetime.now()}\")\n",
    "request = client.get(\n",
    "    CODE_SECOPII,\n",
    "    limit=lim,\n",
    "    select=\", \".join(COLS_SEC_2),\n",
    "    where='nit_entidad in (\"' + '\",\"'.join(nits_to_extract) + '\")',\n",
    ")\n",
    "request_df = pd.DataFrame.from_records(request)\n",
    "results_df = request_df.copy()"
   ]
  },
  {
   "cell_type": "code",
   "execution_count": 9,
   "id": "5f9fcedd",
   "metadata": {},
   "outputs": [
    {
     "data": {
      "text/html": [
       "<pre style=\"white-space:pre;overflow-x:auto;line-height:normal;font-family:Menlo,'DejaVu Sans Mono',consolas,'Courier New',monospace\"><span style=\"color: #008000; text-decoration-color: #008000\">'678678678'</span>\n",
       "</pre>\n"
      ],
      "text/plain": [
       "\u001b[32m'678678678'\u001b[0m\n"
      ]
     },
     "metadata": {},
     "output_type": "display_data"
    }
   ],
   "source": [
    "'678.678.678'.replace('.','')"
   ]
  },
  {
   "cell_type": "code",
   "execution_count": 8,
   "id": "4825b5fb",
   "metadata": {},
   "outputs": [
    {
     "data": {
      "text/html": [
       "<pre style=\"white-space:pre;overflow-x:auto;line-height:normal;font-family:Menlo,'DejaVu Sans Mono',consolas,'Courier New',monospace\">\n",
       "entidad                                        INSTITUCION EDUCATIVA CIUDADELA CUBA\n",
       "departamento_entidad                                                      Risaralda\n",
       "ciudad_entidad                                                              Pereira\n",
       "ordenentidad                                                            Territorial\n",
       "codigo_pci                                                                       Si\n",
       "id_del_proceso                                                      CO1.REQ.<span style=\"color: #008080; text-decoration-color: #008080; font-weight: bold\">3164109</span>\n",
       "referencia_del_proceso                                                      <span style=\"color: #008080; text-decoration-color: #008080; font-weight: bold\">20</span>-<span style=\"color: #008080; text-decoration-color: #008080; font-weight: bold\">2022</span>\n",
       "ppi                                                                              ND\n",
       "nombre_del_procedimiento          Derecho para participar de los suministros mat<span style=\"color: #808000; text-decoration-color: #808000\">...</span>\n",
       "descripci_n_del_procedimiento     Derecho para participar de los suministros mat<span style=\"color: #808000; text-decoration-color: #808000\">...</span>\n",
       "fase                                                         Presentación de oferta\n",
       "precio_base                                                                  <span style=\"color: #008080; text-decoration-color: #008080; font-weight: bold\">809200</span>\n",
       "modalidad_de_contratacion                             Contratación régimen especial\n",
       "duracion                                                                          <span style=\"color: #008080; text-decoration-color: #008080; font-weight: bold\">5</span>\n",
       "unidad_de_duracion                                                            Meses\n",
       "ciudad_de_la_unidad_de                                                      Pereira\n",
       "nombre_de_la_unidad_de                                       UNIDAD DE CONTRATACION\n",
       "proveedores_invitados                                                             <span style=\"color: #008080; text-decoration-color: #008080; font-weight: bold\">0</span>\n",
       "proveedores_con_invitacion                                                        <span style=\"color: #008080; text-decoration-color: #008080; font-weight: bold\">0</span>\n",
       "visualizaciones_del                                                               <span style=\"color: #008080; text-decoration-color: #008080; font-weight: bold\">0</span>\n",
       "proveedores_que_manifestaron                                                      <span style=\"color: #008080; text-decoration-color: #008080; font-weight: bold\">0</span>\n",
       "respuestas_al_procedimiento                                                       <span style=\"color: #008080; text-decoration-color: #008080; font-weight: bold\">0</span>\n",
       "respuestas_externas                                                               <span style=\"color: #008080; text-decoration-color: #008080; font-weight: bold\">0</span>\n",
       "conteo_de_respuestas_a_ofertas                                                    <span style=\"color: #008080; text-decoration-color: #008080; font-weight: bold\">0</span>\n",
       "proveedores_unicos_con                                                            <span style=\"color: #008080; text-decoration-color: #008080; font-weight: bold\">0</span>\n",
       "estado_del_procedimiento                                                No Definido\n",
       "id_estado_del_procedimiento                                                      <span style=\"color: #008080; text-decoration-color: #008080; font-weight: bold\">50</span>\n",
       "adjudicado                                                                       No\n",
       "id_adjudicacion                                                       No Adjudicado\n",
       "codigoproveedor                                                       No Adjudicado\n",
       "departamento_proveedor                                                    No aplica\n",
       "ciudad_proveedor                                                          No aplica\n",
       "valor_total_adjudicacion                                                          <span style=\"color: #008080; text-decoration-color: #008080; font-weight: bold\">0</span>\n",
       "nombre_del_adjudicador                                                No Adjudicado\n",
       "nombre_del_proveedor                                                  No Adjudicado\n",
       "nit_del_proveedor_adjudicado                                          No Adjudicado\n",
       "codigo_principal_de_categoria                                           V1.<span style=\"color: #008080; text-decoration-color: #008080; font-weight: bold\">14111507</span>\n",
       "estado_de_apertura_del_proceso                                              Abierto\n",
       "tipo_de_contrato                                     Servicios de aprovisionamiento\n",
       "subtipo_de_contrato                                                 No Especificado\n",
       "categorias_adicionales                                                           ND\n",
       "codigo_entidad                                                            <span style=\"color: #008080; text-decoration-color: #008080; font-weight: bold\">717995328</span>\n",
       "estadoresumen                                                Presentación de oferta\n",
       "fecha_de_publicacion_del                                    <span style=\"color: #008080; text-decoration-color: #008080; font-weight: bold\">2022</span>-<span style=\"color: #008080; text-decoration-color: #008080; font-weight: bold\">07</span>-29T<span style=\"color: #00ff00; text-decoration-color: #00ff00; font-weight: bold\">00:00:00</span>.<span style=\"color: #008080; text-decoration-color: #008080; font-weight: bold\">000</span>\n",
       "fecha_de_ultima_publicaci                                   <span style=\"color: #008080; text-decoration-color: #008080; font-weight: bold\">2022</span>-<span style=\"color: #008080; text-decoration-color: #008080; font-weight: bold\">07</span>-29T<span style=\"color: #00ff00; text-decoration-color: #00ff00; font-weight: bold\">00:00:00</span>.<span style=\"color: #008080; text-decoration-color: #008080; font-weight: bold\">000</span>\n",
       "fecha_de_publicacion_fase_3                                 <span style=\"color: #008080; text-decoration-color: #008080; font-weight: bold\">2022</span>-<span style=\"color: #008080; text-decoration-color: #008080; font-weight: bold\">07</span>-29T<span style=\"color: #00ff00; text-decoration-color: #00ff00; font-weight: bold\">00:00:00</span>.<span style=\"color: #008080; text-decoration-color: #008080; font-weight: bold\">000</span>\n",
       "nit_entidad                                                               <span style=\"color: #008080; text-decoration-color: #008080; font-weight: bold\">816006215</span>\n",
       "fecha_de_recepcion_de                                                           NaN\n",
       "fecha_de_apertura_efectiva                                                      NaN\n",
       "Name: <span style=\"color: #008080; text-decoration-color: #008080; font-weight: bold\">0</span>, dtype: object\n",
       "</pre>\n"
      ],
      "text/plain": [
       "\n",
       "entidad                                        INSTITUCION EDUCATIVA CIUDADELA CUBA\n",
       "departamento_entidad                                                      Risaralda\n",
       "ciudad_entidad                                                              Pereira\n",
       "ordenentidad                                                            Territorial\n",
       "codigo_pci                                                                       Si\n",
       "id_del_proceso                                                      CO1.REQ.\u001b[1;36m3164109\u001b[0m\n",
       "referencia_del_proceso                                                      \u001b[1;36m20\u001b[0m-\u001b[1;36m2022\u001b[0m\n",
       "ppi                                                                              ND\n",
       "nombre_del_procedimiento          Derecho para participar de los suministros mat\u001b[33m...\u001b[0m\n",
       "descripci_n_del_procedimiento     Derecho para participar de los suministros mat\u001b[33m...\u001b[0m\n",
       "fase                                                         Presentación de oferta\n",
       "precio_base                                                                  \u001b[1;36m809200\u001b[0m\n",
       "modalidad_de_contratacion                             Contratación régimen especial\n",
       "duracion                                                                          \u001b[1;36m5\u001b[0m\n",
       "unidad_de_duracion                                                            Meses\n",
       "ciudad_de_la_unidad_de                                                      Pereira\n",
       "nombre_de_la_unidad_de                                       UNIDAD DE CONTRATACION\n",
       "proveedores_invitados                                                             \u001b[1;36m0\u001b[0m\n",
       "proveedores_con_invitacion                                                        \u001b[1;36m0\u001b[0m\n",
       "visualizaciones_del                                                               \u001b[1;36m0\u001b[0m\n",
       "proveedores_que_manifestaron                                                      \u001b[1;36m0\u001b[0m\n",
       "respuestas_al_procedimiento                                                       \u001b[1;36m0\u001b[0m\n",
       "respuestas_externas                                                               \u001b[1;36m0\u001b[0m\n",
       "conteo_de_respuestas_a_ofertas                                                    \u001b[1;36m0\u001b[0m\n",
       "proveedores_unicos_con                                                            \u001b[1;36m0\u001b[0m\n",
       "estado_del_procedimiento                                                No Definido\n",
       "id_estado_del_procedimiento                                                      \u001b[1;36m50\u001b[0m\n",
       "adjudicado                                                                       No\n",
       "id_adjudicacion                                                       No Adjudicado\n",
       "codigoproveedor                                                       No Adjudicado\n",
       "departamento_proveedor                                                    No aplica\n",
       "ciudad_proveedor                                                          No aplica\n",
       "valor_total_adjudicacion                                                          \u001b[1;36m0\u001b[0m\n",
       "nombre_del_adjudicador                                                No Adjudicado\n",
       "nombre_del_proveedor                                                  No Adjudicado\n",
       "nit_del_proveedor_adjudicado                                          No Adjudicado\n",
       "codigo_principal_de_categoria                                           V1.\u001b[1;36m14111507\u001b[0m\n",
       "estado_de_apertura_del_proceso                                              Abierto\n",
       "tipo_de_contrato                                     Servicios de aprovisionamiento\n",
       "subtipo_de_contrato                                                 No Especificado\n",
       "categorias_adicionales                                                           ND\n",
       "codigo_entidad                                                            \u001b[1;36m717995328\u001b[0m\n",
       "estadoresumen                                                Presentación de oferta\n",
       "fecha_de_publicacion_del                                    \u001b[1;36m2022\u001b[0m-\u001b[1;36m07\u001b[0m-29T\u001b[1;92m00:00:00\u001b[0m.\u001b[1;36m000\u001b[0m\n",
       "fecha_de_ultima_publicaci                                   \u001b[1;36m2022\u001b[0m-\u001b[1;36m07\u001b[0m-29T\u001b[1;92m00:00:00\u001b[0m.\u001b[1;36m000\u001b[0m\n",
       "fecha_de_publicacion_fase_3                                 \u001b[1;36m2022\u001b[0m-\u001b[1;36m07\u001b[0m-29T\u001b[1;92m00:00:00\u001b[0m.\u001b[1;36m000\u001b[0m\n",
       "nit_entidad                                                               \u001b[1;36m816006215\u001b[0m\n",
       "fecha_de_recepcion_de                                                           NaN\n",
       "fecha_de_apertura_efectiva                                                      NaN\n",
       "Name: \u001b[1;36m0\u001b[0m, dtype: object\n"
      ]
     },
     "metadata": {},
     "output_type": "display_data"
    }
   ],
   "source": [
    "results_df.iloc[0]"
   ]
  },
  {
   "cell_type": "code",
   "execution_count": null,
   "id": "5dfd74ab",
   "metadata": {},
   "outputs": [],
   "source": [
    "\n",
    "while len(request_df) > 0:\n",
    "    print(f\"req - {offset} - {datetime.datetime.now()}\")\n",
    "    request = client.get(\n",
    "        CODE_SECOPII,\n",
    "        limit=lim,\n",
    "        offset=offset,\n",
    "        select=\", \".join(COLS_SEC_2),\n",
    "        where='nit_entidad in (\"' + '\",\"'.join(nits_to_extract) + '\")',\n",
    "    )\n",
    "    request_df = pd.DataFrame.from_records(request)\n",
    "    results_df = pd.concat([results_df, request_df], ignore_index=True)\n",
    "    offset += lim\n",
    "# Fix nulls\n",
    "results_df.fillna(\"\", inplace=True)\n",
    "try:\n",
    "    result_spark = sql_ctx.createDataFrame(results_df)\n",
    "    for n in nits_to_extract:\n",
    "        secop_2_log[n][\"success\"] = 1\n",
    "except IndexError:\n",
    "    schema = StructType([])\n",
    "    result_spark = sql_ctx.createDataFrame([], schema)\n",
    "    for n in nits_to_extract:\n",
    "        secop_2_log[n][\"success\"] = 0\n",
    "for n in nits_to_extract:\n",
    "    secop_2_log[n][\"req\"] = 1\n",
    "for n in nits_to_extract:\n",
    "    secop_2_log[n][\"date\"] = str(datetime.datetime.now())"
   ]
  },
  {
   "cell_type": "code",
   "execution_count": 1,
   "id": "320cac0c",
   "metadata": {},
   "outputs": [
    {
     "data": {
      "text/html": [
       "<pre style=\"white-space:pre;overflow-x:auto;line-height:normal;font-family:Menlo,'DejaVu Sans Mono',consolas,'Courier New',monospace\"><span style=\"color: #7fbfbf; text-decoration-color: #7fbfbf\">[08/11/22 19:17:05] </span><span style=\"color: #000080; text-decoration-color: #000080\">INFO    </span> Loading data from <span style=\"color: #008000; text-decoration-color: #008000\">'secop_2_log_in'</span> <span style=\"font-weight: bold\">(</span>JSONDataSet<span style=\"font-weight: bold\">)</span><span style=\"color: #808000; text-decoration-color: #808000\">...</span>                <a href=\"file:///opt/homebrew/Caskroom/miniforge/base/envs/dm_project/lib/python3.10/site-packages/kedro/io/data_catalog.py\" target=\"_blank\"><span style=\"color: #7f7f7f; text-decoration-color: #7f7f7f\">data_catalog.py</span></a><span style=\"color: #7f7f7f; text-decoration-color: #7f7f7f\">:</span><a href=\"file:///opt/homebrew/Caskroom/miniforge/base/envs/dm_project/lib/python3.10/site-packages/kedro/io/data_catalog.py#343\" target=\"_blank\"><span style=\"color: #7f7f7f; text-decoration-color: #7f7f7f\">343</span></a>\n",
       "</pre>\n"
      ],
      "text/plain": [
       "\u001b[2;36m[08/11/22 19:17:05]\u001b[0m\u001b[2;36m \u001b[0m\u001b[34mINFO    \u001b[0m Loading data from \u001b[32m'secop_2_log_in'\u001b[0m \u001b[1m(\u001b[0mJSONDataSet\u001b[1m)\u001b[0m\u001b[33m...\u001b[0m                \u001b]8;id=573609;file:///opt/homebrew/Caskroom/miniforge/base/envs/dm_project/lib/python3.10/site-packages/kedro/io/data_catalog.py\u001b\\\u001b[2mdata_catalog.py\u001b[0m\u001b]8;;\u001b\\\u001b[2m:\u001b[0m\u001b]8;id=527010;file:///opt/homebrew/Caskroom/miniforge/base/envs/dm_project/lib/python3.10/site-packages/kedro/io/data_catalog.py#343\u001b\\\u001b[2m343\u001b[0m\u001b]8;;\u001b\\\n"
      ]
     },
     "metadata": {},
     "output_type": "display_data"
    }
   ],
   "source": [
    "secop_2_log_in = catalog.load('secop_2_log_in')"
   ]
  },
  {
   "cell_type": "code",
   "execution_count": 2,
   "id": "8d29f1d3",
   "metadata": {},
   "outputs": [
    {
     "data": {
      "text/html": [
       "<pre style=\"white-space:pre;overflow-x:auto;line-height:normal;font-family:Menlo,'DejaVu Sans Mono',consolas,'Courier New',monospace\"><span style=\"color: #008080; text-decoration-color: #008080; font-weight: bold\">3383</span>\n",
       "</pre>\n"
      ],
      "text/plain": [
       "\u001b[1;36m3383\u001b[0m\n"
      ]
     },
     "metadata": {},
     "output_type": "display_data"
    }
   ],
   "source": [
    "len(secop_2_log_in.keys())"
   ]
  },
  {
   "cell_type": "code",
   "execution_count": null,
   "id": "21433a80",
   "metadata": {},
   "outputs": [],
   "source": []
  },
  {
   "cell_type": "code",
   "execution_count": null,
   "id": "6059b74f",
   "metadata": {},
   "outputs": [],
   "source": []
  },
  {
   "cell_type": "markdown",
   "id": "4ae0c142",
   "metadata": {},
   "source": [
    "<a href=\"https://www.funcionpublica.gov.co/eva/gestornormativo/norma.php?i=304\">Ley 80</a>"
   ]
  }
 ],
 "metadata": {
  "kernelspec": {
   "display_name": "Kedro (secop)",
   "language": "python",
   "name": "kedro_secop"
  },
  "language_info": {
   "codemirror_mode": {
    "name": "ipython",
    "version": 3
   },
   "file_extension": ".py",
   "mimetype": "text/x-python",
   "name": "python",
   "nbconvert_exporter": "python",
   "pygments_lexer": "ipython3",
   "version": "3.10.5"
  }
 },
 "nbformat": 4,
 "nbformat_minor": 5
}
