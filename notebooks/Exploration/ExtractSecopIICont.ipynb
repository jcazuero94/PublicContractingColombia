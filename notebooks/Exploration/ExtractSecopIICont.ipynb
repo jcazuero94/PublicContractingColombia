{
 "cells": [
  {
   "cell_type": "code",
   "execution_count": 1,
   "id": "a6fa4b18",
   "metadata": {},
   "outputs": [],
   "source": [
    "import pandas as pd\n",
    "import numpy as np\n",
    "from sodapy import Socrata\n",
    "from typing import Dict\n",
    "import datetime\n",
    "from pyspark.sql import DataFrame as SparkDataFrame\n",
    "from pyspark.sql import SparkSession\n",
    "from pyspark.sql import SQLContext\n",
    "from secop.pipelines.data_engineering.utilities import (\n",
    "    schema_secop_2,\n",
    "    schema_secop_int,\n",
    "    _get_nits_to_extract,\n",
    "    _remove_tildes,\n",
    "    _clean_modalidad_contratacion,\n",
    "    _clean_modalidad_contratacion_2,\n",
    "    _clean_tipo_contrato,\n",
    "    _to_int,\n",
    ")\n",
    "from pyspark.sql import SparkSession\n",
    "from pyspark.sql import SQLContext\n",
    "import pyspark.sql.functions as F\n",
    "from pyspark.sql.functions import col, udf\n",
    "\n",
    "CODE_INTEGRATED = \"rpmr-utcd\"\n",
    "CODE_SECOPII = \"p6dx-8zbt\"\n",
    "CODE_SECOPII_CONT = \"jbjy-vk9h\""
   ]
  },
  {
   "cell_type": "code",
   "execution_count": 16,
   "id": "f2c21d64",
   "metadata": {},
   "outputs": [
    {
     "data": {
      "text/html": [
       "<pre style=\"white-space:pre;overflow-x:auto;line-height:normal;font-family:Menlo,'DejaVu Sans Mono',consolas,'Courier New',monospace\"><span style=\"font-weight: bold\">&lt;</span><span style=\"color: #ff00ff; text-decoration-color: #ff00ff; font-weight: bold\">IPython.core.display.Javascript</span><span style=\"color: #000000; text-decoration-color: #000000\"> object</span><span style=\"font-weight: bold\">&gt;</span>\n",
       "</pre>\n"
      ],
      "text/plain": [
       "\u001b[1m<\u001b[0m\u001b[1;95mIPython.core.display.Javascript\u001b[0m\u001b[39m object\u001b[0m\u001b[1m>\u001b[0m\n"
      ]
     },
     "metadata": {},
     "output_type": "display_data"
    },
    {
     "data": {
      "application/javascript": [
       "\n",
       "            setTimeout(function() {\n",
       "                var nbb_cell_id = 16;\n",
       "                var nbb_unformatted_code = \"from pyspark.sql.types import (\\n    StructType,\\n    StructField,\\n    StringType,\\n    DateType,NumericType\\n)\";\n",
       "                var nbb_formatted_code = \"from pyspark.sql.types import StructType, StructField, StringType, DateType, NumericType\";\n",
       "                var nbb_cells = Jupyter.notebook.get_cells();\n",
       "                for (var i = 0; i < nbb_cells.length; ++i) {\n",
       "                    if (nbb_cells[i].input_prompt_number == nbb_cell_id) {\n",
       "                        if (nbb_cells[i].get_text() == nbb_unformatted_code) {\n",
       "                             nbb_cells[i].set_text(nbb_formatted_code);\n",
       "                        }\n",
       "                        break;\n",
       "                    }\n",
       "                }\n",
       "            }, 500);\n",
       "            "
      ]
     },
     "metadata": {},
     "output_type": "display_data"
    }
   ],
   "source": [
    "from pyspark.sql.types import StructType, StructField, StringType, DateType, NumericType"
   ]
  },
  {
   "cell_type": "code",
   "execution_count": 17,
   "id": "e3329e1c",
   "metadata": {},
   "outputs": [
    {
     "data": {
      "text/html": [
       "<pre style=\"white-space:pre;overflow-x:auto;line-height:normal;font-family:Menlo,'DejaVu Sans Mono',consolas,'Courier New',monospace\"><span style=\"font-weight: bold\">&lt;</span><span style=\"color: #ff00ff; text-decoration-color: #ff00ff; font-weight: bold\">IPython.core.display.Javascript</span><span style=\"color: #000000; text-decoration-color: #000000\"> object</span><span style=\"font-weight: bold\">&gt;</span>\n",
       "</pre>\n"
      ],
      "text/plain": [
       "\u001b[1m<\u001b[0m\u001b[1;95mIPython.core.display.Javascript\u001b[0m\u001b[39m object\u001b[0m\u001b[1m>\u001b[0m\n"
      ]
     },
     "metadata": {},
     "output_type": "display_data"
    },
    {
     "data": {
      "application/javascript": [
       "\n",
       "            setTimeout(function() {\n",
       "                var nbb_cell_id = 17;\n",
       "                var nbb_unformatted_code = \"dic_schemas = {\\n    \\\"schema_secop_2\\\": StructType(\\n        [\\n            StructField(\\\"nit_entidad\\\", StringType(), True),\\n            StructField(\\\"entidad\\\", StringType(), True),\\n            StructField(\\\"departamento_entidad\\\", StringType(), True),\\n            StructField(\\\"ciudad_entidad\\\", StringType(), True),\\n            StructField(\\\"ordenentidad\\\", StringType(), True),\\n            StructField(\\\"id_del_proceso\\\", StringType(), True),\\n            StructField(\\\"referencia_del_proceso\\\", StringType(), True),\\n            StructField(\\\"nombre_del_procedimiento\\\", StringType(), True),\\n            StructField(\\\"descripci_n_del_procedimiento\\\", StringType(), True),\\n            StructField(\\\"fase\\\", StringType(), True),\\n            StructField(\\\"precio_base\\\", StringType(), True),\\n            StructField(\\\"modalidad_de_contratacion\\\", StringType(), True),\\n            StructField(\\\"duracion\\\", StringType(), True),\\n            StructField(\\\"unidad_de_duracion\\\", StringType(), True),\\n            StructField(\\\"proveedores_invitados\\\", StringType(), True),\\n            StructField(\\\"proveedores_con_invitacion\\\", StringType(), True),\\n            StructField(\\\"visualizaciones_del\\\", StringType(), True),\\n            StructField(\\\"proveedores_que_manifestaron\\\", StringType(), True),\\n            StructField(\\\"respuestas_al_procedimiento\\\", StringType(), True),\\n            StructField(\\\"respuestas_externas\\\", StringType(), True),\\n            StructField(\\\"conteo_de_respuestas_a_ofertas\\\", StringType(), True),\\n            StructField(\\\"proveedores_unicos_con\\\", StringType(), True),\\n            StructField(\\\"estado_del_procedimiento\\\", StringType(), True),\\n            StructField(\\\"adjudicado\\\", StringType(), True),\\n            StructField(\\\"departamento_proveedor\\\", StringType(), True),\\n            StructField(\\\"ciudad_proveedor\\\", StringType(), True),\\n            StructField(\\\"valor_total_adjudicacion\\\", StringType(), True),\\n            StructField(\\\"nombre_del_adjudicador\\\", StringType(), True),\\n            StructField(\\\"nombre_del_proveedor\\\", StringType(), True),\\n            StructField(\\\"nit_del_proveedor_adjudicado\\\", StringType(), True),\\n            StructField(\\\"tipo_de_contrato\\\", StringType(), True),\\n            StructField(\\\"subtipo_de_contrato\\\", StringType(), True),\\n            StructField(\\\"fecha_de_publicacion_del\\\", DateType(), True),\\n            StructField(\\\"fecha_de_ultima_publicaci\\\", DateType(), True),\\n            StructField(\\\"fecha_de_publicacion_fase_3\\\", DateType(), True),\\n            StructField(\\\"fecha_de_recepcion_de\\\", DateType(), True),\\n            StructField(\\\"fecha_de_apertura_efectiva\\\", DateType(), True),\\n        ]\\n    ),\\n    \\\"schema_secop_int\\\": StructType(\\n        [\\n            StructField(\\\"nivel_entidad\\\", StringType(), True),\\n            StructField(\\\"nombre_de_la_entidad\\\", StringType(), True),\\n            StructField(\\\"nit_de_la_entidad\\\", StringType(), True),\\n            StructField(\\\"estado_del_proceso\\\", StringType(), True),\\n            StructField(\\\"modalidad_de_contrataci_n\\\", StringType(), True),\\n            StructField(\\\"objeto_a_contratar\\\", StringType(), True),\\n            StructField(\\\"tipo_de_contrato\\\", StringType(), True),\\n            StructField(\\\"valor_contrato\\\", StringType(), True),\\n            StructField(\\\"nom_raz_social_contratista\\\", StringType(), True),\\n            StructField(\\\"departamento_entidad\\\", StringType(), True),\\n            StructField(\\\"municipio_entidad\\\", StringType(), True),\\n            StructField(\\\"objeto_del_proceso\\\", StringType(), True),\\n            StructField(\\\"fecha_de_firma_del_contrato\\\", DateType(), True),\\n            StructField(\\\"fecha_inicio_ejecucion\\\", DateType(), True),\\n            StructField(\\\"fecha_fin_ejecucion\\\", DateType(), True),\\n        ]\\n    ),\\n    \\\"schema_secop_2_cont\\\": StructType(\\n        [\\n            StructField(\\\"nombre_entidad\\\", StringType(), True),\\n            StructField(\\\"nit_entidad\\\", NumericType(), True),\\n            StructField(\\\"departamento\\\", StringType(), True),\\n            StructField(\\\"ciudad\\\", StringType(), True),\\n            StructField(\\\"orden\\\", StringType(), True),\\n            StructField(\\\"proceso_de_compra\\\", StringType(), True),\\n            StructField(\\\"referencia_del_contrato\\\", StringType(), True),\\n            StructField(\\\"estado_contrato\\\", StringType(), True),\\n            StructField(\\\"descripcion_del_proceso\\\", StringType(), True),\\n            StructField(\\\"modalidad_de_contratacion\\\", StringType(), True),\\n            StructField(\\\"fecha_de_firma\\\", DateType(), True),\\n            StructField(\\\"fecha_de_inicio_del_contrato\\\", DateType(), True),\\n            StructField(\\\"fecha_de_fin_del_contrato\\\", DateType(), True),\\n            StructField(\\\"tipodocproveedor\\\", StringType(), True),\\n            StructField(\\\"documento_proveedor\\\", StringType(), True),\\n            StructField(\\\"proveedor_adjudicado\\\", StringType(), True),\\n            StructField(\\\"valor_del_contrato\\\", NumericType(), True),\\n            StructField(\\\"objeto_del_contrato\\\", StringType(), True),\\n            StructField(\\\"dias_adicionados\\\", NumericType(), True),\\n        ]\\n    ),\\n}\";\n",
       "                var nbb_formatted_code = \"dic_schemas = {\\n    \\\"schema_secop_2\\\": StructType(\\n        [\\n            StructField(\\\"nit_entidad\\\", StringType(), True),\\n            StructField(\\\"entidad\\\", StringType(), True),\\n            StructField(\\\"departamento_entidad\\\", StringType(), True),\\n            StructField(\\\"ciudad_entidad\\\", StringType(), True),\\n            StructField(\\\"ordenentidad\\\", StringType(), True),\\n            StructField(\\\"id_del_proceso\\\", StringType(), True),\\n            StructField(\\\"referencia_del_proceso\\\", StringType(), True),\\n            StructField(\\\"nombre_del_procedimiento\\\", StringType(), True),\\n            StructField(\\\"descripci_n_del_procedimiento\\\", StringType(), True),\\n            StructField(\\\"fase\\\", StringType(), True),\\n            StructField(\\\"precio_base\\\", StringType(), True),\\n            StructField(\\\"modalidad_de_contratacion\\\", StringType(), True),\\n            StructField(\\\"duracion\\\", StringType(), True),\\n            StructField(\\\"unidad_de_duracion\\\", StringType(), True),\\n            StructField(\\\"proveedores_invitados\\\", StringType(), True),\\n            StructField(\\\"proveedores_con_invitacion\\\", StringType(), True),\\n            StructField(\\\"visualizaciones_del\\\", StringType(), True),\\n            StructField(\\\"proveedores_que_manifestaron\\\", StringType(), True),\\n            StructField(\\\"respuestas_al_procedimiento\\\", StringType(), True),\\n            StructField(\\\"respuestas_externas\\\", StringType(), True),\\n            StructField(\\\"conteo_de_respuestas_a_ofertas\\\", StringType(), True),\\n            StructField(\\\"proveedores_unicos_con\\\", StringType(), True),\\n            StructField(\\\"estado_del_procedimiento\\\", StringType(), True),\\n            StructField(\\\"adjudicado\\\", StringType(), True),\\n            StructField(\\\"departamento_proveedor\\\", StringType(), True),\\n            StructField(\\\"ciudad_proveedor\\\", StringType(), True),\\n            StructField(\\\"valor_total_adjudicacion\\\", StringType(), True),\\n            StructField(\\\"nombre_del_adjudicador\\\", StringType(), True),\\n            StructField(\\\"nombre_del_proveedor\\\", StringType(), True),\\n            StructField(\\\"nit_del_proveedor_adjudicado\\\", StringType(), True),\\n            StructField(\\\"tipo_de_contrato\\\", StringType(), True),\\n            StructField(\\\"subtipo_de_contrato\\\", StringType(), True),\\n            StructField(\\\"fecha_de_publicacion_del\\\", DateType(), True),\\n            StructField(\\\"fecha_de_ultima_publicaci\\\", DateType(), True),\\n            StructField(\\\"fecha_de_publicacion_fase_3\\\", DateType(), True),\\n            StructField(\\\"fecha_de_recepcion_de\\\", DateType(), True),\\n            StructField(\\\"fecha_de_apertura_efectiva\\\", DateType(), True),\\n        ]\\n    ),\\n    \\\"schema_secop_int\\\": StructType(\\n        [\\n            StructField(\\\"nivel_entidad\\\", StringType(), True),\\n            StructField(\\\"nombre_de_la_entidad\\\", StringType(), True),\\n            StructField(\\\"nit_de_la_entidad\\\", StringType(), True),\\n            StructField(\\\"estado_del_proceso\\\", StringType(), True),\\n            StructField(\\\"modalidad_de_contrataci_n\\\", StringType(), True),\\n            StructField(\\\"objeto_a_contratar\\\", StringType(), True),\\n            StructField(\\\"tipo_de_contrato\\\", StringType(), True),\\n            StructField(\\\"valor_contrato\\\", StringType(), True),\\n            StructField(\\\"nom_raz_social_contratista\\\", StringType(), True),\\n            StructField(\\\"departamento_entidad\\\", StringType(), True),\\n            StructField(\\\"municipio_entidad\\\", StringType(), True),\\n            StructField(\\\"objeto_del_proceso\\\", StringType(), True),\\n            StructField(\\\"fecha_de_firma_del_contrato\\\", DateType(), True),\\n            StructField(\\\"fecha_inicio_ejecucion\\\", DateType(), True),\\n            StructField(\\\"fecha_fin_ejecucion\\\", DateType(), True),\\n        ]\\n    ),\\n    \\\"schema_secop_2_cont\\\": StructType(\\n        [\\n            StructField(\\\"nombre_entidad\\\", StringType(), True),\\n            StructField(\\\"nit_entidad\\\", NumericType(), True),\\n            StructField(\\\"departamento\\\", StringType(), True),\\n            StructField(\\\"ciudad\\\", StringType(), True),\\n            StructField(\\\"orden\\\", StringType(), True),\\n            StructField(\\\"proceso_de_compra\\\", StringType(), True),\\n            StructField(\\\"referencia_del_contrato\\\", StringType(), True),\\n            StructField(\\\"estado_contrato\\\", StringType(), True),\\n            StructField(\\\"descripcion_del_proceso\\\", StringType(), True),\\n            StructField(\\\"modalidad_de_contratacion\\\", StringType(), True),\\n            StructField(\\\"fecha_de_firma\\\", DateType(), True),\\n            StructField(\\\"fecha_de_inicio_del_contrato\\\", DateType(), True),\\n            StructField(\\\"fecha_de_fin_del_contrato\\\", DateType(), True),\\n            StructField(\\\"tipodocproveedor\\\", StringType(), True),\\n            StructField(\\\"documento_proveedor\\\", StringType(), True),\\n            StructField(\\\"proveedor_adjudicado\\\", StringType(), True),\\n            StructField(\\\"valor_del_contrato\\\", NumericType(), True),\\n            StructField(\\\"objeto_del_contrato\\\", StringType(), True),\\n            StructField(\\\"dias_adicionados\\\", NumericType(), True),\\n        ]\\n    ),\\n}\";\n",
       "                var nbb_cells = Jupyter.notebook.get_cells();\n",
       "                for (var i = 0; i < nbb_cells.length; ++i) {\n",
       "                    if (nbb_cells[i].input_prompt_number == nbb_cell_id) {\n",
       "                        if (nbb_cells[i].get_text() == nbb_unformatted_code) {\n",
       "                             nbb_cells[i].set_text(nbb_formatted_code);\n",
       "                        }\n",
       "                        break;\n",
       "                    }\n",
       "                }\n",
       "            }, 500);\n",
       "            "
      ]
     },
     "metadata": {},
     "output_type": "display_data"
    }
   ],
   "source": [
    "dic_schemas = {\n",
    "    \"schema_secop_2\": StructType(\n",
    "        [\n",
    "            StructField(\"nit_entidad\", StringType(), True),\n",
    "            StructField(\"entidad\", StringType(), True),\n",
    "            StructField(\"departamento_entidad\", StringType(), True),\n",
    "            StructField(\"ciudad_entidad\", StringType(), True),\n",
    "            StructField(\"ordenentidad\", StringType(), True),\n",
    "            StructField(\"id_del_proceso\", StringType(), True),\n",
    "            StructField(\"referencia_del_proceso\", StringType(), True),\n",
    "            StructField(\"nombre_del_procedimiento\", StringType(), True),\n",
    "            StructField(\"descripci_n_del_procedimiento\", StringType(), True),\n",
    "            StructField(\"fase\", StringType(), True),\n",
    "            StructField(\"precio_base\", StringType(), True),\n",
    "            StructField(\"modalidad_de_contratacion\", StringType(), True),\n",
    "            StructField(\"duracion\", StringType(), True),\n",
    "            StructField(\"unidad_de_duracion\", StringType(), True),\n",
    "            StructField(\"proveedores_invitados\", StringType(), True),\n",
    "            StructField(\"proveedores_con_invitacion\", StringType(), True),\n",
    "            StructField(\"visualizaciones_del\", StringType(), True),\n",
    "            StructField(\"proveedores_que_manifestaron\", StringType(), True),\n",
    "            StructField(\"respuestas_al_procedimiento\", StringType(), True),\n",
    "            StructField(\"respuestas_externas\", StringType(), True),\n",
    "            StructField(\"conteo_de_respuestas_a_ofertas\", StringType(), True),\n",
    "            StructField(\"proveedores_unicos_con\", StringType(), True),\n",
    "            StructField(\"estado_del_procedimiento\", StringType(), True),\n",
    "            StructField(\"adjudicado\", StringType(), True),\n",
    "            StructField(\"departamento_proveedor\", StringType(), True),\n",
    "            StructField(\"ciudad_proveedor\", StringType(), True),\n",
    "            StructField(\"valor_total_adjudicacion\", StringType(), True),\n",
    "            StructField(\"nombre_del_adjudicador\", StringType(), True),\n",
    "            StructField(\"nombre_del_proveedor\", StringType(), True),\n",
    "            StructField(\"nit_del_proveedor_adjudicado\", StringType(), True),\n",
    "            StructField(\"tipo_de_contrato\", StringType(), True),\n",
    "            StructField(\"subtipo_de_contrato\", StringType(), True),\n",
    "            StructField(\"fecha_de_publicacion_del\", DateType(), True),\n",
    "            StructField(\"fecha_de_ultima_publicaci\", DateType(), True),\n",
    "            StructField(\"fecha_de_publicacion_fase_3\", DateType(), True),\n",
    "            StructField(\"fecha_de_recepcion_de\", DateType(), True),\n",
    "            StructField(\"fecha_de_apertura_efectiva\", DateType(), True),\n",
    "        ]\n",
    "    ),\n",
    "    \"schema_secop_int\": StructType(\n",
    "        [\n",
    "            StructField(\"nivel_entidad\", StringType(), True),\n",
    "            StructField(\"nombre_de_la_entidad\", StringType(), True),\n",
    "            StructField(\"nit_de_la_entidad\", StringType(), True),\n",
    "            StructField(\"estado_del_proceso\", StringType(), True),\n",
    "            StructField(\"modalidad_de_contrataci_n\", StringType(), True),\n",
    "            StructField(\"objeto_a_contratar\", StringType(), True),\n",
    "            StructField(\"tipo_de_contrato\", StringType(), True),\n",
    "            StructField(\"valor_contrato\", StringType(), True),\n",
    "            StructField(\"nom_raz_social_contratista\", StringType(), True),\n",
    "            StructField(\"departamento_entidad\", StringType(), True),\n",
    "            StructField(\"municipio_entidad\", StringType(), True),\n",
    "            StructField(\"objeto_del_proceso\", StringType(), True),\n",
    "            StructField(\"fecha_de_firma_del_contrato\", DateType(), True),\n",
    "            StructField(\"fecha_inicio_ejecucion\", DateType(), True),\n",
    "            StructField(\"fecha_fin_ejecucion\", DateType(), True),\n",
    "        ]\n",
    "    ),\n",
    "    \"schema_secop_2_cont\": StructType(\n",
    "        [\n",
    "            StructField(\"nombre_entidad\", StringType(), True),\n",
    "            StructField(\"nit_entidad\", NumericType(), True),\n",
    "            StructField(\"departamento\", StringType(), True),\n",
    "            StructField(\"ciudad\", StringType(), True),\n",
    "            StructField(\"orden\", StringType(), True),\n",
    "            StructField(\"proceso_de_compra\", StringType(), True),\n",
    "            StructField(\"referencia_del_contrato\", StringType(), True),\n",
    "            StructField(\"estado_contrato\", StringType(), True),\n",
    "            StructField(\"descripcion_del_proceso\", StringType(), True),\n",
    "            StructField(\"modalidad_de_contratacion\", StringType(), True),\n",
    "            StructField(\"fecha_de_firma\", DateType(), True),\n",
    "            StructField(\"fecha_de_inicio_del_contrato\", DateType(), True),\n",
    "            StructField(\"fecha_de_fin_del_contrato\", DateType(), True),\n",
    "            StructField(\"tipodocproveedor\", StringType(), True),\n",
    "            StructField(\"documento_proveedor\", StringType(), True),\n",
    "            StructField(\"proveedor_adjudicado\", StringType(), True),\n",
    "            StructField(\"valor_del_contrato\", NumericType(), True),\n",
    "            StructField(\"objeto_del_contrato\", StringType(), True),\n",
    "            StructField(\"dias_adicionados\", NumericType(), True),\n",
    "        ]\n",
    "    ),\n",
    "}"
   ]
  },
  {
   "cell_type": "code",
   "execution_count": null,
   "id": "c6a3f372",
   "metadata": {},
   "outputs": [],
   "source": []
  },
  {
   "cell_type": "code",
   "execution_count": null,
   "id": "5fd297a2",
   "metadata": {},
   "outputs": [],
   "source": []
  },
  {
   "cell_type": "code",
   "execution_count": 9,
   "id": "4f26a024",
   "metadata": {},
   "outputs": [
    {
     "data": {
      "text/html": [
       "<pre style=\"white-space:pre;overflow-x:auto;line-height:normal;font-family:Menlo,'DejaVu Sans Mono',consolas,'Courier New',monospace\"><span style=\"font-weight: bold\">&lt;</span><span style=\"color: #ff00ff; text-decoration-color: #ff00ff; font-weight: bold\">IPython.core.display.Javascript</span><span style=\"color: #000000; text-decoration-color: #000000\"> object</span><span style=\"font-weight: bold\">&gt;</span>\n",
       "</pre>\n"
      ],
      "text/plain": [
       "\u001b[1m<\u001b[0m\u001b[1;95mIPython.core.display.Javascript\u001b[0m\u001b[39m object\u001b[0m\u001b[1m>\u001b[0m\n"
      ]
     },
     "metadata": {},
     "output_type": "display_data"
    },
    {
     "data": {
      "application/javascript": [
       "\n",
       "            setTimeout(function() {\n",
       "                var nbb_cell_id = 9;\n",
       "                var nbb_unformatted_code = \"%load_ext nb_black\";\n",
       "                var nbb_formatted_code = \"%load_ext nb_black\";\n",
       "                var nbb_cells = Jupyter.notebook.get_cells();\n",
       "                for (var i = 0; i < nbb_cells.length; ++i) {\n",
       "                    if (nbb_cells[i].input_prompt_number == nbb_cell_id) {\n",
       "                        if (nbb_cells[i].get_text() == nbb_unformatted_code) {\n",
       "                             nbb_cells[i].set_text(nbb_formatted_code);\n",
       "                        }\n",
       "                        break;\n",
       "                    }\n",
       "                }\n",
       "            }, 500);\n",
       "            "
      ]
     },
     "metadata": {},
     "output_type": "display_data"
    }
   ],
   "source": [
    "%load_ext nb_black"
   ]
  },
  {
   "cell_type": "code",
   "execution_count": 6,
   "id": "b00a6b4c",
   "metadata": {},
   "outputs": [
    {
     "data": {
      "text/html": [
       "<pre style=\"white-space:pre;overflow-x:auto;line-height:normal;font-family:Menlo,'DejaVu Sans Mono',consolas,'Courier New',monospace\"><span style=\"color: #7fbfbf; text-decoration-color: #7fbfbf\">[08/12/22 16:18:02] </span><span style=\"color: #000080; text-decoration-color: #000080\">INFO    </span> Loading data from <span style=\"color: #008000; text-decoration-color: #008000\">'params:num_nits_to_extract'</span> <span style=\"font-weight: bold\">(</span>MemoryDataSet<span style=\"font-weight: bold\">)</span><span style=\"color: #808000; text-decoration-color: #808000\">...</span>  <a href=\"file:///opt/homebrew/Caskroom/miniforge/base/envs/dm_project/lib/python3.10/site-packages/kedro/io/data_catalog.py\" target=\"_blank\"><span style=\"color: #7f7f7f; text-decoration-color: #7f7f7f\">data_catalog.py</span></a><span style=\"color: #7f7f7f; text-decoration-color: #7f7f7f\">:</span><a href=\"file:///opt/homebrew/Caskroom/miniforge/base/envs/dm_project/lib/python3.10/site-packages/kedro/io/data_catalog.py#343\" target=\"_blank\"><span style=\"color: #7f7f7f; text-decoration-color: #7f7f7f\">343</span></a>\n",
       "</pre>\n"
      ],
      "text/plain": [
       "\u001b[2;36m[08/12/22 16:18:02]\u001b[0m\u001b[2;36m \u001b[0m\u001b[34mINFO    \u001b[0m Loading data from \u001b[32m'params:num_nits_to_extract'\u001b[0m \u001b[1m(\u001b[0mMemoryDataSet\u001b[1m)\u001b[0m\u001b[33m...\u001b[0m  \u001b]8;id=470321;file:///opt/homebrew/Caskroom/miniforge/base/envs/dm_project/lib/python3.10/site-packages/kedro/io/data_catalog.py\u001b\\\u001b[2mdata_catalog.py\u001b[0m\u001b]8;;\u001b\\\u001b[2m:\u001b[0m\u001b]8;id=154601;file:///opt/homebrew/Caskroom/miniforge/base/envs/dm_project/lib/python3.10/site-packages/kedro/io/data_catalog.py#343\u001b\\\u001b[2m343\u001b[0m\u001b]8;;\u001b\\\n"
      ]
     },
     "metadata": {},
     "output_type": "display_data"
    }
   ],
   "source": [
    "num_nits_to_extract = catalog.load('params:num_nits_to_extract')"
   ]
  },
  {
   "cell_type": "code",
   "execution_count": 2,
   "id": "359b766f",
   "metadata": {},
   "outputs": [
    {
     "data": {
      "text/html": [
       "<pre style=\"white-space:pre;overflow-x:auto;line-height:normal;font-family:Menlo,'DejaVu Sans Mono',consolas,'Courier New',monospace\"><span style=\"color: #7fbfbf; text-decoration-color: #7fbfbf\">[08/12/22 16:16:27] </span><span style=\"color: #000080; text-decoration-color: #000080\">INFO    </span> Loading data from <span style=\"color: #008000; text-decoration-color: #008000\">'secop_2_cont_log_in'</span> <span style=\"font-weight: bold\">(</span>JSONDataSet<span style=\"font-weight: bold\">)</span><span style=\"color: #808000; text-decoration-color: #808000\">...</span>           <a href=\"file:///opt/homebrew/Caskroom/miniforge/base/envs/dm_project/lib/python3.10/site-packages/kedro/io/data_catalog.py\" target=\"_blank\"><span style=\"color: #7f7f7f; text-decoration-color: #7f7f7f\">data_catalog.py</span></a><span style=\"color: #7f7f7f; text-decoration-color: #7f7f7f\">:</span><a href=\"file:///opt/homebrew/Caskroom/miniforge/base/envs/dm_project/lib/python3.10/site-packages/kedro/io/data_catalog.py#343\" target=\"_blank\"><span style=\"color: #7f7f7f; text-decoration-color: #7f7f7f\">343</span></a>\n",
       "</pre>\n"
      ],
      "text/plain": [
       "\u001b[2;36m[08/12/22 16:16:27]\u001b[0m\u001b[2;36m \u001b[0m\u001b[34mINFO    \u001b[0m Loading data from \u001b[32m'secop_2_cont_log_in'\u001b[0m \u001b[1m(\u001b[0mJSONDataSet\u001b[1m)\u001b[0m\u001b[33m...\u001b[0m           \u001b]8;id=655565;file:///opt/homebrew/Caskroom/miniforge/base/envs/dm_project/lib/python3.10/site-packages/kedro/io/data_catalog.py\u001b\\\u001b[2mdata_catalog.py\u001b[0m\u001b]8;;\u001b\\\u001b[2m:\u001b[0m\u001b]8;id=385378;file:///opt/homebrew/Caskroom/miniforge/base/envs/dm_project/lib/python3.10/site-packages/kedro/io/data_catalog.py#343\u001b\\\u001b[2m343\u001b[0m\u001b]8;;\u001b\\\n"
      ]
     },
     "metadata": {},
     "output_type": "display_data"
    }
   ],
   "source": [
    "secop_2_cont_log = catalog.load('secop_2_cont_log_in')"
   ]
  },
  {
   "cell_type": "code",
   "execution_count": 18,
   "id": "42cb1c47",
   "metadata": {},
   "outputs": [
    {
     "data": {
      "text/html": [
       "<pre style=\"white-space:pre;overflow-x:auto;line-height:normal;font-family:Menlo,'DejaVu Sans Mono',consolas,'Courier New',monospace\"><span style=\"font-weight: bold\">&lt;</span><span style=\"color: #ff00ff; text-decoration-color: #ff00ff; font-weight: bold\">IPython.core.display.Javascript</span><span style=\"color: #000000; text-decoration-color: #000000\"> object</span><span style=\"font-weight: bold\">&gt;</span>\n",
       "</pre>\n"
      ],
      "text/plain": [
       "\u001b[1m<\u001b[0m\u001b[1;95mIPython.core.display.Javascript\u001b[0m\u001b[39m object\u001b[0m\u001b[1m>\u001b[0m\n"
      ]
     },
     "metadata": {},
     "output_type": "display_data"
    },
    {
     "data": {
      "application/javascript": [
       "\n",
       "            setTimeout(function() {\n",
       "                var nbb_cell_id = 18;\n",
       "                var nbb_unformatted_code = \"schema = dic_schemas['schema_secop_2_cont']\";\n",
       "                var nbb_formatted_code = \"schema = dic_schemas[\\\"schema_secop_2_cont\\\"]\";\n",
       "                var nbb_cells = Jupyter.notebook.get_cells();\n",
       "                for (var i = 0; i < nbb_cells.length; ++i) {\n",
       "                    if (nbb_cells[i].input_prompt_number == nbb_cell_id) {\n",
       "                        if (nbb_cells[i].get_text() == nbb_unformatted_code) {\n",
       "                             nbb_cells[i].set_text(nbb_formatted_code);\n",
       "                        }\n",
       "                        break;\n",
       "                    }\n",
       "                }\n",
       "            }, 500);\n",
       "            "
      ]
     },
     "metadata": {},
     "output_type": "display_data"
    }
   ],
   "source": [
    "schema = dic_schemas[\"schema_secop_2_cont\"]"
   ]
  },
  {
   "cell_type": "code",
   "execution_count": 19,
   "id": "06ed07df",
   "metadata": {},
   "outputs": [
    {
     "data": {
      "text/html": [
       "<pre style=\"white-space:pre;overflow-x:auto;line-height:normal;font-family:Menlo,'DejaVu Sans Mono',consolas,'Courier New',monospace\"><span style=\"font-weight: bold\">&lt;</span><span style=\"color: #ff00ff; text-decoration-color: #ff00ff; font-weight: bold\">IPython.core.display.Javascript</span><span style=\"color: #000000; text-decoration-color: #000000\"> object</span><span style=\"font-weight: bold\">&gt;</span>\n",
       "</pre>\n"
      ],
      "text/plain": [
       "\u001b[1m<\u001b[0m\u001b[1;95mIPython.core.display.Javascript\u001b[0m\u001b[39m object\u001b[0m\u001b[1m>\u001b[0m\n"
      ]
     },
     "metadata": {},
     "output_type": "display_data"
    },
    {
     "data": {
      "application/javascript": [
       "\n",
       "            setTimeout(function() {\n",
       "                var nbb_cell_id = 19;\n",
       "                var nbb_unformatted_code = \"code = \\\"jbjy-vk9h\\\"\";\n",
       "                var nbb_formatted_code = \"code = \\\"jbjy-vk9h\\\"\";\n",
       "                var nbb_cells = Jupyter.notebook.get_cells();\n",
       "                for (var i = 0; i < nbb_cells.length; ++i) {\n",
       "                    if (nbb_cells[i].input_prompt_number == nbb_cell_id) {\n",
       "                        if (nbb_cells[i].get_text() == nbb_unformatted_code) {\n",
       "                             nbb_cells[i].set_text(nbb_formatted_code);\n",
       "                        }\n",
       "                        break;\n",
       "                    }\n",
       "                }\n",
       "            }, 500);\n",
       "            "
      ]
     },
     "metadata": {},
     "output_type": "display_data"
    }
   ],
   "source": [
    "code = \"jbjy-vk9h\""
   ]
  },
  {
   "cell_type": "code",
   "execution_count": 26,
   "id": "99697f85",
   "metadata": {},
   "outputs": [
    {
     "data": {
      "text/html": [
       "<pre style=\"white-space:pre;overflow-x:auto;line-height:normal;font-family:Menlo,'DejaVu Sans Mono',consolas,'Courier New',monospace\"><span style=\"font-weight: bold\">&lt;</span><span style=\"color: #ff00ff; text-decoration-color: #ff00ff; font-weight: bold\">IPython.core.display.Javascript</span><span style=\"color: #000000; text-decoration-color: #000000\"> object</span><span style=\"font-weight: bold\">&gt;</span>\n",
       "</pre>\n"
      ],
      "text/plain": [
       "\u001b[1m<\u001b[0m\u001b[1;95mIPython.core.display.Javascript\u001b[0m\u001b[39m object\u001b[0m\u001b[1m>\u001b[0m\n"
      ]
     },
     "metadata": {},
     "output_type": "display_data"
    },
    {
     "data": {
      "application/javascript": [
       "\n",
       "            setTimeout(function() {\n",
       "                var nbb_cell_id = 26;\n",
       "                var nbb_unformatted_code = \"col_part = 'nit_entidad'\";\n",
       "                var nbb_formatted_code = \"col_part = \\\"nit_entidad\\\"\";\n",
       "                var nbb_cells = Jupyter.notebook.get_cells();\n",
       "                for (var i = 0; i < nbb_cells.length; ++i) {\n",
       "                    if (nbb_cells[i].input_prompt_number == nbb_cell_id) {\n",
       "                        if (nbb_cells[i].get_text() == nbb_unformatted_code) {\n",
       "                             nbb_cells[i].set_text(nbb_formatted_code);\n",
       "                        }\n",
       "                        break;\n",
       "                    }\n",
       "                }\n",
       "            }, 500);\n",
       "            "
      ]
     },
     "metadata": {},
     "output_type": "display_data"
    }
   ],
   "source": [
    "col_part = \"nit_entidad\""
   ]
  },
  {
   "cell_type": "code",
   "execution_count": 7,
   "id": "8e5b194a",
   "metadata": {},
   "outputs": [
    {
     "data": {
      "text/html": [
       "<pre style=\"white-space:pre;overflow-x:auto;line-height:normal;font-family:Menlo,'DejaVu Sans Mono',consolas,'Courier New',monospace\"><span style=\"color: #7fbfbf; text-decoration-color: #7fbfbf\">[08/12/22 16:18:04] </span><span style=\"color: #800000; text-decoration-color: #800000\">WARNING </span> Requests made without an app_token will be subject to strict throttling  <a href=\"file:///opt/homebrew/Caskroom/miniforge/base/envs/dm_project/lib/python3.10/site-packages/sodapy/socrata.py\" target=\"_blank\"><span style=\"color: #7f7f7f; text-decoration-color: #7f7f7f\">socrata.py</span></a><span style=\"color: #7f7f7f; text-decoration-color: #7f7f7f\">:</span><a href=\"file:///opt/homebrew/Caskroom/miniforge/base/envs/dm_project/lib/python3.10/site-packages/sodapy/socrata.py#63\" target=\"_blank\"><span style=\"color: #7f7f7f; text-decoration-color: #7f7f7f\">63</span></a>\n",
       "<span style=\"color: #7fbfbf; text-decoration-color: #7fbfbf\">                    </span>         limits.                                                                  <span style=\"color: #7f7f7f; text-decoration-color: #7f7f7f\">             </span>\n",
       "</pre>\n"
      ],
      "text/plain": [
       "\u001b[2;36m[08/12/22 16:18:04]\u001b[0m\u001b[2;36m \u001b[0m\u001b[31mWARNING \u001b[0m Requests made without an app_token will be subject to strict throttling  \u001b]8;id=101790;file:///opt/homebrew/Caskroom/miniforge/base/envs/dm_project/lib/python3.10/site-packages/sodapy/socrata.py\u001b\\\u001b[2msocrata.py\u001b[0m\u001b]8;;\u001b\\\u001b[2m:\u001b[0m\u001b]8;id=869826;file:///opt/homebrew/Caskroom/miniforge/base/envs/dm_project/lib/python3.10/site-packages/sodapy/socrata.py#63\u001b\\\u001b[2m63\u001b[0m\u001b]8;;\u001b\\\n",
       "\u001b[2;36m                    \u001b[0m         limits.                                                                  \u001b[2m             \u001b[0m\n"
      ]
     },
     "metadata": {},
     "output_type": "display_data"
    }
   ],
   "source": [
    "spark = SparkSession.builder.getOrCreate()\n",
    "sql_ctx = SQLContext(spark.sparkContext)\n",
    "# Nit to extract. If all nits have been extracted then the oldest extraction is updated\n",
    "nits_to_extract = _get_nits_to_extract(secop_2_cont_log, num_nits_to_extract)\n",
    "# Request\n",
    "client = Socrata(\"www.datos.gov.co\", None)\n",
    "lim = 4000\n",
    "offset = lim"
   ]
  },
  {
   "cell_type": "code",
   "execution_count": 20,
   "id": "f5f76618",
   "metadata": {},
   "outputs": [
    {
     "name": "stdout",
     "output_type": "stream",
     "text": [
      "req - 0 - 2022-08-12 16:30:15.030516\n"
     ]
    },
    {
     "data": {
      "text/html": [
       "<pre style=\"white-space:pre;overflow-x:auto;line-height:normal;font-family:Menlo,'DejaVu Sans Mono',consolas,'Courier New',monospace\"><span style=\"font-weight: bold\">&lt;</span><span style=\"color: #ff00ff; text-decoration-color: #ff00ff; font-weight: bold\">IPython.core.display.Javascript</span><span style=\"color: #000000; text-decoration-color: #000000\"> object</span><span style=\"font-weight: bold\">&gt;</span>\n",
       "</pre>\n"
      ],
      "text/plain": [
       "\u001b[1m<\u001b[0m\u001b[1;95mIPython.core.display.Javascript\u001b[0m\u001b[39m object\u001b[0m\u001b[1m>\u001b[0m\n"
      ]
     },
     "metadata": {},
     "output_type": "display_data"
    },
    {
     "data": {
      "application/javascript": [
       "\n",
       "            setTimeout(function() {\n",
       "                var nbb_cell_id = 20;\n",
       "                var nbb_unformatted_code = \"\\nprint(f\\\"req - {offset-lim} - {datetime.datetime.now()}\\\")\\nrequest = client.get(\\n    code,\\n    limit=lim,\\n    select=\\\", \\\".join(schema.fieldNames()),\\n    where='nit_entidad in (\\\"' + '\\\",\\\"'.join(nits_to_extract) + '\\\")',\\n)\\nrequest_df = pd.DataFrame.from_records(request)\\nresults_df = request_df.copy()\";\n",
       "                var nbb_formatted_code = \"print(f\\\"req - {offset-lim} - {datetime.datetime.now()}\\\")\\nrequest = client.get(\\n    code,\\n    limit=lim,\\n    select=\\\", \\\".join(schema.fieldNames()),\\n    where='nit_entidad in (\\\"' + '\\\",\\\"'.join(nits_to_extract) + '\\\")',\\n)\\nrequest_df = pd.DataFrame.from_records(request)\\nresults_df = request_df.copy()\";\n",
       "                var nbb_cells = Jupyter.notebook.get_cells();\n",
       "                for (var i = 0; i < nbb_cells.length; ++i) {\n",
       "                    if (nbb_cells[i].input_prompt_number == nbb_cell_id) {\n",
       "                        if (nbb_cells[i].get_text() == nbb_unformatted_code) {\n",
       "                             nbb_cells[i].set_text(nbb_formatted_code);\n",
       "                        }\n",
       "                        break;\n",
       "                    }\n",
       "                }\n",
       "            }, 500);\n",
       "            "
      ]
     },
     "metadata": {},
     "output_type": "display_data"
    }
   ],
   "source": [
    "print(f\"req - {offset-lim} - {datetime.datetime.now()}\")\n",
    "request = client.get(\n",
    "    code,\n",
    "    limit=lim,\n",
    "    select=\", \".join(schema.fieldNames()),\n",
    "    where=col_part+' in (\"' + '\",\"'.join(nits_to_extract) + '\")',\n",
    ")\n",
    "request_df = pd.DataFrame.from_records(request)\n",
    "results_df = request_df.copy()"
   ]
  },
  {
   "cell_type": "code",
   "execution_count": 27,
   "id": "3e7d9f3e",
   "metadata": {
    "scrolled": true
   },
   "outputs": [
    {
     "name": "stdout",
     "output_type": "stream",
     "text": [
      "req - 4000 - 2022-08-12 16:32:48.191921\n",
      "req - 8000 - 2022-08-12 16:32:49.200347\n",
      "req - 12000 - 2022-08-12 16:32:49.911431\n",
      "req - 16000 - 2022-08-12 16:32:50.654863\n",
      "req - 20000 - 2022-08-12 16:32:51.535306\n",
      "req - 24000 - 2022-08-12 16:32:52.388442\n",
      "req - 28000 - 2022-08-12 16:32:53.229956\n",
      "req - 32000 - 2022-08-12 16:32:53.956854\n",
      "req - 36000 - 2022-08-12 16:32:54.693469\n",
      "req - 40000 - 2022-08-12 16:32:55.482638\n",
      "req - 44000 - 2022-08-12 16:32:56.318025\n",
      "req - 48000 - 2022-08-12 16:32:57.202863\n",
      "req - 52000 - 2022-08-12 16:32:59.562572\n",
      "req - 56000 - 2022-08-12 16:33:00.377692\n",
      "req - 60000 - 2022-08-12 16:33:01.118024\n",
      "req - 64000 - 2022-08-12 16:33:01.857909\n",
      "req - 68000 - 2022-08-12 16:33:02.567798\n",
      "req - 72000 - 2022-08-12 16:33:03.347210\n",
      "req - 76000 - 2022-08-12 16:33:04.037247\n",
      "req - 80000 - 2022-08-12 16:33:04.760177\n",
      "req - 84000 - 2022-08-12 16:33:05.641720\n",
      "req - 88000 - 2022-08-12 16:33:06.566558\n",
      "req - 92000 - 2022-08-12 16:33:07.396083\n",
      "req - 96000 - 2022-08-12 16:33:08.141584\n",
      "req - 100000 - 2022-08-12 16:33:08.896167\n",
      "req - 104000 - 2022-08-12 16:33:09.526725\n"
     ]
    },
    {
     "data": {
      "text/html": [
       "<pre style=\"white-space:pre;overflow-x:auto;line-height:normal;font-family:Menlo,'DejaVu Sans Mono',consolas,'Courier New',monospace\"><span style=\"font-weight: bold\">&lt;</span><span style=\"color: #ff00ff; text-decoration-color: #ff00ff; font-weight: bold\">IPython.core.display.Javascript</span><span style=\"color: #000000; text-decoration-color: #000000\"> object</span><span style=\"font-weight: bold\">&gt;</span>\n",
       "</pre>\n"
      ],
      "text/plain": [
       "\u001b[1m<\u001b[0m\u001b[1;95mIPython.core.display.Javascript\u001b[0m\u001b[39m object\u001b[0m\u001b[1m>\u001b[0m\n"
      ]
     },
     "metadata": {},
     "output_type": "display_data"
    },
    {
     "data": {
      "application/javascript": [
       "\n",
       "            setTimeout(function() {\n",
       "                var nbb_cell_id = 27;\n",
       "                var nbb_unformatted_code = \"while len(request_df) > 0:\\n    print(f\\\"req - {offset} - {datetime.datetime.now()}\\\")\\n    request = client.get(\\n        code,\\n        limit=lim,\\n        offset=offset,\\n        select=\\\", \\\".join(schema.fieldNames()),\\n        where=col_part + ' in (\\\"' + '\\\",\\\"'.join(nits_to_extract) + '\\\")',\\n    )\\n    request_df = pd.DataFrame.from_records(request)\\n    results_df = pd.concat([results_df, request_df], ignore_index=True)\\n    offset += lim\";\n",
       "                var nbb_formatted_code = \"while len(request_df) > 0:\\n    print(f\\\"req - {offset} - {datetime.datetime.now()}\\\")\\n    request = client.get(\\n        code,\\n        limit=lim,\\n        offset=offset,\\n        select=\\\", \\\".join(schema.fieldNames()),\\n        where=col_part + ' in (\\\"' + '\\\",\\\"'.join(nits_to_extract) + '\\\")',\\n    )\\n    request_df = pd.DataFrame.from_records(request)\\n    results_df = pd.concat([results_df, request_df], ignore_index=True)\\n    offset += lim\";\n",
       "                var nbb_cells = Jupyter.notebook.get_cells();\n",
       "                for (var i = 0; i < nbb_cells.length; ++i) {\n",
       "                    if (nbb_cells[i].input_prompt_number == nbb_cell_id) {\n",
       "                        if (nbb_cells[i].get_text() == nbb_unformatted_code) {\n",
       "                             nbb_cells[i].set_text(nbb_formatted_code);\n",
       "                        }\n",
       "                        break;\n",
       "                    }\n",
       "                }\n",
       "            }, 500);\n",
       "            "
      ]
     },
     "metadata": {},
     "output_type": "display_data"
    }
   ],
   "source": [
    "while len(request_df) > 0:\n",
    "    print(f\"req - {offset} - {datetime.datetime.now()}\")\n",
    "    request = client.get(\n",
    "        code,\n",
    "        limit=lim,\n",
    "        offset=offset,\n",
    "        select=\", \".join(schema.fieldNames()),\n",
    "        where=col_part + ' in (\"' + '\",\"'.join(nits_to_extract) + '\")',\n",
    "    )\n",
    "    request_df = pd.DataFrame.from_records(request)\n",
    "    results_df = pd.concat([results_df, request_df], ignore_index=True)\n",
    "    offset += lim"
   ]
  },
  {
   "cell_type": "code",
   "execution_count": null,
   "id": "9d80046d",
   "metadata": {},
   "outputs": [],
   "source": [
    "\n",
    "# Fix nulls\n",
    "results_df.fillna(\"\", inplace=True)\n",
    "# Adds columns from schema not received\n",
    "for c in set(schema.fieldNames()).difference(results_df.columns):\n",
    "    results_df[c] = \"\"\n",
    "for n in nits_to_extract:\n",
    "    secop_2_log[n][\"req\"] = 1\n",
    "    secop_2_log[n][\"date\"] = str(datetime.datetime.now())\n",
    "success = 1\n",
    "for c in set(results_df.columns).intersection(\n",
    "    [s for s in schema.fieldNames() if str(schema[s].dataType) == \"DateType\"]\n",
    "):\n",
    "    results_df[c] = pd.to_datetime(\n",
    "        results_df[c].replace(\"\", pd.NaT), errors=\"coerce\"\n",
    "    )\n",
    "results_df = results_df[schema_secop_2.fieldNames()]\n",
    "try:\n",
    "    result_spark = sql_ctx.createDataFrame(results_df, schema=schema)\n",
    "except IndexError:\n",
    "    result_spark = sql_ctx.createDataFrame([], schema)\n",
    "    success = 0\n",
    "for n in nits_to_extract:\n",
    "    secop_2_cont_log[n][\"success\"] = success\n"
   ]
  }
 ],
 "metadata": {
  "kernelspec": {
   "display_name": "Kedro (secop)",
   "language": "python",
   "name": "kedro_secop"
  },
  "language_info": {
   "codemirror_mode": {
    "name": "ipython",
    "version": 3
   },
   "file_extension": ".py",
   "mimetype": "text/x-python",
   "name": "python",
   "nbconvert_exporter": "python",
   "pygments_lexer": "ipython3",
   "version": "3.10.5"
  }
 },
 "nbformat": 4,
 "nbformat_minor": 5
}
