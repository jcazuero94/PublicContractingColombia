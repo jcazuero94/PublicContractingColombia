{
 "cells": [
  {
   "cell_type": "code",
   "execution_count": 1,
   "id": "b13c82c7",
   "metadata": {},
   "outputs": [],
   "source": [
    "import warnings\n",
    "\n",
    "warnings.filterwarnings(\"ignore\")"
   ]
  },
  {
   "cell_type": "code",
   "execution_count": 2,
   "id": "912d834e",
   "metadata": {},
   "outputs": [],
   "source": [
    "import pandas as pd\n",
    "import numpy as np\n",
    "import matplotlib.pyplot as plt\n",
    "import seaborn as sns\n",
    "import itertools\n",
    "from sklearn.ensemble import RandomForestRegressor\n",
    "import datetime\n",
    "from boruta import BorutaPy\n",
    "from sklearn.metrics import mean_squared_error\n",
    "import shap\n",
    "from tensorflow import keras\n",
    "import tensorflow as tf"
   ]
  },
  {
   "cell_type": "code",
   "execution_count": 3,
   "id": "faf99f1e",
   "metadata": {},
   "outputs": [
    {
     "data": {
      "text/html": [
       "<pre style=\"white-space:pre;overflow-x:auto;line-height:normal;font-family:Menlo,'DejaVu Sans Mono',consolas,'Courier New',monospace\"><span style=\"font-weight: bold\">&lt;</span><span style=\"color: #ff00ff; text-decoration-color: #ff00ff; font-weight: bold\">IPython.core.display.Javascript</span><span style=\"color: #000000; text-decoration-color: #000000\"> object</span><span style=\"font-weight: bold\">&gt;</span>\n",
       "</pre>\n"
      ],
      "text/plain": [
       "\u001b[1m<\u001b[0m\u001b[1;95mIPython.core.display.Javascript\u001b[0m\u001b[39m object\u001b[0m\u001b[1m>\u001b[0m\n"
      ]
     },
     "metadata": {},
     "output_type": "display_data"
    },
    {
     "data": {
      "application/javascript": [
       "\n",
       "            setTimeout(function() {\n",
       "                var nbb_cell_id = 3;\n",
       "                var nbb_unformatted_code = \"%load_ext nb_black\\n%matplotlib inline\";\n",
       "                var nbb_formatted_code = \"%load_ext nb_black\\n%matplotlib inline\";\n",
       "                var nbb_cells = Jupyter.notebook.get_cells();\n",
       "                for (var i = 0; i < nbb_cells.length; ++i) {\n",
       "                    if (nbb_cells[i].input_prompt_number == nbb_cell_id) {\n",
       "                        if (nbb_cells[i].get_text() == nbb_unformatted_code) {\n",
       "                             nbb_cells[i].set_text(nbb_formatted_code);\n",
       "                        }\n",
       "                        break;\n",
       "                    }\n",
       "                }\n",
       "            }, 500);\n",
       "            "
      ]
     },
     "metadata": {},
     "output_type": "display_data"
    }
   ],
   "source": [
    "%load_ext nb_black\n",
    "%matplotlib inline"
   ]
  },
  {
   "cell_type": "code",
   "execution_count": 4,
   "id": "38dc444a",
   "metadata": {},
   "outputs": [
    {
     "data": {
      "text/html": [
       "<pre style=\"white-space:pre;overflow-x:auto;line-height:normal;font-family:Menlo,'DejaVu Sans Mono',consolas,'Courier New',monospace\"><span style=\"color: #7fbfbf; text-decoration-color: #7fbfbf\">[08/14/22 21:33:28] </span><span style=\"color: #000080; text-decoration-color: #000080\">INFO    </span> Loading data from <span style=\"color: #008000; text-decoration-color: #008000\">'train_contract_value'</span> <span style=\"font-weight: bold\">(</span>ParquetDataSet<span style=\"font-weight: bold\">)</span><span style=\"color: #808000; text-decoration-color: #808000\">...</span>       <a href=\"file:///opt/homebrew/Caskroom/miniforge/base/envs/dm_project/lib/python3.10/site-packages/kedro/io/data_catalog.py\" target=\"_blank\"><span style=\"color: #7f7f7f; text-decoration-color: #7f7f7f\">data_catalog.py</span></a><span style=\"color: #7f7f7f; text-decoration-color: #7f7f7f\">:</span><a href=\"file:///opt/homebrew/Caskroom/miniforge/base/envs/dm_project/lib/python3.10/site-packages/kedro/io/data_catalog.py#343\" target=\"_blank\"><span style=\"color: #7f7f7f; text-decoration-color: #7f7f7f\">343</span></a>\n",
       "</pre>\n"
      ],
      "text/plain": [
       "\u001b[2;36m[08/14/22 21:33:28]\u001b[0m\u001b[2;36m \u001b[0m\u001b[34mINFO    \u001b[0m Loading data from \u001b[32m'train_contract_value'\u001b[0m \u001b[1m(\u001b[0mParquetDataSet\u001b[1m)\u001b[0m\u001b[33m...\u001b[0m       \u001b]8;id=734648;file:///opt/homebrew/Caskroom/miniforge/base/envs/dm_project/lib/python3.10/site-packages/kedro/io/data_catalog.py\u001b\\\u001b[2mdata_catalog.py\u001b[0m\u001b]8;;\u001b\\\u001b[2m:\u001b[0m\u001b]8;id=695332;file:///opt/homebrew/Caskroom/miniforge/base/envs/dm_project/lib/python3.10/site-packages/kedro/io/data_catalog.py#343\u001b\\\u001b[2m343\u001b[0m\u001b]8;;\u001b\\\n"
      ]
     },
     "metadata": {},
     "output_type": "display_data"
    },
    {
     "data": {
      "text/html": [
       "<pre style=\"white-space:pre;overflow-x:auto;line-height:normal;font-family:Menlo,'DejaVu Sans Mono',consolas,'Courier New',monospace\"><span style=\"color: #7fbfbf; text-decoration-color: #7fbfbf\">[08/14/22 21:33:33] </span><span style=\"color: #000080; text-decoration-color: #000080\">INFO    </span> Loading data from <span style=\"color: #008000; text-decoration-color: #008000\">'cv_contract_value'</span> <span style=\"font-weight: bold\">(</span>ParquetDataSet<span style=\"font-weight: bold\">)</span><span style=\"color: #808000; text-decoration-color: #808000\">...</span>          <a href=\"file:///opt/homebrew/Caskroom/miniforge/base/envs/dm_project/lib/python3.10/site-packages/kedro/io/data_catalog.py\" target=\"_blank\"><span style=\"color: #7f7f7f; text-decoration-color: #7f7f7f\">data_catalog.py</span></a><span style=\"color: #7f7f7f; text-decoration-color: #7f7f7f\">:</span><a href=\"file:///opt/homebrew/Caskroom/miniforge/base/envs/dm_project/lib/python3.10/site-packages/kedro/io/data_catalog.py#343\" target=\"_blank\"><span style=\"color: #7f7f7f; text-decoration-color: #7f7f7f\">343</span></a>\n",
       "</pre>\n"
      ],
      "text/plain": [
       "\u001b[2;36m[08/14/22 21:33:33]\u001b[0m\u001b[2;36m \u001b[0m\u001b[34mINFO    \u001b[0m Loading data from \u001b[32m'cv_contract_value'\u001b[0m \u001b[1m(\u001b[0mParquetDataSet\u001b[1m)\u001b[0m\u001b[33m...\u001b[0m          \u001b]8;id=520430;file:///opt/homebrew/Caskroom/miniforge/base/envs/dm_project/lib/python3.10/site-packages/kedro/io/data_catalog.py\u001b\\\u001b[2mdata_catalog.py\u001b[0m\u001b]8;;\u001b\\\u001b[2m:\u001b[0m\u001b]8;id=948440;file:///opt/homebrew/Caskroom/miniforge/base/envs/dm_project/lib/python3.10/site-packages/kedro/io/data_catalog.py#343\u001b\\\u001b[2m343\u001b[0m\u001b]8;;\u001b\\\n"
      ]
     },
     "metadata": {},
     "output_type": "display_data"
    },
    {
     "data": {
      "text/html": [
       "<pre style=\"white-space:pre;overflow-x:auto;line-height:normal;font-family:Menlo,'DejaVu Sans Mono',consolas,'Courier New',monospace\"><span style=\"color: #7fbfbf; text-decoration-color: #7fbfbf\">                    </span><span style=\"color: #000080; text-decoration-color: #000080\">INFO    </span> Loading data from <span style=\"color: #008000; text-decoration-color: #008000\">'test_contract_value'</span> <span style=\"font-weight: bold\">(</span>ParquetDataSet<span style=\"font-weight: bold\">)</span><span style=\"color: #808000; text-decoration-color: #808000\">...</span>        <a href=\"file:///opt/homebrew/Caskroom/miniforge/base/envs/dm_project/lib/python3.10/site-packages/kedro/io/data_catalog.py\" target=\"_blank\"><span style=\"color: #7f7f7f; text-decoration-color: #7f7f7f\">data_catalog.py</span></a><span style=\"color: #7f7f7f; text-decoration-color: #7f7f7f\">:</span><a href=\"file:///opt/homebrew/Caskroom/miniforge/base/envs/dm_project/lib/python3.10/site-packages/kedro/io/data_catalog.py#343\" target=\"_blank\"><span style=\"color: #7f7f7f; text-decoration-color: #7f7f7f\">343</span></a>\n",
       "</pre>\n"
      ],
      "text/plain": [
       "\u001b[2;36m                   \u001b[0m\u001b[2;36m \u001b[0m\u001b[34mINFO    \u001b[0m Loading data from \u001b[32m'test_contract_value'\u001b[0m \u001b[1m(\u001b[0mParquetDataSet\u001b[1m)\u001b[0m\u001b[33m...\u001b[0m        \u001b]8;id=310888;file:///opt/homebrew/Caskroom/miniforge/base/envs/dm_project/lib/python3.10/site-packages/kedro/io/data_catalog.py\u001b\\\u001b[2mdata_catalog.py\u001b[0m\u001b]8;;\u001b\\\u001b[2m:\u001b[0m\u001b]8;id=795006;file:///opt/homebrew/Caskroom/miniforge/base/envs/dm_project/lib/python3.10/site-packages/kedro/io/data_catalog.py#343\u001b\\\u001b[2m343\u001b[0m\u001b]8;;\u001b\\\n"
      ]
     },
     "metadata": {},
     "output_type": "display_data"
    },
    {
     "data": {
      "text/html": [
       "<pre style=\"white-space:pre;overflow-x:auto;line-height:normal;font-family:Menlo,'DejaVu Sans Mono',consolas,'Courier New',monospace\"><span style=\"font-weight: bold\">&lt;</span><span style=\"color: #ff00ff; text-decoration-color: #ff00ff; font-weight: bold\">IPython.core.display.Javascript</span><span style=\"color: #000000; text-decoration-color: #000000\"> object</span><span style=\"font-weight: bold\">&gt;</span>\n",
       "</pre>\n"
      ],
      "text/plain": [
       "\u001b[1m<\u001b[0m\u001b[1;95mIPython.core.display.Javascript\u001b[0m\u001b[39m object\u001b[0m\u001b[1m>\u001b[0m\n"
      ]
     },
     "metadata": {},
     "output_type": "display_data"
    },
    {
     "data": {
      "application/javascript": [
       "\n",
       "            setTimeout(function() {\n",
       "                var nbb_cell_id = 4;\n",
       "                var nbb_unformatted_code = \"train = catalog.load(\\\"train_contract_value\\\")\\ncv = catalog.load(\\\"cv_contract_value\\\")\\ntest = catalog.load(\\\"test_contract_value\\\")\";\n",
       "                var nbb_formatted_code = \"train = catalog.load(\\\"train_contract_value\\\")\\ncv = catalog.load(\\\"cv_contract_value\\\")\\ntest = catalog.load(\\\"test_contract_value\\\")\";\n",
       "                var nbb_cells = Jupyter.notebook.get_cells();\n",
       "                for (var i = 0; i < nbb_cells.length; ++i) {\n",
       "                    if (nbb_cells[i].input_prompt_number == nbb_cell_id) {\n",
       "                        if (nbb_cells[i].get_text() == nbb_unformatted_code) {\n",
       "                             nbb_cells[i].set_text(nbb_formatted_code);\n",
       "                        }\n",
       "                        break;\n",
       "                    }\n",
       "                }\n",
       "            }, 500);\n",
       "            "
      ]
     },
     "metadata": {},
     "output_type": "display_data"
    }
   ],
   "source": [
    "train = catalog.load(\"train_contract_value\")\n",
    "cv = catalog.load(\"cv_contract_value\")\n",
    "test = catalog.load(\"test_contract_value\")"
   ]
  },
  {
   "cell_type": "code",
   "execution_count": 5,
   "id": "7c9f9f0e",
   "metadata": {},
   "outputs": [
    {
     "data": {
      "text/html": [
       "<pre style=\"white-space:pre;overflow-x:auto;line-height:normal;font-family:Menlo,'DejaVu Sans Mono',consolas,'Courier New',monospace\"><span style=\"font-weight: bold\">&lt;</span><span style=\"color: #ff00ff; text-decoration-color: #ff00ff; font-weight: bold\">IPython.core.display.Javascript</span><span style=\"color: #000000; text-decoration-color: #000000\"> object</span><span style=\"font-weight: bold\">&gt;</span>\n",
       "</pre>\n"
      ],
      "text/plain": [
       "\u001b[1m<\u001b[0m\u001b[1;95mIPython.core.display.Javascript\u001b[0m\u001b[39m object\u001b[0m\u001b[1m>\u001b[0m\n"
      ]
     },
     "metadata": {},
     "output_type": "display_data"
    },
    {
     "data": {
      "application/javascript": [
       "\n",
       "            setTimeout(function() {\n",
       "                var nbb_cell_id = 5;\n",
       "                var nbb_unformatted_code = \"y_train = train[\\\"log_valor_del_contrato\\\"].values\\ny_cv = cv[\\\"log_valor_del_contrato\\\"].values\\ny_test = test[\\\"log_valor_del_contrato\\\"].values\";\n",
       "                var nbb_formatted_code = \"y_train = train[\\\"log_valor_del_contrato\\\"].values\\ny_cv = cv[\\\"log_valor_del_contrato\\\"].values\\ny_test = test[\\\"log_valor_del_contrato\\\"].values\";\n",
       "                var nbb_cells = Jupyter.notebook.get_cells();\n",
       "                for (var i = 0; i < nbb_cells.length; ++i) {\n",
       "                    if (nbb_cells[i].input_prompt_number == nbb_cell_id) {\n",
       "                        if (nbb_cells[i].get_text() == nbb_unformatted_code) {\n",
       "                             nbb_cells[i].set_text(nbb_formatted_code);\n",
       "                        }\n",
       "                        break;\n",
       "                    }\n",
       "                }\n",
       "            }, 500);\n",
       "            "
      ]
     },
     "metadata": {},
     "output_type": "display_data"
    }
   ],
   "source": [
    "y_train = train[\"log_valor_del_contrato\"].values\n",
    "y_cv = cv[\"log_valor_del_contrato\"].values\n",
    "y_test = test[\"log_valor_del_contrato\"].values"
   ]
  },
  {
   "cell_type": "code",
   "execution_count": 6,
   "id": "5d23db43",
   "metadata": {},
   "outputs": [
    {
     "data": {
      "text/html": [
       "<pre style=\"white-space:pre;overflow-x:auto;line-height:normal;font-family:Menlo,'DejaVu Sans Mono',consolas,'Courier New',monospace\"><span style=\"font-weight: bold\">&lt;</span><span style=\"color: #ff00ff; text-decoration-color: #ff00ff; font-weight: bold\">IPython.core.display.Javascript</span><span style=\"color: #000000; text-decoration-color: #000000\"> object</span><span style=\"font-weight: bold\">&gt;</span>\n",
       "</pre>\n"
      ],
      "text/plain": [
       "\u001b[1m<\u001b[0m\u001b[1;95mIPython.core.display.Javascript\u001b[0m\u001b[39m object\u001b[0m\u001b[1m>\u001b[0m\n"
      ]
     },
     "metadata": {},
     "output_type": "display_data"
    },
    {
     "data": {
      "application/javascript": [
       "\n",
       "            setTimeout(function() {\n",
       "                var nbb_cell_id = 6;\n",
       "                var nbb_unformatted_code = \"train.drop([\\\"log_valor_del_contrato\\\", \\\"index\\\"], axis=1, inplace=True)\\ncv.drop([\\\"log_valor_del_contrato\\\", \\\"index\\\"], axis=1, inplace=True)\\ntest.drop([\\\"log_valor_del_contrato\\\", \\\"index\\\"], axis=1, inplace=True)\";\n",
       "                var nbb_formatted_code = \"train.drop([\\\"log_valor_del_contrato\\\", \\\"index\\\"], axis=1, inplace=True)\\ncv.drop([\\\"log_valor_del_contrato\\\", \\\"index\\\"], axis=1, inplace=True)\\ntest.drop([\\\"log_valor_del_contrato\\\", \\\"index\\\"], axis=1, inplace=True)\";\n",
       "                var nbb_cells = Jupyter.notebook.get_cells();\n",
       "                for (var i = 0; i < nbb_cells.length; ++i) {\n",
       "                    if (nbb_cells[i].input_prompt_number == nbb_cell_id) {\n",
       "                        if (nbb_cells[i].get_text() == nbb_unformatted_code) {\n",
       "                             nbb_cells[i].set_text(nbb_formatted_code);\n",
       "                        }\n",
       "                        break;\n",
       "                    }\n",
       "                }\n",
       "            }, 500);\n",
       "            "
      ]
     },
     "metadata": {},
     "output_type": "display_data"
    }
   ],
   "source": [
    "train.drop([\"log_valor_del_contrato\", \"index\"], axis=1, inplace=True)\n",
    "cv.drop([\"log_valor_del_contrato\", \"index\"], axis=1, inplace=True)\n",
    "test.drop([\"log_valor_del_contrato\", \"index\"], axis=1, inplace=True)"
   ]
  },
  {
   "cell_type": "code",
   "execution_count": 7,
   "id": "99663675",
   "metadata": {},
   "outputs": [
    {
     "data": {
      "text/html": [
       "<pre style=\"white-space:pre;overflow-x:auto;line-height:normal;font-family:Menlo,'DejaVu Sans Mono',consolas,'Courier New',monospace\"><span style=\"font-weight: bold\">&lt;</span><span style=\"color: #ff00ff; text-decoration-color: #ff00ff; font-weight: bold\">IPython.core.display.Javascript</span><span style=\"color: #000000; text-decoration-color: #000000\"> object</span><span style=\"font-weight: bold\">&gt;</span>\n",
       "</pre>\n"
      ],
      "text/plain": [
       "\u001b[1m<\u001b[0m\u001b[1;95mIPython.core.display.Javascript\u001b[0m\u001b[39m object\u001b[0m\u001b[1m>\u001b[0m\n"
      ]
     },
     "metadata": {},
     "output_type": "display_data"
    },
    {
     "data": {
      "application/javascript": [
       "\n",
       "            setTimeout(function() {\n",
       "                var nbb_cell_id = 7;\n",
       "                var nbb_unformatted_code = \"def gen_rf_hyperparameters():\\n    n_estimators = max(int(10 ** (np.random.random() * 1.5 + 1)), 1)\\n    max_depth = np.random.choice([2, 5, 7, 10, 15, 20])\\n    min_samples_leaf = np.random.randint(1, 100)\\n    max_features = np.random.random()\\n    return {\\n        \\\"n_estimators\\\": n_estimators,\\n        \\\"max_depth\\\": max_depth,\\n        \\\"min_samples_leaf\\\": min_samples_leaf,\\n        \\\"max_features\\\": max_features,\\n    }\";\n",
       "                var nbb_formatted_code = \"def gen_rf_hyperparameters():\\n    n_estimators = max(int(10 ** (np.random.random() * 1.5 + 1)), 1)\\n    max_depth = np.random.choice([2, 5, 7, 10, 15, 20])\\n    min_samples_leaf = np.random.randint(1, 100)\\n    max_features = np.random.random()\\n    return {\\n        \\\"n_estimators\\\": n_estimators,\\n        \\\"max_depth\\\": max_depth,\\n        \\\"min_samples_leaf\\\": min_samples_leaf,\\n        \\\"max_features\\\": max_features,\\n    }\";\n",
       "                var nbb_cells = Jupyter.notebook.get_cells();\n",
       "                for (var i = 0; i < nbb_cells.length; ++i) {\n",
       "                    if (nbb_cells[i].input_prompt_number == nbb_cell_id) {\n",
       "                        if (nbb_cells[i].get_text() == nbb_unformatted_code) {\n",
       "                             nbb_cells[i].set_text(nbb_formatted_code);\n",
       "                        }\n",
       "                        break;\n",
       "                    }\n",
       "                }\n",
       "            }, 500);\n",
       "            "
      ]
     },
     "metadata": {},
     "output_type": "display_data"
    }
   ],
   "source": [
    "def gen_rf_hyperparameters():\n",
    "    n_estimators = max(int(10 ** (np.random.random() * 1.5 + 1)), 1)\n",
    "    max_depth = np.random.choice([2, 5, 7, 10, 15, 20])\n",
    "    min_samples_leaf = np.random.randint(1, 100)\n",
    "    max_features = np.random.random()\n",
    "    return {\n",
    "        \"n_estimators\": n_estimators,\n",
    "        \"max_depth\": max_depth,\n",
    "        \"min_samples_leaf\": min_samples_leaf,\n",
    "        \"max_features\": max_features,\n",
    "    }"
   ]
  },
  {
   "cell_type": "code",
   "execution_count": 8,
   "id": "7ccf9f69",
   "metadata": {},
   "outputs": [
    {
     "name": "stdout",
     "output_type": "stream",
     "text": [
      "Iteration 1 - 15: CV - 16:12:14\n",
      "Iteration 1 - RMSE :0.9746217383885054\n",
      "Iteration 2 - RMSE :0.9416737146608866\n",
      "Iteration 3 - 15: CV - 16:48:45\n",
      "Iteration 3 - RMSE :1.3284620083348861\n",
      "Iteration 4 - RMSE :1.1689281964437488\n",
      "Iteration 5 - 15: CV - 16:50:31\n",
      "Iteration 5 - RMSE :0.9709298880135664\n",
      "Iteration 6 - RMSE :0.943415727446579\n",
      "Iteration 7 - 15: CV - 16:55:28\n",
      "Iteration 7 - RMSE :1.276198734914523\n",
      "Iteration 8 - RMSE :1.1725846201431211\n",
      "Iteration 9 - 15: CV - 16:56:01\n",
      "Iteration 9 - RMSE :0.9478364571604433\n",
      "Iteration 10 - RMSE :0.9475336320378565\n",
      "Iteration 11 - 15: CV - 17:20:34\n",
      "Iteration 11 - RMSE :0.9665313830287949\n",
      "Iteration 12 - RMSE :1.0056847393908643\n",
      "Iteration 13 - 15: CV - 17:24:26\n",
      "Iteration 13 - RMSE :0.9833955531999348\n",
      "Iteration 14 - RMSE :0.940890443906045\n",
      "Iteration 15 - 15: CV - 18:14:48\n",
      "Iteration 15 - RMSE :0.9492668091049051\n"
     ]
    },
    {
     "data": {
      "text/html": [
       "<pre style=\"white-space:pre;overflow-x:auto;line-height:normal;font-family:Menlo,'DejaVu Sans Mono',consolas,'Courier New',monospace\"><span style=\"font-weight: bold\">&lt;</span><span style=\"color: #ff00ff; text-decoration-color: #ff00ff; font-weight: bold\">IPython.core.display.Javascript</span><span style=\"color: #000000; text-decoration-color: #000000\"> object</span><span style=\"font-weight: bold\">&gt;</span>\n",
       "</pre>\n"
      ],
      "text/plain": [
       "\u001b[1m<\u001b[0m\u001b[1;95mIPython.core.display.Javascript\u001b[0m\u001b[39m object\u001b[0m\u001b[1m>\u001b[0m\n"
      ]
     },
     "metadata": {},
     "output_type": "display_data"
    },
    {
     "data": {
      "application/javascript": [
       "\n",
       "            setTimeout(function() {\n",
       "                var nbb_cell_id = 8;\n",
       "                var nbb_unformatted_code = \"n_cv = 15\\nscore = np.inf\\nfinal_params = None\\nfor i in range(n_cv):\\n    if i % 2 == 0:\\n        print(\\n            f\\\"Iteration {i+1} - {n_cv}: CV - {datetime.datetime.today().strftime('%H:%M:%S')}\\\"\\n        )\\n    params = gen_rf_hyperparameters()\\n    model = RandomForestRegressor(**params)\\n    model.fit(train, y_train)\\n    pred = model.predict(cv)\\n    cv_score = mean_squared_error(y_cv, pred) ** 0.5\\n    if cv_score < score:\\n        score = cv_score\\n        final_params = params\\n    print(f\\\"Iteration {i+1} - RMSE :{cv_score}\\\")\";\n",
       "                var nbb_formatted_code = \"n_cv = 15\\nscore = np.inf\\nfinal_params = None\\nfor i in range(n_cv):\\n    if i % 2 == 0:\\n        print(\\n            f\\\"Iteration {i+1} - {n_cv}: CV - {datetime.datetime.today().strftime('%H:%M:%S')}\\\"\\n        )\\n    params = gen_rf_hyperparameters()\\n    model = RandomForestRegressor(**params)\\n    model.fit(train, y_train)\\n    pred = model.predict(cv)\\n    cv_score = mean_squared_error(y_cv, pred) ** 0.5\\n    if cv_score < score:\\n        score = cv_score\\n        final_params = params\\n    print(f\\\"Iteration {i+1} - RMSE :{cv_score}\\\")\";\n",
       "                var nbb_cells = Jupyter.notebook.get_cells();\n",
       "                for (var i = 0; i < nbb_cells.length; ++i) {\n",
       "                    if (nbb_cells[i].input_prompt_number == nbb_cell_id) {\n",
       "                        if (nbb_cells[i].get_text() == nbb_unformatted_code) {\n",
       "                             nbb_cells[i].set_text(nbb_formatted_code);\n",
       "                        }\n",
       "                        break;\n",
       "                    }\n",
       "                }\n",
       "            }, 500);\n",
       "            "
      ]
     },
     "metadata": {},
     "output_type": "display_data"
    }
   ],
   "source": [
    "xn_cv = 15\n",
    "score = np.inf\n",
    "final_params = None\n",
    "for i in range(n_cv):\n",
    "    if i % 2 == 0:\n",
    "        print(\n",
    "            f\"Iteration {i+1} - {n_cv}: CV - {datetime.datetime.today().strftime('%H:%M:%S')}\"\n",
    "        )\n",
    "    params = gen_rf_hyperparameters()\n",
    "    model = RandomForestRegressor(**params)\n",
    "    model.fit(train, y_train)\n",
    "    pred = model.predict(cv)\n",
    "    cv_score = mean_squared_error(y_cv, pred) ** 0.5\n",
    "    if cv_score < score:\n",
    "        score = cv_score\n",
    "        final_params = params\n",
    "    print(f\"Iteration {i+1} - RMSE :{cv_score}\")"
   ]
  },
  {
   "cell_type": "code",
   "execution_count": 12,
   "id": "1debdd48",
   "metadata": {},
   "outputs": [
    {
     "data": {
      "text/html": [
       "<pre style=\"white-space:pre;overflow-x:auto;line-height:normal;font-family:Menlo,'DejaVu Sans Mono',consolas,'Courier New',monospace\"><span style=\"font-weight: bold\">&lt;</span><span style=\"color: #ff00ff; text-decoration-color: #ff00ff; font-weight: bold\">IPython.core.display.Javascript</span><span style=\"color: #000000; text-decoration-color: #000000\"> object</span><span style=\"font-weight: bold\">&gt;</span>\n",
       "</pre>\n"
      ],
      "text/plain": [
       "\u001b[1m<\u001b[0m\u001b[1;95mIPython.core.display.Javascript\u001b[0m\u001b[39m object\u001b[0m\u001b[1m>\u001b[0m\n"
      ]
     },
     "metadata": {},
     "output_type": "display_data"
    },
    {
     "data": {
      "application/javascript": [
       "\n",
       "            setTimeout(function() {\n",
       "                var nbb_cell_id = 12;\n",
       "                var nbb_unformatted_code = \"#final_params = {\\n#    \\\"n_estimators\\\": 78,\\n#    \\\"max_depth\\\": 20,\\n#    \\\"min_samples_leaf\\\": 77,\\n#    \\\"max_features\\\": 0.8530949098629828,\\n#}\";\n",
       "                var nbb_formatted_code = \"# final_params = {\\n#    \\\"n_estimators\\\": 78,\\n#    \\\"max_depth\\\": 20,\\n#    \\\"min_samples_leaf\\\": 77,\\n#    \\\"max_features\\\": 0.8530949098629828,\\n# }\";\n",
       "                var nbb_cells = Jupyter.notebook.get_cells();\n",
       "                for (var i = 0; i < nbb_cells.length; ++i) {\n",
       "                    if (nbb_cells[i].input_prompt_number == nbb_cell_id) {\n",
       "                        if (nbb_cells[i].get_text() == nbb_unformatted_code) {\n",
       "                             nbb_cells[i].set_text(nbb_formatted_code);\n",
       "                        }\n",
       "                        break;\n",
       "                    }\n",
       "                }\n",
       "            }, 500);\n",
       "            "
      ]
     },
     "metadata": {},
     "output_type": "display_data"
    }
   ],
   "source": [
    "# final_params = {\n",
    "#    \"n_estimators\": 78,\n",
    "#    \"max_depth\": 20,\n",
    "#    \"min_samples_leaf\": 77,\n",
    "#    \"max_features\": 0.8530949098629828,\n",
    "# }"
   ]
  },
  {
   "cell_type": "code",
   "execution_count": 13,
   "id": "90ff8f2e",
   "metadata": {},
   "outputs": [
    {
     "data": {
      "text/html": [
       "<style>#sk-container-id-1 {color: black;background-color: white;}#sk-container-id-1 pre{padding: 0;}#sk-container-id-1 div.sk-toggleable {background-color: white;}#sk-container-id-1 label.sk-toggleable__label {cursor: pointer;display: block;width: 100%;margin-bottom: 0;padding: 0.3em;box-sizing: border-box;text-align: center;}#sk-container-id-1 label.sk-toggleable__label-arrow:before {content: \"▸\";float: left;margin-right: 0.25em;color: #696969;}#sk-container-id-1 label.sk-toggleable__label-arrow:hover:before {color: black;}#sk-container-id-1 div.sk-estimator:hover label.sk-toggleable__label-arrow:before {color: black;}#sk-container-id-1 div.sk-toggleable__content {max-height: 0;max-width: 0;overflow: hidden;text-align: left;background-color: #f0f8ff;}#sk-container-id-1 div.sk-toggleable__content pre {margin: 0.2em;color: black;border-radius: 0.25em;background-color: #f0f8ff;}#sk-container-id-1 input.sk-toggleable__control:checked~div.sk-toggleable__content {max-height: 200px;max-width: 100%;overflow: auto;}#sk-container-id-1 input.sk-toggleable__control:checked~label.sk-toggleable__label-arrow:before {content: \"▾\";}#sk-container-id-1 div.sk-estimator input.sk-toggleable__control:checked~label.sk-toggleable__label {background-color: #d4ebff;}#sk-container-id-1 div.sk-label input.sk-toggleable__control:checked~label.sk-toggleable__label {background-color: #d4ebff;}#sk-container-id-1 input.sk-hidden--visually {border: 0;clip: rect(1px 1px 1px 1px);clip: rect(1px, 1px, 1px, 1px);height: 1px;margin: -1px;overflow: hidden;padding: 0;position: absolute;width: 1px;}#sk-container-id-1 div.sk-estimator {font-family: monospace;background-color: #f0f8ff;border: 1px dotted black;border-radius: 0.25em;box-sizing: border-box;margin-bottom: 0.5em;}#sk-container-id-1 div.sk-estimator:hover {background-color: #d4ebff;}#sk-container-id-1 div.sk-parallel-item::after {content: \"\";width: 100%;border-bottom: 1px solid gray;flex-grow: 1;}#sk-container-id-1 div.sk-label:hover label.sk-toggleable__label {background-color: #d4ebff;}#sk-container-id-1 div.sk-serial::before {content: \"\";position: absolute;border-left: 1px solid gray;box-sizing: border-box;top: 0;bottom: 0;left: 50%;z-index: 0;}#sk-container-id-1 div.sk-serial {display: flex;flex-direction: column;align-items: center;background-color: white;padding-right: 0.2em;padding-left: 0.2em;position: relative;}#sk-container-id-1 div.sk-item {position: relative;z-index: 1;}#sk-container-id-1 div.sk-parallel {display: flex;align-items: stretch;justify-content: center;background-color: white;position: relative;}#sk-container-id-1 div.sk-item::before, #sk-container-id-1 div.sk-parallel-item::before {content: \"\";position: absolute;border-left: 1px solid gray;box-sizing: border-box;top: 0;bottom: 0;left: 50%;z-index: -1;}#sk-container-id-1 div.sk-parallel-item {display: flex;flex-direction: column;z-index: 1;position: relative;background-color: white;}#sk-container-id-1 div.sk-parallel-item:first-child::after {align-self: flex-end;width: 50%;}#sk-container-id-1 div.sk-parallel-item:last-child::after {align-self: flex-start;width: 50%;}#sk-container-id-1 div.sk-parallel-item:only-child::after {width: 0;}#sk-container-id-1 div.sk-dashed-wrapped {border: 1px dashed gray;margin: 0 0.4em 0.5em 0.4em;box-sizing: border-box;padding-bottom: 0.4em;background-color: white;}#sk-container-id-1 div.sk-label label {font-family: monospace;font-weight: bold;display: inline-block;line-height: 1.2em;}#sk-container-id-1 div.sk-label-container {text-align: center;}#sk-container-id-1 div.sk-container {/* jupyter's `normalize.less` sets `[hidden] { display: none; }` but bootstrap.min.css set `[hidden] { display: none !important; }` so we also need the `!important` here to be able to override the default hidden behavior on the sphinx rendered scikit-learn.org. See: https://github.com/scikit-learn/scikit-learn/issues/21755 */display: inline-block !important;position: relative;}#sk-container-id-1 div.sk-text-repr-fallback {display: none;}</style><div id=\"sk-container-id-1\" class=\"sk-top-container\"><div class=\"sk-text-repr-fallback\"><pre>RandomForestRegressor(max_depth=20, max_features=0.8530949098629828,\n",
       "                      min_samples_leaf=77, n_estimators=78)</pre><b>In a Jupyter environment, please rerun this cell to show the HTML representation or trust the notebook. <br />On GitHub, the HTML representation is unable to render, please try loading this page with nbviewer.org.</b></div><div class=\"sk-container\" hidden><div class=\"sk-item\"><div class=\"sk-estimator sk-toggleable\"><input class=\"sk-toggleable__control sk-hidden--visually\" id=\"sk-estimator-id-1\" type=\"checkbox\" checked><label for=\"sk-estimator-id-1\" class=\"sk-toggleable__label sk-toggleable__label-arrow\">RandomForestRegressor</label><div class=\"sk-toggleable__content\"><pre>RandomForestRegressor(max_depth=20, max_features=0.8530949098629828,\n",
       "                      min_samples_leaf=77, n_estimators=78)</pre></div></div></div></div></div>"
      ],
      "text/plain": [
       "RandomForestRegressor(max_depth=20, max_features=0.8530949098629828,\n",
       "                      min_samples_leaf=77, n_estimators=78)"
      ]
     },
     "execution_count": 13,
     "metadata": {},
     "output_type": "execute_result"
    },
    {
     "data": {
      "text/html": [
       "<pre style=\"white-space:pre;overflow-x:auto;line-height:normal;font-family:Menlo,'DejaVu Sans Mono',consolas,'Courier New',monospace\"><span style=\"font-weight: bold\">&lt;</span><span style=\"color: #ff00ff; text-decoration-color: #ff00ff; font-weight: bold\">IPython.core.display.Javascript</span><span style=\"color: #000000; text-decoration-color: #000000\"> object</span><span style=\"font-weight: bold\">&gt;</span>\n",
       "</pre>\n"
      ],
      "text/plain": [
       "\u001b[1m<\u001b[0m\u001b[1;95mIPython.core.display.Javascript\u001b[0m\u001b[39m object\u001b[0m\u001b[1m>\u001b[0m\n"
      ]
     },
     "metadata": {},
     "output_type": "display_data"
    },
    {
     "data": {
      "application/javascript": [
       "\n",
       "            setTimeout(function() {\n",
       "                var nbb_cell_id = 13;\n",
       "                var nbb_unformatted_code = \"model = RandomForestRegressor(**final_params)\\nmodel.fit(train, y_train)\";\n",
       "                var nbb_formatted_code = \"model = RandomForestRegressor(**final_params)\\nmodel.fit(train, y_train)\";\n",
       "                var nbb_cells = Jupyter.notebook.get_cells();\n",
       "                for (var i = 0; i < nbb_cells.length; ++i) {\n",
       "                    if (nbb_cells[i].input_prompt_number == nbb_cell_id) {\n",
       "                        if (nbb_cells[i].get_text() == nbb_unformatted_code) {\n",
       "                             nbb_cells[i].set_text(nbb_formatted_code);\n",
       "                        }\n",
       "                        break;\n",
       "                    }\n",
       "                }\n",
       "            }, 500);\n",
       "            "
      ]
     },
     "metadata": {},
     "output_type": "display_data"
    }
   ],
   "source": [
    "model = RandomForestRegressor(**final_params)\n",
    "model.fit(train, y_train)"
   ]
  },
  {
   "cell_type": "code",
   "execution_count": 14,
   "id": "0eddf359",
   "metadata": {},
   "outputs": [
    {
     "data": {
      "text/html": [
       "<pre style=\"white-space:pre;overflow-x:auto;line-height:normal;font-family:Menlo,'DejaVu Sans Mono',consolas,'Courier New',monospace\"><span style=\"font-weight: bold\">&lt;</span><span style=\"color: #ff00ff; text-decoration-color: #ff00ff; font-weight: bold\">IPython.core.display.Javascript</span><span style=\"color: #000000; text-decoration-color: #000000\"> object</span><span style=\"font-weight: bold\">&gt;</span>\n",
       "</pre>\n"
      ],
      "text/plain": [
       "\u001b[1m<\u001b[0m\u001b[1;95mIPython.core.display.Javascript\u001b[0m\u001b[39m object\u001b[0m\u001b[1m>\u001b[0m\n"
      ]
     },
     "metadata": {},
     "output_type": "display_data"
    },
    {
     "data": {
      "application/javascript": [
       "\n",
       "            setTimeout(function() {\n",
       "                var nbb_cell_id = 14;\n",
       "                var nbb_unformatted_code = \"pred_test = model.predict(test)\";\n",
       "                var nbb_formatted_code = \"pred_test = model.predict(test)\";\n",
       "                var nbb_cells = Jupyter.notebook.get_cells();\n",
       "                for (var i = 0; i < nbb_cells.length; ++i) {\n",
       "                    if (nbb_cells[i].input_prompt_number == nbb_cell_id) {\n",
       "                        if (nbb_cells[i].get_text() == nbb_unformatted_code) {\n",
       "                             nbb_cells[i].set_text(nbb_formatted_code);\n",
       "                        }\n",
       "                        break;\n",
       "                    }\n",
       "                }\n",
       "            }, 500);\n",
       "            "
      ]
     },
     "metadata": {},
     "output_type": "display_data"
    }
   ],
   "source": [
    "pred_test = model.predict(test)"
   ]
  },
  {
   "cell_type": "code",
   "execution_count": 34,
   "id": "19f31d74",
   "metadata": {},
   "outputs": [
    {
     "data": {
      "image/png": "[encoded data removed]"
     },
     "metadata": {
      "needs_background": "light"
     },
     "output_type": "display_data"
    },
    {
     "data": {
      "text/html": [
       "<pre style=\"white-space:pre;overflow-x:auto;line-height:normal;font-family:Menlo,'DejaVu Sans Mono',consolas,'Courier New',monospace\"><span style=\"font-weight: bold\">&lt;</span><span style=\"color: #ff00ff; text-decoration-color: #ff00ff; font-weight: bold\">IPython.core.display.Javascript</span><span style=\"color: #000000; text-decoration-color: #000000\"> object</span><span style=\"font-weight: bold\">&gt;</span>\n",
       "</pre>\n"
      ],
      "text/plain": [
       "\u001b[1m<\u001b[0m\u001b[1;95mIPython.core.display.Javascript\u001b[0m\u001b[39m object\u001b[0m\u001b[1m>\u001b[0m\n"
      ]
     },
     "metadata": {},
     "output_type": "display_data"
    },
    {
     "data": {
      "application/javascript": [
       "\n",
       "            setTimeout(function() {\n",
       "                var nbb_cell_id = 34;\n",
       "                var nbb_unformatted_code = \"fig, ax = plt.subplots()\\nax.scatter(x=pred_test, y=y_test, s=0.3)\\nax.plot([10, 25], [10, 25], c=\\\"red\\\")\\nax.set_xlim(10, 25)\\nax.set_ylim(10, 25)\\nfig.set_size_inches(5, 5)\";\n",
       "                var nbb_formatted_code = \"fig, ax = plt.subplots()\\nax.scatter(x=pred_test, y=y_test, s=0.3)\\nax.plot([10, 25], [10, 25], c=\\\"red\\\")\\nax.set_xlim(10, 25)\\nax.set_ylim(10, 25)\\nfig.set_size_inches(5, 5)\";\n",
       "                var nbb_cells = Jupyter.notebook.get_cells();\n",
       "                for (var i = 0; i < nbb_cells.length; ++i) {\n",
       "                    if (nbb_cells[i].input_prompt_number == nbb_cell_id) {\n",
       "                        if (nbb_cells[i].get_text() == nbb_unformatted_code) {\n",
       "                             nbb_cells[i].set_text(nbb_formatted_code);\n",
       "                        }\n",
       "                        break;\n",
       "                    }\n",
       "                }\n",
       "            }, 500);\n",
       "            "
      ]
     },
     "metadata": {},
     "output_type": "display_data"
    }
   ],
   "source": [
    "fig, ax = plt.subplots()\n",
    "ax.scatter(x=pred_test, y=y_test, s=0.3)\n",
    "ax.plot([10, 25], [10, 25], c=\"red\")\n",
    "ax.set_xlim(10, 25)\n",
    "ax.set_ylim(10, 25)\n",
    "fig.set_size_inches(5, 5)"
   ]
  },
  {
   "cell_type": "code",
   "execution_count": 27,
   "id": "72847e2f",
   "metadata": {},
   "outputs": [
    {
     "data": {
      "text/html": [
       "<pre style=\"white-space:pre;overflow-x:auto;line-height:normal;font-family:Menlo,'DejaVu Sans Mono',consolas,'Courier New',monospace\"><span style=\"font-weight: bold\">(</span><span style=\"color: #008080; text-decoration-color: #008080; font-weight: bold\">-10.0</span>, <span style=\"color: #008080; text-decoration-color: #008080; font-weight: bold\">10.0</span><span style=\"font-weight: bold\">)</span>\n",
       "</pre>\n"
      ],
      "text/plain": [
       "\u001b[1m(\u001b[0m\u001b[1;36m-10.0\u001b[0m, \u001b[1;36m10.0\u001b[0m\u001b[1m)\u001b[0m\n"
      ]
     },
     "metadata": {},
     "output_type": "display_data"
    },
    {
     "data": {
      "image/png": "[encoded data removed]"
     },
     "metadata": {
      "needs_background": "light"
     },
     "output_type": "display_data"
    },
    {
     "data": {
      "text/html": [
       "<pre style=\"white-space:pre;overflow-x:auto;line-height:normal;font-family:Menlo,'DejaVu Sans Mono',consolas,'Courier New',monospace\"><span style=\"font-weight: bold\">&lt;</span><span style=\"color: #ff00ff; text-decoration-color: #ff00ff; font-weight: bold\">IPython.core.display.Javascript</span><span style=\"color: #000000; text-decoration-color: #000000\"> object</span><span style=\"font-weight: bold\">&gt;</span>\n",
       "</pre>\n"
      ],
      "text/plain": [
       "\u001b[1m<\u001b[0m\u001b[1;95mIPython.core.display.Javascript\u001b[0m\u001b[39m object\u001b[0m\u001b[1m>\u001b[0m\n"
      ]
     },
     "metadata": {},
     "output_type": "display_data"
    },
    {
     "data": {
      "application/javascript": [
       "\n",
       "            setTimeout(function() {\n",
       "                var nbb_cell_id = 27;\n",
       "                var nbb_unformatted_code = \"fig, ax = plt.subplots()\\nax.hist(pred_test - y_test, bins=80)\\nax.set_xlim(-10, 10)\";\n",
       "                var nbb_formatted_code = \"fig, ax = plt.subplots()\\nax.hist(pred_test - y_test, bins=80)\\nax.set_xlim(-10, 10)\";\n",
       "                var nbb_cells = Jupyter.notebook.get_cells();\n",
       "                for (var i = 0; i < nbb_cells.length; ++i) {\n",
       "                    if (nbb_cells[i].input_prompt_number == nbb_cell_id) {\n",
       "                        if (nbb_cells[i].get_text() == nbb_unformatted_code) {\n",
       "                             nbb_cells[i].set_text(nbb_formatted_code);\n",
       "                        }\n",
       "                        break;\n",
       "                    }\n",
       "                }\n",
       "            }, 500);\n",
       "            "
      ]
     },
     "metadata": {},
     "output_type": "display_data"
    }
   ],
   "source": [
    "fig, ax = plt.subplots()\n",
    "ax.hist(pred_test - y_test, bins=80)\n",
    "ax.set_xlim(-10, 10)"
   ]
  },
  {
   "cell_type": "code",
   "execution_count": null,
   "id": "e7114163",
   "metadata": {},
   "outputs": [],
   "source": []
  },
  {
   "cell_type": "code",
   "execution_count": 38,
   "id": "1cf2af18",
   "metadata": {},
   "outputs": [
    {
     "data": {
      "text/html": [
       "<pre style=\"white-space:pre;overflow-x:auto;line-height:normal;font-family:Menlo,'DejaVu Sans Mono',consolas,'Courier New',monospace\"><span style=\"font-weight: bold\">&lt;</span><span style=\"color: #ff00ff; text-decoration-color: #ff00ff; font-weight: bold\">IPython.core.display.Javascript</span><span style=\"color: #000000; text-decoration-color: #000000\"> object</span><span style=\"font-weight: bold\">&gt;</span>\n",
       "</pre>\n"
      ],
      "text/plain": [
       "\u001b[1m<\u001b[0m\u001b[1;95mIPython.core.display.Javascript\u001b[0m\u001b[39m object\u001b[0m\u001b[1m>\u001b[0m\n"
      ]
     },
     "metadata": {},
     "output_type": "display_data"
    },
    {
     "data": {
      "application/javascript": [
       "\n",
       "            setTimeout(function() {\n",
       "                var nbb_cell_id = 38;\n",
       "                var nbb_unformatted_code = \"explainer = shap.TreeExplainer(model)\\nshap_values = explainer.shap_values(test, y_test)\";\n",
       "                var nbb_formatted_code = \"explainer = shap.TreeExplainer(model)\\nshap_values = explainer.shap_values(test, y_test)\";\n",
       "                var nbb_cells = Jupyter.notebook.get_cells();\n",
       "                for (var i = 0; i < nbb_cells.length; ++i) {\n",
       "                    if (nbb_cells[i].input_prompt_number == nbb_cell_id) {\n",
       "                        if (nbb_cells[i].get_text() == nbb_unformatted_code) {\n",
       "                             nbb_cells[i].set_text(nbb_formatted_code);\n",
       "                        }\n",
       "                        break;\n",
       "                    }\n",
       "                }\n",
       "            }, 500);\n",
       "            "
      ]
     },
     "metadata": {},
     "output_type": "display_data"
    }
   ],
   "source": [
    "explainer = shap.TreeExplainer(model)\n",
    "shap_values = explainer.shap_values(test, y_test)"
   ]
  },
  {
   "cell_type": "code",
   "execution_count": 41,
   "id": "abf6086c",
   "metadata": {},
   "outputs": [
    {
     "data": {
      "image/png": "[encoded data removed]"
     },
     "metadata": {
      "needs_background": "light"
     },
     "output_type": "display_data"
    },
    {
     "data": {
      "text/html": [
       "<pre style=\"white-space:pre;overflow-x:auto;line-height:normal;font-family:Menlo,'DejaVu Sans Mono',consolas,'Courier New',monospace\"><span style=\"font-weight: bold\">&lt;</span><span style=\"color: #ff00ff; text-decoration-color: #ff00ff; font-weight: bold\">IPython.core.display.Javascript</span><span style=\"color: #000000; text-decoration-color: #000000\"> object</span><span style=\"font-weight: bold\">&gt;</span>\n",
       "</pre>\n"
      ],
      "text/plain": [
       "\u001b[1m<\u001b[0m\u001b[1;95mIPython.core.display.Javascript\u001b[0m\u001b[39m object\u001b[0m\u001b[1m>\u001b[0m\n"
      ]
     },
     "metadata": {},
     "output_type": "display_data"
    },
    {
     "data": {
      "application/javascript": [
       "\n",
       "            setTimeout(function() {\n",
       "                var nbb_cell_id = 41;\n",
       "                var nbb_unformatted_code = \"shap.summary_plot(shap_values, test)\";\n",
       "                var nbb_formatted_code = \"shap.summary_plot(shap_values, test)\";\n",
       "                var nbb_cells = Jupyter.notebook.get_cells();\n",
       "                for (var i = 0; i < nbb_cells.length; ++i) {\n",
       "                    if (nbb_cells[i].input_prompt_number == nbb_cell_id) {\n",
       "                        if (nbb_cells[i].get_text() == nbb_unformatted_code) {\n",
       "                             nbb_cells[i].set_text(nbb_formatted_code);\n",
       "                        }\n",
       "                        break;\n",
       "                    }\n",
       "                }\n",
       "            }, 500);\n",
       "            "
      ]
     },
     "metadata": {},
     "output_type": "display_data"
    }
   ],
   "source": [
    "shap.summary_plot(shap_values, test)"
   ]
  },
  {
   "cell_type": "markdown",
   "id": "d0165cf4",
   "metadata": {},
   "source": [
    "## Deep neural network"
   ]
  },
  {
   "cell_type": "code",
   "execution_count": 8,
   "id": "51257ec3",
   "metadata": {},
   "outputs": [
    {
     "data": {
      "text/html": [
       "<pre style=\"white-space:pre;overflow-x:auto;line-height:normal;font-family:Menlo,'DejaVu Sans Mono',consolas,'Courier New',monospace\"><span style=\"font-weight: bold\">&lt;</span><span style=\"color: #ff00ff; text-decoration-color: #ff00ff; font-weight: bold\">IPython.core.display.Javascript</span><span style=\"color: #000000; text-decoration-color: #000000\"> object</span><span style=\"font-weight: bold\">&gt;</span>\n",
       "</pre>\n"
      ],
      "text/plain": [
       "\u001b[1m<\u001b[0m\u001b[1;95mIPython.core.display.Javascript\u001b[0m\u001b[39m object\u001b[0m\u001b[1m>\u001b[0m\n"
      ]
     },
     "metadata": {},
     "output_type": "display_data"
    },
    {
     "data": {
      "application/javascript": [
       "\n",
       "            setTimeout(function() {\n",
       "                var nbb_cell_id = 8;\n",
       "                var nbb_unformatted_code = \"inputs = keras.layers.Input([len(train.columns)], dtype=tf.float32)\\nx = keras.layers.Dense(250, activation=\\\"relu\\\")(inputs)\\nx = keras.layers.Dropout(0.4)(x)\\n\\nx = keras.layers.BatchNormalization()(x)\\nx = keras.layers.Dense(100, activation=\\\"relu\\\")(x)\\nx = keras.layers.Dropout(0.1)(x)\\n\\nx = keras.layers.BatchNormalization()(x)\\nx = keras.layers.Dense(50, activation=\\\"relu\\\")(x)\\nx = keras.layers.Dropout(0.1)(x)\\n\\nx = keras.layers.BatchNormalization()(x)\\nx = keras.layers.Dense(20, activation=\\\"relu\\\")(x)\\nx = keras.layers.Dropout(0.1)(x)\\n\\nx = keras.layers.BatchNormalization()(x)\\nx = keras.layers.Dense(10, activation=\\\"relu\\\")(x)\\noutputs = keras.layers.Dense(1)(x)\\nmodel = keras.Model(inputs, outputs)\";\n",
       "                var nbb_formatted_code = \"inputs = keras.layers.Input([len(train.columns)], dtype=tf.float32)\\nx = keras.layers.Dense(250, activation=\\\"relu\\\")(inputs)\\nx = keras.layers.Dropout(0.4)(x)\\n\\nx = keras.layers.BatchNormalization()(x)\\nx = keras.layers.Dense(100, activation=\\\"relu\\\")(x)\\nx = keras.layers.Dropout(0.1)(x)\\n\\nx = keras.layers.BatchNormalization()(x)\\nx = keras.layers.Dense(50, activation=\\\"relu\\\")(x)\\nx = keras.layers.Dropout(0.1)(x)\\n\\nx = keras.layers.BatchNormalization()(x)\\nx = keras.layers.Dense(20, activation=\\\"relu\\\")(x)\\nx = keras.layers.Dropout(0.1)(x)\\n\\nx = keras.layers.BatchNormalization()(x)\\nx = keras.layers.Dense(10, activation=\\\"relu\\\")(x)\\noutputs = keras.layers.Dense(1)(x)\\nmodel = keras.Model(inputs, outputs)\";\n",
       "                var nbb_cells = Jupyter.notebook.get_cells();\n",
       "                for (var i = 0; i < nbb_cells.length; ++i) {\n",
       "                    if (nbb_cells[i].input_prompt_number == nbb_cell_id) {\n",
       "                        if (nbb_cells[i].get_text() == nbb_unformatted_code) {\n",
       "                             nbb_cells[i].set_text(nbb_formatted_code);\n",
       "                        }\n",
       "                        break;\n",
       "                    }\n",
       "                }\n",
       "            }, 500);\n",
       "            "
      ]
     },
     "metadata": {},
     "output_type": "display_data"
    }
   ],
   "source": [
    "inputs = keras.layers.Input([len(train.columns)], dtype=tf.float32)\n",
    "x = keras.layers.Dense(250, activation=\"relu\")(inputs)\n",
    "x = keras.layers.Dropout(0.4)(x)\n",
    "\n",
    "x = keras.layers.BatchNormalization()(x)\n",
    "x = keras.layers.Dense(100, activation=\"relu\")(x)\n",
    "x = keras.layers.Dropout(0.1)(x)\n",
    "\n",
    "x = keras.layers.BatchNormalization()(x)\n",
    "x = keras.layers.Dense(50, activation=\"relu\")(x)\n",
    "x = keras.layers.Dropout(0.1)(x)\n",
    "\n",
    "x = keras.layers.BatchNormalization()(x)\n",
    "x = keras.layers.Dense(20, activation=\"relu\")(x)\n",
    "x = keras.layers.Dropout(0.1)(x)\n",
    "\n",
    "x = keras.layers.BatchNormalization()(x)\n",
    "x = keras.layers.Dense(10, activation=\"relu\")(x)\n",
    "outputs = keras.layers.Dense(1)(x)\n",
    "model = keras.Model(inputs, outputs)"
   ]
  },
  {
   "cell_type": "code",
   "execution_count": 9,
   "id": "2457f2a2",
   "metadata": {},
   "outputs": [
    {
     "name": "stdout",
     "output_type": "stream",
     "text": [
      "Model: \"model_1\"\n",
      "_________________________________________________________________\n",
      " Layer (type)                Output Shape              Param #   \n",
      "=================================================================\n",
      " input_2 (InputLayer)        [(None, 427)]             0         \n",
      "                                                                 \n",
      " dense_6 (Dense)             (None, 250)               107000    \n",
      "                                                                 \n",
      " dropout_4 (Dropout)         (None, 250)               0         \n",
      "                                                                 \n",
      " batch_normalization_4 (Batc  (None, 250)              1000      \n",
      " hNormalization)                                                 \n",
      "                                                                 \n",
      " dense_7 (Dense)             (None, 100)               25100     \n",
      "                                                                 \n",
      " dropout_5 (Dropout)         (None, 100)               0         \n",
      "                                                                 \n",
      " batch_normalization_5 (Batc  (None, 100)              400       \n",
      " hNormalization)                                                 \n",
      "                                                                 \n",
      " dense_8 (Dense)             (None, 50)                5050      \n",
      "                                                                 \n",
      " dropout_6 (Dropout)         (None, 50)                0         \n",
      "                                                                 \n",
      " batch_normalization_6 (Batc  (None, 50)               200       \n",
      " hNormalization)                                                 \n",
      "                                                                 \n",
      " dense_9 (Dense)             (None, 20)                1020      \n",
      "                                                                 \n",
      " dropout_7 (Dropout)         (None, 20)                0         \n",
      "                                                                 \n",
      " batch_normalization_7 (Batc  (None, 20)               80        \n",
      " hNormalization)                                                 \n",
      "                                                                 \n",
      " dense_10 (Dense)            (None, 10)                210       \n",
      "                                                                 \n",
      " dense_11 (Dense)            (None, 1)                 11        \n",
      "                                                                 \n",
      "=================================================================\n",
      "Total params: 140,071\n",
      "Trainable params: 139,231\n",
      "Non-trainable params: 840\n",
      "_________________________________________________________________\n"
     ]
    },
    {
     "data": {
      "text/html": [
       "<pre style=\"white-space:pre;overflow-x:auto;line-height:normal;font-family:Menlo,'DejaVu Sans Mono',consolas,'Courier New',monospace\"><span style=\"font-weight: bold\">&lt;</span><span style=\"color: #ff00ff; text-decoration-color: #ff00ff; font-weight: bold\">IPython.core.display.Javascript</span><span style=\"color: #000000; text-decoration-color: #000000\"> object</span><span style=\"font-weight: bold\">&gt;</span>\n",
       "</pre>\n"
      ],
      "text/plain": [
       "\u001b[1m<\u001b[0m\u001b[1;95mIPython.core.display.Javascript\u001b[0m\u001b[39m object\u001b[0m\u001b[1m>\u001b[0m\n"
      ]
     },
     "metadata": {},
     "output_type": "display_data"
    },
    {
     "data": {
      "application/javascript": [
       "\n",
       "            setTimeout(function() {\n",
       "                var nbb_cell_id = 9;\n",
       "                var nbb_unformatted_code = \"model.summary()\";\n",
       "                var nbb_formatted_code = \"model.summary()\";\n",
       "                var nbb_cells = Jupyter.notebook.get_cells();\n",
       "                for (var i = 0; i < nbb_cells.length; ++i) {\n",
       "                    if (nbb_cells[i].input_prompt_number == nbb_cell_id) {\n",
       "                        if (nbb_cells[i].get_text() == nbb_unformatted_code) {\n",
       "                             nbb_cells[i].set_text(nbb_formatted_code);\n",
       "                        }\n",
       "                        break;\n",
       "                    }\n",
       "                }\n",
       "            }, 500);\n",
       "            "
      ]
     },
     "metadata": {},
     "output_type": "display_data"
    }
   ],
   "source": [
    "model.summary()"
   ]
  },
  {
   "cell_type": "code",
   "execution_count": 10,
   "id": "502e3d09",
   "metadata": {},
   "outputs": [
    {
     "data": {
      "text/html": [
       "<pre style=\"white-space:pre;overflow-x:auto;line-height:normal;font-family:Menlo,'DejaVu Sans Mono',consolas,'Courier New',monospace\"><span style=\"font-weight: bold\">&lt;</span><span style=\"color: #ff00ff; text-decoration-color: #ff00ff; font-weight: bold\">IPython.core.display.Javascript</span><span style=\"color: #000000; text-decoration-color: #000000\"> object</span><span style=\"font-weight: bold\">&gt;</span>\n",
       "</pre>\n"
      ],
      "text/plain": [
       "\u001b[1m<\u001b[0m\u001b[1;95mIPython.core.display.Javascript\u001b[0m\u001b[39m object\u001b[0m\u001b[1m>\u001b[0m\n"
      ]
     },
     "metadata": {},
     "output_type": "display_data"
    },
    {
     "data": {
      "application/javascript": [
       "\n",
       "            setTimeout(function() {\n",
       "                var nbb_cell_id = 10;\n",
       "                var nbb_unformatted_code = \"model.compile(\\n    optimizer=keras.optimizers.Adam(),\\n    loss=keras.losses.MeanSquaredError(),\\n    metrics=[keras.metrics.RootMeanSquaredError()],\\n)\";\n",
       "                var nbb_formatted_code = \"model.compile(\\n    optimizer=keras.optimizers.Adam(),\\n    loss=keras.losses.MeanSquaredError(),\\n    metrics=[keras.metrics.RootMeanSquaredError()],\\n)\";\n",
       "                var nbb_cells = Jupyter.notebook.get_cells();\n",
       "                for (var i = 0; i < nbb_cells.length; ++i) {\n",
       "                    if (nbb_cells[i].input_prompt_number == nbb_cell_id) {\n",
       "                        if (nbb_cells[i].get_text() == nbb_unformatted_code) {\n",
       "                             nbb_cells[i].set_text(nbb_formatted_code);\n",
       "                        }\n",
       "                        break;\n",
       "                    }\n",
       "                }\n",
       "            }, 500);\n",
       "            "
      ]
     },
     "metadata": {},
     "output_type": "display_data"
    }
   ],
   "source": [
    "model.compile(\n",
    "    optimizer=keras.optimizers.Adam(),\n",
    "    loss=keras.losses.MeanSquaredError(),\n",
    "    metrics=[keras.metrics.RootMeanSquaredError()],\n",
    ")"
   ]
  },
  {
   "cell_type": "code",
   "execution_count": 11,
   "id": "675803f0",
   "metadata": {},
   "outputs": [
    {
     "data": {
      "text/html": [
       "<pre style=\"white-space:pre;overflow-x:auto;line-height:normal;font-family:Menlo,'DejaVu Sans Mono',consolas,'Courier New',monospace\"><span style=\"font-weight: bold\">&lt;</span><span style=\"color: #ff00ff; text-decoration-color: #ff00ff; font-weight: bold\">IPython.core.display.Javascript</span><span style=\"color: #000000; text-decoration-color: #000000\"> object</span><span style=\"font-weight: bold\">&gt;</span>\n",
       "</pre>\n"
      ],
      "text/plain": [
       "\u001b[1m<\u001b[0m\u001b[1;95mIPython.core.display.Javascript\u001b[0m\u001b[39m object\u001b[0m\u001b[1m>\u001b[0m\n"
      ]
     },
     "metadata": {},
     "output_type": "display_data"
    },
    {
     "data": {
      "application/javascript": [
       "\n",
       "            setTimeout(function() {\n",
       "                var nbb_cell_id = 11;\n",
       "                var nbb_unformatted_code = \"early_stopping = keras.callbacks.EarlyStopping(\\n    monitor=\\\"val_loss\\\", patience=25, restore_best_weights=True\\n)\\nmodel_checkpoint = keras.callbacks.ModelCheckpoint(\\n    \\\"../../data/06_models/dnn\\\", save_best_only=True, monitor=\\\"val_loss\\\", verbose=False\\n)\";\n",
       "                var nbb_formatted_code = \"early_stopping = keras.callbacks.EarlyStopping(\\n    monitor=\\\"val_loss\\\", patience=25, restore_best_weights=True\\n)\\nmodel_checkpoint = keras.callbacks.ModelCheckpoint(\\n    \\\"../../data/06_models/dnn\\\", save_best_only=True, monitor=\\\"val_loss\\\", verbose=False\\n)\";\n",
       "                var nbb_cells = Jupyter.notebook.get_cells();\n",
       "                for (var i = 0; i < nbb_cells.length; ++i) {\n",
       "                    if (nbb_cells[i].input_prompt_number == nbb_cell_id) {\n",
       "                        if (nbb_cells[i].get_text() == nbb_unformatted_code) {\n",
       "                             nbb_cells[i].set_text(nbb_formatted_code);\n",
       "                        }\n",
       "                        break;\n",
       "                    }\n",
       "                }\n",
       "            }, 500);\n",
       "            "
      ]
     },
     "metadata": {},
     "output_type": "display_data"
    }
   ],
   "source": [
    "early_stopping = keras.callbacks.EarlyStopping(\n",
    "    monitor=\"val_loss\", patience=25, restore_best_weights=True\n",
    ")\n",
    "model_checkpoint = keras.callbacks.ModelCheckpoint(\n",
    "    \"../../data/06_models/dnn\", save_best_only=True, monitor=\"val_loss\", verbose=False\n",
    ")"
   ]
  },
  {
   "cell_type": "code",
   "execution_count": 12,
   "id": "99afc24d",
   "metadata": {},
   "outputs": [
    {
     "name": "stdout",
     "output_type": "stream",
     "text": [
      "Epoch 1/500\n"
     ]
    },
    {
     "name": "stderr",
     "output_type": "stream",
     "text": [
      "2022-08-14 21:33:57.906383: W tensorflow/core/platform/profile_utils/cpu_utils.cc:128] Failed to get CPU frequency: 0 Hz\n",
      "2022-08-14 21:33:58.462298: I tensorflow/core/grappler/optimizers/custom_graph_optimizer_registry.cc:113] Plugin optimizer for device_type GPU is enabled.\n"
     ]
    },
    {
     "name": "stdout",
     "output_type": "stream",
     "text": [
      "2/2 [==============================] - ETA: 0s - loss: 267.2365 - root_mean_squared_error: 16.3474"
     ]
    },
    {
     "name": "stderr",
     "output_type": "stream",
     "text": [
      "2022-08-14 21:34:03.967265: I tensorflow/core/grappler/optimizers/custom_graph_optimizer_registry.cc:113] Plugin optimizer for device_type GPU is enabled.\n"
     ]
    },
    {
     "name": "stdout",
     "output_type": "stream",
     "text": [
      "2/2 [==============================] - 8s 4s/step - loss: 267.2365 - root_mean_squared_error: 16.3474 - val_loss: 323.3218 - val_root_mean_squared_error: 17.9812\n",
      "Epoch 2/500\n",
      "2/2 [==============================] - 5s 3s/step - loss: 258.3819 - root_mean_squared_error: 16.0743 - val_loss: 286.0551 - val_root_mean_squared_error: 16.9132\n",
      "Epoch 3/500\n",
      "2/2 [==============================] - 5s 3s/step - loss: 251.8279 - root_mean_squared_error: 15.8691 - val_loss: 252.0323 - val_root_mean_squared_error: 15.8755\n",
      "Epoch 4/500\n",
      "2/2 [==============================] - 4s 3s/step - loss: 246.5735 - root_mean_squared_error: 15.7027 - val_loss: 222.5473 - val_root_mean_squared_error: 14.9180\n",
      "Epoch 5/500\n",
      "2/2 [==============================] - 4s 3s/step - loss: 241.7211 - root_mean_squared_error: 15.5474 - val_loss: 195.8120 - val_root_mean_squared_error: 13.9933\n",
      "Epoch 6/500\n",
      "2/2 [==============================] - 5s 3s/step - loss: 237.2363 - root_mean_squared_error: 15.4025 - val_loss: 174.1099 - val_root_mean_squared_error: 13.1951\n",
      "Epoch 7/500\n",
      "2/2 [==============================] - 4s 3s/step - loss: 233.0205 - root_mean_squared_error: 15.2650 - val_loss: 160.0826 - val_root_mean_squared_error: 12.6524\n",
      "Epoch 8/500\n",
      "2/2 [==============================] - 4s 3s/step - loss: 229.1825 - root_mean_squared_error: 15.1388 - val_loss: 154.1030 - val_root_mean_squared_error: 12.4138\n",
      "Epoch 9/500\n",
      "2/2 [==============================] - 4s 3s/step - loss: 225.4681 - root_mean_squared_error: 15.0156 - val_loss: 152.3027 - val_root_mean_squared_error: 12.3411\n",
      "Epoch 10/500\n",
      "2/2 [==============================] - 3s 1s/step - loss: 221.9727 - root_mean_squared_error: 14.8987 - val_loss: 153.3282 - val_root_mean_squared_error: 12.3826\n",
      "Epoch 11/500\n",
      "2/2 [==============================] - 3s 1s/step - loss: 218.7897 - root_mean_squared_error: 14.7915 - val_loss: 156.4571 - val_root_mean_squared_error: 12.5083\n",
      "Epoch 12/500\n",
      "2/2 [==============================] - 3s 1s/step - loss: 215.6333 - root_mean_squared_error: 14.6845 - val_loss: 161.0321 - val_root_mean_squared_error: 12.6898\n",
      "Epoch 13/500\n",
      "2/2 [==============================] - 3s 1s/step - loss: 212.6521 - root_mean_squared_error: 14.5826 - val_loss: 166.9111 - val_root_mean_squared_error: 12.9194\n",
      "Epoch 14/500\n",
      "2/2 [==============================] - 3s 1s/step - loss: 209.7455 - root_mean_squared_error: 14.4826 - val_loss: 172.6503 - val_root_mean_squared_error: 13.1396\n",
      "Epoch 15/500\n",
      "2/2 [==============================] - 3s 1s/step - loss: 207.0494 - root_mean_squared_error: 14.3892 - val_loss: 176.3937 - val_root_mean_squared_error: 13.2813\n",
      "Epoch 16/500\n",
      "2/2 [==============================] - 3s 1s/step - loss: 204.2985 - root_mean_squared_error: 14.2933 - val_loss: 177.9049 - val_root_mean_squared_error: 13.3381\n",
      "Epoch 17/500\n",
      "2/2 [==============================] - 3s 1s/step - loss: 201.5289 - root_mean_squared_error: 14.1961 - val_loss: 178.2747 - val_root_mean_squared_error: 13.3520\n",
      "Epoch 18/500\n",
      "2/2 [==============================] - 3s 1s/step - loss: 198.8207 - root_mean_squared_error: 14.1004 - val_loss: 175.6908 - val_root_mean_squared_error: 13.2548\n",
      "Epoch 19/500\n",
      "2/2 [==============================] - 3s 1s/step - loss: 196.1980 - root_mean_squared_error: 14.0071 - val_loss: 171.3327 - val_root_mean_squared_error: 13.0894\n",
      "Epoch 20/500\n",
      "2/2 [==============================] - 3s 1s/step - loss: 193.5313 - root_mean_squared_error: 13.9116 - val_loss: 167.4489 - val_root_mean_squared_error: 12.9402\n",
      "Epoch 21/500\n",
      "2/2 [==============================] - 3s 1s/step - loss: 190.8612 - root_mean_squared_error: 13.8153 - val_loss: 163.6128 - val_root_mean_squared_error: 12.7911\n",
      "Epoch 22/500\n",
      "2/2 [==============================] - 3s 1s/step - loss: 188.2464 - root_mean_squared_error: 13.7203 - val_loss: 160.3711 - val_root_mean_squared_error: 12.6638\n",
      "Epoch 23/500\n",
      "2/2 [==============================] - 3s 1s/step - loss: 185.6681 - root_mean_squared_error: 13.6260 - val_loss: 157.0027 - val_root_mean_squared_error: 12.5301\n",
      "Epoch 24/500\n",
      "2/2 [==============================] - 3s 1s/step - loss: 183.1004 - root_mean_squared_error: 13.5315 - val_loss: 154.0169 - val_root_mean_squared_error: 12.4104\n",
      "Epoch 25/500\n",
      "2/2 [==============================] - 4s 3s/step - loss: 180.5614 - root_mean_squared_error: 13.4373 - val_loss: 151.4998 - val_root_mean_squared_error: 12.3085\n",
      "Epoch 26/500\n",
      "2/2 [==============================] - 5s 3s/step - loss: 177.9826 - root_mean_squared_error: 13.3410 - val_loss: 149.4984 - val_root_mean_squared_error: 12.2270\n",
      "Epoch 27/500\n",
      "2/2 [==============================] - 4s 3s/step - loss: 175.4180 - root_mean_squared_error: 13.2445 - val_loss: 148.1025 - val_root_mean_squared_error: 12.1697\n",
      "Epoch 28/500\n",
      "2/2 [==============================] - 4s 3s/step - loss: 172.9589 - root_mean_squared_error: 13.1514 - val_loss: 147.2747 - val_root_mean_squared_error: 12.1357\n",
      "Epoch 29/500\n",
      "2/2 [==============================] - 4s 3s/step - loss: 170.3771 - root_mean_squared_error: 13.0529 - val_loss: 147.0070 - val_root_mean_squared_error: 12.1246\n",
      "Epoch 30/500\n",
      "2/2 [==============================] - 4s 3s/step - loss: 167.7986 - root_mean_squared_error: 12.9537 - val_loss: 146.9884 - val_root_mean_squared_error: 12.1239\n",
      "Epoch 31/500\n",
      "2/2 [==============================] - 3s 1s/step - loss: 165.1731 - root_mean_squared_error: 12.8520 - val_loss: 147.2713 - val_root_mean_squared_error: 12.1355\n",
      "Epoch 32/500\n",
      "2/2 [==============================] - 3s 1s/step - loss: 162.5831 - root_mean_squared_error: 12.7508 - val_loss: 147.6474 - val_root_mean_squared_error: 12.1510\n",
      "Epoch 33/500\n",
      "2/2 [==============================] - 3s 1s/step - loss: 159.9471 - root_mean_squared_error: 12.6470 - val_loss: 148.0755 - val_root_mean_squared_error: 12.1686\n",
      "Epoch 34/500\n",
      "2/2 [==============================] - 3s 1s/step - loss: 157.3502 - root_mean_squared_error: 12.5439 - val_loss: 147.9946 - val_root_mean_squared_error: 12.1653\n",
      "Epoch 35/500\n",
      "2/2 [==============================] - 3s 1s/step - loss: 154.7919 - root_mean_squared_error: 12.4415 - val_loss: 147.8423 - val_root_mean_squared_error: 12.1590\n",
      "Epoch 36/500\n",
      "2/2 [==============================] - 3s 1s/step - loss: 152.1185 - root_mean_squared_error: 12.3336 - val_loss: 147.6236 - val_root_mean_squared_error: 12.1500\n",
      "Epoch 37/500\n",
      "2/2 [==============================] - 3s 1s/step - loss: 149.4677 - root_mean_squared_error: 12.2257 - val_loss: 147.2118 - val_root_mean_squared_error: 12.1331\n",
      "Epoch 38/500\n",
      "2/2 [==============================] - 4s 3s/step - loss: 146.8148 - root_mean_squared_error: 12.1167 - val_loss: 146.7005 - val_root_mean_squared_error: 12.1120\n",
      "Epoch 39/500\n",
      "2/2 [==============================] - 4s 3s/step - loss: 144.1014 - root_mean_squared_error: 12.0042 - val_loss: 145.8997 - val_root_mean_squared_error: 12.0789\n",
      "Epoch 40/500\n",
      "2/2 [==============================] - 4s 3s/step - loss: 141.4074 - root_mean_squared_error: 11.8915 - val_loss: 144.9682 - val_root_mean_squared_error: 12.0403\n",
      "Epoch 41/500\n",
      "2/2 [==============================] - 4s 3s/step - loss: 138.7458 - root_mean_squared_error: 11.7790 - val_loss: 144.0369 - val_root_mean_squared_error: 12.0015\n",
      "Epoch 42/500\n",
      "2/2 [==============================] - 4s 3s/step - loss: 136.0818 - root_mean_squared_error: 11.6654 - val_loss: 142.9465 - val_root_mean_squared_error: 11.9560\n",
      "Epoch 43/500\n",
      "2/2 [==============================] - 4s 3s/step - loss: 133.4255 - root_mean_squared_error: 11.5510 - val_loss: 141.6164 - val_root_mean_squared_error: 11.9003\n",
      "Epoch 44/500\n",
      "2/2 [==============================] - 4s 3s/step - loss: 130.8002 - root_mean_squared_error: 11.4368 - val_loss: 140.0742 - val_root_mean_squared_error: 11.8353\n",
      "Epoch 45/500\n",
      "2/2 [==============================] - 4s 3s/step - loss: 128.1667 - root_mean_squared_error: 11.3211 - val_loss: 138.2411 - val_root_mean_squared_error: 11.7576\n",
      "Epoch 46/500\n",
      "2/2 [==============================] - 4s 3s/step - loss: 125.4932 - root_mean_squared_error: 11.2024 - val_loss: 136.1318 - val_root_mean_squared_error: 11.6676\n",
      "Epoch 47/500\n",
      "2/2 [==============================] - 4s 3s/step - loss: 122.9150 - root_mean_squared_error: 11.0867 - val_loss: 133.9184 - val_root_mean_squared_error: 11.5723\n"
     ]
    },
    {
     "name": "stdout",
     "output_type": "stream",
     "text": [
      "Epoch 48/500\n",
      "2/2 [==============================] - 5s 3s/step - loss: 120.3449 - root_mean_squared_error: 10.9702 - val_loss: 131.2733 - val_root_mean_squared_error: 11.4575\n",
      "Epoch 49/500\n",
      "2/2 [==============================] - 4s 3s/step - loss: 117.7706 - root_mean_squared_error: 10.8522 - val_loss: 128.5400 - val_root_mean_squared_error: 11.3375\n",
      "Epoch 50/500\n",
      "2/2 [==============================] - 5s 3s/step - loss: 115.2281 - root_mean_squared_error: 10.7344 - val_loss: 125.8958 - val_root_mean_squared_error: 11.2203\n",
      "Epoch 51/500\n",
      "2/2 [==============================] - 4s 3s/step - loss: 112.6856 - root_mean_squared_error: 10.6153 - val_loss: 123.3460 - val_root_mean_squared_error: 11.1061\n",
      "Epoch 52/500\n",
      "2/2 [==============================] - 4s 3s/step - loss: 110.2495 - root_mean_squared_error: 10.5000 - val_loss: 120.6990 - val_root_mean_squared_error: 10.9863\n",
      "Epoch 53/500\n",
      "2/2 [==============================] - 5s 3s/step - loss: 107.7953 - root_mean_squared_error: 10.3825 - val_loss: 118.0445 - val_root_mean_squared_error: 10.8648\n",
      "Epoch 54/500\n",
      "2/2 [==============================] - 4s 3s/step - loss: 105.4073 - root_mean_squared_error: 10.2668 - val_loss: 115.4773 - val_root_mean_squared_error: 10.7460\n",
      "Epoch 55/500\n",
      "2/2 [==============================] - 5s 3s/step - loss: 103.0434 - root_mean_squared_error: 10.1510 - val_loss: 112.9214 - val_root_mean_squared_error: 10.6264\n",
      "Epoch 56/500\n",
      "2/2 [==============================] - 4s 3s/step - loss: 100.6883 - root_mean_squared_error: 10.0344 - val_loss: 110.3295 - val_root_mean_squared_error: 10.5038\n",
      "Epoch 57/500\n",
      "2/2 [==============================] - 4s 3s/step - loss: 98.3344 - root_mean_squared_error: 9.9164 - val_loss: 107.7071 - val_root_mean_squared_error: 10.3782\n",
      "Epoch 58/500\n",
      "2/2 [==============================] - 4s 3s/step - loss: 95.9820 - root_mean_squared_error: 9.7970 - val_loss: 104.8488 - val_root_mean_squared_error: 10.2396\n",
      "Epoch 59/500\n",
      "2/2 [==============================] - 4s 3s/step - loss: 93.6899 - root_mean_squared_error: 9.6794 - val_loss: 102.1447 - val_root_mean_squared_error: 10.1067\n",
      "Epoch 60/500\n",
      "2/2 [==============================] - 4s 3s/step - loss: 91.4826 - root_mean_squared_error: 9.5647 - val_loss: 99.4767 - val_root_mean_squared_error: 9.9738\n",
      "Epoch 61/500\n",
      "2/2 [==============================] - 4s 3s/step - loss: 89.2355 - root_mean_squared_error: 9.4465 - val_loss: 96.8912 - val_root_mean_squared_error: 9.8433\n",
      "Epoch 62/500\n",
      "2/2 [==============================] - 5s 3s/step - loss: 87.0064 - root_mean_squared_error: 9.3277 - val_loss: 94.5418 - val_root_mean_squared_error: 9.7233\n",
      "Epoch 63/500\n",
      "2/2 [==============================] - 4s 3s/step - loss: 84.7294 - root_mean_squared_error: 9.2049 - val_loss: 91.9739 - val_root_mean_squared_error: 9.5903\n",
      "Epoch 64/500\n",
      "2/2 [==============================] - 5s 3s/step - loss: 82.5535 - root_mean_squared_error: 9.0859 - val_loss: 89.6481 - val_root_mean_squared_error: 9.4683\n",
      "Epoch 65/500\n",
      "2/2 [==============================] - 4s 3s/step - loss: 80.3539 - root_mean_squared_error: 8.9640 - val_loss: 87.3149 - val_root_mean_squared_error: 9.3442\n",
      "Epoch 66/500\n",
      "2/2 [==============================] - 4s 3s/step - loss: 78.1271 - root_mean_squared_error: 8.8390 - val_loss: 85.2112 - val_root_mean_squared_error: 9.2310\n",
      "Epoch 67/500\n",
      "2/2 [==============================] - 5s 3s/step - loss: 75.9707 - root_mean_squared_error: 8.7161 - val_loss: 82.7831 - val_root_mean_squared_error: 9.0985\n",
      "Epoch 68/500\n",
      "2/2 [==============================] - 4s 3s/step - loss: 73.8307 - root_mean_squared_error: 8.5925 - val_loss: 80.4340 - val_root_mean_squared_error: 8.9685\n",
      "Epoch 69/500\n",
      "2/2 [==============================] - 4s 3s/step - loss: 71.6964 - root_mean_squared_error: 8.4674 - val_loss: 78.0053 - val_root_mean_squared_error: 8.8321\n",
      "Epoch 70/500\n",
      "2/2 [==============================] - 4s 3s/step - loss: 69.5440 - root_mean_squared_error: 8.3393 - val_loss: 75.7238 - val_root_mean_squared_error: 8.7019\n",
      "Epoch 71/500\n",
      "2/2 [==============================] - 4s 3s/step - loss: 67.4212 - root_mean_squared_error: 8.2110 - val_loss: 73.7148 - val_root_mean_squared_error: 8.5857\n",
      "Epoch 72/500\n",
      "2/2 [==============================] - 4s 3s/step - loss: 65.2900 - root_mean_squared_error: 8.0802 - val_loss: 72.1767 - val_root_mean_squared_error: 8.4957\n",
      "Epoch 73/500\n",
      "2/2 [==============================] - 4s 3s/step - loss: 63.1613 - root_mean_squared_error: 7.9474 - val_loss: 70.9713 - val_root_mean_squared_error: 8.4244\n",
      "Epoch 74/500\n",
      "2/2 [==============================] - 4s 3s/step - loss: 61.0441 - root_mean_squared_error: 7.8131 - val_loss: 69.8107 - val_root_mean_squared_error: 8.3553\n",
      "Epoch 75/500\n",
      "2/2 [==============================] - 4s 3s/step - loss: 59.0660 - root_mean_squared_error: 7.6854 - val_loss: 67.7103 - val_root_mean_squared_error: 8.2286\n",
      "Epoch 76/500\n",
      "2/2 [==============================] - 4s 3s/step - loss: 57.1809 - root_mean_squared_error: 7.5618 - val_loss: 65.4718 - val_root_mean_squared_error: 8.0915\n",
      "Epoch 77/500\n",
      "2/2 [==============================] - 4s 3s/step - loss: 55.2840 - root_mean_squared_error: 7.4353 - val_loss: 62.8336 - val_root_mean_squared_error: 7.9268\n",
      "Epoch 78/500\n",
      "2/2 [==============================] - 3s 1s/step - loss: 53.3040 - root_mean_squared_error: 7.3010 - val_loss: 63.0166 - val_root_mean_squared_error: 7.9383\n",
      "Epoch 79/500\n",
      "2/2 [==============================] - 4s 3s/step - loss: 51.9145 - root_mean_squared_error: 7.2052 - val_loss: 57.4476 - val_root_mean_squared_error: 7.5794\n",
      "Epoch 80/500\n",
      "2/2 [==============================] - 5s 3s/step - loss: 49.8000 - root_mean_squared_error: 7.0569 - val_loss: 55.7649 - val_root_mean_squared_error: 7.4676\n",
      "Epoch 81/500\n",
      "2/2 [==============================] - 4s 3s/step - loss: 48.0483 - root_mean_squared_error: 6.9317 - val_loss: 54.3735 - val_root_mean_squared_error: 7.3738\n",
      "Epoch 82/500\n",
      "2/2 [==============================] - 4s 3s/step - loss: 46.2512 - root_mean_squared_error: 6.8008 - val_loss: 53.4227 - val_root_mean_squared_error: 7.3091\n",
      "Epoch 83/500\n",
      "2/2 [==============================] - 5s 3s/step - loss: 44.6131 - root_mean_squared_error: 6.6793 - val_loss: 51.8977 - val_root_mean_squared_error: 7.2040\n",
      "Epoch 84/500\n",
      "2/2 [==============================] - 4s 3s/step - loss: 43.0231 - root_mean_squared_error: 6.5592 - val_loss: 49.6958 - val_root_mean_squared_error: 7.0495\n",
      "Epoch 85/500\n",
      "2/2 [==============================] - 4s 3s/step - loss: 41.5283 - root_mean_squared_error: 6.4442 - val_loss: 47.2320 - val_root_mean_squared_error: 6.8726\n",
      "Epoch 86/500\n",
      "2/2 [==============================] - 4s 3s/step - loss: 39.8971 - root_mean_squared_error: 6.3164 - val_loss: 45.1738 - val_root_mean_squared_error: 6.7211\n",
      "Epoch 87/500\n",
      "2/2 [==============================] - 4s 3s/step - loss: 38.4801 - root_mean_squared_error: 6.2032 - val_loss: 43.6855 - val_root_mean_squared_error: 6.6095\n",
      "Epoch 88/500\n",
      "2/2 [==============================] - 4s 3s/step - loss: 37.1038 - root_mean_squared_error: 6.0913 - val_loss: 42.1715 - val_root_mean_squared_error: 6.4940\n",
      "Epoch 89/500\n",
      "2/2 [==============================] - 4s 3s/step - loss: 35.8177 - root_mean_squared_error: 5.9848 - val_loss: 40.7712 - val_root_mean_squared_error: 6.3852\n",
      "Epoch 90/500\n",
      "2/2 [==============================] - 4s 3s/step - loss: 34.3692 - root_mean_squared_error: 5.8625 - val_loss: 39.8652 - val_root_mean_squared_error: 6.3139\n",
      "Epoch 91/500\n",
      "2/2 [==============================] - 4s 3s/step - loss: 33.0665 - root_mean_squared_error: 5.7504 - val_loss: 39.0629 - val_root_mean_squared_error: 6.2500\n",
      "Epoch 92/500\n",
      "2/2 [==============================] - 4s 3s/step - loss: 31.8615 - root_mean_squared_error: 5.6446 - val_loss: 37.9495 - val_root_mean_squared_error: 6.1603\n",
      "Epoch 93/500\n",
      "2/2 [==============================] - 4s 3s/step - loss: 30.7405 - root_mean_squared_error: 5.5444 - val_loss: 36.8765 - val_root_mean_squared_error: 6.0726\n",
      "Epoch 94/500\n",
      "2/2 [==============================] - 4s 3s/step - loss: 29.5210 - root_mean_squared_error: 5.4333 - val_loss: 35.5896 - val_root_mean_squared_error: 5.9657\n",
      "Epoch 95/500\n",
      "2/2 [==============================] - 4s 3s/step - loss: 28.4015 - root_mean_squared_error: 5.3293 - val_loss: 34.1471 - val_root_mean_squared_error: 5.8435\n"
     ]
    },
    {
     "name": "stdout",
     "output_type": "stream",
     "text": [
      "Epoch 96/500\n",
      "2/2 [==============================] - 4s 3s/step - loss: 27.4724 - root_mean_squared_error: 5.2414 - val_loss: 32.7521 - val_root_mean_squared_error: 5.7229\n",
      "Epoch 97/500\n",
      "2/2 [==============================] - 4s 3s/step - loss: 26.2532 - root_mean_squared_error: 5.1238 - val_loss: 31.4260 - val_root_mean_squared_error: 5.6059\n",
      "Epoch 98/500\n",
      "2/2 [==============================] - 4s 3s/step - loss: 25.2002 - root_mean_squared_error: 5.0200 - val_loss: 30.4218 - val_root_mean_squared_error: 5.5156\n",
      "Epoch 99/500\n",
      "2/2 [==============================] - 4s 3s/step - loss: 24.9789 - root_mean_squared_error: 4.9979 - val_loss: 29.7317 - val_root_mean_squared_error: 5.4527\n",
      "Epoch 100/500\n",
      "2/2 [==============================] - 4s 3s/step - loss: 23.9605 - root_mean_squared_error: 4.8949 - val_loss: 28.1311 - val_root_mean_squared_error: 5.3039\n",
      "Epoch 101/500\n",
      "2/2 [==============================] - 4s 3s/step - loss: 22.8368 - root_mean_squared_error: 4.7788 - val_loss: 27.1453 - val_root_mean_squared_error: 5.2101\n",
      "Epoch 102/500\n",
      "2/2 [==============================] - 4s 3s/step - loss: 22.0179 - root_mean_squared_error: 4.6923 - val_loss: 25.7624 - val_root_mean_squared_error: 5.0757\n",
      "Epoch 103/500\n",
      "2/2 [==============================] - 4s 3s/step - loss: 21.3081 - root_mean_squared_error: 4.6161 - val_loss: 24.6153 - val_root_mean_squared_error: 4.9614\n",
      "Epoch 104/500\n",
      "2/2 [==============================] - 4s 3s/step - loss: 20.6573 - root_mean_squared_error: 4.5450 - val_loss: 23.4691 - val_root_mean_squared_error: 4.8445\n",
      "Epoch 105/500\n",
      "2/2 [==============================] - 4s 3s/step - loss: 19.8561 - root_mean_squared_error: 4.4560 - val_loss: 22.5082 - val_root_mean_squared_error: 4.7443\n",
      "Epoch 106/500\n",
      "2/2 [==============================] - 4s 3s/step - loss: 19.1521 - root_mean_squared_error: 4.3763 - val_loss: 21.6385 - val_root_mean_squared_error: 4.6517\n",
      "Epoch 107/500\n",
      "2/2 [==============================] - 4s 3s/step - loss: 18.4893 - root_mean_squared_error: 4.2999 - val_loss: 20.8214 - val_root_mean_squared_error: 4.5630\n",
      "Epoch 108/500\n",
      "2/2 [==============================] - 5s 3s/step - loss: 17.7428 - root_mean_squared_error: 4.2122 - val_loss: 19.7520 - val_root_mean_squared_error: 4.4443\n",
      "Epoch 109/500\n",
      "2/2 [==============================] - 4s 2s/step - loss: 17.1010 - root_mean_squared_error: 4.1353 - val_loss: 18.6966 - val_root_mean_squared_error: 4.3240\n",
      "Epoch 110/500\n",
      "2/2 [==============================] - 4s 3s/step - loss: 17.3710 - root_mean_squared_error: 4.1678 - val_loss: 18.3802 - val_root_mean_squared_error: 4.2872\n",
      "Epoch 111/500\n",
      "2/2 [==============================] - 4s 3s/step - loss: 16.3074 - root_mean_squared_error: 4.0382 - val_loss: 17.8499 - val_root_mean_squared_error: 4.2249\n",
      "Epoch 112/500\n",
      "2/2 [==============================] - 4s 3s/step - loss: 15.7220 - root_mean_squared_error: 3.9651 - val_loss: 17.0578 - val_root_mean_squared_error: 4.1301\n",
      "Epoch 113/500\n",
      "2/2 [==============================] - 4s 3s/step - loss: 15.4344 - root_mean_squared_error: 3.9287 - val_loss: 16.6470 - val_root_mean_squared_error: 4.0801\n",
      "Epoch 114/500\n",
      "2/2 [==============================] - 4s 3s/step - loss: 14.9481 - root_mean_squared_error: 3.8663 - val_loss: 16.0439 - val_root_mean_squared_error: 4.0055\n",
      "Epoch 115/500\n",
      "2/2 [==============================] - 4s 3s/step - loss: 14.2633 - root_mean_squared_error: 3.7767 - val_loss: 15.7515 - val_root_mean_squared_error: 3.9688\n",
      "Epoch 116/500\n",
      "2/2 [==============================] - 4s 3s/step - loss: 13.8873 - root_mean_squared_error: 3.7266 - val_loss: 14.2196 - val_root_mean_squared_error: 3.7709\n",
      "Epoch 117/500\n",
      "2/2 [==============================] - 4s 3s/step - loss: 13.4861 - root_mean_squared_error: 3.6723 - val_loss: 13.6476 - val_root_mean_squared_error: 3.6943\n",
      "Epoch 118/500\n",
      "2/2 [==============================] - 5s 3s/step - loss: 13.0390 - root_mean_squared_error: 3.6110 - val_loss: 12.9205 - val_root_mean_squared_error: 3.5945\n",
      "Epoch 119/500\n",
      "2/2 [==============================] - 4s 3s/step - loss: 12.6859 - root_mean_squared_error: 3.5617 - val_loss: 12.1126 - val_root_mean_squared_error: 3.4803\n",
      "Epoch 120/500\n",
      "2/2 [==============================] - 4s 3s/step - loss: 12.3100 - root_mean_squared_error: 3.5086 - val_loss: 11.3948 - val_root_mean_squared_error: 3.3756\n",
      "Epoch 121/500\n",
      "2/2 [==============================] - 4s 3s/step - loss: 12.1382 - root_mean_squared_error: 3.4840 - val_loss: 10.8106 - val_root_mean_squared_error: 3.2879\n",
      "Epoch 122/500\n",
      "2/2 [==============================] - 4s 3s/step - loss: 11.5763 - root_mean_squared_error: 3.4024 - val_loss: 10.2741 - val_root_mean_squared_error: 3.2053\n",
      "Epoch 123/500\n",
      "2/2 [==============================] - 4s 3s/step - loss: 11.7012 - root_mean_squared_error: 3.4207 - val_loss: 10.1086 - val_root_mean_squared_error: 3.1794\n",
      "Epoch 124/500\n",
      "2/2 [==============================] - 4s 3s/step - loss: 11.0010 - root_mean_squared_error: 3.3168 - val_loss: 9.8762 - val_root_mean_squared_error: 3.1426\n",
      "Epoch 125/500\n",
      "2/2 [==============================] - 4s 3s/step - loss: 10.7708 - root_mean_squared_error: 3.2819 - val_loss: 9.5263 - val_root_mean_squared_error: 3.0865\n",
      "Epoch 126/500\n",
      "2/2 [==============================] - 4s 3s/step - loss: 10.5527 - root_mean_squared_error: 3.2485 - val_loss: 9.3277 - val_root_mean_squared_error: 3.0541\n",
      "Epoch 127/500\n",
      "2/2 [==============================] - 4s 3s/step - loss: 10.2867 - root_mean_squared_error: 3.2073 - val_loss: 9.0264 - val_root_mean_squared_error: 3.0044\n",
      "Epoch 128/500\n",
      "2/2 [==============================] - 4s 3s/step - loss: 10.0356 - root_mean_squared_error: 3.1679 - val_loss: 8.7674 - val_root_mean_squared_error: 2.9610\n",
      "Epoch 129/500\n",
      "2/2 [==============================] - 4s 3s/step - loss: 9.7966 - root_mean_squared_error: 3.1299 - val_loss: 8.4435 - val_root_mean_squared_error: 2.9058\n",
      "Epoch 130/500\n",
      "2/2 [==============================] - 4s 3s/step - loss: 9.6088 - root_mean_squared_error: 3.0998 - val_loss: 8.3007 - val_root_mean_squared_error: 2.8811\n",
      "Epoch 131/500\n",
      "2/2 [==============================] - 4s 3s/step - loss: 9.3635 - root_mean_squared_error: 3.0600 - val_loss: 8.2106 - val_root_mean_squared_error: 2.8654\n",
      "Epoch 132/500\n",
      "2/2 [==============================] - 5s 3s/step - loss: 9.1782 - root_mean_squared_error: 3.0296 - val_loss: 8.0045 - val_root_mean_squared_error: 2.8292\n",
      "Epoch 133/500\n",
      "2/2 [==============================] - 5s 3s/step - loss: 8.9903 - root_mean_squared_error: 2.9984 - val_loss: 7.7344 - val_root_mean_squared_error: 2.7811\n",
      "Epoch 134/500\n",
      "2/2 [==============================] - 5s 3s/step - loss: 8.8984 - root_mean_squared_error: 2.9830 - val_loss: 7.6161 - val_root_mean_squared_error: 2.7597\n",
      "Epoch 135/500\n",
      "2/2 [==============================] - 5s 3s/step - loss: 8.8456 - root_mean_squared_error: 2.9741 - val_loss: 7.3515 - val_root_mean_squared_error: 2.7114\n",
      "Epoch 136/500\n",
      "2/2 [==============================] - 5s 3s/step - loss: 8.5618 - root_mean_squared_error: 2.9260 - val_loss: 7.1178 - val_root_mean_squared_error: 2.6679\n",
      "Epoch 137/500\n",
      "2/2 [==============================] - 5s 3s/step - loss: 8.4685 - root_mean_squared_error: 2.9101 - val_loss: 7.0326 - val_root_mean_squared_error: 2.6519\n",
      "Epoch 138/500\n",
      "2/2 [==============================] - 5s 3s/step - loss: 8.3193 - root_mean_squared_error: 2.8843 - val_loss: 6.9475 - val_root_mean_squared_error: 2.6358\n",
      "Epoch 139/500\n",
      "2/2 [==============================] - 4s 3s/step - loss: 8.1386 - root_mean_squared_error: 2.8528 - val_loss: 6.8941 - val_root_mean_squared_error: 2.6257\n",
      "Epoch 140/500\n",
      "2/2 [==============================] - 5s 3s/step - loss: 8.0682 - root_mean_squared_error: 2.8404 - val_loss: 6.7993 - val_root_mean_squared_error: 2.6075\n",
      "Epoch 141/500\n",
      "2/2 [==============================] - 4s 3s/step - loss: 7.9151 - root_mean_squared_error: 2.8134 - val_loss: 6.7987 - val_root_mean_squared_error: 2.6074\n",
      "Epoch 142/500\n",
      "2/2 [==============================] - 3s 1s/step - loss: 7.7488 - root_mean_squared_error: 2.7837 - val_loss: 6.8153 - val_root_mean_squared_error: 2.6106\n",
      "Epoch 143/500\n",
      "2/2 [==============================] - 3s 1s/step - loss: 7.6438 - root_mean_squared_error: 2.7647 - val_loss: 6.8007 - val_root_mean_squared_error: 2.6078\n"
     ]
    },
    {
     "name": "stdout",
     "output_type": "stream",
     "text": [
      "Epoch 144/500\n",
      "2/2 [==============================] - 3s 1s/step - loss: 7.5834 - root_mean_squared_error: 2.7538 - val_loss: 6.7997 - val_root_mean_squared_error: 2.6076\n",
      "Epoch 145/500\n",
      "2/2 [==============================] - 4s 3s/step - loss: 7.6107 - root_mean_squared_error: 2.7587 - val_loss: 6.7719 - val_root_mean_squared_error: 2.6023\n",
      "Epoch 146/500\n",
      "2/2 [==============================] - 4s 3s/step - loss: 7.6683 - root_mean_squared_error: 2.7692 - val_loss: 6.6938 - val_root_mean_squared_error: 2.5872\n",
      "Epoch 147/500\n",
      "2/2 [==============================] - 4s 3s/step - loss: 7.7670 - root_mean_squared_error: 2.7869 - val_loss: 6.6779 - val_root_mean_squared_error: 2.5842\n",
      "Epoch 148/500\n",
      "2/2 [==============================] - 3s 1s/step - loss: 7.5639 - root_mean_squared_error: 2.7503 - val_loss: 7.0494 - val_root_mean_squared_error: 2.6551\n",
      "Epoch 149/500\n",
      "2/2 [==============================] - 3s 1s/step - loss: 7.4753 - root_mean_squared_error: 2.7341 - val_loss: 7.2245 - val_root_mean_squared_error: 2.6879\n",
      "Epoch 150/500\n",
      "2/2 [==============================] - 3s 1s/step - loss: 7.2012 - root_mean_squared_error: 2.6835 - val_loss: 7.1595 - val_root_mean_squared_error: 2.6757\n",
      "Epoch 151/500\n",
      "2/2 [==============================] - 3s 1s/step - loss: 7.1885 - root_mean_squared_error: 2.6811 - val_loss: 7.2861 - val_root_mean_squared_error: 2.6993\n",
      "Epoch 152/500\n",
      "2/2 [==============================] - 3s 1s/step - loss: 7.1703 - root_mean_squared_error: 2.6777 - val_loss: 7.0359 - val_root_mean_squared_error: 2.6525\n",
      "Epoch 153/500\n",
      "2/2 [==============================] - 3s 1s/step - loss: 6.9908 - root_mean_squared_error: 2.6440 - val_loss: 6.7605 - val_root_mean_squared_error: 2.6001\n",
      "Epoch 154/500\n",
      "2/2 [==============================] - 4s 3s/step - loss: 6.8792 - root_mean_squared_error: 2.6228 - val_loss: 6.5283 - val_root_mean_squared_error: 2.5550\n",
      "Epoch 155/500\n",
      "2/2 [==============================] - 3s 1s/step - loss: 6.8435 - root_mean_squared_error: 2.6160 - val_loss: 6.6335 - val_root_mean_squared_error: 2.5756\n",
      "Epoch 156/500\n",
      "2/2 [==============================] - 3s 1s/step - loss: 6.7556 - root_mean_squared_error: 2.5992 - val_loss: 6.7965 - val_root_mean_squared_error: 2.6070\n",
      "Epoch 157/500\n",
      "2/2 [==============================] - 3s 1s/step - loss: 6.6481 - root_mean_squared_error: 2.5784 - val_loss: 6.8138 - val_root_mean_squared_error: 2.6103\n",
      "Epoch 158/500\n",
      "2/2 [==============================] - 3s 1s/step - loss: 6.5480 - root_mean_squared_error: 2.5589 - val_loss: 6.7613 - val_root_mean_squared_error: 2.6003\n",
      "Epoch 159/500\n",
      "2/2 [==============================] - 3s 1s/step - loss: 6.4752 - root_mean_squared_error: 2.5447 - val_loss: 6.6719 - val_root_mean_squared_error: 2.5830\n",
      "Epoch 160/500\n",
      "2/2 [==============================] - 3s 1s/step - loss: 6.3991 - root_mean_squared_error: 2.5296 - val_loss: 6.7451 - val_root_mean_squared_error: 2.5971\n",
      "Epoch 161/500\n",
      "2/2 [==============================] - 3s 1s/step - loss: 6.3675 - root_mean_squared_error: 2.5234 - val_loss: 6.6899 - val_root_mean_squared_error: 2.5865\n",
      "Epoch 162/500\n",
      "2/2 [==============================] - 4s 3s/step - loss: 6.3010 - root_mean_squared_error: 2.5102 - val_loss: 6.5055 - val_root_mean_squared_error: 2.5506\n",
      "Epoch 163/500\n",
      "2/2 [==============================] - 5s 3s/step - loss: 6.2515 - root_mean_squared_error: 2.5003 - val_loss: 6.4109 - val_root_mean_squared_error: 2.5320\n",
      "Epoch 164/500\n",
      "2/2 [==============================] - 4s 3s/step - loss: 6.1785 - root_mean_squared_error: 2.4857 - val_loss: 6.3728 - val_root_mean_squared_error: 2.5244\n",
      "Epoch 165/500\n",
      "2/2 [==============================] - 5s 3s/step - loss: 6.1415 - root_mean_squared_error: 2.4782 - val_loss: 6.3323 - val_root_mean_squared_error: 2.5164\n",
      "Epoch 166/500\n",
      "2/2 [==============================] - 3s 1s/step - loss: 6.1004 - root_mean_squared_error: 2.4699 - val_loss: 6.3488 - val_root_mean_squared_error: 2.5197\n",
      "Epoch 167/500\n",
      "2/2 [==============================] - 3s 1s/step - loss: 6.0509 - root_mean_squared_error: 2.4599 - val_loss: 6.3488 - val_root_mean_squared_error: 2.5197\n",
      "Epoch 168/500\n",
      "2/2 [==============================] - 3s 1s/step - loss: 5.9849 - root_mean_squared_error: 2.4464 - val_loss: 6.3520 - val_root_mean_squared_error: 2.5203\n",
      "Epoch 169/500\n",
      "2/2 [==============================] - 3s 1s/step - loss: 5.9580 - root_mean_squared_error: 2.4409 - val_loss: 6.3636 - val_root_mean_squared_error: 2.5226\n",
      "Epoch 170/500\n",
      "2/2 [==============================] - 4s 3s/step - loss: 5.8912 - root_mean_squared_error: 2.4272 - val_loss: 6.3181 - val_root_mean_squared_error: 2.5136\n",
      "Epoch 171/500\n",
      "2/2 [==============================] - 4s 3s/step - loss: 5.8757 - root_mean_squared_error: 2.4240 - val_loss: 6.3081 - val_root_mean_squared_error: 2.5116\n",
      "Epoch 172/500\n",
      "2/2 [==============================] - 3s 1s/step - loss: 5.8059 - root_mean_squared_error: 2.4095 - val_loss: 6.3096 - val_root_mean_squared_error: 2.5119\n",
      "Epoch 173/500\n",
      "2/2 [==============================] - 4s 3s/step - loss: 5.7922 - root_mean_squared_error: 2.4067 - val_loss: 6.2837 - val_root_mean_squared_error: 2.5067\n",
      "Epoch 174/500\n",
      "2/2 [==============================] - 4s 3s/step - loss: 5.7711 - root_mean_squared_error: 2.4023 - val_loss: 6.1985 - val_root_mean_squared_error: 2.4897\n",
      "Epoch 175/500\n",
      "2/2 [==============================] - 4s 3s/step - loss: 5.7312 - root_mean_squared_error: 2.3940 - val_loss: 6.1790 - val_root_mean_squared_error: 2.4858\n",
      "Epoch 176/500\n",
      "2/2 [==============================] - 4s 3s/step - loss: 5.6863 - root_mean_squared_error: 2.3846 - val_loss: 6.1421 - val_root_mean_squared_error: 2.4783\n",
      "Epoch 177/500\n",
      "2/2 [==============================] - 4s 3s/step - loss: 5.6647 - root_mean_squared_error: 2.3801 - val_loss: 6.0995 - val_root_mean_squared_error: 2.4697\n",
      "Epoch 178/500\n",
      "2/2 [==============================] - 4s 3s/step - loss: 5.6479 - root_mean_squared_error: 2.3765 - val_loss: 6.0917 - val_root_mean_squared_error: 2.4681\n",
      "Epoch 179/500\n",
      "2/2 [==============================] - 4s 3s/step - loss: 5.6557 - root_mean_squared_error: 2.3782 - val_loss: 5.9630 - val_root_mean_squared_error: 2.4419\n",
      "Epoch 180/500\n",
      "2/2 [==============================] - 4s 3s/step - loss: 5.8325 - root_mean_squared_error: 2.4151 - val_loss: 5.8742 - val_root_mean_squared_error: 2.4237\n",
      "Epoch 181/500\n",
      "2/2 [==============================] - 4s 3s/step - loss: 5.6681 - root_mean_squared_error: 2.3808 - val_loss: 5.7411 - val_root_mean_squared_error: 2.3961\n",
      "Epoch 182/500\n",
      "2/2 [==============================] - 4s 3s/step - loss: 5.6460 - root_mean_squared_error: 2.3761 - val_loss: 5.5724 - val_root_mean_squared_error: 2.3606\n",
      "Epoch 183/500\n",
      "2/2 [==============================] - 3s 1s/step - loss: 5.6826 - root_mean_squared_error: 2.3838 - val_loss: 5.6098 - val_root_mean_squared_error: 2.3685\n",
      "Epoch 184/500\n",
      "2/2 [==============================] - 4s 3s/step - loss: 5.5683 - root_mean_squared_error: 2.3597 - val_loss: 5.4281 - val_root_mean_squared_error: 2.3298\n",
      "Epoch 185/500\n",
      "2/2 [==============================] - 4s 3s/step - loss: 5.5628 - root_mean_squared_error: 2.3586 - val_loss: 5.2716 - val_root_mean_squared_error: 2.2960\n",
      "Epoch 186/500\n",
      "2/2 [==============================] - 5s 3s/step - loss: 5.5471 - root_mean_squared_error: 2.3552 - val_loss: 5.2173 - val_root_mean_squared_error: 2.2841\n",
      "Epoch 187/500\n",
      "2/2 [==============================] - 4s 3s/step - loss: 5.5174 - root_mean_squared_error: 2.3489 - val_loss: 5.1911 - val_root_mean_squared_error: 2.2784\n",
      "Epoch 188/500\n",
      "2/2 [==============================] - 4s 3s/step - loss: 5.5096 - root_mean_squared_error: 2.3473 - val_loss: 5.1584 - val_root_mean_squared_error: 2.2712\n",
      "Epoch 189/500\n",
      "2/2 [==============================] - 3s 1s/step - loss: 5.4604 - root_mean_squared_error: 2.3367 - val_loss: 5.2000 - val_root_mean_squared_error: 2.2803\n",
      "Epoch 190/500\n",
      "2/2 [==============================] - 3s 1s/step - loss: 5.4434 - root_mean_squared_error: 2.3331 - val_loss: 5.2207 - val_root_mean_squared_error: 2.2849\n",
      "Epoch 191/500\n",
      "2/2 [==============================] - 3s 1s/step - loss: 5.4392 - root_mean_squared_error: 2.3322 - val_loss: 5.1955 - val_root_mean_squared_error: 2.2794\n",
      "Epoch 192/500\n",
      "2/2 [==============================] - 4s 3s/step - loss: 5.3932 - root_mean_squared_error: 2.3223 - val_loss: 5.1282 - val_root_mean_squared_error: 2.2645\n",
      "Epoch 193/500\n",
      "2/2 [==============================] - 4s 3s/step - loss: 5.3763 - root_mean_squared_error: 2.3187 - val_loss: 5.0192 - val_root_mean_squared_error: 2.2403\n",
      "Epoch 194/500\n",
      "2/2 [==============================] - 4s 3s/step - loss: 5.3428 - root_mean_squared_error: 2.3115 - val_loss: 4.9642 - val_root_mean_squared_error: 2.2281\n",
      "Epoch 195/500\n",
      "2/2 [==============================] - 4s 3s/step - loss: 5.3359 - root_mean_squared_error: 2.3100 - val_loss: 4.9207 - val_root_mean_squared_error: 2.2183\n",
      "Epoch 196/500\n",
      "2/2 [==============================] - 4s 3s/step - loss: 5.2913 - root_mean_squared_error: 2.3003 - val_loss: 4.8496 - val_root_mean_squared_error: 2.2022\n",
      "Epoch 197/500\n",
      "2/2 [==============================] - 5s 3s/step - loss: 5.2781 - root_mean_squared_error: 2.2974 - val_loss: 4.8069 - val_root_mean_squared_error: 2.1925\n",
      "Epoch 198/500\n",
      "2/2 [==============================] - 4s 3s/step - loss: 5.2577 - root_mean_squared_error: 2.2930 - val_loss: 4.8039 - val_root_mean_squared_error: 2.1918\n",
      "Epoch 199/500\n",
      "2/2 [==============================] - 3s 1s/step - loss: 5.2147 - root_mean_squared_error: 2.2836 - val_loss: 4.8263 - val_root_mean_squared_error: 2.1969\n",
      "Epoch 200/500\n",
      "2/2 [==============================] - 3s 1s/step - loss: 5.1947 - root_mean_squared_error: 2.2792 - val_loss: 4.8503 - val_root_mean_squared_error: 2.2023\n",
      "Epoch 201/500\n",
      "2/2 [==============================] - 3s 1s/step - loss: 5.1686 - root_mean_squared_error: 2.2735 - val_loss: 4.8506 - val_root_mean_squared_error: 2.2024\n",
      "Epoch 202/500\n",
      "2/2 [==============================] - 3s 1s/step - loss: 5.1779 - root_mean_squared_error: 2.2755 - val_loss: 4.8267 - val_root_mean_squared_error: 2.1970\n",
      "Epoch 203/500\n",
      "2/2 [==============================] - 4s 3s/step - loss: 5.1524 - root_mean_squared_error: 2.2699 - val_loss: 4.7998 - val_root_mean_squared_error: 2.1908\n",
      "Epoch 204/500\n",
      "2/2 [==============================] - 4s 3s/step - loss: 5.1446 - root_mean_squared_error: 2.2682 - val_loss: 4.7445 - val_root_mean_squared_error: 2.1782\n",
      "Epoch 205/500\n",
      "2/2 [==============================] - 4s 3s/step - loss: 5.1161 - root_mean_squared_error: 2.2619 - val_loss: 4.6847 - val_root_mean_squared_error: 2.1644\n",
      "Epoch 206/500\n",
      "2/2 [==============================] - 4s 3s/step - loss: 5.1178 - root_mean_squared_error: 2.2623 - val_loss: 4.6071 - val_root_mean_squared_error: 2.1464\n",
      "Epoch 207/500\n",
      "2/2 [==============================] - 4s 3s/step - loss: 5.0844 - root_mean_squared_error: 2.2549 - val_loss: 4.5120 - val_root_mean_squared_error: 2.1241\n",
      "Epoch 208/500\n",
      "2/2 [==============================] - 5s 3s/step - loss: 5.0825 - root_mean_squared_error: 2.2544 - val_loss: 4.4331 - val_root_mean_squared_error: 2.1055\n",
      "Epoch 209/500\n",
      "2/2 [==============================] - 4s 3s/step - loss: 5.0545 - root_mean_squared_error: 2.2482 - val_loss: 4.3470 - val_root_mean_squared_error: 2.0849\n",
      "Epoch 210/500\n",
      "2/2 [==============================] - 4s 3s/step - loss: 5.0425 - root_mean_squared_error: 2.2456 - val_loss: 4.2979 - val_root_mean_squared_error: 2.0731\n",
      "Epoch 211/500\n",
      "2/2 [==============================] - 4s 3s/step - loss: 5.0322 - root_mean_squared_error: 2.2432 - val_loss: 4.2577 - val_root_mean_squared_error: 2.0634\n",
      "Epoch 212/500\n",
      "2/2 [==============================] - 4s 3s/step - loss: 5.0189 - root_mean_squared_error: 2.2403 - val_loss: 4.2405 - val_root_mean_squared_error: 2.0592\n",
      "Epoch 213/500\n",
      "2/2 [==============================] - 4s 3s/step - loss: 4.9955 - root_mean_squared_error: 2.2351 - val_loss: 4.2188 - val_root_mean_squared_error: 2.0540\n",
      "Epoch 214/500\n",
      "2/2 [==============================] - 4s 3s/step - loss: 5.0011 - root_mean_squared_error: 2.2363 - val_loss: 4.1945 - val_root_mean_squared_error: 2.0481\n",
      "Epoch 215/500\n",
      "2/2 [==============================] - 4s 3s/step - loss: 4.9807 - root_mean_squared_error: 2.2317 - val_loss: 4.1646 - val_root_mean_squared_error: 2.0407\n",
      "Epoch 216/500\n",
      "2/2 [==============================] - 4s 3s/step - loss: 4.9616 - root_mean_squared_error: 2.2275 - val_loss: 4.1398 - val_root_mean_squared_error: 2.0346\n",
      "Epoch 217/500\n",
      "2/2 [==============================] - 4s 3s/step - loss: 4.9486 - root_mean_squared_error: 2.2245 - val_loss: 4.1008 - val_root_mean_squared_error: 2.0251\n",
      "Epoch 218/500\n",
      "2/2 [==============================] - 4s 3s/step - loss: 4.9422 - root_mean_squared_error: 2.2231 - val_loss: 4.0645 - val_root_mean_squared_error: 2.0161\n",
      "Epoch 219/500\n",
      "2/2 [==============================] - 4s 3s/step - loss: 4.9327 - root_mean_squared_error: 2.2210 - val_loss: 4.0112 - val_root_mean_squared_error: 2.0028\n",
      "Epoch 220/500\n",
      "2/2 [==============================] - 4s 3s/step - loss: 4.9127 - root_mean_squared_error: 2.2165 - val_loss: 3.9570 - val_root_mean_squared_error: 1.9892\n",
      "Epoch 221/500\n",
      "2/2 [==============================] - 4s 3s/step - loss: 4.8959 - root_mean_squared_error: 2.2127 - val_loss: 3.9138 - val_root_mean_squared_error: 1.9783\n",
      "Epoch 222/500\n",
      "2/2 [==============================] - 4s 3s/step - loss: 4.8857 - root_mean_squared_error: 2.2104 - val_loss: 3.8855 - val_root_mean_squared_error: 1.9712\n",
      "Epoch 223/500\n",
      "2/2 [==============================] - 4s 3s/step - loss: 4.8910 - root_mean_squared_error: 2.2116 - val_loss: 3.8589 - val_root_mean_squared_error: 1.9644\n",
      "Epoch 224/500\n",
      "2/2 [==============================] - 4s 3s/step - loss: 4.8631 - root_mean_squared_error: 2.2052 - val_loss: 3.8343 - val_root_mean_squared_error: 1.9581\n",
      "Epoch 225/500\n",
      "2/2 [==============================] - 4s 3s/step - loss: 4.8587 - root_mean_squared_error: 2.2042 - val_loss: 3.8083 - val_root_mean_squared_error: 1.9515\n",
      "Epoch 226/500\n",
      "2/2 [==============================] - 4s 3s/step - loss: 4.8388 - root_mean_squared_error: 2.1997 - val_loss: 3.7863 - val_root_mean_squared_error: 1.9458\n",
      "Epoch 227/500\n",
      "2/2 [==============================] - 4s 3s/step - loss: 4.8302 - root_mean_squared_error: 2.1978 - val_loss: 3.7670 - val_root_mean_squared_error: 1.9409\n",
      "Epoch 228/500\n",
      "2/2 [==============================] - 4s 3s/step - loss: 4.8183 - root_mean_squared_error: 2.1951 - val_loss: 3.7475 - val_root_mean_squared_error: 1.9359\n",
      "Epoch 229/500\n",
      "2/2 [==============================] - 5s 3s/step - loss: 4.7964 - root_mean_squared_error: 2.1901 - val_loss: 3.7296 - val_root_mean_squared_error: 1.9312\n",
      "Epoch 230/500\n",
      "2/2 [==============================] - 4s 3s/step - loss: 4.7910 - root_mean_squared_error: 2.1888 - val_loss: 3.7110 - val_root_mean_squared_error: 1.9264\n",
      "Epoch 231/500\n",
      "2/2 [==============================] - 4s 3s/step - loss: 4.7901 - root_mean_squared_error: 2.1886 - val_loss: 3.6756 - val_root_mean_squared_error: 1.9172\n",
      "Epoch 232/500\n",
      "2/2 [==============================] - 4s 3s/step - loss: 4.7757 - root_mean_squared_error: 2.1853 - val_loss: 3.6415 - val_root_mean_squared_error: 1.9083\n",
      "Epoch 233/500\n",
      "2/2 [==============================] - 4s 3s/step - loss: 4.7739 - root_mean_squared_error: 2.1849 - val_loss: 3.6043 - val_root_mean_squared_error: 1.8985\n",
      "Epoch 234/500\n",
      "2/2 [==============================] - 4s 3s/step - loss: 4.7569 - root_mean_squared_error: 2.1810 - val_loss: 3.5680 - val_root_mean_squared_error: 1.8889\n",
      "Epoch 235/500\n",
      "2/2 [==============================] - 4s 3s/step - loss: 4.7465 - root_mean_squared_error: 2.1786 - val_loss: 3.5303 - val_root_mean_squared_error: 1.8789\n",
      "Epoch 236/500\n",
      "2/2 [==============================] - 4s 3s/step - loss: 4.7404 - root_mean_squared_error: 2.1773 - val_loss: 3.4974 - val_root_mean_squared_error: 1.8701\n",
      "Epoch 237/500\n",
      "2/2 [==============================] - 4s 3s/step - loss: 4.7204 - root_mean_squared_error: 2.1726 - val_loss: 3.4675 - val_root_mean_squared_error: 1.8621\n",
      "Epoch 238/500\n",
      "2/2 [==============================] - 4s 3s/step - loss: 4.7132 - root_mean_squared_error: 2.1710 - val_loss: 3.4447 - val_root_mean_squared_error: 1.8560\n",
      "Epoch 239/500\n",
      "2/2 [==============================] - 4s 3s/step - loss: 4.7139 - root_mean_squared_error: 2.1712 - val_loss: 3.4181 - val_root_mean_squared_error: 1.8488\n",
      "Epoch 240/500\n"
     ]
    },
    {
     "name": "stdout",
     "output_type": "stream",
     "text": [
      "2/2 [==============================] - 4s 3s/step - loss: 4.7055 - root_mean_squared_error: 2.1692 - val_loss: 3.4035 - val_root_mean_squared_error: 1.8449\n",
      "Epoch 241/500\n",
      "2/2 [==============================] - 4s 3s/step - loss: 4.6880 - root_mean_squared_error: 2.1652 - val_loss: 3.3861 - val_root_mean_squared_error: 1.8401\n",
      "Epoch 242/500\n",
      "2/2 [==============================] - 5s 3s/step - loss: 4.6783 - root_mean_squared_error: 2.1629 - val_loss: 3.3682 - val_root_mean_squared_error: 1.8353\n",
      "Epoch 243/500\n",
      "2/2 [==============================] - 4s 3s/step - loss: 4.6631 - root_mean_squared_error: 2.1594 - val_loss: 3.3450 - val_root_mean_squared_error: 1.8289\n",
      "Epoch 244/500\n",
      "2/2 [==============================] - 4s 3s/step - loss: 4.6426 - root_mean_squared_error: 2.1547 - val_loss: 3.3187 - val_root_mean_squared_error: 1.8217\n",
      "Epoch 245/500\n",
      "2/2 [==============================] - 4s 3s/step - loss: 4.6311 - root_mean_squared_error: 2.1520 - val_loss: 3.2912 - val_root_mean_squared_error: 1.8142\n",
      "Epoch 246/500\n",
      "2/2 [==============================] - 4s 3s/step - loss: 4.6482 - root_mean_squared_error: 2.1560 - val_loss: 3.2631 - val_root_mean_squared_error: 1.8064\n",
      "Epoch 247/500\n",
      "2/2 [==============================] - 4s 3s/step - loss: 4.6258 - root_mean_squared_error: 2.1508 - val_loss: 3.2369 - val_root_mean_squared_error: 1.7991\n",
      "Epoch 248/500\n",
      "2/2 [==============================] - 4s 3s/step - loss: 4.6227 - root_mean_squared_error: 2.1500 - val_loss: 3.2132 - val_root_mean_squared_error: 1.7925\n",
      "Epoch 249/500\n",
      "2/2 [==============================] - 4s 3s/step - loss: 4.6018 - root_mean_squared_error: 2.1452 - val_loss: 3.1937 - val_root_mean_squared_error: 1.7871\n",
      "Epoch 250/500\n",
      "2/2 [==============================] - 4s 3s/step - loss: 4.5977 - root_mean_squared_error: 2.1442 - val_loss: 3.1718 - val_root_mean_squared_error: 1.7810\n",
      "Epoch 251/500\n",
      "2/2 [==============================] - 4s 3s/step - loss: 4.5854 - root_mean_squared_error: 2.1414 - val_loss: 3.1479 - val_root_mean_squared_error: 1.7742\n",
      "Epoch 252/500\n",
      "2/2 [==============================] - 5s 3s/step - loss: 4.5696 - root_mean_squared_error: 2.1377 - val_loss: 3.1330 - val_root_mean_squared_error: 1.7700\n",
      "Epoch 253/500\n",
      "2/2 [==============================] - 5s 3s/step - loss: 4.5677 - root_mean_squared_error: 2.1372 - val_loss: 3.1054 - val_root_mean_squared_error: 1.7622\n",
      "Epoch 254/500\n",
      "2/2 [==============================] - 5s 3s/step - loss: 4.5652 - root_mean_squared_error: 2.1366 - val_loss: 3.0898 - val_root_mean_squared_error: 1.7578\n",
      "Epoch 255/500\n",
      "2/2 [==============================] - 5s 3s/step - loss: 4.5489 - root_mean_squared_error: 2.1328 - val_loss: 3.0671 - val_root_mean_squared_error: 1.7513\n",
      "Epoch 256/500\n",
      "2/2 [==============================] - 4s 3s/step - loss: 4.5412 - root_mean_squared_error: 2.1310 - val_loss: 3.0571 - val_root_mean_squared_error: 1.7485\n",
      "Epoch 257/500\n",
      "2/2 [==============================] - 4s 3s/step - loss: 4.5396 - root_mean_squared_error: 2.1306 - val_loss: 3.0288 - val_root_mean_squared_error: 1.7403\n",
      "Epoch 258/500\n",
      "2/2 [==============================] - 5s 3s/step - loss: 4.5297 - root_mean_squared_error: 2.1283 - val_loss: 3.0076 - val_root_mean_squared_error: 1.7343\n",
      "Epoch 259/500\n",
      "2/2 [==============================] - 4s 3s/step - loss: 4.5176 - root_mean_squared_error: 2.1255 - val_loss: 2.9885 - val_root_mean_squared_error: 1.7287\n",
      "Epoch 260/500\n",
      "2/2 [==============================] - 5s 3s/step - loss: 4.5153 - root_mean_squared_error: 2.1249 - val_loss: 2.9670 - val_root_mean_squared_error: 1.7225\n",
      "Epoch 261/500\n",
      "2/2 [==============================] - 4s 3s/step - loss: 4.5044 - root_mean_squared_error: 2.1224 - val_loss: 2.9553 - val_root_mean_squared_error: 1.7191\n",
      "Epoch 262/500\n",
      "2/2 [==============================] - 5s 3s/step - loss: 4.4810 - root_mean_squared_error: 2.1168 - val_loss: 2.9353 - val_root_mean_squared_error: 1.7133\n",
      "Epoch 263/500\n",
      "2/2 [==============================] - 5s 3s/step - loss: 4.4866 - root_mean_squared_error: 2.1182 - val_loss: 2.9156 - val_root_mean_squared_error: 1.7075\n",
      "Epoch 264/500\n",
      "2/2 [==============================] - 5s 3s/step - loss: 4.4797 - root_mean_squared_error: 2.1165 - val_loss: 2.8883 - val_root_mean_squared_error: 1.6995\n",
      "Epoch 265/500\n",
      "2/2 [==============================] - 5s 3s/step - loss: 4.4637 - root_mean_squared_error: 2.1127 - val_loss: 2.8637 - val_root_mean_squared_error: 1.6922\n",
      "Epoch 266/500\n",
      "2/2 [==============================] - 4s 3s/step - loss: 4.4494 - root_mean_squared_error: 2.1094 - val_loss: 2.8420 - val_root_mean_squared_error: 1.6858\n",
      "Epoch 267/500\n",
      "2/2 [==============================] - 5s 3s/step - loss: 4.4548 - root_mean_squared_error: 2.1106 - val_loss: 2.8282 - val_root_mean_squared_error: 1.6817\n",
      "Epoch 268/500\n",
      "2/2 [==============================] - 5s 3s/step - loss: 4.4471 - root_mean_squared_error: 2.1088 - val_loss: 2.8224 - val_root_mean_squared_error: 1.6800\n",
      "Epoch 269/500\n",
      "2/2 [==============================] - 4s 3s/step - loss: 4.4332 - root_mean_squared_error: 2.1055 - val_loss: 2.8151 - val_root_mean_squared_error: 1.6778\n",
      "Epoch 270/500\n",
      "2/2 [==============================] - 5s 3s/step - loss: 4.4147 - root_mean_squared_error: 2.1011 - val_loss: 2.8102 - val_root_mean_squared_error: 1.6764\n",
      "Epoch 271/500\n",
      "2/2 [==============================] - 4s 3s/step - loss: 4.4215 - root_mean_squared_error: 2.1027 - val_loss: 2.8038 - val_root_mean_squared_error: 1.6745\n",
      "Epoch 272/500\n",
      "2/2 [==============================] - 5s 3s/step - loss: 4.4012 - root_mean_squared_error: 2.0979 - val_loss: 2.7851 - val_root_mean_squared_error: 1.6689\n",
      "Epoch 273/500\n",
      "2/2 [==============================] - 5s 3s/step - loss: 4.4032 - root_mean_squared_error: 2.0984 - val_loss: 2.7657 - val_root_mean_squared_error: 1.6630\n",
      "Epoch 274/500\n",
      "2/2 [==============================] - 5s 3s/step - loss: 4.3826 - root_mean_squared_error: 2.0935 - val_loss: 2.7419 - val_root_mean_squared_error: 1.6559\n",
      "Epoch 275/500\n",
      "2/2 [==============================] - 4s 3s/step - loss: 4.3708 - root_mean_squared_error: 2.0906 - val_loss: 2.7201 - val_root_mean_squared_error: 1.6493\n",
      "Epoch 276/500\n",
      "2/2 [==============================] - 4s 3s/step - loss: 4.3809 - root_mean_squared_error: 2.0931 - val_loss: 2.7003 - val_root_mean_squared_error: 1.6433\n",
      "Epoch 277/500\n",
      "2/2 [==============================] - 4s 3s/step - loss: 4.3738 - root_mean_squared_error: 2.0914 - val_loss: 2.6903 - val_root_mean_squared_error: 1.6402\n",
      "Epoch 278/500\n",
      "2/2 [==============================] - 5s 3s/step - loss: 4.3615 - root_mean_squared_error: 2.0884 - val_loss: 2.6823 - val_root_mean_squared_error: 1.6378\n",
      "Epoch 279/500\n",
      "2/2 [==============================] - 5s 3s/step - loss: 4.3493 - root_mean_squared_error: 2.0855 - val_loss: 2.6751 - val_root_mean_squared_error: 1.6356\n",
      "Epoch 280/500\n",
      "2/2 [==============================] - 4s 3s/step - loss: 4.3352 - root_mean_squared_error: 2.0821 - val_loss: 2.6614 - val_root_mean_squared_error: 1.6314\n",
      "Epoch 281/500\n",
      "2/2 [==============================] - 5s 3s/step - loss: 4.3439 - root_mean_squared_error: 2.0842 - val_loss: 2.6525 - val_root_mean_squared_error: 1.6287\n",
      "Epoch 282/500\n",
      "2/2 [==============================] - 5s 3s/step - loss: 4.3345 - root_mean_squared_error: 2.0819 - val_loss: 2.6486 - val_root_mean_squared_error: 1.6274\n",
      "Epoch 283/500\n",
      "2/2 [==============================] - 5s 3s/step - loss: 4.3196 - root_mean_squared_error: 2.0784 - val_loss: 2.6432 - val_root_mean_squared_error: 1.6258\n",
      "Epoch 284/500\n",
      "2/2 [==============================] - 5s 3s/step - loss: 4.3190 - root_mean_squared_error: 2.0782 - val_loss: 2.6392 - val_root_mean_squared_error: 1.6246\n",
      "Epoch 285/500\n",
      "2/2 [==============================] - 4s 3s/step - loss: 4.2995 - root_mean_squared_error: 2.0735 - val_loss: 2.6340 - val_root_mean_squared_error: 1.6230\n",
      "Epoch 286/500\n",
      "2/2 [==============================] - 5s 3s/step - loss: 4.3000 - root_mean_squared_error: 2.0736 - val_loss: 2.6292 - val_root_mean_squared_error: 1.6215\n",
      "Epoch 287/500\n",
      "2/2 [==============================] - 5s 3s/step - loss: 4.2910 - root_mean_squared_error: 2.0715 - val_loss: 2.6248 - val_root_mean_squared_error: 1.6201\n",
      "Epoch 288/500\n",
      "2/2 [==============================] - 5s 3s/step - loss: 4.2625 - root_mean_squared_error: 2.0646 - val_loss: 2.6175 - val_root_mean_squared_error: 1.6179\n",
      "Epoch 289/500\n",
      "2/2 [==============================] - 4s 3s/step - loss: 4.2733 - root_mean_squared_error: 2.0672 - val_loss: 2.6091 - val_root_mean_squared_error: 1.6153\n",
      "Epoch 290/500\n",
      "2/2 [==============================] - 4s 3s/step - loss: 4.2673 - root_mean_squared_error: 2.0657 - val_loss: 2.6014 - val_root_mean_squared_error: 1.6129\n",
      "Epoch 291/500\n",
      "2/2 [==============================] - 5s 3s/step - loss: 4.2511 - root_mean_squared_error: 2.0618 - val_loss: 2.5932 - val_root_mean_squared_error: 1.6103\n",
      "Epoch 292/500\n",
      "2/2 [==============================] - 5s 3s/step - loss: 4.2492 - root_mean_squared_error: 2.0614 - val_loss: 2.5807 - val_root_mean_squared_error: 1.6065\n",
      "Epoch 293/500\n",
      "2/2 [==============================] - 4s 3s/step - loss: 4.2402 - root_mean_squared_error: 2.0592 - val_loss: 2.5676 - val_root_mean_squared_error: 1.6024\n",
      "Epoch 294/500\n",
      "2/2 [==============================] - 5s 3s/step - loss: 4.2344 - root_mean_squared_error: 2.0578 - val_loss: 2.5485 - val_root_mean_squared_error: 1.5964\n",
      "Epoch 295/500\n",
      "2/2 [==============================] - 5s 3s/step - loss: 4.2433 - root_mean_squared_error: 2.0599 - val_loss: 2.5356 - val_root_mean_squared_error: 1.5924\n",
      "Epoch 296/500\n",
      "2/2 [==============================] - 5s 3s/step - loss: 4.2217 - root_mean_squared_error: 2.0547 - val_loss: 2.5213 - val_root_mean_squared_error: 1.5879\n",
      "Epoch 297/500\n",
      "2/2 [==============================] - 5s 3s/step - loss: 4.2240 - root_mean_squared_error: 2.0552 - val_loss: 2.5063 - val_root_mean_squared_error: 1.5831\n",
      "Epoch 298/500\n",
      "2/2 [==============================] - 5s 3s/step - loss: 4.2291 - root_mean_squared_error: 2.0565 - val_loss: 2.4974 - val_root_mean_squared_error: 1.5803\n",
      "Epoch 299/500\n",
      "2/2 [==============================] - 4s 3s/step - loss: 4.2076 - root_mean_squared_error: 2.0512 - val_loss: 2.4728 - val_root_mean_squared_error: 1.5725\n",
      "Epoch 300/500\n",
      "2/2 [==============================] - 3s 2s/step - loss: 4.2008 - root_mean_squared_error: 2.0496 - val_loss: 2.4731 - val_root_mean_squared_error: 1.5726\n",
      "Epoch 301/500\n",
      "2/2 [==============================] - 4s 3s/step - loss: 4.1799 - root_mean_squared_error: 2.0445 - val_loss: 2.4561 - val_root_mean_squared_error: 1.5672\n",
      "Epoch 302/500\n",
      "2/2 [==============================] - 5s 3s/step - loss: 4.1943 - root_mean_squared_error: 2.0480 - val_loss: 2.4332 - val_root_mean_squared_error: 1.5599\n",
      "Epoch 303/500\n",
      "2/2 [==============================] - 5s 3s/step - loss: 4.1849 - root_mean_squared_error: 2.0457 - val_loss: 2.4161 - val_root_mean_squared_error: 1.5544\n",
      "Epoch 304/500\n",
      "2/2 [==============================] - 5s 3s/step - loss: 4.1665 - root_mean_squared_error: 2.0412 - val_loss: 2.3965 - val_root_mean_squared_error: 1.5481\n",
      "Epoch 305/500\n",
      "2/2 [==============================] - 4s 3s/step - loss: 4.1572 - root_mean_squared_error: 2.0389 - val_loss: 2.3865 - val_root_mean_squared_error: 1.5448\n",
      "Epoch 306/500\n",
      "2/2 [==============================] - 4s 3s/step - loss: 4.1596 - root_mean_squared_error: 2.0395 - val_loss: 2.3757 - val_root_mean_squared_error: 1.5413\n",
      "Epoch 307/500\n",
      "2/2 [==============================] - 4s 3s/step - loss: 4.1504 - root_mean_squared_error: 2.0372 - val_loss: 2.3675 - val_root_mean_squared_error: 1.5387\n",
      "Epoch 308/500\n",
      "2/2 [==============================] - 3s 2s/step - loss: 4.1437 - root_mean_squared_error: 2.0356 - val_loss: 2.3698 - val_root_mean_squared_error: 1.5394\n",
      "Epoch 309/500\n",
      "2/2 [==============================] - 4s 3s/step - loss: 4.1365 - root_mean_squared_error: 2.0338 - val_loss: 2.3533 - val_root_mean_squared_error: 1.5341\n",
      "Epoch 310/500\n",
      "2/2 [==============================] - 4s 3s/step - loss: 4.1308 - root_mean_squared_error: 2.0324 - val_loss: 2.3502 - val_root_mean_squared_error: 1.5330\n",
      "Epoch 311/500\n",
      "2/2 [==============================] - 4s 3s/step - loss: 4.1251 - root_mean_squared_error: 2.0310 - val_loss: 2.3299 - val_root_mean_squared_error: 1.5264\n",
      "Epoch 312/500\n",
      "2/2 [==============================] - 4s 3s/step - loss: 4.1231 - root_mean_squared_error: 2.0305 - val_loss: 2.3010 - val_root_mean_squared_error: 1.5169\n",
      "Epoch 313/500\n",
      "2/2 [==============================] - 5s 3s/step - loss: 4.1160 - root_mean_squared_error: 2.0288 - val_loss: 2.2992 - val_root_mean_squared_error: 1.5163\n",
      "Epoch 314/500\n",
      "2/2 [==============================] - 5s 3s/step - loss: 4.1031 - root_mean_squared_error: 2.0256 - val_loss: 2.2639 - val_root_mean_squared_error: 1.5046\n",
      "Epoch 315/500\n",
      "2/2 [==============================] - 3s 1s/step - loss: 4.1071 - root_mean_squared_error: 2.0266 - val_loss: 2.2650 - val_root_mean_squared_error: 1.5050\n",
      "Epoch 316/500\n",
      "2/2 [==============================] - 4s 3s/step - loss: 4.1003 - root_mean_squared_error: 2.0249 - val_loss: 2.2533 - val_root_mean_squared_error: 1.5011\n",
      "Epoch 317/500\n",
      "2/2 [==============================] - 5s 3s/step - loss: 4.0989 - root_mean_squared_error: 2.0246 - val_loss: 2.2295 - val_root_mean_squared_error: 1.4932\n",
      "Epoch 318/500\n",
      "2/2 [==============================] - 3s 1s/step - loss: 4.0759 - root_mean_squared_error: 2.0189 - val_loss: 2.2470 - val_root_mean_squared_error: 1.4990\n",
      "Epoch 319/500\n",
      "2/2 [==============================] - 3s 1s/step - loss: 4.0833 - root_mean_squared_error: 2.0207 - val_loss: 2.2431 - val_root_mean_squared_error: 1.4977\n",
      "Epoch 320/500\n",
      "2/2 [==============================] - 3s 1s/step - loss: 4.0793 - root_mean_squared_error: 2.0197 - val_loss: 2.2306 - val_root_mean_squared_error: 1.4935\n",
      "Epoch 321/500\n",
      "2/2 [==============================] - 4s 3s/step - loss: 4.0744 - root_mean_squared_error: 2.0185 - val_loss: 2.2159 - val_root_mean_squared_error: 1.4886\n",
      "Epoch 322/500\n",
      "2/2 [==============================] - 5s 3s/step - loss: 4.0696 - root_mean_squared_error: 2.0173 - val_loss: 2.1985 - val_root_mean_squared_error: 1.4827\n",
      "Epoch 323/500\n",
      "2/2 [==============================] - 4s 3s/step - loss: 4.0595 - root_mean_squared_error: 2.0148 - val_loss: 2.1799 - val_root_mean_squared_error: 1.4765\n",
      "Epoch 324/500\n",
      "2/2 [==============================] - 5s 3s/step - loss: 4.0547 - root_mean_squared_error: 2.0136 - val_loss: 2.1699 - val_root_mean_squared_error: 1.4731\n",
      "Epoch 325/500\n",
      "2/2 [==============================] - 5s 3s/step - loss: 4.0336 - root_mean_squared_error: 2.0084 - val_loss: 2.1596 - val_root_mean_squared_error: 1.4696\n",
      "Epoch 326/500\n",
      "2/2 [==============================] - 5s 3s/step - loss: 4.0251 - root_mean_squared_error: 2.0063 - val_loss: 2.1549 - val_root_mean_squared_error: 1.4680\n",
      "Epoch 327/500\n",
      "2/2 [==============================] - 4s 3s/step - loss: 4.0335 - root_mean_squared_error: 2.0084 - val_loss: 2.1541 - val_root_mean_squared_error: 1.4677\n",
      "Epoch 328/500\n",
      "2/2 [==============================] - 4s 3s/step - loss: 4.0246 - root_mean_squared_error: 2.0061 - val_loss: 2.1468 - val_root_mean_squared_error: 1.4652\n",
      "Epoch 329/500\n",
      "2/2 [==============================] - 5s 3s/step - loss: 4.0287 - root_mean_squared_error: 2.0072 - val_loss: 2.1407 - val_root_mean_squared_error: 1.4631\n",
      "Epoch 330/500\n",
      "2/2 [==============================] - 4s 3s/step - loss: 4.0172 - root_mean_squared_error: 2.0043 - val_loss: 2.1348 - val_root_mean_squared_error: 1.4611\n",
      "Epoch 331/500\n",
      "2/2 [==============================] - 4s 3s/step - loss: 4.0053 - root_mean_squared_error: 2.0013 - val_loss: 2.1263 - val_root_mean_squared_error: 1.4582\n",
      "Epoch 332/500\n",
      "2/2 [==============================] - 4s 3s/step - loss: 4.0151 - root_mean_squared_error: 2.0038 - val_loss: 2.1179 - val_root_mean_squared_error: 1.4553\n",
      "Epoch 333/500\n",
      "2/2 [==============================] - 5s 3s/step - loss: 4.0081 - root_mean_squared_error: 2.0020 - val_loss: 2.1105 - val_root_mean_squared_error: 1.4527\n",
      "Epoch 334/500\n",
      "2/2 [==============================] - 4s 3s/step - loss: 3.9955 - root_mean_squared_error: 1.9989 - val_loss: 2.0911 - val_root_mean_squared_error: 1.4461\n",
      "Epoch 335/500\n",
      "2/2 [==============================] - 3s 1s/step - loss: 3.9935 - root_mean_squared_error: 1.9984 - val_loss: 2.0950 - val_root_mean_squared_error: 1.4474\n",
      "Epoch 336/500\n"
     ]
    },
    {
     "name": "stdout",
     "output_type": "stream",
     "text": [
      "2/2 [==============================] - 4s 3s/step - loss: 3.9922 - root_mean_squared_error: 1.9980 - val_loss: 2.0699 - val_root_mean_squared_error: 1.4387\n",
      "Epoch 337/500\n",
      "2/2 [==============================] - 4s 3s/step - loss: 3.9767 - root_mean_squared_error: 1.9942 - val_loss: 2.0673 - val_root_mean_squared_error: 1.4378\n",
      "Epoch 338/500\n",
      "2/2 [==============================] - 5s 3s/step - loss: 3.9756 - root_mean_squared_error: 1.9939 - val_loss: 2.0649 - val_root_mean_squared_error: 1.4370\n",
      "Epoch 339/500\n",
      "2/2 [==============================] - 4s 3s/step - loss: 3.9726 - root_mean_squared_error: 1.9931 - val_loss: 2.0447 - val_root_mean_squared_error: 1.4299\n",
      "Epoch 340/500\n",
      "2/2 [==============================] - 4s 3s/step - loss: 3.9570 - root_mean_squared_error: 1.9892 - val_loss: 1.9919 - val_root_mean_squared_error: 1.4114\n",
      "Epoch 341/500\n",
      "2/2 [==============================] - 3s 1s/step - loss: 3.9594 - root_mean_squared_error: 1.9898 - val_loss: 2.0145 - val_root_mean_squared_error: 1.4193\n",
      "Epoch 342/500\n",
      "2/2 [==============================] - 5s 3s/step - loss: 3.9599 - root_mean_squared_error: 1.9899 - val_loss: 1.9641 - val_root_mean_squared_error: 1.4015\n",
      "Epoch 343/500\n",
      "2/2 [==============================] - 4s 3s/step - loss: 3.9592 - root_mean_squared_error: 1.9898 - val_loss: 1.9522 - val_root_mean_squared_error: 1.3972\n",
      "Epoch 344/500\n",
      "2/2 [==============================] - 3s 1s/step - loss: 3.9445 - root_mean_squared_error: 1.9861 - val_loss: 1.9618 - val_root_mean_squared_error: 1.4006\n",
      "Epoch 345/500\n",
      "2/2 [==============================] - 3s 1s/step - loss: 3.9538 - root_mean_squared_error: 1.9884 - val_loss: 1.9525 - val_root_mean_squared_error: 1.3973\n",
      "Epoch 346/500\n",
      "2/2 [==============================] - 3s 1s/step - loss: 3.9372 - root_mean_squared_error: 1.9842 - val_loss: 1.9639 - val_root_mean_squared_error: 1.4014\n",
      "Epoch 347/500\n",
      "2/2 [==============================] - 3s 1s/step - loss: 3.9332 - root_mean_squared_error: 1.9832 - val_loss: 1.9873 - val_root_mean_squared_error: 1.4097\n",
      "Epoch 348/500\n",
      "2/2 [==============================] - 3s 1s/step - loss: 3.9379 - root_mean_squared_error: 1.9844 - val_loss: 1.9807 - val_root_mean_squared_error: 1.4074\n",
      "Epoch 349/500\n",
      "2/2 [==============================] - 3s 1s/step - loss: 3.9206 - root_mean_squared_error: 1.9800 - val_loss: 1.9865 - val_root_mean_squared_error: 1.4094\n",
      "Epoch 350/500\n",
      "2/2 [==============================] - 3s 1s/step - loss: 3.9161 - root_mean_squared_error: 1.9789 - val_loss: 1.9669 - val_root_mean_squared_error: 1.4025\n",
      "Epoch 351/500\n",
      "2/2 [==============================] - 3s 1s/step - loss: 3.9015 - root_mean_squared_error: 1.9752 - val_loss: 1.9585 - val_root_mean_squared_error: 1.3994\n",
      "Epoch 352/500\n",
      "2/2 [==============================] - 4s 3s/step - loss: 3.9129 - root_mean_squared_error: 1.9781 - val_loss: 1.9422 - val_root_mean_squared_error: 1.3936\n",
      "Epoch 353/500\n",
      "2/2 [==============================] - 5s 3s/step - loss: 3.9013 - root_mean_squared_error: 1.9752 - val_loss: 1.9337 - val_root_mean_squared_error: 1.3906\n",
      "Epoch 354/500\n",
      "2/2 [==============================] - 4s 3s/step - loss: 3.8995 - root_mean_squared_error: 1.9747 - val_loss: 1.9249 - val_root_mean_squared_error: 1.3874\n",
      "Epoch 355/500\n",
      "2/2 [==============================] - 3s 1s/step - loss: 3.8946 - root_mean_squared_error: 1.9735 - val_loss: 1.9341 - val_root_mean_squared_error: 1.3907\n",
      "Epoch 356/500\n",
      "2/2 [==============================] - 3s 1s/step - loss: 3.8863 - root_mean_squared_error: 1.9714 - val_loss: 1.9356 - val_root_mean_squared_error: 1.3913\n",
      "Epoch 357/500\n",
      "2/2 [==============================] - 3s 1s/step - loss: 3.8828 - root_mean_squared_error: 1.9705 - val_loss: 1.9256 - val_root_mean_squared_error: 1.3877\n",
      "Epoch 358/500\n",
      "2/2 [==============================] - 3s 1s/step - loss: 3.8795 - root_mean_squared_error: 1.9696 - val_loss: 1.9382 - val_root_mean_squared_error: 1.3922\n",
      "Epoch 359/500\n",
      "2/2 [==============================] - 4s 3s/step - loss: 3.8649 - root_mean_squared_error: 1.9659 - val_loss: 1.9214 - val_root_mean_squared_error: 1.3861\n",
      "Epoch 360/500\n",
      "2/2 [==============================] - 3s 1s/step - loss: 3.8629 - root_mean_squared_error: 1.9654 - val_loss: 1.9221 - val_root_mean_squared_error: 1.3864\n",
      "Epoch 361/500\n",
      "2/2 [==============================] - 3s 1s/step - loss: 3.8517 - root_mean_squared_error: 1.9626 - val_loss: 1.9261 - val_root_mean_squared_error: 1.3878\n",
      "Epoch 362/500\n",
      "2/2 [==============================] - 5s 3s/step - loss: 3.8580 - root_mean_squared_error: 1.9642 - val_loss: 1.9130 - val_root_mean_squared_error: 1.3831\n",
      "Epoch 363/500\n",
      "2/2 [==============================] - 5s 3s/step - loss: 3.8517 - root_mean_squared_error: 1.9626 - val_loss: 1.8960 - val_root_mean_squared_error: 1.3770\n",
      "Epoch 364/500\n",
      "2/2 [==============================] - 3s 1s/step - loss: 3.8438 - root_mean_squared_error: 1.9606 - val_loss: 1.9117 - val_root_mean_squared_error: 1.3827\n",
      "Epoch 365/500\n",
      "2/2 [==============================] - 3s 1s/step - loss: 3.8377 - root_mean_squared_error: 1.9590 - val_loss: 1.9029 - val_root_mean_squared_error: 1.3795\n",
      "Epoch 366/500\n",
      "2/2 [==============================] - 5s 3s/step - loss: 3.8298 - root_mean_squared_error: 1.9570 - val_loss: 1.8791 - val_root_mean_squared_error: 1.3708\n",
      "Epoch 367/500\n",
      "2/2 [==============================] - 3s 1s/step - loss: 3.8316 - root_mean_squared_error: 1.9574 - val_loss: 1.8829 - val_root_mean_squared_error: 1.3722\n",
      "Epoch 368/500\n",
      "2/2 [==============================] - 3s 1s/step - loss: 3.8187 - root_mean_squared_error: 1.9541 - val_loss: 1.8996 - val_root_mean_squared_error: 1.3783\n",
      "Epoch 369/500\n",
      "2/2 [==============================] - 3s 1s/step - loss: 3.8183 - root_mean_squared_error: 1.9541 - val_loss: 1.9015 - val_root_mean_squared_error: 1.3789\n",
      "Epoch 370/500\n",
      "2/2 [==============================] - 3s 1s/step - loss: 3.8306 - root_mean_squared_error: 1.9572 - val_loss: 1.8958 - val_root_mean_squared_error: 1.3769\n",
      "Epoch 371/500\n",
      "2/2 [==============================] - 4s 3s/step - loss: 3.8082 - root_mean_squared_error: 1.9514 - val_loss: 1.8757 - val_root_mean_squared_error: 1.3695\n",
      "Epoch 372/500\n",
      "2/2 [==============================] - 3s 1s/step - loss: 3.8107 - root_mean_squared_error: 1.9521 - val_loss: 1.8795 - val_root_mean_squared_error: 1.3710\n",
      "Epoch 373/500\n",
      "2/2 [==============================] - 3s 1s/step - loss: 3.7941 - root_mean_squared_error: 1.9478 - val_loss: 1.9002 - val_root_mean_squared_error: 1.3785\n",
      "Epoch 374/500\n",
      "2/2 [==============================] - 3s 1s/step - loss: 3.8015 - root_mean_squared_error: 1.9498 - val_loss: 1.8890 - val_root_mean_squared_error: 1.3744\n",
      "Epoch 375/500\n",
      "2/2 [==============================] - 3s 1s/step - loss: 3.7891 - root_mean_squared_error: 1.9466 - val_loss: 1.8792 - val_root_mean_squared_error: 1.3708\n",
      "Epoch 376/500\n",
      "2/2 [==============================] - 3s 1s/step - loss: 3.7931 - root_mean_squared_error: 1.9476 - val_loss: 1.8848 - val_root_mean_squared_error: 1.3729\n",
      "Epoch 377/500\n",
      "2/2 [==============================] - 4s 3s/step - loss: 3.7856 - root_mean_squared_error: 1.9457 - val_loss: 1.8674 - val_root_mean_squared_error: 1.3665\n",
      "Epoch 378/500\n",
      "2/2 [==============================] - 5s 3s/step - loss: 3.7708 - root_mean_squared_error: 1.9418 - val_loss: 1.8621 - val_root_mean_squared_error: 1.3646\n",
      "Epoch 379/500\n",
      "2/2 [==============================] - 3s 1s/step - loss: 3.7645 - root_mean_squared_error: 1.9402 - val_loss: 1.8720 - val_root_mean_squared_error: 1.3682\n",
      "Epoch 380/500\n",
      "2/2 [==============================] - 3s 1s/step - loss: 3.7645 - root_mean_squared_error: 1.9402 - val_loss: 1.8727 - val_root_mean_squared_error: 1.3685\n",
      "Epoch 381/500\n",
      "2/2 [==============================] - 4s 3s/step - loss: 3.7533 - root_mean_squared_error: 1.9373 - val_loss: 1.8605 - val_root_mean_squared_error: 1.3640\n",
      "Epoch 382/500\n",
      "2/2 [==============================] - 3s 1s/step - loss: 3.7572 - root_mean_squared_error: 1.9384 - val_loss: 1.8671 - val_root_mean_squared_error: 1.3664\n",
      "Epoch 383/500\n",
      "2/2 [==============================] - 5s 3s/step - loss: 3.7557 - root_mean_squared_error: 1.9380 - val_loss: 1.8596 - val_root_mean_squared_error: 1.3637\n",
      "Epoch 384/500\n",
      "2/2 [==============================] - 4s 3s/step - loss: 3.7513 - root_mean_squared_error: 1.9368 - val_loss: 1.8582 - val_root_mean_squared_error: 1.3632\n",
      "Epoch 385/500\n",
      "2/2 [==============================] - 3s 1s/step - loss: 3.7501 - root_mean_squared_error: 1.9365 - val_loss: 1.8700 - val_root_mean_squared_error: 1.3675\n",
      "Epoch 386/500\n",
      "2/2 [==============================] - 4s 3s/step - loss: 3.7382 - root_mean_squared_error: 1.9334 - val_loss: 1.8577 - val_root_mean_squared_error: 1.3630\n",
      "Epoch 387/500\n",
      "2/2 [==============================] - 3s 1s/step - loss: 3.7270 - root_mean_squared_error: 1.9305 - val_loss: 1.8598 - val_root_mean_squared_error: 1.3637\n",
      "Epoch 388/500\n",
      "2/2 [==============================] - 5s 3s/step - loss: 3.7289 - root_mean_squared_error: 1.9310 - val_loss: 1.8491 - val_root_mean_squared_error: 1.3598\n",
      "Epoch 389/500\n",
      "2/2 [==============================] - 3s 1s/step - loss: 3.7255 - root_mean_squared_error: 1.9302 - val_loss: 1.8590 - val_root_mean_squared_error: 1.3634\n",
      "Epoch 390/500\n",
      "2/2 [==============================] - 4s 3s/step - loss: 3.7165 - root_mean_squared_error: 1.9278 - val_loss: 1.8441 - val_root_mean_squared_error: 1.3580\n",
      "Epoch 391/500\n",
      "2/2 [==============================] - 3s 1s/step - loss: 3.7211 - root_mean_squared_error: 1.9290 - val_loss: 1.8459 - val_root_mean_squared_error: 1.3586\n",
      "Epoch 392/500\n",
      "2/2 [==============================] - 4s 3s/step - loss: 3.7173 - root_mean_squared_error: 1.9280 - val_loss: 1.8429 - val_root_mean_squared_error: 1.3575\n",
      "Epoch 393/500\n",
      "2/2 [==============================] - 3s 1s/step - loss: 3.7160 - root_mean_squared_error: 1.9277 - val_loss: 1.8544 - val_root_mean_squared_error: 1.3617\n",
      "Epoch 394/500\n",
      "2/2 [==============================] - 4s 3s/step - loss: 3.7152 - root_mean_squared_error: 1.9275 - val_loss: 1.8425 - val_root_mean_squared_error: 1.3574\n",
      "Epoch 395/500\n",
      "2/2 [==============================] - 4s 3s/step - loss: 3.7027 - root_mean_squared_error: 1.9242 - val_loss: 1.8340 - val_root_mean_squared_error: 1.3543\n",
      "Epoch 396/500\n",
      "2/2 [==============================] - 5s 3s/step - loss: 3.6922 - root_mean_squared_error: 1.9215 - val_loss: 1.8273 - val_root_mean_squared_error: 1.3518\n",
      "Epoch 397/500\n",
      "2/2 [==============================] - 4s 3s/step - loss: 3.6921 - root_mean_squared_error: 1.9215 - val_loss: 1.8236 - val_root_mean_squared_error: 1.3504\n",
      "Epoch 398/500\n",
      "2/2 [==============================] - 3s 1s/step - loss: 3.6813 - root_mean_squared_error: 1.9187 - val_loss: 1.8426 - val_root_mean_squared_error: 1.3574\n",
      "Epoch 399/500\n",
      "2/2 [==============================] - 3s 1s/step - loss: 3.6875 - root_mean_squared_error: 1.9203 - val_loss: 1.8337 - val_root_mean_squared_error: 1.3541\n",
      "Epoch 400/500\n",
      "2/2 [==============================] - 3s 1s/step - loss: 3.6760 - root_mean_squared_error: 1.9173 - val_loss: 1.8279 - val_root_mean_squared_error: 1.3520\n",
      "Epoch 401/500\n",
      "2/2 [==============================] - 3s 1s/step - loss: 3.6776 - root_mean_squared_error: 1.9177 - val_loss: 1.8407 - val_root_mean_squared_error: 1.3567\n",
      "Epoch 402/500\n",
      "2/2 [==============================] - 3s 1s/step - loss: 3.6717 - root_mean_squared_error: 1.9162 - val_loss: 1.8390 - val_root_mean_squared_error: 1.3561\n",
      "Epoch 403/500\n",
      "2/2 [==============================] - 4s 3s/step - loss: 3.6605 - root_mean_squared_error: 1.9132 - val_loss: 1.8234 - val_root_mean_squared_error: 1.3503\n",
      "Epoch 404/500\n",
      "2/2 [==============================] - 3s 1s/step - loss: 3.6605 - root_mean_squared_error: 1.9132 - val_loss: 1.8325 - val_root_mean_squared_error: 1.3537\n",
      "Epoch 405/500\n",
      "2/2 [==============================] - 3s 1s/step - loss: 3.6548 - root_mean_squared_error: 1.9117 - val_loss: 1.8311 - val_root_mean_squared_error: 1.3532\n",
      "Epoch 406/500\n",
      "2/2 [==============================] - 3s 1s/step - loss: 3.6445 - root_mean_squared_error: 1.9091 - val_loss: 1.8325 - val_root_mean_squared_error: 1.3537\n",
      "Epoch 407/500\n",
      "2/2 [==============================] - 3s 1s/step - loss: 3.6417 - root_mean_squared_error: 1.9083 - val_loss: 1.8358 - val_root_mean_squared_error: 1.3549\n",
      "Epoch 408/500\n",
      "2/2 [==============================] - 4s 3s/step - loss: 3.6444 - root_mean_squared_error: 1.9090 - val_loss: 1.8217 - val_root_mean_squared_error: 1.3497\n",
      "Epoch 409/500\n",
      "2/2 [==============================] - 3s 1s/step - loss: 3.6324 - root_mean_squared_error: 1.9059 - val_loss: 1.8223 - val_root_mean_squared_error: 1.3499\n",
      "Epoch 410/500\n",
      "2/2 [==============================] - 3s 1s/step - loss: 3.6372 - root_mean_squared_error: 1.9072 - val_loss: 1.8344 - val_root_mean_squared_error: 1.3544\n",
      "Epoch 411/500\n",
      "2/2 [==============================] - 3s 1s/step - loss: 3.6155 - root_mean_squared_error: 1.9014 - val_loss: 1.8510 - val_root_mean_squared_error: 1.3605\n",
      "Epoch 412/500\n",
      "2/2 [==============================] - 3s 1s/step - loss: 3.6285 - root_mean_squared_error: 1.9049 - val_loss: 1.8232 - val_root_mean_squared_error: 1.3503\n",
      "Epoch 413/500\n",
      "2/2 [==============================] - 4s 3s/step - loss: 3.6183 - root_mean_squared_error: 1.9022 - val_loss: 1.8030 - val_root_mean_squared_error: 1.3427\n",
      "Epoch 414/500\n",
      "2/2 [==============================] - 3s 1s/step - loss: 3.6058 - root_mean_squared_error: 1.8989 - val_loss: 1.8091 - val_root_mean_squared_error: 1.3450\n",
      "Epoch 415/500\n",
      "2/2 [==============================] - 4s 3s/step - loss: 3.6166 - root_mean_squared_error: 1.9017 - val_loss: 1.7949 - val_root_mean_squared_error: 1.3397\n",
      "Epoch 416/500\n",
      "2/2 [==============================] - 3s 1s/step - loss: 3.6060 - root_mean_squared_error: 1.8990 - val_loss: 1.8019 - val_root_mean_squared_error: 1.3423\n",
      "Epoch 417/500\n",
      "2/2 [==============================] - 3s 1s/step - loss: 3.6067 - root_mean_squared_error: 1.8991 - val_loss: 1.8226 - val_root_mean_squared_error: 1.3500\n",
      "Epoch 418/500\n",
      "2/2 [==============================] - 3s 1s/step - loss: 3.6042 - root_mean_squared_error: 1.8985 - val_loss: 1.8111 - val_root_mean_squared_error: 1.3458\n",
      "Epoch 419/500\n",
      "2/2 [==============================] - 3s 1s/step - loss: 3.5837 - root_mean_squared_error: 1.8931 - val_loss: 1.8204 - val_root_mean_squared_error: 1.3492\n",
      "Epoch 420/500\n",
      "2/2 [==============================] - 3s 1s/step - loss: 3.5785 - root_mean_squared_error: 1.8917 - val_loss: 1.8283 - val_root_mean_squared_error: 1.3521\n",
      "Epoch 421/500\n",
      "2/2 [==============================] - 3s 1s/step - loss: 3.6012 - root_mean_squared_error: 1.8977 - val_loss: 1.8250 - val_root_mean_squared_error: 1.3509\n",
      "Epoch 422/500\n",
      "2/2 [==============================] - 3s 1s/step - loss: 3.6183 - root_mean_squared_error: 1.9022 - val_loss: 1.8043 - val_root_mean_squared_error: 1.3432\n",
      "Epoch 423/500\n",
      "2/2 [==============================] - 4s 3s/step - loss: 3.5861 - root_mean_squared_error: 1.8937 - val_loss: 1.7820 - val_root_mean_squared_error: 1.3349\n",
      "Epoch 424/500\n",
      "2/2 [==============================] - 5s 3s/step - loss: 3.5746 - root_mean_squared_error: 1.8907 - val_loss: 1.7590 - val_root_mean_squared_error: 1.3263\n",
      "Epoch 425/500\n",
      "2/2 [==============================] - 3s 1s/step - loss: 3.5843 - root_mean_squared_error: 1.8932 - val_loss: 1.7648 - val_root_mean_squared_error: 1.3284\n",
      "Epoch 426/500\n",
      "2/2 [==============================] - 4s 3s/step - loss: 3.6230 - root_mean_squared_error: 1.9034 - val_loss: 1.7465 - val_root_mean_squared_error: 1.3215\n",
      "Epoch 427/500\n",
      "2/2 [==============================] - 5s 3s/step - loss: 3.5731 - root_mean_squared_error: 1.8903 - val_loss: 1.7436 - val_root_mean_squared_error: 1.3204\n",
      "Epoch 428/500\n",
      "2/2 [==============================] - 4s 3s/step - loss: 3.5636 - root_mean_squared_error: 1.8878 - val_loss: 1.7426 - val_root_mean_squared_error: 1.3201\n",
      "Epoch 429/500\n",
      "2/2 [==============================] - 3s 1s/step - loss: 3.5694 - root_mean_squared_error: 1.8893 - val_loss: 1.7499 - val_root_mean_squared_error: 1.3228\n",
      "Epoch 430/500\n",
      "2/2 [==============================] - 3s 1s/step - loss: 3.5742 - root_mean_squared_error: 1.8906 - val_loss: 1.7662 - val_root_mean_squared_error: 1.3290\n",
      "Epoch 431/500\n",
      "2/2 [==============================] - 3s 1s/step - loss: 3.5832 - root_mean_squared_error: 1.8929 - val_loss: 1.7748 - val_root_mean_squared_error: 1.3322\n",
      "Epoch 432/500\n"
     ]
    },
    {
     "name": "stdout",
     "output_type": "stream",
     "text": [
      "2/2 [==============================] - 3s 1s/step - loss: 3.5528 - root_mean_squared_error: 1.8849 - val_loss: 1.7708 - val_root_mean_squared_error: 1.3307\n",
      "Epoch 433/500\n",
      "2/2 [==============================] - 3s 1s/step - loss: 3.5425 - root_mean_squared_error: 1.8822 - val_loss: 1.7631 - val_root_mean_squared_error: 1.3278\n",
      "Epoch 434/500\n",
      "2/2 [==============================] - 3s 1s/step - loss: 3.5531 - root_mean_squared_error: 1.8850 - val_loss: 1.7715 - val_root_mean_squared_error: 1.3310\n",
      "Epoch 435/500\n",
      "2/2 [==============================] - 3s 1s/step - loss: 3.5370 - root_mean_squared_error: 1.8807 - val_loss: 1.7946 - val_root_mean_squared_error: 1.3396\n",
      "Epoch 436/500\n",
      "2/2 [==============================] - 3s 1s/step - loss: 3.5216 - root_mean_squared_error: 1.8766 - val_loss: 1.8158 - val_root_mean_squared_error: 1.3475\n",
      "Epoch 437/500\n",
      "2/2 [==============================] - 3s 1s/step - loss: 3.5183 - root_mean_squared_error: 1.8757 - val_loss: 1.8347 - val_root_mean_squared_error: 1.3545\n",
      "Epoch 438/500\n",
      "2/2 [==============================] - 3s 1s/step - loss: 3.5172 - root_mean_squared_error: 1.8754 - val_loss: 1.8516 - val_root_mean_squared_error: 1.3607\n",
      "Epoch 439/500\n",
      "2/2 [==============================] - 3s 1s/step - loss: 3.5016 - root_mean_squared_error: 1.8712 - val_loss: 1.8518 - val_root_mean_squared_error: 1.3608\n",
      "Epoch 440/500\n",
      "2/2 [==============================] - 3s 1s/step - loss: 3.5014 - root_mean_squared_error: 1.8712 - val_loss: 1.8464 - val_root_mean_squared_error: 1.3588\n",
      "Epoch 441/500\n",
      "2/2 [==============================] - 3s 1s/step - loss: 3.4995 - root_mean_squared_error: 1.8707 - val_loss: 1.8288 - val_root_mean_squared_error: 1.3523\n",
      "Epoch 442/500\n",
      "2/2 [==============================] - 3s 1s/step - loss: 3.4917 - root_mean_squared_error: 1.8686 - val_loss: 1.8308 - val_root_mean_squared_error: 1.3531\n",
      "Epoch 443/500\n",
      "2/2 [==============================] - 3s 1s/step - loss: 3.4884 - root_mean_squared_error: 1.8677 - val_loss: 1.8212 - val_root_mean_squared_error: 1.3495\n",
      "Epoch 444/500\n",
      "2/2 [==============================] - 3s 1s/step - loss: 3.4871 - root_mean_squared_error: 1.8674 - val_loss: 1.8102 - val_root_mean_squared_error: 1.3454\n",
      "Epoch 445/500\n",
      "2/2 [==============================] - 3s 1s/step - loss: 3.4730 - root_mean_squared_error: 1.8636 - val_loss: 1.7877 - val_root_mean_squared_error: 1.3370\n",
      "Epoch 446/500\n",
      "2/2 [==============================] - 3s 1s/step - loss: 3.4689 - root_mean_squared_error: 1.8625 - val_loss: 1.7809 - val_root_mean_squared_error: 1.3345\n",
      "Epoch 447/500\n",
      "2/2 [==============================] - 3s 1s/step - loss: 3.4788 - root_mean_squared_error: 1.8652 - val_loss: 1.7823 - val_root_mean_squared_error: 1.3350\n",
      "Epoch 448/500\n",
      "2/2 [==============================] - 3s 1s/step - loss: 3.4534 - root_mean_squared_error: 1.8583 - val_loss: 1.7897 - val_root_mean_squared_error: 1.3378\n",
      "Epoch 449/500\n",
      "2/2 [==============================] - 3s 1s/step - loss: 3.4467 - root_mean_squared_error: 1.8565 - val_loss: 1.7997 - val_root_mean_squared_error: 1.3415\n",
      "Epoch 450/500\n",
      "2/2 [==============================] - 3s 1s/step - loss: 3.4553 - root_mean_squared_error: 1.8588 - val_loss: 1.8072 - val_root_mean_squared_error: 1.3443\n",
      "Epoch 451/500\n",
      "2/2 [==============================] - 3s 1s/step - loss: 3.4450 - root_mean_squared_error: 1.8561 - val_loss: 1.8104 - val_root_mean_squared_error: 1.3455\n",
      "Epoch 452/500\n",
      "2/2 [==============================] - 3s 1s/step - loss: 3.4438 - root_mean_squared_error: 1.8557 - val_loss: 1.8125 - val_root_mean_squared_error: 1.3463\n",
      "Epoch 453/500\n",
      "2/2 [==============================] - 3s 1s/step - loss: 3.4343 - root_mean_squared_error: 1.8532 - val_loss: 1.8044 - val_root_mean_squared_error: 1.3433\n"
     ]
    },
    {
     "data": {
      "text/html": [
       "<pre style=\"white-space:pre;overflow-x:auto;line-height:normal;font-family:Menlo,'DejaVu Sans Mono',consolas,'Courier New',monospace\"><span style=\"font-weight: bold\">&lt;</span><span style=\"color: #ff00ff; text-decoration-color: #ff00ff; font-weight: bold\">IPython.core.display.Javascript</span><span style=\"color: #000000; text-decoration-color: #000000\"> object</span><span style=\"font-weight: bold\">&gt;</span>\n",
       "</pre>\n"
      ],
      "text/plain": [
       "\u001b[1m<\u001b[0m\u001b[1;95mIPython.core.display.Javascript\u001b[0m\u001b[39m object\u001b[0m\u001b[1m>\u001b[0m\n"
      ]
     },
     "metadata": {},
     "output_type": "display_data"
    },
    {
     "data": {
      "application/javascript": [
       "\n",
       "            setTimeout(function() {\n",
       "                var nbb_cell_id = 12;\n",
       "                var nbb_unformatted_code = \"fit_history = model.fit(\\n    x=train.values,\\n    y=y_train,\\n    validation_data=(cv.values, y_cv),\\n    epochs=500,\\n    callbacks=[early_stopping, model_checkpoint],\\n    batch_size=500000,\\n)\";\n",
       "                var nbb_formatted_code = \"fit_history = model.fit(\\n    x=train.values,\\n    y=y_train,\\n    validation_data=(cv.values, y_cv),\\n    epochs=500,\\n    callbacks=[early_stopping, model_checkpoint],\\n    batch_size=500000,\\n)\";\n",
       "                var nbb_cells = Jupyter.notebook.get_cells();\n",
       "                for (var i = 0; i < nbb_cells.length; ++i) {\n",
       "                    if (nbb_cells[i].input_prompt_number == nbb_cell_id) {\n",
       "                        if (nbb_cells[i].get_text() == nbb_unformatted_code) {\n",
       "                             nbb_cells[i].set_text(nbb_formatted_code);\n",
       "                        }\n",
       "                        break;\n",
       "                    }\n",
       "                }\n",
       "            }, 500);\n",
       "            "
      ]
     },
     "metadata": {},
     "output_type": "display_data"
    }
   ],
   "source": [
    "fit_history = model.fit(\n",
    "    x=train.values,\n",
    "    y=y_train,\n",
    "    validation_data=(cv.values, y_cv),\n",
    "    epochs=500,\n",
    "    callbacks=[early_stopping, model_checkpoint],\n",
    "    batch_size=500000,\n",
    ")"
   ]
  },
  {
   "cell_type": "code",
   "execution_count": 13,
   "id": "b43df43c",
   "metadata": {},
   "outputs": [
    {
     "data": {
      "text/html": [
       "<pre style=\"white-space:pre;overflow-x:auto;line-height:normal;font-family:Menlo,'DejaVu Sans Mono',consolas,'Courier New',monospace\"><span style=\"font-weight: bold\">[&lt;</span><span style=\"color: #ff00ff; text-decoration-color: #ff00ff; font-weight: bold\">matplotlib.lines.Line2D</span><span style=\"color: #000000; text-decoration-color: #000000\"> object at </span><span style=\"color: #008080; text-decoration-color: #008080; font-weight: bold\">0x8eaea47c0</span><span style=\"font-weight: bold\">&gt;]</span>\n",
       "</pre>\n"
      ],
      "text/plain": [
       "\u001b[1m[\u001b[0m\u001b[1m<\u001b[0m\u001b[1;95mmatplotlib.lines.Line2D\u001b[0m\u001b[39m object at \u001b[0m\u001b[1;36m0x8eaea47c0\u001b[0m\u001b[1m>\u001b[0m\u001b[1m]\u001b[0m\n"
      ]
     },
     "metadata": {},
     "output_type": "display_data"
    },
    {
     "data": {
      "image/png": "[encoded data removed]"
     },
     "metadata": {
      "needs_background": "light"
     },
     "output_type": "display_data"
    },
    {
     "data": {
      "text/html": [
       "<pre style=\"white-space:pre;overflow-x:auto;line-height:normal;font-family:Menlo,'DejaVu Sans Mono',consolas,'Courier New',monospace\"><span style=\"font-weight: bold\">&lt;</span><span style=\"color: #ff00ff; text-decoration-color: #ff00ff; font-weight: bold\">IPython.core.display.Javascript</span><span style=\"color: #000000; text-decoration-color: #000000\"> object</span><span style=\"font-weight: bold\">&gt;</span>\n",
       "</pre>\n"
      ],
      "text/plain": [
       "\u001b[1m<\u001b[0m\u001b[1;95mIPython.core.display.Javascript\u001b[0m\u001b[39m object\u001b[0m\u001b[1m>\u001b[0m\n"
      ]
     },
     "metadata": {},
     "output_type": "display_data"
    },
    {
     "data": {
      "application/javascript": [
       "\n",
       "            setTimeout(function() {\n",
       "                var nbb_cell_id = 13;\n",
       "                var nbb_unformatted_code = \"plt.plot(fit_history.history['loss'])\\nplt.plot(fit_history.history['val_loss'])\";\n",
       "                var nbb_formatted_code = \"plt.plot(fit_history.history[\\\"loss\\\"])\\nplt.plot(fit_history.history[\\\"val_loss\\\"])\";\n",
       "                var nbb_cells = Jupyter.notebook.get_cells();\n",
       "                for (var i = 0; i < nbb_cells.length; ++i) {\n",
       "                    if (nbb_cells[i].input_prompt_number == nbb_cell_id) {\n",
       "                        if (nbb_cells[i].get_text() == nbb_unformatted_code) {\n",
       "                             nbb_cells[i].set_text(nbb_formatted_code);\n",
       "                        }\n",
       "                        break;\n",
       "                    }\n",
       "                }\n",
       "            }, 500);\n",
       "            "
      ]
     },
     "metadata": {},
     "output_type": "display_data"
    }
   ],
   "source": [
    "plt.plot(fit_history.history['loss'])\n",
    "plt.plot(fit_history.history['val_loss'])"
   ]
  }
 ],
 "metadata": {
  "kernelspec": {
   "display_name": "Kedro (secop)",
   "language": "python",
   "name": "kedro_secop"
  },
  "language_info": {
   "codemirror_mode": {
    "name": "ipython",
    "version": 3
   },
   "file_extension": ".py",
   "mimetype": "text/x-python",
   "name": "python",
   "nbconvert_exporter": "python",
   "pygments_lexer": "ipython3",
   "version": "3.10.5"
  }
 },
 "nbformat": 4,
 "nbformat_minor": 5
}
