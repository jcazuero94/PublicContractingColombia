{
 "cells": [
  {
   "cell_type": "code",
   "execution_count": 1,
   "id": "b13c82c7",
   "metadata": {},
   "outputs": [],
   "source": [
    "import warnings\n",
    "\n",
    "warnings.filterwarnings(\"ignore\")"
   ]
  },
  {
   "cell_type": "code",
   "execution_count": 2,
   "id": "912d834e",
   "metadata": {},
   "outputs": [],
   "source": [
    "import pandas as pd\n",
    "import numpy as np\n",
    "import matplotlib.pyplot as plt\n",
    "import seaborn as sns\n",
    "import itertools\n",
    "from sklearn.ensemble import RandomForestRegressor\n",
    "import datetime\n",
    "from boruta import BorutaPy\n",
    "from sklearn.metrics import mean_squared_error\n",
    "import shap\n",
    "from tensorflow import keras\n",
    "import tensorflow as tf"
   ]
  },
  {
   "cell_type": "code",
   "execution_count": 3,
   "id": "faf99f1e",
   "metadata": {},
   "outputs": [
    {
     "data": {
      "text/html": [
       "<pre style=\"white-space:pre;overflow-x:auto;line-height:normal;font-family:Menlo,'DejaVu Sans Mono',consolas,'Courier New',monospace\"><span style=\"font-weight: bold\">&lt;</span><span style=\"color: #ff00ff; text-decoration-color: #ff00ff; font-weight: bold\">IPython.core.display.Javascript</span><span style=\"color: #000000; text-decoration-color: #000000\"> object</span><span style=\"font-weight: bold\">&gt;</span>\n",
       "</pre>\n"
      ],
      "text/plain": [
       "\u001b[1m<\u001b[0m\u001b[1;95mIPython.core.display.Javascript\u001b[0m\u001b[39m object\u001b[0m\u001b[1m>\u001b[0m\n"
      ]
     },
     "metadata": {},
     "output_type": "display_data"
    },
    {
     "data": {
      "application/javascript": [
       "\n",
       "            setTimeout(function() {\n",
       "                var nbb_cell_id = 3;\n",
       "                var nbb_unformatted_code = \"%load_ext nb_black\\n%matplotlib inline\";\n",
       "                var nbb_formatted_code = \"%load_ext nb_black\\n%matplotlib inline\";\n",
       "                var nbb_cells = Jupyter.notebook.get_cells();\n",
       "                for (var i = 0; i < nbb_cells.length; ++i) {\n",
       "                    if (nbb_cells[i].input_prompt_number == nbb_cell_id) {\n",
       "                        if (nbb_cells[i].get_text() == nbb_unformatted_code) {\n",
       "                             nbb_cells[i].set_text(nbb_formatted_code);\n",
       "                        }\n",
       "                        break;\n",
       "                    }\n",
       "                }\n",
       "            }, 500);\n",
       "            "
      ]
     },
     "metadata": {},
     "output_type": "display_data"
    }
   ],
   "source": [
    "%load_ext nb_black\n",
    "%matplotlib inline"
   ]
  },
  {
   "cell_type": "code",
   "execution_count": 4,
   "id": "38dc444a",
   "metadata": {},
   "outputs": [
    {
     "data": {
      "text/html": [
       "<pre style=\"white-space:pre;overflow-x:auto;line-height:normal;font-family:Menlo,'DejaVu Sans Mono',consolas,'Courier New',monospace\"><span style=\"color: #7fbfbf; text-decoration-color: #7fbfbf\">[08/14/22 22:05:12] </span><span style=\"color: #000080; text-decoration-color: #000080\">INFO    </span> Loading data from <span style=\"color: #008000; text-decoration-color: #008000\">'train_contract_value'</span> <span style=\"font-weight: bold\">(</span>ParquetDataSet<span style=\"font-weight: bold\">)</span><span style=\"color: #808000; text-decoration-color: #808000\">...</span>       <a href=\"file:///opt/homebrew/Caskroom/miniforge/base/envs/dm_project/lib/python3.10/site-packages/kedro/io/data_catalog.py\" target=\"_blank\"><span style=\"color: #7f7f7f; text-decoration-color: #7f7f7f\">data_catalog.py</span></a><span style=\"color: #7f7f7f; text-decoration-color: #7f7f7f\">:</span><a href=\"file:///opt/homebrew/Caskroom/miniforge/base/envs/dm_project/lib/python3.10/site-packages/kedro/io/data_catalog.py#343\" target=\"_blank\"><span style=\"color: #7f7f7f; text-decoration-color: #7f7f7f\">343</span></a>\n",
       "</pre>\n"
      ],
      "text/plain": [
       "\u001b[2;36m[08/14/22 22:05:12]\u001b[0m\u001b[2;36m \u001b[0m\u001b[34mINFO    \u001b[0m Loading data from \u001b[32m'train_contract_value'\u001b[0m \u001b[1m(\u001b[0mParquetDataSet\u001b[1m)\u001b[0m\u001b[33m...\u001b[0m       \u001b]8;id=457037;file:///opt/homebrew/Caskroom/miniforge/base/envs/dm_project/lib/python3.10/site-packages/kedro/io/data_catalog.py\u001b\\\u001b[2mdata_catalog.py\u001b[0m\u001b]8;;\u001b\\\u001b[2m:\u001b[0m\u001b]8;id=859620;file:///opt/homebrew/Caskroom/miniforge/base/envs/dm_project/lib/python3.10/site-packages/kedro/io/data_catalog.py#343\u001b\\\u001b[2m343\u001b[0m\u001b]8;;\u001b\\\n"
      ]
     },
     "metadata": {},
     "output_type": "display_data"
    },
    {
     "data": {
      "text/html": [
       "<pre style=\"white-space:pre;overflow-x:auto;line-height:normal;font-family:Menlo,'DejaVu Sans Mono',consolas,'Courier New',monospace\"><span style=\"color: #7fbfbf; text-decoration-color: #7fbfbf\">[08/14/22 22:05:17] </span><span style=\"color: #000080; text-decoration-color: #000080\">INFO    </span> Loading data from <span style=\"color: #008000; text-decoration-color: #008000\">'cv_contract_value'</span> <span style=\"font-weight: bold\">(</span>ParquetDataSet<span style=\"font-weight: bold\">)</span><span style=\"color: #808000; text-decoration-color: #808000\">...</span>          <a href=\"file:///opt/homebrew/Caskroom/miniforge/base/envs/dm_project/lib/python3.10/site-packages/kedro/io/data_catalog.py\" target=\"_blank\"><span style=\"color: #7f7f7f; text-decoration-color: #7f7f7f\">data_catalog.py</span></a><span style=\"color: #7f7f7f; text-decoration-color: #7f7f7f\">:</span><a href=\"file:///opt/homebrew/Caskroom/miniforge/base/envs/dm_project/lib/python3.10/site-packages/kedro/io/data_catalog.py#343\" target=\"_blank\"><span style=\"color: #7f7f7f; text-decoration-color: #7f7f7f\">343</span></a>\n",
       "</pre>\n"
      ],
      "text/plain": [
       "\u001b[2;36m[08/14/22 22:05:17]\u001b[0m\u001b[2;36m \u001b[0m\u001b[34mINFO    \u001b[0m Loading data from \u001b[32m'cv_contract_value'\u001b[0m \u001b[1m(\u001b[0mParquetDataSet\u001b[1m)\u001b[0m\u001b[33m...\u001b[0m          \u001b]8;id=626370;file:///opt/homebrew/Caskroom/miniforge/base/envs/dm_project/lib/python3.10/site-packages/kedro/io/data_catalog.py\u001b\\\u001b[2mdata_catalog.py\u001b[0m\u001b]8;;\u001b\\\u001b[2m:\u001b[0m\u001b]8;id=392785;file:///opt/homebrew/Caskroom/miniforge/base/envs/dm_project/lib/python3.10/site-packages/kedro/io/data_catalog.py#343\u001b\\\u001b[2m343\u001b[0m\u001b]8;;\u001b\\\n"
      ]
     },
     "metadata": {},
     "output_type": "display_data"
    },
    {
     "data": {
      "text/html": [
       "<pre style=\"white-space:pre;overflow-x:auto;line-height:normal;font-family:Menlo,'DejaVu Sans Mono',consolas,'Courier New',monospace\"><span style=\"color: #7fbfbf; text-decoration-color: #7fbfbf\">[08/14/22 22:05:18] </span><span style=\"color: #000080; text-decoration-color: #000080\">INFO    </span> Loading data from <span style=\"color: #008000; text-decoration-color: #008000\">'test_contract_value'</span> <span style=\"font-weight: bold\">(</span>ParquetDataSet<span style=\"font-weight: bold\">)</span><span style=\"color: #808000; text-decoration-color: #808000\">...</span>        <a href=\"file:///opt/homebrew/Caskroom/miniforge/base/envs/dm_project/lib/python3.10/site-packages/kedro/io/data_catalog.py\" target=\"_blank\"><span style=\"color: #7f7f7f; text-decoration-color: #7f7f7f\">data_catalog.py</span></a><span style=\"color: #7f7f7f; text-decoration-color: #7f7f7f\">:</span><a href=\"file:///opt/homebrew/Caskroom/miniforge/base/envs/dm_project/lib/python3.10/site-packages/kedro/io/data_catalog.py#343\" target=\"_blank\"><span style=\"color: #7f7f7f; text-decoration-color: #7f7f7f\">343</span></a>\n",
       "</pre>\n"
      ],
      "text/plain": [
       "\u001b[2;36m[08/14/22 22:05:18]\u001b[0m\u001b[2;36m \u001b[0m\u001b[34mINFO    \u001b[0m Loading data from \u001b[32m'test_contract_value'\u001b[0m \u001b[1m(\u001b[0mParquetDataSet\u001b[1m)\u001b[0m\u001b[33m...\u001b[0m        \u001b]8;id=496170;file:///opt/homebrew/Caskroom/miniforge/base/envs/dm_project/lib/python3.10/site-packages/kedro/io/data_catalog.py\u001b\\\u001b[2mdata_catalog.py\u001b[0m\u001b]8;;\u001b\\\u001b[2m:\u001b[0m\u001b]8;id=228393;file:///opt/homebrew/Caskroom/miniforge/base/envs/dm_project/lib/python3.10/site-packages/kedro/io/data_catalog.py#343\u001b\\\u001b[2m343\u001b[0m\u001b]8;;\u001b\\\n"
      ]
     },
     "metadata": {},
     "output_type": "display_data"
    },
    {
     "data": {
      "text/html": [
       "<pre style=\"white-space:pre;overflow-x:auto;line-height:normal;font-family:Menlo,'DejaVu Sans Mono',consolas,'Courier New',monospace\"><span style=\"font-weight: bold\">&lt;</span><span style=\"color: #ff00ff; text-decoration-color: #ff00ff; font-weight: bold\">IPython.core.display.Javascript</span><span style=\"color: #000000; text-decoration-color: #000000\"> object</span><span style=\"font-weight: bold\">&gt;</span>\n",
       "</pre>\n"
      ],
      "text/plain": [
       "\u001b[1m<\u001b[0m\u001b[1;95mIPython.core.display.Javascript\u001b[0m\u001b[39m object\u001b[0m\u001b[1m>\u001b[0m\n"
      ]
     },
     "metadata": {},
     "output_type": "display_data"
    },
    {
     "data": {
      "application/javascript": [
       "\n",
       "            setTimeout(function() {\n",
       "                var nbb_cell_id = 4;\n",
       "                var nbb_unformatted_code = \"train = catalog.load(\\\"train_contract_value\\\")\\ncv = catalog.load(\\\"cv_contract_value\\\")\\ntest = catalog.load(\\\"test_contract_value\\\")\";\n",
       "                var nbb_formatted_code = \"train = catalog.load(\\\"train_contract_value\\\")\\ncv = catalog.load(\\\"cv_contract_value\\\")\\ntest = catalog.load(\\\"test_contract_value\\\")\";\n",
       "                var nbb_cells = Jupyter.notebook.get_cells();\n",
       "                for (var i = 0; i < nbb_cells.length; ++i) {\n",
       "                    if (nbb_cells[i].input_prompt_number == nbb_cell_id) {\n",
       "                        if (nbb_cells[i].get_text() == nbb_unformatted_code) {\n",
       "                             nbb_cells[i].set_text(nbb_formatted_code);\n",
       "                        }\n",
       "                        break;\n",
       "                    }\n",
       "                }\n",
       "            }, 500);\n",
       "            "
      ]
     },
     "metadata": {},
     "output_type": "display_data"
    }
   ],
   "source": [
    "train = catalog.load(\"train_contract_value\")\n",
    "cv = catalog.load(\"cv_contract_value\")\n",
    "test = catalog.load(\"test_contract_value\")"
   ]
  },
  {
   "cell_type": "code",
   "execution_count": 5,
   "id": "7c9f9f0e",
   "metadata": {},
   "outputs": [
    {
     "data": {
      "text/html": [
       "<pre style=\"white-space:pre;overflow-x:auto;line-height:normal;font-family:Menlo,'DejaVu Sans Mono',consolas,'Courier New',monospace\"><span style=\"font-weight: bold\">&lt;</span><span style=\"color: #ff00ff; text-decoration-color: #ff00ff; font-weight: bold\">IPython.core.display.Javascript</span><span style=\"color: #000000; text-decoration-color: #000000\"> object</span><span style=\"font-weight: bold\">&gt;</span>\n",
       "</pre>\n"
      ],
      "text/plain": [
       "\u001b[1m<\u001b[0m\u001b[1;95mIPython.core.display.Javascript\u001b[0m\u001b[39m object\u001b[0m\u001b[1m>\u001b[0m\n"
      ]
     },
     "metadata": {},
     "output_type": "display_data"
    },
    {
     "data": {
      "application/javascript": [
       "\n",
       "            setTimeout(function() {\n",
       "                var nbb_cell_id = 5;\n",
       "                var nbb_unformatted_code = \"y_train = train[\\\"log_valor_del_contrato\\\"].values\\ny_cv = cv[\\\"log_valor_del_contrato\\\"].values\\ny_test = test[\\\"log_valor_del_contrato\\\"].values\";\n",
       "                var nbb_formatted_code = \"y_train = train[\\\"log_valor_del_contrato\\\"].values\\ny_cv = cv[\\\"log_valor_del_contrato\\\"].values\\ny_test = test[\\\"log_valor_del_contrato\\\"].values\";\n",
       "                var nbb_cells = Jupyter.notebook.get_cells();\n",
       "                for (var i = 0; i < nbb_cells.length; ++i) {\n",
       "                    if (nbb_cells[i].input_prompt_number == nbb_cell_id) {\n",
       "                        if (nbb_cells[i].get_text() == nbb_unformatted_code) {\n",
       "                             nbb_cells[i].set_text(nbb_formatted_code);\n",
       "                        }\n",
       "                        break;\n",
       "                    }\n",
       "                }\n",
       "            }, 500);\n",
       "            "
      ]
     },
     "metadata": {},
     "output_type": "display_data"
    }
   ],
   "source": [
    "y_train = train[\"log_valor_del_contrato\"].values\n",
    "y_cv = cv[\"log_valor_del_contrato\"].values\n",
    "y_test = test[\"log_valor_del_contrato\"].values"
   ]
  },
  {
   "cell_type": "code",
   "execution_count": 6,
   "id": "5d23db43",
   "metadata": {},
   "outputs": [
    {
     "data": {
      "text/html": [
       "<pre style=\"white-space:pre;overflow-x:auto;line-height:normal;font-family:Menlo,'DejaVu Sans Mono',consolas,'Courier New',monospace\"><span style=\"font-weight: bold\">&lt;</span><span style=\"color: #ff00ff; text-decoration-color: #ff00ff; font-weight: bold\">IPython.core.display.Javascript</span><span style=\"color: #000000; text-decoration-color: #000000\"> object</span><span style=\"font-weight: bold\">&gt;</span>\n",
       "</pre>\n"
      ],
      "text/plain": [
       "\u001b[1m<\u001b[0m\u001b[1;95mIPython.core.display.Javascript\u001b[0m\u001b[39m object\u001b[0m\u001b[1m>\u001b[0m\n"
      ]
     },
     "metadata": {},
     "output_type": "display_data"
    },
    {
     "data": {
      "application/javascript": [
       "\n",
       "            setTimeout(function() {\n",
       "                var nbb_cell_id = 6;\n",
       "                var nbb_unformatted_code = \"train.drop([\\\"log_valor_del_contrato\\\", \\\"index\\\"], axis=1, inplace=True)\\ncv.drop([\\\"log_valor_del_contrato\\\", \\\"index\\\"], axis=1, inplace=True)\\ntest.drop([\\\"log_valor_del_contrato\\\", \\\"index\\\"], axis=1, inplace=True)\";\n",
       "                var nbb_formatted_code = \"train.drop([\\\"log_valor_del_contrato\\\", \\\"index\\\"], axis=1, inplace=True)\\ncv.drop([\\\"log_valor_del_contrato\\\", \\\"index\\\"], axis=1, inplace=True)\\ntest.drop([\\\"log_valor_del_contrato\\\", \\\"index\\\"], axis=1, inplace=True)\";\n",
       "                var nbb_cells = Jupyter.notebook.get_cells();\n",
       "                for (var i = 0; i < nbb_cells.length; ++i) {\n",
       "                    if (nbb_cells[i].input_prompt_number == nbb_cell_id) {\n",
       "                        if (nbb_cells[i].get_text() == nbb_unformatted_code) {\n",
       "                             nbb_cells[i].set_text(nbb_formatted_code);\n",
       "                        }\n",
       "                        break;\n",
       "                    }\n",
       "                }\n",
       "            }, 500);\n",
       "            "
      ]
     },
     "metadata": {},
     "output_type": "display_data"
    }
   ],
   "source": [
    "train.drop([\"log_valor_del_contrato\", \"index\"], axis=1, inplace=True)\n",
    "cv.drop([\"log_valor_del_contrato\", \"index\"], axis=1, inplace=True)\n",
    "test.drop([\"log_valor_del_contrato\", \"index\"], axis=1, inplace=True)"
   ]
  },
  {
   "cell_type": "code",
   "execution_count": 7,
   "id": "99663675",
   "metadata": {},
   "outputs": [
    {
     "data": {
      "text/html": [
       "<pre style=\"white-space:pre;overflow-x:auto;line-height:normal;font-family:Menlo,'DejaVu Sans Mono',consolas,'Courier New',monospace\"><span style=\"font-weight: bold\">&lt;</span><span style=\"color: #ff00ff; text-decoration-color: #ff00ff; font-weight: bold\">IPython.core.display.Javascript</span><span style=\"color: #000000; text-decoration-color: #000000\"> object</span><span style=\"font-weight: bold\">&gt;</span>\n",
       "</pre>\n"
      ],
      "text/plain": [
       "\u001b[1m<\u001b[0m\u001b[1;95mIPython.core.display.Javascript\u001b[0m\u001b[39m object\u001b[0m\u001b[1m>\u001b[0m\n"
      ]
     },
     "metadata": {},
     "output_type": "display_data"
    },
    {
     "data": {
      "application/javascript": [
       "\n",
       "            setTimeout(function() {\n",
       "                var nbb_cell_id = 7;\n",
       "                var nbb_unformatted_code = \"def gen_rf_hyperparameters():\\n    n_estimators = max(int(10 ** (np.random.random() * 1.5 + 1)), 1)\\n    max_depth = np.random.choice([2, 5, 7, 10, 15, 20])\\n    min_samples_leaf = np.random.randint(1, 100)\\n    max_features = np.random.random()\\n    return {\\n        \\\"n_estimators\\\": n_estimators,\\n        \\\"max_depth\\\": max_depth,\\n        \\\"min_samples_leaf\\\": min_samples_leaf,\\n        \\\"max_features\\\": max_features,\\n    }\";\n",
       "                var nbb_formatted_code = \"def gen_rf_hyperparameters():\\n    n_estimators = max(int(10 ** (np.random.random() * 1.5 + 1)), 1)\\n    max_depth = np.random.choice([2, 5, 7, 10, 15, 20])\\n    min_samples_leaf = np.random.randint(1, 100)\\n    max_features = np.random.random()\\n    return {\\n        \\\"n_estimators\\\": n_estimators,\\n        \\\"max_depth\\\": max_depth,\\n        \\\"min_samples_leaf\\\": min_samples_leaf,\\n        \\\"max_features\\\": max_features,\\n    }\";\n",
       "                var nbb_cells = Jupyter.notebook.get_cells();\n",
       "                for (var i = 0; i < nbb_cells.length; ++i) {\n",
       "                    if (nbb_cells[i].input_prompt_number == nbb_cell_id) {\n",
       "                        if (nbb_cells[i].get_text() == nbb_unformatted_code) {\n",
       "                             nbb_cells[i].set_text(nbb_formatted_code);\n",
       "                        }\n",
       "                        break;\n",
       "                    }\n",
       "                }\n",
       "            }, 500);\n",
       "            "
      ]
     },
     "metadata": {},
     "output_type": "display_data"
    }
   ],
   "source": [
    "def gen_rf_hyperparameters():\n",
    "    n_estimators = max(int(10 ** (np.random.random() * 1.5 + 1)), 1)\n",
    "    max_depth = np.random.choice([2, 5, 7, 10, 15, 20])\n",
    "    min_samples_leaf = np.random.randint(1, 100)\n",
    "    max_features = np.random.random()\n",
    "    return {\n",
    "        \"n_estimators\": n_estimators,\n",
    "        \"max_depth\": max_depth,\n",
    "        \"min_samples_leaf\": min_samples_leaf,\n",
    "        \"max_features\": max_features,\n",
    "    }"
   ]
  },
  {
   "cell_type": "code",
   "execution_count": 8,
   "id": "7ccf9f69",
   "metadata": {},
   "outputs": [
    {
     "name": "stdout",
     "output_type": "stream",
     "text": [
      "Iteration 1 - 15: CV - 16:12:14\n",
      "Iteration 1 - RMSE :0.9746217383885054\n",
      "Iteration 2 - RMSE :0.9416737146608866\n",
      "Iteration 3 - 15: CV - 16:48:45\n",
      "Iteration 3 - RMSE :1.3284620083348861\n",
      "Iteration 4 - RMSE :1.1689281964437488\n",
      "Iteration 5 - 15: CV - 16:50:31\n",
      "Iteration 5 - RMSE :0.9709298880135664\n",
      "Iteration 6 - RMSE :0.943415727446579\n",
      "Iteration 7 - 15: CV - 16:55:28\n",
      "Iteration 7 - RMSE :1.276198734914523\n",
      "Iteration 8 - RMSE :1.1725846201431211\n",
      "Iteration 9 - 15: CV - 16:56:01\n",
      "Iteration 9 - RMSE :0.9478364571604433\n",
      "Iteration 10 - RMSE :0.9475336320378565\n",
      "Iteration 11 - 15: CV - 17:20:34\n",
      "Iteration 11 - RMSE :0.9665313830287949\n",
      "Iteration 12 - RMSE :1.0056847393908643\n",
      "Iteration 13 - 15: CV - 17:24:26\n",
      "Iteration 13 - RMSE :0.9833955531999348\n",
      "Iteration 14 - RMSE :0.940890443906045\n",
      "Iteration 15 - 15: CV - 18:14:48\n",
      "Iteration 15 - RMSE :0.9492668091049051\n"
     ]
    },
    {
     "data": {
      "text/html": [
       "<pre style=\"white-space:pre;overflow-x:auto;line-height:normal;font-family:Menlo,'DejaVu Sans Mono',consolas,'Courier New',monospace\"><span style=\"font-weight: bold\">&lt;</span><span style=\"color: #ff00ff; text-decoration-color: #ff00ff; font-weight: bold\">IPython.core.display.Javascript</span><span style=\"color: #000000; text-decoration-color: #000000\"> object</span><span style=\"font-weight: bold\">&gt;</span>\n",
       "</pre>\n"
      ],
      "text/plain": [
       "\u001b[1m<\u001b[0m\u001b[1;95mIPython.core.display.Javascript\u001b[0m\u001b[39m object\u001b[0m\u001b[1m>\u001b[0m\n"
      ]
     },
     "metadata": {},
     "output_type": "display_data"
    },
    {
     "data": {
      "application/javascript": [
       "\n",
       "            setTimeout(function() {\n",
       "                var nbb_cell_id = 8;\n",
       "                var nbb_unformatted_code = \"n_cv = 15\\nscore = np.inf\\nfinal_params = None\\nfor i in range(n_cv):\\n    if i % 2 == 0:\\n        print(\\n            f\\\"Iteration {i+1} - {n_cv}: CV - {datetime.datetime.today().strftime('%H:%M:%S')}\\\"\\n        )\\n    params = gen_rf_hyperparameters()\\n    model = RandomForestRegressor(**params)\\n    model.fit(train, y_train)\\n    pred = model.predict(cv)\\n    cv_score = mean_squared_error(y_cv, pred) ** 0.5\\n    if cv_score < score:\\n        score = cv_score\\n        final_params = params\\n    print(f\\\"Iteration {i+1} - RMSE :{cv_score}\\\")\";\n",
       "                var nbb_formatted_code = \"n_cv = 15\\nscore = np.inf\\nfinal_params = None\\nfor i in range(n_cv):\\n    if i % 2 == 0:\\n        print(\\n            f\\\"Iteration {i+1} - {n_cv}: CV - {datetime.datetime.today().strftime('%H:%M:%S')}\\\"\\n        )\\n    params = gen_rf_hyperparameters()\\n    model = RandomForestRegressor(**params)\\n    model.fit(train, y_train)\\n    pred = model.predict(cv)\\n    cv_score = mean_squared_error(y_cv, pred) ** 0.5\\n    if cv_score < score:\\n        score = cv_score\\n        final_params = params\\n    print(f\\\"Iteration {i+1} - RMSE :{cv_score}\\\")\";\n",
       "                var nbb_cells = Jupyter.notebook.get_cells();\n",
       "                for (var i = 0; i < nbb_cells.length; ++i) {\n",
       "                    if (nbb_cells[i].input_prompt_number == nbb_cell_id) {\n",
       "                        if (nbb_cells[i].get_text() == nbb_unformatted_code) {\n",
       "                             nbb_cells[i].set_text(nbb_formatted_code);\n",
       "                        }\n",
       "                        break;\n",
       "                    }\n",
       "                }\n",
       "            }, 500);\n",
       "            "
      ]
     },
     "metadata": {},
     "output_type": "display_data"
    }
   ],
   "source": [
    "xn_cv = 15\n",
    "score = np.inf\n",
    "final_params = None\n",
    "for i in range(n_cv):\n",
    "    if i % 2 == 0:\n",
    "        print(\n",
    "            f\"Iteration {i+1} - {n_cv}: CV - {datetime.datetime.today().strftime('%H:%M:%S')}\"\n",
    "        )\n",
    "    params = gen_rf_hyperparameters()\n",
    "    model = RandomForestRegressor(**params)\n",
    "    model.fit(train, y_train)\n",
    "    pred = model.predict(cv)\n",
    "    cv_score = mean_squared_error(y_cv, pred) ** 0.5\n",
    "    if cv_score < score:\n",
    "        score = cv_score\n",
    "        final_params = params\n",
    "    print(f\"Iteration {i+1} - RMSE :{cv_score}\")"
   ]
  },
  {
   "cell_type": "code",
   "execution_count": 12,
   "id": "1debdd48",
   "metadata": {},
   "outputs": [
    {
     "data": {
      "text/html": [
       "<pre style=\"white-space:pre;overflow-x:auto;line-height:normal;font-family:Menlo,'DejaVu Sans Mono',consolas,'Courier New',monospace\"><span style=\"font-weight: bold\">&lt;</span><span style=\"color: #ff00ff; text-decoration-color: #ff00ff; font-weight: bold\">IPython.core.display.Javascript</span><span style=\"color: #000000; text-decoration-color: #000000\"> object</span><span style=\"font-weight: bold\">&gt;</span>\n",
       "</pre>\n"
      ],
      "text/plain": [
       "\u001b[1m<\u001b[0m\u001b[1;95mIPython.core.display.Javascript\u001b[0m\u001b[39m object\u001b[0m\u001b[1m>\u001b[0m\n"
      ]
     },
     "metadata": {},
     "output_type": "display_data"
    },
    {
     "data": {
      "application/javascript": [
       "\n",
       "            setTimeout(function() {\n",
       "                var nbb_cell_id = 12;\n",
       "                var nbb_unformatted_code = \"#final_params = {\\n#    \\\"n_estimators\\\": 78,\\n#    \\\"max_depth\\\": 20,\\n#    \\\"min_samples_leaf\\\": 77,\\n#    \\\"max_features\\\": 0.8530949098629828,\\n#}\";\n",
       "                var nbb_formatted_code = \"# final_params = {\\n#    \\\"n_estimators\\\": 78,\\n#    \\\"max_depth\\\": 20,\\n#    \\\"min_samples_leaf\\\": 77,\\n#    \\\"max_features\\\": 0.8530949098629828,\\n# }\";\n",
       "                var nbb_cells = Jupyter.notebook.get_cells();\n",
       "                for (var i = 0; i < nbb_cells.length; ++i) {\n",
       "                    if (nbb_cells[i].input_prompt_number == nbb_cell_id) {\n",
       "                        if (nbb_cells[i].get_text() == nbb_unformatted_code) {\n",
       "                             nbb_cells[i].set_text(nbb_formatted_code);\n",
       "                        }\n",
       "                        break;\n",
       "                    }\n",
       "                }\n",
       "            }, 500);\n",
       "            "
      ]
     },
     "metadata": {},
     "output_type": "display_data"
    }
   ],
   "source": [
    "# final_params = {\n",
    "#    \"n_estimators\": 78,\n",
    "#    \"max_depth\": 20,\n",
    "#    \"min_samples_leaf\": 77,\n",
    "#    \"max_features\": 0.8530949098629828,\n",
    "# }"
   ]
  },
  {
   "cell_type": "code",
   "execution_count": 13,
   "id": "90ff8f2e",
   "metadata": {},
   "outputs": [
    {
     "data": {
      "text/html": [
       "<style>#sk-container-id-1 {color: black;background-color: white;}#sk-container-id-1 pre{padding: 0;}#sk-container-id-1 div.sk-toggleable {background-color: white;}#sk-container-id-1 label.sk-toggleable__label {cursor: pointer;display: block;width: 100%;margin-bottom: 0;padding: 0.3em;box-sizing: border-box;text-align: center;}#sk-container-id-1 label.sk-toggleable__label-arrow:before {content: \"▸\";float: left;margin-right: 0.25em;color: #696969;}#sk-container-id-1 label.sk-toggleable__label-arrow:hover:before {color: black;}#sk-container-id-1 div.sk-estimator:hover label.sk-toggleable__label-arrow:before {color: black;}#sk-container-id-1 div.sk-toggleable__content {max-height: 0;max-width: 0;overflow: hidden;text-align: left;background-color: #f0f8ff;}#sk-container-id-1 div.sk-toggleable__content pre {margin: 0.2em;color: black;border-radius: 0.25em;background-color: #f0f8ff;}#sk-container-id-1 input.sk-toggleable__control:checked~div.sk-toggleable__content {max-height: 200px;max-width: 100%;overflow: auto;}#sk-container-id-1 input.sk-toggleable__control:checked~label.sk-toggleable__label-arrow:before {content: \"▾\";}#sk-container-id-1 div.sk-estimator input.sk-toggleable__control:checked~label.sk-toggleable__label {background-color: #d4ebff;}#sk-container-id-1 div.sk-label input.sk-toggleable__control:checked~label.sk-toggleable__label {background-color: #d4ebff;}#sk-container-id-1 input.sk-hidden--visually {border: 0;clip: rect(1px 1px 1px 1px);clip: rect(1px, 1px, 1px, 1px);height: 1px;margin: -1px;overflow: hidden;padding: 0;position: absolute;width: 1px;}#sk-container-id-1 div.sk-estimator {font-family: monospace;background-color: #f0f8ff;border: 1px dotted black;border-radius: 0.25em;box-sizing: border-box;margin-bottom: 0.5em;}#sk-container-id-1 div.sk-estimator:hover {background-color: #d4ebff;}#sk-container-id-1 div.sk-parallel-item::after {content: \"\";width: 100%;border-bottom: 1px solid gray;flex-grow: 1;}#sk-container-id-1 div.sk-label:hover label.sk-toggleable__label {background-color: #d4ebff;}#sk-container-id-1 div.sk-serial::before {content: \"\";position: absolute;border-left: 1px solid gray;box-sizing: border-box;top: 0;bottom: 0;left: 50%;z-index: 0;}#sk-container-id-1 div.sk-serial {display: flex;flex-direction: column;align-items: center;background-color: white;padding-right: 0.2em;padding-left: 0.2em;position: relative;}#sk-container-id-1 div.sk-item {position: relative;z-index: 1;}#sk-container-id-1 div.sk-parallel {display: flex;align-items: stretch;justify-content: center;background-color: white;position: relative;}#sk-container-id-1 div.sk-item::before, #sk-container-id-1 div.sk-parallel-item::before {content: \"\";position: absolute;border-left: 1px solid gray;box-sizing: border-box;top: 0;bottom: 0;left: 50%;z-index: -1;}#sk-container-id-1 div.sk-parallel-item {display: flex;flex-direction: column;z-index: 1;position: relative;background-color: white;}#sk-container-id-1 div.sk-parallel-item:first-child::after {align-self: flex-end;width: 50%;}#sk-container-id-1 div.sk-parallel-item:last-child::after {align-self: flex-start;width: 50%;}#sk-container-id-1 div.sk-parallel-item:only-child::after {width: 0;}#sk-container-id-1 div.sk-dashed-wrapped {border: 1px dashed gray;margin: 0 0.4em 0.5em 0.4em;box-sizing: border-box;padding-bottom: 0.4em;background-color: white;}#sk-container-id-1 div.sk-label label {font-family: monospace;font-weight: bold;display: inline-block;line-height: 1.2em;}#sk-container-id-1 div.sk-label-container {text-align: center;}#sk-container-id-1 div.sk-container {/* jupyter's `normalize.less` sets `[hidden] { display: none; }` but bootstrap.min.css set `[hidden] { display: none !important; }` so we also need the `!important` here to be able to override the default hidden behavior on the sphinx rendered scikit-learn.org. See: https://github.com/scikit-learn/scikit-learn/issues/21755 */display: inline-block !important;position: relative;}#sk-container-id-1 div.sk-text-repr-fallback {display: none;}</style><div id=\"sk-container-id-1\" class=\"sk-top-container\"><div class=\"sk-text-repr-fallback\"><pre>RandomForestRegressor(max_depth=20, max_features=0.8530949098629828,\n",
       "                      min_samples_leaf=77, n_estimators=78)</pre><b>In a Jupyter environment, please rerun this cell to show the HTML representation or trust the notebook. <br />On GitHub, the HTML representation is unable to render, please try loading this page with nbviewer.org.</b></div><div class=\"sk-container\" hidden><div class=\"sk-item\"><div class=\"sk-estimator sk-toggleable\"><input class=\"sk-toggleable__control sk-hidden--visually\" id=\"sk-estimator-id-1\" type=\"checkbox\" checked><label for=\"sk-estimator-id-1\" class=\"sk-toggleable__label sk-toggleable__label-arrow\">RandomForestRegressor</label><div class=\"sk-toggleable__content\"><pre>RandomForestRegressor(max_depth=20, max_features=0.8530949098629828,\n",
       "                      min_samples_leaf=77, n_estimators=78)</pre></div></div></div></div></div>"
      ],
      "text/plain": [
       "RandomForestRegressor(max_depth=20, max_features=0.8530949098629828,\n",
       "                      min_samples_leaf=77, n_estimators=78)"
      ]
     },
     "execution_count": 13,
     "metadata": {},
     "output_type": "execute_result"
    },
    {
     "data": {
      "text/html": [
       "<pre style=\"white-space:pre;overflow-x:auto;line-height:normal;font-family:Menlo,'DejaVu Sans Mono',consolas,'Courier New',monospace\"><span style=\"font-weight: bold\">&lt;</span><span style=\"color: #ff00ff; text-decoration-color: #ff00ff; font-weight: bold\">IPython.core.display.Javascript</span><span style=\"color: #000000; text-decoration-color: #000000\"> object</span><span style=\"font-weight: bold\">&gt;</span>\n",
       "</pre>\n"
      ],
      "text/plain": [
       "\u001b[1m<\u001b[0m\u001b[1;95mIPython.core.display.Javascript\u001b[0m\u001b[39m object\u001b[0m\u001b[1m>\u001b[0m\n"
      ]
     },
     "metadata": {},
     "output_type": "display_data"
    },
    {
     "data": {
      "application/javascript": [
       "\n",
       "            setTimeout(function() {\n",
       "                var nbb_cell_id = 13;\n",
       "                var nbb_unformatted_code = \"model = RandomForestRegressor(**final_params)\\nmodel.fit(train, y_train)\";\n",
       "                var nbb_formatted_code = \"model = RandomForestRegressor(**final_params)\\nmodel.fit(train, y_train)\";\n",
       "                var nbb_cells = Jupyter.notebook.get_cells();\n",
       "                for (var i = 0; i < nbb_cells.length; ++i) {\n",
       "                    if (nbb_cells[i].input_prompt_number == nbb_cell_id) {\n",
       "                        if (nbb_cells[i].get_text() == nbb_unformatted_code) {\n",
       "                             nbb_cells[i].set_text(nbb_formatted_code);\n",
       "                        }\n",
       "                        break;\n",
       "                    }\n",
       "                }\n",
       "            }, 500);\n",
       "            "
      ]
     },
     "metadata": {},
     "output_type": "display_data"
    }
   ],
   "source": [
    "model = RandomForestRegressor(**final_params)\n",
    "model.fit(train, y_train)"
   ]
  },
  {
   "cell_type": "code",
   "execution_count": 14,
   "id": "0eddf359",
   "metadata": {},
   "outputs": [
    {
     "data": {
      "text/html": [
       "<pre style=\"white-space:pre;overflow-x:auto;line-height:normal;font-family:Menlo,'DejaVu Sans Mono',consolas,'Courier New',monospace\"><span style=\"font-weight: bold\">&lt;</span><span style=\"color: #ff00ff; text-decoration-color: #ff00ff; font-weight: bold\">IPython.core.display.Javascript</span><span style=\"color: #000000; text-decoration-color: #000000\"> object</span><span style=\"font-weight: bold\">&gt;</span>\n",
       "</pre>\n"
      ],
      "text/plain": [
       "\u001b[1m<\u001b[0m\u001b[1;95mIPython.core.display.Javascript\u001b[0m\u001b[39m object\u001b[0m\u001b[1m>\u001b[0m\n"
      ]
     },
     "metadata": {},
     "output_type": "display_data"
    },
    {
     "data": {
      "application/javascript": [
       "\n",
       "            setTimeout(function() {\n",
       "                var nbb_cell_id = 14;\n",
       "                var nbb_unformatted_code = \"pred_test = model.predict(test)\";\n",
       "                var nbb_formatted_code = \"pred_test = model.predict(test)\";\n",
       "                var nbb_cells = Jupyter.notebook.get_cells();\n",
       "                for (var i = 0; i < nbb_cells.length; ++i) {\n",
       "                    if (nbb_cells[i].input_prompt_number == nbb_cell_id) {\n",
       "                        if (nbb_cells[i].get_text() == nbb_unformatted_code) {\n",
       "                             nbb_cells[i].set_text(nbb_formatted_code);\n",
       "                        }\n",
       "                        break;\n",
       "                    }\n",
       "                }\n",
       "            }, 500);\n",
       "            "
      ]
     },
     "metadata": {},
     "output_type": "display_data"
    }
   ],
   "source": [
    "pred_test = model.predict(test)"
   ]
  },
  {
   "cell_type": "code",
   "execution_count": 34,
   "id": "19f31d74",
   "metadata": {},
   "outputs": [
    {
     "data": {
      "image/png": "[encoded data removed]"
     },
     "metadata": {
      "needs_background": "light"
     },
     "output_type": "display_data"
    },
    {
     "data": {
      "text/html": [
       "<pre style=\"white-space:pre;overflow-x:auto;line-height:normal;font-family:Menlo,'DejaVu Sans Mono',consolas,'Courier New',monospace\"><span style=\"font-weight: bold\">&lt;</span><span style=\"color: #ff00ff; text-decoration-color: #ff00ff; font-weight: bold\">IPython.core.display.Javascript</span><span style=\"color: #000000; text-decoration-color: #000000\"> object</span><span style=\"font-weight: bold\">&gt;</span>\n",
       "</pre>\n"
      ],
      "text/plain": [
       "\u001b[1m<\u001b[0m\u001b[1;95mIPython.core.display.Javascript\u001b[0m\u001b[39m object\u001b[0m\u001b[1m>\u001b[0m\n"
      ]
     },
     "metadata": {},
     "output_type": "display_data"
    },
    {
     "data": {
      "application/javascript": [
       "\n",
       "            setTimeout(function() {\n",
       "                var nbb_cell_id = 34;\n",
       "                var nbb_unformatted_code = \"fig, ax = plt.subplots()\\nax.scatter(x=pred_test, y=y_test, s=0.3)\\nax.plot([10, 25], [10, 25], c=\\\"red\\\")\\nax.set_xlim(10, 25)\\nax.set_ylim(10, 25)\\nfig.set_size_inches(5, 5)\";\n",
       "                var nbb_formatted_code = \"fig, ax = plt.subplots()\\nax.scatter(x=pred_test, y=y_test, s=0.3)\\nax.plot([10, 25], [10, 25], c=\\\"red\\\")\\nax.set_xlim(10, 25)\\nax.set_ylim(10, 25)\\nfig.set_size_inches(5, 5)\";\n",
       "                var nbb_cells = Jupyter.notebook.get_cells();\n",
       "                for (var i = 0; i < nbb_cells.length; ++i) {\n",
       "                    if (nbb_cells[i].input_prompt_number == nbb_cell_id) {\n",
       "                        if (nbb_cells[i].get_text() == nbb_unformatted_code) {\n",
       "                             nbb_cells[i].set_text(nbb_formatted_code);\n",
       "                        }\n",
       "                        break;\n",
       "                    }\n",
       "                }\n",
       "            }, 500);\n",
       "            "
      ]
     },
     "metadata": {},
     "output_type": "display_data"
    }
   ],
   "source": [
    "fig, ax = plt.subplots()\n",
    "ax.scatter(x=pred_test, y=y_test, s=0.3)\n",
    "ax.plot([10, 25], [10, 25], c=\"red\")\n",
    "ax.set_xlim(10, 25)\n",
    "ax.set_ylim(10, 25)\n",
    "fig.set_size_inches(5, 5)"
   ]
  },
  {
   "cell_type": "code",
   "execution_count": 27,
   "id": "72847e2f",
   "metadata": {},
   "outputs": [
    {
     "data": {
      "text/html": [
       "<pre style=\"white-space:pre;overflow-x:auto;line-height:normal;font-family:Menlo,'DejaVu Sans Mono',consolas,'Courier New',monospace\"><span style=\"font-weight: bold\">(</span><span style=\"color: #008080; text-decoration-color: #008080; font-weight: bold\">-10.0</span>, <span style=\"color: #008080; text-decoration-color: #008080; font-weight: bold\">10.0</span><span style=\"font-weight: bold\">)</span>\n",
       "</pre>\n"
      ],
      "text/plain": [
       "\u001b[1m(\u001b[0m\u001b[1;36m-10.0\u001b[0m, \u001b[1;36m10.0\u001b[0m\u001b[1m)\u001b[0m\n"
      ]
     },
     "metadata": {},
     "output_type": "display_data"
    },
    {
     "data": {
      "image/png": "[encoded data removed]"
     },
     "metadata": {
      "needs_background": "light"
     },
     "output_type": "display_data"
    },
    {
     "data": {
      "text/html": [
       "<pre style=\"white-space:pre;overflow-x:auto;line-height:normal;font-family:Menlo,'DejaVu Sans Mono',consolas,'Courier New',monospace\"><span style=\"font-weight: bold\">&lt;</span><span style=\"color: #ff00ff; text-decoration-color: #ff00ff; font-weight: bold\">IPython.core.display.Javascript</span><span style=\"color: #000000; text-decoration-color: #000000\"> object</span><span style=\"font-weight: bold\">&gt;</span>\n",
       "</pre>\n"
      ],
      "text/plain": [
       "\u001b[1m<\u001b[0m\u001b[1;95mIPython.core.display.Javascript\u001b[0m\u001b[39m object\u001b[0m\u001b[1m>\u001b[0m\n"
      ]
     },
     "metadata": {},
     "output_type": "display_data"
    },
    {
     "data": {
      "application/javascript": [
       "\n",
       "            setTimeout(function() {\n",
       "                var nbb_cell_id = 27;\n",
       "                var nbb_unformatted_code = \"fig, ax = plt.subplots()\\nax.hist(pred_test - y_test, bins=80)\\nax.set_xlim(-10, 10)\";\n",
       "                var nbb_formatted_code = \"fig, ax = plt.subplots()\\nax.hist(pred_test - y_test, bins=80)\\nax.set_xlim(-10, 10)\";\n",
       "                var nbb_cells = Jupyter.notebook.get_cells();\n",
       "                for (var i = 0; i < nbb_cells.length; ++i) {\n",
       "                    if (nbb_cells[i].input_prompt_number == nbb_cell_id) {\n",
       "                        if (nbb_cells[i].get_text() == nbb_unformatted_code) {\n",
       "                             nbb_cells[i].set_text(nbb_formatted_code);\n",
       "                        }\n",
       "                        break;\n",
       "                    }\n",
       "                }\n",
       "            }, 500);\n",
       "            "
      ]
     },
     "metadata": {},
     "output_type": "display_data"
    }
   ],
   "source": [
    "fig, ax = plt.subplots()\n",
    "ax.hist(pred_test - y_test, bins=80)\n",
    "ax.set_xlim(-10, 10)"
   ]
  },
  {
   "cell_type": "code",
   "execution_count": null,
   "id": "e7114163",
   "metadata": {},
   "outputs": [],
   "source": []
  },
  {
   "cell_type": "code",
   "execution_count": 38,
   "id": "1cf2af18",
   "metadata": {},
   "outputs": [
    {
     "data": {
      "text/html": [
       "<pre style=\"white-space:pre;overflow-x:auto;line-height:normal;font-family:Menlo,'DejaVu Sans Mono',consolas,'Courier New',monospace\"><span style=\"font-weight: bold\">&lt;</span><span style=\"color: #ff00ff; text-decoration-color: #ff00ff; font-weight: bold\">IPython.core.display.Javascript</span><span style=\"color: #000000; text-decoration-color: #000000\"> object</span><span style=\"font-weight: bold\">&gt;</span>\n",
       "</pre>\n"
      ],
      "text/plain": [
       "\u001b[1m<\u001b[0m\u001b[1;95mIPython.core.display.Javascript\u001b[0m\u001b[39m object\u001b[0m\u001b[1m>\u001b[0m\n"
      ]
     },
     "metadata": {},
     "output_type": "display_data"
    },
    {
     "data": {
      "application/javascript": [
       "\n",
       "            setTimeout(function() {\n",
       "                var nbb_cell_id = 38;\n",
       "                var nbb_unformatted_code = \"explainer = shap.TreeExplainer(model)\\nshap_values = explainer.shap_values(test, y_test)\";\n",
       "                var nbb_formatted_code = \"explainer = shap.TreeExplainer(model)\\nshap_values = explainer.shap_values(test, y_test)\";\n",
       "                var nbb_cells = Jupyter.notebook.get_cells();\n",
       "                for (var i = 0; i < nbb_cells.length; ++i) {\n",
       "                    if (nbb_cells[i].input_prompt_number == nbb_cell_id) {\n",
       "                        if (nbb_cells[i].get_text() == nbb_unformatted_code) {\n",
       "                             nbb_cells[i].set_text(nbb_formatted_code);\n",
       "                        }\n",
       "                        break;\n",
       "                    }\n",
       "                }\n",
       "            }, 500);\n",
       "            "
      ]
     },
     "metadata": {},
     "output_type": "display_data"
    }
   ],
   "source": [
    "explainer = shap.TreeExplainer(model)\n",
    "shap_values = explainer.shap_values(test, y_test)"
   ]
  },
  {
   "cell_type": "code",
   "execution_count": 41,
   "id": "abf6086c",
   "metadata": {},
   "outputs": [
    {
     "data": {
      "image/png": "[encoded data removed]"
     },
     "metadata": {
      "needs_background": "light"
     },
     "output_type": "display_data"
    },
    {
     "data": {
      "text/html": [
       "<pre style=\"white-space:pre;overflow-x:auto;line-height:normal;font-family:Menlo,'DejaVu Sans Mono',consolas,'Courier New',monospace\"><span style=\"font-weight: bold\">&lt;</span><span style=\"color: #ff00ff; text-decoration-color: #ff00ff; font-weight: bold\">IPython.core.display.Javascript</span><span style=\"color: #000000; text-decoration-color: #000000\"> object</span><span style=\"font-weight: bold\">&gt;</span>\n",
       "</pre>\n"
      ],
      "text/plain": [
       "\u001b[1m<\u001b[0m\u001b[1;95mIPython.core.display.Javascript\u001b[0m\u001b[39m object\u001b[0m\u001b[1m>\u001b[0m\n"
      ]
     },
     "metadata": {},
     "output_type": "display_data"
    },
    {
     "data": {
      "application/javascript": [
       "\n",
       "            setTimeout(function() {\n",
       "                var nbb_cell_id = 41;\n",
       "                var nbb_unformatted_code = \"shap.summary_plot(shap_values, test)\";\n",
       "                var nbb_formatted_code = \"shap.summary_plot(shap_values, test)\";\n",
       "                var nbb_cells = Jupyter.notebook.get_cells();\n",
       "                for (var i = 0; i < nbb_cells.length; ++i) {\n",
       "                    if (nbb_cells[i].input_prompt_number == nbb_cell_id) {\n",
       "                        if (nbb_cells[i].get_text() == nbb_unformatted_code) {\n",
       "                             nbb_cells[i].set_text(nbb_formatted_code);\n",
       "                        }\n",
       "                        break;\n",
       "                    }\n",
       "                }\n",
       "            }, 500);\n",
       "            "
      ]
     },
     "metadata": {},
     "output_type": "display_data"
    }
   ],
   "source": [
    "shap.summary_plot(shap_values, test)"
   ]
  },
  {
   "cell_type": "markdown",
   "id": "d0165cf4",
   "metadata": {},
   "source": [
    "## Deep neural network"
   ]
  },
  {
   "cell_type": "code",
   "execution_count": 23,
   "id": "51257ec3",
   "metadata": {},
   "outputs": [
    {
     "data": {
      "text/html": [
       "<pre style=\"white-space:pre;overflow-x:auto;line-height:normal;font-family:Menlo,'DejaVu Sans Mono',consolas,'Courier New',monospace\"><span style=\"font-weight: bold\">&lt;</span><span style=\"color: #ff00ff; text-decoration-color: #ff00ff; font-weight: bold\">IPython.core.display.Javascript</span><span style=\"color: #000000; text-decoration-color: #000000\"> object</span><span style=\"font-weight: bold\">&gt;</span>\n",
       "</pre>\n"
      ],
      "text/plain": [
       "\u001b[1m<\u001b[0m\u001b[1;95mIPython.core.display.Javascript\u001b[0m\u001b[39m object\u001b[0m\u001b[1m>\u001b[0m\n"
      ]
     },
     "metadata": {},
     "output_type": "display_data"
    },
    {
     "data": {
      "application/javascript": [
       "\n",
       "            setTimeout(function() {\n",
       "                var nbb_cell_id = 23;\n",
       "                var nbb_unformatted_code = \"inputs = keras.layers.Input([len(train.columns)], dtype=tf.float32)\\nx = keras.layers.Dense(300, activation=\\\"relu\\\")(inputs)\\nx = keras.layers.Dropout(0.6)(x)\\n\\nx = keras.layers.BatchNormalization()(x)\\nx = keras.layers.Dense(150, activation=\\\"relu\\\")(x)\\nx = keras.layers.Dropout(0.5)(x)\\n\\nx = keras.layers.BatchNormalization()(x)\\nx = keras.layers.Dense(70, activation=\\\"relu\\\")(x)\\nx = keras.layers.Dropout(0.5)(x)\\n\\nx = keras.layers.BatchNormalization()(x)\\nx = keras.layers.Dense(20, activation=\\\"relu\\\")(x)\\nx = keras.layers.Dropout(0.5)(x)\\n\\nx = keras.layers.BatchNormalization()(x)\\nx = keras.layers.Dense(10, activation=\\\"relu\\\")(x)\\noutputs = keras.layers.Dense(1)(x)\\nmodel = keras.Model(inputs, outputs)\";\n",
       "                var nbb_formatted_code = \"inputs = keras.layers.Input([len(train.columns)], dtype=tf.float32)\\nx = keras.layers.Dense(300, activation=\\\"relu\\\")(inputs)\\nx = keras.layers.Dropout(0.6)(x)\\n\\nx = keras.layers.BatchNormalization()(x)\\nx = keras.layers.Dense(150, activation=\\\"relu\\\")(x)\\nx = keras.layers.Dropout(0.5)(x)\\n\\nx = keras.layers.BatchNormalization()(x)\\nx = keras.layers.Dense(70, activation=\\\"relu\\\")(x)\\nx = keras.layers.Dropout(0.5)(x)\\n\\nx = keras.layers.BatchNormalization()(x)\\nx = keras.layers.Dense(20, activation=\\\"relu\\\")(x)\\nx = keras.layers.Dropout(0.5)(x)\\n\\nx = keras.layers.BatchNormalization()(x)\\nx = keras.layers.Dense(10, activation=\\\"relu\\\")(x)\\noutputs = keras.layers.Dense(1)(x)\\nmodel = keras.Model(inputs, outputs)\";\n",
       "                var nbb_cells = Jupyter.notebook.get_cells();\n",
       "                for (var i = 0; i < nbb_cells.length; ++i) {\n",
       "                    if (nbb_cells[i].input_prompt_number == nbb_cell_id) {\n",
       "                        if (nbb_cells[i].get_text() == nbb_unformatted_code) {\n",
       "                             nbb_cells[i].set_text(nbb_formatted_code);\n",
       "                        }\n",
       "                        break;\n",
       "                    }\n",
       "                }\n",
       "            }, 500);\n",
       "            "
      ]
     },
     "metadata": {},
     "output_type": "display_data"
    }
   ],
   "source": [
    "inputs = keras.layers.Input([len(train.columns)], dtype=tf.float32)\n",
    "x = keras.layers.Dense(300, activation=\"relu\")(inputs)\n",
    "x = keras.layers.Dropout(0.6)(x)\n",
    "\n",
    "x = keras.layers.BatchNormalization()(x)\n",
    "x = keras.layers.Dense(150, activation=\"relu\")(x)\n",
    "x = keras.layers.Dropout(0.5)(x)\n",
    "\n",
    "x = keras.layers.BatchNormalization()(x)\n",
    "x = keras.layers.Dense(70, activation=\"relu\")(x)\n",
    "x = keras.layers.Dropout(0.5)(x)\n",
    "\n",
    "x = keras.layers.BatchNormalization()(x)\n",
    "x = keras.layers.Dense(20, activation=\"relu\")(x)\n",
    "x = keras.layers.Dropout(0.5)(x)\n",
    "\n",
    "x = keras.layers.BatchNormalization()(x)\n",
    "x = keras.layers.Dense(10, activation=\"relu\")(x)\n",
    "outputs = keras.layers.Dense(1)(x)\n",
    "model = keras.Model(inputs, outputs)"
   ]
  },
  {
   "cell_type": "code",
   "execution_count": 24,
   "id": "2457f2a2",
   "metadata": {},
   "outputs": [
    {
     "name": "stdout",
     "output_type": "stream",
     "text": [
      "Model: \"model_3\"\n",
      "_________________________________________________________________\n",
      " Layer (type)                Output Shape              Param #   \n",
      "=================================================================\n",
      " input_4 (InputLayer)        [(None, 427)]             0         \n",
      "                                                                 \n",
      " dense_18 (Dense)            (None, 300)               128400    \n",
      "                                                                 \n",
      " dropout_12 (Dropout)        (None, 300)               0         \n",
      "                                                                 \n",
      " batch_normalization_12 (Bat  (None, 300)              1200      \n",
      " chNormalization)                                                \n",
      "                                                                 \n",
      " dense_19 (Dense)            (None, 150)               45150     \n",
      "                                                                 \n",
      " dropout_13 (Dropout)        (None, 150)               0         \n",
      "                                                                 \n",
      " batch_normalization_13 (Bat  (None, 150)              600       \n",
      " chNormalization)                                                \n",
      "                                                                 \n",
      " dense_20 (Dense)            (None, 70)                10570     \n",
      "                                                                 \n",
      " dropout_14 (Dropout)        (None, 70)                0         \n",
      "                                                                 \n",
      " batch_normalization_14 (Bat  (None, 70)               280       \n",
      " chNormalization)                                                \n",
      "                                                                 \n",
      " dense_21 (Dense)            (None, 20)                1420      \n",
      "                                                                 \n",
      " dropout_15 (Dropout)        (None, 20)                0         \n",
      "                                                                 \n",
      " batch_normalization_15 (Bat  (None, 20)               80        \n",
      " chNormalization)                                                \n",
      "                                                                 \n",
      " dense_22 (Dense)            (None, 10)                210       \n",
      "                                                                 \n",
      " dense_23 (Dense)            (None, 1)                 11        \n",
      "                                                                 \n",
      "=================================================================\n",
      "Total params: 187,921\n",
      "Trainable params: 186,841\n",
      "Non-trainable params: 1,080\n",
      "_________________________________________________________________\n"
     ]
    },
    {
     "data": {
      "text/html": [
       "<pre style=\"white-space:pre;overflow-x:auto;line-height:normal;font-family:Menlo,'DejaVu Sans Mono',consolas,'Courier New',monospace\"><span style=\"font-weight: bold\">&lt;</span><span style=\"color: #ff00ff; text-decoration-color: #ff00ff; font-weight: bold\">IPython.core.display.Javascript</span><span style=\"color: #000000; text-decoration-color: #000000\"> object</span><span style=\"font-weight: bold\">&gt;</span>\n",
       "</pre>\n"
      ],
      "text/plain": [
       "\u001b[1m<\u001b[0m\u001b[1;95mIPython.core.display.Javascript\u001b[0m\u001b[39m object\u001b[0m\u001b[1m>\u001b[0m\n"
      ]
     },
     "metadata": {},
     "output_type": "display_data"
    },
    {
     "data": {
      "application/javascript": [
       "\n",
       "            setTimeout(function() {\n",
       "                var nbb_cell_id = 24;\n",
       "                var nbb_unformatted_code = \"model.summary()\";\n",
       "                var nbb_formatted_code = \"model.summary()\";\n",
       "                var nbb_cells = Jupyter.notebook.get_cells();\n",
       "                for (var i = 0; i < nbb_cells.length; ++i) {\n",
       "                    if (nbb_cells[i].input_prompt_number == nbb_cell_id) {\n",
       "                        if (nbb_cells[i].get_text() == nbb_unformatted_code) {\n",
       "                             nbb_cells[i].set_text(nbb_formatted_code);\n",
       "                        }\n",
       "                        break;\n",
       "                    }\n",
       "                }\n",
       "            }, 500);\n",
       "            "
      ]
     },
     "metadata": {},
     "output_type": "display_data"
    }
   ],
   "source": [
    "model.summary()"
   ]
  },
  {
   "cell_type": "code",
   "execution_count": 25,
   "id": "502e3d09",
   "metadata": {},
   "outputs": [
    {
     "data": {
      "text/html": [
       "<pre style=\"white-space:pre;overflow-x:auto;line-height:normal;font-family:Menlo,'DejaVu Sans Mono',consolas,'Courier New',monospace\"><span style=\"font-weight: bold\">&lt;</span><span style=\"color: #ff00ff; text-decoration-color: #ff00ff; font-weight: bold\">IPython.core.display.Javascript</span><span style=\"color: #000000; text-decoration-color: #000000\"> object</span><span style=\"font-weight: bold\">&gt;</span>\n",
       "</pre>\n"
      ],
      "text/plain": [
       "\u001b[1m<\u001b[0m\u001b[1;95mIPython.core.display.Javascript\u001b[0m\u001b[39m object\u001b[0m\u001b[1m>\u001b[0m\n"
      ]
     },
     "metadata": {},
     "output_type": "display_data"
    },
    {
     "data": {
      "application/javascript": [
       "\n",
       "            setTimeout(function() {\n",
       "                var nbb_cell_id = 25;\n",
       "                var nbb_unformatted_code = \"model.compile(\\n    optimizer=keras.optimizers.Adam(),\\n    loss=keras.losses.MeanSquaredError(),\\n    metrics=[keras.metrics.RootMeanSquaredError()],\\n)\";\n",
       "                var nbb_formatted_code = \"model.compile(\\n    optimizer=keras.optimizers.Adam(),\\n    loss=keras.losses.MeanSquaredError(),\\n    metrics=[keras.metrics.RootMeanSquaredError()],\\n)\";\n",
       "                var nbb_cells = Jupyter.notebook.get_cells();\n",
       "                for (var i = 0; i < nbb_cells.length; ++i) {\n",
       "                    if (nbb_cells[i].input_prompt_number == nbb_cell_id) {\n",
       "                        if (nbb_cells[i].get_text() == nbb_unformatted_code) {\n",
       "                             nbb_cells[i].set_text(nbb_formatted_code);\n",
       "                        }\n",
       "                        break;\n",
       "                    }\n",
       "                }\n",
       "            }, 500);\n",
       "            "
      ]
     },
     "metadata": {},
     "output_type": "display_data"
    }
   ],
   "source": [
    "model.compile(\n",
    "    optimizer=keras.optimizers.Adam(),\n",
    "    loss=keras.losses.MeanSquaredError(),\n",
    "    metrics=[keras.metrics.RootMeanSquaredError()],\n",
    ")"
   ]
  },
  {
   "cell_type": "code",
   "execution_count": 26,
   "id": "675803f0",
   "metadata": {},
   "outputs": [
    {
     "data": {
      "text/html": [
       "<pre style=\"white-space:pre;overflow-x:auto;line-height:normal;font-family:Menlo,'DejaVu Sans Mono',consolas,'Courier New',monospace\"><span style=\"font-weight: bold\">&lt;</span><span style=\"color: #ff00ff; text-decoration-color: #ff00ff; font-weight: bold\">IPython.core.display.Javascript</span><span style=\"color: #000000; text-decoration-color: #000000\"> object</span><span style=\"font-weight: bold\">&gt;</span>\n",
       "</pre>\n"
      ],
      "text/plain": [
       "\u001b[1m<\u001b[0m\u001b[1;95mIPython.core.display.Javascript\u001b[0m\u001b[39m object\u001b[0m\u001b[1m>\u001b[0m\n"
      ]
     },
     "metadata": {},
     "output_type": "display_data"
    },
    {
     "data": {
      "application/javascript": [
       "\n",
       "            setTimeout(function() {\n",
       "                var nbb_cell_id = 26;\n",
       "                var nbb_unformatted_code = \"early_stopping = keras.callbacks.EarlyStopping(\\n    monitor=\\\"val_loss\\\", patience=50, restore_best_weights=True\\n)\\nmodel_checkpoint = keras.callbacks.ModelCheckpoint(\\n    \\\"../../data/06_models/dnn_2\\\", save_best_only=True, monitor=\\\"val_loss\\\", verbose=False\\n)\";\n",
       "                var nbb_formatted_code = \"early_stopping = keras.callbacks.EarlyStopping(\\n    monitor=\\\"val_loss\\\", patience=50, restore_best_weights=True\\n)\\nmodel_checkpoint = keras.callbacks.ModelCheckpoint(\\n    \\\"../../data/06_models/dnn_2\\\", save_best_only=True, monitor=\\\"val_loss\\\", verbose=False\\n)\";\n",
       "                var nbb_cells = Jupyter.notebook.get_cells();\n",
       "                for (var i = 0; i < nbb_cells.length; ++i) {\n",
       "                    if (nbb_cells[i].input_prompt_number == nbb_cell_id) {\n",
       "                        if (nbb_cells[i].get_text() == nbb_unformatted_code) {\n",
       "                             nbb_cells[i].set_text(nbb_formatted_code);\n",
       "                        }\n",
       "                        break;\n",
       "                    }\n",
       "                }\n",
       "            }, 500);\n",
       "            "
      ]
     },
     "metadata": {},
     "output_type": "display_data"
    }
   ],
   "source": [
    "early_stopping = keras.callbacks.EarlyStopping(\n",
    "    monitor=\"val_loss\", patience=50, restore_best_weights=True\n",
    ")\n",
    "model_checkpoint = keras.callbacks.ModelCheckpoint(\n",
    "    \"../../data/06_models/dnn_2\", save_best_only=True, monitor=\"val_loss\", verbose=False\n",
    ")"
   ]
  },
  {
   "cell_type": "code",
   "execution_count": 31,
   "id": "99afc24d",
   "metadata": {},
   "outputs": [
    {
     "name": "stdout",
     "output_type": "stream",
     "text": [
      "Epoch 1/800\n",
      "1/1 [==============================] - 7s 7s/step - loss: 16.9366 - root_mean_squared_error: 4.1154 - val_loss: 9.5897 - val_root_mean_squared_error: 3.0967\n",
      "Epoch 2/800\n",
      "1/1 [==============================] - 3s 3s/step - loss: 16.9619 - root_mean_squared_error: 4.1185 - val_loss: 9.6123 - val_root_mean_squared_error: 3.1004\n",
      "Epoch 3/800\n",
      "1/1 [==============================] - 3s 3s/step - loss: 16.8903 - root_mean_squared_error: 4.1098 - val_loss: 9.6279 - val_root_mean_squared_error: 3.1029\n",
      "Epoch 4/800\n",
      "1/1 [==============================] - 3s 3s/step - loss: 16.8244 - root_mean_squared_error: 4.1018 - val_loss: 9.6387 - val_root_mean_squared_error: 3.1046\n",
      "Epoch 5/800\n",
      "1/1 [==============================] - 3s 3s/step - loss: 16.7886 - root_mean_squared_error: 4.0974 - val_loss: 9.6489 - val_root_mean_squared_error: 3.1063\n",
      "Epoch 6/800\n",
      "1/1 [==============================] - 3s 3s/step - loss: 16.7328 - root_mean_squared_error: 4.0906 - val_loss: 9.6687 - val_root_mean_squared_error: 3.1095\n",
      "Epoch 7/800\n",
      "1/1 [==============================] - 3s 3s/step - loss: 16.6886 - root_mean_squared_error: 4.0852 - val_loss: 9.6925 - val_root_mean_squared_error: 3.1133\n",
      "Epoch 8/800\n",
      "1/1 [==============================] - 3s 3s/step - loss: 16.6553 - root_mean_squared_error: 4.0811 - val_loss: 9.7415 - val_root_mean_squared_error: 3.1211\n",
      "Epoch 9/800\n",
      "1/1 [==============================] - 3s 3s/step - loss: 16.6014 - root_mean_squared_error: 4.0745 - val_loss: 9.8045 - val_root_mean_squared_error: 3.1312\n",
      "Epoch 10/800\n",
      "1/1 [==============================] - 3s 3s/step - loss: 16.5648 - root_mean_squared_error: 4.0700 - val_loss: 9.8870 - val_root_mean_squared_error: 3.1444\n",
      "Epoch 11/800\n",
      "1/1 [==============================] - 3s 3s/step - loss: 16.4612 - root_mean_squared_error: 4.0572 - val_loss: 9.9605 - val_root_mean_squared_error: 3.1560\n",
      "Epoch 12/800\n",
      "1/1 [==============================] - 3s 3s/step - loss: 16.4355 - root_mean_squared_error: 4.0541 - val_loss: 10.0134 - val_root_mean_squared_error: 3.1644\n",
      "Epoch 13/800\n",
      "1/1 [==============================] - 3s 3s/step - loss: 16.4276 - root_mean_squared_error: 4.0531 - val_loss: 10.0374 - val_root_mean_squared_error: 3.1682\n",
      "Epoch 14/800\n",
      "1/1 [==============================] - 3s 3s/step - loss: 16.3124 - root_mean_squared_error: 4.0389 - val_loss: 10.0208 - val_root_mean_squared_error: 3.1656\n",
      "Epoch 15/800\n",
      "1/1 [==============================] - 3s 3s/step - loss: 16.2380 - root_mean_squared_error: 4.0296 - val_loss: 10.0271 - val_root_mean_squared_error: 3.1666\n",
      "Epoch 16/800\n",
      "1/1 [==============================] - 3s 3s/step - loss: 16.2294 - root_mean_squared_error: 4.0286 - val_loss: 9.9575 - val_root_mean_squared_error: 3.1555\n",
      "Epoch 17/800\n",
      "1/1 [==============================] - 3s 3s/step - loss: 16.2051 - root_mean_squared_error: 4.0256 - val_loss: 9.9615 - val_root_mean_squared_error: 3.1562\n",
      "Epoch 18/800\n",
      "1/1 [==============================] - 3s 3s/step - loss: 16.1475 - root_mean_squared_error: 4.0184 - val_loss: 10.0249 - val_root_mean_squared_error: 3.1662\n",
      "Epoch 19/800\n",
      "1/1 [==============================] - 3s 3s/step - loss: 16.0498 - root_mean_squared_error: 4.0062 - val_loss: 10.1318 - val_root_mean_squared_error: 3.1830\n",
      "Epoch 20/800\n",
      "1/1 [==============================] - 3s 3s/step - loss: 15.9690 - root_mean_squared_error: 3.9961 - val_loss: 10.1978 - val_root_mean_squared_error: 3.1934\n",
      "Epoch 21/800\n",
      "1/1 [==============================] - 3s 3s/step - loss: 16.0145 - root_mean_squared_error: 4.0018 - val_loss: 10.1305 - val_root_mean_squared_error: 3.1828\n",
      "Epoch 22/800\n",
      "1/1 [==============================] - 3s 3s/step - loss: 15.9043 - root_mean_squared_error: 3.9880 - val_loss: 9.9689 - val_root_mean_squared_error: 3.1574\n",
      "Epoch 23/800\n",
      "1/1 [==============================] - 3s 3s/step - loss: 15.8542 - root_mean_squared_error: 3.9817 - val_loss: 9.8399 - val_root_mean_squared_error: 3.1369\n",
      "Epoch 24/800\n",
      "1/1 [==============================] - 3s 3s/step - loss: 15.8612 - root_mean_squared_error: 3.9826 - val_loss: 9.7774 - val_root_mean_squared_error: 3.1269\n",
      "Epoch 25/800\n",
      "1/1 [==============================] - 3s 3s/step - loss: 15.7701 - root_mean_squared_error: 3.9712 - val_loss: 9.7608 - val_root_mean_squared_error: 3.1242\n",
      "Epoch 26/800\n",
      "1/1 [==============================] - 3s 3s/step - loss: 15.7203 - root_mean_squared_error: 3.9649 - val_loss: 9.7767 - val_root_mean_squared_error: 3.1268\n",
      "Epoch 27/800\n",
      "1/1 [==============================] - 3s 3s/step - loss: 15.6797 - root_mean_squared_error: 3.9598 - val_loss: 9.8201 - val_root_mean_squared_error: 3.1337\n",
      "Epoch 28/800\n",
      "1/1 [==============================] - 3s 3s/step - loss: 15.6152 - root_mean_squared_error: 3.9516 - val_loss: 9.8753 - val_root_mean_squared_error: 3.1425\n",
      "Epoch 29/800\n",
      "1/1 [==============================] - 3s 3s/step - loss: 15.6002 - root_mean_squared_error: 3.9497 - val_loss: 9.9126 - val_root_mean_squared_error: 3.1484\n",
      "Epoch 30/800\n",
      "1/1 [==============================] - 3s 3s/step - loss: 15.5766 - root_mean_squared_error: 3.9467 - val_loss: 9.9105 - val_root_mean_squared_error: 3.1481\n",
      "Epoch 31/800\n",
      "1/1 [==============================] - 3s 3s/step - loss: 15.4908 - root_mean_squared_error: 3.9358 - val_loss: 9.8834 - val_root_mean_squared_error: 3.1438\n",
      "Epoch 32/800\n",
      "1/1 [==============================] - 3s 3s/step - loss: 15.4233 - root_mean_squared_error: 3.9273 - val_loss: 9.8590 - val_root_mean_squared_error: 3.1399\n",
      "Epoch 33/800\n",
      "1/1 [==============================] - 3s 3s/step - loss: 15.4198 - root_mean_squared_error: 3.9268 - val_loss: 9.8618 - val_root_mean_squared_error: 3.1403\n",
      "Epoch 34/800\n",
      "1/1 [==============================] - 3s 3s/step - loss: 15.3284 - root_mean_squared_error: 3.9152 - val_loss: 9.8905 - val_root_mean_squared_error: 3.1449\n",
      "Epoch 35/800\n",
      "1/1 [==============================] - 3s 3s/step - loss: 15.2882 - root_mean_squared_error: 3.9100 - val_loss: 9.9345 - val_root_mean_squared_error: 3.1519\n",
      "Epoch 36/800\n",
      "1/1 [==============================] - 3s 3s/step - loss: 15.2210 - root_mean_squared_error: 3.9014 - val_loss: 9.9917 - val_root_mean_squared_error: 3.1610\n",
      "Epoch 37/800\n",
      "1/1 [==============================] - 3s 3s/step - loss: 15.2002 - root_mean_squared_error: 3.8987 - val_loss: 10.0519 - val_root_mean_squared_error: 3.1705\n",
      "Epoch 38/800\n",
      "1/1 [==============================] - 3s 3s/step - loss: 15.1464 - root_mean_squared_error: 3.8918 - val_loss: 10.0991 - val_root_mean_squared_error: 3.1779\n",
      "Epoch 39/800\n",
      "1/1 [==============================] - 3s 3s/step - loss: 15.1120 - root_mean_squared_error: 3.8874 - val_loss: 10.1239 - val_root_mean_squared_error: 3.1818\n",
      "Epoch 40/800\n",
      "1/1 [==============================] - 3s 3s/step - loss: 15.0601 - root_mean_squared_error: 3.8807 - val_loss: 10.1269 - val_root_mean_squared_error: 3.1823\n",
      "Epoch 41/800\n",
      "1/1 [==============================] - 3s 3s/step - loss: 15.0237 - root_mean_squared_error: 3.8760 - val_loss: 10.1309 - val_root_mean_squared_error: 3.1829\n",
      "Epoch 42/800\n",
      "1/1 [==============================] - 3s 3s/step - loss: 14.9601 - root_mean_squared_error: 3.8678 - val_loss: 10.1470 - val_root_mean_squared_error: 3.1854\n",
      "Epoch 43/800\n",
      "1/1 [==============================] - 3s 3s/step - loss: 14.9309 - root_mean_squared_error: 3.8640 - val_loss: 10.1765 - val_root_mean_squared_error: 3.1901\n",
      "Epoch 44/800\n",
      "1/1 [==============================] - 3s 3s/step - loss: 14.9179 - root_mean_squared_error: 3.8624 - val_loss: 10.2158 - val_root_mean_squared_error: 3.1962\n",
      "Epoch 45/800\n",
      "1/1 [==============================] - 3s 3s/step - loss: 14.8322 - root_mean_squared_error: 3.8513 - val_loss: 10.2647 - val_root_mean_squared_error: 3.2039\n",
      "Epoch 46/800\n",
      "1/1 [==============================] - 3s 3s/step - loss: 14.7784 - root_mean_squared_error: 3.8443 - val_loss: 10.3134 - val_root_mean_squared_error: 3.2114\n",
      "Epoch 47/800\n",
      "1/1 [==============================] - 3s 3s/step - loss: 14.7520 - root_mean_squared_error: 3.8408 - val_loss: 10.3485 - val_root_mean_squared_error: 3.2169\n",
      "Epoch 48/800\n",
      "1/1 [==============================] - 3s 3s/step - loss: 14.7034 - root_mean_squared_error: 3.8345 - val_loss: 10.3701 - val_root_mean_squared_error: 3.2203\n",
      "Epoch 49/800\n"
     ]
    },
    {
     "name": "stdout",
     "output_type": "stream",
     "text": [
      "1/1 [==============================] - 3s 3s/step - loss: 14.6828 - root_mean_squared_error: 3.8318 - val_loss: 10.3879 - val_root_mean_squared_error: 3.2230\n",
      "Epoch 50/800\n",
      "1/1 [==============================] - 3s 3s/step - loss: 14.6179 - root_mean_squared_error: 3.8233 - val_loss: 10.4125 - val_root_mean_squared_error: 3.2268\n",
      "Epoch 51/800\n",
      "1/1 [==============================] - 3s 3s/step - loss: 14.5598 - root_mean_squared_error: 3.8157 - val_loss: 10.4450 - val_root_mean_squared_error: 3.2319\n"
     ]
    },
    {
     "data": {
      "text/html": [
       "<pre style=\"white-space:pre;overflow-x:auto;line-height:normal;font-family:Menlo,'DejaVu Sans Mono',consolas,'Courier New',monospace\"><span style=\"font-weight: bold\">&lt;</span><span style=\"color: #ff00ff; text-decoration-color: #ff00ff; font-weight: bold\">IPython.core.display.Javascript</span><span style=\"color: #000000; text-decoration-color: #000000\"> object</span><span style=\"font-weight: bold\">&gt;</span>\n",
       "</pre>\n"
      ],
      "text/plain": [
       "\u001b[1m<\u001b[0m\u001b[1;95mIPython.core.display.Javascript\u001b[0m\u001b[39m object\u001b[0m\u001b[1m>\u001b[0m\n"
      ]
     },
     "metadata": {},
     "output_type": "display_data"
    },
    {
     "data": {
      "application/javascript": [
       "\n",
       "            setTimeout(function() {\n",
       "                var nbb_cell_id = 31;\n",
       "                var nbb_unformatted_code = \"fit_history_3 = model.fit(\\n    x=train.values,\\n    y=y_train,\\n    validation_data=(cv.values, y_cv),\\n    epochs=800,\\n    callbacks=[early_stopping, model_checkpoint],\\n    batch_size=1000000,\\n)\";\n",
       "                var nbb_formatted_code = \"fit_history_3 = model.fit(\\n    x=train.values,\\n    y=y_train,\\n    validation_data=(cv.values, y_cv),\\n    epochs=800,\\n    callbacks=[early_stopping, model_checkpoint],\\n    batch_size=1000000,\\n)\";\n",
       "                var nbb_cells = Jupyter.notebook.get_cells();\n",
       "                for (var i = 0; i < nbb_cells.length; ++i) {\n",
       "                    if (nbb_cells[i].input_prompt_number == nbb_cell_id) {\n",
       "                        if (nbb_cells[i].get_text() == nbb_unformatted_code) {\n",
       "                             nbb_cells[i].set_text(nbb_formatted_code);\n",
       "                        }\n",
       "                        break;\n",
       "                    }\n",
       "                }\n",
       "            }, 500);\n",
       "            "
      ]
     },
     "metadata": {},
     "output_type": "display_data"
    }
   ],
   "source": [
    "fit_history_3 = model.fit(\n",
    "    x=train.values,\n",
    "    y=y_train,\n",
    "    validation_data=(cv.values, y_cv),\n",
    "    epochs=800,\n",
    "    callbacks=[early_stopping, model_checkpoint],\n",
    "    batch_size=1000000,\n",
    ")"
   ]
  },
  {
   "cell_type": "code",
   "execution_count": null,
   "id": "0a696c97",
   "metadata": {},
   "outputs": [],
   "source": []
  },
  {
   "cell_type": "code",
   "execution_count": 32,
   "id": "b43df43c",
   "metadata": {},
   "outputs": [
    {
     "data": {
      "text/html": [
       "<pre style=\"white-space:pre;overflow-x:auto;line-height:normal;font-family:Menlo,'DejaVu Sans Mono',consolas,'Courier New',monospace\"><span style=\"font-weight: bold\">[&lt;</span><span style=\"color: #ff00ff; text-decoration-color: #ff00ff; font-weight: bold\">matplotlib.lines.Line2D</span><span style=\"color: #000000; text-decoration-color: #000000\"> object at </span><span style=\"color: #008080; text-decoration-color: #008080; font-weight: bold\">0x2db593dc0</span><span style=\"font-weight: bold\">&gt;]</span>\n",
       "</pre>\n"
      ],
      "text/plain": [
       "\u001b[1m[\u001b[0m\u001b[1m<\u001b[0m\u001b[1;95mmatplotlib.lines.Line2D\u001b[0m\u001b[39m object at \u001b[0m\u001b[1;36m0x2db593dc0\u001b[0m\u001b[1m>\u001b[0m\u001b[1m]\u001b[0m\n"
      ]
     },
     "metadata": {},
     "output_type": "display_data"
    },
    {
     "data": {
      "image/png": "[encoded data removed]"
     },
     "metadata": {
      "needs_background": "light"
     },
     "output_type": "display_data"
    },
    {
     "data": {
      "text/html": [
       "<pre style=\"white-space:pre;overflow-x:auto;line-height:normal;font-family:Menlo,'DejaVu Sans Mono',consolas,'Courier New',monospace\"><span style=\"font-weight: bold\">&lt;</span><span style=\"color: #ff00ff; text-decoration-color: #ff00ff; font-weight: bold\">IPython.core.display.Javascript</span><span style=\"color: #000000; text-decoration-color: #000000\"> object</span><span style=\"font-weight: bold\">&gt;</span>\n",
       "</pre>\n"
      ],
      "text/plain": [
       "\u001b[1m<\u001b[0m\u001b[1;95mIPython.core.display.Javascript\u001b[0m\u001b[39m object\u001b[0m\u001b[1m>\u001b[0m\n"
      ]
     },
     "metadata": {},
     "output_type": "display_data"
    },
    {
     "data": {
      "application/javascript": [
       "\n",
       "            setTimeout(function() {\n",
       "                var nbb_cell_id = 32;\n",
       "                var nbb_unformatted_code = \"plt.plot(fit_history.history[\\\"loss\\\"] + fit_history_2.history[\\\"loss\\\"]+ fit_history_3.history[\\\"loss\\\"])\\nplt.plot(fit_history.history[\\\"val_loss\\\"] + fit_history_2.history[\\\"val_loss\\\"]+ fit_history_3.history[\\\"val_loss\\\"])\";\n",
       "                var nbb_formatted_code = \"plt.plot(\\n    fit_history.history[\\\"loss\\\"]\\n    + fit_history_2.history[\\\"loss\\\"]\\n    + fit_history_3.history[\\\"loss\\\"]\\n)\\nplt.plot(\\n    fit_history.history[\\\"val_loss\\\"]\\n    + fit_history_2.history[\\\"val_loss\\\"]\\n    + fit_history_3.history[\\\"val_loss\\\"]\\n)\";\n",
       "                var nbb_cells = Jupyter.notebook.get_cells();\n",
       "                for (var i = 0; i < nbb_cells.length; ++i) {\n",
       "                    if (nbb_cells[i].input_prompt_number == nbb_cell_id) {\n",
       "                        if (nbb_cells[i].get_text() == nbb_unformatted_code) {\n",
       "                             nbb_cells[i].set_text(nbb_formatted_code);\n",
       "                        }\n",
       "                        break;\n",
       "                    }\n",
       "                }\n",
       "            }, 500);\n",
       "            "
      ]
     },
     "metadata": {},
     "output_type": "display_data"
    }
   ],
   "source": [
    "plt.plot(\n",
    "    fit_history.history[\"loss\"]\n",
    "    + fit_history_2.history[\"loss\"]\n",
    "    + fit_history_3.history[\"loss\"]\n",
    ")\n",
    "plt.plot(\n",
    "    fit_history.history[\"val_loss\"]\n",
    "    + fit_history_2.history[\"val_loss\"]\n",
    "    + fit_history_3.history[\"val_loss\"]\n",
    ")"
   ]
  },
  {
   "cell_type": "code",
   "execution_count": 13,
   "id": "5823e704",
   "metadata": {},
   "outputs": [
    {
     "data": {
      "text/html": [
       "<pre style=\"white-space:pre;overflow-x:auto;line-height:normal;font-family:Menlo,'DejaVu Sans Mono',consolas,'Courier New',monospace\"><span style=\"font-weight: bold\">[&lt;</span><span style=\"color: #ff00ff; text-decoration-color: #ff00ff; font-weight: bold\">matplotlib.lines.Line2D</span><span style=\"color: #000000; text-decoration-color: #000000\"> object at </span><span style=\"color: #008080; text-decoration-color: #008080; font-weight: bold\">0x8eaea47c0</span><span style=\"font-weight: bold\">&gt;]</span>\n",
       "</pre>\n"
      ],
      "text/plain": [
       "\u001b[1m[\u001b[0m\u001b[1m<\u001b[0m\u001b[1;95mmatplotlib.lines.Line2D\u001b[0m\u001b[39m object at \u001b[0m\u001b[1;36m0x8eaea47c0\u001b[0m\u001b[1m>\u001b[0m\u001b[1m]\u001b[0m\n"
      ]
     },
     "metadata": {},
     "output_type": "display_data"
    },
    {
     "data": {
      "image/png": "[encoded data removed]"
     },
     "metadata": {
      "needs_background": "light"
     },
     "output_type": "display_data"
    },
    {
     "data": {
      "text/html": [
       "<pre style=\"white-space:pre;overflow-x:auto;line-height:normal;font-family:Menlo,'DejaVu Sans Mono',consolas,'Courier New',monospace\"><span style=\"font-weight: bold\">&lt;</span><span style=\"color: #ff00ff; text-decoration-color: #ff00ff; font-weight: bold\">IPython.core.display.Javascript</span><span style=\"color: #000000; text-decoration-color: #000000\"> object</span><span style=\"font-weight: bold\">&gt;</span>\n",
       "</pre>\n"
      ],
      "text/plain": [
       "\u001b[1m<\u001b[0m\u001b[1;95mIPython.core.display.Javascript\u001b[0m\u001b[39m object\u001b[0m\u001b[1m>\u001b[0m\n"
      ]
     },
     "metadata": {},
     "output_type": "display_data"
    },
    {
     "data": {
      "application/javascript": [
       "\n",
       "            setTimeout(function() {\n",
       "                var nbb_cell_id = 13;\n",
       "                var nbb_unformatted_code = \"plt.plot(fit_history.history['loss'])\\nplt.plot(fit_history.history['val_loss'])\";\n",
       "                var nbb_formatted_code = \"plt.plot(fit_history.history[\\\"loss\\\"])\\nplt.plot(fit_history.history[\\\"val_loss\\\"])\";\n",
       "                var nbb_cells = Jupyter.notebook.get_cells();\n",
       "                for (var i = 0; i < nbb_cells.length; ++i) {\n",
       "                    if (nbb_cells[i].input_prompt_number == nbb_cell_id) {\n",
       "                        if (nbb_cells[i].get_text() == nbb_unformatted_code) {\n",
       "                             nbb_cells[i].set_text(nbb_formatted_code);\n",
       "                        }\n",
       "                        break;\n",
       "                    }\n",
       "                }\n",
       "            }, 500);\n",
       "            "
      ]
     },
     "metadata": {},
     "output_type": "display_data"
    }
   ],
   "source": [
    "plt.plot(fit_history.history['loss'])\n",
    "plt.plot(fit_history.history['val_loss'])"
   ]
  },
  {
   "cell_type": "code",
   "execution_count": 14,
   "id": "3df201cc",
   "metadata": {},
   "outputs": [
    {
     "data": {
      "text/html": [
       "<pre style=\"white-space:pre;overflow-x:auto;line-height:normal;font-family:Menlo,'DejaVu Sans Mono',consolas,'Courier New',monospace\"><span style=\"font-weight: bold\">(</span><span style=\"color: #008080; text-decoration-color: #008080; font-weight: bold\">0.0</span>, <span style=\"color: #008080; text-decoration-color: #008080; font-weight: bold\">20.0</span><span style=\"font-weight: bold\">)</span>\n",
       "</pre>\n"
      ],
      "text/plain": [
       "\u001b[1m(\u001b[0m\u001b[1;36m0.0\u001b[0m, \u001b[1;36m20.0\u001b[0m\u001b[1m)\u001b[0m\n"
      ]
     },
     "metadata": {},
     "output_type": "display_data"
    },
    {
     "data": {
      "image/png": "[encoded data removed]"
     },
     "metadata": {
      "needs_background": "light"
     },
     "output_type": "display_data"
    },
    {
     "data": {
      "text/html": [
       "<pre style=\"white-space:pre;overflow-x:auto;line-height:normal;font-family:Menlo,'DejaVu Sans Mono',consolas,'Courier New',monospace\"><span style=\"font-weight: bold\">&lt;</span><span style=\"color: #ff00ff; text-decoration-color: #ff00ff; font-weight: bold\">IPython.core.display.Javascript</span><span style=\"color: #000000; text-decoration-color: #000000\"> object</span><span style=\"font-weight: bold\">&gt;</span>\n",
       "</pre>\n"
      ],
      "text/plain": [
       "\u001b[1m<\u001b[0m\u001b[1;95mIPython.core.display.Javascript\u001b[0m\u001b[39m object\u001b[0m\u001b[1m>\u001b[0m\n"
      ]
     },
     "metadata": {},
     "output_type": "display_data"
    },
    {
     "data": {
      "application/javascript": [
       "\n",
       "            setTimeout(function() {\n",
       "                var nbb_cell_id = 14;\n",
       "                var nbb_unformatted_code = \"plt.plot(fit_history.history['loss'])\\nplt.plot(fit_history.history['val_loss'])\\nax = plt.gca()\\nax.set_xlim(int(len(fit_history.history['loss'])/2),len(fit_history.history['loss']))\\nax.set_ylim(0,20)\";\n",
       "                var nbb_formatted_code = \"plt.plot(fit_history.history[\\\"loss\\\"])\\nplt.plot(fit_history.history[\\\"val_loss\\\"])\\nax = plt.gca()\\nax.set_xlim(int(len(fit_history.history[\\\"loss\\\"]) / 2), len(fit_history.history[\\\"loss\\\"]))\\nax.set_ylim(0, 20)\";\n",
       "                var nbb_cells = Jupyter.notebook.get_cells();\n",
       "                for (var i = 0; i < nbb_cells.length; ++i) {\n",
       "                    if (nbb_cells[i].input_prompt_number == nbb_cell_id) {\n",
       "                        if (nbb_cells[i].get_text() == nbb_unformatted_code) {\n",
       "                             nbb_cells[i].set_text(nbb_formatted_code);\n",
       "                        }\n",
       "                        break;\n",
       "                    }\n",
       "                }\n",
       "            }, 500);\n",
       "            "
      ]
     },
     "metadata": {},
     "output_type": "display_data"
    }
   ],
   "source": [
    "plt.plot(fit_history.history['loss'])\n",
    "plt.plot(fit_history.history['val_loss'])\n",
    "ax = plt.gca()\n",
    "ax.set_xlim(int(len(fit_history.history['loss'])/2),len(fit_history.history['loss']))\n",
    "ax.set_ylim(0,20)"
   ]
  },
  {
   "cell_type": "code",
   "execution_count": 13,
   "id": "2adb3780",
   "metadata": {},
   "outputs": [
    {
     "data": {
      "text/html": [
       "<pre style=\"white-space:pre;overflow-x:auto;line-height:normal;font-family:Menlo,'DejaVu Sans Mono',consolas,'Courier New',monospace\"><span style=\"font-weight: bold\">[&lt;</span><span style=\"color: #ff00ff; text-decoration-color: #ff00ff; font-weight: bold\">matplotlib.lines.Line2D</span><span style=\"color: #000000; text-decoration-color: #000000\"> object at </span><span style=\"color: #008080; text-decoration-color: #008080; font-weight: bold\">0x8f3dec490</span><span style=\"font-weight: bold\">&gt;]</span>\n",
       "</pre>\n"
      ],
      "text/plain": [
       "\u001b[1m[\u001b[0m\u001b[1m<\u001b[0m\u001b[1;95mmatplotlib.lines.Line2D\u001b[0m\u001b[39m object at \u001b[0m\u001b[1;36m0x8f3dec490\u001b[0m\u001b[1m>\u001b[0m\u001b[1m]\u001b[0m\n"
      ]
     },
     "metadata": {},
     "output_type": "display_data"
    },
    {
     "data": {
      "image/png": "[encoded data removed]"
     },
     "metadata": {
      "needs_background": "light"
     },
     "output_type": "display_data"
    },
    {
     "data": {
      "text/html": [
       "<pre style=\"white-space:pre;overflow-x:auto;line-height:normal;font-family:Menlo,'DejaVu Sans Mono',consolas,'Courier New',monospace\"><span style=\"font-weight: bold\">&lt;</span><span style=\"color: #ff00ff; text-decoration-color: #ff00ff; font-weight: bold\">IPython.core.display.Javascript</span><span style=\"color: #000000; text-decoration-color: #000000\"> object</span><span style=\"font-weight: bold\">&gt;</span>\n",
       "</pre>\n"
      ],
      "text/plain": [
       "\u001b[1m<\u001b[0m\u001b[1;95mIPython.core.display.Javascript\u001b[0m\u001b[39m object\u001b[0m\u001b[1m>\u001b[0m\n"
      ]
     },
     "metadata": {},
     "output_type": "display_data"
    },
    {
     "data": {
      "application/javascript": [
       "\n",
       "            setTimeout(function() {\n",
       "                var nbb_cell_id = 13;\n",
       "                var nbb_unformatted_code = \"plt.plot(fit_history.history['loss'])\\nplt.plot(fit_history.history['val_loss'])\";\n",
       "                var nbb_formatted_code = \"plt.plot(fit_history.history[\\\"loss\\\"])\\nplt.plot(fit_history.history[\\\"val_loss\\\"])\";\n",
       "                var nbb_cells = Jupyter.notebook.get_cells();\n",
       "                for (var i = 0; i < nbb_cells.length; ++i) {\n",
       "                    if (nbb_cells[i].input_prompt_number == nbb_cell_id) {\n",
       "                        if (nbb_cells[i].get_text() == nbb_unformatted_code) {\n",
       "                             nbb_cells[i].set_text(nbb_formatted_code);\n",
       "                        }\n",
       "                        break;\n",
       "                    }\n",
       "                }\n",
       "            }, 500);\n",
       "            "
      ]
     },
     "metadata": {},
     "output_type": "display_data"
    }
   ],
   "source": [
    "plt.plot(fit_history.history['loss'])\n",
    "plt.plot(fit_history.history['val_loss'])"
   ]
  },
  {
   "cell_type": "code",
   "execution_count": 14,
   "id": "ed376117",
   "metadata": {},
   "outputs": [
    {
     "data": {
      "text/html": [
       "<pre style=\"white-space:pre;overflow-x:auto;line-height:normal;font-family:Menlo,'DejaVu Sans Mono',consolas,'Courier New',monospace\"><span style=\"font-weight: bold\">(</span><span style=\"color: #008080; text-decoration-color: #008080; font-weight: bold\">0.0</span>, <span style=\"color: #008080; text-decoration-color: #008080; font-weight: bold\">20.0</span><span style=\"font-weight: bold\">)</span>\n",
       "</pre>\n"
      ],
      "text/plain": [
       "\u001b[1m(\u001b[0m\u001b[1;36m0.0\u001b[0m, \u001b[1;36m20.0\u001b[0m\u001b[1m)\u001b[0m\n"
      ]
     },
     "metadata": {},
     "output_type": "display_data"
    },
    {
     "data": {
      "image/png": "[encoded data removed]"
     },
     "metadata": {
      "needs_background": "light"
     },
     "output_type": "display_data"
    },
    {
     "data": {
      "text/html": [
       "<pre style=\"white-space:pre;overflow-x:auto;line-height:normal;font-family:Menlo,'DejaVu Sans Mono',consolas,'Courier New',monospace\"><span style=\"font-weight: bold\">&lt;</span><span style=\"color: #ff00ff; text-decoration-color: #ff00ff; font-weight: bold\">IPython.core.display.Javascript</span><span style=\"color: #000000; text-decoration-color: #000000\"> object</span><span style=\"font-weight: bold\">&gt;</span>\n",
       "</pre>\n"
      ],
      "text/plain": [
       "\u001b[1m<\u001b[0m\u001b[1;95mIPython.core.display.Javascript\u001b[0m\u001b[39m object\u001b[0m\u001b[1m>\u001b[0m\n"
      ]
     },
     "metadata": {},
     "output_type": "display_data"
    },
    {
     "data": {
      "application/javascript": [
       "\n",
       "            setTimeout(function() {\n",
       "                var nbb_cell_id = 14;\n",
       "                var nbb_unformatted_code = \"plt.plot(fit_history.history['loss'])\\nplt.plot(fit_history.history['val_loss'])\\nax = plt.gca()\\nax.set_xlim(int(len(fit_history.history['loss'])/2),len(fit_history.history['loss']))\\nax.set_ylim(0,20)\";\n",
       "                var nbb_formatted_code = \"plt.plot(fit_history.history[\\\"loss\\\"])\\nplt.plot(fit_history.history[\\\"val_loss\\\"])\\nax = plt.gca()\\nax.set_xlim(int(len(fit_history.history[\\\"loss\\\"]) / 2), len(fit_history.history[\\\"loss\\\"]))\\nax.set_ylim(0, 20)\";\n",
       "                var nbb_cells = Jupyter.notebook.get_cells();\n",
       "                for (var i = 0; i < nbb_cells.length; ++i) {\n",
       "                    if (nbb_cells[i].input_prompt_number == nbb_cell_id) {\n",
       "                        if (nbb_cells[i].get_text() == nbb_unformatted_code) {\n",
       "                             nbb_cells[i].set_text(nbb_formatted_code);\n",
       "                        }\n",
       "                        break;\n",
       "                    }\n",
       "                }\n",
       "            }, 500);\n",
       "            "
      ]
     },
     "metadata": {},
     "output_type": "display_data"
    }
   ],
   "source": [
    "plt.plot(fit_history.history['loss'])\n",
    "plt.plot(fit_history.history['val_loss'])\n",
    "ax = plt.gca()\n",
    "ax.set_xlim(int(len(fit_history.history['loss'])/2),len(fit_history.history['loss']))\n",
    "ax.set_ylim(0,20)"
   ]
  },
  {
   "cell_type": "code",
   "execution_count": 13,
   "id": "b95e79dc",
   "metadata": {},
   "outputs": [
    {
     "data": {
      "text/html": [
       "<pre style=\"white-space:pre;overflow-x:auto;line-height:normal;font-family:Menlo,'DejaVu Sans Mono',consolas,'Courier New',monospace\"><span style=\"font-weight: bold\">[&lt;</span><span style=\"color: #ff00ff; text-decoration-color: #ff00ff; font-weight: bold\">matplotlib.lines.Line2D</span><span style=\"color: #000000; text-decoration-color: #000000\"> object at </span><span style=\"color: #008080; text-decoration-color: #008080; font-weight: bold\">0x8ed784b50</span><span style=\"font-weight: bold\">&gt;]</span>\n",
       "</pre>\n"
      ],
      "text/plain": [
       "\u001b[1m[\u001b[0m\u001b[1m<\u001b[0m\u001b[1;95mmatplotlib.lines.Line2D\u001b[0m\u001b[39m object at \u001b[0m\u001b[1;36m0x8ed784b50\u001b[0m\u001b[1m>\u001b[0m\u001b[1m]\u001b[0m\n"
      ]
     },
     "metadata": {},
     "output_type": "display_data"
    },
    {
     "data": {
      "image/png": "[encoded data removed]"
     },
     "metadata": {
      "needs_background": "light"
     },
     "output_type": "display_data"
    },
    {
     "data": {
      "text/html": [
       "<pre style=\"white-space:pre;overflow-x:auto;line-height:normal;font-family:Menlo,'DejaVu Sans Mono',consolas,'Courier New',monospace\"><span style=\"font-weight: bold\">&lt;</span><span style=\"color: #ff00ff; text-decoration-color: #ff00ff; font-weight: bold\">IPython.core.display.Javascript</span><span style=\"color: #000000; text-decoration-color: #000000\"> object</span><span style=\"font-weight: bold\">&gt;</span>\n",
       "</pre>\n"
      ],
      "text/plain": [
       "\u001b[1m<\u001b[0m\u001b[1;95mIPython.core.display.Javascript\u001b[0m\u001b[39m object\u001b[0m\u001b[1m>\u001b[0m\n"
      ]
     },
     "metadata": {},
     "output_type": "display_data"
    },
    {
     "data": {
      "application/javascript": [
       "\n",
       "            setTimeout(function() {\n",
       "                var nbb_cell_id = 13;\n",
       "                var nbb_unformatted_code = \"plt.plot(fit_history.history['loss'])\\nplt.plot(fit_history.history['val_loss'])\";\n",
       "                var nbb_formatted_code = \"plt.plot(fit_history.history[\\\"loss\\\"])\\nplt.plot(fit_history.history[\\\"val_loss\\\"])\";\n",
       "                var nbb_cells = Jupyter.notebook.get_cells();\n",
       "                for (var i = 0; i < nbb_cells.length; ++i) {\n",
       "                    if (nbb_cells[i].input_prompt_number == nbb_cell_id) {\n",
       "                        if (nbb_cells[i].get_text() == nbb_unformatted_code) {\n",
       "                             nbb_cells[i].set_text(nbb_formatted_code);\n",
       "                        }\n",
       "                        break;\n",
       "                    }\n",
       "                }\n",
       "            }, 500);\n",
       "            "
      ]
     },
     "metadata": {},
     "output_type": "display_data"
    }
   ],
   "source": [
    "plt.plot(fit_history.history['loss'])\n",
    "plt.plot(fit_history.history['val_loss'])"
   ]
  },
  {
   "cell_type": "code",
   "execution_count": null,
   "id": "629a7bd9",
   "metadata": {},
   "outputs": [],
   "source": []
  }
 ],
 "metadata": {
  "kernelspec": {
   "display_name": "Kedro (secop)",
   "language": "python",
   "name": "kedro_secop"
  },
  "language_info": {
   "codemirror_mode": {
    "name": "ipython",
    "version": 3
   },
   "file_extension": ".py",
   "mimetype": "text/x-python",
   "name": "python",
   "nbconvert_exporter": "python",
   "pygments_lexer": "ipython3",
   "version": "3.10.5"
  }
 },
 "nbformat": 4,
 "nbformat_minor": 5
}
